{
  "nbformat": 4,
  "nbformat_minor": 0,
  "metadata": {
    "colab": {
      "name": "OCT_data_thirdN.ipynb",
      "provenance": [],
      "mount_file_id": "18d5cNXSS4Mx9bFLxsV1G6SfJKkZwyrMg",
      "authorship_tag": "ABX9TyMxhFPEeE2ahZMMDu68pytX",
      "include_colab_link": true
    },
    "kernelspec": {
      "name": "python3",
      "display_name": "Python 3"
    },
    "language_info": {
      "name": "python"
    }
  },
  "cells": [
    {
      "cell_type": "markdown",
      "metadata": {
        "id": "view-in-github",
        "colab_type": "text"
      },
      "source": [
        "<a href=\"https://colab.research.google.com/github/BlackCurrantDS/DBSE_Project/blob/main/OCT_data_thirdN.ipynb\" target=\"_parent\"><img src=\"https://colab.research.google.com/assets/colab-badge.svg\" alt=\"Open In Colab\"/></a>"
      ]
    },
    {
      "cell_type": "code",
      "metadata": {
        "id": "uUdz76FSQe_3"
      },
      "source": [
        "import pandas as pd"
      ],
      "execution_count": 2,
      "outputs": []
    },
    {
      "cell_type": "code",
      "metadata": {
        "id": "t4bDdyFwQ19V"
      },
      "source": [
        "#saved webhook data"
      ],
      "execution_count": 3,
      "outputs": []
    },
    {
      "cell_type": "code",
      "metadata": {
        "id": "gCgGd0lZQsbO"
      },
      "source": [
        "webhook_df = pd.read_csv(\"/content/drive/My Drive/webhook_df_oct.csv\",  skiprows=range(1, 200000), nrows=100000)"
      ],
      "execution_count": 4,
      "outputs": []
    },
    {
      "cell_type": "code",
      "metadata": {
        "colab": {
          "base_uri": "https://localhost:8080/",
          "height": 195
        },
        "id": "StGRFC1zQxx1",
        "outputId": "1ab0481f-5e6e-4d2f-e294-8829db15ff77"
      },
      "source": [
        "webhook_df.head(5)"
      ],
      "execution_count": 5,
      "outputs": [
        {
          "output_type": "execute_result",
          "data": {
            "text/html": [
              "<div>\n",
              "<style scoped>\n",
              "    .dataframe tbody tr th:only-of-type {\n",
              "        vertical-align: middle;\n",
              "    }\n",
              "\n",
              "    .dataframe tbody tr th {\n",
              "        vertical-align: top;\n",
              "    }\n",
              "\n",
              "    .dataframe thead th {\n",
              "        text-align: right;\n",
              "    }\n",
              "</style>\n",
              "<table border=\"1\" class=\"dataframe\">\n",
              "  <thead>\n",
              "    <tr style=\"text-align: right;\">\n",
              "      <th></th>\n",
              "      <th>Unnamed: 0</th>\n",
              "      <th>external_id</th>\n",
              "      <th>event</th>\n",
              "      <th>data</th>\n",
              "    </tr>\n",
              "  </thead>\n",
              "  <tbody>\n",
              "    <tr>\n",
              "      <th>0</th>\n",
              "      <td>199999</td>\n",
              "      <td>4346028597600136</td>\n",
              "      <td>AUTHORISATION</td>\n",
              "      <td>{\"additionalData\":{\"fraudCheck-52-DistinctPaym...</td>\n",
              "    </tr>\n",
              "    <tr>\n",
              "      <th>1</th>\n",
              "      <td>200000</td>\n",
              "      <td>6149028597945659</td>\n",
              "      <td>AUTHORISATION</td>\n",
              "      <td>{\"additionalData\":{\"fraudCheck-52-DistinctPaym...</td>\n",
              "    </tr>\n",
              "    <tr>\n",
              "      <th>2</th>\n",
              "      <td>200001</td>\n",
              "      <td>6129028597972350</td>\n",
              "      <td>AUTHORISATION</td>\n",
              "      <td>{\"additionalData\":{\"fraudCheck-75-PaymentDetai...</td>\n",
              "    </tr>\n",
              "    <tr>\n",
              "      <th>3</th>\n",
              "      <td>200002</td>\n",
              "      <td>4836028598067340</td>\n",
              "      <td>AUTHORISATION</td>\n",
              "      <td>{\"additionalData\":{\"fraudCheck-75-PaymentDetai...</td>\n",
              "    </tr>\n",
              "    <tr>\n",
              "      <th>4</th>\n",
              "      <td>200003</td>\n",
              "      <td>1656028598146220</td>\n",
              "      <td>AUTHORISATION</td>\n",
              "      <td>{\"additionalData\":{\"fraudCheck-25-CVCAuthResul...</td>\n",
              "    </tr>\n",
              "  </tbody>\n",
              "</table>\n",
              "</div>"
            ],
            "text/plain": [
              "   Unnamed: 0  ...                                               data\n",
              "0      199999  ...  {\"additionalData\":{\"fraudCheck-52-DistinctPaym...\n",
              "1      200000  ...  {\"additionalData\":{\"fraudCheck-52-DistinctPaym...\n",
              "2      200001  ...  {\"additionalData\":{\"fraudCheck-75-PaymentDetai...\n",
              "3      200002  ...  {\"additionalData\":{\"fraudCheck-75-PaymentDetai...\n",
              "4      200003  ...  {\"additionalData\":{\"fraudCheck-25-CVCAuthResul...\n",
              "\n",
              "[5 rows x 4 columns]"
            ]
          },
          "metadata": {
            "tags": []
          },
          "execution_count": 5
        }
      ]
    },
    {
      "cell_type": "code",
      "metadata": {
        "id": "MYmv4-RGRC0s"
      },
      "source": [
        "#remove index column\n",
        "cols = [0]\n",
        "webhook_df.drop(webhook_df.columns[cols],axis=1,inplace=True)"
      ],
      "execution_count": 6,
      "outputs": []
    },
    {
      "cell_type": "code",
      "metadata": {
        "id": "mExiU2mYRtTF"
      },
      "source": [
        "#getting only authorized transactions\n",
        "webhook = webhook_df[webhook_df.event == 'AUTHORISATION']"
      ],
      "execution_count": 7,
      "outputs": []
    },
    {
      "cell_type": "code",
      "metadata": {
        "colab": {
          "base_uri": "https://localhost:8080/"
        },
        "id": "Nm-J9wOkR6CG",
        "outputId": "03edbc4e-9ba7-4fe0-ffd3-45705aac0e94"
      },
      "source": [
        "webhook.info()"
      ],
      "execution_count": 8,
      "outputs": [
        {
          "output_type": "stream",
          "text": [
            "<class 'pandas.core.frame.DataFrame'>\n",
            "Int64Index: 60244 entries, 0 to 99999\n",
            "Data columns (total 3 columns):\n",
            " #   Column       Non-Null Count  Dtype \n",
            "---  ------       --------------  ----- \n",
            " 0   external_id  60244 non-null  object\n",
            " 1   event        60244 non-null  object\n",
            " 2   data         60244 non-null  object\n",
            "dtypes: object(3)\n",
            "memory usage: 1.8+ MB\n"
          ],
          "name": "stdout"
        }
      ]
    },
    {
      "cell_type": "code",
      "metadata": {
        "id": "TARIVDmTQ4NF"
      },
      "source": [
        "#getting saved dispute data for october"
      ],
      "execution_count": 9,
      "outputs": []
    },
    {
      "cell_type": "code",
      "metadata": {
        "id": "dLar_iZFQ8_z"
      },
      "source": [
        "oct_disputes = pd.read_csv(\"/content/drive/My Drive/dispute_df_oct.csv\")"
      ],
      "execution_count": 10,
      "outputs": []
    },
    {
      "cell_type": "code",
      "metadata": {
        "colab": {
          "base_uri": "https://localhost:8080/",
          "height": 210
        },
        "id": "2Fu9LYVzRAws",
        "outputId": "e27f530e-f317-4cf9-dc1b-d910171456e8"
      },
      "source": [
        "oct_disputes.head(2)"
      ],
      "execution_count": 11,
      "outputs": [
        {
          "output_type": "execute_result",
          "data": {
            "text/html": [
              "<div>\n",
              "<style scoped>\n",
              "    .dataframe tbody tr th:only-of-type {\n",
              "        vertical-align: middle;\n",
              "    }\n",
              "\n",
              "    .dataframe tbody tr th {\n",
              "        vertical-align: top;\n",
              "    }\n",
              "\n",
              "    .dataframe thead th {\n",
              "        text-align: right;\n",
              "    }\n",
              "</style>\n",
              "<table border=\"1\" class=\"dataframe\">\n",
              "  <thead>\n",
              "    <tr style=\"text-align: right;\">\n",
              "      <th></th>\n",
              "      <th>Unnamed: 0</th>\n",
              "      <th>company_account</th>\n",
              "      <th>merchant_account</th>\n",
              "      <th>psp_reference</th>\n",
              "      <th>merchant_reference</th>\n",
              "      <th>payment_method</th>\n",
              "      <th>record_date</th>\n",
              "      <th>record_date_timezone</th>\n",
              "      <th>dispute_currency</th>\n",
              "      <th>dispute_amount</th>\n",
              "      <th>record_type</th>\n",
              "      <th>dispute_psp_reference</th>\n",
              "      <th>dispute_reason</th>\n",
              "      <th>rfi_scheme_code</th>\n",
              "      <th>rfi_reason_code</th>\n",
              "      <th>cb_scheme_code</th>\n",
              "      <th>cb_reason_code</th>\n",
              "      <th>nof_scheme_code</th>\n",
              "      <th>nof_reason_code</th>\n",
              "      <th>payment_date</th>\n",
              "      <th>payment_date_timezone</th>\n",
              "      <th>payment_currency</th>\n",
              "      <th>payment_amount</th>\n",
              "      <th>dispute_date</th>\n",
              "      <th>dispute_date_timezone</th>\n",
              "      <th>dispute_arn</th>\n",
              "      <th>user_name</th>\n",
              "      <th>risk_scoring</th>\n",
              "      <th>shopper_interaction</th>\n",
              "      <th>shopper_name</th>\n",
              "      <th>shopper_email</th>\n",
              "      <th>shopper_reference</th>\n",
              "      <th>shopper_pan</th>\n",
              "      <th>iban</th>\n",
              "      <th>bic</th>\n",
              "      <th>shopper_ip</th>\n",
              "      <th>shopper_country</th>\n",
              "      <th>issuer_country</th>\n",
              "      <th>issuer_id</th>\n",
              "      <th>three_d_directory_response</th>\n",
              "      <th>three_d_authentication_response</th>\n",
              "      <th>cvc2_response</th>\n",
              "      <th>avs_response</th>\n",
              "      <th>dispute_auto_defended</th>\n",
              "      <th>dispute_end_date</th>\n",
              "      <th>dispute_end_date_timezone</th>\n",
              "      <th>reserved4</th>\n",
              "      <th>reserved5</th>\n",
              "    </tr>\n",
              "  </thead>\n",
              "  <tbody>\n",
              "    <tr>\n",
              "      <th>0</th>\n",
              "      <td>0</td>\n",
              "      <td>RiideComp</td>\n",
              "      <td>RiideCompMP</td>\n",
              "      <td>1859020649491981</td>\n",
              "      <td>FINAL_PAYMENT_30811242</td>\n",
              "      <td>visa</td>\n",
              "      <td>2020-10-15 10:31:18+00:00</td>\n",
              "      <td>BST</td>\n",
              "      <td>EUR</td>\n",
              "      <td>9.14</td>\n",
              "      <td>NotificationOfFraud</td>\n",
              "      <td>7559026886734074</td>\n",
              "      <td>Fraudulent Use of Account Number</td>\n",
              "      <td>NaN</td>\n",
              "      <td>NaN</td>\n",
              "      <td>NaN</td>\n",
              "      <td>NaN</td>\n",
              "      <td>visa</td>\n",
              "      <td>6.0</td>\n",
              "      <td>2020-10-07 11:02:29+00:00</td>\n",
              "      <td>BST</td>\n",
              "      <td>GBP</td>\n",
              "      <td>8.4</td>\n",
              "      <td>2020-10-15 10:31:18+00:00</td>\n",
              "      <td>BST</td>\n",
              "      <td>74987500281000154677653</td>\n",
              "      <td>system</td>\n",
              "      <td>35</td>\n",
              "      <td>ContAuth</td>\n",
              "      <td>rhys thomas</td>\n",
              "      <td>kyrakelly20@outlook.com</td>\n",
              "      <td>RIIDE_USER_production_845203</td>\n",
              "      <td>100</td>\n",
              "      <td>NaN</td>\n",
              "      <td>NaN</td>\n",
              "      <td>NaN</td>\n",
              "      <td>NaN</td>\n",
              "      <td>GB</td>\n",
              "      <td>475140</td>\n",
              "      <td>NaN</td>\n",
              "      <td>NaN</td>\n",
              "      <td>0</td>\n",
              "      <td>6</td>\n",
              "      <td>NaN</td>\n",
              "      <td>2021-04-07 11:02:29+00:00</td>\n",
              "      <td>BST</td>\n",
              "      <td>NaN</td>\n",
              "      <td>NaN</td>\n",
              "    </tr>\n",
              "    <tr>\n",
              "      <th>1</th>\n",
              "      <td>1</td>\n",
              "      <td>RiideComp</td>\n",
              "      <td>RiideCompMP</td>\n",
              "      <td>1849014676254605</td>\n",
              "      <td>PREAUTH_production_1611974</td>\n",
              "      <td>visa</td>\n",
              "      <td>2020-10-15 10:29:34+00:00</td>\n",
              "      <td>BST</td>\n",
              "      <td>EUR</td>\n",
              "      <td>9.11</td>\n",
              "      <td>NotificationOfFraud</td>\n",
              "      <td>7549026885709328</td>\n",
              "      <td>Fraudulent Use of Account Number</td>\n",
              "      <td>NaN</td>\n",
              "      <td>NaN</td>\n",
              "      <td>NaN</td>\n",
              "      <td>NaN</td>\n",
              "      <td>visa</td>\n",
              "      <td>6.0</td>\n",
              "      <td>2020-09-30 13:07:05+00:00</td>\n",
              "      <td>BST</td>\n",
              "      <td>GBP</td>\n",
              "      <td>9.1</td>\n",
              "      <td>2020-10-15 10:29:34+00:00</td>\n",
              "      <td>BST</td>\n",
              "      <td>74987500274005078834941</td>\n",
              "      <td>system</td>\n",
              "      <td>-30</td>\n",
              "      <td>ContAuth</td>\n",
              "      <td>Lauren mulvihill</td>\n",
              "      <td>laurenthegreat2017@outlook.com</td>\n",
              "      <td>RIIDE_USER_production_1264991</td>\n",
              "      <td>5014</td>\n",
              "      <td>NaN</td>\n",
              "      <td>NaN</td>\n",
              "      <td>NaN</td>\n",
              "      <td>NaN</td>\n",
              "      <td>GB</td>\n",
              "      <td>465943</td>\n",
              "      <td>NaN</td>\n",
              "      <td>NaN</td>\n",
              "      <td>0</td>\n",
              "      <td>6</td>\n",
              "      <td>NaN</td>\n",
              "      <td>2021-03-30 13:07:05+00:00</td>\n",
              "      <td>BST</td>\n",
              "      <td>NaN</td>\n",
              "      <td>NaN</td>\n",
              "    </tr>\n",
              "  </tbody>\n",
              "</table>\n",
              "</div>"
            ],
            "text/plain": [
              "   Unnamed: 0 company_account  ... reserved4  reserved5\n",
              "0           0       RiideComp  ...       NaN        NaN\n",
              "1           1       RiideComp  ...       NaN        NaN\n",
              "\n",
              "[2 rows x 48 columns]"
            ]
          },
          "metadata": {
            "tags": []
          },
          "execution_count": 11
        }
      ]
    },
    {
      "cell_type": "code",
      "metadata": {
        "id": "nZdrA-QHRs3N"
      },
      "source": [
        "cols = [0]\n",
        "oct_disputes.drop(oct_disputes.columns[cols],axis=1,inplace=True)"
      ],
      "execution_count": 12,
      "outputs": []
    },
    {
      "cell_type": "code",
      "metadata": {
        "id": "49FLGcYIR4NE"
      },
      "source": [
        "#getting chargebaks\n",
        "chargebacks = oct_disputes[oct_disputes.record_type == 'Chargeback']"
      ],
      "execution_count": 13,
      "outputs": []
    },
    {
      "cell_type": "code",
      "metadata": {
        "colab": {
          "base_uri": "https://localhost:8080/"
        },
        "id": "VZBJz4iiSXgs",
        "outputId": "b0720a2e-79a2-4399-d1b1-2fd845f3f75d"
      },
      "source": [
        "webhook['external_id'] = webhook['external_id'].astype('int64')"
      ],
      "execution_count": 14,
      "outputs": [
        {
          "output_type": "stream",
          "text": [
            "/usr/local/lib/python3.7/dist-packages/ipykernel_launcher.py:1: SettingWithCopyWarning: \n",
            "A value is trying to be set on a copy of a slice from a DataFrame.\n",
            "Try using .loc[row_indexer,col_indexer] = value instead\n",
            "\n",
            "See the caveats in the documentation: https://pandas.pydata.org/pandas-docs/stable/user_guide/indexing.html#returning-a-view-versus-a-copy\n",
            "  \"\"\"Entry point for launching an IPython kernel.\n"
          ],
          "name": "stderr"
        }
      ]
    },
    {
      "cell_type": "code",
      "metadata": {
        "colab": {
          "base_uri": "https://localhost:8080/",
          "height": 902
        },
        "id": "MiuScqKHSaVc",
        "outputId": "a37d50d4-0301-4109-fd80-80c597bede8e"
      },
      "source": [
        "pd.merge(webhook, chargebacks, left_on='external_id', right_on='psp_reference') #looks like only 9 are chargebacks"
      ],
      "execution_count": 15,
      "outputs": [
        {
          "output_type": "execute_result",
          "data": {
            "text/html": [
              "<div>\n",
              "<style scoped>\n",
              "    .dataframe tbody tr th:only-of-type {\n",
              "        vertical-align: middle;\n",
              "    }\n",
              "\n",
              "    .dataframe tbody tr th {\n",
              "        vertical-align: top;\n",
              "    }\n",
              "\n",
              "    .dataframe thead th {\n",
              "        text-align: right;\n",
              "    }\n",
              "</style>\n",
              "<table border=\"1\" class=\"dataframe\">\n",
              "  <thead>\n",
              "    <tr style=\"text-align: right;\">\n",
              "      <th></th>\n",
              "      <th>external_id</th>\n",
              "      <th>event</th>\n",
              "      <th>data</th>\n",
              "      <th>company_account</th>\n",
              "      <th>merchant_account</th>\n",
              "      <th>psp_reference</th>\n",
              "      <th>merchant_reference</th>\n",
              "      <th>payment_method</th>\n",
              "      <th>record_date</th>\n",
              "      <th>record_date_timezone</th>\n",
              "      <th>dispute_currency</th>\n",
              "      <th>dispute_amount</th>\n",
              "      <th>record_type</th>\n",
              "      <th>dispute_psp_reference</th>\n",
              "      <th>dispute_reason</th>\n",
              "      <th>rfi_scheme_code</th>\n",
              "      <th>rfi_reason_code</th>\n",
              "      <th>cb_scheme_code</th>\n",
              "      <th>cb_reason_code</th>\n",
              "      <th>nof_scheme_code</th>\n",
              "      <th>nof_reason_code</th>\n",
              "      <th>payment_date</th>\n",
              "      <th>payment_date_timezone</th>\n",
              "      <th>payment_currency</th>\n",
              "      <th>payment_amount</th>\n",
              "      <th>dispute_date</th>\n",
              "      <th>dispute_date_timezone</th>\n",
              "      <th>dispute_arn</th>\n",
              "      <th>user_name</th>\n",
              "      <th>risk_scoring</th>\n",
              "      <th>shopper_interaction</th>\n",
              "      <th>shopper_name</th>\n",
              "      <th>shopper_email</th>\n",
              "      <th>shopper_reference</th>\n",
              "      <th>shopper_pan</th>\n",
              "      <th>iban</th>\n",
              "      <th>bic</th>\n",
              "      <th>shopper_ip</th>\n",
              "      <th>shopper_country</th>\n",
              "      <th>issuer_country</th>\n",
              "      <th>issuer_id</th>\n",
              "      <th>three_d_directory_response</th>\n",
              "      <th>three_d_authentication_response</th>\n",
              "      <th>cvc2_response</th>\n",
              "      <th>avs_response</th>\n",
              "      <th>dispute_auto_defended</th>\n",
              "      <th>dispute_end_date</th>\n",
              "      <th>dispute_end_date_timezone</th>\n",
              "      <th>reserved4</th>\n",
              "      <th>reserved5</th>\n",
              "    </tr>\n",
              "  </thead>\n",
              "  <tbody>\n",
              "    <tr>\n",
              "      <th>0</th>\n",
              "      <td>1339042492547347</td>\n",
              "      <td>AUTHORISATION</td>\n",
              "      <td>{\"additionalData\":{\"fraudCheck-25-CVCAuthResul...</td>\n",
              "      <td>RiideComp</td>\n",
              "      <td>RiideCompMP</td>\n",
              "      <td>1339042492547347</td>\n",
              "      <td>PT_5f9ee6a5e2e34</td>\n",
              "      <td>visa</td>\n",
              "      <td>2020-11-25 08:29:52+00:00</td>\n",
              "      <td>GMT</td>\n",
              "      <td>EUR</td>\n",
              "      <td>9.87</td>\n",
              "      <td>Chargeback</td>\n",
              "      <td>7436059751524691</td>\n",
              "      <td>Other Fraud-Card Absent Environment</td>\n",
              "      <td>NaN</td>\n",
              "      <td>NaN</td>\n",
              "      <td>visa</td>\n",
              "      <td>10.4</td>\n",
              "      <td>NaN</td>\n",
              "      <td>NaN</td>\n",
              "      <td>2020-11-01 16:47:34+00:00</td>\n",
              "      <td>GMT</td>\n",
              "      <td>GBP</td>\n",
              "      <td>8.10</td>\n",
              "      <td>2020-11-21 16:14:11+00:00</td>\n",
              "      <td>GMT</td>\n",
              "      <td>74987500306007173918738</td>\n",
              "      <td>system</td>\n",
              "      <td>0</td>\n",
              "      <td>Ecommerce</td>\n",
              "      <td>Ali a</td>\n",
              "      <td>NaN</td>\n",
              "      <td>J_1_production_1834453</td>\n",
              "      <td>2412</td>\n",
              "      <td>NaN</td>\n",
              "      <td>NaN</td>\n",
              "      <td>NaN</td>\n",
              "      <td>NaN</td>\n",
              "      <td>GB</td>\n",
              "      <td>476367</td>\n",
              "      <td>NaN</td>\n",
              "      <td>NaN</td>\n",
              "      <td>1</td>\n",
              "      <td>0</td>\n",
              "      <td>NaN</td>\n",
              "      <td>2020-12-09 16:14:11+00:00</td>\n",
              "      <td>GMT</td>\n",
              "      <td>NaN</td>\n",
              "      <td>NaN</td>\n",
              "    </tr>\n",
              "    <tr>\n",
              "      <th>1</th>\n",
              "      <td>4536022717461602</td>\n",
              "      <td>AUTHORISATION</td>\n",
              "      <td>{\"additionalData\":{\"fraudCheck-75-PaymentDetai...</td>\n",
              "      <td>RiideComp</td>\n",
              "      <td>RiideCompMP</td>\n",
              "      <td>4536022717461602</td>\n",
              "      <td>FINAL_PAYMENT_30946659</td>\n",
              "      <td>visa</td>\n",
              "      <td>2020-10-26 09:59:21+00:00</td>\n",
              "      <td>GMT</td>\n",
              "      <td>EUR</td>\n",
              "      <td>5.55</td>\n",
              "      <td>Chargeback</td>\n",
              "      <td>7436033859555998</td>\n",
              "      <td>Other Fraud-Card Absent Environment</td>\n",
              "      <td>NaN</td>\n",
              "      <td>NaN</td>\n",
              "      <td>visa</td>\n",
              "      <td>10.4</td>\n",
              "      <td>NaN</td>\n",
              "      <td>NaN</td>\n",
              "      <td>2020-10-09 20:29:06+00:00</td>\n",
              "      <td>BST</td>\n",
              "      <td>GBP</td>\n",
              "      <td>5.00</td>\n",
              "      <td>2020-10-22 21:08:13+00:00</td>\n",
              "      <td>BST</td>\n",
              "      <td>74987500283000601993834</td>\n",
              "      <td>system</td>\n",
              "      <td>35</td>\n",
              "      <td>ContAuth</td>\n",
              "      <td>Not Provided</td>\n",
              "      <td>justmina72@gmail.com</td>\n",
              "      <td>cus_Eqa3AnpxFl4Svw</td>\n",
              "      <td>8213</td>\n",
              "      <td>NaN</td>\n",
              "      <td>NaN</td>\n",
              "      <td>NaN</td>\n",
              "      <td>NaN</td>\n",
              "      <td>GB</td>\n",
              "      <td>465944</td>\n",
              "      <td>NaN</td>\n",
              "      <td>NaN</td>\n",
              "      <td>0</td>\n",
              "      <td>0</td>\n",
              "      <td>NaN</td>\n",
              "      <td>2020-11-09 21:08:13+00:00</td>\n",
              "      <td>GMT</td>\n",
              "      <td>NaN</td>\n",
              "      <td>NaN</td>\n",
              "    </tr>\n",
              "    <tr>\n",
              "      <th>2</th>\n",
              "      <td>6129037293180028</td>\n",
              "      <td>AUTHORISATION</td>\n",
              "      <td>{\"additionalData\":{\"metadata.booking_id\":\"3178...</td>\n",
              "      <td>RiideComp</td>\n",
              "      <td>RiideCompMP</td>\n",
              "      <td>6129037293180028</td>\n",
              "      <td>FINAL_PAYMENT_31782041</td>\n",
              "      <td>visa</td>\n",
              "      <td>2020-11-09 08:44:47+00:00</td>\n",
              "      <td>GMT</td>\n",
              "      <td>EUR</td>\n",
              "      <td>11.52</td>\n",
              "      <td>Chargeback</td>\n",
              "      <td>7426045930891046</td>\n",
              "      <td>Other Fraud-Card Absent Environment</td>\n",
              "      <td>NaN</td>\n",
              "      <td>NaN</td>\n",
              "      <td>visa</td>\n",
              "      <td>10.4</td>\n",
              "      <td>NaN</td>\n",
              "      <td>NaN</td>\n",
              "      <td>2020-10-26 16:21:58+00:00</td>\n",
              "      <td>GMT</td>\n",
              "      <td>GBP</td>\n",
              "      <td>10.30</td>\n",
              "      <td>2020-11-05 18:26:57+00:00</td>\n",
              "      <td>GMT</td>\n",
              "      <td>74987500300343841143524</td>\n",
              "      <td>system</td>\n",
              "      <td>35</td>\n",
              "      <td>ContAuth</td>\n",
              "      <td>jake anthony clark</td>\n",
              "      <td>bello@gmmalo.com</td>\n",
              "      <td>RIIDE_USER_production_1809104</td>\n",
              "      <td>8013</td>\n",
              "      <td>NaN</td>\n",
              "      <td>NaN</td>\n",
              "      <td>NaN</td>\n",
              "      <td>NaN</td>\n",
              "      <td>GB</td>\n",
              "      <td>465865</td>\n",
              "      <td>NaN</td>\n",
              "      <td>NaN</td>\n",
              "      <td>0</td>\n",
              "      <td>6</td>\n",
              "      <td>NaN</td>\n",
              "      <td>2020-11-23 18:26:57+00:00</td>\n",
              "      <td>GMT</td>\n",
              "      <td>NaN</td>\n",
              "      <td>NaN</td>\n",
              "    </tr>\n",
              "    <tr>\n",
              "      <th>3</th>\n",
              "      <td>1739023179975908</td>\n",
              "      <td>AUTHORISATION</td>\n",
              "      <td>{\"additionalData\":{\"metadata.booking_id\":\"3097...</td>\n",
              "      <td>RiideComp</td>\n",
              "      <td>RiideCompMP</td>\n",
              "      <td>1739023179975908</td>\n",
              "      <td>FINAL_PAYMENT_30971458</td>\n",
              "      <td>visa</td>\n",
              "      <td>2020-10-23 14:34:11+00:00</td>\n",
              "      <td>BST</td>\n",
              "      <td>EUR</td>\n",
              "      <td>6.83</td>\n",
              "      <td>Chargeback</td>\n",
              "      <td>7436032937640988</td>\n",
              "      <td>Other Fraud-Card Absent Environment</td>\n",
              "      <td>NaN</td>\n",
              "      <td>NaN</td>\n",
              "      <td>visa</td>\n",
              "      <td>10.4</td>\n",
              "      <td>NaN</td>\n",
              "      <td>NaN</td>\n",
              "      <td>2020-10-10 09:19:57+00:00</td>\n",
              "      <td>BST</td>\n",
              "      <td>GBP</td>\n",
              "      <td>6.20</td>\n",
              "      <td>2020-10-21 20:04:06+00:00</td>\n",
              "      <td>BST</td>\n",
              "      <td>74987500284000130406737</td>\n",
              "      <td>system</td>\n",
              "      <td>35</td>\n",
              "      <td>ContAuth</td>\n",
              "      <td>Mr N Onyeche</td>\n",
              "      <td>dammycobson@yahoo.co.uk</td>\n",
              "      <td>RIIDE_USER_production_716096</td>\n",
              "      <td>415</td>\n",
              "      <td>NaN</td>\n",
              "      <td>NaN</td>\n",
              "      <td>NaN</td>\n",
              "      <td>NaN</td>\n",
              "      <td>GB</td>\n",
              "      <td>475714</td>\n",
              "      <td>NaN</td>\n",
              "      <td>NaN</td>\n",
              "      <td>0</td>\n",
              "      <td>6</td>\n",
              "      <td>NaN</td>\n",
              "      <td>2020-11-08 20:04:06+00:00</td>\n",
              "      <td>GMT</td>\n",
              "      <td>NaN</td>\n",
              "      <td>NaN</td>\n",
              "    </tr>\n",
              "    <tr>\n",
              "      <th>4</th>\n",
              "      <td>1326025778684954</td>\n",
              "      <td>AUTHORISATION</td>\n",
              "      <td>{\"additionalData\":{\"metadata.booking_id\":\"3112...</td>\n",
              "      <td>RiideComp</td>\n",
              "      <td>RiideCompMP</td>\n",
              "      <td>1326025778684954</td>\n",
              "      <td>FINAL_PAYMENT_31126449</td>\n",
              "      <td>visa</td>\n",
              "      <td>2020-12-07 09:00:01+00:00</td>\n",
              "      <td>GMT</td>\n",
              "      <td>EUR</td>\n",
              "      <td>6.79</td>\n",
              "      <td>Chargeback</td>\n",
              "      <td>7426070131686441</td>\n",
              "      <td>Other Fraud-Card Absent Environment</td>\n",
              "      <td>NaN</td>\n",
              "      <td>NaN</td>\n",
              "      <td>visa</td>\n",
              "      <td>10.4</td>\n",
              "      <td>NaN</td>\n",
              "      <td>NaN</td>\n",
              "      <td>2020-10-13 09:31:08+00:00</td>\n",
              "      <td>BST</td>\n",
              "      <td>GBP</td>\n",
              "      <td>6.10</td>\n",
              "      <td>2020-12-03 18:40:47+00:00</td>\n",
              "      <td>GMT</td>\n",
              "      <td>74987500287000122563526</td>\n",
              "      <td>system</td>\n",
              "      <td>-30</td>\n",
              "      <td>ContAuth</td>\n",
              "      <td>Nellie fontanilla</td>\n",
              "      <td>nsfontanilla@hotmail.com</td>\n",
              "      <td>RIIDE_USER_production_1741472</td>\n",
              "      <td>3011</td>\n",
              "      <td>NaN</td>\n",
              "      <td>NaN</td>\n",
              "      <td>NaN</td>\n",
              "      <td>NaN</td>\n",
              "      <td>GB</td>\n",
              "      <td>465901</td>\n",
              "      <td>NaN</td>\n",
              "      <td>NaN</td>\n",
              "      <td>0</td>\n",
              "      <td>6</td>\n",
              "      <td>NaN</td>\n",
              "      <td>2020-12-21 18:40:47+00:00</td>\n",
              "      <td>GMT</td>\n",
              "      <td>NaN</td>\n",
              "      <td>NaN</td>\n",
              "    </tr>\n",
              "    <tr>\n",
              "      <th>5</th>\n",
              "      <td>1746042331399055</td>\n",
              "      <td>AUTHORISATION</td>\n",
              "      <td>{\"additionalData\":{\"fraudCheck-52-DistinctPaym...</td>\n",
              "      <td>RiideComp</td>\n",
              "      <td>RiideCompMP</td>\n",
              "      <td>1746042331399055</td>\n",
              "      <td>PREAUTH_production_1960204</td>\n",
              "      <td>visa</td>\n",
              "      <td>2020-12-09 09:00:21+00:00</td>\n",
              "      <td>GMT</td>\n",
              "      <td>EUR</td>\n",
              "      <td>10.02</td>\n",
              "      <td>Chargeback</td>\n",
              "      <td>7549073575712154</td>\n",
              "      <td>Other Fraud-Card Absent Environment</td>\n",
              "      <td>NaN</td>\n",
              "      <td>NaN</td>\n",
              "      <td>visa</td>\n",
              "      <td>10.4</td>\n",
              "      <td>NaN</td>\n",
              "      <td>NaN</td>\n",
              "      <td>2020-11-01 12:18:59+00:00</td>\n",
              "      <td>GMT</td>\n",
              "      <td>GBP</td>\n",
              "      <td>7.19</td>\n",
              "      <td>2020-12-08 02:24:13+00:00</td>\n",
              "      <td>GMT</td>\n",
              "      <td>74987500306004687684948</td>\n",
              "      <td>system</td>\n",
              "      <td>-30</td>\n",
              "      <td>ContAuth</td>\n",
              "      <td>Luca romano</td>\n",
              "      <td>miaromano09@icloud.com</td>\n",
              "      <td>RIIDE_USER_production_824988</td>\n",
              "      <td>894</td>\n",
              "      <td>NaN</td>\n",
              "      <td>NaN</td>\n",
              "      <td>NaN</td>\n",
              "      <td>NaN</td>\n",
              "      <td>GB</td>\n",
              "      <td>475130</td>\n",
              "      <td>NaN</td>\n",
              "      <td>NaN</td>\n",
              "      <td>0</td>\n",
              "      <td>6</td>\n",
              "      <td>NaN</td>\n",
              "      <td>2020-12-26 02:24:13+00:00</td>\n",
              "      <td>GMT</td>\n",
              "      <td>NaN</td>\n",
              "      <td>NaN</td>\n",
              "    </tr>\n",
              "    <tr>\n",
              "      <th>6</th>\n",
              "      <td>4656023297392765</td>\n",
              "      <td>AUTHORISATION</td>\n",
              "      <td>{\"additionalData\":{\"fraudCheck-75-PaymentDetai...</td>\n",
              "      <td>RiideComp</td>\n",
              "      <td>RiideCompMP</td>\n",
              "      <td>4656023297392765</td>\n",
              "      <td>PREAUTH_production_1721456</td>\n",
              "      <td>visa</td>\n",
              "      <td>2020-10-16 14:13:09+00:00</td>\n",
              "      <td>BST</td>\n",
              "      <td>EUR</td>\n",
              "      <td>12.81</td>\n",
              "      <td>Chargeback</td>\n",
              "      <td>7559026883268548</td>\n",
              "      <td>Merchandise/Services Not Received</td>\n",
              "      <td>NaN</td>\n",
              "      <td>NaN</td>\n",
              "      <td>visa</td>\n",
              "      <td>13.1</td>\n",
              "      <td>NaN</td>\n",
              "      <td>NaN</td>\n",
              "      <td>2020-10-10 12:35:39+00:00</td>\n",
              "      <td>BST</td>\n",
              "      <td>GBP</td>\n",
              "      <td>9.94</td>\n",
              "      <td>2020-10-14 16:13:02+00:00</td>\n",
              "      <td>BST</td>\n",
              "      <td>74987500284005020705858</td>\n",
              "      <td>system</td>\n",
              "      <td>30</td>\n",
              "      <td>ContAuth</td>\n",
              "      <td>e a mcphee</td>\n",
              "      <td>maloneysghirl1888_emma@hotmail.com</td>\n",
              "      <td>cus_Dtkv8bjF4LJSRR</td>\n",
              "      <td>7026</td>\n",
              "      <td>NaN</td>\n",
              "      <td>NaN</td>\n",
              "      <td>NaN</td>\n",
              "      <td>NaN</td>\n",
              "      <td>GB</td>\n",
              "      <td>465859</td>\n",
              "      <td>NaN</td>\n",
              "      <td>NaN</td>\n",
              "      <td>0</td>\n",
              "      <td>0</td>\n",
              "      <td>NaN</td>\n",
              "      <td>2020-11-01 16:13:02+00:00</td>\n",
              "      <td>GMT</td>\n",
              "      <td>NaN</td>\n",
              "      <td>NaN</td>\n",
              "    </tr>\n",
              "    <tr>\n",
              "      <th>7</th>\n",
              "      <td>1529029626313381</td>\n",
              "      <td>AUTHORISATION</td>\n",
              "      <td>{\"additionalData\":{\"fraudCheck-75-PaymentDetai...</td>\n",
              "      <td>RiideComp</td>\n",
              "      <td>RiideCompMP</td>\n",
              "      <td>1529029626313381</td>\n",
              "      <td>PREAUTH_production_1799173</td>\n",
              "      <td>visa</td>\n",
              "      <td>2020-12-15 13:03:48+00:00</td>\n",
              "      <td>GMT</td>\n",
              "      <td>EUR</td>\n",
              "      <td>40.14</td>\n",
              "      <td>Chargeback</td>\n",
              "      <td>7426077119965572</td>\n",
              "      <td>Other Fraud-Card Absent Environment</td>\n",
              "      <td>NaN</td>\n",
              "      <td>NaN</td>\n",
              "      <td>visa</td>\n",
              "      <td>10.4</td>\n",
              "      <td>NaN</td>\n",
              "      <td>NaN</td>\n",
              "      <td>2020-10-17 20:23:51+00:00</td>\n",
              "      <td>BST</td>\n",
              "      <td>GBP</td>\n",
              "      <td>36.90</td>\n",
              "      <td>2020-12-12 04:51:03+00:00</td>\n",
              "      <td>GMT</td>\n",
              "      <td>74987500292002382788721</td>\n",
              "      <td>system</td>\n",
              "      <td>25</td>\n",
              "      <td>ContAuth</td>\n",
              "      <td>Ana Farinha</td>\n",
              "      <td>andrefarinha6@gmail.com</td>\n",
              "      <td>cus_GdIExoBSQObCtD</td>\n",
              "      <td>2267</td>\n",
              "      <td>NaN</td>\n",
              "      <td>NaN</td>\n",
              "      <td>NaN</td>\n",
              "      <td>NaN</td>\n",
              "      <td>PT</td>\n",
              "      <td>422865</td>\n",
              "      <td>NaN</td>\n",
              "      <td>NaN</td>\n",
              "      <td>0</td>\n",
              "      <td>0</td>\n",
              "      <td>NaN</td>\n",
              "      <td>2020-12-30 04:51:03+00:00</td>\n",
              "      <td>GMT</td>\n",
              "      <td>NaN</td>\n",
              "      <td>NaN</td>\n",
              "    </tr>\n",
              "    <tr>\n",
              "      <th>8</th>\n",
              "      <td>1749016405323511</td>\n",
              "      <td>AUTHORISATION</td>\n",
              "      <td>{\"additionalData\":{\"fraudCheck-75-PaymentDetai...</td>\n",
              "      <td>RiideComp</td>\n",
              "      <td>RiideCompMP</td>\n",
              "      <td>1749016405323511</td>\n",
              "      <td>FINAL_PAYMENT_30534608</td>\n",
              "      <td>visa</td>\n",
              "      <td>2020-10-26 09:59:20+00:00</td>\n",
              "      <td>GMT</td>\n",
              "      <td>EUR</td>\n",
              "      <td>5.55</td>\n",
              "      <td>Chargeback</td>\n",
              "      <td>7549033857310036</td>\n",
              "      <td>Other Fraud-Card Absent Environment</td>\n",
              "      <td>NaN</td>\n",
              "      <td>NaN</td>\n",
              "      <td>visa</td>\n",
              "      <td>10.4</td>\n",
              "      <td>NaN</td>\n",
              "      <td>NaN</td>\n",
              "      <td>2020-10-02 13:08:52+00:00</td>\n",
              "      <td>BST</td>\n",
              "      <td>GBP</td>\n",
              "      <td>5.00</td>\n",
              "      <td>2020-10-22 17:56:10+00:00</td>\n",
              "      <td>BST</td>\n",
              "      <td>74987500276000286457740</td>\n",
              "      <td>system</td>\n",
              "      <td>65</td>\n",
              "      <td>ContAuth</td>\n",
              "      <td>Not Provided</td>\n",
              "      <td>justmina72@gmail.com</td>\n",
              "      <td>cus_Eqa3AnpxFl4Svw</td>\n",
              "      <td>8213</td>\n",
              "      <td>NaN</td>\n",
              "      <td>NaN</td>\n",
              "      <td>NaN</td>\n",
              "      <td>NaN</td>\n",
              "      <td>GB</td>\n",
              "      <td>465944</td>\n",
              "      <td>NaN</td>\n",
              "      <td>NaN</td>\n",
              "      <td>0</td>\n",
              "      <td>0</td>\n",
              "      <td>NaN</td>\n",
              "      <td>2020-11-09 17:56:10+00:00</td>\n",
              "      <td>GMT</td>\n",
              "      <td>NaN</td>\n",
              "      <td>NaN</td>\n",
              "    </tr>\n",
              "    <tr>\n",
              "      <th>9</th>\n",
              "      <td>1359016530300690</td>\n",
              "      <td>AUTHORISATION</td>\n",
              "      <td>{\"additionalData\":{\"fraudCheck-75-PaymentDetai...</td>\n",
              "      <td>RiideComp</td>\n",
              "      <td>RiideCompMP</td>\n",
              "      <td>1359016530300690</td>\n",
              "      <td>FINAL_PAYMENT_30548322</td>\n",
              "      <td>visa</td>\n",
              "      <td>2020-10-26 09:59:07+00:00</td>\n",
              "      <td>GMT</td>\n",
              "      <td>EUR</td>\n",
              "      <td>5.55</td>\n",
              "      <td>Chargeback</td>\n",
              "      <td>7559033860396961</td>\n",
              "      <td>Other Fraud-Card Absent Environment</td>\n",
              "      <td>NaN</td>\n",
              "      <td>NaN</td>\n",
              "      <td>visa</td>\n",
              "      <td>10.4</td>\n",
              "      <td>NaN</td>\n",
              "      <td>NaN</td>\n",
              "      <td>2020-10-02 16:37:10+00:00</td>\n",
              "      <td>BST</td>\n",
              "      <td>GBP</td>\n",
              "      <td>5.00</td>\n",
              "      <td>2020-10-23 00:10:35+00:00</td>\n",
              "      <td>BST</td>\n",
              "      <td>74987500276000415057759</td>\n",
              "      <td>system</td>\n",
              "      <td>65</td>\n",
              "      <td>ContAuth</td>\n",
              "      <td>Not Provided</td>\n",
              "      <td>justmina72@gmail.com</td>\n",
              "      <td>cus_Eqa3AnpxFl4Svw</td>\n",
              "      <td>8213</td>\n",
              "      <td>NaN</td>\n",
              "      <td>NaN</td>\n",
              "      <td>NaN</td>\n",
              "      <td>NaN</td>\n",
              "      <td>GB</td>\n",
              "      <td>465944</td>\n",
              "      <td>NaN</td>\n",
              "      <td>NaN</td>\n",
              "      <td>0</td>\n",
              "      <td>0</td>\n",
              "      <td>NaN</td>\n",
              "      <td>2020-11-10 00:10:35+00:00</td>\n",
              "      <td>GMT</td>\n",
              "      <td>NaN</td>\n",
              "      <td>NaN</td>\n",
              "    </tr>\n",
              "    <tr>\n",
              "      <th>10</th>\n",
              "      <td>1546038143104511</td>\n",
              "      <td>AUTHORISATION</td>\n",
              "      <td>{\"additionalData\":{\"fraudCheck-52-DistinctPaym...</td>\n",
              "      <td>RiideComp</td>\n",
              "      <td>RiideCompMP</td>\n",
              "      <td>1546038143104511</td>\n",
              "      <td>PREAUTH_production_1899231</td>\n",
              "      <td>visa</td>\n",
              "      <td>2020-11-04 09:48:34+00:00</td>\n",
              "      <td>GMT</td>\n",
              "      <td>EUR</td>\n",
              "      <td>6.79</td>\n",
              "      <td>Chargeback</td>\n",
              "      <td>7549042471976767</td>\n",
              "      <td>Other Fraud-Card Absent Environment</td>\n",
              "      <td>NaN</td>\n",
              "      <td>NaN</td>\n",
              "      <td>visa</td>\n",
              "      <td>10.4</td>\n",
              "      <td>NaN</td>\n",
              "      <td>NaN</td>\n",
              "      <td>2020-10-27 15:58:30+00:00</td>\n",
              "      <td>GMT</td>\n",
              "      <td>GBP</td>\n",
              "      <td>7.65</td>\n",
              "      <td>2020-11-01 16:13:48+00:00</td>\n",
              "      <td>GMT</td>\n",
              "      <td>74987500301006542134949</td>\n",
              "      <td>system</td>\n",
              "      <td>35</td>\n",
              "      <td>ContAuth</td>\n",
              "      <td>Andrea Smith</td>\n",
              "      <td>dale.ouseyy@hotmail.co.uk</td>\n",
              "      <td>RIIDE_USER_production_1779688</td>\n",
              "      <td>4169</td>\n",
              "      <td>NaN</td>\n",
              "      <td>NaN</td>\n",
              "      <td>NaN</td>\n",
              "      <td>NaN</td>\n",
              "      <td>GB</td>\n",
              "      <td>446291</td>\n",
              "      <td>NaN</td>\n",
              "      <td>NaN</td>\n",
              "      <td>0</td>\n",
              "      <td>6</td>\n",
              "      <td>NaN</td>\n",
              "      <td>2020-11-19 16:13:48+00:00</td>\n",
              "      <td>GMT</td>\n",
              "      <td>NaN</td>\n",
              "      <td>NaN</td>\n",
              "    </tr>\n",
              "    <tr>\n",
              "      <th>11</th>\n",
              "      <td>4526035560619284</td>\n",
              "      <td>AUTHORISATION</td>\n",
              "      <td>{\"additionalData\":{\"metadata.booking_id\":\"3168...</td>\n",
              "      <td>RiideComp</td>\n",
              "      <td>RiideCompMP</td>\n",
              "      <td>4526035560619284</td>\n",
              "      <td>FINAL_PAYMENT_31685502</td>\n",
              "      <td>visa</td>\n",
              "      <td>2020-11-11 10:19:32+00:00</td>\n",
              "      <td>GMT</td>\n",
              "      <td>EUR</td>\n",
              "      <td>30.59</td>\n",
              "      <td>Chargeback</td>\n",
              "      <td>7426049382546330</td>\n",
              "      <td>Other Fraud-Card Absent Environment</td>\n",
              "      <td>NaN</td>\n",
              "      <td>NaN</td>\n",
              "      <td>visa</td>\n",
              "      <td>10.4</td>\n",
              "      <td>NaN</td>\n",
              "      <td>NaN</td>\n",
              "      <td>2020-10-24 17:14:21+00:00</td>\n",
              "      <td>BST</td>\n",
              "      <td>EUR</td>\n",
              "      <td>30.40</td>\n",
              "      <td>2020-11-10 05:52:18+00:00</td>\n",
              "      <td>GMT</td>\n",
              "      <td>74987500298000466943828</td>\n",
              "      <td>system</td>\n",
              "      <td>35</td>\n",
              "      <td>ContAuth</td>\n",
              "      <td>charlton lovett</td>\n",
              "      <td>clons89@outlook.com</td>\n",
              "      <td>RIIDE_USER_production_1809592</td>\n",
              "      <td>1281</td>\n",
              "      <td>NaN</td>\n",
              "      <td>NaN</td>\n",
              "      <td>NaN</td>\n",
              "      <td>NaN</td>\n",
              "      <td>US</td>\n",
              "      <td>441103</td>\n",
              "      <td>NaN</td>\n",
              "      <td>NaN</td>\n",
              "      <td>0</td>\n",
              "      <td>6</td>\n",
              "      <td>True</td>\n",
              "      <td>2020-11-28 05:52:18+00:00</td>\n",
              "      <td>GMT</td>\n",
              "      <td>NaN</td>\n",
              "      <td>NaN</td>\n",
              "    </tr>\n",
              "    <tr>\n",
              "      <th>12</th>\n",
              "      <td>4856018958720880</td>\n",
              "      <td>AUTHORISATION</td>\n",
              "      <td>{\"additionalData\":{\"fraudCheck-75-PaymentDetai...</td>\n",
              "      <td>RiideComp</td>\n",
              "      <td>RiideCompMP</td>\n",
              "      <td>4856018958720880</td>\n",
              "      <td>FINAL_PAYMENT_30717190</td>\n",
              "      <td>visa</td>\n",
              "      <td>2020-10-26 09:59:02+00:00</td>\n",
              "      <td>GMT</td>\n",
              "      <td>EUR</td>\n",
              "      <td>6.77</td>\n",
              "      <td>Chargeback</td>\n",
              "      <td>7559033860375734</td>\n",
              "      <td>Other Fraud-Card Absent Environment</td>\n",
              "      <td>NaN</td>\n",
              "      <td>NaN</td>\n",
              "      <td>visa</td>\n",
              "      <td>10.4</td>\n",
              "      <td>NaN</td>\n",
              "      <td>NaN</td>\n",
              "      <td>2020-10-05 12:04:32+00:00</td>\n",
              "      <td>BST</td>\n",
              "      <td>GBP</td>\n",
              "      <td>6.10</td>\n",
              "      <td>2020-10-23 00:10:33+00:00</td>\n",
              "      <td>BST</td>\n",
              "      <td>74987500279317916477451</td>\n",
              "      <td>system</td>\n",
              "      <td>65</td>\n",
              "      <td>ContAuth</td>\n",
              "      <td>Not Provided</td>\n",
              "      <td>justmina72@gmail.com</td>\n",
              "      <td>cus_Eqa3AnpxFl4Svw</td>\n",
              "      <td>8213</td>\n",
              "      <td>NaN</td>\n",
              "      <td>NaN</td>\n",
              "      <td>NaN</td>\n",
              "      <td>NaN</td>\n",
              "      <td>GB</td>\n",
              "      <td>465944</td>\n",
              "      <td>NaN</td>\n",
              "      <td>NaN</td>\n",
              "      <td>0</td>\n",
              "      <td>0</td>\n",
              "      <td>NaN</td>\n",
              "      <td>2020-11-10 00:10:33+00:00</td>\n",
              "      <td>GMT</td>\n",
              "      <td>NaN</td>\n",
              "      <td>NaN</td>\n",
              "    </tr>\n",
              "    <tr>\n",
              "      <th>13</th>\n",
              "      <td>1329022052152888</td>\n",
              "      <td>AUTHORISATION</td>\n",
              "      <td>{\"additionalData\":{\"fraudCheck-52-DistinctPaym...</td>\n",
              "      <td>RiideComp</td>\n",
              "      <td>RiideCompMP</td>\n",
              "      <td>1329022052152888</td>\n",
              "      <td>PREAUTH_production_1704349</td>\n",
              "      <td>visa</td>\n",
              "      <td>2020-10-27 10:45:38+00:00</td>\n",
              "      <td>GMT</td>\n",
              "      <td>EUR</td>\n",
              "      <td>12.43</td>\n",
              "      <td>Chargeback</td>\n",
              "      <td>7426034663505510</td>\n",
              "      <td>Other Fraud-Card Absent Environment</td>\n",
              "      <td>NaN</td>\n",
              "      <td>NaN</td>\n",
              "      <td>visa</td>\n",
              "      <td>10.4</td>\n",
              "      <td>NaN</td>\n",
              "      <td>NaN</td>\n",
              "      <td>2020-10-09 02:00:15+00:00</td>\n",
              "      <td>BST</td>\n",
              "      <td>GBP</td>\n",
              "      <td>11.20</td>\n",
              "      <td>2020-10-23 16:32:15+00:00</td>\n",
              "      <td>BST</td>\n",
              "      <td>74987500283000235498721</td>\n",
              "      <td>system</td>\n",
              "      <td>35</td>\n",
              "      <td>ContAuth</td>\n",
              "      <td>Sarah Fatima</td>\n",
              "      <td>nicspins@outlook.com</td>\n",
              "      <td>RIIDE_USER_production_1763216</td>\n",
              "      <td>9902</td>\n",
              "      <td>NaN</td>\n",
              "      <td>NaN</td>\n",
              "      <td>NaN</td>\n",
              "      <td>NaN</td>\n",
              "      <td>GB</td>\n",
              "      <td>475129</td>\n",
              "      <td>NaN</td>\n",
              "      <td>NaN</td>\n",
              "      <td>0</td>\n",
              "      <td>6</td>\n",
              "      <td>NaN</td>\n",
              "      <td>2020-11-10 16:32:15+00:00</td>\n",
              "      <td>GMT</td>\n",
              "      <td>NaN</td>\n",
              "      <td>NaN</td>\n",
              "    </tr>\n",
              "    <tr>\n",
              "      <th>14</th>\n",
              "      <td>4726032182071380</td>\n",
              "      <td>AUTHORISATION</td>\n",
              "      <td>{\"additionalData\":{\"metadata.booking_id\":\"3148...</td>\n",
              "      <td>RiideComp</td>\n",
              "      <td>RiideCompMP</td>\n",
              "      <td>4726032182071380</td>\n",
              "      <td>FINAL_PAYMENT_31488280</td>\n",
              "      <td>mc</td>\n",
              "      <td>2020-10-29 20:05:17+00:00</td>\n",
              "      <td>GMT</td>\n",
              "      <td>EUR</td>\n",
              "      <td>39.45</td>\n",
              "      <td>Chargeback</td>\n",
              "      <td>7426037280747019</td>\n",
              "      <td>No Cardholder Authorisation</td>\n",
              "      <td>NaN</td>\n",
              "      <td>NaN</td>\n",
              "      <td>mc</td>\n",
              "      <td>4837</td>\n",
              "      <td>NaN</td>\n",
              "      <td>NaN</td>\n",
              "      <td>2020-10-20 19:23:27+00:00</td>\n",
              "      <td>BST</td>\n",
              "      <td>GBP</td>\n",
              "      <td>35.60</td>\n",
              "      <td>2020-10-29 20:05:17+00:00</td>\n",
              "      <td>GMT</td>\n",
              "      <td>15265670294000233723827</td>\n",
              "      <td>system</td>\n",
              "      <td>10</td>\n",
              "      <td>ContAuth</td>\n",
              "      <td>c bloom</td>\n",
              "      <td>charjaiyesimi@icloud.com</td>\n",
              "      <td>RIIDE_USER_production_1797670</td>\n",
              "      <td>8676</td>\n",
              "      <td>NaN</td>\n",
              "      <td>NaN</td>\n",
              "      <td>NaN</td>\n",
              "      <td>NaN</td>\n",
              "      <td>DE</td>\n",
              "      <td>531002</td>\n",
              "      <td>NaN</td>\n",
              "      <td>NaN</td>\n",
              "      <td>0</td>\n",
              "      <td>3</td>\n",
              "      <td>NaN</td>\n",
              "      <td>2020-12-08 20:05:17+00:00</td>\n",
              "      <td>GMT</td>\n",
              "      <td>NaN</td>\n",
              "      <td>NaN</td>\n",
              "    </tr>\n",
              "    <tr>\n",
              "      <th>15</th>\n",
              "      <td>1759021588691988</td>\n",
              "      <td>AUTHORISATION</td>\n",
              "      <td>{\"additionalData\":{\"fraudCheck-75-PaymentDetai...</td>\n",
              "      <td>RiideComp</td>\n",
              "      <td>RiideCompMP</td>\n",
              "      <td>1759021588691988</td>\n",
              "      <td>PREAUTH_production_1698630</td>\n",
              "      <td>visa</td>\n",
              "      <td>2020-10-26 09:59:23+00:00</td>\n",
              "      <td>GMT</td>\n",
              "      <td>EUR</td>\n",
              "      <td>8.32</td>\n",
              "      <td>Chargeback</td>\n",
              "      <td>7559033860504168</td>\n",
              "      <td>Other Fraud-Card Absent Environment</td>\n",
              "      <td>NaN</td>\n",
              "      <td>NaN</td>\n",
              "      <td>visa</td>\n",
              "      <td>10.4</td>\n",
              "      <td>NaN</td>\n",
              "      <td>NaN</td>\n",
              "      <td>2020-10-08 13:07:49+00:00</td>\n",
              "      <td>BST</td>\n",
              "      <td>GBP</td>\n",
              "      <td>7.50</td>\n",
              "      <td>2020-10-23 00:10:40+00:00</td>\n",
              "      <td>BST</td>\n",
              "      <td>74987500282004647005851</td>\n",
              "      <td>system</td>\n",
              "      <td>75</td>\n",
              "      <td>ContAuth</td>\n",
              "      <td>Brendan mcc</td>\n",
              "      <td>NaN</td>\n",
              "      <td>RIIDE_USER_production_1381490</td>\n",
              "      <td>7039</td>\n",
              "      <td>NaN</td>\n",
              "      <td>NaN</td>\n",
              "      <td>NaN</td>\n",
              "      <td>NaN</td>\n",
              "      <td>GB</td>\n",
              "      <td>492181</td>\n",
              "      <td>NaN</td>\n",
              "      <td>NaN</td>\n",
              "      <td>0</td>\n",
              "      <td>6</td>\n",
              "      <td>NaN</td>\n",
              "      <td>2020-11-10 00:10:40+00:00</td>\n",
              "      <td>GMT</td>\n",
              "      <td>NaN</td>\n",
              "      <td>NaN</td>\n",
              "    </tr>\n",
              "    <tr>\n",
              "      <th>16</th>\n",
              "      <td>4546021767727837</td>\n",
              "      <td>AUTHORISATION</td>\n",
              "      <td>{\"additionalData\":{\"metadata.booking_id\":\"3087...</td>\n",
              "      <td>RiideComp</td>\n",
              "      <td>RiideCompMP</td>\n",
              "      <td>4546021767727837</td>\n",
              "      <td>FINAL_PAYMENT_30879161</td>\n",
              "      <td>visa</td>\n",
              "      <td>2020-10-14 13:35:07+00:00</td>\n",
              "      <td>BST</td>\n",
              "      <td>EUR</td>\n",
              "      <td>19.42</td>\n",
              "      <td>Chargeback</td>\n",
              "      <td>7549023428136267</td>\n",
              "      <td>Other Fraud-Card Absent Environment</td>\n",
              "      <td>NaN</td>\n",
              "      <td>NaN</td>\n",
              "      <td>visa</td>\n",
              "      <td>10.4</td>\n",
              "      <td>NaN</td>\n",
              "      <td>NaN</td>\n",
              "      <td>2020-10-08 18:06:12+00:00</td>\n",
              "      <td>BST</td>\n",
              "      <td>GBP</td>\n",
              "      <td>17.60</td>\n",
              "      <td>2020-10-10 16:14:08+00:00</td>\n",
              "      <td>BST</td>\n",
              "      <td>74987500282542502447544</td>\n",
              "      <td>system</td>\n",
              "      <td>35</td>\n",
              "      <td>ContAuth</td>\n",
              "      <td>Sarah Lloyd</td>\n",
              "      <td>Hextorgil@gmail.com</td>\n",
              "      <td>RIIDE_USER_production_1576856</td>\n",
              "      <td>9010</td>\n",
              "      <td>NaN</td>\n",
              "      <td>NaN</td>\n",
              "      <td>NaN</td>\n",
              "      <td>NaN</td>\n",
              "      <td>GB</td>\n",
              "      <td>465902</td>\n",
              "      <td>NaN</td>\n",
              "      <td>NaN</td>\n",
              "      <td>0</td>\n",
              "      <td>6</td>\n",
              "      <td>NaN</td>\n",
              "      <td>2020-10-28 16:14:08+00:00</td>\n",
              "      <td>GMT</td>\n",
              "      <td>NaN</td>\n",
              "      <td>NaN</td>\n",
              "    </tr>\n",
              "    <tr>\n",
              "      <th>17</th>\n",
              "      <td>4336018296269079</td>\n",
              "      <td>AUTHORISATION</td>\n",
              "      <td>{\"additionalData\":{\"metadata.booking_id\":\"3068...</td>\n",
              "      <td>RiideComp</td>\n",
              "      <td>RiideCompMP</td>\n",
              "      <td>4336018296269079</td>\n",
              "      <td>FINAL_PAYMENT_30683289</td>\n",
              "      <td>visa</td>\n",
              "      <td>2020-11-11 10:18:08+00:00</td>\n",
              "      <td>GMT</td>\n",
              "      <td>EUR</td>\n",
              "      <td>4.78</td>\n",
              "      <td>Chargeback</td>\n",
              "      <td>7436049382510425</td>\n",
              "      <td>Other Fraud-Card Absent Environment</td>\n",
              "      <td>NaN</td>\n",
              "      <td>NaN</td>\n",
              "      <td>visa</td>\n",
              "      <td>10.4</td>\n",
              "      <td>NaN</td>\n",
              "      <td>NaN</td>\n",
              "      <td>2020-10-04 17:40:26+00:00</td>\n",
              "      <td>BST</td>\n",
              "      <td>GBP</td>\n",
              "      <td>4.30</td>\n",
              "      <td>2020-11-10 02:16:28+00:00</td>\n",
              "      <td>GMT</td>\n",
              "      <td>74987500278000366313837</td>\n",
              "      <td>system</td>\n",
              "      <td>35</td>\n",
              "      <td>ContAuth</td>\n",
              "      <td>satish Thomas</td>\n",
              "      <td>jasongomes982@icloud.com</td>\n",
              "      <td>RIIDE_USER_production_1456326</td>\n",
              "      <td>2005</td>\n",
              "      <td>NaN</td>\n",
              "      <td>NaN</td>\n",
              "      <td>NaN</td>\n",
              "      <td>NaN</td>\n",
              "      <td>GB</td>\n",
              "      <td>492913</td>\n",
              "      <td>NaN</td>\n",
              "      <td>NaN</td>\n",
              "      <td>0</td>\n",
              "      <td>6</td>\n",
              "      <td>NaN</td>\n",
              "      <td>2020-11-28 02:16:28+00:00</td>\n",
              "      <td>GMT</td>\n",
              "      <td>NaN</td>\n",
              "      <td>NaN</td>\n",
              "    </tr>\n",
              "  </tbody>\n",
              "</table>\n",
              "</div>"
            ],
            "text/plain": [
              "         external_id          event  ... reserved4 reserved5\n",
              "0   1339042492547347  AUTHORISATION  ...       NaN       NaN\n",
              "1   4536022717461602  AUTHORISATION  ...       NaN       NaN\n",
              "2   6129037293180028  AUTHORISATION  ...       NaN       NaN\n",
              "3   1739023179975908  AUTHORISATION  ...       NaN       NaN\n",
              "4   1326025778684954  AUTHORISATION  ...       NaN       NaN\n",
              "5   1746042331399055  AUTHORISATION  ...       NaN       NaN\n",
              "6   4656023297392765  AUTHORISATION  ...       NaN       NaN\n",
              "7   1529029626313381  AUTHORISATION  ...       NaN       NaN\n",
              "8   1749016405323511  AUTHORISATION  ...       NaN       NaN\n",
              "9   1359016530300690  AUTHORISATION  ...       NaN       NaN\n",
              "10  1546038143104511  AUTHORISATION  ...       NaN       NaN\n",
              "11  4526035560619284  AUTHORISATION  ...       NaN       NaN\n",
              "12  4856018958720880  AUTHORISATION  ...       NaN       NaN\n",
              "13  1329022052152888  AUTHORISATION  ...       NaN       NaN\n",
              "14  4726032182071380  AUTHORISATION  ...       NaN       NaN\n",
              "15  1759021588691988  AUTHORISATION  ...       NaN       NaN\n",
              "16  4546021767727837  AUTHORISATION  ...       NaN       NaN\n",
              "17  4336018296269079  AUTHORISATION  ...       NaN       NaN\n",
              "\n",
              "[18 rows x 50 columns]"
            ]
          },
          "metadata": {
            "tags": []
          },
          "execution_count": 15
        }
      ]
    },
    {
      "cell_type": "code",
      "metadata": {
        "id": "jG7P8NrPSiWl"
      },
      "source": [
        "result = pd.merge(webhook, chargebacks, how = 'left',left_on='external_id', right_on='psp_reference')"
      ],
      "execution_count": 16,
      "outputs": []
    },
    {
      "cell_type": "code",
      "metadata": {
        "id": "j6-aYX3TTf_X"
      },
      "source": [
        "result = result[['external_id', 'event', 'data', 'psp_reference']]"
      ],
      "execution_count": 17,
      "outputs": []
    },
    {
      "cell_type": "code",
      "metadata": {
        "id": "4bHWZQsyTx-_",
        "colab": {
          "base_uri": "https://localhost:8080/",
          "height": 195
        },
        "outputId": "d4eec97a-ff31-4828-a519-042d3683fc5f"
      },
      "source": [
        "result.head()"
      ],
      "execution_count": 18,
      "outputs": [
        {
          "output_type": "execute_result",
          "data": {
            "text/html": [
              "<div>\n",
              "<style scoped>\n",
              "    .dataframe tbody tr th:only-of-type {\n",
              "        vertical-align: middle;\n",
              "    }\n",
              "\n",
              "    .dataframe tbody tr th {\n",
              "        vertical-align: top;\n",
              "    }\n",
              "\n",
              "    .dataframe thead th {\n",
              "        text-align: right;\n",
              "    }\n",
              "</style>\n",
              "<table border=\"1\" class=\"dataframe\">\n",
              "  <thead>\n",
              "    <tr style=\"text-align: right;\">\n",
              "      <th></th>\n",
              "      <th>external_id</th>\n",
              "      <th>event</th>\n",
              "      <th>data</th>\n",
              "      <th>psp_reference</th>\n",
              "    </tr>\n",
              "  </thead>\n",
              "  <tbody>\n",
              "    <tr>\n",
              "      <th>0</th>\n",
              "      <td>4346028597600136</td>\n",
              "      <td>AUTHORISATION</td>\n",
              "      <td>{\"additionalData\":{\"fraudCheck-52-DistinctPaym...</td>\n",
              "      <td>NaN</td>\n",
              "    </tr>\n",
              "    <tr>\n",
              "      <th>1</th>\n",
              "      <td>6149028597945659</td>\n",
              "      <td>AUTHORISATION</td>\n",
              "      <td>{\"additionalData\":{\"fraudCheck-52-DistinctPaym...</td>\n",
              "      <td>NaN</td>\n",
              "    </tr>\n",
              "    <tr>\n",
              "      <th>2</th>\n",
              "      <td>6129028597972350</td>\n",
              "      <td>AUTHORISATION</td>\n",
              "      <td>{\"additionalData\":{\"fraudCheck-75-PaymentDetai...</td>\n",
              "      <td>NaN</td>\n",
              "    </tr>\n",
              "    <tr>\n",
              "      <th>3</th>\n",
              "      <td>4836028598067340</td>\n",
              "      <td>AUTHORISATION</td>\n",
              "      <td>{\"additionalData\":{\"fraudCheck-75-PaymentDetai...</td>\n",
              "      <td>NaN</td>\n",
              "    </tr>\n",
              "    <tr>\n",
              "      <th>4</th>\n",
              "      <td>1656028598146220</td>\n",
              "      <td>AUTHORISATION</td>\n",
              "      <td>{\"additionalData\":{\"fraudCheck-25-CVCAuthResul...</td>\n",
              "      <td>NaN</td>\n",
              "    </tr>\n",
              "  </tbody>\n",
              "</table>\n",
              "</div>"
            ],
            "text/plain": [
              "        external_id  ... psp_reference\n",
              "0  4346028597600136  ...           NaN\n",
              "1  6149028597945659  ...           NaN\n",
              "2  6129028597972350  ...           NaN\n",
              "3  4836028598067340  ...           NaN\n",
              "4  1656028598146220  ...           NaN\n",
              "\n",
              "[5 rows x 4 columns]"
            ]
          },
          "metadata": {
            "tags": []
          },
          "execution_count": 18
        }
      ]
    },
    {
      "cell_type": "code",
      "metadata": {
        "id": "V5KcE5QJT5Zo",
        "colab": {
          "base_uri": "https://localhost:8080/"
        },
        "outputId": "11847726-308e-4190-a8ba-f575049f9c8a"
      },
      "source": [
        "result.info()"
      ],
      "execution_count": 19,
      "outputs": [
        {
          "output_type": "stream",
          "text": [
            "<class 'pandas.core.frame.DataFrame'>\n",
            "Int64Index: 60244 entries, 0 to 60243\n",
            "Data columns (total 4 columns):\n",
            " #   Column         Non-Null Count  Dtype  \n",
            "---  ------         --------------  -----  \n",
            " 0   external_id    60244 non-null  int64  \n",
            " 1   event          60244 non-null  object \n",
            " 2   data           60244 non-null  object \n",
            " 3   psp_reference  18 non-null     float64\n",
            "dtypes: float64(1), int64(1), object(2)\n",
            "memory usage: 2.3+ MB\n"
          ],
          "name": "stdout"
        }
      ]
    },
    {
      "cell_type": "code",
      "metadata": {
        "id": "t9CpPRs7UA91"
      },
      "source": [
        "result.columns = ['external_id', 'event', 'data', 'chargeback']"
      ],
      "execution_count": 20,
      "outputs": []
    },
    {
      "cell_type": "code",
      "metadata": {
        "id": "c2lmuK6oUeTs",
        "colab": {
          "base_uri": "https://localhost:8080/"
        },
        "outputId": "da3b8a4a-3f97-4122-9e19-710a6aeb574d"
      },
      "source": [
        "result.info()"
      ],
      "execution_count": 21,
      "outputs": [
        {
          "output_type": "stream",
          "text": [
            "<class 'pandas.core.frame.DataFrame'>\n",
            "Int64Index: 60244 entries, 0 to 60243\n",
            "Data columns (total 4 columns):\n",
            " #   Column       Non-Null Count  Dtype  \n",
            "---  ------       --------------  -----  \n",
            " 0   external_id  60244 non-null  int64  \n",
            " 1   event        60244 non-null  object \n",
            " 2   data         60244 non-null  object \n",
            " 3   chargeback   18 non-null     float64\n",
            "dtypes: float64(1), int64(1), object(2)\n",
            "memory usage: 2.3+ MB\n"
          ],
          "name": "stdout"
        }
      ]
    },
    {
      "cell_type": "code",
      "metadata": {
        "id": "OwhK7uBdVAg8"
      },
      "source": [
        "result.chargeback.fillna(0,inplace=True)"
      ],
      "execution_count": 22,
      "outputs": []
    },
    {
      "cell_type": "code",
      "metadata": {
        "id": "mGk1_USuVu2J"
      },
      "source": [
        "result[\"chargeback\"]=result[\"chargeback\"].apply(lambda x: 1 if x!=0 else 0)"
      ],
      "execution_count": 23,
      "outputs": []
    },
    {
      "cell_type": "code",
      "metadata": {
        "id": "jKJedPRzWbaG",
        "colab": {
          "base_uri": "https://localhost:8080/"
        },
        "outputId": "4b46e3b6-73db-4728-e2a2-37c1cec74844"
      },
      "source": [
        "result.info()"
      ],
      "execution_count": 24,
      "outputs": [
        {
          "output_type": "stream",
          "text": [
            "<class 'pandas.core.frame.DataFrame'>\n",
            "Int64Index: 60244 entries, 0 to 60243\n",
            "Data columns (total 4 columns):\n",
            " #   Column       Non-Null Count  Dtype \n",
            "---  ------       --------------  ----- \n",
            " 0   external_id  60244 non-null  int64 \n",
            " 1   event        60244 non-null  object\n",
            " 2   data         60244 non-null  object\n",
            " 3   chargeback   60244 non-null  int64 \n",
            "dtypes: int64(2), object(2)\n",
            "memory usage: 2.3+ MB\n"
          ],
          "name": "stdout"
        }
      ]
    },
    {
      "cell_type": "code",
      "metadata": {
        "id": "qc5V_BuOYbNv",
        "colab": {
          "base_uri": "https://localhost:8080/"
        },
        "outputId": "f86ecdfc-5c95-48fd-b902-fe93f9948c76"
      },
      "source": [
        "result['chargeback'].value_counts()"
      ],
      "execution_count": 25,
      "outputs": [
        {
          "output_type": "execute_result",
          "data": {
            "text/plain": [
              "0    60226\n",
              "1       18\n",
              "Name: chargeback, dtype: int64"
            ]
          },
          "metadata": {
            "tags": []
          },
          "execution_count": 25
        }
      ]
    },
    {
      "cell_type": "markdown",
      "metadata": {
        "id": "rBoexZKGKtKT"
      },
      "source": [
        "plotting with labels"
      ]
    },
    {
      "cell_type": "code",
      "metadata": {
        "id": "XBsXpzMuWddc"
      },
      "source": [
        "import seaborn as sns"
      ],
      "execution_count": 26,
      "outputs": []
    },
    {
      "cell_type": "code",
      "metadata": {
        "id": "tMn2zETfWtNJ",
        "colab": {
          "base_uri": "https://localhost:8080/",
          "height": 296
        },
        "outputId": "53339750-9bdd-42b8-d506-de8fc8446d07"
      },
      "source": [
        "sns.countplot(x = 'chargeback', data = result)"
      ],
      "execution_count": 27,
      "outputs": [
        {
          "output_type": "execute_result",
          "data": {
            "text/plain": [
              "<matplotlib.axes._subplots.AxesSubplot at 0x7f91b40f3650>"
            ]
          },
          "metadata": {
            "tags": []
          },
          "execution_count": 27
        },
        {
          "output_type": "display_data",
          "data": {
            "image/png": "[encoded data removed]",
            "text/plain": [
              "<Figure size 432x288 with 1 Axes>"
            ]
          },
          "metadata": {
            "tags": [],
            "needs_background": "light"
          }
        }
      ]
    },
    {
      "cell_type": "code",
      "metadata": {
        "id": "rCuqp6UiTBZk"
      },
      "source": [
        "#normalisation"
      ],
      "execution_count": 28,
      "outputs": []
    },
    {
      "cell_type": "code",
      "metadata": {
        "id": "WPY_WQt8Ofr7"
      },
      "source": [
        "import json\n",
        "import numpy as np\n",
        "from pandas.io.json import json_normalize"
      ],
      "execution_count": 29,
      "outputs": []
    },
    {
      "cell_type": "code",
      "metadata": {
        "id": "kJeByPKCOj_I",
        "colab": {
          "base_uri": "https://localhost:8080/"
        },
        "outputId": "ca5d9033-9a27-4f73-877f-20eb6e42ac44"
      },
      "source": [
        "flat_df = json_normalize(result.data.apply(json.loads))"
      ],
      "execution_count": 30,
      "outputs": [
        {
          "output_type": "stream",
          "text": [
            "/usr/local/lib/python3.7/dist-packages/ipykernel_launcher.py:1: FutureWarning: pandas.io.json.json_normalize is deprecated, use pandas.json_normalize instead\n",
            "  \"\"\"Entry point for launching an IPython kernel.\n"
          ],
          "name": "stderr"
        }
      ]
    },
    {
      "cell_type": "code",
      "metadata": {
        "id": "1nkuH8wuSXRj",
        "colab": {
          "base_uri": "https://localhost:8080/",
          "height": 446
        },
        "outputId": "83bfd99a-c2bc-4b95-d2c9-af7b0676d73c"
      },
      "source": [
        "flat_df.head()"
      ],
      "execution_count": 31,
      "outputs": [
        {
          "output_type": "execute_result",
          "data": {
            "text/html": [
              "<div>\n",
              "<style scoped>\n",
              "    .dataframe tbody tr th:only-of-type {\n",
              "        vertical-align: middle;\n",
              "    }\n",
              "\n",
              "    .dataframe tbody tr th {\n",
              "        vertical-align: top;\n",
              "    }\n",
              "\n",
              "    .dataframe thead th {\n",
              "        text-align: right;\n",
              "    }\n",
              "</style>\n",
              "<table border=\"1\" class=\"dataframe\">\n",
              "  <thead>\n",
              "    <tr style=\"text-align: right;\">\n",
              "      <th></th>\n",
              "      <th>eventCode</th>\n",
              "      <th>eventDate</th>\n",
              "      <th>merchantAccountCode</th>\n",
              "      <th>merchantReference</th>\n",
              "      <th>operations</th>\n",
              "      <th>paymentMethod</th>\n",
              "      <th>pspReference</th>\n",
              "      <th>reason</th>\n",
              "      <th>success</th>\n",
              "      <th>additionalData.fraudCheck-52-DistinctPaymentDetailUsageByShopper</th>\n",
              "      <th>additionalData.paymentMethodVariant</th>\n",
              "      <th>additionalData.riskdata.basket.item.brand</th>\n",
              "      <th>additionalData.billingAddress.country</th>\n",
              "      <th>additionalData.riskdata.shopperAppVersion</th>\n",
              "      <th>additionalData.deviceType</th>\n",
              "      <th>additionalData.metadata.shopper_name</th>\n",
              "      <th>additionalData.fraudCheck-77-EmailSyntaxCheck</th>\n",
              "      <th>additionalData.fraudManualReview</th>\n",
              "      <th>additionalData.shopperEmail</th>\n",
              "      <th>additionalData.fraudCheck-46-DistinctCountryUsageByShopper</th>\n",
              "      <th>additionalData.fraudCheck-53-DistinctSharedShopperIpUsageByShopper</th>\n",
              "      <th>additionalData.avsResultRaw</th>\n",
              "      <th>additionalData.shopperStatement</th>\n",
              "      <th>additionalData.fraudCheck-48-ChargebackCountByShopper</th>\n",
              "      <th>additionalData.fraudCheck-41-PaymentDetailNonFraudRefCheck</th>\n",
              "      <th>additionalData.avsResult</th>\n",
              "      <th>additionalData.cardSummary</th>\n",
              "      <th>additionalData.fraudCheck-56-ShopperReferenceCheck</th>\n",
              "      <th>additionalData.retry.attempt1.avsResultRaw</th>\n",
              "      <th>additionalData.fraudCheck-79-BinAttackRefCheck</th>\n",
              "      <th>additionalData.fraudCheck-65-EmailDomainRefCheck</th>\n",
              "      <th>additionalData.fraudCheck-15-IssuingCountryReferral</th>\n",
              "      <th>additionalData.billingAddress.street</th>\n",
              "      <th>additionalData.fraudCheck-47-BlockedCardsUsageByShopper</th>\n",
              "      <th>additionalData.cavvAlgorithm</th>\n",
              "      <th>additionalData.metadata.shopper_riide_id</th>\n",
              "      <th>additionalData.fraudCheck-85-ShopperFraudRefusalsCheck</th>\n",
              "      <th>additionalData.billingAddress.city</th>\n",
              "      <th>additionalData.fraudCheck-82-CustomFieldCheck</th>\n",
              "      <th>additionalData.acquirerReference</th>\n",
              "      <th>...</th>\n",
              "      <th>additionalData.recurring.recurringDetailReference</th>\n",
              "      <th>additionalData.fraudCheck-2-CardChunkUsage</th>\n",
              "      <th>additionalData.fraudCheck-3-PaymentDetailUsage</th>\n",
              "      <th>additionalData.recurring.shopperReference</th>\n",
              "      <th>additionalData.fraudCheck-55-ShopperAuthorisedFrequency</th>\n",
              "      <th>additionalData.fraudCheck-4-HolderNameUsage</th>\n",
              "      <th>additionalData.cvcResultRaw</th>\n",
              "      <th>additionalData.accountValidation</th>\n",
              "      <th>additionalData.cardIssuingCurrency</th>\n",
              "      <th>additionalData.riskProfile</th>\n",
              "      <th>additionalData.riskProfileReference</th>\n",
              "      <th>additionalData.cardIssuingCountry</th>\n",
              "      <th>additionalData.cardIssuingBank</th>\n",
              "      <th>additionalData.cardPaymentMethod</th>\n",
              "      <th>additionalData.riskdata.luhnOkCount</th>\n",
              "      <th>additionalData.riskdata.numberFieldKeyCount</th>\n",
              "      <th>additionalData.riskdata.referrer</th>\n",
              "      <th>additionalData.riskdata.luhnCount</th>\n",
              "      <th>additionalData.riskdata.LuhnSameLengthCount</th>\n",
              "      <th>additionalData.riskdata.numberFieldFocusCount</th>\n",
              "      <th>additionalData.riskdata.initializeCount</th>\n",
              "      <th>additionalData.metadata.link_id</th>\n",
              "      <th>additionalData.riskdata.numberFieldClickCount</th>\n",
              "      <th>additionalData.fraudCheck-78-ShopperBehaviorCheck</th>\n",
              "      <th>additionalData.riskdata.numberFieldLog</th>\n",
              "      <th>additionalData.retry.attempt2.avsResultRaw</th>\n",
              "      <th>additionalData.retry.attempt2.rawResponse</th>\n",
              "      <th>additionalData.retry.attempt2.acquirerAccount</th>\n",
              "      <th>additionalData.retry.attempt2.acquirer</th>\n",
              "      <th>additionalData.metadata.caboodle_base_uri</th>\n",
              "      <th>additionalData.retry.attempt2.responseCode</th>\n",
              "      <th>additionalData.metadata.restaurant_id</th>\n",
              "      <th>additionalData.threeDSVersion</th>\n",
              "      <th>additionalData.fraudCheck--1-Pre-Auth-Risk-Total</th>\n",
              "      <th>additionalData.coBrandedWith</th>\n",
              "      <th>additionalData.riskdata.numberFieldBlurCount</th>\n",
              "      <th>additionalData.riskdata.numberFieldEventHandlers</th>\n",
              "      <th>additionalData.riskdata.numberFieldUnknownKeys</th>\n",
              "      <th>additionalData.authorisedAmountCurrency</th>\n",
              "      <th>additionalData.authorisedAmountValue</th>\n",
              "    </tr>\n",
              "  </thead>\n",
              "  <tbody>\n",
              "    <tr>\n",
              "      <th>0</th>\n",
              "      <td>AUTHORISATION</td>\n",
              "      <td>2020-10-16T16:49:20+02:00</td>\n",
              "      <td>RiideCompMP</td>\n",
              "      <td>PREAUTH_production_1783324</td>\n",
              "      <td>[CANCEL, CAPTURE, REFUND]</td>\n",
              "      <td>visa</td>\n",
              "      <td>4346028597600136</td>\n",
              "      <td>016536:8928:06/2023</td>\n",
              "      <td>true</td>\n",
              "      <td>0</td>\n",
              "      <td>visastandarddebit</td>\n",
              "      <td>asl</td>\n",
              "      <td>ZZ</td>\n",
              "      <td>333.0.705</td>\n",
              "      <td>Other</td>\n",
              "      <td>Jodie littler</td>\n",
              "      <td>0</td>\n",
              "      <td>false</td>\n",
              "      <td>jodielbabie@hotmail.co.uk</td>\n",
              "      <td>0</td>\n",
              "      <td>0</td>\n",
              "      <td>Z</td>\n",
              "      <td>Argyle Satellite Ltd</td>\n",
              "      <td>0</td>\n",
              "      <td>0</td>\n",
              "      <td>6 Postal code matches, address doesnt match</td>\n",
              "      <td>8928</td>\n",
              "      <td>0</td>\n",
              "      <td>Z</td>\n",
              "      <td>0</td>\n",
              "      <td>0</td>\n",
              "      <td>0</td>\n",
              "      <td>-</td>\n",
              "      <td>0</td>\n",
              "      <td>N/A</td>\n",
              "      <td>1691984</td>\n",
              "      <td>0</td>\n",
              "      <td>-</td>\n",
              "      <td>-30</td>\n",
              "      <td>29014221335</td>\n",
              "      <td>...</td>\n",
              "      <td>NaN</td>\n",
              "      <td>NaN</td>\n",
              "      <td>NaN</td>\n",
              "      <td>NaN</td>\n",
              "      <td>NaN</td>\n",
              "      <td>NaN</td>\n",
              "      <td>NaN</td>\n",
              "      <td>NaN</td>\n",
              "      <td>NaN</td>\n",
              "      <td>NaN</td>\n",
              "      <td>NaN</td>\n",
              "      <td>NaN</td>\n",
              "      <td>NaN</td>\n",
              "      <td>NaN</td>\n",
              "      <td>NaN</td>\n",
              "      <td>NaN</td>\n",
              "      <td>NaN</td>\n",
              "      <td>NaN</td>\n",
              "      <td>NaN</td>\n",
              "      <td>NaN</td>\n",
              "      <td>NaN</td>\n",
              "      <td>NaN</td>\n",
              "      <td>NaN</td>\n",
              "      <td>NaN</td>\n",
              "      <td>NaN</td>\n",
              "      <td>NaN</td>\n",
              "      <td>NaN</td>\n",
              "      <td>NaN</td>\n",
              "      <td>NaN</td>\n",
              "      <td>NaN</td>\n",
              "      <td>NaN</td>\n",
              "      <td>NaN</td>\n",
              "      <td>NaN</td>\n",
              "      <td>NaN</td>\n",
              "      <td>NaN</td>\n",
              "      <td>NaN</td>\n",
              "      <td>NaN</td>\n",
              "      <td>NaN</td>\n",
              "      <td>NaN</td>\n",
              "      <td>NaN</td>\n",
              "    </tr>\n",
              "    <tr>\n",
              "      <th>1</th>\n",
              "      <td>AUTHORISATION</td>\n",
              "      <td>2020-10-16T16:49:54+02:00</td>\n",
              "      <td>RiideCompMP</td>\n",
              "      <td>PREAUTH_production_1783330</td>\n",
              "      <td>[CANCEL, CAPTURE, REFUND]</td>\n",
              "      <td>visa</td>\n",
              "      <td>6149028597945659</td>\n",
              "      <td>726788:8170:08/2023</td>\n",
              "      <td>true</td>\n",
              "      <td>0</td>\n",
              "      <td>visastandarddebit</td>\n",
              "      <td>alphacar</td>\n",
              "      <td>ZZ</td>\n",
              "      <td>333.0.705</td>\n",
              "      <td>Other</td>\n",
              "      <td>Marie Lewtas</td>\n",
              "      <td>0</td>\n",
              "      <td>false</td>\n",
              "      <td>marie.lewtas@icloud.com</td>\n",
              "      <td>0</td>\n",
              "      <td>0</td>\n",
              "      <td>Z</td>\n",
              "      <td>Alpha Taxis</td>\n",
              "      <td>0</td>\n",
              "      <td>0</td>\n",
              "      <td>6 Postal code matches, address doesnt match</td>\n",
              "      <td>8170</td>\n",
              "      <td>0</td>\n",
              "      <td>Z</td>\n",
              "      <td>0</td>\n",
              "      <td>0</td>\n",
              "      <td>0</td>\n",
              "      <td>-</td>\n",
              "      <td>0</td>\n",
              "      <td>N/A</td>\n",
              "      <td>952682</td>\n",
              "      <td>0</td>\n",
              "      <td>-</td>\n",
              "      <td>-30</td>\n",
              "      <td>29014389587</td>\n",
              "      <td>...</td>\n",
              "      <td>NaN</td>\n",
              "      <td>NaN</td>\n",
              "      <td>NaN</td>\n",
              "      <td>NaN</td>\n",
              "      <td>NaN</td>\n",
              "      <td>NaN</td>\n",
              "      <td>NaN</td>\n",
              "      <td>NaN</td>\n",
              "      <td>NaN</td>\n",
              "      <td>NaN</td>\n",
              "      <td>NaN</td>\n",
              "      <td>NaN</td>\n",
              "      <td>NaN</td>\n",
              "      <td>NaN</td>\n",
              "      <td>NaN</td>\n",
              "      <td>NaN</td>\n",
              "      <td>NaN</td>\n",
              "      <td>NaN</td>\n",
              "      <td>NaN</td>\n",
              "      <td>NaN</td>\n",
              "      <td>NaN</td>\n",
              "      <td>NaN</td>\n",
              "      <td>NaN</td>\n",
              "      <td>NaN</td>\n",
              "      <td>NaN</td>\n",
              "      <td>NaN</td>\n",
              "      <td>NaN</td>\n",
              "      <td>NaN</td>\n",
              "      <td>NaN</td>\n",
              "      <td>NaN</td>\n",
              "      <td>NaN</td>\n",
              "      <td>NaN</td>\n",
              "      <td>NaN</td>\n",
              "      <td>NaN</td>\n",
              "      <td>NaN</td>\n",
              "      <td>NaN</td>\n",
              "      <td>NaN</td>\n",
              "      <td>NaN</td>\n",
              "      <td>NaN</td>\n",
              "      <td>NaN</td>\n",
              "    </tr>\n",
              "    <tr>\n",
              "      <th>2</th>\n",
              "      <td>AUTHORISATION</td>\n",
              "      <td>2020-10-16T16:49:57+02:00</td>\n",
              "      <td>RiideCompMP</td>\n",
              "      <td>FINAL_PAYMENT_31282704</td>\n",
              "      <td>[CANCEL, CAPTURE, REFUND]</td>\n",
              "      <td>mc</td>\n",
              "      <td>6129028597972350</td>\n",
              "      <td>569980:4697:07/2023</td>\n",
              "      <td>true</td>\n",
              "      <td>0</td>\n",
              "      <td>mcstandarddebit</td>\n",
              "      <td>skyline</td>\n",
              "      <td>NaN</td>\n",
              "      <td>333.0.705</td>\n",
              "      <td>Other</td>\n",
              "      <td>Georgina Bell</td>\n",
              "      <td>0</td>\n",
              "      <td>false</td>\n",
              "      <td>georginabell2002@googlemail.com</td>\n",
              "      <td>0</td>\n",
              "      <td>0</td>\n",
              "      <td>NaN</td>\n",
              "      <td>Skyline Taxis B18103046 ${phoneNumber}</td>\n",
              "      <td>0</td>\n",
              "      <td>0</td>\n",
              "      <td>0 Unknown</td>\n",
              "      <td>4697</td>\n",
              "      <td>0</td>\n",
              "      <td>NaN</td>\n",
              "      <td>0</td>\n",
              "      <td>0</td>\n",
              "      <td>0</td>\n",
              "      <td>NaN</td>\n",
              "      <td>0</td>\n",
              "      <td>N/A</td>\n",
              "      <td>1487075</td>\n",
              "      <td>0</td>\n",
              "      <td>NaN</td>\n",
              "      <td>-30</td>\n",
              "      <td>029014386937</td>\n",
              "      <td>...</td>\n",
              "      <td>NaN</td>\n",
              "      <td>NaN</td>\n",
              "      <td>NaN</td>\n",
              "      <td>NaN</td>\n",
              "      <td>NaN</td>\n",
              "      <td>NaN</td>\n",
              "      <td>NaN</td>\n",
              "      <td>NaN</td>\n",
              "      <td>NaN</td>\n",
              "      <td>NaN</td>\n",
              "      <td>NaN</td>\n",
              "      <td>NaN</td>\n",
              "      <td>NaN</td>\n",
              "      <td>NaN</td>\n",
              "      <td>NaN</td>\n",
              "      <td>NaN</td>\n",
              "      <td>NaN</td>\n",
              "      <td>NaN</td>\n",
              "      <td>NaN</td>\n",
              "      <td>NaN</td>\n",
              "      <td>NaN</td>\n",
              "      <td>NaN</td>\n",
              "      <td>NaN</td>\n",
              "      <td>NaN</td>\n",
              "      <td>NaN</td>\n",
              "      <td>NaN</td>\n",
              "      <td>NaN</td>\n",
              "      <td>NaN</td>\n",
              "      <td>NaN</td>\n",
              "      <td>NaN</td>\n",
              "      <td>NaN</td>\n",
              "      <td>NaN</td>\n",
              "      <td>NaN</td>\n",
              "      <td>NaN</td>\n",
              "      <td>NaN</td>\n",
              "      <td>NaN</td>\n",
              "      <td>NaN</td>\n",
              "      <td>NaN</td>\n",
              "      <td>NaN</td>\n",
              "      <td>NaN</td>\n",
              "    </tr>\n",
              "    <tr>\n",
              "      <th>3</th>\n",
              "      <td>AUTHORISATION</td>\n",
              "      <td>2020-10-16T16:50:06+02:00</td>\n",
              "      <td>RiideCompMP</td>\n",
              "      <td>FINAL_PAYMENT_31282258</td>\n",
              "      <td>[CANCEL, CAPTURE, REFUND]</td>\n",
              "      <td>visa</td>\n",
              "      <td>4836028598067340</td>\n",
              "      <td>079365:5222:08/2021</td>\n",
              "      <td>true</td>\n",
              "      <td>0</td>\n",
              "      <td>visastandarddebit</td>\n",
              "      <td>skyline</td>\n",
              "      <td>NaN</td>\n",
              "      <td>333.0.705</td>\n",
              "      <td>Other</td>\n",
              "      <td>megan facer</td>\n",
              "      <td>0</td>\n",
              "      <td>false</td>\n",
              "      <td>facer01@live.co.uk</td>\n",
              "      <td>0</td>\n",
              "      <td>0</td>\n",
              "      <td>NaN</td>\n",
              "      <td>Skyline Taxis B18102905 ${phoneNumber}</td>\n",
              "      <td>0</td>\n",
              "      <td>0</td>\n",
              "      <td>0 Unknown</td>\n",
              "      <td>5222</td>\n",
              "      <td>0</td>\n",
              "      <td>None</td>\n",
              "      <td>0</td>\n",
              "      <td>0</td>\n",
              "      <td>0</td>\n",
              "      <td>NaN</td>\n",
              "      <td>0</td>\n",
              "      <td>N/A</td>\n",
              "      <td>939978</td>\n",
              "      <td>0</td>\n",
              "      <td>NaN</td>\n",
              "      <td>-30</td>\n",
              "      <td>29014403374</td>\n",
              "      <td>...</td>\n",
              "      <td>NaN</td>\n",
              "      <td>NaN</td>\n",
              "      <td>NaN</td>\n",
              "      <td>NaN</td>\n",
              "      <td>NaN</td>\n",
              "      <td>NaN</td>\n",
              "      <td>NaN</td>\n",
              "      <td>NaN</td>\n",
              "      <td>NaN</td>\n",
              "      <td>NaN</td>\n",
              "      <td>NaN</td>\n",
              "      <td>NaN</td>\n",
              "      <td>NaN</td>\n",
              "      <td>NaN</td>\n",
              "      <td>NaN</td>\n",
              "      <td>NaN</td>\n",
              "      <td>NaN</td>\n",
              "      <td>NaN</td>\n",
              "      <td>NaN</td>\n",
              "      <td>NaN</td>\n",
              "      <td>NaN</td>\n",
              "      <td>NaN</td>\n",
              "      <td>NaN</td>\n",
              "      <td>NaN</td>\n",
              "      <td>NaN</td>\n",
              "      <td>NaN</td>\n",
              "      <td>NaN</td>\n",
              "      <td>NaN</td>\n",
              "      <td>NaN</td>\n",
              "      <td>NaN</td>\n",
              "      <td>NaN</td>\n",
              "      <td>NaN</td>\n",
              "      <td>NaN</td>\n",
              "      <td>NaN</td>\n",
              "      <td>NaN</td>\n",
              "      <td>NaN</td>\n",
              "      <td>NaN</td>\n",
              "      <td>NaN</td>\n",
              "      <td>NaN</td>\n",
              "      <td>NaN</td>\n",
              "    </tr>\n",
              "    <tr>\n",
              "      <th>4</th>\n",
              "      <td>AUTHORISATION</td>\n",
              "      <td>2020-10-16T16:50:14+02:00</td>\n",
              "      <td>RiideCompMP</td>\n",
              "      <td>OUTLET_CARD_CITY_GRAB_32420_1602859814</td>\n",
              "      <td>[CANCEL, CAPTURE, REFUND]</td>\n",
              "      <td>visa</td>\n",
              "      <td>1656028598146220</td>\n",
              "      <td>003580:3718:05/2021</td>\n",
              "      <td>true</td>\n",
              "      <td>0</td>\n",
              "      <td>visastandarddebit</td>\n",
              "      <td>NaN</td>\n",
              "      <td>ZZ</td>\n",
              "      <td>NaN</td>\n",
              "      <td>NaN</td>\n",
              "      <td>NaN</td>\n",
              "      <td>0</td>\n",
              "      <td>false</td>\n",
              "      <td>jessamybailey@gmail.com</td>\n",
              "      <td>0</td>\n",
              "      <td>0</td>\n",
              "      <td>Z</td>\n",
              "      <td>City Grab Card Saving Authorization</td>\n",
              "      <td>0</td>\n",
              "      <td>0</td>\n",
              "      <td>6 Postal code matches, address doesnt match</td>\n",
              "      <td>3718</td>\n",
              "      <td>0</td>\n",
              "      <td>Z</td>\n",
              "      <td>0</td>\n",
              "      <td>0</td>\n",
              "      <td>0</td>\n",
              "      <td>-</td>\n",
              "      <td>0</td>\n",
              "      <td>N/A</td>\n",
              "      <td>NaN</td>\n",
              "      <td>0</td>\n",
              "      <td>-</td>\n",
              "      <td>0</td>\n",
              "      <td>29014142801</td>\n",
              "      <td>...</td>\n",
              "      <td>2816028598143750</td>\n",
              "      <td>0</td>\n",
              "      <td>0</td>\n",
              "      <td>CABOODLE_USER_citygrab_32420</td>\n",
              "      <td>0</td>\n",
              "      <td>0</td>\n",
              "      <td>M</td>\n",
              "      <td>true</td>\n",
              "      <td>NaN</td>\n",
              "      <td>NaN</td>\n",
              "      <td>NaN</td>\n",
              "      <td>NaN</td>\n",
              "      <td>NaN</td>\n",
              "      <td>NaN</td>\n",
              "      <td>NaN</td>\n",
              "      <td>NaN</td>\n",
              "      <td>NaN</td>\n",
              "      <td>NaN</td>\n",
              "      <td>NaN</td>\n",
              "      <td>NaN</td>\n",
              "      <td>NaN</td>\n",
              "      <td>NaN</td>\n",
              "      <td>NaN</td>\n",
              "      <td>NaN</td>\n",
              "      <td>NaN</td>\n",
              "      <td>NaN</td>\n",
              "      <td>NaN</td>\n",
              "      <td>NaN</td>\n",
              "      <td>NaN</td>\n",
              "      <td>NaN</td>\n",
              "      <td>NaN</td>\n",
              "      <td>NaN</td>\n",
              "      <td>NaN</td>\n",
              "      <td>NaN</td>\n",
              "      <td>NaN</td>\n",
              "      <td>NaN</td>\n",
              "      <td>NaN</td>\n",
              "      <td>NaN</td>\n",
              "      <td>NaN</td>\n",
              "      <td>NaN</td>\n",
              "    </tr>\n",
              "  </tbody>\n",
              "</table>\n",
              "<p>5 rows × 158 columns</p>\n",
              "</div>"
            ],
            "text/plain": [
              "       eventCode  ... additionalData.authorisedAmountValue\n",
              "0  AUTHORISATION  ...                                  NaN\n",
              "1  AUTHORISATION  ...                                  NaN\n",
              "2  AUTHORISATION  ...                                  NaN\n",
              "3  AUTHORISATION  ...                                  NaN\n",
              "4  AUTHORISATION  ...                                  NaN\n",
              "\n",
              "[5 rows x 158 columns]"
            ]
          },
          "metadata": {
            "tags": []
          },
          "execution_count": 31
        }
      ]
    },
    {
      "cell_type": "code",
      "metadata": {
        "id": "BE-rBdG9TSsm"
      },
      "source": [
        "new_df = result[['external_id', 'chargeback']]"
      ],
      "execution_count": 32,
      "outputs": []
    },
    {
      "cell_type": "code",
      "metadata": {
        "id": "4vw5-70vT0kP"
      },
      "source": [
        "flat_df['pspReference']=flat_df['pspReference'].astype('int64')"
      ],
      "execution_count": 33,
      "outputs": []
    },
    {
      "cell_type": "code",
      "metadata": {
        "id": "zkwzNgU_TVwT"
      },
      "source": [
        "final_df = pd.merge(new_df, flat_df, left_on='external_id', right_on='pspReference')"
      ],
      "execution_count": 34,
      "outputs": []
    },
    {
      "cell_type": "code",
      "metadata": {
        "id": "K5fLQdqLVf-X",
        "colab": {
          "base_uri": "https://localhost:8080/"
        },
        "outputId": "56929d13-2605-469d-f07c-612cada93f47"
      },
      "source": [
        "final_df.info()"
      ],
      "execution_count": 35,
      "outputs": [
        {
          "output_type": "stream",
          "text": [
            "<class 'pandas.core.frame.DataFrame'>\n",
            "Int64Index: 60256 entries, 0 to 60255\n",
            "Columns: 160 entries, external_id to additionalData.authorisedAmountValue\n",
            "dtypes: int64(4), object(156)\n",
            "memory usage: 74.0+ MB\n"
          ],
          "name": "stdout"
        }
      ]
    },
    {
      "cell_type": "code",
      "metadata": {
        "id": "40gB0tD-VsLv",
        "colab": {
          "base_uri": "https://localhost:8080/",
          "height": 446
        },
        "outputId": "09710b35-bd69-4d65-b166-08e64f9fc3be"
      },
      "source": [
        "final_df[final_df['chargeback']==1 ].head()"
      ],
      "execution_count": 36,
      "outputs": [
        {
          "output_type": "execute_result",
          "data": {
            "text/html": [
              "<div>\n",
              "<style scoped>\n",
              "    .dataframe tbody tr th:only-of-type {\n",
              "        vertical-align: middle;\n",
              "    }\n",
              "\n",
              "    .dataframe tbody tr th {\n",
              "        vertical-align: top;\n",
              "    }\n",
              "\n",
              "    .dataframe thead th {\n",
              "        text-align: right;\n",
              "    }\n",
              "</style>\n",
              "<table border=\"1\" class=\"dataframe\">\n",
              "  <thead>\n",
              "    <tr style=\"text-align: right;\">\n",
              "      <th></th>\n",
              "      <th>external_id</th>\n",
              "      <th>chargeback</th>\n",
              "      <th>eventCode</th>\n",
              "      <th>eventDate</th>\n",
              "      <th>merchantAccountCode</th>\n",
              "      <th>merchantReference</th>\n",
              "      <th>operations</th>\n",
              "      <th>paymentMethod</th>\n",
              "      <th>pspReference</th>\n",
              "      <th>reason</th>\n",
              "      <th>success</th>\n",
              "      <th>additionalData.fraudCheck-52-DistinctPaymentDetailUsageByShopper</th>\n",
              "      <th>additionalData.paymentMethodVariant</th>\n",
              "      <th>additionalData.riskdata.basket.item.brand</th>\n",
              "      <th>additionalData.billingAddress.country</th>\n",
              "      <th>additionalData.riskdata.shopperAppVersion</th>\n",
              "      <th>additionalData.deviceType</th>\n",
              "      <th>additionalData.metadata.shopper_name</th>\n",
              "      <th>additionalData.fraudCheck-77-EmailSyntaxCheck</th>\n",
              "      <th>additionalData.fraudManualReview</th>\n",
              "      <th>additionalData.shopperEmail</th>\n",
              "      <th>additionalData.fraudCheck-46-DistinctCountryUsageByShopper</th>\n",
              "      <th>additionalData.fraudCheck-53-DistinctSharedShopperIpUsageByShopper</th>\n",
              "      <th>additionalData.avsResultRaw</th>\n",
              "      <th>additionalData.shopperStatement</th>\n",
              "      <th>additionalData.fraudCheck-48-ChargebackCountByShopper</th>\n",
              "      <th>additionalData.fraudCheck-41-PaymentDetailNonFraudRefCheck</th>\n",
              "      <th>additionalData.avsResult</th>\n",
              "      <th>additionalData.cardSummary</th>\n",
              "      <th>additionalData.fraudCheck-56-ShopperReferenceCheck</th>\n",
              "      <th>additionalData.retry.attempt1.avsResultRaw</th>\n",
              "      <th>additionalData.fraudCheck-79-BinAttackRefCheck</th>\n",
              "      <th>additionalData.fraudCheck-65-EmailDomainRefCheck</th>\n",
              "      <th>additionalData.fraudCheck-15-IssuingCountryReferral</th>\n",
              "      <th>additionalData.billingAddress.street</th>\n",
              "      <th>additionalData.fraudCheck-47-BlockedCardsUsageByShopper</th>\n",
              "      <th>additionalData.cavvAlgorithm</th>\n",
              "      <th>additionalData.metadata.shopper_riide_id</th>\n",
              "      <th>additionalData.fraudCheck-85-ShopperFraudRefusalsCheck</th>\n",
              "      <th>additionalData.billingAddress.city</th>\n",
              "      <th>...</th>\n",
              "      <th>additionalData.recurring.recurringDetailReference</th>\n",
              "      <th>additionalData.fraudCheck-2-CardChunkUsage</th>\n",
              "      <th>additionalData.fraudCheck-3-PaymentDetailUsage</th>\n",
              "      <th>additionalData.recurring.shopperReference</th>\n",
              "      <th>additionalData.fraudCheck-55-ShopperAuthorisedFrequency</th>\n",
              "      <th>additionalData.fraudCheck-4-HolderNameUsage</th>\n",
              "      <th>additionalData.cvcResultRaw</th>\n",
              "      <th>additionalData.accountValidation</th>\n",
              "      <th>additionalData.cardIssuingCurrency</th>\n",
              "      <th>additionalData.riskProfile</th>\n",
              "      <th>additionalData.riskProfileReference</th>\n",
              "      <th>additionalData.cardIssuingCountry</th>\n",
              "      <th>additionalData.cardIssuingBank</th>\n",
              "      <th>additionalData.cardPaymentMethod</th>\n",
              "      <th>additionalData.riskdata.luhnOkCount</th>\n",
              "      <th>additionalData.riskdata.numberFieldKeyCount</th>\n",
              "      <th>additionalData.riskdata.referrer</th>\n",
              "      <th>additionalData.riskdata.luhnCount</th>\n",
              "      <th>additionalData.riskdata.LuhnSameLengthCount</th>\n",
              "      <th>additionalData.riskdata.numberFieldFocusCount</th>\n",
              "      <th>additionalData.riskdata.initializeCount</th>\n",
              "      <th>additionalData.metadata.link_id</th>\n",
              "      <th>additionalData.riskdata.numberFieldClickCount</th>\n",
              "      <th>additionalData.fraudCheck-78-ShopperBehaviorCheck</th>\n",
              "      <th>additionalData.riskdata.numberFieldLog</th>\n",
              "      <th>additionalData.retry.attempt2.avsResultRaw</th>\n",
              "      <th>additionalData.retry.attempt2.rawResponse</th>\n",
              "      <th>additionalData.retry.attempt2.acquirerAccount</th>\n",
              "      <th>additionalData.retry.attempt2.acquirer</th>\n",
              "      <th>additionalData.metadata.caboodle_base_uri</th>\n",
              "      <th>additionalData.retry.attempt2.responseCode</th>\n",
              "      <th>additionalData.metadata.restaurant_id</th>\n",
              "      <th>additionalData.threeDSVersion</th>\n",
              "      <th>additionalData.fraudCheck--1-Pre-Auth-Risk-Total</th>\n",
              "      <th>additionalData.coBrandedWith</th>\n",
              "      <th>additionalData.riskdata.numberFieldBlurCount</th>\n",
              "      <th>additionalData.riskdata.numberFieldEventHandlers</th>\n",
              "      <th>additionalData.riskdata.numberFieldUnknownKeys</th>\n",
              "      <th>additionalData.authorisedAmountCurrency</th>\n",
              "      <th>additionalData.authorisedAmountValue</th>\n",
              "    </tr>\n",
              "  </thead>\n",
              "  <tbody>\n",
              "    <tr>\n",
              "      <th>7442</th>\n",
              "      <td>1339042492547347</td>\n",
              "      <td>1</td>\n",
              "      <td>AUTHORISATION</td>\n",
              "      <td>2020-11-01T17:47:34+01:00</td>\n",
              "      <td>RiideCompMP</td>\n",
              "      <td>PT_5f9ee6a5e2e34</td>\n",
              "      <td>[CANCEL, CAPTURE, REFUND]</td>\n",
              "      <td>visa</td>\n",
              "      <td>1339042492547347</td>\n",
              "      <td>362664:2412:01/2021</td>\n",
              "      <td>true</td>\n",
              "      <td>0</td>\n",
              "      <td>visastandarddebit</td>\n",
              "      <td>NaN</td>\n",
              "      <td>NaN</td>\n",
              "      <td>NaN</td>\n",
              "      <td>Mobile</td>\n",
              "      <td>ALI NA</td>\n",
              "      <td>NaN</td>\n",
              "      <td>false</td>\n",
              "      <td>NaN</td>\n",
              "      <td>0</td>\n",
              "      <td>0</td>\n",
              "      <td>NaN</td>\n",
              "      <td>ADT Taxis B38687360</td>\n",
              "      <td>0</td>\n",
              "      <td>0</td>\n",
              "      <td>0 Unknown</td>\n",
              "      <td>2412</td>\n",
              "      <td>0</td>\n",
              "      <td>None</td>\n",
              "      <td>0</td>\n",
              "      <td>NaN</td>\n",
              "      <td>0</td>\n",
              "      <td>NaN</td>\n",
              "      <td>0</td>\n",
              "      <td>N/A</td>\n",
              "      <td>NaN</td>\n",
              "      <td>0</td>\n",
              "      <td>NaN</td>\n",
              "      <td>...</td>\n",
              "      <td>2919042492543672</td>\n",
              "      <td>0</td>\n",
              "      <td>0</td>\n",
              "      <td>J_1_production_1834453</td>\n",
              "      <td>0</td>\n",
              "      <td>0</td>\n",
              "      <td>M</td>\n",
              "      <td>NaN</td>\n",
              "      <td>NaN</td>\n",
              "      <td>NaN</td>\n",
              "      <td>NaN</td>\n",
              "      <td>NaN</td>\n",
              "      <td>NaN</td>\n",
              "      <td>NaN</td>\n",
              "      <td>1</td>\n",
              "      <td>NaN</td>\n",
              "      <td>https://checkoutshopper-live.adyen.com/checkou...</td>\n",
              "      <td>1</td>\n",
              "      <td>1</td>\n",
              "      <td>4</td>\n",
              "      <td>1</td>\n",
              "      <td>LINK_5f9ee600abd57</td>\n",
              "      <td>2</td>\n",
              "      <td>0</td>\n",
              "      <td>Ts@11,fo@11,Te@11,fo@12,cl@12,bl@35,fo@87,fo@8...</td>\n",
              "      <td>NaN</td>\n",
              "      <td>NaN</td>\n",
              "      <td>NaN</td>\n",
              "      <td>NaN</td>\n",
              "      <td>NaN</td>\n",
              "      <td>NaN</td>\n",
              "      <td>NaN</td>\n",
              "      <td>NaN</td>\n",
              "      <td>NaN</td>\n",
              "      <td>NaN</td>\n",
              "      <td>1</td>\n",
              "      <td>NaN</td>\n",
              "      <td>NaN</td>\n",
              "      <td>NaN</td>\n",
              "      <td>NaN</td>\n",
              "    </tr>\n",
              "    <tr>\n",
              "      <th>8005</th>\n",
              "      <td>4536022717461602</td>\n",
              "      <td>1</td>\n",
              "      <td>AUTHORISATION</td>\n",
              "      <td>2020-10-09T21:29:06+02:00</td>\n",
              "      <td>RiideCompMP</td>\n",
              "      <td>FINAL_PAYMENT_30946659</td>\n",
              "      <td>[CANCEL, CAPTURE, REFUND]</td>\n",
              "      <td>visa</td>\n",
              "      <td>4536022717461602</td>\n",
              "      <td>004332:8213:10/2022</td>\n",
              "      <td>true</td>\n",
              "      <td>0</td>\n",
              "      <td>visastandarddebit</td>\n",
              "      <td>001</td>\n",
              "      <td>NaN</td>\n",
              "      <td>33.0.1359</td>\n",
              "      <td>Other</td>\n",
              "      <td>Mina Scuderi</td>\n",
              "      <td>0</td>\n",
              "      <td>false</td>\n",
              "      <td>justmina72@gmail.com</td>\n",
              "      <td>0</td>\n",
              "      <td>0</td>\n",
              "      <td>NaN</td>\n",
              "      <td>B38394807 001 Taxis</td>\n",
              "      <td>0</td>\n",
              "      <td>0</td>\n",
              "      <td>0 Unknown</td>\n",
              "      <td>8213</td>\n",
              "      <td>0</td>\n",
              "      <td>None</td>\n",
              "      <td>0</td>\n",
              "      <td>0</td>\n",
              "      <td>0</td>\n",
              "      <td>NaN</td>\n",
              "      <td>0</td>\n",
              "      <td>N/A</td>\n",
              "      <td>619139</td>\n",
              "      <td>0</td>\n",
              "      <td>NaN</td>\n",
              "      <td>...</td>\n",
              "      <td>NaN</td>\n",
              "      <td>NaN</td>\n",
              "      <td>NaN</td>\n",
              "      <td>NaN</td>\n",
              "      <td>NaN</td>\n",
              "      <td>NaN</td>\n",
              "      <td>NaN</td>\n",
              "      <td>NaN</td>\n",
              "      <td>NaN</td>\n",
              "      <td>NaN</td>\n",
              "      <td>NaN</td>\n",
              "      <td>NaN</td>\n",
              "      <td>NaN</td>\n",
              "      <td>NaN</td>\n",
              "      <td>NaN</td>\n",
              "      <td>NaN</td>\n",
              "      <td>NaN</td>\n",
              "      <td>NaN</td>\n",
              "      <td>NaN</td>\n",
              "      <td>NaN</td>\n",
              "      <td>NaN</td>\n",
              "      <td>NaN</td>\n",
              "      <td>NaN</td>\n",
              "      <td>NaN</td>\n",
              "      <td>NaN</td>\n",
              "      <td>NaN</td>\n",
              "      <td>NaN</td>\n",
              "      <td>NaN</td>\n",
              "      <td>NaN</td>\n",
              "      <td>NaN</td>\n",
              "      <td>NaN</td>\n",
              "      <td>NaN</td>\n",
              "      <td>NaN</td>\n",
              "      <td>NaN</td>\n",
              "      <td>NaN</td>\n",
              "      <td>NaN</td>\n",
              "      <td>NaN</td>\n",
              "      <td>NaN</td>\n",
              "      <td>NaN</td>\n",
              "      <td>NaN</td>\n",
              "    </tr>\n",
              "    <tr>\n",
              "      <th>10206</th>\n",
              "      <td>6129037293180028</td>\n",
              "      <td>1</td>\n",
              "      <td>AUTHORISATION</td>\n",
              "      <td>2020-10-26T17:21:58+01:00</td>\n",
              "      <td>RiideCompMP</td>\n",
              "      <td>FINAL_PAYMENT_31782041</td>\n",
              "      <td>[CANCEL, CAPTURE, REFUND]</td>\n",
              "      <td>visa</td>\n",
              "      <td>6129037293180028</td>\n",
              "      <td>039158:8013:08/2023</td>\n",
              "      <td>true</td>\n",
              "      <td>0</td>\n",
              "      <td>visastandarddebit</td>\n",
              "      <td>skyline</td>\n",
              "      <td>ZZ</td>\n",
              "      <td>333.0.705</td>\n",
              "      <td>Other</td>\n",
              "      <td>jacob akh</td>\n",
              "      <td>0</td>\n",
              "      <td>false</td>\n",
              "      <td>bello@gmmalo.com</td>\n",
              "      <td>0</td>\n",
              "      <td>0</td>\n",
              "      <td>Z</td>\n",
              "      <td>Skyline Taxis B18227831</td>\n",
              "      <td>0</td>\n",
              "      <td>0</td>\n",
              "      <td>6 Postal code matches, address doesn't match</td>\n",
              "      <td>8013</td>\n",
              "      <td>0</td>\n",
              "      <td>Z</td>\n",
              "      <td>0</td>\n",
              "      <td>0</td>\n",
              "      <td>0</td>\n",
              "      <td>-</td>\n",
              "      <td>0</td>\n",
              "      <td>N/A</td>\n",
              "      <td>1809104</td>\n",
              "      <td>0</td>\n",
              "      <td>-</td>\n",
              "      <td>...</td>\n",
              "      <td>NaN</td>\n",
              "      <td>NaN</td>\n",
              "      <td>NaN</td>\n",
              "      <td>NaN</td>\n",
              "      <td>NaN</td>\n",
              "      <td>NaN</td>\n",
              "      <td>NaN</td>\n",
              "      <td>NaN</td>\n",
              "      <td>NaN</td>\n",
              "      <td>NaN</td>\n",
              "      <td>NaN</td>\n",
              "      <td>NaN</td>\n",
              "      <td>NaN</td>\n",
              "      <td>NaN</td>\n",
              "      <td>NaN</td>\n",
              "      <td>NaN</td>\n",
              "      <td>NaN</td>\n",
              "      <td>NaN</td>\n",
              "      <td>NaN</td>\n",
              "      <td>NaN</td>\n",
              "      <td>NaN</td>\n",
              "      <td>NaN</td>\n",
              "      <td>NaN</td>\n",
              "      <td>NaN</td>\n",
              "      <td>NaN</td>\n",
              "      <td>NaN</td>\n",
              "      <td>NaN</td>\n",
              "      <td>NaN</td>\n",
              "      <td>NaN</td>\n",
              "      <td>NaN</td>\n",
              "      <td>NaN</td>\n",
              "      <td>NaN</td>\n",
              "      <td>NaN</td>\n",
              "      <td>NaN</td>\n",
              "      <td>NaN</td>\n",
              "      <td>NaN</td>\n",
              "      <td>NaN</td>\n",
              "      <td>NaN</td>\n",
              "      <td>NaN</td>\n",
              "      <td>NaN</td>\n",
              "    </tr>\n",
              "    <tr>\n",
              "      <th>13520</th>\n",
              "      <td>1739023179975908</td>\n",
              "      <td>1</td>\n",
              "      <td>AUTHORISATION</td>\n",
              "      <td>2020-10-10T10:19:57+02:00</td>\n",
              "      <td>RiideCompMP</td>\n",
              "      <td>FINAL_PAYMENT_30971458</td>\n",
              "      <td>[CANCEL, CAPTURE, REFUND]</td>\n",
              "      <td>visa</td>\n",
              "      <td>1739023179975908</td>\n",
              "      <td>398130:0415:11/2021</td>\n",
              "      <td>true</td>\n",
              "      <td>0</td>\n",
              "      <td>visastandarddebit</td>\n",
              "      <td>citytaxi</td>\n",
              "      <td>ZZ</td>\n",
              "      <td>33.0.1359</td>\n",
              "      <td>Other</td>\n",
              "      <td>Damilola  Ijasusi</td>\n",
              "      <td>0</td>\n",
              "      <td>false</td>\n",
              "      <td>dammycobson@yahoo.co.uk</td>\n",
              "      <td>0</td>\n",
              "      <td>0</td>\n",
              "      <td>Z</td>\n",
              "      <td>B35193968 City Taxis</td>\n",
              "      <td>0</td>\n",
              "      <td>0</td>\n",
              "      <td>6 Postal code matches, address doesnt match</td>\n",
              "      <td>0415</td>\n",
              "      <td>0</td>\n",
              "      <td>Z</td>\n",
              "      <td>0</td>\n",
              "      <td>0</td>\n",
              "      <td>0</td>\n",
              "      <td>-</td>\n",
              "      <td>0</td>\n",
              "      <td>N/A</td>\n",
              "      <td>716096</td>\n",
              "      <td>0</td>\n",
              "      <td>-</td>\n",
              "      <td>...</td>\n",
              "      <td>NaN</td>\n",
              "      <td>NaN</td>\n",
              "      <td>NaN</td>\n",
              "      <td>NaN</td>\n",
              "      <td>NaN</td>\n",
              "      <td>NaN</td>\n",
              "      <td>NaN</td>\n",
              "      <td>NaN</td>\n",
              "      <td>NaN</td>\n",
              "      <td>NaN</td>\n",
              "      <td>NaN</td>\n",
              "      <td>NaN</td>\n",
              "      <td>NaN</td>\n",
              "      <td>NaN</td>\n",
              "      <td>NaN</td>\n",
              "      <td>NaN</td>\n",
              "      <td>NaN</td>\n",
              "      <td>NaN</td>\n",
              "      <td>NaN</td>\n",
              "      <td>NaN</td>\n",
              "      <td>NaN</td>\n",
              "      <td>NaN</td>\n",
              "      <td>NaN</td>\n",
              "      <td>NaN</td>\n",
              "      <td>NaN</td>\n",
              "      <td>NaN</td>\n",
              "      <td>NaN</td>\n",
              "      <td>NaN</td>\n",
              "      <td>NaN</td>\n",
              "      <td>NaN</td>\n",
              "      <td>NaN</td>\n",
              "      <td>NaN</td>\n",
              "      <td>NaN</td>\n",
              "      <td>NaN</td>\n",
              "      <td>NaN</td>\n",
              "      <td>NaN</td>\n",
              "      <td>NaN</td>\n",
              "      <td>NaN</td>\n",
              "      <td>NaN</td>\n",
              "      <td>NaN</td>\n",
              "    </tr>\n",
              "    <tr>\n",
              "      <th>16295</th>\n",
              "      <td>1326025778684954</td>\n",
              "      <td>1</td>\n",
              "      <td>AUTHORISATION</td>\n",
              "      <td>2020-10-13T10:31:08+02:00</td>\n",
              "      <td>RiideCompMP</td>\n",
              "      <td>FINAL_PAYMENT_31126449</td>\n",
              "      <td>[CANCEL, CAPTURE, REFUND]</td>\n",
              "      <td>visa</td>\n",
              "      <td>1326025778684954</td>\n",
              "      <td>051108:3011:03/2022</td>\n",
              "      <td>true</td>\n",
              "      <td>0</td>\n",
              "      <td>visastandarddebit</td>\n",
              "      <td>skyline</td>\n",
              "      <td>ZZ</td>\n",
              "      <td>33.0.1359</td>\n",
              "      <td>Other</td>\n",
              "      <td>Nellie Fontanilla</td>\n",
              "      <td>0</td>\n",
              "      <td>false</td>\n",
              "      <td>nsfontanilla@hotmail.com</td>\n",
              "      <td>0</td>\n",
              "      <td>0</td>\n",
              "      <td>Z</td>\n",
              "      <td>B18062431 Skyline Taxi</td>\n",
              "      <td>0</td>\n",
              "      <td>0</td>\n",
              "      <td>6 Postal code matches, address doesnt match</td>\n",
              "      <td>3011</td>\n",
              "      <td>0</td>\n",
              "      <td>Z</td>\n",
              "      <td>0</td>\n",
              "      <td>0</td>\n",
              "      <td>0</td>\n",
              "      <td>-</td>\n",
              "      <td>0</td>\n",
              "      <td>N/A</td>\n",
              "      <td>1741472</td>\n",
              "      <td>0</td>\n",
              "      <td>-</td>\n",
              "      <td>...</td>\n",
              "      <td>NaN</td>\n",
              "      <td>NaN</td>\n",
              "      <td>NaN</td>\n",
              "      <td>NaN</td>\n",
              "      <td>NaN</td>\n",
              "      <td>NaN</td>\n",
              "      <td>NaN</td>\n",
              "      <td>NaN</td>\n",
              "      <td>NaN</td>\n",
              "      <td>NaN</td>\n",
              "      <td>NaN</td>\n",
              "      <td>NaN</td>\n",
              "      <td>NaN</td>\n",
              "      <td>NaN</td>\n",
              "      <td>NaN</td>\n",
              "      <td>NaN</td>\n",
              "      <td>NaN</td>\n",
              "      <td>NaN</td>\n",
              "      <td>NaN</td>\n",
              "      <td>NaN</td>\n",
              "      <td>NaN</td>\n",
              "      <td>NaN</td>\n",
              "      <td>NaN</td>\n",
              "      <td>NaN</td>\n",
              "      <td>NaN</td>\n",
              "      <td>NaN</td>\n",
              "      <td>NaN</td>\n",
              "      <td>NaN</td>\n",
              "      <td>NaN</td>\n",
              "      <td>NaN</td>\n",
              "      <td>NaN</td>\n",
              "      <td>NaN</td>\n",
              "      <td>NaN</td>\n",
              "      <td>NaN</td>\n",
              "      <td>NaN</td>\n",
              "      <td>NaN</td>\n",
              "      <td>NaN</td>\n",
              "      <td>NaN</td>\n",
              "      <td>NaN</td>\n",
              "      <td>NaN</td>\n",
              "    </tr>\n",
              "  </tbody>\n",
              "</table>\n",
              "<p>5 rows × 160 columns</p>\n",
              "</div>"
            ],
            "text/plain": [
              "            external_id  ...  additionalData.authorisedAmountValue\n",
              "7442   1339042492547347  ...                                   NaN\n",
              "8005   4536022717461602  ...                                   NaN\n",
              "10206  6129037293180028  ...                                   NaN\n",
              "13520  1739023179975908  ...                                   NaN\n",
              "16295  1326025778684954  ...                                   NaN\n",
              "\n",
              "[5 rows x 160 columns]"
            ]
          },
          "metadata": {
            "tags": []
          },
          "execution_count": 36
        }
      ]
    },
    {
      "cell_type": "markdown",
      "metadata": {
        "id": "3sDnPjVxLbWv"
      },
      "source": [
        "Dropping continous columns"
      ]
    },
    {
      "cell_type": "code",
      "metadata": {
        "id": "afSbGkbPLdRi"
      },
      "source": [
        "final_df=final_df.rename(columns=lambda x:x.replace('additionalData.',''))"
      ],
      "execution_count": 37,
      "outputs": []
    },
    {
      "cell_type": "code",
      "metadata": {
        "id": "n7GRcv-wMABN",
        "colab": {
          "base_uri": "https://localhost:8080/",
          "height": 260
        },
        "outputId": "00f187e7-6bac-4568-fbf6-517155866c20"
      },
      "source": [
        "final_df.head(1)"
      ],
      "execution_count": 38,
      "outputs": [
        {
          "output_type": "execute_result",
          "data": {
            "text/html": [
              "<div>\n",
              "<style scoped>\n",
              "    .dataframe tbody tr th:only-of-type {\n",
              "        vertical-align: middle;\n",
              "    }\n",
              "\n",
              "    .dataframe tbody tr th {\n",
              "        vertical-align: top;\n",
              "    }\n",
              "\n",
              "    .dataframe thead th {\n",
              "        text-align: right;\n",
              "    }\n",
              "</style>\n",
              "<table border=\"1\" class=\"dataframe\">\n",
              "  <thead>\n",
              "    <tr style=\"text-align: right;\">\n",
              "      <th></th>\n",
              "      <th>external_id</th>\n",
              "      <th>chargeback</th>\n",
              "      <th>eventCode</th>\n",
              "      <th>eventDate</th>\n",
              "      <th>merchantAccountCode</th>\n",
              "      <th>merchantReference</th>\n",
              "      <th>operations</th>\n",
              "      <th>paymentMethod</th>\n",
              "      <th>pspReference</th>\n",
              "      <th>reason</th>\n",
              "      <th>success</th>\n",
              "      <th>fraudCheck-52-DistinctPaymentDetailUsageByShopper</th>\n",
              "      <th>paymentMethodVariant</th>\n",
              "      <th>riskdata.basket.item.brand</th>\n",
              "      <th>billingAddress.country</th>\n",
              "      <th>riskdata.shopperAppVersion</th>\n",
              "      <th>deviceType</th>\n",
              "      <th>metadata.shopper_name</th>\n",
              "      <th>fraudCheck-77-EmailSyntaxCheck</th>\n",
              "      <th>fraudManualReview</th>\n",
              "      <th>shopperEmail</th>\n",
              "      <th>fraudCheck-46-DistinctCountryUsageByShopper</th>\n",
              "      <th>fraudCheck-53-DistinctSharedShopperIpUsageByShopper</th>\n",
              "      <th>avsResultRaw</th>\n",
              "      <th>shopperStatement</th>\n",
              "      <th>fraudCheck-48-ChargebackCountByShopper</th>\n",
              "      <th>fraudCheck-41-PaymentDetailNonFraudRefCheck</th>\n",
              "      <th>avsResult</th>\n",
              "      <th>cardSummary</th>\n",
              "      <th>fraudCheck-56-ShopperReferenceCheck</th>\n",
              "      <th>retry.attempt1.avsResultRaw</th>\n",
              "      <th>fraudCheck-79-BinAttackRefCheck</th>\n",
              "      <th>fraudCheck-65-EmailDomainRefCheck</th>\n",
              "      <th>fraudCheck-15-IssuingCountryReferral</th>\n",
              "      <th>billingAddress.street</th>\n",
              "      <th>fraudCheck-47-BlockedCardsUsageByShopper</th>\n",
              "      <th>cavvAlgorithm</th>\n",
              "      <th>metadata.shopper_riide_id</th>\n",
              "      <th>fraudCheck-85-ShopperFraudRefusalsCheck</th>\n",
              "      <th>billingAddress.city</th>\n",
              "      <th>...</th>\n",
              "      <th>recurring.recurringDetailReference</th>\n",
              "      <th>fraudCheck-2-CardChunkUsage</th>\n",
              "      <th>fraudCheck-3-PaymentDetailUsage</th>\n",
              "      <th>recurring.shopperReference</th>\n",
              "      <th>fraudCheck-55-ShopperAuthorisedFrequency</th>\n",
              "      <th>fraudCheck-4-HolderNameUsage</th>\n",
              "      <th>cvcResultRaw</th>\n",
              "      <th>accountValidation</th>\n",
              "      <th>cardIssuingCurrency</th>\n",
              "      <th>riskProfile</th>\n",
              "      <th>riskProfileReference</th>\n",
              "      <th>cardIssuingCountry</th>\n",
              "      <th>cardIssuingBank</th>\n",
              "      <th>cardPaymentMethod</th>\n",
              "      <th>riskdata.luhnOkCount</th>\n",
              "      <th>riskdata.numberFieldKeyCount</th>\n",
              "      <th>riskdata.referrer</th>\n",
              "      <th>riskdata.luhnCount</th>\n",
              "      <th>riskdata.LuhnSameLengthCount</th>\n",
              "      <th>riskdata.numberFieldFocusCount</th>\n",
              "      <th>riskdata.initializeCount</th>\n",
              "      <th>metadata.link_id</th>\n",
              "      <th>riskdata.numberFieldClickCount</th>\n",
              "      <th>fraudCheck-78-ShopperBehaviorCheck</th>\n",
              "      <th>riskdata.numberFieldLog</th>\n",
              "      <th>retry.attempt2.avsResultRaw</th>\n",
              "      <th>retry.attempt2.rawResponse</th>\n",
              "      <th>retry.attempt2.acquirerAccount</th>\n",
              "      <th>retry.attempt2.acquirer</th>\n",
              "      <th>metadata.caboodle_base_uri</th>\n",
              "      <th>retry.attempt2.responseCode</th>\n",
              "      <th>metadata.restaurant_id</th>\n",
              "      <th>threeDSVersion</th>\n",
              "      <th>fraudCheck--1-Pre-Auth-Risk-Total</th>\n",
              "      <th>coBrandedWith</th>\n",
              "      <th>riskdata.numberFieldBlurCount</th>\n",
              "      <th>riskdata.numberFieldEventHandlers</th>\n",
              "      <th>riskdata.numberFieldUnknownKeys</th>\n",
              "      <th>authorisedAmountCurrency</th>\n",
              "      <th>authorisedAmountValue</th>\n",
              "    </tr>\n",
              "  </thead>\n",
              "  <tbody>\n",
              "    <tr>\n",
              "      <th>0</th>\n",
              "      <td>4346028597600136</td>\n",
              "      <td>0</td>\n",
              "      <td>AUTHORISATION</td>\n",
              "      <td>2020-10-16T16:49:20+02:00</td>\n",
              "      <td>RiideCompMP</td>\n",
              "      <td>PREAUTH_production_1783324</td>\n",
              "      <td>[CANCEL, CAPTURE, REFUND]</td>\n",
              "      <td>visa</td>\n",
              "      <td>4346028597600136</td>\n",
              "      <td>016536:8928:06/2023</td>\n",
              "      <td>true</td>\n",
              "      <td>0</td>\n",
              "      <td>visastandarddebit</td>\n",
              "      <td>asl</td>\n",
              "      <td>ZZ</td>\n",
              "      <td>333.0.705</td>\n",
              "      <td>Other</td>\n",
              "      <td>Jodie littler</td>\n",
              "      <td>0</td>\n",
              "      <td>false</td>\n",
              "      <td>jodielbabie@hotmail.co.uk</td>\n",
              "      <td>0</td>\n",
              "      <td>0</td>\n",
              "      <td>Z</td>\n",
              "      <td>Argyle Satellite Ltd</td>\n",
              "      <td>0</td>\n",
              "      <td>0</td>\n",
              "      <td>6 Postal code matches, address doesnt match</td>\n",
              "      <td>8928</td>\n",
              "      <td>0</td>\n",
              "      <td>Z</td>\n",
              "      <td>0</td>\n",
              "      <td>0</td>\n",
              "      <td>0</td>\n",
              "      <td>-</td>\n",
              "      <td>0</td>\n",
              "      <td>N/A</td>\n",
              "      <td>1691984</td>\n",
              "      <td>0</td>\n",
              "      <td>-</td>\n",
              "      <td>...</td>\n",
              "      <td>NaN</td>\n",
              "      <td>NaN</td>\n",
              "      <td>NaN</td>\n",
              "      <td>NaN</td>\n",
              "      <td>NaN</td>\n",
              "      <td>NaN</td>\n",
              "      <td>NaN</td>\n",
              "      <td>NaN</td>\n",
              "      <td>NaN</td>\n",
              "      <td>NaN</td>\n",
              "      <td>NaN</td>\n",
              "      <td>NaN</td>\n",
              "      <td>NaN</td>\n",
              "      <td>NaN</td>\n",
              "      <td>NaN</td>\n",
              "      <td>NaN</td>\n",
              "      <td>NaN</td>\n",
              "      <td>NaN</td>\n",
              "      <td>NaN</td>\n",
              "      <td>NaN</td>\n",
              "      <td>NaN</td>\n",
              "      <td>NaN</td>\n",
              "      <td>NaN</td>\n",
              "      <td>NaN</td>\n",
              "      <td>NaN</td>\n",
              "      <td>NaN</td>\n",
              "      <td>NaN</td>\n",
              "      <td>NaN</td>\n",
              "      <td>NaN</td>\n",
              "      <td>NaN</td>\n",
              "      <td>NaN</td>\n",
              "      <td>NaN</td>\n",
              "      <td>NaN</td>\n",
              "      <td>NaN</td>\n",
              "      <td>NaN</td>\n",
              "      <td>NaN</td>\n",
              "      <td>NaN</td>\n",
              "      <td>NaN</td>\n",
              "      <td>NaN</td>\n",
              "      <td>NaN</td>\n",
              "    </tr>\n",
              "  </tbody>\n",
              "</table>\n",
              "<p>1 rows × 160 columns</p>\n",
              "</div>"
            ],
            "text/plain": [
              "        external_id  chargeback  ... authorisedAmountCurrency authorisedAmountValue\n",
              "0  4346028597600136           0  ...                      NaN                   NaN\n",
              "\n",
              "[1 rows x 160 columns]"
            ]
          },
          "metadata": {
            "tags": []
          },
          "execution_count": 38
        }
      ]
    },
    {
      "cell_type": "code",
      "metadata": {
        "id": "4DzFTeDA93R-"
      },
      "source": [
        "final_df = final_df.drop( [\n",
        "#dropping few columns with continous data\n",
        "#'pspReference',\n",
        "#'external_id', \n",
        "'metadata.booking_no',\n",
        "'metadata.link_id', \n",
        "'metadata.booking_id',\n",
        "'metadata.payment_id',\n",
        "'acquirerReference',\n",
        "'metadata.type',\n",
        "'PaymentAccountReference',\n",
        "'fraudResultType',\n",
        "'metadata.shopper_riide_id',\n",
        "'metadata.icabbi_payment_id', \n",
        "'metadata.preauth_id',\n",
        "#'metadata.payment_relation_id',\n",
        "'riskProfileReference',\n",
        "#'riskExperimentReference',\n",
        "'cavv','success','riskProfile',\n",
        "'metadata.caboodle_base_uri',\n",
        "'metadata.riide_url',\n",
        "'totalFraudScore',\n",
        "'hmacSignature',\n",
        "'recurring.recurringDetailReference',\n",
        "'authCode',\n",
        "'recurring.shopperReference',\n",
        "'operations',\n",
        "'merchantReference',\n",
        "'retry.attempt1.acquirer',\n",
        "'riskdata.basket.item.itemID',\n",
        "'merchantAccountCode',\n",
        "'riskdata.referrer',\n",
        "'aliasType',\n",
        "#reason has few values as fraud with some numbers\n",
        "'reason',\n",
        "#some wired noise\n",
        "#'metadata.splits',\n",
        "#continous alphnumeric column\n",
        "#'metadata.payment_relation_type' \n",
        "'alias',\n",
        "#'shopperReference',\n",
        "#duplicate column saem as bracd and company\n",
        "'shopperStatement',\n",
        "# useless\n",
        "'fraudManualReview',\n",
        "'cardSummary',\n",
        "'cvcResult',\n",
        "'xid',\n",
        "'cardBin',\n",
        "#app version is not worth exploring i think\n",
        "'riskdata.shopperAppVersion'\n",
        ",'captureDelayHours',\n",
        "'metadata.auto_capture',\n",
        "'billingAddress.street',\n",
        "'billingAddress.city',\n",
        "'billingAddress.houseNumberOrName',\n",
        "'accountValidation',\n",
        "'metadata.restaurant_id',\n",
        "#dropping columns with 3DS\n",
        "'threeDOfferedResponse','threeDAuthenticatedResponse','threeDSVersion',\n",
        "'threeDAuthenticated','threeDOffered'\n",
        "\n",
        "],axis=1)"
      ],
      "execution_count": 39,
      "outputs": []
    },
    {
      "cell_type": "code",
      "metadata": {
        "id": "rEoSU9lWMRsb",
        "colab": {
          "base_uri": "https://localhost:8080/"
        },
        "outputId": "5515b706-dcf9-46d7-8311-bb04b07f42ef"
      },
      "source": [
        "spike_cols = [col for col in final_df.columns if 'splits' in col]\n",
        "print(spike_cols)"
      ],
      "execution_count": 40,
      "outputs": [
        {
          "output_type": "stream",
          "text": [
            "[]\n"
          ],
          "name": "stdout"
        }
      ]
    },
    {
      "cell_type": "markdown",
      "metadata": {
        "id": "CBUthbZhNMDr"
      },
      "source": [
        "Adding Card holder name and shopper name"
      ]
    },
    {
      "cell_type": "code",
      "metadata": {
        "id": "6-bkDsj5NOmj"
      },
      "source": [
        "final_df['shp_card_name_match'] = final_df['cardHolderName'].str.lower() == final_df['metadata.shopper_name'].str.lower()"
      ],
      "execution_count": 41,
      "outputs": []
    },
    {
      "cell_type": "markdown",
      "metadata": {
        "id": "xsys3CGiNYva"
      },
      "source": [
        "Dropping event code"
      ]
    },
    {
      "cell_type": "code",
      "metadata": {
        "id": "PIWT_nnjNaDz"
      },
      "source": [
        "final_df = final_df.drop('eventCode', axis=1)"
      ],
      "execution_count": 42,
      "outputs": []
    },
    {
      "cell_type": "markdown",
      "metadata": {
        "id": "_byPCcJBNpuD"
      },
      "source": [
        "iSCard Commericial"
      ]
    },
    {
      "cell_type": "code",
      "metadata": {
        "id": "W3QyPXEwL5yh"
      },
      "source": [
        "#updating values to all caps for isommercial\n",
        "final_df['isCardCommercial'] = final_df['isCardCommercial'].str.upper() "
      ],
      "execution_count": 43,
      "outputs": []
    },
    {
      "cell_type": "code",
      "metadata": {
        "id": "4ZX9mjfJBD09"
      },
      "source": [
        "from sklearn.preprocessing import LabelEncoder\n",
        "le = LabelEncoder()\n",
        "final_df['cardtype'] = le.fit_transform(final_df['isCardCommercial'].astype(str))"
      ],
      "execution_count": 44,
      "outputs": []
    },
    {
      "cell_type": "markdown",
      "metadata": {
        "id": "an5VUFAuN3tT"
      },
      "source": [
        "Email Domain"
      ]
    },
    {
      "cell_type": "code",
      "metadata": {
        "id": "9PLpO2bDOKF6"
      },
      "source": [
        "final_df['emaildomain'] = final_df['shopperEmail'].str.split('@').str[1].str.upper()"
      ],
      "execution_count": 45,
      "outputs": []
    },
    {
      "cell_type": "code",
      "metadata": {
        "id": "BsUw8b8YTnEA"
      },
      "source": [
        "def label_states (row):\n",
        "    if \"GMAIL\" in row['emaildomain']:\n",
        "        return 'GMAIL'\n",
        "    elif \"GOOGLE\" in row['emaildomain']:\n",
        "        return 'GOOGLE'\n",
        "    elif \"YAHOO\" in row['emaildomain']:\n",
        "        return 'YAHOO'\n",
        "    elif \"HOTMAIL\" in row['emaildomain']:\n",
        "        return \"HOTMAIL\"\n",
        "    elif \"OUTLOOK\" in row['emaildomain']:\n",
        "        return \"OUTLOOK\"\n",
        "    elif \"AOL\" in row['emaildomain']:\n",
        "        return \"AOL\"\n",
        "    elif \"ICLOUD\" in row['emaildomain']:\n",
        "        return \"ICLOUD\"\n",
        "    elif \"LIVE\" in row['emaildomain']:\n",
        "        return \"LIVE\"\n",
        "    elif \"_\" in row['emaildomain']:\n",
        "        return \"MissingValue\"\n",
        "    else:\n",
        "        return 'OTHERS'"
      ],
      "execution_count": 46,
      "outputs": []
    },
    {
      "cell_type": "code",
      "metadata": {
        "id": "xAlvPuKvW264"
      },
      "source": [
        "final_df['emaildomain'] = final_df['emaildomain'].fillna('_')"
      ],
      "execution_count": 47,
      "outputs": []
    },
    {
      "cell_type": "code",
      "metadata": {
        "id": "QSdmcvLEUUo3"
      },
      "source": [
        "final_df['emaildomainlabel'] = final_df.apply(lambda row: label_states(row), axis=1)"
      ],
      "execution_count": 48,
      "outputs": []
    },
    {
      "cell_type": "markdown",
      "metadata": {
        "id": "muQCrV7rOSw6"
      },
      "source": [
        "Validate email"
      ]
    },
    {
      "cell_type": "code",
      "metadata": {
        "id": "47bdpFuTRlro",
        "colab": {
          "base_uri": "https://localhost:8080/"
        },
        "outputId": "c9ac7b35-c10a-4ab1-9e10-3e83cb5296bf"
      },
      "source": [
        "pip install validate_email"
      ],
      "execution_count": 49,
      "outputs": [
        {
          "output_type": "stream",
          "text": [
            "Collecting validate_email\n",
            "  Downloading https://files.pythonhosted.org/packages/84/a0/cb53fb64b52123513d04f9b913b905f3eb6fda7264e639b4573cc715c29f/validate_email-1.3.tar.gz\n",
            "Building wheels for collected packages: validate-email\n",
            "  Building wheel for validate-email (setup.py) ... \u001b[?25l\u001b[?25hdone\n",
            "  Created wheel for validate-email: filename=validate_email-1.3-cp37-none-any.whl size=5461 sha256=9ba1861151968dddf390089321f2dc5d03b6d566d3dcbcefe3ed9901c2c6ee24\n",
            "  Stored in directory: /root/.cache/pip/wheels/14/46/e7/4a2edb0d03a802cb59a75668734c04cceacdd6c0c585448773\n",
            "Successfully built validate-email\n",
            "Installing collected packages: validate-email\n",
            "Successfully installed validate-email-1.3\n"
          ],
          "name": "stdout"
        }
      ]
    },
    {
      "cell_type": "code",
      "metadata": {
        "id": "SNrv0ejgRylf"
      },
      "source": [
        "from validate_email import validate_email"
      ],
      "execution_count": 50,
      "outputs": []
    },
    {
      "cell_type": "code",
      "metadata": {
        "id": "bMcry5DDTDP3"
      },
      "source": [
        "final_df['email_is_valid'] = final_df['shopperEmail'].astype(str).apply(lambda x: validate_email(x))"
      ],
      "execution_count": 51,
      "outputs": []
    },
    {
      "cell_type": "markdown",
      "metadata": {
        "id": "uq_v_mqnOeIf"
      },
      "source": [
        "Shopper Account Creation Date"
      ]
    },
    {
      "cell_type": "code",
      "metadata": {
        "id": "UzXaXk-1fG6G"
      },
      "source": [
        "final_df[\"AccountCreationDate\"] = final_df[\"riskdata.shopperAccountCreationDate\"].astype(\"datetime64\")"
      ],
      "execution_count": 52,
      "outputs": []
    },
    {
      "cell_type": "code",
      "metadata": {
        "id": "1WOCbjnAefQu"
      },
      "source": [
        "#how long shopper has been with us\n",
        "from datetime import date\n",
        "import numpy as np\n",
        "now = date.today()\n",
        "final_df['ageyear'] = (pd.to_datetime('now') - pd.to_datetime(final_df['AccountCreationDate'])) / np.timedelta64(1, 'Y')\n",
        "final_df['agemonth'] = (pd.to_datetime('now') - pd.to_datetime(final_df['AccountCreationDate'])) / np.timedelta64(1, 'M')\n",
        "final_df['agedays'] = (pd.to_datetime('now') - pd.to_datetime(final_df['AccountCreationDate'])) / np.timedelta64(1, 'D')"
      ],
      "execution_count": 53,
      "outputs": []
    },
    {
      "cell_type": "markdown",
      "metadata": {
        "id": "o57_5qpmOxlr"
      },
      "source": [
        "Expiry date"
      ]
    },
    {
      "cell_type": "code",
      "metadata": {
        "id": "36IDqgB_lMd-"
      },
      "source": [
        "final_df['expiryyear'] = final_df['expiryDate'].str.split('/').str[1]"
      ],
      "execution_count": 54,
      "outputs": []
    },
    {
      "cell_type": "code",
      "metadata": {
        "id": "dsfJ0Fti5ZXz"
      },
      "source": [
        "from datetime import datetime"
      ],
      "execution_count": 55,
      "outputs": []
    },
    {
      "cell_type": "code",
      "metadata": {
        "id": "FB44GLu57xj1",
        "colab": {
          "base_uri": "https://localhost:8080/"
        },
        "outputId": "8b23ee3a-f492-4bb2-fb59-0df63ad52f42"
      },
      "source": [
        "final_df.expiryDate[final_df.expiryDate=='00/0000'] = ''"
      ],
      "execution_count": 56,
      "outputs": [
        {
          "output_type": "stream",
          "text": [
            "/usr/local/lib/python3.7/dist-packages/ipykernel_launcher.py:1: SettingWithCopyWarning: \n",
            "A value is trying to be set on a copy of a slice from a DataFrame\n",
            "\n",
            "See the caveats in the documentation: https://pandas.pydata.org/pandas-docs/stable/user_guide/indexing.html#returning-a-view-versus-a-copy\n",
            "  \"\"\"Entry point for launching an IPython kernel.\n"
          ],
          "name": "stderr"
        }
      ]
    },
    {
      "cell_type": "code",
      "metadata": {
        "id": "7oPteeDt8Q9r",
        "colab": {
          "base_uri": "https://localhost:8080/"
        },
        "outputId": "b4f580b4-21c5-47a2-dbec-0cc7383360af"
      },
      "source": [
        "final_df.expiryDate[final_df.expiryDate==''] = '01/9999'"
      ],
      "execution_count": 57,
      "outputs": [
        {
          "output_type": "stream",
          "text": [
            "/usr/local/lib/python3.7/dist-packages/ipykernel_launcher.py:1: SettingWithCopyWarning: \n",
            "A value is trying to be set on a copy of a slice from a DataFrame\n",
            "\n",
            "See the caveats in the documentation: https://pandas.pydata.org/pandas-docs/stable/user_guide/indexing.html#returning-a-view-versus-a-copy\n",
            "  \"\"\"Entry point for launching an IPython kernel.\n"
          ],
          "name": "stderr"
        }
      ]
    },
    {
      "cell_type": "code",
      "metadata": {
        "id": "AVJWwU4p5-fr"
      },
      "source": [
        "final_df['cardexdate'] =  final_df['expiryDate'].apply(lambda x:datetime.strptime(x,'%m/%Y'))"
      ],
      "execution_count": 58,
      "outputs": []
    },
    {
      "cell_type": "code",
      "metadata": {
        "id": "ncGGlSwS4IJW"
      },
      "source": [
        "final_df['howlongtillcardExpiry'] = (pd.to_datetime(final_df['cardexdate'],errors = 'coerce') - pd.to_datetime(final_df['AccountCreationDate'],errors = 'coerce')) / np.timedelta64(1, 'M')"
      ],
      "execution_count": 59,
      "outputs": []
    },
    {
      "cell_type": "code",
      "metadata": {
        "id": "EqKobTwTDJnv"
      },
      "source": [
        "final_df['howlongtillcardExpiry'] = round(final_df['howlongtillcardExpiry']).fillna(0).astype(int)"
      ],
      "execution_count": 60,
      "outputs": []
    },
    {
      "cell_type": "markdown",
      "metadata": {
        "id": "aU2iGFMbPTUT"
      },
      "source": [
        "Trying time of the date for Event Date"
      ]
    },
    {
      "cell_type": "code",
      "metadata": {
        "id": "e3hbACeorvH1",
        "colab": {
          "base_uri": "https://localhost:8080/"
        },
        "outputId": "dbe1292f-5e0b-4e7b-ccc8-75eb895cc98e"
      },
      "source": [
        "pip install ciso8601\n"
      ],
      "execution_count": 61,
      "outputs": [
        {
          "output_type": "stream",
          "text": [
            "Collecting ciso8601\n",
            "  Downloading https://files.pythonhosted.org/packages/2c/da/626910cf8aca7ed2d5b34355eee8aeaaeb6ddd4e16f98d00a9e2ddad3a08/ciso8601-2.1.3.tar.gz\n",
            "Building wheels for collected packages: ciso8601\n",
            "  Building wheel for ciso8601 (setup.py) ... \u001b[?25l\u001b[?25hdone\n",
            "  Created wheel for ciso8601: filename=ciso8601-2.1.3-cp37-cp37m-linux_x86_64.whl size=29074 sha256=177b16be59be92662d07d3bddfb193097f9330050f4a3f322c8901b4dcfad9a4\n",
            "  Stored in directory: /root/.cache/pip/wheels/eb/32/e4/13bdaf7e245f82667b21e0cfb03d21224691a47fa9f9bc80a6\n",
            "Successfully built ciso8601\n",
            "Installing collected packages: ciso8601\n",
            "Successfully installed ciso8601-2.1.3\n"
          ],
          "name": "stdout"
        }
      ]
    },
    {
      "cell_type": "code",
      "metadata": {
        "id": "hPsA2c91rtTU"
      },
      "source": [
        "import ciso8601"
      ],
      "execution_count": 62,
      "outputs": []
    },
    {
      "cell_type": "code",
      "metadata": {
        "id": "Rrv-u_z40e0C"
      },
      "source": [
        "final_df['transdate'] = final_df['eventDate'].apply(lambda x:ciso8601.parse_datetime(x).strftime(\"%Y-%m-%d\"))"
      ],
      "execution_count": 63,
      "outputs": []
    },
    {
      "cell_type": "code",
      "metadata": {
        "id": "Yo_qXzgw09Xj"
      },
      "source": [
        "#getting hour of the transaction date\n",
        "final_df['transtime'] = final_df['eventDate'].apply(lambda x:ciso8601.parse_datetime(x).hour)"
      ],
      "execution_count": 64,
      "outputs": []
    },
    {
      "cell_type": "code",
      "metadata": {
        "id": "zG9E8rcHZ1gH"
      },
      "source": [
        "#getting day of the transaction date\n",
        "final_df['transweekday'] = final_df['eventDate'].apply(lambda x:ciso8601.parse_datetime(x).weekday())"
      ],
      "execution_count": 65,
      "outputs": []
    },
    {
      "cell_type": "code",
      "metadata": {
        "id": "Wk57AT5paLeY"
      },
      "source": [
        "#getting month day of the transaction date\n",
        "final_df['transmonthday'] = final_df['eventDate'].apply(lambda x:ciso8601.parse_datetime(x).day)"
      ],
      "execution_count": 66,
      "outputs": []
    },
    {
      "cell_type": "code",
      "metadata": {
        "id": "rf6D-XGXCyna"
      },
      "source": [
        "final_df['transyear'] = final_df['eventDate'].apply(lambda x:ciso8601.parse_datetime(x).year)"
      ],
      "execution_count": 67,
      "outputs": []
    },
    {
      "cell_type": "markdown",
      "metadata": {
        "id": "9S21YmhGPsZr"
      },
      "source": [
        "Account creation date and transaction date relation"
      ]
    },
    {
      "cell_type": "code",
      "metadata": {
        "id": "_3N579k6Dq6o"
      },
      "source": [
        "final_df['ageyear_trans'] = round((pd.to_datetime(final_df['transdate']) - pd.to_datetime(final_df['AccountCreationDate'])) / np.timedelta64(1, 'Y')).astype('Int64')\n",
        "final_df['agemonth_trans'] = round((pd.to_datetime(final_df['transdate']) - pd.to_datetime(final_df['AccountCreationDate'])) / np.timedelta64(1, 'M')).astype('Int64')\n",
        "final_df['agedays_trans'] = round((pd.to_datetime(final_df['transdate']) - pd.to_datetime(final_df['AccountCreationDate'])) / np.timedelta64(1, 'D')).astype('Int64')"
      ],
      "execution_count": 68,
      "outputs": []
    },
    {
      "cell_type": "code",
      "metadata": {
        "id": "5lRRb-EvJFRx"
      },
      "source": [
        "final_df['agedays_trans'] =final_df['agedays_trans'].fillna(000)"
      ],
      "execution_count": 69,
      "outputs": []
    },
    {
      "cell_type": "code",
      "metadata": {
        "id": "AjQPUQm6Jqvg"
      },
      "source": [
        "final_df['agemonth_trans'] =final_df['agemonth_trans'].fillna(000)"
      ],
      "execution_count": 70,
      "outputs": []
    },
    {
      "cell_type": "markdown",
      "metadata": {
        "id": "m9io-giwQFUO"
      },
      "source": [
        "Amount"
      ]
    },
    {
      "cell_type": "code",
      "metadata": {
        "id": "rh8F0oOVQGWH"
      },
      "source": [
        "final_df['amount.value'] = final_df['amount.value'].astype(float)\n",
        "final_df['authorisedAmountValue'] = final_df['authorisedAmountValue'].astype(float)"
      ],
      "execution_count": 71,
      "outputs": []
    },
    {
      "cell_type": "code",
      "metadata": {
        "id": "F85kltV1Ft-1"
      },
      "source": [
        "final_df['amount'] = final_df['amount.value']"
      ],
      "execution_count": 72,
      "outputs": []
    },
    {
      "cell_type": "code",
      "metadata": {
        "id": "IfCk0mNTFy3k"
      },
      "source": [
        "final_df['amount']=final_df['amount'].fillna(0)"
      ],
      "execution_count": 73,
      "outputs": []
    },
    {
      "cell_type": "code",
      "metadata": {
        "id": "Ub-K_DCPHd_C"
      },
      "source": [
        "final_df['amount']=final_df['amount'].apply(np.log)"
      ],
      "execution_count": 74,
      "outputs": []
    },
    {
      "cell_type": "code",
      "metadata": {
        "id": "r2_6f3GQQdlc"
      },
      "source": [
        "final_df['amount'] = final_df['amount'].replace(-np.inf, np.nan)"
      ],
      "execution_count": 75,
      "outputs": []
    },
    {
      "cell_type": "markdown",
      "metadata": {
        "id": "ORhFLL4bQnaL"
      },
      "source": [
        "Device Type"
      ]
    },
    {
      "cell_type": "code",
      "metadata": {
        "id": "cDYo7Z2lhRqF"
      },
      "source": [
        "def label_devicetype(row):\n",
        "    if row['riskdata.shopperDevice'].isdigit():\n",
        "        return 'NameOnlyDigit'\n",
        "    elif \"ARMOR\" in row['riskdata.shopperDevice']:\n",
        "        return 'ARMOR'\n",
        "    elif \"IPAD\" in row['riskdata.shopperDevice']:\n",
        "        return 'IPAD'\n",
        "    elif \"IPHONE12\" in row['riskdata.shopperDevice']:\n",
        "        return \"IPHONE12\"\n",
        "    elif \"IPHONE11\" in row['riskdata.shopperDevice']:\n",
        "        return \"IPHONE11\"\n",
        "    elif \"IPHONE11\" in row['riskdata.shopperDevice']:\n",
        "        return \"IPHONE11\"\n",
        "    elif \"IPHONE10\" in row['riskdata.shopperDevice']:\n",
        "        return \"IPHONE10\"\n",
        "    elif \"IPHONE9\" in row['riskdata.shopperDevice']:\n",
        "        return \"IPHONE9\"\n",
        "    elif \"IPHONE8\" in row['riskdata.shopperDevice']:\n",
        "        return \"IPHONE8\"\n",
        "    elif \"IPHONE\" in row['riskdata.shopperDevice']:\n",
        "        return \"SomeKindOfIPHONE\"\n",
        "    elif \"ONEPLUS\" in row['riskdata.shopperDevice']:\n",
        "        return \"ONEPLUS\"\n",
        "    elif \"_\" in row['riskdata.shopperDevice']:\n",
        "        return \"MissingValue\"\n",
        "    else:\n",
        "        return 'OTHERS'"
      ],
      "execution_count": 76,
      "outputs": []
    },
    {
      "cell_type": "code",
      "metadata": {
        "id": "aAadk2_XlPrU"
      },
      "source": [
        "final_df['riskdata.shopperDevice'] = final_df['riskdata.shopperDevice'].fillna('_')"
      ],
      "execution_count": 77,
      "outputs": []
    },
    {
      "cell_type": "code",
      "metadata": {
        "id": "3fCBclVXlPre"
      },
      "source": [
        "final_df['shopperDevicebin'] = final_df.apply(lambda row: label_devicetype(row.str.upper()), axis=1) "
      ],
      "execution_count": 78,
      "outputs": []
    },
    {
      "cell_type": "markdown",
      "metadata": {
        "id": "UoGRtPsFRWxt"
      },
      "source": [
        "Billing address postal code"
      ]
    },
    {
      "cell_type": "code",
      "metadata": {
        "id": "U-fwZuqWve0X",
        "colab": {
          "base_uri": "https://localhost:8080/"
        },
        "outputId": "10105422-e164-4ed0-e111-fe546d94e06d"
      },
      "source": [
        "pip install pgeocode"
      ],
      "execution_count": 79,
      "outputs": [
        {
          "output_type": "stream",
          "text": [
            "Collecting pgeocode\n",
            "  Downloading https://files.pythonhosted.org/packages/35/88/688b8550ceeed59a4b0be3f54d2ad8075ce708b5d5c0b0ec1a3abe58d4cb/pgeocode-0.3.0-py3-none-any.whl\n",
            "Requirement already satisfied: pandas in /usr/local/lib/python3.7/dist-packages (from pgeocode) (1.1.5)\n",
            "Requirement already satisfied: numpy in /usr/local/lib/python3.7/dist-packages (from pgeocode) (1.19.5)\n",
            "Requirement already satisfied: requests in /usr/local/lib/python3.7/dist-packages (from pgeocode) (2.23.0)\n",
            "Requirement already satisfied: pytz>=2017.2 in /usr/local/lib/python3.7/dist-packages (from pandas->pgeocode) (2018.9)\n",
            "Requirement already satisfied: python-dateutil>=2.7.3 in /usr/local/lib/python3.7/dist-packages (from pandas->pgeocode) (2.8.1)\n",
            "Requirement already satisfied: idna<3,>=2.5 in /usr/local/lib/python3.7/dist-packages (from requests->pgeocode) (2.10)\n",
            "Requirement already satisfied: urllib3!=1.25.0,!=1.25.1,<1.26,>=1.21.1 in /usr/local/lib/python3.7/dist-packages (from requests->pgeocode) (1.24.3)\n",
            "Requirement already satisfied: certifi>=2017.4.17 in /usr/local/lib/python3.7/dist-packages (from requests->pgeocode) (2020.12.5)\n",
            "Requirement already satisfied: chardet<4,>=3.0.2 in /usr/local/lib/python3.7/dist-packages (from requests->pgeocode) (3.0.4)\n",
            "Requirement already satisfied: six>=1.5 in /usr/local/lib/python3.7/dist-packages (from python-dateutil>=2.7.3->pandas->pgeocode) (1.15.0)\n",
            "Installing collected packages: pgeocode\n",
            "Successfully installed pgeocode-0.3.0\n"
          ],
          "name": "stdout"
        }
      ]
    },
    {
      "cell_type": "code",
      "metadata": {
        "id": "N22Y5WUEvkVk"
      },
      "source": [
        "import pgeocode"
      ],
      "execution_count": 80,
      "outputs": []
    },
    {
      "cell_type": "code",
      "metadata": {
        "id": "nWDju1zxyXgF"
      },
      "source": [
        "def insert_space(string, integer):\n",
        "  return string[0:integer] + ' ' + string[integer:]\n",
        "nomi = pgeocode.Nominatim('gb')"
      ],
      "execution_count": 81,
      "outputs": []
    },
    {
      "cell_type": "code",
      "metadata": {
        "id": "EAsLQ1pS0ETU"
      },
      "source": [
        "final_df['billingAddress.postalCode'] = final_df['billingAddress.postalCode'].fillna(000)"
      ],
      "execution_count": 82,
      "outputs": []
    },
    {
      "cell_type": "code",
      "metadata": {
        "id": "m2r1_gW2ywkD"
      },
      "source": [
        "final_df['state_name'] = final_df['billingAddress.postalCode'].apply(lambda x:nomi.query_postal_code(insert_space(str(x),-3)).state_name)"
      ],
      "execution_count": null,
      "outputs": []
    },
    {
      "cell_type": "code",
      "metadata": {
        "id": "k9Nw0YfO2hzE"
      },
      "source": [
        "final_df['place_name'] = final_df['billingAddress.postalCode'].apply(lambda x:nomi.query_postal_code(insert_space(str(x),-3)).place_name)"
      ],
      "execution_count": null,
      "outputs": []
    },
    {
      "cell_type": "code",
      "metadata": {
        "id": "_xeXD_gL6rP7"
      },
      "source": [
        "final_df['county_name'] = final_df['billingAddress.postalCode'].apply(lambda x:nomi.query_postal_code(insert_space(str(x),-3)).county_name)"
      ],
      "execution_count": null,
      "outputs": []
    },
    {
      "cell_type": "code",
      "metadata": {
        "id": "B4gDjKVjA54C"
      },
      "source": [
        "final_df['place_name_short'] =  final_df['place_name'].apply(lambda x:str(x).split(',')[0])"
      ],
      "execution_count": null,
      "outputs": []
    },
    {
      "cell_type": "markdown",
      "metadata": {
        "id": "397UsnljRtXj"
      },
      "source": [
        "Billing city"
      ]
    },
    {
      "cell_type": "code",
      "metadata": {
        "id": "K2JtmargEXcQ"
      },
      "source": [
        "#getting first name\n",
        "start = 'first name='\n",
        "end = ', infix'\n",
        "final_df['firstname'] =  final_df['shopperName'].astype(str).apply(lambda x:x[x.find(start)+len(start):x.rfind(end)])"
      ],
      "execution_count": null,
      "outputs": []
    },
    {
      "cell_type": "code",
      "metadata": {
        "id": "Ozc8U4ToEnQD"
      },
      "source": [
        "#getting  last name\n",
        "start = 'last name='\n",
        "end = ', gender'\n",
        "final_df['lastname'] =  final_df['shopperName'].astype(str).apply(lambda x:x[x.find(start)+len(start):x.rfind(end)])"
      ],
      "execution_count": null,
      "outputs": []
    },
    {
      "cell_type": "code",
      "metadata": {
        "id": "4jjEVzMcJHkH"
      },
      "source": [
        "#getting  infix\n",
        "start = 'infix='\n",
        "end = ', last name'\n",
        "final_df['infix'] =  final_df['shopperName'].astype(str).apply(lambda x:x[x.find(start)+len(start):x.rfind(end)])"
      ],
      "execution_count": null,
      "outputs": []
    },
    {
      "cell_type": "code",
      "metadata": {
        "id": "BWo3IxnpJigI"
      },
      "source": [
        "#lenght of first name , last name, infix \n",
        "final_df['firstnamelen'] = final_df['firstname'].map(len)\n",
        "final_df['lastnamelen'] = final_df['lastname'].map(len)\n",
        "final_df['infixlen'] = final_df['infix'].map(len)"
      ],
      "execution_count": null,
      "outputs": []
    },
    {
      "cell_type": "code",
      "metadata": {
        "id": "GVirtT_fNu1X"
      },
      "source": [
        "final_df['first_last_name_len_match'] = final_df['firstnamelen'] == final_df['lastnamelen']"
      ],
      "execution_count": null,
      "outputs": []
    },
    {
      "cell_type": "code",
      "metadata": {
        "id": "H5FlB1d7RCZZ"
      },
      "source": [
        "#check if first name is same as last name\n",
        "final_df['same_firs_last_name'] = final_df['firstname'].str.strip().str.lower() == final_df['lastname'].str.strip().str.lower()"
      ],
      "execution_count": null,
      "outputs": []
    },
    {
      "cell_type": "code",
      "metadata": {
        "id": "KqYpn_T_fMlp"
      },
      "source": [
        "#does email has first name of last name?\n",
        "final_df['emailfirstpart'] = final_df['shopperEmail'].astype(str).apply(lambda x:(x.split('@')[0]))\n",
        "final_df['emailhaspartofFname'] = final_df.apply(lambda x: str(x.emailfirstpart) in str(x.firstname), axis=1)\n",
        "final_df['emailhaspartofLname'] = final_df.apply(lambda x: str(x.emailfirstpart) in str(x.lastname), axis=1)"
      ],
      "execution_count": null,
      "outputs": []
    },
    {
      "cell_type": "code",
      "metadata": {
        "id": "SckTeXors7tt"
      },
      "source": [
        "def func(x):\n",
        "    return df['firstname'] in list(df['cardHolderName'])"
      ],
      "execution_count": null,
      "outputs": []
    },
    {
      "cell_type": "code",
      "metadata": {
        "id": "gyBtgZ92o9sX"
      },
      "source": [
        "final_df['cardname_has_firstname'] = final_df.apply(lambda x: str(x.firstname) in str(x.cardHolderName), axis=1)"
      ],
      "execution_count": null,
      "outputs": []
    },
    {
      "cell_type": "code",
      "metadata": {
        "id": "JZ3HqkOpxYHw"
      },
      "source": [
        "final_df['cardname_has_lastname'] = final_df.apply(lambda x: str(x.lastname) in str(x.cardHolderName), axis=1)"
      ],
      "execution_count": null,
      "outputs": []
    },
    {
      "cell_type": "code",
      "metadata": {
        "id": "ikYbSU4FjsJG"
      },
      "source": [
        "def hasNumbers(inputString):\n",
        "  return any(char.isdigit() for char in inputString)"
      ],
      "execution_count": null,
      "outputs": []
    },
    {
      "cell_type": "code",
      "metadata": {
        "id": "Awhe4RK3jvJ8"
      },
      "source": [
        "final_df['namehasdigit'] = final_df['metadata.shopper_name'].astype(str).apply(lambda x:hasNumbers(x))"
      ],
      "execution_count": null,
      "outputs": []
    },
    {
      "cell_type": "code",
      "metadata": {
        "id": "ZRpylft9gEfF"
      },
      "source": [
        "final_df['emaillen'] = final_df['shopperEmail'].astype(str).apply(lambda x:len(x.split('@')[0]))"
      ],
      "execution_count": null,
      "outputs": []
    },
    {
      "cell_type": "markdown",
      "metadata": {
        "id": "f_1zCzAmitSo"
      },
      "source": [
        "Dropping more columns"
      ]
    },
    {
      "cell_type": "code",
      "metadata": {
        "id": "SZLZ8JBpgDes"
      },
      "source": [
        "final_df = final_df.drop( ['riskdata.luhnOkCount',\n",
        " 'riskdata.luhnCount',\n",
        " 'riskdata.LuhnSameLengthCount',\n",
        " 'riskdata.numberFieldClickCount',\n",
        " 'riskdata.numberFieldKeyCount',\n",
        " 'riskdata.numberFieldFocusCount',\n",
        " 'riskdata.initializeCount',\n",
        " 'riskdata.numberFieldLog',\n",
        " 'riskdata.basket.item.brand',\n",
        " 'riskdata.numberFieldEventHandlers',\n",
        " 'riskdata.numberFieldUnknownKeys',\n",
        " 'riskdata.numberFieldBlurCount' ], axis=1)"
      ],
      "execution_count": null,
      "outputs": []
    },
    {
      "cell_type": "code",
      "metadata": {
        "id": "zBzH1oxlgShT"
      },
      "source": [
        "#fraud check columns\n",
        "cols = [i for i in final_df.columns if 'fraud' in i]\n",
        "cols"
      ],
      "execution_count": null,
      "outputs": []
    },
    {
      "cell_type": "code",
      "metadata": {
        "id": "ou8wkFjkg-O0"
      },
      "source": [
        "final_df = final_df.drop(cols,axis=1)"
      ],
      "execution_count": null,
      "outputs": []
    },
    {
      "cell_type": "code",
      "metadata": {
        "id": "sgUqQHIihxbj"
      },
      "source": [
        "cols = [i for i in final_df.columns if 'retry' in i]\n",
        "cols"
      ],
      "execution_count": null,
      "outputs": []
    },
    {
      "cell_type": "code",
      "metadata": {
        "id": "geXNs5yvh5fS"
      },
      "source": [
        "final_df =final_df.drop( cols, axis=1)"
      ],
      "execution_count": null,
      "outputs": []
    },
    {
      "cell_type": "code",
      "metadata": {
        "id": "eH69nnkjhVLU"
      },
      "source": [
        "#more columns to remove, but may be remove from fittin before the model\n",
        "final_df = final_df.drop(['eventDate', 'shopperEmail', 'avsResult', 'cavvAlgorithm'\n",
        ", 'liabilityShift', 'cardHolderName', 'visaTemplate', 'acquirerCode', 'eci', 'refusalReasonRaw',\n",
        "'recurringProcessingModel', 'shopperTelephone', 'fundingSource', 'shopperName', 'shopperInteraction',\n",
        "'cvcResultRaw', 'billingAddress.country', 'metadata.shopper_name', 'avsResultRaw', 'metadata.driver_ref',\n",
        "'metadata.shopper_ph_country', 'riskdata.shopperAccountCreationDate', 'metadata.shopper_phone',\n",
        "'billingAddress.postalCode', \n",
        "#'metadata.shopper_phone_country', \n",
        "'authorisedAmountValue', 'emaildomain'\n",
        "\n",
        "]   ,axis=1)"
      ],
      "execution_count": null,
      "outputs": []
    },
    {
      "cell_type": "code",
      "metadata": {
        "id": "qsNiuf6zJ_fS"
      },
      "source": [
        "final_df.to_csv(\"/content/drive/My Drive/oct_train_thirdN.csv\")"
      ],
      "execution_count": null,
      "outputs": []
    },
    {
      "cell_type": "code",
      "metadata": {
        "id": "QoKXo-B-Q4ks"
      },
      "source": [
        "final_df.head(2)"
      ],
      "execution_count": null,
      "outputs": []
    },
    {
      "cell_type": "code",
      "metadata": {
        "id": "rxgz4HIYQ8h6"
      },
      "source": [
        "final_df.chargeback.value_counts()"
      ],
      "execution_count": null,
      "outputs": []
    },
    {
      "cell_type": "code",
      "metadata": {
        "id": "4SVLrwH7e_2Y"
      },
      "source": [
        "final_df['pspReference'].to_csv(\"/content/drive/My Drive/oct_train_thirdN_pspref.csv\")"
      ],
      "execution_count": null,
      "outputs": []
    }
  ]
}