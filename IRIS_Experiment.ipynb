{
  "nbformat": 4,
  "nbformat_minor": 0,
  "metadata": {
    "colab": {
      "name": "IRIS_Experiment.ipynb",
      "provenance": [],
      "authorship_tag": "ABX9TyM3Gyyd3PMsBfAUZHkiQmVq",
      "include_colab_link": true
    },
    "kernelspec": {
      "name": "python3",
      "display_name": "Python 3"
    },
    "language_info": {
      "name": "python"
    }
  },
  "cells": [
    {
      "cell_type": "markdown",
      "metadata": {
        "id": "view-in-github",
        "colab_type": "text"
      },
      "source": [
        "<a href=\"https://colab.research.google.com/github/BlackCurrantDS/Mining-Rare-Association-Rules/blob/main/IRIS_Experiment.ipynb\" target=\"_parent\"><img src=\"https://colab.research.google.com/assets/colab-badge.svg\" alt=\"Open In Colab\"/></a>"
      ]
    },
    {
      "cell_type": "code",
      "metadata": {
        "id": "9wSp6FjlZPF9"
      },
      "source": [
        "import matplotlib as mpl\n",
        "import matplotlib.pyplot as plt\n",
        "import pandas as pd\n",
        "import seaborn as sns\n",
        "\n",
        "import numpy as np\n",
        "from sklearn import datasets\n",
        "from sklearn.model_selection import train_test_split\n",
        "\n",
        "from keras import models\n",
        "from keras import layers\n",
        "from tensorflow.keras.utils import to_categorical"
      ],
      "execution_count": 1,
      "outputs": []
    },
    {
      "cell_type": "code",
      "metadata": {
        "id": "44RGyTbVu2DM"
      },
      "source": [
        "# define the overfitting model\n",
        "\n",
        "overfitting_network = models.Sequential() #512\n",
        "overfitting_network.add(layers.Dense(512, activation='relu', input_shape=(4,)))\n",
        "overfitting_network.add(layers.Dense(3, activation='softmax'))\n",
        "\n",
        "# define the underfitting model\n",
        "\n",
        "underfitting_network = models.Sequential() #512\n",
        "underfitting_network.add(layers.Dense(512, activation='relu', input_shape=(4,)))\n",
        "underfitting_network.add(layers.Dense(3, activation='softmax'))"
      ],
      "execution_count": 2,
      "outputs": []
    },
    {
      "cell_type": "code",
      "metadata": {
        "id": "TS-breagvO8N"
      },
      "source": [
        "# Compile the network\n",
        "#\n",
        "overfitting_network.compile(optimizer='rmsprop',\n",
        "                loss='categorical_crossentropy',\n",
        "                metrics=['accuracy'])\n",
        "\n",
        "underfitting_network.compile(optimizer='rmsprop',\n",
        "                loss='categorical_crossentropy',\n",
        "                metrics=['accuracy'])"
      ],
      "execution_count": 3,
      "outputs": []
    },
    {
      "cell_type": "code",
      "metadata": {
        "id": "klDCtB8BvXvz"
      },
      "source": [
        "# Load the iris dataset\n",
        "#\n",
        "iris = datasets.load_iris()\n",
        "\n",
        "df = pd.DataFrame(data = iris.data)\n",
        "\n",
        "# add outcome variable\n",
        "df['class'] = iris.target\n",
        "\n",
        "X = np.matrix(df.loc[:, [0, 1, 2, 3]])\n",
        "y = np.array(df['class'])\n",
        "#\n",
        "# Create training and test split\n",
        "#\n",
        "X_train, X_test, y_train, y_test = train_test_split(X, y, test_size=0.2, stratify=y, random_state=42)\n",
        "X_train, X_val, y_train, y_val = train_test_split(X_train,y_train, test_size=0.2)\n",
        "#\n",
        "# Create categorical labels\n",
        "#\n",
        "train_labels = to_categorical(y_train)\n",
        "test_labels = to_categorical(y_test)\n",
        "\n",
        "val_labels = to_categorical(y_val)"
      ],
      "execution_count": 4,
      "outputs": []
    },
    {
      "cell_type": "code",
      "metadata": {
        "colab": {
          "base_uri": "https://localhost:8080/"
        },
        "id": "6ZFAcHx2vbZs",
        "outputId": "a019ec45-60b8-4d10-b581-c6b3e159e84a"
      },
      "source": [
        "# Fit the overfitting neural network\n",
        "#\n",
        "history = overfitting_network.fit(X_train, train_labels, epochs=400, batch_size=40,validation_data=(X_val, val_labels))"
      ],
      "execution_count": 5,
      "outputs": [
        {
          "output_type": "stream",
          "name": "stdout",
          "text": [
            "Epoch 1/400\n",
            "3/3 [==============================] - 1s 177ms/step - loss: 1.0297 - accuracy: 0.5521 - val_loss: 1.0350 - val_accuracy: 0.4583\n",
            "Epoch 2/400\n",
            "3/3 [==============================] - 0s 12ms/step - loss: 0.8080 - accuracy: 0.7188 - val_loss: 0.9826 - val_accuracy: 0.4583\n",
            "Epoch 3/400\n",
            "3/3 [==============================] - 0s 14ms/step - loss: 0.7401 - accuracy: 0.6875 - val_loss: 1.0229 - val_accuracy: 0.4583\n",
            "Epoch 4/400\n",
            "3/3 [==============================] - 0s 14ms/step - loss: 0.6850 - accuracy: 0.7292 - val_loss: 0.8505 - val_accuracy: 0.4583\n",
            "Epoch 5/400\n",
            "3/3 [==============================] - 0s 11ms/step - loss: 0.6261 - accuracy: 0.7188 - val_loss: 0.8214 - val_accuracy: 0.4583\n",
            "Epoch 6/400\n",
            "3/3 [==============================] - 0s 11ms/step - loss: 0.5857 - accuracy: 0.7188 - val_loss: 0.6691 - val_accuracy: 0.7500\n",
            "Epoch 7/400\n",
            "3/3 [==============================] - 0s 14ms/step - loss: 0.5732 - accuracy: 0.7604 - val_loss: 0.7166 - val_accuracy: 0.4583\n",
            "Epoch 8/400\n",
            "3/3 [==============================] - 0s 13ms/step - loss: 0.5363 - accuracy: 0.7188 - val_loss: 0.6185 - val_accuracy: 0.8750\n",
            "Epoch 9/400\n",
            "3/3 [==============================] - 0s 11ms/step - loss: 0.5157 - accuracy: 0.8646 - val_loss: 0.6530 - val_accuracy: 0.7500\n",
            "Epoch 10/400\n",
            "3/3 [==============================] - 0s 13ms/step - loss: 0.4837 - accuracy: 0.8438 - val_loss: 0.6869 - val_accuracy: 0.5000\n",
            "Epoch 11/400\n",
            "3/3 [==============================] - 0s 13ms/step - loss: 0.4694 - accuracy: 0.8333 - val_loss: 0.6968 - val_accuracy: 0.4583\n",
            "Epoch 12/400\n",
            "3/3 [==============================] - 0s 13ms/step - loss: 0.4564 - accuracy: 0.7708 - val_loss: 0.6923 - val_accuracy: 0.4583\n",
            "Epoch 13/400\n",
            "3/3 [==============================] - 0s 14ms/step - loss: 0.4556 - accuracy: 0.7708 - val_loss: 0.5707 - val_accuracy: 0.8750\n",
            "Epoch 14/400\n",
            "3/3 [==============================] - 0s 12ms/step - loss: 0.4171 - accuracy: 0.8854 - val_loss: 0.5541 - val_accuracy: 0.9583\n",
            "Epoch 15/400\n",
            "3/3 [==============================] - 0s 13ms/step - loss: 0.4158 - accuracy: 0.9062 - val_loss: 0.5076 - val_accuracy: 0.9167\n",
            "Epoch 16/400\n",
            "3/3 [==============================] - 0s 14ms/step - loss: 0.4037 - accuracy: 0.8854 - val_loss: 0.5003 - val_accuracy: 0.9583\n",
            "Epoch 17/400\n",
            "3/3 [==============================] - 0s 16ms/step - loss: 0.3925 - accuracy: 0.8542 - val_loss: 0.4726 - val_accuracy: 0.9583\n",
            "Epoch 18/400\n",
            "3/3 [==============================] - 0s 15ms/step - loss: 0.3738 - accuracy: 0.9688 - val_loss: 0.7031 - val_accuracy: 0.4583\n",
            "Epoch 19/400\n",
            "3/3 [==============================] - 0s 12ms/step - loss: 0.3916 - accuracy: 0.7917 - val_loss: 0.5352 - val_accuracy: 0.7500\n",
            "Epoch 20/400\n",
            "3/3 [==============================] - 0s 12ms/step - loss: 0.3561 - accuracy: 0.8542 - val_loss: 0.4662 - val_accuracy: 0.9583\n",
            "Epoch 21/400\n",
            "3/3 [==============================] - 0s 11ms/step - loss: 0.3435 - accuracy: 0.9167 - val_loss: 0.4307 - val_accuracy: 0.8750\n",
            "Epoch 22/400\n",
            "3/3 [==============================] - 0s 11ms/step - loss: 0.3596 - accuracy: 0.8542 - val_loss: 0.5020 - val_accuracy: 0.7917\n",
            "Epoch 23/400\n",
            "3/3 [==============================] - 0s 12ms/step - loss: 0.3346 - accuracy: 0.8750 - val_loss: 0.5781 - val_accuracy: 0.5000\n",
            "Epoch 24/400\n",
            "3/3 [==============================] - 0s 11ms/step - loss: 0.3374 - accuracy: 0.7917 - val_loss: 0.4842 - val_accuracy: 0.7917\n",
            "Epoch 25/400\n",
            "3/3 [==============================] - 0s 12ms/step - loss: 0.3090 - accuracy: 0.8646 - val_loss: 0.4172 - val_accuracy: 0.7917\n",
            "Epoch 26/400\n",
            "3/3 [==============================] - 0s 15ms/step - loss: 0.3338 - accuracy: 0.8542 - val_loss: 0.4417 - val_accuracy: 0.8750\n",
            "Epoch 27/400\n",
            "3/3 [==============================] - 0s 12ms/step - loss: 0.3023 - accuracy: 0.9479 - val_loss: 0.3927 - val_accuracy: 0.9583\n",
            "Epoch 28/400\n",
            "3/3 [==============================] - 0s 13ms/step - loss: 0.3021 - accuracy: 0.9167 - val_loss: 0.3665 - val_accuracy: 0.9583\n",
            "Epoch 29/400\n",
            "3/3 [==============================] - 0s 12ms/step - loss: 0.2854 - accuracy: 0.9792 - val_loss: 0.4311 - val_accuracy: 0.8333\n",
            "Epoch 30/400\n",
            "3/3 [==============================] - 0s 13ms/step - loss: 0.2897 - accuracy: 0.8854 - val_loss: 0.4120 - val_accuracy: 0.8750\n",
            "Epoch 31/400\n",
            "3/3 [==============================] - 0s 14ms/step - loss: 0.2805 - accuracy: 0.9271 - val_loss: 0.4089 - val_accuracy: 0.8333\n",
            "Epoch 32/400\n",
            "3/3 [==============================] - 0s 13ms/step - loss: 0.3091 - accuracy: 0.8854 - val_loss: 0.3364 - val_accuracy: 0.9583\n",
            "Epoch 33/400\n",
            "3/3 [==============================] - 0s 15ms/step - loss: 0.2785 - accuracy: 0.9375 - val_loss: 0.4203 - val_accuracy: 0.7917\n",
            "Epoch 34/400\n",
            "3/3 [==============================] - 0s 12ms/step - loss: 0.2650 - accuracy: 0.9167 - val_loss: 0.3635 - val_accuracy: 0.9583\n",
            "Epoch 35/400\n",
            "3/3 [==============================] - 0s 12ms/step - loss: 0.2514 - accuracy: 0.9583 - val_loss: 0.3259 - val_accuracy: 0.9583\n",
            "Epoch 36/400\n",
            "3/3 [==============================] - 0s 11ms/step - loss: 0.2489 - accuracy: 0.9688 - val_loss: 0.3061 - val_accuracy: 0.9583\n",
            "Epoch 37/400\n",
            "3/3 [==============================] - 0s 22ms/step - loss: 0.2434 - accuracy: 0.9896 - val_loss: 0.2978 - val_accuracy: 0.9583\n",
            "Epoch 38/400\n",
            "3/3 [==============================] - 0s 12ms/step - loss: 0.2420 - accuracy: 0.9479 - val_loss: 0.3123 - val_accuracy: 0.9583\n",
            "Epoch 39/400\n",
            "3/3 [==============================] - 0s 14ms/step - loss: 0.2373 - accuracy: 0.9583 - val_loss: 0.2816 - val_accuracy: 0.9583\n",
            "Epoch 40/400\n",
            "3/3 [==============================] - 0s 11ms/step - loss: 0.2252 - accuracy: 0.9688 - val_loss: 0.2956 - val_accuracy: 0.9583\n",
            "Epoch 41/400\n",
            "3/3 [==============================] - 0s 12ms/step - loss: 0.2178 - accuracy: 0.9688 - val_loss: 0.2629 - val_accuracy: 0.9583\n",
            "Epoch 42/400\n",
            "3/3 [==============================] - 0s 15ms/step - loss: 0.2331 - accuracy: 0.9271 - val_loss: 0.2600 - val_accuracy: 0.9583\n",
            "Epoch 43/400\n",
            "3/3 [==============================] - 0s 11ms/step - loss: 0.2108 - accuracy: 0.9688 - val_loss: 0.2630 - val_accuracy: 0.9167\n",
            "Epoch 44/400\n",
            "3/3 [==============================] - 0s 13ms/step - loss: 0.2315 - accuracy: 0.9375 - val_loss: 0.2480 - val_accuracy: 0.9583\n",
            "Epoch 45/400\n",
            "3/3 [==============================] - 0s 11ms/step - loss: 0.1975 - accuracy: 0.9792 - val_loss: 0.3240 - val_accuracy: 0.9167\n",
            "Epoch 46/400\n",
            "3/3 [==============================] - 0s 12ms/step - loss: 0.1960 - accuracy: 0.9479 - val_loss: 0.2320 - val_accuracy: 0.9583\n",
            "Epoch 47/400\n",
            "3/3 [==============================] - 0s 12ms/step - loss: 0.2008 - accuracy: 0.9583 - val_loss: 0.2319 - val_accuracy: 0.9583\n",
            "Epoch 48/400\n",
            "3/3 [==============================] - 0s 12ms/step - loss: 0.2015 - accuracy: 0.9688 - val_loss: 0.3312 - val_accuracy: 0.8750\n",
            "Epoch 49/400\n",
            "3/3 [==============================] - 0s 11ms/step - loss: 0.1964 - accuracy: 0.9583 - val_loss: 0.2205 - val_accuracy: 0.9583\n",
            "Epoch 50/400\n",
            "3/3 [==============================] - 0s 13ms/step - loss: 0.2076 - accuracy: 0.9375 - val_loss: 0.2160 - val_accuracy: 0.9583\n",
            "Epoch 51/400\n",
            "3/3 [==============================] - 0s 12ms/step - loss: 0.2064 - accuracy: 0.9479 - val_loss: 0.2443 - val_accuracy: 0.9583\n",
            "Epoch 52/400\n",
            "3/3 [==============================] - 0s 12ms/step - loss: 0.1781 - accuracy: 0.9688 - val_loss: 0.2616 - val_accuracy: 0.9583\n",
            "Epoch 53/400\n",
            "3/3 [==============================] - 0s 13ms/step - loss: 0.1812 - accuracy: 0.9688 - val_loss: 0.2243 - val_accuracy: 0.9583\n",
            "Epoch 54/400\n",
            "3/3 [==============================] - 0s 12ms/step - loss: 0.1728 - accuracy: 0.9688 - val_loss: 0.1996 - val_accuracy: 0.9583\n",
            "Epoch 55/400\n",
            "3/3 [==============================] - 0s 13ms/step - loss: 0.1660 - accuracy: 0.9688 - val_loss: 0.2010 - val_accuracy: 0.9583\n",
            "Epoch 56/400\n",
            "3/3 [==============================] - 0s 12ms/step - loss: 0.1637 - accuracy: 0.9688 - val_loss: 0.2468 - val_accuracy: 0.8750\n",
            "Epoch 57/400\n",
            "3/3 [==============================] - 0s 12ms/step - loss: 0.1964 - accuracy: 0.9479 - val_loss: 0.2180 - val_accuracy: 0.9583\n",
            "Epoch 58/400\n",
            "3/3 [==============================] - 0s 13ms/step - loss: 0.1707 - accuracy: 0.9583 - val_loss: 0.2413 - val_accuracy: 0.9583\n",
            "Epoch 59/400\n",
            "3/3 [==============================] - 0s 11ms/step - loss: 0.1593 - accuracy: 0.9583 - val_loss: 0.1821 - val_accuracy: 0.9583\n",
            "Epoch 60/400\n",
            "3/3 [==============================] - 0s 12ms/step - loss: 0.1540 - accuracy: 0.9792 - val_loss: 0.1802 - val_accuracy: 0.9583\n",
            "Epoch 61/400\n",
            "3/3 [==============================] - 0s 15ms/step - loss: 0.1511 - accuracy: 0.9583 - val_loss: 0.1981 - val_accuracy: 0.9583\n",
            "Epoch 62/400\n",
            "3/3 [==============================] - 0s 12ms/step - loss: 0.1716 - accuracy: 0.9271 - val_loss: 0.1742 - val_accuracy: 0.9583\n",
            "Epoch 63/400\n",
            "3/3 [==============================] - 0s 13ms/step - loss: 0.1565 - accuracy: 0.9479 - val_loss: 0.1720 - val_accuracy: 0.9583\n",
            "Epoch 64/400\n",
            "3/3 [==============================] - 0s 11ms/step - loss: 0.1464 - accuracy: 0.9688 - val_loss: 0.1833 - val_accuracy: 0.9583\n",
            "Epoch 65/400\n",
            "3/3 [==============================] - 0s 16ms/step - loss: 0.1436 - accuracy: 0.9688 - val_loss: 0.2094 - val_accuracy: 0.9583\n",
            "Epoch 66/400\n",
            "3/3 [==============================] - 0s 14ms/step - loss: 0.1514 - accuracy: 0.9688 - val_loss: 0.2782 - val_accuracy: 0.8750\n",
            "Epoch 67/400\n",
            "3/3 [==============================] - 0s 13ms/step - loss: 0.1701 - accuracy: 0.9271 - val_loss: 0.1692 - val_accuracy: 0.9583\n",
            "Epoch 68/400\n",
            "3/3 [==============================] - 0s 13ms/step - loss: 0.1354 - accuracy: 0.9688 - val_loss: 0.1597 - val_accuracy: 0.9583\n",
            "Epoch 69/400\n",
            "3/3 [==============================] - 0s 12ms/step - loss: 0.1365 - accuracy: 0.9792 - val_loss: 0.1629 - val_accuracy: 0.9583\n",
            "Epoch 70/400\n",
            "3/3 [==============================] - 0s 12ms/step - loss: 0.1480 - accuracy: 0.9479 - val_loss: 0.2508 - val_accuracy: 0.9167\n",
            "Epoch 71/400\n",
            "3/3 [==============================] - 0s 15ms/step - loss: 0.1761 - accuracy: 0.9479 - val_loss: 0.1551 - val_accuracy: 0.9583\n",
            "Epoch 72/400\n",
            "3/3 [==============================] - 0s 12ms/step - loss: 0.1289 - accuracy: 0.9792 - val_loss: 0.1964 - val_accuracy: 0.9583\n",
            "Epoch 73/400\n",
            "3/3 [==============================] - 0s 12ms/step - loss: 0.1326 - accuracy: 0.9688 - val_loss: 0.1592 - val_accuracy: 0.9583\n",
            "Epoch 74/400\n",
            "3/3 [==============================] - 0s 12ms/step - loss: 0.1255 - accuracy: 0.9792 - val_loss: 0.1516 - val_accuracy: 0.9167\n",
            "Epoch 75/400\n",
            "3/3 [==============================] - 0s 12ms/step - loss: 0.1266 - accuracy: 0.9792 - val_loss: 0.1526 - val_accuracy: 0.9583\n",
            "Epoch 76/400\n",
            "3/3 [==============================] - 0s 11ms/step - loss: 0.1727 - accuracy: 0.9271 - val_loss: 0.2387 - val_accuracy: 0.9167\n",
            "Epoch 77/400\n",
            "3/3 [==============================] - 0s 12ms/step - loss: 0.1516 - accuracy: 0.9479 - val_loss: 0.2071 - val_accuracy: 0.9583\n",
            "Epoch 78/400\n",
            "3/3 [==============================] - 0s 13ms/step - loss: 0.1365 - accuracy: 0.9688 - val_loss: 0.1610 - val_accuracy: 0.9583\n",
            "Epoch 79/400\n",
            "3/3 [==============================] - 0s 15ms/step - loss: 0.1271 - accuracy: 0.9792 - val_loss: 0.2061 - val_accuracy: 0.9583\n",
            "Epoch 80/400\n",
            "3/3 [==============================] - 0s 14ms/step - loss: 0.1318 - accuracy: 0.9688 - val_loss: 0.1396 - val_accuracy: 0.9583\n",
            "Epoch 81/400\n",
            "3/3 [==============================] - 0s 14ms/step - loss: 0.1351 - accuracy: 0.9792 - val_loss: 0.1455 - val_accuracy: 0.9583\n",
            "Epoch 82/400\n",
            "3/3 [==============================] - 0s 12ms/step - loss: 0.1167 - accuracy: 0.9688 - val_loss: 0.1484 - val_accuracy: 0.9583\n",
            "Epoch 83/400\n",
            "3/3 [==============================] - 0s 12ms/step - loss: 0.1300 - accuracy: 0.9583 - val_loss: 0.1592 - val_accuracy: 0.9583\n",
            "Epoch 84/400\n",
            "3/3 [==============================] - 0s 13ms/step - loss: 0.1302 - accuracy: 0.9688 - val_loss: 0.1432 - val_accuracy: 0.9583\n",
            "Epoch 85/400\n",
            "3/3 [==============================] - 0s 13ms/step - loss: 0.1135 - accuracy: 0.9792 - val_loss: 0.1576 - val_accuracy: 0.9583\n",
            "Epoch 86/400\n",
            "3/3 [==============================] - 0s 12ms/step - loss: 0.1315 - accuracy: 0.9583 - val_loss: 0.1350 - val_accuracy: 0.9583\n",
            "Epoch 87/400\n",
            "3/3 [==============================] - 0s 15ms/step - loss: 0.1109 - accuracy: 0.9688 - val_loss: 0.1471 - val_accuracy: 0.9583\n",
            "Epoch 88/400\n",
            "3/3 [==============================] - 0s 13ms/step - loss: 0.1572 - accuracy: 0.9375 - val_loss: 0.1628 - val_accuracy: 0.9583\n",
            "Epoch 89/400\n",
            "3/3 [==============================] - 0s 13ms/step - loss: 0.1131 - accuracy: 0.9688 - val_loss: 0.1307 - val_accuracy: 0.9583\n",
            "Epoch 90/400\n",
            "3/3 [==============================] - 0s 16ms/step - loss: 0.1113 - accuracy: 0.9688 - val_loss: 0.1324 - val_accuracy: 0.9583\n",
            "Epoch 91/400\n",
            "3/3 [==============================] - 0s 12ms/step - loss: 0.1061 - accuracy: 0.9688 - val_loss: 0.1260 - val_accuracy: 0.9583\n",
            "Epoch 92/400\n",
            "3/3 [==============================] - 0s 12ms/step - loss: 0.1164 - accuracy: 0.9792 - val_loss: 0.1439 - val_accuracy: 0.9583\n",
            "Epoch 93/400\n",
            "3/3 [==============================] - 0s 13ms/step - loss: 0.1169 - accuracy: 0.9583 - val_loss: 0.1281 - val_accuracy: 0.9583\n",
            "Epoch 94/400\n",
            "3/3 [==============================] - 0s 13ms/step - loss: 0.1134 - accuracy: 0.9479 - val_loss: 0.1945 - val_accuracy: 0.9583\n",
            "Epoch 95/400\n",
            "3/3 [==============================] - 0s 15ms/step - loss: 0.1220 - accuracy: 0.9688 - val_loss: 0.1525 - val_accuracy: 0.9583\n",
            "Epoch 96/400\n",
            "3/3 [==============================] - 0s 24ms/step - loss: 0.1207 - accuracy: 0.9583 - val_loss: 0.1266 - val_accuracy: 0.9583\n",
            "Epoch 97/400\n",
            "3/3 [==============================] - 0s 14ms/step - loss: 0.1011 - accuracy: 0.9688 - val_loss: 0.1231 - val_accuracy: 0.9583\n",
            "Epoch 98/400\n",
            "3/3 [==============================] - 0s 12ms/step - loss: 0.0992 - accuracy: 0.9792 - val_loss: 0.1259 - val_accuracy: 0.9583\n",
            "Epoch 99/400\n",
            "3/3 [==============================] - 0s 15ms/step - loss: 0.1067 - accuracy: 0.9792 - val_loss: 0.1358 - val_accuracy: 0.9583\n",
            "Epoch 100/400\n",
            "3/3 [==============================] - 0s 14ms/step - loss: 0.1340 - accuracy: 0.9583 - val_loss: 0.1506 - val_accuracy: 0.9583\n",
            "Epoch 101/400\n",
            "3/3 [==============================] - 0s 16ms/step - loss: 0.1080 - accuracy: 0.9792 - val_loss: 0.1164 - val_accuracy: 0.9167\n",
            "Epoch 102/400\n",
            "3/3 [==============================] - 0s 13ms/step - loss: 0.1094 - accuracy: 0.9688 - val_loss: 0.1170 - val_accuracy: 0.9583\n",
            "Epoch 103/400\n",
            "3/3 [==============================] - 0s 13ms/step - loss: 0.1008 - accuracy: 0.9688 - val_loss: 0.1153 - val_accuracy: 0.9167\n",
            "Epoch 104/400\n",
            "3/3 [==============================] - 0s 12ms/step - loss: 0.0955 - accuracy: 0.9792 - val_loss: 0.1448 - val_accuracy: 0.9583\n",
            "Epoch 105/400\n",
            "3/3 [==============================] - 0s 16ms/step - loss: 0.1351 - accuracy: 0.9479 - val_loss: 0.1492 - val_accuracy: 0.9583\n",
            "Epoch 106/400\n",
            "3/3 [==============================] - 0s 13ms/step - loss: 0.1191 - accuracy: 0.9375 - val_loss: 0.1229 - val_accuracy: 0.9583\n",
            "Epoch 107/400\n",
            "3/3 [==============================] - 0s 14ms/step - loss: 0.1082 - accuracy: 0.9479 - val_loss: 0.1280 - val_accuracy: 0.9583\n",
            "Epoch 108/400\n",
            "3/3 [==============================] - 0s 14ms/step - loss: 0.0977 - accuracy: 0.9688 - val_loss: 0.1344 - val_accuracy: 0.9583\n",
            "Epoch 109/400\n",
            "3/3 [==============================] - 0s 12ms/step - loss: 0.0969 - accuracy: 0.9688 - val_loss: 0.1109 - val_accuracy: 0.9167\n",
            "Epoch 110/400\n",
            "3/3 [==============================] - 0s 14ms/step - loss: 0.1005 - accuracy: 0.9792 - val_loss: 0.1116 - val_accuracy: 0.9583\n",
            "Epoch 111/400\n",
            "3/3 [==============================] - 0s 15ms/step - loss: 0.0912 - accuracy: 0.9792 - val_loss: 0.1116 - val_accuracy: 0.9583\n",
            "Epoch 112/400\n",
            "3/3 [==============================] - 0s 13ms/step - loss: 0.1165 - accuracy: 0.9583 - val_loss: 0.1202 - val_accuracy: 0.9583\n",
            "Epoch 113/400\n",
            "3/3 [==============================] - 0s 15ms/step - loss: 0.0881 - accuracy: 0.9792 - val_loss: 0.1281 - val_accuracy: 0.9583\n",
            "Epoch 114/400\n",
            "3/3 [==============================] - 0s 12ms/step - loss: 0.0929 - accuracy: 0.9479 - val_loss: 0.1161 - val_accuracy: 0.9583\n",
            "Epoch 115/400\n",
            "3/3 [==============================] - 0s 13ms/step - loss: 0.0892 - accuracy: 0.9792 - val_loss: 0.1069 - val_accuracy: 0.9583\n",
            "Epoch 116/400\n",
            "3/3 [==============================] - 0s 11ms/step - loss: 0.1093 - accuracy: 0.9792 - val_loss: 0.1691 - val_accuracy: 0.9167\n",
            "Epoch 117/400\n",
            "3/3 [==============================] - 0s 12ms/step - loss: 0.1157 - accuracy: 0.9583 - val_loss: 0.1068 - val_accuracy: 0.9583\n",
            "Epoch 118/400\n",
            "3/3 [==============================] - 0s 13ms/step - loss: 0.0859 - accuracy: 0.9688 - val_loss: 0.1134 - val_accuracy: 0.9583\n",
            "Epoch 119/400\n",
            "3/3 [==============================] - 0s 12ms/step - loss: 0.0907 - accuracy: 0.9688 - val_loss: 0.1045 - val_accuracy: 0.9167\n",
            "Epoch 120/400\n",
            "3/3 [==============================] - 0s 13ms/step - loss: 0.1074 - accuracy: 0.9583 - val_loss: 0.1153 - val_accuracy: 0.9583\n",
            "Epoch 121/400\n",
            "3/3 [==============================] - 0s 12ms/step - loss: 0.1020 - accuracy: 0.9583 - val_loss: 0.1094 - val_accuracy: 0.9583\n",
            "Epoch 122/400\n",
            "3/3 [==============================] - 0s 12ms/step - loss: 0.0836 - accuracy: 0.9688 - val_loss: 0.1151 - val_accuracy: 0.9583\n",
            "Epoch 123/400\n",
            "3/3 [==============================] - 0s 12ms/step - loss: 0.0996 - accuracy: 0.9479 - val_loss: 0.1850 - val_accuracy: 0.9167\n",
            "Epoch 124/400\n",
            "3/3 [==============================] - 0s 16ms/step - loss: 0.1075 - accuracy: 0.9896 - val_loss: 0.1197 - val_accuracy: 0.9583\n",
            "Epoch 125/400\n",
            "3/3 [==============================] - 0s 11ms/step - loss: 0.0903 - accuracy: 0.9688 - val_loss: 0.1119 - val_accuracy: 0.9583\n",
            "Epoch 126/400\n",
            "3/3 [==============================] - 0s 15ms/step - loss: 0.0863 - accuracy: 0.9688 - val_loss: 0.1091 - val_accuracy: 0.9583\n",
            "Epoch 127/400\n",
            "3/3 [==============================] - 0s 12ms/step - loss: 0.0836 - accuracy: 0.9896 - val_loss: 0.1342 - val_accuracy: 0.9583\n",
            "Epoch 128/400\n",
            "3/3 [==============================] - 0s 12ms/step - loss: 0.0908 - accuracy: 0.9688 - val_loss: 0.1124 - val_accuracy: 0.9583\n",
            "Epoch 129/400\n",
            "3/3 [==============================] - 0s 12ms/step - loss: 0.1142 - accuracy: 0.9479 - val_loss: 0.1000 - val_accuracy: 0.9583\n",
            "Epoch 130/400\n",
            "3/3 [==============================] - 0s 14ms/step - loss: 0.0815 - accuracy: 0.9792 - val_loss: 0.1036 - val_accuracy: 0.9583\n",
            "Epoch 131/400\n",
            "3/3 [==============================] - 0s 12ms/step - loss: 0.0865 - accuracy: 0.9688 - val_loss: 0.1247 - val_accuracy: 0.9583\n",
            "Epoch 132/400\n",
            "3/3 [==============================] - 0s 15ms/step - loss: 0.1022 - accuracy: 0.9375 - val_loss: 0.1323 - val_accuracy: 0.9583\n",
            "Epoch 133/400\n",
            "3/3 [==============================] - 0s 14ms/step - loss: 0.1366 - accuracy: 0.9271 - val_loss: 0.0982 - val_accuracy: 0.9167\n",
            "Epoch 134/400\n",
            "3/3 [==============================] - 0s 11ms/step - loss: 0.0811 - accuracy: 0.9688 - val_loss: 0.1214 - val_accuracy: 0.9583\n",
            "Epoch 135/400\n",
            "3/3 [==============================] - 0s 12ms/step - loss: 0.0848 - accuracy: 0.9583 - val_loss: 0.1406 - val_accuracy: 0.9583\n",
            "Epoch 136/400\n",
            "3/3 [==============================] - 0s 11ms/step - loss: 0.1019 - accuracy: 0.9583 - val_loss: 0.1313 - val_accuracy: 0.9583\n",
            "Epoch 137/400\n",
            "3/3 [==============================] - 0s 14ms/step - loss: 0.0893 - accuracy: 0.9688 - val_loss: 0.1247 - val_accuracy: 0.9583\n",
            "Epoch 138/400\n",
            "3/3 [==============================] - 0s 13ms/step - loss: 0.0983 - accuracy: 0.9583 - val_loss: 0.0973 - val_accuracy: 0.9167\n",
            "Epoch 139/400\n",
            "3/3 [==============================] - 0s 13ms/step - loss: 0.0793 - accuracy: 0.9896 - val_loss: 0.1220 - val_accuracy: 0.9583\n",
            "Epoch 140/400\n",
            "3/3 [==============================] - 0s 12ms/step - loss: 0.1127 - accuracy: 0.9583 - val_loss: 0.1102 - val_accuracy: 0.9583\n",
            "Epoch 141/400\n",
            "3/3 [==============================] - 0s 12ms/step - loss: 0.0800 - accuracy: 0.9688 - val_loss: 0.0997 - val_accuracy: 0.9583\n",
            "Epoch 142/400\n",
            "3/3 [==============================] - 0s 14ms/step - loss: 0.0816 - accuracy: 0.9583 - val_loss: 0.1128 - val_accuracy: 0.9583\n",
            "Epoch 143/400\n",
            "3/3 [==============================] - 0s 12ms/step - loss: 0.0839 - accuracy: 0.9688 - val_loss: 0.0961 - val_accuracy: 0.9167\n",
            "Epoch 144/400\n",
            "3/3 [==============================] - 0s 13ms/step - loss: 0.0858 - accuracy: 0.9792 - val_loss: 0.0956 - val_accuracy: 0.9583\n",
            "Epoch 145/400\n",
            "3/3 [==============================] - 0s 12ms/step - loss: 0.0776 - accuracy: 0.9792 - val_loss: 0.0969 - val_accuracy: 0.9583\n",
            "Epoch 146/400\n",
            "3/3 [==============================] - 0s 12ms/step - loss: 0.0806 - accuracy: 0.9688 - val_loss: 0.0965 - val_accuracy: 0.9583\n",
            "Epoch 147/400\n",
            "3/3 [==============================] - 0s 16ms/step - loss: 0.1383 - accuracy: 0.9583 - val_loss: 0.0950 - val_accuracy: 0.9583\n",
            "Epoch 148/400\n",
            "3/3 [==============================] - 0s 15ms/step - loss: 0.0791 - accuracy: 0.9792 - val_loss: 0.1314 - val_accuracy: 0.9583\n",
            "Epoch 149/400\n",
            "3/3 [==============================] - 0s 13ms/step - loss: 0.0935 - accuracy: 0.9375 - val_loss: 0.1009 - val_accuracy: 0.9583\n",
            "Epoch 150/400\n",
            "3/3 [==============================] - 0s 13ms/step - loss: 0.0797 - accuracy: 0.9688 - val_loss: 0.0936 - val_accuracy: 0.9167\n",
            "Epoch 151/400\n",
            "3/3 [==============================] - 0s 15ms/step - loss: 0.0825 - accuracy: 0.9792 - val_loss: 0.1438 - val_accuracy: 0.9583\n",
            "Epoch 152/400\n",
            "3/3 [==============================] - 0s 13ms/step - loss: 0.0978 - accuracy: 0.9583 - val_loss: 0.1295 - val_accuracy: 0.9583\n",
            "Epoch 153/400\n",
            "3/3 [==============================] - 0s 16ms/step - loss: 0.0961 - accuracy: 0.9688 - val_loss: 0.0995 - val_accuracy: 0.9583\n",
            "Epoch 154/400\n",
            "3/3 [==============================] - 0s 18ms/step - loss: 0.0745 - accuracy: 0.9688 - val_loss: 0.0992 - val_accuracy: 0.9583\n",
            "Epoch 155/400\n",
            "3/3 [==============================] - 0s 15ms/step - loss: 0.0756 - accuracy: 0.9583 - val_loss: 0.0919 - val_accuracy: 0.9167\n",
            "Epoch 156/400\n",
            "3/3 [==============================] - 0s 17ms/step - loss: 0.0784 - accuracy: 0.9792 - val_loss: 0.0995 - val_accuracy: 0.9583\n",
            "Epoch 157/400\n",
            "3/3 [==============================] - 0s 15ms/step - loss: 0.0890 - accuracy: 0.9479 - val_loss: 0.1610 - val_accuracy: 0.9583\n",
            "Epoch 158/400\n",
            "3/3 [==============================] - 0s 13ms/step - loss: 0.0871 - accuracy: 0.9688 - val_loss: 0.1263 - val_accuracy: 0.9583\n",
            "Epoch 159/400\n",
            "3/3 [==============================] - 0s 16ms/step - loss: 0.0943 - accuracy: 0.9688 - val_loss: 0.0926 - val_accuracy: 0.9583\n",
            "Epoch 160/400\n",
            "3/3 [==============================] - 0s 15ms/step - loss: 0.0858 - accuracy: 0.9792 - val_loss: 0.1136 - val_accuracy: 0.9583\n",
            "Epoch 161/400\n",
            "3/3 [==============================] - 0s 14ms/step - loss: 0.1096 - accuracy: 0.9479 - val_loss: 0.0960 - val_accuracy: 0.9583\n",
            "Epoch 162/400\n",
            "3/3 [==============================] - 0s 13ms/step - loss: 0.0737 - accuracy: 0.9688 - val_loss: 0.0919 - val_accuracy: 0.9583\n",
            "Epoch 163/400\n",
            "3/3 [==============================] - 0s 12ms/step - loss: 0.0773 - accuracy: 0.9792 - val_loss: 0.0907 - val_accuracy: 0.9167\n",
            "Epoch 164/400\n",
            "3/3 [==============================] - 0s 15ms/step - loss: 0.0714 - accuracy: 0.9792 - val_loss: 0.0902 - val_accuracy: 0.9167\n",
            "Epoch 165/400\n",
            "3/3 [==============================] - 0s 14ms/step - loss: 0.0855 - accuracy: 0.9688 - val_loss: 0.0942 - val_accuracy: 0.9583\n",
            "Epoch 166/400\n",
            "3/3 [==============================] - 0s 12ms/step - loss: 0.0843 - accuracy: 0.9688 - val_loss: 0.1041 - val_accuracy: 0.9583\n",
            "Epoch 167/400\n",
            "3/3 [==============================] - 0s 12ms/step - loss: 0.0932 - accuracy: 0.9688 - val_loss: 0.0893 - val_accuracy: 0.9167\n",
            "Epoch 168/400\n",
            "3/3 [==============================] - 0s 13ms/step - loss: 0.0837 - accuracy: 0.9583 - val_loss: 0.0994 - val_accuracy: 0.9583\n",
            "Epoch 169/400\n",
            "3/3 [==============================] - 0s 13ms/step - loss: 0.0793 - accuracy: 0.9688 - val_loss: 0.1259 - val_accuracy: 0.9583\n",
            "Epoch 170/400\n",
            "3/3 [==============================] - 0s 15ms/step - loss: 0.1011 - accuracy: 0.9792 - val_loss: 0.0917 - val_accuracy: 0.9583\n",
            "Epoch 171/400\n",
            "3/3 [==============================] - 0s 13ms/step - loss: 0.0800 - accuracy: 0.9583 - val_loss: 0.0971 - val_accuracy: 0.9583\n",
            "Epoch 172/400\n",
            "3/3 [==============================] - 0s 15ms/step - loss: 0.0772 - accuracy: 0.9792 - val_loss: 0.0890 - val_accuracy: 0.9167\n",
            "Epoch 173/400\n",
            "3/3 [==============================] - 0s 14ms/step - loss: 0.0848 - accuracy: 0.9792 - val_loss: 0.1012 - val_accuracy: 0.9583\n",
            "Epoch 174/400\n",
            "3/3 [==============================] - 0s 12ms/step - loss: 0.0791 - accuracy: 0.9792 - val_loss: 0.1092 - val_accuracy: 0.9583\n",
            "Epoch 175/400\n",
            "3/3 [==============================] - 0s 12ms/step - loss: 0.0818 - accuracy: 0.9583 - val_loss: 0.1035 - val_accuracy: 0.9583\n",
            "Epoch 176/400\n",
            "3/3 [==============================] - 0s 17ms/step - loss: 0.0795 - accuracy: 0.9792 - val_loss: 0.1249 - val_accuracy: 0.9583\n",
            "Epoch 177/400\n",
            "3/3 [==============================] - 0s 14ms/step - loss: 0.0778 - accuracy: 0.9688 - val_loss: 0.0995 - val_accuracy: 0.9583\n",
            "Epoch 178/400\n",
            "3/3 [==============================] - 0s 13ms/step - loss: 0.0753 - accuracy: 0.9583 - val_loss: 0.0973 - val_accuracy: 0.9583\n",
            "Epoch 179/400\n",
            "3/3 [==============================] - 0s 12ms/step - loss: 0.0739 - accuracy: 0.9688 - val_loss: 0.0886 - val_accuracy: 0.9583\n",
            "Epoch 180/400\n",
            "3/3 [==============================] - 0s 17ms/step - loss: 0.0724 - accuracy: 0.9688 - val_loss: 0.1056 - val_accuracy: 0.9583\n",
            "Epoch 181/400\n",
            "3/3 [==============================] - 0s 13ms/step - loss: 0.0872 - accuracy: 0.9688 - val_loss: 0.0915 - val_accuracy: 0.9583\n",
            "Epoch 182/400\n",
            "3/3 [==============================] - 0s 13ms/step - loss: 0.0745 - accuracy: 0.9688 - val_loss: 0.1423 - val_accuracy: 0.9583\n",
            "Epoch 183/400\n",
            "3/3 [==============================] - 0s 13ms/step - loss: 0.0760 - accuracy: 0.9792 - val_loss: 0.1436 - val_accuracy: 0.9583\n",
            "Epoch 184/400\n",
            "3/3 [==============================] - 0s 14ms/step - loss: 0.0892 - accuracy: 0.9583 - val_loss: 0.0884 - val_accuracy: 0.9583\n",
            "Epoch 185/400\n",
            "3/3 [==============================] - 0s 12ms/step - loss: 0.0727 - accuracy: 0.9688 - val_loss: 0.1557 - val_accuracy: 0.9583\n",
            "Epoch 186/400\n",
            "3/3 [==============================] - 0s 12ms/step - loss: 0.1030 - accuracy: 0.9792 - val_loss: 0.0951 - val_accuracy: 0.9583\n",
            "Epoch 187/400\n",
            "3/3 [==============================] - 0s 13ms/step - loss: 0.0704 - accuracy: 0.9792 - val_loss: 0.0864 - val_accuracy: 0.9167\n",
            "Epoch 188/400\n",
            "3/3 [==============================] - 0s 16ms/step - loss: 0.0817 - accuracy: 0.9688 - val_loss: 0.0888 - val_accuracy: 0.9583\n",
            "Epoch 189/400\n",
            "3/3 [==============================] - 0s 12ms/step - loss: 0.0666 - accuracy: 0.9792 - val_loss: 0.0867 - val_accuracy: 0.9583\n",
            "Epoch 190/400\n",
            "3/3 [==============================] - 0s 13ms/step - loss: 0.0667 - accuracy: 0.9792 - val_loss: 0.0992 - val_accuracy: 0.9583\n",
            "Epoch 191/400\n",
            "3/3 [==============================] - 0s 14ms/step - loss: 0.0675 - accuracy: 0.9792 - val_loss: 0.0854 - val_accuracy: 0.9167\n",
            "Epoch 192/400\n",
            "3/3 [==============================] - 0s 13ms/step - loss: 0.0700 - accuracy: 0.9792 - val_loss: 0.1038 - val_accuracy: 0.9583\n",
            "Epoch 193/400\n",
            "3/3 [==============================] - 0s 15ms/step - loss: 0.0802 - accuracy: 0.9583 - val_loss: 0.1035 - val_accuracy: 0.9583\n",
            "Epoch 194/400\n",
            "3/3 [==============================] - 0s 14ms/step - loss: 0.0790 - accuracy: 0.9688 - val_loss: 0.0852 - val_accuracy: 0.9167\n",
            "Epoch 195/400\n",
            "3/3 [==============================] - 0s 12ms/step - loss: 0.0662 - accuracy: 0.9896 - val_loss: 0.0898 - val_accuracy: 0.9583\n",
            "Epoch 196/400\n",
            "3/3 [==============================] - 0s 12ms/step - loss: 0.0671 - accuracy: 0.9688 - val_loss: 0.1049 - val_accuracy: 0.9583\n",
            "Epoch 197/400\n",
            "3/3 [==============================] - 0s 13ms/step - loss: 0.0652 - accuracy: 0.9792 - val_loss: 0.1016 - val_accuracy: 0.9583\n",
            "Epoch 198/400\n",
            "3/3 [==============================] - 0s 14ms/step - loss: 0.0777 - accuracy: 0.9479 - val_loss: 0.1281 - val_accuracy: 0.9583\n",
            "Epoch 199/400\n",
            "3/3 [==============================] - 0s 13ms/step - loss: 0.0856 - accuracy: 0.9583 - val_loss: 0.0928 - val_accuracy: 0.9583\n",
            "Epoch 200/400\n",
            "3/3 [==============================] - 0s 13ms/step - loss: 0.0918 - accuracy: 0.9479 - val_loss: 0.1272 - val_accuracy: 0.9583\n",
            "Epoch 201/400\n",
            "3/3 [==============================] - 0s 13ms/step - loss: 0.0943 - accuracy: 0.9688 - val_loss: 0.0842 - val_accuracy: 0.9583\n",
            "Epoch 202/400\n",
            "3/3 [==============================] - 0s 13ms/step - loss: 0.0793 - accuracy: 0.9479 - val_loss: 0.0846 - val_accuracy: 0.9583\n",
            "Epoch 203/400\n",
            "3/3 [==============================] - 0s 12ms/step - loss: 0.0666 - accuracy: 0.9792 - val_loss: 0.0837 - val_accuracy: 0.9167\n",
            "Epoch 204/400\n",
            "3/3 [==============================] - 0s 13ms/step - loss: 0.0768 - accuracy: 0.9792 - val_loss: 0.0836 - val_accuracy: 0.9167\n",
            "Epoch 205/400\n",
            "3/3 [==============================] - 0s 15ms/step - loss: 0.0672 - accuracy: 0.9792 - val_loss: 0.0840 - val_accuracy: 0.9583\n",
            "Epoch 206/400\n",
            "3/3 [==============================] - 0s 13ms/step - loss: 0.0752 - accuracy: 0.9479 - val_loss: 0.1117 - val_accuracy: 0.9583\n",
            "Epoch 207/400\n",
            "3/3 [==============================] - 0s 19ms/step - loss: 0.1022 - accuracy: 0.9688 - val_loss: 0.1099 - val_accuracy: 0.9583\n",
            "Epoch 208/400\n",
            "3/3 [==============================] - 0s 12ms/step - loss: 0.0846 - accuracy: 0.9688 - val_loss: 0.0926 - val_accuracy: 0.9583\n",
            "Epoch 209/400\n",
            "3/3 [==============================] - 0s 15ms/step - loss: 0.0657 - accuracy: 0.9792 - val_loss: 0.0847 - val_accuracy: 0.9583\n",
            "Epoch 210/400\n",
            "3/3 [==============================] - 0s 13ms/step - loss: 0.0633 - accuracy: 0.9896 - val_loss: 0.0955 - val_accuracy: 0.9583\n",
            "Epoch 211/400\n",
            "3/3 [==============================] - 0s 17ms/step - loss: 0.0666 - accuracy: 0.9792 - val_loss: 0.0925 - val_accuracy: 0.9583\n",
            "Epoch 212/400\n",
            "3/3 [==============================] - 0s 16ms/step - loss: 0.0619 - accuracy: 0.9896 - val_loss: 0.0967 - val_accuracy: 0.9583\n",
            "Epoch 213/400\n",
            "3/3 [==============================] - 0s 16ms/step - loss: 0.0896 - accuracy: 0.9688 - val_loss: 0.0849 - val_accuracy: 0.9583\n",
            "Epoch 214/400\n",
            "3/3 [==============================] - 0s 14ms/step - loss: 0.0725 - accuracy: 0.9792 - val_loss: 0.0929 - val_accuracy: 0.9583\n",
            "Epoch 215/400\n",
            "3/3 [==============================] - 0s 15ms/step - loss: 0.0721 - accuracy: 0.9583 - val_loss: 0.0846 - val_accuracy: 0.9583\n",
            "Epoch 216/400\n",
            "3/3 [==============================] - 0s 15ms/step - loss: 0.0632 - accuracy: 0.9792 - val_loss: 0.0884 - val_accuracy: 0.9583\n",
            "Epoch 217/400\n",
            "3/3 [==============================] - 0s 12ms/step - loss: 0.0650 - accuracy: 0.9583 - val_loss: 0.1004 - val_accuracy: 0.9583\n",
            "Epoch 218/400\n",
            "3/3 [==============================] - 0s 19ms/step - loss: 0.0880 - accuracy: 0.9479 - val_loss: 0.1015 - val_accuracy: 0.9583\n",
            "Epoch 219/400\n",
            "3/3 [==============================] - 0s 15ms/step - loss: 0.0761 - accuracy: 0.9479 - val_loss: 0.1488 - val_accuracy: 0.9583\n",
            "Epoch 220/400\n",
            "3/3 [==============================] - 0s 14ms/step - loss: 0.0911 - accuracy: 0.9479 - val_loss: 0.0821 - val_accuracy: 0.9583\n",
            "Epoch 221/400\n",
            "3/3 [==============================] - 0s 13ms/step - loss: 0.0788 - accuracy: 0.9688 - val_loss: 0.0837 - val_accuracy: 0.9583\n",
            "Epoch 222/400\n",
            "3/3 [==============================] - 0s 13ms/step - loss: 0.0648 - accuracy: 0.9792 - val_loss: 0.1063 - val_accuracy: 0.9583\n",
            "Epoch 223/400\n",
            "3/3 [==============================] - 0s 13ms/step - loss: 0.0805 - accuracy: 0.9688 - val_loss: 0.0837 - val_accuracy: 0.9583\n",
            "Epoch 224/400\n",
            "3/3 [==============================] - 0s 14ms/step - loss: 0.0712 - accuracy: 0.9792 - val_loss: 0.1116 - val_accuracy: 0.9583\n",
            "Epoch 225/400\n",
            "3/3 [==============================] - 0s 12ms/step - loss: 0.0637 - accuracy: 0.9688 - val_loss: 0.0840 - val_accuracy: 0.9583\n",
            "Epoch 226/400\n",
            "3/3 [==============================] - 0s 13ms/step - loss: 0.0643 - accuracy: 0.9896 - val_loss: 0.0831 - val_accuracy: 0.9583\n",
            "Epoch 227/400\n",
            "3/3 [==============================] - 0s 14ms/step - loss: 0.0616 - accuracy: 0.9896 - val_loss: 0.0836 - val_accuracy: 0.9583\n",
            "Epoch 228/400\n",
            "3/3 [==============================] - 0s 14ms/step - loss: 0.0616 - accuracy: 0.9896 - val_loss: 0.1015 - val_accuracy: 0.9583\n",
            "Epoch 229/400\n",
            "3/3 [==============================] - 0s 13ms/step - loss: 0.0753 - accuracy: 0.9792 - val_loss: 0.1226 - val_accuracy: 0.9583\n",
            "Epoch 230/400\n",
            "3/3 [==============================] - 0s 12ms/step - loss: 0.0613 - accuracy: 0.9896 - val_loss: 0.1663 - val_accuracy: 0.9583\n",
            "Epoch 231/400\n",
            "3/3 [==============================] - 0s 13ms/step - loss: 0.1136 - accuracy: 0.9792 - val_loss: 0.1132 - val_accuracy: 0.9583\n",
            "Epoch 232/400\n",
            "3/3 [==============================] - 0s 12ms/step - loss: 0.0687 - accuracy: 0.9688 - val_loss: 0.1377 - val_accuracy: 0.9583\n",
            "Epoch 233/400\n",
            "3/3 [==============================] - 0s 14ms/step - loss: 0.0713 - accuracy: 0.9792 - val_loss: 0.0829 - val_accuracy: 0.9583\n",
            "Epoch 234/400\n",
            "3/3 [==============================] - 0s 14ms/step - loss: 0.0634 - accuracy: 0.9792 - val_loss: 0.1275 - val_accuracy: 0.9583\n",
            "Epoch 235/400\n",
            "3/3 [==============================] - 0s 13ms/step - loss: 0.0927 - accuracy: 0.9479 - val_loss: 0.1388 - val_accuracy: 0.9583\n",
            "Epoch 236/400\n",
            "3/3 [==============================] - 0s 15ms/step - loss: 0.0925 - accuracy: 0.9479 - val_loss: 0.0802 - val_accuracy: 0.9167\n",
            "Epoch 237/400\n",
            "3/3 [==============================] - 0s 12ms/step - loss: 0.0603 - accuracy: 0.9792 - val_loss: 0.0847 - val_accuracy: 0.9583\n",
            "Epoch 238/400\n",
            "3/3 [==============================] - 0s 13ms/step - loss: 0.0760 - accuracy: 0.9688 - val_loss: 0.0832 - val_accuracy: 0.9583\n",
            "Epoch 239/400\n",
            "3/3 [==============================] - 0s 15ms/step - loss: 0.0615 - accuracy: 0.9792 - val_loss: 0.0983 - val_accuracy: 0.9583\n",
            "Epoch 240/400\n",
            "3/3 [==============================] - 0s 14ms/step - loss: 0.0659 - accuracy: 0.9896 - val_loss: 0.0901 - val_accuracy: 0.9583\n",
            "Epoch 241/400\n",
            "3/3 [==============================] - 0s 15ms/step - loss: 0.0653 - accuracy: 0.9792 - val_loss: 0.0798 - val_accuracy: 0.9167\n",
            "Epoch 242/400\n",
            "3/3 [==============================] - 0s 17ms/step - loss: 0.0787 - accuracy: 0.9583 - val_loss: 0.0947 - val_accuracy: 0.9583\n",
            "Epoch 243/400\n",
            "3/3 [==============================] - 0s 14ms/step - loss: 0.0837 - accuracy: 0.9688 - val_loss: 0.0833 - val_accuracy: 0.9583\n",
            "Epoch 244/400\n",
            "3/3 [==============================] - 0s 17ms/step - loss: 0.0737 - accuracy: 0.9688 - val_loss: 0.0794 - val_accuracy: 0.9167\n",
            "Epoch 245/400\n",
            "3/3 [==============================] - 0s 13ms/step - loss: 0.0737 - accuracy: 0.9688 - val_loss: 0.0877 - val_accuracy: 0.9583\n",
            "Epoch 246/400\n",
            "3/3 [==============================] - 0s 13ms/step - loss: 0.0629 - accuracy: 0.9792 - val_loss: 0.0875 - val_accuracy: 0.9583\n",
            "Epoch 247/400\n",
            "3/3 [==============================] - 0s 14ms/step - loss: 0.0791 - accuracy: 0.9583 - val_loss: 0.0812 - val_accuracy: 0.9583\n",
            "Epoch 248/400\n",
            "3/3 [==============================] - 0s 14ms/step - loss: 0.0806 - accuracy: 0.9583 - val_loss: 0.0821 - val_accuracy: 0.9583\n",
            "Epoch 249/400\n",
            "3/3 [==============================] - 0s 13ms/step - loss: 0.0628 - accuracy: 0.9792 - val_loss: 0.0799 - val_accuracy: 0.9583\n",
            "Epoch 250/400\n",
            "3/3 [==============================] - 0s 13ms/step - loss: 0.0609 - accuracy: 0.9896 - val_loss: 0.0901 - val_accuracy: 0.9583\n",
            "Epoch 251/400\n",
            "3/3 [==============================] - 0s 13ms/step - loss: 0.0744 - accuracy: 0.9583 - val_loss: 0.1122 - val_accuracy: 0.9583\n",
            "Epoch 252/400\n",
            "3/3 [==============================] - 0s 12ms/step - loss: 0.0630 - accuracy: 0.9896 - val_loss: 0.0797 - val_accuracy: 0.9583\n",
            "Epoch 253/400\n",
            "3/3 [==============================] - 0s 14ms/step - loss: 0.0807 - accuracy: 0.9792 - val_loss: 0.0789 - val_accuracy: 0.9167\n",
            "Epoch 254/400\n",
            "3/3 [==============================] - 0s 12ms/step - loss: 0.0624 - accuracy: 0.9688 - val_loss: 0.1844 - val_accuracy: 0.9167\n",
            "Epoch 255/400\n",
            "3/3 [==============================] - 0s 14ms/step - loss: 0.1165 - accuracy: 0.9479 - val_loss: 0.0809 - val_accuracy: 0.9583\n",
            "Epoch 256/400\n",
            "3/3 [==============================] - 0s 13ms/step - loss: 0.0627 - accuracy: 0.9896 - val_loss: 0.1253 - val_accuracy: 0.9583\n",
            "Epoch 257/400\n",
            "3/3 [==============================] - 0s 13ms/step - loss: 0.0816 - accuracy: 0.9688 - val_loss: 0.0899 - val_accuracy: 0.9583\n",
            "Epoch 258/400\n",
            "3/3 [==============================] - 0s 18ms/step - loss: 0.0723 - accuracy: 0.9583 - val_loss: 0.0809 - val_accuracy: 0.9583\n",
            "Epoch 259/400\n",
            "3/3 [==============================] - 0s 13ms/step - loss: 0.0618 - accuracy: 0.9792 - val_loss: 0.0810 - val_accuracy: 0.9583\n",
            "Epoch 260/400\n",
            "3/3 [==============================] - 0s 16ms/step - loss: 0.0618 - accuracy: 0.9896 - val_loss: 0.0815 - val_accuracy: 0.9583\n",
            "Epoch 261/400\n",
            "3/3 [==============================] - 0s 13ms/step - loss: 0.0744 - accuracy: 0.9688 - val_loss: 0.0893 - val_accuracy: 0.9583\n",
            "Epoch 262/400\n",
            "3/3 [==============================] - 0s 13ms/step - loss: 0.0772 - accuracy: 0.9688 - val_loss: 0.0803 - val_accuracy: 0.9583\n",
            "Epoch 263/400\n",
            "3/3 [==============================] - 0s 17ms/step - loss: 0.0620 - accuracy: 0.9792 - val_loss: 0.0786 - val_accuracy: 0.9167\n",
            "Epoch 264/400\n",
            "3/3 [==============================] - 0s 14ms/step - loss: 0.0687 - accuracy: 0.9792 - val_loss: 0.1164 - val_accuracy: 0.9583\n",
            "Epoch 265/400\n",
            "3/3 [==============================] - 0s 17ms/step - loss: 0.0684 - accuracy: 0.9583 - val_loss: 0.0995 - val_accuracy: 0.9583\n",
            "Epoch 266/400\n",
            "3/3 [==============================] - 0s 15ms/step - loss: 0.0772 - accuracy: 0.9479 - val_loss: 0.1788 - val_accuracy: 0.9167\n",
            "Epoch 267/400\n",
            "3/3 [==============================] - 0s 17ms/step - loss: 0.1249 - accuracy: 0.9375 - val_loss: 0.0797 - val_accuracy: 0.9583\n",
            "Epoch 268/400\n",
            "3/3 [==============================] - 0s 13ms/step - loss: 0.0597 - accuracy: 0.9792 - val_loss: 0.0907 - val_accuracy: 0.9583\n",
            "Epoch 269/400\n",
            "3/3 [==============================] - 0s 18ms/step - loss: 0.0669 - accuracy: 0.9688 - val_loss: 0.0901 - val_accuracy: 0.9583\n",
            "Epoch 270/400\n",
            "3/3 [==============================] - 0s 16ms/step - loss: 0.0724 - accuracy: 0.9792 - val_loss: 0.0857 - val_accuracy: 0.9583\n",
            "Epoch 271/400\n",
            "3/3 [==============================] - 0s 14ms/step - loss: 0.0774 - accuracy: 0.9688 - val_loss: 0.0883 - val_accuracy: 0.9583\n",
            "Epoch 272/400\n",
            "3/3 [==============================] - 0s 14ms/step - loss: 0.0574 - accuracy: 0.9792 - val_loss: 0.0884 - val_accuracy: 0.9583\n",
            "Epoch 273/400\n",
            "3/3 [==============================] - 0s 13ms/step - loss: 0.0670 - accuracy: 0.9792 - val_loss: 0.0832 - val_accuracy: 0.9583\n",
            "Epoch 274/400\n",
            "3/3 [==============================] - 0s 21ms/step - loss: 0.0700 - accuracy: 0.9688 - val_loss: 0.1520 - val_accuracy: 0.9583\n",
            "Epoch 275/400\n",
            "3/3 [==============================] - 0s 14ms/step - loss: 0.0671 - accuracy: 0.9792 - val_loss: 0.0949 - val_accuracy: 0.9583\n",
            "Epoch 276/400\n",
            "3/3 [==============================] - 0s 15ms/step - loss: 0.0670 - accuracy: 0.9688 - val_loss: 0.1039 - val_accuracy: 0.9583\n",
            "Epoch 277/400\n",
            "3/3 [==============================] - 0s 12ms/step - loss: 0.0745 - accuracy: 0.9375 - val_loss: 0.1028 - val_accuracy: 0.9583\n",
            "Epoch 278/400\n",
            "3/3 [==============================] - 0s 15ms/step - loss: 0.0758 - accuracy: 0.9583 - val_loss: 0.1034 - val_accuracy: 0.9583\n",
            "Epoch 279/400\n",
            "3/3 [==============================] - 0s 13ms/step - loss: 0.0621 - accuracy: 0.9583 - val_loss: 0.0869 - val_accuracy: 0.9583\n",
            "Epoch 280/400\n",
            "3/3 [==============================] - 0s 13ms/step - loss: 0.0630 - accuracy: 0.9792 - val_loss: 0.0812 - val_accuracy: 0.9583\n",
            "Epoch 281/400\n",
            "3/3 [==============================] - 0s 16ms/step - loss: 0.0593 - accuracy: 0.9792 - val_loss: 0.0780 - val_accuracy: 0.9167\n",
            "Epoch 282/400\n",
            "3/3 [==============================] - 0s 17ms/step - loss: 0.0567 - accuracy: 0.9896 - val_loss: 0.0868 - val_accuracy: 0.9583\n",
            "Epoch 283/400\n",
            "3/3 [==============================] - 0s 12ms/step - loss: 0.0903 - accuracy: 0.9583 - val_loss: 0.0861 - val_accuracy: 0.9583\n",
            "Epoch 284/400\n",
            "3/3 [==============================] - 0s 15ms/step - loss: 0.0626 - accuracy: 0.9792 - val_loss: 0.0780 - val_accuracy: 0.9167\n",
            "Epoch 285/400\n",
            "3/3 [==============================] - 0s 13ms/step - loss: 0.0582 - accuracy: 0.9792 - val_loss: 0.1893 - val_accuracy: 0.9167\n",
            "Epoch 286/400\n",
            "3/3 [==============================] - 0s 14ms/step - loss: 0.1143 - accuracy: 0.9479 - val_loss: 0.1074 - val_accuracy: 0.9583\n",
            "Epoch 287/400\n",
            "3/3 [==============================] - 0s 19ms/step - loss: 0.0657 - accuracy: 0.9688 - val_loss: 0.0875 - val_accuracy: 0.9583\n",
            "Epoch 288/400\n",
            "3/3 [==============================] - 0s 14ms/step - loss: 0.0824 - accuracy: 0.9583 - val_loss: 0.0855 - val_accuracy: 0.9583\n",
            "Epoch 289/400\n",
            "3/3 [==============================] - 0s 12ms/step - loss: 0.0835 - accuracy: 0.9688 - val_loss: 0.0830 - val_accuracy: 0.9583\n",
            "Epoch 290/400\n",
            "3/3 [==============================] - 0s 14ms/step - loss: 0.0600 - accuracy: 0.9792 - val_loss: 0.0783 - val_accuracy: 0.9583\n",
            "Epoch 291/400\n",
            "3/3 [==============================] - 0s 15ms/step - loss: 0.0582 - accuracy: 0.9896 - val_loss: 0.1122 - val_accuracy: 0.9583\n",
            "Epoch 292/400\n",
            "3/3 [==============================] - 0s 23ms/step - loss: 0.0792 - accuracy: 0.9688 - val_loss: 0.1654 - val_accuracy: 0.9583\n",
            "Epoch 293/400\n",
            "3/3 [==============================] - 0s 15ms/step - loss: 0.0697 - accuracy: 0.9688 - val_loss: 0.0784 - val_accuracy: 0.9583\n",
            "Epoch 294/400\n",
            "3/3 [==============================] - 0s 24ms/step - loss: 0.0570 - accuracy: 0.9792 - val_loss: 0.0844 - val_accuracy: 0.9583\n",
            "Epoch 295/400\n",
            "3/3 [==============================] - 0s 14ms/step - loss: 0.0618 - accuracy: 0.9792 - val_loss: 0.0914 - val_accuracy: 0.9583\n",
            "Epoch 296/400\n",
            "3/3 [==============================] - 0s 12ms/step - loss: 0.0736 - accuracy: 0.9792 - val_loss: 0.0935 - val_accuracy: 0.9583\n",
            "Epoch 297/400\n",
            "3/3 [==============================] - 0s 17ms/step - loss: 0.0684 - accuracy: 0.9792 - val_loss: 0.0770 - val_accuracy: 0.9583\n",
            "Epoch 298/400\n",
            "3/3 [==============================] - 0s 15ms/step - loss: 0.0578 - accuracy: 0.9792 - val_loss: 0.0786 - val_accuracy: 0.9583\n",
            "Epoch 299/400\n",
            "3/3 [==============================] - 0s 13ms/step - loss: 0.0602 - accuracy: 0.9896 - val_loss: 0.0773 - val_accuracy: 0.9167\n",
            "Epoch 300/400\n",
            "3/3 [==============================] - 0s 13ms/step - loss: 0.0572 - accuracy: 0.9896 - val_loss: 0.1012 - val_accuracy: 0.9583\n",
            "Epoch 301/400\n",
            "3/3 [==============================] - 0s 15ms/step - loss: 0.0647 - accuracy: 0.9792 - val_loss: 0.1296 - val_accuracy: 0.9583\n",
            "Epoch 302/400\n",
            "3/3 [==============================] - 0s 12ms/step - loss: 0.0993 - accuracy: 0.9688 - val_loss: 0.0902 - val_accuracy: 0.9583\n",
            "Epoch 303/400\n",
            "3/3 [==============================] - 0s 15ms/step - loss: 0.0555 - accuracy: 0.9896 - val_loss: 0.1072 - val_accuracy: 0.9583\n",
            "Epoch 304/400\n",
            "3/3 [==============================] - 0s 14ms/step - loss: 0.0954 - accuracy: 0.9583 - val_loss: 0.0788 - val_accuracy: 0.9583\n",
            "Epoch 305/400\n",
            "3/3 [==============================] - 0s 14ms/step - loss: 0.0632 - accuracy: 0.9896 - val_loss: 0.0764 - val_accuracy: 0.9167\n",
            "Epoch 306/400\n",
            "3/3 [==============================] - 0s 14ms/step - loss: 0.0641 - accuracy: 0.9792 - val_loss: 0.0765 - val_accuracy: 0.9167\n",
            "Epoch 307/400\n",
            "3/3 [==============================] - 0s 17ms/step - loss: 0.0617 - accuracy: 0.9792 - val_loss: 0.0779 - val_accuracy: 0.9583\n",
            "Epoch 308/400\n",
            "3/3 [==============================] - 0s 14ms/step - loss: 0.0680 - accuracy: 0.9688 - val_loss: 0.0766 - val_accuracy: 0.9167\n",
            "Epoch 309/400\n",
            "3/3 [==============================] - 0s 15ms/step - loss: 0.0893 - accuracy: 0.9375 - val_loss: 0.0859 - val_accuracy: 0.9583\n",
            "Epoch 310/400\n",
            "3/3 [==============================] - 0s 20ms/step - loss: 0.0634 - accuracy: 0.9688 - val_loss: 0.1485 - val_accuracy: 0.9583\n",
            "Epoch 311/400\n",
            "3/3 [==============================] - 0s 13ms/step - loss: 0.1038 - accuracy: 0.9375 - val_loss: 0.0772 - val_accuracy: 0.9583\n",
            "Epoch 312/400\n",
            "3/3 [==============================] - 0s 16ms/step - loss: 0.0632 - accuracy: 0.9792 - val_loss: 0.0762 - val_accuracy: 0.9167\n",
            "Epoch 313/400\n",
            "3/3 [==============================] - 0s 14ms/step - loss: 0.0640 - accuracy: 0.9792 - val_loss: 0.0806 - val_accuracy: 0.9583\n",
            "Epoch 314/400\n",
            "3/3 [==============================] - 0s 14ms/step - loss: 0.0785 - accuracy: 0.9688 - val_loss: 0.0781 - val_accuracy: 0.9583\n",
            "Epoch 315/400\n",
            "3/3 [==============================] - 0s 15ms/step - loss: 0.0572 - accuracy: 0.9688 - val_loss: 0.0793 - val_accuracy: 0.9583\n",
            "Epoch 316/400\n",
            "3/3 [==============================] - 0s 17ms/step - loss: 0.0565 - accuracy: 0.9792 - val_loss: 0.0774 - val_accuracy: 0.9583\n",
            "Epoch 317/400\n",
            "3/3 [==============================] - 0s 12ms/step - loss: 0.0608 - accuracy: 0.9896 - val_loss: 0.1074 - val_accuracy: 0.9583\n",
            "Epoch 318/400\n",
            "3/3 [==============================] - 0s 18ms/step - loss: 0.0932 - accuracy: 0.9479 - val_loss: 0.1153 - val_accuracy: 0.9583\n",
            "Epoch 319/400\n",
            "3/3 [==============================] - 0s 16ms/step - loss: 0.0762 - accuracy: 0.9688 - val_loss: 0.0915 - val_accuracy: 0.9583\n",
            "Epoch 320/400\n",
            "3/3 [==============================] - 0s 13ms/step - loss: 0.0590 - accuracy: 0.9792 - val_loss: 0.0760 - val_accuracy: 0.9167\n",
            "Epoch 321/400\n",
            "3/3 [==============================] - 0s 17ms/step - loss: 0.0560 - accuracy: 0.9896 - val_loss: 0.0770 - val_accuracy: 0.9583\n",
            "Epoch 322/400\n",
            "3/3 [==============================] - 0s 14ms/step - loss: 0.0592 - accuracy: 0.9688 - val_loss: 0.0788 - val_accuracy: 0.9583\n",
            "Epoch 323/400\n",
            "3/3 [==============================] - 0s 15ms/step - loss: 0.0574 - accuracy: 0.9792 - val_loss: 0.1054 - val_accuracy: 0.9583\n",
            "Epoch 324/400\n",
            "3/3 [==============================] - 0s 16ms/step - loss: 0.0531 - accuracy: 0.9688 - val_loss: 0.0809 - val_accuracy: 0.9583\n",
            "Epoch 325/400\n",
            "3/3 [==============================] - 0s 14ms/step - loss: 0.0609 - accuracy: 0.9792 - val_loss: 0.1010 - val_accuracy: 0.9583\n",
            "Epoch 326/400\n",
            "3/3 [==============================] - 0s 15ms/step - loss: 0.0569 - accuracy: 0.9792 - val_loss: 0.0776 - val_accuracy: 0.9583\n",
            "Epoch 327/400\n",
            "3/3 [==============================] - 0s 13ms/step - loss: 0.0554 - accuracy: 0.9792 - val_loss: 0.0895 - val_accuracy: 0.9583\n",
            "Epoch 328/400\n",
            "3/3 [==============================] - 0s 18ms/step - loss: 0.0884 - accuracy: 0.9792 - val_loss: 0.0963 - val_accuracy: 0.9583\n",
            "Epoch 329/400\n",
            "3/3 [==============================] - 0s 18ms/step - loss: 0.0667 - accuracy: 0.9688 - val_loss: 0.1033 - val_accuracy: 0.9583\n",
            "Epoch 330/400\n",
            "3/3 [==============================] - 0s 14ms/step - loss: 0.0677 - accuracy: 0.9688 - val_loss: 0.1548 - val_accuracy: 0.9583\n",
            "Epoch 331/400\n",
            "3/3 [==============================] - 0s 17ms/step - loss: 0.0704 - accuracy: 0.9688 - val_loss: 0.0774 - val_accuracy: 0.9583\n",
            "Epoch 332/400\n",
            "3/3 [==============================] - 0s 15ms/step - loss: 0.0641 - accuracy: 0.9688 - val_loss: 0.0868 - val_accuracy: 0.9583\n",
            "Epoch 333/400\n",
            "3/3 [==============================] - 0s 14ms/step - loss: 0.0650 - accuracy: 0.9688 - val_loss: 0.0796 - val_accuracy: 0.9583\n",
            "Epoch 334/400\n",
            "3/3 [==============================] - 0s 23ms/step - loss: 0.0664 - accuracy: 0.9688 - val_loss: 0.0757 - val_accuracy: 0.9167\n",
            "Epoch 335/400\n",
            "3/3 [==============================] - 0s 13ms/step - loss: 0.0545 - accuracy: 0.9792 - val_loss: 0.1287 - val_accuracy: 0.9583\n",
            "Epoch 336/400\n",
            "3/3 [==============================] - 0s 17ms/step - loss: 0.0631 - accuracy: 0.9688 - val_loss: 0.0791 - val_accuracy: 0.9583\n",
            "Epoch 337/400\n",
            "3/3 [==============================] - 0s 14ms/step - loss: 0.0646 - accuracy: 0.9688 - val_loss: 0.1991 - val_accuracy: 0.9167\n",
            "Epoch 338/400\n",
            "3/3 [==============================] - 0s 15ms/step - loss: 0.0835 - accuracy: 0.9479 - val_loss: 0.0756 - val_accuracy: 0.9167\n",
            "Epoch 339/400\n",
            "3/3 [==============================] - 0s 13ms/step - loss: 0.0571 - accuracy: 0.9792 - val_loss: 0.0783 - val_accuracy: 0.9583\n",
            "Epoch 340/400\n",
            "3/3 [==============================] - 0s 17ms/step - loss: 0.0590 - accuracy: 0.9896 - val_loss: 0.0904 - val_accuracy: 0.9583\n",
            "Epoch 341/400\n",
            "3/3 [==============================] - 0s 15ms/step - loss: 0.0690 - accuracy: 0.9792 - val_loss: 0.0769 - val_accuracy: 0.9583\n",
            "Epoch 342/400\n",
            "3/3 [==============================] - 0s 14ms/step - loss: 0.0625 - accuracy: 0.9688 - val_loss: 0.0865 - val_accuracy: 0.9583\n",
            "Epoch 343/400\n",
            "3/3 [==============================] - 0s 17ms/step - loss: 0.0735 - accuracy: 0.9688 - val_loss: 0.0821 - val_accuracy: 0.9583\n",
            "Epoch 344/400\n",
            "3/3 [==============================] - 0s 23ms/step - loss: 0.0720 - accuracy: 0.9688 - val_loss: 0.1442 - val_accuracy: 0.9583\n",
            "Epoch 345/400\n",
            "3/3 [==============================] - 0s 13ms/step - loss: 0.0668 - accuracy: 0.9688 - val_loss: 0.0793 - val_accuracy: 0.9583\n",
            "Epoch 346/400\n",
            "3/3 [==============================] - 0s 16ms/step - loss: 0.0579 - accuracy: 0.9896 - val_loss: 0.1368 - val_accuracy: 0.9583\n",
            "Epoch 347/400\n",
            "3/3 [==============================] - 0s 18ms/step - loss: 0.0784 - accuracy: 0.9688 - val_loss: 0.0794 - val_accuracy: 0.9583\n",
            "Epoch 348/400\n",
            "3/3 [==============================] - 0s 14ms/step - loss: 0.0533 - accuracy: 0.9896 - val_loss: 0.0758 - val_accuracy: 0.9583\n",
            "Epoch 349/400\n",
            "3/3 [==============================] - 0s 15ms/step - loss: 0.0589 - accuracy: 0.9688 - val_loss: 0.1306 - val_accuracy: 0.9583\n",
            "Epoch 350/400\n",
            "3/3 [==============================] - 0s 15ms/step - loss: 0.0609 - accuracy: 0.9688 - val_loss: 0.0772 - val_accuracy: 0.9583\n",
            "Epoch 351/400\n",
            "3/3 [==============================] - 0s 13ms/step - loss: 0.0557 - accuracy: 0.9896 - val_loss: 0.0985 - val_accuracy: 0.9583\n",
            "Epoch 352/400\n",
            "3/3 [==============================] - 0s 15ms/step - loss: 0.0704 - accuracy: 0.9583 - val_loss: 0.1061 - val_accuracy: 0.9583\n",
            "Epoch 353/400\n",
            "3/3 [==============================] - 0s 13ms/step - loss: 0.0680 - accuracy: 0.9792 - val_loss: 0.0950 - val_accuracy: 0.9583\n",
            "Epoch 354/400\n",
            "3/3 [==============================] - 0s 16ms/step - loss: 0.0891 - accuracy: 0.9688 - val_loss: 0.0808 - val_accuracy: 0.9583\n",
            "Epoch 355/400\n",
            "3/3 [==============================] - 0s 18ms/step - loss: 0.0604 - accuracy: 0.9792 - val_loss: 0.0785 - val_accuracy: 0.9583\n",
            "Epoch 356/400\n",
            "3/3 [==============================] - 0s 13ms/step - loss: 0.0639 - accuracy: 0.9688 - val_loss: 0.1605 - val_accuracy: 0.9583\n",
            "Epoch 357/400\n",
            "3/3 [==============================] - 0s 14ms/step - loss: 0.0726 - accuracy: 0.9583 - val_loss: 0.0771 - val_accuracy: 0.9583\n",
            "Epoch 358/400\n",
            "3/3 [==============================] - 0s 12ms/step - loss: 0.0521 - accuracy: 0.9896 - val_loss: 0.0753 - val_accuracy: 0.9167\n",
            "Epoch 359/400\n",
            "3/3 [==============================] - 0s 20ms/step - loss: 0.0523 - accuracy: 0.9792 - val_loss: 0.0858 - val_accuracy: 0.9583\n",
            "Epoch 360/400\n",
            "3/3 [==============================] - 0s 18ms/step - loss: 0.0516 - accuracy: 0.9896 - val_loss: 0.1047 - val_accuracy: 0.9583\n",
            "Epoch 361/400\n",
            "3/3 [==============================] - 0s 16ms/step - loss: 0.0623 - accuracy: 0.9792 - val_loss: 0.1158 - val_accuracy: 0.9583\n",
            "Epoch 362/400\n",
            "3/3 [==============================] - 0s 16ms/step - loss: 0.0697 - accuracy: 0.9688 - val_loss: 0.1570 - val_accuracy: 0.9583\n",
            "Epoch 363/400\n",
            "3/3 [==============================] - 0s 13ms/step - loss: 0.1061 - accuracy: 0.9375 - val_loss: 0.1328 - val_accuracy: 0.9583\n",
            "Epoch 364/400\n",
            "3/3 [==============================] - 0s 15ms/step - loss: 0.0724 - accuracy: 0.9688 - val_loss: 0.0747 - val_accuracy: 0.9167\n",
            "Epoch 365/400\n",
            "3/3 [==============================] - 0s 24ms/step - loss: 0.0597 - accuracy: 0.9688 - val_loss: 0.0750 - val_accuracy: 0.9583\n",
            "Epoch 366/400\n",
            "3/3 [==============================] - 0s 15ms/step - loss: 0.0533 - accuracy: 0.9896 - val_loss: 0.0828 - val_accuracy: 0.9583\n",
            "Epoch 367/400\n",
            "3/3 [==============================] - 0s 14ms/step - loss: 0.0675 - accuracy: 0.9792 - val_loss: 0.1069 - val_accuracy: 0.9583\n",
            "Epoch 368/400\n",
            "3/3 [==============================] - 0s 14ms/step - loss: 0.0536 - accuracy: 0.9688 - val_loss: 0.0814 - val_accuracy: 0.9583\n",
            "Epoch 369/400\n",
            "3/3 [==============================] - 0s 19ms/step - loss: 0.0564 - accuracy: 0.9896 - val_loss: 0.0883 - val_accuracy: 0.9583\n",
            "Epoch 370/400\n",
            "3/3 [==============================] - 0s 14ms/step - loss: 0.0564 - accuracy: 0.9688 - val_loss: 0.0864 - val_accuracy: 0.9583\n",
            "Epoch 371/400\n",
            "3/3 [==============================] - 0s 13ms/step - loss: 0.0645 - accuracy: 0.9688 - val_loss: 0.0746 - val_accuracy: 0.9167\n",
            "Epoch 372/400\n",
            "3/3 [==============================] - 0s 17ms/step - loss: 0.0656 - accuracy: 0.9688 - val_loss: 0.0878 - val_accuracy: 0.9583\n",
            "Epoch 373/400\n",
            "3/3 [==============================] - 0s 14ms/step - loss: 0.0593 - accuracy: 0.9792 - val_loss: 0.1443 - val_accuracy: 0.9583\n",
            "Epoch 374/400\n",
            "3/3 [==============================] - 0s 15ms/step - loss: 0.0761 - accuracy: 0.9792 - val_loss: 0.1048 - val_accuracy: 0.9583\n",
            "Epoch 375/400\n",
            "3/3 [==============================] - 0s 15ms/step - loss: 0.0571 - accuracy: 0.9688 - val_loss: 0.0884 - val_accuracy: 0.9583\n",
            "Epoch 376/400\n",
            "3/3 [==============================] - 0s 16ms/step - loss: 0.0517 - accuracy: 0.9792 - val_loss: 0.0754 - val_accuracy: 0.9583\n",
            "Epoch 377/400\n",
            "3/3 [==============================] - 0s 15ms/step - loss: 0.0522 - accuracy: 0.9896 - val_loss: 0.0768 - val_accuracy: 0.9583\n",
            "Epoch 378/400\n",
            "3/3 [==============================] - 0s 13ms/step - loss: 0.0551 - accuracy: 0.9792 - val_loss: 0.2390 - val_accuracy: 0.8750\n",
            "Epoch 379/400\n",
            "3/3 [==============================] - 0s 14ms/step - loss: 0.0884 - accuracy: 0.9688 - val_loss: 0.0746 - val_accuracy: 0.9167\n",
            "Epoch 380/400\n",
            "3/3 [==============================] - 0s 14ms/step - loss: 0.0593 - accuracy: 0.9792 - val_loss: 0.0751 - val_accuracy: 0.9167\n",
            "Epoch 381/400\n",
            "3/3 [==============================] - 0s 14ms/step - loss: 0.0612 - accuracy: 0.9792 - val_loss: 0.1176 - val_accuracy: 0.9583\n",
            "Epoch 382/400\n",
            "3/3 [==============================] - 0s 13ms/step - loss: 0.0905 - accuracy: 0.9792 - val_loss: 0.0771 - val_accuracy: 0.9583\n",
            "Epoch 383/400\n",
            "3/3 [==============================] - 0s 18ms/step - loss: 0.0554 - accuracy: 0.9792 - val_loss: 0.1052 - val_accuracy: 0.9583\n",
            "Epoch 384/400\n",
            "3/3 [==============================] - 0s 18ms/step - loss: 0.0699 - accuracy: 0.9479 - val_loss: 0.0799 - val_accuracy: 0.9583\n",
            "Epoch 385/400\n",
            "3/3 [==============================] - 0s 16ms/step - loss: 0.0579 - accuracy: 0.9688 - val_loss: 0.0761 - val_accuracy: 0.9583\n",
            "Epoch 386/400\n",
            "3/3 [==============================] - 0s 18ms/step - loss: 0.0689 - accuracy: 0.9688 - val_loss: 0.0950 - val_accuracy: 0.9583\n",
            "Epoch 387/400\n",
            "3/3 [==============================] - 0s 14ms/step - loss: 0.0517 - accuracy: 0.9792 - val_loss: 0.0871 - val_accuracy: 0.9583\n",
            "Epoch 388/400\n",
            "3/3 [==============================] - 0s 14ms/step - loss: 0.0728 - accuracy: 0.9792 - val_loss: 0.0743 - val_accuracy: 0.9167\n",
            "Epoch 389/400\n",
            "3/3 [==============================] - 0s 15ms/step - loss: 0.0561 - accuracy: 0.9896 - val_loss: 0.0754 - val_accuracy: 0.9583\n",
            "Epoch 390/400\n",
            "3/3 [==============================] - 0s 16ms/step - loss: 0.0693 - accuracy: 0.9688 - val_loss: 0.1894 - val_accuracy: 0.9167\n",
            "Epoch 391/400\n",
            "3/3 [==============================] - 0s 12ms/step - loss: 0.0969 - accuracy: 0.9479 - val_loss: 0.0746 - val_accuracy: 0.9583\n",
            "Epoch 392/400\n",
            "3/3 [==============================] - 0s 19ms/step - loss: 0.0567 - accuracy: 0.9792 - val_loss: 0.0868 - val_accuracy: 0.9583\n",
            "Epoch 393/400\n",
            "3/3 [==============================] - 0s 19ms/step - loss: 0.0512 - accuracy: 0.9792 - val_loss: 0.0740 - val_accuracy: 0.9167\n",
            "Epoch 394/400\n",
            "3/3 [==============================] - 0s 14ms/step - loss: 0.0532 - accuracy: 0.9896 - val_loss: 0.0745 - val_accuracy: 0.9167\n",
            "Epoch 395/400\n",
            "3/3 [==============================] - 0s 13ms/step - loss: 0.0526 - accuracy: 0.9896 - val_loss: 0.0807 - val_accuracy: 0.9583\n",
            "Epoch 396/400\n",
            "3/3 [==============================] - 0s 15ms/step - loss: 0.0651 - accuracy: 0.9792 - val_loss: 0.0798 - val_accuracy: 0.9583\n",
            "Epoch 397/400\n",
            "3/3 [==============================] - 0s 14ms/step - loss: 0.0575 - accuracy: 0.9896 - val_loss: 0.0882 - val_accuracy: 0.9583\n",
            "Epoch 398/400\n",
            "3/3 [==============================] - 0s 16ms/step - loss: 0.0521 - accuracy: 0.9896 - val_loss: 0.0749 - val_accuracy: 0.9583\n",
            "Epoch 399/400\n",
            "3/3 [==============================] - 0s 17ms/step - loss: 0.0843 - accuracy: 0.9375 - val_loss: 0.1061 - val_accuracy: 0.9583\n",
            "Epoch 400/400\n",
            "3/3 [==============================] - 0s 14ms/step - loss: 0.0714 - accuracy: 0.9688 - val_loss: 0.0977 - val_accuracy: 0.9583\n"
          ]
        }
      ]
    },
    {
      "cell_type": "code",
      "metadata": {
        "colab": {
          "base_uri": "https://localhost:8080/",
          "height": 590
        },
        "id": "L8BV6hLhvhGN",
        "outputId": "031e8e07-bfd5-4a12-909b-4542e6800948"
      },
      "source": [
        "# list all data in history\n",
        "print(history.history.keys())\n",
        "# summarize history for accuracy\n",
        "plt.plot(history.history['accuracy'])\n",
        "plt.plot(history.history['val_accuracy'])\n",
        "plt.title('model accuracy')\n",
        "plt.ylabel('accuracy')\n",
        "plt.xlabel('epoch')\n",
        "plt.legend(['train', 'test'], loc='upper left')\n",
        "plt.show()\n",
        "# summarize history for loss\n",
        "plt.plot(history.history['loss'])\n",
        "plt.plot(history.history['val_loss'])\n",
        "plt.title('model loss')\n",
        "plt.ylabel('loss')\n",
        "plt.xlabel('epoch')\n",
        "plt.legend(['train', 'test'], loc='upper left')\n",
        "plt.show()"
      ],
      "execution_count": 6,
      "outputs": [
        {
          "output_type": "stream",
          "name": "stdout",
          "text": [
            "dict_keys(['loss', 'accuracy', 'val_loss', 'val_accuracy'])\n"
          ]
        },
        {
          "output_type": "display_data",
          "data": {
            "image/png": "[encoded data removed]",
            "text/plain": [
              "<Figure size 432x288 with 1 Axes>"
            ]
          },
          "metadata": {
            "needs_background": "light"
          }
        },
        {
          "output_type": "display_data",
          "data": {
            "image/png": "[encoded data removed]",
            "text/plain": [
              "<Figure size 432x288 with 1 Axes>"
            ]
          },
          "metadata": {
            "needs_background": "light"
          }
        }
      ]
    },
    {
      "cell_type": "code",
      "metadata": {
        "colab": {
          "base_uri": "https://localhost:8080/"
        },
        "id": "dadM6OZrvjIU",
        "outputId": "f26f381e-1597-4da4-ca51-fa26d55726f9"
      },
      "source": [
        "#\n",
        "# Get the accuracy of test data set\n",
        "#\n",
        "test_loss, test_acc = overfitting_network.evaluate(X_test, test_labels)\n",
        "#\n",
        "# Print the test accura0cy\n",
        "#\n",
        "print('Test Accuracy: ', test_acc, '\\nTest Loss: ', test_loss)"
      ],
      "execution_count": 7,
      "outputs": [
        {
          "output_type": "stream",
          "name": "stdout",
          "text": [
            "1/1 [==============================] - 0s 18ms/step - loss: 0.0773 - accuracy: 0.9333\n",
            "Test Accuracy:  0.9333333373069763 \n",
            "Test Loss:  0.0772576853632927\n"
          ]
        }
      ]
    },
    {
      "cell_type": "code",
      "metadata": {
        "id": "HxsxvvgYzSVL"
      },
      "source": [
        "y_hats_overfitting = overfitting_network.predict(df.loc[:, [0, 1, 2, 3]])\n",
        "classes_x_overfitting=np.argmax(y_hats_overfitting,axis=1)"
      ],
      "execution_count": 8,
      "outputs": []
    },
    {
      "cell_type": "code",
      "metadata": {
        "id": "_y-F6iHU0aRc"
      },
      "source": [
        "overfitting_predictions = pd.DataFrame(classes_x_overfitting, columns=['overfitting_predictions'])\n",
        "df = pd.concat([df, overfitting_predictions], axis =1)\n"
      ],
      "execution_count": 9,
      "outputs": []
    },
    {
      "cell_type": "code",
      "metadata": {
        "colab": {
          "base_uri": "https://localhost:8080/"
        },
        "id": "02x9trm8ziM_",
        "outputId": "6d1911d8-3cd1-4c33-e3bd-7528805d6159"
      },
      "source": [
        "#train underfitting\n",
        "history = underfitting_network.fit(X_train, train_labels, epochs=15, batch_size=40,validation_data=(X_val, val_labels))"
      ],
      "execution_count": 10,
      "outputs": [
        {
          "output_type": "stream",
          "name": "stdout",
          "text": [
            "Epoch 1/15\n",
            "3/3 [==============================] - 1s 81ms/step - loss: 1.0931 - accuracy: 0.4792 - val_loss: 1.0403 - val_accuracy: 0.4583\n",
            "Epoch 2/15\n",
            "3/3 [==============================] - 0s 11ms/step - loss: 0.8490 - accuracy: 0.7188 - val_loss: 0.8329 - val_accuracy: 0.7083\n",
            "Epoch 3/15\n",
            "3/3 [==============================] - 0s 10ms/step - loss: 0.7694 - accuracy: 0.7188 - val_loss: 0.8916 - val_accuracy: 0.4583\n",
            "Epoch 4/15\n",
            "3/3 [==============================] - 0s 11ms/step - loss: 0.6993 - accuracy: 0.8021 - val_loss: 0.8973 - val_accuracy: 0.4583\n",
            "Epoch 5/15\n",
            "3/3 [==============================] - 0s 12ms/step - loss: 0.6429 - accuracy: 0.7188 - val_loss: 0.8587 - val_accuracy: 0.4583\n",
            "Epoch 6/15\n",
            "3/3 [==============================] - 0s 12ms/step - loss: 0.6103 - accuracy: 0.7396 - val_loss: 0.8858 - val_accuracy: 0.4583\n",
            "Epoch 7/15\n",
            "3/3 [==============================] - 0s 12ms/step - loss: 0.5832 - accuracy: 0.7188 - val_loss: 0.7135 - val_accuracy: 0.7083\n",
            "Epoch 8/15\n",
            "3/3 [==============================] - 0s 13ms/step - loss: 0.5748 - accuracy: 0.7812 - val_loss: 0.7374 - val_accuracy: 0.4583\n",
            "Epoch 9/15\n",
            "3/3 [==============================] - 0s 13ms/step - loss: 0.5205 - accuracy: 0.7188 - val_loss: 0.6280 - val_accuracy: 0.7500\n",
            "Epoch 10/15\n",
            "3/3 [==============================] - 0s 14ms/step - loss: 0.5129 - accuracy: 0.7917 - val_loss: 0.6654 - val_accuracy: 0.7083\n",
            "Epoch 11/15\n",
            "3/3 [==============================] - 0s 11ms/step - loss: 0.4966 - accuracy: 0.7917 - val_loss: 0.6995 - val_accuracy: 0.4583\n",
            "Epoch 12/15\n",
            "3/3 [==============================] - 0s 13ms/step - loss: 0.4733 - accuracy: 0.7604 - val_loss: 0.6715 - val_accuracy: 0.4583\n",
            "Epoch 13/15\n",
            "3/3 [==============================] - 0s 13ms/step - loss: 0.4486 - accuracy: 0.7604 - val_loss: 0.5895 - val_accuracy: 0.9583\n",
            "Epoch 14/15\n",
            "3/3 [==============================] - 0s 12ms/step - loss: 0.4358 - accuracy: 0.8854 - val_loss: 0.5494 - val_accuracy: 0.9583\n",
            "Epoch 15/15\n",
            "3/3 [==============================] - 0s 11ms/step - loss: 0.4252 - accuracy: 0.8542 - val_loss: 0.5254 - val_accuracy: 0.8750\n"
          ]
        }
      ]
    },
    {
      "cell_type": "code",
      "metadata": {
        "id": "hAb6gqf-zmTj"
      },
      "source": [
        "y_hats_underfitting = underfitting_network.predict(df.loc[:, [0, 1, 2, 3]])\n",
        "classes_x_underfitting=np.argmax(y_hats_underfitting,axis=1)"
      ],
      "execution_count": 11,
      "outputs": []
    },
    {
      "cell_type": "code",
      "metadata": {
        "id": "vLQXKgDB00QU"
      },
      "source": [
        "underfitting_predictions = pd.DataFrame(classes_x_underfitting, columns=['underfitting_predictions'])\n",
        "df = pd.concat([df, underfitting_predictions], axis =1)"
      ],
      "execution_count": 12,
      "outputs": []
    },
    {
      "cell_type": "markdown",
      "metadata": {
        "id": "-9eRDk5jr_X3"
      },
      "source": [
        "Binning the continous columns"
      ]
    },
    {
      "cell_type": "code",
      "metadata": {
        "colab": {
          "base_uri": "https://localhost:8080/",
          "height": 294
        },
        "id": "6tYV67-qW8XQ",
        "outputId": "e8199834-83ff-4cf3-e875-2de059e33830"
      },
      "source": [
        "df.describe()"
      ],
      "execution_count": 13,
      "outputs": [
        {
          "output_type": "execute_result",
          "data": {
            "text/html": [
              "<div>\n",
              "<style scoped>\n",
              "    .dataframe tbody tr th:only-of-type {\n",
              "        vertical-align: middle;\n",
              "    }\n",
              "\n",
              "    .dataframe tbody tr th {\n",
              "        vertical-align: top;\n",
              "    }\n",
              "\n",
              "    .dataframe thead th {\n",
              "        text-align: right;\n",
              "    }\n",
              "</style>\n",
              "<table border=\"1\" class=\"dataframe\">\n",
              "  <thead>\n",
              "    <tr style=\"text-align: right;\">\n",
              "      <th></th>\n",
              "      <th>0</th>\n",
              "      <th>1</th>\n",
              "      <th>2</th>\n",
              "      <th>3</th>\n",
              "      <th>class</th>\n",
              "      <th>overfitting_predictions</th>\n",
              "      <th>underfitting_predictions</th>\n",
              "    </tr>\n",
              "  </thead>\n",
              "  <tbody>\n",
              "    <tr>\n",
              "      <th>count</th>\n",
              "      <td>150.000000</td>\n",
              "      <td>150.000000</td>\n",
              "      <td>150.000000</td>\n",
              "      <td>150.000000</td>\n",
              "      <td>150.000000</td>\n",
              "      <td>150.0000</td>\n",
              "      <td>150.000000</td>\n",
              "    </tr>\n",
              "    <tr>\n",
              "      <th>mean</th>\n",
              "      <td>5.843333</td>\n",
              "      <td>3.057333</td>\n",
              "      <td>3.758000</td>\n",
              "      <td>1.199333</td>\n",
              "      <td>1.000000</td>\n",
              "      <td>0.9800</td>\n",
              "      <td>0.833333</td>\n",
              "    </tr>\n",
              "    <tr>\n",
              "      <th>std</th>\n",
              "      <td>0.828066</td>\n",
              "      <td>0.435866</td>\n",
              "      <td>1.765298</td>\n",
              "      <td>0.762238</td>\n",
              "      <td>0.819232</td>\n",
              "      <td>0.8066</td>\n",
              "      <td>0.689486</td>\n",
              "    </tr>\n",
              "    <tr>\n",
              "      <th>min</th>\n",
              "      <td>4.300000</td>\n",
              "      <td>2.000000</td>\n",
              "      <td>1.000000</td>\n",
              "      <td>0.100000</td>\n",
              "      <td>0.000000</td>\n",
              "      <td>0.0000</td>\n",
              "      <td>0.000000</td>\n",
              "    </tr>\n",
              "    <tr>\n",
              "      <th>25%</th>\n",
              "      <td>5.100000</td>\n",
              "      <td>2.800000</td>\n",
              "      <td>1.600000</td>\n",
              "      <td>0.300000</td>\n",
              "      <td>0.000000</td>\n",
              "      <td>0.0000</td>\n",
              "      <td>0.000000</td>\n",
              "    </tr>\n",
              "    <tr>\n",
              "      <th>50%</th>\n",
              "      <td>5.800000</td>\n",
              "      <td>3.000000</td>\n",
              "      <td>4.350000</td>\n",
              "      <td>1.300000</td>\n",
              "      <td>1.000000</td>\n",
              "      <td>1.0000</td>\n",
              "      <td>1.000000</td>\n",
              "    </tr>\n",
              "    <tr>\n",
              "      <th>75%</th>\n",
              "      <td>6.400000</td>\n",
              "      <td>3.300000</td>\n",
              "      <td>5.100000</td>\n",
              "      <td>1.800000</td>\n",
              "      <td>2.000000</td>\n",
              "      <td>2.0000</td>\n",
              "      <td>1.000000</td>\n",
              "    </tr>\n",
              "    <tr>\n",
              "      <th>max</th>\n",
              "      <td>7.900000</td>\n",
              "      <td>4.400000</td>\n",
              "      <td>6.900000</td>\n",
              "      <td>2.500000</td>\n",
              "      <td>2.000000</td>\n",
              "      <td>2.0000</td>\n",
              "      <td>2.000000</td>\n",
              "    </tr>\n",
              "  </tbody>\n",
              "</table>\n",
              "</div>"
            ],
            "text/plain": [
              "                0  ...  underfitting_predictions\n",
              "count  150.000000  ...                150.000000\n",
              "mean     5.843333  ...                  0.833333\n",
              "std      0.828066  ...                  0.689486\n",
              "min      4.300000  ...                  0.000000\n",
              "25%      5.100000  ...                  0.000000\n",
              "50%      5.800000  ...                  1.000000\n",
              "75%      6.400000  ...                  1.000000\n",
              "max      7.900000  ...                  2.000000\n",
              "\n",
              "[8 rows x 7 columns]"
            ]
          },
          "metadata": {},
          "execution_count": 13
        }
      ]
    },
    {
      "cell_type": "code",
      "metadata": {
        "colab": {
          "base_uri": "https://localhost:8080/"
        },
        "id": "Y4hKUCSqceJ1",
        "outputId": "629ca14d-64ae-4ae0-df50-3196693a776b"
      },
      "source": [
        "bins_0 = [0, 1, 2, 3, 4, 5, 6,7,8,9, 10,11, 12, 13, 14, 15, 16,17,18,19, 20]\n",
        "bins_1 = [0, 1, 2, 3, 4]\n",
        "bins_2 = [0, 1, 2, 3, 4, 5, 6,7]\n",
        "bins_3 = [0, 1, 2, 3]\n",
        "labels_0 = [0, 1, 2, 3, 4, 5, 6,7,8,9, 10,11, 12, 13, 14, 15, 16,17,18,19]\n",
        "labels_1 = [0, 1, 2, 3]\n",
        "labels_2 = [0, 1, 2, 3, 4, 5,6]\n",
        "labels_3 = [0, 1, 2]\n",
        "df['binned_0'] = pd.cut(iris.data[:,0], bins_0,labels=labels_0)\n",
        "df['binned_1'] = pd.cut(iris.data[:,1], bins_1,labels=labels_1)\n",
        "df['binned_2'] = pd.cut(iris.data[:,2], bins_2,labels=labels_2)\n",
        "df['binned_3'] = pd.cut(iris.data[:,3], bins_3,labels=labels_3)\n",
        "print(df)"
      ],
      "execution_count": 14,
      "outputs": [
        {
          "output_type": "stream",
          "name": "stdout",
          "text": [
            "       0    1    2    3  ...  binned_0  binned_1  binned_2 binned_3\n",
            "0    5.1  3.5  1.4  0.2  ...         5         3         1        0\n",
            "1    4.9  3.0  1.4  0.2  ...         4         2         1        0\n",
            "2    4.7  3.2  1.3  0.2  ...         4         3         1        0\n",
            "3    4.6  3.1  1.5  0.2  ...         4         3         1        0\n",
            "4    5.0  3.6  1.4  0.2  ...         4         3         1        0\n",
            "..   ...  ...  ...  ...  ...       ...       ...       ...      ...\n",
            "145  6.7  3.0  5.2  2.3  ...         6         2         5        2\n",
            "146  6.3  2.5  5.0  1.9  ...         6         2         4        1\n",
            "147  6.5  3.0  5.2  2.0  ...         6         2         5        1\n",
            "148  6.2  3.4  5.4  2.3  ...         6         3         5        2\n",
            "149  5.9  3.0  5.1  1.8  ...         5         2         5        1\n",
            "\n",
            "[150 rows x 11 columns]\n"
          ]
        }
      ]
    },
    {
      "cell_type": "code",
      "metadata": {
        "id": "yBWFxUO8sIV7"
      },
      "source": [
        "#passing to different df to generate rare rules\n",
        "df_pr = df[['class', 'binned_0', 'binned_1', 'binned_2', 'binned_3','underfitting_predictions', 'overfitting_predictions']]"
      ],
      "execution_count": 15,
      "outputs": []
    },
    {
      "cell_type": "code",
      "metadata": {
        "id": "_AGia6PW4rAF",
        "colab": {
          "base_uri": "https://localhost:8080/"
        },
        "outputId": "f4f5010e-b067-42bf-df26-cae756636b94"
      },
      "source": [
        "df_pr['binned_1'] = df_pr['binned_1'].astype(str).str.replace('.0', '')"
      ],
      "execution_count": 16,
      "outputs": [
        {
          "output_type": "stream",
          "name": "stderr",
          "text": [
            "/usr/local/lib/python3.7/dist-packages/ipykernel_launcher.py:1: SettingWithCopyWarning: \n",
            "A value is trying to be set on a copy of a slice from a DataFrame.\n",
            "Try using .loc[row_indexer,col_indexer] = value instead\n",
            "\n",
            "See the caveats in the documentation: https://pandas.pydata.org/pandas-docs/stable/user_guide/indexing.html#returning-a-view-versus-a-copy\n",
            "  \"\"\"Entry point for launching an IPython kernel.\n"
          ]
        }
      ]
    },
    {
      "cell_type": "code",
      "metadata": {
        "id": "idxekTD5ssGp",
        "colab": {
          "base_uri": "https://localhost:8080/"
        },
        "outputId": "48593898-eb2e-400a-ae99-3d99214a589e"
      },
      "source": [
        "df_pr.rename(columns={'binned_0': 'f1', 'binned_1': 'f2', 'binned_2': 'f3', 'binned_3': 'f4'}, inplace=True)"
      ],
      "execution_count": 17,
      "outputs": [
        {
          "output_type": "stream",
          "name": "stderr",
          "text": [
            "/usr/local/lib/python3.7/dist-packages/pandas/core/frame.py:4308: SettingWithCopyWarning: \n",
            "A value is trying to be set on a copy of a slice from a DataFrame\n",
            "\n",
            "See the caveats in the documentation: https://pandas.pydata.org/pandas-docs/stable/user_guide/indexing.html#returning-a-view-versus-a-copy\n",
            "  errors=errors,\n"
          ]
        }
      ]
    },
    {
      "cell_type": "code",
      "metadata": {
        "colab": {
          "base_uri": "https://localhost:8080/",
          "height": 202
        },
        "id": "81Er0x4ls7TX",
        "outputId": "2d4d1221-7b40-41c8-cc0c-47e994304ca4"
      },
      "source": [
        "df_pr.head(5)"
      ],
      "execution_count": 18,
      "outputs": [
        {
          "output_type": "execute_result",
          "data": {
            "text/html": [
              "<div>\n",
              "<style scoped>\n",
              "    .dataframe tbody tr th:only-of-type {\n",
              "        vertical-align: middle;\n",
              "    }\n",
              "\n",
              "    .dataframe tbody tr th {\n",
              "        vertical-align: top;\n",
              "    }\n",
              "\n",
              "    .dataframe thead th {\n",
              "        text-align: right;\n",
              "    }\n",
              "</style>\n",
              "<table border=\"1\" class=\"dataframe\">\n",
              "  <thead>\n",
              "    <tr style=\"text-align: right;\">\n",
              "      <th></th>\n",
              "      <th>class</th>\n",
              "      <th>f1</th>\n",
              "      <th>f2</th>\n",
              "      <th>f3</th>\n",
              "      <th>f4</th>\n",
              "      <th>underfitting_predictions</th>\n",
              "      <th>overfitting_predictions</th>\n",
              "    </tr>\n",
              "  </thead>\n",
              "  <tbody>\n",
              "    <tr>\n",
              "      <th>0</th>\n",
              "      <td>0</td>\n",
              "      <td>5</td>\n",
              "      <td>3</td>\n",
              "      <td>1</td>\n",
              "      <td>0</td>\n",
              "      <td>0</td>\n",
              "      <td>0</td>\n",
              "    </tr>\n",
              "    <tr>\n",
              "      <th>1</th>\n",
              "      <td>0</td>\n",
              "      <td>4</td>\n",
              "      <td>2</td>\n",
              "      <td>1</td>\n",
              "      <td>0</td>\n",
              "      <td>0</td>\n",
              "      <td>0</td>\n",
              "    </tr>\n",
              "    <tr>\n",
              "      <th>2</th>\n",
              "      <td>0</td>\n",
              "      <td>4</td>\n",
              "      <td>3</td>\n",
              "      <td>1</td>\n",
              "      <td>0</td>\n",
              "      <td>0</td>\n",
              "      <td>0</td>\n",
              "    </tr>\n",
              "    <tr>\n",
              "      <th>3</th>\n",
              "      <td>0</td>\n",
              "      <td>4</td>\n",
              "      <td>3</td>\n",
              "      <td>1</td>\n",
              "      <td>0</td>\n",
              "      <td>0</td>\n",
              "      <td>0</td>\n",
              "    </tr>\n",
              "    <tr>\n",
              "      <th>4</th>\n",
              "      <td>0</td>\n",
              "      <td>4</td>\n",
              "      <td>3</td>\n",
              "      <td>1</td>\n",
              "      <td>0</td>\n",
              "      <td>0</td>\n",
              "      <td>0</td>\n",
              "    </tr>\n",
              "  </tbody>\n",
              "</table>\n",
              "</div>"
            ],
            "text/plain": [
              "   class f1 f2 f3 f4  underfitting_predictions  overfitting_predictions\n",
              "0      0  5  3  1  0                         0                        0\n",
              "1      0  4  2  1  0                         0                        0\n",
              "2      0  4  3  1  0                         0                        0\n",
              "3      0  4  3  1  0                         0                        0\n",
              "4      0  4  3  1  0                         0                        0"
            ]
          },
          "metadata": {},
          "execution_count": 18
        }
      ]
    },
    {
      "cell_type": "code",
      "metadata": {
        "id": "RZFEPiGh6jF_",
        "colab": {
          "base_uri": "https://localhost:8080/"
        },
        "outputId": "f81668d0-8c47-4b05-e604-1bdfce13ff93"
      },
      "source": [
        "#chanigng data type\n",
        "df_pr['f1'] = df_pr['f1'].astype(int)\n",
        "df_pr['f2'] = df_pr['f2'].astype(float)\n",
        "df_pr['f3'] = df_pr['f3'].astype(int)\n",
        "df_pr['f4'] = df_pr['f4'].astype(int)"
      ],
      "execution_count": 19,
      "outputs": [
        {
          "output_type": "stream",
          "name": "stderr",
          "text": [
            "/usr/local/lib/python3.7/dist-packages/ipykernel_launcher.py:2: SettingWithCopyWarning: \n",
            "A value is trying to be set on a copy of a slice from a DataFrame.\n",
            "Try using .loc[row_indexer,col_indexer] = value instead\n",
            "\n",
            "See the caveats in the documentation: https://pandas.pydata.org/pandas-docs/stable/user_guide/indexing.html#returning-a-view-versus-a-copy\n",
            "  \n",
            "/usr/local/lib/python3.7/dist-packages/ipykernel_launcher.py:3: SettingWithCopyWarning: \n",
            "A value is trying to be set on a copy of a slice from a DataFrame.\n",
            "Try using .loc[row_indexer,col_indexer] = value instead\n",
            "\n",
            "See the caveats in the documentation: https://pandas.pydata.org/pandas-docs/stable/user_guide/indexing.html#returning-a-view-versus-a-copy\n",
            "  This is separate from the ipykernel package so we can avoid doing imports until\n",
            "/usr/local/lib/python3.7/dist-packages/ipykernel_launcher.py:4: SettingWithCopyWarning: \n",
            "A value is trying to be set on a copy of a slice from a DataFrame.\n",
            "Try using .loc[row_indexer,col_indexer] = value instead\n",
            "\n",
            "See the caveats in the documentation: https://pandas.pydata.org/pandas-docs/stable/user_guide/indexing.html#returning-a-view-versus-a-copy\n",
            "  after removing the cwd from sys.path.\n",
            "/usr/local/lib/python3.7/dist-packages/ipykernel_launcher.py:5: SettingWithCopyWarning: \n",
            "A value is trying to be set on a copy of a slice from a DataFrame.\n",
            "Try using .loc[row_indexer,col_indexer] = value instead\n",
            "\n",
            "See the caveats in the documentation: https://pandas.pydata.org/pandas-docs/stable/user_guide/indexing.html#returning-a-view-versus-a-copy\n",
            "  \"\"\"\n"
          ]
        }
      ]
    },
    {
      "cell_type": "code",
      "metadata": {
        "id": "nh_EA01A6Rc2",
        "colab": {
          "base_uri": "https://localhost:8080/"
        },
        "outputId": "1573600d-5a72-49e0-cf16-250512140839"
      },
      "source": [
        "#filling missing value to numbers to spot it in rules\n",
        "df_pr['f1'] = df_pr['f1'].fillna('99')\n",
        "df_pr['f2'] = df_pr['f2'].fillna('99')\n",
        "df_pr['f3'] = df_pr['f3'].fillna('99')\n",
        "df_pr['f4'] = df_pr['f4'].fillna('99')"
      ],
      "execution_count": 20,
      "outputs": [
        {
          "output_type": "stream",
          "name": "stderr",
          "text": [
            "/usr/local/lib/python3.7/dist-packages/ipykernel_launcher.py:2: SettingWithCopyWarning: \n",
            "A value is trying to be set on a copy of a slice from a DataFrame.\n",
            "Try using .loc[row_indexer,col_indexer] = value instead\n",
            "\n",
            "See the caveats in the documentation: https://pandas.pydata.org/pandas-docs/stable/user_guide/indexing.html#returning-a-view-versus-a-copy\n",
            "  \n",
            "/usr/local/lib/python3.7/dist-packages/ipykernel_launcher.py:3: SettingWithCopyWarning: \n",
            "A value is trying to be set on a copy of a slice from a DataFrame.\n",
            "Try using .loc[row_indexer,col_indexer] = value instead\n",
            "\n",
            "See the caveats in the documentation: https://pandas.pydata.org/pandas-docs/stable/user_guide/indexing.html#returning-a-view-versus-a-copy\n",
            "  This is separate from the ipykernel package so we can avoid doing imports until\n",
            "/usr/local/lib/python3.7/dist-packages/ipykernel_launcher.py:4: SettingWithCopyWarning: \n",
            "A value is trying to be set on a copy of a slice from a DataFrame.\n",
            "Try using .loc[row_indexer,col_indexer] = value instead\n",
            "\n",
            "See the caveats in the documentation: https://pandas.pydata.org/pandas-docs/stable/user_guide/indexing.html#returning-a-view-versus-a-copy\n",
            "  after removing the cwd from sys.path.\n",
            "/usr/local/lib/python3.7/dist-packages/ipykernel_launcher.py:5: SettingWithCopyWarning: \n",
            "A value is trying to be set on a copy of a slice from a DataFrame.\n",
            "Try using .loc[row_indexer,col_indexer] = value instead\n",
            "\n",
            "See the caveats in the documentation: https://pandas.pydata.org/pandas-docs/stable/user_guide/indexing.html#returning-a-view-versus-a-copy\n",
            "  \"\"\"\n"
          ]
        }
      ]
    },
    {
      "cell_type": "code",
      "metadata": {
        "id": "xEgDPIoV7iWK",
        "colab": {
          "base_uri": "https://localhost:8080/"
        },
        "outputId": "d09d1a8d-0f2b-4195-add3-1b9955f1b205"
      },
      "source": [
        "df_pr['f2'] = df_pr['f2'].astype(str).str.replace('.0', '')"
      ],
      "execution_count": 21,
      "outputs": [
        {
          "output_type": "stream",
          "name": "stderr",
          "text": [
            "/usr/local/lib/python3.7/dist-packages/ipykernel_launcher.py:1: SettingWithCopyWarning: \n",
            "A value is trying to be set on a copy of a slice from a DataFrame.\n",
            "Try using .loc[row_indexer,col_indexer] = value instead\n",
            "\n",
            "See the caveats in the documentation: https://pandas.pydata.org/pandas-docs/stable/user_guide/indexing.html#returning-a-view-versus-a-copy\n",
            "  \"\"\"Entry point for launching an IPython kernel.\n"
          ]
        }
      ]
    },
    {
      "cell_type": "code",
      "metadata": {
        "id": "Hlp3NTBv76R-",
        "colab": {
          "base_uri": "https://localhost:8080/"
        },
        "outputId": "54c05402-8dcb-4acb-c06d-3b612d566585"
      },
      "source": [
        "#adding suffic to spot the class and column nae in rules\n",
        "df_pr['class'] = df_pr['class'].astype(str)+'500'\n",
        "df_pr['f1'] = df_pr['f1'].astype(str)+'900'\n",
        "df_pr['f2'] = df_pr['f2'].astype(str)+'800'\n",
        "df_pr['f3'] = df_pr['f3'].astype(str)+'700'\n",
        "df_pr['f4'] = df_pr['f4'].astype(str)+'600'"
      ],
      "execution_count": 22,
      "outputs": [
        {
          "output_type": "stream",
          "name": "stderr",
          "text": [
            "/usr/local/lib/python3.7/dist-packages/ipykernel_launcher.py:2: SettingWithCopyWarning: \n",
            "A value is trying to be set on a copy of a slice from a DataFrame.\n",
            "Try using .loc[row_indexer,col_indexer] = value instead\n",
            "\n",
            "See the caveats in the documentation: https://pandas.pydata.org/pandas-docs/stable/user_guide/indexing.html#returning-a-view-versus-a-copy\n",
            "  \n",
            "/usr/local/lib/python3.7/dist-packages/ipykernel_launcher.py:3: SettingWithCopyWarning: \n",
            "A value is trying to be set on a copy of a slice from a DataFrame.\n",
            "Try using .loc[row_indexer,col_indexer] = value instead\n",
            "\n",
            "See the caveats in the documentation: https://pandas.pydata.org/pandas-docs/stable/user_guide/indexing.html#returning-a-view-versus-a-copy\n",
            "  This is separate from the ipykernel package so we can avoid doing imports until\n",
            "/usr/local/lib/python3.7/dist-packages/ipykernel_launcher.py:4: SettingWithCopyWarning: \n",
            "A value is trying to be set on a copy of a slice from a DataFrame.\n",
            "Try using .loc[row_indexer,col_indexer] = value instead\n",
            "\n",
            "See the caveats in the documentation: https://pandas.pydata.org/pandas-docs/stable/user_guide/indexing.html#returning-a-view-versus-a-copy\n",
            "  after removing the cwd from sys.path.\n",
            "/usr/local/lib/python3.7/dist-packages/ipykernel_launcher.py:5: SettingWithCopyWarning: \n",
            "A value is trying to be set on a copy of a slice from a DataFrame.\n",
            "Try using .loc[row_indexer,col_indexer] = value instead\n",
            "\n",
            "See the caveats in the documentation: https://pandas.pydata.org/pandas-docs/stable/user_guide/indexing.html#returning-a-view-versus-a-copy\n",
            "  \"\"\"\n",
            "/usr/local/lib/python3.7/dist-packages/ipykernel_launcher.py:6: SettingWithCopyWarning: \n",
            "A value is trying to be set on a copy of a slice from a DataFrame.\n",
            "Try using .loc[row_indexer,col_indexer] = value instead\n",
            "\n",
            "See the caveats in the documentation: https://pandas.pydata.org/pandas-docs/stable/user_guide/indexing.html#returning-a-view-versus-a-copy\n",
            "  \n"
          ]
        }
      ]
    },
    {
      "cell_type": "code",
      "metadata": {
        "colab": {
          "base_uri": "https://localhost:8080/",
          "height": 415
        },
        "id": "B2JpJxzv8NV8",
        "outputId": "6590f62d-aa32-41d8-f29f-4b3e65583bd2"
      },
      "source": [
        "df_pr"
      ],
      "execution_count": 23,
      "outputs": [
        {
          "output_type": "execute_result",
          "data": {
            "text/html": [
              "<div>\n",
              "<style scoped>\n",
              "    .dataframe tbody tr th:only-of-type {\n",
              "        vertical-align: middle;\n",
              "    }\n",
              "\n",
              "    .dataframe tbody tr th {\n",
              "        vertical-align: top;\n",
              "    }\n",
              "\n",
              "    .dataframe thead th {\n",
              "        text-align: right;\n",
              "    }\n",
              "</style>\n",
              "<table border=\"1\" class=\"dataframe\">\n",
              "  <thead>\n",
              "    <tr style=\"text-align: right;\">\n",
              "      <th></th>\n",
              "      <th>class</th>\n",
              "      <th>f1</th>\n",
              "      <th>f2</th>\n",
              "      <th>f3</th>\n",
              "      <th>f4</th>\n",
              "      <th>underfitting_predictions</th>\n",
              "      <th>overfitting_predictions</th>\n",
              "    </tr>\n",
              "  </thead>\n",
              "  <tbody>\n",
              "    <tr>\n",
              "      <th>0</th>\n",
              "      <td>0500</td>\n",
              "      <td>5900</td>\n",
              "      <td>3800</td>\n",
              "      <td>1700</td>\n",
              "      <td>0600</td>\n",
              "      <td>0</td>\n",
              "      <td>0</td>\n",
              "    </tr>\n",
              "    <tr>\n",
              "      <th>1</th>\n",
              "      <td>0500</td>\n",
              "      <td>4900</td>\n",
              "      <td>2800</td>\n",
              "      <td>1700</td>\n",
              "      <td>0600</td>\n",
              "      <td>0</td>\n",
              "      <td>0</td>\n",
              "    </tr>\n",
              "    <tr>\n",
              "      <th>2</th>\n",
              "      <td>0500</td>\n",
              "      <td>4900</td>\n",
              "      <td>3800</td>\n",
              "      <td>1700</td>\n",
              "      <td>0600</td>\n",
              "      <td>0</td>\n",
              "      <td>0</td>\n",
              "    </tr>\n",
              "    <tr>\n",
              "      <th>3</th>\n",
              "      <td>0500</td>\n",
              "      <td>4900</td>\n",
              "      <td>3800</td>\n",
              "      <td>1700</td>\n",
              "      <td>0600</td>\n",
              "      <td>0</td>\n",
              "      <td>0</td>\n",
              "    </tr>\n",
              "    <tr>\n",
              "      <th>4</th>\n",
              "      <td>0500</td>\n",
              "      <td>4900</td>\n",
              "      <td>3800</td>\n",
              "      <td>1700</td>\n",
              "      <td>0600</td>\n",
              "      <td>0</td>\n",
              "      <td>0</td>\n",
              "    </tr>\n",
              "    <tr>\n",
              "      <th>...</th>\n",
              "      <td>...</td>\n",
              "      <td>...</td>\n",
              "      <td>...</td>\n",
              "      <td>...</td>\n",
              "      <td>...</td>\n",
              "      <td>...</td>\n",
              "      <td>...</td>\n",
              "    </tr>\n",
              "    <tr>\n",
              "      <th>145</th>\n",
              "      <td>2500</td>\n",
              "      <td>6900</td>\n",
              "      <td>2800</td>\n",
              "      <td>5700</td>\n",
              "      <td>2600</td>\n",
              "      <td>1</td>\n",
              "      <td>2</td>\n",
              "    </tr>\n",
              "    <tr>\n",
              "      <th>146</th>\n",
              "      <td>2500</td>\n",
              "      <td>6900</td>\n",
              "      <td>2800</td>\n",
              "      <td>4700</td>\n",
              "      <td>1600</td>\n",
              "      <td>1</td>\n",
              "      <td>2</td>\n",
              "    </tr>\n",
              "    <tr>\n",
              "      <th>147</th>\n",
              "      <td>2500</td>\n",
              "      <td>6900</td>\n",
              "      <td>2800</td>\n",
              "      <td>5700</td>\n",
              "      <td>1600</td>\n",
              "      <td>1</td>\n",
              "      <td>2</td>\n",
              "    </tr>\n",
              "    <tr>\n",
              "      <th>148</th>\n",
              "      <td>2500</td>\n",
              "      <td>6900</td>\n",
              "      <td>3800</td>\n",
              "      <td>5700</td>\n",
              "      <td>2600</td>\n",
              "      <td>2</td>\n",
              "      <td>2</td>\n",
              "    </tr>\n",
              "    <tr>\n",
              "      <th>149</th>\n",
              "      <td>2500</td>\n",
              "      <td>5900</td>\n",
              "      <td>2800</td>\n",
              "      <td>5700</td>\n",
              "      <td>1600</td>\n",
              "      <td>1</td>\n",
              "      <td>2</td>\n",
              "    </tr>\n",
              "  </tbody>\n",
              "</table>\n",
              "<p>150 rows × 7 columns</p>\n",
              "</div>"
            ],
            "text/plain": [
              "    class    f1    f2  ...    f4 underfitting_predictions  overfitting_predictions\n",
              "0    0500  5900  3800  ...  0600                        0                        0\n",
              "1    0500  4900  2800  ...  0600                        0                        0\n",
              "2    0500  4900  3800  ...  0600                        0                        0\n",
              "3    0500  4900  3800  ...  0600                        0                        0\n",
              "4    0500  4900  3800  ...  0600                        0                        0\n",
              "..    ...   ...   ...  ...   ...                      ...                      ...\n",
              "145  2500  6900  2800  ...  2600                        1                        2\n",
              "146  2500  6900  2800  ...  1600                        1                        2\n",
              "147  2500  6900  2800  ...  1600                        1                        2\n",
              "148  2500  6900  3800  ...  2600                        2                        2\n",
              "149  2500  5900  2800  ...  1600                        1                        2\n",
              "\n",
              "[150 rows x 7 columns]"
            ]
          },
          "metadata": {},
          "execution_count": 23
        }
      ]
    },
    {
      "cell_type": "code",
      "metadata": {
        "id": "FNTJrfzWu5lw"
      },
      "source": [
        "#put it in csv file\n",
        "df_pr[['class', 'f1', 'f2', 'f3', 'f4']].to_csv(\"iris_for_rare_rules.csv\", index=False,sep =' ', header=None)"
      ],
      "execution_count": 24,
      "outputs": []
    },
    {
      "cell_type": "markdown",
      "metadata": {
        "id": "0EnzmcUEtAw4"
      },
      "source": [
        "call RP-growth on it"
      ]
    },
    {
      "cell_type": "code",
      "metadata": {
        "colab": {
          "base_uri": "https://localhost:8080/"
        },
        "id": "zHvndlJ0uzII",
        "outputId": "32b353ed-ca32-4371-b125-f65e2a7bf6f8"
      },
      "source": [
        "pip install spmf"
      ],
      "execution_count": 25,
      "outputs": [
        {
          "output_type": "stream",
          "name": "stdout",
          "text": [
            "Requirement already satisfied: spmf in /usr/local/lib/python3.7/dist-packages (1.4)\n"
          ]
        }
      ]
    },
    {
      "cell_type": "code",
      "metadata": {
        "id": "ow7-DOjTtAXY"
      },
      "source": [
        "from spmf import Spmf\n",
        "import pathlib"
      ],
      "execution_count": 26,
      "outputs": []
    },
    {
      "cell_type": "code",
      "metadata": {
        "id": "ouV40Pc1vSxZ"
      },
      "source": [
        "d = '/content/'"
      ],
      "execution_count": 27,
      "outputs": []
    },
    {
      "cell_type": "code",
      "metadata": {
        "id": "5g0lUutruBMR"
      },
      "source": [
        "spmf = Spmf(\"RPGrowth_itemsets\", input_filename=\"iris_for_rare_rules.csv\",\n",
        "            output_filename=\"output_iris_rpgrowth_rareitemsets.txt\", arguments=[0.8, .01],spmf_bin_location_dir=d )"
      ],
      "execution_count": 28,
      "outputs": []
    },
    {
      "cell_type": "code",
      "metadata": {
        "colab": {
          "base_uri": "https://localhost:8080/"
        },
        "id": "MOTcbO85uCyI",
        "outputId": "2467d778-42bc-4c34-e519-a940e827b219"
      },
      "source": [
        "spmf.run()"
      ],
      "execution_count": 29,
      "outputs": [
        {
          "output_type": "stream",
          "name": "stdout",
          "text": [
            ">/content/spmf.jar\n",
            "=============  RP-GROWTH 2.38 - STATS =============\n",
            " Transactions count from database : 150\n",
            " Max memory usage: 7.097358703613281 mb \n",
            " Rare itemsets count : 327\n",
            " Total time ~ 26 ms\n",
            "===================================================\n",
            "\n"
          ]
        }
      ]
    },
    {
      "cell_type": "code",
      "metadata": {
        "id": "esh6U_zNw7SV"
      },
      "source": [
        "#processing rpp file"
      ],
      "execution_count": 30,
      "outputs": []
    },
    {
      "cell_type": "code",
      "metadata": {
        "id": "Rzo3aJlGuMbo"
      },
      "source": [
        "#removing sup\n",
        "f = open('/content/output_iris_rpgrowth_rareitemsets.txt','r')\n",
        "lst = []\n",
        "for line in f:\n",
        "  line  = line.split(\"#\", 1)\n",
        "  \n",
        "  line  = line[0]\n",
        "  lst.append(line)\n",
        "f.close()\n",
        "f = open('/content/output_processed.txt','w')\n",
        "for line in lst:\n",
        "    f.write(line+'\\n')\n",
        "f.close()"
      ],
      "execution_count": 31,
      "outputs": []
    },
    {
      "cell_type": "code",
      "metadata": {
        "colab": {
          "base_uri": "https://localhost:8080/"
        },
        "id": "RYOYJlfVAKkJ",
        "outputId": "fcbc40be-11b2-49cf-9b87-ff5f6e7c3db1"
      },
      "source": [
        "class_numbers = df_pr['class'].unique()\n",
        "class_numbers"
      ],
      "execution_count": 32,
      "outputs": [
        {
          "output_type": "execute_result",
          "data": {
            "text/plain": [
              "array(['0500', '1500', '2500'], dtype=object)"
            ]
          },
          "metadata": {},
          "execution_count": 32
        }
      ]
    },
    {
      "cell_type": "code",
      "metadata": {
        "id": "27ZyAC8Ruh_T"
      },
      "source": [
        "rp_growth_process = pd.read_csv(\"/content/output_processed.txt\", header=None, names=[\"itemsets\"],index_col=False)"
      ],
      "execution_count": 33,
      "outputs": []
    },
    {
      "cell_type": "code",
      "metadata": {
        "id": "sRv75oPeukLY"
      },
      "source": [
        "temp_df = pd.concat([rp_growth_process[['itemsets']], rp_growth_process['itemsets'].str.split(' ', expand=True)], axis=1\n",
        "                  )"
      ],
      "execution_count": 34,
      "outputs": []
    },
    {
      "cell_type": "code",
      "metadata": {
        "id": "sOmjpylo9ljZ"
      },
      "source": [
        "temp_df=temp_df.drop('itemsets', axis=1)"
      ],
      "execution_count": 35,
      "outputs": []
    },
    {
      "cell_type": "code",
      "metadata": {
        "id": "c_ANHt_Qr_dy"
      },
      "source": [
        "temp_df.to_csv(\"temp_file.csv\")"
      ],
      "execution_count": 36,
      "outputs": []
    },
    {
      "cell_type": "code",
      "metadata": {
        "id": "FkSVPKp4g_fb"
      },
      "source": [
        "with open(\"/content/temp_file.csv\", 'w') as f:\n",
        "                for row in temp_df.itertuples(index=False):\n",
        "                    #print(row)\n",
        "                    ls = list(row)\n",
        "                    ls = [x for x in ls if x]\n",
        "                    try:\n",
        "                      if '1500' or '2500' or '0500' in ls:\n",
        "                            old_index = ls.index('1500') if '1500' in ls else (ls.index('2500') if '2500' in ls else ls.index('0500')) \n",
        "                            #print(\"old_index\", old_index)\n",
        "                            \n",
        "                            ls.insert(0, ls.pop(old_index))\n",
        "                            #print(\"after row\", ls)\n",
        "                            f.write(str(ls)+'\\n')\n",
        "                    except ValueError:\n",
        "                      pass"
      ],
      "execution_count": 37,
      "outputs": []
    },
    {
      "cell_type": "code",
      "metadata": {
        "colab": {
          "base_uri": "https://localhost:8080/"
        },
        "id": "fvY342DNx1FC",
        "outputId": "34d8a827-1286-4361-e509-d21d36a7bef3"
      },
      "source": [
        "import os\n",
        "from ast import literal_eval\n",
        "\n",
        "def parse_input(filename):\n",
        "    with open(filename) as f:\n",
        "        data = [set(literal_eval(line)) for line in f]\n",
        "    return data\n",
        "\n",
        "def compute_output(output_file, data, filter_value):\n",
        "    ls = data\n",
        "    index_to_pop=[]\n",
        "    for set1 in ls:\n",
        "      #print(\"set1\", set1)\n",
        "      for set2 in ls:\n",
        "          if set1 is set2:\n",
        "              # Do not try to compare a row with itself\n",
        "              continue\n",
        "          elif len(set(set1).difference(set(set2))) == 0:\n",
        "                if set1 in ls:\n",
        "                  index = ls.index(set1)\n",
        "                  index_to_pop.append(index)\n",
        "\n",
        "                  break\n",
        "    print(\"Final index_to_pop\",index_to_pop)              \n",
        "    for index in sorted(index_to_pop, reverse=True):\n",
        "        del ls[index]           \n",
        "    print(\"Final list\",ls)\n",
        "\n",
        "    f = open('/content/superset.csv','w')\n",
        "    for line in ls:\n",
        "      print(\"length of line is\", len(line))\n",
        "      if len(line) >= filter_value:\n",
        "        print(\"filtered line is\",line)\n",
        "        f.write(str(line)+'\\n')\n",
        "      else:\n",
        "        pass\n",
        "    f.close()\n",
        "\n",
        "def filter_file(path, filter_value=3, in_name='temp_file.csv', out_name='filteredSets'):\n",
        "    data = parse_input(os.path.join(path, in_name))\n",
        "    print(\"data\", data)\n",
        "    output_filename = os.path.join(path, '{}{}'.format(out_name, filter_value))\n",
        "    with open(output_filename, 'w') as out_file:\n",
        "        compute_output(out_file, data, filter_value)\n",
        "\n",
        "filter_file('/content')"
      ],
      "execution_count": 38,
      "outputs": [
        {
          "output_type": "stream",
          "name": "stdout",
          "text": [
            "data [{'2500', '6700', '2600'}, {'3800', '2500', '6700', '2600'}, {'2800', '2500', '6700', '2600'}, {'7900', '2500', '6700', '2600'}, {'2500', '6700', '2600', '3800', '7900'}, {'2500', '2800', '6700', '2600', '7900'}, {'7900', '2500', '6700'}, {'3800', '7900', '2500', '6700'}, {'7900', '2500', '1600', '6700'}, {'2500', '2800', '6700', '7900', '1600'}, {'2800', '2500', '7900', '6700'}, {'2500', '6700'}, {'3800', '2500', '6700'}, {'2500', '1600', '6700'}, {'2800', '2500', '1600', '6700'}, {'2800', '2500', '6700'}, {'5700', '7900', '2500'}, {'5700', '2800', '2500', '7900'}, {'5700', '7900', '2500', '1600'}, {'7900', '2500', '2600'}, {'3800', '7900', '2500', '2600'}, {'2800', '2500', '7900', '2600'}, {'7900', '2500'}, {'3800', '7900', '2500'}, {'3800', '7900', '2500', '1600'}, {'7900', '2500', '1600'}, {'2800', '2500', '1600', '7900'}, {'2800', '2500', '7900'}, {'3700', '1500', '4900'}, {'2800', '3700', '1500', '4900'}, {'600', '3700', '1500', '4900'}, {'600', '2800', '4900', '3700', '1500'}, {'3700', '1500'}, {'600', '3700', '1500'}, {'600', '2800', '3700', '1500'}, {'3700', '1600', '1500'}, {'3700', '2800', '1600', '1500'}, {'3700', '1500', '5900'}, {'600', '3700', '1500', '5900'}, {'600', '2800', '5900', '3700', '1500'}, {'3700', '1600', '1500', '5900'}, {'2800', '5900', '1600', '3700', '1500'}, {'2800', '3700', '1500', '5900'}, {'2800', '3700', '1500'}, {'6900', '2500', '2600'}, {'2800', '2500', '6900', '2600'}, {'3800', '6900', '2500', '2600'}, {'5700', '6900', '2500', '2600'}, {'5700', '2500', '2800', '2600', '6900'}, {'5700', '2500', '2600', '3800', '6900'}, {'5700', '2500', '2600'}, {'5700', '2800', '2500', '2600'}, {'5700', '3800', '2500', '2600'}, {'2500', '2600'}, {'2800', '2500', '2600'}, {'3800', '2500', '2600'}, {'1500', '4900'}, {'2800', '1500', '4900'}, {'600', '1500', '4900'}, {'600', '2800', '1500', '4900'}, {'5700', '6900', '2500'}, {'5700', '6900', '2500', '1600'}, {'5700', '2500', '2800', '6900', '1600'}, {'5700', '2800', '2500', '6900'}, {'5700', '3800', '6900', '2500'}, {'5700', '2500', '3800', '6900', '1600'}, {'5700', '2500'}, {'5700', '2500', '5900'}, {'5700', '2800', '2500', '5900'}, {'5700', '2500', '1600', '5900'}, {'5700', '2500', '2800', '5900', '1600'}, {'5700', '3800', '2500'}, {'5700', '3800', '2500', '1600'}, {'5700', '2500', '1600'}, {'5700', '2800', '2500', '1600'}, {'5700', '2800', '2500'}, {'2500', '4700'}, {'2800', '2500', '4700'}, {'2500', '4700', '1600'}, {'2800', '2500', '4700', '1600'}, {'2500', '4700', '5900'}, {'2800', '2500', '4700', '5900'}, {'2500', '4700', '1600', '5900'}, {'2500', '2800', '5900', '4700', '1600'}, {'6900', '2500', '4700'}, {'2800', '2500', '4700', '6900'}, {'6900', '2500', '4700', '1600'}, {'2500', '2800', '4700', '6900', '1600'}, {'6900', '4700', '1500'}, {'3800', '6900', '4700', '1500'}, {'4700', '3800', '6900', '1600', '1500'}, {'6900', '2800', '4700', '1500'}, {'6900', '4700', '1600', '1500'}, {'2800', '4700', '6900', '1600', '1500'}, {'4700', '1500'}, {'3800', '4700', '1500'}, {'3800', '4700', '1600', '1500'}, {'4700', '5900', '1500'}, {'3800', '4700', '5900', '1500'}, {'5900', '4700', '3800', '1600', '1500'}, {'2800', '4700', '5900', '1500'}, {'4700', '1600', '1500', '5900'}, {'2800', '5900', '4700', '1600', '1500'}, {'2800', '4700', '1500'}, {'4700', '1600', '1500'}, {'2800', '4700', '1600', '1500'}, {'6900', '1500'}, {'3800', '6900', '1500'}, {'3800', '6900', '1600', '1500'}, {'6900', '2800', '1500'}, {'6900', '1600', '1500'}, {'6900', '2800', '1600', '1500'}, {'6900', '2500'}, {'3800', '6900', '2500'}, {'3800', '6900', '2500', '1600'}, {'6900', '2500', '1600'}, {'2800', '2500', '1600', '6900'}, {'2800', '2500', '6900'}, {'2500'}, {'2500', '5900'}, {'2800', '2500', '5900'}, {'2500', '1600', '5900'}, {'2800', '2500', '1600', '5900'}, {'3800', '2500'}, {'3800', '2500', '1600'}, {'2500', '1600'}, {'2800', '2500', '1600'}, {'2800', '2500'}, {'1500'}, {'600', '1500'}, {'600', '2800', '1500'}, {'3800', '1500'}, {'3800', '1600', '1500'}, {'5900', '1500'}, {'3800', '5900', '1500'}, {'3800', '1600', '1500', '5900'}, {'600', '5900', '1500'}, {'600', '2800', '5900', '1500'}, {'1600', '1500', '5900'}, {'2800', '1600', '1500', '5900'}, {'2800', '5900', '1500'}, {'2800', '1500'}, {'1600', '1500'}, {'2800', '1600', '1500'}]\n",
            "Final index_to_pop [0, 1, 2, 3, 6, 7, 8, 10, 11, 12, 13, 14, 15, 16, 19, 20, 21, 22, 23, 25, 26, 27, 28, 29, 30, 32, 33, 34, 35, 36, 37, 38, 40, 42, 43, 44, 45, 46, 47, 50, 51, 52, 53, 54, 55, 56, 57, 58, 59, 60, 61, 63, 64, 66, 67, 68, 69, 71, 72, 73, 74, 75, 76, 77, 78, 79, 80, 81, 82, 84, 85, 86, 88, 89, 91, 92, 94, 95, 96, 97, 98, 100, 101, 103, 104, 105, 106, 107, 108, 109, 110, 111, 112, 113, 114, 115, 116, 117, 118, 119, 120, 121, 122, 123, 124, 125, 126, 127, 128, 129, 130, 131, 132, 133, 134, 135, 136, 137, 138, 139, 140, 141, 142, 143]\n",
            "Final list [{'2500', '6700', '2600', '3800', '7900'}, {'2500', '2800', '6700', '2600', '7900'}, {'2500', '2800', '6700', '7900', '1600'}, {'5700', '2800', '2500', '7900'}, {'5700', '7900', '2500', '1600'}, {'3800', '7900', '2500', '1600'}, {'600', '2800', '4900', '3700', '1500'}, {'600', '2800', '5900', '3700', '1500'}, {'2800', '5900', '1600', '3700', '1500'}, {'5700', '2500', '2800', '2600', '6900'}, {'5700', '2500', '2600', '3800', '6900'}, {'5700', '2500', '2800', '6900', '1600'}, {'5700', '2500', '3800', '6900', '1600'}, {'5700', '2500', '2800', '5900', '1600'}, {'2500', '2800', '5900', '4700', '1600'}, {'2500', '2800', '4700', '6900', '1600'}, {'4700', '3800', '6900', '1600', '1500'}, {'2800', '4700', '6900', '1600', '1500'}, {'5900', '4700', '3800', '1600', '1500'}, {'2800', '5900', '4700', '1600', '1500'}]\n",
            "length of line is 5\n",
            "filtered line is {'2500', '6700', '2600', '3800', '7900'}\n",
            "length of line is 5\n",
            "filtered line is {'2500', '2800', '6700', '2600', '7900'}\n",
            "length of line is 5\n",
            "filtered line is {'2500', '2800', '6700', '7900', '1600'}\n",
            "length of line is 4\n",
            "filtered line is {'5700', '2800', '2500', '7900'}\n",
            "length of line is 4\n",
            "filtered line is {'5700', '7900', '2500', '1600'}\n",
            "length of line is 4\n",
            "filtered line is {'3800', '7900', '2500', '1600'}\n",
            "length of line is 5\n",
            "filtered line is {'600', '2800', '4900', '3700', '1500'}\n",
            "length of line is 5\n",
            "filtered line is {'600', '2800', '5900', '3700', '1500'}\n",
            "length of line is 5\n",
            "filtered line is {'2800', '5900', '1600', '3700', '1500'}\n",
            "length of line is 5\n",
            "filtered line is {'5700', '2500', '2800', '2600', '6900'}\n",
            "length of line is 5\n",
            "filtered line is {'5700', '2500', '2600', '3800', '6900'}\n",
            "length of line is 5\n",
            "filtered line is {'5700', '2500', '2800', '6900', '1600'}\n",
            "length of line is 5\n",
            "filtered line is {'5700', '2500', '3800', '6900', '1600'}\n",
            "length of line is 5\n",
            "filtered line is {'5700', '2500', '2800', '5900', '1600'}\n",
            "length of line is 5\n",
            "filtered line is {'2500', '2800', '5900', '4700', '1600'}\n",
            "length of line is 5\n",
            "filtered line is {'2500', '2800', '4700', '6900', '1600'}\n",
            "length of line is 5\n",
            "filtered line is {'4700', '3800', '6900', '1600', '1500'}\n",
            "length of line is 5\n",
            "filtered line is {'2800', '4700', '6900', '1600', '1500'}\n",
            "length of line is 5\n",
            "filtered line is {'5900', '4700', '3800', '1600', '1500'}\n",
            "length of line is 5\n",
            "filtered line is {'2800', '5900', '4700', '1600', '1500'}\n"
          ]
        }
      ]
    },
    {
      "cell_type": "code",
      "metadata": {
        "id": "vT_q1e1I4hzQ"
      },
      "source": [
        "with open('/content/superset.csv') as filein, open('/content/superset_final.csv','w') as fileout:\n",
        "    for line in filein:\n",
        "        line=line.replace(\"'\",\"\")\n",
        "        line=line.replace(\"}\",\"\")\n",
        "        line=line.replace(\"{\",\"\")\n",
        "        line=line.replace(\", \",\" \")\n",
        "        fileout.write(line)"
      ],
      "execution_count": 39,
      "outputs": []
    },
    {
      "cell_type": "code",
      "metadata": {
        "id": "SGxleTDn4hzR"
      },
      "source": [
        "with open('/content/superset_final.csv') as filein, open('/content/superset_final_v1.csv','w') as fileout:\n",
        "    for line in filein:\n",
        "        line=line.replace(\"[\",\"\")\n",
        "        line=line.replace(\"]\",\"\")\n",
        "        fileout.write(line)"
      ],
      "execution_count": 40,
      "outputs": []
    },
    {
      "cell_type": "code",
      "metadata": {
        "id": "IRVuUvqb1lzZ"
      },
      "source": [
        "temp_df = pd.read_csv(\"/content/superset_final_v1.csv\",header=None, names=[\"itemsets\"],index_col=False)"
      ],
      "execution_count": 41,
      "outputs": []
    },
    {
      "cell_type": "code",
      "metadata": {
        "id": "9QfihhU51w8h"
      },
      "source": [
        "temp_df = pd.concat([temp_df[['itemsets']], temp_df['itemsets'].str.split(' ', expand=True)], axis=1\n",
        "                  )"
      ],
      "execution_count": 42,
      "outputs": []
    },
    {
      "cell_type": "code",
      "metadata": {
        "id": "wPmA9j-z18Zs"
      },
      "source": [
        "temp_df=temp_df.drop('itemsets', axis=1)"
      ],
      "execution_count": 43,
      "outputs": []
    },
    {
      "cell_type": "code",
      "metadata": {
        "id": "XdjP0zpm18Zs"
      },
      "source": [
        "temp_df.to_csv(\"temp_file.csv\")"
      ],
      "execution_count": 44,
      "outputs": []
    },
    {
      "cell_type": "code",
      "metadata": {
        "id": "LS4U7PwNyGdd"
      },
      "source": [
        "with open(\"/content/superset.csv\", 'w') as f:\n",
        "                for row in temp_df.itertuples(index=False):\n",
        "                    #print(row)\n",
        "                    ls = list(row)\n",
        "                    ls = [x for x in ls if x]\n",
        "                    try:\n",
        "                      if '1500' or '2500' or '0500' in ls:\n",
        "                            old_index = ls.index('1500') if '1500' in ls else (ls.index('2500') if '2500' in ls else ls.index('0500')) \n",
        "                            #print(\"old_index\", old_index)\n",
        "                            \n",
        "                            ls.insert(0, ls.pop(old_index))\n",
        "                            #print(\"after row\", ls)\n",
        "                            f.write(str(ls)+'\\n')\n",
        "                    except ValueError:\n",
        "                      pass"
      ],
      "execution_count": 45,
      "outputs": []
    },
    {
      "cell_type": "code",
      "metadata": {
        "id": "tgD_0WtoyPEh"
      },
      "source": [
        "with open('/content/superset.csv') as filein, open('/content/superset_final.csv','w') as fileout:\n",
        "    for line in filein:\n",
        "        line=line.replace(\"'\",\"\")\n",
        "        line=line.replace(\"}\",\"\")\n",
        "        line=line.replace(\"{\",\"\")\n",
        "        line=line.replace(\", \",\" \")\n",
        "        fileout.write(line)"
      ],
      "execution_count": 46,
      "outputs": []
    },
    {
      "cell_type": "code",
      "metadata": {
        "id": "YCroNP25yTqR"
      },
      "source": [
        "with open('/content/superset_final.csv') as filein, open('/content/superset_final_v1.csv','w') as fileout:\n",
        "    for line in filein:\n",
        "        line=line.replace(\"[\",\"\")\n",
        "        line=line.replace(\"]\",\"\")\n",
        "        fileout.write(line)"
      ],
      "execution_count": 47,
      "outputs": []
    },
    {
      "cell_type": "code",
      "metadata": {
        "id": "yyg885hCmKlk"
      },
      "source": [
        "superset = pd.read_csv(\"/content/superset_final_v1.csv\",header=None, names=[\"itemsets\"],index_col=False)"
      ],
      "execution_count": 48,
      "outputs": []
    },
    {
      "cell_type": "code",
      "metadata": {
        "id": "P0KJfIgjs-Dd"
      },
      "source": [
        "superset_df = pd.concat([superset[['itemsets']], superset['itemsets'].str.split(' ', expand=True)], axis=1\n",
        "                  )"
      ],
      "execution_count": 49,
      "outputs": []
    },
    {
      "cell_type": "code",
      "metadata": {
        "id": "gD32DmsKtAK7"
      },
      "source": [
        "superset_df = superset_df.loc[superset_df.iloc[:,1].isin(['0500','1500', '2500'])] #filtering rows"
      ],
      "execution_count": 50,
      "outputs": []
    },
    {
      "cell_type": "code",
      "metadata": {
        "id": "qX76_d2GtJfy"
      },
      "source": [
        "superset_df=superset_df.drop('itemsets', axis=1)"
      ],
      "execution_count": 51,
      "outputs": []
    },
    {
      "cell_type": "code",
      "metadata": {
        "colab": {
          "base_uri": "https://localhost:8080/",
          "height": 663
        },
        "id": "USLYtzQl2Fqk",
        "outputId": "17c3b664-7c95-4ae9-fd3e-3ed21bc5e54b"
      },
      "source": [
        "superset_df"
      ],
      "execution_count": 52,
      "outputs": [
        {
          "output_type": "execute_result",
          "data": {
            "text/html": [
              "<div>\n",
              "<style scoped>\n",
              "    .dataframe tbody tr th:only-of-type {\n",
              "        vertical-align: middle;\n",
              "    }\n",
              "\n",
              "    .dataframe tbody tr th {\n",
              "        vertical-align: top;\n",
              "    }\n",
              "\n",
              "    .dataframe thead th {\n",
              "        text-align: right;\n",
              "    }\n",
              "</style>\n",
              "<table border=\"1\" class=\"dataframe\">\n",
              "  <thead>\n",
              "    <tr style=\"text-align: right;\">\n",
              "      <th></th>\n",
              "      <th>0</th>\n",
              "      <th>1</th>\n",
              "      <th>2</th>\n",
              "      <th>3</th>\n",
              "      <th>4</th>\n",
              "    </tr>\n",
              "  </thead>\n",
              "  <tbody>\n",
              "    <tr>\n",
              "      <th>0</th>\n",
              "      <td>2500</td>\n",
              "      <td>6700</td>\n",
              "      <td>2600</td>\n",
              "      <td>3800</td>\n",
              "      <td>7900</td>\n",
              "    </tr>\n",
              "    <tr>\n",
              "      <th>1</th>\n",
              "      <td>2500</td>\n",
              "      <td>2800</td>\n",
              "      <td>6700</td>\n",
              "      <td>2600</td>\n",
              "      <td>7900</td>\n",
              "    </tr>\n",
              "    <tr>\n",
              "      <th>2</th>\n",
              "      <td>2500</td>\n",
              "      <td>2800</td>\n",
              "      <td>6700</td>\n",
              "      <td>7900</td>\n",
              "      <td>1600</td>\n",
              "    </tr>\n",
              "    <tr>\n",
              "      <th>3</th>\n",
              "      <td>2500</td>\n",
              "      <td>5700</td>\n",
              "      <td>2800</td>\n",
              "      <td>7900</td>\n",
              "      <td>None</td>\n",
              "    </tr>\n",
              "    <tr>\n",
              "      <th>4</th>\n",
              "      <td>2500</td>\n",
              "      <td>5700</td>\n",
              "      <td>7900</td>\n",
              "      <td>1600</td>\n",
              "      <td>None</td>\n",
              "    </tr>\n",
              "    <tr>\n",
              "      <th>5</th>\n",
              "      <td>2500</td>\n",
              "      <td>3800</td>\n",
              "      <td>7900</td>\n",
              "      <td>1600</td>\n",
              "      <td>None</td>\n",
              "    </tr>\n",
              "    <tr>\n",
              "      <th>6</th>\n",
              "      <td>1500</td>\n",
              "      <td>600</td>\n",
              "      <td>2800</td>\n",
              "      <td>4900</td>\n",
              "      <td>3700</td>\n",
              "    </tr>\n",
              "    <tr>\n",
              "      <th>7</th>\n",
              "      <td>1500</td>\n",
              "      <td>600</td>\n",
              "      <td>2800</td>\n",
              "      <td>5900</td>\n",
              "      <td>3700</td>\n",
              "    </tr>\n",
              "    <tr>\n",
              "      <th>8</th>\n",
              "      <td>1500</td>\n",
              "      <td>2800</td>\n",
              "      <td>5900</td>\n",
              "      <td>1600</td>\n",
              "      <td>3700</td>\n",
              "    </tr>\n",
              "    <tr>\n",
              "      <th>9</th>\n",
              "      <td>2500</td>\n",
              "      <td>5700</td>\n",
              "      <td>2800</td>\n",
              "      <td>2600</td>\n",
              "      <td>6900</td>\n",
              "    </tr>\n",
              "    <tr>\n",
              "      <th>10</th>\n",
              "      <td>2500</td>\n",
              "      <td>5700</td>\n",
              "      <td>2600</td>\n",
              "      <td>3800</td>\n",
              "      <td>6900</td>\n",
              "    </tr>\n",
              "    <tr>\n",
              "      <th>11</th>\n",
              "      <td>2500</td>\n",
              "      <td>5700</td>\n",
              "      <td>2800</td>\n",
              "      <td>6900</td>\n",
              "      <td>1600</td>\n",
              "    </tr>\n",
              "    <tr>\n",
              "      <th>12</th>\n",
              "      <td>2500</td>\n",
              "      <td>5700</td>\n",
              "      <td>3800</td>\n",
              "      <td>6900</td>\n",
              "      <td>1600</td>\n",
              "    </tr>\n",
              "    <tr>\n",
              "      <th>13</th>\n",
              "      <td>2500</td>\n",
              "      <td>5700</td>\n",
              "      <td>2800</td>\n",
              "      <td>5900</td>\n",
              "      <td>1600</td>\n",
              "    </tr>\n",
              "    <tr>\n",
              "      <th>14</th>\n",
              "      <td>2500</td>\n",
              "      <td>2800</td>\n",
              "      <td>5900</td>\n",
              "      <td>4700</td>\n",
              "      <td>1600</td>\n",
              "    </tr>\n",
              "    <tr>\n",
              "      <th>15</th>\n",
              "      <td>2500</td>\n",
              "      <td>2800</td>\n",
              "      <td>4700</td>\n",
              "      <td>6900</td>\n",
              "      <td>1600</td>\n",
              "    </tr>\n",
              "    <tr>\n",
              "      <th>16</th>\n",
              "      <td>1500</td>\n",
              "      <td>4700</td>\n",
              "      <td>3800</td>\n",
              "      <td>6900</td>\n",
              "      <td>1600</td>\n",
              "    </tr>\n",
              "    <tr>\n",
              "      <th>17</th>\n",
              "      <td>1500</td>\n",
              "      <td>2800</td>\n",
              "      <td>4700</td>\n",
              "      <td>6900</td>\n",
              "      <td>1600</td>\n",
              "    </tr>\n",
              "    <tr>\n",
              "      <th>18</th>\n",
              "      <td>1500</td>\n",
              "      <td>5900</td>\n",
              "      <td>4700</td>\n",
              "      <td>3800</td>\n",
              "      <td>1600</td>\n",
              "    </tr>\n",
              "    <tr>\n",
              "      <th>19</th>\n",
              "      <td>1500</td>\n",
              "      <td>2800</td>\n",
              "      <td>5900</td>\n",
              "      <td>4700</td>\n",
              "      <td>1600</td>\n",
              "    </tr>\n",
              "  </tbody>\n",
              "</table>\n",
              "</div>"
            ],
            "text/plain": [
              "       0     1     2     3     4\n",
              "0   2500  6700  2600  3800  7900\n",
              "1   2500  2800  6700  2600  7900\n",
              "2   2500  2800  6700  7900  1600\n",
              "3   2500  5700  2800  7900  None\n",
              "4   2500  5700  7900  1600  None\n",
              "5   2500  3800  7900  1600  None\n",
              "6   1500   600  2800  4900  3700\n",
              "7   1500   600  2800  5900  3700\n",
              "8   1500  2800  5900  1600  3700\n",
              "9   2500  5700  2800  2600  6900\n",
              "10  2500  5700  2600  3800  6900\n",
              "11  2500  5700  2800  6900  1600\n",
              "12  2500  5700  3800  6900  1600\n",
              "13  2500  5700  2800  5900  1600\n",
              "14  2500  2800  5900  4700  1600\n",
              "15  2500  2800  4700  6900  1600\n",
              "16  1500  4700  3800  6900  1600\n",
              "17  1500  2800  4700  6900  1600\n",
              "18  1500  5900  4700  3800  1600\n",
              "19  1500  2800  5900  4700  1600"
            ]
          },
          "metadata": {},
          "execution_count": 52
        }
      ]
    },
    {
      "cell_type": "code",
      "metadata": {
        "id": "WMDLja6btOBq"
      },
      "source": [
        "superset_df.columns = ['a', 'b', 'c', 'd', 'e']"
      ],
      "execution_count": 53,
      "outputs": []
    },
    {
      "cell_type": "code",
      "metadata": {
        "id": "jZVRlq5SvgJ6"
      },
      "source": [
        "#concat @ to tempdf\n",
        "for i,n in enumerate(superset_df.columns):\n",
        "  \n",
        "    superset_df[n] = '@' + superset_df[n].astype(str)"
      ],
      "execution_count": 54,
      "outputs": []
    },
    {
      "cell_type": "code",
      "metadata": {
        "colab": {
          "base_uri": "https://localhost:8080/"
        },
        "id": "Gd_eZtMStS7k",
        "outputId": "625a18c7-2d07-4ce3-d2bd-f7435b90f0bc"
      },
      "source": [
        "superset_df['a'].value_counts()"
      ],
      "execution_count": 55,
      "outputs": [
        {
          "output_type": "execute_result",
          "data": {
            "text/plain": [
              "@2500    13\n",
              "@1500     7\n",
              "Name: a, dtype: int64"
            ]
          },
          "metadata": {},
          "execution_count": 55
        }
      ]
    },
    {
      "cell_type": "code",
      "metadata": {
        "id": "umyampGctXTb"
      },
      "source": [
        "superset_df['rules'] = superset_df['b']+','+superset_df['c']+','+superset_df['d']+','+superset_df['e']"
      ],
      "execution_count": 56,
      "outputs": []
    },
    {
      "cell_type": "code",
      "metadata": {
        "id": "P7Qs8glTvEux"
      },
      "source": [
        "superset_df['pos'] = superset_df['rules'].str.find('@None')"
      ],
      "execution_count": 57,
      "outputs": []
    },
    {
      "cell_type": "code",
      "metadata": {
        "id": "k9X3Cvz2t8e6"
      },
      "source": [
        "superset_df['rules'] = superset_df.apply(lambda x: x['rules'][0:x['pos']],axis=1)\n",
        "superset_df['rules'] = superset_df['rules']+\">\"+superset_df['a']\n",
        "superset_df['rules'] = superset_df['rules'].str.replace(',>','>')"
      ],
      "execution_count": 58,
      "outputs": []
    },
    {
      "cell_type": "code",
      "metadata": {
        "id": "X3OQzGI_wCFZ"
      },
      "source": [
        "superset_df['rules'] = superset_df['rules'].str.replace('@','')"
      ],
      "execution_count": 59,
      "outputs": []
    },
    {
      "cell_type": "code",
      "metadata": {
        "colab": {
          "base_uri": "https://localhost:8080/"
        },
        "id": "HeDFXViotzmy",
        "outputId": "689b637d-55af-428e-d9d1-6fa89ae74953"
      },
      "source": [
        "superset_df['rules']"
      ],
      "execution_count": 60,
      "outputs": [
        {
          "output_type": "execute_result",
          "data": {
            "text/plain": [
              "0     6700,2600,3800,790>2500\n",
              "1     2800,6700,2600,790>2500\n",
              "2     2800,6700,7900,160>2500\n",
              "3         5700,2800,7900>2500\n",
              "4         5700,7900,1600>2500\n",
              "5         3800,7900,1600>2500\n",
              "6      600,2800,4900,370>1500\n",
              "7      600,2800,5900,370>1500\n",
              "8     2800,5900,1600,370>1500\n",
              "9     5700,2800,2600,690>2500\n",
              "10    5700,2600,3800,690>2500\n",
              "11    5700,2800,6900,160>2500\n",
              "12    5700,3800,6900,160>2500\n",
              "13    5700,2800,5900,160>2500\n",
              "14    2800,5900,4700,160>2500\n",
              "15    2800,4700,6900,160>2500\n",
              "16    4700,3800,6900,160>1500\n",
              "17    2800,4700,6900,160>1500\n",
              "18    5900,4700,3800,160>1500\n",
              "19    2800,5900,4700,160>1500\n",
              "Name: rules, dtype: object"
            ]
          },
          "metadata": {},
          "execution_count": 60
        }
      ]
    },
    {
      "cell_type": "code",
      "metadata": {
        "id": "TfuI9XEI43pI"
      },
      "source": [
        "superset_df['rules'].to_csv(\"iris_rare_rules.csv\", header=None, index=False)"
      ],
      "execution_count": 61,
      "outputs": []
    },
    {
      "cell_type": "code",
      "metadata": {
        "id": "nFxZlu5k8jtY"
      },
      "source": [
        "#refining predictions"
      ],
      "execution_count": 62,
      "outputs": []
    },
    {
      "cell_type": "code",
      "metadata": {
        "colab": {
          "base_uri": "https://localhost:8080/",
          "height": 415
        },
        "id": "u0VhKTB19E0A",
        "outputId": "4559d879-cb02-449e-b8af-77c00a0f481e"
      },
      "source": [
        "df_pr"
      ],
      "execution_count": 63,
      "outputs": [
        {
          "output_type": "execute_result",
          "data": {
            "text/html": [
              "<div>\n",
              "<style scoped>\n",
              "    .dataframe tbody tr th:only-of-type {\n",
              "        vertical-align: middle;\n",
              "    }\n",
              "\n",
              "    .dataframe tbody tr th {\n",
              "        vertical-align: top;\n",
              "    }\n",
              "\n",
              "    .dataframe thead th {\n",
              "        text-align: right;\n",
              "    }\n",
              "</style>\n",
              "<table border=\"1\" class=\"dataframe\">\n",
              "  <thead>\n",
              "    <tr style=\"text-align: right;\">\n",
              "      <th></th>\n",
              "      <th>class</th>\n",
              "      <th>f1</th>\n",
              "      <th>f2</th>\n",
              "      <th>f3</th>\n",
              "      <th>f4</th>\n",
              "      <th>underfitting_predictions</th>\n",
              "      <th>overfitting_predictions</th>\n",
              "    </tr>\n",
              "  </thead>\n",
              "  <tbody>\n",
              "    <tr>\n",
              "      <th>0</th>\n",
              "      <td>0500</td>\n",
              "      <td>5900</td>\n",
              "      <td>3800</td>\n",
              "      <td>1700</td>\n",
              "      <td>0600</td>\n",
              "      <td>0</td>\n",
              "      <td>0</td>\n",
              "    </tr>\n",
              "    <tr>\n",
              "      <th>1</th>\n",
              "      <td>0500</td>\n",
              "      <td>4900</td>\n",
              "      <td>2800</td>\n",
              "      <td>1700</td>\n",
              "      <td>0600</td>\n",
              "      <td>0</td>\n",
              "      <td>0</td>\n",
              "    </tr>\n",
              "    <tr>\n",
              "      <th>2</th>\n",
              "      <td>0500</td>\n",
              "      <td>4900</td>\n",
              "      <td>3800</td>\n",
              "      <td>1700</td>\n",
              "      <td>0600</td>\n",
              "      <td>0</td>\n",
              "      <td>0</td>\n",
              "    </tr>\n",
              "    <tr>\n",
              "      <th>3</th>\n",
              "      <td>0500</td>\n",
              "      <td>4900</td>\n",
              "      <td>3800</td>\n",
              "      <td>1700</td>\n",
              "      <td>0600</td>\n",
              "      <td>0</td>\n",
              "      <td>0</td>\n",
              "    </tr>\n",
              "    <tr>\n",
              "      <th>4</th>\n",
              "      <td>0500</td>\n",
              "      <td>4900</td>\n",
              "      <td>3800</td>\n",
              "      <td>1700</td>\n",
              "      <td>0600</td>\n",
              "      <td>0</td>\n",
              "      <td>0</td>\n",
              "    </tr>\n",
              "    <tr>\n",
              "      <th>...</th>\n",
              "      <td>...</td>\n",
              "      <td>...</td>\n",
              "      <td>...</td>\n",
              "      <td>...</td>\n",
              "      <td>...</td>\n",
              "      <td>...</td>\n",
              "      <td>...</td>\n",
              "    </tr>\n",
              "    <tr>\n",
              "      <th>145</th>\n",
              "      <td>2500</td>\n",
              "      <td>6900</td>\n",
              "      <td>2800</td>\n",
              "      <td>5700</td>\n",
              "      <td>2600</td>\n",
              "      <td>1</td>\n",
              "      <td>2</td>\n",
              "    </tr>\n",
              "    <tr>\n",
              "      <th>146</th>\n",
              "      <td>2500</td>\n",
              "      <td>6900</td>\n",
              "      <td>2800</td>\n",
              "      <td>4700</td>\n",
              "      <td>1600</td>\n",
              "      <td>1</td>\n",
              "      <td>2</td>\n",
              "    </tr>\n",
              "    <tr>\n",
              "      <th>147</th>\n",
              "      <td>2500</td>\n",
              "      <td>6900</td>\n",
              "      <td>2800</td>\n",
              "      <td>5700</td>\n",
              "      <td>1600</td>\n",
              "      <td>1</td>\n",
              "      <td>2</td>\n",
              "    </tr>\n",
              "    <tr>\n",
              "      <th>148</th>\n",
              "      <td>2500</td>\n",
              "      <td>6900</td>\n",
              "      <td>3800</td>\n",
              "      <td>5700</td>\n",
              "      <td>2600</td>\n",
              "      <td>2</td>\n",
              "      <td>2</td>\n",
              "    </tr>\n",
              "    <tr>\n",
              "      <th>149</th>\n",
              "      <td>2500</td>\n",
              "      <td>5900</td>\n",
              "      <td>2800</td>\n",
              "      <td>5700</td>\n",
              "      <td>1600</td>\n",
              "      <td>1</td>\n",
              "      <td>2</td>\n",
              "    </tr>\n",
              "  </tbody>\n",
              "</table>\n",
              "<p>150 rows × 7 columns</p>\n",
              "</div>"
            ],
            "text/plain": [
              "    class    f1    f2  ...    f4 underfitting_predictions  overfitting_predictions\n",
              "0    0500  5900  3800  ...  0600                        0                        0\n",
              "1    0500  4900  2800  ...  0600                        0                        0\n",
              "2    0500  4900  3800  ...  0600                        0                        0\n",
              "3    0500  4900  3800  ...  0600                        0                        0\n",
              "4    0500  4900  3800  ...  0600                        0                        0\n",
              "..    ...   ...   ...  ...   ...                      ...                      ...\n",
              "145  2500  6900  2800  ...  2600                        1                        2\n",
              "146  2500  6900  2800  ...  1600                        1                        2\n",
              "147  2500  6900  2800  ...  1600                        1                        2\n",
              "148  2500  6900  3800  ...  2600                        2                        2\n",
              "149  2500  5900  2800  ...  1600                        1                        2\n",
              "\n",
              "[150 rows x 7 columns]"
            ]
          },
          "metadata": {},
          "execution_count": 63
        }
      ]
    },
    {
      "cell_type": "code",
      "metadata": {
        "id": "3umJBYhuCTr4"
      },
      "source": [
        "superset_df['b'] = superset_df['b'].str.replace('@','')\n",
        "superset_df['c'] = superset_df['c'].str.replace('@','')\n",
        "superset_df['d'] = superset_df['d'].str.replace('@','')\n",
        "superset_df['e'] = superset_df['e'].str.replace('@','')"
      ],
      "execution_count": 64,
      "outputs": []
    },
    {
      "cell_type": "code",
      "metadata": {
        "id": "U3caLrsn-_Fh",
        "colab": {
          "base_uri": "https://localhost:8080/"
        },
        "outputId": "254c4f7c-c02b-496e-a4ad-1d63274a4c9a"
      },
      "source": [
        "for row in superset_df[['b','c','d', 'e']].itertuples(index=False):\n",
        "          ls1 = list(row)\n",
        "          ls1 = [x for x in ls1 if x]\n",
        "          set1 =ls1\n",
        "          #print(\"set1\", set1)\n",
        "          for row in df_pr[['f1','f2', 'f3', 'f4']].itertuples(index=False):\n",
        "                    ls = list(row)\n",
        "                    ls = [x for x in ls if x]\n",
        "                    set2 =ls\n",
        "                    #print(\"set2\", set2)\n",
        "                    if set1 is set2:\n",
        "                        # Do not try to compare a row with itself\n",
        "                        continue\n",
        "                    elif len(set(set1).difference(set(set2))) == 0:\n",
        "                      df_pr['rules_class'] = superset_df['a']"
      ],
      "execution_count": 65,
      "outputs": [
        {
          "output_type": "stream",
          "name": "stderr",
          "text": [
            "/usr/local/lib/python3.7/dist-packages/ipykernel_launcher.py:15: SettingWithCopyWarning: \n",
            "A value is trying to be set on a copy of a slice from a DataFrame.\n",
            "Try using .loc[row_indexer,col_indexer] = value instead\n",
            "\n",
            "See the caveats in the documentation: https://pandas.pydata.org/pandas-docs/stable/user_guide/indexing.html#returning-a-view-versus-a-copy\n",
            "  from ipykernel import kernelapp as app\n"
          ]
        }
      ]
    },
    {
      "cell_type": "code",
      "metadata": {
        "colab": {
          "base_uri": "https://localhost:8080/",
          "height": 415
        },
        "id": "GW9SblwO86mL",
        "outputId": "cf79ee71-9561-4db7-cf62-86210ae4b0de"
      },
      "source": [
        "df_pr"
      ],
      "execution_count": 66,
      "outputs": [
        {
          "output_type": "execute_result",
          "data": {
            "text/html": [
              "<div>\n",
              "<style scoped>\n",
              "    .dataframe tbody tr th:only-of-type {\n",
              "        vertical-align: middle;\n",
              "    }\n",
              "\n",
              "    .dataframe tbody tr th {\n",
              "        vertical-align: top;\n",
              "    }\n",
              "\n",
              "    .dataframe thead th {\n",
              "        text-align: right;\n",
              "    }\n",
              "</style>\n",
              "<table border=\"1\" class=\"dataframe\">\n",
              "  <thead>\n",
              "    <tr style=\"text-align: right;\">\n",
              "      <th></th>\n",
              "      <th>class</th>\n",
              "      <th>f1</th>\n",
              "      <th>f2</th>\n",
              "      <th>f3</th>\n",
              "      <th>f4</th>\n",
              "      <th>underfitting_predictions</th>\n",
              "      <th>overfitting_predictions</th>\n",
              "      <th>rules_class</th>\n",
              "    </tr>\n",
              "  </thead>\n",
              "  <tbody>\n",
              "    <tr>\n",
              "      <th>0</th>\n",
              "      <td>0500</td>\n",
              "      <td>5900</td>\n",
              "      <td>3800</td>\n",
              "      <td>1700</td>\n",
              "      <td>0600</td>\n",
              "      <td>0</td>\n",
              "      <td>0</td>\n",
              "      <td>@2500</td>\n",
              "    </tr>\n",
              "    <tr>\n",
              "      <th>1</th>\n",
              "      <td>0500</td>\n",
              "      <td>4900</td>\n",
              "      <td>2800</td>\n",
              "      <td>1700</td>\n",
              "      <td>0600</td>\n",
              "      <td>0</td>\n",
              "      <td>0</td>\n",
              "      <td>@2500</td>\n",
              "    </tr>\n",
              "    <tr>\n",
              "      <th>2</th>\n",
              "      <td>0500</td>\n",
              "      <td>4900</td>\n",
              "      <td>3800</td>\n",
              "      <td>1700</td>\n",
              "      <td>0600</td>\n",
              "      <td>0</td>\n",
              "      <td>0</td>\n",
              "      <td>@2500</td>\n",
              "    </tr>\n",
              "    <tr>\n",
              "      <th>3</th>\n",
              "      <td>0500</td>\n",
              "      <td>4900</td>\n",
              "      <td>3800</td>\n",
              "      <td>1700</td>\n",
              "      <td>0600</td>\n",
              "      <td>0</td>\n",
              "      <td>0</td>\n",
              "      <td>@2500</td>\n",
              "    </tr>\n",
              "    <tr>\n",
              "      <th>4</th>\n",
              "      <td>0500</td>\n",
              "      <td>4900</td>\n",
              "      <td>3800</td>\n",
              "      <td>1700</td>\n",
              "      <td>0600</td>\n",
              "      <td>0</td>\n",
              "      <td>0</td>\n",
              "      <td>@2500</td>\n",
              "    </tr>\n",
              "    <tr>\n",
              "      <th>...</th>\n",
              "      <td>...</td>\n",
              "      <td>...</td>\n",
              "      <td>...</td>\n",
              "      <td>...</td>\n",
              "      <td>...</td>\n",
              "      <td>...</td>\n",
              "      <td>...</td>\n",
              "      <td>...</td>\n",
              "    </tr>\n",
              "    <tr>\n",
              "      <th>145</th>\n",
              "      <td>2500</td>\n",
              "      <td>6900</td>\n",
              "      <td>2800</td>\n",
              "      <td>5700</td>\n",
              "      <td>2600</td>\n",
              "      <td>1</td>\n",
              "      <td>2</td>\n",
              "      <td>NaN</td>\n",
              "    </tr>\n",
              "    <tr>\n",
              "      <th>146</th>\n",
              "      <td>2500</td>\n",
              "      <td>6900</td>\n",
              "      <td>2800</td>\n",
              "      <td>4700</td>\n",
              "      <td>1600</td>\n",
              "      <td>1</td>\n",
              "      <td>2</td>\n",
              "      <td>NaN</td>\n",
              "    </tr>\n",
              "    <tr>\n",
              "      <th>147</th>\n",
              "      <td>2500</td>\n",
              "      <td>6900</td>\n",
              "      <td>2800</td>\n",
              "      <td>5700</td>\n",
              "      <td>1600</td>\n",
              "      <td>1</td>\n",
              "      <td>2</td>\n",
              "      <td>NaN</td>\n",
              "    </tr>\n",
              "    <tr>\n",
              "      <th>148</th>\n",
              "      <td>2500</td>\n",
              "      <td>6900</td>\n",
              "      <td>3800</td>\n",
              "      <td>5700</td>\n",
              "      <td>2600</td>\n",
              "      <td>2</td>\n",
              "      <td>2</td>\n",
              "      <td>NaN</td>\n",
              "    </tr>\n",
              "    <tr>\n",
              "      <th>149</th>\n",
              "      <td>2500</td>\n",
              "      <td>5900</td>\n",
              "      <td>2800</td>\n",
              "      <td>5700</td>\n",
              "      <td>1600</td>\n",
              "      <td>1</td>\n",
              "      <td>2</td>\n",
              "      <td>NaN</td>\n",
              "    </tr>\n",
              "  </tbody>\n",
              "</table>\n",
              "<p>150 rows × 8 columns</p>\n",
              "</div>"
            ],
            "text/plain": [
              "    class    f1  ... overfitting_predictions rules_class\n",
              "0    0500  5900  ...                       0       @2500\n",
              "1    0500  4900  ...                       0       @2500\n",
              "2    0500  4900  ...                       0       @2500\n",
              "3    0500  4900  ...                       0       @2500\n",
              "4    0500  4900  ...                       0       @2500\n",
              "..    ...   ...  ...                     ...         ...\n",
              "145  2500  6900  ...                       2         NaN\n",
              "146  2500  6900  ...                       2         NaN\n",
              "147  2500  6900  ...                       2         NaN\n",
              "148  2500  6900  ...                       2         NaN\n",
              "149  2500  5900  ...                       2         NaN\n",
              "\n",
              "[150 rows x 8 columns]"
            ]
          },
          "metadata": {},
          "execution_count": 66
        }
      ]
    },
    {
      "cell_type": "code",
      "metadata": {
        "id": "vBF5OM3kDhpg",
        "colab": {
          "base_uri": "https://localhost:8080/"
        },
        "outputId": "d030cd62-a5c2-4a76-a78d-a8792ff43eab"
      },
      "source": [
        "df_pr['rules_class'] = df_pr['rules_class'].str.replace('@','')"
      ],
      "execution_count": 67,
      "outputs": [
        {
          "output_type": "stream",
          "name": "stderr",
          "text": [
            "/usr/local/lib/python3.7/dist-packages/ipykernel_launcher.py:1: SettingWithCopyWarning: \n",
            "A value is trying to be set on a copy of a slice from a DataFrame.\n",
            "Try using .loc[row_indexer,col_indexer] = value instead\n",
            "\n",
            "See the caveats in the documentation: https://pandas.pydata.org/pandas-docs/stable/user_guide/indexing.html#returning-a-view-versus-a-copy\n",
            "  \"\"\"Entry point for launching an IPython kernel.\n"
          ]
        }
      ]
    },
    {
      "cell_type": "code",
      "metadata": {
        "id": "UM7ZrIDKnstH"
      },
      "source": [
        "#change only for a class\n",
        "#df_pr['rules_class'].replace({\"1500\": np.nan}, inplace=True)\n",
        "#df_pr['rules_class'].replace({\"2500\": np.nan}, inplace=True)"
      ],
      "execution_count": 68,
      "outputs": []
    },
    {
      "cell_type": "code",
      "metadata": {
        "id": "7KvM5urEC3dD",
        "colab": {
          "base_uri": "https://localhost:8080/"
        },
        "outputId": "a5d56c6c-f2e1-481a-d27a-1aed213dc746"
      },
      "source": [
        "df_pr['rules_class'] = df_pr['rules_class'].fillna(df_pr['underfitting_predictions'])"
      ],
      "execution_count": 69,
      "outputs": [
        {
          "output_type": "stream",
          "name": "stderr",
          "text": [
            "/usr/local/lib/python3.7/dist-packages/ipykernel_launcher.py:1: SettingWithCopyWarning: \n",
            "A value is trying to be set on a copy of a slice from a DataFrame.\n",
            "Try using .loc[row_indexer,col_indexer] = value instead\n",
            "\n",
            "See the caveats in the documentation: https://pandas.pydata.org/pandas-docs/stable/user_guide/indexing.html#returning-a-view-versus-a-copy\n",
            "  \"\"\"Entry point for launching an IPython kernel.\n"
          ]
        }
      ]
    },
    {
      "cell_type": "code",
      "metadata": {
        "id": "hKb_hCmlD0WL",
        "colab": {
          "base_uri": "https://localhost:8080/"
        },
        "outputId": "95e09c9c-f3d5-4323-95ef-6d44492a8309"
      },
      "source": [
        "df_pr['rules_class_final'] = df_pr['rules_class'].astype(str).str[0]"
      ],
      "execution_count": 70,
      "outputs": [
        {
          "output_type": "stream",
          "name": "stderr",
          "text": [
            "/usr/local/lib/python3.7/dist-packages/ipykernel_launcher.py:1: SettingWithCopyWarning: \n",
            "A value is trying to be set on a copy of a slice from a DataFrame.\n",
            "Try using .loc[row_indexer,col_indexer] = value instead\n",
            "\n",
            "See the caveats in the documentation: https://pandas.pydata.org/pandas-docs/stable/user_guide/indexing.html#returning-a-view-versus-a-copy\n",
            "  \"\"\"Entry point for launching an IPython kernel.\n"
          ]
        }
      ]
    },
    {
      "cell_type": "code",
      "metadata": {
        "colab": {
          "base_uri": "https://localhost:8080/",
          "height": 415
        },
        "id": "6MDf052hD3zk",
        "outputId": "6b3d96af-9786-4f8d-b58a-e155204c50c8"
      },
      "source": [
        "df_pr"
      ],
      "execution_count": 71,
      "outputs": [
        {
          "output_type": "execute_result",
          "data": {
            "text/html": [
              "<div>\n",
              "<style scoped>\n",
              "    .dataframe tbody tr th:only-of-type {\n",
              "        vertical-align: middle;\n",
              "    }\n",
              "\n",
              "    .dataframe tbody tr th {\n",
              "        vertical-align: top;\n",
              "    }\n",
              "\n",
              "    .dataframe thead th {\n",
              "        text-align: right;\n",
              "    }\n",
              "</style>\n",
              "<table border=\"1\" class=\"dataframe\">\n",
              "  <thead>\n",
              "    <tr style=\"text-align: right;\">\n",
              "      <th></th>\n",
              "      <th>class</th>\n",
              "      <th>f1</th>\n",
              "      <th>f2</th>\n",
              "      <th>f3</th>\n",
              "      <th>f4</th>\n",
              "      <th>underfitting_predictions</th>\n",
              "      <th>overfitting_predictions</th>\n",
              "      <th>rules_class</th>\n",
              "      <th>rules_class_final</th>\n",
              "    </tr>\n",
              "  </thead>\n",
              "  <tbody>\n",
              "    <tr>\n",
              "      <th>0</th>\n",
              "      <td>0500</td>\n",
              "      <td>5900</td>\n",
              "      <td>3800</td>\n",
              "      <td>1700</td>\n",
              "      <td>0600</td>\n",
              "      <td>0</td>\n",
              "      <td>0</td>\n",
              "      <td>2500</td>\n",
              "      <td>2</td>\n",
              "    </tr>\n",
              "    <tr>\n",
              "      <th>1</th>\n",
              "      <td>0500</td>\n",
              "      <td>4900</td>\n",
              "      <td>2800</td>\n",
              "      <td>1700</td>\n",
              "      <td>0600</td>\n",
              "      <td>0</td>\n",
              "      <td>0</td>\n",
              "      <td>2500</td>\n",
              "      <td>2</td>\n",
              "    </tr>\n",
              "    <tr>\n",
              "      <th>2</th>\n",
              "      <td>0500</td>\n",
              "      <td>4900</td>\n",
              "      <td>3800</td>\n",
              "      <td>1700</td>\n",
              "      <td>0600</td>\n",
              "      <td>0</td>\n",
              "      <td>0</td>\n",
              "      <td>2500</td>\n",
              "      <td>2</td>\n",
              "    </tr>\n",
              "    <tr>\n",
              "      <th>3</th>\n",
              "      <td>0500</td>\n",
              "      <td>4900</td>\n",
              "      <td>3800</td>\n",
              "      <td>1700</td>\n",
              "      <td>0600</td>\n",
              "      <td>0</td>\n",
              "      <td>0</td>\n",
              "      <td>2500</td>\n",
              "      <td>2</td>\n",
              "    </tr>\n",
              "    <tr>\n",
              "      <th>4</th>\n",
              "      <td>0500</td>\n",
              "      <td>4900</td>\n",
              "      <td>3800</td>\n",
              "      <td>1700</td>\n",
              "      <td>0600</td>\n",
              "      <td>0</td>\n",
              "      <td>0</td>\n",
              "      <td>2500</td>\n",
              "      <td>2</td>\n",
              "    </tr>\n",
              "    <tr>\n",
              "      <th>...</th>\n",
              "      <td>...</td>\n",
              "      <td>...</td>\n",
              "      <td>...</td>\n",
              "      <td>...</td>\n",
              "      <td>...</td>\n",
              "      <td>...</td>\n",
              "      <td>...</td>\n",
              "      <td>...</td>\n",
              "      <td>...</td>\n",
              "    </tr>\n",
              "    <tr>\n",
              "      <th>145</th>\n",
              "      <td>2500</td>\n",
              "      <td>6900</td>\n",
              "      <td>2800</td>\n",
              "      <td>5700</td>\n",
              "      <td>2600</td>\n",
              "      <td>1</td>\n",
              "      <td>2</td>\n",
              "      <td>1</td>\n",
              "      <td>1</td>\n",
              "    </tr>\n",
              "    <tr>\n",
              "      <th>146</th>\n",
              "      <td>2500</td>\n",
              "      <td>6900</td>\n",
              "      <td>2800</td>\n",
              "      <td>4700</td>\n",
              "      <td>1600</td>\n",
              "      <td>1</td>\n",
              "      <td>2</td>\n",
              "      <td>1</td>\n",
              "      <td>1</td>\n",
              "    </tr>\n",
              "    <tr>\n",
              "      <th>147</th>\n",
              "      <td>2500</td>\n",
              "      <td>6900</td>\n",
              "      <td>2800</td>\n",
              "      <td>5700</td>\n",
              "      <td>1600</td>\n",
              "      <td>1</td>\n",
              "      <td>2</td>\n",
              "      <td>1</td>\n",
              "      <td>1</td>\n",
              "    </tr>\n",
              "    <tr>\n",
              "      <th>148</th>\n",
              "      <td>2500</td>\n",
              "      <td>6900</td>\n",
              "      <td>3800</td>\n",
              "      <td>5700</td>\n",
              "      <td>2600</td>\n",
              "      <td>2</td>\n",
              "      <td>2</td>\n",
              "      <td>2</td>\n",
              "      <td>2</td>\n",
              "    </tr>\n",
              "    <tr>\n",
              "      <th>149</th>\n",
              "      <td>2500</td>\n",
              "      <td>5900</td>\n",
              "      <td>2800</td>\n",
              "      <td>5700</td>\n",
              "      <td>1600</td>\n",
              "      <td>1</td>\n",
              "      <td>2</td>\n",
              "      <td>1</td>\n",
              "      <td>1</td>\n",
              "    </tr>\n",
              "  </tbody>\n",
              "</table>\n",
              "<p>150 rows × 9 columns</p>\n",
              "</div>"
            ],
            "text/plain": [
              "    class    f1    f2  ... overfitting_predictions rules_class  rules_class_final\n",
              "0    0500  5900  3800  ...                       0        2500                  2\n",
              "1    0500  4900  2800  ...                       0        2500                  2\n",
              "2    0500  4900  3800  ...                       0        2500                  2\n",
              "3    0500  4900  3800  ...                       0        2500                  2\n",
              "4    0500  4900  3800  ...                       0        2500                  2\n",
              "..    ...   ...   ...  ...                     ...         ...                ...\n",
              "145  2500  6900  2800  ...                       2           1                  1\n",
              "146  2500  6900  2800  ...                       2           1                  1\n",
              "147  2500  6900  2800  ...                       2           1                  1\n",
              "148  2500  6900  3800  ...                       2           2                  2\n",
              "149  2500  5900  2800  ...                       2           1                  1\n",
              "\n",
              "[150 rows x 9 columns]"
            ]
          },
          "metadata": {},
          "execution_count": 71
        }
      ]
    },
    {
      "cell_type": "code",
      "metadata": {
        "colab": {
          "base_uri": "https://localhost:8080/"
        },
        "id": "jieJXpZ-YykA",
        "outputId": "d257f95a-2e24-4bce-c829-bb398f867ee5"
      },
      "source": [
        "#change for the violet class\n",
        "df_pr['rules_class_final'] = df_pr['rules_class_final'].apply(lambda x: df_pr['class'] if x == 0 else x)"
      ],
      "execution_count": 72,
      "outputs": [
        {
          "output_type": "stream",
          "name": "stderr",
          "text": [
            "/usr/local/lib/python3.7/dist-packages/ipykernel_launcher.py:2: SettingWithCopyWarning: \n",
            "A value is trying to be set on a copy of a slice from a DataFrame.\n",
            "Try using .loc[row_indexer,col_indexer] = value instead\n",
            "\n",
            "See the caveats in the documentation: https://pandas.pydata.org/pandas-docs/stable/user_guide/indexing.html#returning-a-view-versus-a-copy\n",
            "  \n"
          ]
        }
      ]
    },
    {
      "cell_type": "code",
      "metadata": {
        "id": "WrYDzxR8EqJX"
      },
      "source": [
        "t_array = df_pr['rules_class_final'].astype(int).to_numpy() "
      ],
      "execution_count": 73,
      "outputs": []
    },
    {
      "cell_type": "code",
      "metadata": {
        "colab": {
          "base_uri": "https://localhost:8080/"
        },
        "id": "5NFNNbE2E-MX",
        "outputId": "2d6f264b-b875-4c1f-9898-a902fd445d38"
      },
      "source": [
        "t_array"
      ],
      "execution_count": 74,
      "outputs": [
        {
          "output_type": "execute_result",
          "data": {
            "text/plain": [
              "array([2, 2, 2, 2, 2, 2, 1, 1, 1, 2, 2, 2, 2, 2, 2, 2, 1, 1, 1, 1, 0, 0,\n",
              "       0, 0, 0, 0, 0, 0, 0, 0, 0, 0, 0, 0, 0, 0, 0, 0, 0, 0, 0, 0, 0, 0,\n",
              "       0, 0, 0, 0, 0, 0, 1, 1, 1, 1, 1, 1, 1, 1, 1, 1, 1, 1, 1, 1, 1, 1,\n",
              "       1, 1, 1, 1, 1, 1, 1, 1, 1, 1, 1, 1, 1, 1, 1, 1, 1, 1, 1, 1, 1, 1,\n",
              "       1, 1, 1, 1, 1, 1, 1, 1, 1, 1, 1, 1, 2, 2, 2, 2, 2, 2, 2, 1, 2, 2,\n",
              "       1, 1, 1, 2, 2, 2, 1, 2, 2, 1, 2, 2, 2, 1, 1, 1, 1, 1, 2, 1, 1, 1,\n",
              "       2, 1, 1, 1, 2, 1, 1, 1, 2, 1, 2, 2, 2, 1, 1, 1, 2, 1])"
            ]
          },
          "metadata": {},
          "execution_count": 74
        }
      ]
    },
    {
      "cell_type": "code",
      "metadata": {
        "id": "VzVN0GSt9nBq"
      },
      "source": [
        "#plotting results"
      ],
      "execution_count": 75,
      "outputs": []
    },
    {
      "cell_type": "code",
      "metadata": {
        "colab": {
          "base_uri": "https://localhost:8080/",
          "height": 295
        },
        "id": "Tb7jQafud_hQ",
        "outputId": "13beef0c-23f6-4b4a-db44-e6e59646a030"
      },
      "source": [
        "# Generate scatter plot for training data\n",
        "plt.scatter(iris.data[:,0], iris.data[:,1],c=iris.target)\n",
        "plt.title('Original data')\n",
        "plt.xlabel('X1')\n",
        "plt.ylabel('X2')\n",
        "plt.savefig(\"original.png\")\n",
        "plt.show()"
      ],
      "execution_count": 76,
      "outputs": [
        {
          "output_type": "display_data",
          "data": {
            "image/png": "[encoded data removed]",
            "text/plain": [
              "<Figure size 432x288 with 1 Axes>"
            ]
          },
          "metadata": {
            "needs_background": "light"
          }
        }
      ]
    },
    {
      "cell_type": "code",
      "metadata": {
        "colab": {
          "base_uri": "https://localhost:8080/",
          "height": 295
        },
        "id": "F2EN2VWm9vb6",
        "outputId": "56d78839-b8fa-4cbe-ed13-d12938f8de87"
      },
      "source": [
        "#overfitting\n",
        "plt.scatter(iris.data[:,0], iris.data[:,1], c=classes_x_overfitting)\n",
        "plt.title('after model overfitting training data')\n",
        "plt.xlabel('X1')\n",
        "plt.ylabel('X2')\n",
        "plt.savefig(\"after_model_training.png\")\n",
        "plt.show()"
      ],
      "execution_count": 77,
      "outputs": [
        {
          "output_type": "display_data",
          "data": {
            "image/png": "[encoded data removed]",
            "text/plain": [
              "<Figure size 432x288 with 1 Axes>"
            ]
          },
          "metadata": {
            "needs_background": "light"
          }
        }
      ]
    },
    {
      "cell_type": "code",
      "metadata": {
        "colab": {
          "base_uri": "https://localhost:8080/",
          "height": 295
        },
        "id": "oZ12XvME97fy",
        "outputId": "1af5cd2c-4cd1-4a2c-d245-18d9015c304e"
      },
      "source": [
        "#underfitting\n",
        "#plt.subplot(1, 2, 1)\n",
        "plt.scatter(iris.data[:,0], iris.data[:,1], c=classes_x_underfitting)\n",
        "plt.title('after model underfitting training data')\n",
        "plt.xlabel('X1')\n",
        "plt.ylabel('X2')\n",
        "plt.savefig(\"after_model_training_underfitting.png\")\n",
        "\n",
        "plt.show()"
      ],
      "execution_count": 78,
      "outputs": [
        {
          "output_type": "display_data",
          "data": {
            "image/png": "[encoded data removed]",
            "text/plain": [
              "<Figure size 432x288 with 1 Axes>"
            ]
          },
          "metadata": {
            "needs_background": "light"
          }
        }
      ]
    },
    {
      "cell_type": "code",
      "metadata": {
        "colab": {
          "base_uri": "https://localhost:8080/",
          "height": 295
        },
        "id": "wEraGpxI-FZq",
        "outputId": "f7dbf226-5861-4c60-c8bc-8929d59f1684"
      },
      "source": [
        "#rare rules\n",
        "plt.scatter(iris.data[:,0], iris.data[:,1], c=t_array)\n",
        "plt.title('after model rare rules training data')\n",
        "plt.xlabel('X1')\n",
        "plt.ylabel('X2')\n",
        "plt.savefig(\"after_model_training_rare rules.png\")\n",
        "plt.show()"
      ],
      "execution_count": 79,
      "outputs": [
        {
          "output_type": "display_data",
          "data": {
            "image/png": "[encoded data removed]",
            "text/plain": [
              "<Figure size 432x288 with 1 Axes>"
            ]
          },
          "metadata": {
            "needs_background": "light"
          }
        }
      ]
    }
  ]
}