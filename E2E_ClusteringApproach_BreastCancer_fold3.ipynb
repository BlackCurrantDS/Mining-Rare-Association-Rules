{
  "nbformat": 4,
  "nbformat_minor": 0,
  "metadata": {
    "colab": {
      "name": "E2E_ClusteringApproach_BreastCancer_fold3.ipynb",
      "provenance": [],
      "collapsed_sections": [],
      "mount_file_id": "1vcemtVQwJEzynscNHq6Q0v5J75JN_CPg",
      "authorship_tag": "ABX9TyNJS/kEc8Tw3Hg4ZPZjaB6e",
      "include_colab_link": true
    },
    "kernelspec": {
      "name": "python3",
      "display_name": "Python 3"
    }
  },
  "cells": [
    {
      "cell_type": "markdown",
      "metadata": {
        "id": "view-in-github",
        "colab_type": "text"
      },
      "source": [
        "<a href=\"https://colab.research.google.com/github/BlackCurrantDS/DBSE_Project/blob/main/E2E_ClusteringApproach_BreastCancer_fold3.ipynb\" target=\"_parent\"><img src=\"https://colab.research.google.com/assets/colab-badge.svg\" alt=\"Open In Colab\"/></a>"
      ]
    },
    {
      "cell_type": "markdown",
      "metadata": {
        "id": "F95w7E0X5wf1"
      },
      "source": [
        "Inputs"
      ]
    },
    {
      "cell_type": "code",
      "metadata": {
        "colab": {
          "base_uri": "https://localhost:8080/",
          "height": 52
        },
        "id": "BUjSwLM6-xIk",
        "outputId": "6a54b216-5a5e-4a3f-86a9-03c03f316b2e"
      },
      "source": [
        "#getting complete data\n",
        "import pandas as pd\n",
        "import numpy as np\n",
        "\n",
        "\"\"\"\n",
        "in_file = pd.read_csv(\"/content/drive/MyDrive/BreastCancer_Dataset1202/K-fold/Breast_cancer_complete.txt\", header=None)\n",
        "\n",
        "in_file.head(2)\n",
        "\n",
        "#in_file = \"/content/drive/MyDrive/BreastCancer_Dataset1202/K-fold/Breast_cancer_complete.txt\"\n",
        "\n",
        "\"\"\""
      ],
      "execution_count": 1,
      "outputs": [
        {
          "output_type": "execute_result",
          "data": {
            "application/vnd.google.colaboratory.intrinsic+json": {
              "type": "string"
            },
            "text/plain": [
              "'\\nin_file = pd.read_csv(\"/content/drive/MyDrive/BreastCancer_Dataset1202/K-fold/Breast_cancer_complete.txt\", header=None)\\n\\nin_file.head(2)\\n\\n#in_file = \"/content/drive/MyDrive/BreastCancer_Dataset1202/K-fold/Breast_cancer_complete.txt\"\\n\\n'"
            ]
          },
          "metadata": {
            "tags": []
          },
          "execution_count": 1
        }
      ]
    },
    {
      "cell_type": "code",
      "metadata": {
        "id": "irg2malsU_sj"
      },
      "source": [
        "# for generating rules \n",
        "minsup, minconf, itemset_max_size = .01,.8,-1"
      ],
      "execution_count": 2,
      "outputs": []
    },
    {
      "cell_type": "code",
      "metadata": {
        "id": "yUhL4rxg88jd"
      },
      "source": [
        "my_minpts,my_eps = 5, 2.0\n",
        "delta1, delta2, substantial_threshold = 0.0, -0.9, 0.0"
      ],
      "execution_count": 3,
      "outputs": []
    },
    {
      "cell_type": "code",
      "metadata": {
        "id": "B9X0M3W6AI0g"
      },
      "source": [
        "#for Optics\n",
        "my_minpoints, xi = 5, 0.0001"
      ],
      "execution_count": 4,
      "outputs": []
    },
    {
      "cell_type": "code",
      "metadata": {
        "id": "bwMmW8ND_D38",
        "colab": {
          "base_uri": "https://localhost:8080/",
          "height": 102
        },
        "outputId": "c10a6471-e818-4b92-f4f2-5a38ac592325"
      },
      "source": [
        "\"\"\"#getting 3 folds since data set is small\n",
        "\n",
        "from sklearn.model_selection import KFold\n",
        "\n",
        "#df = in_file.values\n",
        "kf = KFold(n_splits=3, shuffle=True, random_state=1 )\n",
        "\n",
        "for i, (train, test) in enumerate(kf.split(df)):\n",
        "\n",
        "  train_d = in_file.iloc[train]\n",
        "  test_d =  in_file.iloc[test]\n",
        "  train_d.to_csv('/content/drive/MyDrive/BreastCancer_Dataset1202/K-fold/train'+str(i)+'.csv', header=None, index=False)\n",
        "  test_d.to_csv('/content/drive/MyDrive/BreastCancer_Dataset1202/K-fold/test'+str(i)+'.csv', header=None, index=False)\"\"\"\n",
        "  "
      ],
      "execution_count": 5,
      "outputs": [
        {
          "output_type": "execute_result",
          "data": {
            "application/vnd.google.colaboratory.intrinsic+json": {
              "type": "string"
            },
            "text/plain": [
              "\"#getting 3 folds since data set is small\\n\\nfrom sklearn.model_selection import KFold\\n\\n#df = in_file.values\\nkf = KFold(n_splits=3, shuffle=True, random_state=1 )\\n\\nfor i, (train, test) in enumerate(kf.split(df)):\\n\\n  train_d = in_file.iloc[train]\\n  test_d =  in_file.iloc[test]\\n  train_d.to_csv('/content/drive/MyDrive/BreastCancer_Dataset1202/K-fold/train'+str(i)+'.csv', header=None, index=False)\\n  test_d.to_csv('/content/drive/MyDrive/BreastCancer_Dataset1202/K-fold/test'+str(i)+'.csv', header=None, index=False)\""
            ]
          },
          "metadata": {
            "tags": []
          },
          "execution_count": 5
        }
      ]
    },
    {
      "cell_type": "code",
      "metadata": {
        "id": "ZxQgBmzf5ywt"
      },
      "source": [
        "Filepath = \"/content/drive/MyDrive/BreastCancer_Dataset1202/K-fold/fold3\"\n",
        "inputfilepath = \"/content/drive/MyDrive/BreastCancer_Dataset1202/K-fold/train2.csv\"\n",
        "inputTestfilepath = \"/content/drive/MyDrive/BreastCancer_Dataset1202/K-fold/test2.csv\""
      ],
      "execution_count": 6,
      "outputs": []
    },
    {
      "cell_type": "markdown",
      "metadata": {
        "id": "V_n8tlTY5pp7"
      },
      "source": [
        "Generating Rules"
      ]
    },
    {
      "cell_type": "code",
      "metadata": {
        "id": "f72B5oEdPUMH"
      },
      "source": [
        "class RuleMiner(object):    \n",
        "    '''\n",
        "    This class is used to generate_itemsets_and_rules and store a Naive Belief System \n",
        "    by using the most confident association rules\n",
        "    '''\n",
        "\n",
        "    def __init__(self, filter_name, train_data_set):\n",
        "        \n",
        "        self.nthreads = 4\n",
        "        self.files_info = ARMFiles(Filepath)\n",
        "        \n",
        "        self.filter_name = filter_name\n",
        "        self.data_set = train_data_set #taking input the dataset\n",
        "\n",
        "\n",
        "    '''\n",
        "    Generate association rules and select K patterns with highest confidence.\n",
        "    '''    \n",
        "    def generate_itemsets_and_rules(self, arm_params):\n",
        "        self.generate_frequent_itemsets(arm_params)\n",
        "        self.generate_association_rules(arm_params)\n",
        "        #self.extract_features_4_all_rules()\n",
        "\n",
        "    '''\n",
        "    Generate frequent itemsets from data-set\n",
        "    '''\n",
        "    def generate_frequent_itemsets(self, arm_params):\n",
        "        \n",
        "        print ('generating frequent item-sets...')\n",
        "        apriori = Apriori(self.data_set)\n",
        "        apriori.generate_frequent_itemsets_vw(arm_params.min_sup * self.data_set.size(), \n",
        "                                              self.nthreads, \n",
        "                                              arm_params.itemset_max_size, \n",
        "                                              self.files_info.itemset_tmp_file)\n",
        "        \n",
        "    '''\n",
        "    Generate association rules from data-set. \n",
        "    This method must be called after generate_frequent_itemsets(...) is called\n",
        "    '''\n",
        "    def generate_association_rules(self, arm_params):\n",
        "        freq_itemsets_dict = self.load_frequent_itemsets_as_dict()\n",
        "        \n",
        "        print ('generating rules ....')\n",
        "        itemset_formatter = getattr(ItemsetFormatter, self.filter_name)\n",
        "        rule_formatter = getattr(RuleFormatter, self.filter_name)\n",
        "        rule_generator = Generator(freq_itemsets_dict, \n",
        "                                   arm_params.min_conf, \n",
        "                                   itemset_formatter, \n",
        "                                   rule_formatter, \n",
        "                                   self.nthreads)\n",
        "        rule_generator.execute(self.files_info.rules_tmp_file)\n",
        "\n",
        "\n",
        "    '''\n",
        "    Load generated frequent itemsets from file. \n",
        "    This method must be called after generate_frequent_itemsets is called\n",
        "    '''\n",
        "    def load_frequent_itemsets_as_dict(self):\n",
        "        freq_itemset_dict = ItemsetDictionary(0)\n",
        "        freq_itemset_dict.load_from_file(self.files_info.itemset_tmp_file)\n",
        "        return freq_itemset_dict"
      ],
      "execution_count": 7,
      "outputs": []
    },
    {
      "cell_type": "code",
      "metadata": {
        "id": "j_--UJBq6Q8t"
      },
      "source": [
        "class RuleMiner(object):    \n",
        "    '''\n",
        "    This class is used to generate_itemsets_and_rules and store a Naive Belief System \n",
        "    by using the most confident association rules\n",
        "    '''\n",
        "\n",
        "    def __init__(self, filter_name, train_data_set):\n",
        "        \n",
        "        self.nthreads = 4\n",
        "        self.files_info = ARMFiles(Filepath)\n",
        "        \n",
        "        self.filter_name = filter_name\n",
        "        self.data_set = train_data_set #taking input the dataset\n",
        "\n",
        "\n",
        "    '''\n",
        "    Generate association rules and select K patterns with highest confidence.\n",
        "    '''    \n",
        "    def generate_itemsets_and_rules(self, arm_params):\n",
        "        self.generate_frequent_itemsets(arm_params)\n",
        "        self.generate_association_rules(arm_params)\n",
        "        #self.extract_features_4_all_rules()\n",
        "\n",
        "    '''\n",
        "    Generate frequent itemsets from data-set\n",
        "    '''\n",
        "    def generate_frequent_itemsets(self, arm_params):\n",
        "        \n",
        "        print ('generating frequent item-sets...')\n",
        "        apriori = Apriori(self.data_set)\n",
        "        apriori.generate_frequent_itemsets_vw(arm_params.min_sup * self.data_set.size(), \n",
        "                                              self.nthreads, \n",
        "                                              arm_params.itemset_max_size, \n",
        "                                              self.files_info.itemset_tmp_file)\n",
        "        \n",
        "    '''\n",
        "    Generate association rules from data-set. \n",
        "    This method must be called after generate_frequent_itemsets(...) is called\n",
        "    '''\n",
        "    def generate_association_rules(self, arm_params):\n",
        "        freq_itemsets_dict = self.load_frequent_itemsets_as_dict()\n",
        "        \n",
        "        print ('generating rules ....')\n",
        "        itemset_formatter = getattr(ItemsetFormatter, self.filter_name)\n",
        "        rule_formatter = getattr(RuleFormatter, self.filter_name)\n",
        "        rule_generator = Generator(freq_itemsets_dict, \n",
        "                                   arm_params.min_conf, \n",
        "                                   itemset_formatter, \n",
        "                                   rule_formatter, \n",
        "                                   self.nthreads)\n",
        "        rule_generator.execute(self.files_info.rules_tmp_file)\n",
        "\n",
        "\n",
        "    '''\n",
        "    Load generated frequent itemsets from file. \n",
        "    This method must be called after generate_frequent_itemsets is called\n",
        "    '''\n",
        "    def load_frequent_itemsets_as_dict(self):\n",
        "        freq_itemset_dict = ItemsetDictionary(0)\n",
        "        freq_itemset_dict.load_from_file(self.files_info.itemset_tmp_file)\n",
        "        return freq_itemset_dict"
      ],
      "execution_count": 8,
      "outputs": []
    },
    {
      "cell_type": "markdown",
      "metadata": {
        "id": "X9nUg9WlQ_zE"
      },
      "source": [
        "Helper classes"
      ]
    },
    {
      "cell_type": "code",
      "metadata": {
        "id": "cUdyZosYZ5Jx"
      },
      "source": [
        "\n",
        "def string_2_itemset(key):\n",
        "    if key == '':\n",
        "        return []\n",
        "    else: \n",
        "        return key.split(',')\n",
        "\n",
        "def itemset_2_string(itemset):\n",
        "    return \",\".join(itemset)\n",
        "\n",
        "def merge_itemsets(itemset_1, itemset_2):\n",
        "    merged_items = []\n",
        "    merged_items.extend(itemset_1)\n",
        "    merged_items.extend(itemset_2)\n",
        "    merged_items = list(set(merged_items))\n",
        "    merged_items = sorted(merged_items)\n",
        "    \n",
        "    return merged_items\n",
        "\n",
        "def get_full_path(prefix, file_name):\n",
        "    if prefix == '': return file_name\n",
        "    return prefix + '//' + file_name\n"
      ],
      "execution_count": 9,
      "outputs": []
    },
    {
      "cell_type": "code",
      "metadata": {
        "id": "5Rb1z5_8RBak"
      },
      "source": [
        "import json\n",
        "\n",
        "class HashItem:\n",
        "    \n",
        "    def __init__(self, item):\n",
        "        self.last_item = item \n",
        "        self.tids = []\n",
        "    \n",
        "    def add_tid(self, tid):\n",
        "        self.tids.append(tid)\n",
        "        \n",
        "    def add_tids(self, tids):\n",
        "        self.tids.extend(tids)\n",
        "    \n",
        "    def size(self):\n",
        "        return len(self.tids)\n",
        "    \n",
        "    def serialize(self):\n",
        "        return json.dumps((self.last_item, self.tids))\n",
        "    \n",
        "    def deserialize(self, json_string):\n",
        "        result = json.loads(json_string)\n",
        "        self.last_item = result[0]\n",
        "        self.tids = result[1]\n",
        "        "
      ],
      "execution_count": 10,
      "outputs": []
    },
    {
      "cell_type": "code",
      "metadata": {
        "id": "6iT9tO_VRDNj"
      },
      "source": [
        "class HashItemCollection:\n",
        "    def __init__(self):\n",
        "        self.train_data = []\n",
        "    \n",
        "    def __iter__(self):\n",
        "        return iter(self.train_data)\n",
        "    \n",
        "    def get_item(self, index):\n",
        "        return self.train_data[index]\n",
        "    \n",
        "    def get_items_from(self, index):\n",
        "        return self.train_data[index : ]\n",
        "    \n",
        "    def size(self):\n",
        "        return len(self.train_data)\n",
        "    \n",
        "    def is_contain(self, item):\n",
        "        for current_item in self.train_data:\n",
        "            if current_item.last_item == item : \n",
        "                return True\n",
        "        return False\n",
        "        \n",
        "    def sort(self):\n",
        "        self.train_data.sort(key=lambda x: x.last_item, reverse=False)\n",
        "    \n",
        "    def add_item(self, hash_item):\n",
        "        self.train_data.append(hash_item)\n",
        "        \n",
        "    def find_item(self, item):\n",
        "        left = 0\n",
        "        right = len(self.train_data) - 1\n",
        "        while (left <= right):\n",
        "            pivot = int((left + right)/2)\n",
        "            if self.train_data[pivot].last_item == item: \n",
        "                return pivot\n",
        "            if self.train_data[pivot].last_item < item:\n",
        "                left = pivot + 1\n",
        "            else:\n",
        "                right = pivot - 1 \n",
        "        return -1\n",
        "        \n",
        "    def add_tid(self, item, tid):\n",
        "        index = self.find_item(item)\n",
        "        if index == -1:\n",
        "            hash_item = HashItem(item)\n",
        "            hash_item.add_tid(tid)\n",
        "            \n",
        "            index = len(self.train_data) - 1\n",
        "            self.train_data.append(hash_item)\n",
        "            \n",
        "            while index >= 0:\n",
        "                if self.train_data[index].last_item > item:\n",
        "                    self.train_data[index + 1] = self.train_data[index]\n",
        "                    index -= 1\n",
        "                else:\n",
        "                    break\n",
        "            self.train_data[index + 1] = hash_item        \n",
        "        else:\n",
        "            self.train_data[index].add_tid(tid)\n",
        "    \n",
        "    def serialize(self):\n",
        "        temp = []\n",
        "        for item in self.train_data:\n",
        "            temp.append(item.serialize())\n",
        "        return json.dumps(temp)\n",
        "\n",
        "    def deserialize(self, json_string):\n",
        "        self.train_data = []\n",
        "        \n",
        "        temp = json.loads(json_string)\n",
        "        for item_string in temp:\n",
        "            item = HashItem(None)\n",
        "            item.deserialize(item_string)\n",
        "            self.train_data.append(item)\n",
        "        "
      ],
      "execution_count": 11,
      "outputs": []
    },
    {
      "cell_type": "code",
      "metadata": {
        "id": "w5pLFTN5Rfcs"
      },
      "source": [
        "from sklearn.metrics.pairwise import cosine_similarity\n",
        "import numpy as np\n",
        "\n",
        "class ItemsetDictionary(object):\n",
        "    \n",
        "\n",
        "    def __init__(self, ntransactions = 0):\n",
        "        self.itemsets = {}\n",
        "        self.ntransactions = ntransactions\n",
        "            \n",
        "    def size(self):\n",
        "        return len(self.itemsets)\n",
        "    \n",
        "    def exists(self, itemset_key):\n",
        "        return itemset_key in self.itemsets\n",
        "    \n",
        "    def add_itemset(self, itemset_key, amount):\n",
        "        self.itemsets[itemset_key] = amount\n",
        "        \n",
        "    def clear(self):\n",
        "        self.itemsets.clear()\n",
        "    \n",
        "    def convert_2_indexes(self):\n",
        "        k = 0\n",
        "        dict_items_indexes = {}\n",
        "        for item_name, _ in self.itemsets.items():\n",
        "            dict_items_indexes[item_name] = k\n",
        "            k += 1\n",
        "        return dict_items_indexes\n",
        "            \n",
        "    def get_names(self):\n",
        "        return self.itemsets.keys()\n",
        "        \n",
        "    def get_frequency(self, itemset_key):\n",
        "        if self.exists(itemset_key):\n",
        "            return self.itemsets[itemset_key]\n",
        "        return 0\n",
        "        \n",
        "    def getConfidence(self, rule):\n",
        "        left = self.get_frequency(rule.lhs_string())\n",
        "        both = self.get_frequency(rule.rule_itemset_2_string())\n",
        "        if left == 0: return 0\n",
        "        return both/left\n",
        "    \n",
        "    def get_frequency_combo(self, rule):\n",
        "        left = self.get_frequency(rule.lhs_string())\n",
        "        right =self.get_frequency(rule.rhs_string())\n",
        "        both = self.get_frequency(rule.rule_itemset_2_string())\n",
        "        \n",
        "        return left, right, both\n",
        "    \n",
        "    def get_support(self, itemset_key):     \n",
        "        return self.get_frequency(itemset_key)/self.ntransactions\n",
        "       \n",
        "    def split(self, nchunks):\n",
        "        itemsets_names = self.itemsets.keys()\n",
        "        nitemsets = len(itemsets_names)\n",
        "        \n",
        "        print ('Number of frequent item-sets: ' + str(nitemsets))\n",
        "        itemset_chunks = [[] for _ in range(nchunks)]\n",
        "        size_of_chunk = (int)(nitemsets/nchunks) + 1\n",
        "                    \n",
        "        index = 0\n",
        "        counter = 0\n",
        "        \n",
        "        for itemset_key in itemsets_names:\n",
        "            if counter < size_of_chunk:\n",
        "                itemset_chunks[index].append(string_2_itemset(itemset_key))\n",
        "                counter += 1\n",
        "            elif counter == size_of_chunk:\n",
        "                index += 1\n",
        "                itemset_chunks[index].append(string_2_itemset(itemset_key))\n",
        "                counter = 1  \n",
        "                  \n",
        "        return itemset_chunks\n",
        "    \n",
        "    def save_2_file(self, file_name, write_mode = 'a', write_support = False):\n",
        "        with open(file_name, write_mode) as text_file:\n",
        "            for key, value in self.itemsets.items():\n",
        "                t = value\n",
        "                if write_support == True:\n",
        "                    t = value/self.ntransactions\n",
        "                text_file.write(key + ':' + str(t))\n",
        "                text_file.write('\\n')\n",
        "            \n",
        "    def load_from_file(self,file_name):\n",
        "        self.itemsets.clear()\n",
        "        \n",
        "        with open(file_name, \"r\") as text_file:\n",
        "            self.ntransactions = int(text_file.readline())\n",
        "            for line in text_file:\n",
        "                #print (line)\n",
        "                subStrings = line.split(':')\n",
        "                itemset_key = subStrings[0].strip()\n",
        "                frequency = int(subStrings[1].strip())\n",
        "                \n",
        "                self.itemsets[itemset_key] = frequency\n",
        "                \n",
        "    def _complement_condition(self, r1, r2):\n",
        "        merged_itemset = merge_itemsets(r1.left_items, \n",
        "                                        r2.left_items)\n",
        "        \n",
        "        s = self.get_frequency(itemset_2_string(merged_itemset))\n",
        "        sl = self.get_frequency(r1.lhs_string())\n",
        "        sr = self.get_frequency(r2.lhs_string())\n",
        "    \n",
        "        #if s > 0: return True\n",
        "        return max(s/sl, s/sr)\n",
        "     \n",
        "        \n",
        "    '''\n",
        "    Check if two rules are contrary each other based on the matching function\n",
        "    r1, r2: dictionaries includes {'r': rule, 'f': feature vector}\n",
        "    contrast_params: contains thresholds, and size of LHS, RHS features \n",
        "    '''\n",
        "    def is_contrast(self, r1, r2, contrast_params):\n",
        "        \n",
        "        n = contrast_params.n_lhs_features\n",
        "        a = cosine_similarity(np.reshape(r1['f'][n:], (1, -1)),\n",
        "                              np.reshape(r2['f'][n:], (1, -1)))[0,0]\n",
        "        if a > contrast_params.delta2: return (False, 0, 0)\n",
        "        \n",
        "        b = cosine_similarity(np.reshape(r1['f'][:n], (1, -1)), \n",
        "                              np.reshape(r2['f'][:n], (1, -1)))[0,0]\n",
        "        if b <= contrast_params.delta1: return (False, 0, 0)\n",
        "        \n",
        "        t = self._complement_condition(r1['r'], r2['r'])\n",
        "        if t > contrast_params.share_threshold:\n",
        "            return (True, b, t)\n",
        "        return (False, 0, 0)\n",
        "    \n",
        "    \n",
        "    def is_inner_contrast(self, group, contrast_params):\n",
        "        #print('check inner')\n",
        "        both_condition = self.find_pottential_contrast_locs(group, group, contrast_params)\n",
        "        if both_condition is None: return False \n",
        "        \n",
        "        for i in range(len(both_condition[0])):\n",
        "            x = both_condition[0][i]\n",
        "            y = both_condition[1][i]\n",
        "            if x >= y: continue\n",
        "            t = self._complement_condition(group['r'][x], group['r'][y])\n",
        "            if t > contrast_params.share_threshold: return True \n",
        "            \n",
        "        return False\n",
        "\n",
        "        \n",
        "        \n",
        "    def find_pottential_contrast_locs(self, group1, group2, contrast_params):\n",
        "        rhs_sim = cosine_similarity(group1['rhs'], group2['rhs']) \n",
        "        rhs_condition = (rhs_sim > contrast_params.delta2).astype(int) \n",
        "        if np.all(rhs_condition > 0) == True: return None \n",
        "    \n",
        "        \n",
        "        lhs_sim = cosine_similarity(group1['lhs'], group2['lhs'])\n",
        "        lhs_condition = (lhs_sim <= contrast_params.delta1).astype(int)\n",
        "        if np.all(lhs_condition > 0) == True: return None \n",
        "        \n",
        "        locs = np.where(lhs_condition + rhs_condition <= 0)\n",
        "        return locs \n",
        "        \n",
        "    def is_outer_contrast(self, group1, group2, contrast_params):\n",
        "        #print('check outer')\n",
        "        both_condition = self.find_pottential_contrast_locs(group1, group2, contrast_params)\n",
        "        if both_condition is None: return False \n",
        "        \n",
        "        for i in range(len(both_condition[0])):\n",
        "            x = both_condition[0][i]\n",
        "            y = both_condition[1][i]\n",
        "            t = self._complement_condition(group1['r'][x], group2['r'][y])\n",
        "            if t > contrast_params.share_threshold: return True \n",
        "            \n",
        "        return False\n",
        "    "
      ],
      "execution_count": 12,
      "outputs": []
    },
    {
      "cell_type": "code",
      "metadata": {
        "id": "FwXgNJ16RMPL"
      },
      "source": [
        "class HashTable:\n",
        "    def __init__(self):\n",
        "        self.table = {}\n",
        "        \n",
        "    def size(self):\n",
        "        return len(self.table)\n",
        "    \n",
        "    def is_empty(self):\n",
        "        return len(self.table) == 0;\n",
        "    \n",
        "    def is_contain(self, key, last_item):\n",
        "        return (key in self.table) and (self.table[key].is_contain(last_item))\n",
        "    \n",
        "    def get_items(self):\n",
        "        return self.table.items()\n",
        "    \n",
        "    # insert a new key into the table\n",
        "    def insert_key(self, key):\n",
        "        self.table[key] = HashItemCollection()\n",
        "    \n",
        "    def insert(self, key, value):\n",
        "        self.table[key] = value\n",
        "            \n",
        "    # remove a key from the table\n",
        "    def remove_item(self, key):\n",
        "        self.table.pop(key, None)\n",
        "        \n",
        "    # insert a new transaction id into a specific item-set\n",
        "    def add_tid(self, key, item, tid):\n",
        "        self.table[key].add_tid(item, tid)\n",
        "        \n",
        "    # insert a item set and its transaction \n",
        "    def add_item(self, key, hash_item):\n",
        "        self.table[key].add_item(hash_item)\n",
        "    \n",
        "    # get all item-set in the hash table\n",
        "    def generate_itemset_dictionary(self):\n",
        "        collection = ItemsetDictionary()\n",
        "        for key, hash_item_collection in self.table.items():\n",
        "            for hash_item in hash_item_collection:\n",
        "                new_key = ''\n",
        "                if key == '': \n",
        "                    new_key = hash_item.last_item\n",
        "                else:\n",
        "                    new_key = key + ',' + hash_item.last_item\n",
        "                collection.add_itemset(new_key, hash_item.size())\n",
        "        return collection\n",
        "    \n",
        "    def generate_itemset_dictionary_vw(self, output_file, write_mode):\n",
        "        count = 0\n",
        "        file_writer = open(output_file, write_mode)\n",
        "        for key, hash_item_collection in self.table.items():\n",
        "            for hash_item in hash_item_collection:\n",
        "                new_key = ''\n",
        "                if key == '': \n",
        "                    new_key = hash_item.last_item\n",
        "                else:\n",
        "                    new_key = key + ',' + hash_item.last_item\n",
        "                file_writer.write(new_key + ':' + str(hash_item.size()))\n",
        "                file_writer.write('\\n')\n",
        "                count += 1\n",
        "                    \n",
        "        file_writer.close()\n",
        "        return count\n",
        "    \n",
        "    # get number of item-set have same K - 1 first items.\n",
        "    def count_itemsets(self, key):\n",
        "        return self.table[key].size()\n",
        "    \n",
        "    # get frequent item-set\n",
        "    def generate_frequent_itemsets(self, minsup):\n",
        "        L = HashTable()\n",
        "        for key, hash_item_collection in self.table.items():\n",
        "            L.insert_key(key)\n",
        "            for hash_item in hash_item_collection:\n",
        "                if hash_item.size() >= minsup:\n",
        "                    L.add_item(key, hash_item)\n",
        "            if L.count_itemsets(key) == 0:\n",
        "                L.remove_item(key)\n",
        "        return L\n",
        "                 \n",
        "    def sort(self):\n",
        "        for hash_item_collection in self.table.values():\n",
        "            hash_item_collection.sort()\n",
        "\n",
        "    # this function is used for multi-thread\n",
        "    def append(self, other_hash_table):\n",
        "   \n",
        "        for key, hash_item_collection in other_hash_table.get_items():\n",
        "            self.table[key] = hash_item_collection\n",
        "\n",
        "    def clear(self):\n",
        "        self.table.clear()\n",
        "        \n",
        "    def split(self, n):\n",
        "        number_of_keys = self.size()\n",
        "        if number_of_keys < n:\n",
        "            return [self]\n",
        "        \n",
        "        number_for_each_part = (int)(number_of_keys/n) + 1\n",
        "        counter = 0\n",
        "        sub_hash_tables = []\n",
        "        sub_hash_table = HashTable()\n",
        "        \n",
        "        for key, hash_item_collection in self.get_items():\n",
        "            if counter < number_for_each_part:\n",
        "                sub_hash_table.insert(key, hash_item_collection)\n",
        "            elif counter == number_for_each_part:\n",
        "                sub_hash_tables.append(sub_hash_table)\n",
        "                sub_hash_table = HashTable()\n",
        "                sub_hash_table.insert(key, hash_item_collection)\n",
        "                counter = 0\n",
        "            counter += 1\n",
        "        sub_hash_tables.append(sub_hash_table)\n",
        "        return sub_hash_tables     \n",
        "    \n",
        "    def serialize(self, file_name):\n",
        "        with open(file_name, \"w\") as text_file:\n",
        "            #json.dump(self.table, text_file)\n",
        "            k = 0\n",
        "            for key, value in self.table.items():\n",
        "                if k > 0:\n",
        "                    text_file.write('\\n')\n",
        "                text_file.write(key)\n",
        "                text_file.write('\\n')\n",
        "                text_file.write(value.serialize())\n",
        "                k += 1\n",
        "            \n",
        "    def deserialize(self, file_name, reset_table = True):\n",
        "        if reset_table == True:\n",
        "            self.table = {}\n",
        "        with open(file_name, \"r\") as text_file:\n",
        "            k = 0\n",
        "            collection_key = None\n",
        "            for line in text_file:\n",
        "                if k % 2 == 0:\n",
        "                    collection_key = line.strip()\n",
        "                else:\n",
        "                    collection = HashItemCollection()\n",
        "                    collection.deserialize(line.strip())\n",
        "                    self.table[collection_key] = collection\n",
        "                k = k + 1"
      ],
      "execution_count": 13,
      "outputs": []
    },
    {
      "cell_type": "code",
      "metadata": {
        "id": "BRLflKC3QUBU"
      },
      "source": [
        "from multiprocessing import Process\n",
        "from multiprocessing.managers import BaseManager\n",
        "\n",
        "class Apriori:\n",
        "    def __init__(self, train_data_set):\n",
        "        self.tmp_folder = Filepath\n",
        "        self.freq_itemsets_tmp_file = self.tmp_folder + 'freqitemsets.tmp'\n",
        "        self.itemsets_tmp_file = self.tmp_folder + 'itemsetscandidates.tmp'\n",
        "        self.freq_k_item_sets_tmp_file = self.tmp_folder + 'freq_k_itemsets.tmp'\n",
        "        self.data_set = train_data_set\n",
        "        self.L1 = None\n",
        "        \n",
        "       \n",
        "        \n",
        "    \n",
        "    def generate_L1(self, min_sup):\n",
        "        C_1 = HashTable()\n",
        "        itemset_key = ''\n",
        "        C_1.insert_key(itemset_key)\n",
        "    \n",
        "        n = self.data_set.size()\n",
        "        print ('size of data-set: ' + str(n))\n",
        "        \n",
        "        for tid in range(n):\n",
        "            transaction = self.data_set.get_transaction(tid)\n",
        "            for item in transaction:\n",
        "                C_1.add_tid(itemset_key, item, tid)\n",
        "            \n",
        "        print ('get frequent item sets with 1 item')\n",
        "        self.L1 = C_1.generate_frequent_itemsets(min_sup)\n",
        "      \n",
        "    @staticmethod\n",
        "    def generate_Lk(min_sup, L_k1, C_k, k):\n",
        "        print('generate candidates with ' + str(k) + ' items')\n",
        "        for key, hash_item_collection in L_k1.get_items():\n",
        "            for index in range(hash_item_collection.size() - 1):\n",
        "                \n",
        "                index_th_item = hash_item_collection.get_item(index)\n",
        "                new_key = ''\n",
        "                if key == '':\n",
        "                    new_key = index_th_item.last_item\n",
        "                else:\n",
        "                    new_key = key +',' + index_th_item.last_item\n",
        "                new_hash_collection = HashItemCollection()\n",
        "                \n",
        "                #check if it is infrequent item-set\n",
        "                for item in hash_item_collection.get_items_from(index + 1):\n",
        "                    new_item = HashItem(item.last_item)\n",
        "                    inter_items = set(index_th_item.tids).intersection(item.tids)      \n",
        "                    if len(inter_items) >= min_sup:  \n",
        "                        new_item.add_tids(list(inter_items))\n",
        "                        new_hash_collection.add_item(new_item)\n",
        "                        \n",
        "                if new_hash_collection.size() > 0:        \n",
        "                    C_k.insert(new_key,  new_hash_collection) \n",
        "\n",
        "    def generate_frequent_itemsets(self, min_sup, nthreads, end, output_file, write_support = False):\n",
        "        \n",
        "        '''\n",
        "        Step 1: Generate frequent item-sets with 1 item and write to file\n",
        "        '''\n",
        "        nTransactions = self.data_set.size()\n",
        "        with open(output_file, 'w') as text_file:\n",
        "            text_file.write(str(nTransactions))\n",
        "            text_file.write('\\n')\n",
        "        \n",
        "        \n",
        "        self.generate_L1(min_sup)\n",
        "        freq_itemsets_dict = self.L1.generate_itemset_dictionary()\n",
        "        freq_itemsets_dict.ntransactions = nTransactions\n",
        "        freq_itemsets_dict.save_2_file(output_file, 'a', write_support)\n",
        "        freq_itemsets_dict.clear()\n",
        "        \n",
        "        '''\n",
        "        Step 2: Generate frequent item-sets with more than 1 item and append to the file\n",
        "        '''\n",
        "        k = 2    \n",
        "        L_k1 = self.L1\n",
        "        \n",
        "        while not L_k1.is_empty() and (end == -1 or k <= end):\n",
        "            \n",
        "            print('extracting item-sets with ' + str(k) + ' items ....')\n",
        "            \n",
        "            '''\n",
        "            Divide data into many parts and create processes to generate frequent item-sets\n",
        "            '''\n",
        "            L_k = HashTable()\n",
        "            chunks = L_k1.split(nthreads)\n",
        "            processes = []\n",
        "            \n",
        "            C_ks = []\n",
        "            BaseManager.register(\"AprioriHash\", HashTable)\n",
        "            manager = BaseManager()\n",
        "            manager.start()\n",
        "            C_ks.append(manager.AprioriHash())\n",
        "            \n",
        "            index = 0\n",
        "            for L_k_1_chunk in chunks:\n",
        "                process_i = Process(target = Apriori.generate_Lk, \n",
        "                                    args=(min_sup, L_k_1_chunk,C_ks[index], k))\n",
        "                processes.append(process_i)\n",
        "                index += 1\n",
        "            \n",
        "            # wait for all thread completes\n",
        "            for process_i in processes:\n",
        "                process_i.start()\n",
        "                process_i.join()\n",
        "             \n",
        "            '''\n",
        "            Merge results which returns from processes\n",
        "            '''\n",
        "            for new_C_k in C_ks:\n",
        "                L_k.append(new_C_k)\n",
        "            L_k1.clear()\n",
        "            L_k1 = L_k\n",
        "    \n",
        "            '''\n",
        "            Append frequent item-sets with k items to file\n",
        "            '''\n",
        "            freq_itemsets_dict = L_k1.generate_itemset_dictionary()\n",
        "            \n",
        "            print ('Writing frequent itemset to file ' + str(freq_itemsets_dict.size()))\n",
        "            freq_itemsets_dict.ntransactions = nTransactions\n",
        "            freq_itemsets_dict.save_2_file(output_file, 'a', write_support)\n",
        "            freq_itemsets_dict.clear()\n",
        "            \n",
        "            k += 1\n",
        "            \n",
        "        print ('stop at k = ' + str(k))\n",
        "     \n",
        "    @staticmethod\n",
        "    def generate_Lk_vw(min_sup, L_k1, C_k_file, k):\n",
        "        print('generate candidates with ' + str(k) + ' items')\n",
        "        file_writer = open(C_k_file, 'w') \n",
        "        for key, hash_item_collection in L_k1.get_items():\n",
        "            for index in range(hash_item_collection.size() - 1):\n",
        "                \n",
        "                index_th_item = hash_item_collection.get_item(index)\n",
        "                new_key = ''\n",
        "                if key == '':\n",
        "                    new_key = index_th_item.last_item\n",
        "                else:\n",
        "                    new_key = key +',' + index_th_item.last_item\n",
        "                new_hash_collection = HashItemCollection()\n",
        "                \n",
        "                #check if it is infrequent item-set\n",
        "                for item in hash_item_collection.get_items_from(index + 1):\n",
        "                    new_item = HashItem(item.last_item)\n",
        "                    inter_items = set(index_th_item.tids).intersection(item.tids)      \n",
        "                    if len(inter_items) >= min_sup:  \n",
        "                        new_item.add_tids(list(inter_items))\n",
        "                        new_hash_collection.add_item(new_item)\n",
        "                        \n",
        "                if new_hash_collection.size() > 0:  \n",
        "                    file_writer.write(new_key)\n",
        "                    file_writer.write('\\n')\n",
        "                    file_writer.write(new_hash_collection.serialize())      \n",
        "                    file_writer.write('\\n')\n",
        "        file_writer.close()\n",
        "\n",
        "    def generate_frequent_itemsets_vw(self, min_sup, nThreads, end, output_file):\n",
        "        \n",
        "        '''\n",
        "        Step 1: Generate frequent item-sets with 1 item and write to file\n",
        "        '''\n",
        "        ntransactions = self.data_set.size()\n",
        "        with open(output_file, 'w') as text_file:\n",
        "            text_file.write(str(ntransactions))\n",
        "            text_file.write('\\n')\n",
        "        \n",
        "        \n",
        "        self.generate_L1(min_sup)\n",
        "        self.L1.generate_itemset_dictionary_vw(output_file, 'a')\n",
        "        \n",
        "        '''\n",
        "        Step 2: Generate frequent item-sets with more than 1 item and append to the file\n",
        "        '''\n",
        "        k = 2    \n",
        "        L_k1 = self.L1\n",
        "        \n",
        "        while not L_k1.is_empty() and (end == -1 or k <= end):\n",
        "            \n",
        "            print('extracting item-sets with ' + str(k) + ' items ....')\n",
        "            \n",
        "            '''\n",
        "            Divide data into many parts and create processes to generate frequent item-sets\n",
        "            '''\n",
        "            chunks = L_k1.split(nThreads)\n",
        "            L_k1 = None\n",
        "            processes = []\n",
        "            \n",
        "            index = 0\n",
        "            for L_k_1_chunk in chunks:\n",
        "                chunk_output_file = self.freq_itemsets_tmp_file +'.'+ str(index)\n",
        "                process_i = Process(target = Apriori.generate_Lk_vw, \n",
        "                                    args=(min_sup, L_k_1_chunk,chunk_output_file, k))\n",
        "                processes.append(process_i)\n",
        "                index += 1\n",
        "            \n",
        "            # wait for all thread completes\n",
        "            for process_i in processes:\n",
        "                process_i.start()\n",
        "                process_i.join()\n",
        "             \n",
        "            '''\n",
        "            Merge results which returns from processes\n",
        "            '''\n",
        "            L_k1 = HashTable()\n",
        "            for index in range(len(chunks)):\n",
        "                chunk_input_file = self.freq_itemsets_tmp_file +'.'+ str(index)\n",
        "                L_k1.deserialize(chunk_input_file, False)\n",
        "            \n",
        "            '''\n",
        "            Append frequent item-sets with k items to file\n",
        "            '''\n",
        "            print ('Writing frequent itemset to file....')\n",
        "            x = L_k1.generate_itemset_dictionary_vw(output_file, 'a')\n",
        "            print ('#item-sets: ' + str(x))\n",
        "            k += 1\n",
        "            \n",
        "        print ('stop at k = ' + str(k))\n",
        "\n",
        "    def get_item_interaction_matrix(self):\n",
        "        self.generate_L1(0)\n",
        "        items_dict = self.L1.generate_itemset_dictionary()\n",
        "        items_dict.nTransaction = self.data_set.size()\n",
        "        \n",
        "        nItems = items_dict.size()\n",
        "        dict_item_indexes = items_dict.convert_2_indexes()\n",
        "            \n",
        "        A = np.zeros((nItems, nItems))\n",
        "        for transaction in self.data_set:\n",
        "            indexes = []\n",
        "            for item_name in transaction:\n",
        "                indexes.append(dict_item_indexes[item_name])\n",
        "            for i in range(len(indexes)):\n",
        "                for j in range(i+1, len(indexes)):\n",
        "                    A[indexes[i], indexes[j]] += 1\n",
        "                    A[indexes[j], indexes[i]] += 1\n",
        "        return dict_item_indexes, A\n",
        "    \n",
        "        \n",
        "        "
      ],
      "execution_count": 14,
      "outputs": []
    },
    {
      "cell_type": "code",
      "metadata": {
        "id": "4Fl1AeTiYr85"
      },
      "source": [
        "class ItemsetFormatter(object):\n",
        "   \n",
        "    @staticmethod\n",
        "    def mydefault(itemset):\n",
        "        return True\n",
        "    \n",
        "    @staticmethod\n",
        "    def mass(itemset):\n",
        "        for item in itemset:\n",
        "            if item.isdigit() == False:\n",
        "                return True\n",
        "        return False\n",
        "    \n",
        "    @staticmethod\n",
        "    def tcr(itemset):\n",
        "        for item in itemset:\n",
        "            if item == 'CD4' or item == 'CD8':\n",
        "                return True\n",
        "        return False\n",
        "    \n",
        "    @staticmethod\n",
        "    def rna(itemset):\n",
        "        for item in itemset:\n",
        "            if 'rna_' in item:\n",
        "                return True\n",
        "        return False\n",
        "        \n",
        "    @staticmethod\n",
        "    def ank3(itemset):\n",
        "        for item in itemset:\n",
        "            if item == 'CASE' or item == 'HEALTHY':\n",
        "                return True\n",
        "        return False\n",
        "    \n",
        "    @staticmethod\n",
        "    def spect(itemset):\n",
        "        for item in itemset:\n",
        "            if 'class@' in item:\n",
        "                return True\n",
        "        return False\n",
        "    \n",
        "    @staticmethod\n",
        "    def kdd(itemset):\n",
        "        for item in itemset:\n",
        "            if 'c_' in item:\n",
        "                return True\n",
        "        return False\n",
        "    \n",
        "    @staticmethod\n",
        "    def tcrm(itemset):\n",
        "        a_count = 0\n",
        "        b_count = 0\n",
        "        for item in itemset:\n",
        "            if 'b_' in item:\n",
        "                b_count += 1\n",
        "            if 'a_' in item:\n",
        "                a_count += 1\n",
        "        return (a_count > 0 and b_count > 0)\n",
        "\n",
        "    @staticmethod\n",
        "    def ppi(itemset):\n",
        "        a_count = 0\n",
        "        b_count = 0\n",
        "        for item in itemset:\n",
        "            if 'h@' in item:\n",
        "                b_count += 1\n",
        "            if 'v@' in item:\n",
        "                a_count += 1\n",
        "        return (a_count > 0 and b_count > 0)\n",
        "\n",
        "    @staticmethod\n",
        "    def splice(itemset):\n",
        "        for item in itemset:\n",
        "            if item == 'EI' or item == 'IE' or item == 'N@':\n",
        "                return True\n",
        "        return False"
      ],
      "execution_count": 15,
      "outputs": []
    },
    {
      "cell_type": "code",
      "metadata": {
        "id": "fehf8m7bY5Zh"
      },
      "source": [
        "class RuleFormatter(object):\n",
        "    \n",
        "    @staticmethod\n",
        "    def mydefaultLeft(item):\n",
        "        return True\n",
        "    \n",
        "    @staticmethod\n",
        "    def mydefaultRight(item):\n",
        "        return True\n",
        "    \n",
        "    @staticmethod\n",
        "    def mydefault(rule):\n",
        "        #return True\n",
        "        return len(rule.right_items) == 1#<= 2\n",
        "    \n",
        "    \n",
        "    @staticmethod\n",
        "    def massLeft(item):\n",
        "        return item.isdigit()\n",
        "    \n",
        "    @staticmethod\n",
        "    def massRight(item):\n",
        "        return not item.isdigit()\n",
        "    \n",
        "    @staticmethod\n",
        "    def mass(rule):\n",
        "        return rule.lhs_string().isdigit() and (not rule.rhs_string().isdigit())\n",
        "    \n",
        "    @staticmethod\n",
        "    def rna(rule):\n",
        "        condition = (len(rule.right_items) == 1)\n",
        "        condition &= ('rna_' in rule.rhs_string())\n",
        "        condition &=  ('rna_' not in rule.lhs_string())\n",
        "        return condition\n",
        "    \n",
        "    @staticmethod\n",
        "    def tcrLeft(item):\n",
        "        return item != 'CD4' and item != 'CD8'\n",
        "    \n",
        "    @staticmethod\n",
        "    def tcrRight(item):\n",
        "        return item == 'CD4' or item == 'CD8'    \n",
        "    \n",
        "    @staticmethod\n",
        "    def tcr(rule):\n",
        "        left_key = rule.lhs_string()\n",
        "        right_key = rule.rhs_string()\n",
        "        return ('CD4' not in left_key) and ('CD8' not in left_key) and (right_key == 'CD4' or right_key == 'CD8')\n",
        "    \n",
        "    @staticmethod\n",
        "    def ank3Left(item):\n",
        "        return item != 'CASE' and item != 'HEALTHY'\n",
        "    \n",
        "    @staticmethod\n",
        "    def ank3Right(item):\n",
        "        return item == 'CASE' or item == 'HEALTHY'\n",
        "        \n",
        "    @staticmethod\n",
        "    def ank3(rule):\n",
        "        left_key = rule.lhs_string()\n",
        "        right_key = rule.rhs_string()\n",
        "        return ('CASE' not in left_key) and ('HEALTHY' not in left_key) and (right_key == 'CASE' or right_key == 'HEALTHY')\n",
        "    \n",
        "    @staticmethod\n",
        "    def spectLeft(item):\n",
        "        return 'class@' not in item\n",
        "    \n",
        "    @staticmethod\n",
        "    def spectRight(item):\n",
        "        return 'class@' in item\n",
        "        \n",
        "    @staticmethod\n",
        "    def spect(rule):\n",
        "        flag = True\n",
        "        for item in rule.right_items:\n",
        "            if 'class@' not in item:\n",
        "                flag = False\n",
        "                break\n",
        "        left_key = rule.lhs_string()\n",
        "        return ('class@' not in left_key) and flag == True\n",
        "    \n",
        "    @staticmethod\n",
        "    def kddLeft(item):\n",
        "        return ('c_' in item) == False\n",
        "    \n",
        "    @staticmethod\n",
        "    def kddRight(item):\n",
        "        return 'c_' in item\n",
        "        \n",
        "    @staticmethod\n",
        "    def kdd(rule):\n",
        "        left_key = rule.lhs_string()\n",
        "        right_key = rule.rhs_string()\n",
        "        return ('c_' not in left_key) and (len(rule.right_items) == 1 and 'c_' in right_key)\n",
        "    \n",
        "    @staticmethod\n",
        "    def tcrmLeft(item):\n",
        "        return True\n",
        "    \n",
        "    @staticmethod\n",
        "    def tcrmRight(item):\n",
        "        return True\n",
        "        \n",
        "    @staticmethod\n",
        "    def tcrm(rule):\n",
        "        a_count1 = 0\n",
        "        b_count1 = 0\n",
        "        for item in rule.left_items:\n",
        "            if 'b_' in item:\n",
        "                b_count1 += 1\n",
        "            if 'a_' in item:\n",
        "                a_count1 += 1\n",
        "        if a_count1 > 0 and b_count1 > 0: return False\n",
        "        \n",
        "        a_count2 = 0\n",
        "        b_count2 = 0\n",
        "        for item in rule.right_items:\n",
        "            if 'b_' in item:\n",
        "                b_count2 += 1\n",
        "            if 'a_' in item:\n",
        "                a_count2 += 1\n",
        "        if a_count2 > 0 and b_count2 > 0: return False\n",
        "        \n",
        "        return (a_count1 > 0 and b_count2 > 0) or (b_count1 > 0 and a_count2 > 0)\n",
        "    \n",
        "    @staticmethod\n",
        "    def ppiLeft(item):\n",
        "        return True\n",
        "    \n",
        "    @staticmethod\n",
        "    def ppiRight(item):\n",
        "        return True\n",
        "        \n",
        "    @staticmethod\n",
        "    def ppi(rule):\n",
        "        a_count1 = 0\n",
        "        b_count1 = 0\n",
        "        for item in rule.left_items:\n",
        "            if 'h@' in item:\n",
        "                b_count1 += 1\n",
        "            if 'v@' in item:\n",
        "                a_count1 += 1\n",
        "        if a_count1 > 0 and b_count1 > 0: return False\n",
        "        \n",
        "        a_count2 = 0\n",
        "        b_count2 = 0\n",
        "        for item in rule.right_items:\n",
        "            if 'h@' in item:\n",
        "                b_count2 += 1\n",
        "            if 'v@' in item:\n",
        "                a_count2 += 1\n",
        "        if a_count2 > 0 and b_count2 > 0: return False\n",
        "        \n",
        "        return (a_count1 > 0 and b_count2 > 0) or (b_count1 > 0 and a_count2 > 0)\n",
        "    \n",
        "    \n",
        "    @staticmethod\n",
        "    def spliceLeft(item):\n",
        "        return item != 'EI' and item != 'IE' and item != 'N@'\n",
        "    \n",
        "    @staticmethod\n",
        "    def spliceRight(item):\n",
        "        return item == 'D_0' or item == 'D_1' or item == 'N@'\n",
        "        \n",
        "    @staticmethod\n",
        "    def splice(rule):\n",
        "        left_key = rule.lhs_string()\n",
        "        right_key = rule.rhs_string()\n",
        "        return ('EI' not in left_key) and ('IE' not in left_key) and ('N@' not in left_key) and (right_key == 'EI' or right_key == 'IE' or right_key == 'N@')\n",
        "        "
      ],
      "execution_count": 16,
      "outputs": []
    },
    {
      "cell_type": "code",
      "metadata": {
        "id": "DfV8gDvib0Kw"
      },
      "source": [
        "class AssociationRule:\n",
        "    def __init__(self, left, right):\n",
        "        self.left_items = left\n",
        "        self.right_items = right\n",
        "        self.scores = []\n",
        "        \n",
        "    def length(self):\n",
        "        return len(self.left_items) + len(self.right_items)\n",
        "     \n",
        "    def score(self, index):\n",
        "        return self.scores[index]\n",
        "    \n",
        "    def lhs_string(self):\n",
        "        return itemset_2_string(self.left_items)\n",
        "        \n",
        "    def rhs_string(self):\n",
        "        return itemset_2_string(self.right_items)\n",
        "    \n",
        "    def serialize(self):\n",
        "        left_key = self.lhs_string()\n",
        "        right_key = self.rhs_string()\n",
        "        return left_key + \">\" + right_key\n",
        "    \n",
        "    @staticmethod        \n",
        "    def string_2_rule(s):\n",
        "        subStrings = s.split(\">\")\n",
        "        left = string_2_itemset(subStrings[0].strip())\n",
        "        right = string_2_itemset(subStrings[1].strip())\n",
        "        #print(\"AssociationRule(left, right\",AssociationRule(left, right))\n",
        "        return AssociationRule(left, right)\n",
        "\n",
        "    def append_score(self, score):\n",
        "        self.scores.append(score)\n",
        "        \n",
        "    def get_itemset(self):\n",
        "        itemset = []\n",
        "        itemset.extend(self.left_items)\n",
        "        itemset.extend(self.right_items)\n",
        "        itemset.sort()\n",
        "        return itemset\n",
        "        \n",
        "        \n",
        "    def rule_itemset_2_string(self):\n",
        "        itemset = self.get_itemset()\n",
        "        return itemset_2_string(itemset)\n",
        "    \n",
        "    def compute_basic_probs(self,frequent_itemsets, nTransactions):  \n",
        "        \n",
        "        left = frequent_itemsets[self.lhs_string()]\n",
        "        right = frequent_itemsets[self.rhs_string()]\n",
        "        \n",
        "        both = frequent_itemsets[self.rule_itemset_2_string()]\n",
        "        \n",
        "        vector = {}\n",
        "        \n",
        "        ''' 1. P(A)'''\n",
        "        p_A = left/nTransactions\n",
        "        vector['A'] = p_A\n",
        "        \n",
        "        ''' 2. P(B)'''\n",
        "        p_B = right/nTransactions\n",
        "        vector['B'] = p_B\n",
        "        \n",
        "        ''' 3. P(~A)'''\n",
        "        p_not_A = 1 - p_A\n",
        "        vector['~A'] = p_not_A\n",
        "        \n",
        "        ''' 4. P(~B)'''\n",
        "        p_not_B = 1 - p_B\n",
        "        vector['~B'] = p_not_B\n",
        "        \n",
        "        ''' 5. P(AB) '''\n",
        "        p_A_and_B = both/nTransactions\n",
        "        vector['AB'] = p_A_and_B\n",
        "        \n",
        "        ''' 6. P(~AB)'''\n",
        "        p_not_A_and_B = (right - both)/nTransactions\n",
        "        vector['~AB'] = p_not_A_and_B\n",
        "        \n",
        "        ''' 7. P(A~B)'''\n",
        "        p_A_and_not_B = (left - both)/nTransactions\n",
        "        vector['A~B'] = p_A_and_not_B\n",
        "        \n",
        "        ''' 8. P(~A~B)'''\n",
        "        p_not_A_and_not_B = 1 - (left + right - both)/nTransactions\n",
        "        vector['~A~B'] = p_not_A_and_not_B \n",
        "        \n",
        "        '''\n",
        "        9. P(A|B)\n",
        "        '''\n",
        "        p_A_if_B = p_A_and_B / p_B\n",
        "        vector['A|B'] = p_A_if_B\n",
        "        \n",
        "        '''\n",
        "        10. P(~A|~B)\n",
        "        '''\n",
        "        p_not_A_if_not_B = p_not_A_and_not_B / p_not_B\n",
        "        vector['~A|~B'] = p_not_A_if_not_B\n",
        "        \n",
        "        '''\n",
        "        11. P(A|~B)\n",
        "        '''\n",
        "        p_A_if_not_B = p_A_and_not_B/p_not_B\n",
        "        vector['A|~B'] = p_A_if_not_B\n",
        "        \n",
        "        '''\n",
        "        12. p(~A|B)\n",
        "        '''\n",
        "        p_not_A_if_B = p_not_A_and_B / p_B\n",
        "        vector['~A|B'] = p_not_A_if_B\n",
        "        \n",
        "        '''\n",
        "        13. P(B|A)\n",
        "        '''\n",
        "        p_B_if_A = p_A_and_B / p_A\n",
        "        vector['B|A'] = p_B_if_A\n",
        "        \n",
        "        '''\n",
        "        14. P(~B|~A)\n",
        "        '''\n",
        "        p_not_B_if_not_A = p_not_A_and_not_B / p_not_A\n",
        "        vector['~B|~A'] = p_not_B_if_not_A\n",
        "        \n",
        "        '''\n",
        "        15. P(B|~A)\n",
        "        '''\n",
        "        p_B_if_not_A = p_not_A_and_B/p_not_A\n",
        "        vector['B|~A'] = p_B_if_not_A\n",
        "        \n",
        "        '''\n",
        "        16. p(~B|A)\n",
        "        '''\n",
        "        p_not_B_if_A = p_A_and_not_B / p_A\n",
        "        vector['~B|A'] = p_not_B_if_A\n",
        "        \n",
        "        return vector\n",
        "    \n",
        "    def is_redundant_(self, bits, k, itemset, freq_itemset_dict): \n",
        "        '''\n",
        "        Run out of items --> create rule and check format criterion\n",
        "        '''\n",
        "        if k >= len(itemset):\n",
        "            items_1 = []\n",
        "            items_2 = []\n",
        "            for index in range(len(bits)):\n",
        "                if bits[index] == True:\n",
        "                    items_1.append(itemset[index])\n",
        "                else:\n",
        "                    items_2.append(itemset[index])\n",
        "            for item in items_2:\n",
        "                rule = AssociationRule(items_1, [item])\n",
        "                confidence = freq_itemset_dict.getConfidence(rule)\n",
        "                if confidence == 1: return True\n",
        "            return False \n",
        "      \n",
        "        value_domain = [True, False]\n",
        "        for value in value_domain:\n",
        "            bits[k] = value\n",
        "            checker = self.is_redundant_(bits, k+1, itemset, freq_itemset_dict)\n",
        "            if checker == True: return True\n",
        "            bits[k] = True    \n",
        "        return False\n",
        "    \n",
        "    '''\n",
        "    Expand an item-set with equivalent items.\n",
        "    '''\n",
        "    def is_redundant(self, freq_itemset_dict):\n",
        "        bits = [True for _ in self.left_items]\n",
        "        checker = self.is_redundant_(bits, 0, self.left_items, freq_itemset_dict)\n",
        "        if checker == True: return True\n",
        "        \n",
        "        bits =  [True for _ in self.right_items]\n",
        "        return self.is_redundant_(bits, 0, self.right_items, freq_itemset_dict)\n",
        "    \n",
        "    '''\n",
        "    Check if an item-set is satisfied condition of the rule. \n",
        "    '''\n",
        "    def satisfy_rule(self, itemset, is_lhs = True):\n",
        "        condition = self.left_items\n",
        "        if is_lhs == False: condition = self.right_items\n",
        "        if len(condition) > len(itemset) or len(itemset) == 0:\n",
        "            return False\n",
        "        for item in condition:\n",
        "            if item not in itemset:\n",
        "                return False\n",
        "        return True\n",
        "    "
      ],
      "execution_count": 17,
      "outputs": []
    },
    {
      "cell_type": "code",
      "metadata": {
        "id": "mzL6QVz9biCo"
      },
      "source": [
        "class RulesCollection(object):\n",
        "\n",
        "    def __init__(self):\n",
        "        self.rules = []\n",
        "        \n",
        "        \n",
        "    def size(self):\n",
        "        return len(self.rules)\n",
        "        \n",
        "    def add(self, r):\n",
        "        self.rules.append(r)\n",
        "        \n",
        "    def clear(self):\n",
        "        self.rules.clear()\n",
        "        \n",
        "    def save(self, file_name, is_append):\n",
        "        mode = 'w'\n",
        "        if is_append == True:\n",
        "            mode = 'a'\n",
        "        with open(file_name, mode) as text_file:\n",
        "            for rule in self.rules:\n",
        "                text_file.write(rule.serialize())\n",
        "                text_file.write('\\n')\n",
        "                \n",
        "    def load_from_file(self, file_name):    \n",
        "        with open(file_name, \"r\") as text_file:\n",
        "            for line in text_file:\n",
        "                rule = AssociationRule.string_2_rule(line)\n",
        "                self.rules.append(rule)\n",
        "        \n",
        "    def remove_redundancy(self, freq_itemset_dict):\n",
        "        new_rules = []\n",
        "        for r in self.rules:\n",
        "            if r.is_redundant(freq_itemset_dict):\n",
        "                continue\n",
        "            new_rules.append(r)\n",
        "        self.rules = new_rules \n",
        "                \n",
        "class RulesDictionary():\n",
        "    \n",
        "    def __init__(self):\n",
        "        self.rules = {}\n",
        "                    \n",
        "    def load_from_file(self, file_name):\n",
        "        with open(file_name, \"r\") as text_file:\n",
        "            for line in text_file:\n",
        "                rule = AssociationRule.string_2_rule(line)\n",
        "                self.rules[line.strip()] = rule\n",
        "    \n",
        "    def get_rules(self):\n",
        "        return list(self.rules.values())\n",
        "    \n",
        "    def rule_2_string(self):\n",
        "        return list(self.rules.keys())\n",
        "    \n",
        "    def clear(self):\n",
        "        self.rules.clear()"
      ],
      "execution_count": 18,
      "outputs": []
    },
    {
      "cell_type": "code",
      "metadata": {
        "id": "zKNxYr_fZPGJ"
      },
      "source": [
        "class Generator:\n",
        "    \n",
        "    def __init__(self, freq_itemset_dict, \n",
        "                 min_conf, \n",
        "                 itemset_formatter, \n",
        "                 rule_formatter, \n",
        "                 nThreads):\n",
        "        self.itemset_formatter = itemset_formatter\n",
        "        self.rule_formatter = rule_formatter\n",
        "        \n",
        "        self.nthreads = nThreads\n",
        "        self.freq_itemset_dict = freq_itemset_dict\n",
        "        \n",
        "        self.min_conf = min_conf\n",
        "    \n",
        "    @staticmethod\n",
        "    def string_2_rule_and_support(s):\n",
        "        subStrings = s.split('#')\n",
        "        rule  = Generator.string_2_rule(subStrings[0].strip())\n",
        "        v = json.loads(subStrings[1].strip())\n",
        "        return rule, v\n",
        "    \n",
        "    @staticmethod\n",
        "    def rule_and_support_2_string(rule, p):\n",
        "        return rule.serialize() + '#' + json.dumps(p)\n",
        "                \n",
        "    '''\n",
        "    Generate association rules for one item-set\n",
        "    '''\n",
        "    def subsets(self, bits, item_set, k, rule_collection, total_freq): \n",
        "        '''\n",
        "        Run out of items --> create rule and check format criterion\n",
        "        '''\n",
        "        if k >= len(item_set):\n",
        "            left = []\n",
        "            right = []\n",
        "                    \n",
        "            for index in range(len(bits)):\n",
        "                if bits[index] == True:\n",
        "                    left.append(item_set[index])\n",
        "                else:\n",
        "                    right.append(item_set[index])\n",
        "                                      \n",
        "            if (len(left) > 0 and len(right) > 0):\n",
        "                rule = AssociationRule(left, right)\n",
        "                if (self.rule_formatter == None or self.rule_formatter(rule) == True):\n",
        "                    rule_collection.add(rule)\n",
        "            \n",
        "            return \n",
        "      \n",
        "        value_domain = [True, False]\n",
        "        '''\n",
        "        Include k-th item into LHS \n",
        "        '''\n",
        "        \n",
        "        for value in value_domain:\n",
        "            bits[k] = value\n",
        "               \n",
        "            if (value == False):\n",
        "                left_itemset = []\n",
        "                for index in range(len(bits)):\n",
        "                    if bits[index] == True:\n",
        "                        left_itemset.append(item_set[index])\n",
        "                        \n",
        "                left_value = self.freq_itemset_dict.get_frequency(itemset_2_string(left_itemset))\n",
        "                confident = 0\n",
        "                if left_value > 0: confident = total_freq/left_value\n",
        "                \n",
        "                if confident < self.min_conf:\n",
        "                    bits[k] = True\n",
        "                    continue\n",
        "                self.subsets(bits, item_set, k+1, rule_collection, total_freq)\n",
        "            else:\n",
        "                self.subsets(bits, item_set, k+1, rule_collection, total_freq)\n",
        "                \n",
        "            bits[k] = True\n",
        "    '''\n",
        "    Generate association rules for a set of item-sets and write results to a file\n",
        "    '''\n",
        "    def generate_rules(self, freq_itemsets_collection, output_file_name):\n",
        "        total_rules = 0\n",
        "        remaining_rules = 0\n",
        "        k = 0\n",
        "        rule_collection = RulesCollection()\n",
        "        with open(output_file_name, 'w') as _:\n",
        "            print ('clear old file...')\n",
        "            \n",
        "        for itemset in freq_itemsets_collection:\n",
        "            '''\n",
        "            Check item-set first if it can generate a rule\n",
        "            '''\n",
        "            if len(itemset) == 1:\n",
        "                continue\n",
        "     \n",
        "         \n",
        "            if self.itemset_formatter is not None and \\\n",
        "            self.itemset_formatter(itemset) == False:\n",
        "                continue\n",
        "            \n",
        "            '''\n",
        "            Write generated rule_collection into file\n",
        "            '''\n",
        "            k += 1\n",
        "            if k % 200 == 0:\n",
        "                print ('writing some rule_collection to file: ' + str(k))\n",
        "                total_rules += rule_collection.size()\n",
        "                rule_collection.remove_redundancy(self.freq_itemset_dict)\n",
        "                rule_collection.save(output_file_name, True)\n",
        "                remaining_rules += rule_collection.size()\n",
        "                rule_collection.clear()\n",
        "            \n",
        "            '''\n",
        "            Generating association rule_collection.\n",
        "            '''\n",
        "            total_freq = self.freq_itemset_dict.get_frequency(itemset_2_string(itemset))\n",
        "            bits = [True] * len(itemset)\n",
        "            self.subsets(bits, itemset, 0, rule_collection, total_freq)\n",
        "                    \n",
        "        print ('writing last rule_collection to file: ' + str(k))\n",
        "        total_rules += rule_collection.size()\n",
        "        rule_collection.remove_redundancy(self.freq_itemset_dict)\n",
        "        rule_collection.save(output_file_name, True)\n",
        "        remaining_rules += rule_collection.size()\n",
        "        rule_collection.clear()\n",
        "        \n",
        "        print ('Finish for sub frequent item-sets!!!')\n",
        "        print ('Number of redundant rules ' + str(total_rules - remaining_rules) + '/' + str(total_rules))\n",
        "                  \n",
        "    '''\n",
        "    Generate association rules for whole data-set\n",
        "    '''  \n",
        "    def execute(self, output_file_name):\n",
        "        \n",
        "        itemset_chunks = self.freq_itemset_dict.split(self.nthreads)\n",
        "        \n",
        "        processes = []\n",
        "        for index in range(self.nthreads):\n",
        "            file_name = output_file_name + '.' + str(index)\n",
        "            process_i = Process(target=self.generate_rules, \n",
        "                                args=(itemset_chunks[index], file_name))\n",
        "            processes.append(process_i)\n",
        "            \n",
        "            \n",
        "        for process_i in processes:\n",
        "            process_i.start()\n",
        "            \n",
        "        # wait for all thread completes\n",
        "        for process_i in processes:\n",
        "            process_i.join()\n",
        "            \n",
        "        print ('Finish generating rules!!!!')    \n",
        "            \n",
        "            "
      ],
      "execution_count": 19,
      "outputs": []
    },
    {
      "cell_type": "markdown",
      "metadata": {
        "id": "z7QIXGxJU2AT"
      },
      "source": [
        "Argumetns"
      ]
    },
    {
      "cell_type": "code",
      "metadata": {
        "id": "EsdEy9woU3D6"
      },
      "source": [
        "class ARMParams(object):\n",
        "    '''\n",
        "    classdocs\n",
        "    '''\n",
        "\n",
        "    def __init__(self, minsup, minconf, itemset_max_size=-1):\n",
        "        '''\n",
        "        Constructor\n",
        "        '''\n",
        "        self.min_sup = minsup \n",
        "        self.min_conf = minconf\n",
        "        self.itemset_max_size = itemset_max_size"
      ],
      "execution_count": 20,
      "outputs": []
    },
    {
      "cell_type": "code",
      "metadata": {
        "id": "eQ9NUuDaW2ZS"
      },
      "source": [
        "class ARMFiles(object):\n",
        "    '''\n",
        "    classdocs\n",
        "    '''\n",
        "\n",
        "    def __init__(self, default_folder = Filepath):\n",
        "        '''\n",
        "        Constructor\n",
        "        '''\n",
        "        self.temp_folder = default_folder\n",
        "        \n",
        "        self.itemset_tmp_file = self.temp_folder + 'miner.tmp.itemsets'\n",
        "        self.rules_tmp_file = self.temp_folder + 'miner.tmp.rules'\n",
        "        self.best_rules_file = self.temp_folder + 'miner.best_tmp.rules'\n",
        "        \n",
        "        self.interestingness_tmp_file = self.temp_folder +'miner.tmp.interestingness'\n",
        "        self.probabilities_tmp_file = self.temp_folder +'miner.tmp.probabilities'\n",
        "        \n",
        "        self.feature_tmp_file = self.temp_folder +'miner.tmp.features'\n",
        "        self.non_redundant_rule_tmp_file = self.temp_folder +'miner.tmp.non_redundant_rules'\n",
        "        self.non_redundant_rule_feature_tmp_file = self.temp_folder + 'miner.tmp.non_redundant_rules.features'\n",
        "        self.relation_tmp_file = self.temp_folder + 'relation_matrix.csv'\n",
        "        \n",
        "    def get_rule_file(self, i):\n",
        "        return self.rules_tmp_file + '.' + str(i)"
      ],
      "execution_count": 21,
      "outputs": []
    },
    {
      "cell_type": "markdown",
      "metadata": {
        "id": "CIgcGyPtSo9c"
      },
      "source": [
        "getting data"
      ]
    },
    {
      "cell_type": "code",
      "metadata": {
        "id": "hm2czXkpVq2i"
      },
      "source": [
        "class DataSet:\n",
        "    def __init__(self):\n",
        "        self.current = 0\n",
        "        self.train_data = []\n",
        "        self.data_labels = []\n",
        "        \n",
        "    \n",
        "    def __iter__(self):\n",
        "        return iter(self.train_data)\n",
        "                \n",
        "    def size(self):\n",
        "        return len(self.train_data)\n",
        "    \n",
        "    def get_transaction(self, index):\n",
        "        return self.train_data[index]\n",
        "    \n",
        "    def clear(self):\n",
        "        self.train_data.clear()\n",
        "        \n",
        "    def add_transaction(self, t):\n",
        "        return self.train_data.append(t)\n",
        "\n",
        "    '''\n",
        "    Load data set from a file. The input file must be formated in CSV (comma separated)\n",
        "    class_index is used in the case of data-set with labels. \n",
        "    '''\n",
        "    def load(self, Filepath, class_index = -1, has_header = False):\n",
        "        self.train_data = []\n",
        "        if class_index != -1: self.data_labels = []\n",
        "        \n",
        "        with open(Filepath, \"r\") as text_in_file:\n",
        "            if has_header == True:\n",
        "                text_in_file.readline()\n",
        "                \n",
        "            for line in text_in_file:\n",
        "                #print(\"dataset script line\", line)\n",
        "                transaction = [x.strip() for x in line.split(',')]\n",
        "                transaction = list(filter(None, transaction))\n",
        "                #print(\"datset script transaction\" , transaction)\n",
        "                \n",
        "                if (class_index != -1):\n",
        "                    self.data_labels.append(transaction[class_index])\n",
        "                    del transaction[class_index]\n",
        "                \n",
        "                self.train_data.append(list(set(transaction)))\n",
        "        print(\"Loading done\")"
      ],
      "execution_count": 22,
      "outputs": []
    },
    {
      "cell_type": "markdown",
      "metadata": {
        "id": "Ca8Ntp5_cuRY"
      },
      "source": [
        "Getting data as input"
      ]
    },
    {
      "cell_type": "code",
      "metadata": {
        "id": "aYuAvMhfTi_r"
      },
      "source": [
        "train_data_set = DataSet()"
      ],
      "execution_count": 23,
      "outputs": []
    },
    {
      "cell_type": "code",
      "metadata": {
        "colab": {
          "base_uri": "https://localhost:8080/"
        },
        "id": "KuBpWAwnVboC",
        "outputId": "4d55fc60-01ee-450d-b2ba-5c830b8d5f59"
      },
      "source": [
        "train_data_set.load(inputfilepath, -1)"
      ],
      "execution_count": 24,
      "outputs": [
        {
          "output_type": "stream",
          "text": [
            "Loading done\n"
          ],
          "name": "stdout"
        }
      ]
    },
    {
      "cell_type": "code",
      "metadata": {
        "id": "jkGX4ldtR5Cz"
      },
      "source": [
        "rule_miner = RuleMiner('spect', train_data_set)"
      ],
      "execution_count": 25,
      "outputs": []
    },
    {
      "cell_type": "markdown",
      "metadata": {
        "id": "Z5tIL5ykcxLw"
      },
      "source": [
        "Give arguments"
      ]
    },
    {
      "cell_type": "code",
      "metadata": {
        "id": "Z4vqPthqUK-D"
      },
      "source": [
        "arm_params = ARMParams(minsup, minconf, itemset_max_size)"
      ],
      "execution_count": 26,
      "outputs": []
    },
    {
      "cell_type": "markdown",
      "metadata": {
        "id": "a_ryoDPZczZC"
      },
      "source": [
        "Generates frequent item sets and rules"
      ]
    },
    {
      "cell_type": "code",
      "metadata": {
        "colab": {
          "base_uri": "https://localhost:8080/"
        },
        "id": "1TYH5f67Sioc",
        "outputId": "4ce8caec-2de6-40cb-ef3e-87c0909ca084"
      },
      "source": [
        "rule_miner.generate_itemsets_and_rules(arm_params)"
      ],
      "execution_count": 27,
      "outputs": [
        {
          "output_type": "stream",
          "text": [
            "generating frequent item-sets...\n",
            "size of data-set: 191\n",
            "get frequent item sets with 1 item\n",
            "extracting item-sets with 2 items ....\n",
            "generate candidates with 2 items\n",
            "Writing frequent itemset to file....\n",
            "#item-sets: 506\n",
            "extracting item-sets with 3 items ....\n",
            "generate candidates with 3 items\n",
            "generate candidates with 3 items\n",
            "generate candidates with 3 items\n",
            "generate candidates with 3 items\n",
            "Writing frequent itemset to file....\n",
            "#item-sets: 2644\n",
            "extracting item-sets with 4 items ....\n",
            "generate candidates with 4 items\n",
            "generate candidates with 4 items\n",
            "generate candidates with 4 items\n",
            "generate candidates with 4 items\n",
            "Writing frequent itemset to file....\n",
            "#item-sets: 6800\n",
            "extracting item-sets with 5 items ....\n",
            "generate candidates with 5 items\n",
            "generate candidates with 5 items\n",
            "generate candidates with 5 items\n",
            "generate candidates with 5 items\n",
            "Writing frequent itemset to file....\n",
            "#item-sets: 9273\n",
            "extracting item-sets with 6 items ....\n",
            "generate candidates with 6 items\n",
            "generate candidates with 6 items\n",
            "generate candidates with 6 items\n",
            "generate candidates with 6 items\n",
            "Writing frequent itemset to file....\n",
            "#item-sets: 7284\n",
            "extracting item-sets with 7 items ....\n",
            "generate candidates with 7 items\n",
            "generate candidates with 7 items\n",
            "generate candidates with 7 items\n",
            "generate candidates with 7 items\n",
            "Writing frequent itemset to file....\n",
            "#item-sets: 3467\n",
            "extracting item-sets with 8 items ....\n",
            "generate candidates with 8 items\n",
            "generate candidates with 8 items\n",
            "generate candidates with 8 items\n",
            "generate candidates with 8 items\n",
            "Writing frequent itemset to file....\n",
            "#item-sets: 987\n",
            "extracting item-sets with 9 items ....\n",
            "generate candidates with 9 items\n",
            "generate candidates with 9 items\n",
            "generate candidates with 9 items\n",
            "generate candidates with 9 items\n",
            "Writing frequent itemset to file....\n",
            "#item-sets: 155\n",
            "extracting item-sets with 10 items ....\n",
            "generate candidates with 10 items\n",
            "generate candidates with 10 items\n",
            "generate candidates with 10 items\n",
            "generate candidates with 10 items\n",
            "Writing frequent itemset to file....\n",
            "#item-sets: 11\n",
            "extracting item-sets with 11 items ....\n",
            "generate candidates with 11 items\n",
            "generate candidates with 11 items\n",
            "generate candidates with 11 items\n",
            "generate candidates with 11 items\n",
            "Writing frequent itemset to file....\n",
            "#item-sets: 0\n",
            "stop at k = 12\n",
            "generating rules ....\n",
            "Number of frequent item-sets: 31168\n",
            "clear old file...\n",
            "writing some rule_collection to file: 200\n",
            "clear old file...\n",
            "writing some rule_collection to file: 400\n",
            "clear old file...\n",
            "writing some rule_collection to file: 200\n",
            "writing some rule_collection to file: 600\n",
            "writing some rule_collection to file: 200\n",
            "writing some rule_collection to file: 800\n",
            "clear old file...\n",
            "writing some rule_collection to file: 1000\n",
            "writing some rule_collection to file: 400\n",
            "writing some rule_collection to file: 200\n",
            "writing some rule_collection to file: 400\n",
            "writing some rule_collection to file: 1200\n",
            "writing some rule_collection to file: 400\n",
            "writing some rule_collection to file: 600\n",
            "writing some rule_collection to file: 600\n",
            "writing some rule_collection to file: 1400\n",
            "writing some rule_collection to file: 600\n",
            "writing some rule_collection to file: 1600\n",
            "writing some rule_collection to file: 1800\n",
            "writing some rule_collection to file: 800\n",
            "writing some rule_collection to file: 800\n",
            "writing some rule_collection to file: 2000\n",
            "writing some rule_collection to file: 1000\n",
            "writing some rule_collection to file: 2200\n",
            "writing some rule_collection to file: 800\n",
            "writing some rule_collection to file: 1000\n",
            "writing some rule_collection to file: 1200\n",
            "writing last rule_collection to file: 2274\n",
            "Finish for sub frequent item-sets!!!\n",
            "writing some rule_collection to file: 1400\n",
            "Number of redundant rules 151/571\n",
            "writing some rule_collection to file: 1200\n",
            "writing some rule_collection to file: 1600\n",
            "writing some rule_collection to file: 1000\n",
            "writing some rule_collection to file: 1400\n",
            "writing some rule_collection to file: 1600\n",
            "writing some rule_collection to file: 1800\n",
            "writing some rule_collection to file: 1200\n",
            "writing some rule_collection to file: 1800\n",
            "writing some rule_collection to file: 2000\n",
            "writing some rule_collection to file: 1400\n",
            "writing some rule_collection to file: 2200\n",
            "writing some rule_collection to file: 2000\n",
            "writing some rule_collection to file: 2400\n",
            "writing some rule_collection to file: 2200\n",
            "writing some rule_collection to file: 1600\n",
            "writing some rule_collection to file: 2600\n",
            "writing some rule_collection to file: 2400\n",
            "writing some rule_collection to file: 1800\n",
            "writing some rule_collection to file: 2800\n",
            "writing some rule_collection to file: 2600\n",
            "writing some rule_collection to file: 2000\n",
            "writing some rule_collection to file: 3000\n",
            "writing some rule_collection to file: 3200\n",
            "writing some rule_collection to file: 2800\n",
            "writing some rule_collection to file: 3400\n",
            "writing some rule_collection to file: 2200\n",
            "writing some rule_collection to file: 3000\n",
            "writing last rule_collection to file: 3596\n",
            "Finish for sub frequent item-sets!!!\n",
            "Number of redundant rules 831/1468\n",
            "writing some rule_collection to file: 3200\n",
            "writing some rule_collection to file: 2400\n",
            "writing some rule_collection to file: 3400\n",
            "writing some rule_collection to file: 2600\n",
            "writing some rule_collection to file: 3600\n",
            "writing some rule_collection to file: 2800\n",
            "writing some rule_collection to file: 3800\n",
            "writing some rule_collection to file: 4000\n",
            "writing some rule_collection to file: 3000\n",
            "writing some rule_collection to file: 4200\n",
            "writing some rule_collection to file: 4400\n",
            "writing last rule_collection to file: 4443\n",
            "Finish for sub frequent item-sets!!!\n",
            "Number of redundant rules 1700/2187\n",
            "writing some rule_collection to file: 3200\n",
            "writing some rule_collection to file: 3400\n",
            "writing some rule_collection to file: 3600\n",
            "writing some rule_collection to file: 3800\n",
            "writing some rule_collection to file: 4000\n",
            "writing some rule_collection to file: 4200\n",
            "writing some rule_collection to file: 4400\n",
            "writing some rule_collection to file: 4600\n",
            "writing some rule_collection to file: 4800\n",
            "writing some rule_collection to file: 5000\n",
            "writing some rule_collection to file: 5200\n",
            "writing some rule_collection to file: 5400\n",
            "writing some rule_collection to file: 5600\n",
            "writing last rule_collection to file: 5603\n",
            "Finish for sub frequent item-sets!!!\n",
            "Number of redundant rules 3451/3637\n",
            "Finish generating rules!!!!\n"
          ],
          "name": "stdout"
        }
      ]
    },
    {
      "cell_type": "markdown",
      "metadata": {
        "id": "luYxTYvi6bos"
      },
      "source": [
        "Converting to feature vector"
      ]
    },
    {
      "cell_type": "code",
      "metadata": {
        "id": "iwq6JaRJMUzF"
      },
      "source": [
        "\n",
        "\n",
        "class RelationArray2D(object):\n",
        "    '''\n",
        "    classdocs\n",
        "    '''\n",
        "\n",
        "    def __init__(self, item_dict, relation_values):\n",
        "        '''\n",
        "        Constructor\n",
        "        '''\n",
        "        self.item_dict = item_dict\n",
        "        self.relation_matrix = relation_values\n",
        "        \n",
        "        \n",
        "    def get_value(self, item1, item2):\n",
        "        i = self.item_dict[item1]\n",
        "        j = self.item_dict[item2]\n",
        "        return self.relation_matrix[i, j]\n",
        "    \n",
        "    def get_items(self):\n",
        "        return self.item_dict.keys()\n",
        "        \n",
        "    def get_index(self, item):\n",
        "        return self.item_dict[item]\n",
        "    \n",
        "class RelationArray1D(object):\n",
        "    '''\n",
        "    classdocs\n",
        "    '''\n",
        "\n",
        "    def __init__(self, item_dict, values):\n",
        "        '''\n",
        "        Constructor\n",
        "        '''\n",
        "        self.item_dict = item_dict\n",
        "        self.values = values\n",
        "        \n",
        "        \n",
        "    def get_value_at(self, index):\n",
        "        return self.values[index]\n",
        "    \n",
        "    def get_items(self):\n",
        "        return self.item_dict.keys()\n",
        "        \n",
        "    def get_value(self, item):\n",
        "        return self.item_dict[item]"
      ],
      "execution_count": 28,
      "outputs": []
    },
    {
      "cell_type": "code",
      "metadata": {
        "id": "Yj02tF3gQQno"
      },
      "source": [
        "\n",
        "# Transaction databases, each transaction is a set of items\n",
        "import numpy as np\n",
        "from scipy import sparse\n",
        "from scipy import stats\n",
        "#from common.RelationArray import RelationArray2D\n",
        "#from common.RelationArray import RelationArray1D\n",
        "\n",
        "class DataSet:\n",
        "    def __init__(self):\n",
        "        self.current = 0\n",
        "        self.train_data = []\n",
        "        self.data_labels = []\n",
        "        \n",
        "    \n",
        "    def __iter__(self):\n",
        "        return iter(self.train_data)\n",
        "                \n",
        "    def size(self):\n",
        "        return len(self.train_data)\n",
        "    \n",
        "    def get_transaction(self, index):\n",
        "        return self.train_data[index]\n",
        "    \n",
        "    def clear(self):\n",
        "        self.train_data.clear()\n",
        "        \n",
        "    def add_transaction(self, t):\n",
        "        return self.train_data.append(t) \n",
        "        \n",
        "    '''\n",
        "    Load data set from a file. The input file must be formated in CSV (comma separated)\n",
        "    class_index is used in the case of data-set with labels. \n",
        "    '''\n",
        "    def load(self, Filepath, class_index = -1, has_header = False):\n",
        "        self.train_data = []\n",
        "        if class_index != -1: self.data_labels = []\n",
        "        \n",
        "        with open(Filepath, \"r\") as text_in_file:\n",
        "            if has_header == True:\n",
        "                text_in_file.readline()\n",
        "                \n",
        "            for line in text_in_file:\n",
        "                #print(\"dataset script line\", line)\n",
        "                transaction = [x.strip() for x in line.split(',')]\n",
        "                transaction = list(filter(None, transaction))\n",
        "                #print(\"datset script transaction\" , transaction)\n",
        "                \n",
        "                if (class_index != -1):\n",
        "                    self.data_labels.append(transaction[class_index])\n",
        "                    del transaction[class_index]\n",
        "                \n",
        "                self.train_data.append(list(set(transaction)))\n",
        "            print(\"loading done\")\n",
        "\n",
        "    '''\n",
        "    Return number of classes in data (if have).\n",
        "    '''            \n",
        "    def number_of_classes(self):\n",
        "        if self.data_labels == None: return 0\n",
        "        return len(set(self.data_labels))\n",
        "\n",
        "    def convert_data_labels(self, inlier_name):\n",
        "        Y_train = np.zeros(len(self.data_labels))\n",
        "        for i in range(Y_train.shape[0]):\n",
        "            if self.data_labels[i] == inlier_name:\n",
        "                Y_train[i] = 1\n",
        "            else: \n",
        "                Y_train[i] = -1\n",
        "        return Y_train\n",
        "\n",
        "    def convert_2_binary_format_with(self, items_dict, classes_dict = None):\n",
        "        n_items = len(items_dict)\n",
        "        X_train = np.zeros((self.size(), n_items))\n",
        "        \n",
        "        k = 0\n",
        "        for transaction in self.train_data:\n",
        "            for item in transaction:\n",
        "                if item not in items_dict: \n",
        "                    print('not in features...')\n",
        "                    continue\n",
        "                i = items_dict[item]\n",
        "                X_train[k, i] = 1.0\n",
        "            k += 1\n",
        "            \n",
        "        Y_train = []\n",
        "        if classes_dict is not None:\n",
        "            for label in self.data_labels:\n",
        "                if label not in classes_dict:\n",
        "                    print('not in classes')\n",
        "                    Y_train.append(-1)\n",
        "                else:\n",
        "                    Y_train.append(classes_dict[label]) \n",
        "        return X_train, np.array(Y_train)        \n",
        "    \n",
        "    def get_items_dict_(self):\n",
        "        attr_dict = {}\n",
        "        #check existing data\n",
        "        for transaction in self.train_data:\n",
        "            #print(\"get_items_dict_ transactions\",transaction)\n",
        "            for index in range (len(transaction)):\n",
        "                item_name = transaction[index]\n",
        "                if item_name not in attr_dict:\n",
        "                    attr_dict[item_name] = True\n",
        "        return attr_dict\n",
        "    \n",
        "    def get_class_list_(self):\n",
        "        # Sort items and classes in alphabet order.\n",
        "        return sorted(set(self.data_labels))\n",
        "        \n",
        "        \n",
        "\n",
        "    '''\n",
        "    Convert transaction data into binary format\n",
        "    '''\n",
        "    def convert_2_binary_format(self):\n",
        "        \n",
        "        attr_dict = self.get_items_dict_()\n",
        "        print(\"convert_2_binary_format attr_dict\", attr_dict)\n",
        "      \n",
        "         \n",
        "        # Sort items and classes in alphabet order.\n",
        "        classes_list = sorted(set(self.data_labels))\n",
        "        print(\"classes_list\", classes_list)\n",
        "        items_list = sorted(attr_dict.keys())\n",
        "        \n",
        "        classes_dict = {classes_list[i] : i for i in range(len(classes_list))}\n",
        "        print(\"classes_dict\",classes_dict)\n",
        "        attr_dict = {items_list[i] : i for i in range(len(items_list))}\n",
        "        print(\"attr_dict\",attr_dict)\n",
        "        \n",
        "        #Generate binary matrix (X_train) and array of labels(Y_train)\n",
        "        X_train, Y_train = self.convert_2_binary_format_with(attr_dict, classes_dict)\n",
        "                \n",
        "        return RelationArray2D(attr_dict, sparse.csr_matrix(X_train)), RelationArray1D(classes_dict, np.array(Y_train))\n",
        "        \n",
        "    @staticmethod\n",
        "    def write_relation_matrix_(matrix):\n",
        "        with open(Filepath+'item_relation.csv', 'w') as file_writer:\n",
        "            item_names = sorted(matrix.item_dict.keys())\n",
        "            print(\"item_names in static method\",item_names)\n",
        "            file_writer.write('o0o,')\n",
        "            file_writer.write(','.join(item_names))\n",
        "            file_writer.write('\\n')\n",
        "            for i in range(len(item_names)):\n",
        "                print(\"in static method i \",i)\n",
        "                file_writer.write(item_names[i] + ',')\n",
        "                print(matrix.relation_matrix[i])\n",
        "                file_writer.write(','.join(str(x) for x in matrix.relation_matrix[i].tolist()))\n",
        "                file_writer.write('\\n')\n",
        "                \n",
        "                \n",
        "   \n",
        "    '''\n",
        "    This method estimates relationship among items. There're two kinds of relationship\n",
        "    - Correlation:including negative correlation (<= -0.3) and positive correlation (>= 0.3)\n",
        "    - Cover: threshold 1.0, including cover (2) and covered (-2) \n",
        "    '''\n",
        "    def items_relationship(self):\n",
        "        \n",
        "        print ('Computing item relation matrix...')\n",
        "        \n",
        "        X_train, _ = self.convert_2_binary_format()\n",
        "        \n",
        "        print(\"X_train\",X_train)\n",
        "    \n",
        "        correlation_matrix, p_values = stats.spearmanr(X_train.relation_matrix.todense(), axis = 0)\n",
        "\n",
        "        print(correlation_matrix)\n",
        "        \n",
        "        #zeros_mask = (p_values <= 0.05).astype(int)\n",
        "        #small_mask = (np.abs(correlation_matrix) >= 0.1).astype(int)\n",
        "        \n",
        "        #relation_matrix = correlation_matrix * small_mask * zeros_mask\n",
        "        relation_matrix = correlation_matrix\n",
        "        print(X_train.item_dict)\n",
        "        print(relation_matrix)\n",
        "        a = RelationArray2D(X_train.item_dict, relation_matrix)\n",
        "        print(type(a))\n",
        "        print(\"items_relationship a\", a)\n",
        "        DataSet.write_relation_matrix_(a)\n",
        "        \n",
        "        return a"
      ],
      "execution_count": 29,
      "outputs": []
    },
    {
      "cell_type": "code",
      "metadata": {
        "id": "8sBhYmD-RhS4"
      },
      "source": [
        "\n",
        "#from rules_mining.Apriori import Apriori\n",
        "#from rules_mining.Generator import Generator\n",
        "#from rules_mining.ItemsetDictionary import ItemsetDictionary\n",
        "\n",
        "#from rules_mining.ItemsetFormatter import ItemsetFormatter\n",
        "#from rules_mining.RuleFormatter import RuleFormatter\n",
        "#from rules_mining.AssociationRule import AssociationRule\n",
        "\n",
        "#from objective_measures.Interestingness import ObjectiveMeasure as om\n",
        "#from rules_mining.RulesCollection import RulesDictionary\n",
        "\n",
        "import json\n",
        "import numpy as np\n",
        "#from common.ArgumentTuple import ARMFiles\n",
        "\n",
        "class RuleMiner(object):    \n",
        "    '''\n",
        "    This class is used to generate_itemsets_and_rules and store a Naive Belief System \n",
        "    by using the most confident association rules\n",
        "    '''\n",
        "\n",
        "    def __init__(self, filter_name, train_data_set):\n",
        "        \n",
        "        self.nthreads = 2\n",
        "        self.files_info = ARMFiles(Filepath)\n",
        "        \n",
        "        self.filter_name = filter_name\n",
        "        self.data_set = train_data_set #taking input the dataset\n",
        "        print(\"self.data_set is none or not\", self.data_set)\n",
        "        self.relation_matrix = None \n",
        "        if self.data_set is not None:\n",
        "            print(\"Not none\")\n",
        "            self.relation_matrix = self.data_set.items_relationship() #calling\n",
        "            print(self.data_set.items_relationship()) \n",
        "            print(type(self.relation_matrix))\n",
        "            print(\"realation matrix\",self.relation_matrix )\n",
        "        \n",
        "        \n",
        "    '''\n",
        "    Load generated frequent itemsets from file. \n",
        "    This method must be called after generate_frequent_itemsets is called\n",
        "    '''\n",
        "    def load_frequent_itemsets_as_dict(self):\n",
        "        freq_itemset_dict = ItemsetDictionary(0)\n",
        "        freq_itemset_dict.load_from_file(self.files_info.itemset_tmp_file)\n",
        "        return freq_itemset_dict\n",
        "    \n",
        "    '''\n",
        "    Load generated association rules from file. \n",
        "    This method must be called after generate_association_rules is called\n",
        "    '''\n",
        "    def load_rules_as_dict(self):\n",
        "        rules_dict = RulesDictionary()\n",
        "        \n",
        "        for i in range(self.nthreads):\n",
        "            rules_dict.load_from_file(self.files_info.get_rule_file(i))\n",
        "                \n",
        "        return rules_dict\n",
        "\n",
        "        \n",
        "    '''\n",
        "    Generate frequent itemsets from data-set\n",
        "    '''\n",
        "    def generate_frequent_itemsets(self, arm_params):\n",
        "        \n",
        "        print ('generating frequent item-sets...')\n",
        "        apriori = Apriori(self.data_set)\n",
        "        apriori.generate_frequent_itemsets_vw(arm_params.min_sup * self.data_set.size(), \n",
        "                                              self.nthreads, \n",
        "                                              arm_params.itemset_max_size, \n",
        "                                              self.files_info.itemset_tmp_file)\n",
        "        \n",
        "    '''\n",
        "    Generate association rules from data-set. \n",
        "    This method must be called after generate_frequent_itemsets(...) is called\n",
        "    '''\n",
        "    def generate_association_rules(self, arm_params):\n",
        "        freq_itemsets_dict = self.load_frequent_itemsets_as_dict()\n",
        "        \n",
        "        print ('generating rules ....')\n",
        "        itemset_formatter = getattr(ItemsetFormatter, self.filter_name)\n",
        "        rule_formatter = getattr(RuleFormatter, self.filter_name)\n",
        "        rule_generator = Generator(freq_itemsets_dict, \n",
        "                                   arm_params.min_conf, \n",
        "                                   itemset_formatter, \n",
        "                                   rule_formatter, \n",
        "                                   self.nthreads)\n",
        "        rule_generator.execute(self.files_info.rules_tmp_file)\n",
        "        \n",
        "    '''\n",
        "    Generate association rules and select K patterns with highest confidence.\n",
        "    '''    \n",
        "    def generate_itemsets_and_rules(self, arm_params):\n",
        "        self.generate_frequent_itemsets(arm_params)\n",
        "        self.generate_association_rules(arm_params)\n",
        "        self.extract_features_4_all_rules()\n",
        "         \n",
        "    '''\n",
        "    Compute confidence for all association rules generated from data-set\n",
        "    '''\n",
        "    def compute_confidence(self, association_rules_list):\n",
        "        freq_itemset_dict = self.load_frequent_itemsets_as_dict()\n",
        "        \n",
        "        rule_confidence_dict = {}\n",
        "        for rule in association_rules_list:\n",
        "            left, _, both = freq_itemset_dict.get_frequency_combo(rule)\n",
        "            rule_confidence_dict[rule.serialize()] = (both/left, both)\n",
        "        return rule_confidence_dict\n",
        "\n",
        "    '''\n",
        "    Compute values of 31 interestingness measures for all association rules generated from data-set\n",
        "    '''\n",
        "    def compute_interestingness(self, output_file):\n",
        "        print ('computing correlation among interestingness measures...')\n",
        "        #measures = [om.confidence, om.lift]\n",
        "        \n",
        "        measures = [om.confidence, om.coverage, om.prevalence, om.recall, om.specificity, \n",
        "                    om.accuracy, om.lift, om.leverage, om.change_of_support, om.relative_risk, \n",
        "                    om.jaccard, om.certainty_factor, om.odd_ratio, om.yuleQ, om.yuleY, \n",
        "                    om.klosgen, om.conviction, om.weighting_dependancy, \n",
        "                    om.collective_strength, om.laplace_correction, om.jmeasure, \n",
        "                    om.one_way_support, om.two_way_support, om.two_ways_support_variation, \n",
        "                    om.linear_correlation_coefficient, om.piatetsky_shapiro, om.loevinger,\n",
        "                    om.information_gain, om.sebag_schoenauner, om.least_contradiction, \n",
        "                    om.odd_multiplier, om.counter_example_rate, om.zhang]\n",
        "        \n",
        "        print('loading frequent item-sets....')\n",
        "        freq_itemsets_dict =  self.load_frequent_itemsets_as_dict()\n",
        "        association_rules = self.load_association_rules()\n",
        "        \n",
        "        print ('computing interestingness for all rules ....')\n",
        "        \n",
        "        with open(output_file, 'w') as write_file:\n",
        "            total = freq_itemsets_dict.ntransactions\n",
        "            for rule in association_rules:\n",
        "                left, right, both = freq_itemsets_dict.get_frequency_combo(rule)\n",
        "                interestingness = []\n",
        "                for index in range(len(measures)):\n",
        "                    value = measures[index](left, right, both, total)\n",
        "                    interestingness.append(value)\n",
        "                write_file.write(rule.serialize() + ';')            \n",
        "                write_file.write(';'.join([str(x) for x in interestingness]))\n",
        "                write_file.write('\\n')\n",
        "                \n",
        "    '''\n",
        "    Determine collection of features for LHS and RHS of rules.\n",
        "    This method returns two dictionaries for LHS and RHS respectively. \n",
        "    Each entry of the dictionaries are (the name of item : its index in feature vector)\n",
        "    ''' \n",
        "    def _get_feature_names(self):\n",
        "        \n",
        "        left_features = []\n",
        "        right_features = []\n",
        "        \n",
        "        left_filter = getattr(RuleFormatter, self.filter_name + 'Left')\n",
        "        print(\"_get_feature_names left_filter \",left_filter) #this gives memory location\n",
        "        right_filter = getattr(RuleFormatter, self.filter_name + 'Right')\n",
        "        print(\"_get_feature_names right_filter\",right_filter) #this gives memory location\n",
        "        for item in self.relation_matrix.get_items():\n",
        "            #print(\"_get_feature_names item \",item) #gives item one by one a1@30-39\n",
        "            #print(\"_get_feature_names left_filter(item)\",left_filter(item))\n",
        "            if left_filter(item):\n",
        "                left_features.append(item) #true or false\n",
        "            if right_filter(item):\n",
        "                right_features.append(item) \n",
        "        print(\"_get_feature_names\",sorted(left_features)) #list of all the items wihtout class lables\n",
        "        print(\"_get_feature_names\",sorted(right_features))   #list of items with class labels  \n",
        "        return sorted(left_features), sorted(right_features)\n",
        "    \n",
        "    '''\n",
        "    Extract feature for an item-set.\n",
        "    '''\n",
        "    def _extract_features_4_itemset(self, itemset, feature_names):\n",
        "        n = len(feature_names)\n",
        "        f_vector = [0 for _ in range(n)]\n",
        "        for item in itemset:\n",
        "            #print(\"_extract_features_4_itemset\",item)\n",
        "            for i in range(n):\n",
        "                #print(\"_extract_features_4_itemset i \", i)\n",
        "                a = self.relation_matrix.get_value(item, feature_names[i])\n",
        "                #print(\"_extract_features_4_itemset a\", a)\n",
        "                if (abs(f_vector[i]) < abs(a)):\n",
        "                    f_vector[i] = a\n",
        "      \n",
        "        return np.array(f_vector) \n",
        "    '''\n",
        "    Extract feature vectors for all rules \n",
        "    '''\n",
        "    def extract_features_4_all_rules(self):\n",
        "        left_features, right_features  = self._get_feature_names()\n",
        "        left_count = len(left_features)\n",
        "        right_count = len(right_features)\n",
        "        \n",
        "        print('Write number of features for LHS and RHS')\n",
        "        features_writer = open(self.files_info.non_redundant_rule_tmp_file, 'w')\n",
        "        features_writer.write(str(left_count))\n",
        "        features_writer.write('\\n')\n",
        "        features_writer.write(str(right_count))\n",
        "        features_writer.write('\\n')\n",
        "        \n",
        "        print('Starting extraction...')\n",
        "        for i in range(self.nthreads):\n",
        "            input_file = self.files_info.get_rule_file(i)\n",
        "            \n",
        "            with open(input_file, 'r') as rules_reader:\n",
        "                for line in rules_reader:\n",
        "                    \n",
        "                    #print(\"line\",line) #for each rule a3@0-4>class@no\n",
        "                    rule = AssociationRule.string_2_rule(line.strip())\n",
        "                    #print(\"string to rule\",rule) #memory location from class\n",
        "                    a = self._extract_features_4_itemset(rule.left_items, left_features)\n",
        "                    #print(\"a\",a) \n",
        "                    b = self._extract_features_4_itemset(rule.right_items, right_features)\n",
        "                    #print(\"b\",b)\n",
        "                    f_vector = np.concatenate((a, b))\n",
        "                    #print(\"f_vector\",f_vector)\n",
        "                    '''\n",
        "                    Write a feature vector to file\n",
        "                    '''               \n",
        "                    features_writer.write(json.dumps((rule.serialize(),f_vector.tolist())))\n",
        "                    features_writer.write('\\n')\n",
        "        features_writer.close()\n",
        "        \n",
        "    '''\n",
        "    Load feature vectors for all non-redundant rules\n",
        "    '''\n",
        "    def load_feature_vectors(self):\n",
        "        data = []\n",
        "        lengths = []\n",
        "        \n",
        "        with open(self.files_info.non_redundant_rule_tmp_file, 'r') as feature_reader:\n",
        "            print('Loading number of LHS and RHS features...')\n",
        "            lhs_count = int(feature_reader.readline())\n",
        "            rhs_count = int(feature_reader.readline())\n",
        "            print('Loading feature vectors... ')\n",
        "            for line in feature_reader:\n",
        "                rule_text, f_vector = json.loads(line.strip())\n",
        "                rule = AssociationRule.string_2_rule(rule_text.strip())\n",
        "                lengths.append(rule.length())\n",
        "                data.append(f_vector)\n",
        "                \n",
        "                \n",
        "        return np.array(data), lengths, lhs_count, rhs_count\n",
        "        \n",
        "    '''\n",
        "    Load non-redundant rules from a file.\n",
        "    '''\n",
        "    def load_association_rules(self):\n",
        "        association_rules_list = []\n",
        "        with open(self.files_info.non_redundant_rule_tmp_file, 'r') as rules_reader:\n",
        "            rules_reader.readline()\n",
        "            rules_reader.readline()\n",
        "            \n",
        "            for line in rules_reader:\n",
        "                rule_text, _ = json.loads(line.strip())\n",
        "                association_rules_list.append(AssociationRule.string_2_rule(rule_text.strip()))\n",
        "        return association_rules_list\n",
        "        \n",
        "    '''\n",
        "    Load non-redundant rules and their feature vectors from a file\n",
        "    '''\n",
        "    def load_rules_and_features(self):\n",
        "        rules_and_their_features = {}\n",
        "        with open(self.files_info.non_redundant_rule_tmp_file, 'r') as feature_reader:\n",
        "            lhs_count = int(feature_reader.readline())\n",
        "            rhs_count = int(feature_reader.readline())\n",
        "            \n",
        "            for line in feature_reader:\n",
        "                rule_text, f_vector = json.loads(line.strip())\n",
        "                rules_and_their_features[rule_text] = f_vector\n",
        "        return rules_and_their_features, lhs_count, rhs_count\n",
        "        \n",
        "    "
      ],
      "execution_count": 30,
      "outputs": []
    },
    {
      "cell_type": "code",
      "metadata": {
        "id": "PtNo6RfCWyHK"
      },
      "source": [
        "train_data_set = DataSet()"
      ],
      "execution_count": 31,
      "outputs": []
    },
    {
      "cell_type": "code",
      "metadata": {
        "id": "mVG1feC5rJtT",
        "colab": {
          "base_uri": "https://localhost:8080/"
        },
        "outputId": "17bda1d0-6faa-4b35-c3f2-e96719101117"
      },
      "source": [
        "train_data_set.load(inputfilepath)"
      ],
      "execution_count": 32,
      "outputs": [
        {
          "output_type": "stream",
          "text": [
            "loading done\n"
          ],
          "name": "stdout"
        }
      ]
    },
    {
      "cell_type": "code",
      "metadata": {
        "id": "fnHseo7mRxHn",
        "colab": {
          "base_uri": "https://localhost:8080/"
        },
        "outputId": "15b79d40-019b-4fce-e8fd-128223b16a3a"
      },
      "source": [
        "ruleminer = RuleMiner('spect',train_data_set)"
      ],
      "execution_count": 33,
      "outputs": [
        {
          "output_type": "stream",
          "text": [
            "self.data_set is none or not <__main__.DataSet object at 0x7f9ef33f2bd0>\n",
            "Not none\n",
            "Computing item relation matrix...\n",
            "convert_2_binary_format attr_dict {'a9@no': True, 'class@no': True, 'a2@premeno': True, 'a8@left_low': True, 'a5@no': True, 'a1@30-39': True, 'a4@0-2': True, 'a6@3': True, 'a3@30-34': True, 'a7@left': True, 'a1@40-49': True, 'a8@right_low': True, 'a7@right': True, 'a6@2': True, 'a3@0-4': True, 'a2@ge40': True, 'a3@15-19': True, 'a1@60-69': True, 'a8@left_up': True, 'a3@20-24': True, 'a3@10-14': True, 'a2@lt40': True, 'a8@right_up': True, 'a6@1': True, 'a3@25-29': True, 'a1@50-59': True, 'a3@40-44': True, 'a8@central': True, 'a3@50-54': True, 'a1@70-79': True, 'a3@35-39': True, 'a3@5-9': True, 'a9@yes': True, 'a5@yes': True, 'a4@6-8': True, 'a4@9-11': True, 'a4@3-5': True, 'a3@45-49': True, 'a5@?': True, 'a4@15-17': True, 'class@yes': True, 'a8@?': True, 'a4@12-14': True, 'a4@24-26': True}\n",
            "classes_list []\n",
            "classes_dict {}\n",
            "attr_dict {'a1@30-39': 0, 'a1@40-49': 1, 'a1@50-59': 2, 'a1@60-69': 3, 'a1@70-79': 4, 'a2@ge40': 5, 'a2@lt40': 6, 'a2@premeno': 7, 'a3@0-4': 8, 'a3@10-14': 9, 'a3@15-19': 10, 'a3@20-24': 11, 'a3@25-29': 12, 'a3@30-34': 13, 'a3@35-39': 14, 'a3@40-44': 15, 'a3@45-49': 16, 'a3@5-9': 17, 'a3@50-54': 18, 'a4@0-2': 19, 'a4@12-14': 20, 'a4@15-17': 21, 'a4@24-26': 22, 'a4@3-5': 23, 'a4@6-8': 24, 'a4@9-11': 25, 'a5@?': 26, 'a5@no': 27, 'a5@yes': 28, 'a6@1': 29, 'a6@2': 30, 'a6@3': 31, 'a7@left': 32, 'a7@right': 33, 'a8@?': 34, 'a8@central': 35, 'a8@left_low': 36, 'a8@left_up': 37, 'a8@right_low': 38, 'a8@right_up': 39, 'a9@no': 40, 'a9@yes': 41, 'class@no': 42, 'class@yes': 43}\n",
            "X_train <__main__.RelationArray2D object at 0x7f9ef4755dd0>\n",
            "[[ 1.         -0.27849025 -0.27191799 ... -0.0216101  -0.02814054\n",
            "   0.02814054]\n",
            " [-0.27849025  1.         -0.48057207 ...  0.09428775 -0.02101382\n",
            "   0.02101382]\n",
            " [-0.27191799 -0.48057207  1.         ... -0.11197797  0.03289474\n",
            "  -0.03289474]\n",
            " ...\n",
            " [-0.0216101   0.09428775 -0.11197797 ...  1.         -0.17683217\n",
            "   0.17683217]\n",
            " [-0.02814054 -0.02101382  0.03289474 ... -0.17683217  1.\n",
            "  -1.        ]\n",
            " [ 0.02814054  0.02101382 -0.03289474 ...  0.17683217 -1.\n",
            "   1.        ]]\n",
            "{'a1@30-39': 0, 'a1@40-49': 1, 'a1@50-59': 2, 'a1@60-69': 3, 'a1@70-79': 4, 'a2@ge40': 5, 'a2@lt40': 6, 'a2@premeno': 7, 'a3@0-4': 8, 'a3@10-14': 9, 'a3@15-19': 10, 'a3@20-24': 11, 'a3@25-29': 12, 'a3@30-34': 13, 'a3@35-39': 14, 'a3@40-44': 15, 'a3@45-49': 16, 'a3@5-9': 17, 'a3@50-54': 18, 'a4@0-2': 19, 'a4@12-14': 20, 'a4@15-17': 21, 'a4@24-26': 22, 'a4@3-5': 23, 'a4@6-8': 24, 'a4@9-11': 25, 'a5@?': 26, 'a5@no': 27, 'a5@yes': 28, 'a6@1': 29, 'a6@2': 30, 'a6@3': 31, 'a7@left': 32, 'a7@right': 33, 'a8@?': 34, 'a8@central': 35, 'a8@left_low': 36, 'a8@left_up': 37, 'a8@right_low': 38, 'a8@right_up': 39, 'a9@no': 40, 'a9@yes': 41, 'class@no': 42, 'class@yes': 43}\n",
            "[[ 1.         -0.27849025 -0.27191799 ... -0.0216101  -0.02814054\n",
            "   0.02814054]\n",
            " [-0.27849025  1.         -0.48057207 ...  0.09428775 -0.02101382\n",
            "   0.02101382]\n",
            " [-0.27191799 -0.48057207  1.         ... -0.11197797  0.03289474\n",
            "  -0.03289474]\n",
            " ...\n",
            " [-0.0216101   0.09428775 -0.11197797 ...  1.         -0.17683217\n",
            "   0.17683217]\n",
            " [-0.02814054 -0.02101382  0.03289474 ... -0.17683217  1.\n",
            "  -1.        ]\n",
            " [ 0.02814054  0.02101382 -0.03289474 ...  0.17683217 -1.\n",
            "   1.        ]]\n",
            "<class '__main__.RelationArray2D'>\n",
            "items_relationship a <__main__.RelationArray2D object at 0x7f9ef3403e90>\n",
            "item_names in static method ['a1@30-39', 'a1@40-49', 'a1@50-59', 'a1@60-69', 'a1@70-79', 'a2@ge40', 'a2@lt40', 'a2@premeno', 'a3@0-4', 'a3@10-14', 'a3@15-19', 'a3@20-24', 'a3@25-29', 'a3@30-34', 'a3@35-39', 'a3@40-44', 'a3@45-49', 'a3@5-9', 'a3@50-54', 'a4@0-2', 'a4@12-14', 'a4@15-17', 'a4@24-26', 'a4@3-5', 'a4@6-8', 'a4@9-11', 'a5@?', 'a5@no', 'a5@yes', 'a6@1', 'a6@2', 'a6@3', 'a7@left', 'a7@right', 'a8@?', 'a8@central', 'a8@left_low', 'a8@left_up', 'a8@right_low', 'a8@right_up', 'a9@no', 'a9@yes', 'class@no', 'class@yes']\n",
            "in static method i  0\n",
            "[ 1.         -0.27849025 -0.27191799 -0.19130667 -0.06508385 -0.35546859\n",
            "  0.01603902  0.34810473  0.07264576 -0.0299122   0.02872773 -0.03515464\n",
            " -0.06026022  0.00535876  0.07458604  0.03677423 -0.05014486  0.18275888\n",
            " -0.06508385 -0.05159894 -0.04083465 -0.05014486 -0.02879837 -0.01229922\n",
            "  0.08597946  0.10356626 -0.05805691  0.03119564 -0.01169955 -0.10559409\n",
            "  0.09623905 -0.00103803  0.00352532 -0.00352532 -0.02879837  0.09847379\n",
            " -0.01499206 -0.09581185  0.1488993  -0.01229922  0.0216101  -0.0216101\n",
            " -0.02814054  0.02814054]\n",
            "in static method i  1\n",
            "[-2.78490248e-01  1.00000000e+00 -4.80572075e-01 -3.38104298e-01\n",
            " -1.15025418e-01 -4.26565983e-01 -1.26344125e-01  4.68577480e-01\n",
            "  9.37810701e-04  2.72716712e-02 -1.50066335e-01  3.20513333e-02\n",
            "  9.17605890e-02  2.17763081e-02  3.14834250e-02 -6.28585026e-02\n",
            "  9.37810701e-04 -5.08965669e-02 -4.52798471e-02  2.13714125e-02\n",
            "  1.46628640e-01  1.80059655e-01 -5.08965669e-02 -6.43786654e-02\n",
            " -8.98626464e-02  1.33697486e-03 -1.02606408e-01  3.15477285e-02\n",
            "  3.76048613e-03 -5.38341041e-02  5.89683265e-02 -1.11043832e-02\n",
            " -1.48317116e-01  1.48317116e-01 -5.08965669e-02 -1.73430462e-01\n",
            " -7.71385816e-02  1.45896451e-01  9.37070377e-02 -3.07821488e-02\n",
            " -9.42877478e-02  9.42877478e-02 -2.10138169e-02  2.10138169e-02]\n",
            "in static method i  2\n",
            "[-0.27191799 -0.48057207  1.         -0.33012517 -0.11231086  0.22264894\n",
            "  0.06977057 -0.24591281  0.0037828  -0.04007306  0.00965929 -0.01428137\n",
            "  0.04338925 -0.01970727 -0.00676986  0.02250561 -0.08653164 -0.04969543\n",
            "  0.09868627  0.00853916 -0.07046563 -0.08653164 -0.04969543  0.07911055\n",
            "  0.00775347 -0.05898478  0.05666197 -0.03406542  0.0151685   0.03513468\n",
            " -0.05803445  0.02812177  0.09959213 -0.09959213  0.10590829  0.02347004\n",
            "  0.0322417  -0.02546852 -0.13108214  0.04523137  0.11197797 -0.11197797\n",
            "  0.03289474 -0.03289474]\n",
            "in static method i  3\n",
            "[-0.19130667 -0.3381043  -0.33012517  1.         -0.0790158   0.48430706\n",
            "  0.06670056 -0.50520159 -0.06087894  0.01873406  0.11946837  0.00734767\n",
            " -0.07860737  0.02869551 -0.07708697 -0.05661241  0.15445213 -0.03496299\n",
            "  0.00482874  0.00145424 -0.04957577 -0.06087894  0.15053511  0.01924245\n",
            "  0.04072723 -0.08679109  0.02300541 -0.02869551  0.02156009  0.06613375\n",
            " -0.05639842 -0.00348897  0.04763076 -0.04763076 -0.03496299  0.05325049\n",
            "  0.09516108 -0.06868183 -0.06961179 -0.02114555 -0.04148123  0.04148123\n",
            " -0.01042781  0.01042781]\n",
            "in static method i  4\n",
            "[-0.06508385 -0.11502542 -0.11231086 -0.0790158   1.          0.18309311\n",
            " -0.02952693 -0.17187307 -0.02071144  0.05506666  0.05934998  0.00482874\n",
            " -0.07493021 -0.0883755  -0.04430882  0.17906714 -0.02071144 -0.01189465\n",
            " -0.02688172  0.01939394 -0.01686602 -0.02071144 -0.01189465 -0.06215498\n",
            " -0.04245146  0.15846119  0.20502359  0.00986517 -0.08304989  0.12072405\n",
            " -0.07272744 -0.03864372  0.02168223 -0.02168223 -0.01189465  0.10022241\n",
            " -0.06789886  0.01877305 -0.04245146  0.03677503  0.00585395 -0.00585395\n",
            "  0.05180513 -0.05180513]\n",
            "in static method i  5\n",
            "[-0.35546859 -0.42656598  0.22264894  0.48430706  0.18309311  1.\n",
            " -0.16126729 -0.93871949 -0.02839083 -0.05123201  0.07174009  0.10718502\n",
            " -0.15844623 -0.0286571  -0.03285089  0.1270698   0.05633805 -0.06496504\n",
            " -0.01485472 -0.03980094  0.01137918 -0.02839083  0.08101523  0.04193477\n",
            "  0.07205759 -0.10087111  0.01617842  0.00343357 -0.00930449  0.02032228\n",
            " -0.16232961  0.15375898  0.07618364 -0.07618364  0.08101523  0.09517679\n",
            "  0.03721927 -0.03038869 -0.10160802 -0.02163302  0.03197253 -0.03197253\n",
            "  0.04010688 -0.04010688]\n",
            "in static method i  6\n",
            "[ 0.01603902 -0.12634412  0.06977057  0.06670056 -0.02952693 -0.16126729\n",
            "  1.         -0.18878569 -0.02274948  0.04042855  0.14737702  0.06670056\n",
            " -0.08230348 -0.02520857 -0.04866889 -0.05629108 -0.02274948 -0.01306511\n",
            " -0.02952693  0.10433796 -0.01852567 -0.02274948 -0.01306511 -0.06827114\n",
            " -0.04662876 -0.03243243  0.39288979 -0.04665467 -0.09122214  0.15957611\n",
            " -0.09205129 -0.05543871  0.10805318 -0.10805318 -0.01306511 -0.04451946\n",
            "  0.03556016 -0.00462636 -0.04662876  0.02228294  0.09415341 -0.09415341\n",
            "  0.00658598 -0.00658598]\n",
            "in static method i  7\n",
            "[ 0.34810473  0.46857748 -0.24591281 -0.50520159 -0.17187307 -0.93871949\n",
            " -0.18878569  1.          0.03619542  0.03685822 -0.12285639 -0.12994907\n",
            "  0.18640554  0.03731922  0.04968582 -0.10678002 -0.04811342  0.06920602\n",
            "  0.02509347  0.00316323 -0.00485262  0.03619542 -0.07605058 -0.01788295\n",
            " -0.05541512  0.1116982  -0.15331636  0.01287776  0.04111802 -0.07595405\n",
            "  0.19367412 -0.13363458 -0.11354393  0.11354393 -0.07605058 -0.07915639\n",
            " -0.04945427  0.03185381  0.11738957  0.01374338 -0.06469744  0.06469744\n",
            " -0.04220823  0.04220823]\n",
            "in static method i  8\n",
            "[ 7.26457556e-02  9.37810701e-04  3.78280402e-03 -6.08789431e-02\n",
            " -2.07114370e-02 -2.83908259e-02 -2.27494795e-02  3.61954187e-02\n",
            "  1.00000000e+00 -4.19850118e-02 -4.07469310e-02 -6.08789431e-02\n",
            " -5.77311394e-02 -6.80902726e-02 -3.41384169e-02 -3.94849452e-02\n",
            " -1.59574468e-02 -9.16441827e-03 -2.07114370e-02  7.31870602e-02\n",
            " -1.29946863e-02 -1.59574468e-02 -9.16441827e-03 -4.78882634e-02\n",
            " -3.27073840e-02 -2.27494795e-02 -1.84752743e-02  6.80902726e-02\n",
            " -6.39870683e-02  1.73348234e-02  6.34515608e-02 -8.44541009e-02\n",
            " -1.35234278e-01  1.35234278e-01 -9.16441827e-03  3.30257949e-01\n",
            " -1.03818474e-01 -9.17906962e-02  1.40823459e-01 -4.78882634e-02\n",
            "  6.60431838e-02 -6.60431838e-02  4.61968330e-03 -4.61968330e-03]\n",
            "in static method i  9\n",
            "[-0.0299122   0.02727167 -0.04007306  0.01873406  0.05506666 -0.05123201\n",
            "  0.04042855  0.03685822 -0.04198501  1.         -0.10720765 -0.1601762\n",
            " -0.15189413 -0.17914964 -0.08982025 -0.10388729 -0.04198501 -0.02411214\n",
            " -0.05449305  0.15223188 -0.03418981 -0.04198501 -0.02411214 -0.0732219\n",
            " -0.08605511 -0.05985526 -0.04860957  0.17914964 -0.16835386  0.26830422\n",
            " -0.03397063 -0.22220387  0.02992619 -0.02992619 -0.02411214 -0.00707618\n",
            " -0.02352511  0.05276945  0.05812495 -0.0732219   0.17376363 -0.17376363\n",
            "  0.24430881 -0.24430881]\n",
            "in static method i  10\n",
            "[ 0.02872773 -0.15006634  0.00965929  0.11946837  0.05934998  0.07174009\n",
            "  0.14737702 -0.12285639 -0.04074693 -0.10720765  1.         -0.15545282\n",
            " -0.14741498 -0.17386676 -0.08717157 -0.10082379 -0.04074693 -0.02340111\n",
            " -0.05288612  0.10425553 -0.0331816   0.10337647 -0.02340111 -0.12228145\n",
            " -0.08351747  0.0446434   0.07797167  0.04515145 -0.07447947  0.04426403\n",
            "  0.05305648 -0.0992971  -0.05792904  0.05792904 -0.02340111  0.07410132\n",
            "  0.10022457 -0.04596949 -0.08351747 -0.0682172   0.08134917 -0.08134917\n",
            "  0.04934762 -0.04934762]\n",
            "in static method i  11\n",
            "[-0.03515464  0.03205133 -0.01428137  0.00734767  0.00482874  0.10718502\n",
            "  0.06670056 -0.12994907 -0.06087894 -0.1601762  -0.15545282  1.\n",
            " -0.22024894 -0.25976987 -0.13024081 -0.15063824 -0.06087894 -0.03496299\n",
            " -0.0790158  -0.06027026 -0.04957577 -0.06087894  0.15053511  0.22118248\n",
            " -0.1247813  -0.08679109  0.11649548 -0.02869551 -0.0116494  -0.05416669\n",
            "  0.07927032 -0.03246263  0.04763076 -0.04763076 -0.03496299 -0.0042119\n",
            " -0.01400268  0.10022241 -0.01444228 -0.10192156  0.12154171 -0.12154171\n",
            " -0.01042781  0.01042781]\n",
            "in static method i  12\n",
            "[-0.06026022  0.09176059  0.04338925 -0.07860737 -0.07493021 -0.15844623\n",
            " -0.08230348  0.18640554 -0.05773114 -0.15189413 -0.14741498 -0.22024894\n",
            "  1.         -0.24633822 -0.12350658 -0.14284935 -0.05773114 -0.0331552\n",
            " -0.07493021  0.00936082  0.08903866 -0.05773114 -0.0331552  -0.04790653\n",
            "  0.05288964 -0.00290972  0.02987554  0.01423519 -0.02536177 -0.09284965\n",
            "  0.03306667  0.05414029  0.01046531 -0.01046531 -0.0331552  -0.1129766\n",
            "  0.04789186 -0.04086225  0.10996264 -0.00612504 -0.19955167  0.19955167\n",
            " -0.09936741  0.09936741]\n",
            "in static method i  13\n",
            "[ 0.00535876  0.02177631 -0.01970727  0.02869551 -0.0883755  -0.0286571\n",
            " -0.02520857  0.03731922 -0.06809027 -0.17914964 -0.17386676 -0.25976987\n",
            " -0.24633822  1.         -0.1456683  -0.16848188 -0.06809027 -0.03910448\n",
            " -0.0883755  -0.09229456  0.06769839  0.03272556 -0.03910448  0.0225723\n",
            "  0.11873597 -0.02520857 -0.07883382 -0.03959774  0.0690314  -0.01990488\n",
            " -0.12730351  0.15511171  0.05117872 -0.05117872  0.13459218  0.028171\n",
            " -0.08522687 -0.0226335  -0.03624287  0.13602784  0.00703315 -0.00703315\n",
            " -0.10286989  0.10286989]\n",
            "in static method i  14\n",
            "[ 0.07458604  0.03148342 -0.00676986 -0.07708697 -0.04430882 -0.03285089\n",
            " -0.04866889  0.04968582 -0.03413842 -0.08982025 -0.08717157 -0.13024081\n",
            " -0.12350658 -0.1456683   1.         -0.08447175 -0.03413842 -0.01960581\n",
            " -0.04430882  0.01279676 -0.02780006 -0.03413842 -0.01960581 -0.10244932\n",
            "  0.0156989   0.18968388 -0.03952491 -0.0534204   0.06939007 -0.07188803\n",
            " -0.06088649  0.13427038  0.08574638 -0.08574638 -0.01960581 -0.06680697\n",
            "  0.07455209  0.02220052 -0.06997224 -0.03973195  0.04002743 -0.04002743\n",
            " -0.06271953  0.06271953]\n",
            "in static method i  15\n",
            "[ 0.03677423 -0.0628585   0.02250561 -0.05661241  0.17906714  0.1270698\n",
            " -0.05629108 -0.10678002 -0.03948495 -0.10388729 -0.10082379 -0.15063824\n",
            " -0.14284935 -0.16848188 -0.08447175  1.         -0.03948495 -0.02267634\n",
            " -0.05124817 -0.11562454 -0.03215392  0.10839005 -0.02267634  0.10339203\n",
            "  0.07061611 -0.05629108 -0.04571503 -0.09564977  0.11534372 -0.02595213\n",
            " -0.04175497  0.06958801 -0.07661192  0.07661192 -0.02267634 -0.07726982\n",
            "  0.0429781  -0.03380574 -0.08093082  0.10339203 -0.10527123  0.10527123\n",
            "  0.0371168  -0.0371168 ]\n",
            "in static method i  16\n",
            "[-5.01448579e-02  9.37810701e-04 -8.65316418e-02  1.54452133e-01\n",
            " -2.07114370e-02  5.63380451e-02 -2.27494795e-02 -4.81134224e-02\n",
            " -1.59574468e-02 -4.19850118e-02 -4.07469310e-02 -6.08789431e-02\n",
            " -5.77311394e-02 -6.80902726e-02 -3.41384169e-02 -3.94849452e-02\n",
            "  1.00000000e+00 -9.16441827e-03 -2.07114370e-02 -2.38874433e-02\n",
            " -1.29946863e-02 -1.59574468e-02 -9.16441827e-03 -4.78882634e-02\n",
            "  1.40823459e-01 -2.27494795e-02 -1.84752743e-02 -3.27255574e-02\n",
            "  4.04704534e-02  1.73348234e-02 -2.18952569e-02  6.67998538e-03\n",
            "  3.35875983e-02 -3.35875983e-02 -9.16441827e-03  1.49515060e-01\n",
            " -1.79772249e-02 -9.17906962e-02 -3.27073840e-02  7.91486575e-02\n",
            " -1.39066542e-01  1.39066542e-01  4.61968330e-03 -4.61968330e-03]\n",
            "in static method i  17\n",
            "[ 0.18275888 -0.05089657 -0.04969543 -0.03496299 -0.01189465 -0.06496504\n",
            " -0.01306511  0.06920602 -0.00916442 -0.02411214 -0.02340111 -0.03496299\n",
            " -0.0331552  -0.03910448 -0.01960581 -0.02267634 -0.00916442  1.\n",
            " -0.01189465  0.04203159 -0.00746289 -0.00916442 -0.00526316 -0.0275024\n",
            " -0.01878397 -0.01306511 -0.01061042  0.03910448 -0.036748   -0.04437287\n",
            "  0.08545544 -0.04850229  0.06776698 -0.06776698 -0.00526316 -0.01793425\n",
            " -0.05962332 -0.05271572  0.28019417 -0.0275024   0.03792883 -0.03792883\n",
            "  0.05332732 -0.05332732]\n",
            "in static method i  18\n",
            "[-0.06508385 -0.04527985  0.09868627  0.00482874 -0.02688172 -0.01485472\n",
            " -0.02952693  0.02509347 -0.02071144 -0.05449305 -0.05288612 -0.0790158\n",
            " -0.07493021 -0.0883755  -0.04430882 -0.05124817 -0.02071144 -0.01189465\n",
            "  1.          0.01939394 -0.01686602 -0.02071144 -0.01189465 -0.06215498\n",
            " -0.04245146  0.15846119 -0.02397937 -0.06864516  0.07964271 -0.02661329\n",
            "  0.12666407 -0.10961439 -0.17552283  0.17552283 -0.01189465 -0.04053112\n",
            " -0.06789886  0.08772792 -0.04245146  0.03677503 -0.15387526  0.15387526\n",
            " -0.01690862  0.01690862]\n",
            "in static method i  19\n",
            "[-5.15989362e-02  2.13714125e-02  8.53916329e-03  1.45424230e-03\n",
            "  1.93939365e-02 -3.98009378e-02  1.04337965e-01  3.16322930e-03\n",
            "  7.31870602e-02  1.52231877e-01  1.04255529e-01 -6.02702642e-02\n",
            "  9.36081961e-03 -9.22945618e-02  1.27967552e-02 -1.15624535e-01\n",
            " -2.38874433e-02  4.20315881e-02  1.93939365e-02  1.00000000e+00\n",
            " -1.77554423e-01 -2.18036450e-01 -1.25219106e-01 -6.54326916e-01\n",
            " -4.46901186e-01 -3.10840187e-01 -8.38521427e-02  6.70270342e-01\n",
            " -6.64696086e-01  2.73011898e-01 -2.19028682e-02 -2.39625203e-01\n",
            " -8.86776781e-03  8.86776781e-03  4.20315881e-02 -1.22065035e-02\n",
            " -8.97938003e-02  4.02649363e-02  7.81295780e-04  7.39740219e-02\n",
            "  3.43840455e-01 -3.43840455e-01  2.57032863e-01 -2.57032863e-01]\n",
            "in static method i  20\n",
            "[-0.04083465  0.14662864 -0.07046563 -0.04957577 -0.01686602  0.01137918\n",
            " -0.01852567 -0.00485262 -0.01299469 -0.03418981 -0.0331816  -0.04957577\n",
            "  0.08903866  0.06769839 -0.02780006 -0.03215392 -0.01299469 -0.00746289\n",
            " -0.01686602 -0.17755442  1.         -0.01299469 -0.00746289 -0.03899703\n",
            " -0.02663472 -0.01852567 -0.01504504 -0.19084497  0.20308301 -0.0629185\n",
            " -0.08733083  0.15386685  0.09609018 -0.09609018 -0.00746289 -0.02542987\n",
            " -0.08454288  0.0334102   0.18533329 -0.03899703 -0.19676045  0.19676045\n",
            " -0.13994505  0.13994505]\n",
            "in static method i  21\n",
            "[-0.05014486  0.18005965 -0.08653164 -0.06087894 -0.02071144 -0.02839083\n",
            " -0.02274948  0.03619542 -0.01595745 -0.04198501  0.10337647 -0.06087894\n",
            " -0.05773114  0.03272556 -0.03413842  0.10839005 -0.01595745 -0.00916442\n",
            " -0.02071144 -0.21803645 -0.01299469  1.         -0.00916442 -0.04788826\n",
            " -0.03270738 -0.02274948 -0.01847527 -0.23435722  0.2493855  -0.07726378\n",
            " -0.02189526  0.09781407  0.0335876  -0.0335876  -0.00916442 -0.03122783\n",
            "  0.06786402 -0.00324513 -0.03270738 -0.04788826 -0.03651168  0.03651168\n",
            " -0.08361627  0.08361627]\n",
            "in static method i  22\n",
            "[-0.02879837 -0.05089657 -0.04969543  0.15053511 -0.01189465  0.08101523\n",
            " -0.01306511 -0.07605058 -0.00916442 -0.02411214 -0.02340111  0.15053511\n",
            " -0.0331552  -0.03910448 -0.01960581 -0.02267634 -0.00916442 -0.00526316\n",
            " -0.01189465 -0.12521911 -0.00746289 -0.00916442  1.         -0.0275024\n",
            " -0.01878397 -0.01306511 -0.01061042 -0.13459218  0.14322297 -0.04437287\n",
            " -0.0615895   0.1085136   0.06776698 -0.06776698 -0.00526316 -0.01793425\n",
            "  0.08827348 -0.05271572 -0.01878397 -0.0275024  -0.13876403  0.13876403\n",
            " -0.09869534  0.09869534]\n",
            "in static method i  23\n",
            "[-0.01229922 -0.06437867  0.07911055  0.01924245 -0.06215498  0.04193477\n",
            " -0.06827114 -0.01788295 -0.04788826 -0.0732219  -0.12228145  0.22118248\n",
            " -0.04790653  0.0225723  -0.10244932  0.10339203 -0.04788826 -0.0275024\n",
            " -0.06215498 -0.65432692 -0.03899703 -0.04788826 -0.0275024   1.\n",
            " -0.09815479 -0.06827114  0.05486671 -0.28730188  0.27819014 -0.16089589\n",
            "  0.09437089  0.05423327 -0.05752684  0.05752684 -0.0275024   0.04188761\n",
            "  0.13925744 -0.07616988 -0.09815479 -0.04840319 -0.1865132   0.1865132\n",
            " -0.05233532  0.05233532]\n",
            "in static method i  24\n",
            "[ 0.08597946 -0.08986265  0.00775347  0.04072723 -0.04245146  0.07205759\n",
            " -0.04662876 -0.05541512 -0.03270738 -0.08605511 -0.08351747 -0.1247813\n",
            "  0.05288964  0.11873597  0.0156989   0.07061611  0.14082346 -0.01878397\n",
            " -0.04245146 -0.44690119 -0.02663472 -0.03270738 -0.01878397 -0.09815479\n",
            "  1.         -0.04662876 -0.03786808 -0.37703403  0.40410481 -0.1583647\n",
            " -0.04487789  0.20048586  0.06884325 -0.06884325 -0.01878397  0.02860897\n",
            " -0.03684725 -0.05202355  0.11080074  0.03203663 -0.12738735  0.12738735\n",
            " -0.12617166  0.12617166]\n",
            "in static method i  25\n",
            "[ 0.10356626  0.00133697 -0.05898478 -0.08679109  0.15846119 -0.10087111\n",
            " -0.03243243  0.1116982  -0.02274948 -0.05985526  0.0446434  -0.08679109\n",
            " -0.00290972 -0.02520857  0.18968388 -0.05629108 -0.02274948 -0.01306511\n",
            "  0.15846119 -0.31084019 -0.01852567 -0.02274948 -0.01306511 -0.06827114\n",
            " -0.04662876  1.          0.1832754  -0.26224439  0.20661426 -0.04271838\n",
            "  0.02962204  0.00952321 -0.07245548  0.07245548 -0.01306511 -0.04451946\n",
            " -0.02562894  0.12160722 -0.04662876 -0.06827114 -0.12515514  0.12515514\n",
            " -0.18210229  0.18210229]\n",
            "in static method i  26\n",
            "[-0.05805691 -0.10260641  0.05666197  0.02300541  0.20502359  0.01617842\n",
            "  0.39288979 -0.15331636 -0.01847527 -0.04860957  0.07797167  0.11649548\n",
            "  0.02987554 -0.07883382 -0.03952491 -0.04571503 -0.01847527 -0.01061042\n",
            " -0.02397937 -0.08385214 -0.01504504 -0.01847527 -0.01061042  0.05486671\n",
            " -0.03786808  0.1832754   1.         -0.271335   -0.07408319  0.23911946\n",
            " -0.12416314 -0.09777959  0.06331958 -0.06331958 -0.01061042 -0.03615508\n",
            "  0.10341827 -0.02938631 -0.03786808 -0.05544426 -0.10164081  0.10164081\n",
            " -0.1223491   0.1223491 ]\n",
            "in static method i  27\n",
            "[ 3.11956381e-02  3.15477285e-02 -3.40654152e-02 -2.86955085e-02\n",
            "  9.86517246e-03  3.43356969e-03 -4.66546688e-02  1.28777590e-02\n",
            "  6.80902726e-02  1.79149643e-01  4.51514465e-02 -2.86955085e-02\n",
            "  1.42351895e-02 -3.95977373e-02 -5.34203954e-02 -9.56497692e-02\n",
            " -3.27255574e-02  3.91044849e-02 -6.86451584e-02  6.70270342e-01\n",
            " -1.90844973e-01 -2.34357217e-01 -1.34592181e-01 -2.87301882e-01\n",
            " -3.77034030e-01 -2.62244388e-01 -2.71335003e-01  1.00000000e+00\n",
            " -9.39738759e-01  2.17036937e-01  2.66047037e-04 -2.09372398e-01\n",
            " -2.60498373e-02  2.60498373e-02  3.91044849e-02  2.56356133e-02\n",
            " -1.69918571e-02 -3.72624756e-03 -1.54167430e-02  1.52462060e-02\n",
            "  2.98269603e-01 -2.98269603e-01  2.60475359e-01 -2.60475359e-01]\n",
            "in static method i  28\n",
            "[-0.01169955  0.00376049  0.0151685   0.02156009 -0.08304989 -0.00930449\n",
            " -0.09122214  0.04111802 -0.06398707 -0.16835386 -0.07447947 -0.0116494\n",
            " -0.02536177  0.0690314   0.06939007  0.11534372  0.04047045 -0.036748\n",
            "  0.07964271 -0.66469609  0.20308301  0.2493855   0.14322297  0.27819014\n",
            "  0.40410481  0.20661426 -0.07408319 -0.93973876  1.         -0.30981667\n",
            "  0.0438295   0.2516686   0.00449847 -0.00449847 -0.036748   -0.01371864\n",
            " -0.01913054  0.01429944  0.02942511  0.00389794 -0.27293897  0.27293897\n",
            " -0.22642353  0.22642353]\n",
            "in static method i  29\n",
            "[-1.05594089e-01 -5.38341041e-02  3.51346775e-02  6.61337454e-02\n",
            "  1.20724049e-01  2.03222777e-02  1.59576110e-01 -7.59540514e-02\n",
            "  1.73348234e-02  2.68304215e-01  4.42640266e-02 -5.41666867e-02\n",
            " -9.28496499e-02 -1.99048822e-02 -7.18880298e-02 -2.59521349e-02\n",
            "  1.73348234e-02 -4.43728651e-02 -2.66132887e-02  2.73011898e-01\n",
            " -6.29185010e-02 -7.72637841e-02 -4.43728651e-02 -1.60895895e-01\n",
            " -1.58364699e-01 -4.27183834e-02  2.39119460e-01  2.17036937e-01\n",
            " -3.09816670e-01  1.00000000e+00 -5.19251519e-01 -4.08915254e-01\n",
            " -1.12464179e-01  1.12464179e-01 -4.43728651e-02  5.07527480e-02\n",
            "  8.78802290e-04 -2.39571792e-02 -1.29432687e-02  1.65354904e-02\n",
            "  1.76534598e-01 -1.76534598e-01  1.78469852e-01 -1.78469852e-01]\n",
            "in static method i  30\n",
            "[ 9.62390475e-02  5.89683265e-02 -5.80344516e-02 -5.63984183e-02\n",
            " -7.27274447e-02 -1.62329607e-01 -9.20512882e-02  1.93674120e-01\n",
            "  6.34515608e-02 -3.39706286e-02  5.30564779e-02  7.92703210e-02\n",
            "  3.30666746e-02 -1.27303507e-01 -6.08864877e-02 -4.17549728e-02\n",
            " -2.18952569e-02  8.54554362e-02  1.26664066e-01 -2.19028682e-02\n",
            " -8.73308324e-02 -2.18952569e-02 -6.15895036e-02  9.43708910e-02\n",
            " -4.48778921e-02  2.96220408e-02 -1.24163143e-01  2.66047037e-04\n",
            "  4.38295024e-02 -5.19251519e-01  1.00000000e+00 -5.67574068e-01\n",
            " -3.66432787e-02  3.66432787e-02 -6.15895036e-02 -2.76642507e-02\n",
            " -5.43671999e-03  5.25749728e-02 -1.14484419e-03 -3.36919167e-02\n",
            " -9.89175466e-02  9.89175466e-02  1.57056973e-01 -1.57056973e-01]\n",
            "in static method i  31\n",
            "[-0.00103803 -0.01110438  0.02812177 -0.00348897 -0.03864372  0.15375898\n",
            " -0.05543871 -0.13363458 -0.0844541  -0.22220387 -0.0992971  -0.03246263\n",
            "  0.05414029  0.15511171  0.13427038  0.06958801  0.00667999 -0.04850229\n",
            " -0.10961439 -0.2396252   0.15386685  0.09781407  0.1085136   0.05423327\n",
            "  0.20048586  0.00952321 -0.09777959 -0.2093724   0.2516686  -0.40891525\n",
            " -0.56757407  1.          0.14747338 -0.14747338  0.1085136  -0.01935388\n",
            "  0.00495876 -0.03306023  0.01369172  0.02004662 -0.06444427  0.06444427\n",
            " -0.33964051  0.33964051]\n",
            "in static method i  32\n",
            "[ 0.00352532 -0.14831712  0.09959213  0.04763076  0.02168223  0.07618364\n",
            "  0.10805318 -0.11354393 -0.13523428  0.02992619 -0.05792904  0.04763076\n",
            "  0.01046531  0.05117872  0.08574638 -0.07661192  0.0335876   0.06776698\n",
            " -0.17552283 -0.00886777  0.09609018  0.0335876   0.06776698 -0.05752684\n",
            "  0.06884325 -0.07245548  0.06331958 -0.02604984  0.00449847 -0.11246418\n",
            " -0.03664328  0.14747338  1.         -1.          0.06776698 -0.03939025\n",
            "  0.29697292 -0.22613551  0.06884325 -0.15252073  0.02288566 -0.02288566\n",
            " -0.07081606  0.07081606]\n",
            "in static method i  33\n",
            "[-0.00352532  0.14831712 -0.09959213 -0.04763076 -0.02168223 -0.07618364\n",
            " -0.10805318  0.11354393  0.13523428 -0.02992619  0.05792904 -0.04763076\n",
            " -0.01046531 -0.05117872 -0.08574638  0.07661192 -0.0335876  -0.06776698\n",
            "  0.17552283  0.00886777 -0.09609018 -0.0335876  -0.06776698  0.05752684\n",
            " -0.06884325  0.07245548 -0.06331958  0.02604984 -0.00449847  0.11246418\n",
            "  0.03664328 -0.14747338 -1.          1.         -0.06776698  0.03939025\n",
            " -0.29697292  0.22613551 -0.06884325  0.15252073 -0.02288566  0.02288566\n",
            "  0.07081606 -0.07081606]\n",
            "in static method i  34\n",
            "[-0.02879837 -0.05089657  0.10590829 -0.03496299 -0.01189465  0.08101523\n",
            " -0.01306511 -0.07605058 -0.00916442 -0.02411214 -0.02340111 -0.03496299\n",
            " -0.0331552   0.13459218 -0.01960581 -0.02267634 -0.00916442 -0.00526316\n",
            " -0.01189465  0.04203159 -0.00746289 -0.00916442 -0.00526316 -0.0275024\n",
            " -0.01878397 -0.01306511 -0.01061042  0.03910448 -0.036748   -0.04437287\n",
            " -0.0615895   0.1085136   0.06776698 -0.06776698  1.         -0.01793425\n",
            " -0.05962332 -0.05271572 -0.01878397 -0.0275024   0.03792883 -0.03792883\n",
            " -0.09869534  0.09869534]\n",
            "in static method i  35\n",
            "[ 0.09847379 -0.17343046  0.02347004  0.05325049  0.10022241  0.09517679\n",
            " -0.04451946 -0.07915639  0.33025795 -0.00707618  0.07410132 -0.0042119\n",
            " -0.1129766   0.028171   -0.06680697 -0.07726982  0.14951506 -0.01793425\n",
            " -0.04053112 -0.0122065  -0.02542987 -0.03122783 -0.01793425  0.04188761\n",
            "  0.02860897 -0.04451946 -0.03615508  0.02563561 -0.01371864  0.05075275\n",
            " -0.02766425 -0.01935388 -0.03939025  0.03939025 -0.01793425  1.\n",
            " -0.20316693 -0.17962925 -0.06400652 -0.09371465  0.07450805 -0.07450805\n",
            "  0.04043552 -0.04043552]\n",
            "in static method i  36\n",
            "[-1.49920628e-02 -7.71385816e-02  3.22416974e-02  9.51610754e-02\n",
            " -6.78988576e-02  3.72192665e-02  3.55601596e-02 -4.94542688e-02\n",
            " -1.03818474e-01 -2.35251138e-02  1.00224568e-01 -1.40026808e-02\n",
            "  4.78918605e-02 -8.52268738e-02  7.45520881e-02  4.29781029e-02\n",
            " -1.79772249e-02 -5.96233174e-02 -6.78988576e-02 -8.97938003e-02\n",
            " -8.45428789e-02  6.78640239e-02  8.82734830e-02  1.39257439e-01\n",
            " -3.68472479e-02 -2.56289438e-02  1.03418274e-01 -1.69918571e-02\n",
            " -1.91305387e-02  8.78802290e-04 -5.43671999e-03  4.95876009e-03\n",
            "  2.96972921e-01 -2.96972921e-01 -5.96233174e-02 -2.03166934e-01\n",
            "  1.00000000e+00 -5.97186385e-01 -2.12792856e-01 -3.11559015e-01\n",
            " -3.82446749e-02  3.82446749e-02 -1.11595548e-01  1.11595548e-01]\n",
            "in static method i  37\n",
            "[-0.09581185  0.14589645 -0.02546852 -0.06868183  0.01877305 -0.03038869\n",
            " -0.00462636  0.03185381 -0.0917907   0.05276945 -0.04596949  0.10022241\n",
            " -0.04086225 -0.0226335   0.02220052 -0.03380574 -0.0917907  -0.05271572\n",
            "  0.08772792  0.04026494  0.0334102  -0.00324513 -0.05271572 -0.07616988\n",
            " -0.05202355  0.12160722 -0.02938631 -0.00372625  0.01429944 -0.02395718\n",
            "  0.05257497 -0.03306023 -0.22613551  0.22613551 -0.05271572 -0.17962925\n",
            " -0.59718639  1.         -0.18813997 -0.27546368 -0.02232197  0.02232197\n",
            "  0.11885566 -0.11885566]\n",
            "in static method i  38\n",
            "[ 1.48899298e-01  9.37070377e-02 -1.31082143e-01 -6.96117905e-02\n",
            " -4.24514606e-02 -1.01608020e-01 -4.66287602e-02  1.17389573e-01\n",
            "  1.40823459e-01  5.81249455e-02 -8.35174659e-02 -1.44422802e-02\n",
            "  1.09962642e-01 -3.62428694e-02 -6.99722409e-02 -8.09308206e-02\n",
            " -3.27073840e-02  2.80194168e-01 -4.24514606e-02  7.81295780e-04\n",
            "  1.85333289e-01 -3.27073840e-02 -1.87839666e-02 -9.81547888e-02\n",
            "  1.10800745e-01 -4.66287602e-02 -3.78680812e-02 -1.54167430e-02\n",
            "  2.94251078e-02 -1.29432687e-02 -1.14484419e-03  1.36917171e-02\n",
            "  6.88432486e-02 -6.88432486e-02 -1.87839666e-02 -6.40065174e-02\n",
            " -2.12792856e-01 -1.88139969e-01  1.00000000e+00 -9.81547888e-02\n",
            " -2.22859074e-02  2.22859074e-02  9.46879270e-03 -9.46879270e-03]\n",
            "in static method i  39\n",
            "[-0.01229922 -0.03078215  0.04523137 -0.02114555  0.03677503 -0.02163302\n",
            "  0.02228294  0.01374338 -0.04788826 -0.0732219  -0.0682172  -0.10192156\n",
            " -0.00612504  0.13602784 -0.03973195  0.10339203  0.07914866 -0.0275024\n",
            "  0.03677503  0.07397402 -0.03899703 -0.04788826 -0.0275024  -0.04840319\n",
            "  0.03203663 -0.06827114 -0.05544426  0.01524621  0.00389794  0.01653549\n",
            " -0.03369192  0.02004662 -0.15252073  0.15252073 -0.0275024  -0.09371465\n",
            " -0.31155902 -0.27546368 -0.09815479  1.          0.04431199 -0.04431199\n",
            " -0.01923583  0.01923583]\n",
            "in static method i  40\n",
            "[ 0.0216101  -0.09428775  0.11197797 -0.04148123  0.00585395  0.03197253\n",
            "  0.09415341 -0.06469744  0.06604318  0.17376363  0.08134917  0.12154171\n",
            " -0.19955167  0.00703315  0.04002743 -0.10527123 -0.13906654  0.03792883\n",
            " -0.15387526  0.34384046 -0.19676045 -0.03651168 -0.13876403 -0.1865132\n",
            " -0.12738735 -0.12515514 -0.10164081  0.2982696  -0.27293897  0.1765346\n",
            " -0.09891755 -0.06444427  0.02288566 -0.02288566  0.03792883  0.07450805\n",
            " -0.03824467 -0.02232197 -0.02228591  0.04431199  1.         -1.\n",
            "  0.17683217 -0.17683217]\n",
            "in static method i  41\n",
            "[-0.0216101   0.09428775 -0.11197797  0.04148123 -0.00585395 -0.03197253\n",
            " -0.09415341  0.06469744 -0.06604318 -0.17376363 -0.08134917 -0.12154171\n",
            "  0.19955167 -0.00703315 -0.04002743  0.10527123  0.13906654 -0.03792883\n",
            "  0.15387526 -0.34384046  0.19676045  0.03651168  0.13876403  0.1865132\n",
            "  0.12738735  0.12515514  0.10164081 -0.2982696   0.27293897 -0.1765346\n",
            "  0.09891755  0.06444427 -0.02288566  0.02288566 -0.03792883 -0.07450805\n",
            "  0.03824467  0.02232197  0.02228591 -0.04431199 -1.          1.\n",
            " -0.17683217  0.17683217]\n",
            "in static method i  42\n",
            "[-0.02814054 -0.02101382  0.03289474 -0.01042781  0.05180513  0.04010688\n",
            "  0.00658598 -0.04220823  0.00461968  0.24430881  0.04934762 -0.01042781\n",
            " -0.09936741 -0.10286989 -0.06271953  0.0371168   0.00461968  0.05332732\n",
            " -0.01690862  0.25703286 -0.13994505 -0.08361627 -0.09869534 -0.05233532\n",
            " -0.12617166 -0.18210229 -0.1223491   0.26047536 -0.22642353  0.17846985\n",
            "  0.15705697 -0.33964051 -0.07081606  0.07081606 -0.09869534  0.04043552\n",
            " -0.11159555  0.11885566  0.00946879 -0.01923583  0.17683217 -0.17683217\n",
            "  1.         -1.        ]\n",
            "in static method i  43\n",
            "[ 0.02814054  0.02101382 -0.03289474  0.01042781 -0.05180513 -0.04010688\n",
            " -0.00658598  0.04220823 -0.00461968 -0.24430881 -0.04934762  0.01042781\n",
            "  0.09936741  0.10286989  0.06271953 -0.0371168  -0.00461968 -0.05332732\n",
            "  0.01690862 -0.25703286  0.13994505  0.08361627  0.09869534  0.05233532\n",
            "  0.12617166  0.18210229  0.1223491  -0.26047536  0.22642353 -0.17846985\n",
            " -0.15705697  0.33964051  0.07081606 -0.07081606  0.09869534 -0.04043552\n",
            "  0.11159555 -0.11885566 -0.00946879  0.01923583 -0.17683217  0.17683217\n",
            " -1.          1.        ]\n",
            "Computing item relation matrix...\n",
            "convert_2_binary_format attr_dict {'a9@no': True, 'class@no': True, 'a2@premeno': True, 'a8@left_low': True, 'a5@no': True, 'a1@30-39': True, 'a4@0-2': True, 'a6@3': True, 'a3@30-34': True, 'a7@left': True, 'a1@40-49': True, 'a8@right_low': True, 'a7@right': True, 'a6@2': True, 'a3@0-4': True, 'a2@ge40': True, 'a3@15-19': True, 'a1@60-69': True, 'a8@left_up': True, 'a3@20-24': True, 'a3@10-14': True, 'a2@lt40': True, 'a8@right_up': True, 'a6@1': True, 'a3@25-29': True, 'a1@50-59': True, 'a3@40-44': True, 'a8@central': True, 'a3@50-54': True, 'a1@70-79': True, 'a3@35-39': True, 'a3@5-9': True, 'a9@yes': True, 'a5@yes': True, 'a4@6-8': True, 'a4@9-11': True, 'a4@3-5': True, 'a3@45-49': True, 'a5@?': True, 'a4@15-17': True, 'class@yes': True, 'a8@?': True, 'a4@12-14': True, 'a4@24-26': True}\n",
            "classes_list []\n",
            "classes_dict {}\n",
            "attr_dict {'a1@30-39': 0, 'a1@40-49': 1, 'a1@50-59': 2, 'a1@60-69': 3, 'a1@70-79': 4, 'a2@ge40': 5, 'a2@lt40': 6, 'a2@premeno': 7, 'a3@0-4': 8, 'a3@10-14': 9, 'a3@15-19': 10, 'a3@20-24': 11, 'a3@25-29': 12, 'a3@30-34': 13, 'a3@35-39': 14, 'a3@40-44': 15, 'a3@45-49': 16, 'a3@5-9': 17, 'a3@50-54': 18, 'a4@0-2': 19, 'a4@12-14': 20, 'a4@15-17': 21, 'a4@24-26': 22, 'a4@3-5': 23, 'a4@6-8': 24, 'a4@9-11': 25, 'a5@?': 26, 'a5@no': 27, 'a5@yes': 28, 'a6@1': 29, 'a6@2': 30, 'a6@3': 31, 'a7@left': 32, 'a7@right': 33, 'a8@?': 34, 'a8@central': 35, 'a8@left_low': 36, 'a8@left_up': 37, 'a8@right_low': 38, 'a8@right_up': 39, 'a9@no': 40, 'a9@yes': 41, 'class@no': 42, 'class@yes': 43}\n",
            "X_train <__main__.RelationArray2D object at 0x7f9ef33ea5d0>\n",
            "[[ 1.         -0.27849025 -0.27191799 ... -0.0216101  -0.02814054\n",
            "   0.02814054]\n",
            " [-0.27849025  1.         -0.48057207 ...  0.09428775 -0.02101382\n",
            "   0.02101382]\n",
            " [-0.27191799 -0.48057207  1.         ... -0.11197797  0.03289474\n",
            "  -0.03289474]\n",
            " ...\n",
            " [-0.0216101   0.09428775 -0.11197797 ...  1.         -0.17683217\n",
            "   0.17683217]\n",
            " [-0.02814054 -0.02101382  0.03289474 ... -0.17683217  1.\n",
            "  -1.        ]\n",
            " [ 0.02814054  0.02101382 -0.03289474 ...  0.17683217 -1.\n",
            "   1.        ]]\n",
            "{'a1@30-39': 0, 'a1@40-49': 1, 'a1@50-59': 2, 'a1@60-69': 3, 'a1@70-79': 4, 'a2@ge40': 5, 'a2@lt40': 6, 'a2@premeno': 7, 'a3@0-4': 8, 'a3@10-14': 9, 'a3@15-19': 10, 'a3@20-24': 11, 'a3@25-29': 12, 'a3@30-34': 13, 'a3@35-39': 14, 'a3@40-44': 15, 'a3@45-49': 16, 'a3@5-9': 17, 'a3@50-54': 18, 'a4@0-2': 19, 'a4@12-14': 20, 'a4@15-17': 21, 'a4@24-26': 22, 'a4@3-5': 23, 'a4@6-8': 24, 'a4@9-11': 25, 'a5@?': 26, 'a5@no': 27, 'a5@yes': 28, 'a6@1': 29, 'a6@2': 30, 'a6@3': 31, 'a7@left': 32, 'a7@right': 33, 'a8@?': 34, 'a8@central': 35, 'a8@left_low': 36, 'a8@left_up': 37, 'a8@right_low': 38, 'a8@right_up': 39, 'a9@no': 40, 'a9@yes': 41, 'class@no': 42, 'class@yes': 43}\n",
            "[[ 1.         -0.27849025 -0.27191799 ... -0.0216101  -0.02814054\n",
            "   0.02814054]\n",
            " [-0.27849025  1.         -0.48057207 ...  0.09428775 -0.02101382\n",
            "   0.02101382]\n",
            " [-0.27191799 -0.48057207  1.         ... -0.11197797  0.03289474\n",
            "  -0.03289474]\n",
            " ...\n",
            " [-0.0216101   0.09428775 -0.11197797 ...  1.         -0.17683217\n",
            "   0.17683217]\n",
            " [-0.02814054 -0.02101382  0.03289474 ... -0.17683217  1.\n",
            "  -1.        ]\n",
            " [ 0.02814054  0.02101382 -0.03289474 ...  0.17683217 -1.\n",
            "   1.        ]]\n",
            "<class '__main__.RelationArray2D'>\n",
            "items_relationship a <__main__.RelationArray2D object at 0x7f9ef36f9a50>\n",
            "item_names in static method ['a1@30-39', 'a1@40-49', 'a1@50-59', 'a1@60-69', 'a1@70-79', 'a2@ge40', 'a2@lt40', 'a2@premeno', 'a3@0-4', 'a3@10-14', 'a3@15-19', 'a3@20-24', 'a3@25-29', 'a3@30-34', 'a3@35-39', 'a3@40-44', 'a3@45-49', 'a3@5-9', 'a3@50-54', 'a4@0-2', 'a4@12-14', 'a4@15-17', 'a4@24-26', 'a4@3-5', 'a4@6-8', 'a4@9-11', 'a5@?', 'a5@no', 'a5@yes', 'a6@1', 'a6@2', 'a6@3', 'a7@left', 'a7@right', 'a8@?', 'a8@central', 'a8@left_low', 'a8@left_up', 'a8@right_low', 'a8@right_up', 'a9@no', 'a9@yes', 'class@no', 'class@yes']\n",
            "in static method i  0\n",
            "[ 1.         -0.27849025 -0.27191799 -0.19130667 -0.06508385 -0.35546859\n",
            "  0.01603902  0.34810473  0.07264576 -0.0299122   0.02872773 -0.03515464\n",
            " -0.06026022  0.00535876  0.07458604  0.03677423 -0.05014486  0.18275888\n",
            " -0.06508385 -0.05159894 -0.04083465 -0.05014486 -0.02879837 -0.01229922\n",
            "  0.08597946  0.10356626 -0.05805691  0.03119564 -0.01169955 -0.10559409\n",
            "  0.09623905 -0.00103803  0.00352532 -0.00352532 -0.02879837  0.09847379\n",
            " -0.01499206 -0.09581185  0.1488993  -0.01229922  0.0216101  -0.0216101\n",
            " -0.02814054  0.02814054]\n",
            "in static method i  1\n",
            "[-2.78490248e-01  1.00000000e+00 -4.80572075e-01 -3.38104298e-01\n",
            " -1.15025418e-01 -4.26565983e-01 -1.26344125e-01  4.68577480e-01\n",
            "  9.37810701e-04  2.72716712e-02 -1.50066335e-01  3.20513333e-02\n",
            "  9.17605890e-02  2.17763081e-02  3.14834250e-02 -6.28585026e-02\n",
            "  9.37810701e-04 -5.08965669e-02 -4.52798471e-02  2.13714125e-02\n",
            "  1.46628640e-01  1.80059655e-01 -5.08965669e-02 -6.43786654e-02\n",
            " -8.98626464e-02  1.33697486e-03 -1.02606408e-01  3.15477285e-02\n",
            "  3.76048613e-03 -5.38341041e-02  5.89683265e-02 -1.11043832e-02\n",
            " -1.48317116e-01  1.48317116e-01 -5.08965669e-02 -1.73430462e-01\n",
            " -7.71385816e-02  1.45896451e-01  9.37070377e-02 -3.07821488e-02\n",
            " -9.42877478e-02  9.42877478e-02 -2.10138169e-02  2.10138169e-02]\n",
            "in static method i  2\n",
            "[-0.27191799 -0.48057207  1.         -0.33012517 -0.11231086  0.22264894\n",
            "  0.06977057 -0.24591281  0.0037828  -0.04007306  0.00965929 -0.01428137\n",
            "  0.04338925 -0.01970727 -0.00676986  0.02250561 -0.08653164 -0.04969543\n",
            "  0.09868627  0.00853916 -0.07046563 -0.08653164 -0.04969543  0.07911055\n",
            "  0.00775347 -0.05898478  0.05666197 -0.03406542  0.0151685   0.03513468\n",
            " -0.05803445  0.02812177  0.09959213 -0.09959213  0.10590829  0.02347004\n",
            "  0.0322417  -0.02546852 -0.13108214  0.04523137  0.11197797 -0.11197797\n",
            "  0.03289474 -0.03289474]\n",
            "in static method i  3\n",
            "[-0.19130667 -0.3381043  -0.33012517  1.         -0.0790158   0.48430706\n",
            "  0.06670056 -0.50520159 -0.06087894  0.01873406  0.11946837  0.00734767\n",
            " -0.07860737  0.02869551 -0.07708697 -0.05661241  0.15445213 -0.03496299\n",
            "  0.00482874  0.00145424 -0.04957577 -0.06087894  0.15053511  0.01924245\n",
            "  0.04072723 -0.08679109  0.02300541 -0.02869551  0.02156009  0.06613375\n",
            " -0.05639842 -0.00348897  0.04763076 -0.04763076 -0.03496299  0.05325049\n",
            "  0.09516108 -0.06868183 -0.06961179 -0.02114555 -0.04148123  0.04148123\n",
            " -0.01042781  0.01042781]\n",
            "in static method i  4\n",
            "[-0.06508385 -0.11502542 -0.11231086 -0.0790158   1.          0.18309311\n",
            " -0.02952693 -0.17187307 -0.02071144  0.05506666  0.05934998  0.00482874\n",
            " -0.07493021 -0.0883755  -0.04430882  0.17906714 -0.02071144 -0.01189465\n",
            " -0.02688172  0.01939394 -0.01686602 -0.02071144 -0.01189465 -0.06215498\n",
            " -0.04245146  0.15846119  0.20502359  0.00986517 -0.08304989  0.12072405\n",
            " -0.07272744 -0.03864372  0.02168223 -0.02168223 -0.01189465  0.10022241\n",
            " -0.06789886  0.01877305 -0.04245146  0.03677503  0.00585395 -0.00585395\n",
            "  0.05180513 -0.05180513]\n",
            "in static method i  5\n",
            "[-0.35546859 -0.42656598  0.22264894  0.48430706  0.18309311  1.\n",
            " -0.16126729 -0.93871949 -0.02839083 -0.05123201  0.07174009  0.10718502\n",
            " -0.15844623 -0.0286571  -0.03285089  0.1270698   0.05633805 -0.06496504\n",
            " -0.01485472 -0.03980094  0.01137918 -0.02839083  0.08101523  0.04193477\n",
            "  0.07205759 -0.10087111  0.01617842  0.00343357 -0.00930449  0.02032228\n",
            " -0.16232961  0.15375898  0.07618364 -0.07618364  0.08101523  0.09517679\n",
            "  0.03721927 -0.03038869 -0.10160802 -0.02163302  0.03197253 -0.03197253\n",
            "  0.04010688 -0.04010688]\n",
            "in static method i  6\n",
            "[ 0.01603902 -0.12634412  0.06977057  0.06670056 -0.02952693 -0.16126729\n",
            "  1.         -0.18878569 -0.02274948  0.04042855  0.14737702  0.06670056\n",
            " -0.08230348 -0.02520857 -0.04866889 -0.05629108 -0.02274948 -0.01306511\n",
            " -0.02952693  0.10433796 -0.01852567 -0.02274948 -0.01306511 -0.06827114\n",
            " -0.04662876 -0.03243243  0.39288979 -0.04665467 -0.09122214  0.15957611\n",
            " -0.09205129 -0.05543871  0.10805318 -0.10805318 -0.01306511 -0.04451946\n",
            "  0.03556016 -0.00462636 -0.04662876  0.02228294  0.09415341 -0.09415341\n",
            "  0.00658598 -0.00658598]\n",
            "in static method i  7\n",
            "[ 0.34810473  0.46857748 -0.24591281 -0.50520159 -0.17187307 -0.93871949\n",
            " -0.18878569  1.          0.03619542  0.03685822 -0.12285639 -0.12994907\n",
            "  0.18640554  0.03731922  0.04968582 -0.10678002 -0.04811342  0.06920602\n",
            "  0.02509347  0.00316323 -0.00485262  0.03619542 -0.07605058 -0.01788295\n",
            " -0.05541512  0.1116982  -0.15331636  0.01287776  0.04111802 -0.07595405\n",
            "  0.19367412 -0.13363458 -0.11354393  0.11354393 -0.07605058 -0.07915639\n",
            " -0.04945427  0.03185381  0.11738957  0.01374338 -0.06469744  0.06469744\n",
            " -0.04220823  0.04220823]\n",
            "in static method i  8\n",
            "[ 7.26457556e-02  9.37810701e-04  3.78280402e-03 -6.08789431e-02\n",
            " -2.07114370e-02 -2.83908259e-02 -2.27494795e-02  3.61954187e-02\n",
            "  1.00000000e+00 -4.19850118e-02 -4.07469310e-02 -6.08789431e-02\n",
            " -5.77311394e-02 -6.80902726e-02 -3.41384169e-02 -3.94849452e-02\n",
            " -1.59574468e-02 -9.16441827e-03 -2.07114370e-02  7.31870602e-02\n",
            " -1.29946863e-02 -1.59574468e-02 -9.16441827e-03 -4.78882634e-02\n",
            " -3.27073840e-02 -2.27494795e-02 -1.84752743e-02  6.80902726e-02\n",
            " -6.39870683e-02  1.73348234e-02  6.34515608e-02 -8.44541009e-02\n",
            " -1.35234278e-01  1.35234278e-01 -9.16441827e-03  3.30257949e-01\n",
            " -1.03818474e-01 -9.17906962e-02  1.40823459e-01 -4.78882634e-02\n",
            "  6.60431838e-02 -6.60431838e-02  4.61968330e-03 -4.61968330e-03]\n",
            "in static method i  9\n",
            "[-0.0299122   0.02727167 -0.04007306  0.01873406  0.05506666 -0.05123201\n",
            "  0.04042855  0.03685822 -0.04198501  1.         -0.10720765 -0.1601762\n",
            " -0.15189413 -0.17914964 -0.08982025 -0.10388729 -0.04198501 -0.02411214\n",
            " -0.05449305  0.15223188 -0.03418981 -0.04198501 -0.02411214 -0.0732219\n",
            " -0.08605511 -0.05985526 -0.04860957  0.17914964 -0.16835386  0.26830422\n",
            " -0.03397063 -0.22220387  0.02992619 -0.02992619 -0.02411214 -0.00707618\n",
            " -0.02352511  0.05276945  0.05812495 -0.0732219   0.17376363 -0.17376363\n",
            "  0.24430881 -0.24430881]\n",
            "in static method i  10\n",
            "[ 0.02872773 -0.15006634  0.00965929  0.11946837  0.05934998  0.07174009\n",
            "  0.14737702 -0.12285639 -0.04074693 -0.10720765  1.         -0.15545282\n",
            " -0.14741498 -0.17386676 -0.08717157 -0.10082379 -0.04074693 -0.02340111\n",
            " -0.05288612  0.10425553 -0.0331816   0.10337647 -0.02340111 -0.12228145\n",
            " -0.08351747  0.0446434   0.07797167  0.04515145 -0.07447947  0.04426403\n",
            "  0.05305648 -0.0992971  -0.05792904  0.05792904 -0.02340111  0.07410132\n",
            "  0.10022457 -0.04596949 -0.08351747 -0.0682172   0.08134917 -0.08134917\n",
            "  0.04934762 -0.04934762]\n",
            "in static method i  11\n",
            "[-0.03515464  0.03205133 -0.01428137  0.00734767  0.00482874  0.10718502\n",
            "  0.06670056 -0.12994907 -0.06087894 -0.1601762  -0.15545282  1.\n",
            " -0.22024894 -0.25976987 -0.13024081 -0.15063824 -0.06087894 -0.03496299\n",
            " -0.0790158  -0.06027026 -0.04957577 -0.06087894  0.15053511  0.22118248\n",
            " -0.1247813  -0.08679109  0.11649548 -0.02869551 -0.0116494  -0.05416669\n",
            "  0.07927032 -0.03246263  0.04763076 -0.04763076 -0.03496299 -0.0042119\n",
            " -0.01400268  0.10022241 -0.01444228 -0.10192156  0.12154171 -0.12154171\n",
            " -0.01042781  0.01042781]\n",
            "in static method i  12\n",
            "[-0.06026022  0.09176059  0.04338925 -0.07860737 -0.07493021 -0.15844623\n",
            " -0.08230348  0.18640554 -0.05773114 -0.15189413 -0.14741498 -0.22024894\n",
            "  1.         -0.24633822 -0.12350658 -0.14284935 -0.05773114 -0.0331552\n",
            " -0.07493021  0.00936082  0.08903866 -0.05773114 -0.0331552  -0.04790653\n",
            "  0.05288964 -0.00290972  0.02987554  0.01423519 -0.02536177 -0.09284965\n",
            "  0.03306667  0.05414029  0.01046531 -0.01046531 -0.0331552  -0.1129766\n",
            "  0.04789186 -0.04086225  0.10996264 -0.00612504 -0.19955167  0.19955167\n",
            " -0.09936741  0.09936741]\n",
            "in static method i  13\n",
            "[ 0.00535876  0.02177631 -0.01970727  0.02869551 -0.0883755  -0.0286571\n",
            " -0.02520857  0.03731922 -0.06809027 -0.17914964 -0.17386676 -0.25976987\n",
            " -0.24633822  1.         -0.1456683  -0.16848188 -0.06809027 -0.03910448\n",
            " -0.0883755  -0.09229456  0.06769839  0.03272556 -0.03910448  0.0225723\n",
            "  0.11873597 -0.02520857 -0.07883382 -0.03959774  0.0690314  -0.01990488\n",
            " -0.12730351  0.15511171  0.05117872 -0.05117872  0.13459218  0.028171\n",
            " -0.08522687 -0.0226335  -0.03624287  0.13602784  0.00703315 -0.00703315\n",
            " -0.10286989  0.10286989]\n",
            "in static method i  14\n",
            "[ 0.07458604  0.03148342 -0.00676986 -0.07708697 -0.04430882 -0.03285089\n",
            " -0.04866889  0.04968582 -0.03413842 -0.08982025 -0.08717157 -0.13024081\n",
            " -0.12350658 -0.1456683   1.         -0.08447175 -0.03413842 -0.01960581\n",
            " -0.04430882  0.01279676 -0.02780006 -0.03413842 -0.01960581 -0.10244932\n",
            "  0.0156989   0.18968388 -0.03952491 -0.0534204   0.06939007 -0.07188803\n",
            " -0.06088649  0.13427038  0.08574638 -0.08574638 -0.01960581 -0.06680697\n",
            "  0.07455209  0.02220052 -0.06997224 -0.03973195  0.04002743 -0.04002743\n",
            " -0.06271953  0.06271953]\n",
            "in static method i  15\n",
            "[ 0.03677423 -0.0628585   0.02250561 -0.05661241  0.17906714  0.1270698\n",
            " -0.05629108 -0.10678002 -0.03948495 -0.10388729 -0.10082379 -0.15063824\n",
            " -0.14284935 -0.16848188 -0.08447175  1.         -0.03948495 -0.02267634\n",
            " -0.05124817 -0.11562454 -0.03215392  0.10839005 -0.02267634  0.10339203\n",
            "  0.07061611 -0.05629108 -0.04571503 -0.09564977  0.11534372 -0.02595213\n",
            " -0.04175497  0.06958801 -0.07661192  0.07661192 -0.02267634 -0.07726982\n",
            "  0.0429781  -0.03380574 -0.08093082  0.10339203 -0.10527123  0.10527123\n",
            "  0.0371168  -0.0371168 ]\n",
            "in static method i  16\n",
            "[-5.01448579e-02  9.37810701e-04 -8.65316418e-02  1.54452133e-01\n",
            " -2.07114370e-02  5.63380451e-02 -2.27494795e-02 -4.81134224e-02\n",
            " -1.59574468e-02 -4.19850118e-02 -4.07469310e-02 -6.08789431e-02\n",
            " -5.77311394e-02 -6.80902726e-02 -3.41384169e-02 -3.94849452e-02\n",
            "  1.00000000e+00 -9.16441827e-03 -2.07114370e-02 -2.38874433e-02\n",
            " -1.29946863e-02 -1.59574468e-02 -9.16441827e-03 -4.78882634e-02\n",
            "  1.40823459e-01 -2.27494795e-02 -1.84752743e-02 -3.27255574e-02\n",
            "  4.04704534e-02  1.73348234e-02 -2.18952569e-02  6.67998538e-03\n",
            "  3.35875983e-02 -3.35875983e-02 -9.16441827e-03  1.49515060e-01\n",
            " -1.79772249e-02 -9.17906962e-02 -3.27073840e-02  7.91486575e-02\n",
            " -1.39066542e-01  1.39066542e-01  4.61968330e-03 -4.61968330e-03]\n",
            "in static method i  17\n",
            "[ 0.18275888 -0.05089657 -0.04969543 -0.03496299 -0.01189465 -0.06496504\n",
            " -0.01306511  0.06920602 -0.00916442 -0.02411214 -0.02340111 -0.03496299\n",
            " -0.0331552  -0.03910448 -0.01960581 -0.02267634 -0.00916442  1.\n",
            " -0.01189465  0.04203159 -0.00746289 -0.00916442 -0.00526316 -0.0275024\n",
            " -0.01878397 -0.01306511 -0.01061042  0.03910448 -0.036748   -0.04437287\n",
            "  0.08545544 -0.04850229  0.06776698 -0.06776698 -0.00526316 -0.01793425\n",
            " -0.05962332 -0.05271572  0.28019417 -0.0275024   0.03792883 -0.03792883\n",
            "  0.05332732 -0.05332732]\n",
            "in static method i  18\n",
            "[-0.06508385 -0.04527985  0.09868627  0.00482874 -0.02688172 -0.01485472\n",
            " -0.02952693  0.02509347 -0.02071144 -0.05449305 -0.05288612 -0.0790158\n",
            " -0.07493021 -0.0883755  -0.04430882 -0.05124817 -0.02071144 -0.01189465\n",
            "  1.          0.01939394 -0.01686602 -0.02071144 -0.01189465 -0.06215498\n",
            " -0.04245146  0.15846119 -0.02397937 -0.06864516  0.07964271 -0.02661329\n",
            "  0.12666407 -0.10961439 -0.17552283  0.17552283 -0.01189465 -0.04053112\n",
            " -0.06789886  0.08772792 -0.04245146  0.03677503 -0.15387526  0.15387526\n",
            " -0.01690862  0.01690862]\n",
            "in static method i  19\n",
            "[-5.15989362e-02  2.13714125e-02  8.53916329e-03  1.45424230e-03\n",
            "  1.93939365e-02 -3.98009378e-02  1.04337965e-01  3.16322930e-03\n",
            "  7.31870602e-02  1.52231877e-01  1.04255529e-01 -6.02702642e-02\n",
            "  9.36081961e-03 -9.22945618e-02  1.27967552e-02 -1.15624535e-01\n",
            " -2.38874433e-02  4.20315881e-02  1.93939365e-02  1.00000000e+00\n",
            " -1.77554423e-01 -2.18036450e-01 -1.25219106e-01 -6.54326916e-01\n",
            " -4.46901186e-01 -3.10840187e-01 -8.38521427e-02  6.70270342e-01\n",
            " -6.64696086e-01  2.73011898e-01 -2.19028682e-02 -2.39625203e-01\n",
            " -8.86776781e-03  8.86776781e-03  4.20315881e-02 -1.22065035e-02\n",
            " -8.97938003e-02  4.02649363e-02  7.81295780e-04  7.39740219e-02\n",
            "  3.43840455e-01 -3.43840455e-01  2.57032863e-01 -2.57032863e-01]\n",
            "in static method i  20\n",
            "[-0.04083465  0.14662864 -0.07046563 -0.04957577 -0.01686602  0.01137918\n",
            " -0.01852567 -0.00485262 -0.01299469 -0.03418981 -0.0331816  -0.04957577\n",
            "  0.08903866  0.06769839 -0.02780006 -0.03215392 -0.01299469 -0.00746289\n",
            " -0.01686602 -0.17755442  1.         -0.01299469 -0.00746289 -0.03899703\n",
            " -0.02663472 -0.01852567 -0.01504504 -0.19084497  0.20308301 -0.0629185\n",
            " -0.08733083  0.15386685  0.09609018 -0.09609018 -0.00746289 -0.02542987\n",
            " -0.08454288  0.0334102   0.18533329 -0.03899703 -0.19676045  0.19676045\n",
            " -0.13994505  0.13994505]\n",
            "in static method i  21\n",
            "[-0.05014486  0.18005965 -0.08653164 -0.06087894 -0.02071144 -0.02839083\n",
            " -0.02274948  0.03619542 -0.01595745 -0.04198501  0.10337647 -0.06087894\n",
            " -0.05773114  0.03272556 -0.03413842  0.10839005 -0.01595745 -0.00916442\n",
            " -0.02071144 -0.21803645 -0.01299469  1.         -0.00916442 -0.04788826\n",
            " -0.03270738 -0.02274948 -0.01847527 -0.23435722  0.2493855  -0.07726378\n",
            " -0.02189526  0.09781407  0.0335876  -0.0335876  -0.00916442 -0.03122783\n",
            "  0.06786402 -0.00324513 -0.03270738 -0.04788826 -0.03651168  0.03651168\n",
            " -0.08361627  0.08361627]\n",
            "in static method i  22\n",
            "[-0.02879837 -0.05089657 -0.04969543  0.15053511 -0.01189465  0.08101523\n",
            " -0.01306511 -0.07605058 -0.00916442 -0.02411214 -0.02340111  0.15053511\n",
            " -0.0331552  -0.03910448 -0.01960581 -0.02267634 -0.00916442 -0.00526316\n",
            " -0.01189465 -0.12521911 -0.00746289 -0.00916442  1.         -0.0275024\n",
            " -0.01878397 -0.01306511 -0.01061042 -0.13459218  0.14322297 -0.04437287\n",
            " -0.0615895   0.1085136   0.06776698 -0.06776698 -0.00526316 -0.01793425\n",
            "  0.08827348 -0.05271572 -0.01878397 -0.0275024  -0.13876403  0.13876403\n",
            " -0.09869534  0.09869534]\n",
            "in static method i  23\n",
            "[-0.01229922 -0.06437867  0.07911055  0.01924245 -0.06215498  0.04193477\n",
            " -0.06827114 -0.01788295 -0.04788826 -0.0732219  -0.12228145  0.22118248\n",
            " -0.04790653  0.0225723  -0.10244932  0.10339203 -0.04788826 -0.0275024\n",
            " -0.06215498 -0.65432692 -0.03899703 -0.04788826 -0.0275024   1.\n",
            " -0.09815479 -0.06827114  0.05486671 -0.28730188  0.27819014 -0.16089589\n",
            "  0.09437089  0.05423327 -0.05752684  0.05752684 -0.0275024   0.04188761\n",
            "  0.13925744 -0.07616988 -0.09815479 -0.04840319 -0.1865132   0.1865132\n",
            " -0.05233532  0.05233532]\n",
            "in static method i  24\n",
            "[ 0.08597946 -0.08986265  0.00775347  0.04072723 -0.04245146  0.07205759\n",
            " -0.04662876 -0.05541512 -0.03270738 -0.08605511 -0.08351747 -0.1247813\n",
            "  0.05288964  0.11873597  0.0156989   0.07061611  0.14082346 -0.01878397\n",
            " -0.04245146 -0.44690119 -0.02663472 -0.03270738 -0.01878397 -0.09815479\n",
            "  1.         -0.04662876 -0.03786808 -0.37703403  0.40410481 -0.1583647\n",
            " -0.04487789  0.20048586  0.06884325 -0.06884325 -0.01878397  0.02860897\n",
            " -0.03684725 -0.05202355  0.11080074  0.03203663 -0.12738735  0.12738735\n",
            " -0.12617166  0.12617166]\n",
            "in static method i  25\n",
            "[ 0.10356626  0.00133697 -0.05898478 -0.08679109  0.15846119 -0.10087111\n",
            " -0.03243243  0.1116982  -0.02274948 -0.05985526  0.0446434  -0.08679109\n",
            " -0.00290972 -0.02520857  0.18968388 -0.05629108 -0.02274948 -0.01306511\n",
            "  0.15846119 -0.31084019 -0.01852567 -0.02274948 -0.01306511 -0.06827114\n",
            " -0.04662876  1.          0.1832754  -0.26224439  0.20661426 -0.04271838\n",
            "  0.02962204  0.00952321 -0.07245548  0.07245548 -0.01306511 -0.04451946\n",
            " -0.02562894  0.12160722 -0.04662876 -0.06827114 -0.12515514  0.12515514\n",
            " -0.18210229  0.18210229]\n",
            "in static method i  26\n",
            "[-0.05805691 -0.10260641  0.05666197  0.02300541  0.20502359  0.01617842\n",
            "  0.39288979 -0.15331636 -0.01847527 -0.04860957  0.07797167  0.11649548\n",
            "  0.02987554 -0.07883382 -0.03952491 -0.04571503 -0.01847527 -0.01061042\n",
            " -0.02397937 -0.08385214 -0.01504504 -0.01847527 -0.01061042  0.05486671\n",
            " -0.03786808  0.1832754   1.         -0.271335   -0.07408319  0.23911946\n",
            " -0.12416314 -0.09777959  0.06331958 -0.06331958 -0.01061042 -0.03615508\n",
            "  0.10341827 -0.02938631 -0.03786808 -0.05544426 -0.10164081  0.10164081\n",
            " -0.1223491   0.1223491 ]\n",
            "in static method i  27\n",
            "[ 3.11956381e-02  3.15477285e-02 -3.40654152e-02 -2.86955085e-02\n",
            "  9.86517246e-03  3.43356969e-03 -4.66546688e-02  1.28777590e-02\n",
            "  6.80902726e-02  1.79149643e-01  4.51514465e-02 -2.86955085e-02\n",
            "  1.42351895e-02 -3.95977373e-02 -5.34203954e-02 -9.56497692e-02\n",
            " -3.27255574e-02  3.91044849e-02 -6.86451584e-02  6.70270342e-01\n",
            " -1.90844973e-01 -2.34357217e-01 -1.34592181e-01 -2.87301882e-01\n",
            " -3.77034030e-01 -2.62244388e-01 -2.71335003e-01  1.00000000e+00\n",
            " -9.39738759e-01  2.17036937e-01  2.66047037e-04 -2.09372398e-01\n",
            " -2.60498373e-02  2.60498373e-02  3.91044849e-02  2.56356133e-02\n",
            " -1.69918571e-02 -3.72624756e-03 -1.54167430e-02  1.52462060e-02\n",
            "  2.98269603e-01 -2.98269603e-01  2.60475359e-01 -2.60475359e-01]\n",
            "in static method i  28\n",
            "[-0.01169955  0.00376049  0.0151685   0.02156009 -0.08304989 -0.00930449\n",
            " -0.09122214  0.04111802 -0.06398707 -0.16835386 -0.07447947 -0.0116494\n",
            " -0.02536177  0.0690314   0.06939007  0.11534372  0.04047045 -0.036748\n",
            "  0.07964271 -0.66469609  0.20308301  0.2493855   0.14322297  0.27819014\n",
            "  0.40410481  0.20661426 -0.07408319 -0.93973876  1.         -0.30981667\n",
            "  0.0438295   0.2516686   0.00449847 -0.00449847 -0.036748   -0.01371864\n",
            " -0.01913054  0.01429944  0.02942511  0.00389794 -0.27293897  0.27293897\n",
            " -0.22642353  0.22642353]\n",
            "in static method i  29\n",
            "[-1.05594089e-01 -5.38341041e-02  3.51346775e-02  6.61337454e-02\n",
            "  1.20724049e-01  2.03222777e-02  1.59576110e-01 -7.59540514e-02\n",
            "  1.73348234e-02  2.68304215e-01  4.42640266e-02 -5.41666867e-02\n",
            " -9.28496499e-02 -1.99048822e-02 -7.18880298e-02 -2.59521349e-02\n",
            "  1.73348234e-02 -4.43728651e-02 -2.66132887e-02  2.73011898e-01\n",
            " -6.29185010e-02 -7.72637841e-02 -4.43728651e-02 -1.60895895e-01\n",
            " -1.58364699e-01 -4.27183834e-02  2.39119460e-01  2.17036937e-01\n",
            " -3.09816670e-01  1.00000000e+00 -5.19251519e-01 -4.08915254e-01\n",
            " -1.12464179e-01  1.12464179e-01 -4.43728651e-02  5.07527480e-02\n",
            "  8.78802290e-04 -2.39571792e-02 -1.29432687e-02  1.65354904e-02\n",
            "  1.76534598e-01 -1.76534598e-01  1.78469852e-01 -1.78469852e-01]\n",
            "in static method i  30\n",
            "[ 9.62390475e-02  5.89683265e-02 -5.80344516e-02 -5.63984183e-02\n",
            " -7.27274447e-02 -1.62329607e-01 -9.20512882e-02  1.93674120e-01\n",
            "  6.34515608e-02 -3.39706286e-02  5.30564779e-02  7.92703210e-02\n",
            "  3.30666746e-02 -1.27303507e-01 -6.08864877e-02 -4.17549728e-02\n",
            " -2.18952569e-02  8.54554362e-02  1.26664066e-01 -2.19028682e-02\n",
            " -8.73308324e-02 -2.18952569e-02 -6.15895036e-02  9.43708910e-02\n",
            " -4.48778921e-02  2.96220408e-02 -1.24163143e-01  2.66047037e-04\n",
            "  4.38295024e-02 -5.19251519e-01  1.00000000e+00 -5.67574068e-01\n",
            " -3.66432787e-02  3.66432787e-02 -6.15895036e-02 -2.76642507e-02\n",
            " -5.43671999e-03  5.25749728e-02 -1.14484419e-03 -3.36919167e-02\n",
            " -9.89175466e-02  9.89175466e-02  1.57056973e-01 -1.57056973e-01]\n",
            "in static method i  31\n",
            "[-0.00103803 -0.01110438  0.02812177 -0.00348897 -0.03864372  0.15375898\n",
            " -0.05543871 -0.13363458 -0.0844541  -0.22220387 -0.0992971  -0.03246263\n",
            "  0.05414029  0.15511171  0.13427038  0.06958801  0.00667999 -0.04850229\n",
            " -0.10961439 -0.2396252   0.15386685  0.09781407  0.1085136   0.05423327\n",
            "  0.20048586  0.00952321 -0.09777959 -0.2093724   0.2516686  -0.40891525\n",
            " -0.56757407  1.          0.14747338 -0.14747338  0.1085136  -0.01935388\n",
            "  0.00495876 -0.03306023  0.01369172  0.02004662 -0.06444427  0.06444427\n",
            " -0.33964051  0.33964051]\n",
            "in static method i  32\n",
            "[ 0.00352532 -0.14831712  0.09959213  0.04763076  0.02168223  0.07618364\n",
            "  0.10805318 -0.11354393 -0.13523428  0.02992619 -0.05792904  0.04763076\n",
            "  0.01046531  0.05117872  0.08574638 -0.07661192  0.0335876   0.06776698\n",
            " -0.17552283 -0.00886777  0.09609018  0.0335876   0.06776698 -0.05752684\n",
            "  0.06884325 -0.07245548  0.06331958 -0.02604984  0.00449847 -0.11246418\n",
            " -0.03664328  0.14747338  1.         -1.          0.06776698 -0.03939025\n",
            "  0.29697292 -0.22613551  0.06884325 -0.15252073  0.02288566 -0.02288566\n",
            " -0.07081606  0.07081606]\n",
            "in static method i  33\n",
            "[-0.00352532  0.14831712 -0.09959213 -0.04763076 -0.02168223 -0.07618364\n",
            " -0.10805318  0.11354393  0.13523428 -0.02992619  0.05792904 -0.04763076\n",
            " -0.01046531 -0.05117872 -0.08574638  0.07661192 -0.0335876  -0.06776698\n",
            "  0.17552283  0.00886777 -0.09609018 -0.0335876  -0.06776698  0.05752684\n",
            " -0.06884325  0.07245548 -0.06331958  0.02604984 -0.00449847  0.11246418\n",
            "  0.03664328 -0.14747338 -1.          1.         -0.06776698  0.03939025\n",
            " -0.29697292  0.22613551 -0.06884325  0.15252073 -0.02288566  0.02288566\n",
            "  0.07081606 -0.07081606]\n",
            "in static method i  34\n",
            "[-0.02879837 -0.05089657  0.10590829 -0.03496299 -0.01189465  0.08101523\n",
            " -0.01306511 -0.07605058 -0.00916442 -0.02411214 -0.02340111 -0.03496299\n",
            " -0.0331552   0.13459218 -0.01960581 -0.02267634 -0.00916442 -0.00526316\n",
            " -0.01189465  0.04203159 -0.00746289 -0.00916442 -0.00526316 -0.0275024\n",
            " -0.01878397 -0.01306511 -0.01061042  0.03910448 -0.036748   -0.04437287\n",
            " -0.0615895   0.1085136   0.06776698 -0.06776698  1.         -0.01793425\n",
            " -0.05962332 -0.05271572 -0.01878397 -0.0275024   0.03792883 -0.03792883\n",
            " -0.09869534  0.09869534]\n",
            "in static method i  35\n",
            "[ 0.09847379 -0.17343046  0.02347004  0.05325049  0.10022241  0.09517679\n",
            " -0.04451946 -0.07915639  0.33025795 -0.00707618  0.07410132 -0.0042119\n",
            " -0.1129766   0.028171   -0.06680697 -0.07726982  0.14951506 -0.01793425\n",
            " -0.04053112 -0.0122065  -0.02542987 -0.03122783 -0.01793425  0.04188761\n",
            "  0.02860897 -0.04451946 -0.03615508  0.02563561 -0.01371864  0.05075275\n",
            " -0.02766425 -0.01935388 -0.03939025  0.03939025 -0.01793425  1.\n",
            " -0.20316693 -0.17962925 -0.06400652 -0.09371465  0.07450805 -0.07450805\n",
            "  0.04043552 -0.04043552]\n",
            "in static method i  36\n",
            "[-1.49920628e-02 -7.71385816e-02  3.22416974e-02  9.51610754e-02\n",
            " -6.78988576e-02  3.72192665e-02  3.55601596e-02 -4.94542688e-02\n",
            " -1.03818474e-01 -2.35251138e-02  1.00224568e-01 -1.40026808e-02\n",
            "  4.78918605e-02 -8.52268738e-02  7.45520881e-02  4.29781029e-02\n",
            " -1.79772249e-02 -5.96233174e-02 -6.78988576e-02 -8.97938003e-02\n",
            " -8.45428789e-02  6.78640239e-02  8.82734830e-02  1.39257439e-01\n",
            " -3.68472479e-02 -2.56289438e-02  1.03418274e-01 -1.69918571e-02\n",
            " -1.91305387e-02  8.78802290e-04 -5.43671999e-03  4.95876009e-03\n",
            "  2.96972921e-01 -2.96972921e-01 -5.96233174e-02 -2.03166934e-01\n",
            "  1.00000000e+00 -5.97186385e-01 -2.12792856e-01 -3.11559015e-01\n",
            " -3.82446749e-02  3.82446749e-02 -1.11595548e-01  1.11595548e-01]\n",
            "in static method i  37\n",
            "[-0.09581185  0.14589645 -0.02546852 -0.06868183  0.01877305 -0.03038869\n",
            " -0.00462636  0.03185381 -0.0917907   0.05276945 -0.04596949  0.10022241\n",
            " -0.04086225 -0.0226335   0.02220052 -0.03380574 -0.0917907  -0.05271572\n",
            "  0.08772792  0.04026494  0.0334102  -0.00324513 -0.05271572 -0.07616988\n",
            " -0.05202355  0.12160722 -0.02938631 -0.00372625  0.01429944 -0.02395718\n",
            "  0.05257497 -0.03306023 -0.22613551  0.22613551 -0.05271572 -0.17962925\n",
            " -0.59718639  1.         -0.18813997 -0.27546368 -0.02232197  0.02232197\n",
            "  0.11885566 -0.11885566]\n",
            "in static method i  38\n",
            "[ 1.48899298e-01  9.37070377e-02 -1.31082143e-01 -6.96117905e-02\n",
            " -4.24514606e-02 -1.01608020e-01 -4.66287602e-02  1.17389573e-01\n",
            "  1.40823459e-01  5.81249455e-02 -8.35174659e-02 -1.44422802e-02\n",
            "  1.09962642e-01 -3.62428694e-02 -6.99722409e-02 -8.09308206e-02\n",
            " -3.27073840e-02  2.80194168e-01 -4.24514606e-02  7.81295780e-04\n",
            "  1.85333289e-01 -3.27073840e-02 -1.87839666e-02 -9.81547888e-02\n",
            "  1.10800745e-01 -4.66287602e-02 -3.78680812e-02 -1.54167430e-02\n",
            "  2.94251078e-02 -1.29432687e-02 -1.14484419e-03  1.36917171e-02\n",
            "  6.88432486e-02 -6.88432486e-02 -1.87839666e-02 -6.40065174e-02\n",
            " -2.12792856e-01 -1.88139969e-01  1.00000000e+00 -9.81547888e-02\n",
            " -2.22859074e-02  2.22859074e-02  9.46879270e-03 -9.46879270e-03]\n",
            "in static method i  39\n",
            "[-0.01229922 -0.03078215  0.04523137 -0.02114555  0.03677503 -0.02163302\n",
            "  0.02228294  0.01374338 -0.04788826 -0.0732219  -0.0682172  -0.10192156\n",
            " -0.00612504  0.13602784 -0.03973195  0.10339203  0.07914866 -0.0275024\n",
            "  0.03677503  0.07397402 -0.03899703 -0.04788826 -0.0275024  -0.04840319\n",
            "  0.03203663 -0.06827114 -0.05544426  0.01524621  0.00389794  0.01653549\n",
            " -0.03369192  0.02004662 -0.15252073  0.15252073 -0.0275024  -0.09371465\n",
            " -0.31155902 -0.27546368 -0.09815479  1.          0.04431199 -0.04431199\n",
            " -0.01923583  0.01923583]\n",
            "in static method i  40\n",
            "[ 0.0216101  -0.09428775  0.11197797 -0.04148123  0.00585395  0.03197253\n",
            "  0.09415341 -0.06469744  0.06604318  0.17376363  0.08134917  0.12154171\n",
            " -0.19955167  0.00703315  0.04002743 -0.10527123 -0.13906654  0.03792883\n",
            " -0.15387526  0.34384046 -0.19676045 -0.03651168 -0.13876403 -0.1865132\n",
            " -0.12738735 -0.12515514 -0.10164081  0.2982696  -0.27293897  0.1765346\n",
            " -0.09891755 -0.06444427  0.02288566 -0.02288566  0.03792883  0.07450805\n",
            " -0.03824467 -0.02232197 -0.02228591  0.04431199  1.         -1.\n",
            "  0.17683217 -0.17683217]\n",
            "in static method i  41\n",
            "[-0.0216101   0.09428775 -0.11197797  0.04148123 -0.00585395 -0.03197253\n",
            " -0.09415341  0.06469744 -0.06604318 -0.17376363 -0.08134917 -0.12154171\n",
            "  0.19955167 -0.00703315 -0.04002743  0.10527123  0.13906654 -0.03792883\n",
            "  0.15387526 -0.34384046  0.19676045  0.03651168  0.13876403  0.1865132\n",
            "  0.12738735  0.12515514  0.10164081 -0.2982696   0.27293897 -0.1765346\n",
            "  0.09891755  0.06444427 -0.02288566  0.02288566 -0.03792883 -0.07450805\n",
            "  0.03824467  0.02232197  0.02228591 -0.04431199 -1.          1.\n",
            " -0.17683217  0.17683217]\n",
            "in static method i  42\n",
            "[-0.02814054 -0.02101382  0.03289474 -0.01042781  0.05180513  0.04010688\n",
            "  0.00658598 -0.04220823  0.00461968  0.24430881  0.04934762 -0.01042781\n",
            " -0.09936741 -0.10286989 -0.06271953  0.0371168   0.00461968  0.05332732\n",
            " -0.01690862  0.25703286 -0.13994505 -0.08361627 -0.09869534 -0.05233532\n",
            " -0.12617166 -0.18210229 -0.1223491   0.26047536 -0.22642353  0.17846985\n",
            "  0.15705697 -0.33964051 -0.07081606  0.07081606 -0.09869534  0.04043552\n",
            " -0.11159555  0.11885566  0.00946879 -0.01923583  0.17683217 -0.17683217\n",
            "  1.         -1.        ]\n",
            "in static method i  43\n",
            "[ 0.02814054  0.02101382 -0.03289474  0.01042781 -0.05180513 -0.04010688\n",
            " -0.00658598  0.04220823 -0.00461968 -0.24430881 -0.04934762  0.01042781\n",
            "  0.09936741  0.10286989  0.06271953 -0.0371168  -0.00461968 -0.05332732\n",
            "  0.01690862 -0.25703286  0.13994505  0.08361627  0.09869534  0.05233532\n",
            "  0.12617166  0.18210229  0.1223491  -0.26047536  0.22642353 -0.17846985\n",
            " -0.15705697  0.33964051  0.07081606 -0.07081606  0.09869534 -0.04043552\n",
            "  0.11159555 -0.11885566 -0.00946879  0.01923583 -0.17683217  0.17683217\n",
            " -1.          1.        ]\n",
            "<__main__.RelationArray2D object at 0x7f9ef36f9a50>\n",
            "<class '__main__.RelationArray2D'>\n",
            "realation matrix <__main__.RelationArray2D object at 0x7f9ef3403e90>\n"
          ],
          "name": "stdout"
        }
      ]
    },
    {
      "cell_type": "code",
      "metadata": {
        "id": "4Er2RLQV5kMh",
        "colab": {
          "base_uri": "https://localhost:8080/"
        },
        "outputId": "29386929-59b2-4625-c5ac-6bfbdba05852"
      },
      "source": [
        "get_feature_names = ruleminer._get_feature_names()"
      ],
      "execution_count": 34,
      "outputs": [
        {
          "output_type": "stream",
          "text": [
            "_get_feature_names left_filter  <function RuleFormatter.spectLeft at 0x7f9ef3892dd0>\n",
            "_get_feature_names right_filter <function RuleFormatter.spectRight at 0x7f9ef3892e60>\n",
            "_get_feature_names ['a1@30-39', 'a1@40-49', 'a1@50-59', 'a1@60-69', 'a1@70-79', 'a2@ge40', 'a2@lt40', 'a2@premeno', 'a3@0-4', 'a3@10-14', 'a3@15-19', 'a3@20-24', 'a3@25-29', 'a3@30-34', 'a3@35-39', 'a3@40-44', 'a3@45-49', 'a3@5-9', 'a3@50-54', 'a4@0-2', 'a4@12-14', 'a4@15-17', 'a4@24-26', 'a4@3-5', 'a4@6-8', 'a4@9-11', 'a5@?', 'a5@no', 'a5@yes', 'a6@1', 'a6@2', 'a6@3', 'a7@left', 'a7@right', 'a8@?', 'a8@central', 'a8@left_low', 'a8@left_up', 'a8@right_low', 'a8@right_up', 'a9@no', 'a9@yes']\n",
            "_get_feature_names ['class@no', 'class@yes']\n"
          ],
          "name": "stdout"
        }
      ]
    },
    {
      "cell_type": "code",
      "metadata": {
        "id": "FN1foa8U9sTb",
        "colab": {
          "base_uri": "https://localhost:8080/"
        },
        "outputId": "fd0d769e-39e5-4936-9729-b704abd97d34"
      },
      "source": [
        "extract_features_4_all_rules = ruleminer.extract_features_4_all_rules()"
      ],
      "execution_count": 35,
      "outputs": [
        {
          "output_type": "stream",
          "text": [
            "_get_feature_names left_filter  <function RuleFormatter.spectLeft at 0x7f9ef3892dd0>\n",
            "_get_feature_names right_filter <function RuleFormatter.spectRight at 0x7f9ef3892e60>\n",
            "_get_feature_names ['a1@30-39', 'a1@40-49', 'a1@50-59', 'a1@60-69', 'a1@70-79', 'a2@ge40', 'a2@lt40', 'a2@premeno', 'a3@0-4', 'a3@10-14', 'a3@15-19', 'a3@20-24', 'a3@25-29', 'a3@30-34', 'a3@35-39', 'a3@40-44', 'a3@45-49', 'a3@5-9', 'a3@50-54', 'a4@0-2', 'a4@12-14', 'a4@15-17', 'a4@24-26', 'a4@3-5', 'a4@6-8', 'a4@9-11', 'a5@?', 'a5@no', 'a5@yes', 'a6@1', 'a6@2', 'a6@3', 'a7@left', 'a7@right', 'a8@?', 'a8@central', 'a8@left_low', 'a8@left_up', 'a8@right_low', 'a8@right_up', 'a9@no', 'a9@yes']\n",
            "_get_feature_names ['class@no', 'class@yes']\n",
            "Write number of features for LHS and RHS\n",
            "Starting extraction...\n"
          ],
          "name": "stdout"
        }
      ]
    },
    {
      "cell_type": "markdown",
      "metadata": {
        "id": "ULPhDXhK8ufY"
      },
      "source": [
        "Clustering- DBSCAN"
      ]
    },
    {
      "cell_type": "code",
      "metadata": {
        "id": "qk2npzWJ4fdR"
      },
      "source": [
        " import json\n",
        " import numpy as np\n",
        " def load_feature_vectors():\n",
        "        data = []\n",
        "        lengths = []\n",
        "        \n",
        "        with open(Filepath+\"miner.tmp.non_redundant_rules\", 'r') as feature_reader:\n",
        "            print('Loading number of LHS and RHS features...')\n",
        "            lhs_count = int(feature_reader.readline())\n",
        "            rhs_count = int(feature_reader.readline())\n",
        "            print('Loading feature vectors... ')\n",
        "            for line in feature_reader:\n",
        "                rule_text, f_vector = json.loads(line.strip())\n",
        "                rule = string_2_rule(rule_text.strip())\n",
        "                lengths.append(rule.length())\n",
        "                #print(rule) this rule as an object of the assocition rule class\n",
        "                data.append(f_vector)\n",
        "                \n",
        "                \n",
        "        return np.array(data), lengths, lhs_count, rhs_count"
      ],
      "execution_count": 36,
      "outputs": []
    },
    {
      "cell_type": "code",
      "metadata": {
        "id": "NUk0UzfGcKkm",
        "colab": {
          "base_uri": "https://localhost:8080/"
        },
        "outputId": "91ea1714-27bb-4701-a4bb-42c2babffe2f"
      },
      "source": [
        "def string_2_rule(s):\n",
        "        subStrings = s.split(\">\")\n",
        "        left = string_2_itemset(subStrings[0].strip())\n",
        "        right = string_2_itemset(subStrings[1].strip())\n",
        "        return AssociationRule(left, right)\n",
        "X_train, lengths, lhs_feature_count, rhs_feature_count = load_feature_vectors() #step 1"
      ],
      "execution_count": 37,
      "outputs": [
        {
          "output_type": "stream",
          "text": [
            "Loading number of LHS and RHS features...\n",
            "Loading feature vectors... \n"
          ],
          "name": "stdout"
        }
      ]
    },
    {
      "cell_type": "code",
      "metadata": {
        "id": "i8nsb03CfqoD"
      },
      "source": [
        "def load_association_rules():\n",
        "        association_rules_list = []\n",
        "        with open(Filepath+\"miner.tmp.non_redundant_rules\", 'r') as rules_reader:\n",
        "            rules_reader.readline()\n",
        "            rules_reader.readline()\n",
        "            \n",
        "            for line in rules_reader:\n",
        "                rule_text, _ = json.loads(line.strip())\n",
        "                association_rules_list.append(AssociationRule.string_2_rule(rule_text.strip()))\n",
        "        print(association_rules_list)\n",
        "        return association_rules_list"
      ],
      "execution_count": 38,
      "outputs": []
    },
    {
      "cell_type": "code",
      "metadata": {
        "id": "HqLldvmNfZ_7",
        "colab": {
          "base_uri": "https://localhost:8080/"
        },
        "outputId": "b9977cea-f46e-4b92-a0d9-9d84b7bdcd00"
      },
      "source": [
        "association_rules_list = load_association_rules() #step 2"
      ],
      "execution_count": 39,
      "outputs": [
        {
          "output_type": "stream",
          "text": [
            "[<__main__.AssociationRule object at 0x7f9ef389fc50>, <__main__.AssociationRule object at 0x7f9ef389fbd0>, <__main__.AssociationRule object at 0x7f9ef33ea850>, <__main__.AssociationRule object at 0x7f9ef33eabd0>, <__main__.AssociationRule object at 0x7f9ef33ea250>, <__main__.AssociationRule object at 0x7f9ef3403cd0>, <__main__.AssociationRule object at 0x7f9ef3403fd0>, <__main__.AssociationRule object at 0x7f9ef3403910>, <__main__.AssociationRule object at 0x7f9ef3403490>, <__main__.AssociationRule object at 0x7f9ef3403690>, <__main__.AssociationRule object at 0x7f9ef33f2950>, <__main__.AssociationRule object at 0x7f9ef33f2cd0>, <__main__.AssociationRule object at 0x7f9ef33f26d0>, <__main__.AssociationRule object at 0x7f9ef33f2990>, <__main__.AssociationRule object at 0x7f9ef33f2a50>, <__main__.AssociationRule object at 0x7f9ef383c1d0>, <__main__.AssociationRule object at 0x7f9ef383c2d0>, <__main__.AssociationRule object at 0x7f9ef383c350>, <__main__.AssociationRule object at 0x7f9ef383c450>, <__main__.AssociationRule object at 0x7f9ef383c3d0>, <__main__.AssociationRule object at 0x7f9ef383c690>, <__main__.AssociationRule object at 0x7f9ef383c6d0>, <__main__.AssociationRule object at 0x7f9ef383c810>, <__main__.AssociationRule object at 0x7f9ef383c950>, <__main__.AssociationRule object at 0x7f9ef383ca90>, <__main__.AssociationRule object at 0x7f9ef383cb50>, <__main__.AssociationRule object at 0x7f9ef383cc50>, <__main__.AssociationRule object at 0x7f9ef383cd90>, <__main__.AssociationRule object at 0x7f9ef383ce90>, <__main__.AssociationRule object at 0x7f9ef383cf50>, <__main__.AssociationRule object at 0x7f9ef385b090>, <__main__.AssociationRule object at 0x7f9ef385b1d0>, <__main__.AssociationRule object at 0x7f9ef385b290>, <__main__.AssociationRule object at 0x7f9ef385b390>, <__main__.AssociationRule object at 0x7f9ef385b490>, <__main__.AssociationRule object at 0x7f9ef385b5d0>, <__main__.AssociationRule object at 0x7f9ef385b6d0>, <__main__.AssociationRule object at 0x7f9ef385b790>, <__main__.AssociationRule object at 0x7f9ef385b890>, <__main__.AssociationRule object at 0x7f9ef385b990>, <__main__.AssociationRule object at 0x7f9ef385ba90>, <__main__.AssociationRule object at 0x7f9ef385bbd0>, <__main__.AssociationRule object at 0x7f9ef385bcd0>, <__main__.AssociationRule object at 0x7f9ef385bd90>, <__main__.AssociationRule object at 0x7f9ef385be90>, <__main__.AssociationRule object at 0x7f9ef385bf90>, <__main__.AssociationRule object at 0x7f9ef384a0d0>, <__main__.AssociationRule object at 0x7f9ef384a1d0>, <__main__.AssociationRule object at 0x7f9ef384a2d0>, <__main__.AssociationRule object at 0x7f9ef384a410>, <__main__.AssociationRule object at 0x7f9ef384a510>, <__main__.AssociationRule object at 0x7f9ef384a610>, <__main__.AssociationRule object at 0x7f9ef384a6d0>, <__main__.AssociationRule object at 0x7f9ef384a7d0>, <__main__.AssociationRule object at 0x7f9ef384a8d0>, <__main__.AssociationRule object at 0x7f9ef384a9d0>, <__main__.AssociationRule object at 0x7f9ef384aad0>, <__main__.AssociationRule object at 0x7f9ef384ac10>, <__main__.AssociationRule object at 0x7f9ef384ad10>, <__main__.AssociationRule object at 0x7f9ef384ae10>, <__main__.AssociationRule object at 0x7f9ef384af10>, <__main__.AssociationRule object at 0x7f9ef384afd0>, <__main__.AssociationRule object at 0x7f9ef3843110>, <__main__.AssociationRule object at 0x7f9ef3843210>, <__main__.AssociationRule object at 0x7f9ef3843350>, <__main__.AssociationRule object at 0x7f9ef3843410>, <__main__.AssociationRule object at 0x7f9ef3843510>, <__main__.AssociationRule object at 0x7f9ef3843650>, <__main__.AssociationRule object at 0x7f9ef3843750>, <__main__.AssociationRule object at 0x7f9ef3843850>, <__main__.AssociationRule object at 0x7f9ef3843950>, <__main__.AssociationRule object at 0x7f9ef3843a10>, <__main__.AssociationRule object at 0x7f9ef3843b50>, <__main__.AssociationRule object at 0x7f9ef3843c50>, <__main__.AssociationRule object at 0x7f9ef3843d50>, <__main__.AssociationRule object at 0x7f9ef3843e50>, <__main__.AssociationRule object at 0x7f9ef3843f50>, <__main__.AssociationRule object at 0x7f9ef3850050>, <__main__.AssociationRule object at 0x7f9ef3850150>, <__main__.AssociationRule object at 0x7f9ef3850250>, <__main__.AssociationRule object at 0x7f9ef3850350>, <__main__.AssociationRule object at 0x7f9ef3850490>, <__main__.AssociationRule object at 0x7f9ef3850550>, <__main__.AssociationRule object at 0x7f9ef3850690>, <__main__.AssociationRule object at 0x7f9ef3850750>, <__main__.AssociationRule object at 0x7f9ef3850850>, <__main__.AssociationRule object at 0x7f9ef3850990>, <__main__.AssociationRule object at 0x7f9ef3850a90>, <__main__.AssociationRule object at 0x7f9ef3850b50>, <__main__.AssociationRule object at 0x7f9ef3850c90>, <__main__.AssociationRule object at 0x7f9ef3850d90>, <__main__.AssociationRule object at 0x7f9ef3850e50>, <__main__.AssociationRule object at 0x7f9ef3850f50>, <__main__.AssociationRule object at 0x7f9ef385d090>, <__main__.AssociationRule object at 0x7f9ef385d1d0>, <__main__.AssociationRule object at 0x7f9ef385d2d0>, <__main__.AssociationRule object at 0x7f9ef385d3d0>, <__main__.AssociationRule object at 0x7f9ef385d490>, <__main__.AssociationRule object at 0x7f9ef385d5d0>, <__main__.AssociationRule object at 0x7f9ef385d6d0>, <__main__.AssociationRule object at 0x7f9ef385d7d0>, <__main__.AssociationRule object at 0x7f9ef385d8d0>, <__main__.AssociationRule object at 0x7f9ef385d990>, <__main__.AssociationRule object at 0x7f9ef385dad0>, <__main__.AssociationRule object at 0x7f9ef385db90>, <__main__.AssociationRule object at 0x7f9ef385dcd0>, <__main__.AssociationRule object at 0x7f9ef385dd90>, <__main__.AssociationRule object at 0x7f9ef385de90>, <__main__.AssociationRule object at 0x7f9ef385dfd0>, <__main__.AssociationRule object at 0x7f9ef383a110>, <__main__.AssociationRule object at 0x7f9ef383a1d0>, <__main__.AssociationRule object at 0x7f9ef383a2d0>, <__main__.AssociationRule object at 0x7f9ef383a3d0>, <__main__.AssociationRule object at 0x7f9ef383a4d0>, <__main__.AssociationRule object at 0x7f9ef383a5d0>, <__main__.AssociationRule object at 0x7f9ef383a6d0>, <__main__.AssociationRule object at 0x7f9ef383a7d0>, <__main__.AssociationRule object at 0x7f9ef383a8d0>, <__main__.AssociationRule object at 0x7f9ef383aa10>, <__main__.AssociationRule object at 0x7f9ef383ab50>, <__main__.AssociationRule object at 0x7f9ef383ac90>, <__main__.AssociationRule object at 0x7f9ef383add0>, <__main__.AssociationRule object at 0x7f9ef383af10>, <__main__.AssociationRule object at 0x7f9ef3844090>, <__main__.AssociationRule object at 0x7f9ef38441d0>, <__main__.AssociationRule object at 0x7f9ef3844310>, <__main__.AssociationRule object at 0x7f9ef3844450>, <__main__.AssociationRule object at 0x7f9ef3844590>, <__main__.AssociationRule object at 0x7f9ef38446d0>, <__main__.AssociationRule object at 0x7f9ef3844810>, <__main__.AssociationRule object at 0x7f9ef3844950>, <__main__.AssociationRule object at 0x7f9ef3844a90>, <__main__.AssociationRule object at 0x7f9ef3844bd0>, <__main__.AssociationRule object at 0x7f9ef3844d10>, <__main__.AssociationRule object at 0x7f9ef3844e50>, <__main__.AssociationRule object at 0x7f9ef3844f90>, <__main__.AssociationRule object at 0x7f9ef385e110>, <__main__.AssociationRule object at 0x7f9ef385e250>, <__main__.AssociationRule object at 0x7f9ef385e390>, <__main__.AssociationRule object at 0x7f9ef385e4d0>, <__main__.AssociationRule object at 0x7f9ef385e610>, <__main__.AssociationRule object at 0x7f9ef385e750>, <__main__.AssociationRule object at 0x7f9ef385e890>, <__main__.AssociationRule object at 0x7f9ef38a1fd0>, <__main__.AssociationRule object at 0x7f9ef33eafd0>, <__main__.AssociationRule object at 0x7f9ef33ea2d0>, <__main__.AssociationRule object at 0x7f9ef33ea1d0>, <__main__.AssociationRule object at 0x7f9ef33eadd0>, <__main__.AssociationRule object at 0x7f9ef33ea9d0>, <__main__.AssociationRule object at 0x7f9ef3403b50>, <__main__.AssociationRule object at 0x7f9ef3403550>, <__main__.AssociationRule object at 0x7f9ef385e950>, <__main__.AssociationRule object at 0x7f9ef385ea90>, <__main__.AssociationRule object at 0x7f9ef385ebd0>, <__main__.AssociationRule object at 0x7f9ef385ed10>, <__main__.AssociationRule object at 0x7f9ef385ee50>, <__main__.AssociationRule object at 0x7f9ef385ef90>, <__main__.AssociationRule object at 0x7f9ef3862110>, <__main__.AssociationRule object at 0x7f9ef3862250>, <__main__.AssociationRule object at 0x7f9ef3862390>, <__main__.AssociationRule object at 0x7f9ef38624d0>, <__main__.AssociationRule object at 0x7f9ef3862610>, <__main__.AssociationRule object at 0x7f9ef3862750>, <__main__.AssociationRule object at 0x7f9ef3862890>, <__main__.AssociationRule object at 0x7f9ef38629d0>, <__main__.AssociationRule object at 0x7f9ef3862b10>, <__main__.AssociationRule object at 0x7f9ef3862c50>, <__main__.AssociationRule object at 0x7f9ef3862d90>, <__main__.AssociationRule object at 0x7f9ef3862ed0>, <__main__.AssociationRule object at 0x7f9ef384e050>, <__main__.AssociationRule object at 0x7f9ef384e190>, <__main__.AssociationRule object at 0x7f9ef384e2d0>, <__main__.AssociationRule object at 0x7f9ef384e410>, <__main__.AssociationRule object at 0x7f9ef384e550>, <__main__.AssociationRule object at 0x7f9ef384e690>, <__main__.AssociationRule object at 0x7f9ef384e7d0>, <__main__.AssociationRule object at 0x7f9ef384e910>, <__main__.AssociationRule object at 0x7f9ef384ea50>, <__main__.AssociationRule object at 0x7f9ef384eb90>, <__main__.AssociationRule object at 0x7f9ef384ecd0>, <__main__.AssociationRule object at 0x7f9ef384ee10>, <__main__.AssociationRule object at 0x7f9ef384ef50>, <__main__.AssociationRule object at 0x7f9ef384b0d0>, <__main__.AssociationRule object at 0x7f9ef384b210>, <__main__.AssociationRule object at 0x7f9ef384b350>, <__main__.AssociationRule object at 0x7f9ef384b490>, <__main__.AssociationRule object at 0x7f9ef384b5d0>, <__main__.AssociationRule object at 0x7f9ef384b710>, <__main__.AssociationRule object at 0x7f9ef384b850>, <__main__.AssociationRule object at 0x7f9ef384b990>, <__main__.AssociationRule object at 0x7f9ef384bad0>, <__main__.AssociationRule object at 0x7f9ef384bc10>, <__main__.AssociationRule object at 0x7f9ef384bd50>, <__main__.AssociationRule object at 0x7f9ef384be90>, <__main__.AssociationRule object at 0x7f9ef384bfd0>, <__main__.AssociationRule object at 0x7f9ef3851150>, <__main__.AssociationRule object at 0x7f9ef3851290>, <__main__.AssociationRule object at 0x7f9ef38513d0>, <__main__.AssociationRule object at 0x7f9ef3851510>, <__main__.AssociationRule object at 0x7f9ef3851650>, <__main__.AssociationRule object at 0x7f9ef3851790>, <__main__.AssociationRule object at 0x7f9ef38518d0>, <__main__.AssociationRule object at 0x7f9ef3851a10>, <__main__.AssociationRule object at 0x7f9ef3851b50>, <__main__.AssociationRule object at 0x7f9ef3851c90>, <__main__.AssociationRule object at 0x7f9ef3851dd0>, <__main__.AssociationRule object at 0x7f9ef3851f10>, <__main__.AssociationRule object at 0x7f9ef3863090>, <__main__.AssociationRule object at 0x7f9ef38631d0>, <__main__.AssociationRule object at 0x7f9ef3863310>, <__main__.AssociationRule object at 0x7f9ef3863450>, <__main__.AssociationRule object at 0x7f9ef3863590>, <__main__.AssociationRule object at 0x7f9ef38636d0>, <__main__.AssociationRule object at 0x7f9ef3863810>, <__main__.AssociationRule object at 0x7f9ef3863950>, <__main__.AssociationRule object at 0x7f9ef3863a90>, <__main__.AssociationRule object at 0x7f9ef3863bd0>, <__main__.AssociationRule object at 0x7f9ef3863d10>, <__main__.AssociationRule object at 0x7f9ef3863e50>, <__main__.AssociationRule object at 0x7f9ef3863f90>, <__main__.AssociationRule object at 0x7f9ef3838110>, <__main__.AssociationRule object at 0x7f9ef3838250>, <__main__.AssociationRule object at 0x7f9ef3838390>, <__main__.AssociationRule object at 0x7f9ef38384d0>, <__main__.AssociationRule object at 0x7f9ef3838610>, <__main__.AssociationRule object at 0x7f9ef3838750>, <__main__.AssociationRule object at 0x7f9ef3838890>, <__main__.AssociationRule object at 0x7f9ef38389d0>, <__main__.AssociationRule object at 0x7f9ef3838b10>, <__main__.AssociationRule object at 0x7f9ef3838c50>, <__main__.AssociationRule object at 0x7f9ef3838d90>, <__main__.AssociationRule object at 0x7f9ef3838ed0>, <__main__.AssociationRule object at 0x7f9ef3835050>, <__main__.AssociationRule object at 0x7f9ef3835190>, <__main__.AssociationRule object at 0x7f9ef38352d0>, <__main__.AssociationRule object at 0x7f9ef3835410>, <__main__.AssociationRule object at 0x7f9ef3835550>, <__main__.AssociationRule object at 0x7f9ef3835690>, <__main__.AssociationRule object at 0x7f9ef38357d0>, <__main__.AssociationRule object at 0x7f9ef3835910>, <__main__.AssociationRule object at 0x7f9ef3835a50>, <__main__.AssociationRule object at 0x7f9ef3835b90>, <__main__.AssociationRule object at 0x7f9ef3835cd0>, <__main__.AssociationRule object at 0x7f9ef3835e10>, <__main__.AssociationRule object at 0x7f9ef3835f50>, <__main__.AssociationRule object at 0x7f9ef383e0d0>, <__main__.AssociationRule object at 0x7f9ef383e210>, <__main__.AssociationRule object at 0x7f9ef383e350>, <__main__.AssociationRule object at 0x7f9ef383e490>, <__main__.AssociationRule object at 0x7f9ef383e5d0>, <__main__.AssociationRule object at 0x7f9ef383e710>, <__main__.AssociationRule object at 0x7f9ef383e850>, <__main__.AssociationRule object at 0x7f9ef383e990>, <__main__.AssociationRule object at 0x7f9ef383ead0>, <__main__.AssociationRule object at 0x7f9ef383ec10>, <__main__.AssociationRule object at 0x7f9ef383ed50>, <__main__.AssociationRule object at 0x7f9ef383ee90>, <__main__.AssociationRule object at 0x7f9ef383efd0>, <__main__.AssociationRule object at 0x7f9ef3857150>, <__main__.AssociationRule object at 0x7f9ef3857290>, <__main__.AssociationRule object at 0x7f9ef38573d0>, <__main__.AssociationRule object at 0x7f9ef3857510>, <__main__.AssociationRule object at 0x7f9ef3857650>, <__main__.AssociationRule object at 0x7f9ef3857790>, <__main__.AssociationRule object at 0x7f9ef38578d0>, <__main__.AssociationRule object at 0x7f9ef3857a10>, <__main__.AssociationRule object at 0x7f9ef3857b50>, <__main__.AssociationRule object at 0x7f9ef3857c90>, <__main__.AssociationRule object at 0x7f9ef3857dd0>, <__main__.AssociationRule object at 0x7f9ef3857f10>, <__main__.AssociationRule object at 0x7f9ef3864090>, <__main__.AssociationRule object at 0x7f9ef38641d0>, <__main__.AssociationRule object at 0x7f9ef3864310>, <__main__.AssociationRule object at 0x7f9ef3864450>, <__main__.AssociationRule object at 0x7f9ef3864590>, <__main__.AssociationRule object at 0x7f9ef38646d0>, <__main__.AssociationRule object at 0x7f9ef3864810>, <__main__.AssociationRule object at 0x7f9ef3864950>, <__main__.AssociationRule object at 0x7f9ef3864a90>, <__main__.AssociationRule object at 0x7f9ef3864bd0>, <__main__.AssociationRule object at 0x7f9ef3864d10>, <__main__.AssociationRule object at 0x7f9ef3864e50>, <__main__.AssociationRule object at 0x7f9ef3864f90>, <__main__.AssociationRule object at 0x7f9ef382b110>, <__main__.AssociationRule object at 0x7f9ef382b250>, <__main__.AssociationRule object at 0x7f9ef382b390>, <__main__.AssociationRule object at 0x7f9ef382b4d0>, <__main__.AssociationRule object at 0x7f9ef382b610>, <__main__.AssociationRule object at 0x7f9ef382b750>, <__main__.AssociationRule object at 0x7f9ef382b890>, <__main__.AssociationRule object at 0x7f9ef382b9d0>, <__main__.AssociationRule object at 0x7f9ef382bb10>, <__main__.AssociationRule object at 0x7f9ef382bc50>, <__main__.AssociationRule object at 0x7f9ef382bd90>, <__main__.AssociationRule object at 0x7f9ef382bed0>, <__main__.AssociationRule object at 0x7f9ef385c050>, <__main__.AssociationRule object at 0x7f9ef385c190>, <__main__.AssociationRule object at 0x7f9ef385c2d0>, <__main__.AssociationRule object at 0x7f9ef385c410>, <__main__.AssociationRule object at 0x7f9ef385c550>, <__main__.AssociationRule object at 0x7f9ef385c690>, <__main__.AssociationRule object at 0x7f9ef385c7d0>, <__main__.AssociationRule object at 0x7f9ef385c910>, <__main__.AssociationRule object at 0x7f9ef385ca50>, <__main__.AssociationRule object at 0x7f9ef385cb90>, <__main__.AssociationRule object at 0x7f9ef385ccd0>, <__main__.AssociationRule object at 0x7f9ef385ce10>, <__main__.AssociationRule object at 0x7f9ef385cf50>, <__main__.AssociationRule object at 0x7f9ef384d0d0>, <__main__.AssociationRule object at 0x7f9ef384d210>, <__main__.AssociationRule object at 0x7f9ef384d350>, <__main__.AssociationRule object at 0x7f9ef384d490>, <__main__.AssociationRule object at 0x7f9ef384d5d0>, <__main__.AssociationRule object at 0x7f9ef384d710>, <__main__.AssociationRule object at 0x7f9ef384d850>, <__main__.AssociationRule object at 0x7f9ef384d990>, <__main__.AssociationRule object at 0x7f9ef384dad0>, <__main__.AssociationRule object at 0x7f9ef384dc10>, <__main__.AssociationRule object at 0x7f9ef384dd50>, <__main__.AssociationRule object at 0x7f9ef384de90>, <__main__.AssociationRule object at 0x7f9ef384dfd0>, <__main__.AssociationRule object at 0x7f9ef3846150>, <__main__.AssociationRule object at 0x7f9ef3846290>, <__main__.AssociationRule object at 0x7f9ef38463d0>, <__main__.AssociationRule object at 0x7f9ef3846510>, <__main__.AssociationRule object at 0x7f9ef3846650>, <__main__.AssociationRule object at 0x7f9ef3846790>, <__main__.AssociationRule object at 0x7f9ef38468d0>, <__main__.AssociationRule object at 0x7f9ef3846a10>, <__main__.AssociationRule object at 0x7f9ef3846b50>, <__main__.AssociationRule object at 0x7f9ef3846c90>, <__main__.AssociationRule object at 0x7f9ef3846dd0>, <__main__.AssociationRule object at 0x7f9ef3846f10>, <__main__.AssociationRule object at 0x7f9ef3854090>, <__main__.AssociationRule object at 0x7f9ef38541d0>, <__main__.AssociationRule object at 0x7f9ef3854310>, <__main__.AssociationRule object at 0x7f9ef3854450>, <__main__.AssociationRule object at 0x7f9ef3854590>, <__main__.AssociationRule object at 0x7f9ef38546d0>, <__main__.AssociationRule object at 0x7f9ef3854810>, <__main__.AssociationRule object at 0x7f9ef3854950>, <__main__.AssociationRule object at 0x7f9ef3854a90>, <__main__.AssociationRule object at 0x7f9ef3854bd0>, <__main__.AssociationRule object at 0x7f9ef3854d10>, <__main__.AssociationRule object at 0x7f9ef3854e50>, <__main__.AssociationRule object at 0x7f9ef3854f90>, <__main__.AssociationRule object at 0x7f9ef3861110>, <__main__.AssociationRule object at 0x7f9ef3861250>, <__main__.AssociationRule object at 0x7f9ef3861390>, <__main__.AssociationRule object at 0x7f9ef38614d0>, <__main__.AssociationRule object at 0x7f9ef3861610>, <__main__.AssociationRule object at 0x7f9ef3861750>, <__main__.AssociationRule object at 0x7f9ef3861890>, <__main__.AssociationRule object at 0x7f9ef38619d0>, <__main__.AssociationRule object at 0x7f9ef3861b10>, <__main__.AssociationRule object at 0x7f9ef3861c50>, <__main__.AssociationRule object at 0x7f9ef3861d90>, <__main__.AssociationRule object at 0x7f9ef3861ed0>, <__main__.AssociationRule object at 0x7f9ef3848050>, <__main__.AssociationRule object at 0x7f9ef3848190>, <__main__.AssociationRule object at 0x7f9ef38482d0>, <__main__.AssociationRule object at 0x7f9ef3848410>, <__main__.AssociationRule object at 0x7f9ef3848550>, <__main__.AssociationRule object at 0x7f9ef3848690>, <__main__.AssociationRule object at 0x7f9ef38487d0>, <__main__.AssociationRule object at 0x7f9ef3848910>, <__main__.AssociationRule object at 0x7f9ef3848a50>, <__main__.AssociationRule object at 0x7f9ef3848b90>, <__main__.AssociationRule object at 0x7f9ef3848cd0>, <__main__.AssociationRule object at 0x7f9ef3848e10>, <__main__.AssociationRule object at 0x7f9ef3848f50>, <__main__.AssociationRule object at 0x7f9ef38270d0>, <__main__.AssociationRule object at 0x7f9ef3827210>, <__main__.AssociationRule object at 0x7f9ef3827350>, <__main__.AssociationRule object at 0x7f9ef3827490>, <__main__.AssociationRule object at 0x7f9ef38275d0>, <__main__.AssociationRule object at 0x7f9ef3827710>, <__main__.AssociationRule object at 0x7f9ef3827850>, <__main__.AssociationRule object at 0x7f9ef3827990>, <__main__.AssociationRule object at 0x7f9ef3827ad0>, <__main__.AssociationRule object at 0x7f9ef3827c10>, <__main__.AssociationRule object at 0x7f9ef3827d50>, <__main__.AssociationRule object at 0x7f9ef3827e90>, <__main__.AssociationRule object at 0x7f9ef3827fd0>, <__main__.AssociationRule object at 0x7f9ef3839150>, <__main__.AssociationRule object at 0x7f9ef3839290>, <__main__.AssociationRule object at 0x7f9ef38393d0>, <__main__.AssociationRule object at 0x7f9ef3839510>, <__main__.AssociationRule object at 0x7f9ef3839650>, <__main__.AssociationRule object at 0x7f9ef3839790>, <__main__.AssociationRule object at 0x7f9ef38398d0>, <__main__.AssociationRule object at 0x7f9ef3839a10>, <__main__.AssociationRule object at 0x7f9ef3839b50>, <__main__.AssociationRule object at 0x7f9ef3839c90>, <__main__.AssociationRule object at 0x7f9ef3839dd0>, <__main__.AssociationRule object at 0x7f9ef3839f10>, <__main__.AssociationRule object at 0x7f9ef3836090>, <__main__.AssociationRule object at 0x7f9ef38361d0>, <__main__.AssociationRule object at 0x7f9ef3836310>, <__main__.AssociationRule object at 0x7f9ef3836450>, <__main__.AssociationRule object at 0x7f9ef3836590>, <__main__.AssociationRule object at 0x7f9ef38366d0>, <__main__.AssociationRule object at 0x7f9ef3836810>, <__main__.AssociationRule object at 0x7f9ef3836950>, <__main__.AssociationRule object at 0x7f9ef3836a90>, <__main__.AssociationRule object at 0x7f9ef3836bd0>, <__main__.AssociationRule object at 0x7f9ef3836d10>, <__main__.AssociationRule object at 0x7f9ef3836e50>, <__main__.AssociationRule object at 0x7f9ef3836f90>, <__main__.AssociationRule object at 0x7f9ef36e9110>, <__main__.AssociationRule object at 0x7f9ef36e9250>, <__main__.AssociationRule object at 0x7f9ef36e9390>, <__main__.AssociationRule object at 0x7f9ef36e94d0>, <__main__.AssociationRule object at 0x7f9ef36e9610>, <__main__.AssociationRule object at 0x7f9ef36e9750>, <__main__.AssociationRule object at 0x7f9ef36e9890>, <__main__.AssociationRule object at 0x7f9ef36e99d0>, <__main__.AssociationRule object at 0x7f9ef36e9b10>, <__main__.AssociationRule object at 0x7f9ef36e9c50>, <__main__.AssociationRule object at 0x7f9ef36e9d90>, <__main__.AssociationRule object at 0x7f9ef36e9ed0>, <__main__.AssociationRule object at 0x7f9ef36e8050>, <__main__.AssociationRule object at 0x7f9ef36e8190>, <__main__.AssociationRule object at 0x7f9ef36e82d0>, <__main__.AssociationRule object at 0x7f9ef36e8410>, <__main__.AssociationRule object at 0x7f9ef36e8550>, <__main__.AssociationRule object at 0x7f9ef36e8690>, <__main__.AssociationRule object at 0x7f9ef36e87d0>, <__main__.AssociationRule object at 0x7f9ef36e8910>, <__main__.AssociationRule object at 0x7f9ef36e8a50>, <__main__.AssociationRule object at 0x7f9ef36e8b90>, <__main__.AssociationRule object at 0x7f9ef36e8cd0>, <__main__.AssociationRule object at 0x7f9ef36e8e10>, <__main__.AssociationRule object at 0x7f9ef36e8f50>, <__main__.AssociationRule object at 0x7f9ef36ee0d0>, <__main__.AssociationRule object at 0x7f9ef36ee210>, <__main__.AssociationRule object at 0x7f9ef36ee350>, <__main__.AssociationRule object at 0x7f9ef36ee490>, <__main__.AssociationRule object at 0x7f9ef36ee5d0>, <__main__.AssociationRule object at 0x7f9ef36ee710>, <__main__.AssociationRule object at 0x7f9ef36ee850>, <__main__.AssociationRule object at 0x7f9ef36ee990>, <__main__.AssociationRule object at 0x7f9ef36eead0>, <__main__.AssociationRule object at 0x7f9ef36eec10>, <__main__.AssociationRule object at 0x7f9ef36eed50>, <__main__.AssociationRule object at 0x7f9ef36eee90>, <__main__.AssociationRule object at 0x7f9ef36eefd0>, <__main__.AssociationRule object at 0x7f9ef36ed150>, <__main__.AssociationRule object at 0x7f9ef36ed290>, <__main__.AssociationRule object at 0x7f9ef36ed3d0>, <__main__.AssociationRule object at 0x7f9ef36ed510>, <__main__.AssociationRule object at 0x7f9ef36ed650>, <__main__.AssociationRule object at 0x7f9ef36ed790>, <__main__.AssociationRule object at 0x7f9ef36ed8d0>, <__main__.AssociationRule object at 0x7f9ef36eda10>, <__main__.AssociationRule object at 0x7f9ef36edb50>, <__main__.AssociationRule object at 0x7f9ef36edc90>, <__main__.AssociationRule object at 0x7f9ef36eddd0>, <__main__.AssociationRule object at 0x7f9ef36edf10>, <__main__.AssociationRule object at 0x7f9ef36fb090>, <__main__.AssociationRule object at 0x7f9ef36fb1d0>, <__main__.AssociationRule object at 0x7f9ef36fb310>, <__main__.AssociationRule object at 0x7f9ef36fb450>, <__main__.AssociationRule object at 0x7f9ef36fb590>, <__main__.AssociationRule object at 0x7f9ef36fb6d0>, <__main__.AssociationRule object at 0x7f9ef36fb810>, <__main__.AssociationRule object at 0x7f9ef36fb950>, <__main__.AssociationRule object at 0x7f9ef36fba90>, <__main__.AssociationRule object at 0x7f9ef36fbbd0>, <__main__.AssociationRule object at 0x7f9ef36fbd10>, <__main__.AssociationRule object at 0x7f9ef36fbe50>, <__main__.AssociationRule object at 0x7f9ef36fbf90>, <__main__.AssociationRule object at 0x7f9ef36ef110>, <__main__.AssociationRule object at 0x7f9ef36ef250>, <__main__.AssociationRule object at 0x7f9ef36ef390>, <__main__.AssociationRule object at 0x7f9ef36ef4d0>, <__main__.AssociationRule object at 0x7f9ef36ef610>, <__main__.AssociationRule object at 0x7f9ef36ef750>, <__main__.AssociationRule object at 0x7f9ef36ef890>, <__main__.AssociationRule object at 0x7f9ef36ef9d0>, <__main__.AssociationRule object at 0x7f9ef36efb10>, <__main__.AssociationRule object at 0x7f9ef36efc50>, <__main__.AssociationRule object at 0x7f9ef36efd90>, <__main__.AssociationRule object at 0x7f9ef36efed0>, <__main__.AssociationRule object at 0x7f9ef3709050>, <__main__.AssociationRule object at 0x7f9ef3709190>, <__main__.AssociationRule object at 0x7f9ef37092d0>, <__main__.AssociationRule object at 0x7f9ef3709410>, <__main__.AssociationRule object at 0x7f9ef3709550>, <__main__.AssociationRule object at 0x7f9ef3709690>, <__main__.AssociationRule object at 0x7f9ef37097d0>, <__main__.AssociationRule object at 0x7f9ef3709910>, <__main__.AssociationRule object at 0x7f9ef3709a50>, <__main__.AssociationRule object at 0x7f9ef3709b90>, <__main__.AssociationRule object at 0x7f9ef3709cd0>, <__main__.AssociationRule object at 0x7f9ef3709e10>, <__main__.AssociationRule object at 0x7f9ef3709f50>, <__main__.AssociationRule object at 0x7f9ef37180d0>, <__main__.AssociationRule object at 0x7f9ef3718210>, <__main__.AssociationRule object at 0x7f9ef3718350>, <__main__.AssociationRule object at 0x7f9ef3718490>, <__main__.AssociationRule object at 0x7f9ef37185d0>, <__main__.AssociationRule object at 0x7f9ef3718710>, <__main__.AssociationRule object at 0x7f9ef3718850>, <__main__.AssociationRule object at 0x7f9ef3718990>, <__main__.AssociationRule object at 0x7f9ef3718ad0>, <__main__.AssociationRule object at 0x7f9ef3718c10>, <__main__.AssociationRule object at 0x7f9ef3718d50>, <__main__.AssociationRule object at 0x7f9ef3718e90>, <__main__.AssociationRule object at 0x7f9ef3718fd0>, <__main__.AssociationRule object at 0x7f9ef370f150>, <__main__.AssociationRule object at 0x7f9ef370f290>, <__main__.AssociationRule object at 0x7f9ef370f3d0>, <__main__.AssociationRule object at 0x7f9ef370f510>, <__main__.AssociationRule object at 0x7f9ef370f650>, <__main__.AssociationRule object at 0x7f9ef370f790>, <__main__.AssociationRule object at 0x7f9ef370f8d0>, <__main__.AssociationRule object at 0x7f9ef370fa10>, <__main__.AssociationRule object at 0x7f9ef370fb50>, <__main__.AssociationRule object at 0x7f9ef370fc90>, <__main__.AssociationRule object at 0x7f9ef370fdd0>, <__main__.AssociationRule object at 0x7f9ef370ff10>, <__main__.AssociationRule object at 0x7f9ef3712090>, <__main__.AssociationRule object at 0x7f9ef37121d0>, <__main__.AssociationRule object at 0x7f9ef3712310>, <__main__.AssociationRule object at 0x7f9ef3712450>, <__main__.AssociationRule object at 0x7f9ef3712590>, <__main__.AssociationRule object at 0x7f9ef37126d0>, <__main__.AssociationRule object at 0x7f9ef3712810>, <__main__.AssociationRule object at 0x7f9ef3712950>, <__main__.AssociationRule object at 0x7f9ef3712a90>, <__main__.AssociationRule object at 0x7f9ef3712bd0>, <__main__.AssociationRule object at 0x7f9ef3712d10>, <__main__.AssociationRule object at 0x7f9ef3712e50>, <__main__.AssociationRule object at 0x7f9ef3712f90>, <__main__.AssociationRule object at 0x7f9ef3710110>, <__main__.AssociationRule object at 0x7f9ef3710250>, <__main__.AssociationRule object at 0x7f9ef3710390>, <__main__.AssociationRule object at 0x7f9ef37104d0>, <__main__.AssociationRule object at 0x7f9ef3710610>, <__main__.AssociationRule object at 0x7f9ef3710750>, <__main__.AssociationRule object at 0x7f9ef3710890>, <__main__.AssociationRule object at 0x7f9ef37109d0>, <__main__.AssociationRule object at 0x7f9ef3710b10>, <__main__.AssociationRule object at 0x7f9ef3710c50>, <__main__.AssociationRule object at 0x7f9ef3710d90>, <__main__.AssociationRule object at 0x7f9ef3710ed0>, <__main__.AssociationRule object at 0x7f9ef3714050>, <__main__.AssociationRule object at 0x7f9ef3714190>, <__main__.AssociationRule object at 0x7f9ef37142d0>, <__main__.AssociationRule object at 0x7f9ef3714410>, <__main__.AssociationRule object at 0x7f9ef3714550>, <__main__.AssociationRule object at 0x7f9ef3714690>, <__main__.AssociationRule object at 0x7f9ef37147d0>, <__main__.AssociationRule object at 0x7f9ef3714910>, <__main__.AssociationRule object at 0x7f9ef3714a50>, <__main__.AssociationRule object at 0x7f9ef3714b90>, <__main__.AssociationRule object at 0x7f9ef3714cd0>, <__main__.AssociationRule object at 0x7f9ef3714e10>, <__main__.AssociationRule object at 0x7f9ef3714f50>, <__main__.AssociationRule object at 0x7f9ef371d0d0>, <__main__.AssociationRule object at 0x7f9ef371d210>, <__main__.AssociationRule object at 0x7f9ef371d350>, <__main__.AssociationRule object at 0x7f9ef371d490>, <__main__.AssociationRule object at 0x7f9ef371d5d0>, <__main__.AssociationRule object at 0x7f9ef371d710>, <__main__.AssociationRule object at 0x7f9ef371d850>, <__main__.AssociationRule object at 0x7f9ef371d990>, <__main__.AssociationRule object at 0x7f9ef371dad0>, <__main__.AssociationRule object at 0x7f9ef371dc10>, <__main__.AssociationRule object at 0x7f9ef371dd50>, <__main__.AssociationRule object at 0x7f9ef371de90>, <__main__.AssociationRule object at 0x7f9ef371dfd0>, <__main__.AssociationRule object at 0x7f9ef371c150>, <__main__.AssociationRule object at 0x7f9ef371c290>, <__main__.AssociationRule object at 0x7f9ef371c3d0>, <__main__.AssociationRule object at 0x7f9ef371c510>, <__main__.AssociationRule object at 0x7f9ef371c650>, <__main__.AssociationRule object at 0x7f9ef371c790>, <__main__.AssociationRule object at 0x7f9ef371c8d0>, <__main__.AssociationRule object at 0x7f9ef371ca10>, <__main__.AssociationRule object at 0x7f9ef371cb50>, <__main__.AssociationRule object at 0x7f9ef371cc90>, <__main__.AssociationRule object at 0x7f9ef371cdd0>, <__main__.AssociationRule object at 0x7f9ef371cf10>, <__main__.AssociationRule object at 0x7f9ef3720090>, <__main__.AssociationRule object at 0x7f9ef37201d0>, <__main__.AssociationRule object at 0x7f9ef3720310>, <__main__.AssociationRule object at 0x7f9ef3720450>, <__main__.AssociationRule object at 0x7f9ef3720590>, <__main__.AssociationRule object at 0x7f9ef37206d0>, <__main__.AssociationRule object at 0x7f9ef3720810>, <__main__.AssociationRule object at 0x7f9ef3720950>, <__main__.AssociationRule object at 0x7f9ef3720a90>, <__main__.AssociationRule object at 0x7f9ef3720bd0>, <__main__.AssociationRule object at 0x7f9ef3720d10>, <__main__.AssociationRule object at 0x7f9ef3720e50>, <__main__.AssociationRule object at 0x7f9ef3720f90>, <__main__.AssociationRule object at 0x7f9ef3723110>, <__main__.AssociationRule object at 0x7f9ef3723250>, <__main__.AssociationRule object at 0x7f9ef3723390>, <__main__.AssociationRule object at 0x7f9ef37234d0>, <__main__.AssociationRule object at 0x7f9ef3723610>, <__main__.AssociationRule object at 0x7f9ef3723750>, <__main__.AssociationRule object at 0x7f9ef3723890>, <__main__.AssociationRule object at 0x7f9ef37239d0>, <__main__.AssociationRule object at 0x7f9ef3723b10>, <__main__.AssociationRule object at 0x7f9ef3723c50>, <__main__.AssociationRule object at 0x7f9ef3723d90>, <__main__.AssociationRule object at 0x7f9ef3723ed0>, <__main__.AssociationRule object at 0x7f9ef3700050>, <__main__.AssociationRule object at 0x7f9ef3700190>, <__main__.AssociationRule object at 0x7f9ef37002d0>, <__main__.AssociationRule object at 0x7f9ef3700410>, <__main__.AssociationRule object at 0x7f9ef3700550>, <__main__.AssociationRule object at 0x7f9ef3700690>, <__main__.AssociationRule object at 0x7f9ef37007d0>, <__main__.AssociationRule object at 0x7f9ef3700910>, <__main__.AssociationRule object at 0x7f9ef3700a50>, <__main__.AssociationRule object at 0x7f9ef3700b90>, <__main__.AssociationRule object at 0x7f9ef3700cd0>, <__main__.AssociationRule object at 0x7f9ef3700e10>, <__main__.AssociationRule object at 0x7f9ef3700f50>, <__main__.AssociationRule object at 0x7f9ef36fc0d0>, <__main__.AssociationRule object at 0x7f9ef36fc210>, <__main__.AssociationRule object at 0x7f9ef36fc350>, <__main__.AssociationRule object at 0x7f9ef36fc490>, <__main__.AssociationRule object at 0x7f9ef36fc5d0>, <__main__.AssociationRule object at 0x7f9ef36fc750>, <__main__.AssociationRule object at 0x7f9ef36fc8d0>, <__main__.AssociationRule object at 0x7f9ef36fca50>, <__main__.AssociationRule object at 0x7f9ef36fcbd0>, <__main__.AssociationRule object at 0x7f9ef36fcd50>, <__main__.AssociationRule object at 0x7f9ef36fced0>, <__main__.AssociationRule object at 0x7f9ef370b090>, <__main__.AssociationRule object at 0x7f9ef370b210>, <__main__.AssociationRule object at 0x7f9ef370b390>, <__main__.AssociationRule object at 0x7f9ef370b510>, <__main__.AssociationRule object at 0x7f9ef370b690>, <__main__.AssociationRule object at 0x7f9ef370b810>, <__main__.AssociationRule object at 0x7f9ef370b990>, <__main__.AssociationRule object at 0x7f9ef370bb10>, <__main__.AssociationRule object at 0x7f9ef370bc90>, <__main__.AssociationRule object at 0x7f9ef370be10>, <__main__.AssociationRule object at 0x7f9ef370bf90>, <__main__.AssociationRule object at 0x7f9ef36fe150>, <__main__.AssociationRule object at 0x7f9ef36fe2d0>, <__main__.AssociationRule object at 0x7f9ef36fe450>, <__main__.AssociationRule object at 0x7f9ef36fe5d0>, <__main__.AssociationRule object at 0x7f9ef36fe750>, <__main__.AssociationRule object at 0x7f9ef36fe8d0>, <__main__.AssociationRule object at 0x7f9ef36fea50>, <__main__.AssociationRule object at 0x7f9ef36febd0>, <__main__.AssociationRule object at 0x7f9ef36fed50>, <__main__.AssociationRule object at 0x7f9ef36feed0>, <__main__.AssociationRule object at 0x7f9ef3708090>, <__main__.AssociationRule object at 0x7f9ef3708210>, <__main__.AssociationRule object at 0x7f9ef3708390>, <__main__.AssociationRule object at 0x7f9ef3708510>, <__main__.AssociationRule object at 0x7f9ef3708690>, <__main__.AssociationRule object at 0x7f9ef3708810>, <__main__.AssociationRule object at 0x7f9ef3708990>, <__main__.AssociationRule object at 0x7f9ef3708b10>, <__main__.AssociationRule object at 0x7f9ef3708c90>, <__main__.AssociationRule object at 0x7f9ef3708e10>, <__main__.AssociationRule object at 0x7f9ef3708f90>, <__main__.AssociationRule object at 0x7f9ef31e8150>, <__main__.AssociationRule object at 0x7f9ef31e82d0>, <__main__.AssociationRule object at 0x7f9ef31e8450>, <__main__.AssociationRule object at 0x7f9ef31e85d0>, <__main__.AssociationRule object at 0x7f9ef31e8750>, <__main__.AssociationRule object at 0x7f9ef31e88d0>, <__main__.AssociationRule object at 0x7f9ef31e8a50>, <__main__.AssociationRule object at 0x7f9ef31e8bd0>, <__main__.AssociationRule object at 0x7f9ef31e8d50>, <__main__.AssociationRule object at 0x7f9ef31e8ed0>, <__main__.AssociationRule object at 0x7f9ef3213090>, <__main__.AssociationRule object at 0x7f9ef3213210>, <__main__.AssociationRule object at 0x7f9ef3213390>, <__main__.AssociationRule object at 0x7f9ef3213510>, <__main__.AssociationRule object at 0x7f9ef3213690>, <__main__.AssociationRule object at 0x7f9ef3213810>, <__main__.AssociationRule object at 0x7f9ef3213990>, <__main__.AssociationRule object at 0x7f9ef3213b10>, <__main__.AssociationRule object at 0x7f9ef3213c90>, <__main__.AssociationRule object at 0x7f9ef3213e10>, <__main__.AssociationRule object at 0x7f9ef3213f90>, <__main__.AssociationRule object at 0x7f9ef3215150>, <__main__.AssociationRule object at 0x7f9ef32152d0>, <__main__.AssociationRule object at 0x7f9ef3215450>, <__main__.AssociationRule object at 0x7f9ef32155d0>, <__main__.AssociationRule object at 0x7f9ef3215750>, <__main__.AssociationRule object at 0x7f9ef32158d0>, <__main__.AssociationRule object at 0x7f9ef3215a50>, <__main__.AssociationRule object at 0x7f9ef3215bd0>, <__main__.AssociationRule object at 0x7f9ef3215d50>, <__main__.AssociationRule object at 0x7f9ef3215ed0>, <__main__.AssociationRule object at 0x7f9ef320e090>, <__main__.AssociationRule object at 0x7f9ef320e210>, <__main__.AssociationRule object at 0x7f9ef320e390>, <__main__.AssociationRule object at 0x7f9ef320e510>, <__main__.AssociationRule object at 0x7f9ef320e690>, <__main__.AssociationRule object at 0x7f9ef320e810>, <__main__.AssociationRule object at 0x7f9ef320e990>, <__main__.AssociationRule object at 0x7f9ef320eb10>, <__main__.AssociationRule object at 0x7f9ef320ec90>, <__main__.AssociationRule object at 0x7f9ef320ee10>, <__main__.AssociationRule object at 0x7f9ef320ef90>, <__main__.AssociationRule object at 0x7f9ef3211150>, <__main__.AssociationRule object at 0x7f9ef32112d0>, <__main__.AssociationRule object at 0x7f9ef3211450>, <__main__.AssociationRule object at 0x7f9ef32115d0>, <__main__.AssociationRule object at 0x7f9ef3211750>, <__main__.AssociationRule object at 0x7f9ef32118d0>, <__main__.AssociationRule object at 0x7f9ef3211a50>, <__main__.AssociationRule object at 0x7f9ef3211bd0>, <__main__.AssociationRule object at 0x7f9ef3211d50>, <__main__.AssociationRule object at 0x7f9ef3211ed0>, <__main__.AssociationRule object at 0x7f9ef31fb090>, <__main__.AssociationRule object at 0x7f9ef31fb210>, <__main__.AssociationRule object at 0x7f9ef31fb390>, <__main__.AssociationRule object at 0x7f9ef31fb510>, <__main__.AssociationRule object at 0x7f9ef31fb690>, <__main__.AssociationRule object at 0x7f9ef31fb810>, <__main__.AssociationRule object at 0x7f9ef31fb990>, <__main__.AssociationRule object at 0x7f9ef31fbb10>, <__main__.AssociationRule object at 0x7f9ef31fbc90>, <__main__.AssociationRule object at 0x7f9ef31fbe10>, <__main__.AssociationRule object at 0x7f9ef31fbf90>, <__main__.AssociationRule object at 0x7f9ef3207150>, <__main__.AssociationRule object at 0x7f9ef32072d0>, <__main__.AssociationRule object at 0x7f9ef3207450>, <__main__.AssociationRule object at 0x7f9ef32075d0>, <__main__.AssociationRule object at 0x7f9ef3207750>, <__main__.AssociationRule object at 0x7f9ef32078d0>, <__main__.AssociationRule object at 0x7f9ef3207a50>, <__main__.AssociationRule object at 0x7f9ef3207bd0>, <__main__.AssociationRule object at 0x7f9ef3207d50>, <__main__.AssociationRule object at 0x7f9ef3207ed0>, <__main__.AssociationRule object at 0x7f9ef31fc090>, <__main__.AssociationRule object at 0x7f9ef31fc210>, <__main__.AssociationRule object at 0x7f9ef31fc390>, <__main__.AssociationRule object at 0x7f9ef31fc510>, <__main__.AssociationRule object at 0x7f9ef31fc690>, <__main__.AssociationRule object at 0x7f9ef31fc810>, <__main__.AssociationRule object at 0x7f9ef31fc990>, <__main__.AssociationRule object at 0x7f9ef31fcb10>, <__main__.AssociationRule object at 0x7f9ef31fcc90>, <__main__.AssociationRule object at 0x7f9ef31fce10>, <__main__.AssociationRule object at 0x7f9ef31fcf90>, <__main__.AssociationRule object at 0x7f9ef31f5150>, <__main__.AssociationRule object at 0x7f9ef31f52d0>, <__main__.AssociationRule object at 0x7f9ef31f5450>, <__main__.AssociationRule object at 0x7f9ef31f55d0>, <__main__.AssociationRule object at 0x7f9ef31f5750>, <__main__.AssociationRule object at 0x7f9ef31f58d0>, <__main__.AssociationRule object at 0x7f9ef31f5a50>, <__main__.AssociationRule object at 0x7f9ef31f5bd0>, <__main__.AssociationRule object at 0x7f9ef31f5d50>, <__main__.AssociationRule object at 0x7f9ef31f5ed0>, <__main__.AssociationRule object at 0x7f9ef3212090>, <__main__.AssociationRule object at 0x7f9ef3212210>, <__main__.AssociationRule object at 0x7f9ef3212390>, <__main__.AssociationRule object at 0x7f9ef3212510>, <__main__.AssociationRule object at 0x7f9ef3212690>, <__main__.AssociationRule object at 0x7f9ef3212810>, <__main__.AssociationRule object at 0x7f9ef3212990>, <__main__.AssociationRule object at 0x7f9ef3212b10>, <__main__.AssociationRule object at 0x7f9ef3212c90>, <__main__.AssociationRule object at 0x7f9ef3212e10>, <__main__.AssociationRule object at 0x7f9ef3212f90>, <__main__.AssociationRule object at 0x7f9ef31ec150>, <__main__.AssociationRule object at 0x7f9ef31ec2d0>, <__main__.AssociationRule object at 0x7f9ef31ec450>, <__main__.AssociationRule object at 0x7f9ef31ec5d0>, <__main__.AssociationRule object at 0x7f9ef31ec750>, <__main__.AssociationRule object at 0x7f9ef31ec8d0>, <__main__.AssociationRule object at 0x7f9ef31eca50>, <__main__.AssociationRule object at 0x7f9ef31ecbd0>, <__main__.AssociationRule object at 0x7f9ef31ecd50>, <__main__.AssociationRule object at 0x7f9ef31eced0>, <__main__.AssociationRule object at 0x7f9ef31f9090>, <__main__.AssociationRule object at 0x7f9ef31f9210>, <__main__.AssociationRule object at 0x7f9ef31f9390>, <__main__.AssociationRule object at 0x7f9ef31f9510>, <__main__.AssociationRule object at 0x7f9ef31f9690>, <__main__.AssociationRule object at 0x7f9ef31f9810>, <__main__.AssociationRule object at 0x7f9ef31f9990>, <__main__.AssociationRule object at 0x7f9ef31f9b10>, <__main__.AssociationRule object at 0x7f9ef31f9c90>, <__main__.AssociationRule object at 0x7f9ef31f9e10>, <__main__.AssociationRule object at 0x7f9ef31f9f90>, <__main__.AssociationRule object at 0x7f9ef31e7150>, <__main__.AssociationRule object at 0x7f9ef31e72d0>, <__main__.AssociationRule object at 0x7f9ef31e7450>, <__main__.AssociationRule object at 0x7f9ef31e75d0>, <__main__.AssociationRule object at 0x7f9ef31e7750>, <__main__.AssociationRule object at 0x7f9ef31e78d0>, <__main__.AssociationRule object at 0x7f9ef31e7a50>, <__main__.AssociationRule object at 0x7f9ef31e7bd0>, <__main__.AssociationRule object at 0x7f9ef31e7d50>, <__main__.AssociationRule object at 0x7f9ef31e7ed0>, <__main__.AssociationRule object at 0x7f9ef31e9090>, <__main__.AssociationRule object at 0x7f9ef31e9210>, <__main__.AssociationRule object at 0x7f9ef31e9390>, <__main__.AssociationRule object at 0x7f9ef31e9510>, <__main__.AssociationRule object at 0x7f9ef31e9690>, <__main__.AssociationRule object at 0x7f9ef31e9810>, <__main__.AssociationRule object at 0x7f9ef31e9990>, <__main__.AssociationRule object at 0x7f9ef31e9b10>, <__main__.AssociationRule object at 0x7f9ef31e9c90>, <__main__.AssociationRule object at 0x7f9ef31e9e10>, <__main__.AssociationRule object at 0x7f9ef31e9f90>, <__main__.AssociationRule object at 0x7f9ef3225150>, <__main__.AssociationRule object at 0x7f9ef32252d0>, <__main__.AssociationRule object at 0x7f9ef3225450>, <__main__.AssociationRule object at 0x7f9ef32255d0>, <__main__.AssociationRule object at 0x7f9ef3225750>, <__main__.AssociationRule object at 0x7f9ef32258d0>, <__main__.AssociationRule object at 0x7f9ef3225a50>, <__main__.AssociationRule object at 0x7f9ef3225bd0>, <__main__.AssociationRule object at 0x7f9ef3225d50>, <__main__.AssociationRule object at 0x7f9ef3225ed0>, <__main__.AssociationRule object at 0x7f9ef3200090>, <__main__.AssociationRule object at 0x7f9ef3200210>, <__main__.AssociationRule object at 0x7f9ef3200390>, <__main__.AssociationRule object at 0x7f9ef3200510>, <__main__.AssociationRule object at 0x7f9ef3200690>, <__main__.AssociationRule object at 0x7f9ef3200810>, <__main__.AssociationRule object at 0x7f9ef3200990>, <__main__.AssociationRule object at 0x7f9ef3200b10>, <__main__.AssociationRule object at 0x7f9ef3200c90>, <__main__.AssociationRule object at 0x7f9ef3200e10>, <__main__.AssociationRule object at 0x7f9ef3200f90>, <__main__.AssociationRule object at 0x7f9ef31f3150>, <__main__.AssociationRule object at 0x7f9ef31f32d0>, <__main__.AssociationRule object at 0x7f9ef31f3450>, <__main__.AssociationRule object at 0x7f9ef31f35d0>, <__main__.AssociationRule object at 0x7f9ef31f3750>, <__main__.AssociationRule object at 0x7f9ef31f38d0>, <__main__.AssociationRule object at 0x7f9ef31f3a50>, <__main__.AssociationRule object at 0x7f9ef31f3bd0>, <__main__.AssociationRule object at 0x7f9ef31f3d50>, <__main__.AssociationRule object at 0x7f9ef31f3ed0>, <__main__.AssociationRule object at 0x7f9ef3220090>, <__main__.AssociationRule object at 0x7f9ef3220210>, <__main__.AssociationRule object at 0x7f9ef3220390>, <__main__.AssociationRule object at 0x7f9ef3220510>, <__main__.AssociationRule object at 0x7f9ef3220690>, <__main__.AssociationRule object at 0x7f9ef3220810>, <__main__.AssociationRule object at 0x7f9ef3220990>, <__main__.AssociationRule object at 0x7f9ef3220b10>, <__main__.AssociationRule object at 0x7f9ef3220c90>, <__main__.AssociationRule object at 0x7f9ef3220e10>, <__main__.AssociationRule object at 0x7f9ef3220f90>, <__main__.AssociationRule object at 0x7f9ef3202150>, <__main__.AssociationRule object at 0x7f9ef32022d0>, <__main__.AssociationRule object at 0x7f9ef3202450>, <__main__.AssociationRule object at 0x7f9ef32025d0>, <__main__.AssociationRule object at 0x7f9ef3202750>, <__main__.AssociationRule object at 0x7f9ef32028d0>, <__main__.AssociationRule object at 0x7f9ef3202a50>, <__main__.AssociationRule object at 0x7f9ef3202bd0>, <__main__.AssociationRule object at 0x7f9ef3202d50>, <__main__.AssociationRule object at 0x7f9ef3202ed0>, <__main__.AssociationRule object at 0x7f9ef321c090>, <__main__.AssociationRule object at 0x7f9ef321c210>, <__main__.AssociationRule object at 0x7f9ef321c390>, <__main__.AssociationRule object at 0x7f9ef321c510>, <__main__.AssociationRule object at 0x7f9ef321c690>, <__main__.AssociationRule object at 0x7f9ef321c810>, <__main__.AssociationRule object at 0x7f9ef321c990>, <__main__.AssociationRule object at 0x7f9ef321cb10>, <__main__.AssociationRule object at 0x7f9ef321cc90>, <__main__.AssociationRule object at 0x7f9ef321ce10>, <__main__.AssociationRule object at 0x7f9ef321cf90>, <__main__.AssociationRule object at 0x7f9ef321a150>, <__main__.AssociationRule object at 0x7f9ef321a2d0>, <__main__.AssociationRule object at 0x7f9ef321a450>, <__main__.AssociationRule object at 0x7f9ef321a5d0>, <__main__.AssociationRule object at 0x7f9ef321a750>, <__main__.AssociationRule object at 0x7f9ef321a8d0>, <__main__.AssociationRule object at 0x7f9ef321aa50>, <__main__.AssociationRule object at 0x7f9ef321abd0>, <__main__.AssociationRule object at 0x7f9ef321ad50>, <__main__.AssociationRule object at 0x7f9ef321aed0>, <__main__.AssociationRule object at 0x7f9ef3214090>, <__main__.AssociationRule object at 0x7f9ef3214210>, <__main__.AssociationRule object at 0x7f9ef3214390>, <__main__.AssociationRule object at 0x7f9ef3214510>, <__main__.AssociationRule object at 0x7f9ef3214690>, <__main__.AssociationRule object at 0x7f9ef3214810>, <__main__.AssociationRule object at 0x7f9ef3214990>, <__main__.AssociationRule object at 0x7f9ef3214b10>, <__main__.AssociationRule object at 0x7f9ef3214c90>, <__main__.AssociationRule object at 0x7f9ef3214e10>, <__main__.AssociationRule object at 0x7f9ef3214f90>, <__main__.AssociationRule object at 0x7f9ef3219150>, <__main__.AssociationRule object at 0x7f9ef32192d0>, <__main__.AssociationRule object at 0x7f9ef3219450>, <__main__.AssociationRule object at 0x7f9ef32195d0>, <__main__.AssociationRule object at 0x7f9ef3219750>, <__main__.AssociationRule object at 0x7f9ef32198d0>, <__main__.AssociationRule object at 0x7f9ef3219a50>, <__main__.AssociationRule object at 0x7f9ef3219bd0>, <__main__.AssociationRule object at 0x7f9ef3219d50>, <__main__.AssociationRule object at 0x7f9ef3219ed0>, <__main__.AssociationRule object at 0x7f9ef2f56090>, <__main__.AssociationRule object at 0x7f9ef2f56210>, <__main__.AssociationRule object at 0x7f9ef2f56390>, <__main__.AssociationRule object at 0x7f9ef2f56510>, <__main__.AssociationRule object at 0x7f9ef2f56690>, <__main__.AssociationRule object at 0x7f9ef2f56810>, <__main__.AssociationRule object at 0x7f9ef2f56990>, <__main__.AssociationRule object at 0x7f9ef2f56b10>, <__main__.AssociationRule object at 0x7f9ef2f56c90>, <__main__.AssociationRule object at 0x7f9ef2f56e10>, <__main__.AssociationRule object at 0x7f9ef2f56f90>, <__main__.AssociationRule object at 0x7f9ef2f2b150>, <__main__.AssociationRule object at 0x7f9ef2f2b2d0>, <__main__.AssociationRule object at 0x7f9ef2f2b450>, <__main__.AssociationRule object at 0x7f9ef2f2b5d0>, <__main__.AssociationRule object at 0x7f9ef2f2b750>, <__main__.AssociationRule object at 0x7f9ef2f2b8d0>, <__main__.AssociationRule object at 0x7f9ef2f2ba50>, <__main__.AssociationRule object at 0x7f9ef2f2bbd0>, <__main__.AssociationRule object at 0x7f9ef2f2bd50>, <__main__.AssociationRule object at 0x7f9ef2f2bed0>, <__main__.AssociationRule object at 0x7f9ef2f2e090>, <__main__.AssociationRule object at 0x7f9ef2f2e210>, <__main__.AssociationRule object at 0x7f9ef2f2e390>, <__main__.AssociationRule object at 0x7f9ef2f2e510>, <__main__.AssociationRule object at 0x7f9ef2f2e690>, <__main__.AssociationRule object at 0x7f9ef2f2e810>, <__main__.AssociationRule object at 0x7f9ef2f2e990>, <__main__.AssociationRule object at 0x7f9ef2f2eb10>, <__main__.AssociationRule object at 0x7f9ef2f2ec90>, <__main__.AssociationRule object at 0x7f9ef2f2ee10>, <__main__.AssociationRule object at 0x7f9ef2f2ef90>, <__main__.AssociationRule object at 0x7f9ef2f33150>, <__main__.AssociationRule object at 0x7f9ef2f332d0>, <__main__.AssociationRule object at 0x7f9ef2f33450>, <__main__.AssociationRule object at 0x7f9ef2f335d0>, <__main__.AssociationRule object at 0x7f9ef2f33750>, <__main__.AssociationRule object at 0x7f9ef2f338d0>, <__main__.AssociationRule object at 0x7f9ef2f33a50>, <__main__.AssociationRule object at 0x7f9ef2f33bd0>, <__main__.AssociationRule object at 0x7f9ef2f33d50>, <__main__.AssociationRule object at 0x7f9ef2f33ed0>, <__main__.AssociationRule object at 0x7f9ef2f32090>, <__main__.AssociationRule object at 0x7f9ef2f32210>, <__main__.AssociationRule object at 0x7f9ef2f32390>, <__main__.AssociationRule object at 0x7f9ef2f32510>, <__main__.AssociationRule object at 0x7f9ef2f32690>, <__main__.AssociationRule object at 0x7f9ef2f32810>, <__main__.AssociationRule object at 0x7f9ef2f32990>, <__main__.AssociationRule object at 0x7f9ef2f32b10>, <__main__.AssociationRule object at 0x7f9ef2f32c90>, <__main__.AssociationRule object at 0x7f9ef2f32e10>, <__main__.AssociationRule object at 0x7f9ef2f32f90>, <__main__.AssociationRule object at 0x7f9ef2f36150>, <__main__.AssociationRule object at 0x7f9ef2f362d0>, <__main__.AssociationRule object at 0x7f9ef2f36450>, <__main__.AssociationRule object at 0x7f9ef2f365d0>, <__main__.AssociationRule object at 0x7f9ef2f36750>, <__main__.AssociationRule object at 0x7f9ef2f368d0>, <__main__.AssociationRule object at 0x7f9ef2f36a50>, <__main__.AssociationRule object at 0x7f9ef2f36bd0>, <__main__.AssociationRule object at 0x7f9ef2f36d50>, <__main__.AssociationRule object at 0x7f9ef2f36ed0>, <__main__.AssociationRule object at 0x7f9ef2f31090>, <__main__.AssociationRule object at 0x7f9ef2f31210>, <__main__.AssociationRule object at 0x7f9ef2f31390>, <__main__.AssociationRule object at 0x7f9ef2f31510>, <__main__.AssociationRule object at 0x7f9ef2f31690>, <__main__.AssociationRule object at 0x7f9ef2f31810>, <__main__.AssociationRule object at 0x7f9ef2f31990>, <__main__.AssociationRule object at 0x7f9ef2f31b10>, <__main__.AssociationRule object at 0x7f9ef2f31c90>, <__main__.AssociationRule object at 0x7f9ef2f31e10>, <__main__.AssociationRule object at 0x7f9ef2f31f90>, <__main__.AssociationRule object at 0x7f9ef2f3d150>, <__main__.AssociationRule object at 0x7f9ef2f3d2d0>, <__main__.AssociationRule object at 0x7f9ef2f3d450>, <__main__.AssociationRule object at 0x7f9ef2f3d5d0>, <__main__.AssociationRule object at 0x7f9ef2f3d750>, <__main__.AssociationRule object at 0x7f9ef2f3d8d0>, <__main__.AssociationRule object at 0x7f9ef2f3da50>, <__main__.AssociationRule object at 0x7f9ef2f3dbd0>, <__main__.AssociationRule object at 0x7f9ef2f3dd50>, <__main__.AssociationRule object at 0x7f9ef2f3ded0>, <__main__.AssociationRule object at 0x7f9ef2f2f090>, <__main__.AssociationRule object at 0x7f9ef2f2f210>, <__main__.AssociationRule object at 0x7f9ef2f2f390>, <__main__.AssociationRule object at 0x7f9ef2f2f510>, <__main__.AssociationRule object at 0x7f9ef2f2f690>, <__main__.AssociationRule object at 0x7f9ef2f2f810>, <__main__.AssociationRule object at 0x7f9ef2f2f990>, <__main__.AssociationRule object at 0x7f9ef2f2fb10>, <__main__.AssociationRule object at 0x7f9ef2f2fc90>, <__main__.AssociationRule object at 0x7f9ef2f2fe10>, <__main__.AssociationRule object at 0x7f9ef2f2ff90>, <__main__.AssociationRule object at 0x7f9ef2f44150>, <__main__.AssociationRule object at 0x7f9ef2f442d0>, <__main__.AssociationRule object at 0x7f9ef2f44450>, <__main__.AssociationRule object at 0x7f9ef2f445d0>, <__main__.AssociationRule object at 0x7f9ef2f44750>, <__main__.AssociationRule object at 0x7f9ef2f448d0>, <__main__.AssociationRule object at 0x7f9ef2f44a50>, <__main__.AssociationRule object at 0x7f9ef2f44bd0>, <__main__.AssociationRule object at 0x7f9ef2f44d50>, <__main__.AssociationRule object at 0x7f9ef2f44ed0>, <__main__.AssociationRule object at 0x7f9ef2f45090>, <__main__.AssociationRule object at 0x7f9ef2f45210>, <__main__.AssociationRule object at 0x7f9ef2f45390>, <__main__.AssociationRule object at 0x7f9ef2f45510>, <__main__.AssociationRule object at 0x7f9ef2f45690>, <__main__.AssociationRule object at 0x7f9ef2f45810>, <__main__.AssociationRule object at 0x7f9ef2f45990>, <__main__.AssociationRule object at 0x7f9ef2f45b10>, <__main__.AssociationRule object at 0x7f9ef2f45c90>, <__main__.AssociationRule object at 0x7f9ef2f45e10>, <__main__.AssociationRule object at 0x7f9ef2f45f90>, <__main__.AssociationRule object at 0x7f9ef2f3e150>, <__main__.AssociationRule object at 0x7f9ef2f3e2d0>, <__main__.AssociationRule object at 0x7f9ef2f3e450>, <__main__.AssociationRule object at 0x7f9ef2f3e5d0>, <__main__.AssociationRule object at 0x7f9ef2f3e750>, <__main__.AssociationRule object at 0x7f9ef2f3e8d0>, <__main__.AssociationRule object at 0x7f9ef2f3ea50>, <__main__.AssociationRule object at 0x7f9ef2f3ebd0>, <__main__.AssociationRule object at 0x7f9ef2f3ed50>, <__main__.AssociationRule object at 0x7f9ef2f3eed0>, <__main__.AssociationRule object at 0x7f9ef2f48090>, <__main__.AssociationRule object at 0x7f9ef2f48210>, <__main__.AssociationRule object at 0x7f9ef2f48390>, <__main__.AssociationRule object at 0x7f9ef2f48510>, <__main__.AssociationRule object at 0x7f9ef2f48690>, <__main__.AssociationRule object at 0x7f9ef2f48810>, <__main__.AssociationRule object at 0x7f9ef2f48990>, <__main__.AssociationRule object at 0x7f9ef2f48b10>, <__main__.AssociationRule object at 0x7f9ef2f48c90>, <__main__.AssociationRule object at 0x7f9ef2f48e10>, <__main__.AssociationRule object at 0x7f9ef2f48f90>, <__main__.AssociationRule object at 0x7f9ef2f4d150>, <__main__.AssociationRule object at 0x7f9ef2f4d2d0>, <__main__.AssociationRule object at 0x7f9ef2f4d450>, <__main__.AssociationRule object at 0x7f9ef2f4d5d0>, <__main__.AssociationRule object at 0x7f9ef2f4d750>, <__main__.AssociationRule object at 0x7f9ef2f4d8d0>, <__main__.AssociationRule object at 0x7f9ef2f4da50>, <__main__.AssociationRule object at 0x7f9ef2f4dbd0>, <__main__.AssociationRule object at 0x7f9ef2f4dd50>, <__main__.AssociationRule object at 0x7f9ef2f4ded0>, <__main__.AssociationRule object at 0x7f9ef2f4e090>, <__main__.AssociationRule object at 0x7f9ef2f4e210>, <__main__.AssociationRule object at 0x7f9ef2f4e390>]\n"
          ],
          "name": "stdout"
        }
      ]
    },
    {
      "cell_type": "code",
      "metadata": {
        "id": "isDIoLxFiCXa"
      },
      "source": [
        "class ContrastParams(object):\n",
        "    '''\n",
        "    classdocs\n",
        "    '''\n",
        "\n",
        "    def __init__(self, delta1, delta2, share_threshold, n_lhs_features, n_rhs_features):\n",
        "        '''\n",
        "        Constructor\n",
        "        '''\n",
        "        self.delta1 = delta1 \n",
        "        self.delta2 = delta2 \n",
        "    \n",
        "        self.share_threshold = share_threshold\n",
        "        self.n_lhs_features = n_lhs_features\n",
        "        self.n_rhs_features = n_rhs_features"
      ],
      "execution_count": 40,
      "outputs": []
    },
    {
      "cell_type": "code",
      "metadata": {
        "id": "nGZNsIiih1Mq"
      },
      "source": [
        "contrast_params = ContrastParams(delta1, delta2,\n",
        "                                      substantial_threshold, \n",
        "                                      lhs_feature_count, \n",
        "                                      rhs_feature_count)"
      ],
      "execution_count": 41,
      "outputs": []
    },
    {
      "cell_type": "code",
      "metadata": {
        "id": "xGsQ1wDu9zBv"
      },
      "source": [
        "class ContrastParams(object):\n",
        "    '''\n",
        "    classdocs\n",
        "    '''\n",
        "\n",
        "    def __init__(self, delta1, delta2, share_threshold, n_lhs_features, n_rhs_features):\n",
        "        '''\n",
        "        Constructor\n",
        "        '''\n",
        "        self.delta1 = delta1 \n",
        "        self.delta2 = delta2 \n",
        "    \n",
        "        self.share_threshold = share_threshold\n",
        "        self.n_lhs_features = n_lhs_features\n",
        "        self.n_rhs_features = n_rhs_features"
      ],
      "execution_count": 42,
      "outputs": []
    },
    {
      "cell_type": "code",
      "metadata": {
        "id": "ZxXhT0ca9zBx"
      },
      "source": [
        "contrast_params = ContrastParams(delta1, delta2,\n",
        "                                      substantial_threshold, \n",
        "                                      lhs_feature_count, \n",
        "                                      rhs_feature_count)"
      ],
      "execution_count": 43,
      "outputs": []
    },
    {
      "cell_type": "markdown",
      "metadata": {
        "id": "E1d2F_ADw_DG"
      },
      "source": [
        "DBSCAN hyperparameters"
      ]
    },
    {
      "cell_type": "code",
      "metadata": {
        "id": "2d7GAbvui0fY"
      },
      "source": [
        "class dbscanParams(object):\n",
        "    \n",
        "    def __init__(self, minpts, eps):\n",
        "        self.min_pts = minpts\n",
        "        self.eps = eps"
      ],
      "execution_count": 44,
      "outputs": []
    },
    {
      "cell_type": "code",
      "metadata": {
        "id": "I2k1BVRJivs5"
      },
      "source": [
        "dbscan_params = dbscanParams(my_minpts, my_eps)"
      ],
      "execution_count": 45,
      "outputs": []
    },
    {
      "cell_type": "code",
      "metadata": {
        "id": "z0sHN2JejBXJ"
      },
      "source": [
        "epsilon =5e-3"
      ],
      "execution_count": 46,
      "outputs": []
    },
    {
      "cell_type": "markdown",
      "metadata": {
        "id": "EOiHjL2pi81v"
      },
      "source": [
        "Clustering Enginer"
      ]
    },
    {
      "cell_type": "code",
      "metadata": {
        "id": "cM7Q_FK0uqWa",
        "colab": {
          "base_uri": "https://localhost:8080/"
        },
        "outputId": "7a0dcf88-6927-486f-bcb6-a50fb8405178"
      },
      "source": [
        "from sklearn.decomposition.incremental_pca import IncrementalPCA"
      ],
      "execution_count": 47,
      "outputs": [
        {
          "output_type": "stream",
          "text": [
            "/usr/local/lib/python3.7/dist-packages/sklearn/utils/deprecation.py:144: FutureWarning: The sklearn.decomposition.incremental_pca module is  deprecated in version 0.22 and will be removed in version 0.24. The corresponding classes / functions should instead be imported from sklearn.decomposition. Anything that cannot be imported from sklearn.decomposition is now part of the private API.\n",
            "  warnings.warn(message, FutureWarning)\n"
          ],
          "name": "stderr"
        }
      ]
    },
    {
      "cell_type": "code",
      "metadata": {
        "id": "9_-sIwJDjNeJ"
      },
      "source": [
        "class UnexpectednessExtractor(object):\n",
        "    \n",
        "    def __init__(self, X_train, freq_itemset_dict, rule_list, contrast_params, epsilon = 5e-5, eps_step = 0.1, reduced_rate = None):\n",
        "        self.rule_list = rule_list\n",
        "        self.freq_itemset_dict = freq_itemset_dict\n",
        "        \n",
        "        self.original_features = X_train\n",
        "        self.sample_features = X_train\n",
        "        \n",
        "        self.contrast_params = contrast_params\n",
        "        self.epsilon = epsilon\n",
        "        self.eps_step = eps_step\n",
        "\n",
        "        if reduced_rate is not None:\n",
        "            ncomponents = int(X_train.shape[1] * reduced_rate) \n",
        "            pca = IncrementalPCA(n_components = ncomponents)\n",
        "            self.sample_features = pca.fit_transform(X_train)\n",
        "    def data_size(self):\n",
        "        return len(self.rule_list)\n",
        "\n",
        "    def check_inner_contrast(self, new_cluster_locations):\n",
        "        group = self._collect_group_info(new_cluster_locations)\n",
        "        return self.freq_itemset_dict.is_inner_contrast(group, self.contrast_params)\n",
        "\n",
        "    def _collect_group_info(self, locations):\n",
        "        lhs_features = []\n",
        "        rhs_features = []\n",
        "        rules = []\n",
        "        \n",
        "        n = self.contrast_params.n_lhs_features\n",
        "        for i in locations:\n",
        "            lhs_features.append(self.original_features[i][:n])\n",
        "            rhs_features.append(self.original_features[i][n:])\n",
        "            rules.append(self.rule_list[i])\n",
        "            \n",
        "        return {'lhs': np.array(lhs_features),\n",
        "                'rhs': np.array(rhs_features),\n",
        "                'r': rules}\n",
        "\n",
        "    def check_outer_contrast(self, group1, group2):\n",
        "        #print(len(group1), len(group2))\n",
        "        if len(group1) == 0 or len(group2) == 0:\n",
        "            return False\n",
        "        \n",
        "        g1 = self._collect_group_info(group1)\n",
        "        g2 = self._collect_group_info(group2)\n",
        "        \n",
        "        return self.freq_itemset_dict.is_outer_contrast(g1, g2,\n",
        "                                           self.contrast_params)\n",
        "        \n",
        "    def detect_unexpectedness(self, clustering_result):\n",
        "        print('Geting conflict information...')\n",
        "        \n",
        "        array_Y = np.array(clustering_result)\n",
        "        cluster_indices = Counter(clustering_result)\n",
        "        \n",
        "        print(len(clustering_result),len(cluster_indices))\n",
        "        outliers = np.where(array_Y == -1)[0]\n",
        "        my_unexpected_patterns = {i : [] for i in outliers}\n",
        "        \n",
        "        print('Finding unexpectedness....')\n",
        "\n",
        "        outlier_group = self._collect_group_info(outliers)\n",
        "        for cluster_index in cluster_indices.keys():\n",
        "            if cluster_index == -1: continue \n",
        "            beliefs = np.where(array_Y == cluster_index)[0]\n",
        "            belief_group = self._collect_group_info(beliefs)\n",
        "            contrast_location = self.freq_itemset_dict.find_pottential_contrast_locs(outlier_group, \n",
        "                                                                             belief_group,\n",
        "                                                                             self.contrast_params)\n",
        "            \n",
        "            if contrast_location is None:\n",
        "                continue \n",
        "            \n",
        "            for i in range(len(contrast_location[0])):\n",
        "                x = contrast_location[0][i]\n",
        "                y = contrast_location[1][i]\n",
        "                \n",
        "                t = self.freq_itemset_dict._complement_condition(outlier_group['r'][x], belief_group['r'][y])\n",
        "                if t > self.contrast_params.share_threshold:\n",
        "                    j = beliefs[y]\n",
        "                    conf = self.freq_itemset_dict.getConfidence(self.rule_list[j])\n",
        "                    b = cosine_similarity(np.reshape(outlier_group['lhs'][x,:], (1, -1)), \n",
        "                                          np.reshape(belief_group['lhs'][y,:], (1, -1)))[0,0]\n",
        "                    my_unexpected_patterns[outliers[x]].append((self.rule_list[j].serialize(), b, t, conf))\n",
        "                \n",
        "        \n",
        "        final_unexpected_patterns = []\n",
        "        \n",
        "        for i in my_unexpected_patterns.keys():\n",
        "            contrast_beliefs = my_unexpected_patterns[i]\n",
        "            if len(contrast_beliefs) == 0: continue\n",
        "            c = self.freq_itemset_dict.getConfidence(self.rule_list[i])\n",
        "            sorted_beliefs = sorted(contrast_beliefs, key=lambda x: x[1], reverse = True)\n",
        "            del sorted_beliefs[3: ]\n",
        "            final_unexpected_patterns.append((self.rule_list[i].serialize(), c, sorted_beliefs))\n",
        "        print('Number of unexpected patterns ' + str(len(final_unexpected_patterns)) )\n",
        "        return sorted(final_unexpected_patterns, key=lambda x: x[2][0][1], reverse=True)\n",
        "    "
      ],
      "execution_count": 48,
      "outputs": []
    },
    {
      "cell_type": "code",
      "metadata": {
        "id": "_7N1ieKJgCrz"
      },
      "source": [
        "def load_frequent_itemsets_as_dict():\n",
        "        freq_itemset_dict = ItemsetDictionary(0)\n",
        "        freq_itemset_dict.load_from_file(Filepath+\"miner.tmp.itemsets\")\n",
        "        return freq_itemset_dict"
      ],
      "execution_count": 49,
      "outputs": []
    },
    {
      "cell_type": "code",
      "metadata": {
        "id": "Xp_AL3tqgA5L"
      },
      "source": [
        "freq_itemset_dict = load_frequent_itemsets_as_dict()"
      ],
      "execution_count": 50,
      "outputs": []
    },
    {
      "cell_type": "code",
      "metadata": {
        "id": "7hJyMgcci2Hp"
      },
      "source": [
        "clustering_engine = UnexpectednessExtractor(X_train, \n",
        "                                         freq_itemset_dict, \n",
        "                                         association_rules_list, \n",
        "                                         contrast_params,\n",
        "                                         epsilon=epsilon,\n",
        "                                         #reduced_rate=None)\n",
        "                                         reduced_rate=0.5)"
      ],
      "execution_count": 51,
      "outputs": []
    },
    {
      "cell_type": "markdown",
      "metadata": {
        "id": "OX_wFpL2jiIi"
      },
      "source": [
        "Clustering labels"
      ]
    },
    {
      "cell_type": "code",
      "metadata": {
        "id": "Ww-WLNDenDQA"
      },
      "source": [
        "from sklearn.metrics.pairwise import euclidean_distances, cosine_similarity"
      ],
      "execution_count": 52,
      "outputs": []
    },
    {
      "cell_type": "code",
      "metadata": {
        "id": "oeCREHjilm3Y"
      },
      "source": [
        "eps_step = 0.1"
      ],
      "execution_count": 53,
      "outputs": []
    },
    {
      "cell_type": "code",
      "metadata": {
        "id": "EXvlZcc3k5og"
      },
      "source": [
        "rule_list = association_rules_list"
      ],
      "execution_count": 54,
      "outputs": []
    },
    {
      "cell_type": "code",
      "metadata": {
        "id": "05B5fvN1kc8I"
      },
      "source": [
        "def data_size():\n",
        "        return len(rule_list)"
      ],
      "execution_count": 55,
      "outputs": []
    },
    {
      "cell_type": "code",
      "metadata": {
        "id": "F2Jmda-kkJZx"
      },
      "source": [
        "class MyRulesClustering(object):\n",
        "    \n",
        "    def __init__(self, dbscan_params, clustering_engine, nThreads, allowed_conflict_size = 0):\n",
        "        self.dbscan_params = dbscan_params\n",
        "        self.best_eps = self.dbscan_params.eps\n",
        "        \n",
        "        self.nthreads = nThreads\n",
        "        \n",
        "        self.engine = clustering_engine\n",
        "        self.allowed_conflict_size = allowed_conflict_size\n",
        "        \n",
        "        self.Y = None\n",
        "        self.visisted = None\n",
        "\n",
        "\n",
        "\n",
        "    def intialize(self):\n",
        "        m = self.engine.data_size()\n",
        "        self.Y = [-1 for _ in range(m)]\n",
        "        self.visisted = [False for _ in range(m)]\n",
        "\n",
        "    def region_query(self, p):\n",
        "        temp = self.engine.sample_features[p,:]\n",
        "        temp = np.reshape(temp, (1, -1))\n",
        "       \n",
        "        distance = euclidean_distances(temp, self.engine.sample_features)\n",
        "        neighbors = np.where(distance <= self.best_eps)\n",
        "        return neighbors[1].tolist()\n",
        "\n",
        "\n",
        "    def expand_cluster(self, p, C, neighbors):\n",
        "        self.Y[p] = C\n",
        "        while len(neighbors) > 0:\n",
        "            other_p = neighbors.pop(0)\n",
        "            if self.visisted[other_p] == False:\n",
        "                self.visisted[other_p] = True\n",
        "                other_neighbors = self.region_query(other_p)\n",
        "                \n",
        "                if (len(other_neighbors) >= self.dbscan_params.min_pts):\n",
        "                    neighbors.extend(other_neighbors)\n",
        "                    tmp = list(set(neighbors))\n",
        "                    neighbors.clear()\n",
        "                    neighbors.extend(tmp)\n",
        "                    \n",
        "            if self.Y[other_p] == -1:\n",
        "                self.Y[other_p] = C\n",
        "\n",
        "    def check_contrast(self, C):\n",
        "        \n",
        "        tmp_Y = np.array(self.Y)\n",
        "        new_cluster_locations = np.where(tmp_Y == C)[0]\n",
        "        if len(new_cluster_locations) <= self.allowed_conflict_size: return False\n",
        "        \n",
        "        if self.engine.check_inner_contrast(new_cluster_locations)==True:\n",
        "            return True \n",
        "        \n",
        "        cluster_indices = Counter(tmp_Y)\n",
        "        for cluster in cluster_indices.keys():\n",
        "            if cluster == C or cluster == -1: continue\n",
        "            \n",
        "            old_cluster_locations = np.where(tmp_Y == cluster)[0]\n",
        "         \n",
        "            if len(old_cluster_locations) <= self.allowed_conflict_size: continue\n",
        "            if self.engine.check_outer_contrast(old_cluster_locations, new_cluster_locations) == True:\n",
        "                return True\n",
        "                \n",
        "        return False  \n",
        "\n",
        "\n",
        "    def run(self, eps_step):\n",
        "        m = self.engine.data_size()\n",
        "        print(\"this is m\",m)\n",
        "            \n",
        "        self.best_eps = self.dbscan_params.eps\n",
        "        while(self.best_eps  > 0):\n",
        "            print('running for ' + str(self.best_eps))\n",
        "            self.intialize()\n",
        "            C = -1\n",
        "            flag = True\n",
        "            for p in range(m):\n",
        "                if p % 100 == 0: print (p)\n",
        "                if self.visisted[p] == True: continue\n",
        "                \n",
        "                self.visisted[p] = True\n",
        "                neighbors = self.region_query(p)\n",
        "                if len(neighbors) >= self.dbscan_params.min_pts:\n",
        "                    C += 1\n",
        "                    self.expand_cluster(p, C, neighbors)\n",
        "                    if self.check_contrast(C) == True:\n",
        "                        flag = False\n",
        "                        break\n",
        "                        \n",
        "            if flag == True:\n",
        "                print('Found a good eps: ' + str(self.best_eps)) \n",
        "                break\n",
        "            \n",
        "            self.best_eps -= eps_step\n",
        "\n",
        "    def detect_unexpectedness(self, clustering_result):\n",
        "        print('Geting conflict information...')\n",
        "        \n",
        "        array_Y = np.array(clustering_result)\n",
        "        cluster_indices = Counter(clustering_result)\n",
        "        \n",
        "        print(len(clustering_result),len(cluster_indices))\n",
        "        outliers = np.where(array_Y == -1)[0]\n",
        "        my_unexpected_patterns = {i : [] for i in outliers}\n",
        "        \n",
        "        print('Finding unexpectedness....')\n",
        "\n",
        "        outlier_group = self._collect_group_info(outliers)\n",
        "        for cluster_index in cluster_indices.keys():\n",
        "            if cluster_index == -1: continue \n",
        "            beliefs = np.where(array_Y == cluster_index)[0]\n",
        "            belief_group = self._collect_group_info(beliefs)\n",
        "            contrast_location = self.freq_itemset_dict.find_pottential_contrast_locs(outlier_group, \n",
        "                                                                             belief_group,\n",
        "                                                                             self.contrast_params)\n",
        "            \n",
        "            if contrast_location is None:\n",
        "                continue \n",
        "            \n",
        "            for i in range(len(contrast_location[0])):\n",
        "                x = contrast_location[0][i]\n",
        "                y = contrast_location[1][i]\n",
        "                \n",
        "                t = self.freq_itemset_dict._complement_condition(outlier_group['r'][x], belief_group['r'][y])\n",
        "                if t > self.contrast_params.share_threshold:\n",
        "                    j = beliefs[y]\n",
        "                    conf = self.freq_itemset_dict.getConfidence(self.rule_list[j])\n",
        "                    b = cosine_similarity(np.reshape(outlier_group['lhs'][x,:], (1, -1)), \n",
        "                                          np.reshape(belief_group['lhs'][y,:], (1, -1)))[0,0]\n",
        "                    my_unexpected_patterns[outliers[x]].append((self.rule_list[j].serialize(), b, t, conf))\n",
        "                \n",
        "        \n",
        "        final_unexpected_patterns = []\n",
        "        \n",
        "        for i in my_unexpected_patterns.keys():\n",
        "            contrast_beliefs = my_unexpected_patterns[i]\n",
        "            if len(contrast_beliefs) == 0: continue\n",
        "            c = self.freq_itemset_dict.getConfidence(self.rule_list[i])\n",
        "            sorted_beliefs = sorted(contrast_beliefs, key=lambda x: x[1], reverse = True)\n",
        "            del sorted_beliefs[3: ]\n",
        "            final_unexpected_patterns.append((self.rule_list[i].serialize(), c, sorted_beliefs))\n",
        "        print('Number of unexpected patterns ' + str(len(final_unexpected_patterns)) )\n",
        "        return sorted(final_unexpected_patterns, key=lambda x: x[2][0][1], reverse=True)\n",
        "    "
      ],
      "execution_count": 56,
      "outputs": []
    },
    {
      "cell_type": "code",
      "metadata": {
        "id": "1xGgefHsjyLJ"
      },
      "source": [
        "def run_dbscan(dbscan_params, nthreads):\n",
        "        print ('Doing clustering ....')\n",
        "        print('epsilon ' + str(epsilon))\n",
        "        noconflict_db = MyRulesClustering(dbscan_params,\n",
        "                                          clustering_engine,\n",
        "                                          nthreads,\n",
        "                                          epsilon * data_size())\n",
        "        \n",
        "        print(noconflict_db)\n",
        "        \n",
        "        noconflict_db.run(eps_step)\n",
        "        \n",
        "        Y = noconflict_db.Y.copy()\n",
        "        \n",
        "        n_clusters = len(set(Y))- (1 if -1 in Y else 0)\n",
        "        n_noises = Y.count(-1)\n",
        "        \n",
        "       \n",
        "        print('Number of clusters' + str(n_clusters))\n",
        "        print('Number of noises' + str(n_noises))\n",
        "    \n",
        "        print(\"Y\" , Y)\n",
        "        print(\"Type of Y is \",type(Y))\n",
        "        print(\"Lenght of Y is\",len(Y))\n",
        "        return Y"
      ],
      "execution_count": 57,
      "outputs": []
    },
    {
      "cell_type": "code",
      "metadata": {
        "id": "DsMhTMCsxMr5"
      },
      "source": [
        "def merge_itemsets(itemset_1, itemset_2):\n",
        "    merged_items = []\n",
        "    merged_items.extend(itemset_1)\n",
        "    merged_items.extend(itemset_2)\n",
        "    merged_items = list(set(merged_items))\n",
        "    merged_items = sorted(merged_items)\n",
        "    \n",
        "    return merged_items"
      ],
      "execution_count": 58,
      "outputs": []
    },
    {
      "cell_type": "code",
      "metadata": {
        "id": "6nHppPVewyDi"
      },
      "source": [
        "from collections import Counter"
      ],
      "execution_count": 59,
      "outputs": []
    },
    {
      "cell_type": "code",
      "metadata": {
        "id": "EIduUHoOjhwZ",
        "colab": {
          "base_uri": "https://localhost:8080/"
        },
        "outputId": "d2d194ca-6da6-41e4-b2fe-8985a42c9024"
      },
      "source": [
        "cluster_labels = run_dbscan(dbscan_params, nthreads = 4)"
      ],
      "execution_count": 60,
      "outputs": [
        {
          "output_type": "stream",
          "text": [
            "Doing clustering ....\n",
            "epsilon 0.005\n",
            "<__main__.MyRulesClustering object at 0x7f9ef35280d0>\n",
            "this is m 1057\n",
            "running for 2.0\n",
            "0\n",
            "running for 1.9\n",
            "0\n",
            "running for 1.7999999999999998\n",
            "0\n",
            "running for 1.6999999999999997\n",
            "0\n",
            "running for 1.5999999999999996\n",
            "0\n",
            "running for 1.4999999999999996\n",
            "0\n",
            "running for 1.3999999999999995\n",
            "0\n",
            "running for 1.2999999999999994\n",
            "0\n",
            "running for 1.1999999999999993\n",
            "0\n",
            "100\n",
            "running for 1.0999999999999992\n",
            "0\n",
            "100\n",
            "200\n",
            "300\n",
            "400\n",
            "500\n",
            "600\n",
            "700\n",
            "800\n",
            "900\n",
            "1000\n",
            "Found a good eps: 1.0999999999999992\n",
            "Number of clusters20\n",
            "Number of noises908\n",
            "Y [-1, -1, -1, -1, -1, -1, -1, -1, -1, -1, -1, -1, -1, -1, -1, -1, -1, -1, 0, -1, -1, -1, -1, -1, 3, -1, -1, 1, 1, -1, -1, -1, 3, -1, -1, 2, 3, 4, -1, -1, -1, -1, -1, -1, -1, -1, -1, -1, -1, 1, -1, -1, -1, -1, -1, -1, -1, -1, 1, -1, -1, -1, -1, -1, -1, -1, -1, -1, -1, -1, -1, -1, -1, 1, -1, 1, -1, -1, -1, -1, -1, -1, -1, -1, -1, -1, -1, -1, -1, -1, -1, -1, -1, -1, -1, -1, -1, -1, -1, -1, -1, 1, -1, -1, -1, -1, -1, -1, 5, -1, -1, -1, -1, -1, -1, 6, -1, -1, -1, -1, -1, -1, -1, -1, -1, -1, -1, -1, -1, -1, -1, -1, -1, -1, -1, -1, -1, -1, -1, -1, -1, -1, -1, -1, -1, -1, -1, -1, -1, -1, -1, -1, -1, -1, -1, -1, -1, -1, -1, -1, -1, -1, -1, -1, -1, -1, -1, -1, -1, -1, 7, -1, -1, -1, 7, -1, -1, -1, -1, -1, -1, -1, -1, -1, -1, -1, -1, -1, -1, -1, -1, -1, 3, -1, 2, 2, 3, -1, -1, -1, 4, -1, -1, -1, -1, -1, -1, -1, -1, -1, 18, 0, -1, -1, -1, -1, 0, -1, -1, -1, -1, -1, -1, 0, -1, -1, -1, -1, -1, -1, -1, -1, -1, -1, 18, 8, -1, -1, -1, -1, -1, -1, -1, -1, -1, 18, -1, -1, -1, -1, -1, 0, -1, -1, -1, -1, -1, -1, 8, -1, -1, 3, -1, -1, -1, -1, -1, -1, -1, -1, -1, -1, -1, -1, -1, -1, -1, -1, -1, -1, -1, -1, -1, 19, 9, 10, -1, 2, 19, 9, -1, 16, 17, -1, -1, -1, 19, -1, -1, 11, 12, -1, -1, -1, -1, 1, -1, 1, -1, 5, -1, 3, -1, -1, -1, -1, 2, 2, -1, -1, 4, -1, -1, -1, -1, -1, -1, -1, -1, -1, -1, 4, 2, 2, 3, 4, -1, 2, 2, 13, 2, 14, 15, 2, -1, -1, -1, -1, -1, 2, 2, 15, -1, -1, -1, -1, -1, 16, -1, 3, 17, -1, -1, -1, -1, -1, -1, -1, 12, -1, -1, -1, -1, -1, -1, 1, -1, -1, -1, -1, -1, -1, -1, -1, -1, -1, -1, -1, -1, -1, -1, -1, -1, -1, -1, -1, -1, -1, -1, -1, -1, -1, -1, -1, -1, -1, -1, -1, -1, -1, -1, -1, -1, -1, -1, -1, -1, -1, -1, -1, -1, -1, -1, -1, 1, -1, -1, -1, -1, -1, -1, -1, -1, -1, -1, -1, -1, -1, -1, 1, -1, -1, 1, -1, -1, -1, -1, 5, -1, -1, -1, -1, -1, -1, -1, -1, -1, -1, -1, -1, -1, -1, -1, -1, -1, -1, -1, -1, -1, -1, -1, -1, -1, -1, -1, -1, -1, -1, -1, -1, -1, -1, -1, -1, -1, -1, -1, -1, -1, -1, -1, -1, -1, -1, 6, -1, -1, -1, -1, -1, -1, -1, -1, -1, -1, -1, -1, -1, -1, -1, -1, -1, -1, -1, -1, -1, -1, -1, -1, -1, -1, -1, -1, -1, -1, -1, 1, -1, -1, -1, -1, -1, -1, -1, -1, -1, -1, -1, -1, -1, -1, -1, -1, -1, -1, 6, -1, -1, 6, 1, -1, -1, -1, 5, -1, -1, -1, -1, -1, -1, -1, -1, -1, -1, -1, -1, -1, -1, -1, -1, 6, -1, -1, -1, -1, -1, -1, -1, -1, -1, -1, -1, -1, -1, -1, -1, -1, 1, -1, -1, -1, -1, -1, -1, -1, -1, -1, -1, -1, -1, -1, -1, -1, -1, -1, -1, -1, -1, -1, -1, -1, -1, -1, 5, -1, -1, -1, -1, -1, -1, -1, 6, -1, -1, -1, -1, -1, 6, -1, -1, -1, -1, -1, -1, -1, -1, -1, -1, -1, -1, -1, -1, -1, -1, -1, -1, -1, -1, -1, -1, -1, -1, -1, -1, -1, -1, -1, 7, -1, -1, -1, -1, 7, -1, -1, -1, -1, -1, -1, -1, -1, -1, -1, -1, -1, -1, 7, -1, -1, -1, -1, -1, -1, -1, -1, -1, -1, -1, -1, -1, -1, -1, -1, -1, -1, -1, -1, -1, -1, -1, -1, -1, -1, -1, -1, -1, -1, -1, 7, -1, -1, -1, -1, -1, -1, -1, -1, -1, -1, -1, -1, -1, -1, -1, -1, -1, -1, 7, -1, -1, -1, -1, -1, -1, -1, -1, -1, -1, -1, -1, -1, -1, -1, -1, -1, -1, -1, -1, -1, -1, -1, -1, 3, -1, -1, 2, -1, -1, -1, -1, -1, -1, -1, 2, -1, 13, -1, 14, 15, 2, -1, -1, -1, 15, -1, 2, -1, -1, -1, 16, -1, 17, -1, -1, -1, -1, -1, -1, -1, -1, -1, -1, -1, -1, -1, -1, -1, -1, -1, -1, -1, -1, -1, -1, -1, -1, -1, -1, -1, -1, -1, -1, -1, 18, -1, -1, -1, -1, -1, -1, -1, -1, -1, -1, -1, -1, -1, -1, -1, -1, -1, -1, -1, -1, -1, -1, -1, -1, -1, -1, -1, -1, -1, -1, -1, -1, -1, -1, -1, -1, -1, -1, -1, -1, 18, 8, -1, -1, -1, -1, 8, -1, -1, -1, -1, -1, 8, 8, -1, -1, -1, -1, -1, -1, -1, -1, -1, -1, -1, -1, -1, -1, -1, -1, -1, -1, -1, -1, -1, -1, 8, -1, -1, -1, -1, -1, -1, -1, -1, -1, -1, -1, -1, -1, -1, -1, -1, -1, -1, -1, -1, -1, -1, -1, -1, -1, -1, -1, -1, 9, 10, -1, 16, 17, -1, 11, -1, -1, -1, 11, -1, -1, -1, -1, -1, 11, -1, -1, -1, -1, -1, -1, -1, -1, -1, -1, 19, 10, -1, -1, 19, 9, 9, -1, 12, 10, -1, 19, 9, 9, -1, -1, 12, -1, -1, -1, -1, -1, -1, -1, -1, 11, 12, 16, 17, -1, 2, 13, 14, 2, -1, -1, -1, -1, -1, -1, -1, -1, -1, -1, -1, -1, -1, 13, 14, -1, -1, -1, -1, -1, 16, 17, -1, -1, -1, -1, -1, -1, -1, -1, -1, -1, -1, -1, -1, -1, -1, -1, -1, -1, -1, -1, -1, -1, -1, -1, 13, 15, -1, -1, 15, -1, -1, -1, -1, -1, -1, -1, -1, 15, 2, 13, -1, 14, -1, -1, -1, -1, -1, 13, 13, -1, -1, 15, -1, 2, -1]\n",
            "Type of Y is  <class 'list'>\n",
            "Lenght of Y is 1057\n"
          ],
          "name": "stdout"
        }
      ]
    },
    {
      "cell_type": "markdown",
      "metadata": {
        "id": "cC5q5ZZxx3Hk"
      },
      "source": [
        "Computing confidence"
      ]
    },
    {
      "cell_type": "code",
      "metadata": {
        "id": "Pg7EbJf8x4wo"
      },
      "source": [
        "rules_and_their_clusters = []"
      ],
      "execution_count": 61,
      "outputs": []
    },
    {
      "cell_type": "code",
      "metadata": {
        "id": "pxSYdS4nyYpx"
      },
      "source": [
        "def compute_confidence(association_rules_list):\n",
        "        freq_itemset_dict = load_frequent_itemsets_as_dict()\n",
        "        \n",
        "        rule_confidence_dict = {}\n",
        "        for rule in association_rules_list:\n",
        "            left, _, both = freq_itemset_dict.get_frequency_combo(rule)\n",
        "            rule_confidence_dict[rule.serialize()] = (both/left, both)\n",
        "        \n",
        "        print(\"rule_confidence_dict\",rule_confidence_dict)\n",
        "        return rule_confidence_dict"
      ],
      "execution_count": 62,
      "outputs": []
    },
    {
      "cell_type": "code",
      "metadata": {
        "id": "afEr-FZsx9PP",
        "colab": {
          "base_uri": "https://localhost:8080/"
        },
        "outputId": "d5f2322c-5c25-40a3-cb8d-e87a55b4789a"
      },
      "source": [
        "confidence_support_values = compute_confidence(association_rules_list)"
      ],
      "execution_count": 63,
      "outputs": [
        {
          "output_type": "stream",
          "text": [
            "rule_confidence_dict {'a1@70-79>class@no': (0.8, 4), 'a3@10-14>class@no': (1.0, 19), 'a4@12-14>class@yes': (1.0, 2), 'a4@9-11>class@yes': (0.8333333333333334, 5), 'a1@30-39,a3@10-14>class@no': (1.0, 2), 'a1@30-39,a3@35-39>class@yes': (1.0, 3), 'a1@30-39,a3@40-44>class@no': (1.0, 3), 'a1@30-39,a4@9-11>class@yes': (1.0, 2), 'a1@30-39,a8@right_up>class@no': (1.0, 3), 'a1@40-49,a3@10-14>class@no': (1.0, 7), 'a1@40-49,a3@15-19>class@yes': (1.0, 2), 'a1@40-49,a3@35-39>class@no': (0.8, 4), 'a1@40-49,a6@1>class@no': (0.8, 12), 'a1@40-49,a8@right_low>class@no': (0.8333333333333334, 5), 'a1@50-59,a3@10-14>class@no': (1.0, 5), 'a1@50-59,a3@15-19>class@no': (0.8333333333333334, 5), 'a1@50-59,a4@6-8>class@yes': (1.0, 4), 'a1@50-59,a5@?>class@yes': (1.0, 2), 'a1@50-59,a6@1>class@no': (0.8333333333333334, 15), 'a1@50-59,a8@central>class@no': (1.0, 4), 'a1@60-69,a2@lt40>class@no': (1.0, 2), 'a1@60-69,a3@10-14>class@no': (1.0, 4), 'a1@60-69,a3@15-19>class@no': (1.0, 6), 'a1@60-69,a3@40-44>class@yes': (1.0, 2), 'a1@60-69,a6@1>class@no': (0.8333333333333334, 10), 'a1@60-69,a8@left_up>class@no': (0.8, 8), 'a1@70-79,a3@40-44>class@no': (1.0, 2), 'a1@70-79,a4@0-2>class@no': (1.0, 4), 'a1@70-79,a5@no>class@no': (1.0, 4), 'a1@70-79,a7@right>class@no': (1.0, 2), 'a1@70-79,a8@left_up>class@no': (1.0, 2), 'a1@70-79,a9@no>class@no': (1.0, 4), 'a2@ge40,a3@10-14>class@no': (1.0, 7), 'a2@ge40,a3@15-19>class@no': (0.9, 9), 'a2@ge40,a3@50-54>class@no': (1.0, 2), 'a2@ge40,a4@0-2>class@no': (0.8064516129032258, 50), 'a2@ge40,a6@1>class@no': (0.875, 21), 'a2@ge40,a8@left_up>class@no': (0.8214285714285714, 23), 'a2@ge40,a8@right_low>class@yes': (1.0, 3), 'a2@lt40,a3@15-19>class@no': (1.0, 2), 'a2@lt40,a3@20-24>class@yes': (1.0, 2), 'a2@lt40,a5@?>class@yes': (1.0, 2), 'a2@lt40,a5@no>class@no': (1.0, 4), 'a2@premeno,a3@10-14>class@no': (1.0, 11), 'a2@premeno,a3@40-44>class@no': (0.8333333333333334, 5), 'a2@premeno,a4@15-17>class@yes': (1.0, 2), 'a2@premeno,a4@3-5>class@no': (0.8333333333333334, 10), 'a2@premeno,a4@9-11>class@yes': (0.8, 4), 'a2@premeno,a8@right_low>class@no': (0.8888888888888888, 8), 'a3@10-14,a4@0-2>class@no': (1.0, 18), 'a3@10-14,a6@1>class@no': (1.0, 12), 'a3@10-14,a6@2>class@no': (1.0, 7), 'a3@10-14,a7@left>class@no': (1.0, 11), 'a3@10-14,a7@right>class@no': (1.0, 8), 'a3@10-14,a8@left_low>class@no': (1.0, 7), 'a3@10-14,a8@left_up>class@no': (1.0, 8), 'a3@10-14,a8@right_low>class@no': (1.0, 2), 'a3@15-19,a4@0-2>class@no': (0.8125, 13), 'a3@15-19,a5@no>class@no': (0.8666666666666667, 13), 'a3@15-19,a5@yes>class@yes': (1.0, 2), 'a3@15-19,a6@2>class@no': (0.8888888888888888, 8), 'a3@15-19,a7@right>class@no': (0.8, 8), 'a3@15-19,a8@central>class@no': (1.0, 2), 'a3@15-19,a8@left_up>class@no': (0.8, 4), 'a3@20-24,a5@?>class@yes': (1.0, 2), 'a3@20-24,a8@central>class@no': (1.0, 2), 'a3@20-24,a8@right_low>class@no': (1.0, 2), 'a3@20-24,a9@yes>class@yes': (1.0, 4), 'a3@25-29,a4@3-5>class@no': (1.0, 3), 'a3@25-29,a6@1>class@no': (0.8333333333333334, 5), 'a3@30-34,a6@1>class@no': (0.8181818181818182, 9), 'a3@35-39,a8@left_up>class@no': (0.8, 4), 'a3@35-39,a9@yes>class@no': (1.0, 2), 'a3@40-44,a4@0-2>class@no': (0.8, 8), 'a3@40-44,a4@6-8>class@yes': (1.0, 2), 'a3@40-44,a5@no>class@no': (0.8181818181818182, 9), 'a3@40-44,a6@2>class@no': (0.8333333333333334, 5), 'a3@40-44,a7@right>class@no': (0.8, 8), 'a3@40-44,a8@left_up>class@no': (1.0, 5), 'a3@40-44,a8@right_up>class@no': (1.0, 4), 'a3@45-49,a7@left>class@no': (1.0, 2), 'a4@0-2,a5@?>class@yes': (1.0, 2), 'a4@0-2,a8@right_low>class@no': (0.8888888888888888, 8), 'a4@15-17,a6@3>class@yes': (1.0, 2), 'a4@15-17,a7@left>class@yes': (1.0, 2), 'a4@15-17,a8@left_low>class@yes': (1.0, 2), 'a4@15-17,a9@no>class@yes': (1.0, 2), 'a4@3-5,a6@1>class@no': (1.0, 2), 'a4@3-5,a8@left_up>class@no': (0.8333333333333334, 5), 'a4@6-8,a6@2>class@no': (1.0, 4), 'a4@6-8,a6@3>class@yes': (0.875, 7), 'a4@6-8,a8@left_low>class@yes': (1.0, 4), 'a4@6-8,a8@right_low>class@yes': (1.0, 2), 'a4@6-8,a8@right_up>class@no': (1.0, 2), 'a4@6-8,a9@yes>class@yes': (0.8, 4), 'a4@9-11,a6@3>class@yes': (1.0, 2), 'a4@9-11,a7@left>class@yes': (1.0, 2), 'a4@9-11,a8@left_low>class@yes': (1.0, 2), 'a4@9-11,a9@no>class@yes': (1.0, 3), 'a5@?,a7@left>class@yes': (1.0, 3), 'a5@?,a9@no>class@yes': (1.0, 2), 'a5@no,a6@1>class@no': (0.8333333333333334, 40), 'a5@no,a8@right_low>class@no': (0.8888888888888888, 8), 'a5@yes,a6@3>class@yes': (0.8095238095238095, 17), 'a5@yes,a8@right_low>class@yes': (1.0, 3), 'a6@1,a8@central>class@no': (1.0, 4), 'a6@1,a8@right_low>class@no': (1.0, 3), 'a6@1,a8@right_up>class@no': (0.8571428571428571, 6), 'a6@1,a9@no>class@no': (0.8297872340425532, 39), 'a6@2,a8@left_up>class@no': (0.8333333333333334, 25), 'a6@2,a8@right_low>class@no': (1.0, 5), 'a6@3,a8@right_low>class@yes': (1.0, 4), 'a7@left,a8@central>class@no': (0.8, 4), 'a7@right,a8@right_low>class@no': (1.0, 4), 'a8@central,a9@no>class@no': (0.8, 8), 'a8@left_up,a9@yes>class@no': (0.8, 12), 'a8@right_low,a9@no>class@no': (0.8888888888888888, 8), 'a8@right_low,a9@yes>class@yes': (1.0, 3), 'a1@30-39,a3@20-24,a4@0-2>class@no': (1.0, 2), 'a1@30-39,a3@20-24,a5@no>class@no': (1.0, 3), 'a1@30-39,a3@25-29,a6@2>class@no': (1.0, 2), 'a1@30-39,a3@25-29,a7@right>class@no': (1.0, 2), 'a1@30-39,a3@35-39,a4@0-2>class@yes': (1.0, 2), 'a1@30-39,a3@35-39,a5@no>class@yes': (1.0, 2), 'a1@30-39,a3@40-44,a4@0-2>class@no': (1.0, 2), 'a1@30-39,a3@40-44,a6@2>class@no': (1.0, 2), 'a1@30-39,a3@40-44,a7@right>class@no': (1.0, 2), 'a1@30-39,a3@40-44,a8@right_up>class@no': (1.0, 2), 'a1@30-39,a3@40-44,a9@yes>class@no': (1.0, 2), 'a1@30-39,a4@0-2,a8@right_low>class@no': (1.0, 3), 'a1@30-39,a4@3-5,a5@no>class@no': (1.0, 2), 'a1@30-39,a4@3-5,a7@right>class@no': (1.0, 2), 'a1@30-39,a4@6-8,a6@2>class@no': (1.0, 2), 'a1@30-39,a4@6-8,a7@right>class@no': (1.0, 2), 'a1@30-39,a5@no,a8@right_low>class@no': (1.0, 3), 'a1@30-39,a5@no,a8@right_up>class@no': (1.0, 2), 'a1@30-39,a5@yes,a6@3>class@yes': (1.0, 2), 'a1@30-39,a5@yes,a7@left>class@yes': (1.0, 3), 'a1@30-39,a5@yes,a7@right>class@no': (1.0, 2), 'a1@30-39,a5@yes,a8@left_low>class@yes': (1.0, 2), 'a1@30-39,a6@2,a8@right_low>class@no': (1.0, 3), 'a1@30-39,a6@2,a8@right_up>class@no': (1.0, 2), 'a1@30-39,a6@3,a7@right>class@no': (1.0, 2), 'a1@30-39,a8@right_low,a9@no>class@no': (1.0, 3), 'a1@30-39,a8@right_up,a9@no>class@no': (1.0, 2), 'a1@40-49,a2@ge40,a4@0-2>class@no': (0.8, 4), 'a1@40-49,a2@ge40,a4@3-5>class@yes': (1.0, 2), 'a1@40-49,a2@premeno,a8@right_low>class@no': (1.0, 5), 'a1@40-49,a3@10-14,a6@1>class@no': (1.0, 3), 'a1@40-49,a3@10-14,a6@2>class@no': (1.0, 4), 'a1@40-49,a3@10-14,a7@left>class@no': (1.0, 2), 'a1@40-49,a3@10-14,a7@right>class@no': (1.0, 5), 'a1@40-49,a3@10-14,a8@left_low>class@no': (1.0, 2), 'a1@40-49,a3@10-14,a8@left_up>class@no': (1.0, 4), 'a1@40-49,a3@20-24,a6@1>class@no': (1.0, 2), 'a1@40-49,a3@20-24,a8@left_up>class@no': (0.8333333333333334, 5), 'a1@40-49,a3@20-24,a9@no>class@no': (0.8181818181818182, 9), 'a1@40-49,a3@20-24,a9@yes>class@yes': (1.0, 2), 'a1@40-49,a3@25-29,a5@yes>class@yes': (1.0, 2), 'a1@40-49,a3@25-29,a6@1>class@no': (1.0, 2), 'a1@40-49,a3@25-29,a6@3>class@yes': (0.8, 4), 'a1@40-49,a3@30-34,a5@yes>class@yes': (1.0, 4), 'a1@40-49,a3@30-34,a6@2>class@no': (1.0, 4), 'a1@40-49,a3@30-34,a6@3>class@yes': (0.8571428571428571, 6), 'a1@40-49,a3@35-39,a5@yes>class@no': (1.0, 2), 'a1@40-49,a3@35-39,a6@2>class@no': (1.0, 2), 'a1@40-49,a3@40-44,a5@yes>class@no': (1.0, 2), 'a1@40-49,a3@40-44,a7@right>class@no': (1.0, 3), 'a1@40-49,a3@40-44,a8@left_up>class@no': (1.0, 3), 'a1@40-49,a3@40-44,a9@yes>class@no': (1.0, 2), 'a1@40-49,a4@0-2,a8@left_up>class@no': (0.8, 16), 'a1@40-49,a4@0-2,a8@right_low>class@no': (1.0, 5), 'a1@40-49,a4@3-5,a7@left>class@yes': (1.0, 2), 'a1@40-49,a4@3-5,a8@left_up>class@no': (1.0, 2), 'a1@40-49,a5@no,a8@left_up>class@no': (0.85, 17), 'a1@40-49,a5@no,a8@right_low>class@no': (1.0, 5), 'a1@40-49,a5@yes,a6@3>class@yes': (0.8, 8), 'a1@40-49,a5@yes,a7@left>class@yes': (1.0, 5), 'a1@40-49,a5@yes,a8@left_low>class@yes': (1.0, 3), 'a1@40-49,a5@yes,a9@no>class@yes': (1.0, 6), 'a1@40-49,a6@1,a7@right>class@no': (0.8888888888888888, 8), 'a1@40-49,a6@1,a8@left_up>class@no': (0.8, 4), 'a1@40-49,a6@1,a8@right_up>class@no': (1.0, 2), 'a1@40-49,a6@1,a9@no>class@no': (0.8461538461538461, 11), 'a1@40-49,a6@2,a8@left_up>class@no': (0.9230769230769231, 12), 'a1@40-49,a6@2,a8@right_low>class@no': (1.0, 2), 'a1@40-49,a6@2,a8@right_up>class@no': (1.0, 2), 'a1@40-49,a6@2,a9@no>class@no': (0.8, 16), 'a1@40-49,a6@3,a8@left_low>class@yes': (0.8, 4), 'a1@40-49,a6@3,a8@right_up>class@yes': (1.0, 3), 'a1@40-49,a8@left_up,a9@yes>class@no': (0.875, 7), 'a1@40-49,a8@right_low,a9@no>class@no': (1.0, 5), 'a1@50-59,a2@ge40,a3@10-14>class@no': (1.0, 3), 'a1@50-59,a2@ge40,a3@15-19>class@no': (1.0, 3), 'a1@50-59,a2@ge40,a4@0-2>class@no': (0.8928571428571429, 25), 'a1@50-59,a2@ge40,a5@no>class@no': (0.8, 24), 'a1@50-59,a2@ge40,a6@1>class@no': (1.0, 11), 'a1@50-59,a2@ge40,a6@2>class@no': (0.8, 8), 'a1@50-59,a2@ge40,a7@right>class@no': (0.875, 14), 'a1@50-59,a2@ge40,a8@central>class@no': (1.0, 3), 'a1@50-59,a2@ge40,a8@left_up>class@no': (0.8333333333333334, 10), 'a1@50-59,a2@ge40,a8@right_up>class@no': (0.8333333333333334, 5), 'a1@50-59,a2@ge40,a9@yes>class@yes': (1.0, 3), 'a1@50-59,a2@lt40,a6@1>class@yes': (1.0, 2), 'a1@50-59,a2@premeno,a3@10-14>class@no': (1.0, 2), 'a1@50-59,a2@premeno,a4@3-5>class@no': (1.0, 5), 'a1@50-59,a2@premeno,a5@yes>class@no': (0.8333333333333334, 5), 'a1@50-59,a2@premeno,a6@1>class@no': (0.8, 4), 'a1@50-59,a2@premeno,a8@left_low>class@no': (0.8, 8), 'a1@50-59,a2@premeno,a8@right_up>class@yes': (1.0, 3), 'a1@50-59,a3@10-14,a4@0-2>class@no': (1.0, 4), 'a1@50-59,a3@10-14,a6@1>class@no': (1.0, 4), 'a1@50-59,a3@10-14,a7@left>class@no': (1.0, 3), 'a1@50-59,a3@10-14,a7@right>class@no': (1.0, 2), 'a1@50-59,a3@10-14,a8@left_low>class@no': (1.0, 3), 'a1@50-59,a3@10-14,a8@left_up>class@no': (1.0, 2), 'a1@50-59,a3@15-19,a6@1>class@no': (1.0, 2), 'a1@50-59,a3@15-19,a7@right>class@no': (1.0, 4), 'a1@50-59,a3@20-24,a5@no>class@no': (0.8, 4), 'a1@50-59,a3@20-24,a6@2>class@no': (0.8, 4), 'a1@50-59,a3@20-24,a7@right>class@no': (0.8, 4), 'a1@50-59,a3@25-29,a4@3-5>class@no': (1.0, 2), 'a1@50-59,a3@25-29,a5@yes>class@no': (1.0, 2), 'a1@50-59,a3@30-34,a6@1>class@no': (1.0, 4), 'a1@50-59,a3@30-34,a8@left_low>class@no': (0.8, 4), 'a1@50-59,a3@35-39,a6@3>class@no': (1.0, 2), 'a1@50-59,a3@35-39,a8@left_up>class@no': (1.0, 2), 'a1@50-59,a3@40-44,a4@0-2>class@no': (1.0, 3), 'a1@50-59,a3@40-44,a5@no>class@no': (1.0, 3), 'a1@50-59,a3@40-44,a6@2>class@no': (1.0, 2), 'a1@50-59,a3@40-44,a9@no>class@no': (1.0, 4), 'a1@50-59,a3@40-44,a9@yes>class@yes': (1.0, 2), 'a1@50-59,a3@50-54,a4@0-2>class@no': (1.0, 2), 'a1@50-59,a4@0-2,a5@yes>class@no': (1.0, 3), 'a1@50-59,a4@0-2,a6@1>class@no': (0.8235294117647058, 14), 'a1@50-59,a4@0-2,a7@right>class@no': (0.8333333333333334, 15), 'a1@50-59,a4@3-5,a5@yes>class@no': (0.8333333333333334, 5), 'a1@50-59,a4@3-5,a6@2>class@no': (1.0, 6), 'a1@50-59,a4@3-5,a6@3>class@yes': (1.0, 3), 'a1@50-59,a4@3-5,a7@left>class@no': (0.8, 4), 'a1@50-59,a4@3-5,a8@left_low>class@no': (0.8, 4), 'a1@50-59,a4@3-5,a9@yes>class@no': (1.0, 3), 'a1@50-59,a4@6-8,a5@yes>class@yes': (1.0, 3), 'a1@50-59,a4@6-8,a8@left_low>class@yes': (1.0, 3), 'a1@50-59,a4@6-8,a9@yes>class@yes': (1.0, 3), 'a1@50-59,a5@no,a6@1>class@no': (0.9375, 15), 'a1@50-59,a5@yes,a6@2>class@no': (0.8888888888888888, 8), 'a1@50-59,a5@yes,a6@3>class@yes': (1.0, 4), 'a1@50-59,a5@yes,a8@left_up>class@no': (0.8, 4), 'a1@50-59,a6@1,a7@right>class@no': (0.9, 9), 'a1@50-59,a6@1,a8@left_low>class@no': (0.8571428571428571, 6), 'a1@50-59,a6@1,a8@right_up>class@no': (1.0, 2), 'a1@50-59,a6@2,a7@right>class@no': (0.875, 7), 'a1@50-59,a6@2,a8@left_low>class@no': (0.8181818181818182, 9), 'a1@50-59,a6@2,a9@yes>class@no': (1.0, 4), 'a1@50-59,a6@3,a9@yes>class@yes': (1.0, 5), 'a1@50-59,a7@right,a8@central>class@no': (1.0, 3), 'a1@50-59,a7@right,a8@left_low>class@no': (0.8, 4), 'a1@50-59,a7@right,a9@no>class@no': (0.8, 16), 'a1@50-59,a8@left_low,a9@no>class@no': (0.8, 16), 'a1@60-69,a2@ge40,a3@10-14>class@no': (1.0, 3), 'a1@60-69,a2@ge40,a6@1>class@no': (0.8, 8), 'a1@60-69,a3@10-14,a8@left_up>class@no': (1.0, 2), 'a1@60-69,a3@15-19,a6@2>class@no': (1.0, 5), 'a1@60-69,a3@15-19,a7@left>class@no': (1.0, 3), 'a1@60-69,a3@15-19,a7@right>class@no': (1.0, 3), 'a1@60-69,a3@15-19,a8@left_low>class@no': (1.0, 3), 'a1@60-69,a3@15-19,a8@left_up>class@no': (1.0, 3), 'a1@60-69,a3@15-19,a9@no>class@no': (1.0, 5), 'a1@60-69,a3@20-24,a6@3>class@yes': (1.0, 2), 'a1@60-69,a3@20-24,a7@right>class@yes': (1.0, 2), 'a1@60-69,a3@20-24,a9@yes>class@yes': (1.0, 2), 'a1@60-69,a3@25-29,a7@left>class@yes': (1.0, 2), 'a1@60-69,a3@25-29,a7@right>class@no': (1.0, 2), 'a1@60-69,a3@25-29,a8@left_low>class@no': (1.0, 2), 'a1@60-69,a3@30-34,a5@no>class@no': (0.8, 4), 'a1@60-69,a3@30-34,a6@1>class@no': (1.0, 2), 'a1@60-69,a3@30-34,a7@left>class@no': (0.8, 4), 'a1@60-69,a3@30-34,a8@central>class@yes': (1.0, 2), 'a1@60-69,a3@30-34,a8@left_low>class@no': (1.0, 4), 'a1@60-69,a3@30-34,a9@no>class@no': (0.8571428571428571, 6), 'a1@60-69,a3@30-34,a9@yes>class@yes': (1.0, 2), 'a1@60-69,a4@0-2,a6@1>class@no': (0.8181818181818182, 9), 'a1@60-69,a4@0-2,a6@2>class@no': (0.8, 8), 'a1@60-69,a4@0-2,a7@left>class@no': (0.8666666666666667, 13), 'a1@60-69,a4@0-2,a8@left_low>class@no': (0.8333333333333334, 10), 'a1@60-69,a4@3-5,a6@2>class@yes': (1.0, 2), 'a1@60-69,a5@no,a6@1>class@no': (0.8181818181818182, 9), 'a1@60-69,a5@no,a6@2>class@no': (0.8, 8), 'a1@60-69,a5@no,a7@left>class@no': (0.8125, 13), 'a1@60-69,a5@yes,a9@yes>class@yes': (1.0, 3), 'a1@60-69,a6@1,a7@left>class@no': (1.0, 7), 'a1@60-69,a6@1,a8@left_low>class@no': (1.0, 5), 'a1@60-69,a6@1,a8@left_up>class@no': (0.8, 4), 'a1@60-69,a6@1,a9@no>class@no': (0.9, 9), 'a1@60-69,a6@2,a8@left_up>class@no': (1.0, 4), 'a1@60-69,a6@2,a9@no>class@no': (0.875, 7), 'a1@60-69,a6@3,a9@yes>class@yes': (1.0, 2), 'a1@60-69,a7@left,a8@left_up>class@no': (0.8, 4), 'a1@60-69,a7@left,a9@no>class@no': (0.875, 14), 'a1@60-69,a7@left,a9@yes>class@yes': (0.8, 4), 'a1@60-69,a7@right,a8@left_up>class@no': (0.8, 4), 'a1@60-69,a8@left_up,a9@yes>class@no': (1.0, 2), 'a1@60-69,a8@right_up,a9@no>class@no': (1.0, 2), 'a1@60-69,a8@right_up,a9@yes>class@yes': (1.0, 2), 'a1@70-79,a4@0-2,a6@1>class@no': (1.0, 2), 'a1@70-79,a4@0-2,a7@left>class@no': (1.0, 2), 'a1@70-79,a5@no,a6@1>class@no': (1.0, 2), 'a1@70-79,a5@no,a7@left>class@no': (1.0, 2), 'a1@70-79,a6@1,a9@no>class@no': (1.0, 2), 'a1@70-79,a7@left,a9@no>class@no': (1.0, 2), 'a2@ge40,a3@10-14,a6@1>class@no': (1.0, 5), 'a2@ge40,a3@10-14,a6@2>class@no': (1.0, 2), 'a2@ge40,a3@10-14,a7@left>class@no': (1.0, 6), 'a2@ge40,a3@10-14,a8@left_low>class@no': (1.0, 3), 'a2@ge40,a3@10-14,a8@left_up>class@no': (1.0, 3), 'a2@ge40,a3@15-19,a4@0-2>class@no': (1.0, 9), 'a2@ge40,a3@15-19,a5@no>class@no': (1.0, 9), 'a2@ge40,a3@15-19,a6@2>class@no': (1.0, 6), 'a2@ge40,a3@15-19,a7@right>class@no': (1.0, 6), 'a2@ge40,a3@15-19,a8@left_up>class@no': (1.0, 3), 'a2@ge40,a3@15-19,a9@no>class@no': (1.0, 8), 'a2@ge40,a3@20-24,a9@yes>class@yes': (1.0, 3), 'a2@ge40,a3@25-29,a6@1>class@no': (1.0, 2), 'a2@ge40,a3@25-29,a7@right>class@no': (1.0, 2), 'a2@ge40,a3@25-29,a8@left_low>class@no': (0.8, 4), 'a2@ge40,a3@25-29,a8@right_low>class@yes': (1.0, 2), 'a2@ge40,a3@25-29,a9@no>class@no': (0.8, 4), 'a2@ge40,a3@30-34,a4@3-5>class@yes': (0.8, 4), 'a2@ge40,a3@30-34,a6@1>class@no': (1.0, 4), 'a2@ge40,a3@30-34,a8@central>class@yes': (1.0, 2), 'a2@ge40,a3@35-39,a8@left_up>class@no': (1.0, 2), 'a2@ge40,a3@40-44,a4@0-2>class@no': (0.8333333333333334, 5), 'a2@ge40,a3@40-44,a5@no>class@no': (0.8333333333333334, 5), 'a2@ge40,a3@40-44,a6@1>class@no': (1.0, 2), 'a2@ge40,a3@40-44,a8@left_up>class@no': (1.0, 3), 'a2@ge40,a3@40-44,a8@right_up>class@no': (1.0, 2), 'a2@ge40,a4@0-2,a5@no>class@no': (0.8166666666666667, 49), 'a2@ge40,a4@0-2,a6@1>class@no': (0.9090909090909091, 20), 'a2@ge40,a4@0-2,a7@left>class@no': (0.8529411764705882, 29), 'a2@ge40,a4@0-2,a8@central>class@no': (0.8, 4), 'a2@ge40,a4@0-2,a8@left_low>class@no': (0.8636363636363636, 19), 'a2@ge40,a4@0-2,a8@left_up>class@no': (0.84, 21), 'a2@ge40,a4@0-2,a9@no>class@no': (0.8392857142857143, 47), 'a2@ge40,a4@3-5,a5@no>class@yes': (1.0, 5), 'a2@ge40,a4@3-5,a6@3>class@yes': (0.8571428571428571, 6), 'a2@ge40,a4@6-8,a6@3>class@yes': (0.8333333333333334, 5), 'a2@ge40,a4@6-8,a7@left>class@yes': (0.8333333333333334, 5), 'a2@ge40,a4@6-8,a9@yes>class@yes': (1.0, 3), 'a2@ge40,a5@no,a6@1>class@no': (0.9090909090909091, 20), 'a2@ge40,a5@no,a8@central>class@no': (0.8, 4), 'a2@ge40,a5@no,a8@left_up>class@no': (0.8, 20), 'a2@ge40,a5@no,a8@right_up>class@no': (0.8571428571428571, 6), 'a2@ge40,a5@yes,a6@3>class@yes': (0.8, 8), 'a2@ge40,a5@yes,a8@left_up>class@no': (1.0, 3), 'a2@ge40,a5@yes,a8@right_low>class@yes': (1.0, 2), 'a2@ge40,a5@yes,a9@yes>class@yes': (0.8571428571428571, 6), 'a2@ge40,a6@1,a7@left>class@no': (0.8888888888888888, 8), 'a2@ge40,a6@1,a7@right>class@no': (0.8666666666666667, 13), 'a2@ge40,a6@1,a8@central>class@no': (1.0, 3), 'a2@ge40,a6@1,a8@left_low>class@no': (0.8888888888888888, 8), 'a2@ge40,a6@1,a8@left_up>class@no': (0.875, 7), 'a2@ge40,a6@1,a9@no>class@no': (0.9523809523809523, 20), 'a2@ge40,a6@2,a8@left_up>class@no': (0.8333333333333334, 10), 'a2@ge40,a6@2,a9@no>class@no': (0.8095238095238095, 17), 'a2@ge40,a6@3,a9@yes>class@yes': (1.0, 7), 'a2@ge40,a7@left,a8@left_up>class@no': (0.8571428571428571, 12), 'a2@ge40,a7@left,a8@right_up>class@no': (1.0, 2), 'a2@ge40,a7@left,a9@yes>class@yes': (0.8181818181818182, 9), 'a2@ge40,a8@central,a9@no>class@no': (0.8333333333333334, 5), 'a2@ge40,a8@left_low,a9@yes>class@yes': (0.875, 7), 'a2@ge40,a8@left_up,a9@yes>class@no': (1.0, 4), 'a2@ge40,a8@right_low,a9@yes>class@yes': (1.0, 2), 'a2@ge40,a8@right_up,a9@no>class@no': (0.875, 7), 'a2@ge40,a8@right_up,a9@yes>class@yes': (1.0, 2), 'a2@lt40,a5@no,a6@1>class@no': (1.0, 2), 'a2@lt40,a5@no,a7@left>class@no': (1.0, 3), 'a2@lt40,a5@no,a8@left_low>class@no': (1.0, 2), 'a2@premeno,a3@10-14,a4@0-2>class@no': (1.0, 10), 'a2@premeno,a3@10-14,a6@1>class@no': (1.0, 6), 'a2@premeno,a3@10-14,a6@2>class@no': (1.0, 5), 'a2@premeno,a3@10-14,a7@left>class@no': (1.0, 4), 'a2@premeno,a3@10-14,a7@right>class@no': (1.0, 7), 'a2@premeno,a3@10-14,a8@left_low>class@no': (1.0, 4), 'a2@premeno,a3@10-14,a8@left_up>class@no': (1.0, 5), 'a2@premeno,a3@15-19,a6@3>class@yes': (1.0, 2), 'a2@premeno,a3@20-24,a4@0-2>class@no': (0.875, 7), 'a2@premeno,a3@20-24,a5@no>class@no': (0.9090909090909091, 10), 'a2@premeno,a3@20-24,a6@1>class@no': (1.0, 2), 'a2@premeno,a3@20-24,a7@right>class@no': (1.0, 6), 'a2@premeno,a3@20-24,a8@left_up>class@no': (1.0, 4), 'a2@premeno,a3@20-24,a9@no>class@no': (0.8461538461538461, 11), 'a2@premeno,a3@25-29,a4@3-5>class@no': (1.0, 2), 'a2@premeno,a3@25-29,a6@3>class@yes': (0.8333333333333334, 5), 'a2@premeno,a3@25-29,a8@right_up>class@yes': (1.0, 3), 'a2@premeno,a3@35-39,a6@2>class@no': (1.0, 2), 'a2@premeno,a3@40-44,a4@3-5>class@no': (1.0, 2), 'a2@premeno,a3@40-44,a5@no>class@no': (0.8, 4), 'a2@premeno,a3@40-44,a6@2>class@no': (1.0, 2), 'a2@premeno,a3@40-44,a6@3>class@no': (1.0, 2), 'a2@premeno,a3@40-44,a7@right>class@no': (1.0, 4), 'a2@premeno,a3@40-44,a8@left_up>class@no': (1.0, 2), 'a2@premeno,a3@40-44,a8@right_up>class@no': (1.0, 2), 'a2@premeno,a3@40-44,a9@yes>class@no': (1.0, 3), 'a2@premeno,a4@0-2,a8@right_low>class@no': (1.0, 8), 'a2@premeno,a4@3-5,a5@no>class@no': (1.0, 6), 'a2@premeno,a4@3-5,a6@3>class@no': (1.0, 2), 'a2@premeno,a4@3-5,a7@right>class@no': (1.0, 7), 'a2@premeno,a4@3-5,a8@left_up>class@no': (1.0, 4), 'a2@premeno,a4@3-5,a9@no>class@no': (0.8333333333333334, 5), 'a2@premeno,a4@3-5,a9@yes>class@no': (0.8333333333333334, 5), 'a2@premeno,a4@6-8,a6@2>class@no': (1.0, 3), 'a2@premeno,a4@6-8,a6@3>class@yes': (1.0, 2), 'a2@premeno,a5@no,a8@right_low>class@no': (1.0, 8), 'a2@premeno,a5@yes,a6@3>class@yes': (0.8181818181818182, 9), 'a2@premeno,a6@1,a7@left>class@no': (0.8, 8), 'a2@premeno,a6@1,a8@right_up>class@no': (1.0, 2), 'a2@premeno,a6@2,a8@left_up>class@no': (0.8333333333333334, 15), 'a2@premeno,a6@3,a8@right_up>class@yes': (0.8, 4), 'a2@premeno,a7@left,a8@central>class@no': (1.0, 2), 'a2@premeno,a7@left,a8@right_low>class@no': (0.8, 4), 'a2@premeno,a7@left,a8@right_up>class@yes': (0.8, 4), 'a2@premeno,a8@right_low,a9@no>class@no': (1.0, 8), 'a2@premeno,a8@right_up,a9@yes>class@no': (1.0, 2), 'a3@10-14,a4@0-2,a6@1>class@no': (1.0, 11), 'a3@10-14,a4@0-2,a7@right>class@no': (1.0, 7), 'a3@10-14,a4@0-2,a8@left_up>class@no': (1.0, 7), 'a3@10-14,a6@1,a7@left>class@no': (1.0, 6), 'a3@10-14,a6@1,a7@right>class@no': (1.0, 6), 'a3@10-14,a6@1,a8@left_low>class@no': (1.0, 4), 'a3@10-14,a6@1,a8@left_up>class@no': (1.0, 6), 'a3@10-14,a6@2,a7@left>class@no': (1.0, 5), 'a3@10-14,a6@2,a7@right>class@no': (1.0, 2), 'a3@10-14,a6@2,a8@left_low>class@no': (1.0, 3), 'a3@10-14,a6@2,a8@left_up>class@no': (1.0, 2), 'a3@10-14,a7@left,a8@left_low>class@no': (1.0, 5), 'a3@10-14,a7@left,a8@left_up>class@no': (1.0, 3), 'a3@10-14,a7@right,a8@left_low>class@no': (1.0, 2), 'a3@10-14,a7@right,a8@left_up>class@no': (1.0, 5), 'a3@15-19,a4@0-2,a6@1>class@no': (0.8, 4), 'a3@15-19,a4@0-2,a7@left>class@no': (0.8333333333333334, 5), 'a3@15-19,a4@0-2,a9@no>class@no': (0.8, 12), 'a3@15-19,a5@no,a6@1>class@no': (0.8, 4), 'a3@15-19,a5@no,a7@left>class@no': (0.8333333333333334, 5), 'a3@15-19,a5@no,a7@right>class@no': (0.8888888888888888, 8), 'a3@15-19,a5@no,a8@left_up>class@no': (1.0, 4), 'a3@15-19,a5@no,a9@no>class@no': (0.8571428571428571, 12), 'a3@15-19,a6@1,a9@no>class@no': (0.8, 4), 'a3@15-19,a6@2,a7@left>class@no': (0.8, 4), 'a3@15-19,a6@2,a7@right>class@no': (1.0, 4), 'a3@15-19,a6@2,a8@left_low>class@no': (0.8333333333333334, 5), 'a3@15-19,a6@2,a8@left_up>class@no': (1.0, 2), 'a3@15-19,a6@2,a9@no>class@no': (0.875, 7), 'a3@20-24,a4@0-2,a6@3>class@no': (0.8571428571428571, 6), 'a3@20-24,a4@3-5,a6@3>class@yes': (1.0, 2), 'a3@20-24,a4@3-5,a8@left_up>class@no': (1.0, 2), 'a3@20-24,a4@3-5,a9@yes>class@yes': (1.0, 3), 'a3@20-24,a5@no,a6@1>class@no': (0.8333333333333334, 5), 'a3@20-24,a5@no,a7@left>class@no': (0.8, 12), 'a3@20-24,a5@no,a9@no>class@no': (0.8, 20), 'a3@20-24,a5@no,a9@yes>class@yes': (1.0, 2), 'a3@20-24,a5@yes,a6@3>class@yes': (1.0, 2), 'a3@20-24,a5@yes,a8@left_up>class@no': (1.0, 2), 'a3@20-24,a5@yes,a9@yes>class@yes': (1.0, 2), 'a3@20-24,a6@1,a8@left_up>class@yes': (1.0, 2), 'a3@20-24,a6@2,a7@right>class@no': (0.8888888888888888, 8), 'a3@20-24,a6@2,a8@left_up>class@no': (0.8, 8), 'a3@20-24,a6@2,a9@yes>class@yes': (1.0, 2), 'a3@20-24,a6@3,a7@left>class@no': (0.8571428571428571, 6), 'a3@20-24,a6@3,a7@right>class@yes': (1.0, 3), 'a3@20-24,a6@3,a8@left_up>class@no': (1.0, 4), 'a3@20-24,a6@3,a9@yes>class@yes': (1.0, 2), 'a3@20-24,a7@left,a9@yes>class@yes': (1.0, 3), 'a3@25-29,a4@0-2,a6@1>class@no': (0.8, 4), 'a3@25-29,a4@3-5,a6@2>class@no': (1.0, 2), 'a3@25-29,a4@3-5,a7@right>class@no': (1.0, 2), 'a3@25-29,a4@3-5,a8@left_low>class@no': (1.0, 2), 'a3@25-29,a4@6-8,a6@3>class@yes': (1.0, 2), 'a3@25-29,a4@6-8,a7@left>class@yes': (1.0, 2), 'a3@25-29,a5@no,a6@1>class@no': (0.8, 4), 'a3@25-29,a5@yes,a6@2>class@no': (1.0, 3), 'a3@25-29,a5@yes,a6@3>class@yes': (1.0, 3), 'a3@25-29,a5@yes,a8@right_low>class@yes': (1.0, 2), 'a3@25-29,a6@1,a7@left>class@no': (1.0, 2), 'a3@25-29,a6@1,a8@left_low>class@no': (1.0, 4), 'a3@25-29,a6@1,a9@yes>class@no': (1.0, 2), 'a3@25-29,a6@2,a8@left_up>class@no': (1.0, 5), 'a3@25-29,a6@2,a8@right_up>class@yes': (1.0, 2), 'a3@25-29,a6@2,a9@yes>class@no': (0.8, 4), 'a3@25-29,a6@3,a7@left>class@yes': (0.875, 7), 'a3@25-29,a6@3,a8@right_low>class@yes': (1.0, 3), 'a3@25-29,a6@3,a9@yes>class@yes': (0.8333333333333334, 5), 'a3@25-29,a7@left,a8@right_low>class@yes': (1.0, 3), 'a3@25-29,a7@right,a9@yes>class@no': (0.8333333333333334, 5), 'a3@25-29,a8@left_up,a9@yes>class@no': (1.0, 4), 'a3@30-34,a4@0-2,a5@yes>class@yes': (1.0, 2), 'a3@30-34,a4@0-2,a8@left_low>class@no': (0.8888888888888888, 8), 'a3@30-34,a4@3-5,a5@no>class@yes': (1.0, 3), 'a3@30-34,a4@6-8,a6@2>class@no': (1.0, 3), 'a3@30-34,a4@6-8,a6@3>class@yes': (1.0, 2), 'a3@30-34,a5@yes,a6@3>class@yes': (0.8333333333333334, 5), 'a3@30-34,a5@yes,a8@left_up>class@yes': (1.0, 2), 'a3@30-34,a6@1,a7@left>class@no': (0.8333333333333334, 5), 'a3@30-34,a6@1,a7@right>class@no': (0.8, 4), 'a3@30-34,a6@1,a8@right_up>class@no': (1.0, 2), 'a3@30-34,a6@1,a9@no>class@no': (0.9, 9), 'a3@30-34,a6@2,a8@left_low>class@no': (1.0, 2), 'a3@30-34,a6@2,a9@no>class@no': (0.8571428571428571, 6), 'a3@30-34,a6@3,a7@right>class@yes': (0.8571428571428571, 6), 'a3@30-34,a6@3,a8@left_up>class@yes': (0.8, 4), 'a3@30-34,a6@3,a8@right_up>class@yes': (1.0, 3), 'a3@30-34,a6@3,a9@yes>class@yes': (1.0, 2), 'a3@30-34,a7@right,a8@left_low>class@no': (1.0, 2), 'a3@35-39,a5@yes,a7@left>class@yes': (1.0, 2), 'a3@35-39,a5@yes,a7@right>class@no': (1.0, 2), 'a3@35-39,a5@yes,a8@left_low>class@yes': (1.0, 2), 'a3@35-39,a5@yes,a8@left_up>class@no': (1.0, 2), 'a3@35-39,a5@yes,a9@no>class@yes': (1.0, 2), 'a3@35-39,a6@2,a7@right>class@no': (1.0, 2), 'a3@35-39,a6@2,a8@left_up>class@no': (1.0, 2), 'a3@35-39,a6@3,a8@left_low>class@yes': (0.8, 4), 'a3@35-39,a6@3,a8@left_up>class@no': (1.0, 2), 'a3@35-39,a7@left,a8@left_up>class@no': (1.0, 2), 'a3@40-44,a4@0-2,a6@3>class@no': (1.0, 2), 'a3@40-44,a4@0-2,a7@right>class@no': (0.8333333333333334, 5), 'a3@40-44,a4@0-2,a8@left_up>class@no': (1.0, 3), 'a3@40-44,a4@0-2,a8@right_up>class@no': (1.0, 3), 'a3@40-44,a4@3-5,a9@yes>class@no': (1.0, 2), 'a3@40-44,a5@no,a6@3>class@no': (1.0, 3), 'a3@40-44,a5@no,a7@right>class@no': (0.8571428571428571, 6), 'a3@40-44,a5@no,a8@left_up>class@no': (1.0, 3), 'a3@40-44,a5@no,a9@yes>class@no': (1.0, 2), 'a3@40-44,a5@yes,a6@2>class@no': (1.0, 2), 'a3@40-44,a5@yes,a8@left_up>class@no': (1.0, 2), 'a3@40-44,a6@1,a7@right>class@no': (1.0, 3), 'a3@40-44,a6@1,a8@left_up>class@no': (1.0, 2), 'a3@40-44,a6@2,a7@left>class@no': (1.0, 3), 'a3@40-44,a6@2,a9@yes>class@no': (1.0, 2), 'a3@40-44,a6@3,a8@left_low>class@yes': (1.0, 3), 'a3@40-44,a6@3,a8@left_up>class@no': (1.0, 2), 'a3@40-44,a6@3,a8@right_up>class@no': (1.0, 2), 'a3@40-44,a7@right,a8@left_low>class@yes': (1.0, 2), 'a3@40-44,a7@right,a8@right_up>class@no': (1.0, 3), 'a3@40-44,a7@right,a9@yes>class@no': (1.0, 3), 'a3@40-44,a8@left_up,a9@no>class@no': (1.0, 3), 'a3@40-44,a8@left_up,a9@yes>class@no': (1.0, 2), 'a3@40-44,a8@right_up,a9@no>class@no': (1.0, 3), 'a3@50-54,a4@0-2,a8@left_up>class@no': (1.0, 2), 'a3@50-54,a8@left_up,a9@yes>class@no': (1.0, 2), 'a4@0-2,a5@no,a6@1>class@no': (0.8297872340425532, 39), 'a4@0-2,a5@yes,a8@left_up>class@no': (0.8, 4), 'a4@0-2,a5@yes,a8@right_up>class@yes': (1.0, 2), 'a4@0-2,a6@1,a7@left>class@no': (0.8181818181818182, 18), 'a4@0-2,a6@1,a9@no>class@no': (0.8260869565217391, 38), 'a4@0-2,a6@2,a8@left_up>class@no': (0.8571428571428571, 18), 'a4@0-2,a7@left,a8@central>class@no': (1.0, 3), 'a4@0-2,a7@left,a8@right_low>class@no': (0.8, 4), 'a4@0-2,a8@left_up,a9@yes>class@no': (0.875, 7), 'a4@0-2,a8@right_low,a9@no>class@no': (1.0, 8), 'a4@3-5,a5@no,a6@2>class@no': (0.8, 4), 'a4@3-5,a5@no,a6@3>class@yes': (0.8, 4), 'a4@3-5,a5@no,a7@left>class@yes': (1.0, 3), 'a4@3-5,a5@no,a8@left_low>class@yes': (0.8, 4), 'a4@3-5,a5@yes,a8@left_up>class@no': (1.0, 2), 'a4@3-5,a6@2,a7@right>class@no': (1.0, 5), 'a4@3-5,a6@2,a8@left_up>class@no': (1.0, 3), 'a4@3-5,a6@2,a9@no>class@no': (0.8571428571428571, 6), 'a4@3-5,a6@3,a8@left_low>class@yes': (0.8, 4), 'a4@3-5,a6@3,a9@no>class@yes': (0.8333333333333334, 5), 'a4@3-5,a7@right,a9@yes>class@no': (0.8, 4), 'a4@3-5,a8@left_up,a9@yes>class@no': (1.0, 2), 'a4@6-8,a5@yes,a6@2>class@no': (1.0, 3), 'a4@6-8,a5@yes,a6@3>class@yes': (0.8571428571428571, 6), 'a4@6-8,a5@yes,a7@left>class@yes': (0.8333333333333334, 5), 'a4@6-8,a5@yes,a8@left_low>class@yes': (1.0, 3), 'a4@6-8,a6@2,a7@right>class@no': (1.0, 3), 'a4@6-8,a6@2,a8@left_up>class@no': (1.0, 2), 'a4@6-8,a6@2,a9@no>class@no': (1.0, 3), 'a4@6-8,a6@3,a7@left>class@yes': (0.8571428571428571, 6), 'a4@6-8,a6@3,a9@yes>class@yes': (1.0, 4), 'a4@6-8,a7@left,a9@yes>class@yes': (1.0, 4), 'a4@6-8,a8@left_low,a9@yes>class@yes': (1.0, 3), 'a4@9-11,a7@right,a9@no>class@yes': (1.0, 2), 'a4@9-11,a8@left_up,a9@no>class@yes': (1.0, 2), 'a5@?,a7@left,a8@left_low>class@yes': (1.0, 2), 'a5@no,a6@1,a7@left>class@no': (0.9, 18), 'a5@no,a6@1,a8@left_low>class@no': (0.8333333333333334, 15), 'a5@no,a6@1,a9@no>class@no': (0.8666666666666667, 39), 'a5@no,a6@2,a8@left_up>class@no': (0.8181818181818182, 18), 'a5@no,a7@left,a8@central>class@no': (1.0, 3), 'a5@no,a7@left,a8@left_up>class@no': (0.8181818181818182, 18), 'a5@no,a7@left,a8@right_low>class@no': (0.8, 4), 'a5@no,a7@right,a8@right_up>class@no': (0.8181818181818182, 9), 'a5@no,a8@right_low,a9@no>class@no': (1.0, 8), 'a5@yes,a6@2,a7@right>class@no': (0.8, 8), 'a5@yes,a6@2,a8@left_up>class@no': (0.875, 7), 'a5@yes,a6@3,a7@left>class@yes': (0.8461538461538461, 11), 'a5@yes,a6@3,a8@left_low>class@yes': (0.8888888888888888, 8), 'a5@yes,a6@3,a8@right_up>class@yes': (1.0, 2), 'a5@yes,a6@3,a9@no>class@yes': (0.8461538461538461, 11), 'a5@yes,a7@left,a9@yes>class@yes': (0.8, 8), 'a5@yes,a7@right,a9@yes>class@no': (0.8571428571428571, 6), 'a5@yes,a8@left_up,a9@yes>class@no': (0.8571428571428571, 6), 'a5@yes,a8@right_low,a9@yes>class@yes': (1.0, 2), 'a6@1,a7@left,a8@right_up>class@no': (1.0, 2), 'a6@1,a7@left,a9@no>class@no': (0.8571428571428571, 18), 'a6@1,a7@left,a9@yes>class@yes': (1.0, 2), 'a6@1,a7@right,a8@central>class@no': (1.0, 3), 'a6@1,a7@right,a8@left_low>class@no': (0.8333333333333334, 5), 'a6@1,a7@right,a8@right_low>class@no': (1.0, 2), 'a6@1,a7@right,a8@right_up>class@no': (0.8, 4), 'a6@1,a7@right,a9@no>class@no': (0.8076923076923077, 21), 'a6@1,a8@left_low,a9@no>class@no': (0.8235294117647058, 14), 'a6@1,a8@right_up,a9@no>class@no': (1.0, 6), 'a6@2,a7@left,a8@left_up>class@no': (0.8333333333333334, 10), 'a6@2,a7@left,a8@right_low>class@no': (1.0, 3), 'a6@2,a7@left,a8@right_up>class@yes': (1.0, 2), 'a6@2,a7@right,a8@left_up>class@no': (0.8333333333333334, 15), 'a6@2,a7@right,a8@right_low>class@no': (1.0, 2), 'a6@2,a7@right,a8@right_up>class@no': (0.8571428571428571, 6), 'a6@2,a8@left_up,a9@no>class@no': (0.8, 16), 'a6@2,a8@left_up,a9@yes>class@no': (0.9, 9), 'a6@3,a7@left,a8@central>class@no': (1.0, 2), 'a6@3,a7@left,a9@yes>class@yes': (1.0, 8), 'a6@3,a8@left_low,a9@yes>class@yes': (1.0, 6), 'a7@left,a8@central,a9@no>class@no': (1.0, 4), 'a7@left,a8@right_low,a9@no>class@no': (0.8, 4), 'a7@right,a8@left_up,a9@yes>class@no': (0.8181818181818182, 9), 'a1@30-39,a3@20-24,a5@no,a6@2>class@no': (1.0, 2), 'a1@30-39,a3@20-24,a5@no,a7@left>class@no': (1.0, 2), 'a1@30-39,a3@30-34,a5@no,a7@right>class@yes': (1.0, 2), 'a1@30-39,a3@30-34,a7@right,a8@left_up>class@yes': (1.0, 2), 'a1@30-39,a4@0-2,a6@2,a7@left>class@no': (0.8333333333333334, 5), 'a1@30-39,a4@0-2,a6@2,a8@left_low>class@no': (1.0, 2), 'a1@30-39,a5@no,a6@2,a7@left>class@no': (0.8333333333333334, 5), 'a1@30-39,a5@no,a6@2,a8@left_low>class@no': (1.0, 2), 'a1@30-39,a5@yes,a7@left,a9@no>class@yes': (1.0, 2), 'a1@30-39,a6@2,a7@right,a9@no>class@no': (0.8, 4), 'a1@40-49,a2@ge40,a3@20-24,a7@left>class@no': (1.0, 2), 'a1@40-49,a2@ge40,a3@20-24,a7@right>class@yes': (1.0, 2), 'a1@40-49,a2@ge40,a4@0-2,a6@3>class@no': (1.0, 2), 'a1@40-49,a2@ge40,a4@0-2,a7@left>class@no': (1.0, 4), 'a1@40-49,a2@ge40,a4@0-2,a8@left_low>class@no': (1.0, 2), 'a1@40-49,a2@ge40,a5@no,a7@left>class@no': (0.8, 4), 'a1@40-49,a2@ge40,a5@no,a7@right>class@yes': (1.0, 2), 'a1@40-49,a2@ge40,a6@2,a7@left>class@no': (1.0, 2), 'a1@40-49,a2@ge40,a6@2,a9@yes>class@no': (1.0, 2), 'a1@40-49,a2@ge40,a6@3,a9@yes>class@yes': (1.0, 2), 'a1@40-49,a2@ge40,a7@left,a8@left_up>class@no': (1.0, 2), 'a1@40-49,a2@ge40,a8@left_up,a9@yes>class@no': (1.0, 2), 'a1@40-49,a2@premeno,a3@20-24,a4@0-2>class@no': (0.8333333333333334, 5), 'a1@40-49,a2@premeno,a3@20-24,a5@no>class@no': (0.875, 7), 'a1@40-49,a2@premeno,a3@20-24,a7@right>class@no': (1.0, 5), 'a1@40-49,a2@premeno,a3@20-24,a9@no>class@no': (0.875, 7), 'a1@40-49,a2@premeno,a3@30-34,a6@2>class@no': (1.0, 3), 'a1@40-49,a2@premeno,a3@30-34,a6@3>class@yes': (0.8333333333333334, 5), 'a1@40-49,a2@premeno,a3@40-44,a7@right>class@no': (1.0, 2), 'a1@40-49,a2@premeno,a4@0-2,a8@left_up>class@no': (0.8235294117647058, 14), 'a1@40-49,a2@premeno,a4@3-5,a5@no>class@no': (1.0, 2), 'a1@40-49,a2@premeno,a4@3-5,a7@right>class@no': (1.0, 3), 'a1@40-49,a2@premeno,a4@3-5,a9@no>class@no': (1.0, 2), 'a1@40-49,a2@premeno,a5@no,a7@right>class@no': (0.8076923076923077, 21), 'a1@40-49,a2@premeno,a5@no,a8@left_up>class@no': (0.8823529411764706, 15), 'a1@40-49,a2@premeno,a5@yes,a7@left>class@yes': (1.0, 4), 'a1@40-49,a2@premeno,a6@2,a7@right>class@no': (0.8125, 13), 'a1@40-49,a2@premeno,a6@2,a8@left_up>class@no': (1.0, 10), 'a1@40-49,a2@premeno,a6@2,a9@no>class@no': (0.8333333333333334, 15), 'a1@40-49,a2@premeno,a6@3,a7@left>class@yes': (0.8333333333333334, 5), 'a1@40-49,a2@premeno,a6@3,a8@left_low>class@yes': (1.0, 2), 'a1@40-49,a2@premeno,a6@3,a9@no>class@yes': (0.9, 9), 'a1@40-49,a2@premeno,a7@right,a9@yes>class@no': (0.8571428571428571, 6), 'a1@40-49,a2@premeno,a8@left_up,a9@yes>class@no': (0.8333333333333334, 5), 'a1@40-49,a3@10-14,a6@1,a8@left_up>class@no': (1.0, 2), 'a1@40-49,a3@10-14,a7@right,a8@left_up>class@no': (1.0, 3), 'a1@40-49,a3@20-24,a4@0-2,a6@3>class@no': (1.0, 2), 'a1@40-49,a3@20-24,a4@0-2,a7@left>class@no': (0.8, 4), 'a1@40-49,a3@20-24,a4@0-2,a8@left_up>class@no': (0.8, 4), 'a1@40-49,a3@20-24,a4@3-5,a9@no>class@no': (1.0, 2), 'a1@40-49,a3@20-24,a5@no,a7@left>class@no': (0.8, 4), 'a1@40-49,a3@20-24,a6@2,a7@right>class@no': (0.8, 4), 'a1@40-49,a3@20-24,a6@2,a8@left_up>class@no': (0.8, 4), 'a1@40-49,a3@20-24,a6@3,a7@left>class@no': (1.0, 2), 'a1@40-49,a3@20-24,a6@3,a9@no>class@no': (1.0, 2), 'a1@40-49,a3@20-24,a7@left,a8@left_up>class@no': (1.0, 2), 'a1@40-49,a3@20-24,a7@left,a9@no>class@no': (0.8, 4), 'a1@40-49,a3@20-24,a7@right,a9@no>class@no': (0.8333333333333334, 5), 'a1@40-49,a3@25-29,a6@2,a8@left_up>class@no': (1.0, 2), 'a1@40-49,a3@25-29,a6@3,a7@left>class@yes': (1.0, 3), 'a1@40-49,a3@25-29,a6@3,a9@no>class@yes': (1.0, 3), 'a1@40-49,a3@25-29,a7@right,a9@yes>class@no': (1.0, 2), 'a1@40-49,a3@25-29,a8@left_up,a9@yes>class@no': (1.0, 2), 'a1@40-49,a3@30-34,a4@0-2,a6@2>class@no': (1.0, 3), 'a1@40-49,a3@30-34,a4@0-2,a7@left>class@no': (0.8, 4), 'a1@40-49,a3@30-34,a4@0-2,a8@left_up>class@no': (1.0, 3), 'a1@40-49,a3@30-34,a5@no,a8@left_up>class@no': (1.0, 4), 'a1@40-49,a3@30-34,a5@yes,a7@left>class@yes': (1.0, 2), 'a1@40-49,a3@30-34,a5@yes,a7@right>class@yes': (1.0, 2), 'a1@40-49,a3@30-34,a5@yes,a9@no>class@yes': (1.0, 3), 'a1@40-49,a3@30-34,a6@1,a9@no>class@no': (1.0, 3), 'a1@40-49,a3@30-34,a6@2,a7@left>class@no': (1.0, 2), 'a1@40-49,a3@30-34,a6@2,a7@right>class@no': (1.0, 2), 'a1@40-49,a3@30-34,a6@2,a8@left_up>class@no': (1.0, 2), 'a1@40-49,a3@30-34,a6@2,a9@no>class@no': (1.0, 2), 'a1@40-49,a3@30-34,a6@2,a9@yes>class@no': (1.0, 2), 'a1@40-49,a3@30-34,a6@3,a7@right>class@yes': (1.0, 3), 'a1@40-49,a3@30-34,a6@3,a8@left_low>class@yes': (1.0, 2), 'a1@40-49,a3@30-34,a6@3,a8@right_up>class@yes': (1.0, 2), 'a1@40-49,a3@30-34,a6@3,a9@no>class@yes': (0.8333333333333334, 5), 'a1@40-49,a4@0-2,a5@no,a8@left_up>class@no': (0.8333333333333334, 15), 'a1@40-49,a4@0-2,a5@yes,a9@no>class@yes': (1.0, 2), 'a1@40-49,a4@0-2,a6@2,a8@left_up>class@no': (0.8888888888888888, 8), 'a1@40-49,a4@0-2,a6@3,a9@yes>class@no': (1.0, 2), 'a1@40-49,a4@0-2,a7@left,a8@left_up>class@no': (0.8571428571428571, 6), 'a1@40-49,a4@0-2,a7@right,a9@yes>class@no': (0.8, 4), 'a1@40-49,a4@0-2,a8@left_up,a9@yes>class@no': (1.0, 4), 'a1@40-49,a4@3-5,a5@no,a6@2>class@no': (1.0, 2), 'a1@40-49,a4@3-5,a5@no,a6@3>class@yes': (1.0, 2), 'a1@40-49,a4@3-5,a6@2,a7@right>class@no': (1.0, 2), 'a1@40-49,a4@3-5,a6@2,a9@no>class@no': (1.0, 2), 'a1@40-49,a4@3-5,a6@3,a8@left_low>class@yes': (1.0, 2), 'a1@40-49,a4@3-5,a7@right,a9@no>class@no': (1.0, 2), 'a1@40-49,a4@3-5,a8@left_low,a9@yes>class@yes': (1.0, 2), 'a1@40-49,a5@no,a6@2,a7@left>class@no': (0.8, 8), 'a1@40-49,a5@no,a6@2,a8@left_up>class@no': (0.9090909090909091, 10), 'a1@40-49,a5@no,a6@3,a8@right_up>class@yes': (1.0, 2), 'a1@40-49,a5@no,a7@left,a8@left_up>class@no': (0.875, 7), 'a1@40-49,a5@no,a7@right,a8@left_up>class@no': (0.8333333333333334, 10), 'a1@40-49,a5@no,a8@left_up,a9@no>class@no': (0.8235294117647058, 14), 'a1@40-49,a5@no,a8@left_up,a9@yes>class@no': (1.0, 3), 'a1@40-49,a5@yes,a6@2,a7@right>class@no': (1.0, 2), 'a1@40-49,a5@yes,a6@2,a8@left_up>class@no': (1.0, 2), 'a1@40-49,a5@yes,a6@3,a7@left>class@yes': (1.0, 4), 'a1@40-49,a5@yes,a6@3,a8@left_low>class@yes': (1.0, 2), 'a1@40-49,a5@yes,a7@left,a9@no>class@yes': (1.0, 2), 'a1@40-49,a5@yes,a7@left,a9@yes>class@yes': (1.0, 3), 'a1@40-49,a5@yes,a7@right,a9@no>class@yes': (1.0, 4), 'a1@40-49,a5@yes,a7@right,a9@yes>class@no': (1.0, 4), 'a1@40-49,a5@yes,a8@left_low,a9@no>class@yes': (1.0, 2), 'a1@40-49,a5@yes,a8@left_up,a9@no>class@yes': (1.0, 3), 'a1@40-49,a5@yes,a8@left_up,a9@yes>class@no': (0.8, 4), 'a1@40-49,a6@1,a7@left,a9@no>class@no': (0.8, 4), 'a1@40-49,a6@1,a7@right,a9@no>class@no': (0.875, 7), 'a1@40-49,a6@2,a7@left,a8@left_up>class@no': (1.0, 5), 'a1@40-49,a6@2,a7@left,a9@no>class@no': (0.8333333333333334, 5), 'a1@40-49,a6@2,a7@right,a8@left_up>class@no': (0.875, 7), 'a1@40-49,a6@2,a8@left_up,a9@no>class@no': (0.8888888888888888, 8), 'a1@40-49,a6@2,a8@left_up,a9@yes>class@no': (1.0, 4), 'a1@40-49,a6@3,a7@left,a9@yes>class@yes': (1.0, 2), 'a1@40-49,a6@3,a7@right,a8@right_up>class@yes': (1.0, 2), 'a1@40-49,a6@3,a7@right,a9@no>class@yes': (1.0, 5), 'a1@40-49,a7@left,a8@left_up,a9@no>class@no': (0.8333333333333334, 5), 'a1@40-49,a7@right,a8@left_up,a9@yes>class@no': (1.0, 5), 'a1@50-59,a2@ge40,a3@10-14,a6@1>class@no': (1.0, 2), 'a1@50-59,a2@ge40,a3@10-14,a7@left>class@no': (1.0, 2), 'a1@50-59,a2@ge40,a3@10-14,a8@left_low>class@no': (1.0, 2), 'a1@50-59,a2@ge40,a3@20-24,a4@0-2>class@no': (0.8333333333333334, 5), 'a1@50-59,a2@ge40,a3@20-24,a8@left_up>class@no': (0.8333333333333334, 5), 'a1@50-59,a2@ge40,a3@25-29,a4@0-2>class@no': (1.0, 2), 'a1@50-59,a2@ge40,a3@25-29,a9@no>class@no': (1.0, 2), 'a1@50-59,a2@ge40,a3@30-34,a4@0-2>class@no': (0.8, 4), 'a1@50-59,a2@ge40,a3@30-34,a4@3-5>class@yes': (1.0, 2), 'a1@50-59,a2@ge40,a3@30-34,a6@1>class@no': (1.0, 3), 'a1@50-59,a2@ge40,a3@30-34,a6@3>class@yes': (0.8, 4), 'a1@50-59,a2@ge40,a4@0-2,a5@no>class@no': (0.8888888888888888, 24), 'a1@50-59,a2@ge40,a4@0-2,a6@3>class@no': (0.8888888888888888, 8), 'a1@50-59,a2@ge40,a4@0-2,a7@left>class@no': (0.8, 12), 'a1@50-59,a2@ge40,a4@0-2,a7@right>class@no': (1.0, 13), 'a1@50-59,a2@ge40,a4@0-2,a8@left_low>class@no': (0.8888888888888888, 8), 'a1@50-59,a2@ge40,a4@0-2,a8@left_up>class@no': (0.9, 9), 'a1@50-59,a2@ge40,a4@0-2,a8@right_up>class@no': (1.0, 5), 'a1@50-59,a2@ge40,a4@3-5,a5@no>class@yes': (1.0, 2), 'a1@50-59,a2@ge40,a4@3-5,a6@2>class@no': (1.0, 2), 'a1@50-59,a2@ge40,a5@no,a7@right>class@no': (0.9230769230769231, 12), 'a1@50-59,a2@ge40,a5@no,a8@left_up>class@no': (0.8, 8), 'a1@50-59,a2@ge40,a5@no,a8@right_up>class@no': (1.0, 5), 'a1@50-59,a2@ge40,a5@no,a9@no>class@no': (0.8275862068965517, 24), 'a1@50-59,a2@ge40,a5@yes,a6@2>class@no': (1.0, 3), 'a1@50-59,a2@ge40,a5@yes,a8@left_up>class@no': (1.0, 2), 'a1@50-59,a2@ge40,a5@yes,a9@yes>class@yes': (1.0, 2), 'a1@50-59,a2@ge40,a6@1,a7@left>class@no': (1.0, 3), 'a1@50-59,a2@ge40,a6@1,a7@right>class@no': (1.0, 8), 'a1@50-59,a2@ge40,a6@1,a8@left_low>class@no': (1.0, 4), 'a1@50-59,a2@ge40,a6@1,a8@left_up>class@no': (1.0, 2), 'a1@50-59,a2@ge40,a6@2,a7@right>class@no': (1.0, 4), 'a1@50-59,a2@ge40,a6@2,a8@left_up>class@no': (0.8, 4), 'a1@50-59,a2@ge40,a6@3,a8@left_up>class@no': (0.8, 4), 'a1@50-59,a2@ge40,a7@left,a8@left_up>class@no': (0.8333333333333334, 5), 'a1@50-59,a2@ge40,a7@right,a8@left_low>class@no': (1.0, 3), 'a1@50-59,a2@ge40,a7@right,a8@left_up>class@no': (0.8333333333333334, 5), 'a1@50-59,a2@ge40,a8@left_low,a9@no>class@no': (0.8181818181818182, 9), 'a1@50-59,a2@premeno,a3@25-29,a8@right_up>class@yes': (1.0, 2), 'a1@50-59,a2@premeno,a3@30-34,a8@left_low>class@no': (1.0, 2), 'a1@50-59,a2@premeno,a4@0-2,a5@yes>class@no': (1.0, 2), 'a1@50-59,a2@premeno,a4@3-5,a5@no>class@no': (1.0, 2), 'a1@50-59,a2@premeno,a4@3-5,a5@yes>class@no': (1.0, 3), 'a1@50-59,a2@premeno,a4@3-5,a6@2>class@no': (1.0, 4), 'a1@50-59,a2@premeno,a4@3-5,a7@left>class@no': (1.0, 3), 'a1@50-59,a2@premeno,a4@3-5,a7@right>class@no': (1.0, 2), 'a1@50-59,a2@premeno,a4@3-5,a8@left_low>class@no': (1.0, 3), 'a1@50-59,a2@premeno,a4@3-5,a8@left_up>class@no': (1.0, 2), 'a1@50-59,a2@premeno,a4@3-5,a9@no>class@no': (1.0, 2), 'a1@50-59,a2@premeno,a5@yes,a7@left>class@no': (1.0, 4), 'a1@50-59,a2@premeno,a5@yes,a8@left_low>class@no': (1.0, 3), 'a1@50-59,a2@premeno,a5@yes,a9@yes>class@no': (1.0, 3), 'a1@50-59,a2@premeno,a6@1,a7@left>class@no': (1.0, 3), 'a1@50-59,a2@premeno,a6@1,a8@left_low>class@no': (1.0, 2), 'a1@50-59,a2@premeno,a6@2,a8@left_low>class@no': (0.8333333333333334, 5), 'a1@50-59,a2@premeno,a6@2,a8@right_up>class@yes': (1.0, 2), 'a1@50-59,a2@premeno,a6@3,a7@right>class@yes': (1.0, 2), 'a1@50-59,a2@premeno,a6@3,a9@yes>class@yes': (1.0, 2), 'a1@50-59,a2@premeno,a7@left,a8@left_low>class@no': (0.875, 7), 'a1@50-59,a2@premeno,a7@left,a9@yes>class@no': (1.0, 2), 'a1@50-59,a2@premeno,a8@left_low,a9@no>class@no': (0.8571428571428571, 6), 'a1@50-59,a3@10-14,a4@0-2,a6@1>class@no': (1.0, 3), 'a1@50-59,a3@10-14,a6@1,a7@left>class@no': (1.0, 2), 'a1@50-59,a3@10-14,a6@1,a8@left_low>class@no': (1.0, 2), 'a1@50-59,a3@15-19,a6@2,a7@right>class@no': (1.0, 2), 'a1@50-59,a3@20-24,a4@0-2,a6@3>class@no': (1.0, 2), 'a1@50-59,a3@20-24,a4@0-2,a7@right>class@no': (1.0, 3), 'a1@50-59,a3@20-24,a4@3-5,a6@2>class@no': (1.0, 2), 'a1@50-59,a3@20-24,a5@no,a6@3>class@no': (1.0, 2), 'a1@50-59,a3@20-24,a5@no,a7@right>class@no': (1.0, 2), 'a1@50-59,a3@20-24,a5@yes,a6@2>class@no': (1.0, 3), 'a1@50-59,a3@20-24,a6@1,a7@left>class@yes': (1.0, 2), 'a1@50-59,a3@20-24,a6@2,a7@right>class@no': (1.0, 3), 'a1@50-59,a3@20-24,a6@3,a7@left>class@no': (1.0, 2), 'a1@50-59,a3@20-24,a6@3,a8@left_up>class@no': (1.0, 2), 'a1@50-59,a3@20-24,a7@right,a8@left_up>class@no': (1.0, 3), 'a1@50-59,a3@25-29,a4@0-2,a7@right>class@yes': (1.0, 2), 'a1@50-59,a3@25-29,a6@1,a8@left_low>class@no': (1.0, 2), 'a1@50-59,a3@25-29,a6@2,a8@left_low>class@no': (1.0, 2), 'a1@50-59,a3@25-29,a6@2,a8@left_up>class@no': (1.0, 2), 'a1@50-59,a3@25-29,a6@2,a9@yes>class@no': (1.0, 2), 'a1@50-59,a3@25-29,a6@3,a8@left_low>class@yes': (1.0, 2), 'a1@50-59,a3@25-29,a6@3,a9@yes>class@yes': (1.0, 2), 'a1@50-59,a3@25-29,a7@left,a8@left_low>class@no': (0.8, 4), 'a1@50-59,a3@25-29,a8@left_low,a9@no>class@no': (1.0, 3), 'a1@50-59,a3@30-34,a4@0-2,a8@left_low>class@no': (1.0, 3), 'a1@50-59,a3@30-34,a4@3-5,a5@no>class@yes': (1.0, 2), 'a1@50-59,a3@30-34,a4@3-5,a6@3>class@yes': (1.0, 2), 'a1@50-59,a3@30-34,a4@3-5,a9@no>class@yes': (1.0, 2), 'a1@50-59,a3@30-34,a6@1,a7@left>class@no': (1.0, 2), 'a1@50-59,a3@30-34,a6@1,a7@right>class@no': (1.0, 2), 'a1@50-59,a3@30-34,a6@3,a7@left>class@yes': (0.8, 4), 'a1@50-59,a3@30-34,a6@3,a8@left_up>class@yes': (1.0, 2), 'a1@50-59,a3@30-34,a7@right,a8@left_up>class@yes': (1.0, 2), 'a1@50-59,a3@40-44,a4@0-2,a7@left>class@no': (1.0, 2), 'a1@50-59,a3@40-44,a5@no,a6@3>class@no': (1.0, 2), 'a1@50-59,a3@40-44,a5@no,a7@left>class@no': (1.0, 2), 'a1@50-59,a3@40-44,a5@yes,a6@3>class@yes': (1.0, 2), 'a1@50-59,a3@40-44,a6@3,a8@left_low>class@yes': (1.0, 2), 'a1@50-59,a3@40-44,a6@3,a9@no>class@no': (1.0, 2), 'a1@50-59,a3@40-44,a7@left,a9@no>class@no': (1.0, 3), 'a1@50-59,a3@40-44,a8@left_low,a9@no>class@no': (1.0, 2), 'a1@50-59,a4@0-2,a5@no,a6@1>class@no': (0.9333333333333333, 14), 'a1@50-59,a4@0-2,a5@no,a7@right>class@no': (0.8125, 13), 'a1@50-59,a4@0-2,a5@no,a8@left_low>class@no': (0.8235294117647058, 14), 'a1@50-59,a4@0-2,a5@no,a9@yes>class@yes': (1.0, 2), 'a1@50-59,a4@0-2,a5@yes,a7@right>class@no': (1.0, 2), 'a1@50-59,a4@0-2,a5@yes,a9@no>class@no': (1.0, 2), 'a1@50-59,a4@0-2,a6@1,a7@right>class@no': (0.8888888888888888, 8), 'a1@50-59,a4@0-2,a6@2,a7@right>class@no': (1.0, 5), 'a1@50-59,a4@0-2,a6@2,a8@left_up>class@no': (0.8333333333333334, 5), 'a1@50-59,a4@0-2,a6@3,a8@left_up>class@no': (0.8, 4), 'a1@50-59,a4@0-2,a6@3,a9@no>class@no': (0.8181818181818182, 9), 'a1@50-59,a4@0-2,a6@3,a9@yes>class@yes': (1.0, 2), 'a1@50-59,a4@0-2,a7@right,a8@right_up>class@no': (1.0, 3), 'a1@50-59,a4@0-2,a7@right,a9@no>class@no': (0.9333333333333333, 14), 'a1@50-59,a4@0-2,a8@left_low,a9@no>class@no': (0.8235294117647058, 14), 'a1@50-59,a4@3-5,a5@no,a6@3>class@yes': (1.0, 2), 'a1@50-59,a4@3-5,a5@yes,a6@2>class@no': (1.0, 5), 'a1@50-59,a4@3-5,a5@yes,a7@left>class@no': (1.0, 4), 'a1@50-59,a4@3-5,a5@yes,a8@left_low>class@no': (1.0, 4), 'a1@50-59,a4@3-5,a5@yes,a9@yes>class@no': (1.0, 2), 'a1@50-59,a4@3-5,a6@2,a7@left>class@no': (1.0, 4), 'a1@50-59,a4@3-5,a6@2,a7@right>class@no': (1.0, 2), 'a1@50-59,a4@3-5,a6@2,a8@left_low>class@no': (1.0, 4), 'a1@50-59,a4@3-5,a6@2,a8@left_up>class@no': (1.0, 2), 'a1@50-59,a4@3-5,a6@2,a9@no>class@no': (1.0, 3), 'a1@50-59,a4@3-5,a6@3,a7@right>class@yes': (1.0, 2), 'a1@50-59,a4@3-5,a7@left,a9@yes>class@no': (1.0, 2), 'a1@50-59,a4@3-5,a8@left_low,a9@yes>class@no': (1.0, 2), 'a1@50-59,a4@6-8,a5@yes,a8@left_low>class@yes': (1.0, 2), 'a1@50-59,a4@6-8,a5@yes,a9@yes>class@yes': (1.0, 2), 'a1@50-59,a5@no,a6@1,a7@left>class@no': (1.0, 6), 'a1@50-59,a5@no,a6@1,a8@left_low>class@no': (1.0, 6), 'a1@50-59,a5@no,a6@2,a7@right>class@no': (1.0, 4), 'a1@50-59,a5@no,a6@3,a9@yes>class@yes': (1.0, 3), 'a1@50-59,a5@no,a7@left,a8@left_up>class@no': (0.8333333333333334, 5), 'a1@50-59,a5@no,a7@right,a8@right_up>class@no': (1.0, 3), 'a1@50-59,a5@no,a7@right,a9@no>class@no': (0.875, 14), 'a1@50-59,a5@no,a8@left_low,a9@no>class@no': (0.8235294117647058, 14), 'a1@50-59,a5@no,a8@left_low,a9@yes>class@yes': (1.0, 2), 'a1@50-59,a5@yes,a6@2,a7@left>class@no': (1.0, 5), 'a1@50-59,a5@yes,a6@2,a8@left_low>class@no': (1.0, 4), 'a1@50-59,a5@yes,a6@2,a9@no>class@no': (0.8333333333333334, 5), 'a1@50-59,a5@yes,a6@2,a9@yes>class@no': (1.0, 3), 'a1@50-59,a5@yes,a6@3,a7@left>class@yes': (1.0, 3), 'a1@50-59,a5@yes,a6@3,a8@left_low>class@yes': (1.0, 2), 'a1@50-59,a5@yes,a6@3,a9@no>class@yes': (1.0, 2), 'a1@50-59,a5@yes,a6@3,a9@yes>class@yes': (1.0, 2), 'a1@50-59,a5@yes,a8@left_low,a9@no>class@no': (1.0, 2), 'a1@50-59,a6@1,a7@left,a8@left_low>class@no': (0.8, 4), 'a1@50-59,a6@1,a7@right,a8@left_low>class@no': (1.0, 2), 'a1@50-59,a6@2,a7@left,a8@left_low>class@no': (0.8, 8), 'a1@50-59,a6@2,a7@left,a9@yes>class@no': (1.0, 2), 'a1@50-59,a6@2,a7@right,a8@left_up>class@no': (0.8333333333333334, 5), 'a1@50-59,a6@2,a7@right,a9@no>class@no': (0.8333333333333334, 5), 'a1@50-59,a6@2,a7@right,a9@yes>class@no': (1.0, 2), 'a1@50-59,a6@2,a8@left_low,a9@yes>class@no': (1.0, 2), 'a1@50-59,a6@2,a8@left_up,a9@yes>class@no': (1.0, 2), 'a1@50-59,a6@3,a7@left,a8@left_up>class@no': (1.0, 3), 'a1@50-59,a6@3,a7@left,a9@yes>class@yes': (1.0, 3), 'a1@50-59,a6@3,a7@right,a9@yes>class@yes': (1.0, 2), 'a1@50-59,a6@3,a8@left_low,a9@yes>class@yes': (1.0, 4), 'a1@50-59,a6@3,a8@left_up,a9@no>class@no': (0.8, 4), 'a1@50-59,a7@right,a8@left_low,a9@no>class@no': (1.0, 4), 'a1@60-69,a2@ge40,a3@30-34,a8@left_low>class@no': (1.0, 3), 'a1@60-69,a2@ge40,a3@30-34,a9@no>class@no': (0.8333333333333334, 5), 'a1@60-69,a2@ge40,a4@0-2,a7@left>class@no': (0.8461538461538461, 11), 'a1@60-69,a2@ge40,a4@0-2,a8@left_low>class@no': (0.8181818181818182, 9), 'a1@60-69,a2@ge40,a4@0-2,a8@right_up>class@yes': (1.0, 2), 'a1@60-69,a2@ge40,a6@1,a7@left>class@no': (1.0, 5), 'a1@60-69,a2@ge40,a6@1,a8@left_low>class@no': (1.0, 4), 'a1@60-69,a2@ge40,a6@1,a9@no>class@no': (0.875, 7), 'a1@60-69,a2@ge40,a7@left,a9@no>class@no': (0.8571428571428571, 12), 'a1@60-69,a3@15-19,a6@2,a7@right>class@no': (1.0, 2), 'a1@60-69,a3@15-19,a6@2,a9@no>class@no': (1.0, 4), 'a1@60-69,a3@15-19,a7@left,a8@left_low>class@no': (1.0, 2), 'a1@60-69,a3@15-19,a7@left,a9@no>class@no': (1.0, 2), 'a1@60-69,a3@15-19,a7@right,a8@left_up>class@no': (1.0, 2), 'a1@60-69,a3@15-19,a8@left_up,a9@no>class@no': (1.0, 2), 'a1@60-69,a3@20-24,a4@0-2,a7@left>class@no': (1.0, 3), 'a1@60-69,a3@20-24,a6@1,a7@left>class@no': (1.0, 2), 'a1@60-69,a3@20-24,a6@1,a8@left_low>class@no': (1.0, 2), 'a1@60-69,a3@20-24,a7@left,a9@no>class@no': (1.0, 3), 'a1@60-69,a3@30-34,a4@0-2,a7@left>class@no': (1.0, 3), 'a1@60-69,a3@30-34,a4@0-2,a8@left_low>class@no': (1.0, 3), 'a1@60-69,a3@30-34,a4@0-2,a9@no>class@no': (0.8, 4), 'a1@60-69,a3@30-34,a5@no,a7@left>class@no': (1.0, 3), 'a1@60-69,a3@30-34,a5@no,a8@left_low>class@no': (1.0, 3), 'a1@60-69,a3@30-34,a5@yes,a9@no>class@no': (1.0, 2), 'a1@60-69,a3@30-34,a6@2,a9@no>class@no': (1.0, 2), 'a1@60-69,a3@30-34,a6@3,a7@left>class@no': (1.0, 2), 'a1@60-69,a3@30-34,a6@3,a8@left_low>class@no': (1.0, 2), 'a1@60-69,a3@30-34,a7@left,a9@no>class@no': (1.0, 4), 'a1@60-69,a4@0-2,a5@no,a6@2>class@no': (0.8888888888888888, 8), 'a1@60-69,a4@0-2,a6@1,a8@left_low>class@no': (1.0, 4), 'a1@60-69,a4@0-2,a6@2,a7@left>class@no': (1.0, 5), 'a1@60-69,a4@0-2,a6@2,a8@left_low>class@no': (0.8, 4), 'a1@60-69,a4@0-2,a6@2,a9@no>class@no': (0.8571428571428571, 6), 'a1@60-69,a4@0-2,a7@left,a8@left_low>class@no': (1.0, 8), 'a1@60-69,a4@0-2,a7@left,a9@no>class@no': (0.9230769230769231, 12), 'a1@60-69,a4@0-2,a7@right,a8@right_up>class@yes': (1.0, 2), 'a1@60-69,a4@3-5,a7@left,a9@yes>class@yes': (1.0, 2), 'a1@60-69,a5@no,a6@1,a8@left_low>class@no': (1.0, 4), 'a1@60-69,a5@no,a6@2,a7@left>class@no': (0.8333333333333334, 5), 'a1@60-69,a5@no,a6@2,a9@no>class@no': (0.8571428571428571, 6), 'a1@60-69,a5@no,a7@left,a8@left_low>class@no': (0.8888888888888888, 8), 'a1@60-69,a5@no,a7@left,a9@no>class@no': (0.9230769230769231, 12), 'a1@60-69,a5@no,a8@left_low,a9@no>class@no': (0.8333333333333334, 10), 'a1@60-69,a5@yes,a6@2,a9@yes>class@yes': (1.0, 2), 'a1@60-69,a5@yes,a7@left,a9@yes>class@yes': (1.0, 2), 'a1@60-69,a6@1,a7@left,a8@left_low>class@no': (1.0, 4), 'a1@60-69,a6@1,a7@left,a8@left_up>class@no': (1.0, 2), 'a1@60-69,a6@1,a8@left_low,a9@no>class@no': (1.0, 4), 'a1@60-69,a6@2,a7@left,a8@left_up>class@no': (1.0, 2), 'a1@60-69,a6@2,a7@left,a9@no>class@no': (1.0, 4), 'a1@60-69,a6@2,a7@right,a8@left_up>class@no': (1.0, 2), 'a1@60-69,a6@2,a8@left_low,a9@no>class@no': (0.8, 4), 'a1@60-69,a6@2,a8@left_up,a9@no>class@no': (1.0, 2), 'a1@60-69,a7@left,a8@left_low,a9@no>class@no': (0.9, 9), 'a1@60-69,a7@left,a8@left_low,a9@yes>class@yes': (1.0, 2), 'a2@ge40,a3@10-14,a6@1,a7@left>class@no': (1.0, 4), 'a2@ge40,a3@10-14,a6@1,a8@left_low>class@no': (1.0, 2), 'a2@ge40,a3@10-14,a7@left,a8@left_up>class@no': (1.0, 2), 'a2@ge40,a3@15-19,a4@0-2,a6@1>class@no': (1.0, 3), 'a2@ge40,a3@15-19,a4@0-2,a7@left>class@no': (1.0, 3), 'a2@ge40,a3@15-19,a4@0-2,a8@left_low>class@no': (1.0, 3), 'a2@ge40,a3@15-19,a5@no,a6@1>class@no': (1.0, 3), 'a2@ge40,a3@15-19,a5@no,a7@left>class@no': (1.0, 3), 'a2@ge40,a3@15-19,a5@no,a8@left_low>class@no': (1.0, 3), 'a2@ge40,a3@15-19,a6@1,a7@right>class@no': (1.0, 3), 'a2@ge40,a3@15-19,a6@1,a9@no>class@no': (1.0, 3), 'a2@ge40,a3@15-19,a6@2,a7@left>class@no': (1.0, 3), 'a2@ge40,a3@15-19,a6@2,a7@right>class@no': (1.0, 3), 'a2@ge40,a3@15-19,a6@2,a8@left_low>class@no': (1.0, 3), 'a2@ge40,a3@15-19,a6@2,a9@no>class@no': (1.0, 5), 'a2@ge40,a3@15-19,a7@left,a9@no>class@no': (1.0, 2), 'a2@ge40,a3@15-19,a7@right,a8@left_up>class@no': (1.0, 2), 'a2@ge40,a3@15-19,a8@left_low,a9@no>class@no': (1.0, 3), 'a2@ge40,a3@15-19,a8@left_up,a9@no>class@no': (1.0, 2), 'a2@ge40,a3@20-24,a4@0-2,a6@3>class@no': (0.8333333333333334, 5), 'a2@ge40,a3@20-24,a4@0-2,a7@left>class@no': (0.8888888888888888, 8), 'a2@ge40,a3@20-24,a4@0-2,a8@left_low>class@no': (0.8, 4), 'a2@ge40,a3@20-24,a4@3-5,a5@no>class@yes': (1.0, 2), 'a2@ge40,a3@20-24,a4@3-5,a8@left_low>class@yes': (1.0, 2), 'a2@ge40,a3@20-24,a4@3-5,a9@yes>class@yes': (1.0, 2), 'a2@ge40,a3@20-24,a5@no,a7@left>class@no': (0.8, 8), 'a2@ge40,a3@20-24,a5@yes,a6@2>class@no': (1.0, 2), 'a2@ge40,a3@20-24,a6@1,a7@left>class@no': (1.0, 2), 'a2@ge40,a3@20-24,a6@1,a8@left_low>class@no': (1.0, 3), 'a2@ge40,a3@20-24,a6@3,a7@left>class@no': (0.8333333333333334, 5), 'a2@ge40,a3@20-24,a7@left,a8@left_up>class@no': (0.8333333333333334, 5), 'a2@ge40,a3@20-24,a7@left,a9@no>class@no': (0.8888888888888888, 8), 'a2@ge40,a3@20-24,a7@left,a9@yes>class@yes': (1.0, 2), 'a2@ge40,a3@20-24,a8@left_low,a9@no>class@no': (0.8, 4), 'a2@ge40,a3@25-29,a4@0-2,a8@left_low>class@no': (1.0, 3), 'a2@ge40,a3@25-29,a5@no,a9@yes>class@yes': (1.0, 2), 'a2@ge40,a3@25-29,a6@3,a7@left>class@yes': (0.8, 4), 'a2@ge40,a3@25-29,a6@3,a9@yes>class@yes': (1.0, 3), 'a2@ge40,a3@25-29,a7@left,a9@yes>class@yes': (1.0, 3), 'a2@ge40,a3@25-29,a8@left_low,a9@no>class@no': (1.0, 3), 'a2@ge40,a3@30-34,a4@0-2,a5@no>class@no': (0.8, 8), 'a2@ge40,a3@30-34,a4@0-2,a7@left>class@no': (0.8, 4), 'a2@ge40,a3@30-34,a4@0-2,a8@left_low>class@no': (1.0, 4), 'a2@ge40,a3@30-34,a4@0-2,a8@left_up>class@no': (1.0, 3), 'a2@ge40,a3@30-34,a5@no,a6@2>class@no': (1.0, 2), 'a2@ge40,a3@30-34,a5@yes,a9@yes>class@yes': (1.0, 2), 'a2@ge40,a3@30-34,a6@1,a7@right>class@no': (1.0, 3), 'a2@ge40,a3@30-34,a6@1,a8@left_up>class@no': (1.0, 2), 'a2@ge40,a3@30-34,a6@2,a9@no>class@no': (1.0, 2), 'a2@ge40,a3@30-34,a7@left,a8@left_up>class@no': (1.0, 2), 'a2@ge40,a3@30-34,a8@right_up,a9@no>class@no': (1.0, 2), 'a2@ge40,a3@35-39,a4@0-2,a6@3>class@no': (1.0, 2), 'a2@ge40,a3@35-39,a5@no,a6@3>class@no': (1.0, 2), 'a2@ge40,a3@40-44,a4@0-2,a7@left>class@no': (1.0, 2), 'a2@ge40,a3@40-44,a4@0-2,a8@left_up>class@no': (1.0, 2), 'a2@ge40,a3@40-44,a5@no,a6@3>class@no': (1.0, 2), 'a2@ge40,a3@40-44,a5@no,a7@left>class@no': (1.0, 2), 'a2@ge40,a3@40-44,a5@no,a8@left_up>class@no': (1.0, 2), 'a2@ge40,a3@40-44,a5@yes,a6@3>class@yes': (1.0, 3), 'a2@ge40,a3@40-44,a6@2,a7@left>class@no': (1.0, 2), 'a2@ge40,a3@40-44,a6@3,a9@yes>class@yes': (1.0, 2), 'a2@ge40,a3@40-44,a7@left,a9@no>class@no': (1.0, 3), 'a2@ge40,a3@40-44,a7@left,a9@yes>class@yes': (1.0, 2), 'a2@ge40,a3@40-44,a8@left_low,a9@yes>class@yes': (1.0, 2), 'a2@ge40,a3@40-44,a8@left_up,a9@no>class@no': (1.0, 2), 'a2@ge40,a4@0-2,a5@no,a6@2>class@no': (0.8, 16), 'a2@ge40,a4@0-2,a5@no,a8@left_up>class@no': (0.8333333333333334, 20), 'a2@ge40,a4@0-2,a5@no,a9@no>class@no': (0.8363636363636363, 46), 'a2@ge40,a4@0-2,a6@1,a7@left>class@no': (1.0, 8), 'a2@ge40,a4@0-2,a6@1,a7@right>class@no': (0.8571428571428571, 12), 'a2@ge40,a4@0-2,a6@1,a8@left_low>class@no': (1.0, 7), 'a2@ge40,a4@0-2,a6@2,a7@left>class@no': (0.8461538461538461, 11), 'a2@ge40,a4@0-2,a6@2,a8@left_up>class@no': (0.8, 8), 'a2@ge40,a4@0-2,a6@3,a8@left_low>class@no': (0.8333333333333334, 5), 'a2@ge40,a4@0-2,a6@3,a8@left_up>class@no': (0.8571428571428571, 6), 'a2@ge40,a4@0-2,a6@3,a8@right_up>class@no': (1.0, 2), 'a2@ge40,a4@0-2,a7@left,a8@left_low>class@no': (0.9333333333333333, 14), 'a2@ge40,a4@0-2,a7@left,a9@no>class@no': (0.8709677419354839, 27), 'a2@ge40,a4@0-2,a7@right,a8@left_up>class@no': (0.8181818181818182, 9), 'a2@ge40,a4@0-2,a7@right,a9@no>class@no': (0.8, 20), 'a2@ge40,a4@0-2,a8@left_up,a9@no>class@no': (0.8181818181818182, 18), 'a2@ge40,a4@0-2,a8@left_up,a9@yes>class@no': (1.0, 3), 'a2@ge40,a4@0-2,a8@right_up,a9@no>class@no': (1.0, 6), 'a2@ge40,a4@3-5,a5@no,a6@3>class@yes': (1.0, 4)}\n"
          ],
          "name": "stdout"
        }
      ]
    },
    {
      "cell_type": "markdown",
      "metadata": {
        "id": "1_cYcXU8zGCX"
      },
      "source": [
        "Saving to file"
      ]
    },
    {
      "cell_type": "code",
      "metadata": {
        "id": "Q5vcp6hkzH4X",
        "colab": {
          "base_uri": "https://localhost:8080/"
        },
        "outputId": "6b2be468-0a04-4ca8-9e3e-b0996d76bd1d"
      },
      "source": [
        "print('Saving clusters to the output file ....')\n",
        "for i in range(len(cluster_labels)):\n",
        "  rule_key = association_rules_list[i].serialize()\n",
        "  rules_and_their_clusters.append((rule_key, cluster_labels[i], \n",
        "                                         confidence_support_values[rule_key]))"
      ],
      "execution_count": 64,
      "outputs": [
        {
          "output_type": "stream",
          "text": [
            "Saving clusters to the output file ....\n"
          ],
          "name": "stdout"
        }
      ]
    },
    {
      "cell_type": "code",
      "metadata": {
        "id": "szvFU6VszWJn"
      },
      "source": [
        "rules_and_their_clusters = sorted(rules_and_their_clusters, key=lambda x: x[1])"
      ],
      "execution_count": 65,
      "outputs": []
    },
    {
      "cell_type": "code",
      "metadata": {
        "id": "UcA0BCiOzjU-"
      },
      "source": [
        "with open(Filepath+'rules_with_clusters_DBSCAN.txt', 'w') as f:\n",
        "  f.write(\"\\n\".join(str(v) for v in rules_and_their_clusters))"
      ],
      "execution_count": 66,
      "outputs": []
    },
    {
      "cell_type": "markdown",
      "metadata": {
        "id": "EDoxqphc0nff"
      },
      "source": [
        "Finding Unexpected rules"
      ]
    },
    {
      "cell_type": "code",
      "metadata": {
        "id": "XOwmsxIA0ui-",
        "colab": {
          "base_uri": "https://localhost:8080/"
        },
        "outputId": "cb2aa21b-dfb4-4ede-f744-69404b96dadc"
      },
      "source": [
        "print('Finding unexpected patterns ....')"
      ],
      "execution_count": 67,
      "outputs": [
        {
          "output_type": "stream",
          "text": [
            "Finding unexpected patterns ....\n"
          ],
          "name": "stdout"
        }
      ]
    },
    {
      "cell_type": "code",
      "metadata": {
        "id": "TEkbdVtq0pv-",
        "colab": {
          "base_uri": "https://localhost:8080/"
        },
        "outputId": "ae536446-d9b6-41c7-d051-a0945151aa25"
      },
      "source": [
        "unexpected_rules = clustering_engine.detect_unexpectedness(cluster_labels)"
      ],
      "execution_count": 68,
      "outputs": [
        {
          "output_type": "stream",
          "text": [
            "Geting conflict information...\n",
            "1057 21\n",
            "Finding unexpectedness....\n",
            "Number of unexpected patterns 71\n"
          ],
          "name": "stdout"
        }
      ]
    },
    {
      "cell_type": "code",
      "metadata": {
        "id": "YRnd29_42pke"
      },
      "source": [
        "with open(Filepath+'unexpected_rules_DBSCAN.txt', 'w') as f:\n",
        "  f.write(\"\\n\".join(str(v) for v in unexpected_rules))"
      ],
      "execution_count": 69,
      "outputs": []
    },
    {
      "cell_type": "code",
      "metadata": {
        "id": "yN-eQoEiHKd5"
      },
      "source": [
        "#with json format\n",
        "import json\n",
        "import numpy as np\n",
        "\n",
        "class IOHelper:\n",
        "\n",
        "    @staticmethod\n",
        "    def write_file_in_lines(file_name, data, header = None):\n",
        "        with open(file_name, \"w\") as text_file:\n",
        "            if header is not None:\n",
        "                text_file.write(header)\n",
        "                text_file.write('\\n')\n",
        "            for transaction in data:\n",
        "                text_file.write(transaction)\n",
        "                text_file.write('\\n')\n",
        "    \n",
        "    @staticmethod        \n",
        "    def read_file_in_lines(inputfile, has_header = False):\n",
        "        data = []\n",
        "        with open(inputfile, \"r\") as text_file:\n",
        "            file_iter = iter(text_file)\n",
        "            if has_header == True:\n",
        "                next(file_iter)\n",
        "            \n",
        "            for line in file_iter:\n",
        "                data.append(line.strip())\n",
        "        return data\n",
        "    \n",
        "    @staticmethod\n",
        "    def read_ranking_file(input_file):\n",
        "        patterns = []\n",
        "        ranking = []\n",
        "        k = 0\n",
        "        with open(input_file, \"r\") as text_file:\n",
        "            for line in text_file:\n",
        "                subStrings = line.split(';')\n",
        "                rule_key = subStrings[0].strip()\n",
        "                patterns.append(rule_key)\n",
        "                ranking.append([])\n",
        "                for v in subStrings[1:]:\n",
        "                    r = int(v)\n",
        "                    ranking[k].append(r)\n",
        "                \n",
        "                k += 1\n",
        "                if k % 1000 == 0: print(str(k))\n",
        "        return patterns, np.array(ranking)\n",
        "    \n",
        "    @staticmethod \n",
        "    def save_as_json_format(file_name, o):\n",
        "        with open (file_name, 'w') as text_file:\n",
        "            json.dump(o, text_file)\n",
        "            \n",
        "    @staticmethod \n",
        "    def save_as_json_format_in_line(file_name, o):\n",
        "        with open (file_name, 'w') as text_file:\n",
        "            #json.dump(o, text_file)\n",
        "            for item in o:\n",
        "                line = json.dumps(item)\n",
        "                text_file.write(line)\n",
        "                text_file.write('\\n')\n",
        "            \n",
        "    @staticmethod        \n",
        "    def load_json_object(file_name):\n",
        "        with open(file_name, 'r') as text_file:\n",
        "            o = json.load(text_file)\n",
        "            return o\n",
        "    \n",
        "    @staticmethod    \n",
        "    def write_matrix(file_name, matrix):\n",
        "        with open(file_name, \"w\") as text_file:\n",
        "            for line in matrix:\n",
        "                text_file.write(','.join(str(x) for x in line.tolist()))\n",
        "                text_file.write('\\n')\n",
        "    \n",
        "    @staticmethod\n",
        "    def write_list_of_tuples(file_name, tuples_list):\n",
        "        with open(file_name, 'w') as writer:\n",
        "            for rule in tuples_list:\n",
        "                writer.write(str(rule))\n",
        "                writer.write('\\n')"
      ],
      "execution_count": 70,
      "outputs": []
    },
    {
      "cell_type": "code",
      "metadata": {
        "id": "dzgnESzOH5tg"
      },
      "source": [
        "IOHelper.save_as_json_format(Filepath+'unexpected_rule_file_json_DBSCAN', unexpected_rules)"
      ],
      "execution_count": 71,
      "outputs": []
    },
    {
      "cell_type": "markdown",
      "metadata": {
        "id": "3-VbW6q13ehB"
      },
      "source": [
        "Plotting in 3D"
      ]
    },
    {
      "cell_type": "code",
      "metadata": {
        "id": "Uyyrha5x3gAd"
      },
      "source": [
        "import matplotlib.pyplot as plt\n",
        "from mpl_toolkits.mplot3d import Axes3D\n",
        "\n",
        "#from sklearn.decomposition.kernel_pca import KernelPCA\n",
        "from sklearn.decomposition.incremental_pca import IncrementalPCA"
      ],
      "execution_count": 72,
      "outputs": []
    },
    {
      "cell_type": "code",
      "metadata": {
        "id": "LID_bWeT3jVd"
      },
      "source": [
        "def load_feature_vectors(input_file):\n",
        "    features = []\n",
        "    association_rules = []\n",
        "    \n",
        "    with open(input_file, 'r') as feature_reader:\n",
        "        feature_reader.readline()\n",
        "        feature_reader.readline()\n",
        "        for line in feature_reader:\n",
        "            rule_text, f_vector = json.loads(line.strip())\n",
        "            association_rules.append(rule_text)\n",
        "            features.append(f_vector)\n",
        "    return np.array(features), association_rules"
      ],
      "execution_count": 73,
      "outputs": []
    },
    {
      "cell_type": "code",
      "metadata": {
        "id": "Fi43OppB3m2t"
      },
      "source": [
        "def load_clusters(input_file):\n",
        "    \n",
        "    number_of_cluster = -1\n",
        "    clusters_dict = {}\n",
        "    with open(input_file, 'r') as clusters_reader:\n",
        "        for line in clusters_reader:\n",
        "            sub_strings = line.split('\\'')\n",
        "            rule_text = sub_strings[1].strip('(\\' ')\n",
        "            temp = sub_strings[2].split(',')\n",
        "            \n",
        "            cluster_id = int(temp[1])\n",
        "            clusters_dict[rule_text] = cluster_id\n",
        "            \n",
        "            if cluster_id > number_of_cluster: number_of_cluster = cluster_id\n",
        "    return clusters_dict, cluster_id + 1"
      ],
      "execution_count": 74,
      "outputs": []
    },
    {
      "cell_type": "code",
      "metadata": {
        "id": "cjvEjqSe3pEF"
      },
      "source": [
        "import colorsys\n",
        "\n",
        "def get_N_HexCol(N=5):\n",
        "\n",
        "    HSV_tuples = [(x * 1.0 / N, 1, 1) for x in range(N)]\n",
        "    hex_out = []\n",
        "    for rgb in HSV_tuples:\n",
        "        rgb = map(lambda x: int(x * 255), colorsys.hsv_to_rgb(*rgb))\n",
        "        hex_out.append('#%02x%02x%02x' % tuple(rgb))\n",
        "    #print(hex_out)\n",
        "    return hex_out"
      ],
      "execution_count": 75,
      "outputs": []
    },
    {
      "cell_type": "code",
      "metadata": {
        "id": "cfEqUjPq4BoV"
      },
      "source": [
        "X, association_rules = load_feature_vectors(Filepath+\"miner.tmp.non_redundant_rules\")"
      ],
      "execution_count": 76,
      "outputs": []
    },
    {
      "cell_type": "code",
      "metadata": {
        "id": "L_SW7LYu4Jb-",
        "colab": {
          "base_uri": "https://localhost:8080/"
        },
        "outputId": "d0b8f88c-2faa-4138-ac76-907b796dfede"
      },
      "source": [
        "m = 2\n",
        "print('dimensional reduce: ' + str(m))\n",
        "    \n",
        "pca = IncrementalPCA(n_components = X.shape[1]//m)\n",
        "new_X = pca.fit_transform(X)\n",
        "clusters, number_of_clusters = load_clusters(Filepath+\"rules_with_clusters_DBSCAN.txt\")\n",
        "print (number_of_clusters)\n",
        "    \n",
        "unique_colors = get_N_HexCol(number_of_clusters + 1)\n",
        "Y = []\n",
        "for rule in association_rules:\n",
        "  cluster_id = clusters[rule]\n",
        "  Y.append(unique_colors[cluster_id + 1])"
      ],
      "execution_count": 77,
      "outputs": [
        {
          "output_type": "stream",
          "text": [
            "dimensional reduce: 2\n",
            "20\n"
          ],
          "name": "stdout"
        }
      ]
    },
    {
      "cell_type": "code",
      "metadata": {
        "id": "OIxpxnfA4TCl",
        "colab": {
          "base_uri": "https://localhost:8080/",
          "height": 248
        },
        "outputId": "596acc8f-b555-4a86-c34d-ed9b4309f7fb"
      },
      "source": [
        "fig = plt.figure()\n",
        "ax = fig.gca(projection='3d')\n",
        "ax.text2D(0.5, 0.95, 'dbscan3D', transform=ax.transAxes)\n",
        "ax.scatter(new_X[:,0], new_X[:,1], new_X[:,2], c = Y, alpha = 0.9, s = 5)\n",
        "plt.savefig(Filepath+str(my_minpts)+\"_\"+str(my_eps)+\"_\"+\"DBSCAN3D_out.png\")\n",
        "plt.show()\n"
      ],
      "execution_count": 78,
      "outputs": [
        {
          "output_type": "display_data",
          "data": {
            "image/png": "[encoded data removed]",
            "text/plain": [
              "<Figure size 432x288 with 1 Axes>"
            ]
          },
          "metadata": {
            "tags": [],
            "needs_background": "light"
          }
        }
      ]
    },
    {
      "cell_type": "markdown",
      "metadata": {
        "id": "p20Pq3u6sg2M"
      },
      "source": [
        "Testing with sklearn"
      ]
    },
    {
      "cell_type": "code",
      "metadata": {
        "id": "5xQDEXy-siYE"
      },
      "source": [
        "from sklearn.cluster import DBSCAN\n",
        "from sklearn.cluster import OPTICS, cluster_optics_dbscan\n",
        "from sklearn.preprocessing import StandardScaler"
      ],
      "execution_count": 79,
      "outputs": []
    },
    {
      "cell_type": "code",
      "metadata": {
        "id": "0MWWy75au90h"
      },
      "source": [
        "reduced_rate =0.5\n",
        "from sklearn.decomposition.incremental_pca import IncrementalPCA\n",
        "ncomponents = int(X_train.shape[1] * reduced_rate)\n",
        "pca = IncrementalPCA(n_components = ncomponents)\n",
        "X_train = pca.fit_transform(X_train) "
      ],
      "execution_count": 80,
      "outputs": []
    },
    {
      "cell_type": "code",
      "metadata": {
        "id": "aAhSWy6PsreE",
        "colab": {
          "base_uri": "https://localhost:8080/"
        },
        "outputId": "4935474c-b6f4-40ac-fcd3-fc0fac73367a"
      },
      "source": [
        "db = DBSCAN(eps=my_eps, min_samples=my_minpts).fit(X_train)\n",
        "core_samples_mask = np.zeros_like(db.labels_, dtype=bool)\n",
        "core_samples_mask[db.core_sample_indices_] = True\n",
        "labels = db.labels_\n",
        "\n",
        "# Number of clusters in labels, ignoring noise if present.\n",
        "n_clusters_ = len(set(labels)) - (1 if -1 in labels else 0)\n",
        "n_noise_ = list(labels).count(-1)\n",
        "\n",
        "#print(labels)\n",
        "\n",
        "print('Estimated number of clusters: %d' % n_clusters_)\n",
        "print('Estimated number of noise points: %d' % n_noise_)"
      ],
      "execution_count": 81,
      "outputs": [
        {
          "output_type": "stream",
          "text": [
            "Estimated number of clusters: 5\n",
            "Estimated number of noise points: 15\n"
          ],
          "name": "stdout"
        }
      ]
    },
    {
      "cell_type": "code",
      "metadata": {
        "id": "iu9xxoopuk_q",
        "colab": {
          "base_uri": "https://localhost:8080/",
          "height": 317
        },
        "outputId": "524c918c-acef-4ccc-d30b-fb3a65bf7cf9"
      },
      "source": [
        "# #############################################################################\n",
        "# Plot result\n",
        "import matplotlib.pyplot as plt\n",
        "\n",
        "# Black removed and is used for noise instead.\n",
        "unique_labels = set(labels)\n",
        "#print(unique_labels)\n",
        "colors = [plt.cm.Spectral(each)\n",
        "          for each in np.linspace(0, 10, len(unique_labels))]\n",
        "print(colors)\n",
        "for k, col in zip(unique_labels, colors):\n",
        "    if k == -1:\n",
        "        # Black used for noise.\n",
        "        col = [0, 0, 0, 1]\n",
        "\n",
        "    class_member_mask = (labels == k)\n",
        "\n",
        "    xy = X_train[class_member_mask & core_samples_mask]\n",
        "    #print(xy)\n",
        "    plt.plot(xy[:, 0], xy[:, 1], 'o', markerfacecolor=tuple(col),\n",
        "             markeredgecolor='k', markersize=14)\n",
        "\n",
        "    xy = X_train[class_member_mask & ~core_samples_mask]\n",
        "    plt.plot(xy[:, 0], xy[:, 1], 'o', markerfacecolor=tuple(col),\n",
        "             markeredgecolor='k', markersize=6)\n",
        "\n",
        "plt.title('Estimated number of clusters and noise points: %d, %d' % (n_clusters_ ,n_noise_))\n",
        "plt.savefig(Filepath+str(my_minpts)+\"_\"+str(my_eps)+\"_\"+\"DBSCAN2D_out.png\")\n",
        "plt.show()"
      ],
      "execution_count": 82,
      "outputs": [
        {
          "output_type": "stream",
          "text": [
            "[(0.6196078431372549, 0.00392156862745098, 0.25882352941176473, 1.0), (0.3686274509803922, 0.30980392156862746, 0.6352941176470588, 1.0), (0.3686274509803922, 0.30980392156862746, 0.6352941176470588, 1.0), (0.3686274509803922, 0.30980392156862746, 0.6352941176470588, 1.0), (0.3686274509803922, 0.30980392156862746, 0.6352941176470588, 1.0), (0.3686274509803922, 0.30980392156862746, 0.6352941176470588, 1.0)]\n"
          ],
          "name": "stdout"
        },
        {
          "output_type": "display_data",
          "data": {
            "image/png": "[encoded data removed]",
            "text/plain": [
              "<Figure size 432x288 with 1 Axes>"
            ]
          },
          "metadata": {
            "tags": [],
            "needs_background": "light"
          }
        }
      ]
    },
    {
      "cell_type": "markdown",
      "metadata": {
        "id": "CwAi1N3C_9Fl"
      },
      "source": [
        "Optics"
      ]
    },
    {
      "cell_type": "code",
      "metadata": {
        "id": "iR11HKAybKC_"
      },
      "source": [
        " import json\n",
        " import numpy as np\n",
        " def load_feature_vectors():\n",
        "        data = []\n",
        "        lengths = []\n",
        "        \n",
        "        with open(Filepath+\"miner.tmp.non_redundant_rules\", 'r') as feature_reader:\n",
        "            print('Loading number of LHS and RHS features...')\n",
        "            lhs_count = int(feature_reader.readline())\n",
        "            rhs_count = int(feature_reader.readline())\n",
        "            print('Loading feature vectors... ')\n",
        "            for line in feature_reader:\n",
        "                rule_text, f_vector = json.loads(line.strip())\n",
        "                rule = string_2_rule(rule_text.strip())\n",
        "                lengths.append(rule.length())\n",
        "                #print(rule) this rule as an object of the assocition rule class\n",
        "                data.append(f_vector)\n",
        "                \n",
        "                \n",
        "        return np.array(data), lengths, lhs_count, rhs_count"
      ],
      "execution_count": 83,
      "outputs": []
    },
    {
      "cell_type": "code",
      "metadata": {
        "id": "x0JcW6jdbFA4",
        "colab": {
          "base_uri": "https://localhost:8080/"
        },
        "outputId": "a1a41086-9870-4ab5-dc50-aaf09b80964a"
      },
      "source": [
        "X_train, lengths, lhs_feature_count, rhs_feature_count = load_feature_vectors() #step 1"
      ],
      "execution_count": 84,
      "outputs": [
        {
          "output_type": "stream",
          "text": [
            "Loading number of LHS and RHS features...\n",
            "Loading feature vectors... \n"
          ],
          "name": "stdout"
        }
      ]
    },
    {
      "cell_type": "code",
      "metadata": {
        "id": "kxVUL_JTfVUT",
        "colab": {
          "base_uri": "https://localhost:8080/"
        },
        "outputId": "146608bb-c1c4-402b-c006-f5c4202aa4e6"
      },
      "source": [
        "lhs_feature_count,rhs_feature_count"
      ],
      "execution_count": 85,
      "outputs": [
        {
          "output_type": "execute_result",
          "data": {
            "text/plain": [
              "(42, 2)"
            ]
          },
          "metadata": {
            "tags": []
          },
          "execution_count": 85
        }
      ]
    },
    {
      "cell_type": "markdown",
      "metadata": {
        "id": "TVZfFdQyfiiT"
      },
      "source": [
        "Loading Association Rules"
      ]
    },
    {
      "cell_type": "code",
      "metadata": {
        "id": "SD1TZIvlbQfR"
      },
      "source": [
        "def load_association_rules():\n",
        "        association_rules_list = []\n",
        "        with open(Filepath+\"miner.tmp.non_redundant_rules\", 'r') as rules_reader:\n",
        "            rules_reader.readline()\n",
        "            rules_reader.readline()\n",
        "            \n",
        "            for line in rules_reader:\n",
        "                rule_text, _ = json.loads(line.strip())\n",
        "                association_rules_list.append(AssociationRule.string_2_rule(rule_text.strip()))\n",
        "        print(association_rules_list)\n",
        "        return association_rules_list"
      ],
      "execution_count": 86,
      "outputs": []
    },
    {
      "cell_type": "code",
      "metadata": {
        "id": "VLzsimUHbQfR",
        "colab": {
          "base_uri": "https://localhost:8080/"
        },
        "outputId": "76fa0db6-e3c4-4df7-c127-f6dc98f6db7d"
      },
      "source": [
        "association_rules_list = load_association_rules() #step 2"
      ],
      "execution_count": 87,
      "outputs": [
        {
          "output_type": "stream",
          "text": [
            "[<__main__.AssociationRule object at 0x7f9ef3343690>, <__main__.AssociationRule object at 0x7f9ef3403f10>, <__main__.AssociationRule object at 0x7f9ef3358510>, <__main__.AssociationRule object at 0x7f9ef3358550>, <__main__.AssociationRule object at 0x7f9ef3358610>, <__main__.AssociationRule object at 0x7f9ef3358310>, <__main__.AssociationRule object at 0x7f9ef33582d0>, <__main__.AssociationRule object at 0x7f9ef3358650>, <__main__.AssociationRule object at 0x7f9ef3358810>, <__main__.AssociationRule object at 0x7f9ef33586d0>, <__main__.AssociationRule object at 0x7f9ef3358990>, <__main__.AssociationRule object at 0x7f9ef3358a10>, <__main__.AssociationRule object at 0x7f9ef3358bd0>, <__main__.AssociationRule object at 0x7f9ef3358b90>, <__main__.AssociationRule object at 0x7f9ef3358950>, <__main__.AssociationRule object at 0x7f9ef3358e10>, <__main__.AssociationRule object at 0x7f9ef30efe90>, <__main__.AssociationRule object at 0x7f9ef30efbd0>, <__main__.AssociationRule object at 0x7f9ef30ef250>, <__main__.AssociationRule object at 0x7f9ef30ef350>, <__main__.AssociationRule object at 0x7f9ef30ef210>, <__main__.AssociationRule object at 0x7f9ef30ef7d0>, <__main__.AssociationRule object at 0x7f9ef322e410>, <__main__.AssociationRule object at 0x7f9ef30f87d0>, <__main__.AssociationRule object at 0x7f9ef30f8650>, <__main__.AssociationRule object at 0x7f9ef30f8350>, <__main__.AssociationRule object at 0x7f9ef30f8c90>, <__main__.AssociationRule object at 0x7f9ef30f8a90>, <__main__.AssociationRule object at 0x7f9ef30f8990>, <__main__.AssociationRule object at 0x7f9ef30f8510>, <__main__.AssociationRule object at 0x7f9ef30f8ad0>, <__main__.AssociationRule object at 0x7f9ef30f8610>, <__main__.AssociationRule object at 0x7f9ef30f89d0>, <__main__.AssociationRule object at 0x7f9ef30f8e10>, <__main__.AssociationRule object at 0x7f9ef30f8110>, <__main__.AssociationRule object at 0x7f9ef30ed4d0>, <__main__.AssociationRule object at 0x7f9ef30ed9d0>, <__main__.AssociationRule object at 0x7f9ef30ed650>, <__main__.AssociationRule object at 0x7f9ef30edf50>, <__main__.AssociationRule object at 0x7f9ef30ed990>, <__main__.AssociationRule object at 0x7f9ef323c710>, <__main__.AssociationRule object at 0x7f9ef323c190>, <__main__.AssociationRule object at 0x7f9ef325c8d0>, <__main__.AssociationRule object at 0x7f9ef325cf10>, <__main__.AssociationRule object at 0x7f9ef325cb10>, <__main__.AssociationRule object at 0x7f9ef325c550>, <__main__.AssociationRule object at 0x7f9ef325cdd0>, <__main__.AssociationRule object at 0x7f9ef3262810>, <__main__.AssociationRule object at 0x7f9ef3262450>, <__main__.AssociationRule object at 0x7f9ef3262790>, <__main__.AssociationRule object at 0x7f9ef3262d50>, <__main__.AssociationRule object at 0x7f9ef3262bd0>, <__main__.AssociationRule object at 0x7f9ef32620d0>, <__main__.AssociationRule object at 0x7f9ef3262490>, <__main__.AssociationRule object at 0x7f9ef3262210>, <__main__.AssociationRule object at 0x7f9ef3262690>, <__main__.AssociationRule object at 0x7f9ef3262410>, <__main__.AssociationRule object at 0x7f9ef3110150>, <__main__.AssociationRule object at 0x7f9ef3110250>, <__main__.AssociationRule object at 0x7f9ef3110350>, <__main__.AssociationRule object at 0x7f9ef3110450>, <__main__.AssociationRule object at 0x7f9ef3110510>, <__main__.AssociationRule object at 0x7f9ef3110610>, <__main__.AssociationRule object at 0x7f9ef3110710>, <__main__.AssociationRule object at 0x7f9ef3110850>, <__main__.AssociationRule object at 0x7f9ef3110910>, <__main__.AssociationRule object at 0x7f9ef3110a10>, <__main__.AssociationRule object at 0x7f9ef3110b50>, <__main__.AssociationRule object at 0x7f9ef3110c50>, <__main__.AssociationRule object at 0x7f9ef3110d50>, <__main__.AssociationRule object at 0x7f9ef3110e50>, <__main__.AssociationRule object at 0x7f9ef3110f10>, <__main__.AssociationRule object at 0x7f9ef310e090>, <__main__.AssociationRule object at 0x7f9ef310e190>, <__main__.AssociationRule object at 0x7f9ef310e290>, <__main__.AssociationRule object at 0x7f9ef310e390>, <__main__.AssociationRule object at 0x7f9ef310e490>, <__main__.AssociationRule object at 0x7f9ef310e550>, <__main__.AssociationRule object at 0x7f9ef310e650>, <__main__.AssociationRule object at 0x7f9ef310e750>, <__main__.AssociationRule object at 0x7f9ef310e850>, <__main__.AssociationRule object at 0x7f9ef310e990>, <__main__.AssociationRule object at 0x7f9ef310ea50>, <__main__.AssociationRule object at 0x7f9ef310eb90>, <__main__.AssociationRule object at 0x7f9ef310ec50>, <__main__.AssociationRule object at 0x7f9ef310ed50>, <__main__.AssociationRule object at 0x7f9ef310ee90>, <__main__.AssociationRule object at 0x7f9ef310ef90>, <__main__.AssociationRule object at 0x7f9ef3113090>, <__main__.AssociationRule object at 0x7f9ef31131d0>, <__main__.AssociationRule object at 0x7f9ef31132d0>, <__main__.AssociationRule object at 0x7f9ef3113390>, <__main__.AssociationRule object at 0x7f9ef3113490>, <__main__.AssociationRule object at 0x7f9ef3113590>, <__main__.AssociationRule object at 0x7f9ef31136d0>, <__main__.AssociationRule object at 0x7f9ef31137d0>, <__main__.AssociationRule object at 0x7f9ef31138d0>, <__main__.AssociationRule object at 0x7f9ef3113990>, <__main__.AssociationRule object at 0x7f9ef3113ad0>, <__main__.AssociationRule object at 0x7f9ef3113bd0>, <__main__.AssociationRule object at 0x7f9ef3113cd0>, <__main__.AssociationRule object at 0x7f9ef3113dd0>, <__main__.AssociationRule object at 0x7f9ef3113e90>, <__main__.AssociationRule object at 0x7f9ef3113fd0>, <__main__.AssociationRule object at 0x7f9ef31140d0>, <__main__.AssociationRule object at 0x7f9ef3114210>, <__main__.AssociationRule object at 0x7f9ef31142d0>, <__main__.AssociationRule object at 0x7f9ef31143d0>, <__main__.AssociationRule object at 0x7f9ef3114510>, <__main__.AssociationRule object at 0x7f9ef3114610>, <__main__.AssociationRule object at 0x7f9ef31146d0>, <__main__.AssociationRule object at 0x7f9ef31147d0>, <__main__.AssociationRule object at 0x7f9ef31148d0>, <__main__.AssociationRule object at 0x7f9ef31149d0>, <__main__.AssociationRule object at 0x7f9ef3114ad0>, <__main__.AssociationRule object at 0x7f9ef3114bd0>, <__main__.AssociationRule object at 0x7f9ef3114cd0>, <__main__.AssociationRule object at 0x7f9ef3114dd0>, <__main__.AssociationRule object at 0x7f9ef3114f10>, <__main__.AssociationRule object at 0x7f9ef3118090>, <__main__.AssociationRule object at 0x7f9ef31181d0>, <__main__.AssociationRule object at 0x7f9ef3118310>, <__main__.AssociationRule object at 0x7f9ef3118450>, <__main__.AssociationRule object at 0x7f9ef3118590>, <__main__.AssociationRule object at 0x7f9ef31186d0>, <__main__.AssociationRule object at 0x7f9ef3118810>, <__main__.AssociationRule object at 0x7f9ef3323a10>, <__main__.AssociationRule object at 0x7f9ef30ea1d0>, <__main__.AssociationRule object at 0x7f9ef30ea990>, <__main__.AssociationRule object at 0x7f9ef30ea9d0>, <__main__.AssociationRule object at 0x7f9ef30ea150>, <__main__.AssociationRule object at 0x7f9ef2f52350>, <__main__.AssociationRule object at 0x7f9ef3233890>, <__main__.AssociationRule object at 0x7f9ef3251550>, <__main__.AssociationRule object at 0x7f9ef347d890>, <__main__.AssociationRule object at 0x7f9ef3336890>, <__main__.AssociationRule object at 0x7f9ef3336110>, <__main__.AssociationRule object at 0x7f9ef3336190>, <__main__.AssociationRule object at 0x7f9ef3118890>, <__main__.AssociationRule object at 0x7f9ef31189d0>, <__main__.AssociationRule object at 0x7f9ef3118b10>, <__main__.AssociationRule object at 0x7f9ef3118c50>, <__main__.AssociationRule object at 0x7f9ef3118d90>, <__main__.AssociationRule object at 0x7f9ef3118ed0>, <__main__.AssociationRule object at 0x7f9ef3117050>, <__main__.AssociationRule object at 0x7f9ef3117190>, <__main__.AssociationRule object at 0x7f9ef31172d0>, <__main__.AssociationRule object at 0x7f9ef3117410>, <__main__.AssociationRule object at 0x7f9ef3117550>, <__main__.AssociationRule object at 0x7f9ef3117690>, <__main__.AssociationRule object at 0x7f9ef31177d0>, <__main__.AssociationRule object at 0x7f9ef3117910>, <__main__.AssociationRule object at 0x7f9ef3117a50>, <__main__.AssociationRule object at 0x7f9ef3117b90>, <__main__.AssociationRule object at 0x7f9ef3117cd0>, <__main__.AssociationRule object at 0x7f9ef3117e10>, <__main__.AssociationRule object at 0x7f9ef3117f50>, <__main__.AssociationRule object at 0x7f9ef311b0d0>, <__main__.AssociationRule object at 0x7f9ef311b210>, <__main__.AssociationRule object at 0x7f9ef311b350>, <__main__.AssociationRule object at 0x7f9ef311b490>, <__main__.AssociationRule object at 0x7f9ef311b5d0>, <__main__.AssociationRule object at 0x7f9ef311b710>, <__main__.AssociationRule object at 0x7f9ef311b850>, <__main__.AssociationRule object at 0x7f9ef311b990>, <__main__.AssociationRule object at 0x7f9ef311bad0>, <__main__.AssociationRule object at 0x7f9ef311bc10>, <__main__.AssociationRule object at 0x7f9ef311bd50>, <__main__.AssociationRule object at 0x7f9ef311be90>, <__main__.AssociationRule object at 0x7f9ef311bfd0>, <__main__.AssociationRule object at 0x7f9ef3120150>, <__main__.AssociationRule object at 0x7f9ef3120290>, <__main__.AssociationRule object at 0x7f9ef31203d0>, <__main__.AssociationRule object at 0x7f9ef3120510>, <__main__.AssociationRule object at 0x7f9ef3120650>, <__main__.AssociationRule object at 0x7f9ef3120790>, <__main__.AssociationRule object at 0x7f9ef31208d0>, <__main__.AssociationRule object at 0x7f9ef3120a10>, <__main__.AssociationRule object at 0x7f9ef3120b50>, <__main__.AssociationRule object at 0x7f9ef3120c90>, <__main__.AssociationRule object at 0x7f9ef3120dd0>, <__main__.AssociationRule object at 0x7f9ef3120f10>, <__main__.AssociationRule object at 0x7f9ef3123090>, <__main__.AssociationRule object at 0x7f9ef31231d0>, <__main__.AssociationRule object at 0x7f9ef3123310>, <__main__.AssociationRule object at 0x7f9ef3123450>, <__main__.AssociationRule object at 0x7f9ef3123590>, <__main__.AssociationRule object at 0x7f9ef31236d0>, <__main__.AssociationRule object at 0x7f9ef3123810>, <__main__.AssociationRule object at 0x7f9ef3123950>, <__main__.AssociationRule object at 0x7f9ef3123a90>, <__main__.AssociationRule object at 0x7f9ef3123bd0>, <__main__.AssociationRule object at 0x7f9ef3123d10>, <__main__.AssociationRule object at 0x7f9ef3123e50>, <__main__.AssociationRule object at 0x7f9ef3123f90>, <__main__.AssociationRule object at 0x7f9ef3126110>, <__main__.AssociationRule object at 0x7f9ef3126250>, <__main__.AssociationRule object at 0x7f9ef3126390>, <__main__.AssociationRule object at 0x7f9ef31264d0>, <__main__.AssociationRule object at 0x7f9ef3126610>, <__main__.AssociationRule object at 0x7f9ef3126750>, <__main__.AssociationRule object at 0x7f9ef3126890>, <__main__.AssociationRule object at 0x7f9ef31269d0>, <__main__.AssociationRule object at 0x7f9ef3126b10>, <__main__.AssociationRule object at 0x7f9ef3126c50>, <__main__.AssociationRule object at 0x7f9ef3126d90>, <__main__.AssociationRule object at 0x7f9ef3126ed0>, <__main__.AssociationRule object at 0x7f9ee23ec050>, <__main__.AssociationRule object at 0x7f9ee23ec190>, <__main__.AssociationRule object at 0x7f9ee23ec2d0>, <__main__.AssociationRule object at 0x7f9ee23ec410>, <__main__.AssociationRule object at 0x7f9ee23ec550>, <__main__.AssociationRule object at 0x7f9ee23ec690>, <__main__.AssociationRule object at 0x7f9ee23ec7d0>, <__main__.AssociationRule object at 0x7f9ee23ec910>, <__main__.AssociationRule object at 0x7f9ee23eca50>, <__main__.AssociationRule object at 0x7f9ee23ecb90>, <__main__.AssociationRule object at 0x7f9ee23eccd0>, <__main__.AssociationRule object at 0x7f9ee23ece10>, <__main__.AssociationRule object at 0x7f9ee23ecf50>, <__main__.AssociationRule object at 0x7f9ee23b20d0>, <__main__.AssociationRule object at 0x7f9ee23b2210>, <__main__.AssociationRule object at 0x7f9ee23b2350>, <__main__.AssociationRule object at 0x7f9ee23b2490>, <__main__.AssociationRule object at 0x7f9ee23b25d0>, <__main__.AssociationRule object at 0x7f9ee23b2710>, <__main__.AssociationRule object at 0x7f9ee23b2850>, <__main__.AssociationRule object at 0x7f9ee23b2990>, <__main__.AssociationRule object at 0x7f9ee23b2ad0>, <__main__.AssociationRule object at 0x7f9ee23b2c10>, <__main__.AssociationRule object at 0x7f9ee23b2d50>, <__main__.AssociationRule object at 0x7f9ee23b2e90>, <__main__.AssociationRule object at 0x7f9ee23b2fd0>, <__main__.AssociationRule object at 0x7f9ee23b4150>, <__main__.AssociationRule object at 0x7f9ee23b4290>, <__main__.AssociationRule object at 0x7f9ee23b43d0>, <__main__.AssociationRule object at 0x7f9ee23b4510>, <__main__.AssociationRule object at 0x7f9ee23b4650>, <__main__.AssociationRule object at 0x7f9ee23b4790>, <__main__.AssociationRule object at 0x7f9ee23b48d0>, <__main__.AssociationRule object at 0x7f9ee23b4a10>, <__main__.AssociationRule object at 0x7f9ee23b4b50>, <__main__.AssociationRule object at 0x7f9ee23b4c90>, <__main__.AssociationRule object at 0x7f9ee23b4dd0>, <__main__.AssociationRule object at 0x7f9ee23b4f10>, <__main__.AssociationRule object at 0x7f9ee23b6090>, <__main__.AssociationRule object at 0x7f9ee23b61d0>, <__main__.AssociationRule object at 0x7f9ee23b6310>, <__main__.AssociationRule object at 0x7f9ee23b6450>, <__main__.AssociationRule object at 0x7f9ee23b6590>, <__main__.AssociationRule object at 0x7f9ee23b66d0>, <__main__.AssociationRule object at 0x7f9ee23b6810>, <__main__.AssociationRule object at 0x7f9ee23b6950>, <__main__.AssociationRule object at 0x7f9ee23b6a90>, <__main__.AssociationRule object at 0x7f9ee23b6bd0>, <__main__.AssociationRule object at 0x7f9ee23b6d10>, <__main__.AssociationRule object at 0x7f9ee23b6e50>, <__main__.AssociationRule object at 0x7f9ee23b6f90>, <__main__.AssociationRule object at 0x7f9ee23b9110>, <__main__.AssociationRule object at 0x7f9ee23b9250>, <__main__.AssociationRule object at 0x7f9ee23b9390>, <__main__.AssociationRule object at 0x7f9ee23b94d0>, <__main__.AssociationRule object at 0x7f9ee23b9610>, <__main__.AssociationRule object at 0x7f9ee23b9750>, <__main__.AssociationRule object at 0x7f9ee23b9890>, <__main__.AssociationRule object at 0x7f9ee23b99d0>, <__main__.AssociationRule object at 0x7f9ee23b9b10>, <__main__.AssociationRule object at 0x7f9ee23b9c50>, <__main__.AssociationRule object at 0x7f9ee23b9d90>, <__main__.AssociationRule object at 0x7f9ee23b9ed0>, <__main__.AssociationRule object at 0x7f9ee23bc050>, <__main__.AssociationRule object at 0x7f9ee23bc190>, <__main__.AssociationRule object at 0x7f9ee23bc2d0>, <__main__.AssociationRule object at 0x7f9ee23bc410>, <__main__.AssociationRule object at 0x7f9ee23bc550>, <__main__.AssociationRule object at 0x7f9ee23bc690>, <__main__.AssociationRule object at 0x7f9ee23bc7d0>, <__main__.AssociationRule object at 0x7f9ee23bc910>, <__main__.AssociationRule object at 0x7f9ee23bca50>, <__main__.AssociationRule object at 0x7f9ee23bcb90>, <__main__.AssociationRule object at 0x7f9ee23bccd0>, <__main__.AssociationRule object at 0x7f9ee23bce10>, <__main__.AssociationRule object at 0x7f9ee23bcf50>, <__main__.AssociationRule object at 0x7f9ee23bf0d0>, <__main__.AssociationRule object at 0x7f9ee23bf210>, <__main__.AssociationRule object at 0x7f9ee23bf350>, <__main__.AssociationRule object at 0x7f9ee23bf490>, <__main__.AssociationRule object at 0x7f9ee23bf5d0>, <__main__.AssociationRule object at 0x7f9ee23bf710>, <__main__.AssociationRule object at 0x7f9ee23bf850>, <__main__.AssociationRule object at 0x7f9ee23bf990>, <__main__.AssociationRule object at 0x7f9ee23bfad0>, <__main__.AssociationRule object at 0x7f9ee23bfc10>, <__main__.AssociationRule object at 0x7f9ee23bfd50>, <__main__.AssociationRule object at 0x7f9ee23bfe90>, <__main__.AssociationRule object at 0x7f9ee23bffd0>, <__main__.AssociationRule object at 0x7f9ee23c2150>, <__main__.AssociationRule object at 0x7f9ee23c2290>, <__main__.AssociationRule object at 0x7f9ee23c23d0>, <__main__.AssociationRule object at 0x7f9ee23c2510>, <__main__.AssociationRule object at 0x7f9ee23c2650>, <__main__.AssociationRule object at 0x7f9ee23c2790>, <__main__.AssociationRule object at 0x7f9ee23c28d0>, <__main__.AssociationRule object at 0x7f9ee23c2a10>, <__main__.AssociationRule object at 0x7f9ee23c2b50>, <__main__.AssociationRule object at 0x7f9ee23c2c90>, <__main__.AssociationRule object at 0x7f9ee23c2dd0>, <__main__.AssociationRule object at 0x7f9ee23c2f10>, <__main__.AssociationRule object at 0x7f9ee23c3090>, <__main__.AssociationRule object at 0x7f9ee23c31d0>, <__main__.AssociationRule object at 0x7f9ee23c3310>, <__main__.AssociationRule object at 0x7f9ee23c3450>, <__main__.AssociationRule object at 0x7f9ee23c3590>, <__main__.AssociationRule object at 0x7f9ee23c36d0>, <__main__.AssociationRule object at 0x7f9ee23c3810>, <__main__.AssociationRule object at 0x7f9ee23c3950>, <__main__.AssociationRule object at 0x7f9ee23c3a90>, <__main__.AssociationRule object at 0x7f9ee23c3bd0>, <__main__.AssociationRule object at 0x7f9ee23c3d10>, <__main__.AssociationRule object at 0x7f9ee23c3e50>, <__main__.AssociationRule object at 0x7f9ee23c3f90>, <__main__.AssociationRule object at 0x7f9ee23c8110>, <__main__.AssociationRule object at 0x7f9ee23c8250>, <__main__.AssociationRule object at 0x7f9ee23c8390>, <__main__.AssociationRule object at 0x7f9ee23c84d0>, <__main__.AssociationRule object at 0x7f9ee23c8610>, <__main__.AssociationRule object at 0x7f9ee23c8750>, <__main__.AssociationRule object at 0x7f9ee23c8890>, <__main__.AssociationRule object at 0x7f9ee23c89d0>, <__main__.AssociationRule object at 0x7f9ee23c8b10>, <__main__.AssociationRule object at 0x7f9ee23c8c50>, <__main__.AssociationRule object at 0x7f9ee23c8d90>, <__main__.AssociationRule object at 0x7f9ee23c8ed0>, <__main__.AssociationRule object at 0x7f9ee23c9050>, <__main__.AssociationRule object at 0x7f9ee23c9190>, <__main__.AssociationRule object at 0x7f9ee23c92d0>, <__main__.AssociationRule object at 0x7f9ee23c9410>, <__main__.AssociationRule object at 0x7f9ee23c9550>, <__main__.AssociationRule object at 0x7f9ee23c9690>, <__main__.AssociationRule object at 0x7f9ee23c97d0>, <__main__.AssociationRule object at 0x7f9ee23c9910>, <__main__.AssociationRule object at 0x7f9ee23c9a50>, <__main__.AssociationRule object at 0x7f9ee23c9b90>, <__main__.AssociationRule object at 0x7f9ee23c9cd0>, <__main__.AssociationRule object at 0x7f9ee23c9e10>, <__main__.AssociationRule object at 0x7f9ee23c9f50>, <__main__.AssociationRule object at 0x7f9ee23ce0d0>, <__main__.AssociationRule object at 0x7f9ee23ce210>, <__main__.AssociationRule object at 0x7f9ee23ce350>, <__main__.AssociationRule object at 0x7f9ee23ce490>, <__main__.AssociationRule object at 0x7f9ee23ce5d0>, <__main__.AssociationRule object at 0x7f9ee23ce710>, <__main__.AssociationRule object at 0x7f9ee23ce850>, <__main__.AssociationRule object at 0x7f9ee23ce990>, <__main__.AssociationRule object at 0x7f9ee23cead0>, <__main__.AssociationRule object at 0x7f9ee23cec10>, <__main__.AssociationRule object at 0x7f9ee23ced50>, <__main__.AssociationRule object at 0x7f9ee23cee90>, <__main__.AssociationRule object at 0x7f9ee23cefd0>, <__main__.AssociationRule object at 0x7f9ee23d1150>, <__main__.AssociationRule object at 0x7f9ee23d1290>, <__main__.AssociationRule object at 0x7f9ee23d13d0>, <__main__.AssociationRule object at 0x7f9ee23d1510>, <__main__.AssociationRule object at 0x7f9ee23d1650>, <__main__.AssociationRule object at 0x7f9ee23d1790>, <__main__.AssociationRule object at 0x7f9ee23d18d0>, <__main__.AssociationRule object at 0x7f9ee23d1a10>, <__main__.AssociationRule object at 0x7f9ee23d1b50>, <__main__.AssociationRule object at 0x7f9ee23d1c90>, <__main__.AssociationRule object at 0x7f9ee23d1dd0>, <__main__.AssociationRule object at 0x7f9ee23d1f10>, <__main__.AssociationRule object at 0x7f9ee23d3090>, <__main__.AssociationRule object at 0x7f9ee23d31d0>, <__main__.AssociationRule object at 0x7f9ee23d3310>, <__main__.AssociationRule object at 0x7f9ee23d3450>, <__main__.AssociationRule object at 0x7f9ee23d3590>, <__main__.AssociationRule object at 0x7f9ee23d36d0>, <__main__.AssociationRule object at 0x7f9ee23d3810>, <__main__.AssociationRule object at 0x7f9ee23d3950>, <__main__.AssociationRule object at 0x7f9ee23d3a90>, <__main__.AssociationRule object at 0x7f9ee23d3bd0>, <__main__.AssociationRule object at 0x7f9ee23d3d10>, <__main__.AssociationRule object at 0x7f9ee23d3e50>, <__main__.AssociationRule object at 0x7f9ee23d3f90>, <__main__.AssociationRule object at 0x7f9ee23d6110>, <__main__.AssociationRule object at 0x7f9ee23d6250>, <__main__.AssociationRule object at 0x7f9ee23d6390>, <__main__.AssociationRule object at 0x7f9ee23d64d0>, <__main__.AssociationRule object at 0x7f9ee23d6610>, <__main__.AssociationRule object at 0x7f9ee23d6750>, <__main__.AssociationRule object at 0x7f9ee23d6890>, <__main__.AssociationRule object at 0x7f9ee23d69d0>, <__main__.AssociationRule object at 0x7f9ee23d6b10>, <__main__.AssociationRule object at 0x7f9ee23d6c50>, <__main__.AssociationRule object at 0x7f9ee23d6d90>, <__main__.AssociationRule object at 0x7f9ee23d6ed0>, <__main__.AssociationRule object at 0x7f9ee23d8050>, <__main__.AssociationRule object at 0x7f9ee23d8190>, <__main__.AssociationRule object at 0x7f9ee23d82d0>, <__main__.AssociationRule object at 0x7f9ee23d8410>, <__main__.AssociationRule object at 0x7f9ee23d8550>, <__main__.AssociationRule object at 0x7f9ee23d8690>, <__main__.AssociationRule object at 0x7f9ee23d87d0>, <__main__.AssociationRule object at 0x7f9ee23d8910>, <__main__.AssociationRule object at 0x7f9ee23d8a50>, <__main__.AssociationRule object at 0x7f9ee23d8b90>, <__main__.AssociationRule object at 0x7f9ee23d8cd0>, <__main__.AssociationRule object at 0x7f9ee23d8e10>, <__main__.AssociationRule object at 0x7f9ee23d8f50>, <__main__.AssociationRule object at 0x7f9ee23db0d0>, <__main__.AssociationRule object at 0x7f9ee23db210>, <__main__.AssociationRule object at 0x7f9ee23db350>, <__main__.AssociationRule object at 0x7f9ee23db490>, <__main__.AssociationRule object at 0x7f9ee23db5d0>, <__main__.AssociationRule object at 0x7f9ee23db710>, <__main__.AssociationRule object at 0x7f9ee23db850>, <__main__.AssociationRule object at 0x7f9ee23db990>, <__main__.AssociationRule object at 0x7f9ee23dbad0>, <__main__.AssociationRule object at 0x7f9ee23dbc10>, <__main__.AssociationRule object at 0x7f9ee23dbd50>, <__main__.AssociationRule object at 0x7f9ee23dbe90>, <__main__.AssociationRule object at 0x7f9ee23dbfd0>, <__main__.AssociationRule object at 0x7f9ee23df150>, <__main__.AssociationRule object at 0x7f9ee23df290>, <__main__.AssociationRule object at 0x7f9ee23df3d0>, <__main__.AssociationRule object at 0x7f9ee23df510>, <__main__.AssociationRule object at 0x7f9ee23df650>, <__main__.AssociationRule object at 0x7f9ee23df790>, <__main__.AssociationRule object at 0x7f9ee23df8d0>, <__main__.AssociationRule object at 0x7f9ee23dfa10>, <__main__.AssociationRule object at 0x7f9ee23dfb50>, <__main__.AssociationRule object at 0x7f9ee23dfc90>, <__main__.AssociationRule object at 0x7f9ee23dfdd0>, <__main__.AssociationRule object at 0x7f9ee23dff10>, <__main__.AssociationRule object at 0x7f9ee23e2090>, <__main__.AssociationRule object at 0x7f9ee23e21d0>, <__main__.AssociationRule object at 0x7f9ee23e2310>, <__main__.AssociationRule object at 0x7f9ee23e2450>, <__main__.AssociationRule object at 0x7f9ee23e2590>, <__main__.AssociationRule object at 0x7f9ee23e26d0>, <__main__.AssociationRule object at 0x7f9ee23e2810>, <__main__.AssociationRule object at 0x7f9ee23e2950>, <__main__.AssociationRule object at 0x7f9ee23e2a90>, <__main__.AssociationRule object at 0x7f9ee23e2bd0>, <__main__.AssociationRule object at 0x7f9ee23e2d10>, <__main__.AssociationRule object at 0x7f9ee23e2e50>, <__main__.AssociationRule object at 0x7f9ee23e2f90>, <__main__.AssociationRule object at 0x7f9ee23e5110>, <__main__.AssociationRule object at 0x7f9ee23e5250>, <__main__.AssociationRule object at 0x7f9ee23e5390>, <__main__.AssociationRule object at 0x7f9ee23e54d0>, <__main__.AssociationRule object at 0x7f9ee23e5610>, <__main__.AssociationRule object at 0x7f9ee23e5750>, <__main__.AssociationRule object at 0x7f9ee23e5890>, <__main__.AssociationRule object at 0x7f9ee23e59d0>, <__main__.AssociationRule object at 0x7f9ee23e5b10>, <__main__.AssociationRule object at 0x7f9ee23e5c50>, <__main__.AssociationRule object at 0x7f9ee23e5d90>, <__main__.AssociationRule object at 0x7f9ee23e5ed0>, <__main__.AssociationRule object at 0x7f9ee23e8050>, <__main__.AssociationRule object at 0x7f9ee23e8190>, <__main__.AssociationRule object at 0x7f9ee23e82d0>, <__main__.AssociationRule object at 0x7f9ee23e8410>, <__main__.AssociationRule object at 0x7f9ee23e8550>, <__main__.AssociationRule object at 0x7f9ee23e8690>, <__main__.AssociationRule object at 0x7f9ee23e87d0>, <__main__.AssociationRule object at 0x7f9ee23e8910>, <__main__.AssociationRule object at 0x7f9ee23e8a50>, <__main__.AssociationRule object at 0x7f9ee23e8b90>, <__main__.AssociationRule object at 0x7f9ee23e8cd0>, <__main__.AssociationRule object at 0x7f9ee23e8e10>, <__main__.AssociationRule object at 0x7f9ee23e8f50>, <__main__.AssociationRule object at 0x7f9ee23ea0d0>, <__main__.AssociationRule object at 0x7f9ee23ea210>, <__main__.AssociationRule object at 0x7f9ee23ea350>, <__main__.AssociationRule object at 0x7f9ee23ea490>, <__main__.AssociationRule object at 0x7f9ee23ea5d0>, <__main__.AssociationRule object at 0x7f9ee23ea710>, <__main__.AssociationRule object at 0x7f9ee23ea850>, <__main__.AssociationRule object at 0x7f9ee23ea990>, <__main__.AssociationRule object at 0x7f9ee23eaad0>, <__main__.AssociationRule object at 0x7f9ee23eac10>, <__main__.AssociationRule object at 0x7f9ee23ead50>, <__main__.AssociationRule object at 0x7f9ee23eae90>, <__main__.AssociationRule object at 0x7f9ee23eafd0>, <__main__.AssociationRule object at 0x7f9ef3068150>, <__main__.AssociationRule object at 0x7f9ef3068290>, <__main__.AssociationRule object at 0x7f9ef30683d0>, <__main__.AssociationRule object at 0x7f9ef3068510>, <__main__.AssociationRule object at 0x7f9ef3068650>, <__main__.AssociationRule object at 0x7f9ef3068790>, <__main__.AssociationRule object at 0x7f9ef30688d0>, <__main__.AssociationRule object at 0x7f9ef3068a10>, <__main__.AssociationRule object at 0x7f9ef3068b50>, <__main__.AssociationRule object at 0x7f9ef3068c90>, <__main__.AssociationRule object at 0x7f9ef3068dd0>, <__main__.AssociationRule object at 0x7f9ef3068f10>, <__main__.AssociationRule object at 0x7f9ef306a090>, <__main__.AssociationRule object at 0x7f9ef306a1d0>, <__main__.AssociationRule object at 0x7f9ef306a310>, <__main__.AssociationRule object at 0x7f9ef306a450>, <__main__.AssociationRule object at 0x7f9ef306a590>, <__main__.AssociationRule object at 0x7f9ef306a6d0>, <__main__.AssociationRule object at 0x7f9ef306a810>, <__main__.AssociationRule object at 0x7f9ef306a950>, <__main__.AssociationRule object at 0x7f9ef306aa90>, <__main__.AssociationRule object at 0x7f9ef306abd0>, <__main__.AssociationRule object at 0x7f9ef306ad10>, <__main__.AssociationRule object at 0x7f9ef306ae50>, <__main__.AssociationRule object at 0x7f9ef306af90>, <__main__.AssociationRule object at 0x7f9ef306d110>, <__main__.AssociationRule object at 0x7f9ef306d250>, <__main__.AssociationRule object at 0x7f9ef306d390>, <__main__.AssociationRule object at 0x7f9ef306d4d0>, <__main__.AssociationRule object at 0x7f9ef306d610>, <__main__.AssociationRule object at 0x7f9ef306d750>, <__main__.AssociationRule object at 0x7f9ef306d890>, <__main__.AssociationRule object at 0x7f9ef306d9d0>, <__main__.AssociationRule object at 0x7f9ef306db10>, <__main__.AssociationRule object at 0x7f9ef306dc50>, <__main__.AssociationRule object at 0x7f9ef306dd90>, <__main__.AssociationRule object at 0x7f9ef306ded0>, <__main__.AssociationRule object at 0x7f9ef3070050>, <__main__.AssociationRule object at 0x7f9ef3070190>, <__main__.AssociationRule object at 0x7f9ef30702d0>, <__main__.AssociationRule object at 0x7f9ef3070410>, <__main__.AssociationRule object at 0x7f9ef3070550>, <__main__.AssociationRule object at 0x7f9ef3070690>, <__main__.AssociationRule object at 0x7f9ef30707d0>, <__main__.AssociationRule object at 0x7f9ef3070910>, <__main__.AssociationRule object at 0x7f9ef3070a50>, <__main__.AssociationRule object at 0x7f9ef3070b90>, <__main__.AssociationRule object at 0x7f9ef3070cd0>, <__main__.AssociationRule object at 0x7f9ef3070e10>, <__main__.AssociationRule object at 0x7f9ef3070f50>, <__main__.AssociationRule object at 0x7f9ef30730d0>, <__main__.AssociationRule object at 0x7f9ef3073210>, <__main__.AssociationRule object at 0x7f9ef3073350>, <__main__.AssociationRule object at 0x7f9ef3073490>, <__main__.AssociationRule object at 0x7f9ef30735d0>, <__main__.AssociationRule object at 0x7f9ef3073710>, <__main__.AssociationRule object at 0x7f9ef3073850>, <__main__.AssociationRule object at 0x7f9ef3073990>, <__main__.AssociationRule object at 0x7f9ef3073ad0>, <__main__.AssociationRule object at 0x7f9ef3073c10>, <__main__.AssociationRule object at 0x7f9ef3073d50>, <__main__.AssociationRule object at 0x7f9ef3073e90>, <__main__.AssociationRule object at 0x7f9ef3073fd0>, <__main__.AssociationRule object at 0x7f9ef3076150>, <__main__.AssociationRule object at 0x7f9ef3076290>, <__main__.AssociationRule object at 0x7f9ef30763d0>, <__main__.AssociationRule object at 0x7f9ef3076510>, <__main__.AssociationRule object at 0x7f9ef3076650>, <__main__.AssociationRule object at 0x7f9ef3076790>, <__main__.AssociationRule object at 0x7f9ef30768d0>, <__main__.AssociationRule object at 0x7f9ef3076a10>, <__main__.AssociationRule object at 0x7f9ef3076b50>, <__main__.AssociationRule object at 0x7f9ef3076c90>, <__main__.AssociationRule object at 0x7f9ef3076dd0>, <__main__.AssociationRule object at 0x7f9ef3076f10>, <__main__.AssociationRule object at 0x7f9ef3078090>, <__main__.AssociationRule object at 0x7f9ef30781d0>, <__main__.AssociationRule object at 0x7f9ef3078310>, <__main__.AssociationRule object at 0x7f9ef3078450>, <__main__.AssociationRule object at 0x7f9ef3078590>, <__main__.AssociationRule object at 0x7f9ef30786d0>, <__main__.AssociationRule object at 0x7f9ef3078810>, <__main__.AssociationRule object at 0x7f9ef3078950>, <__main__.AssociationRule object at 0x7f9ef3078a90>, <__main__.AssociationRule object at 0x7f9ef3078bd0>, <__main__.AssociationRule object at 0x7f9ef3078d10>, <__main__.AssociationRule object at 0x7f9ef3078e50>, <__main__.AssociationRule object at 0x7f9ef3078f90>, <__main__.AssociationRule object at 0x7f9ef307b110>, <__main__.AssociationRule object at 0x7f9ef307b250>, <__main__.AssociationRule object at 0x7f9ef307b390>, <__main__.AssociationRule object at 0x7f9ef307b4d0>, <__main__.AssociationRule object at 0x7f9ef307b610>, <__main__.AssociationRule object at 0x7f9ef307b750>, <__main__.AssociationRule object at 0x7f9ef307b890>, <__main__.AssociationRule object at 0x7f9ef307b9d0>, <__main__.AssociationRule object at 0x7f9ef307bb10>, <__main__.AssociationRule object at 0x7f9ef307bc50>, <__main__.AssociationRule object at 0x7f9ef307bd90>, <__main__.AssociationRule object at 0x7f9ef307bed0>, <__main__.AssociationRule object at 0x7f9ef307d050>, <__main__.AssociationRule object at 0x7f9ef307d190>, <__main__.AssociationRule object at 0x7f9ef307d2d0>, <__main__.AssociationRule object at 0x7f9ef307d410>, <__main__.AssociationRule object at 0x7f9ef307d550>, <__main__.AssociationRule object at 0x7f9ef307d690>, <__main__.AssociationRule object at 0x7f9ef307d7d0>, <__main__.AssociationRule object at 0x7f9ef307d910>, <__main__.AssociationRule object at 0x7f9ef307da50>, <__main__.AssociationRule object at 0x7f9ef307db90>, <__main__.AssociationRule object at 0x7f9ef307dcd0>, <__main__.AssociationRule object at 0x7f9ef307de10>, <__main__.AssociationRule object at 0x7f9ef307df50>, <__main__.AssociationRule object at 0x7f9ef30810d0>, <__main__.AssociationRule object at 0x7f9ef3081210>, <__main__.AssociationRule object at 0x7f9ef3081350>, <__main__.AssociationRule object at 0x7f9ef3081490>, <__main__.AssociationRule object at 0x7f9ef30815d0>, <__main__.AssociationRule object at 0x7f9ef3081710>, <__main__.AssociationRule object at 0x7f9ef3081850>, <__main__.AssociationRule object at 0x7f9ef3081990>, <__main__.AssociationRule object at 0x7f9ef3081ad0>, <__main__.AssociationRule object at 0x7f9ef3081c10>, <__main__.AssociationRule object at 0x7f9ef3081d50>, <__main__.AssociationRule object at 0x7f9ef3081e90>, <__main__.AssociationRule object at 0x7f9ef3081fd0>, <__main__.AssociationRule object at 0x7f9ef3084150>, <__main__.AssociationRule object at 0x7f9ef3084290>, <__main__.AssociationRule object at 0x7f9ef30843d0>, <__main__.AssociationRule object at 0x7f9ef3084510>, <__main__.AssociationRule object at 0x7f9ef3084650>, <__main__.AssociationRule object at 0x7f9ef3084790>, <__main__.AssociationRule object at 0x7f9ef30848d0>, <__main__.AssociationRule object at 0x7f9ef3084a10>, <__main__.AssociationRule object at 0x7f9ef3084b50>, <__main__.AssociationRule object at 0x7f9ef3084c90>, <__main__.AssociationRule object at 0x7f9ef3084dd0>, <__main__.AssociationRule object at 0x7f9ef3084f10>, <__main__.AssociationRule object at 0x7f9ef3086090>, <__main__.AssociationRule object at 0x7f9ef30861d0>, <__main__.AssociationRule object at 0x7f9ef3086310>, <__main__.AssociationRule object at 0x7f9ef3086450>, <__main__.AssociationRule object at 0x7f9ef3086590>, <__main__.AssociationRule object at 0x7f9ef3086710>, <__main__.AssociationRule object at 0x7f9ef3086890>, <__main__.AssociationRule object at 0x7f9ef3086a10>, <__main__.AssociationRule object at 0x7f9ef3086b90>, <__main__.AssociationRule object at 0x7f9ef3086d10>, <__main__.AssociationRule object at 0x7f9ef3086e90>, <__main__.AssociationRule object at 0x7f9ef3089050>, <__main__.AssociationRule object at 0x7f9ef30891d0>, <__main__.AssociationRule object at 0x7f9ef3089350>, <__main__.AssociationRule object at 0x7f9ef30894d0>, <__main__.AssociationRule object at 0x7f9ef3089650>, <__main__.AssociationRule object at 0x7f9ef30897d0>, <__main__.AssociationRule object at 0x7f9ef3089950>, <__main__.AssociationRule object at 0x7f9ef3089ad0>, <__main__.AssociationRule object at 0x7f9ef3089c50>, <__main__.AssociationRule object at 0x7f9ef3089dd0>, <__main__.AssociationRule object at 0x7f9ef3089f50>, <__main__.AssociationRule object at 0x7f9ef308b110>, <__main__.AssociationRule object at 0x7f9ef308b290>, <__main__.AssociationRule object at 0x7f9ef308b410>, <__main__.AssociationRule object at 0x7f9ef308b590>, <__main__.AssociationRule object at 0x7f9ef308b710>, <__main__.AssociationRule object at 0x7f9ef308b890>, <__main__.AssociationRule object at 0x7f9ef308ba10>, <__main__.AssociationRule object at 0x7f9ef308bb90>, <__main__.AssociationRule object at 0x7f9ef308bd10>, <__main__.AssociationRule object at 0x7f9ef308be90>, <__main__.AssociationRule object at 0x7f9ef308d050>, <__main__.AssociationRule object at 0x7f9ef308d1d0>, <__main__.AssociationRule object at 0x7f9ef308d350>, <__main__.AssociationRule object at 0x7f9ef308d4d0>, <__main__.AssociationRule object at 0x7f9ef308d650>, <__main__.AssociationRule object at 0x7f9ef308d7d0>, <__main__.AssociationRule object at 0x7f9ef308d950>, <__main__.AssociationRule object at 0x7f9ef308dad0>, <__main__.AssociationRule object at 0x7f9ef308dc50>, <__main__.AssociationRule object at 0x7f9ef308ddd0>, <__main__.AssociationRule object at 0x7f9ef308df50>, <__main__.AssociationRule object at 0x7f9ef308f110>, <__main__.AssociationRule object at 0x7f9ef308f290>, <__main__.AssociationRule object at 0x7f9ef308f410>, <__main__.AssociationRule object at 0x7f9ef308f590>, <__main__.AssociationRule object at 0x7f9ef308f710>, <__main__.AssociationRule object at 0x7f9ef308f890>, <__main__.AssociationRule object at 0x7f9ef308fa10>, <__main__.AssociationRule object at 0x7f9ef308fb90>, <__main__.AssociationRule object at 0x7f9ef308fd10>, <__main__.AssociationRule object at 0x7f9ef308fe90>, <__main__.AssociationRule object at 0x7f9ef3092050>, <__main__.AssociationRule object at 0x7f9ef30921d0>, <__main__.AssociationRule object at 0x7f9ef3092350>, <__main__.AssociationRule object at 0x7f9ef30924d0>, <__main__.AssociationRule object at 0x7f9ef3092650>, <__main__.AssociationRule object at 0x7f9ef30927d0>, <__main__.AssociationRule object at 0x7f9ef3092950>, <__main__.AssociationRule object at 0x7f9ef3092ad0>, <__main__.AssociationRule object at 0x7f9ef3092c50>, <__main__.AssociationRule object at 0x7f9ef3092dd0>, <__main__.AssociationRule object at 0x7f9ef3092f50>, <__main__.AssociationRule object at 0x7f9ef3095110>, <__main__.AssociationRule object at 0x7f9ef3095290>, <__main__.AssociationRule object at 0x7f9ef3095410>, <__main__.AssociationRule object at 0x7f9ef3095590>, <__main__.AssociationRule object at 0x7f9ef3095710>, <__main__.AssociationRule object at 0x7f9ef3095890>, <__main__.AssociationRule object at 0x7f9ef3095a10>, <__main__.AssociationRule object at 0x7f9ef3095b90>, <__main__.AssociationRule object at 0x7f9ef3095d10>, <__main__.AssociationRule object at 0x7f9ef3095e90>, <__main__.AssociationRule object at 0x7f9ef3098050>, <__main__.AssociationRule object at 0x7f9ef30981d0>, <__main__.AssociationRule object at 0x7f9ef3098350>, <__main__.AssociationRule object at 0x7f9ef30984d0>, <__main__.AssociationRule object at 0x7f9ef3098650>, <__main__.AssociationRule object at 0x7f9ef30987d0>, <__main__.AssociationRule object at 0x7f9ef3098950>, <__main__.AssociationRule object at 0x7f9ef3098ad0>, <__main__.AssociationRule object at 0x7f9ef3098c50>, <__main__.AssociationRule object at 0x7f9ef3098dd0>, <__main__.AssociationRule object at 0x7f9ef3098f50>, <__main__.AssociationRule object at 0x7f9ef309a110>, <__main__.AssociationRule object at 0x7f9ef309a290>, <__main__.AssociationRule object at 0x7f9ef309a410>, <__main__.AssociationRule object at 0x7f9ef309a590>, <__main__.AssociationRule object at 0x7f9ef309a710>, <__main__.AssociationRule object at 0x7f9ef309a890>, <__main__.AssociationRule object at 0x7f9ef309aa10>, <__main__.AssociationRule object at 0x7f9ef309ab90>, <__main__.AssociationRule object at 0x7f9ef309ad10>, <__main__.AssociationRule object at 0x7f9ef309ae90>, <__main__.AssociationRule object at 0x7f9ef309d050>, <__main__.AssociationRule object at 0x7f9ef309d1d0>, <__main__.AssociationRule object at 0x7f9ef309d350>, <__main__.AssociationRule object at 0x7f9ef309d4d0>, <__main__.AssociationRule object at 0x7f9ef309d650>, <__main__.AssociationRule object at 0x7f9ef309d7d0>, <__main__.AssociationRule object at 0x7f9ef309d950>, <__main__.AssociationRule object at 0x7f9ef309dad0>, <__main__.AssociationRule object at 0x7f9ef309dc50>, <__main__.AssociationRule object at 0x7f9ef309ddd0>, <__main__.AssociationRule object at 0x7f9ef309df50>, <__main__.AssociationRule object at 0x7f9ef309e110>, <__main__.AssociationRule object at 0x7f9ef309e290>, <__main__.AssociationRule object at 0x7f9ef309e410>, <__main__.AssociationRule object at 0x7f9ef309e590>, <__main__.AssociationRule object at 0x7f9ef309e710>, <__main__.AssociationRule object at 0x7f9ef309e890>, <__main__.AssociationRule object at 0x7f9ef309ea10>, <__main__.AssociationRule object at 0x7f9ef309eb90>, <__main__.AssociationRule object at 0x7f9ef309ed10>, <__main__.AssociationRule object at 0x7f9ef309ee90>, <__main__.AssociationRule object at 0x7f9ef30a1050>, <__main__.AssociationRule object at 0x7f9ef30a11d0>, <__main__.AssociationRule object at 0x7f9ef30a1350>, <__main__.AssociationRule object at 0x7f9ef30a14d0>, <__main__.AssociationRule object at 0x7f9ef30a1650>, <__main__.AssociationRule object at 0x7f9ef30a17d0>, <__main__.AssociationRule object at 0x7f9ef30a1950>, <__main__.AssociationRule object at 0x7f9ef30a1ad0>, <__main__.AssociationRule object at 0x7f9ef30a1c50>, <__main__.AssociationRule object at 0x7f9ef30a1dd0>, <__main__.AssociationRule object at 0x7f9ef30a1f50>, <__main__.AssociationRule object at 0x7f9ef30a3110>, <__main__.AssociationRule object at 0x7f9ef30a3290>, <__main__.AssociationRule object at 0x7f9ef30a3410>, <__main__.AssociationRule object at 0x7f9ef30a3590>, <__main__.AssociationRule object at 0x7f9ef30a3710>, <__main__.AssociationRule object at 0x7f9ef30a3890>, <__main__.AssociationRule object at 0x7f9ef30a3a10>, <__main__.AssociationRule object at 0x7f9ef30a3b90>, <__main__.AssociationRule object at 0x7f9ef30a3d10>, <__main__.AssociationRule object at 0x7f9ef30a3e90>, <__main__.AssociationRule object at 0x7f9ef30a6050>, <__main__.AssociationRule object at 0x7f9ef30a61d0>, <__main__.AssociationRule object at 0x7f9ef30a6350>, <__main__.AssociationRule object at 0x7f9ef30a64d0>, <__main__.AssociationRule object at 0x7f9ef30a6650>, <__main__.AssociationRule object at 0x7f9ef30a67d0>, <__main__.AssociationRule object at 0x7f9ef30a6950>, <__main__.AssociationRule object at 0x7f9ef30a6ad0>, <__main__.AssociationRule object at 0x7f9ef30a6c50>, <__main__.AssociationRule object at 0x7f9ef30a6dd0>, <__main__.AssociationRule object at 0x7f9ef30a6f50>, <__main__.AssociationRule object at 0x7f9ef2f69110>, <__main__.AssociationRule object at 0x7f9ef2f69290>, <__main__.AssociationRule object at 0x7f9ef2f69410>, <__main__.AssociationRule object at 0x7f9ef2f69590>, <__main__.AssociationRule object at 0x7f9ef2f69710>, <__main__.AssociationRule object at 0x7f9ef2f69890>, <__main__.AssociationRule object at 0x7f9ef2f69a10>, <__main__.AssociationRule object at 0x7f9ef2f69b90>, <__main__.AssociationRule object at 0x7f9ef2f69d10>, <__main__.AssociationRule object at 0x7f9ef2f69e90>, <__main__.AssociationRule object at 0x7f9ef2f6c050>, <__main__.AssociationRule object at 0x7f9ef2f6c1d0>, <__main__.AssociationRule object at 0x7f9ef2f6c350>, <__main__.AssociationRule object at 0x7f9ef2f6c4d0>, <__main__.AssociationRule object at 0x7f9ef2f6c650>, <__main__.AssociationRule object at 0x7f9ef2f6c7d0>, <__main__.AssociationRule object at 0x7f9ef2f6c950>, <__main__.AssociationRule object at 0x7f9ef2f6cad0>, <__main__.AssociationRule object at 0x7f9ef2f6cc50>, <__main__.AssociationRule object at 0x7f9ef2f6cdd0>, <__main__.AssociationRule object at 0x7f9ef2f6cf50>, <__main__.AssociationRule object at 0x7f9ef2f6d110>, <__main__.AssociationRule object at 0x7f9ef2f6d290>, <__main__.AssociationRule object at 0x7f9ef2f6d410>, <__main__.AssociationRule object at 0x7f9ef2f6d590>, <__main__.AssociationRule object at 0x7f9ef2f6d710>, <__main__.AssociationRule object at 0x7f9ef2f6d890>, <__main__.AssociationRule object at 0x7f9ef2f6da10>, <__main__.AssociationRule object at 0x7f9ef2f6db90>, <__main__.AssociationRule object at 0x7f9ef2f6dd10>, <__main__.AssociationRule object at 0x7f9ef2f6de90>, <__main__.AssociationRule object at 0x7f9ef2f70050>, <__main__.AssociationRule object at 0x7f9ef2f701d0>, <__main__.AssociationRule object at 0x7f9ef2f70350>, <__main__.AssociationRule object at 0x7f9ef2f704d0>, <__main__.AssociationRule object at 0x7f9ef2f70650>, <__main__.AssociationRule object at 0x7f9ef2f707d0>, <__main__.AssociationRule object at 0x7f9ef2f70950>, <__main__.AssociationRule object at 0x7f9ef2f70ad0>, <__main__.AssociationRule object at 0x7f9ef2f70c50>, <__main__.AssociationRule object at 0x7f9ef2f70dd0>, <__main__.AssociationRule object at 0x7f9ef2f70f50>, <__main__.AssociationRule object at 0x7f9ef2f72110>, <__main__.AssociationRule object at 0x7f9ef2f72290>, <__main__.AssociationRule object at 0x7f9ef2f72410>, <__main__.AssociationRule object at 0x7f9ef2f72590>, <__main__.AssociationRule object at 0x7f9ef2f72710>, <__main__.AssociationRule object at 0x7f9ef2f72890>, <__main__.AssociationRule object at 0x7f9ef2f72a10>, <__main__.AssociationRule object at 0x7f9ef2f72b90>, <__main__.AssociationRule object at 0x7f9ef2f72d10>, <__main__.AssociationRule object at 0x7f9ef2f72e90>, <__main__.AssociationRule object at 0x7f9ef2f75050>, <__main__.AssociationRule object at 0x7f9ef2f751d0>, <__main__.AssociationRule object at 0x7f9ef2f75350>, <__main__.AssociationRule object at 0x7f9ef2f754d0>, <__main__.AssociationRule object at 0x7f9ef2f75650>, <__main__.AssociationRule object at 0x7f9ef2f757d0>, <__main__.AssociationRule object at 0x7f9ef2f75950>, <__main__.AssociationRule object at 0x7f9ef2f75ad0>, <__main__.AssociationRule object at 0x7f9ef2f75c50>, <__main__.AssociationRule object at 0x7f9ef2f75dd0>, <__main__.AssociationRule object at 0x7f9ef2f75f50>, <__main__.AssociationRule object at 0x7f9ef2f77110>, <__main__.AssociationRule object at 0x7f9ef2f77290>, <__main__.AssociationRule object at 0x7f9ef2f77410>, <__main__.AssociationRule object at 0x7f9ef2f77590>, <__main__.AssociationRule object at 0x7f9ef2f77710>, <__main__.AssociationRule object at 0x7f9ef2f77890>, <__main__.AssociationRule object at 0x7f9ef2f77a10>, <__main__.AssociationRule object at 0x7f9ef2f77b90>, <__main__.AssociationRule object at 0x7f9ef2f77d10>, <__main__.AssociationRule object at 0x7f9ef2f77e90>, <__main__.AssociationRule object at 0x7f9ef2f7a050>, <__main__.AssociationRule object at 0x7f9ef2f7a1d0>, <__main__.AssociationRule object at 0x7f9ef2f7a350>, <__main__.AssociationRule object at 0x7f9ef2f7a4d0>, <__main__.AssociationRule object at 0x7f9ef2f7a650>, <__main__.AssociationRule object at 0x7f9ef2f7a7d0>, <__main__.AssociationRule object at 0x7f9ef2f7a950>, <__main__.AssociationRule object at 0x7f9ef2f7aad0>, <__main__.AssociationRule object at 0x7f9ef2f7ac50>, <__main__.AssociationRule object at 0x7f9ef2f7add0>, <__main__.AssociationRule object at 0x7f9ef2f7af50>, <__main__.AssociationRule object at 0x7f9ef2f7c110>, <__main__.AssociationRule object at 0x7f9ef2f7c290>, <__main__.AssociationRule object at 0x7f9ef2f7c410>, <__main__.AssociationRule object at 0x7f9ef2f7c590>, <__main__.AssociationRule object at 0x7f9ef2f7c710>, <__main__.AssociationRule object at 0x7f9ef2f7c890>, <__main__.AssociationRule object at 0x7f9ef2f7ca10>, <__main__.AssociationRule object at 0x7f9ef2f7cb90>, <__main__.AssociationRule object at 0x7f9ef2f7cd10>, <__main__.AssociationRule object at 0x7f9ef2f7ce90>, <__main__.AssociationRule object at 0x7f9ef2f7f050>, <__main__.AssociationRule object at 0x7f9ef2f7f1d0>, <__main__.AssociationRule object at 0x7f9ef2f7f350>, <__main__.AssociationRule object at 0x7f9ef2f7f4d0>, <__main__.AssociationRule object at 0x7f9ef2f7f650>, <__main__.AssociationRule object at 0x7f9ef2f7f7d0>, <__main__.AssociationRule object at 0x7f9ef2f7f950>, <__main__.AssociationRule object at 0x7f9ef2f7fad0>, <__main__.AssociationRule object at 0x7f9ef2f7fc50>, <__main__.AssociationRule object at 0x7f9ef2f7fdd0>, <__main__.AssociationRule object at 0x7f9ef2f7ff50>, <__main__.AssociationRule object at 0x7f9ef2f81110>, <__main__.AssociationRule object at 0x7f9ef2f81290>, <__main__.AssociationRule object at 0x7f9ef2f81410>, <__main__.AssociationRule object at 0x7f9ef2f81590>, <__main__.AssociationRule object at 0x7f9ef2f81710>, <__main__.AssociationRule object at 0x7f9ef2f81890>, <__main__.AssociationRule object at 0x7f9ef2f81a10>, <__main__.AssociationRule object at 0x7f9ef2f81b90>, <__main__.AssociationRule object at 0x7f9ef2f81d10>, <__main__.AssociationRule object at 0x7f9ef2f81e90>, <__main__.AssociationRule object at 0x7f9ef2f84050>, <__main__.AssociationRule object at 0x7f9ef2f841d0>, <__main__.AssociationRule object at 0x7f9ef2f84350>, <__main__.AssociationRule object at 0x7f9ef2f844d0>, <__main__.AssociationRule object at 0x7f9ef2f84650>, <__main__.AssociationRule object at 0x7f9ef2f847d0>, <__main__.AssociationRule object at 0x7f9ef2f84950>, <__main__.AssociationRule object at 0x7f9ef2f84ad0>, <__main__.AssociationRule object at 0x7f9ef2f84c50>, <__main__.AssociationRule object at 0x7f9ef2f84dd0>, <__main__.AssociationRule object at 0x7f9ef2f84f50>, <__main__.AssociationRule object at 0x7f9ef2f86110>, <__main__.AssociationRule object at 0x7f9ef2f86290>, <__main__.AssociationRule object at 0x7f9ef2f86410>, <__main__.AssociationRule object at 0x7f9ef2f86590>, <__main__.AssociationRule object at 0x7f9ef2f86710>, <__main__.AssociationRule object at 0x7f9ef2f86890>, <__main__.AssociationRule object at 0x7f9ef2f86a10>, <__main__.AssociationRule object at 0x7f9ef2f86b90>, <__main__.AssociationRule object at 0x7f9ef2f86d10>, <__main__.AssociationRule object at 0x7f9ef2f86e90>, <__main__.AssociationRule object at 0x7f9ef2f89050>, <__main__.AssociationRule object at 0x7f9ef2f891d0>, <__main__.AssociationRule object at 0x7f9ef2f89350>, <__main__.AssociationRule object at 0x7f9ef2f894d0>, <__main__.AssociationRule object at 0x7f9ef2f89650>, <__main__.AssociationRule object at 0x7f9ef2f897d0>, <__main__.AssociationRule object at 0x7f9ef2f89950>, <__main__.AssociationRule object at 0x7f9ef2f89ad0>, <__main__.AssociationRule object at 0x7f9ef2f89c50>, <__main__.AssociationRule object at 0x7f9ef2f89dd0>, <__main__.AssociationRule object at 0x7f9ef2f89f50>, <__main__.AssociationRule object at 0x7f9ef2f8b110>, <__main__.AssociationRule object at 0x7f9ef2f8b290>, <__main__.AssociationRule object at 0x7f9ef2f8b410>, <__main__.AssociationRule object at 0x7f9ef2f8b590>, <__main__.AssociationRule object at 0x7f9ef2f8b710>, <__main__.AssociationRule object at 0x7f9ef2f8b890>, <__main__.AssociationRule object at 0x7f9ef2f8ba10>, <__main__.AssociationRule object at 0x7f9ef2f8bb90>, <__main__.AssociationRule object at 0x7f9ef2f8bd10>, <__main__.AssociationRule object at 0x7f9ef2f8be90>, <__main__.AssociationRule object at 0x7f9ef2f8d050>, <__main__.AssociationRule object at 0x7f9ef2f8d1d0>, <__main__.AssociationRule object at 0x7f9ef2f8d350>, <__main__.AssociationRule object at 0x7f9ef2f8d4d0>, <__main__.AssociationRule object at 0x7f9ef2f8d650>, <__main__.AssociationRule object at 0x7f9ef2f8d7d0>, <__main__.AssociationRule object at 0x7f9ef2f8d950>, <__main__.AssociationRule object at 0x7f9ef2f8dad0>, <__main__.AssociationRule object at 0x7f9ef2f8dc50>, <__main__.AssociationRule object at 0x7f9ef2f8ddd0>, <__main__.AssociationRule object at 0x7f9ef2f8df50>, <__main__.AssociationRule object at 0x7f9ef2f90110>, <__main__.AssociationRule object at 0x7f9ef2f90290>, <__main__.AssociationRule object at 0x7f9ef2f90410>, <__main__.AssociationRule object at 0x7f9ef2f90590>, <__main__.AssociationRule object at 0x7f9ef2f90710>, <__main__.AssociationRule object at 0x7f9ef2f90890>, <__main__.AssociationRule object at 0x7f9ef2f90a10>, <__main__.AssociationRule object at 0x7f9ef2f90b90>, <__main__.AssociationRule object at 0x7f9ef2f90d10>, <__main__.AssociationRule object at 0x7f9ef2f90e90>, <__main__.AssociationRule object at 0x7f9ef2f93050>, <__main__.AssociationRule object at 0x7f9ef2f931d0>, <__main__.AssociationRule object at 0x7f9ef2f93350>, <__main__.AssociationRule object at 0x7f9ef2f934d0>, <__main__.AssociationRule object at 0x7f9ef2f93650>, <__main__.AssociationRule object at 0x7f9ef2f937d0>, <__main__.AssociationRule object at 0x7f9ef2f93950>, <__main__.AssociationRule object at 0x7f9ef2f93ad0>, <__main__.AssociationRule object at 0x7f9ef2f93c50>, <__main__.AssociationRule object at 0x7f9ef2f93dd0>, <__main__.AssociationRule object at 0x7f9ef2f93f50>, <__main__.AssociationRule object at 0x7f9ef2f95110>, <__main__.AssociationRule object at 0x7f9ef2f95290>, <__main__.AssociationRule object at 0x7f9ef2f95410>, <__main__.AssociationRule object at 0x7f9ef2f95590>, <__main__.AssociationRule object at 0x7f9ef2f95710>, <__main__.AssociationRule object at 0x7f9ef2f95890>, <__main__.AssociationRule object at 0x7f9ef2f95a10>, <__main__.AssociationRule object at 0x7f9ef2f95b90>, <__main__.AssociationRule object at 0x7f9ef2f95d10>, <__main__.AssociationRule object at 0x7f9ef2f95e90>, <__main__.AssociationRule object at 0x7f9ef2f98050>, <__main__.AssociationRule object at 0x7f9ef2f981d0>, <__main__.AssociationRule object at 0x7f9ef2f98350>, <__main__.AssociationRule object at 0x7f9ef2f984d0>, <__main__.AssociationRule object at 0x7f9ef2f98650>, <__main__.AssociationRule object at 0x7f9ef2f987d0>, <__main__.AssociationRule object at 0x7f9ef2f98950>, <__main__.AssociationRule object at 0x7f9ef2f98ad0>, <__main__.AssociationRule object at 0x7f9ef2f98c50>, <__main__.AssociationRule object at 0x7f9ef2f98dd0>, <__main__.AssociationRule object at 0x7f9ef2f98f50>, <__main__.AssociationRule object at 0x7f9ef2f9a110>, <__main__.AssociationRule object at 0x7f9ef2f9a290>, <__main__.AssociationRule object at 0x7f9ef2f9a410>, <__main__.AssociationRule object at 0x7f9ef2f9a590>, <__main__.AssociationRule object at 0x7f9ef2f9a710>, <__main__.AssociationRule object at 0x7f9ef2f9a890>, <__main__.AssociationRule object at 0x7f9ef2f9aa10>, <__main__.AssociationRule object at 0x7f9ef2f9ab90>, <__main__.AssociationRule object at 0x7f9ef2f9ad10>, <__main__.AssociationRule object at 0x7f9ef2f9ae90>, <__main__.AssociationRule object at 0x7f9ef2f9c050>, <__main__.AssociationRule object at 0x7f9ef2f9c1d0>, <__main__.AssociationRule object at 0x7f9ef2f9c350>, <__main__.AssociationRule object at 0x7f9ef2f9c4d0>, <__main__.AssociationRule object at 0x7f9ef2f9c650>, <__main__.AssociationRule object at 0x7f9ef2f9c7d0>, <__main__.AssociationRule object at 0x7f9ef2f9c950>, <__main__.AssociationRule object at 0x7f9ef2f9cad0>, <__main__.AssociationRule object at 0x7f9ef2f9cc50>, <__main__.AssociationRule object at 0x7f9ef2f9cdd0>, <__main__.AssociationRule object at 0x7f9ef2f9cf50>, <__main__.AssociationRule object at 0x7f9ef2f9e110>, <__main__.AssociationRule object at 0x7f9ef2f9e290>, <__main__.AssociationRule object at 0x7f9ef2f9e410>, <__main__.AssociationRule object at 0x7f9ef2f9e590>, <__main__.AssociationRule object at 0x7f9ef2f9e710>, <__main__.AssociationRule object at 0x7f9ef2f9e890>, <__main__.AssociationRule object at 0x7f9ef2f9ea10>, <__main__.AssociationRule object at 0x7f9ef2f9eb90>, <__main__.AssociationRule object at 0x7f9ef2f9ed10>, <__main__.AssociationRule object at 0x7f9ef2f9ee90>, <__main__.AssociationRule object at 0x7f9ef2fa1050>, <__main__.AssociationRule object at 0x7f9ef2fa11d0>, <__main__.AssociationRule object at 0x7f9ef2fa1350>, <__main__.AssociationRule object at 0x7f9ef2fa14d0>, <__main__.AssociationRule object at 0x7f9ef2fa1650>, <__main__.AssociationRule object at 0x7f9ef2fa17d0>, <__main__.AssociationRule object at 0x7f9ef2fa1950>, <__main__.AssociationRule object at 0x7f9ef2fa1ad0>, <__main__.AssociationRule object at 0x7f9ef2fa1c50>, <__main__.AssociationRule object at 0x7f9ef2fa1dd0>, <__main__.AssociationRule object at 0x7f9ef2fa1f50>, <__main__.AssociationRule object at 0x7f9ef2fa4110>, <__main__.AssociationRule object at 0x7f9ef2fa4290>, <__main__.AssociationRule object at 0x7f9ef2fa4410>, <__main__.AssociationRule object at 0x7f9ef2fa4590>, <__main__.AssociationRule object at 0x7f9ef2fa4710>, <__main__.AssociationRule object at 0x7f9ef2fa4890>, <__main__.AssociationRule object at 0x7f9ef2fa4a10>, <__main__.AssociationRule object at 0x7f9ef2fa4b90>, <__main__.AssociationRule object at 0x7f9ef2fa4d10>, <__main__.AssociationRule object at 0x7f9ef2fa4e90>, <__main__.AssociationRule object at 0x7f9ee24af050>, <__main__.AssociationRule object at 0x7f9ee24af1d0>, <__main__.AssociationRule object at 0x7f9ee24af350>, <__main__.AssociationRule object at 0x7f9ee24af4d0>, <__main__.AssociationRule object at 0x7f9ee24af650>, <__main__.AssociationRule object at 0x7f9ee24af7d0>, <__main__.AssociationRule object at 0x7f9ee24af950>, <__main__.AssociationRule object at 0x7f9ee24afad0>, <__main__.AssociationRule object at 0x7f9ee24afc50>, <__main__.AssociationRule object at 0x7f9ee24afdd0>, <__main__.AssociationRule object at 0x7f9ee24aff50>, <__main__.AssociationRule object at 0x7f9ee24b1110>, <__main__.AssociationRule object at 0x7f9ee24b1290>, <__main__.AssociationRule object at 0x7f9ee24b1410>, <__main__.AssociationRule object at 0x7f9ee24b1590>, <__main__.AssociationRule object at 0x7f9ee24b1710>, <__main__.AssociationRule object at 0x7f9ee24b1890>, <__main__.AssociationRule object at 0x7f9ee24b1a10>, <__main__.AssociationRule object at 0x7f9ee24b1b90>, <__main__.AssociationRule object at 0x7f9ee24b1d10>, <__main__.AssociationRule object at 0x7f9ee24b1e90>, <__main__.AssociationRule object at 0x7f9ee24b3050>, <__main__.AssociationRule object at 0x7f9ee24b31d0>, <__main__.AssociationRule object at 0x7f9ee24b3350>]\n"
          ],
          "name": "stdout"
        }
      ]
    },
    {
      "cell_type": "code",
      "metadata": {
        "id": "WObH81pqbYdH"
      },
      "source": [
        "freq_itemset_dict = load_frequent_itemsets_as_dict()"
      ],
      "execution_count": 88,
      "outputs": []
    },
    {
      "cell_type": "code",
      "metadata": {
        "id": "6hoq9x7_nB6M"
      },
      "source": [
        "from sklearn.decomposition.incremental_pca import IncrementalPCA\n",
        "from sklearn.cluster import DBSCAN\n",
        "from sklearn.cluster import OPTICS, cluster_optics_dbscan"
      ],
      "execution_count": 89,
      "outputs": []
    },
    {
      "cell_type": "code",
      "metadata": {
        "id": "aNN7o87sblyk"
      },
      "source": [
        "def run_dbscan(dbscan_params, nthreads, data, points,xi):\n",
        "        print ('Doing clustering ....')\n",
        "        print('epsilon ' + str(epsilon))\n",
        "        reduced_rate =0.5\n",
        "        \n",
        "        ncomponents = int(data.shape[1] * reduced_rate)\n",
        "        pca = IncrementalPCA(n_components = ncomponents)\n",
        "        data = pca.fit_transform(data) \n",
        "        \n",
        "        \n",
        "        db  = OPTICS(min_samples=points,xi=xi).fit(data)\n",
        "        core_samples_mask = np.zeros_like(db.labels_, dtype=bool)\n",
        "        \n",
        "        labels = db.labels_\n",
        "        \n",
        "        #Y = noconflict_db.Y.copy()\n",
        "\n",
        "        Y = labels\n",
        "        \n",
        "        n_clusters = len(set(Y))- (1 if -1 in Y else 0)\n",
        "        n_noises = list(Y).count(-1)\n",
        "        \n",
        "       \n",
        "        print('Number of clusters' + str(n_clusters))\n",
        "        print('Number of noises' + str(n_noises))\n",
        "    \n",
        "        print(\"Y\" , Y)\n",
        "        print(\"Type of Y is \",type(Y))\n",
        "        print(\"Lenght of Y is\",len(Y))\n",
        "        return Y"
      ],
      "execution_count": 90,
      "outputs": []
    },
    {
      "cell_type": "code",
      "metadata": {
        "id": "N6KKLDDgblyk"
      },
      "source": [
        "def merge_itemsets(itemset_1, itemset_2):\n",
        "    merged_items = []\n",
        "    merged_items.extend(itemset_1)\n",
        "    merged_items.extend(itemset_2)\n",
        "    merged_items = list(set(merged_items))\n",
        "    merged_items = sorted(merged_items)\n",
        "    \n",
        "    return merged_items"
      ],
      "execution_count": 91,
      "outputs": []
    },
    {
      "cell_type": "code",
      "metadata": {
        "id": "gt7BWHSCblyl"
      },
      "source": [
        "from collections import Counter"
      ],
      "execution_count": 92,
      "outputs": []
    },
    {
      "cell_type": "code",
      "metadata": {
        "id": "0zs4cIRXblyl",
        "colab": {
          "base_uri": "https://localhost:8080/"
        },
        "outputId": "458d30d8-e0d8-442d-b8b3-58145abe4d93"
      },
      "source": [
        "cluster_labels = run_dbscan(dbscan_params, nthreads = 4, data=X_train, points=my_minpoints, xi=xi)"
      ],
      "execution_count": 93,
      "outputs": [
        {
          "output_type": "stream",
          "text": [
            "Doing clustering ....\n",
            "epsilon 0.005\n",
            "Number of clusters54\n",
            "Number of noises601\n",
            "Y [-1  0 -1 ... -1  6 52]\n",
            "Type of Y is  <class 'numpy.ndarray'>\n",
            "Lenght of Y is 1057\n"
          ],
          "name": "stdout"
        }
      ]
    },
    {
      "cell_type": "markdown",
      "metadata": {
        "id": "CZoZKY8pbyWy"
      },
      "source": [
        "Computing confidence"
      ]
    },
    {
      "cell_type": "code",
      "metadata": {
        "id": "Ytrf1ZTBbyWz"
      },
      "source": [
        "rules_and_their_clusters = []"
      ],
      "execution_count": 94,
      "outputs": []
    },
    {
      "cell_type": "code",
      "metadata": {
        "id": "uJqGIEwnbyWz",
        "colab": {
          "base_uri": "https://localhost:8080/"
        },
        "outputId": "da05f14a-a2cd-4443-b474-46984fe1af5a"
      },
      "source": [
        "confidence_support_values = compute_confidence(association_rules_list)"
      ],
      "execution_count": 95,
      "outputs": [
        {
          "output_type": "stream",
          "text": [
            "rule_confidence_dict {'a1@70-79>class@no': (0.8, 4), 'a3@10-14>class@no': (1.0, 19), 'a4@12-14>class@yes': (1.0, 2), 'a4@9-11>class@yes': (0.8333333333333334, 5), 'a1@30-39,a3@10-14>class@no': (1.0, 2), 'a1@30-39,a3@35-39>class@yes': (1.0, 3), 'a1@30-39,a3@40-44>class@no': (1.0, 3), 'a1@30-39,a4@9-11>class@yes': (1.0, 2), 'a1@30-39,a8@right_up>class@no': (1.0, 3), 'a1@40-49,a3@10-14>class@no': (1.0, 7), 'a1@40-49,a3@15-19>class@yes': (1.0, 2), 'a1@40-49,a3@35-39>class@no': (0.8, 4), 'a1@40-49,a6@1>class@no': (0.8, 12), 'a1@40-49,a8@right_low>class@no': (0.8333333333333334, 5), 'a1@50-59,a3@10-14>class@no': (1.0, 5), 'a1@50-59,a3@15-19>class@no': (0.8333333333333334, 5), 'a1@50-59,a4@6-8>class@yes': (1.0, 4), 'a1@50-59,a5@?>class@yes': (1.0, 2), 'a1@50-59,a6@1>class@no': (0.8333333333333334, 15), 'a1@50-59,a8@central>class@no': (1.0, 4), 'a1@60-69,a2@lt40>class@no': (1.0, 2), 'a1@60-69,a3@10-14>class@no': (1.0, 4), 'a1@60-69,a3@15-19>class@no': (1.0, 6), 'a1@60-69,a3@40-44>class@yes': (1.0, 2), 'a1@60-69,a6@1>class@no': (0.8333333333333334, 10), 'a1@60-69,a8@left_up>class@no': (0.8, 8), 'a1@70-79,a3@40-44>class@no': (1.0, 2), 'a1@70-79,a4@0-2>class@no': (1.0, 4), 'a1@70-79,a5@no>class@no': (1.0, 4), 'a1@70-79,a7@right>class@no': (1.0, 2), 'a1@70-79,a8@left_up>class@no': (1.0, 2), 'a1@70-79,a9@no>class@no': (1.0, 4), 'a2@ge40,a3@10-14>class@no': (1.0, 7), 'a2@ge40,a3@15-19>class@no': (0.9, 9), 'a2@ge40,a3@50-54>class@no': (1.0, 2), 'a2@ge40,a4@0-2>class@no': (0.8064516129032258, 50), 'a2@ge40,a6@1>class@no': (0.875, 21), 'a2@ge40,a8@left_up>class@no': (0.8214285714285714, 23), 'a2@ge40,a8@right_low>class@yes': (1.0, 3), 'a2@lt40,a3@15-19>class@no': (1.0, 2), 'a2@lt40,a3@20-24>class@yes': (1.0, 2), 'a2@lt40,a5@?>class@yes': (1.0, 2), 'a2@lt40,a5@no>class@no': (1.0, 4), 'a2@premeno,a3@10-14>class@no': (1.0, 11), 'a2@premeno,a3@40-44>class@no': (0.8333333333333334, 5), 'a2@premeno,a4@15-17>class@yes': (1.0, 2), 'a2@premeno,a4@3-5>class@no': (0.8333333333333334, 10), 'a2@premeno,a4@9-11>class@yes': (0.8, 4), 'a2@premeno,a8@right_low>class@no': (0.8888888888888888, 8), 'a3@10-14,a4@0-2>class@no': (1.0, 18), 'a3@10-14,a6@1>class@no': (1.0, 12), 'a3@10-14,a6@2>class@no': (1.0, 7), 'a3@10-14,a7@left>class@no': (1.0, 11), 'a3@10-14,a7@right>class@no': (1.0, 8), 'a3@10-14,a8@left_low>class@no': (1.0, 7), 'a3@10-14,a8@left_up>class@no': (1.0, 8), 'a3@10-14,a8@right_low>class@no': (1.0, 2), 'a3@15-19,a4@0-2>class@no': (0.8125, 13), 'a3@15-19,a5@no>class@no': (0.8666666666666667, 13), 'a3@15-19,a5@yes>class@yes': (1.0, 2), 'a3@15-19,a6@2>class@no': (0.8888888888888888, 8), 'a3@15-19,a7@right>class@no': (0.8, 8), 'a3@15-19,a8@central>class@no': (1.0, 2), 'a3@15-19,a8@left_up>class@no': (0.8, 4), 'a3@20-24,a5@?>class@yes': (1.0, 2), 'a3@20-24,a8@central>class@no': (1.0, 2), 'a3@20-24,a8@right_low>class@no': (1.0, 2), 'a3@20-24,a9@yes>class@yes': (1.0, 4), 'a3@25-29,a4@3-5>class@no': (1.0, 3), 'a3@25-29,a6@1>class@no': (0.8333333333333334, 5), 'a3@30-34,a6@1>class@no': (0.8181818181818182, 9), 'a3@35-39,a8@left_up>class@no': (0.8, 4), 'a3@35-39,a9@yes>class@no': (1.0, 2), 'a3@40-44,a4@0-2>class@no': (0.8, 8), 'a3@40-44,a4@6-8>class@yes': (1.0, 2), 'a3@40-44,a5@no>class@no': (0.8181818181818182, 9), 'a3@40-44,a6@2>class@no': (0.8333333333333334, 5), 'a3@40-44,a7@right>class@no': (0.8, 8), 'a3@40-44,a8@left_up>class@no': (1.0, 5), 'a3@40-44,a8@right_up>class@no': (1.0, 4), 'a3@45-49,a7@left>class@no': (1.0, 2), 'a4@0-2,a5@?>class@yes': (1.0, 2), 'a4@0-2,a8@right_low>class@no': (0.8888888888888888, 8), 'a4@15-17,a6@3>class@yes': (1.0, 2), 'a4@15-17,a7@left>class@yes': (1.0, 2), 'a4@15-17,a8@left_low>class@yes': (1.0, 2), 'a4@15-17,a9@no>class@yes': (1.0, 2), 'a4@3-5,a6@1>class@no': (1.0, 2), 'a4@3-5,a8@left_up>class@no': (0.8333333333333334, 5), 'a4@6-8,a6@2>class@no': (1.0, 4), 'a4@6-8,a6@3>class@yes': (0.875, 7), 'a4@6-8,a8@left_low>class@yes': (1.0, 4), 'a4@6-8,a8@right_low>class@yes': (1.0, 2), 'a4@6-8,a8@right_up>class@no': (1.0, 2), 'a4@6-8,a9@yes>class@yes': (0.8, 4), 'a4@9-11,a6@3>class@yes': (1.0, 2), 'a4@9-11,a7@left>class@yes': (1.0, 2), 'a4@9-11,a8@left_low>class@yes': (1.0, 2), 'a4@9-11,a9@no>class@yes': (1.0, 3), 'a5@?,a7@left>class@yes': (1.0, 3), 'a5@?,a9@no>class@yes': (1.0, 2), 'a5@no,a6@1>class@no': (0.8333333333333334, 40), 'a5@no,a8@right_low>class@no': (0.8888888888888888, 8), 'a5@yes,a6@3>class@yes': (0.8095238095238095, 17), 'a5@yes,a8@right_low>class@yes': (1.0, 3), 'a6@1,a8@central>class@no': (1.0, 4), 'a6@1,a8@right_low>class@no': (1.0, 3), 'a6@1,a8@right_up>class@no': (0.8571428571428571, 6), 'a6@1,a9@no>class@no': (0.8297872340425532, 39), 'a6@2,a8@left_up>class@no': (0.8333333333333334, 25), 'a6@2,a8@right_low>class@no': (1.0, 5), 'a6@3,a8@right_low>class@yes': (1.0, 4), 'a7@left,a8@central>class@no': (0.8, 4), 'a7@right,a8@right_low>class@no': (1.0, 4), 'a8@central,a9@no>class@no': (0.8, 8), 'a8@left_up,a9@yes>class@no': (0.8, 12), 'a8@right_low,a9@no>class@no': (0.8888888888888888, 8), 'a8@right_low,a9@yes>class@yes': (1.0, 3), 'a1@30-39,a3@20-24,a4@0-2>class@no': (1.0, 2), 'a1@30-39,a3@20-24,a5@no>class@no': (1.0, 3), 'a1@30-39,a3@25-29,a6@2>class@no': (1.0, 2), 'a1@30-39,a3@25-29,a7@right>class@no': (1.0, 2), 'a1@30-39,a3@35-39,a4@0-2>class@yes': (1.0, 2), 'a1@30-39,a3@35-39,a5@no>class@yes': (1.0, 2), 'a1@30-39,a3@40-44,a4@0-2>class@no': (1.0, 2), 'a1@30-39,a3@40-44,a6@2>class@no': (1.0, 2), 'a1@30-39,a3@40-44,a7@right>class@no': (1.0, 2), 'a1@30-39,a3@40-44,a8@right_up>class@no': (1.0, 2), 'a1@30-39,a3@40-44,a9@yes>class@no': (1.0, 2), 'a1@30-39,a4@0-2,a8@right_low>class@no': (1.0, 3), 'a1@30-39,a4@3-5,a5@no>class@no': (1.0, 2), 'a1@30-39,a4@3-5,a7@right>class@no': (1.0, 2), 'a1@30-39,a4@6-8,a6@2>class@no': (1.0, 2), 'a1@30-39,a4@6-8,a7@right>class@no': (1.0, 2), 'a1@30-39,a5@no,a8@right_low>class@no': (1.0, 3), 'a1@30-39,a5@no,a8@right_up>class@no': (1.0, 2), 'a1@30-39,a5@yes,a6@3>class@yes': (1.0, 2), 'a1@30-39,a5@yes,a7@left>class@yes': (1.0, 3), 'a1@30-39,a5@yes,a7@right>class@no': (1.0, 2), 'a1@30-39,a5@yes,a8@left_low>class@yes': (1.0, 2), 'a1@30-39,a6@2,a8@right_low>class@no': (1.0, 3), 'a1@30-39,a6@2,a8@right_up>class@no': (1.0, 2), 'a1@30-39,a6@3,a7@right>class@no': (1.0, 2), 'a1@30-39,a8@right_low,a9@no>class@no': (1.0, 3), 'a1@30-39,a8@right_up,a9@no>class@no': (1.0, 2), 'a1@40-49,a2@ge40,a4@0-2>class@no': (0.8, 4), 'a1@40-49,a2@ge40,a4@3-5>class@yes': (1.0, 2), 'a1@40-49,a2@premeno,a8@right_low>class@no': (1.0, 5), 'a1@40-49,a3@10-14,a6@1>class@no': (1.0, 3), 'a1@40-49,a3@10-14,a6@2>class@no': (1.0, 4), 'a1@40-49,a3@10-14,a7@left>class@no': (1.0, 2), 'a1@40-49,a3@10-14,a7@right>class@no': (1.0, 5), 'a1@40-49,a3@10-14,a8@left_low>class@no': (1.0, 2), 'a1@40-49,a3@10-14,a8@left_up>class@no': (1.0, 4), 'a1@40-49,a3@20-24,a6@1>class@no': (1.0, 2), 'a1@40-49,a3@20-24,a8@left_up>class@no': (0.8333333333333334, 5), 'a1@40-49,a3@20-24,a9@no>class@no': (0.8181818181818182, 9), 'a1@40-49,a3@20-24,a9@yes>class@yes': (1.0, 2), 'a1@40-49,a3@25-29,a5@yes>class@yes': (1.0, 2), 'a1@40-49,a3@25-29,a6@1>class@no': (1.0, 2), 'a1@40-49,a3@25-29,a6@3>class@yes': (0.8, 4), 'a1@40-49,a3@30-34,a5@yes>class@yes': (1.0, 4), 'a1@40-49,a3@30-34,a6@2>class@no': (1.0, 4), 'a1@40-49,a3@30-34,a6@3>class@yes': (0.8571428571428571, 6), 'a1@40-49,a3@35-39,a5@yes>class@no': (1.0, 2), 'a1@40-49,a3@35-39,a6@2>class@no': (1.0, 2), 'a1@40-49,a3@40-44,a5@yes>class@no': (1.0, 2), 'a1@40-49,a3@40-44,a7@right>class@no': (1.0, 3), 'a1@40-49,a3@40-44,a8@left_up>class@no': (1.0, 3), 'a1@40-49,a3@40-44,a9@yes>class@no': (1.0, 2), 'a1@40-49,a4@0-2,a8@left_up>class@no': (0.8, 16), 'a1@40-49,a4@0-2,a8@right_low>class@no': (1.0, 5), 'a1@40-49,a4@3-5,a7@left>class@yes': (1.0, 2), 'a1@40-49,a4@3-5,a8@left_up>class@no': (1.0, 2), 'a1@40-49,a5@no,a8@left_up>class@no': (0.85, 17), 'a1@40-49,a5@no,a8@right_low>class@no': (1.0, 5), 'a1@40-49,a5@yes,a6@3>class@yes': (0.8, 8), 'a1@40-49,a5@yes,a7@left>class@yes': (1.0, 5), 'a1@40-49,a5@yes,a8@left_low>class@yes': (1.0, 3), 'a1@40-49,a5@yes,a9@no>class@yes': (1.0, 6), 'a1@40-49,a6@1,a7@right>class@no': (0.8888888888888888, 8), 'a1@40-49,a6@1,a8@left_up>class@no': (0.8, 4), 'a1@40-49,a6@1,a8@right_up>class@no': (1.0, 2), 'a1@40-49,a6@1,a9@no>class@no': (0.8461538461538461, 11), 'a1@40-49,a6@2,a8@left_up>class@no': (0.9230769230769231, 12), 'a1@40-49,a6@2,a8@right_low>class@no': (1.0, 2), 'a1@40-49,a6@2,a8@right_up>class@no': (1.0, 2), 'a1@40-49,a6@2,a9@no>class@no': (0.8, 16), 'a1@40-49,a6@3,a8@left_low>class@yes': (0.8, 4), 'a1@40-49,a6@3,a8@right_up>class@yes': (1.0, 3), 'a1@40-49,a8@left_up,a9@yes>class@no': (0.875, 7), 'a1@40-49,a8@right_low,a9@no>class@no': (1.0, 5), 'a1@50-59,a2@ge40,a3@10-14>class@no': (1.0, 3), 'a1@50-59,a2@ge40,a3@15-19>class@no': (1.0, 3), 'a1@50-59,a2@ge40,a4@0-2>class@no': (0.8928571428571429, 25), 'a1@50-59,a2@ge40,a5@no>class@no': (0.8, 24), 'a1@50-59,a2@ge40,a6@1>class@no': (1.0, 11), 'a1@50-59,a2@ge40,a6@2>class@no': (0.8, 8), 'a1@50-59,a2@ge40,a7@right>class@no': (0.875, 14), 'a1@50-59,a2@ge40,a8@central>class@no': (1.0, 3), 'a1@50-59,a2@ge40,a8@left_up>class@no': (0.8333333333333334, 10), 'a1@50-59,a2@ge40,a8@right_up>class@no': (0.8333333333333334, 5), 'a1@50-59,a2@ge40,a9@yes>class@yes': (1.0, 3), 'a1@50-59,a2@lt40,a6@1>class@yes': (1.0, 2), 'a1@50-59,a2@premeno,a3@10-14>class@no': (1.0, 2), 'a1@50-59,a2@premeno,a4@3-5>class@no': (1.0, 5), 'a1@50-59,a2@premeno,a5@yes>class@no': (0.8333333333333334, 5), 'a1@50-59,a2@premeno,a6@1>class@no': (0.8, 4), 'a1@50-59,a2@premeno,a8@left_low>class@no': (0.8, 8), 'a1@50-59,a2@premeno,a8@right_up>class@yes': (1.0, 3), 'a1@50-59,a3@10-14,a4@0-2>class@no': (1.0, 4), 'a1@50-59,a3@10-14,a6@1>class@no': (1.0, 4), 'a1@50-59,a3@10-14,a7@left>class@no': (1.0, 3), 'a1@50-59,a3@10-14,a7@right>class@no': (1.0, 2), 'a1@50-59,a3@10-14,a8@left_low>class@no': (1.0, 3), 'a1@50-59,a3@10-14,a8@left_up>class@no': (1.0, 2), 'a1@50-59,a3@15-19,a6@1>class@no': (1.0, 2), 'a1@50-59,a3@15-19,a7@right>class@no': (1.0, 4), 'a1@50-59,a3@20-24,a5@no>class@no': (0.8, 4), 'a1@50-59,a3@20-24,a6@2>class@no': (0.8, 4), 'a1@50-59,a3@20-24,a7@right>class@no': (0.8, 4), 'a1@50-59,a3@25-29,a4@3-5>class@no': (1.0, 2), 'a1@50-59,a3@25-29,a5@yes>class@no': (1.0, 2), 'a1@50-59,a3@30-34,a6@1>class@no': (1.0, 4), 'a1@50-59,a3@30-34,a8@left_low>class@no': (0.8, 4), 'a1@50-59,a3@35-39,a6@3>class@no': (1.0, 2), 'a1@50-59,a3@35-39,a8@left_up>class@no': (1.0, 2), 'a1@50-59,a3@40-44,a4@0-2>class@no': (1.0, 3), 'a1@50-59,a3@40-44,a5@no>class@no': (1.0, 3), 'a1@50-59,a3@40-44,a6@2>class@no': (1.0, 2), 'a1@50-59,a3@40-44,a9@no>class@no': (1.0, 4), 'a1@50-59,a3@40-44,a9@yes>class@yes': (1.0, 2), 'a1@50-59,a3@50-54,a4@0-2>class@no': (1.0, 2), 'a1@50-59,a4@0-2,a5@yes>class@no': (1.0, 3), 'a1@50-59,a4@0-2,a6@1>class@no': (0.8235294117647058, 14), 'a1@50-59,a4@0-2,a7@right>class@no': (0.8333333333333334, 15), 'a1@50-59,a4@3-5,a5@yes>class@no': (0.8333333333333334, 5), 'a1@50-59,a4@3-5,a6@2>class@no': (1.0, 6), 'a1@50-59,a4@3-5,a6@3>class@yes': (1.0, 3), 'a1@50-59,a4@3-5,a7@left>class@no': (0.8, 4), 'a1@50-59,a4@3-5,a8@left_low>class@no': (0.8, 4), 'a1@50-59,a4@3-5,a9@yes>class@no': (1.0, 3), 'a1@50-59,a4@6-8,a5@yes>class@yes': (1.0, 3), 'a1@50-59,a4@6-8,a8@left_low>class@yes': (1.0, 3), 'a1@50-59,a4@6-8,a9@yes>class@yes': (1.0, 3), 'a1@50-59,a5@no,a6@1>class@no': (0.9375, 15), 'a1@50-59,a5@yes,a6@2>class@no': (0.8888888888888888, 8), 'a1@50-59,a5@yes,a6@3>class@yes': (1.0, 4), 'a1@50-59,a5@yes,a8@left_up>class@no': (0.8, 4), 'a1@50-59,a6@1,a7@right>class@no': (0.9, 9), 'a1@50-59,a6@1,a8@left_low>class@no': (0.8571428571428571, 6), 'a1@50-59,a6@1,a8@right_up>class@no': (1.0, 2), 'a1@50-59,a6@2,a7@right>class@no': (0.875, 7), 'a1@50-59,a6@2,a8@left_low>class@no': (0.8181818181818182, 9), 'a1@50-59,a6@2,a9@yes>class@no': (1.0, 4), 'a1@50-59,a6@3,a9@yes>class@yes': (1.0, 5), 'a1@50-59,a7@right,a8@central>class@no': (1.0, 3), 'a1@50-59,a7@right,a8@left_low>class@no': (0.8, 4), 'a1@50-59,a7@right,a9@no>class@no': (0.8, 16), 'a1@50-59,a8@left_low,a9@no>class@no': (0.8, 16), 'a1@60-69,a2@ge40,a3@10-14>class@no': (1.0, 3), 'a1@60-69,a2@ge40,a6@1>class@no': (0.8, 8), 'a1@60-69,a3@10-14,a8@left_up>class@no': (1.0, 2), 'a1@60-69,a3@15-19,a6@2>class@no': (1.0, 5), 'a1@60-69,a3@15-19,a7@left>class@no': (1.0, 3), 'a1@60-69,a3@15-19,a7@right>class@no': (1.0, 3), 'a1@60-69,a3@15-19,a8@left_low>class@no': (1.0, 3), 'a1@60-69,a3@15-19,a8@left_up>class@no': (1.0, 3), 'a1@60-69,a3@15-19,a9@no>class@no': (1.0, 5), 'a1@60-69,a3@20-24,a6@3>class@yes': (1.0, 2), 'a1@60-69,a3@20-24,a7@right>class@yes': (1.0, 2), 'a1@60-69,a3@20-24,a9@yes>class@yes': (1.0, 2), 'a1@60-69,a3@25-29,a7@left>class@yes': (1.0, 2), 'a1@60-69,a3@25-29,a7@right>class@no': (1.0, 2), 'a1@60-69,a3@25-29,a8@left_low>class@no': (1.0, 2), 'a1@60-69,a3@30-34,a5@no>class@no': (0.8, 4), 'a1@60-69,a3@30-34,a6@1>class@no': (1.0, 2), 'a1@60-69,a3@30-34,a7@left>class@no': (0.8, 4), 'a1@60-69,a3@30-34,a8@central>class@yes': (1.0, 2), 'a1@60-69,a3@30-34,a8@left_low>class@no': (1.0, 4), 'a1@60-69,a3@30-34,a9@no>class@no': (0.8571428571428571, 6), 'a1@60-69,a3@30-34,a9@yes>class@yes': (1.0, 2), 'a1@60-69,a4@0-2,a6@1>class@no': (0.8181818181818182, 9), 'a1@60-69,a4@0-2,a6@2>class@no': (0.8, 8), 'a1@60-69,a4@0-2,a7@left>class@no': (0.8666666666666667, 13), 'a1@60-69,a4@0-2,a8@left_low>class@no': (0.8333333333333334, 10), 'a1@60-69,a4@3-5,a6@2>class@yes': (1.0, 2), 'a1@60-69,a5@no,a6@1>class@no': (0.8181818181818182, 9), 'a1@60-69,a5@no,a6@2>class@no': (0.8, 8), 'a1@60-69,a5@no,a7@left>class@no': (0.8125, 13), 'a1@60-69,a5@yes,a9@yes>class@yes': (1.0, 3), 'a1@60-69,a6@1,a7@left>class@no': (1.0, 7), 'a1@60-69,a6@1,a8@left_low>class@no': (1.0, 5), 'a1@60-69,a6@1,a8@left_up>class@no': (0.8, 4), 'a1@60-69,a6@1,a9@no>class@no': (0.9, 9), 'a1@60-69,a6@2,a8@left_up>class@no': (1.0, 4), 'a1@60-69,a6@2,a9@no>class@no': (0.875, 7), 'a1@60-69,a6@3,a9@yes>class@yes': (1.0, 2), 'a1@60-69,a7@left,a8@left_up>class@no': (0.8, 4), 'a1@60-69,a7@left,a9@no>class@no': (0.875, 14), 'a1@60-69,a7@left,a9@yes>class@yes': (0.8, 4), 'a1@60-69,a7@right,a8@left_up>class@no': (0.8, 4), 'a1@60-69,a8@left_up,a9@yes>class@no': (1.0, 2), 'a1@60-69,a8@right_up,a9@no>class@no': (1.0, 2), 'a1@60-69,a8@right_up,a9@yes>class@yes': (1.0, 2), 'a1@70-79,a4@0-2,a6@1>class@no': (1.0, 2), 'a1@70-79,a4@0-2,a7@left>class@no': (1.0, 2), 'a1@70-79,a5@no,a6@1>class@no': (1.0, 2), 'a1@70-79,a5@no,a7@left>class@no': (1.0, 2), 'a1@70-79,a6@1,a9@no>class@no': (1.0, 2), 'a1@70-79,a7@left,a9@no>class@no': (1.0, 2), 'a2@ge40,a3@10-14,a6@1>class@no': (1.0, 5), 'a2@ge40,a3@10-14,a6@2>class@no': (1.0, 2), 'a2@ge40,a3@10-14,a7@left>class@no': (1.0, 6), 'a2@ge40,a3@10-14,a8@left_low>class@no': (1.0, 3), 'a2@ge40,a3@10-14,a8@left_up>class@no': (1.0, 3), 'a2@ge40,a3@15-19,a4@0-2>class@no': (1.0, 9), 'a2@ge40,a3@15-19,a5@no>class@no': (1.0, 9), 'a2@ge40,a3@15-19,a6@2>class@no': (1.0, 6), 'a2@ge40,a3@15-19,a7@right>class@no': (1.0, 6), 'a2@ge40,a3@15-19,a8@left_up>class@no': (1.0, 3), 'a2@ge40,a3@15-19,a9@no>class@no': (1.0, 8), 'a2@ge40,a3@20-24,a9@yes>class@yes': (1.0, 3), 'a2@ge40,a3@25-29,a6@1>class@no': (1.0, 2), 'a2@ge40,a3@25-29,a7@right>class@no': (1.0, 2), 'a2@ge40,a3@25-29,a8@left_low>class@no': (0.8, 4), 'a2@ge40,a3@25-29,a8@right_low>class@yes': (1.0, 2), 'a2@ge40,a3@25-29,a9@no>class@no': (0.8, 4), 'a2@ge40,a3@30-34,a4@3-5>class@yes': (0.8, 4), 'a2@ge40,a3@30-34,a6@1>class@no': (1.0, 4), 'a2@ge40,a3@30-34,a8@central>class@yes': (1.0, 2), 'a2@ge40,a3@35-39,a8@left_up>class@no': (1.0, 2), 'a2@ge40,a3@40-44,a4@0-2>class@no': (0.8333333333333334, 5), 'a2@ge40,a3@40-44,a5@no>class@no': (0.8333333333333334, 5), 'a2@ge40,a3@40-44,a6@1>class@no': (1.0, 2), 'a2@ge40,a3@40-44,a8@left_up>class@no': (1.0, 3), 'a2@ge40,a3@40-44,a8@right_up>class@no': (1.0, 2), 'a2@ge40,a4@0-2,a5@no>class@no': (0.8166666666666667, 49), 'a2@ge40,a4@0-2,a6@1>class@no': (0.9090909090909091, 20), 'a2@ge40,a4@0-2,a7@left>class@no': (0.8529411764705882, 29), 'a2@ge40,a4@0-2,a8@central>class@no': (0.8, 4), 'a2@ge40,a4@0-2,a8@left_low>class@no': (0.8636363636363636, 19), 'a2@ge40,a4@0-2,a8@left_up>class@no': (0.84, 21), 'a2@ge40,a4@0-2,a9@no>class@no': (0.8392857142857143, 47), 'a2@ge40,a4@3-5,a5@no>class@yes': (1.0, 5), 'a2@ge40,a4@3-5,a6@3>class@yes': (0.8571428571428571, 6), 'a2@ge40,a4@6-8,a6@3>class@yes': (0.8333333333333334, 5), 'a2@ge40,a4@6-8,a7@left>class@yes': (0.8333333333333334, 5), 'a2@ge40,a4@6-8,a9@yes>class@yes': (1.0, 3), 'a2@ge40,a5@no,a6@1>class@no': (0.9090909090909091, 20), 'a2@ge40,a5@no,a8@central>class@no': (0.8, 4), 'a2@ge40,a5@no,a8@left_up>class@no': (0.8, 20), 'a2@ge40,a5@no,a8@right_up>class@no': (0.8571428571428571, 6), 'a2@ge40,a5@yes,a6@3>class@yes': (0.8, 8), 'a2@ge40,a5@yes,a8@left_up>class@no': (1.0, 3), 'a2@ge40,a5@yes,a8@right_low>class@yes': (1.0, 2), 'a2@ge40,a5@yes,a9@yes>class@yes': (0.8571428571428571, 6), 'a2@ge40,a6@1,a7@left>class@no': (0.8888888888888888, 8), 'a2@ge40,a6@1,a7@right>class@no': (0.8666666666666667, 13), 'a2@ge40,a6@1,a8@central>class@no': (1.0, 3), 'a2@ge40,a6@1,a8@left_low>class@no': (0.8888888888888888, 8), 'a2@ge40,a6@1,a8@left_up>class@no': (0.875, 7), 'a2@ge40,a6@1,a9@no>class@no': (0.9523809523809523, 20), 'a2@ge40,a6@2,a8@left_up>class@no': (0.8333333333333334, 10), 'a2@ge40,a6@2,a9@no>class@no': (0.8095238095238095, 17), 'a2@ge40,a6@3,a9@yes>class@yes': (1.0, 7), 'a2@ge40,a7@left,a8@left_up>class@no': (0.8571428571428571, 12), 'a2@ge40,a7@left,a8@right_up>class@no': (1.0, 2), 'a2@ge40,a7@left,a9@yes>class@yes': (0.8181818181818182, 9), 'a2@ge40,a8@central,a9@no>class@no': (0.8333333333333334, 5), 'a2@ge40,a8@left_low,a9@yes>class@yes': (0.875, 7), 'a2@ge40,a8@left_up,a9@yes>class@no': (1.0, 4), 'a2@ge40,a8@right_low,a9@yes>class@yes': (1.0, 2), 'a2@ge40,a8@right_up,a9@no>class@no': (0.875, 7), 'a2@ge40,a8@right_up,a9@yes>class@yes': (1.0, 2), 'a2@lt40,a5@no,a6@1>class@no': (1.0, 2), 'a2@lt40,a5@no,a7@left>class@no': (1.0, 3), 'a2@lt40,a5@no,a8@left_low>class@no': (1.0, 2), 'a2@premeno,a3@10-14,a4@0-2>class@no': (1.0, 10), 'a2@premeno,a3@10-14,a6@1>class@no': (1.0, 6), 'a2@premeno,a3@10-14,a6@2>class@no': (1.0, 5), 'a2@premeno,a3@10-14,a7@left>class@no': (1.0, 4), 'a2@premeno,a3@10-14,a7@right>class@no': (1.0, 7), 'a2@premeno,a3@10-14,a8@left_low>class@no': (1.0, 4), 'a2@premeno,a3@10-14,a8@left_up>class@no': (1.0, 5), 'a2@premeno,a3@15-19,a6@3>class@yes': (1.0, 2), 'a2@premeno,a3@20-24,a4@0-2>class@no': (0.875, 7), 'a2@premeno,a3@20-24,a5@no>class@no': (0.9090909090909091, 10), 'a2@premeno,a3@20-24,a6@1>class@no': (1.0, 2), 'a2@premeno,a3@20-24,a7@right>class@no': (1.0, 6), 'a2@premeno,a3@20-24,a8@left_up>class@no': (1.0, 4), 'a2@premeno,a3@20-24,a9@no>class@no': (0.8461538461538461, 11), 'a2@premeno,a3@25-29,a4@3-5>class@no': (1.0, 2), 'a2@premeno,a3@25-29,a6@3>class@yes': (0.8333333333333334, 5), 'a2@premeno,a3@25-29,a8@right_up>class@yes': (1.0, 3), 'a2@premeno,a3@35-39,a6@2>class@no': (1.0, 2), 'a2@premeno,a3@40-44,a4@3-5>class@no': (1.0, 2), 'a2@premeno,a3@40-44,a5@no>class@no': (0.8, 4), 'a2@premeno,a3@40-44,a6@2>class@no': (1.0, 2), 'a2@premeno,a3@40-44,a6@3>class@no': (1.0, 2), 'a2@premeno,a3@40-44,a7@right>class@no': (1.0, 4), 'a2@premeno,a3@40-44,a8@left_up>class@no': (1.0, 2), 'a2@premeno,a3@40-44,a8@right_up>class@no': (1.0, 2), 'a2@premeno,a3@40-44,a9@yes>class@no': (1.0, 3), 'a2@premeno,a4@0-2,a8@right_low>class@no': (1.0, 8), 'a2@premeno,a4@3-5,a5@no>class@no': (1.0, 6), 'a2@premeno,a4@3-5,a6@3>class@no': (1.0, 2), 'a2@premeno,a4@3-5,a7@right>class@no': (1.0, 7), 'a2@premeno,a4@3-5,a8@left_up>class@no': (1.0, 4), 'a2@premeno,a4@3-5,a9@no>class@no': (0.8333333333333334, 5), 'a2@premeno,a4@3-5,a9@yes>class@no': (0.8333333333333334, 5), 'a2@premeno,a4@6-8,a6@2>class@no': (1.0, 3), 'a2@premeno,a4@6-8,a6@3>class@yes': (1.0, 2), 'a2@premeno,a5@no,a8@right_low>class@no': (1.0, 8), 'a2@premeno,a5@yes,a6@3>class@yes': (0.8181818181818182, 9), 'a2@premeno,a6@1,a7@left>class@no': (0.8, 8), 'a2@premeno,a6@1,a8@right_up>class@no': (1.0, 2), 'a2@premeno,a6@2,a8@left_up>class@no': (0.8333333333333334, 15), 'a2@premeno,a6@3,a8@right_up>class@yes': (0.8, 4), 'a2@premeno,a7@left,a8@central>class@no': (1.0, 2), 'a2@premeno,a7@left,a8@right_low>class@no': (0.8, 4), 'a2@premeno,a7@left,a8@right_up>class@yes': (0.8, 4), 'a2@premeno,a8@right_low,a9@no>class@no': (1.0, 8), 'a2@premeno,a8@right_up,a9@yes>class@no': (1.0, 2), 'a3@10-14,a4@0-2,a6@1>class@no': (1.0, 11), 'a3@10-14,a4@0-2,a7@right>class@no': (1.0, 7), 'a3@10-14,a4@0-2,a8@left_up>class@no': (1.0, 7), 'a3@10-14,a6@1,a7@left>class@no': (1.0, 6), 'a3@10-14,a6@1,a7@right>class@no': (1.0, 6), 'a3@10-14,a6@1,a8@left_low>class@no': (1.0, 4), 'a3@10-14,a6@1,a8@left_up>class@no': (1.0, 6), 'a3@10-14,a6@2,a7@left>class@no': (1.0, 5), 'a3@10-14,a6@2,a7@right>class@no': (1.0, 2), 'a3@10-14,a6@2,a8@left_low>class@no': (1.0, 3), 'a3@10-14,a6@2,a8@left_up>class@no': (1.0, 2), 'a3@10-14,a7@left,a8@left_low>class@no': (1.0, 5), 'a3@10-14,a7@left,a8@left_up>class@no': (1.0, 3), 'a3@10-14,a7@right,a8@left_low>class@no': (1.0, 2), 'a3@10-14,a7@right,a8@left_up>class@no': (1.0, 5), 'a3@15-19,a4@0-2,a6@1>class@no': (0.8, 4), 'a3@15-19,a4@0-2,a7@left>class@no': (0.8333333333333334, 5), 'a3@15-19,a4@0-2,a9@no>class@no': (0.8, 12), 'a3@15-19,a5@no,a6@1>class@no': (0.8, 4), 'a3@15-19,a5@no,a7@left>class@no': (0.8333333333333334, 5), 'a3@15-19,a5@no,a7@right>class@no': (0.8888888888888888, 8), 'a3@15-19,a5@no,a8@left_up>class@no': (1.0, 4), 'a3@15-19,a5@no,a9@no>class@no': (0.8571428571428571, 12), 'a3@15-19,a6@1,a9@no>class@no': (0.8, 4), 'a3@15-19,a6@2,a7@left>class@no': (0.8, 4), 'a3@15-19,a6@2,a7@right>class@no': (1.0, 4), 'a3@15-19,a6@2,a8@left_low>class@no': (0.8333333333333334, 5), 'a3@15-19,a6@2,a8@left_up>class@no': (1.0, 2), 'a3@15-19,a6@2,a9@no>class@no': (0.875, 7), 'a3@20-24,a4@0-2,a6@3>class@no': (0.8571428571428571, 6), 'a3@20-24,a4@3-5,a6@3>class@yes': (1.0, 2), 'a3@20-24,a4@3-5,a8@left_up>class@no': (1.0, 2), 'a3@20-24,a4@3-5,a9@yes>class@yes': (1.0, 3), 'a3@20-24,a5@no,a6@1>class@no': (0.8333333333333334, 5), 'a3@20-24,a5@no,a7@left>class@no': (0.8, 12), 'a3@20-24,a5@no,a9@no>class@no': (0.8, 20), 'a3@20-24,a5@no,a9@yes>class@yes': (1.0, 2), 'a3@20-24,a5@yes,a6@3>class@yes': (1.0, 2), 'a3@20-24,a5@yes,a8@left_up>class@no': (1.0, 2), 'a3@20-24,a5@yes,a9@yes>class@yes': (1.0, 2), 'a3@20-24,a6@1,a8@left_up>class@yes': (1.0, 2), 'a3@20-24,a6@2,a7@right>class@no': (0.8888888888888888, 8), 'a3@20-24,a6@2,a8@left_up>class@no': (0.8, 8), 'a3@20-24,a6@2,a9@yes>class@yes': (1.0, 2), 'a3@20-24,a6@3,a7@left>class@no': (0.8571428571428571, 6), 'a3@20-24,a6@3,a7@right>class@yes': (1.0, 3), 'a3@20-24,a6@3,a8@left_up>class@no': (1.0, 4), 'a3@20-24,a6@3,a9@yes>class@yes': (1.0, 2), 'a3@20-24,a7@left,a9@yes>class@yes': (1.0, 3), 'a3@25-29,a4@0-2,a6@1>class@no': (0.8, 4), 'a3@25-29,a4@3-5,a6@2>class@no': (1.0, 2), 'a3@25-29,a4@3-5,a7@right>class@no': (1.0, 2), 'a3@25-29,a4@3-5,a8@left_low>class@no': (1.0, 2), 'a3@25-29,a4@6-8,a6@3>class@yes': (1.0, 2), 'a3@25-29,a4@6-8,a7@left>class@yes': (1.0, 2), 'a3@25-29,a5@no,a6@1>class@no': (0.8, 4), 'a3@25-29,a5@yes,a6@2>class@no': (1.0, 3), 'a3@25-29,a5@yes,a6@3>class@yes': (1.0, 3), 'a3@25-29,a5@yes,a8@right_low>class@yes': (1.0, 2), 'a3@25-29,a6@1,a7@left>class@no': (1.0, 2), 'a3@25-29,a6@1,a8@left_low>class@no': (1.0, 4), 'a3@25-29,a6@1,a9@yes>class@no': (1.0, 2), 'a3@25-29,a6@2,a8@left_up>class@no': (1.0, 5), 'a3@25-29,a6@2,a8@right_up>class@yes': (1.0, 2), 'a3@25-29,a6@2,a9@yes>class@no': (0.8, 4), 'a3@25-29,a6@3,a7@left>class@yes': (0.875, 7), 'a3@25-29,a6@3,a8@right_low>class@yes': (1.0, 3), 'a3@25-29,a6@3,a9@yes>class@yes': (0.8333333333333334, 5), 'a3@25-29,a7@left,a8@right_low>class@yes': (1.0, 3), 'a3@25-29,a7@right,a9@yes>class@no': (0.8333333333333334, 5), 'a3@25-29,a8@left_up,a9@yes>class@no': (1.0, 4), 'a3@30-34,a4@0-2,a5@yes>class@yes': (1.0, 2), 'a3@30-34,a4@0-2,a8@left_low>class@no': (0.8888888888888888, 8), 'a3@30-34,a4@3-5,a5@no>class@yes': (1.0, 3), 'a3@30-34,a4@6-8,a6@2>class@no': (1.0, 3), 'a3@30-34,a4@6-8,a6@3>class@yes': (1.0, 2), 'a3@30-34,a5@yes,a6@3>class@yes': (0.8333333333333334, 5), 'a3@30-34,a5@yes,a8@left_up>class@yes': (1.0, 2), 'a3@30-34,a6@1,a7@left>class@no': (0.8333333333333334, 5), 'a3@30-34,a6@1,a7@right>class@no': (0.8, 4), 'a3@30-34,a6@1,a8@right_up>class@no': (1.0, 2), 'a3@30-34,a6@1,a9@no>class@no': (0.9, 9), 'a3@30-34,a6@2,a8@left_low>class@no': (1.0, 2), 'a3@30-34,a6@2,a9@no>class@no': (0.8571428571428571, 6), 'a3@30-34,a6@3,a7@right>class@yes': (0.8571428571428571, 6), 'a3@30-34,a6@3,a8@left_up>class@yes': (0.8, 4), 'a3@30-34,a6@3,a8@right_up>class@yes': (1.0, 3), 'a3@30-34,a6@3,a9@yes>class@yes': (1.0, 2), 'a3@30-34,a7@right,a8@left_low>class@no': (1.0, 2), 'a3@35-39,a5@yes,a7@left>class@yes': (1.0, 2), 'a3@35-39,a5@yes,a7@right>class@no': (1.0, 2), 'a3@35-39,a5@yes,a8@left_low>class@yes': (1.0, 2), 'a3@35-39,a5@yes,a8@left_up>class@no': (1.0, 2), 'a3@35-39,a5@yes,a9@no>class@yes': (1.0, 2), 'a3@35-39,a6@2,a7@right>class@no': (1.0, 2), 'a3@35-39,a6@2,a8@left_up>class@no': (1.0, 2), 'a3@35-39,a6@3,a8@left_low>class@yes': (0.8, 4), 'a3@35-39,a6@3,a8@left_up>class@no': (1.0, 2), 'a3@35-39,a7@left,a8@left_up>class@no': (1.0, 2), 'a3@40-44,a4@0-2,a6@3>class@no': (1.0, 2), 'a3@40-44,a4@0-2,a7@right>class@no': (0.8333333333333334, 5), 'a3@40-44,a4@0-2,a8@left_up>class@no': (1.0, 3), 'a3@40-44,a4@0-2,a8@right_up>class@no': (1.0, 3), 'a3@40-44,a4@3-5,a9@yes>class@no': (1.0, 2), 'a3@40-44,a5@no,a6@3>class@no': (1.0, 3), 'a3@40-44,a5@no,a7@right>class@no': (0.8571428571428571, 6), 'a3@40-44,a5@no,a8@left_up>class@no': (1.0, 3), 'a3@40-44,a5@no,a9@yes>class@no': (1.0, 2), 'a3@40-44,a5@yes,a6@2>class@no': (1.0, 2), 'a3@40-44,a5@yes,a8@left_up>class@no': (1.0, 2), 'a3@40-44,a6@1,a7@right>class@no': (1.0, 3), 'a3@40-44,a6@1,a8@left_up>class@no': (1.0, 2), 'a3@40-44,a6@2,a7@left>class@no': (1.0, 3), 'a3@40-44,a6@2,a9@yes>class@no': (1.0, 2), 'a3@40-44,a6@3,a8@left_low>class@yes': (1.0, 3), 'a3@40-44,a6@3,a8@left_up>class@no': (1.0, 2), 'a3@40-44,a6@3,a8@right_up>class@no': (1.0, 2), 'a3@40-44,a7@right,a8@left_low>class@yes': (1.0, 2), 'a3@40-44,a7@right,a8@right_up>class@no': (1.0, 3), 'a3@40-44,a7@right,a9@yes>class@no': (1.0, 3), 'a3@40-44,a8@left_up,a9@no>class@no': (1.0, 3), 'a3@40-44,a8@left_up,a9@yes>class@no': (1.0, 2), 'a3@40-44,a8@right_up,a9@no>class@no': (1.0, 3), 'a3@50-54,a4@0-2,a8@left_up>class@no': (1.0, 2), 'a3@50-54,a8@left_up,a9@yes>class@no': (1.0, 2), 'a4@0-2,a5@no,a6@1>class@no': (0.8297872340425532, 39), 'a4@0-2,a5@yes,a8@left_up>class@no': (0.8, 4), 'a4@0-2,a5@yes,a8@right_up>class@yes': (1.0, 2), 'a4@0-2,a6@1,a7@left>class@no': (0.8181818181818182, 18), 'a4@0-2,a6@1,a9@no>class@no': (0.8260869565217391, 38), 'a4@0-2,a6@2,a8@left_up>class@no': (0.8571428571428571, 18), 'a4@0-2,a7@left,a8@central>class@no': (1.0, 3), 'a4@0-2,a7@left,a8@right_low>class@no': (0.8, 4), 'a4@0-2,a8@left_up,a9@yes>class@no': (0.875, 7), 'a4@0-2,a8@right_low,a9@no>class@no': (1.0, 8), 'a4@3-5,a5@no,a6@2>class@no': (0.8, 4), 'a4@3-5,a5@no,a6@3>class@yes': (0.8, 4), 'a4@3-5,a5@no,a7@left>class@yes': (1.0, 3), 'a4@3-5,a5@no,a8@left_low>class@yes': (0.8, 4), 'a4@3-5,a5@yes,a8@left_up>class@no': (1.0, 2), 'a4@3-5,a6@2,a7@right>class@no': (1.0, 5), 'a4@3-5,a6@2,a8@left_up>class@no': (1.0, 3), 'a4@3-5,a6@2,a9@no>class@no': (0.8571428571428571, 6), 'a4@3-5,a6@3,a8@left_low>class@yes': (0.8, 4), 'a4@3-5,a6@3,a9@no>class@yes': (0.8333333333333334, 5), 'a4@3-5,a7@right,a9@yes>class@no': (0.8, 4), 'a4@3-5,a8@left_up,a9@yes>class@no': (1.0, 2), 'a4@6-8,a5@yes,a6@2>class@no': (1.0, 3), 'a4@6-8,a5@yes,a6@3>class@yes': (0.8571428571428571, 6), 'a4@6-8,a5@yes,a7@left>class@yes': (0.8333333333333334, 5), 'a4@6-8,a5@yes,a8@left_low>class@yes': (1.0, 3), 'a4@6-8,a6@2,a7@right>class@no': (1.0, 3), 'a4@6-8,a6@2,a8@left_up>class@no': (1.0, 2), 'a4@6-8,a6@2,a9@no>class@no': (1.0, 3), 'a4@6-8,a6@3,a7@left>class@yes': (0.8571428571428571, 6), 'a4@6-8,a6@3,a9@yes>class@yes': (1.0, 4), 'a4@6-8,a7@left,a9@yes>class@yes': (1.0, 4), 'a4@6-8,a8@left_low,a9@yes>class@yes': (1.0, 3), 'a4@9-11,a7@right,a9@no>class@yes': (1.0, 2), 'a4@9-11,a8@left_up,a9@no>class@yes': (1.0, 2), 'a5@?,a7@left,a8@left_low>class@yes': (1.0, 2), 'a5@no,a6@1,a7@left>class@no': (0.9, 18), 'a5@no,a6@1,a8@left_low>class@no': (0.8333333333333334, 15), 'a5@no,a6@1,a9@no>class@no': (0.8666666666666667, 39), 'a5@no,a6@2,a8@left_up>class@no': (0.8181818181818182, 18), 'a5@no,a7@left,a8@central>class@no': (1.0, 3), 'a5@no,a7@left,a8@left_up>class@no': (0.8181818181818182, 18), 'a5@no,a7@left,a8@right_low>class@no': (0.8, 4), 'a5@no,a7@right,a8@right_up>class@no': (0.8181818181818182, 9), 'a5@no,a8@right_low,a9@no>class@no': (1.0, 8), 'a5@yes,a6@2,a7@right>class@no': (0.8, 8), 'a5@yes,a6@2,a8@left_up>class@no': (0.875, 7), 'a5@yes,a6@3,a7@left>class@yes': (0.8461538461538461, 11), 'a5@yes,a6@3,a8@left_low>class@yes': (0.8888888888888888, 8), 'a5@yes,a6@3,a8@right_up>class@yes': (1.0, 2), 'a5@yes,a6@3,a9@no>class@yes': (0.8461538461538461, 11), 'a5@yes,a7@left,a9@yes>class@yes': (0.8, 8), 'a5@yes,a7@right,a9@yes>class@no': (0.8571428571428571, 6), 'a5@yes,a8@left_up,a9@yes>class@no': (0.8571428571428571, 6), 'a5@yes,a8@right_low,a9@yes>class@yes': (1.0, 2), 'a6@1,a7@left,a8@right_up>class@no': (1.0, 2), 'a6@1,a7@left,a9@no>class@no': (0.8571428571428571, 18), 'a6@1,a7@left,a9@yes>class@yes': (1.0, 2), 'a6@1,a7@right,a8@central>class@no': (1.0, 3), 'a6@1,a7@right,a8@left_low>class@no': (0.8333333333333334, 5), 'a6@1,a7@right,a8@right_low>class@no': (1.0, 2), 'a6@1,a7@right,a8@right_up>class@no': (0.8, 4), 'a6@1,a7@right,a9@no>class@no': (0.8076923076923077, 21), 'a6@1,a8@left_low,a9@no>class@no': (0.8235294117647058, 14), 'a6@1,a8@right_up,a9@no>class@no': (1.0, 6), 'a6@2,a7@left,a8@left_up>class@no': (0.8333333333333334, 10), 'a6@2,a7@left,a8@right_low>class@no': (1.0, 3), 'a6@2,a7@left,a8@right_up>class@yes': (1.0, 2), 'a6@2,a7@right,a8@left_up>class@no': (0.8333333333333334, 15), 'a6@2,a7@right,a8@right_low>class@no': (1.0, 2), 'a6@2,a7@right,a8@right_up>class@no': (0.8571428571428571, 6), 'a6@2,a8@left_up,a9@no>class@no': (0.8, 16), 'a6@2,a8@left_up,a9@yes>class@no': (0.9, 9), 'a6@3,a7@left,a8@central>class@no': (1.0, 2), 'a6@3,a7@left,a9@yes>class@yes': (1.0, 8), 'a6@3,a8@left_low,a9@yes>class@yes': (1.0, 6), 'a7@left,a8@central,a9@no>class@no': (1.0, 4), 'a7@left,a8@right_low,a9@no>class@no': (0.8, 4), 'a7@right,a8@left_up,a9@yes>class@no': (0.8181818181818182, 9), 'a1@30-39,a3@20-24,a5@no,a6@2>class@no': (1.0, 2), 'a1@30-39,a3@20-24,a5@no,a7@left>class@no': (1.0, 2), 'a1@30-39,a3@30-34,a5@no,a7@right>class@yes': (1.0, 2), 'a1@30-39,a3@30-34,a7@right,a8@left_up>class@yes': (1.0, 2), 'a1@30-39,a4@0-2,a6@2,a7@left>class@no': (0.8333333333333334, 5), 'a1@30-39,a4@0-2,a6@2,a8@left_low>class@no': (1.0, 2), 'a1@30-39,a5@no,a6@2,a7@left>class@no': (0.8333333333333334, 5), 'a1@30-39,a5@no,a6@2,a8@left_low>class@no': (1.0, 2), 'a1@30-39,a5@yes,a7@left,a9@no>class@yes': (1.0, 2), 'a1@30-39,a6@2,a7@right,a9@no>class@no': (0.8, 4), 'a1@40-49,a2@ge40,a3@20-24,a7@left>class@no': (1.0, 2), 'a1@40-49,a2@ge40,a3@20-24,a7@right>class@yes': (1.0, 2), 'a1@40-49,a2@ge40,a4@0-2,a6@3>class@no': (1.0, 2), 'a1@40-49,a2@ge40,a4@0-2,a7@left>class@no': (1.0, 4), 'a1@40-49,a2@ge40,a4@0-2,a8@left_low>class@no': (1.0, 2), 'a1@40-49,a2@ge40,a5@no,a7@left>class@no': (0.8, 4), 'a1@40-49,a2@ge40,a5@no,a7@right>class@yes': (1.0, 2), 'a1@40-49,a2@ge40,a6@2,a7@left>class@no': (1.0, 2), 'a1@40-49,a2@ge40,a6@2,a9@yes>class@no': (1.0, 2), 'a1@40-49,a2@ge40,a6@3,a9@yes>class@yes': (1.0, 2), 'a1@40-49,a2@ge40,a7@left,a8@left_up>class@no': (1.0, 2), 'a1@40-49,a2@ge40,a8@left_up,a9@yes>class@no': (1.0, 2), 'a1@40-49,a2@premeno,a3@20-24,a4@0-2>class@no': (0.8333333333333334, 5), 'a1@40-49,a2@premeno,a3@20-24,a5@no>class@no': (0.875, 7), 'a1@40-49,a2@premeno,a3@20-24,a7@right>class@no': (1.0, 5), 'a1@40-49,a2@premeno,a3@20-24,a9@no>class@no': (0.875, 7), 'a1@40-49,a2@premeno,a3@30-34,a6@2>class@no': (1.0, 3), 'a1@40-49,a2@premeno,a3@30-34,a6@3>class@yes': (0.8333333333333334, 5), 'a1@40-49,a2@premeno,a3@40-44,a7@right>class@no': (1.0, 2), 'a1@40-49,a2@premeno,a4@0-2,a8@left_up>class@no': (0.8235294117647058, 14), 'a1@40-49,a2@premeno,a4@3-5,a5@no>class@no': (1.0, 2), 'a1@40-49,a2@premeno,a4@3-5,a7@right>class@no': (1.0, 3), 'a1@40-49,a2@premeno,a4@3-5,a9@no>class@no': (1.0, 2), 'a1@40-49,a2@premeno,a5@no,a7@right>class@no': (0.8076923076923077, 21), 'a1@40-49,a2@premeno,a5@no,a8@left_up>class@no': (0.8823529411764706, 15), 'a1@40-49,a2@premeno,a5@yes,a7@left>class@yes': (1.0, 4), 'a1@40-49,a2@premeno,a6@2,a7@right>class@no': (0.8125, 13), 'a1@40-49,a2@premeno,a6@2,a8@left_up>class@no': (1.0, 10), 'a1@40-49,a2@premeno,a6@2,a9@no>class@no': (0.8333333333333334, 15), 'a1@40-49,a2@premeno,a6@3,a7@left>class@yes': (0.8333333333333334, 5), 'a1@40-49,a2@premeno,a6@3,a8@left_low>class@yes': (1.0, 2), 'a1@40-49,a2@premeno,a6@3,a9@no>class@yes': (0.9, 9), 'a1@40-49,a2@premeno,a7@right,a9@yes>class@no': (0.8571428571428571, 6), 'a1@40-49,a2@premeno,a8@left_up,a9@yes>class@no': (0.8333333333333334, 5), 'a1@40-49,a3@10-14,a6@1,a8@left_up>class@no': (1.0, 2), 'a1@40-49,a3@10-14,a7@right,a8@left_up>class@no': (1.0, 3), 'a1@40-49,a3@20-24,a4@0-2,a6@3>class@no': (1.0, 2), 'a1@40-49,a3@20-24,a4@0-2,a7@left>class@no': (0.8, 4), 'a1@40-49,a3@20-24,a4@0-2,a8@left_up>class@no': (0.8, 4), 'a1@40-49,a3@20-24,a4@3-5,a9@no>class@no': (1.0, 2), 'a1@40-49,a3@20-24,a5@no,a7@left>class@no': (0.8, 4), 'a1@40-49,a3@20-24,a6@2,a7@right>class@no': (0.8, 4), 'a1@40-49,a3@20-24,a6@2,a8@left_up>class@no': (0.8, 4), 'a1@40-49,a3@20-24,a6@3,a7@left>class@no': (1.0, 2), 'a1@40-49,a3@20-24,a6@3,a9@no>class@no': (1.0, 2), 'a1@40-49,a3@20-24,a7@left,a8@left_up>class@no': (1.0, 2), 'a1@40-49,a3@20-24,a7@left,a9@no>class@no': (0.8, 4), 'a1@40-49,a3@20-24,a7@right,a9@no>class@no': (0.8333333333333334, 5), 'a1@40-49,a3@25-29,a6@2,a8@left_up>class@no': (1.0, 2), 'a1@40-49,a3@25-29,a6@3,a7@left>class@yes': (1.0, 3), 'a1@40-49,a3@25-29,a6@3,a9@no>class@yes': (1.0, 3), 'a1@40-49,a3@25-29,a7@right,a9@yes>class@no': (1.0, 2), 'a1@40-49,a3@25-29,a8@left_up,a9@yes>class@no': (1.0, 2), 'a1@40-49,a3@30-34,a4@0-2,a6@2>class@no': (1.0, 3), 'a1@40-49,a3@30-34,a4@0-2,a7@left>class@no': (0.8, 4), 'a1@40-49,a3@30-34,a4@0-2,a8@left_up>class@no': (1.0, 3), 'a1@40-49,a3@30-34,a5@no,a8@left_up>class@no': (1.0, 4), 'a1@40-49,a3@30-34,a5@yes,a7@left>class@yes': (1.0, 2), 'a1@40-49,a3@30-34,a5@yes,a7@right>class@yes': (1.0, 2), 'a1@40-49,a3@30-34,a5@yes,a9@no>class@yes': (1.0, 3), 'a1@40-49,a3@30-34,a6@1,a9@no>class@no': (1.0, 3), 'a1@40-49,a3@30-34,a6@2,a7@left>class@no': (1.0, 2), 'a1@40-49,a3@30-34,a6@2,a7@right>class@no': (1.0, 2), 'a1@40-49,a3@30-34,a6@2,a8@left_up>class@no': (1.0, 2), 'a1@40-49,a3@30-34,a6@2,a9@no>class@no': (1.0, 2), 'a1@40-49,a3@30-34,a6@2,a9@yes>class@no': (1.0, 2), 'a1@40-49,a3@30-34,a6@3,a7@right>class@yes': (1.0, 3), 'a1@40-49,a3@30-34,a6@3,a8@left_low>class@yes': (1.0, 2), 'a1@40-49,a3@30-34,a6@3,a8@right_up>class@yes': (1.0, 2), 'a1@40-49,a3@30-34,a6@3,a9@no>class@yes': (0.8333333333333334, 5), 'a1@40-49,a4@0-2,a5@no,a8@left_up>class@no': (0.8333333333333334, 15), 'a1@40-49,a4@0-2,a5@yes,a9@no>class@yes': (1.0, 2), 'a1@40-49,a4@0-2,a6@2,a8@left_up>class@no': (0.8888888888888888, 8), 'a1@40-49,a4@0-2,a6@3,a9@yes>class@no': (1.0, 2), 'a1@40-49,a4@0-2,a7@left,a8@left_up>class@no': (0.8571428571428571, 6), 'a1@40-49,a4@0-2,a7@right,a9@yes>class@no': (0.8, 4), 'a1@40-49,a4@0-2,a8@left_up,a9@yes>class@no': (1.0, 4), 'a1@40-49,a4@3-5,a5@no,a6@2>class@no': (1.0, 2), 'a1@40-49,a4@3-5,a5@no,a6@3>class@yes': (1.0, 2), 'a1@40-49,a4@3-5,a6@2,a7@right>class@no': (1.0, 2), 'a1@40-49,a4@3-5,a6@2,a9@no>class@no': (1.0, 2), 'a1@40-49,a4@3-5,a6@3,a8@left_low>class@yes': (1.0, 2), 'a1@40-49,a4@3-5,a7@right,a9@no>class@no': (1.0, 2), 'a1@40-49,a4@3-5,a8@left_low,a9@yes>class@yes': (1.0, 2), 'a1@40-49,a5@no,a6@2,a7@left>class@no': (0.8, 8), 'a1@40-49,a5@no,a6@2,a8@left_up>class@no': (0.9090909090909091, 10), 'a1@40-49,a5@no,a6@3,a8@right_up>class@yes': (1.0, 2), 'a1@40-49,a5@no,a7@left,a8@left_up>class@no': (0.875, 7), 'a1@40-49,a5@no,a7@right,a8@left_up>class@no': (0.8333333333333334, 10), 'a1@40-49,a5@no,a8@left_up,a9@no>class@no': (0.8235294117647058, 14), 'a1@40-49,a5@no,a8@left_up,a9@yes>class@no': (1.0, 3), 'a1@40-49,a5@yes,a6@2,a7@right>class@no': (1.0, 2), 'a1@40-49,a5@yes,a6@2,a8@left_up>class@no': (1.0, 2), 'a1@40-49,a5@yes,a6@3,a7@left>class@yes': (1.0, 4), 'a1@40-49,a5@yes,a6@3,a8@left_low>class@yes': (1.0, 2), 'a1@40-49,a5@yes,a7@left,a9@no>class@yes': (1.0, 2), 'a1@40-49,a5@yes,a7@left,a9@yes>class@yes': (1.0, 3), 'a1@40-49,a5@yes,a7@right,a9@no>class@yes': (1.0, 4), 'a1@40-49,a5@yes,a7@right,a9@yes>class@no': (1.0, 4), 'a1@40-49,a5@yes,a8@left_low,a9@no>class@yes': (1.0, 2), 'a1@40-49,a5@yes,a8@left_up,a9@no>class@yes': (1.0, 3), 'a1@40-49,a5@yes,a8@left_up,a9@yes>class@no': (0.8, 4), 'a1@40-49,a6@1,a7@left,a9@no>class@no': (0.8, 4), 'a1@40-49,a6@1,a7@right,a9@no>class@no': (0.875, 7), 'a1@40-49,a6@2,a7@left,a8@left_up>class@no': (1.0, 5), 'a1@40-49,a6@2,a7@left,a9@no>class@no': (0.8333333333333334, 5), 'a1@40-49,a6@2,a7@right,a8@left_up>class@no': (0.875, 7), 'a1@40-49,a6@2,a8@left_up,a9@no>class@no': (0.8888888888888888, 8), 'a1@40-49,a6@2,a8@left_up,a9@yes>class@no': (1.0, 4), 'a1@40-49,a6@3,a7@left,a9@yes>class@yes': (1.0, 2), 'a1@40-49,a6@3,a7@right,a8@right_up>class@yes': (1.0, 2), 'a1@40-49,a6@3,a7@right,a9@no>class@yes': (1.0, 5), 'a1@40-49,a7@left,a8@left_up,a9@no>class@no': (0.8333333333333334, 5), 'a1@40-49,a7@right,a8@left_up,a9@yes>class@no': (1.0, 5), 'a1@50-59,a2@ge40,a3@10-14,a6@1>class@no': (1.0, 2), 'a1@50-59,a2@ge40,a3@10-14,a7@left>class@no': (1.0, 2), 'a1@50-59,a2@ge40,a3@10-14,a8@left_low>class@no': (1.0, 2), 'a1@50-59,a2@ge40,a3@20-24,a4@0-2>class@no': (0.8333333333333334, 5), 'a1@50-59,a2@ge40,a3@20-24,a8@left_up>class@no': (0.8333333333333334, 5), 'a1@50-59,a2@ge40,a3@25-29,a4@0-2>class@no': (1.0, 2), 'a1@50-59,a2@ge40,a3@25-29,a9@no>class@no': (1.0, 2), 'a1@50-59,a2@ge40,a3@30-34,a4@0-2>class@no': (0.8, 4), 'a1@50-59,a2@ge40,a3@30-34,a4@3-5>class@yes': (1.0, 2), 'a1@50-59,a2@ge40,a3@30-34,a6@1>class@no': (1.0, 3), 'a1@50-59,a2@ge40,a3@30-34,a6@3>class@yes': (0.8, 4), 'a1@50-59,a2@ge40,a4@0-2,a5@no>class@no': (0.8888888888888888, 24), 'a1@50-59,a2@ge40,a4@0-2,a6@3>class@no': (0.8888888888888888, 8), 'a1@50-59,a2@ge40,a4@0-2,a7@left>class@no': (0.8, 12), 'a1@50-59,a2@ge40,a4@0-2,a7@right>class@no': (1.0, 13), 'a1@50-59,a2@ge40,a4@0-2,a8@left_low>class@no': (0.8888888888888888, 8), 'a1@50-59,a2@ge40,a4@0-2,a8@left_up>class@no': (0.9, 9), 'a1@50-59,a2@ge40,a4@0-2,a8@right_up>class@no': (1.0, 5), 'a1@50-59,a2@ge40,a4@3-5,a5@no>class@yes': (1.0, 2), 'a1@50-59,a2@ge40,a4@3-5,a6@2>class@no': (1.0, 2), 'a1@50-59,a2@ge40,a5@no,a7@right>class@no': (0.9230769230769231, 12), 'a1@50-59,a2@ge40,a5@no,a8@left_up>class@no': (0.8, 8), 'a1@50-59,a2@ge40,a5@no,a8@right_up>class@no': (1.0, 5), 'a1@50-59,a2@ge40,a5@no,a9@no>class@no': (0.8275862068965517, 24), 'a1@50-59,a2@ge40,a5@yes,a6@2>class@no': (1.0, 3), 'a1@50-59,a2@ge40,a5@yes,a8@left_up>class@no': (1.0, 2), 'a1@50-59,a2@ge40,a5@yes,a9@yes>class@yes': (1.0, 2), 'a1@50-59,a2@ge40,a6@1,a7@left>class@no': (1.0, 3), 'a1@50-59,a2@ge40,a6@1,a7@right>class@no': (1.0, 8), 'a1@50-59,a2@ge40,a6@1,a8@left_low>class@no': (1.0, 4), 'a1@50-59,a2@ge40,a6@1,a8@left_up>class@no': (1.0, 2), 'a1@50-59,a2@ge40,a6@2,a7@right>class@no': (1.0, 4), 'a1@50-59,a2@ge40,a6@2,a8@left_up>class@no': (0.8, 4), 'a1@50-59,a2@ge40,a6@3,a8@left_up>class@no': (0.8, 4), 'a1@50-59,a2@ge40,a7@left,a8@left_up>class@no': (0.8333333333333334, 5), 'a1@50-59,a2@ge40,a7@right,a8@left_low>class@no': (1.0, 3), 'a1@50-59,a2@ge40,a7@right,a8@left_up>class@no': (0.8333333333333334, 5), 'a1@50-59,a2@ge40,a8@left_low,a9@no>class@no': (0.8181818181818182, 9), 'a1@50-59,a2@premeno,a3@25-29,a8@right_up>class@yes': (1.0, 2), 'a1@50-59,a2@premeno,a3@30-34,a8@left_low>class@no': (1.0, 2), 'a1@50-59,a2@premeno,a4@0-2,a5@yes>class@no': (1.0, 2), 'a1@50-59,a2@premeno,a4@3-5,a5@no>class@no': (1.0, 2), 'a1@50-59,a2@premeno,a4@3-5,a5@yes>class@no': (1.0, 3), 'a1@50-59,a2@premeno,a4@3-5,a6@2>class@no': (1.0, 4), 'a1@50-59,a2@premeno,a4@3-5,a7@left>class@no': (1.0, 3), 'a1@50-59,a2@premeno,a4@3-5,a7@right>class@no': (1.0, 2), 'a1@50-59,a2@premeno,a4@3-5,a8@left_low>class@no': (1.0, 3), 'a1@50-59,a2@premeno,a4@3-5,a8@left_up>class@no': (1.0, 2), 'a1@50-59,a2@premeno,a4@3-5,a9@no>class@no': (1.0, 2), 'a1@50-59,a2@premeno,a5@yes,a7@left>class@no': (1.0, 4), 'a1@50-59,a2@premeno,a5@yes,a8@left_low>class@no': (1.0, 3), 'a1@50-59,a2@premeno,a5@yes,a9@yes>class@no': (1.0, 3), 'a1@50-59,a2@premeno,a6@1,a7@left>class@no': (1.0, 3), 'a1@50-59,a2@premeno,a6@1,a8@left_low>class@no': (1.0, 2), 'a1@50-59,a2@premeno,a6@2,a8@left_low>class@no': (0.8333333333333334, 5), 'a1@50-59,a2@premeno,a6@2,a8@right_up>class@yes': (1.0, 2), 'a1@50-59,a2@premeno,a6@3,a7@right>class@yes': (1.0, 2), 'a1@50-59,a2@premeno,a6@3,a9@yes>class@yes': (1.0, 2), 'a1@50-59,a2@premeno,a7@left,a8@left_low>class@no': (0.875, 7), 'a1@50-59,a2@premeno,a7@left,a9@yes>class@no': (1.0, 2), 'a1@50-59,a2@premeno,a8@left_low,a9@no>class@no': (0.8571428571428571, 6), 'a1@50-59,a3@10-14,a4@0-2,a6@1>class@no': (1.0, 3), 'a1@50-59,a3@10-14,a6@1,a7@left>class@no': (1.0, 2), 'a1@50-59,a3@10-14,a6@1,a8@left_low>class@no': (1.0, 2), 'a1@50-59,a3@15-19,a6@2,a7@right>class@no': (1.0, 2), 'a1@50-59,a3@20-24,a4@0-2,a6@3>class@no': (1.0, 2), 'a1@50-59,a3@20-24,a4@0-2,a7@right>class@no': (1.0, 3), 'a1@50-59,a3@20-24,a4@3-5,a6@2>class@no': (1.0, 2), 'a1@50-59,a3@20-24,a5@no,a6@3>class@no': (1.0, 2), 'a1@50-59,a3@20-24,a5@no,a7@right>class@no': (1.0, 2), 'a1@50-59,a3@20-24,a5@yes,a6@2>class@no': (1.0, 3), 'a1@50-59,a3@20-24,a6@1,a7@left>class@yes': (1.0, 2), 'a1@50-59,a3@20-24,a6@2,a7@right>class@no': (1.0, 3), 'a1@50-59,a3@20-24,a6@3,a7@left>class@no': (1.0, 2), 'a1@50-59,a3@20-24,a6@3,a8@left_up>class@no': (1.0, 2), 'a1@50-59,a3@20-24,a7@right,a8@left_up>class@no': (1.0, 3), 'a1@50-59,a3@25-29,a4@0-2,a7@right>class@yes': (1.0, 2), 'a1@50-59,a3@25-29,a6@1,a8@left_low>class@no': (1.0, 2), 'a1@50-59,a3@25-29,a6@2,a8@left_low>class@no': (1.0, 2), 'a1@50-59,a3@25-29,a6@2,a8@left_up>class@no': (1.0, 2), 'a1@50-59,a3@25-29,a6@2,a9@yes>class@no': (1.0, 2), 'a1@50-59,a3@25-29,a6@3,a8@left_low>class@yes': (1.0, 2), 'a1@50-59,a3@25-29,a6@3,a9@yes>class@yes': (1.0, 2), 'a1@50-59,a3@25-29,a7@left,a8@left_low>class@no': (0.8, 4), 'a1@50-59,a3@25-29,a8@left_low,a9@no>class@no': (1.0, 3), 'a1@50-59,a3@30-34,a4@0-2,a8@left_low>class@no': (1.0, 3), 'a1@50-59,a3@30-34,a4@3-5,a5@no>class@yes': (1.0, 2), 'a1@50-59,a3@30-34,a4@3-5,a6@3>class@yes': (1.0, 2), 'a1@50-59,a3@30-34,a4@3-5,a9@no>class@yes': (1.0, 2), 'a1@50-59,a3@30-34,a6@1,a7@left>class@no': (1.0, 2), 'a1@50-59,a3@30-34,a6@1,a7@right>class@no': (1.0, 2), 'a1@50-59,a3@30-34,a6@3,a7@left>class@yes': (0.8, 4), 'a1@50-59,a3@30-34,a6@3,a8@left_up>class@yes': (1.0, 2), 'a1@50-59,a3@30-34,a7@right,a8@left_up>class@yes': (1.0, 2), 'a1@50-59,a3@40-44,a4@0-2,a7@left>class@no': (1.0, 2), 'a1@50-59,a3@40-44,a5@no,a6@3>class@no': (1.0, 2), 'a1@50-59,a3@40-44,a5@no,a7@left>class@no': (1.0, 2), 'a1@50-59,a3@40-44,a5@yes,a6@3>class@yes': (1.0, 2), 'a1@50-59,a3@40-44,a6@3,a8@left_low>class@yes': (1.0, 2), 'a1@50-59,a3@40-44,a6@3,a9@no>class@no': (1.0, 2), 'a1@50-59,a3@40-44,a7@left,a9@no>class@no': (1.0, 3), 'a1@50-59,a3@40-44,a8@left_low,a9@no>class@no': (1.0, 2), 'a1@50-59,a4@0-2,a5@no,a6@1>class@no': (0.9333333333333333, 14), 'a1@50-59,a4@0-2,a5@no,a7@right>class@no': (0.8125, 13), 'a1@50-59,a4@0-2,a5@no,a8@left_low>class@no': (0.8235294117647058, 14), 'a1@50-59,a4@0-2,a5@no,a9@yes>class@yes': (1.0, 2), 'a1@50-59,a4@0-2,a5@yes,a7@right>class@no': (1.0, 2), 'a1@50-59,a4@0-2,a5@yes,a9@no>class@no': (1.0, 2), 'a1@50-59,a4@0-2,a6@1,a7@right>class@no': (0.8888888888888888, 8), 'a1@50-59,a4@0-2,a6@2,a7@right>class@no': (1.0, 5), 'a1@50-59,a4@0-2,a6@2,a8@left_up>class@no': (0.8333333333333334, 5), 'a1@50-59,a4@0-2,a6@3,a8@left_up>class@no': (0.8, 4), 'a1@50-59,a4@0-2,a6@3,a9@no>class@no': (0.8181818181818182, 9), 'a1@50-59,a4@0-2,a6@3,a9@yes>class@yes': (1.0, 2), 'a1@50-59,a4@0-2,a7@right,a8@right_up>class@no': (1.0, 3), 'a1@50-59,a4@0-2,a7@right,a9@no>class@no': (0.9333333333333333, 14), 'a1@50-59,a4@0-2,a8@left_low,a9@no>class@no': (0.8235294117647058, 14), 'a1@50-59,a4@3-5,a5@no,a6@3>class@yes': (1.0, 2), 'a1@50-59,a4@3-5,a5@yes,a6@2>class@no': (1.0, 5), 'a1@50-59,a4@3-5,a5@yes,a7@left>class@no': (1.0, 4), 'a1@50-59,a4@3-5,a5@yes,a8@left_low>class@no': (1.0, 4), 'a1@50-59,a4@3-5,a5@yes,a9@yes>class@no': (1.0, 2), 'a1@50-59,a4@3-5,a6@2,a7@left>class@no': (1.0, 4), 'a1@50-59,a4@3-5,a6@2,a7@right>class@no': (1.0, 2), 'a1@50-59,a4@3-5,a6@2,a8@left_low>class@no': (1.0, 4), 'a1@50-59,a4@3-5,a6@2,a8@left_up>class@no': (1.0, 2), 'a1@50-59,a4@3-5,a6@2,a9@no>class@no': (1.0, 3), 'a1@50-59,a4@3-5,a6@3,a7@right>class@yes': (1.0, 2), 'a1@50-59,a4@3-5,a7@left,a9@yes>class@no': (1.0, 2), 'a1@50-59,a4@3-5,a8@left_low,a9@yes>class@no': (1.0, 2), 'a1@50-59,a4@6-8,a5@yes,a8@left_low>class@yes': (1.0, 2), 'a1@50-59,a4@6-8,a5@yes,a9@yes>class@yes': (1.0, 2), 'a1@50-59,a5@no,a6@1,a7@left>class@no': (1.0, 6), 'a1@50-59,a5@no,a6@1,a8@left_low>class@no': (1.0, 6), 'a1@50-59,a5@no,a6@2,a7@right>class@no': (1.0, 4), 'a1@50-59,a5@no,a6@3,a9@yes>class@yes': (1.0, 3), 'a1@50-59,a5@no,a7@left,a8@left_up>class@no': (0.8333333333333334, 5), 'a1@50-59,a5@no,a7@right,a8@right_up>class@no': (1.0, 3), 'a1@50-59,a5@no,a7@right,a9@no>class@no': (0.875, 14), 'a1@50-59,a5@no,a8@left_low,a9@no>class@no': (0.8235294117647058, 14), 'a1@50-59,a5@no,a8@left_low,a9@yes>class@yes': (1.0, 2), 'a1@50-59,a5@yes,a6@2,a7@left>class@no': (1.0, 5), 'a1@50-59,a5@yes,a6@2,a8@left_low>class@no': (1.0, 4), 'a1@50-59,a5@yes,a6@2,a9@no>class@no': (0.8333333333333334, 5), 'a1@50-59,a5@yes,a6@2,a9@yes>class@no': (1.0, 3), 'a1@50-59,a5@yes,a6@3,a7@left>class@yes': (1.0, 3), 'a1@50-59,a5@yes,a6@3,a8@left_low>class@yes': (1.0, 2), 'a1@50-59,a5@yes,a6@3,a9@no>class@yes': (1.0, 2), 'a1@50-59,a5@yes,a6@3,a9@yes>class@yes': (1.0, 2), 'a1@50-59,a5@yes,a8@left_low,a9@no>class@no': (1.0, 2), 'a1@50-59,a6@1,a7@left,a8@left_low>class@no': (0.8, 4), 'a1@50-59,a6@1,a7@right,a8@left_low>class@no': (1.0, 2), 'a1@50-59,a6@2,a7@left,a8@left_low>class@no': (0.8, 8), 'a1@50-59,a6@2,a7@left,a9@yes>class@no': (1.0, 2), 'a1@50-59,a6@2,a7@right,a8@left_up>class@no': (0.8333333333333334, 5), 'a1@50-59,a6@2,a7@right,a9@no>class@no': (0.8333333333333334, 5), 'a1@50-59,a6@2,a7@right,a9@yes>class@no': (1.0, 2), 'a1@50-59,a6@2,a8@left_low,a9@yes>class@no': (1.0, 2), 'a1@50-59,a6@2,a8@left_up,a9@yes>class@no': (1.0, 2), 'a1@50-59,a6@3,a7@left,a8@left_up>class@no': (1.0, 3), 'a1@50-59,a6@3,a7@left,a9@yes>class@yes': (1.0, 3), 'a1@50-59,a6@3,a7@right,a9@yes>class@yes': (1.0, 2), 'a1@50-59,a6@3,a8@left_low,a9@yes>class@yes': (1.0, 4), 'a1@50-59,a6@3,a8@left_up,a9@no>class@no': (0.8, 4), 'a1@50-59,a7@right,a8@left_low,a9@no>class@no': (1.0, 4), 'a1@60-69,a2@ge40,a3@30-34,a8@left_low>class@no': (1.0, 3), 'a1@60-69,a2@ge40,a3@30-34,a9@no>class@no': (0.8333333333333334, 5), 'a1@60-69,a2@ge40,a4@0-2,a7@left>class@no': (0.8461538461538461, 11), 'a1@60-69,a2@ge40,a4@0-2,a8@left_low>class@no': (0.8181818181818182, 9), 'a1@60-69,a2@ge40,a4@0-2,a8@right_up>class@yes': (1.0, 2), 'a1@60-69,a2@ge40,a6@1,a7@left>class@no': (1.0, 5), 'a1@60-69,a2@ge40,a6@1,a8@left_low>class@no': (1.0, 4), 'a1@60-69,a2@ge40,a6@1,a9@no>class@no': (0.875, 7), 'a1@60-69,a2@ge40,a7@left,a9@no>class@no': (0.8571428571428571, 12), 'a1@60-69,a3@15-19,a6@2,a7@right>class@no': (1.0, 2), 'a1@60-69,a3@15-19,a6@2,a9@no>class@no': (1.0, 4), 'a1@60-69,a3@15-19,a7@left,a8@left_low>class@no': (1.0, 2), 'a1@60-69,a3@15-19,a7@left,a9@no>class@no': (1.0, 2), 'a1@60-69,a3@15-19,a7@right,a8@left_up>class@no': (1.0, 2), 'a1@60-69,a3@15-19,a8@left_up,a9@no>class@no': (1.0, 2), 'a1@60-69,a3@20-24,a4@0-2,a7@left>class@no': (1.0, 3), 'a1@60-69,a3@20-24,a6@1,a7@left>class@no': (1.0, 2), 'a1@60-69,a3@20-24,a6@1,a8@left_low>class@no': (1.0, 2), 'a1@60-69,a3@20-24,a7@left,a9@no>class@no': (1.0, 3), 'a1@60-69,a3@30-34,a4@0-2,a7@left>class@no': (1.0, 3), 'a1@60-69,a3@30-34,a4@0-2,a8@left_low>class@no': (1.0, 3), 'a1@60-69,a3@30-34,a4@0-2,a9@no>class@no': (0.8, 4), 'a1@60-69,a3@30-34,a5@no,a7@left>class@no': (1.0, 3), 'a1@60-69,a3@30-34,a5@no,a8@left_low>class@no': (1.0, 3), 'a1@60-69,a3@30-34,a5@yes,a9@no>class@no': (1.0, 2), 'a1@60-69,a3@30-34,a6@2,a9@no>class@no': (1.0, 2), 'a1@60-69,a3@30-34,a6@3,a7@left>class@no': (1.0, 2), 'a1@60-69,a3@30-34,a6@3,a8@left_low>class@no': (1.0, 2), 'a1@60-69,a3@30-34,a7@left,a9@no>class@no': (1.0, 4), 'a1@60-69,a4@0-2,a5@no,a6@2>class@no': (0.8888888888888888, 8), 'a1@60-69,a4@0-2,a6@1,a8@left_low>class@no': (1.0, 4), 'a1@60-69,a4@0-2,a6@2,a7@left>class@no': (1.0, 5), 'a1@60-69,a4@0-2,a6@2,a8@left_low>class@no': (0.8, 4), 'a1@60-69,a4@0-2,a6@2,a9@no>class@no': (0.8571428571428571, 6), 'a1@60-69,a4@0-2,a7@left,a8@left_low>class@no': (1.0, 8), 'a1@60-69,a4@0-2,a7@left,a9@no>class@no': (0.9230769230769231, 12), 'a1@60-69,a4@0-2,a7@right,a8@right_up>class@yes': (1.0, 2), 'a1@60-69,a4@3-5,a7@left,a9@yes>class@yes': (1.0, 2), 'a1@60-69,a5@no,a6@1,a8@left_low>class@no': (1.0, 4), 'a1@60-69,a5@no,a6@2,a7@left>class@no': (0.8333333333333334, 5), 'a1@60-69,a5@no,a6@2,a9@no>class@no': (0.8571428571428571, 6), 'a1@60-69,a5@no,a7@left,a8@left_low>class@no': (0.8888888888888888, 8), 'a1@60-69,a5@no,a7@left,a9@no>class@no': (0.9230769230769231, 12), 'a1@60-69,a5@no,a8@left_low,a9@no>class@no': (0.8333333333333334, 10), 'a1@60-69,a5@yes,a6@2,a9@yes>class@yes': (1.0, 2), 'a1@60-69,a5@yes,a7@left,a9@yes>class@yes': (1.0, 2), 'a1@60-69,a6@1,a7@left,a8@left_low>class@no': (1.0, 4), 'a1@60-69,a6@1,a7@left,a8@left_up>class@no': (1.0, 2), 'a1@60-69,a6@1,a8@left_low,a9@no>class@no': (1.0, 4), 'a1@60-69,a6@2,a7@left,a8@left_up>class@no': (1.0, 2), 'a1@60-69,a6@2,a7@left,a9@no>class@no': (1.0, 4), 'a1@60-69,a6@2,a7@right,a8@left_up>class@no': (1.0, 2), 'a1@60-69,a6@2,a8@left_low,a9@no>class@no': (0.8, 4), 'a1@60-69,a6@2,a8@left_up,a9@no>class@no': (1.0, 2), 'a1@60-69,a7@left,a8@left_low,a9@no>class@no': (0.9, 9), 'a1@60-69,a7@left,a8@left_low,a9@yes>class@yes': (1.0, 2), 'a2@ge40,a3@10-14,a6@1,a7@left>class@no': (1.0, 4), 'a2@ge40,a3@10-14,a6@1,a8@left_low>class@no': (1.0, 2), 'a2@ge40,a3@10-14,a7@left,a8@left_up>class@no': (1.0, 2), 'a2@ge40,a3@15-19,a4@0-2,a6@1>class@no': (1.0, 3), 'a2@ge40,a3@15-19,a4@0-2,a7@left>class@no': (1.0, 3), 'a2@ge40,a3@15-19,a4@0-2,a8@left_low>class@no': (1.0, 3), 'a2@ge40,a3@15-19,a5@no,a6@1>class@no': (1.0, 3), 'a2@ge40,a3@15-19,a5@no,a7@left>class@no': (1.0, 3), 'a2@ge40,a3@15-19,a5@no,a8@left_low>class@no': (1.0, 3), 'a2@ge40,a3@15-19,a6@1,a7@right>class@no': (1.0, 3), 'a2@ge40,a3@15-19,a6@1,a9@no>class@no': (1.0, 3), 'a2@ge40,a3@15-19,a6@2,a7@left>class@no': (1.0, 3), 'a2@ge40,a3@15-19,a6@2,a7@right>class@no': (1.0, 3), 'a2@ge40,a3@15-19,a6@2,a8@left_low>class@no': (1.0, 3), 'a2@ge40,a3@15-19,a6@2,a9@no>class@no': (1.0, 5), 'a2@ge40,a3@15-19,a7@left,a9@no>class@no': (1.0, 2), 'a2@ge40,a3@15-19,a7@right,a8@left_up>class@no': (1.0, 2), 'a2@ge40,a3@15-19,a8@left_low,a9@no>class@no': (1.0, 3), 'a2@ge40,a3@15-19,a8@left_up,a9@no>class@no': (1.0, 2), 'a2@ge40,a3@20-24,a4@0-2,a6@3>class@no': (0.8333333333333334, 5), 'a2@ge40,a3@20-24,a4@0-2,a7@left>class@no': (0.8888888888888888, 8), 'a2@ge40,a3@20-24,a4@0-2,a8@left_low>class@no': (0.8, 4), 'a2@ge40,a3@20-24,a4@3-5,a5@no>class@yes': (1.0, 2), 'a2@ge40,a3@20-24,a4@3-5,a8@left_low>class@yes': (1.0, 2), 'a2@ge40,a3@20-24,a4@3-5,a9@yes>class@yes': (1.0, 2), 'a2@ge40,a3@20-24,a5@no,a7@left>class@no': (0.8, 8), 'a2@ge40,a3@20-24,a5@yes,a6@2>class@no': (1.0, 2), 'a2@ge40,a3@20-24,a6@1,a7@left>class@no': (1.0, 2), 'a2@ge40,a3@20-24,a6@1,a8@left_low>class@no': (1.0, 3), 'a2@ge40,a3@20-24,a6@3,a7@left>class@no': (0.8333333333333334, 5), 'a2@ge40,a3@20-24,a7@left,a8@left_up>class@no': (0.8333333333333334, 5), 'a2@ge40,a3@20-24,a7@left,a9@no>class@no': (0.8888888888888888, 8), 'a2@ge40,a3@20-24,a7@left,a9@yes>class@yes': (1.0, 2), 'a2@ge40,a3@20-24,a8@left_low,a9@no>class@no': (0.8, 4), 'a2@ge40,a3@25-29,a4@0-2,a8@left_low>class@no': (1.0, 3), 'a2@ge40,a3@25-29,a5@no,a9@yes>class@yes': (1.0, 2), 'a2@ge40,a3@25-29,a6@3,a7@left>class@yes': (0.8, 4), 'a2@ge40,a3@25-29,a6@3,a9@yes>class@yes': (1.0, 3), 'a2@ge40,a3@25-29,a7@left,a9@yes>class@yes': (1.0, 3), 'a2@ge40,a3@25-29,a8@left_low,a9@no>class@no': (1.0, 3), 'a2@ge40,a3@30-34,a4@0-2,a5@no>class@no': (0.8, 8), 'a2@ge40,a3@30-34,a4@0-2,a7@left>class@no': (0.8, 4), 'a2@ge40,a3@30-34,a4@0-2,a8@left_low>class@no': (1.0, 4), 'a2@ge40,a3@30-34,a4@0-2,a8@left_up>class@no': (1.0, 3), 'a2@ge40,a3@30-34,a5@no,a6@2>class@no': (1.0, 2), 'a2@ge40,a3@30-34,a5@yes,a9@yes>class@yes': (1.0, 2), 'a2@ge40,a3@30-34,a6@1,a7@right>class@no': (1.0, 3), 'a2@ge40,a3@30-34,a6@1,a8@left_up>class@no': (1.0, 2), 'a2@ge40,a3@30-34,a6@2,a9@no>class@no': (1.0, 2), 'a2@ge40,a3@30-34,a7@left,a8@left_up>class@no': (1.0, 2), 'a2@ge40,a3@30-34,a8@right_up,a9@no>class@no': (1.0, 2), 'a2@ge40,a3@35-39,a4@0-2,a6@3>class@no': (1.0, 2), 'a2@ge40,a3@35-39,a5@no,a6@3>class@no': (1.0, 2), 'a2@ge40,a3@40-44,a4@0-2,a7@left>class@no': (1.0, 2), 'a2@ge40,a3@40-44,a4@0-2,a8@left_up>class@no': (1.0, 2), 'a2@ge40,a3@40-44,a5@no,a6@3>class@no': (1.0, 2), 'a2@ge40,a3@40-44,a5@no,a7@left>class@no': (1.0, 2), 'a2@ge40,a3@40-44,a5@no,a8@left_up>class@no': (1.0, 2), 'a2@ge40,a3@40-44,a5@yes,a6@3>class@yes': (1.0, 3), 'a2@ge40,a3@40-44,a6@2,a7@left>class@no': (1.0, 2), 'a2@ge40,a3@40-44,a6@3,a9@yes>class@yes': (1.0, 2), 'a2@ge40,a3@40-44,a7@left,a9@no>class@no': (1.0, 3), 'a2@ge40,a3@40-44,a7@left,a9@yes>class@yes': (1.0, 2), 'a2@ge40,a3@40-44,a8@left_low,a9@yes>class@yes': (1.0, 2), 'a2@ge40,a3@40-44,a8@left_up,a9@no>class@no': (1.0, 2), 'a2@ge40,a4@0-2,a5@no,a6@2>class@no': (0.8, 16), 'a2@ge40,a4@0-2,a5@no,a8@left_up>class@no': (0.8333333333333334, 20), 'a2@ge40,a4@0-2,a5@no,a9@no>class@no': (0.8363636363636363, 46), 'a2@ge40,a4@0-2,a6@1,a7@left>class@no': (1.0, 8), 'a2@ge40,a4@0-2,a6@1,a7@right>class@no': (0.8571428571428571, 12), 'a2@ge40,a4@0-2,a6@1,a8@left_low>class@no': (1.0, 7), 'a2@ge40,a4@0-2,a6@2,a7@left>class@no': (0.8461538461538461, 11), 'a2@ge40,a4@0-2,a6@2,a8@left_up>class@no': (0.8, 8), 'a2@ge40,a4@0-2,a6@3,a8@left_low>class@no': (0.8333333333333334, 5), 'a2@ge40,a4@0-2,a6@3,a8@left_up>class@no': (0.8571428571428571, 6), 'a2@ge40,a4@0-2,a6@3,a8@right_up>class@no': (1.0, 2), 'a2@ge40,a4@0-2,a7@left,a8@left_low>class@no': (0.9333333333333333, 14), 'a2@ge40,a4@0-2,a7@left,a9@no>class@no': (0.8709677419354839, 27), 'a2@ge40,a4@0-2,a7@right,a8@left_up>class@no': (0.8181818181818182, 9), 'a2@ge40,a4@0-2,a7@right,a9@no>class@no': (0.8, 20), 'a2@ge40,a4@0-2,a8@left_up,a9@no>class@no': (0.8181818181818182, 18), 'a2@ge40,a4@0-2,a8@left_up,a9@yes>class@no': (1.0, 3), 'a2@ge40,a4@0-2,a8@right_up,a9@no>class@no': (1.0, 6), 'a2@ge40,a4@3-5,a5@no,a6@3>class@yes': (1.0, 4)}\n"
          ],
          "name": "stdout"
        }
      ]
    },
    {
      "cell_type": "markdown",
      "metadata": {
        "id": "1UlhgGYZbyWz"
      },
      "source": [
        "Saving to file"
      ]
    },
    {
      "cell_type": "code",
      "metadata": {
        "id": "QTfFM8k8byW0",
        "colab": {
          "base_uri": "https://localhost:8080/"
        },
        "outputId": "603d3767-ea88-41f1-b9b6-169e1ac5d4d2"
      },
      "source": [
        "print('Saving clusters to the output file ....')\n",
        "for i in range(len(cluster_labels)):\n",
        "  rule_key = association_rules_list[i].serialize()\n",
        "  rules_and_their_clusters.append((rule_key, cluster_labels[i], \n",
        "                                         confidence_support_values[rule_key]))"
      ],
      "execution_count": 96,
      "outputs": [
        {
          "output_type": "stream",
          "text": [
            "Saving clusters to the output file ....\n"
          ],
          "name": "stdout"
        }
      ]
    },
    {
      "cell_type": "code",
      "metadata": {
        "id": "EnMTqsp7byW0"
      },
      "source": [
        "rules_and_their_clusters = sorted(rules_and_their_clusters, key=lambda x: x[1])"
      ],
      "execution_count": 97,
      "outputs": []
    },
    {
      "cell_type": "code",
      "metadata": {
        "id": "iDhgvk37byW0"
      },
      "source": [
        "with open(Filepath+'rules_with_clusters_Optics.txt', 'w') as f:\n",
        "  f.write(\"\\n\".join(str(v) for v in rules_and_their_clusters))"
      ],
      "execution_count": 98,
      "outputs": []
    },
    {
      "cell_type": "markdown",
      "metadata": {
        "id": "J09Q3JtTb6iU"
      },
      "source": [
        "Finding Unexpected rules"
      ]
    },
    {
      "cell_type": "code",
      "metadata": {
        "id": "7D4NpMd4b6iV",
        "colab": {
          "base_uri": "https://localhost:8080/"
        },
        "outputId": "159c0fe0-4520-4ca9-b168-bfcbcca1b5b1"
      },
      "source": [
        "print('Finding unexpected patterns ....')"
      ],
      "execution_count": 99,
      "outputs": [
        {
          "output_type": "stream",
          "text": [
            "Finding unexpected patterns ....\n"
          ],
          "name": "stdout"
        }
      ]
    },
    {
      "cell_type": "code",
      "metadata": {
        "id": "-6J36kT2b6iV",
        "colab": {
          "base_uri": "https://localhost:8080/"
        },
        "outputId": "94043c14-a372-40c0-ddab-79946d47c95a"
      },
      "source": [
        "unexpected_rules = clustering_engine.detect_unexpectedness(cluster_labels)"
      ],
      "execution_count": 100,
      "outputs": [
        {
          "output_type": "stream",
          "text": [
            "Geting conflict information...\n",
            "1057 55\n",
            "Finding unexpectedness....\n",
            "Number of unexpected patterns 67\n"
          ],
          "name": "stdout"
        }
      ]
    },
    {
      "cell_type": "code",
      "metadata": {
        "id": "MOGLL8LOb6iV"
      },
      "source": [
        "with open(Filepath+'unexpected_rules_optics.txt', 'w') as f:\n",
        "  f.write(\"\\n\".join(str(v) for v in unexpected_rules))"
      ],
      "execution_count": 101,
      "outputs": []
    },
    {
      "cell_type": "code",
      "metadata": {
        "id": "4qVm2BAKb-dB"
      },
      "source": [
        "IOHelper.save_as_json_format(Filepath+'unexpected_rule_file_json_optics', unexpected_rules)"
      ],
      "execution_count": 102,
      "outputs": []
    },
    {
      "cell_type": "markdown",
      "metadata": {
        "id": "TwHixS08B6GY"
      },
      "source": [
        "Plotting in 3D"
      ]
    },
    {
      "cell_type": "code",
      "metadata": {
        "id": "i-SOustIB6GZ"
      },
      "source": [
        "import colorsys\n",
        "\n",
        "def get_N_HexCol(N=5):\n",
        "\n",
        "    HSV_tuples = [(x * 1.0 / N, 1, 1) for x in range(N)]\n",
        "    hex_out = []\n",
        "    for rgb in HSV_tuples:\n",
        "        rgb = map(lambda x: int(x * 255), colorsys.hsv_to_rgb(*rgb))\n",
        "        hex_out.append('#%02x%02x%02x' % tuple(rgb))\n",
        "    #print(hex_out)\n",
        "    return hex_out"
      ],
      "execution_count": 103,
      "outputs": []
    },
    {
      "cell_type": "code",
      "metadata": {
        "id": "K0T4eT7IcK7_"
      },
      "source": [
        "def load_feature_vectors(input_file):\n",
        "    features = []\n",
        "    association_rules = []\n",
        "    \n",
        "    with open(input_file, 'r') as feature_reader:\n",
        "        feature_reader.readline()\n",
        "        feature_reader.readline()\n",
        "        for line in feature_reader:\n",
        "            rule_text, f_vector = json.loads(line.strip())\n",
        "            association_rules.append(rule_text)\n",
        "            features.append(f_vector)\n",
        "    return np.array(features), association_rules"
      ],
      "execution_count": 104,
      "outputs": []
    },
    {
      "cell_type": "code",
      "metadata": {
        "id": "RUUQe9iAB6GZ"
      },
      "source": [
        "X, association_rules = load_feature_vectors(Filepath+\"miner.tmp.non_redundant_rules\")"
      ],
      "execution_count": 105,
      "outputs": []
    },
    {
      "cell_type": "code",
      "metadata": {
        "id": "LyCtSoHGB6GZ",
        "colab": {
          "base_uri": "https://localhost:8080/"
        },
        "outputId": "6d29e987-3866-4884-e8ef-bd6336ed8447"
      },
      "source": [
        "m = 2\n",
        "print('dimensional reduce: ' + str(m))\n",
        "    \n",
        "pca = IncrementalPCA(n_components = X.shape[1]//m)\n",
        "new_X = pca.fit_transform(X)\n",
        "clusters, number_of_clusters = load_clusters(Filepath+\"rules_with_clusters_Optics.txt\")\n",
        "print (number_of_clusters)\n",
        "    \n",
        "unique_colors = get_N_HexCol(number_of_clusters + 1)\n",
        "Y = []\n",
        "for rule in association_rules:\n",
        "  cluster_id = clusters[rule]\n",
        "  Y.append(unique_colors[cluster_id + 1])"
      ],
      "execution_count": 106,
      "outputs": [
        {
          "output_type": "stream",
          "text": [
            "dimensional reduce: 2\n",
            "54\n"
          ],
          "name": "stdout"
        }
      ]
    },
    {
      "cell_type": "code",
      "metadata": {
        "id": "-pIalv68B6Ga",
        "colab": {
          "base_uri": "https://localhost:8080/",
          "height": 298
        },
        "outputId": "b7a4e5b6-7b46-4167-90fa-8d1e09663afe"
      },
      "source": [
        "fig = plt.figure()\n",
        "ax = fig.add_subplot(111)\n",
        "#ax = fig.gca(projection='3d')\n",
        "#ax.text2D(0.9, 0.95, 'Optics3D', transform=ax.transAxes)\n",
        "#ax.scatter(new_X[:,0], new_X[:,1], new_X[:,2], c = Y, alpha = 0.9, s = 5)\n",
        "ax.scatter(new_X[:,0], new_X[:,1], new_X[:,2], c = Y)\n",
        "plt.savefig(Filepath+str(my_minpoints)+\"_\"+str(xi)+\"_\"+\"Optics3D_out.png\")\n",
        "plt.show()\n"
      ],
      "execution_count": 119,
      "outputs": [
        {
          "output_type": "stream",
          "text": [
            "/usr/local/lib/python3.7/dist-packages/matplotlib/collections.py:885: RuntimeWarning: invalid value encountered in sqrt\n",
            "  scale = np.sqrt(self._sizes) * dpi / 72.0 * self._factor\n"
          ],
          "name": "stderr"
        },
        {
          "output_type": "display_data",
          "data": {
            "image/png": "[encoded data removed]",
            "text/plain": [
              "<Figure size 432x288 with 1 Axes>"
            ]
          },
          "metadata": {
            "tags": [],
            "needs_background": "light"
          }
        }
      ]
    },
    {
      "cell_type": "code",
      "metadata": {
        "id": "D0JGyDGENxs-"
      },
      "source": [
        ""
      ],
      "execution_count": null,
      "outputs": []
    },
    {
      "cell_type": "markdown",
      "metadata": {
        "id": "730kS6dCCGvw"
      },
      "source": [
        "Evalution"
      ]
    },
    {
      "cell_type": "code",
      "metadata": {
        "id": "jh3EWBgAR89X"
      },
      "source": [
        "score_list = dict()"
      ],
      "execution_count": null,
      "outputs": []
    },
    {
      "cell_type": "code",
      "metadata": {
        "id": "joEp0888CJl1"
      },
      "source": [
        "#Loading test and train dataset"
      ],
      "execution_count": null,
      "outputs": []
    },
    {
      "cell_type": "code",
      "metadata": {
        "id": "QqZgiZaL49B2"
      },
      "source": [
        "from sklearn.metrics.ranking import roc_curve, auc\n",
        "from sklearn.metrics.classification import f1_score\n",
        "from sklearn.svm.classes import SVC\n",
        "from sklearn.ensemble.forest import RandomForestClassifier"
      ],
      "execution_count": null,
      "outputs": []
    },
    {
      "cell_type": "code",
      "metadata": {
        "id": "tXWHo1vlDAxm"
      },
      "source": [
        "train_data_set.load(inputfilepath, 0, has_header = False)"
      ],
      "execution_count": null,
      "outputs": []
    },
    {
      "cell_type": "code",
      "metadata": {
        "id": "XIdEQT-EDUd5"
      },
      "source": [
        "X_train, Y_train = train_data_set.convert_2_binary_format()"
      ],
      "execution_count": null,
      "outputs": []
    },
    {
      "cell_type": "code",
      "metadata": {
        "id": "ywchwuGZcKVw"
      },
      "source": [
        "Y_train.item_dict"
      ],
      "execution_count": null,
      "outputs": []
    },
    {
      "cell_type": "code",
      "metadata": {
        "id": "W7n9R_JXDy24"
      },
      "source": [
        "test_data_set = DataSet()\n",
        "test_data_set.load(inputTestfilepath, 0, has_header = False)\n",
        "Xtest, Ytest = test_data_set.convert_2_binary_format_with(X_train.item_dict, Y_train.item_dict)\n",
        "Ytest = Ytest.flatten()"
      ],
      "execution_count": null,
      "outputs": []
    },
    {
      "cell_type": "code",
      "metadata": {
        "id": "iEPvCOaNEC_b"
      },
      "source": [
        "class_count = train_data_set.number_of_classes()"
      ],
      "execution_count": null,
      "outputs": []
    },
    {
      "cell_type": "code",
      "metadata": {
        "id": "G2zxJATYczXR"
      },
      "source": [
        "class_count"
      ],
      "execution_count": null,
      "outputs": []
    },
    {
      "cell_type": "markdown",
      "metadata": {
        "id": "WZhMNRrqFCk3"
      },
      "source": [
        "DBSCAN"
      ]
    },
    {
      "cell_type": "code",
      "metadata": {
        "id": "g1v3mHEjE1Gy"
      },
      "source": [
        "unexpected_rules = IOHelper.load_json_object(Filepath+\"unexpected_rule_file_json_DBSCAN\")"
      ],
      "execution_count": null,
      "outputs": []
    },
    {
      "cell_type": "code",
      "metadata": {
        "id": "sY7PJZyxFVrK"
      },
      "source": [
        "def filter_association_rules(unexpected_rules, delta_1 = 0):\n",
        "    rules = []\n",
        "    for x in unexpected_rules:\n",
        "        if x[2][0][1] > delta_1: \n",
        "            rules.append(AssociationRule.string_2_rule(x[0]))\n",
        "    return rules"
      ],
      "execution_count": null,
      "outputs": []
    },
    {
      "cell_type": "code",
      "metadata": {
        "id": "-Ztudi2TEHQZ"
      },
      "source": [
        "refined_unexpected_rules = filter_association_rules(unexpected_rules)"
      ],
      "execution_count": null,
      "outputs": []
    },
    {
      "cell_type": "code",
      "metadata": {
        "id": "QyJDde0kI0Xm"
      },
      "source": [
        "print('svm testing...')\n",
        "svc_model = SVC()\n",
        "svc_model.fit(X_train.relation_matrix, Y_train.values.flatten())"
      ],
      "execution_count": null,
      "outputs": []
    },
    {
      "cell_type": "code",
      "metadata": {
        "id": "sb8u3UFwJSJH"
      },
      "source": [
        "from sklearn.metrics import confusion_matrix\n",
        "import seaborn as sns\n",
        "import pandas as pd\n",
        "from sklearn.metrics import plot_confusion_matrix\n",
        "import matplotlib.pyplot as plt\n",
        "\n",
        "def refine_with_unexpectedness(data_set, classes_dict, preY, Ytrue, unexpected_rules, model, clus):\n",
        "    \n",
        "    print('Refine with unexpected rules...')\n",
        "    y_pred = np.copy(preY)\n",
        "    for i in range(data_set.size()):\n",
        "        x = data_set.get_transaction(i)\n",
        "        print(\"x is \",x)\n",
        "        for r in unexpected_rules:\n",
        "            #print(r)\n",
        "            if r.satisfy_rule(x, is_lhs = True):\n",
        "                print(\"r.satisfy_rule(x, is_lhs = True)\", r.satisfy_rule(x, is_lhs = True))\n",
        "                label = r.right_items[0]\n",
        "                print(\"label is \",label)\n",
        "                y_pred[i] = classes_dict[label]\n",
        "                print(\"y pred for i is\",y_pred[i])\n",
        "    x_axis_labels = ['No', 'Yes']\n",
        "    y_axis_labels = ['No', 'Yes']\n",
        "    print(f1_score(Ytrue, y_pred, average=None))\n",
        "    my_score = f1_score(Ytrue, y_pred, average=None)\n",
        "    f1_avg = f1_score(Ytrue, y_pred)\n",
        "    print(confusion_matrix(Ytrue, y_pred))\n",
        "    c=confusion_matrix(Ytrue, y_pred)\n",
        "    df_cm = pd.DataFrame(c, range(2), range(2))\n",
        "    sns.set(font_scale=1.4) # for label size\n",
        "    sns.heatmap(df_cm, annot=True, annot_kws={\"size\": 16},xticklabels=x_axis_labels, yticklabels=y_axis_labels) # font size\n",
        "\n",
        "    \n",
        "    if (data_set.number_of_classes() <= 2):\n",
        "        fpr, tpr, _ = roc_curve(Ytrue, y_pred.flatten())\n",
        "        print(auc(fpr, tpr))\n",
        "        my_auc = auc(fpr, tpr)\n",
        "    \n",
        "    plt.xlabel(\"Predicted Label\")\n",
        "    plt.ylabel(\"True Label\")  \n",
        "    plt.savefig(Filepath+\"Refined_\"+model+\"_\"+\"DBSCAN\"+\"_\"+\"confusion_matrix.png\")\n",
        "    plt.show()\n",
        "\n",
        "    return my_score, my_auc, f1_avg"
      ],
      "execution_count": null,
      "outputs": []
    },
    {
      "cell_type": "code",
      "metadata": {
        "id": "j3QnrJyGI-22"
      },
      "source": [
        "svc_y_pred = svc_model.predict(Xtest)\n",
        "print(f1_score(Ytest, svc_y_pred, average=None))\n",
        "if (class_count <= 2):\n",
        "  fpr, tpr, _ = roc_curve(Ytest, svc_y_pred.flatten())    \n",
        "  print(auc(fpr, tpr))\n",
        "\n",
        "score_list['SVM basic score'] = f1_score(Ytest, svc_y_pred, average=None)\n",
        "score_list['SVM basic auc score'] = auc(fpr, tpr)\n",
        "score_list['SVM basic f1 avg score'] = f1_score(Ytest, svc_y_pred)\n",
        "\n"
      ],
      "execution_count": null,
      "outputs": []
    },
    {
      "cell_type": "code",
      "metadata": {
        "id": "n98RxYOvJLK3"
      },
      "source": [
        "my_score ,my_auc,f1_avg= refine_with_unexpectedness(test_data_set, Y_train.item_dict, svc_y_pred, Ytest, refined_unexpected_rules, \"SVM\", \"DBSCAN\")"
      ],
      "execution_count": null,
      "outputs": []
    },
    {
      "cell_type": "code",
      "metadata": {
        "id": "CmPk3zZRTxLQ"
      },
      "source": [
        "score_list['SVM refined score DBSCAN'] = my_score\n",
        "score_list['SVM refined f1 avg score DBSCAN'] = f1_avg\n",
        "score_list['SVM refined score auc DBSCAN'] = my_auc"
      ],
      "execution_count": null,
      "outputs": []
    },
    {
      "cell_type": "code",
      "metadata": {
        "id": "sEHKZ9L04Qh1"
      },
      "source": [
        "class_names = ['no', 'yes']\n",
        "# Plot non-normalized confusion matrix\n",
        "plot_confusion_matrix(svc_model, Xtest, Ytest,\n",
        "                                 display_labels=class_names,\n",
        "                                 cmap=plt.cm.Blues,\n",
        "                                 )\n",
        "plt.savefig(Filepath+\"SVM\"+\"_\"+\"DBSCAN\"+\"_\"+\"confusion_matrix.png\")\n",
        "plt.show()"
      ],
      "execution_count": null,
      "outputs": []
    },
    {
      "cell_type": "markdown",
      "metadata": {
        "id": "bJlBLIOhJGOf"
      },
      "source": [
        "Random Forest"
      ]
    },
    {
      "cell_type": "code",
      "metadata": {
        "id": "UukCWLYsJIJ-"
      },
      "source": [
        "print('Random forest testing...')\n",
        "rf_model = RandomForestClassifier(n_estimators=20, random_state=1)\n",
        "rf_model.fit(X_train.relation_matrix, Y_train.values.flatten())\n",
        "    \n",
        "rf_y_pred = rf_model.predict(Xtest)\n",
        "print(f1_score(Ytest, rf_y_pred, average=None))\n",
        "if (class_count <= 2):\n",
        "  fpr, tpr, _ = roc_curve(Ytest, rf_y_pred.flatten())\n",
        "  print(auc(fpr, tpr))\n",
        "    \n",
        "score_list['RF basic'] =f1_score(Ytest, rf_y_pred, average=None)\n",
        "score_list['RF f1 avg basic'] =f1_score(Ytest, rf_y_pred, average=None)\n",
        "score_list['RF basic auc score'] = auc(fpr, tpr)"
      ],
      "execution_count": null,
      "outputs": []
    },
    {
      "cell_type": "code",
      "metadata": {
        "id": "1mo9p57d7rOt"
      },
      "source": [
        "class_names = ['no', 'yes']\n",
        "# Plot non-normalized confusion matrix\n",
        "plot_confusion_matrix(rf_model, Xtest, Ytest,\n",
        "                                 display_labels=class_names,\n",
        "                                 cmap=plt.cm.Blues,\n",
        "                                 )\n",
        "plt.savefig(Filepath+\"RF\"+\"_\"+\"DBSCAN\"+\"_\"+\"confusion_matrix.png\")\n",
        "plt.show()"
      ],
      "execution_count": null,
      "outputs": []
    },
    {
      "cell_type": "code",
      "metadata": {
        "id": "UQTAB9Lv7s90"
      },
      "source": [
        "my_score,my_auc,f1_avg = refine_with_unexpectedness(test_data_set, Y_train.item_dict, rf_y_pred, Ytest, refined_unexpected_rules, \"RF\", \"DBSCAN\")"
      ],
      "execution_count": null,
      "outputs": []
    },
    {
      "cell_type": "code",
      "metadata": {
        "id": "kznma_UET9yI"
      },
      "source": [
        "score_list['RF refined DBSCAN'] = my_score\n",
        "score_list['RF refined f1 avg DBSCAN'] = f1_avg\n",
        "score_list['RF refined score auc DBSCAN'] = my_auc"
      ],
      "execution_count": null,
      "outputs": []
    },
    {
      "cell_type": "markdown",
      "metadata": {
        "id": "BSQcPASNJh-g"
      },
      "source": [
        "MLP"
      ]
    },
    {
      "cell_type": "code",
      "metadata": {
        "id": "noswGDE6Ji5_"
      },
      "source": [
        "from sklearn.neural_network import MLPClassifier\n",
        "clf_mlp = MLPClassifier(solver='lbfgs', alpha=1e-5,\n",
        "                    hidden_layer_sizes=(5, 2), random_state=1)\n",
        "clf_mlp.fit(X_train.relation_matrix, Y_train.values.flatten())\n",
        "    \n",
        "mlp_y_pred = clf_mlp.predict(Xtest)\n",
        "print(f1_score(Ytest, mlp_y_pred, average=None))\n",
        "\n",
        "\n",
        "if (class_count <= 2):\n",
        "  fpr, tpr, _ = roc_curve(Ytest, mlp_y_pred.flatten())\n",
        "  print(auc(fpr, tpr))\n",
        "\n",
        "\n",
        "score_list['MLP basic'] =f1_score(Ytest, rf_y_pred, average=None)\n",
        "score_list['MLP basic f1 avg'] =f1_score(Ytest, rf_y_pred)\n",
        "score_list['MLP basic auc score'] = auc(fpr, tpr)"
      ],
      "execution_count": null,
      "outputs": []
    },
    {
      "cell_type": "code",
      "metadata": {
        "id": "lsZ_SdalZpNn"
      },
      "source": [
        "class_names = ['no', 'yes']\n",
        "# Plot non-normalized confusion matrix\n",
        "plot_confusion_matrix(clf_mlp, Xtest, Ytest,\n",
        "                                 display_labels=class_names,\n",
        "                                 cmap=plt.cm.Blues,\n",
        "                                 )\n",
        "plt.savefig(Filepath+\"MLP\"+\"_\"+\"DBSCAN\"+\"_\"+\"confusion_matrix.png\")\n",
        "plt.show()"
      ],
      "execution_count": null,
      "outputs": []
    },
    {
      "cell_type": "code",
      "metadata": {
        "id": "aH64V-INJ58g"
      },
      "source": [
        "my_score,my_auc,f1_avg = refine_with_unexpectedness(test_data_set, Y_train.item_dict, mlp_y_pred, Ytest, refined_unexpected_rules, \"MLP\", \"DBSCAN\")"
      ],
      "execution_count": null,
      "outputs": []
    },
    {
      "cell_type": "code",
      "metadata": {
        "id": "ZpxPpM0sUFSP"
      },
      "source": [
        "score_list['MLP refined DBSCAN'] = my_score\n",
        "score_list['MLP refined f1 avg DBSCAN'] = f1_avg\n",
        "score_list['MLP refined score auc DBSCAN'] = my_auc"
      ],
      "execution_count": null,
      "outputs": []
    },
    {
      "cell_type": "markdown",
      "metadata": {
        "id": "pGZ7G4NaF1VG"
      },
      "source": [
        "Optics"
      ]
    },
    {
      "cell_type": "code",
      "metadata": {
        "id": "S3xTlevfGPLL"
      },
      "source": [
        "unexpected_rules = IOHelper.load_json_object(Filepath+\"unexpected_rule_file_json_optics\")"
      ],
      "execution_count": null,
      "outputs": []
    },
    {
      "cell_type": "code",
      "metadata": {
        "id": "vQdZJ_gLQC3q"
      },
      "source": [
        "refined_unexpected_rules = filter_association_rules(unexpected_rules)"
      ],
      "execution_count": null,
      "outputs": []
    },
    {
      "cell_type": "code",
      "metadata": {
        "id": "eLBiSLIOGPLS"
      },
      "source": [
        "print('svm testing...')\n",
        "svc_model = SVC()\n",
        "svc_model.fit(X_train.relation_matrix, Y_train.values.flatten())"
      ],
      "execution_count": null,
      "outputs": []
    },
    {
      "cell_type": "code",
      "metadata": {
        "id": "Nodqg3tUGPLT"
      },
      "source": [
        "from sklearn.metrics import confusion_matrix\n",
        "import seaborn as sns\n",
        "import pandas as pd\n",
        "from sklearn.metrics import plot_confusion_matrix\n",
        "import matplotlib.pyplot as plt\n",
        "\n",
        "def refine_with_unexpectedness(data_set, classes_dict, preY, Ytrue, unexpected_rules, model, clus):\n",
        "    \n",
        "    print('Refine with unexpected rules...')\n",
        "    y_pred = np.copy(preY)\n",
        "    for i in range(data_set.size()):\n",
        "        x = data_set.get_transaction(i)\n",
        "        print(\"x is \",x)\n",
        "        for r in unexpected_rules:\n",
        "            #print(r)\n",
        "            if r.satisfy_rule(x, is_lhs = True):\n",
        "                print(\"r.satisfy_rule(x, is_lhs = True)\", r.satisfy_rule(x, is_lhs = True))\n",
        "                label = r.right_items[0]\n",
        "                print(\"label is \",label)\n",
        "                y_pred[i] = classes_dict[label]\n",
        "                print(\"y pred for i is\",y_pred[i])\n",
        "    x_axis_labels = ['No', 'Yes']\n",
        "    y_axis_labels = ['No', 'Yes']\n",
        "    print(f1_score(Ytrue, y_pred, average=None))\n",
        "    my_score = f1_score(Ytrue, y_pred, average=None)\n",
        "    f1_avg = f1_score(Ytrue, y_pred)\n",
        "    print(confusion_matrix(Ytrue, y_pred))\n",
        "    c=confusion_matrix(Ytrue, y_pred)\n",
        "    df_cm = pd.DataFrame(c, range(2), range(2))\n",
        "    sns.set(font_scale=1.4) # for label size\n",
        "    sns.heatmap(df_cm, annot=True, annot_kws={\"size\": 16},xticklabels=x_axis_labels, yticklabels=y_axis_labels) # font size\n",
        "\n",
        "    \n",
        "    if (data_set.number_of_classes() <= 2):\n",
        "        fpr, tpr, _ = roc_curve(Ytrue, y_pred.flatten())\n",
        "        print(auc(fpr, tpr))\n",
        "        my_auc = auc(fpr, tpr)\n",
        "    \n",
        "    plt.xlabel(\"Predicted Label\")\n",
        "    plt.ylabel(\"True Label\")  \n",
        "    plt.savefig(Filepath+\"Refined_\"+model+\"_\"+\"DBSCAN\"+\"_\"+\"confusion_matrix.png\")\n",
        "    plt.show()\n",
        "\n",
        "    return my_score, my_auc,f1_avg"
      ],
      "execution_count": null,
      "outputs": []
    },
    {
      "cell_type": "code",
      "metadata": {
        "id": "zVoZYVBMGPLT"
      },
      "source": [
        "svc_y_pred = svc_model.predict(Xtest)\n",
        "print(f1_score(Ytest, svc_y_pred, average=None))\n",
        "if (class_count <= 2):\n",
        "  fpr, tpr, _ = roc_curve(Ytest, svc_y_pred.flatten())    \n",
        "  print(auc(fpr, tpr))"
      ],
      "execution_count": null,
      "outputs": []
    },
    {
      "cell_type": "code",
      "metadata": {
        "id": "LPzoOPGTGPLU"
      },
      "source": [
        "my_score ,my_auc,f1_avg= refine_with_unexpectedness(test_data_set, Y_train.item_dict, svc_y_pred, Ytest, refined_unexpected_rules, \"SVM\", \"Optics\")"
      ],
      "execution_count": null,
      "outputs": []
    },
    {
      "cell_type": "code",
      "metadata": {
        "id": "fzKzBF7GUN0Y"
      },
      "source": [
        "score_list['SVM refined Optics'] = my_score\n",
        "score_list['SVM refined f1 avg Optics'] = f1_avg\n",
        "score_list['SVM refined score auc Optics'] = my_auc"
      ],
      "execution_count": null,
      "outputs": []
    },
    {
      "cell_type": "code",
      "metadata": {
        "id": "qK_61EjIGPLU"
      },
      "source": [
        "class_names = ['no', 'yes']\n",
        "# Plot non-normalized confusion matrix\n",
        "plot_confusion_matrix(svc_model, Xtest, Ytest,\n",
        "                                 display_labels=class_names,\n",
        "                                 cmap=plt.cm.Blues,\n",
        "                                 )\n",
        "plt.savefig(Filepath+\"SVM\"+\"_\"+\"Optics\"+\"_\"+\"confusion_matrix.png\")\n",
        "plt.show()"
      ],
      "execution_count": null,
      "outputs": []
    },
    {
      "cell_type": "markdown",
      "metadata": {
        "id": "Ctr2Sg4DGPLU"
      },
      "source": [
        "Random Forest"
      ]
    },
    {
      "cell_type": "code",
      "metadata": {
        "id": "Jn2V-k-HGPLU"
      },
      "source": [
        "print('Random forest testing...')\n",
        "rf_model = RandomForestClassifier(n_estimators=20, random_state=1)\n",
        "rf_model.fit(X_train.relation_matrix, Y_train.values.flatten())\n",
        "    \n",
        "rf_y_pred = rf_model.predict(Xtest)\n",
        "print(f1_score(Ytest, rf_y_pred, average=None))\n",
        "if (class_count <= 2):\n",
        "  fpr, tpr, _ = roc_curve(Ytest, rf_y_pred.flatten())\n",
        "  print(auc(fpr, tpr))\n",
        "    \n"
      ],
      "execution_count": null,
      "outputs": []
    },
    {
      "cell_type": "code",
      "metadata": {
        "id": "teGqQDIIGPLV"
      },
      "source": [
        "class_names = ['no', 'yes']\n",
        "# Plot non-normalized confusion matrix\n",
        "plot_confusion_matrix(rf_model, Xtest, Ytest,\n",
        "                                 display_labels=class_names,\n",
        "                                 cmap=plt.cm.Blues,\n",
        "                                 )\n",
        "plt.savefig(Filepath+\"RF\"+\"_\"+\"Optics\"+\"_\"+\"confusion_matrix.png\")\n",
        "plt.show()"
      ],
      "execution_count": null,
      "outputs": []
    },
    {
      "cell_type": "code",
      "metadata": {
        "id": "JH9XDHXdGPLV"
      },
      "source": [
        "my_score ,my_auc, f1_avg= refine_with_unexpectedness(test_data_set, Y_train.item_dict, rf_y_pred, Ytest, refined_unexpected_rules, \"RF\", \"Optics\")"
      ],
      "execution_count": null,
      "outputs": []
    },
    {
      "cell_type": "code",
      "metadata": {
        "id": "ZkHR7mOiUTiu"
      },
      "source": [
        "score_list['RF refined Optics'] = my_score\n",
        "score_list['RF refined f1 avg Optics'] = f1_avg\n",
        "score_list['RF refined score auc Optics'] = my_auc"
      ],
      "execution_count": null,
      "outputs": []
    },
    {
      "cell_type": "markdown",
      "metadata": {
        "id": "4LryIhX0GPLV"
      },
      "source": [
        "MLP"
      ]
    },
    {
      "cell_type": "code",
      "metadata": {
        "id": "KGejR3jiGPLV"
      },
      "source": [
        "from sklearn.neural_network import MLPClassifier\n",
        "clf_mlp = MLPClassifier(solver='lbfgs', alpha=1e-5,\n",
        "                    hidden_layer_sizes=(5, 2), random_state=1)\n",
        "clf_mlp.fit(X_train.relation_matrix, Y_train.values.flatten())\n",
        "    \n",
        "mlp_y_pred = clf_mlp.predict(Xtest)\n",
        "print(f1_score(Ytest, mlp_y_pred, average=None))\n",
        "if (class_count <= 2):\n",
        "  fpr, tpr, _ = roc_curve(Ytest, mlp_y_pred.flatten())\n",
        "  print(auc(fpr, tpr))"
      ],
      "execution_count": null,
      "outputs": []
    },
    {
      "cell_type": "code",
      "metadata": {
        "id": "0rvHE13MGPLW"
      },
      "source": [
        "class_names = ['no', 'yes']\n",
        "# Plot non-normalized confusion matrix\n",
        "plot_confusion_matrix(clf_mlp, Xtest, Ytest,\n",
        "                                 display_labels=class_names,\n",
        "                                 cmap=plt.cm.Blues,\n",
        "                                 )\n",
        "plt.savefig(Filepath+\"MLP\"+\"_\"+\"Optics\"+\"_\"+\"confusion_matrix.png\")\n",
        "plt.show()"
      ],
      "execution_count": null,
      "outputs": []
    },
    {
      "cell_type": "code",
      "metadata": {
        "id": "zwok4oroGPLW"
      },
      "source": [
        "my_score,my_auc,f1_avg = refine_with_unexpectedness(test_data_set, Y_train.item_dict, mlp_y_pred, Ytest, refined_unexpected_rules, \"MLP\", \"Optics\")"
      ],
      "execution_count": null,
      "outputs": []
    },
    {
      "cell_type": "code",
      "metadata": {
        "id": "YmkQPkc7UW_F"
      },
      "source": [
        "score_list['MLP refined Optics'] = my_score\n",
        "score_list['MLP refined f1 avg Optics'] = f1_avg\n",
        "score_list['MLP refined score auc Optics'] = my_auc"
      ],
      "execution_count": null,
      "outputs": []
    },
    {
      "cell_type": "code",
      "metadata": {
        "id": "8jaj59xfU2GX"
      },
      "source": [
        "score_list"
      ],
      "execution_count": null,
      "outputs": []
    },
    {
      "cell_type": "markdown",
      "metadata": {
        "id": "AO3ZaO9qETeu"
      },
      "source": [
        "Test data ratio"
      ]
    },
    {
      "cell_type": "code",
      "metadata": {
        "id": "FOoDC6vmgOFG"
      },
      "source": [
        "unique, counts = np.unique(Y_train.values, return_counts=True)\n",
        "\n",
        "print(np.asarray((unique, counts)).T)"
      ],
      "execution_count": null,
      "outputs": []
    },
    {
      "cell_type": "code",
      "metadata": {
        "id": "poUk7HOTgpAw"
      },
      "source": [
        "Ytest"
      ],
      "execution_count": null,
      "outputs": []
    },
    {
      "cell_type": "code",
      "metadata": {
        "id": "GwbCVLYhgkai"
      },
      "source": [
        "unique, counts = np.unique(Ytest, return_counts=True)\n",
        "\n",
        "print(np.asarray((unique, counts)).T)"
      ],
      "execution_count": null,
      "outputs": []
    }
  ]
}