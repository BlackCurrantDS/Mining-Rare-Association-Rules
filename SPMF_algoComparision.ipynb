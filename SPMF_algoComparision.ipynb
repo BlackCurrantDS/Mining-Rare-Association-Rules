{
  "nbformat": 4,
  "nbformat_minor": 0,
  "metadata": {
    "colab": {
      "name": "SPMF-algoComparision.ipynb",
      "provenance": [],
      "authorship_tag": "ABX9TyNoCEaa5clyfntNWNnSZWP6",
      "include_colab_link": true
    },
    "kernelspec": {
      "name": "python3",
      "display_name": "Python 3"
    }
  },
  "cells": [
    {
      "cell_type": "markdown",
      "metadata": {
        "id": "view-in-github",
        "colab_type": "text"
      },
      "source": [
        "<a href=\"https://colab.research.google.com/github/BlackCurrantDS/DBSE_Project/blob/main/SPMF_algoComparision.ipynb\" target=\"_parent\"><img src=\"https://colab.research.google.com/assets/colab-badge.svg\" alt=\"Open In Colab\"/></a>"
      ]
    },
    {
      "cell_type": "code",
      "metadata": {
        "colab": {
          "base_uri": "https://localhost:8080/"
        },
        "id": "r7GqZuEDjx9j",
        "outputId": "21db3835-3a7d-43be-a933-f745ce1e1d9d"
      },
      "source": [
        "pip install spmf"
      ],
      "execution_count": 54,
      "outputs": [
        {
          "output_type": "stream",
          "text": [
            "Requirement already satisfied: spmf in /usr/local/lib/python3.6/dist-packages (1.3)\n"
          ],
          "name": "stdout"
        }
      ]
    },
    {
      "cell_type": "code",
      "metadata": {
        "id": "K93Z50XAj1sl"
      },
      "source": [
        "from spmf import Spmf\r\n",
        "import pathlib"
      ],
      "execution_count": 55,
      "outputs": []
    },
    {
      "cell_type": "code",
      "metadata": {
        "id": "1Z6YYnrNlfzP"
      },
      "source": [
        "d = '/content/' #specify the folder all the input and output files are\r\n",
        "input_filename = \"/content/credit_train_transactions_rpgrowth.txt\"\r\n",
        "data = \"Credit_Approval\""
      ],
      "execution_count": 56,
      "outputs": []
    },
    {
      "cell_type": "markdown",
      "metadata": {
        "id": "iX3ceGkZJQPy"
      },
      "source": [
        "ECLAT"
      ]
    },
    {
      "cell_type": "code",
      "metadata": {
        "id": "msx0-KjE105a"
      },
      "source": [
        "spmf_eclat = Spmf(\"Eclat\", input_filename=input_filename,\r\n",
        "            output_filename=\"output_eclat\", arguments=[0.01],spmf_bin_location_dir=d )"
      ],
      "execution_count": 57,
      "outputs": []
    },
    {
      "cell_type": "code",
      "metadata": {
        "colab": {
          "base_uri": "https://localhost:8080/"
        },
        "id": "IggfWhIZhY_H",
        "outputId": "209a090b-6b83-4b14-ab8c-df68121b8fc6"
      },
      "source": [
        "spmf_eclat.run()"
      ],
      "execution_count": 58,
      "outputs": [
        {
          "output_type": "stream",
          "text": [
            ">/content/spmf.jar\n",
            "=============  ECLAT v0.96r18 - STATS =============\n",
            " Transactions count from database : 3588\n",
            " Frequent itemsets count : 1040738\n",
            " Total time ~ 7072 ms\n",
            " Maximum memory usage : 183.4640655517578 mb\n",
            "===================================================\n",
            "\n"
          ],
          "name": "stdout"
        }
      ]
    },
    {
      "cell_type": "markdown",
      "metadata": {
        "id": "r0ypHKeKJUXR"
      },
      "source": [
        "Apriori"
      ]
    },
    {
      "cell_type": "code",
      "metadata": {
        "id": "szNZt4y6JaN6"
      },
      "source": [
        "spmf_apriori = Spmf(\"Apriori\", input_filename=input_filename,\r\n",
        "            output_filename=\"output_apriori\", arguments=[0.01],spmf_bin_location_dir=d )"
      ],
      "execution_count": 59,
      "outputs": []
    },
    {
      "cell_type": "code",
      "metadata": {
        "colab": {
          "base_uri": "https://localhost:8080/"
        },
        "id": "EVW7PD3bJaN8",
        "outputId": "48b071f9-90f8-493c-ae67-44e0ed996ed8"
      },
      "source": [
        "spmf_apriori.run()"
      ],
      "execution_count": 60,
      "outputs": [
        {
          "output_type": "stream",
          "text": [
            ">/content/spmf.jar\n",
            "=============  APRIORI - STATS =============\n",
            " Candidates count : 1059477\n",
            " The algorithm stopped at size 16\n",
            " Frequent itemsets count : 1040738\n",
            " Maximum memory usage : 142.197265625 mb\n",
            " Total time ~ 834576 ms\n",
            "===================================================\n",
            "\n"
          ],
          "name": "stdout"
        }
      ]
    },
    {
      "cell_type": "markdown",
      "metadata": {
        "id": "c_eeeM-8JWeK"
      },
      "source": [
        "FP-Growth"
      ]
    },
    {
      "cell_type": "code",
      "metadata": {
        "id": "y0J5N2JjJb6h"
      },
      "source": [
        "spmf_fpgrowth = Spmf(\"FPGrowth_itemsets\", input_filename=input_filename,\r\n",
        "            output_filename=\"output_FP-Growth\", arguments=[0.01],spmf_bin_location_dir=d )"
      ],
      "execution_count": 61,
      "outputs": []
    },
    {
      "cell_type": "code",
      "metadata": {
        "colab": {
          "base_uri": "https://localhost:8080/"
        },
        "id": "ptOu7tsRJb6h",
        "outputId": "6e86caa0-9477-493f-ec6f-d66252253a53"
      },
      "source": [
        "spmf_fpgrowth.run()"
      ],
      "execution_count": 62,
      "outputs": [
        {
          "output_type": "stream",
          "text": [
            ">/content/spmf.jar\n",
            "=============  FP-GROWTH 2.42 - STATS =============\n",
            " Transactions count from database : 3588\n",
            " Max memory usage: 30.863998413085938 mb \n",
            " Frequent itemsets count : 1040738\n",
            " Total time ~ 2460 ms\n",
            "===================================================\n",
            "\n"
          ],
          "name": "stdout"
        }
      ]
    },
    {
      "cell_type": "markdown",
      "metadata": {
        "id": "0Jw26YSmKNvy"
      },
      "source": [
        "RunTime"
      ]
    },
    {
      "cell_type": "code",
      "metadata": {
        "colab": {
          "base_uri": "https://localhost:8080/"
        },
        "id": "M-3pLpuNKO1K",
        "outputId": "1066edae-d3a5-4ed7-e5a8-faeabd5a53fc"
      },
      "source": [
        "#Apriori\r\n",
        "min_sup = [.01, .02,.03,.04, .05,.06,.07,.08,.09, .1, .2, .5, .6]\r\n",
        "import time\r\n",
        "run_time_apr = []\r\n",
        "for i in min_sup:\r\n",
        "    print(i)\r\n",
        "    start_time = time.time()\r\n",
        "    spmf_apriori = Spmf(\"Apriori\", input_filename=input_filename,\r\n",
        "            output_filename=\"output_apriori\", arguments=[i],spmf_bin_location_dir=d )\r\n",
        "    spmf_apriori.run()\r\n",
        "    print(\"For %i--- %s seconds ---\" %(i, time.time() - start_time))\r\n",
        "    run_time_apr.append(time.time() - start_time)\r\n",
        "  \r\n",
        "run_time_apr"
      ],
      "execution_count": 63,
      "outputs": [
        {
          "output_type": "stream",
          "text": [
            "0.01\n",
            ">/content/spmf.jar\n",
            "=============  APRIORI - STATS =============\n",
            " Candidates count : 1059477\n",
            " The algorithm stopped at size 16\n",
            " Frequent itemsets count : 1040738\n",
            " Maximum memory usage : 140.6953125 mb\n",
            " Total time ~ 725825 ms\n",
            "===================================================\n",
            "\n",
            "For 0--- 726.1026284694672 seconds ---\n",
            "0.02\n",
            ">/content/spmf.jar\n",
            "=============  APRIORI - STATS =============\n",
            " Candidates count : 416115\n",
            " The algorithm stopped at size 16\n",
            " Frequent itemsets count : 405326\n",
            " Maximum memory usage : 120.20068359375 mb\n",
            " Total time ~ 131375 ms\n",
            "===================================================\n",
            "\n",
            "For 0--- 131.66241121292114 seconds ---\n",
            "0.03\n",
            ">/content/spmf.jar\n",
            "=============  APRIORI - STATS =============\n",
            " Candidates count : 235104\n",
            " The algorithm stopped at size 15\n",
            " Frequent itemsets count : 228061\n",
            " Maximum memory usage : 90.82955932617188 mb\n",
            " Total time ~ 49590 ms\n",
            "===================================================\n",
            "\n",
            "For 0--- 49.87481451034546 seconds ---\n",
            "0.04\n",
            ">/content/spmf.jar\n",
            "=============  APRIORI - STATS =============\n",
            " Candidates count : 151861\n",
            " The algorithm stopped at size 14\n",
            " Frequent itemsets count : 146685\n",
            " Maximum memory usage : 36.820831298828125 mb\n",
            " Total time ~ 29103 ms\n",
            "===================================================\n",
            "\n",
            "For 0--- 29.38007354736328 seconds ---\n",
            "0.05\n",
            ">/content/spmf.jar\n",
            "=============  APRIORI - STATS =============\n",
            " Candidates count : 107845\n",
            " The algorithm stopped at size 14\n",
            " Frequent itemsets count : 103818\n",
            " Maximum memory usage : 25.5775146484375 mb\n",
            " Total time ~ 17442 ms\n",
            "===================================================\n",
            "\n",
            "For 0--- 17.7153799533844 seconds ---\n",
            "0.06\n",
            ">/content/spmf.jar\n",
            "=============  APRIORI - STATS =============\n",
            " Candidates count : 78556\n",
            " The algorithm stopped at size 13\n",
            " Frequent itemsets count : 75222\n",
            " Maximum memory usage : 27.709266662597656 mb\n",
            " Total time ~ 13054 ms\n",
            "===================================================\n",
            "\n",
            "For 0--- 13.322051048278809 seconds ---\n",
            "0.07\n",
            ">/content/spmf.jar\n",
            "=============  APRIORI - STATS =============\n",
            " Candidates count : 60622\n",
            " The algorithm stopped at size 13\n",
            " Frequent itemsets count : 57969\n",
            " Maximum memory usage : 19.491302490234375 mb\n",
            " Total time ~ 9775 ms\n",
            "===================================================\n",
            "\n",
            "For 0--- 10.03226637840271 seconds ---\n",
            "0.08\n",
            ">/content/spmf.jar\n",
            "=============  APRIORI - STATS =============\n",
            " Candidates count : 47729\n",
            " The algorithm stopped at size 13\n",
            " Frequent itemsets count : 45503\n",
            " Maximum memory usage : 18.643325805664062 mb\n",
            " Total time ~ 7712 ms\n",
            "===================================================\n",
            "\n",
            "For 0--- 7.976732969284058 seconds ---\n",
            "0.09\n",
            ">/content/spmf.jar\n",
            "=============  APRIORI - STATS =============\n",
            " Candidates count : 38753\n",
            " The algorithm stopped at size 13\n",
            " Frequent itemsets count : 36734\n",
            " Maximum memory usage : 20.643356323242188 mb\n",
            " Total time ~ 5521 ms\n",
            "===================================================\n",
            "\n",
            "For 0--- 5.791479825973511 seconds ---\n",
            "0.1\n",
            ">/content/spmf.jar\n",
            "=============  APRIORI - STATS =============\n",
            " Candidates count : 31513\n",
            " The algorithm stopped at size 12\n",
            " Frequent itemsets count : 29738\n",
            " Maximum memory usage : 19.643325805664062 mb\n",
            " Total time ~ 4201 ms\n",
            "===================================================\n",
            "\n",
            "For 0--- 4.458494663238525 seconds ---\n",
            "0.2\n",
            ">/content/spmf.jar\n",
            "=============  APRIORI - STATS =============\n",
            " Candidates count : 6097\n",
            " The algorithm stopped at size 10\n",
            " Frequent itemsets count : 5463\n",
            " Maximum memory usage : 7.26019287109375 mb\n",
            " Total time ~ 1638 ms\n",
            "===================================================\n",
            "\n",
            "For 0--- 1.897428035736084 seconds ---\n",
            "0.5\n",
            ">/content/spmf.jar\n",
            "=============  APRIORI - STATS =============\n",
            " Candidates count : 261\n",
            " The algorithm stopped at size 7\n",
            " Frequent itemsets count : 198\n",
            " Maximum memory usage : 3.86724853515625 mb\n",
            " Total time ~ 269 ms\n",
            "===================================================\n",
            "\n",
            "For 0--- 0.5446031093597412 seconds ---\n",
            "0.6\n",
            ">/content/spmf.jar\n",
            "=============  APRIORI - STATS =============\n",
            " Candidates count : 91\n",
            " The algorithm stopped at size 6\n",
            " Frequent itemsets count : 74\n",
            " Maximum memory usage : 3.6593170166015625 mb\n",
            " Total time ~ 189 ms\n",
            "===================================================\n",
            "\n",
            "For 0--- 0.4701559543609619 seconds ---\n"
          ],
          "name": "stdout"
        },
        {
          "output_type": "execute_result",
          "data": {
            "text/plain": [
              "[726.1026704311371,\n",
              " 131.6625566482544,\n",
              " 49.874874114990234,\n",
              " 29.38011884689331,\n",
              " 17.71541118621826,\n",
              " 13.322080850601196,\n",
              " 10.03231167793274,\n",
              " 7.976776838302612,\n",
              " 5.791525602340698,\n",
              " 4.4585466384887695,\n",
              " 1.8974809646606445,\n",
              " 0.5446338653564453,\n",
              " 0.4702005386352539]"
            ]
          },
          "metadata": {
            "tags": []
          },
          "execution_count": 63
        }
      ]
    },
    {
      "cell_type": "code",
      "metadata": {
        "colab": {
          "base_uri": "https://localhost:8080/"
        },
        "id": "a4i_umMXKxlD",
        "outputId": "5fd39c36-5bf0-4106-ba87-5f6b9b0aa15d"
      },
      "source": [
        "#EClat\r\n",
        "\r\n",
        "import time\r\n",
        "run_time_eclat = []\r\n",
        "for i in min_sup:\r\n",
        "    print(i)\r\n",
        "    start_time = time.time()\r\n",
        "    spmf_eclat = Spmf(\"Eclat\", input_filename=input_filename,\r\n",
        "            output_filename=\"output_Eclat\", arguments=[i],spmf_bin_location_dir=d )\r\n",
        "    spmf_eclat.run()\r\n",
        "    print(\"For %i--- %s seconds ---\" %(i, time.time() - start_time))\r\n",
        "    run_time_eclat.append(time.time() - start_time)\r\n",
        "  \r\n",
        "run_time_eclat"
      ],
      "execution_count": 64,
      "outputs": [
        {
          "output_type": "stream",
          "text": [
            "0.01\n",
            ">/content/spmf.jar\n",
            "=============  ECLAT v0.96r18 - STATS =============\n",
            " Transactions count from database : 3588\n",
            " Frequent itemsets count : 1040738\n",
            " Total time ~ 7733 ms\n",
            " Maximum memory usage : 252.41360473632812 mb\n",
            "===================================================\n",
            "\n",
            "For 0--- 8.579451084136963 seconds ---\n",
            "0.02\n",
            ">/content/spmf.jar\n",
            "=============  ECLAT v0.96r18 - STATS =============\n",
            " Transactions count from database : 3588\n",
            " Frequent itemsets count : 405326\n",
            " Total time ~ 5717 ms\n",
            " Maximum memory usage : 204.38450622558594 mb\n",
            "===================================================\n",
            "\n",
            "For 0--- 6.2763378620147705 seconds ---\n",
            "0.03\n",
            ">/content/spmf.jar\n",
            "=============  ECLAT v0.96r18 - STATS =============\n",
            " Transactions count from database : 3588\n",
            " Frequent itemsets count : 228061\n",
            " Total time ~ 4397 ms\n",
            " Maximum memory usage : 252.33114624023438 mb\n",
            "===================================================\n",
            "\n",
            "For 0--- 4.888468503952026 seconds ---\n",
            "0.04\n",
            ">/content/spmf.jar\n",
            "=============  ECLAT v0.96r18 - STATS =============\n",
            " Transactions count from database : 3588\n",
            " Frequent itemsets count : 146685\n",
            " Total time ~ 3670 ms\n",
            " Maximum memory usage : 228.2781982421875 mb\n",
            "===================================================\n",
            "\n",
            "For 0--- 4.067641258239746 seconds ---\n",
            "0.05\n",
            ">/content/spmf.jar\n",
            "=============  ECLAT v0.96r18 - STATS =============\n",
            " Transactions count from database : 3588\n",
            " Frequent itemsets count : 103818\n",
            " Total time ~ 3206 ms\n",
            " Maximum memory usage : 240.21803283691406 mb\n",
            "===================================================\n",
            "\n",
            "For 0--- 3.5830917358398438 seconds ---\n",
            "0.06\n",
            ">/content/spmf.jar\n",
            "=============  ECLAT v0.96r18 - STATS =============\n",
            " Transactions count from database : 3588\n",
            " Frequent itemsets count : 75222\n",
            " Total time ~ 2836 ms\n",
            " Maximum memory usage : 207.33740234375 mb\n",
            "===================================================\n",
            "\n",
            "For 0--- 3.1766178607940674 seconds ---\n",
            "0.07\n",
            ">/content/spmf.jar\n",
            "=============  ECLAT v0.96r18 - STATS =============\n",
            " Transactions count from database : 3588\n",
            " Frequent itemsets count : 57969\n",
            " Total time ~ 2058 ms\n",
            " Maximum memory usage : 236.87222290039062 mb\n",
            "===================================================\n",
            "\n",
            "For 0--- 2.433718681335449 seconds ---\n",
            "0.08\n",
            ">/content/spmf.jar\n",
            "=============  ECLAT v0.96r18 - STATS =============\n",
            " Transactions count from database : 3588\n",
            " Frequent itemsets count : 45503\n",
            " Total time ~ 2160 ms\n",
            " Maximum memory usage : 212.43701171875 mb\n",
            "===================================================\n",
            "\n",
            "For 0--- 2.515070676803589 seconds ---\n",
            "0.09\n",
            ">/content/spmf.jar\n",
            "=============  ECLAT v0.96r18 - STATS =============\n",
            " Transactions count from database : 3588\n",
            " Frequent itemsets count : 36734\n",
            " Total time ~ 1999 ms\n",
            " Maximum memory usage : 230.73975372314453 mb\n",
            "===================================================\n",
            "\n",
            "For 0--- 2.3766913414001465 seconds ---\n",
            "0.1\n",
            ">/content/spmf.jar\n",
            "=============  ECLAT v0.96r18 - STATS =============\n",
            " Transactions count from database : 3588\n",
            " Frequent itemsets count : 29738\n",
            " Total time ~ 1792 ms\n",
            " Maximum memory usage : 226.81873321533203 mb\n",
            "===================================================\n",
            "\n",
            "For 0--- 2.150784730911255 seconds ---\n",
            "0.2\n",
            ">/content/spmf.jar\n",
            "=============  ECLAT v0.96r18 - STATS =============\n",
            " Transactions count from database : 3588\n",
            " Frequent itemsets count : 5463\n",
            " Total time ~ 938 ms\n",
            " Maximum memory usage : 221.28681182861328 mb\n",
            "===================================================\n",
            "\n",
            "For 0--- 1.3157556056976318 seconds ---\n",
            "0.5\n",
            ">/content/spmf.jar\n",
            "=============  ECLAT v0.96r18 - STATS =============\n",
            " Transactions count from database : 3588\n",
            " Frequent itemsets count : 198\n",
            " Total time ~ 242 ms\n",
            " Maximum memory usage : 16.820480346679688 mb\n",
            "===================================================\n",
            "\n",
            "For 0--- 0.6103813648223877 seconds ---\n",
            "0.6\n",
            ">/content/spmf.jar\n",
            "=============  ECLAT v0.96r18 - STATS =============\n",
            " Transactions count from database : 3588\n",
            " Frequent itemsets count : 74\n",
            " Total time ~ 144 ms\n",
            " Maximum memory usage : 14.881874084472656 mb\n",
            "===================================================\n",
            "\n",
            "For 0--- 0.4987504482269287 seconds ---\n"
          ],
          "name": "stdout"
        },
        {
          "output_type": "execute_result",
          "data": {
            "text/plain": [
              "[8.579480648040771,\n",
              " 6.276386499404907,\n",
              " 4.888514757156372,\n",
              " 4.06768536567688,\n",
              " 3.5831410884857178,\n",
              " 3.176661252975464,\n",
              " 2.433748960494995,\n",
              " 2.5151138305664062,\n",
              " 2.376735210418701,\n",
              " 2.1508545875549316,\n",
              " 1.3158018589019775,\n",
              " 0.6104221343994141,\n",
              " 0.4988090991973877]"
            ]
          },
          "metadata": {
            "tags": []
          },
          "execution_count": 64
        }
      ]
    },
    {
      "cell_type": "code",
      "metadata": {
        "colab": {
          "base_uri": "https://localhost:8080/"
        },
        "id": "CaLU-mheK-As",
        "outputId": "b3de20c7-2122-4a2a-c5ad-c94d2544dc94"
      },
      "source": [
        "#fp-grwoth\r\n",
        "\r\n",
        "import time\r\n",
        "run_time_fp = []\r\n",
        "for i in min_sup:\r\n",
        "    print(i)\r\n",
        "    start_time = time.time()\r\n",
        "    spmf_fp = Spmf(\"FPGrowth_itemsets\", input_filename=input_filename,\r\n",
        "            output_filename=\"output_fp\", arguments=[i],spmf_bin_location_dir=d )\r\n",
        "    spmf_fp.run()\r\n",
        "    print(\"For %i--- %s seconds ---\" %(i, time.time() - start_time))\r\n",
        "    run_time_fp.append(time.time() - start_time)\r\n",
        "  \r\n",
        "run_time_fp"
      ],
      "execution_count": 65,
      "outputs": [
        {
          "output_type": "stream",
          "text": [
            "0.01\n",
            ">/content/spmf.jar\n",
            "=============  FP-GROWTH 2.42 - STATS =============\n",
            " Transactions count from database : 3588\n",
            " Max memory usage: 6.9966583251953125 mb \n",
            " Frequent itemsets count : 1040738\n",
            " Total time ~ 2237 ms\n",
            "===================================================\n",
            "\n",
            "For 0--- 3.004903793334961 seconds ---\n",
            "0.02\n",
            ">/content/spmf.jar\n",
            "=============  FP-GROWTH 2.42 - STATS =============\n",
            " Transactions count from database : 3588\n",
            " Max memory usage: 64.92807006835938 mb \n",
            " Frequent itemsets count : 405326\n",
            " Total time ~ 1376 ms\n",
            "===================================================\n",
            "\n",
            "For 0--- 1.8539485931396484 seconds ---\n",
            "0.03\n",
            ">/content/spmf.jar\n",
            "=============  FP-GROWTH 2.42 - STATS =============\n",
            " Transactions count from database : 3588\n",
            " Max memory usage: 72.29869079589844 mb \n",
            " Frequent itemsets count : 228061\n",
            " Total time ~ 1487 ms\n",
            "===================================================\n",
            "\n",
            "For 0--- 1.863588809967041 seconds ---\n",
            "0.04\n",
            ">/content/spmf.jar\n",
            "=============  FP-GROWTH 2.42 - STATS =============\n",
            " Transactions count from database : 3588\n",
            " Max memory usage: 18.310020446777344 mb \n",
            " Frequent itemsets count : 146685\n",
            " Total time ~ 997 ms\n",
            "===================================================\n",
            "\n",
            "For 0--- 1.28873872756958 seconds ---\n",
            "0.05\n",
            ">/content/spmf.jar\n",
            "=============  FP-GROWTH 2.42 - STATS =============\n",
            " Transactions count from database : 3588\n",
            " Max memory usage: 106.123046875 mb \n",
            " Frequent itemsets count : 103818\n",
            " Total time ~ 786 ms\n",
            "===================================================\n",
            "\n",
            "For 0--- 1.0531611442565918 seconds ---\n",
            "0.06\n",
            ">/content/spmf.jar\n",
            "=============  FP-GROWTH 2.42 - STATS =============\n",
            " Transactions count from database : 3588\n",
            " Max memory usage: 79.62892150878906 mb \n",
            " Frequent itemsets count : 75222\n",
            " Total time ~ 637 ms\n",
            "===================================================\n",
            "\n",
            "For 0--- 0.9173641204833984 seconds ---\n",
            "0.07\n",
            ">/content/spmf.jar\n",
            "=============  FP-GROWTH 2.42 - STATS =============\n",
            " Transactions count from database : 3588\n",
            " Max memory usage: 65.123046875 mb \n",
            " Frequent itemsets count : 57969\n",
            " Total time ~ 568 ms\n",
            "===================================================\n",
            "\n",
            "For 0--- 0.8405520915985107 seconds ---\n",
            "0.08\n",
            ">/content/spmf.jar\n",
            "=============  FP-GROWTH 2.42 - STATS =============\n",
            " Transactions count from database : 3588\n",
            " Max memory usage: 54.123016357421875 mb \n",
            " Frequent itemsets count : 45503\n",
            " Total time ~ 660 ms\n",
            "===================================================\n",
            "\n",
            "For 0--- 0.951136589050293 seconds ---\n",
            "0.09\n",
            ">/content/spmf.jar\n",
            "=============  FP-GROWTH 2.42 - STATS =============\n",
            " Transactions count from database : 3588\n",
            " Max memory usage: 45.632843017578125 mb \n",
            " Frequent itemsets count : 36734\n",
            " Total time ~ 448 ms\n",
            "===================================================\n",
            "\n",
            "For 0--- 0.7190976142883301 seconds ---\n",
            "0.1\n",
            ">/content/spmf.jar\n",
            "=============  FP-GROWTH 2.42 - STATS =============\n",
            " Transactions count from database : 3588\n",
            " Max memory usage: 39.62889099121094 mb \n",
            " Frequent itemsets count : 29738\n",
            " Total time ~ 480 ms\n",
            "===================================================\n",
            "\n",
            "For 0--- 0.7621395587921143 seconds ---\n",
            "0.2\n",
            ">/content/spmf.jar\n",
            "=============  FP-GROWTH 2.42 - STATS =============\n",
            " Transactions count from database : 3588\n",
            " Max memory usage: 17.130874633789062 mb \n",
            " Frequent itemsets count : 5463\n",
            " Total time ~ 308 ms\n",
            "===================================================\n",
            "\n",
            "For 0--- 0.5980010032653809 seconds ---\n",
            "0.5\n",
            ">/content/spmf.jar\n",
            "=============  FP-GROWTH 2.42 - STATS =============\n",
            " Transactions count from database : 3588\n",
            " Max memory usage: 9.130844116210938 mb \n",
            " Frequent itemsets count : 198\n",
            " Total time ~ 165 ms\n",
            "===================================================\n",
            "\n",
            "For 0--- 0.4407806396484375 seconds ---\n",
            "0.6\n",
            ">/content/spmf.jar\n",
            "=============  FP-GROWTH 2.42 - STATS =============\n",
            " Transactions count from database : 3588\n",
            " Max memory usage: 8.636749267578125 mb \n",
            " Frequent itemsets count : 74\n",
            " Total time ~ 164 ms\n",
            "===================================================\n",
            "\n",
            "For 0--- 0.45560121536254883 seconds ---\n"
          ],
          "name": "stdout"
        },
        {
          "output_type": "execute_result",
          "data": {
            "text/plain": [
              "[3.004934787750244,\n",
              " 1.854010820388794,\n",
              " 1.8636329174041748,\n",
              " 1.2887835502624512,\n",
              " 1.0532028675079346,\n",
              " 0.9174058437347412,\n",
              " 0.8405916690826416,\n",
              " 0.9511759281158447,\n",
              " 0.719153642654419,\n",
              " 0.7621839046478271,\n",
              " 0.5980629920959473,\n",
              " 0.4408094882965088,\n",
              " 0.4556434154510498]"
            ]
          },
          "metadata": {
            "tags": []
          },
          "execution_count": 65
        }
      ]
    },
    {
      "cell_type": "code",
      "metadata": {
        "id": "XTf1_nexmXgt"
      },
      "source": [
        "#plot it\r\n",
        "import seaborn as sns\r\n",
        "import pandas as pd\r\n",
        "import matplotlib.pyplot as plt\r\n"
      ],
      "execution_count": 66,
      "outputs": []
    },
    {
      "cell_type": "code",
      "metadata": {
        "id": "4uNnE7gboF5m"
      },
      "source": [
        "df = pd.DataFrame({'Fp_Growth': run_time_fp, 'Apriori' :run_time_apr, 'ECLAT' :run_time_eclat })"
      ],
      "execution_count": 67,
      "outputs": []
    },
    {
      "cell_type": "code",
      "metadata": {
        "colab": {
          "base_uri": "https://localhost:8080/",
          "height": 280
        },
        "id": "oBSpVXvZny1N",
        "outputId": "bcbeaa61-0db8-441f-cac2-f8e6a8dad563"
      },
      "source": [
        "g = sns.lineplot(data=df)\r\n",
        "g.set_xticks(range(len(df))) # <--- set the ticks first\r\n",
        "g.set_xticklabels(['.01','.02', '.03','.04','.05','.06', '.07','.08','.09', '.1', '.2','.3','.4', '.5', '.6'])\r\n",
        "g.set(xlabel='Min_Support', ylabel='Time in Seconds')\r\n",
        "plt.savefig(data+\"_\"+\"Run time performance.png\")"
      ],
      "execution_count": 68,
      "outputs": [
        {
          "output_type": "display_data",
          "data": {
            "image/png": "[encoded data removed]",
            "text/plain": [
              "<Figure size 432x288 with 1 Axes>"
            ]
          },
          "metadata": {
            "tags": [],
            "needs_background": "light"
          }
        }
      ]
    }
  ]
}