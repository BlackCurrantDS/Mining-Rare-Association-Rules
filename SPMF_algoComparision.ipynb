{
  "nbformat": 4,
  "nbformat_minor": 0,
  "metadata": {
    "colab": {
      "name": "SPMF-algoComparision.ipynb",
      "provenance": [],
      "mount_file_id": "1D6AYMmbRGCh2ufgU2zJLPBVmqETZehtY",
      "authorship_tag": "ABX9TyNmF/eTF96p2J/UALBwfNpk",
      "include_colab_link": true
    },
    "kernelspec": {
      "name": "python3",
      "display_name": "Python 3"
    }
  },
  "cells": [
    {
      "cell_type": "markdown",
      "metadata": {
        "id": "view-in-github",
        "colab_type": "text"
      },
      "source": [
        "<a href=\"https://colab.research.google.com/github/BlackCurrantDS/DBSE_Project/blob/main/SPMF_algoComparision.ipynb\" target=\"_parent\"><img src=\"https://colab.research.google.com/assets/colab-badge.svg\" alt=\"Open In Colab\"/></a>"
      ]
    },
    {
      "cell_type": "code",
      "metadata": {
        "colab": {
          "base_uri": "https://localhost:8080/"
        },
        "id": "r7GqZuEDjx9j",
        "outputId": "84a531f3-fd57-4036-cf19-0b397318a804"
      },
      "source": [
        "pip install spmf"
      ],
      "execution_count": 88,
      "outputs": [
        {
          "output_type": "stream",
          "text": [
            "Requirement already satisfied: spmf in /usr/local/lib/python3.6/dist-packages (1.3)\n"
          ],
          "name": "stdout"
        }
      ]
    },
    {
      "cell_type": "code",
      "metadata": {
        "id": "K93Z50XAj1sl"
      },
      "source": [
        "from spmf import Spmf\r\n",
        "import pathlib"
      ],
      "execution_count": 89,
      "outputs": []
    },
    {
      "cell_type": "code",
      "metadata": {
        "id": "1Z6YYnrNlfzP"
      },
      "source": [
        "d = '/content/' #specify the folder all the input and output files are\r\n",
        "input_filename = \"/content/credit_train_transactions_rpgrowth.txt\"\r\n",
        "data = \"Credit_Approval\""
      ],
      "execution_count": 90,
      "outputs": []
    },
    {
      "cell_type": "markdown",
      "metadata": {
        "id": "iX3ceGkZJQPy"
      },
      "source": [
        "ECLAT"
      ]
    },
    {
      "cell_type": "code",
      "metadata": {
        "id": "msx0-KjE105a"
      },
      "source": [
        "spmf_eclat = Spmf(\"Eclat\", input_filename=input_filename,\r\n",
        "            output_filename=\"output_eclat\", arguments=[0.01],spmf_bin_location_dir=d )"
      ],
      "execution_count": 91,
      "outputs": []
    },
    {
      "cell_type": "code",
      "metadata": {
        "id": "IggfWhIZhY_H"
      },
      "source": [
        "#spmf_eclat.run()"
      ],
      "execution_count": 92,
      "outputs": []
    },
    {
      "cell_type": "markdown",
      "metadata": {
        "id": "r0ypHKeKJUXR"
      },
      "source": [
        "Apriori"
      ]
    },
    {
      "cell_type": "code",
      "metadata": {
        "id": "szNZt4y6JaN6"
      },
      "source": [
        "spmf_apriori = Spmf(\"Apriori\", input_filename=input_filename,\r\n",
        "            output_filename=\"output_apriori\", arguments=[0.01],spmf_bin_location_dir=d )"
      ],
      "execution_count": 93,
      "outputs": []
    },
    {
      "cell_type": "code",
      "metadata": {
        "id": "EVW7PD3bJaN8"
      },
      "source": [
        "#spmf_apriori.run()"
      ],
      "execution_count": 94,
      "outputs": []
    },
    {
      "cell_type": "markdown",
      "metadata": {
        "id": "c_eeeM-8JWeK"
      },
      "source": [
        "FP-Growth"
      ]
    },
    {
      "cell_type": "code",
      "metadata": {
        "id": "y0J5N2JjJb6h"
      },
      "source": [
        "spmf_fpgrowth = Spmf(\"FPGrowth_itemsets\", input_filename=input_filename,\r\n",
        "            output_filename=\"output_FP-Growth\", arguments=[0.01],spmf_bin_location_dir=d )"
      ],
      "execution_count": 95,
      "outputs": []
    },
    {
      "cell_type": "code",
      "metadata": {
        "id": "ptOu7tsRJb6h"
      },
      "source": [
        "#spmf_fpgrowth.run()"
      ],
      "execution_count": 96,
      "outputs": []
    },
    {
      "cell_type": "markdown",
      "metadata": {
        "id": "0Jw26YSmKNvy"
      },
      "source": [
        "RunTime"
      ]
    },
    {
      "cell_type": "code",
      "metadata": {
        "colab": {
          "base_uri": "https://localhost:8080/"
        },
        "id": "M-3pLpuNKO1K",
        "outputId": "dff1ddad-a1e1-487b-c1b7-806a994e50b1"
      },
      "source": [
        "#Apriori\r\n",
        "min_sup = [.01, .02,.03,.04, .05,.06,.07,.08,.09, .1, .2, .5, .6]\r\n",
        "import time\r\n",
        "run_time_apr = []\r\n",
        "for i in min_sup:\r\n",
        "    print(i)\r\n",
        "    start_time = time.time()\r\n",
        "    spmf_apriori = Spmf(\"Apriori\", input_filename=input_filename,\r\n",
        "            output_filename=data+\"output_apriori\"+\"_\"+str(i), arguments=[i],spmf_bin_location_dir=d )\r\n",
        "    spmf_apriori.run()\r\n",
        "    print(\"For %i--- %s seconds ---\" %(i, time.time() - start_time))\r\n",
        "    run_time_apr.append(time.time() - start_time)\r\n",
        "  \r\n",
        "run_time_apr"
      ],
      "execution_count": 97,
      "outputs": [
        {
          "output_type": "stream",
          "text": [
            "0.01\n",
            ">/content/spmf.jar\n",
            "=============  APRIORI - STATS =============\n",
            " Candidates count : 1059477\n",
            " The algorithm stopped at size 16\n",
            " Frequent itemsets count : 1040738\n",
            " Maximum memory usage : 142.18701171875 mb\n",
            " Total time ~ 893928 ms\n",
            "===================================================\n",
            "\n",
            "For 0--- 894.2378118038177 seconds ---\n",
            "0.02\n",
            ">/content/spmf.jar\n",
            "=============  APRIORI - STATS =============\n",
            " Candidates count : 416115\n",
            " The algorithm stopped at size 16\n",
            " Frequent itemsets count : 405326\n",
            " Maximum memory usage : 114.6953125 mb\n",
            " Total time ~ 148935 ms\n",
            "===================================================\n",
            "\n",
            "For 0--- 149.22242641448975 seconds ---\n",
            "0.03\n",
            ">/content/spmf.jar\n",
            "=============  APRIORI - STATS =============\n",
            " Candidates count : 235104\n",
            " The algorithm stopped at size 15\n",
            " Frequent itemsets count : 228061\n",
            " Maximum memory usage : 87.84647369384766 mb\n",
            " Total time ~ 45006 ms\n",
            "===================================================\n",
            "\n",
            "For 0--- 45.278351068496704 seconds ---\n",
            "0.04\n",
            ">/content/spmf.jar\n",
            "=============  APRIORI - STATS =============\n",
            " Candidates count : 151861\n",
            " The algorithm stopped at size 14\n",
            " Frequent itemsets count : 146685\n",
            " Maximum memory usage : 35.59503173828125 mb\n",
            " Total time ~ 22654 ms\n",
            "===================================================\n",
            "\n",
            "For 0--- 22.896844148635864 seconds ---\n",
            "0.05\n",
            ">/content/spmf.jar\n",
            "=============  APRIORI - STATS =============\n",
            " Candidates count : 107845\n",
            " The algorithm stopped at size 14\n",
            " Frequent itemsets count : 103818\n",
            " Maximum memory usage : 25.5775146484375 mb\n",
            " Total time ~ 18169 ms\n",
            "===================================================\n",
            "\n",
            "For 0--- 18.45562982559204 seconds ---\n",
            "0.06\n",
            ">/content/spmf.jar\n",
            "=============  APRIORI - STATS =============\n",
            " Candidates count : 78556\n",
            " The algorithm stopped at size 13\n",
            " Frequent itemsets count : 75222\n",
            " Maximum memory usage : 28.209930419921875 mb\n",
            " Total time ~ 12158 ms\n",
            "===================================================\n",
            "\n",
            "For 0--- 12.417364835739136 seconds ---\n",
            "0.07\n",
            ">/content/spmf.jar\n",
            "=============  APRIORI - STATS =============\n",
            " Candidates count : 60622\n",
            " The algorithm stopped at size 13\n",
            " Frequent itemsets count : 57969\n",
            " Maximum memory usage : 18.4913330078125 mb\n",
            " Total time ~ 9081 ms\n",
            "===================================================\n",
            "\n",
            "For 0--- 9.33669400215149 seconds ---\n",
            "0.08\n",
            ">/content/spmf.jar\n",
            "=============  APRIORI - STATS =============\n",
            " Candidates count : 47729\n",
            " The algorithm stopped at size 13\n",
            " Frequent itemsets count : 45503\n",
            " Maximum memory usage : 18.61206817626953 mb\n",
            " Total time ~ 7335 ms\n",
            "===================================================\n",
            "\n",
            "For 0--- 7.580963850021362 seconds ---\n",
            "0.09\n",
            ">/content/spmf.jar\n",
            "=============  APRIORI - STATS =============\n",
            " Candidates count : 38753\n",
            " The algorithm stopped at size 13\n",
            " Frequent itemsets count : 36734\n",
            " Maximum memory usage : 19.86724853515625 mb\n",
            " Total time ~ 6458 ms\n",
            "===================================================\n",
            "\n",
            "For 0--- 6.7300636768341064 seconds ---\n",
            "0.1\n",
            ">/content/spmf.jar\n",
            "=============  APRIORI - STATS =============\n",
            " Candidates count : 31513\n",
            " The algorithm stopped at size 12\n",
            " Frequent itemsets count : 29738\n",
            " Maximum memory usage : 19.612075805664062 mb\n",
            " Total time ~ 5635 ms\n",
            "===================================================\n",
            "\n",
            "For 0--- 5.905477285385132 seconds ---\n",
            "0.2\n",
            ">/content/spmf.jar\n",
            "=============  APRIORI - STATS =============\n",
            " Candidates count : 6097\n",
            " The algorithm stopped at size 10\n",
            " Frequent itemsets count : 5463\n",
            " Maximum memory usage : 7.24456787109375 mb\n",
            " Total time ~ 1527 ms\n",
            "===================================================\n",
            "\n",
            "For 0--- 1.7886619567871094 seconds ---\n",
            "0.5\n",
            ">/content/spmf.jar\n",
            "=============  APRIORI - STATS =============\n",
            " Candidates count : 261\n",
            " The algorithm stopped at size 7\n",
            " Frequent itemsets count : 198\n",
            " Maximum memory usage : 3.8614044189453125 mb\n",
            " Total time ~ 301 ms\n",
            "===================================================\n",
            "\n",
            "For 0--- 0.5592098236083984 seconds ---\n",
            "0.6\n",
            ">/content/spmf.jar\n",
            "=============  APRIORI - STATS =============\n",
            " Candidates count : 91\n",
            " The algorithm stopped at size 6\n",
            " Frequent itemsets count : 74\n",
            " Maximum memory usage : 3.645355224609375 mb\n",
            " Total time ~ 234 ms\n",
            "===================================================\n",
            "\n",
            "For 0--- 0.5023770332336426 seconds ---\n"
          ],
          "name": "stdout"
        },
        {
          "output_type": "execute_result",
          "data": {
            "text/plain": [
              "[894.2379541397095,\n",
              " 149.22246098518372,\n",
              " 45.2784059047699,\n",
              " 22.896872520446777,\n",
              " 18.455673217773438,\n",
              " 12.4174063205719,\n",
              " 9.336734056472778,\n",
              " 7.580992698669434,\n",
              " 6.73011589050293,\n",
              " 5.9055070877075195,\n",
              " 1.7888259887695312,\n",
              " 0.5592374801635742,\n",
              " 0.502417802810669]"
            ]
          },
          "metadata": {
            "tags": []
          },
          "execution_count": 97
        }
      ]
    },
    {
      "cell_type": "code",
      "metadata": {
        "colab": {
          "base_uri": "https://localhost:8080/"
        },
        "id": "a4i_umMXKxlD",
        "outputId": "a73ca039-0cf1-4d9b-c10c-8e288ee0456c"
      },
      "source": [
        "#EClat\r\n",
        "\r\n",
        "import time\r\n",
        "run_time_eclat = []\r\n",
        "for i in min_sup:\r\n",
        "    print(i)\r\n",
        "    start_time = time.time()\r\n",
        "    spmf_eclat = Spmf(\"Eclat\", input_filename=input_filename,\r\n",
        "            output_filename=data+\"output_Eclat\"+\"_\"+str(i), arguments=[i],spmf_bin_location_dir=d )\r\n",
        "    spmf_eclat.run()\r\n",
        "    print(\"For %i--- %s seconds ---\" %(i, time.time() - start_time))\r\n",
        "    run_time_eclat.append(time.time() - start_time)\r\n",
        "  \r\n",
        "run_time_eclat"
      ],
      "execution_count": 98,
      "outputs": [
        {
          "output_type": "stream",
          "text": [
            "0.01\n",
            ">/content/spmf.jar\n",
            "=============  ECLAT v0.96r18 - STATS =============\n",
            " Transactions count from database : 3588\n",
            " Frequent itemsets count : 1040738\n",
            " Total time ~ 7993 ms\n",
            " Maximum memory usage : 239.23306274414062 mb\n",
            "===================================================\n",
            "\n",
            "For 0--- 8.353596448898315 seconds ---\n",
            "0.02\n",
            ">/content/spmf.jar\n",
            "=============  ECLAT v0.96r18 - STATS =============\n",
            " Transactions count from database : 3588\n",
            " Frequent itemsets count : 405326\n",
            " Total time ~ 5394 ms\n",
            " Maximum memory usage : 227.30059051513672 mb\n",
            "===================================================\n",
            "\n",
            "For 0--- 5.762070655822754 seconds ---\n",
            "0.03\n",
            ">/content/spmf.jar\n",
            "=============  ECLAT v0.96r18 - STATS =============\n",
            " Transactions count from database : 3588\n",
            " Frequent itemsets count : 228061\n",
            " Total time ~ 4538 ms\n",
            " Maximum memory usage : 239.48046875 mb\n",
            "===================================================\n",
            "\n",
            "For 0--- 4.927016019821167 seconds ---\n",
            "0.04\n",
            ">/content/spmf.jar\n",
            "=============  ECLAT v0.96r18 - STATS =============\n",
            " Transactions count from database : 3588\n",
            " Frequent itemsets count : 146685\n",
            " Total time ~ 4013 ms\n",
            " Maximum memory usage : 237.6220703125 mb\n",
            "===================================================\n",
            "\n",
            "For 0--- 4.39697265625 seconds ---\n",
            "0.05\n",
            ">/content/spmf.jar\n",
            "=============  ECLAT v0.96r18 - STATS =============\n",
            " Transactions count from database : 3588\n",
            " Frequent itemsets count : 103818\n",
            " Total time ~ 2834 ms\n",
            " Maximum memory usage : 242.34130859375 mb\n",
            "===================================================\n",
            "\n",
            "For 0--- 3.191154956817627 seconds ---\n",
            "0.06\n",
            ">/content/spmf.jar\n",
            "=============  ECLAT v0.96r18 - STATS =============\n",
            " Transactions count from database : 3588\n",
            " Frequent itemsets count : 75222\n",
            " Total time ~ 2660 ms\n",
            " Maximum memory usage : 252.4677734375 mb\n",
            "===================================================\n",
            "\n",
            "For 0--- 3.0217039585113525 seconds ---\n",
            "0.07\n",
            ">/content/spmf.jar\n",
            "=============  ECLAT v0.96r18 - STATS =============\n",
            " Transactions count from database : 3588\n",
            " Frequent itemsets count : 57969\n",
            " Total time ~ 2573 ms\n",
            " Maximum memory usage : 251.02813720703125 mb\n",
            "===================================================\n",
            "\n",
            "For 0--- 2.9082043170928955 seconds ---\n",
            "0.08\n",
            ">/content/spmf.jar\n",
            "=============  ECLAT v0.96r18 - STATS =============\n",
            " Transactions count from database : 3588\n",
            " Frequent itemsets count : 45503\n",
            " Total time ~ 2215 ms\n",
            " Maximum memory usage : 228.20542907714844 mb\n",
            "===================================================\n",
            "\n",
            "For 0--- 2.5567731857299805 seconds ---\n",
            "0.09\n",
            ">/content/spmf.jar\n",
            "=============  ECLAT v0.96r18 - STATS =============\n",
            " Transactions count from database : 3588\n",
            " Frequent itemsets count : 36734\n",
            " Total time ~ 2094 ms\n",
            " Maximum memory usage : 240.0344696044922 mb\n",
            "===================================================\n",
            "\n",
            "For 0--- 2.477689266204834 seconds ---\n",
            "0.1\n",
            ">/content/spmf.jar\n",
            "=============  ECLAT v0.96r18 - STATS =============\n",
            " Transactions count from database : 3588\n",
            " Frequent itemsets count : 29738\n",
            " Total time ~ 1898 ms\n",
            " Maximum memory usage : 245.31787109375 mb\n",
            "===================================================\n",
            "\n",
            "For 0--- 2.2666685581207275 seconds ---\n",
            "0.2\n",
            ">/content/spmf.jar\n",
            "=============  ECLAT v0.96r18 - STATS =============\n",
            " Transactions count from database : 3588\n",
            " Frequent itemsets count : 5463\n",
            " Total time ~ 919 ms\n",
            " Maximum memory usage : 196.37754821777344 mb\n",
            "===================================================\n",
            "\n",
            "For 0--- 1.277475118637085 seconds ---\n",
            "0.5\n",
            ">/content/spmf.jar\n",
            "=============  ECLAT v0.96r18 - STATS =============\n",
            " Transactions count from database : 3588\n",
            " Frequent itemsets count : 198\n",
            " Total time ~ 288 ms\n",
            " Maximum memory usage : 16.89557647705078 mb\n",
            "===================================================\n",
            "\n",
            "For 0--- 0.6680240631103516 seconds ---\n",
            "0.6\n",
            ">/content/spmf.jar\n",
            "=============  ECLAT v0.96r18 - STATS =============\n",
            " Transactions count from database : 3588\n",
            " Frequent itemsets count : 74\n",
            " Total time ~ 170 ms\n",
            " Maximum memory usage : 14.874092102050781 mb\n",
            "===================================================\n",
            "\n",
            "For 0--- 0.5273010730743408 seconds ---\n"
          ],
          "name": "stdout"
        },
        {
          "output_type": "execute_result",
          "data": {
            "text/plain": [
              "[8.35362434387207,\n",
              " 5.762112617492676,\n",
              " 4.927043676376343,\n",
              " 4.397019386291504,\n",
              " 3.1911966800689697,\n",
              " 3.0217325687408447,\n",
              " 2.9082443714141846,\n",
              " 2.556817054748535,\n",
              " 2.477729082107544,\n",
              " 2.2667226791381836,\n",
              " 1.2775037288665771,\n",
              " 0.6680724620819092,\n",
              " 0.52777099609375]"
            ]
          },
          "metadata": {
            "tags": []
          },
          "execution_count": 98
        }
      ]
    },
    {
      "cell_type": "code",
      "metadata": {
        "colab": {
          "base_uri": "https://localhost:8080/"
        },
        "id": "CaLU-mheK-As",
        "outputId": "a191c36a-1a84-496d-dba2-e15be1bec63d"
      },
      "source": [
        "#fp-grwoth\r\n",
        "\r\n",
        "import time\r\n",
        "run_time_fp = []\r\n",
        "for i in min_sup:\r\n",
        "    print(i)\r\n",
        "    start_time = time.time()\r\n",
        "    spmf_fp = Spmf(\"FPGrowth_itemsets\", input_filename=input_filename,\r\n",
        "            output_filename=data+\"output_fp\"+\"_\"+str(i), arguments=[i],spmf_bin_location_dir=d )\r\n",
        "    spmf_fp.run()\r\n",
        "    print(\"For %i--- %s seconds ---\" %(i, time.time() - start_time))\r\n",
        "    run_time_fp.append(time.time() - start_time)\r\n",
        "  \r\n",
        "run_time_fp"
      ],
      "execution_count": 99,
      "outputs": [
        {
          "output_type": "stream",
          "text": [
            "0.01\n",
            ">/content/spmf.jar\n",
            "=============  FP-GROWTH 2.42 - STATS =============\n",
            " Transactions count from database : 3588\n",
            " Max memory usage: 20.373641967773438 mb \n",
            " Frequent itemsets count : 1040738\n",
            " Total time ~ 2742 ms\n",
            "===================================================\n",
            "\n",
            "For 0--- 3.0170323848724365 seconds ---\n",
            "0.02\n",
            ">/content/spmf.jar\n",
            "=============  FP-GROWTH 2.42 - STATS =============\n",
            " Transactions count from database : 3588\n",
            " Max memory usage: 60.96038055419922 mb \n",
            " Frequent itemsets count : 405326\n",
            " Total time ~ 1724 ms\n",
            "===================================================\n",
            "\n",
            "For 0--- 2.0019724369049072 seconds ---\n",
            "0.03\n",
            ">/content/spmf.jar\n",
            "=============  FP-GROWTH 2.42 - STATS =============\n",
            " Transactions count from database : 3588\n",
            " Max memory usage: 73.275390625 mb \n",
            " Frequent itemsets count : 228061\n",
            " Total time ~ 1220 ms\n",
            "===================================================\n",
            "\n",
            "For 0--- 1.519089937210083 seconds ---\n",
            "0.04\n",
            ">/content/spmf.jar\n",
            "=============  FP-GROWTH 2.42 - STATS =============\n",
            " Transactions count from database : 3588\n",
            " Max memory usage: 15.309722900390625 mb \n",
            " Frequent itemsets count : 146685\n",
            " Total time ~ 1147 ms\n",
            "===================================================\n",
            "\n",
            "For 0--- 1.4419817924499512 seconds ---\n",
            "0.05\n",
            ">/content/spmf.jar\n",
            "=============  FP-GROWTH 2.42 - STATS =============\n",
            " Transactions count from database : 3588\n",
            " Max memory usage: 103.13870239257812 mb \n",
            " Frequent itemsets count : 103818\n",
            " Total time ~ 772 ms\n",
            "===================================================\n",
            "\n",
            "For 0--- 1.0435922145843506 seconds ---\n",
            "0.06\n",
            ">/content/spmf.jar\n",
            "=============  FP-GROWTH 2.42 - STATS =============\n",
            " Transactions count from database : 3588\n",
            " Max memory usage: 79.64451599121094 mb \n",
            " Frequent itemsets count : 75222\n",
            " Total time ~ 753 ms\n",
            "===================================================\n",
            "\n",
            "For 0--- 1.1187880039215088 seconds ---\n",
            "0.07\n",
            ">/content/spmf.jar\n",
            "=============  FP-GROWTH 2.42 - STATS =============\n",
            " Transactions count from database : 3588\n",
            " Max memory usage: 65.62892150878906 mb \n",
            " Frequent itemsets count : 57969\n",
            " Total time ~ 596 ms\n",
            "===================================================\n",
            "\n",
            "For 0--- 0.8990471363067627 seconds ---\n",
            "0.08\n",
            ">/content/spmf.jar\n",
            "=============  FP-GROWTH 2.42 - STATS =============\n",
            " Transactions count from database : 3588\n",
            " Max memory usage: 53.123046875 mb \n",
            " Frequent itemsets count : 45503\n",
            " Total time ~ 510 ms\n",
            "===================================================\n",
            "\n",
            "For 0--- 0.7792131900787354 seconds ---\n",
            "0.09\n",
            ">/content/spmf.jar\n",
            "=============  FP-GROWTH 2.42 - STATS =============\n",
            " Transactions count from database : 3588\n",
            " Max memory usage: 48.138671875 mb \n",
            " Frequent itemsets count : 36734\n",
            " Total time ~ 518 ms\n",
            "===================================================\n",
            "\n",
            "For 0--- 0.8055555820465088 seconds ---\n",
            "0.1\n",
            ">/content/spmf.jar\n",
            "=============  FP-GROWTH 2.42 - STATS =============\n",
            " Transactions count from database : 3588\n",
            " Max memory usage: 39.64454650878906 mb \n",
            " Frequent itemsets count : 29738\n",
            " Total time ~ 399 ms\n",
            "===================================================\n",
            "\n",
            "For 0--- 0.6688735485076904 seconds ---\n",
            "0.2\n",
            ">/content/spmf.jar\n",
            "=============  FP-GROWTH 2.42 - STATS =============\n",
            " Transactions count from database : 3588\n",
            " Max memory usage: 17.142593383789062 mb \n",
            " Frequent itemsets count : 5463\n",
            " Total time ~ 231 ms\n",
            "===================================================\n",
            "\n",
            "For 0--- 0.49899983406066895 seconds ---\n",
            "0.5\n",
            ">/content/spmf.jar\n",
            "=============  FP-GROWTH 2.42 - STATS =============\n",
            " Transactions count from database : 3588\n",
            " Max memory usage: 9.138671875 mb \n",
            " Frequent itemsets count : 198\n",
            " Total time ~ 206 ms\n",
            "===================================================\n",
            "\n",
            "For 0--- 0.5008196830749512 seconds ---\n",
            "0.6\n",
            ">/content/spmf.jar\n",
            "=============  FP-GROWTH 2.42 - STATS =============\n",
            " Transactions count from database : 3588\n",
            " Max memory usage: 8.628921508789062 mb \n",
            " Frequent itemsets count : 74\n",
            " Total time ~ 164 ms\n",
            "===================================================\n",
            "\n",
            "For 0--- 0.4592099189758301 seconds ---\n"
          ],
          "name": "stdout"
        },
        {
          "output_type": "execute_result",
          "data": {
            "text/plain": [
              "[3.0170626640319824,\n",
              " 2.002037525177002,\n",
              " 1.5192840099334717,\n",
              " 1.4420232772827148,\n",
              " 1.0436370372772217,\n",
              " 1.1188292503356934,\n",
              " 0.8990888595581055,\n",
              " 0.7792444229125977,\n",
              " 0.8056435585021973,\n",
              " 0.6689321994781494,\n",
              " 0.4990565776824951,\n",
              " 0.5008633136749268,\n",
              " 0.45937418937683105]"
            ]
          },
          "metadata": {
            "tags": []
          },
          "execution_count": 99
        }
      ]
    },
    {
      "cell_type": "code",
      "metadata": {
        "id": "XTf1_nexmXgt"
      },
      "source": [
        "#plot it\r\n",
        "import seaborn as sns\r\n",
        "import pandas as pd\r\n",
        "import matplotlib.pyplot as plt\r\n"
      ],
      "execution_count": 100,
      "outputs": []
    },
    {
      "cell_type": "code",
      "metadata": {
        "id": "4uNnE7gboF5m"
      },
      "source": [
        "df = pd.DataFrame({'Fp_Growth': run_time_fp, 'Apriori' :run_time_apr, 'ECLAT' :run_time_eclat })"
      ],
      "execution_count": 101,
      "outputs": []
    },
    {
      "cell_type": "code",
      "metadata": {
        "colab": {
          "base_uri": "https://localhost:8080/",
          "height": 280
        },
        "id": "oBSpVXvZny1N",
        "outputId": "27ede75e-ca11-4ce9-c6ce-131c13bbb3e3"
      },
      "source": [
        "g = sns.lineplot(data=df)\r\n",
        "g.set_xticks(range(len(df))) # <--- set the ticks first\r\n",
        "g.set_xticklabels(['.01','.02', '.03','.04','.05','.06', '.07','.08','.09', '.1', '.2','.3','.4', '.5', '.6'])\r\n",
        "g.set(xlabel='Min_Support', ylabel='Time in Seconds')\r\n",
        "plt.savefig(data+\"_\"+\"Run time performance.png\")"
      ],
      "execution_count": 102,
      "outputs": [
        {
          "output_type": "display_data",
          "data": {
            "image/png": "[encoded data removed]",
            "text/plain": [
              "<Figure size 432x288 with 1 Axes>"
            ]
          },
          "metadata": {
            "tags": [],
            "needs_background": "light"
          }
        }
      ]
    }
  ]
}