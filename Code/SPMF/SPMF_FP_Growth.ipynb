{
  "nbformat": 4,
  "nbformat_minor": 0,
  "metadata": {
    "colab": {
      "name": "SPMF-FP Growth",
      "provenance": [],
      "authorship_tag": "ABX9TyPekNwxAFgNQvrVDC4eG7ql",
      "include_colab_link": true
    },
    "kernelspec": {
      "name": "python3",
      "display_name": "Python 3"
    }
  },
  "cells": [
    {
      "cell_type": "markdown",
      "metadata": {
        "id": "view-in-github",
        "colab_type": "text"
      },
      "source": [
        "<a href=\"https://colab.research.google.com/github/BlackCurrantDS/DBSE_Project/blob/main/SPMF_FP_Growth.ipynb\" target=\"_parent\"><img src=\"https://colab.research.google.com/assets/colab-badge.svg\" alt=\"Open In Colab\"/></a>"
      ]
    },
    {
      "cell_type": "code",
      "metadata": {
        "colab": {
          "base_uri": "https://localhost:8080/"
        },
        "id": "5ZTiSJ5RQ8EZ",
        "outputId": "a1f6376a-85d2-435a-f65c-494f2e5c3699"
      },
      "source": [
        "pip install spmf\r\n"
      ],
      "execution_count": 1,
      "outputs": [
        {
          "output_type": "stream",
          "text": [
            "Collecting spmf\n",
            "  Downloading https://files.pythonhosted.org/packages/8c/ff/15ed66193c66c7ea933f8b29c6f46e5dfee90584a0fbb68bd5cb8a151c74/spmf-1.3-py3-none-any.whl\n",
            "Installing collected packages: spmf\n",
            "Successfully installed spmf-1.3\n"
          ],
          "name": "stdout"
        }
      ]
    },
    {
      "cell_type": "code",
      "metadata": {
        "id": "1Lnxy3cMRXrt"
      },
      "source": [
        "from spmf import Spmf\r\n",
        "\r\n",
        "spmf = Spmf(\"FPGrowth_itemsets\", input_filename=\"/content/breast_train_transactions.txt\",\r\n",
        "            output_filename=\"output.txt\", arguments=[0.7, 5])\r\n",
        "spmf.run()\r\n",
        "print(spmf.to_pandas_dataframe(pickle=True))\r\n",
        "spmf.to_csv(\"/content/output.txt\")"
      ],
      "execution_count": null,
      "outputs": []
    }
  ]
}