{
  "nbformat": 4,
  "nbformat_minor": 0,
  "metadata": {
    "colab": {
      "name": "SPMF-algoComparision_adult.ipynb",
      "provenance": [],
      "authorship_tag": "ABX9TyN5yWNG6Hv9DzJQwKZlW6DN",
      "include_colab_link": true
    },
    "kernelspec": {
      "name": "python3",
      "display_name": "Python 3"
    }
  },
  "cells": [
    {
      "cell_type": "markdown",
      "metadata": {
        "id": "view-in-github",
        "colab_type": "text"
      },
      "source": [
        "<a href=\"https://colab.research.google.com/github/BlackCurrantDS/DBSE_Project/blob/main/SPMF_algoComparision_adult.ipynb\" target=\"_parent\"><img src=\"https://colab.research.google.com/assets/colab-badge.svg\" alt=\"Open In Colab\"/></a>"
      ]
    },
    {
      "cell_type": "code",
      "metadata": {
        "colab": {
          "base_uri": "https://localhost:8080/"
        },
        "id": "r7GqZuEDjx9j",
        "outputId": "23898077-c8b5-486a-cfe8-fb3015443383"
      },
      "source": [
        "pip install spmf"
      ],
      "execution_count": null,
      "outputs": [
        {
          "output_type": "stream",
          "text": [
            "Collecting spmf\n",
            "  Downloading https://files.pythonhosted.org/packages/8c/ff/15ed66193c66c7ea933f8b29c6f46e5dfee90584a0fbb68bd5cb8a151c74/spmf-1.3-py3-none-any.whl\n",
            "Installing collected packages: spmf\n",
            "Successfully installed spmf-1.3\n"
          ],
          "name": "stdout"
        }
      ]
    },
    {
      "cell_type": "code",
      "metadata": {
        "id": "K93Z50XAj1sl"
      },
      "source": [
        "from spmf import Spmf\r\n",
        "import pathlib"
      ],
      "execution_count": null,
      "outputs": []
    },
    {
      "cell_type": "code",
      "metadata": {
        "id": "1Z6YYnrNlfzP"
      },
      "source": [
        "d = '/content/' #specify the folder all the input and output files are\r\n",
        "input_filename = \"/content/adult_train_transactions_rpgrowth.csv.txt\"\r\n",
        "data = \"Adult\""
      ],
      "execution_count": null,
      "outputs": []
    },
    {
      "cell_type": "markdown",
      "metadata": {
        "id": "iX3ceGkZJQPy"
      },
      "source": [
        "ECLAT"
      ]
    },
    {
      "cell_type": "code",
      "metadata": {
        "id": "msx0-KjE105a"
      },
      "source": [
        "spmf_eclat = Spmf(\"Eclat\", input_filename=input_filename,\r\n",
        "            output_filename=\"output_eclat\", arguments=[0.01],spmf_bin_location_dir=d )"
      ],
      "execution_count": null,
      "outputs": []
    },
    {
      "cell_type": "code",
      "metadata": {
        "colab": {
          "base_uri": "https://localhost:8080/"
        },
        "id": "IggfWhIZhY_H",
        "outputId": "8048544f-3bac-470c-9841-cf2a7ad26fe9"
      },
      "source": [
        "spmf_eclat.run()"
      ],
      "execution_count": null,
      "outputs": [
        {
          "output_type": "stream",
          "text": [
            ">/content/spmf.jar\n",
            "=============  ECLAT v0.96r18 - STATS =============\n",
            " Transactions count from database : 32561\n",
            " Frequent itemsets count : 248696\n",
            " Total time ~ 19330 ms\n",
            " Maximum memory usage : 331.73876953125 mb\n",
            "===================================================\n",
            "\n"
          ],
          "name": "stdout"
        }
      ]
    },
    {
      "cell_type": "markdown",
      "metadata": {
        "id": "r0ypHKeKJUXR"
      },
      "source": [
        "Apriori"
      ]
    },
    {
      "cell_type": "code",
      "metadata": {
        "id": "szNZt4y6JaN6"
      },
      "source": [
        "spmf_apriori = Spmf(\"Apriori\", input_filename=input_filename,\r\n",
        "            output_filename=\"output_apriori\", arguments=[0.01],spmf_bin_location_dir=d )"
      ],
      "execution_count": null,
      "outputs": []
    },
    {
      "cell_type": "code",
      "metadata": {
        "id": "EVW7PD3bJaN8",
        "colab": {
          "base_uri": "https://localhost:8080/"
        },
        "outputId": "f6c55e82-f04f-4b06-99ec-864e0cd09c86"
      },
      "source": [
        "spmf_apriori.run()"
      ],
      "execution_count": null,
      "outputs": [
        {
          "output_type": "stream",
          "text": [
            ">/content/spmf.jar\n",
            "=============  APRIORI - STATS =============\n",
            " Candidates count : 266920\n",
            " The algorithm stopped at size 14\n",
            " Frequent itemsets count : 248696\n",
            " Maximum memory usage : 69.35595703125 mb\n",
            " Total time ~ 227124 ms\n",
            "===================================================\n",
            "\n"
          ],
          "name": "stdout"
        }
      ]
    },
    {
      "cell_type": "markdown",
      "metadata": {
        "id": "c_eeeM-8JWeK"
      },
      "source": [
        "FP-Growth"
      ]
    },
    {
      "cell_type": "code",
      "metadata": {
        "id": "y0J5N2JjJb6h"
      },
      "source": [
        "spmf_fpgrowth = Spmf(\"FPGrowth_itemsets\", input_filename=input_filename,\r\n",
        "            output_filename=\"output_FP-Growth\", arguments=[0.01],spmf_bin_location_dir=d )"
      ],
      "execution_count": null,
      "outputs": []
    },
    {
      "cell_type": "code",
      "metadata": {
        "id": "ptOu7tsRJb6h",
        "colab": {
          "base_uri": "https://localhost:8080/"
        },
        "outputId": "9d635551-56e0-4e92-a10c-5639fe883b41"
      },
      "source": [
        "spmf_fpgrowth.run()"
      ],
      "execution_count": null,
      "outputs": [
        {
          "output_type": "stream",
          "text": [
            ">/content/spmf.jar\n",
            "=============  FP-GROWTH 2.42 - STATS =============\n",
            " Transactions count from database : 32561\n",
            " Max memory usage: 27.60472869873047 mb \n",
            " Frequent itemsets count : 248696\n",
            " Total time ~ 3060 ms\n",
            "===================================================\n",
            "\n"
          ],
          "name": "stdout"
        }
      ]
    },
    {
      "cell_type": "markdown",
      "metadata": {
        "id": "0Jw26YSmKNvy"
      },
      "source": [
        "RunTime"
      ]
    },
    {
      "cell_type": "code",
      "metadata": {
        "id": "M-3pLpuNKO1K",
        "colab": {
          "base_uri": "https://localhost:8080/"
        },
        "outputId": "642e03a6-92ae-446f-f8ef-ceff1b32d13c"
      },
      "source": [
        "#Apriori\r\n",
        "min_sup = [.01, .02,.03,.04, .05,.06,.07,.08,.09, .1, .2, .5, .6]\r\n",
        "import time\r\n",
        "run_time_apr = []\r\n",
        "for i in min_sup:\r\n",
        "    print(i)\r\n",
        "    start_time = time.time()\r\n",
        "    spmf_apriori = Spmf(\"Apriori\", input_filename=input_filename,\r\n",
        "            output_filename=\"output_apriori\", arguments=[i],spmf_bin_location_dir=d )\r\n",
        "    spmf_apriori.run()\r\n",
        "    print(\"For %i--- %s seconds ---\" %(i, time.time() - start_time))\r\n",
        "    run_time_apr.append(time.time() - start_time)\r\n",
        "  \r\n",
        "run_time_apr"
      ],
      "execution_count": null,
      "outputs": [
        {
          "output_type": "stream",
          "text": [
            "0.01\n",
            ">/content/spmf.jar\n",
            "=============  APRIORI - STATS =============\n",
            " Candidates count : 266920\n",
            " The algorithm stopped at size 14\n",
            " Frequent itemsets count : 248696\n",
            " Maximum memory usage : 62.9609375 mb\n",
            " Total time ~ 165595 ms\n",
            "===================================================\n",
            "\n",
            "For 0--- 165.85521602630615 seconds ---\n",
            "0.02\n",
            ">/content/spmf.jar\n",
            "=============  APRIORI - STATS =============\n",
            " Candidates count : 94621\n",
            " The algorithm stopped at size 13\n",
            " Frequent itemsets count : 86730\n",
            " Maximum memory usage : 34.15934753417969 mb\n",
            " Total time ~ 57957 ms\n",
            "===================================================\n",
            "\n",
            "For 0--- 58.215667486190796 seconds ---\n",
            "0.03\n",
            ">/content/spmf.jar\n",
            "=============  APRIORI - STATS =============\n",
            " Candidates count : 49290\n",
            " The algorithm stopped at size 13\n",
            " Frequent itemsets count : 44374\n",
            " Maximum memory usage : 36.759765625 mb\n",
            " Total time ~ 30031 ms\n",
            "===================================================\n",
            "\n",
            "For 0--- 30.279179096221924 seconds ---\n",
            "0.04\n",
            ">/content/spmf.jar\n",
            "=============  APRIORI - STATS =============\n",
            " Candidates count : 29769\n",
            " The algorithm stopped at size 12\n",
            " Frequent itemsets count : 26704\n",
            " Maximum memory usage : 30.997344970703125 mb\n",
            " Total time ~ 24140 ms\n",
            "===================================================\n",
            "\n",
            "For 0--- 24.39061737060547 seconds ---\n",
            "0.05\n",
            ">/content/spmf.jar\n",
            "=============  APRIORI - STATS =============\n",
            " Candidates count : 20053\n",
            " The algorithm stopped at size 11\n",
            " Frequent itemsets count : 17739\n",
            " Maximum memory usage : 27.960205078125 mb\n",
            " Total time ~ 21902 ms\n",
            "===================================================\n",
            "\n",
            "For 0--- 22.17076802253723 seconds ---\n",
            "0.06\n",
            ">/content/spmf.jar\n",
            "=============  APRIORI - STATS =============\n",
            " Candidates count : 14456\n",
            " The algorithm stopped at size 11\n",
            " Frequent itemsets count : 12818\n",
            " Maximum memory usage : 32.03102111816406 mb\n",
            " Total time ~ 16562 ms\n",
            "===================================================\n",
            "\n",
            "For 0--- 16.82457137107849 seconds ---\n",
            "0.07\n",
            ">/content/spmf.jar\n",
            "=============  APRIORI - STATS =============\n",
            " Candidates count : 10855\n",
            " The algorithm stopped at size 11\n",
            " Frequent itemsets count : 9539\n",
            " Maximum memory usage : 29.50555419921875 mb\n",
            " Total time ~ 9833 ms\n",
            "===================================================\n",
            "\n",
            "For 0--- 10.079460859298706 seconds ---\n",
            "0.08\n",
            ">/content/spmf.jar\n",
            "=============  APRIORI - STATS =============\n",
            " Candidates count : 8310\n",
            " The algorithm stopped at size 10\n",
            " Frequent itemsets count : 7246\n",
            " Maximum memory usage : 29.50555419921875 mb\n",
            " Total time ~ 9170 ms\n",
            "===================================================\n",
            "\n",
            "For 0--- 9.422388315200806 seconds ---\n",
            "0.09\n",
            ">/content/spmf.jar\n",
            "=============  APRIORI - STATS =============\n",
            " Candidates count : 6593\n",
            " The algorithm stopped at size 10\n",
            " Frequent itemsets count : 5640\n",
            " Maximum memory usage : 30.4261474609375 mb\n",
            " Total time ~ 6749 ms\n",
            "===================================================\n",
            "\n",
            "For 0--- 6.993412256240845 seconds ---\n",
            "0.1\n",
            ">/content/spmf.jar\n",
            "=============  APRIORI - STATS =============\n",
            " Candidates count : 5422\n",
            " The algorithm stopped at size 10\n",
            " Frequent itemsets count : 4575\n",
            " Maximum memory usage : 29.525909423828125 mb\n",
            " Total time ~ 7225 ms\n",
            "===================================================\n",
            "\n",
            "For 0--- 7.480567216873169 seconds ---\n",
            "0.2\n",
            ">/content/spmf.jar\n",
            "=============  APRIORI - STATS =============\n",
            " Candidates count : 1114\n",
            " The algorithm stopped at size 8\n",
            " Frequent itemsets count : 937\n",
            " Maximum memory usage : 31.423789978027344 mb\n",
            " Total time ~ 2341 ms\n",
            "===================================================\n",
            "\n",
            "For 0--- 2.5908377170562744 seconds ---\n",
            "0.5\n",
            ">/content/spmf.jar\n",
            "=============  APRIORI - STATS =============\n",
            " Candidates count : 80\n",
            " The algorithm stopped at size 6\n",
            " Frequent itemsets count : 70\n",
            " Maximum memory usage : 29.954368591308594 mb\n",
            " Total time ~ 704 ms\n",
            "===================================================\n",
            "\n",
            "For 0--- 0.9551877975463867 seconds ---\n",
            "0.6\n",
            ">/content/spmf.jar\n",
            "=============  APRIORI - STATS =============\n",
            " Candidates count : 45\n",
            " The algorithm stopped at size 5\n",
            " Frequent itemsets count : 37\n",
            " Maximum memory usage : 30.997344970703125 mb\n",
            " Total time ~ 604 ms\n",
            "===================================================\n",
            "\n",
            "For 0--- 0.8718345165252686 seconds ---\n"
          ],
          "name": "stdout"
        },
        {
          "output_type": "execute_result",
          "data": {
            "text/plain": [
              "[165.8554322719574,\n",
              " 58.21570038795471,\n",
              " 30.279206037521362,\n",
              " 24.390655994415283,\n",
              " 22.17083477973938,\n",
              " 16.82459831237793,\n",
              " 10.07950496673584,\n",
              " 9.422435283660889,\n",
              " 6.993452548980713,\n",
              " 7.48059344291687,\n",
              " 2.590864658355713,\n",
              " 0.9552311897277832,\n",
              " 0.8718776702880859]"
            ]
          },
          "metadata": {
            "tags": []
          },
          "execution_count": 10
        }
      ]
    },
    {
      "cell_type": "code",
      "metadata": {
        "id": "a4i_umMXKxlD",
        "colab": {
          "base_uri": "https://localhost:8080/"
        },
        "outputId": "fc11025b-c8b2-41c7-a2d1-fd66f4125b85"
      },
      "source": [
        "#EClat\r\n",
        "\r\n",
        "import time\r\n",
        "run_time_eclat = []\r\n",
        "for i in min_sup:\r\n",
        "    print(i)\r\n",
        "    start_time = time.time()\r\n",
        "    spmf_eclat = Spmf(\"Eclat\", input_filename=input_filename,\r\n",
        "            output_filename=\"output_Eclat\", arguments=[i],spmf_bin_location_dir=d )\r\n",
        "    spmf_eclat.run()\r\n",
        "    print(\"For %i--- %s seconds ---\" %(i, time.time() - start_time))\r\n",
        "    run_time_eclat.append(time.time() - start_time)\r\n",
        "  \r\n",
        "run_time_eclat"
      ],
      "execution_count": null,
      "outputs": [
        {
          "output_type": "stream",
          "text": [
            "0.01\n",
            ">/content/spmf.jar\n",
            "=============  ECLAT v0.96r18 - STATS =============\n",
            " Transactions count from database : 32561\n",
            " Frequent itemsets count : 248696\n",
            " Total time ~ 19448 ms\n",
            " Maximum memory usage : 329.99366760253906 mb\n",
            "===================================================\n",
            "\n",
            "For 0--- 20.034478902816772 seconds ---\n",
            "0.02\n",
            ">/content/spmf.jar\n",
            "=============  ECLAT v0.96r18 - STATS =============\n",
            " Transactions count from database : 32561\n",
            " Frequent itemsets count : 86730\n",
            " Total time ~ 12379 ms\n",
            " Maximum memory usage : 557.1953125 mb\n",
            "===================================================\n",
            "\n",
            "For 0--- 12.968120574951172 seconds ---\n",
            "0.03\n",
            ">/content/spmf.jar\n",
            "=============  ECLAT v0.96r18 - STATS =============\n",
            " Transactions count from database : 32561\n",
            " Frequent itemsets count : 44374\n",
            " Total time ~ 9346 ms\n",
            " Maximum memory usage : 574.2111358642578 mb\n",
            "===================================================\n",
            "\n",
            "For 0--- 9.940983057022095 seconds ---\n",
            "0.04\n",
            ">/content/spmf.jar\n",
            "=============  ECLAT v0.96r18 - STATS =============\n",
            " Transactions count from database : 32561\n",
            " Frequent itemsets count : 26704\n",
            " Total time ~ 7202 ms\n",
            " Maximum memory usage : 561.1953125 mb\n",
            "===================================================\n",
            "\n",
            "For 0--- 7.7645182609558105 seconds ---\n",
            "0.05\n",
            ">/content/spmf.jar\n",
            "=============  ECLAT v0.96r18 - STATS =============\n",
            " Transactions count from database : 32561\n",
            " Frequent itemsets count : 17739\n",
            " Total time ~ 6122 ms\n",
            " Maximum memory usage : 578.5542602539062 mb\n",
            "===================================================\n",
            "\n",
            "For 0--- 6.682190418243408 seconds ---\n",
            "0.06\n",
            ">/content/spmf.jar\n",
            "=============  ECLAT v0.96r18 - STATS =============\n",
            " Transactions count from database : 32561\n",
            " Frequent itemsets count : 12818\n",
            " Total time ~ 5262 ms\n",
            " Maximum memory usage : 561.8227310180664 mb\n",
            "===================================================\n",
            "\n",
            "For 0--- 5.851988315582275 seconds ---\n",
            "0.07\n",
            ">/content/spmf.jar\n",
            "=============  ECLAT v0.96r18 - STATS =============\n",
            " Transactions count from database : 32561\n",
            " Frequent itemsets count : 9539\n",
            " Total time ~ 5423 ms\n",
            " Maximum memory usage : 574.697265625 mb\n",
            "===================================================\n",
            "\n",
            "For 0--- 6.001612424850464 seconds ---\n",
            "0.08\n",
            ">/content/spmf.jar\n",
            "=============  ECLAT v0.96r18 - STATS =============\n",
            " Transactions count from database : 32561\n",
            " Frequent itemsets count : 7246\n",
            " Total time ~ 4108 ms\n",
            " Maximum memory usage : 558.6953125 mb\n",
            "===================================================\n",
            "\n",
            "For 0--- 4.825934171676636 seconds ---\n",
            "0.09\n",
            ">/content/spmf.jar\n",
            "=============  ECLAT v0.96r18 - STATS =============\n",
            " Transactions count from database : 32561\n",
            " Frequent itemsets count : 5640\n",
            " Total time ~ 3811 ms\n",
            " Maximum memory usage : 510.37158203125 mb\n",
            "===================================================\n",
            "\n",
            "For 0--- 4.6801841259002686 seconds ---\n",
            "0.1\n",
            ">/content/spmf.jar\n",
            "=============  ECLAT v0.96r18 - STATS =============\n",
            " Transactions count from database : 32561\n",
            " Frequent itemsets count : 4575\n",
            " Total time ~ 3377 ms\n",
            " Maximum memory usage : 567.3191680908203 mb\n",
            "===================================================\n",
            "\n",
            "For 0--- 3.9083852767944336 seconds ---\n",
            "0.2\n",
            ">/content/spmf.jar\n",
            "=============  ECLAT v0.96r18 - STATS =============\n",
            " Transactions count from database : 32561\n",
            " Frequent itemsets count : 937\n",
            " Total time ~ 1663 ms\n",
            " Maximum memory usage : 396.0190887451172 mb\n",
            "===================================================\n",
            "\n",
            "For 0--- 2.2623322010040283 seconds ---\n",
            "0.5\n",
            ">/content/spmf.jar\n",
            "=============  ECLAT v0.96r18 - STATS =============\n",
            " Transactions count from database : 32561\n",
            " Frequent itemsets count : 70\n",
            " Total time ~ 575 ms\n",
            " Maximum memory usage : 65.30599975585938 mb\n",
            "===================================================\n",
            "\n",
            "For 0--- 1.0962343215942383 seconds ---\n",
            "0.6\n",
            ">/content/spmf.jar\n",
            "=============  ECLAT v0.96r18 - STATS =============\n",
            " Transactions count from database : 32561\n",
            " Frequent itemsets count : 37\n",
            " Total time ~ 523 ms\n",
            " Maximum memory usage : 50.91316223144531 mb\n",
            "===================================================\n",
            "\n",
            "For 0--- 1.085674524307251 seconds ---\n"
          ],
          "name": "stdout"
        },
        {
          "output_type": "execute_result",
          "data": {
            "text/plain": [
              "[20.034505367279053,\n",
              " 12.968165874481201,\n",
              " 9.94102168083191,\n",
              " 7.764555215835571,\n",
              " 6.6822381019592285,\n",
              " 5.852027177810669,\n",
              " 6.001637697219849,\n",
              " 4.8260579109191895,\n",
              " 4.6802098751068115,\n",
              " 3.908409595489502,\n",
              " 2.2623682022094727,\n",
              " 1.0962729454040527,\n",
              " 1.0857181549072266]"
            ]
          },
          "metadata": {
            "tags": []
          },
          "execution_count": 11
        }
      ]
    },
    {
      "cell_type": "code",
      "metadata": {
        "id": "CaLU-mheK-As",
        "colab": {
          "base_uri": "https://localhost:8080/"
        },
        "outputId": "5ae2b440-688e-4783-9220-ad9b17c37612"
      },
      "source": [
        "#fp-grwoth\r\n",
        "\r\n",
        "import time\r\n",
        "run_time_fp = []\r\n",
        "for i in min_sup:\r\n",
        "    print(i)\r\n",
        "    start_time = time.time()\r\n",
        "    spmf_fp = Spmf(\"FPGrowth_itemsets\", input_filename=input_filename,\r\n",
        "            output_filename=\"output_fp\", arguments=[i],spmf_bin_location_dir=d )\r\n",
        "    spmf_fp.run()\r\n",
        "    print(\"For %i--- %s seconds ---\" %(i, time.time() - start_time))\r\n",
        "    run_time_fp.append(time.time() - start_time)\r\n",
        "  \r\n",
        "run_time_fp"
      ],
      "execution_count": null,
      "outputs": [
        {
          "output_type": "stream",
          "text": [
            "0.01\n",
            ">/content/spmf.jar\n",
            "=============  FP-GROWTH 2.42 - STATS =============\n",
            " Transactions count from database : 32561\n",
            " Max memory usage: 60.734375 mb \n",
            " Frequent itemsets count : 248696\n",
            " Total time ~ 2943 ms\n",
            "===================================================\n",
            "\n",
            "For 0--- 3.2015647888183594 seconds ---\n",
            "0.02\n",
            ">/content/spmf.jar\n",
            "=============  FP-GROWTH 2.42 - STATS =============\n",
            " Transactions count from database : 32561\n",
            " Max memory usage: 73.96276092529297 mb \n",
            " Frequent itemsets count : 86730\n",
            " Total time ~ 2047 ms\n",
            "===================================================\n",
            "\n",
            "For 0--- 2.3094663619995117 seconds ---\n",
            "0.03\n",
            ">/content/spmf.jar\n",
            "=============  FP-GROWTH 2.42 - STATS =============\n",
            " Transactions count from database : 32561\n",
            " Max memory usage: 55.30517578125 mb \n",
            " Frequent itemsets count : 44374\n",
            " Total time ~ 2168 ms\n",
            "===================================================\n",
            "\n",
            "For 0--- 2.4196701049804688 seconds ---\n",
            "0.04\n",
            ">/content/spmf.jar\n",
            "=============  FP-GROWTH 2.42 - STATS =============\n",
            " Transactions count from database : 32561\n",
            " Max memory usage: 49.403961181640625 mb \n",
            " Frequent itemsets count : 26704\n",
            " Total time ~ 1350 ms\n",
            "===================================================\n",
            "\n",
            "For 0--- 1.6506943702697754 seconds ---\n",
            "0.05\n",
            ">/content/spmf.jar\n",
            "=============  FP-GROWTH 2.42 - STATS =============\n",
            " Transactions count from database : 32561\n",
            " Max memory usage: 32.558876037597656 mb \n",
            " Frequent itemsets count : 17739\n",
            " Total time ~ 1540 ms\n",
            "===================================================\n",
            "\n",
            "For 0--- 1.8020098209381104 seconds ---\n",
            "0.06\n",
            ">/content/spmf.jar\n",
            "=============  FP-GROWTH 2.42 - STATS =============\n",
            " Transactions count from database : 32561\n",
            " Max memory usage: 14.106246948242188 mb \n",
            " Frequent itemsets count : 12818\n",
            " Total time ~ 1289 ms\n",
            "===================================================\n",
            "\n",
            "For 0--- 1.5494742393493652 seconds ---\n",
            "0.07\n",
            ">/content/spmf.jar\n",
            "=============  FP-GROWTH 2.42 - STATS =============\n",
            " Transactions count from database : 32561\n",
            " Max memory usage: 10.400848388671875 mb \n",
            " Frequent itemsets count : 9539\n",
            " Total time ~ 1389 ms\n",
            "===================================================\n",
            "\n",
            "For 0--- 1.65651535987854 seconds ---\n",
            "0.08\n",
            ">/content/spmf.jar\n",
            "=============  FP-GROWTH 2.42 - STATS =============\n",
            " Transactions count from database : 32561\n",
            " Max memory usage: 116.15426635742188 mb \n",
            " Frequent itemsets count : 7246\n",
            " Total time ~ 1103 ms\n",
            "===================================================\n",
            "\n",
            "For 0--- 1.4134976863861084 seconds ---\n",
            "0.09\n",
            ">/content/spmf.jar\n",
            "=============  FP-GROWTH 2.42 - STATS =============\n",
            " Transactions count from database : 32561\n",
            " Max memory usage: 115.62907409667969 mb \n",
            " Frequent itemsets count : 5640\n",
            " Total time ~ 1183 ms\n",
            "===================================================\n",
            "\n",
            "For 0--- 1.4517183303833008 seconds ---\n",
            "0.1\n",
            ">/content/spmf.jar\n",
            "=============  FP-GROWTH 2.42 - STATS =============\n",
            " Transactions count from database : 32561\n",
            " Max memory usage: 107.64451599121094 mb \n",
            " Frequent itemsets count : 4575\n",
            " Total time ~ 1148 ms\n",
            "===================================================\n",
            "\n",
            "For 0--- 1.414177656173706 seconds ---\n",
            "0.2\n",
            ">/content/spmf.jar\n",
            "=============  FP-GROWTH 2.42 - STATS =============\n",
            " Transactions count from database : 32561\n",
            " Max memory usage: 87.138671875 mb \n",
            " Frequent itemsets count : 937\n",
            " Total time ~ 868 ms\n",
            "===================================================\n",
            "\n",
            "For 0--- 1.1266286373138428 seconds ---\n",
            "0.5\n",
            ">/content/spmf.jar\n",
            "=============  FP-GROWTH 2.42 - STATS =============\n",
            " Transactions count from database : 32561\n",
            " Max memory usage: 84.14646911621094 mb \n",
            " Frequent itemsets count : 70\n",
            " Total time ~ 671 ms\n",
            "===================================================\n",
            "\n",
            "For 0--- 0.9445297718048096 seconds ---\n",
            "0.6\n",
            ">/content/spmf.jar\n",
            "=============  FP-GROWTH 2.42 - STATS =============\n",
            " Transactions count from database : 32561\n",
            " Max memory usage: 84.138671875 mb \n",
            " Frequent itemsets count : 37\n",
            " Total time ~ 706 ms\n",
            "===================================================\n",
            "\n",
            "For 0--- 0.9633200168609619 seconds ---\n"
          ],
          "name": "stdout"
        },
        {
          "output_type": "execute_result",
          "data": {
            "text/plain": [
              "[3.2015902996063232,\n",
              " 2.309537172317505,\n",
              " 2.419708728790283,\n",
              " 1.6507527828216553,\n",
              " 1.8020360469818115,\n",
              " 1.5495233535766602,\n",
              " 1.6565423011779785,\n",
              " 1.4135384559631348,\n",
              " 1.4517467021942139,\n",
              " 1.414238691329956,\n",
              " 1.1266708374023438,\n",
              " 0.9445745944976807,\n",
              " 0.9633610248565674]"
            ]
          },
          "metadata": {
            "tags": []
          },
          "execution_count": 12
        }
      ]
    },
    {
      "cell_type": "code",
      "metadata": {
        "id": "XTf1_nexmXgt"
      },
      "source": [
        "#plot it\r\n",
        "import seaborn as sns\r\n",
        "import pandas as pd\r\n",
        "import matplotlib.pyplot as plt\r\n"
      ],
      "execution_count": null,
      "outputs": []
    },
    {
      "cell_type": "code",
      "metadata": {
        "id": "4uNnE7gboF5m"
      },
      "source": [
        "df = pd.DataFrame({'Fp_Growth': run_time_fp, 'Apriori' :run_time_apr, 'ECLAT' :run_time_eclat })"
      ],
      "execution_count": null,
      "outputs": []
    },
    {
      "cell_type": "code",
      "metadata": {
        "id": "oBSpVXvZny1N",
        "colab": {
          "base_uri": "https://localhost:8080/",
          "height": 280
        },
        "outputId": "dd1b5cbb-d342-4000-94bc-53b7d1b7a9d7"
      },
      "source": [
        "g = sns.lineplot(data=df)\r\n",
        "g.set_xticks(range(len(df))) # <--- set the ticks first\r\n",
        "g.set_xticklabels(['.01','.02', '.03','.04','.05','.06', '.07','.08','.09', '.1', '.2','.3','.4', '.5', '.6'])\r\n",
        "g.set(xlabel='Min_Support', ylabel='Time in Seconds')\r\n",
        "plt.savefig(data+\"_\"+\"Run time performance.png\")"
      ],
      "execution_count": 16,
      "outputs": [
        {
          "output_type": "display_data",
          "data": {
            "image/png": "[encoded data removed]",
            "text/plain": [
              "<Figure size 432x288 with 1 Axes>"
            ]
          },
          "metadata": {
            "tags": [],
            "needs_background": "light"
          }
        }
      ]
    }
  ]
}