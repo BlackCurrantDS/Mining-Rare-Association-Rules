{
  "nbformat": 4,
  "nbformat_minor": 0,
  "metadata": {
    "colab": {
      "name": "SPMF-algoComparision_Paper.ipynb",
      "provenance": [],
      "mount_file_id": "1s-VDxRpB0B_YYziZ7WwPdurRg9AKACta",
      "authorship_tag": "ABX9TyOl6R6lkvHU30rUSrmwN6G8",
      "include_colab_link": true
    },
    "kernelspec": {
      "name": "python3",
      "display_name": "Python 3"
    }
  },
  "cells": [
    {
      "cell_type": "markdown",
      "metadata": {
        "id": "view-in-github",
        "colab_type": "text"
      },
      "source": [
        "<a href=\"https://colab.research.google.com/github/BlackCurrantDS/DBSE_Project/blob/main/SPMF_algoComparision_Paper.ipynb\" target=\"_parent\"><img src=\"https://colab.research.google.com/assets/colab-badge.svg\" alt=\"Open In Colab\"/></a>"
      ]
    },
    {
      "cell_type": "code",
      "metadata": {
        "colab": {
          "base_uri": "https://localhost:8080/"
        },
        "id": "r7GqZuEDjx9j",
        "outputId": "71fd8670-f616-43a2-ee28-526b6f1db0c3"
      },
      "source": [
        "pip install spmf"
      ],
      "execution_count": 50,
      "outputs": [
        {
          "output_type": "stream",
          "text": [
            "Requirement already satisfied: spmf in /usr/local/lib/python3.7/dist-packages (1.3)\n"
          ],
          "name": "stdout"
        }
      ]
    },
    {
      "cell_type": "code",
      "metadata": {
        "id": "K93Z50XAj1sl"
      },
      "source": [
        "from spmf import Spmf\n",
        "import pathlib"
      ],
      "execution_count": 65,
      "outputs": []
    },
    {
      "cell_type": "code",
      "metadata": {
        "id": "1Z6YYnrNlfzP"
      },
      "source": [
        "d = '/content/' #specify the folder all the input and output files are\n",
        "input_filename = \"/content/breast_train_transactions_rpgrowth.txt\"\n",
        "data = \"Breast_Cancer\""
      ],
      "execution_count": 79,
      "outputs": []
    },
    {
      "cell_type": "markdown",
      "metadata": {
        "id": "iX3ceGkZJQPy"
      },
      "source": [
        "ECLAT"
      ]
    },
    {
      "cell_type": "code",
      "metadata": {
        "id": "msx0-KjE105a"
      },
      "source": [
        "spmf_eclat = Spmf(\"Eclat\", input_filename=input_filename,\n",
        "            output_filename=\"output_eclat\", arguments=[0.01],spmf_bin_location_dir=d )"
      ],
      "execution_count": 80,
      "outputs": []
    },
    {
      "cell_type": "code",
      "metadata": {
        "id": "IggfWhIZhY_H"
      },
      "source": [
        "#spmf_eclat.run()"
      ],
      "execution_count": 81,
      "outputs": []
    },
    {
      "cell_type": "markdown",
      "metadata": {
        "id": "r0ypHKeKJUXR"
      },
      "source": [
        "Apriori"
      ]
    },
    {
      "cell_type": "code",
      "metadata": {
        "id": "szNZt4y6JaN6"
      },
      "source": [
        "spmf_apriori = Spmf(\"Apriori\", input_filename=input_filename,\n",
        "            output_filename=\"output_apriori\", arguments=[0.01],spmf_bin_location_dir=d )"
      ],
      "execution_count": 82,
      "outputs": []
    },
    {
      "cell_type": "code",
      "metadata": {
        "id": "EVW7PD3bJaN8"
      },
      "source": [
        "#spmf_apriori.run()"
      ],
      "execution_count": 83,
      "outputs": []
    },
    {
      "cell_type": "markdown",
      "metadata": {
        "id": "c_eeeM-8JWeK"
      },
      "source": [
        "FP-Growth"
      ]
    },
    {
      "cell_type": "code",
      "metadata": {
        "id": "y0J5N2JjJb6h"
      },
      "source": [
        "spmf_fpgrowth = Spmf(\"FPGrowth_itemsets\", input_filename=input_filename,\n",
        "            output_filename=\"output_FP-Growth\", arguments=[0.01],spmf_bin_location_dir=d )"
      ],
      "execution_count": 84,
      "outputs": []
    },
    {
      "cell_type": "code",
      "metadata": {
        "id": "ptOu7tsRJb6h"
      },
      "source": [
        "#spmf_fpgrowth.run()"
      ],
      "execution_count": 85,
      "outputs": []
    },
    {
      "cell_type": "markdown",
      "metadata": {
        "id": "0Jw26YSmKNvy"
      },
      "source": [
        "RunTime"
      ]
    },
    {
      "cell_type": "code",
      "metadata": {
        "colab": {
          "base_uri": "https://localhost:8080/"
        },
        "id": "M-3pLpuNKO1K",
        "outputId": "3f1c3d86-f182-4042-c8cd-6573e0b45336"
      },
      "source": [
        "#Apriori\n",
        "min_sup = [.01, .02,.03,.04, .05,.06,.07,.08,.09, .1, .2, .5, .6]\n",
        "import time\n",
        "run_time_apr = []\n",
        "for i in min_sup:\n",
        "    print(i)\n",
        "    start_time = time.time()\n",
        "    spmf_apriori = Spmf(\"Apriori\", input_filename=input_filename,\n",
        "            output_filename=data+\"output_apriori\"+\"_\"+str(i), arguments=[i],spmf_bin_location_dir=d )\n",
        "    spmf_apriori.run()\n",
        "    print(\"For %i--- %s seconds ---\" %(i, time.time() - start_time))\n",
        "    run_time_apr.append(time.time() - start_time)\n",
        "  \n",
        "run_time_apr"
      ],
      "execution_count": 86,
      "outputs": [
        {
          "output_type": "stream",
          "text": [
            "0.01\n",
            ">/content/spmf.jar\n",
            "=============  APRIORI - STATS =============\n",
            " Candidates count : 23464\n",
            " The algorithm stopped at size 10\n",
            " Frequent itemsets count : 19832\n",
            " Maximum memory usage : 8.097320556640625 mb\n",
            " Total time ~ 1704 ms\n",
            "===================================================\n",
            "\n",
            "For 0--- 1.9967596530914307 seconds ---\n",
            "0.02\n",
            ">/content/spmf.jar\n",
            "=============  APRIORI - STATS =============\n",
            " Candidates count : 12026\n",
            " The algorithm stopped at size 10\n",
            " Frequent itemsets count : 9360\n",
            " Maximum memory usage : 10.297332763671875 mb\n",
            " Total time ~ 967 ms\n",
            "===================================================\n",
            "\n",
            "For 0--- 1.2813208103179932 seconds ---\n",
            "0.03\n",
            ">/content/spmf.jar\n",
            "=============  APRIORI - STATS =============\n",
            " Candidates count : 6220\n",
            " The algorithm stopped at size 9\n",
            " Frequent itemsets count : 4615\n",
            " Maximum memory usage : 9.497352600097656 mb\n",
            " Total time ~ 258 ms\n",
            "===================================================\n",
            "\n",
            "For 0--- 0.5315239429473877 seconds ---\n",
            "0.04\n",
            ">/content/spmf.jar\n",
            "=============  APRIORI - STATS =============\n",
            " Candidates count : 4604\n",
            " The algorithm stopped at size 9\n",
            " Frequent itemsets count : 3270\n",
            " Maximum memory usage : 8.6953125 mb\n",
            " Total time ~ 447 ms\n",
            "===================================================\n",
            "\n",
            "For 0--- 0.7334675788879395 seconds ---\n",
            "0.05\n",
            ">/content/spmf.jar\n",
            "=============  APRIORI - STATS =============\n",
            " Candidates count : 3563\n",
            " The algorithm stopped at size 9\n",
            " Frequent itemsets count : 2400\n",
            " Maximum memory usage : 8.097328186035156 mb\n",
            " Total time ~ 313 ms\n",
            "===================================================\n",
            "\n",
            "For 0--- 0.588986873626709 seconds ---\n",
            "0.06\n",
            ">/content/spmf.jar\n",
            "=============  APRIORI - STATS =============\n",
            " Candidates count : 2555\n",
            " The algorithm stopped at size 8\n",
            " Frequent itemsets count : 1634\n",
            " Maximum memory usage : 7.6953125 mb\n",
            " Total time ~ 132 ms\n",
            "===================================================\n",
            "\n",
            "For 0--- 0.4230499267578125 seconds ---\n",
            "0.07\n",
            ">/content/spmf.jar\n",
            "=============  APRIORI - STATS =============\n",
            " Candidates count : 2112\n",
            " The algorithm stopped at size 8\n",
            " Frequent itemsets count : 1331\n",
            " Maximum memory usage : 7.497367858886719 mb\n",
            " Total time ~ 235 ms\n",
            "===================================================\n",
            "\n",
            "For 0--- 0.5160768032073975 seconds ---\n",
            "0.08\n",
            ">/content/spmf.jar\n",
            "=============  APRIORI - STATS =============\n",
            " Candidates count : 1603\n",
            " The algorithm stopped at size 8\n",
            " Frequent itemsets count : 1018\n",
            " Maximum memory usage : 7.297370910644531 mb\n",
            " Total time ~ 108 ms\n",
            "===================================================\n",
            "\n",
            "For 0--- 0.3914523124694824 seconds ---\n",
            "0.09\n",
            ">/content/spmf.jar\n",
            "=============  APRIORI - STATS =============\n",
            " Candidates count : 1393\n",
            " The algorithm stopped at size 7\n",
            " Frequent itemsets count : 853\n",
            " Maximum memory usage : 7.5027008056640625 mb\n",
            " Total time ~ 144 ms\n",
            "===================================================\n",
            "\n",
            "For 0--- 0.42456674575805664 seconds ---\n",
            "0.1\n",
            ">/content/spmf.jar\n",
            "=============  APRIORI - STATS =============\n",
            " Candidates count : 1192\n",
            " The algorithm stopped at size 7\n",
            " Frequent itemsets count : 726\n",
            " Maximum memory usage : 7.097328186035156 mb\n",
            " Total time ~ 83 ms\n",
            "===================================================\n",
            "\n",
            "For 0--- 0.36158108711242676 seconds ---\n",
            "0.2\n",
            ">/content/spmf.jar\n",
            "=============  APRIORI - STATS =============\n",
            " Candidates count : 345\n",
            " The algorithm stopped at size 6\n",
            " Frequent itemsets count : 179\n",
            " Maximum memory usage : 6.6953125 mb\n",
            " Total time ~ 43 ms\n",
            "===================================================\n",
            "\n",
            "For 0--- 0.3220808506011963 seconds ---\n",
            "0.5\n",
            ">/content/spmf.jar\n",
            "=============  APRIORI - STATS =============\n",
            " Candidates count : 26\n",
            " The algorithm stopped at size 5\n",
            " Frequent itemsets count : 17\n",
            " Maximum memory usage : 6.6953125 mb\n",
            " Total time ~ 17 ms\n",
            "===================================================\n",
            "\n",
            "For 0--- 0.301846981048584 seconds ---\n",
            "0.6\n",
            ">/content/spmf.jar\n",
            "=============  APRIORI - STATS =============\n",
            " Candidates count : 11\n",
            " The algorithm stopped at size 4\n",
            " Frequent itemsets count : 8\n",
            " Maximum memory usage : 6.6953125 mb\n",
            " Total time ~ 18 ms\n",
            "===================================================\n",
            "\n",
            "For 0--- 0.2725484371185303 seconds ---\n"
          ],
          "name": "stdout"
        },
        {
          "output_type": "execute_result",
          "data": {
            "text/plain": [
              "[1.9974699020385742,\n",
              " 1.2813940048217773,\n",
              " 0.5315837860107422,\n",
              " 0.7342686653137207,\n",
              " 0.5895485877990723,\n",
              " 0.42311835289001465,\n",
              " 0.5161099433898926,\n",
              " 0.39148545265197754,\n",
              " 0.42549729347229004,\n",
              " 0.36164093017578125,\n",
              " 0.32211899757385254,\n",
              " 0.3018801212310791,\n",
              " 0.27268314361572266]"
            ]
          },
          "metadata": {
            "tags": []
          },
          "execution_count": 86
        }
      ]
    },
    {
      "cell_type": "code",
      "metadata": {
        "id": "a4i_umMXKxlD",
        "colab": {
          "base_uri": "https://localhost:8080/"
        },
        "outputId": "1659fb2c-6fe3-40ff-cdef-b53aba3b2a9e"
      },
      "source": [
        "#EClat\n",
        "\n",
        "import time\n",
        "run_time_eclat = []\n",
        "for i in min_sup:\n",
        "    print(i)\n",
        "    start_time = time.time()\n",
        "    spmf_eclat = Spmf(\"Eclat\", input_filename=input_filename,\n",
        "            output_filename=data+\"output_Eclat\"+\"_\"+str(i), arguments=[i],spmf_bin_location_dir=d )\n",
        "    spmf_eclat.run()\n",
        "    print(\"For %i--- %s seconds ---\" %(i, time.time() - start_time))\n",
        "    run_time_eclat.append(time.time() - start_time)\n",
        "  \n",
        "run_time_eclat"
      ],
      "execution_count": 87,
      "outputs": [
        {
          "output_type": "stream",
          "text": [
            "0.01\n",
            ">/content/spmf.jar\n",
            "=============  ECLAT v0.96r18 - STATS =============\n",
            " Transactions count from database : 240\n",
            " Frequent itemsets count : 20146\n",
            " Total time ~ 160 ms\n",
            " Maximum memory usage : 12.271530151367188 mb\n",
            "===================================================\n",
            "\n",
            "For 0--- 0.48263096809387207 seconds ---\n",
            "0.02\n",
            ">/content/spmf.jar\n",
            "=============  ECLAT v0.96r18 - STATS =============\n",
            " Transactions count from database : 240\n",
            " Frequent itemsets count : 9489\n",
            " Total time ~ 138 ms\n",
            " Maximum memory usage : 10.6953125 mb\n",
            "===================================================\n",
            "\n",
            "For 0--- 0.4427201747894287 seconds ---\n",
            "0.03\n",
            ">/content/spmf.jar\n",
            "=============  ECLAT v0.96r18 - STATS =============\n",
            " Transactions count from database : 240\n",
            " Frequent itemsets count : 4693\n",
            " Total time ~ 95 ms\n",
            " Maximum memory usage : 10.6953125 mb\n",
            "===================================================\n",
            "\n",
            "For 0--- 0.41687655448913574 seconds ---\n",
            "0.04\n",
            ">/content/spmf.jar\n",
            "=============  ECLAT v0.96r18 - STATS =============\n",
            " Transactions count from database : 240\n",
            " Frequent itemsets count : 3313\n",
            " Total time ~ 83 ms\n",
            " Maximum memory usage : 10.6953125 mb\n",
            "===================================================\n",
            "\n",
            "For 0--- 0.3835456371307373 seconds ---\n",
            "0.05\n",
            ">/content/spmf.jar\n",
            "=============  ECLAT v0.96r18 - STATS =============\n",
            " Transactions count from database : 240\n",
            " Frequent itemsets count : 2433\n",
            " Total time ~ 81 ms\n",
            " Maximum memory usage : 10.498115539550781 mb\n",
            "===================================================\n",
            "\n",
            "For 0--- 0.3780088424682617 seconds ---\n",
            "0.06\n",
            ">/content/spmf.jar\n",
            "=============  ECLAT v0.96r18 - STATS =============\n",
            " Transactions count from database : 240\n",
            " Frequent itemsets count : 1664\n",
            " Total time ~ 59 ms\n",
            " Maximum memory usage : 9.897293090820312 mb\n",
            "===================================================\n",
            "\n",
            "For 0--- 0.3520338535308838 seconds ---\n",
            "0.07\n",
            ">/content/spmf.jar\n",
            "=============  ECLAT v0.96r18 - STATS =============\n",
            " Transactions count from database : 240\n",
            " Frequent itemsets count : 1350\n",
            " Total time ~ 64 ms\n",
            " Maximum memory usage : 9.297821044921875 mb\n",
            "===================================================\n",
            "\n",
            "For 0--- 0.3586728572845459 seconds ---\n",
            "0.08\n",
            ">/content/spmf.jar\n",
            "=============  ECLAT v0.96r18 - STATS =============\n",
            " Transactions count from database : 240\n",
            " Frequent itemsets count : 1033\n",
            " Total time ~ 48 ms\n",
            " Maximum memory usage : 9.097427368164062 mb\n",
            "===================================================\n",
            "\n",
            "For 0--- 0.3475766181945801 seconds ---\n",
            "0.09\n",
            ">/content/spmf.jar\n",
            "=============  ECLAT v0.96r18 - STATS =============\n",
            " Transactions count from database : 240\n",
            " Frequent itemsets count : 868\n",
            " Total time ~ 59 ms\n",
            " Maximum memory usage : 8.89825439453125 mb\n",
            "===================================================\n",
            "\n",
            "For 0--- 0.3605058193206787 seconds ---\n",
            "0.1\n",
            ">/content/spmf.jar\n",
            "=============  ECLAT v0.96r18 - STATS =============\n",
            " Transactions count from database : 240\n",
            " Frequent itemsets count : 741\n",
            " Total time ~ 47 ms\n",
            " Maximum memory usage : 8.6953125 mb\n",
            "===================================================\n",
            "\n",
            "For 0--- 0.3369889259338379 seconds ---\n",
            "0.2\n",
            ">/content/spmf.jar\n",
            "=============  ECLAT v0.96r18 - STATS =============\n",
            " Transactions count from database : 240\n",
            " Frequent itemsets count : 180\n",
            " Total time ~ 31 ms\n",
            " Maximum memory usage : 7.4973602294921875 mb\n",
            "===================================================\n",
            "\n",
            "For 0--- 0.326174259185791 seconds ---\n",
            "0.5\n",
            ">/content/spmf.jar\n",
            "=============  ECLAT v0.96r18 - STATS =============\n",
            " Transactions count from database : 240\n",
            " Frequent itemsets count : 17\n",
            " Total time ~ 17 ms\n",
            " Maximum memory usage : 6.89727783203125 mb\n",
            "===================================================\n",
            "\n",
            "For 0--- 0.32419633865356445 seconds ---\n",
            "0.6\n",
            ">/content/spmf.jar\n",
            "=============  ECLAT v0.96r18 - STATS =============\n",
            " Transactions count from database : 240\n",
            " Frequent itemsets count : 8\n",
            " Total time ~ 10 ms\n",
            " Maximum memory usage : 6.89727783203125 mb\n",
            "===================================================\n",
            "\n",
            "For 0--- 0.2940218448638916 seconds ---\n"
          ],
          "name": "stdout"
        },
        {
          "output_type": "execute_result",
          "data": {
            "text/plain": [
              "[0.48269033432006836,\n",
              " 0.44275331497192383,\n",
              " 0.4169502258300781,\n",
              " 0.38360595703125,\n",
              " 0.37804102897644043,\n",
              " 0.3520660400390625,\n",
              " 0.3588268756866455,\n",
              " 0.3476099967956543,\n",
              " 0.36053895950317383,\n",
              " 0.3370237350463867,\n",
              " 0.3262302875518799,\n",
              " 0.32426905632019043,\n",
              " 0.29410839080810547]"
            ]
          },
          "metadata": {
            "tags": []
          },
          "execution_count": 87
        }
      ]
    },
    {
      "cell_type": "code",
      "metadata": {
        "id": "CaLU-mheK-As",
        "colab": {
          "base_uri": "https://localhost:8080/"
        },
        "outputId": "b57dd720-5ff1-4e58-9ae0-922d48ec47e0"
      },
      "source": [
        "#fp-grwoth\n",
        "\n",
        "import time\n",
        "run_time_fp = []\n",
        "for i in min_sup:\n",
        "    print(i)\n",
        "    start_time = time.time()\n",
        "    spmf_fp = Spmf(\"FPGrowth_itemsets\", input_filename=input_filename,\n",
        "            output_filename=data+\"output_fp\"+\"_\"+str(i), arguments=[i],spmf_bin_location_dir=d )\n",
        "    spmf_fp.run()\n",
        "    print(\"For %i--- %s seconds ---\" %(i, time.time() - start_time))\n",
        "    run_time_fp.append(time.time() - start_time)\n",
        "  \n",
        "run_time_fp"
      ],
      "execution_count": 88,
      "outputs": [
        {
          "output_type": "stream",
          "text": [
            "0.01\n",
            ">/content/spmf.jar\n",
            "=============  FP-GROWTH 2.42 - STATS =============\n",
            " Transactions count from database : 240\n",
            " Max memory usage: 13.765655517578125 mb \n",
            " Frequent itemsets count : 20146\n",
            " Total time ~ 218 ms\n",
            "===================================================\n",
            "\n",
            "For 0--- 0.506528377532959 seconds ---\n",
            "0.02\n",
            ">/content/spmf.jar\n",
            "=============  FP-GROWTH 2.42 - STATS =============\n",
            " Transactions count from database : 240\n",
            " Max memory usage: 6.765655517578125 mb \n",
            " Frequent itemsets count : 9489\n",
            " Total time ~ 163 ms\n",
            "===================================================\n",
            "\n",
            "For 0--- 0.44678473472595215 seconds ---\n",
            "0.03\n",
            ">/content/spmf.jar\n",
            "=============  FP-GROWTH 2.42 - STATS =============\n",
            " Transactions count from database : 240\n",
            " Max memory usage: 6.507225036621094 mb \n",
            " Frequent itemsets count : 4693\n",
            " Total time ~ 128 ms\n",
            "===================================================\n",
            "\n",
            "For 0--- 0.41345691680908203 seconds ---\n",
            "0.04\n",
            ">/content/spmf.jar\n",
            "=============  FP-GROWTH 2.42 - STATS =============\n",
            " Transactions count from database : 240\n",
            " Max memory usage: 10.6953125 mb \n",
            " Frequent itemsets count : 3313\n",
            " Total time ~ 116 ms\n",
            "===================================================\n",
            "\n",
            "For 0--- 0.41682934761047363 seconds ---\n",
            "0.05\n",
            ">/content/spmf.jar\n",
            "=============  FP-GROWTH 2.42 - STATS =============\n",
            " Transactions count from database : 240\n",
            " Max memory usage: 10.097389221191406 mb \n",
            " Frequent itemsets count : 2433\n",
            " Total time ~ 103 ms\n",
            "===================================================\n",
            "\n",
            "For 0--- 0.3639335632324219 seconds ---\n",
            "0.06\n",
            ">/content/spmf.jar\n",
            "=============  FP-GROWTH 2.42 - STATS =============\n",
            " Transactions count from database : 240\n",
            " Max memory usage: 9.297370910644531 mb \n",
            " Frequent itemsets count : 1664\n",
            " Total time ~ 76 ms\n",
            "===================================================\n",
            "\n",
            "For 0--- 0.3656015396118164 seconds ---\n",
            "0.07\n",
            ">/content/spmf.jar\n",
            "=============  FP-GROWTH 2.42 - STATS =============\n",
            " Transactions count from database : 240\n",
            " Max memory usage: 8.8973388671875 mb \n",
            " Frequent itemsets count : 1350\n",
            " Total time ~ 70 ms\n",
            "===================================================\n",
            "\n",
            "For 0--- 0.35384488105773926 seconds ---\n",
            "0.08\n",
            ">/content/spmf.jar\n",
            "=============  FP-GROWTH 2.42 - STATS =============\n",
            " Transactions count from database : 240\n",
            " Max memory usage: 8.497413635253906 mb \n",
            " Frequent itemsets count : 1033\n",
            " Total time ~ 71 ms\n",
            "===================================================\n",
            "\n",
            "For 0--- 0.3488752841949463 seconds ---\n",
            "0.09\n",
            ">/content/spmf.jar\n",
            "=============  FP-GROWTH 2.42 - STATS =============\n",
            " Transactions count from database : 240\n",
            " Max memory usage: 8.297439575195312 mb \n",
            " Frequent itemsets count : 868\n",
            " Total time ~ 64 ms\n",
            "===================================================\n",
            "\n",
            "For 0--- 0.3516051769256592 seconds ---\n",
            "0.1\n",
            ">/content/spmf.jar\n",
            "=============  FP-GROWTH 2.42 - STATS =============\n",
            " Transactions count from database : 240\n",
            " Max memory usage: 7.897285461425781 mb \n",
            " Frequent itemsets count : 741\n",
            " Total time ~ 68 ms\n",
            "===================================================\n",
            "\n",
            "For 0--- 0.35217976570129395 seconds ---\n",
            "0.2\n",
            ">/content/spmf.jar\n",
            "=============  FP-GROWTH 2.42 - STATS =============\n",
            " Transactions count from database : 240\n",
            " Max memory usage: 7.2973785400390625 mb \n",
            " Frequent itemsets count : 180\n",
            " Total time ~ 42 ms\n",
            "===================================================\n",
            "\n",
            "For 0--- 0.32088518142700195 seconds ---\n",
            "0.5\n",
            ">/content/spmf.jar\n",
            "=============  FP-GROWTH 2.42 - STATS =============\n",
            " Transactions count from database : 240\n",
            " Max memory usage: 6.897285461425781 mb \n",
            " Frequent itemsets count : 17\n",
            " Total time ~ 27 ms\n",
            "===================================================\n",
            "\n",
            "For 0--- 0.302506685256958 seconds ---\n",
            "0.6\n",
            ">/content/spmf.jar\n",
            "=============  FP-GROWTH 2.42 - STATS =============\n",
            " Transactions count from database : 240\n",
            " Max memory usage: 6.897285461425781 mb \n",
            " Frequent itemsets count : 8\n",
            " Total time ~ 21 ms\n",
            "===================================================\n",
            "\n",
            "For 0--- 0.2983376979827881 seconds ---\n"
          ],
          "name": "stdout"
        },
        {
          "output_type": "execute_result",
          "data": {
            "text/plain": [
              "[0.5066719055175781,\n",
              " 0.4468390941619873,\n",
              " 0.41407322883605957,\n",
              " 0.4168980121612549,\n",
              " 0.3639664649963379,\n",
              " 0.3656351566314697,\n",
              " 0.3539109230041504,\n",
              " 0.34966158866882324,\n",
              " 0.35166144371032715,\n",
              " 0.35302066802978516,\n",
              " 0.32094717025756836,\n",
              " 0.3025639057159424,\n",
              " 0.29839396476745605]"
            ]
          },
          "metadata": {
            "tags": []
          },
          "execution_count": 88
        }
      ]
    },
    {
      "cell_type": "code",
      "metadata": {
        "id": "XTf1_nexmXgt"
      },
      "source": [
        "#plot it\n",
        "import seaborn as sns\n",
        "import pandas as pd\n",
        "import matplotlib.pyplot as plt\n"
      ],
      "execution_count": 89,
      "outputs": []
    },
    {
      "cell_type": "code",
      "metadata": {
        "id": "4uNnE7gboF5m"
      },
      "source": [
        "df = pd.DataFrame({'Apriori' :run_time_apr, 'FP-Growth': run_time_fp,'ECLAT' :run_time_eclat })"
      ],
      "execution_count": 90,
      "outputs": []
    },
    {
      "cell_type": "code",
      "metadata": {
        "id": "oBSpVXvZny1N",
        "colab": {
          "base_uri": "https://localhost:8080/",
          "height": 279
        },
        "outputId": "037edba4-64a7-46be-bbf0-c1ce0994c89e"
      },
      "source": [
        "g = sns.lineplot(data=df)\n",
        "g.set_xticks(range(len(df))) # <--- set the ticks first\n",
        "g.set_xticklabels(['.01','.02', '.03','.04','.05','.06', '.07','.08','.09', '.1', '.2','.3','.4', '.5', '.6'])\n",
        "g.set(xlabel='Minimum Support', ylabel='Time in Seconds')\n",
        "plt.savefig(data+\"_\"+\"Run time performance.pdf\")"
      ],
      "execution_count": 91,
      "outputs": [
        {
          "output_type": "display_data",
          "data": {
            "image/png": "[encoded data removed]",
            "text/plain": [
              "<Figure size 432x288 with 1 Axes>"
            ]
          },
          "metadata": {
            "tags": [],
            "needs_background": "light"
          }
        }
      ]
    }
  ]
}