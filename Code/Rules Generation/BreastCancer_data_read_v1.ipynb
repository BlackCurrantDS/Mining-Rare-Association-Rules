{
  "nbformat": 4,
  "nbformat_minor": 0,
  "metadata": {
    "colab": {
      "name": "BreastCancer_data_read_v1.ipynb",
      "provenance": [],
      "mount_file_id": "1FY_MQeypF7OGywAjPsu-3xKr-QeywwLO",
      "authorship_tag": "ABX9TyNuwwJUh0j7RPiSEYPYizta",
      "include_colab_link": true
    },
    "kernelspec": {
      "name": "python3",
      "display_name": "Python 3"
    }
  },
  "cells": [
    {
      "cell_type": "markdown",
      "metadata": {
        "id": "view-in-github",
        "colab_type": "text"
      },
      "source": [
        "<a href=\"https://colab.research.google.com/github/BlackCurrantDS/DBSE_Project/blob/main/BreastCancer_data_read_v1.ipynb\" target=\"_parent\"><img src=\"https://colab.research.google.com/assets/colab-badge.svg\" alt=\"Open In Colab\"/></a>"
      ]
    },
    {
      "cell_type": "markdown",
      "metadata": {
        "id": "86iMaQxaOxRp"
      },
      "source": [
        "Attribute information: \r\n",
        "1. Class: no-recurrence-events, recurrence-events\r\n",
        "2. age: 10-19, 20-29, 30-39, 40-49, 50-59, 60-69, 70-79, 80-89, 90-99.\r\n",
        "3. menopause: lt40, ge40, premeno.\r\n",
        "4. tumor-size: 0-4, 5-9, 10-14, 15-19, 20-24, 25-29, 30-34, 35-39, 40-44, 45-49, 50-54, 55-59.\r\n",
        "5. inv-nodes: 0-2, 3-5, 6-8, 9-11, 12-14, 15-17, 18-20, 21-23, 24-26, 27-29, 30-32, 33-35, 36-39.\r\n",
        "6. node-caps: yes, no.\r\n",
        "7. deg-malig: 1, 2, 3.\r\n",
        "8. breast: left, right.\r\n",
        "9. breast-quad: left-up, left-low, right-up, right-low, central.\r\n",
        "10. irradiat: yes, no."
      ]
    },
    {
      "cell_type": "code",
      "metadata": {
        "colab": {
          "base_uri": "https://localhost:8080/"
        },
        "id": "bXHhOJ4ENVN0",
        "outputId": "eaed9ba4-1e75-4187-daca-898444367192"
      },
      "source": [
        "import pandas as pd\r\n",
        "\r\n",
        "df = pd.read_csv(\r\n",
        "    'https://archive.ics.uci.edu/ml/machine-learning-databases/breast-cancer/breast-cancer.data', \r\n",
        "    sep=',', \r\n",
        "    header=None,\r\n",
        "    names = ['class'\r\n",
        "    ,'AGE'\r\n",
        "    ,'menopause'\r\n",
        "    ,'tumor-size'\r\n",
        "    ,'inv-nodes'\r\n",
        "    ,'node-caps'\r\n",
        "    ,'deg-malig'\r\n",
        "    ,'breast'\r\n",
        "    ,'breast-quad'\r\n",
        "    ,'irradiat']\r\n",
        "  \r\n",
        ")\r\n",
        "\r\n",
        "print(df)"
      ],
      "execution_count": 34,
      "outputs": [
        {
          "output_type": "stream",
          "text": [
            "                    class    AGE menopause  ... breast breast-quad irradiat\n",
            "0    no-recurrence-events  30-39   premeno  ...   left    left_low       no\n",
            "1    no-recurrence-events  40-49   premeno  ...  right    right_up       no\n",
            "2    no-recurrence-events  40-49   premeno  ...   left    left_low       no\n",
            "3    no-recurrence-events  60-69      ge40  ...  right     left_up       no\n",
            "4    no-recurrence-events  40-49   premeno  ...  right   right_low       no\n",
            "..                    ...    ...       ...  ...    ...         ...      ...\n",
            "281     recurrence-events  30-39   premeno  ...   left     left_up       no\n",
            "282     recurrence-events  30-39   premeno  ...   left     left_up      yes\n",
            "283     recurrence-events  60-69      ge40  ...  right     left_up       no\n",
            "284     recurrence-events  40-49      ge40  ...   left    left_low       no\n",
            "285     recurrence-events  50-59      ge40  ...   left    left_low       no\n",
            "\n",
            "[286 rows x 10 columns]\n"
          ],
          "name": "stdout"
        }
      ]
    },
    {
      "cell_type": "code",
      "metadata": {
        "id": "Vc26gICvnW7J"
      },
      "source": [
        "df.to_csv(\"/content/drive/MyDrive/DataSets_for_Paper/bcancer_data_original.csv\")"
      ],
      "execution_count": 35,
      "outputs": []
    },
    {
      "cell_type": "code",
      "metadata": {
        "id": "rqxcV5VUxdr5"
      },
      "source": [
        "originalfile = \"/content/drive/MyDrive/DataSets_for_Paper/bcancer_data_original.csv\""
      ],
      "execution_count": 55,
      "outputs": []
    },
    {
      "cell_type": "code",
      "metadata": {
        "colab": {
          "base_uri": "https://localhost:8080/",
          "height": 195
        },
        "id": "N3gi3bAWnBPM",
        "outputId": "c5fe3355-0c50-4f06-9a5c-ff94d7b39f7e"
      },
      "source": [
        "df.head(5)"
      ],
      "execution_count": 36,
      "outputs": [
        {
          "output_type": "execute_result",
          "data": {
            "text/html": [
              "<div>\n",
              "<style scoped>\n",
              "    .dataframe tbody tr th:only-of-type {\n",
              "        vertical-align: middle;\n",
              "    }\n",
              "\n",
              "    .dataframe tbody tr th {\n",
              "        vertical-align: top;\n",
              "    }\n",
              "\n",
              "    .dataframe thead th {\n",
              "        text-align: right;\n",
              "    }\n",
              "</style>\n",
              "<table border=\"1\" class=\"dataframe\">\n",
              "  <thead>\n",
              "    <tr style=\"text-align: right;\">\n",
              "      <th></th>\n",
              "      <th>class</th>\n",
              "      <th>AGE</th>\n",
              "      <th>menopause</th>\n",
              "      <th>tumor-size</th>\n",
              "      <th>inv-nodes</th>\n",
              "      <th>node-caps</th>\n",
              "      <th>deg-malig</th>\n",
              "      <th>breast</th>\n",
              "      <th>breast-quad</th>\n",
              "      <th>irradiat</th>\n",
              "    </tr>\n",
              "  </thead>\n",
              "  <tbody>\n",
              "    <tr>\n",
              "      <th>0</th>\n",
              "      <td>no-recurrence-events</td>\n",
              "      <td>30-39</td>\n",
              "      <td>premeno</td>\n",
              "      <td>30-34</td>\n",
              "      <td>0-2</td>\n",
              "      <td>no</td>\n",
              "      <td>3</td>\n",
              "      <td>left</td>\n",
              "      <td>left_low</td>\n",
              "      <td>no</td>\n",
              "    </tr>\n",
              "    <tr>\n",
              "      <th>1</th>\n",
              "      <td>no-recurrence-events</td>\n",
              "      <td>40-49</td>\n",
              "      <td>premeno</td>\n",
              "      <td>20-24</td>\n",
              "      <td>0-2</td>\n",
              "      <td>no</td>\n",
              "      <td>2</td>\n",
              "      <td>right</td>\n",
              "      <td>right_up</td>\n",
              "      <td>no</td>\n",
              "    </tr>\n",
              "    <tr>\n",
              "      <th>2</th>\n",
              "      <td>no-recurrence-events</td>\n",
              "      <td>40-49</td>\n",
              "      <td>premeno</td>\n",
              "      <td>20-24</td>\n",
              "      <td>0-2</td>\n",
              "      <td>no</td>\n",
              "      <td>2</td>\n",
              "      <td>left</td>\n",
              "      <td>left_low</td>\n",
              "      <td>no</td>\n",
              "    </tr>\n",
              "    <tr>\n",
              "      <th>3</th>\n",
              "      <td>no-recurrence-events</td>\n",
              "      <td>60-69</td>\n",
              "      <td>ge40</td>\n",
              "      <td>15-19</td>\n",
              "      <td>0-2</td>\n",
              "      <td>no</td>\n",
              "      <td>2</td>\n",
              "      <td>right</td>\n",
              "      <td>left_up</td>\n",
              "      <td>no</td>\n",
              "    </tr>\n",
              "    <tr>\n",
              "      <th>4</th>\n",
              "      <td>no-recurrence-events</td>\n",
              "      <td>40-49</td>\n",
              "      <td>premeno</td>\n",
              "      <td>0-4</td>\n",
              "      <td>0-2</td>\n",
              "      <td>no</td>\n",
              "      <td>2</td>\n",
              "      <td>right</td>\n",
              "      <td>right_low</td>\n",
              "      <td>no</td>\n",
              "    </tr>\n",
              "  </tbody>\n",
              "</table>\n",
              "</div>"
            ],
            "text/plain": [
              "                  class    AGE menopause  ... breast breast-quad irradiat\n",
              "0  no-recurrence-events  30-39   premeno  ...   left    left_low       no\n",
              "1  no-recurrence-events  40-49   premeno  ...  right    right_up       no\n",
              "2  no-recurrence-events  40-49   premeno  ...   left    left_low       no\n",
              "3  no-recurrence-events  60-69      ge40  ...  right     left_up       no\n",
              "4  no-recurrence-events  40-49   premeno  ...  right   right_low       no\n",
              "\n",
              "[5 rows x 10 columns]"
            ]
          },
          "metadata": {
            "tags": []
          },
          "execution_count": 36
        }
      ]
    },
    {
      "cell_type": "code",
      "metadata": {
        "colab": {
          "base_uri": "https://localhost:8080/"
        },
        "id": "u0LFQnudt3A4",
        "outputId": "294f9365-7d56-4443-d73a-31f794e65a70"
      },
      "source": [
        "df.columns[df.isna().any()].tolist()"
      ],
      "execution_count": 37,
      "outputs": [
        {
          "output_type": "execute_result",
          "data": {
            "text/plain": [
              "[]"
            ]
          },
          "metadata": {
            "tags": []
          },
          "execution_count": 37
        }
      ]
    },
    {
      "cell_type": "markdown",
      "metadata": {
        "id": "D3WiLwoxmSui"
      },
      "source": [
        "For rules generations"
      ]
    },
    {
      "cell_type": "code",
      "metadata": {
        "id": "mLEg42x5XZCX"
      },
      "source": [
        "for i,n in enumerate(df.columns):\r\n",
        "  #print(i,n)\r\n",
        "  df[n] = 'A'+str(i)+'@' + df[n].astype(str)"
      ],
      "execution_count": 38,
      "outputs": []
    },
    {
      "cell_type": "code",
      "metadata": {
        "colab": {
          "base_uri": "https://localhost:8080/",
          "height": 402
        },
        "id": "FZd8uVS2Xp2t",
        "outputId": "b0ef8793-2e7f-4977-a334-132fe1b51377"
      },
      "source": [
        "df"
      ],
      "execution_count": 39,
      "outputs": [
        {
          "output_type": "execute_result",
          "data": {
            "text/html": [
              "<div>\n",
              "<style scoped>\n",
              "    .dataframe tbody tr th:only-of-type {\n",
              "        vertical-align: middle;\n",
              "    }\n",
              "\n",
              "    .dataframe tbody tr th {\n",
              "        vertical-align: top;\n",
              "    }\n",
              "\n",
              "    .dataframe thead th {\n",
              "        text-align: right;\n",
              "    }\n",
              "</style>\n",
              "<table border=\"1\" class=\"dataframe\">\n",
              "  <thead>\n",
              "    <tr style=\"text-align: right;\">\n",
              "      <th></th>\n",
              "      <th>class</th>\n",
              "      <th>AGE</th>\n",
              "      <th>menopause</th>\n",
              "      <th>tumor-size</th>\n",
              "      <th>inv-nodes</th>\n",
              "      <th>node-caps</th>\n",
              "      <th>deg-malig</th>\n",
              "      <th>breast</th>\n",
              "      <th>breast-quad</th>\n",
              "      <th>irradiat</th>\n",
              "    </tr>\n",
              "  </thead>\n",
              "  <tbody>\n",
              "    <tr>\n",
              "      <th>0</th>\n",
              "      <td>A0@no-recurrence-events</td>\n",
              "      <td>A1@30-39</td>\n",
              "      <td>A2@premeno</td>\n",
              "      <td>A3@30-34</td>\n",
              "      <td>A4@0-2</td>\n",
              "      <td>A5@no</td>\n",
              "      <td>A6@3</td>\n",
              "      <td>A7@left</td>\n",
              "      <td>A8@left_low</td>\n",
              "      <td>A9@no</td>\n",
              "    </tr>\n",
              "    <tr>\n",
              "      <th>1</th>\n",
              "      <td>A0@no-recurrence-events</td>\n",
              "      <td>A1@40-49</td>\n",
              "      <td>A2@premeno</td>\n",
              "      <td>A3@20-24</td>\n",
              "      <td>A4@0-2</td>\n",
              "      <td>A5@no</td>\n",
              "      <td>A6@2</td>\n",
              "      <td>A7@right</td>\n",
              "      <td>A8@right_up</td>\n",
              "      <td>A9@no</td>\n",
              "    </tr>\n",
              "    <tr>\n",
              "      <th>2</th>\n",
              "      <td>A0@no-recurrence-events</td>\n",
              "      <td>A1@40-49</td>\n",
              "      <td>A2@premeno</td>\n",
              "      <td>A3@20-24</td>\n",
              "      <td>A4@0-2</td>\n",
              "      <td>A5@no</td>\n",
              "      <td>A6@2</td>\n",
              "      <td>A7@left</td>\n",
              "      <td>A8@left_low</td>\n",
              "      <td>A9@no</td>\n",
              "    </tr>\n",
              "    <tr>\n",
              "      <th>3</th>\n",
              "      <td>A0@no-recurrence-events</td>\n",
              "      <td>A1@60-69</td>\n",
              "      <td>A2@ge40</td>\n",
              "      <td>A3@15-19</td>\n",
              "      <td>A4@0-2</td>\n",
              "      <td>A5@no</td>\n",
              "      <td>A6@2</td>\n",
              "      <td>A7@right</td>\n",
              "      <td>A8@left_up</td>\n",
              "      <td>A9@no</td>\n",
              "    </tr>\n",
              "    <tr>\n",
              "      <th>4</th>\n",
              "      <td>A0@no-recurrence-events</td>\n",
              "      <td>A1@40-49</td>\n",
              "      <td>A2@premeno</td>\n",
              "      <td>A3@0-4</td>\n",
              "      <td>A4@0-2</td>\n",
              "      <td>A5@no</td>\n",
              "      <td>A6@2</td>\n",
              "      <td>A7@right</td>\n",
              "      <td>A8@right_low</td>\n",
              "      <td>A9@no</td>\n",
              "    </tr>\n",
              "    <tr>\n",
              "      <th>...</th>\n",
              "      <td>...</td>\n",
              "      <td>...</td>\n",
              "      <td>...</td>\n",
              "      <td>...</td>\n",
              "      <td>...</td>\n",
              "      <td>...</td>\n",
              "      <td>...</td>\n",
              "      <td>...</td>\n",
              "      <td>...</td>\n",
              "      <td>...</td>\n",
              "    </tr>\n",
              "    <tr>\n",
              "      <th>281</th>\n",
              "      <td>A0@recurrence-events</td>\n",
              "      <td>A1@30-39</td>\n",
              "      <td>A2@premeno</td>\n",
              "      <td>A3@30-34</td>\n",
              "      <td>A4@0-2</td>\n",
              "      <td>A5@no</td>\n",
              "      <td>A6@2</td>\n",
              "      <td>A7@left</td>\n",
              "      <td>A8@left_up</td>\n",
              "      <td>A9@no</td>\n",
              "    </tr>\n",
              "    <tr>\n",
              "      <th>282</th>\n",
              "      <td>A0@recurrence-events</td>\n",
              "      <td>A1@30-39</td>\n",
              "      <td>A2@premeno</td>\n",
              "      <td>A3@20-24</td>\n",
              "      <td>A4@0-2</td>\n",
              "      <td>A5@no</td>\n",
              "      <td>A6@3</td>\n",
              "      <td>A7@left</td>\n",
              "      <td>A8@left_up</td>\n",
              "      <td>A9@yes</td>\n",
              "    </tr>\n",
              "    <tr>\n",
              "      <th>283</th>\n",
              "      <td>A0@recurrence-events</td>\n",
              "      <td>A1@60-69</td>\n",
              "      <td>A2@ge40</td>\n",
              "      <td>A3@20-24</td>\n",
              "      <td>A4@0-2</td>\n",
              "      <td>A5@no</td>\n",
              "      <td>A6@1</td>\n",
              "      <td>A7@right</td>\n",
              "      <td>A8@left_up</td>\n",
              "      <td>A9@no</td>\n",
              "    </tr>\n",
              "    <tr>\n",
              "      <th>284</th>\n",
              "      <td>A0@recurrence-events</td>\n",
              "      <td>A1@40-49</td>\n",
              "      <td>A2@ge40</td>\n",
              "      <td>A3@30-34</td>\n",
              "      <td>A4@3-5</td>\n",
              "      <td>A5@no</td>\n",
              "      <td>A6@3</td>\n",
              "      <td>A7@left</td>\n",
              "      <td>A8@left_low</td>\n",
              "      <td>A9@no</td>\n",
              "    </tr>\n",
              "    <tr>\n",
              "      <th>285</th>\n",
              "      <td>A0@recurrence-events</td>\n",
              "      <td>A1@50-59</td>\n",
              "      <td>A2@ge40</td>\n",
              "      <td>A3@30-34</td>\n",
              "      <td>A4@3-5</td>\n",
              "      <td>A5@no</td>\n",
              "      <td>A6@3</td>\n",
              "      <td>A7@left</td>\n",
              "      <td>A8@left_low</td>\n",
              "      <td>A9@no</td>\n",
              "    </tr>\n",
              "  </tbody>\n",
              "</table>\n",
              "<p>286 rows × 10 columns</p>\n",
              "</div>"
            ],
            "text/plain": [
              "                       class       AGE  ...   breast-quad irradiat\n",
              "0    A0@no-recurrence-events  A1@30-39  ...   A8@left_low    A9@no\n",
              "1    A0@no-recurrence-events  A1@40-49  ...   A8@right_up    A9@no\n",
              "2    A0@no-recurrence-events  A1@40-49  ...   A8@left_low    A9@no\n",
              "3    A0@no-recurrence-events  A1@60-69  ...    A8@left_up    A9@no\n",
              "4    A0@no-recurrence-events  A1@40-49  ...  A8@right_low    A9@no\n",
              "..                       ...       ...  ...           ...      ...\n",
              "281     A0@recurrence-events  A1@30-39  ...    A8@left_up    A9@no\n",
              "282     A0@recurrence-events  A1@30-39  ...    A8@left_up   A9@yes\n",
              "283     A0@recurrence-events  A1@60-69  ...    A8@left_up    A9@no\n",
              "284     A0@recurrence-events  A1@40-49  ...   A8@left_low    A9@no\n",
              "285     A0@recurrence-events  A1@50-59  ...   A8@left_low    A9@no\n",
              "\n",
              "[286 rows x 10 columns]"
            ]
          },
          "metadata": {
            "tags": []
          },
          "execution_count": 39
        }
      ]
    },
    {
      "cell_type": "markdown",
      "metadata": {
        "id": "FxIL7KaBgsls"
      },
      "source": [
        "For RP-growth Data"
      ]
    },
    {
      "cell_type": "code",
      "metadata": {
        "id": "u3QFGTHxaGKf"
      },
      "source": [
        "uni = pd.DataFrame()\r\n",
        "for col in df:\r\n",
        "    uni= pd.concat([uni, pd.DataFrame(df[col].unique())], ignore_index=True)"
      ],
      "execution_count": 40,
      "outputs": []
    },
    {
      "cell_type": "code",
      "metadata": {
        "colab": {
          "base_uri": "https://localhost:8080/",
          "height": 1000
        },
        "id": "X-Lnq3Jmc1Ws",
        "outputId": "3ebd1d71-4cbf-47f7-e75a-25a25fcb30c9"
      },
      "source": [
        "uni"
      ],
      "execution_count": 41,
      "outputs": [
        {
          "output_type": "execute_result",
          "data": {
            "text/html": [
              "<div>\n",
              "<style scoped>\n",
              "    .dataframe tbody tr th:only-of-type {\n",
              "        vertical-align: middle;\n",
              "    }\n",
              "\n",
              "    .dataframe tbody tr th {\n",
              "        vertical-align: top;\n",
              "    }\n",
              "\n",
              "    .dataframe thead th {\n",
              "        text-align: right;\n",
              "    }\n",
              "</style>\n",
              "<table border=\"1\" class=\"dataframe\">\n",
              "  <thead>\n",
              "    <tr style=\"text-align: right;\">\n",
              "      <th></th>\n",
              "      <th>0</th>\n",
              "    </tr>\n",
              "  </thead>\n",
              "  <tbody>\n",
              "    <tr>\n",
              "      <th>0</th>\n",
              "      <td>A0@no-recurrence-events</td>\n",
              "    </tr>\n",
              "    <tr>\n",
              "      <th>1</th>\n",
              "      <td>A0@recurrence-events</td>\n",
              "    </tr>\n",
              "    <tr>\n",
              "      <th>2</th>\n",
              "      <td>A1@30-39</td>\n",
              "    </tr>\n",
              "    <tr>\n",
              "      <th>3</th>\n",
              "      <td>A1@40-49</td>\n",
              "    </tr>\n",
              "    <tr>\n",
              "      <th>4</th>\n",
              "      <td>A1@60-69</td>\n",
              "    </tr>\n",
              "    <tr>\n",
              "      <th>5</th>\n",
              "      <td>A1@50-59</td>\n",
              "    </tr>\n",
              "    <tr>\n",
              "      <th>6</th>\n",
              "      <td>A1@70-79</td>\n",
              "    </tr>\n",
              "    <tr>\n",
              "      <th>7</th>\n",
              "      <td>A1@20-29</td>\n",
              "    </tr>\n",
              "    <tr>\n",
              "      <th>8</th>\n",
              "      <td>A2@premeno</td>\n",
              "    </tr>\n",
              "    <tr>\n",
              "      <th>9</th>\n",
              "      <td>A2@ge40</td>\n",
              "    </tr>\n",
              "    <tr>\n",
              "      <th>10</th>\n",
              "      <td>A2@lt40</td>\n",
              "    </tr>\n",
              "    <tr>\n",
              "      <th>11</th>\n",
              "      <td>A3@30-34</td>\n",
              "    </tr>\n",
              "    <tr>\n",
              "      <th>12</th>\n",
              "      <td>A3@20-24</td>\n",
              "    </tr>\n",
              "    <tr>\n",
              "      <th>13</th>\n",
              "      <td>A3@15-19</td>\n",
              "    </tr>\n",
              "    <tr>\n",
              "      <th>14</th>\n",
              "      <td>A3@0-4</td>\n",
              "    </tr>\n",
              "    <tr>\n",
              "      <th>15</th>\n",
              "      <td>A3@25-29</td>\n",
              "    </tr>\n",
              "    <tr>\n",
              "      <th>16</th>\n",
              "      <td>A3@50-54</td>\n",
              "    </tr>\n",
              "    <tr>\n",
              "      <th>17</th>\n",
              "      <td>A3@10-14</td>\n",
              "    </tr>\n",
              "    <tr>\n",
              "      <th>18</th>\n",
              "      <td>A3@40-44</td>\n",
              "    </tr>\n",
              "    <tr>\n",
              "      <th>19</th>\n",
              "      <td>A3@35-39</td>\n",
              "    </tr>\n",
              "    <tr>\n",
              "      <th>20</th>\n",
              "      <td>A3@5-9</td>\n",
              "    </tr>\n",
              "    <tr>\n",
              "      <th>21</th>\n",
              "      <td>A3@45-49</td>\n",
              "    </tr>\n",
              "    <tr>\n",
              "      <th>22</th>\n",
              "      <td>A4@0-2</td>\n",
              "    </tr>\n",
              "    <tr>\n",
              "      <th>23</th>\n",
              "      <td>A4@6-8</td>\n",
              "    </tr>\n",
              "    <tr>\n",
              "      <th>24</th>\n",
              "      <td>A4@9-11</td>\n",
              "    </tr>\n",
              "    <tr>\n",
              "      <th>25</th>\n",
              "      <td>A4@3-5</td>\n",
              "    </tr>\n",
              "    <tr>\n",
              "      <th>26</th>\n",
              "      <td>A4@15-17</td>\n",
              "    </tr>\n",
              "    <tr>\n",
              "      <th>27</th>\n",
              "      <td>A4@12-14</td>\n",
              "    </tr>\n",
              "    <tr>\n",
              "      <th>28</th>\n",
              "      <td>A4@24-26</td>\n",
              "    </tr>\n",
              "    <tr>\n",
              "      <th>29</th>\n",
              "      <td>A5@no</td>\n",
              "    </tr>\n",
              "    <tr>\n",
              "      <th>30</th>\n",
              "      <td>A5@yes</td>\n",
              "    </tr>\n",
              "    <tr>\n",
              "      <th>31</th>\n",
              "      <td>A5@?</td>\n",
              "    </tr>\n",
              "    <tr>\n",
              "      <th>32</th>\n",
              "      <td>A6@3</td>\n",
              "    </tr>\n",
              "    <tr>\n",
              "      <th>33</th>\n",
              "      <td>A6@2</td>\n",
              "    </tr>\n",
              "    <tr>\n",
              "      <th>34</th>\n",
              "      <td>A6@1</td>\n",
              "    </tr>\n",
              "    <tr>\n",
              "      <th>35</th>\n",
              "      <td>A7@left</td>\n",
              "    </tr>\n",
              "    <tr>\n",
              "      <th>36</th>\n",
              "      <td>A7@right</td>\n",
              "    </tr>\n",
              "    <tr>\n",
              "      <th>37</th>\n",
              "      <td>A8@left_low</td>\n",
              "    </tr>\n",
              "    <tr>\n",
              "      <th>38</th>\n",
              "      <td>A8@right_up</td>\n",
              "    </tr>\n",
              "    <tr>\n",
              "      <th>39</th>\n",
              "      <td>A8@left_up</td>\n",
              "    </tr>\n",
              "    <tr>\n",
              "      <th>40</th>\n",
              "      <td>A8@right_low</td>\n",
              "    </tr>\n",
              "    <tr>\n",
              "      <th>41</th>\n",
              "      <td>A8@central</td>\n",
              "    </tr>\n",
              "    <tr>\n",
              "      <th>42</th>\n",
              "      <td>A8@?</td>\n",
              "    </tr>\n",
              "    <tr>\n",
              "      <th>43</th>\n",
              "      <td>A9@no</td>\n",
              "    </tr>\n",
              "    <tr>\n",
              "      <th>44</th>\n",
              "      <td>A9@yes</td>\n",
              "    </tr>\n",
              "  </tbody>\n",
              "</table>\n",
              "</div>"
            ],
            "text/plain": [
              "                          0\n",
              "0   A0@no-recurrence-events\n",
              "1      A0@recurrence-events\n",
              "2                  A1@30-39\n",
              "3                  A1@40-49\n",
              "4                  A1@60-69\n",
              "5                  A1@50-59\n",
              "6                  A1@70-79\n",
              "7                  A1@20-29\n",
              "8                A2@premeno\n",
              "9                   A2@ge40\n",
              "10                  A2@lt40\n",
              "11                 A3@30-34\n",
              "12                 A3@20-24\n",
              "13                 A3@15-19\n",
              "14                   A3@0-4\n",
              "15                 A3@25-29\n",
              "16                 A3@50-54\n",
              "17                 A3@10-14\n",
              "18                 A3@40-44\n",
              "19                 A3@35-39\n",
              "20                   A3@5-9\n",
              "21                 A3@45-49\n",
              "22                   A4@0-2\n",
              "23                   A4@6-8\n",
              "24                  A4@9-11\n",
              "25                   A4@3-5\n",
              "26                 A4@15-17\n",
              "27                 A4@12-14\n",
              "28                 A4@24-26\n",
              "29                    A5@no\n",
              "30                   A5@yes\n",
              "31                     A5@?\n",
              "32                     A6@3\n",
              "33                     A6@2\n",
              "34                     A6@1\n",
              "35                  A7@left\n",
              "36                 A7@right\n",
              "37              A8@left_low\n",
              "38              A8@right_up\n",
              "39               A8@left_up\n",
              "40             A8@right_low\n",
              "41               A8@central\n",
              "42                     A8@?\n",
              "43                    A9@no\n",
              "44                   A9@yes"
            ]
          },
          "metadata": {
            "tags": []
          },
          "execution_count": 41
        }
      ]
    },
    {
      "cell_type": "code",
      "metadata": {
        "id": "sgYlRd2Ic-NU"
      },
      "source": [
        "my_dict = uni.to_dict()"
      ],
      "execution_count": 42,
      "outputs": []
    },
    {
      "cell_type": "code",
      "metadata": {
        "colab": {
          "base_uri": "https://localhost:8080/"
        },
        "id": "DeIxvvAFfnbs",
        "outputId": "d6bd238c-80ee-45b3-e793-bab89667fbb2"
      },
      "source": [
        "my_dict"
      ],
      "execution_count": 43,
      "outputs": [
        {
          "output_type": "execute_result",
          "data": {
            "text/plain": [
              "{0: {0: 'A0@no-recurrence-events',\n",
              "  1: 'A0@recurrence-events',\n",
              "  2: 'A1@30-39',\n",
              "  3: 'A1@40-49',\n",
              "  4: 'A1@60-69',\n",
              "  5: 'A1@50-59',\n",
              "  6: 'A1@70-79',\n",
              "  7: 'A1@20-29',\n",
              "  8: 'A2@premeno',\n",
              "  9: 'A2@ge40',\n",
              "  10: 'A2@lt40',\n",
              "  11: 'A3@30-34',\n",
              "  12: 'A3@20-24',\n",
              "  13: 'A3@15-19',\n",
              "  14: 'A3@0-4',\n",
              "  15: 'A3@25-29',\n",
              "  16: 'A3@50-54',\n",
              "  17: 'A3@10-14',\n",
              "  18: 'A3@40-44',\n",
              "  19: 'A3@35-39',\n",
              "  20: 'A3@5-9',\n",
              "  21: 'A3@45-49',\n",
              "  22: 'A4@0-2',\n",
              "  23: 'A4@6-8',\n",
              "  24: 'A4@9-11',\n",
              "  25: 'A4@3-5',\n",
              "  26: 'A4@15-17',\n",
              "  27: 'A4@12-14',\n",
              "  28: 'A4@24-26',\n",
              "  29: 'A5@no',\n",
              "  30: 'A5@yes',\n",
              "  31: 'A5@?',\n",
              "  32: 'A6@3',\n",
              "  33: 'A6@2',\n",
              "  34: 'A6@1',\n",
              "  35: 'A7@left',\n",
              "  36: 'A7@right',\n",
              "  37: 'A8@left_low',\n",
              "  38: 'A8@right_up',\n",
              "  39: 'A8@left_up',\n",
              "  40: 'A8@right_low',\n",
              "  41: 'A8@central',\n",
              "  42: 'A8@?',\n",
              "  43: 'A9@no',\n",
              "  44: 'A9@yes'}}"
            ]
          },
          "metadata": {
            "tags": []
          },
          "execution_count": 43
        }
      ]
    },
    {
      "cell_type": "code",
      "metadata": {
        "id": "Qo6J03jygRAD"
      },
      "source": [
        "my_dict = my_dict[0]"
      ],
      "execution_count": 44,
      "outputs": []
    },
    {
      "cell_type": "code",
      "metadata": {
        "id": "fKR_7F5ldsV8"
      },
      "source": [
        "new_dict = dict((value, key) for key, value in my_dict.items())"
      ],
      "execution_count": 45,
      "outputs": []
    },
    {
      "cell_type": "code",
      "metadata": {
        "id": "eU1zx51vhCpT"
      },
      "source": [
        "for col in df:\r\n",
        "    df[col] = df[col].replace(new_dict)"
      ],
      "execution_count": 46,
      "outputs": []
    },
    {
      "cell_type": "code",
      "metadata": {
        "colab": {
          "base_uri": "https://localhost:8080/",
          "height": 402
        },
        "id": "0qhFbFMQhStD",
        "outputId": "e920efb4-820f-4ce2-dd87-5735d7b5d2b1"
      },
      "source": [
        "df"
      ],
      "execution_count": 47,
      "outputs": [
        {
          "output_type": "execute_result",
          "data": {
            "text/html": [
              "<div>\n",
              "<style scoped>\n",
              "    .dataframe tbody tr th:only-of-type {\n",
              "        vertical-align: middle;\n",
              "    }\n",
              "\n",
              "    .dataframe tbody tr th {\n",
              "        vertical-align: top;\n",
              "    }\n",
              "\n",
              "    .dataframe thead th {\n",
              "        text-align: right;\n",
              "    }\n",
              "</style>\n",
              "<table border=\"1\" class=\"dataframe\">\n",
              "  <thead>\n",
              "    <tr style=\"text-align: right;\">\n",
              "      <th></th>\n",
              "      <th>class</th>\n",
              "      <th>AGE</th>\n",
              "      <th>menopause</th>\n",
              "      <th>tumor-size</th>\n",
              "      <th>inv-nodes</th>\n",
              "      <th>node-caps</th>\n",
              "      <th>deg-malig</th>\n",
              "      <th>breast</th>\n",
              "      <th>breast-quad</th>\n",
              "      <th>irradiat</th>\n",
              "    </tr>\n",
              "  </thead>\n",
              "  <tbody>\n",
              "    <tr>\n",
              "      <th>0</th>\n",
              "      <td>0</td>\n",
              "      <td>2</td>\n",
              "      <td>8</td>\n",
              "      <td>11</td>\n",
              "      <td>22</td>\n",
              "      <td>29</td>\n",
              "      <td>32</td>\n",
              "      <td>35</td>\n",
              "      <td>37</td>\n",
              "      <td>43</td>\n",
              "    </tr>\n",
              "    <tr>\n",
              "      <th>1</th>\n",
              "      <td>0</td>\n",
              "      <td>3</td>\n",
              "      <td>8</td>\n",
              "      <td>12</td>\n",
              "      <td>22</td>\n",
              "      <td>29</td>\n",
              "      <td>33</td>\n",
              "      <td>36</td>\n",
              "      <td>38</td>\n",
              "      <td>43</td>\n",
              "    </tr>\n",
              "    <tr>\n",
              "      <th>2</th>\n",
              "      <td>0</td>\n",
              "      <td>3</td>\n",
              "      <td>8</td>\n",
              "      <td>12</td>\n",
              "      <td>22</td>\n",
              "      <td>29</td>\n",
              "      <td>33</td>\n",
              "      <td>35</td>\n",
              "      <td>37</td>\n",
              "      <td>43</td>\n",
              "    </tr>\n",
              "    <tr>\n",
              "      <th>3</th>\n",
              "      <td>0</td>\n",
              "      <td>4</td>\n",
              "      <td>9</td>\n",
              "      <td>13</td>\n",
              "      <td>22</td>\n",
              "      <td>29</td>\n",
              "      <td>33</td>\n",
              "      <td>36</td>\n",
              "      <td>39</td>\n",
              "      <td>43</td>\n",
              "    </tr>\n",
              "    <tr>\n",
              "      <th>4</th>\n",
              "      <td>0</td>\n",
              "      <td>3</td>\n",
              "      <td>8</td>\n",
              "      <td>14</td>\n",
              "      <td>22</td>\n",
              "      <td>29</td>\n",
              "      <td>33</td>\n",
              "      <td>36</td>\n",
              "      <td>40</td>\n",
              "      <td>43</td>\n",
              "    </tr>\n",
              "    <tr>\n",
              "      <th>...</th>\n",
              "      <td>...</td>\n",
              "      <td>...</td>\n",
              "      <td>...</td>\n",
              "      <td>...</td>\n",
              "      <td>...</td>\n",
              "      <td>...</td>\n",
              "      <td>...</td>\n",
              "      <td>...</td>\n",
              "      <td>...</td>\n",
              "      <td>...</td>\n",
              "    </tr>\n",
              "    <tr>\n",
              "      <th>281</th>\n",
              "      <td>1</td>\n",
              "      <td>2</td>\n",
              "      <td>8</td>\n",
              "      <td>11</td>\n",
              "      <td>22</td>\n",
              "      <td>29</td>\n",
              "      <td>33</td>\n",
              "      <td>35</td>\n",
              "      <td>39</td>\n",
              "      <td>43</td>\n",
              "    </tr>\n",
              "    <tr>\n",
              "      <th>282</th>\n",
              "      <td>1</td>\n",
              "      <td>2</td>\n",
              "      <td>8</td>\n",
              "      <td>12</td>\n",
              "      <td>22</td>\n",
              "      <td>29</td>\n",
              "      <td>32</td>\n",
              "      <td>35</td>\n",
              "      <td>39</td>\n",
              "      <td>44</td>\n",
              "    </tr>\n",
              "    <tr>\n",
              "      <th>283</th>\n",
              "      <td>1</td>\n",
              "      <td>4</td>\n",
              "      <td>9</td>\n",
              "      <td>12</td>\n",
              "      <td>22</td>\n",
              "      <td>29</td>\n",
              "      <td>34</td>\n",
              "      <td>36</td>\n",
              "      <td>39</td>\n",
              "      <td>43</td>\n",
              "    </tr>\n",
              "    <tr>\n",
              "      <th>284</th>\n",
              "      <td>1</td>\n",
              "      <td>3</td>\n",
              "      <td>9</td>\n",
              "      <td>11</td>\n",
              "      <td>25</td>\n",
              "      <td>29</td>\n",
              "      <td>32</td>\n",
              "      <td>35</td>\n",
              "      <td>37</td>\n",
              "      <td>43</td>\n",
              "    </tr>\n",
              "    <tr>\n",
              "      <th>285</th>\n",
              "      <td>1</td>\n",
              "      <td>5</td>\n",
              "      <td>9</td>\n",
              "      <td>11</td>\n",
              "      <td>25</td>\n",
              "      <td>29</td>\n",
              "      <td>32</td>\n",
              "      <td>35</td>\n",
              "      <td>37</td>\n",
              "      <td>43</td>\n",
              "    </tr>\n",
              "  </tbody>\n",
              "</table>\n",
              "<p>286 rows × 10 columns</p>\n",
              "</div>"
            ],
            "text/plain": [
              "     class  AGE  menopause  ...  breast  breast-quad  irradiat\n",
              "0        0    2          8  ...      35           37        43\n",
              "1        0    3          8  ...      36           38        43\n",
              "2        0    3          8  ...      35           37        43\n",
              "3        0    4          9  ...      36           39        43\n",
              "4        0    3          8  ...      36           40        43\n",
              "..     ...  ...        ...  ...     ...          ...       ...\n",
              "281      1    2          8  ...      35           39        43\n",
              "282      1    2          8  ...      35           39        44\n",
              "283      1    4          9  ...      36           39        43\n",
              "284      1    3          9  ...      35           37        43\n",
              "285      1    5          9  ...      35           37        43\n",
              "\n",
              "[286 rows x 10 columns]"
            ]
          },
          "metadata": {
            "tags": []
          },
          "execution_count": 47
        }
      ]
    },
    {
      "cell_type": "code",
      "metadata": {
        "id": "zxc5CLwFis4R"
      },
      "source": [
        "df.to_csv(\"/content/drive/MyDrive/DataSets_for_Paper/bcancer_data_to_numbers.csv\",sep = ' ', header=None,index=False)"
      ],
      "execution_count": 48,
      "outputs": []
    },
    {
      "cell_type": "code",
      "metadata": {
        "id": "8ejKm24sXPdm"
      },
      "source": [
        "#removing sup\r\n",
        "\"\"\"f = open('/content/output_hep_rp.txt','r')\r\n",
        "lst = []\r\n",
        "for line in f:\r\n",
        "  line  = line.split(\"#\", 1)\r\n",
        "  \r\n",
        "  line  = line[0]\r\n",
        "  lst.append(line)\r\n",
        "f.close()\r\n",
        "f = open('/content/output_processed.txt','w')\r\n",
        "for line in lst:\r\n",
        "    f.write(line+'\\n')\r\n",
        "f.close()\"\"\"\r\n"
      ],
      "execution_count": null,
      "outputs": []
    },
    {
      "cell_type": "markdown",
      "metadata": {
        "id": "QEooXfPCuTeR"
      },
      "source": [
        "Run Rp-Growth"
      ]
    },
    {
      "cell_type": "code",
      "metadata": {
        "id": "8NjQp_lM97YS"
      },
      "source": [
        "clus = \"RP-Growth\"\r\n",
        "d = '/content/' #specify the folder all the input and output files are"
      ],
      "execution_count": 49,
      "outputs": []
    },
    {
      "cell_type": "code",
      "metadata": {
        "colab": {
          "base_uri": "https://localhost:8080/"
        },
        "id": "r7GqZuEDjx9j",
        "outputId": "5bde5d4c-77df-45d0-d0f7-2bacb8394e10"
      },
      "source": [
        "pip install spmf"
      ],
      "execution_count": 50,
      "outputs": [
        {
          "output_type": "stream",
          "text": [
            "Collecting spmf\n",
            "  Downloading https://files.pythonhosted.org/packages/8c/ff/15ed66193c66c7ea933f8b29c6f46e5dfee90584a0fbb68bd5cb8a151c74/spmf-1.3-py3-none-any.whl\n",
            "Installing collected packages: spmf\n",
            "Successfully installed spmf-1.3\n"
          ],
          "name": "stdout"
        }
      ]
    },
    {
      "cell_type": "code",
      "metadata": {
        "id": "K93Z50XAj1sl"
      },
      "source": [
        "from spmf import Spmf\r\n",
        "import pathlib"
      ],
      "execution_count": 52,
      "outputs": []
    },
    {
      "cell_type": "code",
      "metadata": {
        "id": "msx0-KjE105a"
      },
      "source": [
        "spmf = Spmf(\"RPGrowth_itemsets\", input_filename=\"bcancer_data_to_numbers.csv\",\r\n",
        "            output_filename=\"output_bcancer.txt\", arguments=[0.6, .10],spmf_bin_location_dir=d )"
      ],
      "execution_count": 53,
      "outputs": []
    },
    {
      "cell_type": "code",
      "metadata": {
        "colab": {
          "base_uri": "https://localhost:8080/"
        },
        "id": "IggfWhIZhY_H",
        "outputId": "f27c56d1-fc9b-4fdc-97d0-7f28c4a12512"
      },
      "source": [
        "spmf.run()"
      ],
      "execution_count": 54,
      "outputs": [
        {
          "output_type": "stream",
          "text": [
            ">/content/spmf.jar\n",
            "=============  RP-GROWTH 2.38 - STATS =============\n",
            " Transactions count from database : 286\n",
            " Max memory usage: 8.297409057617188 mb \n",
            " Rare itemsets count : 684\n",
            " Total time ~ 90 ms\n",
            "===================================================\n",
            "\n"
          ],
          "name": "stdout"
        }
      ]
    },
    {
      "cell_type": "code",
      "metadata": {
        "id": "Fqkrr3C9zQN_"
      },
      "source": [
        "df = pd.read_csv('/content/output_bcancer.txt')\r\n",
        "df.to_csv(\"/content/drive/MyDrive/DataSets_for_Paper/bcancer_rpgrowth_out_original.csv\")"
      ],
      "execution_count": 106,
      "outputs": []
    },
    {
      "cell_type": "markdown",
      "metadata": {
        "id": "3ecg2KiuZwai"
      },
      "source": [
        "Converting to original"
      ]
    },
    {
      "cell_type": "code",
      "metadata": {
        "id": "DwkplEX_zNzV"
      },
      "source": [
        "#removing sup\r\n",
        "f = open('/content/output_bcancer.txt','r')\r\n",
        "lst = []\r\n",
        "for line in f:\r\n",
        "  line  = line.split(\"#\", 1)\r\n",
        "  \r\n",
        "  line  = line[0]\r\n",
        "  lst.append(line)\r\n",
        "f.close()\r\n",
        "f = open('/content/output_bcancer_processed.txt','w')\r\n",
        "for line in lst:\r\n",
        "    f.write(line+'\\n')\r\n",
        "f.close()\r\n"
      ],
      "execution_count": 153,
      "outputs": []
    },
    {
      "cell_type": "code",
      "metadata": {
        "id": "PT3BxA8MZXBS"
      },
      "source": [
        "df = pd.read_csv(originalfile)"
      ],
      "execution_count": 154,
      "outputs": []
    },
    {
      "cell_type": "code",
      "metadata": {
        "id": "n9GC0pxrakqi"
      },
      "source": [
        "#removing index column\r\n",
        "cols = [0]\r\n",
        "df.drop(df.columns[cols],axis=1,inplace=True)"
      ],
      "execution_count": 155,
      "outputs": []
    },
    {
      "cell_type": "code",
      "metadata": {
        "id": "ac8Fh0LUbDQC"
      },
      "source": [
        "cols = list(df.columns)\r\n",
        "cols = [cols[-1]] + cols[:-1]\r\n",
        "df = df[cols]"
      ],
      "execution_count": 156,
      "outputs": []
    },
    {
      "cell_type": "code",
      "metadata": {
        "id": "4lqHOtICxVQN"
      },
      "source": [
        "for i,n in enumerate(df.columns):\r\n",
        "  if n=='class':\r\n",
        "    df[n] = 'class@' + df[n].astype(str)\r\n",
        "  else:\r\n",
        "    df[n] = 'A'+str(i)+'@' + df[n].astype(str)"
      ],
      "execution_count": 157,
      "outputs": []
    },
    {
      "cell_type": "code",
      "metadata": {
        "id": "X7U7f0ukxVQO"
      },
      "source": [
        "uni = pd.DataFrame()\r\n",
        "for col in df:\r\n",
        "    uni= pd.concat([uni, pd.DataFrame(df[col].unique())], ignore_index=True)"
      ],
      "execution_count": 158,
      "outputs": []
    },
    {
      "cell_type": "code",
      "metadata": {
        "id": "LLZQCYvDxVQP"
      },
      "source": [
        "my_dict = uni.to_dict()"
      ],
      "execution_count": 159,
      "outputs": []
    },
    {
      "cell_type": "code",
      "metadata": {
        "id": "M79NiVuZxVQQ"
      },
      "source": [
        "my_dict = my_dict[0]"
      ],
      "execution_count": 160,
      "outputs": []
    },
    {
      "cell_type": "code",
      "metadata": {
        "id": "sU2hXlIJcndy"
      },
      "source": [
        "rp_growth_process = pd.read_csv(\"/content/output_bcancer_processed.txt\", header=None, names=[\"itemsets\"],index_col=False)"
      ],
      "execution_count": 161,
      "outputs": []
    },
    {
      "cell_type": "code",
      "metadata": {
        "id": "zTc8mRqGuWbs"
      },
      "source": [
        "temp_df = pd.concat([rp_growth_process[['itemsets']], rp_growth_process['itemsets'].str.split(' ', expand=True)], axis=1\r\n",
        "                  )"
      ],
      "execution_count": 162,
      "outputs": []
    },
    {
      "cell_type": "code",
      "metadata": {
        "id": "o2dS-3TCu8aM"
      },
      "source": [
        "temp_df = temp_df.loc[temp_df.iloc[:,1].isin(['1','0'])]"
      ],
      "execution_count": 163,
      "outputs": []
    },
    {
      "cell_type": "code",
      "metadata": {
        "id": "swpz0BF6xK80"
      },
      "source": [
        "temp_df=temp_df.drop('itemsets', axis=1)"
      ],
      "execution_count": 164,
      "outputs": []
    },
    {
      "cell_type": "code",
      "metadata": {
        "colab": {
          "base_uri": "https://localhost:8080/",
          "height": 402
        },
        "id": "3ZK1AirsbFWa",
        "outputId": "5c1e9d92-3ff4-48a9-ec2c-b3a557ea7628"
      },
      "source": [
        "temp_df"
      ],
      "execution_count": 165,
      "outputs": [
        {
          "output_type": "execute_result",
          "data": {
            "text/html": [
              "<div>\n",
              "<style scoped>\n",
              "    .dataframe tbody tr th:only-of-type {\n",
              "        vertical-align: middle;\n",
              "    }\n",
              "\n",
              "    .dataframe tbody tr th {\n",
              "        vertical-align: top;\n",
              "    }\n",
              "\n",
              "    .dataframe thead th {\n",
              "        text-align: right;\n",
              "    }\n",
              "</style>\n",
              "<table border=\"1\" class=\"dataframe\">\n",
              "  <thead>\n",
              "    <tr style=\"text-align: right;\">\n",
              "      <th></th>\n",
              "      <th>0</th>\n",
              "      <th>1</th>\n",
              "      <th>2</th>\n",
              "      <th>3</th>\n",
              "      <th>4</th>\n",
              "      <th>5</th>\n",
              "      <th>6</th>\n",
              "    </tr>\n",
              "  </thead>\n",
              "  <tbody>\n",
              "    <tr>\n",
              "      <th>6</th>\n",
              "      <td>0</td>\n",
              "      <td>12</td>\n",
              "      <td></td>\n",
              "      <td>None</td>\n",
              "      <td>None</td>\n",
              "      <td>None</td>\n",
              "      <td>None</td>\n",
              "    </tr>\n",
              "    <tr>\n",
              "      <th>7</th>\n",
              "      <td>0</td>\n",
              "      <td>12</td>\n",
              "      <td>29</td>\n",
              "      <td></td>\n",
              "      <td>None</td>\n",
              "      <td>None</td>\n",
              "      <td>None</td>\n",
              "    </tr>\n",
              "    <tr>\n",
              "      <th>8</th>\n",
              "      <td>0</td>\n",
              "      <td>12</td>\n",
              "      <td>43</td>\n",
              "      <td></td>\n",
              "      <td>None</td>\n",
              "      <td>None</td>\n",
              "      <td>None</td>\n",
              "    </tr>\n",
              "    <tr>\n",
              "      <th>19</th>\n",
              "      <td>0</td>\n",
              "      <td>15</td>\n",
              "      <td></td>\n",
              "      <td>None</td>\n",
              "      <td>None</td>\n",
              "      <td>None</td>\n",
              "      <td>None</td>\n",
              "    </tr>\n",
              "    <tr>\n",
              "      <th>20</th>\n",
              "      <td>0</td>\n",
              "      <td>15</td>\n",
              "      <td>22</td>\n",
              "      <td></td>\n",
              "      <td>None</td>\n",
              "      <td>None</td>\n",
              "      <td>None</td>\n",
              "    </tr>\n",
              "    <tr>\n",
              "      <th>...</th>\n",
              "      <td>...</td>\n",
              "      <td>...</td>\n",
              "      <td>...</td>\n",
              "      <td>...</td>\n",
              "      <td>...</td>\n",
              "      <td>...</td>\n",
              "      <td>...</td>\n",
              "    </tr>\n",
              "    <tr>\n",
              "      <th>672</th>\n",
              "      <td>0</td>\n",
              "      <td>29</td>\n",
              "      <td>35</td>\n",
              "      <td></td>\n",
              "      <td>None</td>\n",
              "      <td>None</td>\n",
              "      <td>None</td>\n",
              "    </tr>\n",
              "    <tr>\n",
              "      <th>673</th>\n",
              "      <td>0</td>\n",
              "      <td>22</td>\n",
              "      <td>35</td>\n",
              "      <td></td>\n",
              "      <td>None</td>\n",
              "      <td>None</td>\n",
              "      <td>None</td>\n",
              "    </tr>\n",
              "    <tr>\n",
              "      <th>674</th>\n",
              "      <td>0</td>\n",
              "      <td>22</td>\n",
              "      <td>35</td>\n",
              "      <td>43</td>\n",
              "      <td></td>\n",
              "      <td>None</td>\n",
              "      <td>None</td>\n",
              "    </tr>\n",
              "    <tr>\n",
              "      <th>675</th>\n",
              "      <td>0</td>\n",
              "      <td>22</td>\n",
              "      <td>29</td>\n",
              "      <td>35</td>\n",
              "      <td>43</td>\n",
              "      <td></td>\n",
              "      <td>None</td>\n",
              "    </tr>\n",
              "    <tr>\n",
              "      <th>676</th>\n",
              "      <td>0</td>\n",
              "      <td>22</td>\n",
              "      <td>29</td>\n",
              "      <td>35</td>\n",
              "      <td></td>\n",
              "      <td>None</td>\n",
              "      <td>None</td>\n",
              "    </tr>\n",
              "  </tbody>\n",
              "</table>\n",
              "<p>274 rows × 7 columns</p>\n",
              "</div>"
            ],
            "text/plain": [
              "     0   1   2     3     4     5     6\n",
              "6    0  12      None  None  None  None\n",
              "7    0  12  29        None  None  None\n",
              "8    0  12  43        None  None  None\n",
              "19   0  15      None  None  None  None\n",
              "20   0  15  22        None  None  None\n",
              "..  ..  ..  ..   ...   ...   ...   ...\n",
              "672  0  29  35        None  None  None\n",
              "673  0  22  35        None  None  None\n",
              "674  0  22  35    43        None  None\n",
              "675  0  22  29    35    43        None\n",
              "676  0  22  29    35        None  None\n",
              "\n",
              "[274 rows x 7 columns]"
            ]
          },
          "metadata": {
            "tags": []
          },
          "execution_count": 165
        }
      ]
    },
    {
      "cell_type": "code",
      "metadata": {
        "id": "pDDX3yNg5GcS"
      },
      "source": [
        "temp_df.columns = ['a', 'b', 'c', 'd', 'e', 'f','g']"
      ],
      "execution_count": 167,
      "outputs": []
    },
    {
      "cell_type": "code",
      "metadata": {
        "id": "dqcgT4nbHwJB"
      },
      "source": [
        "#concat @ to tempdf\r\n",
        "for i,n in enumerate(temp_df.columns):\r\n",
        "  \r\n",
        "    temp_df[n] = '@' + temp_df[n].astype(str)\r\n"
      ],
      "execution_count": 168,
      "outputs": []
    },
    {
      "cell_type": "code",
      "metadata": {
        "colab": {
          "base_uri": "https://localhost:8080/"
        },
        "id": "dDzplAZrHejM",
        "outputId": "3530497c-6a4c-4441-eed2-a03624a16367"
      },
      "source": [
        "temp_df['a'].value_counts()"
      ],
      "execution_count": 169,
      "outputs": [
        {
          "output_type": "execute_result",
          "data": {
            "text/plain": [
              "@0    255\n",
              "@1     19\n",
              "Name: a, dtype: int64"
            ]
          },
          "metadata": {
            "tags": []
          },
          "execution_count": 169
        }
      ]
    },
    {
      "cell_type": "code",
      "metadata": {
        "id": "009475WRIJUb"
      },
      "source": [
        "di = {f'@{k}': v for k, v in my_dict.items()}"
      ],
      "execution_count": 170,
      "outputs": []
    },
    {
      "cell_type": "code",
      "metadata": {
        "id": "12XdJA1oXjKL",
        "colab": {
          "base_uri": "https://localhost:8080/"
        },
        "outputId": "cb80813c-8452-4758-8540-9ad20afed8ba"
      },
      "source": [
        "di"
      ],
      "execution_count": 171,
      "outputs": [
        {
          "output_type": "execute_result",
          "data": {
            "text/plain": [
              "{'@0': 'A0@no',\n",
              " '@1': 'A0@yes',\n",
              " '@10': 'A3@premeno',\n",
              " '@11': 'A3@ge40',\n",
              " '@12': 'A3@lt40',\n",
              " '@13': 'A4@30-34',\n",
              " '@14': 'A4@20-24',\n",
              " '@15': 'A4@15-19',\n",
              " '@16': 'A4@0-4',\n",
              " '@17': 'A4@25-29',\n",
              " '@18': 'A4@50-54',\n",
              " '@19': 'A4@10-14',\n",
              " '@2': 'class@no-recurrence-events',\n",
              " '@20': 'A4@40-44',\n",
              " '@21': 'A4@35-39',\n",
              " '@22': 'A4@5-9',\n",
              " '@23': 'A4@45-49',\n",
              " '@24': 'A5@0-2',\n",
              " '@25': 'A5@6-8',\n",
              " '@26': 'A5@9-11',\n",
              " '@27': 'A5@3-5',\n",
              " '@28': 'A5@15-17',\n",
              " '@29': 'A5@12-14',\n",
              " '@3': 'class@recurrence-events',\n",
              " '@30': 'A5@24-26',\n",
              " '@31': 'A6@no',\n",
              " '@32': 'A6@yes',\n",
              " '@33': 'A6@?',\n",
              " '@34': 'A7@3',\n",
              " '@35': 'A7@2',\n",
              " '@36': 'A7@1',\n",
              " '@37': 'A8@left',\n",
              " '@38': 'A8@right',\n",
              " '@39': 'A9@left_low',\n",
              " '@4': 'A2@30-39',\n",
              " '@40': 'A9@right_up',\n",
              " '@41': 'A9@left_up',\n",
              " '@42': 'A9@right_low',\n",
              " '@43': 'A9@central',\n",
              " '@44': 'A9@?',\n",
              " '@5': 'A2@40-49',\n",
              " '@6': 'A2@60-69',\n",
              " '@7': 'A2@50-59',\n",
              " '@8': 'A2@70-79',\n",
              " '@9': 'A2@20-29'}"
            ]
          },
          "metadata": {
            "tags": []
          },
          "execution_count": 171
        }
      ]
    },
    {
      "cell_type": "code",
      "metadata": {
        "id": "s9vogN_KXPD0",
        "colab": {
          "base_uri": "https://localhost:8080/",
          "height": 402
        },
        "outputId": "6ce83857-b0d5-42d6-afee-09a9e4dff30f"
      },
      "source": [
        "temp_df"
      ],
      "execution_count": 172,
      "outputs": [
        {
          "output_type": "execute_result",
          "data": {
            "text/html": [
              "<div>\n",
              "<style scoped>\n",
              "    .dataframe tbody tr th:only-of-type {\n",
              "        vertical-align: middle;\n",
              "    }\n",
              "\n",
              "    .dataframe tbody tr th {\n",
              "        vertical-align: top;\n",
              "    }\n",
              "\n",
              "    .dataframe thead th {\n",
              "        text-align: right;\n",
              "    }\n",
              "</style>\n",
              "<table border=\"1\" class=\"dataframe\">\n",
              "  <thead>\n",
              "    <tr style=\"text-align: right;\">\n",
              "      <th></th>\n",
              "      <th>a</th>\n",
              "      <th>b</th>\n",
              "      <th>c</th>\n",
              "      <th>d</th>\n",
              "      <th>e</th>\n",
              "      <th>f</th>\n",
              "      <th>g</th>\n",
              "    </tr>\n",
              "  </thead>\n",
              "  <tbody>\n",
              "    <tr>\n",
              "      <th>6</th>\n",
              "      <td>@0</td>\n",
              "      <td>@12</td>\n",
              "      <td>@</td>\n",
              "      <td>@None</td>\n",
              "      <td>@None</td>\n",
              "      <td>@None</td>\n",
              "      <td>@None</td>\n",
              "    </tr>\n",
              "    <tr>\n",
              "      <th>7</th>\n",
              "      <td>@0</td>\n",
              "      <td>@12</td>\n",
              "      <td>@29</td>\n",
              "      <td>@</td>\n",
              "      <td>@None</td>\n",
              "      <td>@None</td>\n",
              "      <td>@None</td>\n",
              "    </tr>\n",
              "    <tr>\n",
              "      <th>8</th>\n",
              "      <td>@0</td>\n",
              "      <td>@12</td>\n",
              "      <td>@43</td>\n",
              "      <td>@</td>\n",
              "      <td>@None</td>\n",
              "      <td>@None</td>\n",
              "      <td>@None</td>\n",
              "    </tr>\n",
              "    <tr>\n",
              "      <th>19</th>\n",
              "      <td>@0</td>\n",
              "      <td>@15</td>\n",
              "      <td>@</td>\n",
              "      <td>@None</td>\n",
              "      <td>@None</td>\n",
              "      <td>@None</td>\n",
              "      <td>@None</td>\n",
              "    </tr>\n",
              "    <tr>\n",
              "      <th>20</th>\n",
              "      <td>@0</td>\n",
              "      <td>@15</td>\n",
              "      <td>@22</td>\n",
              "      <td>@</td>\n",
              "      <td>@None</td>\n",
              "      <td>@None</td>\n",
              "      <td>@None</td>\n",
              "    </tr>\n",
              "    <tr>\n",
              "      <th>...</th>\n",
              "      <td>...</td>\n",
              "      <td>...</td>\n",
              "      <td>...</td>\n",
              "      <td>...</td>\n",
              "      <td>...</td>\n",
              "      <td>...</td>\n",
              "      <td>...</td>\n",
              "    </tr>\n",
              "    <tr>\n",
              "      <th>672</th>\n",
              "      <td>@0</td>\n",
              "      <td>@29</td>\n",
              "      <td>@35</td>\n",
              "      <td>@</td>\n",
              "      <td>@None</td>\n",
              "      <td>@None</td>\n",
              "      <td>@None</td>\n",
              "    </tr>\n",
              "    <tr>\n",
              "      <th>673</th>\n",
              "      <td>@0</td>\n",
              "      <td>@22</td>\n",
              "      <td>@35</td>\n",
              "      <td>@</td>\n",
              "      <td>@None</td>\n",
              "      <td>@None</td>\n",
              "      <td>@None</td>\n",
              "    </tr>\n",
              "    <tr>\n",
              "      <th>674</th>\n",
              "      <td>@0</td>\n",
              "      <td>@22</td>\n",
              "      <td>@35</td>\n",
              "      <td>@43</td>\n",
              "      <td>@</td>\n",
              "      <td>@None</td>\n",
              "      <td>@None</td>\n",
              "    </tr>\n",
              "    <tr>\n",
              "      <th>675</th>\n",
              "      <td>@0</td>\n",
              "      <td>@22</td>\n",
              "      <td>@29</td>\n",
              "      <td>@35</td>\n",
              "      <td>@43</td>\n",
              "      <td>@</td>\n",
              "      <td>@None</td>\n",
              "    </tr>\n",
              "    <tr>\n",
              "      <th>676</th>\n",
              "      <td>@0</td>\n",
              "      <td>@22</td>\n",
              "      <td>@29</td>\n",
              "      <td>@35</td>\n",
              "      <td>@</td>\n",
              "      <td>@None</td>\n",
              "      <td>@None</td>\n",
              "    </tr>\n",
              "  </tbody>\n",
              "</table>\n",
              "<p>274 rows × 7 columns</p>\n",
              "</div>"
            ],
            "text/plain": [
              "      a    b    c      d      e      f      g\n",
              "6    @0  @12    @  @None  @None  @None  @None\n",
              "7    @0  @12  @29      @  @None  @None  @None\n",
              "8    @0  @12  @43      @  @None  @None  @None\n",
              "19   @0  @15    @  @None  @None  @None  @None\n",
              "20   @0  @15  @22      @  @None  @None  @None\n",
              "..   ..  ...  ...    ...    ...    ...    ...\n",
              "672  @0  @29  @35      @  @None  @None  @None\n",
              "673  @0  @22  @35      @  @None  @None  @None\n",
              "674  @0  @22  @35    @43      @  @None  @None\n",
              "675  @0  @22  @29    @35    @43      @  @None\n",
              "676  @0  @22  @29    @35      @  @None  @None\n",
              "\n",
              "[274 rows x 7 columns]"
            ]
          },
          "metadata": {
            "tags": []
          },
          "execution_count": 172
        }
      ]
    },
    {
      "cell_type": "code",
      "metadata": {
        "id": "_UdcpLIQKTtc"
      },
      "source": [
        "for col in temp_df:\r\n",
        "    temp_df[col] = temp_df[col].replace(di)"
      ],
      "execution_count": 173,
      "outputs": []
    },
    {
      "cell_type": "code",
      "metadata": {
        "id": "v7i61Y-DLMXF"
      },
      "source": [
        "temp_df['rules'] = temp_df['b']+','+temp_df['c']+','+temp_df['d']+','+temp_df['e']+','+temp_df['f']+','+temp_df['g']\r\n",
        "#+\">class@\"+temp_df['a']"
      ],
      "execution_count": 175,
      "outputs": []
    },
    {
      "cell_type": "code",
      "metadata": {
        "id": "viwGfUsdN7QC"
      },
      "source": [
        "temp_df['pos'] = temp_df['rules'].str.find('@None')\r\n",
        "temp_df['rules'] = temp_df.apply(lambda x: x['rules'][0:x['pos']],axis=1)\r\n",
        "temp_df['rules'] = temp_df['rules']+\">\"+temp_df['a']\r\n",
        "temp_df['rules'] = temp_df['rules'].str.replace(',@,','')"
      ],
      "execution_count": 176,
      "outputs": []
    },
    {
      "cell_type": "code",
      "metadata": {
        "colab": {
          "base_uri": "https://localhost:8080/"
        },
        "id": "jBdHlgGLKv5A",
        "outputId": "d4e783fa-d131-479a-cac2-002dcb31fa9f"
      },
      "source": [
        "temp_df['rules']"
      ],
      "execution_count": 177,
      "outputs": [
        {
          "output_type": "execute_result",
          "data": {
            "text/plain": [
              "6                              A3@lt40>A0@no\n",
              "7                     A3@lt40,A5@12-14>A0@no\n",
              "8                   A3@lt40,A9@central>A0@no\n",
              "19                            A4@15-19>A0@no\n",
              "20                     A4@15-19,A4@5-9>A0@no\n",
              "                       ...                  \n",
              "672                      A5@12-14,A7@2>A0@no\n",
              "673                        A4@5-9,A7@2>A0@no\n",
              "674             A4@5-9,A7@2,A9@central>A0@no\n",
              "675    A4@5-9,A5@12-14,A7@2,A9@central>A0@no\n",
              "676               A4@5-9,A5@12-14,A7@2>A0@no\n",
              "Name: rules, Length: 274, dtype: object"
            ]
          },
          "metadata": {
            "tags": []
          },
          "execution_count": 177
        }
      ]
    },
    {
      "cell_type": "code",
      "metadata": {
        "id": "WaO3g5_P1L4w"
      },
      "source": [
        "temp_df['rules'].to_csv(\"/content/bcancer_rpgrwoth_rules.csv\", header=None, index=False)"
      ],
      "execution_count": 183,
      "outputs": []
    },
    {
      "cell_type": "markdown",
      "metadata": {
        "id": "JujedHo-0nYJ"
      },
      "source": [
        "Mapping to back to original"
      ]
    },
    {
      "cell_type": "code",
      "metadata": {
        "id": "JX-6-576mqwH"
      },
      "source": [
        "mapping = {\r\n",
        "    \r\n",
        " 'A0':'class'\r\n",
        "    ,'A1':'AGE'\r\n",
        "    ,'A2':'menopause'\r\n",
        "    ,'A3':'tumor-size'\r\n",
        "    ,'A4':'inv-nodes'\r\n",
        "    ,'A5':'node-caps'\r\n",
        "    ,'A6':'deg-malig'\r\n",
        "    ,'A7':'breast'\r\n",
        "    ,'A8':'breast-quad'\r\n",
        "    ,'A9':'irradiat'\r\n",
        "   \r\n",
        "           \r\n",
        "           }"
      ],
      "execution_count": 184,
      "outputs": []
    },
    {
      "cell_type": "code",
      "metadata": {
        "colab": {
          "base_uri": "https://localhost:8080/"
        },
        "id": "0hPkLFFKpNeD",
        "outputId": "8c548f4e-9738-44b2-f09a-c6c8ddfde564"
      },
      "source": [
        "import fileinput\r\n",
        "\r\n",
        "text = \"/content/bcancer_rpgrwoth_rules.csv\"\r\n",
        "fields = mapping\r\n",
        "\r\n",
        "lst = []\r\n",
        "for line in fileinput.input(text):\r\n",
        "    for field in fields:\r\n",
        "        if field in line:\r\n",
        "            line = line.replace(field, fields[field])\r\n",
        "    lst.append(line)\r\n",
        "\r\n",
        "print(lst)"
      ],
      "execution_count": 185,
      "outputs": [
        {
          "output_type": "stream",
          "text": [
            "['tumor-size@lt40>class@no\\n', '\"tumor-size@lt40,node-caps@12-14>class@no\"\\n', '\"tumor-size@lt40,irradiat@central>class@no\"\\n', 'inv-nodes@15-19>class@no\\n', '\"inv-nodes@15-19,inv-nodes@5-9>class@no\"\\n', 'node-caps@24-26>class@yes\\n', 'menopause@30-39>class@no\\n', '\"menopause@30-39,irradiat@central>class@no\"\\n', '\"menopause@30-39,node-caps@12-14,irradiat@central>class@no\"\\n', '\"menopause@30-39,inv-nodes@5-9>class@no\"\\n', '\"menopause@30-39,inv-nodes@5-9,node-caps@12-14>class@no\"\\n', '\"menopause@30-39,inv-nodes@5-9,irradiat@central>class@no\"\\n', '\"menopause@30-39,inv-nodes@5-9,node-caps@12-14,irradiat@central>class@no\"\\n', '\"menopause@30-39,node-caps@12-14>class@no\"\\n', '\"menopause@30-39,menopause@20-29>class@no\"\\n', '\"menopause@30-39,menopause@20-29,irradiat@central>class@no\"\\n', '\"menopause@30-39,menopause@20-29,inv-nodes@5-9>class@no\"\\n', '\"menopause@30-39,menopause@20-29,inv-nodes@5-9,node-caps@12-14>class@no\"\\n', '\"menopause@30-39,menopause@20-29,node-caps@12-14>class@no\"\\n', 'tumor-size@ge40>class@no\\n', '\"tumor-size@ge40,irradiat@central>class@no\"\\n', 'irradiat@?>class@yes\\n', 'irradiat@?>class@no\\n', '\"menopause@20-29,breast@3>class@no\"\\n', '\"menopause@20-29,node-caps@12-14,breast@3>class@no\"\\n', '\"menopause@20-29,breast@3,irradiat@central>class@no\"\\n', '\"menopause@20-29,node-caps@12-14,breast@3,irradiat@central>class@no\"\\n', '\"menopause@20-29,inv-nodes@5-9,breast@3>class@no\"\\n', '\"menopause@20-29,inv-nodes@5-9,node-caps@12-14,breast@3>class@no\"\\n', '\"menopause@20-29,inv-nodes@5-9,breast@3,irradiat@central>class@no\"\\n', '\"menopause@20-29,inv-nodes@5-9,node-caps@12-14,breast@3,irradiat@central,>class@no\"\\n', '\"breast@3,breast@2>class@no\"\\n', '\"breast@3,breast@2,irradiat@central>class@no\"\\n', '\"node-caps@12-14,breast@3,breast@2,irradiat@central>class@no\"\\n', '\"node-caps@12-14,breast@3,breast@2>class@no\"\\n', '\"inv-nodes@5-9,breast@3,breast@2>class@no\"\\n', '\"inv-nodes@5-9,node-caps@12-14,breast@3,breast@2>class@no\"\\n', '\"inv-nodes@5-9,breast@3,breast@2,irradiat@central>class@no\"\\n', '\"inv-nodes@5-9,node-caps@12-14,breast@3,breast@2,irradiat@central,>class@no\"\\n', 'breast@3>class@no\\n', '\"breast@3,irradiat@central>class@no\"\\n', '\"node-caps@12-14,breast@3,irradiat@central>class@no\"\\n', '\"inv-nodes@5-9,breast@3>class@no\"\\n', '\"inv-nodes@5-9,node-caps@12-14,breast@3>class@no\"\\n', '\"inv-nodes@5-9,breast@3,irradiat@central>class@no\"\\n', '\"inv-nodes@5-9,node-caps@12-14,breast@3,irradiat@central>class@no\"\\n', '\"node-caps@12-14,breast@3>class@no\"\\n', 'deg-malig@yes>class@no\\n', '\"deg-malig@yes,irradiat@central>class@no\"\\n', '\"inv-nodes@5-9,deg-malig@yes>class@no\"\\n', '\"node-caps@12-14,deg-malig@yes>class@no\"\\n', 'deg-malig@yes>class@yes\\n', '\"@,>class@yes\"\\n', 'breast-quad@left>class@yes\\n', 'menopause@20-29>class@yes\\n', 'breast@1>class@yes\\n', 'inv-nodes@5-9>class@yes\\n', '\"inv-nodes@5-9,irradiat@central>class@yes\"\\n', '\"inv-nodes@5-9,node-caps@12-14,irradiat@central>class@yes\"\\n', '\"inv-nodes@5-9,node-caps@12-14>class@yes\"\\n', 'menopause@70-79>class@yes\\n', '\"menopause@70-79,inv-nodes@5-9>class@yes\"\\n', '\"menopause@70-79,node-caps@12-14>class@yes\"\\n', '\"menopause@70-79,irradiat@central>class@yes\"\\n', 'breast@2>class@yes\\n', 'node-caps@12-14>class@yes\\n', 'irradiat@central>class@yes\\n', '\"node-caps@12-14,irradiat@central>class@yes\"\\n', '\"class@recurrence-events,deg-malig@?>class@no\"\\n', '\"class@recurrence-events,inv-nodes@5-9,deg-malig@?>class@no\"\\n', '\"class@recurrence-events,node-caps@12-14,deg-malig@?>class@no\"\\n', '\"class@recurrence-events,menopause@70-79,deg-malig@?>class@no\"\\n', '\"class@recurrence-events,menopause@70-79,node-caps@12-14,deg-malig@?>class@no\"\\n', '\"class@recurrence-events,breast@1>class@no\"\\n', '\"class@recurrence-events,node-caps@12-14,breast@1>class@no\"\\n', '\"class@recurrence-events,menopause@70-79,breast@1>class@no\"\\n', '\"class@recurrence-events,menopause@70-79,node-caps@12-14,breast@1>class@no\"\\n', 'class@recurrence-events>class@no\\n', '\"class@recurrence-events,irradiat@central>class@no\"\\n', '\"class@recurrence-events,node-caps@12-14,irradiat@central>class@no\"\\n', '\"class@recurrence-events,inv-nodes@5-9>class@no\"\\n', '\"class@recurrence-events,inv-nodes@5-9,node-caps@12-14>class@no\"\\n', '\"class@recurrence-events,inv-nodes@5-9,irradiat@central>class@no\"\\n', '\"class@recurrence-events,inv-nodes@5-9,node-caps@12-14,irradiat@central>class@no\"\\n', '\"class@recurrence-events,node-caps@12-14>class@no\"\\n', '\"class@recurrence-events,menopause@70-79>class@no\"\\n', '\"class@recurrence-events,menopause@70-79,irradiat@central>class@no\"\\n', '\"class@recurrence-events,menopause@70-79,node-caps@12-14,irradiat@central>class@no\"\\n', '\"class@recurrence-events,menopause@70-79,inv-nodes@5-9>class@no\"\\n', '\"class@recurrence-events,menopause@70-79,inv-nodes@5-9,node-caps@12-14>class@no\"\\n', '\"class@recurrence-events,menopause@70-79,inv-nodes@5-9,irradiat@central>class@no\"\\n', '\"class@recurrence-events,menopause@70-79,inv-nodes@5-9,node-caps@12-14,irradiat@central,>class@no\"\\n', '\"class@recurrence-events,menopause@70-79,node-caps@12-14>class@no\"\\n', '\"menopause@40-49,breast-quad@left>class@no\"\\n', '\"menopause@40-49,deg-malig@?>class@no\"\\n', '\"menopause@40-49,breast@1>class@no\"\\n', '\"menopause@40-49,breast@1,irradiat@central>class@no\"\\n', '\"menopause@40-49,breast@2>class@no\"\\n', '\"menopause@40-49,node-caps@12-14,breast@2>class@no\"\\n', '\"menopause@40-49,inv-nodes@5-9,breast@2>class@no\"\\n', '\"menopause@40-49,inv-nodes@5-9,node-caps@12-14,breast@2>class@no\"\\n', '\"menopause@40-49,inv-nodes@5-9,breast@2,irradiat@central>class@no\"\\n', '\"menopause@40-49,inv-nodes@5-9,node-caps@12-14,breast@2,irradiat@central,>class@no\"\\n', '\"menopause@40-49,breast@2,irradiat@central>class@no\"\\n', '\"menopause@40-49,node-caps@12-14,breast@2,irradiat@central>class@no\"\\n', '\"menopause@40-49,menopause@20-29>class@no\"\\n', '\"menopause@40-49,menopause@20-29,node-caps@12-14>class@no\"\\n', '\"menopause@40-49,menopause@20-29,inv-nodes@5-9>class@no\"\\n', '\"menopause@40-49,menopause@20-29,inv-nodes@5-9,node-caps@12-14>class@no\"\\n', '\"menopause@40-49,menopause@20-29,inv-nodes@5-9,irradiat@central>class@no\"\\n', '\"menopause@40-49,menopause@20-29,inv-nodes@5-9,node-caps@12-14,irradiat@central,>class@no\"\\n', '\"menopause@40-49,menopause@20-29,irradiat@central>class@no\"\\n', '\"menopause@40-49,menopause@20-29,node-caps@12-14,irradiat@central>class@no\"\\n', 'menopause@40-49>class@no\\n', '\"menopause@40-49,node-caps@12-14>class@no\"\\n', '\"menopause@40-49,inv-nodes@5-9>class@no\"\\n', '\"menopause@40-49,inv-nodes@5-9,node-caps@12-14>class@no\"\\n', '\"menopause@40-49,inv-nodes@5-9,irradiat@central>class@no\"\\n', '\"menopause@40-49,inv-nodes@5-9,node-caps@12-14,irradiat@central>class@no\"\\n', '\"menopause@40-49,irradiat@central>class@no\"\\n', '\"menopause@40-49,node-caps@12-14,irradiat@central>class@no\"\\n', '\"deg-malig@?,irradiat@left_low>class@no\"\\n', '\"menopause@20-29,irradiat@left_low>class@no\"\\n', '\"menopause@20-29,irradiat@left_low,irradiat@central>class@no\"\\n', '\"menopause@20-29,node-caps@12-14,irradiat@left_low>class@no\"\\n', '\"menopause@20-29,inv-nodes@5-9,irradiat@left_low>class@no\"\\n', '\"menopause@20-29,inv-nodes@5-9,node-caps@12-14,irradiat@left_low>class@no\"\\n', '\"menopause@70-79,irradiat@left_low>class@no\"\\n', '\"breast@1,irradiat@left_low>class@no\"\\n', '\"breast@1,irradiat@left_low,irradiat@central>class@no\"\\n', '\"inv-nodes@5-9,breast@1,irradiat@left_low>class@no\"\\n', '\"inv-nodes@5-9,node-caps@12-14,breast@1,irradiat@left_low>class@no\"\\n', '\"node-caps@12-14,breast@1,irradiat@left_low>class@no\"\\n', 'irradiat@left_low>class@no\\n', '\"irradiat@left_low,irradiat@central>class@no\"\\n', '\"node-caps@12-14,irradiat@left_low,irradiat@central>class@no\"\\n', '\"inv-nodes@5-9,irradiat@left_low>class@no\"\\n', '\"inv-nodes@5-9,irradiat@left_low,irradiat@central>class@no\"\\n', '\"inv-nodes@5-9,node-caps@12-14,irradiat@left_low,irradiat@central>class@no\"\\n', '\"inv-nodes@5-9,node-caps@12-14,irradiat@left_low>class@no\"\\n', '\"node-caps@12-14,irradiat@left_low>class@no\"\\n', '\"menopause@20-29,breast-quad@left>class@no\"\\n', '\"menopause@20-29,inv-nodes@5-9,breast-quad@left>class@no\"\\n', '\"menopause@20-29,inv-nodes@5-9,node-caps@12-14,breast-quad@left>class@no\"\\n', '\"menopause@20-29,node-caps@12-14,breast-quad@left>class@no\"\\n', '\"menopause@20-29,breast-quad@left,irradiat@central>class@no\"\\n', '\"menopause@20-29,node-caps@12-14,breast-quad@left,irradiat@central>class@no\"\\n', '\"deg-malig@?,breast-quad@left>class@no\"\\n', '\"inv-nodes@5-9,deg-malig@?,breast-quad@left>class@no\"\\n', '\"inv-nodes@5-9,node-caps@12-14,deg-malig@?,breast-quad@left>class@no\"\\n', '\"deg-malig@?,breast-quad@left,irradiat@central>class@no\"\\n', '\"node-caps@12-14,deg-malig@?,breast-quad@left>class@no\"\\n', '\"menopause@70-79,breast-quad@left>class@no\"\\n', '\"menopause@70-79,inv-nodes@5-9,breast-quad@left>class@no\"\\n', '\"menopause@70-79,inv-nodes@5-9,node-caps@12-14,breast-quad@left>class@no\"\\n', '\"menopause@70-79,node-caps@12-14,breast-quad@left>class@no\"\\n', 'breast-quad@left>class@no\\n', '\"breast-quad@left,irradiat@central>class@no\"\\n', '\"node-caps@12-14,breast-quad@left,irradiat@central>class@no\"\\n', '\"inv-nodes@5-9,breast-quad@left>class@no\"\\n', '\"inv-nodes@5-9,node-caps@12-14,breast-quad@left>class@no\"\\n', '\"inv-nodes@5-9,breast-quad@left,irradiat@central>class@no\"\\n', '\"inv-nodes@5-9,node-caps@12-14,breast-quad@left,irradiat@central>class@no\"\\n', '\"node-caps@12-14,breast-quad@left>class@no\"\\n', '\"breast@2,breast-quad@left>class@no\"\\n', '\"breast@2,breast-quad@left,irradiat@central>class@no\"\\n', '\"node-caps@12-14,breast@2,breast-quad@left,irradiat@central>class@no\"\\n', '\"inv-nodes@5-9,breast@2,breast-quad@left>class@no\"\\n', '\"inv-nodes@5-9,node-caps@12-14,breast@2,breast-quad@left>class@no\"\\n', '\"inv-nodes@5-9,breast@2,breast-quad@left,irradiat@central>class@no\"\\n', '\"inv-nodes@5-9,node-caps@12-14,breast@2,breast-quad@left,irradiat@central,>class@no\"\\n', '\"node-caps@12-14,breast@2,breast-quad@left>class@no\"\\n', '\"menopause@20-29,deg-malig@?>class@no\"\\n', '\"menopause@20-29,deg-malig@?,irradiat@central>class@no\"\\n', '\"menopause@20-29,node-caps@12-14,deg-malig@?>class@no\"\\n', '\"menopause@20-29,inv-nodes@5-9,deg-malig@?>class@no\"\\n', '\"menopause@20-29,inv-nodes@5-9,node-caps@12-14,deg-malig@?>class@no\"\\n', '\"menopause@20-29,breast@1>class@no\"\\n', '\"menopause@20-29,node-caps@12-14,breast@1>class@no\"\\n', '\"menopause@20-29,inv-nodes@5-9,breast@1>class@no\"\\n', '\"menopause@20-29,inv-nodes@5-9,breast@1,irradiat@central>class@no\"\\n', '\"menopause@20-29,inv-nodes@5-9,node-caps@12-14,breast@1,irradiat@central,>class@no\"\\n', '\"menopause@20-29,inv-nodes@5-9,node-caps@12-14,breast@1>class@no\"\\n', '\"menopause@20-29,breast@1,irradiat@central>class@no\"\\n', '\"menopause@20-29,node-caps@12-14,breast@1,irradiat@central>class@no\"\\n', '\"menopause@20-29,breast@2>class@no\"\\n', '\"menopause@20-29,node-caps@12-14,breast@2>class@no\"\\n', '\"menopause@20-29,inv-nodes@5-9,breast@2>class@no\"\\n', '\"menopause@20-29,inv-nodes@5-9,node-caps@12-14,breast@2>class@no\"\\n', '\"menopause@20-29,inv-nodes@5-9,breast@2,irradiat@central>class@no\"\\n', '\"menopause@20-29,inv-nodes@5-9,node-caps@12-14,breast@2,irradiat@central,>class@no\"\\n', '\"menopause@20-29,breast@2,irradiat@central>class@no\"\\n', '\"menopause@20-29,node-caps@12-14,breast@2,irradiat@central>class@no\"\\n', 'menopause@20-29>class@no\\n', '\"menopause@20-29,node-caps@12-14>class@no\"\\n', '\"menopause@20-29,inv-nodes@5-9>class@no\"\\n', '\"menopause@20-29,inv-nodes@5-9,irradiat@central>class@no\"\\n', '\"menopause@20-29,inv-nodes@5-9,node-caps@12-14,irradiat@central>class@no\"\\n', '\"menopause@20-29,inv-nodes@5-9,node-caps@12-14>class@no\"\\n', '\"menopause@20-29,irradiat@central>class@no\"\\n', '\"menopause@20-29,node-caps@12-14,irradiat@central>class@no\"\\n', '\"menopause@70-79,deg-malig@?,breast@1>class@no\"\\n', '\"deg-malig@?,breast@1>class@no\"\\n', '\"inv-nodes@5-9,deg-malig@?,breast@1>class@no\"\\n', '\"inv-nodes@5-9,deg-malig@?,breast@1,irradiat@central>class@no\"\\n', '\"inv-nodes@5-9,node-caps@12-14,deg-malig@?,breast@1,irradiat@central,>class@no\"\\n', '\"inv-nodes@5-9,node-caps@12-14,deg-malig@?,breast@1>class@no\"\\n', '\"deg-malig@?,breast@1,irradiat@central>class@no\"\\n', '\"node-caps@12-14,deg-malig@?,breast@1,irradiat@central>class@no\"\\n', '\"node-caps@12-14,deg-malig@?,breast@1>class@no\"\\n', '\"deg-malig@?,breast@2>class@no\"\\n', '\"deg-malig@?,breast@2,irradiat@central>class@no\"\\n', '\"node-caps@12-14,deg-malig@?,breast@2,irradiat@central>class@no\"\\n', '\"node-caps@12-14,deg-malig@?,breast@2>class@no\"\\n', '\"inv-nodes@5-9,deg-malig@?,breast@2>class@no\"\\n', '\"inv-nodes@5-9,deg-malig@?,breast@2,irradiat@central>class@no\"\\n', '\"inv-nodes@5-9,node-caps@12-14,deg-malig@?,breast@2,irradiat@central,>class@no\"\\n', '\"inv-nodes@5-9,node-caps@12-14,deg-malig@?,breast@2>class@no\"\\n', '\"menopause@70-79,deg-malig@?>class@no\"\\n', '\"menopause@70-79,deg-malig@?,irradiat@central>class@no\"\\n', '\"menopause@70-79,node-caps@12-14,deg-malig@?,irradiat@central>class@no\"\\n', '\"menopause@70-79,inv-nodes@5-9,deg-malig@?>class@no\"\\n', '\"menopause@70-79,inv-nodes@5-9,deg-malig@?,irradiat@central>class@no\"\\n', '\"menopause@70-79,inv-nodes@5-9,node-caps@12-14,deg-malig@?,irradiat@central,>class@no\"\\n', '\"menopause@70-79,inv-nodes@5-9,node-caps@12-14,deg-malig@?>class@no\"\\n', '\"menopause@70-79,node-caps@12-14,deg-malig@?>class@no\"\\n', 'deg-malig@?>class@no\\n', '\"deg-malig@?,irradiat@central>class@no\"\\n', '\"node-caps@12-14,deg-malig@?,irradiat@central>class@no\"\\n', '\"inv-nodes@5-9,deg-malig@?>class@no\"\\n', '\"inv-nodes@5-9,deg-malig@?,irradiat@central>class@no\"\\n', '\"inv-nodes@5-9,node-caps@12-14,deg-malig@?,irradiat@central>class@no\"\\n', '\"inv-nodes@5-9,node-caps@12-14,deg-malig@?>class@no\"\\n', '\"node-caps@12-14,deg-malig@?>class@no\"\\n', '\"menopause@70-79,breast@1>class@no\"\\n', '\"menopause@70-79,breast@1,irradiat@central>class@no\"\\n', '\"menopause@70-79,node-caps@12-14,breast@1,irradiat@central>class@no\"\\n', '\"menopause@70-79,inv-nodes@5-9,breast@1>class@no\"\\n', '\"menopause@70-79,inv-nodes@5-9,node-caps@12-14,breast@1>class@no\"\\n', '\"menopause@70-79,inv-nodes@5-9,breast@1,irradiat@central>class@no\"\\n', '\"menopause@70-79,inv-nodes@5-9,node-caps@12-14,breast@1,irradiat@central,>class@no\"\\n', '\"menopause@70-79,node-caps@12-14,breast@1>class@no\"\\n', 'breast@1>class@no\\n', '\"breast@1,irradiat@central>class@no\"\\n', '\"node-caps@12-14,breast@1,irradiat@central>class@no\"\\n', '\"inv-nodes@5-9,breast@1>class@no\"\\n', '\"inv-nodes@5-9,breast@1,irradiat@central>class@no\"\\n', '\"inv-nodes@5-9,node-caps@12-14,breast@1,irradiat@central>class@no\"\\n', '\"inv-nodes@5-9,node-caps@12-14,breast@1>class@no\"\\n', '\"node-caps@12-14,breast@1>class@no\"\\n', '\"menopause@70-79,breast@2>class@no\"\\n', '\"menopause@70-79,breast@2,irradiat@central>class@no\"\\n', '\"menopause@70-79,node-caps@12-14,breast@2,irradiat@central>class@no\"\\n', '\"menopause@70-79,node-caps@12-14,breast@2>class@no\"\\n', '\"menopause@70-79,inv-nodes@5-9,breast@2>class@no\"\\n', '\"menopause@70-79,inv-nodes@5-9,breast@2,irradiat@central>class@no\"\\n', '\"menopause@70-79,inv-nodes@5-9,node-caps@12-14,breast@2,irradiat@central,>class@no\"\\n', '\"menopause@70-79,inv-nodes@5-9,node-caps@12-14,breast@2>class@no\"\\n', 'menopause@70-79>class@no\\n', '\"menopause@70-79,irradiat@central>class@no\"\\n', '\"menopause@70-79,node-caps@12-14,irradiat@central>class@no\"\\n', '\"menopause@70-79,inv-nodes@5-9>class@no\"\\n', '\"menopause@70-79,inv-nodes@5-9,irradiat@central>class@no\"\\n', '\"menopause@70-79,inv-nodes@5-9,node-caps@12-14,irradiat@central>class@no\"\\n', '\"menopause@70-79,inv-nodes@5-9,node-caps@12-14>class@no\"\\n', '\"menopause@70-79,node-caps@12-14>class@no\"\\n', 'breast@2>class@no\\n', '\"breast@2,irradiat@central>class@no\"\\n', '\"node-caps@12-14,breast@2,irradiat@central>class@no\"\\n', '\"node-caps@12-14,breast@2>class@no\"\\n', '\"inv-nodes@5-9,breast@2>class@no\"\\n', '\"inv-nodes@5-9,breast@2,irradiat@central>class@no\"\\n', '\"inv-nodes@5-9,node-caps@12-14,breast@2,irradiat@central>class@no\"\\n', '\"inv-nodes@5-9,node-caps@12-14,breast@2>class@no\"\\n']\n"
          ],
          "name": "stdout"
        }
      ]
    },
    {
      "cell_type": "code",
      "metadata": {
        "id": "bYaVnRIyrTJW"
      },
      "source": [
        "f = open('/content/bcancer_rpgrwoth_rules.csv','w')\r\n",
        "for line in lst:\r\n",
        "    f.write(line)\r\n",
        "f.close()"
      ],
      "execution_count": 186,
      "outputs": []
    },
    {
      "cell_type": "code",
      "metadata": {
        "id": "PVPpAlDk1t5e"
      },
      "source": [
        "df = pd.read_csv('/content/bcancer_rpgrwoth_rules.csv')\r\n",
        "df.to_csv(\"/content/drive/MyDrive/DataSets_for_Paper/bcancer_rpgrowth_out_rules.csv\")"
      ],
      "execution_count": 187,
      "outputs": []
    }
  ]
}