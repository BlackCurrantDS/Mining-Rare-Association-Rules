{
  "nbformat": 4,
  "nbformat_minor": 0,
  "metadata": {
    "colab": {
      "name": "OCT_data_secondN.ipynb",
      "provenance": [],
      "mount_file_id": "1JQBadk_SRHRAM0PsTKAhsfFtrrxR9ebk",
      "authorship_tag": "ABX9TyMIUPhaWfZjSnOYLBhmpSh0",
      "include_colab_link": true
    },
    "kernelspec": {
      "name": "python3",
      "display_name": "Python 3"
    },
    "language_info": {
      "name": "python"
    }
  },
  "cells": [
    {
      "cell_type": "markdown",
      "metadata": {
        "id": "view-in-github",
        "colab_type": "text"
      },
      "source": [
        "<a href=\"https://colab.research.google.com/github/BlackCurrantDS/DBSE_Project/blob/main/OCT_data_secondN.ipynb\" target=\"_parent\"><img src=\"https://colab.research.google.com/assets/colab-badge.svg\" alt=\"Open In Colab\"/></a>"
      ]
    },
    {
      "cell_type": "code",
      "metadata": {
        "id": "uUdz76FSQe_3"
      },
      "source": [
        "import pandas as pd"
      ],
      "execution_count": 109,
      "outputs": []
    },
    {
      "cell_type": "code",
      "metadata": {
        "id": "t4bDdyFwQ19V"
      },
      "source": [
        "#saved webhook data"
      ],
      "execution_count": 110,
      "outputs": []
    },
    {
      "cell_type": "code",
      "metadata": {
        "id": "gCgGd0lZQsbO"
      },
      "source": [
        "webhook_df = pd.read_csv(\"/content/drive/My Drive/webhook_df_oct.csv\",  skiprows=range(1, 100000), nrows=100000)"
      ],
      "execution_count": 111,
      "outputs": []
    },
    {
      "cell_type": "code",
      "metadata": {
        "colab": {
          "base_uri": "https://localhost:8080/",
          "height": 195
        },
        "id": "StGRFC1zQxx1",
        "outputId": "8c34963f-5525-4fcf-cd58-89daebaf9a8e"
      },
      "source": [
        "webhook_df.head(5)"
      ],
      "execution_count": 112,
      "outputs": [
        {
          "output_type": "execute_result",
          "data": {
            "text/html": [
              "<div>\n",
              "<style scoped>\n",
              "    .dataframe tbody tr th:only-of-type {\n",
              "        vertical-align: middle;\n",
              "    }\n",
              "\n",
              "    .dataframe tbody tr th {\n",
              "        vertical-align: top;\n",
              "    }\n",
              "\n",
              "    .dataframe thead th {\n",
              "        text-align: right;\n",
              "    }\n",
              "</style>\n",
              "<table border=\"1\" class=\"dataframe\">\n",
              "  <thead>\n",
              "    <tr style=\"text-align: right;\">\n",
              "      <th></th>\n",
              "      <th>Unnamed: 0</th>\n",
              "      <th>external_id</th>\n",
              "      <th>event</th>\n",
              "      <th>data</th>\n",
              "    </tr>\n",
              "  </thead>\n",
              "  <tbody>\n",
              "    <tr>\n",
              "      <th>0</th>\n",
              "      <td>99999</td>\n",
              "      <td>6159024905231228</td>\n",
              "      <td>AUTHORISATION</td>\n",
              "      <td>{\"additionalData\":{\"fraudCheck-75-PaymentDetai...</td>\n",
              "    </tr>\n",
              "    <tr>\n",
              "      <th>1</th>\n",
              "      <td>100000</td>\n",
              "      <td>4626024905434772</td>\n",
              "      <td>AUTHORISATION</td>\n",
              "      <td>{\"additionalData\":{\"fraudCheck-75-PaymentDetai...</td>\n",
              "    </tr>\n",
              "    <tr>\n",
              "      <th>2</th>\n",
              "      <td>100001</td>\n",
              "      <td>4726024905511354</td>\n",
              "      <td>AUTHORISATION</td>\n",
              "      <td>{\"additionalData\":{\"fraudCheck-75-PaymentDetai...</td>\n",
              "    </tr>\n",
              "    <tr>\n",
              "      <th>3</th>\n",
              "      <td>100002</td>\n",
              "      <td>4736024905567701</td>\n",
              "      <td>AUTHORISATION</td>\n",
              "      <td>{\"additionalData\":{\"fraudCheck-52-DistinctPaym...</td>\n",
              "    </tr>\n",
              "    <tr>\n",
              "      <th>4</th>\n",
              "      <td>100003</td>\n",
              "      <td>4756024906267751</td>\n",
              "      <td>AUTHORISATION</td>\n",
              "      <td>{\"additionalData\":{\"fraudCheck-75-PaymentDetai...</td>\n",
              "    </tr>\n",
              "  </tbody>\n",
              "</table>\n",
              "</div>"
            ],
            "text/plain": [
              "   Unnamed: 0  ...                                               data\n",
              "0       99999  ...  {\"additionalData\":{\"fraudCheck-75-PaymentDetai...\n",
              "1      100000  ...  {\"additionalData\":{\"fraudCheck-75-PaymentDetai...\n",
              "2      100001  ...  {\"additionalData\":{\"fraudCheck-75-PaymentDetai...\n",
              "3      100002  ...  {\"additionalData\":{\"fraudCheck-52-DistinctPaym...\n",
              "4      100003  ...  {\"additionalData\":{\"fraudCheck-75-PaymentDetai...\n",
              "\n",
              "[5 rows x 4 columns]"
            ]
          },
          "metadata": {
            "tags": []
          },
          "execution_count": 112
        }
      ]
    },
    {
      "cell_type": "code",
      "metadata": {
        "id": "MYmv4-RGRC0s"
      },
      "source": [
        "#remove index column\n",
        "cols = [0]\n",
        "webhook_df.drop(webhook_df.columns[cols],axis=1,inplace=True)"
      ],
      "execution_count": 113,
      "outputs": []
    },
    {
      "cell_type": "code",
      "metadata": {
        "id": "mExiU2mYRtTF"
      },
      "source": [
        "#getting only authorized transactions\n",
        "webhook = webhook_df[webhook_df.event == 'AUTHORISATION']"
      ],
      "execution_count": 114,
      "outputs": []
    },
    {
      "cell_type": "code",
      "metadata": {
        "colab": {
          "base_uri": "https://localhost:8080/"
        },
        "id": "Nm-J9wOkR6CG",
        "outputId": "4958953d-281c-47dd-eb59-272923df32b7"
      },
      "source": [
        "webhook.info()"
      ],
      "execution_count": 115,
      "outputs": [
        {
          "output_type": "stream",
          "text": [
            "<class 'pandas.core.frame.DataFrame'>\n",
            "Int64Index: 60199 entries, 0 to 99999\n",
            "Data columns (total 3 columns):\n",
            " #   Column       Non-Null Count  Dtype \n",
            "---  ------       --------------  ----- \n",
            " 0   external_id  60199 non-null  object\n",
            " 1   event        60199 non-null  object\n",
            " 2   data         60199 non-null  object\n",
            "dtypes: object(3)\n",
            "memory usage: 1.8+ MB\n"
          ],
          "name": "stdout"
        }
      ]
    },
    {
      "cell_type": "code",
      "metadata": {
        "id": "TARIVDmTQ4NF"
      },
      "source": [
        "#getting saved dispute data for october"
      ],
      "execution_count": 116,
      "outputs": []
    },
    {
      "cell_type": "code",
      "metadata": {
        "id": "dLar_iZFQ8_z"
      },
      "source": [
        "oct_disputes = pd.read_csv(\"/content/drive/My Drive/dispute_df_oct.csv\")"
      ],
      "execution_count": 117,
      "outputs": []
    },
    {
      "cell_type": "code",
      "metadata": {
        "colab": {
          "base_uri": "https://localhost:8080/",
          "height": 210
        },
        "id": "2Fu9LYVzRAws",
        "outputId": "5df3b069-4c17-4c88-83f8-acc87c39e76b"
      },
      "source": [
        "oct_disputes.head(2)"
      ],
      "execution_count": 118,
      "outputs": [
        {
          "output_type": "execute_result",
          "data": {
            "text/html": [
              "<div>\n",
              "<style scoped>\n",
              "    .dataframe tbody tr th:only-of-type {\n",
              "        vertical-align: middle;\n",
              "    }\n",
              "\n",
              "    .dataframe tbody tr th {\n",
              "        vertical-align: top;\n",
              "    }\n",
              "\n",
              "    .dataframe thead th {\n",
              "        text-align: right;\n",
              "    }\n",
              "</style>\n",
              "<table border=\"1\" class=\"dataframe\">\n",
              "  <thead>\n",
              "    <tr style=\"text-align: right;\">\n",
              "      <th></th>\n",
              "      <th>Unnamed: 0</th>\n",
              "      <th>company_account</th>\n",
              "      <th>merchant_account</th>\n",
              "      <th>psp_reference</th>\n",
              "      <th>merchant_reference</th>\n",
              "      <th>payment_method</th>\n",
              "      <th>record_date</th>\n",
              "      <th>record_date_timezone</th>\n",
              "      <th>dispute_currency</th>\n",
              "      <th>dispute_amount</th>\n",
              "      <th>record_type</th>\n",
              "      <th>dispute_psp_reference</th>\n",
              "      <th>dispute_reason</th>\n",
              "      <th>rfi_scheme_code</th>\n",
              "      <th>rfi_reason_code</th>\n",
              "      <th>cb_scheme_code</th>\n",
              "      <th>cb_reason_code</th>\n",
              "      <th>nof_scheme_code</th>\n",
              "      <th>nof_reason_code</th>\n",
              "      <th>payment_date</th>\n",
              "      <th>payment_date_timezone</th>\n",
              "      <th>payment_currency</th>\n",
              "      <th>payment_amount</th>\n",
              "      <th>dispute_date</th>\n",
              "      <th>dispute_date_timezone</th>\n",
              "      <th>dispute_arn</th>\n",
              "      <th>user_name</th>\n",
              "      <th>risk_scoring</th>\n",
              "      <th>shopper_interaction</th>\n",
              "      <th>shopper_name</th>\n",
              "      <th>shopper_email</th>\n",
              "      <th>shopper_reference</th>\n",
              "      <th>shopper_pan</th>\n",
              "      <th>iban</th>\n",
              "      <th>bic</th>\n",
              "      <th>shopper_ip</th>\n",
              "      <th>shopper_country</th>\n",
              "      <th>issuer_country</th>\n",
              "      <th>issuer_id</th>\n",
              "      <th>three_d_directory_response</th>\n",
              "      <th>three_d_authentication_response</th>\n",
              "      <th>cvc2_response</th>\n",
              "      <th>avs_response</th>\n",
              "      <th>dispute_auto_defended</th>\n",
              "      <th>dispute_end_date</th>\n",
              "      <th>dispute_end_date_timezone</th>\n",
              "      <th>reserved4</th>\n",
              "      <th>reserved5</th>\n",
              "    </tr>\n",
              "  </thead>\n",
              "  <tbody>\n",
              "    <tr>\n",
              "      <th>0</th>\n",
              "      <td>0</td>\n",
              "      <td>RiideComp</td>\n",
              "      <td>RiideCompMP</td>\n",
              "      <td>1859020649491981</td>\n",
              "      <td>FINAL_PAYMENT_30811242</td>\n",
              "      <td>visa</td>\n",
              "      <td>2020-10-15 10:31:18+00:00</td>\n",
              "      <td>BST</td>\n",
              "      <td>EUR</td>\n",
              "      <td>9.14</td>\n",
              "      <td>NotificationOfFraud</td>\n",
              "      <td>7559026886734074</td>\n",
              "      <td>Fraudulent Use of Account Number</td>\n",
              "      <td>NaN</td>\n",
              "      <td>NaN</td>\n",
              "      <td>NaN</td>\n",
              "      <td>NaN</td>\n",
              "      <td>visa</td>\n",
              "      <td>6.0</td>\n",
              "      <td>2020-10-07 11:02:29+00:00</td>\n",
              "      <td>BST</td>\n",
              "      <td>GBP</td>\n",
              "      <td>8.4</td>\n",
              "      <td>2020-10-15 10:31:18+00:00</td>\n",
              "      <td>BST</td>\n",
              "      <td>74987500281000154677653</td>\n",
              "      <td>system</td>\n",
              "      <td>35</td>\n",
              "      <td>ContAuth</td>\n",
              "      <td>rhys thomas</td>\n",
              "      <td>kyrakelly20@outlook.com</td>\n",
              "      <td>RIIDE_USER_production_845203</td>\n",
              "      <td>100</td>\n",
              "      <td>NaN</td>\n",
              "      <td>NaN</td>\n",
              "      <td>NaN</td>\n",
              "      <td>NaN</td>\n",
              "      <td>GB</td>\n",
              "      <td>475140</td>\n",
              "      <td>NaN</td>\n",
              "      <td>NaN</td>\n",
              "      <td>0</td>\n",
              "      <td>6</td>\n",
              "      <td>NaN</td>\n",
              "      <td>2021-04-07 11:02:29+00:00</td>\n",
              "      <td>BST</td>\n",
              "      <td>NaN</td>\n",
              "      <td>NaN</td>\n",
              "    </tr>\n",
              "    <tr>\n",
              "      <th>1</th>\n",
              "      <td>1</td>\n",
              "      <td>RiideComp</td>\n",
              "      <td>RiideCompMP</td>\n",
              "      <td>1849014676254605</td>\n",
              "      <td>PREAUTH_production_1611974</td>\n",
              "      <td>visa</td>\n",
              "      <td>2020-10-15 10:29:34+00:00</td>\n",
              "      <td>BST</td>\n",
              "      <td>EUR</td>\n",
              "      <td>9.11</td>\n",
              "      <td>NotificationOfFraud</td>\n",
              "      <td>7549026885709328</td>\n",
              "      <td>Fraudulent Use of Account Number</td>\n",
              "      <td>NaN</td>\n",
              "      <td>NaN</td>\n",
              "      <td>NaN</td>\n",
              "      <td>NaN</td>\n",
              "      <td>visa</td>\n",
              "      <td>6.0</td>\n",
              "      <td>2020-09-30 13:07:05+00:00</td>\n",
              "      <td>BST</td>\n",
              "      <td>GBP</td>\n",
              "      <td>9.1</td>\n",
              "      <td>2020-10-15 10:29:34+00:00</td>\n",
              "      <td>BST</td>\n",
              "      <td>74987500274005078834941</td>\n",
              "      <td>system</td>\n",
              "      <td>-30</td>\n",
              "      <td>ContAuth</td>\n",
              "      <td>Lauren mulvihill</td>\n",
              "      <td>laurenthegreat2017@outlook.com</td>\n",
              "      <td>RIIDE_USER_production_1264991</td>\n",
              "      <td>5014</td>\n",
              "      <td>NaN</td>\n",
              "      <td>NaN</td>\n",
              "      <td>NaN</td>\n",
              "      <td>NaN</td>\n",
              "      <td>GB</td>\n",
              "      <td>465943</td>\n",
              "      <td>NaN</td>\n",
              "      <td>NaN</td>\n",
              "      <td>0</td>\n",
              "      <td>6</td>\n",
              "      <td>NaN</td>\n",
              "      <td>2021-03-30 13:07:05+00:00</td>\n",
              "      <td>BST</td>\n",
              "      <td>NaN</td>\n",
              "      <td>NaN</td>\n",
              "    </tr>\n",
              "  </tbody>\n",
              "</table>\n",
              "</div>"
            ],
            "text/plain": [
              "   Unnamed: 0 company_account  ... reserved4  reserved5\n",
              "0           0       RiideComp  ...       NaN        NaN\n",
              "1           1       RiideComp  ...       NaN        NaN\n",
              "\n",
              "[2 rows x 48 columns]"
            ]
          },
          "metadata": {
            "tags": []
          },
          "execution_count": 118
        }
      ]
    },
    {
      "cell_type": "code",
      "metadata": {
        "id": "nZdrA-QHRs3N"
      },
      "source": [
        "cols = [0]\n",
        "oct_disputes.drop(oct_disputes.columns[cols],axis=1,inplace=True)"
      ],
      "execution_count": 119,
      "outputs": []
    },
    {
      "cell_type": "code",
      "metadata": {
        "id": "49FLGcYIR4NE"
      },
      "source": [
        "#getting chargebaks\n",
        "chargebacks = oct_disputes[oct_disputes.record_type == 'Chargeback']"
      ],
      "execution_count": 120,
      "outputs": []
    },
    {
      "cell_type": "code",
      "metadata": {
        "colab": {
          "base_uri": "https://localhost:8080/"
        },
        "id": "VZBJz4iiSXgs",
        "outputId": "dbcf7647-416b-4674-ea8c-221f7af539d4"
      },
      "source": [
        "webhook['external_id'] = webhook['external_id'].astype('int64')"
      ],
      "execution_count": 121,
      "outputs": [
        {
          "output_type": "stream",
          "text": [
            "/usr/local/lib/python3.7/dist-packages/ipykernel_launcher.py:1: SettingWithCopyWarning: \n",
            "A value is trying to be set on a copy of a slice from a DataFrame.\n",
            "Try using .loc[row_indexer,col_indexer] = value instead\n",
            "\n",
            "See the caveats in the documentation: https://pandas.pydata.org/pandas-docs/stable/user_guide/indexing.html#returning-a-view-versus-a-copy\n",
            "  \"\"\"Entry point for launching an IPython kernel.\n"
          ],
          "name": "stderr"
        }
      ]
    },
    {
      "cell_type": "code",
      "metadata": {
        "colab": {
          "base_uri": "https://localhost:8080/",
          "height": 383
        },
        "id": "MiuScqKHSaVc",
        "outputId": "990f9b07-d1e0-4723-b4ab-cffa894071ff"
      },
      "source": [
        "pd.merge(webhook, chargebacks, left_on='external_id', right_on='psp_reference') #looks like only 9 are chargebacks"
      ],
      "execution_count": 122,
      "outputs": [
        {
          "output_type": "execute_result",
          "data": {
            "text/html": [
              "<div>\n",
              "<style scoped>\n",
              "    .dataframe tbody tr th:only-of-type {\n",
              "        vertical-align: middle;\n",
              "    }\n",
              "\n",
              "    .dataframe tbody tr th {\n",
              "        vertical-align: top;\n",
              "    }\n",
              "\n",
              "    .dataframe thead th {\n",
              "        text-align: right;\n",
              "    }\n",
              "</style>\n",
              "<table border=\"1\" class=\"dataframe\">\n",
              "  <thead>\n",
              "    <tr style=\"text-align: right;\">\n",
              "      <th></th>\n",
              "      <th>external_id</th>\n",
              "      <th>event</th>\n",
              "      <th>data</th>\n",
              "      <th>company_account</th>\n",
              "      <th>merchant_account</th>\n",
              "      <th>psp_reference</th>\n",
              "      <th>merchant_reference</th>\n",
              "      <th>payment_method</th>\n",
              "      <th>record_date</th>\n",
              "      <th>record_date_timezone</th>\n",
              "      <th>dispute_currency</th>\n",
              "      <th>dispute_amount</th>\n",
              "      <th>record_type</th>\n",
              "      <th>dispute_psp_reference</th>\n",
              "      <th>dispute_reason</th>\n",
              "      <th>rfi_scheme_code</th>\n",
              "      <th>rfi_reason_code</th>\n",
              "      <th>cb_scheme_code</th>\n",
              "      <th>cb_reason_code</th>\n",
              "      <th>nof_scheme_code</th>\n",
              "      <th>nof_reason_code</th>\n",
              "      <th>payment_date</th>\n",
              "      <th>payment_date_timezone</th>\n",
              "      <th>payment_currency</th>\n",
              "      <th>payment_amount</th>\n",
              "      <th>dispute_date</th>\n",
              "      <th>dispute_date_timezone</th>\n",
              "      <th>dispute_arn</th>\n",
              "      <th>user_name</th>\n",
              "      <th>risk_scoring</th>\n",
              "      <th>shopper_interaction</th>\n",
              "      <th>shopper_name</th>\n",
              "      <th>shopper_email</th>\n",
              "      <th>shopper_reference</th>\n",
              "      <th>shopper_pan</th>\n",
              "      <th>iban</th>\n",
              "      <th>bic</th>\n",
              "      <th>shopper_ip</th>\n",
              "      <th>shopper_country</th>\n",
              "      <th>issuer_country</th>\n",
              "      <th>issuer_id</th>\n",
              "      <th>three_d_directory_response</th>\n",
              "      <th>three_d_authentication_response</th>\n",
              "      <th>cvc2_response</th>\n",
              "      <th>avs_response</th>\n",
              "      <th>dispute_auto_defended</th>\n",
              "      <th>dispute_end_date</th>\n",
              "      <th>dispute_end_date_timezone</th>\n",
              "      <th>reserved4</th>\n",
              "      <th>reserved5</th>\n",
              "    </tr>\n",
              "  </thead>\n",
              "  <tbody>\n",
              "    <tr>\n",
              "      <th>0</th>\n",
              "      <td>1339035313665462</td>\n",
              "      <td>AUTHORISATION</td>\n",
              "      <td>{\"additionalData\":{\"fraudCheck-52-DistinctPaym...</td>\n",
              "      <td>RiideComp</td>\n",
              "      <td>RiideCompMP</td>\n",
              "      <td>1339035313665462</td>\n",
              "      <td>PREAUTH_production_1864086</td>\n",
              "      <td>visa</td>\n",
              "      <td>2021-01-14 06:19:48+00:00</td>\n",
              "      <td>GMT</td>\n",
              "      <td>EUR</td>\n",
              "      <td>4.56</td>\n",
              "      <td>Chargeback</td>\n",
              "      <td>7436104676463060</td>\n",
              "      <td>Other Fraud-Card Absent Environment</td>\n",
              "      <td>NaN</td>\n",
              "      <td>NaN</td>\n",
              "      <td>visa</td>\n",
              "      <td>10.4</td>\n",
              "      <td>NaN</td>\n",
              "      <td>NaN</td>\n",
              "      <td>2020-10-24 10:22:46+00:00</td>\n",
              "      <td>BST</td>\n",
              "      <td>GBP</td>\n",
              "      <td>4.5</td>\n",
              "      <td>2021-01-13 04:40:59+00:00</td>\n",
              "      <td>GMT</td>\n",
              "      <td>74987500298003442128738</td>\n",
              "      <td>system</td>\n",
              "      <td>35</td>\n",
              "      <td>ContAuth</td>\n",
              "      <td>e a dinsdale</td>\n",
              "      <td>beckymarsden123@hotmail.com</td>\n",
              "      <td>RIIDE_USER_production_423304</td>\n",
              "      <td>5024</td>\n",
              "      <td>NaN</td>\n",
              "      <td>NaN</td>\n",
              "      <td>NaN</td>\n",
              "      <td>NaN</td>\n",
              "      <td>GB</td>\n",
              "      <td>454742</td>\n",
              "      <td>NaN</td>\n",
              "      <td>NaN</td>\n",
              "      <td>0</td>\n",
              "      <td>6</td>\n",
              "      <td>NaN</td>\n",
              "      <td>2021-01-31 04:40:59+00:00</td>\n",
              "      <td>GMT</td>\n",
              "      <td>NaN</td>\n",
              "      <td>NaN</td>\n",
              "    </tr>\n",
              "    <tr>\n",
              "      <th>1</th>\n",
              "      <td>1749036467978143</td>\n",
              "      <td>AUTHORISATION</td>\n",
              "      <td>{\"additionalData\":{\"fraudCheck-52-DistinctPaym...</td>\n",
              "      <td>RiideComp</td>\n",
              "      <td>RiideCompMP</td>\n",
              "      <td>1749036467978143</td>\n",
              "      <td>PREAUTH_production_1881704</td>\n",
              "      <td>visa</td>\n",
              "      <td>2020-10-30 06:24:48+00:00</td>\n",
              "      <td>GMT</td>\n",
              "      <td>EUR</td>\n",
              "      <td>19.25</td>\n",
              "      <td>Chargeback</td>\n",
              "      <td>7549039018760654</td>\n",
              "      <td>Other Fraud-Card Absent Environment</td>\n",
              "      <td>NaN</td>\n",
              "      <td>NaN</td>\n",
              "      <td>visa</td>\n",
              "      <td>10.4</td>\n",
              "      <td>NaN</td>\n",
              "      <td>NaN</td>\n",
              "      <td>2020-10-25 17:26:37+00:00</td>\n",
              "      <td>GMT</td>\n",
              "      <td>GBP</td>\n",
              "      <td>8.8</td>\n",
              "      <td>2020-10-28 16:30:48+00:00</td>\n",
              "      <td>GMT</td>\n",
              "      <td>74987500299007404324945</td>\n",
              "      <td>system</td>\n",
              "      <td>10</td>\n",
              "      <td>ContAuth</td>\n",
              "      <td>a antt</td>\n",
              "      <td>antt18804@gmail.com</td>\n",
              "      <td>RIIDE_USER_production_1813695</td>\n",
              "      <td>7114</td>\n",
              "      <td>NaN</td>\n",
              "      <td>NaN</td>\n",
              "      <td>NaN</td>\n",
              "      <td>NaN</td>\n",
              "      <td>GB</td>\n",
              "      <td>465942</td>\n",
              "      <td>NaN</td>\n",
              "      <td>NaN</td>\n",
              "      <td>0</td>\n",
              "      <td>6</td>\n",
              "      <td>NaN</td>\n",
              "      <td>2020-11-15 16:30:48+00:00</td>\n",
              "      <td>GMT</td>\n",
              "      <td>NaN</td>\n",
              "      <td>NaN</td>\n",
              "    </tr>\n",
              "    <tr>\n",
              "      <th>2</th>\n",
              "      <td>1749020310512796</td>\n",
              "      <td>AUTHORISATION</td>\n",
              "      <td>{\"additionalData\":{\"metadata.booking_id\":\"3079...</td>\n",
              "      <td>RiideComp</td>\n",
              "      <td>RiideCompMP</td>\n",
              "      <td>1749020310512796</td>\n",
              "      <td>FINAL_PAYMENT_30797514</td>\n",
              "      <td>visa</td>\n",
              "      <td>2020-10-22 13:48:51+00:00</td>\n",
              "      <td>BST</td>\n",
              "      <td>EUR</td>\n",
              "      <td>8.98</td>\n",
              "      <td>Chargeback</td>\n",
              "      <td>7549032068247094</td>\n",
              "      <td>Other Fraud-Card Absent Environment</td>\n",
              "      <td>NaN</td>\n",
              "      <td>NaN</td>\n",
              "      <td>visa</td>\n",
              "      <td>10.4</td>\n",
              "      <td>NaN</td>\n",
              "      <td>NaN</td>\n",
              "      <td>2020-10-07 01:37:31+00:00</td>\n",
              "      <td>BST</td>\n",
              "      <td>GBP</td>\n",
              "      <td>8.1</td>\n",
              "      <td>2020-10-20 19:30:58+00:00</td>\n",
              "      <td>BST</td>\n",
              "      <td>74987500281000010017649</td>\n",
              "      <td>system</td>\n",
              "      <td>35</td>\n",
              "      <td>ContAuth</td>\n",
              "      <td>Alistair Roxburgh</td>\n",
              "      <td>lewisjoanna519@gmail.com</td>\n",
              "      <td>RIIDE_USER_production_1759497</td>\n",
              "      <td>1601</td>\n",
              "      <td>NaN</td>\n",
              "      <td>NaN</td>\n",
              "      <td>NaN</td>\n",
              "      <td>NaN</td>\n",
              "      <td>GB</td>\n",
              "      <td>465935</td>\n",
              "      <td>NaN</td>\n",
              "      <td>NaN</td>\n",
              "      <td>0</td>\n",
              "      <td>7</td>\n",
              "      <td>NaN</td>\n",
              "      <td>2020-11-07 19:30:58+00:00</td>\n",
              "      <td>GMT</td>\n",
              "      <td>NaN</td>\n",
              "      <td>NaN</td>\n",
              "    </tr>\n",
              "    <tr>\n",
              "      <th>3</th>\n",
              "      <td>1656037427390628</td>\n",
              "      <td>AUTHORISATION</td>\n",
              "      <td>{\"additionalData\":{\"metadata.booking_id\":\"3179...</td>\n",
              "      <td>RiideComp</td>\n",
              "      <td>RiideCompMP</td>\n",
              "      <td>1656037427390628</td>\n",
              "      <td>FINAL_PAYMENT_31791774</td>\n",
              "      <td>visa</td>\n",
              "      <td>2020-11-04 09:49:30+00:00</td>\n",
              "      <td>GMT</td>\n",
              "      <td>EUR</td>\n",
              "      <td>31.17</td>\n",
              "      <td>Chargeback</td>\n",
              "      <td>7559041610313194</td>\n",
              "      <td>Other Fraud-Card Absent Environment</td>\n",
              "      <td>NaN</td>\n",
              "      <td>NaN</td>\n",
              "      <td>visa</td>\n",
              "      <td>10.4</td>\n",
              "      <td>NaN</td>\n",
              "      <td>NaN</td>\n",
              "      <td>2020-10-26 20:05:39+00:00</td>\n",
              "      <td>GMT</td>\n",
              "      <td>GBP</td>\n",
              "      <td>28.0</td>\n",
              "      <td>2020-10-31 16:21:57+00:00</td>\n",
              "      <td>GMT</td>\n",
              "      <td>74987500300358115527350</td>\n",
              "      <td>system</td>\n",
              "      <td>5</td>\n",
              "      <td>ContAuth</td>\n",
              "      <td>William newnes</td>\n",
              "      <td>agerada78@gmail.com</td>\n",
              "      <td>RIIDE_USER_production_1813588</td>\n",
              "      <td>5713</td>\n",
              "      <td>NaN</td>\n",
              "      <td>NaN</td>\n",
              "      <td>NaN</td>\n",
              "      <td>NaN</td>\n",
              "      <td>GB</td>\n",
              "      <td>476367</td>\n",
              "      <td>NaN</td>\n",
              "      <td>NaN</td>\n",
              "      <td>0</td>\n",
              "      <td>6</td>\n",
              "      <td>NaN</td>\n",
              "      <td>2020-11-18 16:21:57+00:00</td>\n",
              "      <td>GMT</td>\n",
              "      <td>NaN</td>\n",
              "      <td>NaN</td>\n",
              "    </tr>\n",
              "    <tr>\n",
              "      <th>4</th>\n",
              "      <td>1359039953970328</td>\n",
              "      <td>AUTHORISATION</td>\n",
              "      <td>{\"additionalData\":{\"fraudCheck-75-PaymentDetai...</td>\n",
              "      <td>RiideComp</td>\n",
              "      <td>RiideCompMP</td>\n",
              "      <td>1359039953970328</td>\n",
              "      <td>PREAUTH_production_1920803</td>\n",
              "      <td>visa</td>\n",
              "      <td>2020-11-17 08:28:08+00:00</td>\n",
              "      <td>GMT</td>\n",
              "      <td>EUR</td>\n",
              "      <td>12.64</td>\n",
              "      <td>Chargeback</td>\n",
              "      <td>7559052845342247</td>\n",
              "      <td>Other Fraud-Card Absent Environment</td>\n",
              "      <td>NaN</td>\n",
              "      <td>NaN</td>\n",
              "      <td>visa</td>\n",
              "      <td>10.4</td>\n",
              "      <td>NaN</td>\n",
              "      <td>NaN</td>\n",
              "      <td>2020-10-29 18:16:37+00:00</td>\n",
              "      <td>GMT</td>\n",
              "      <td>GBP</td>\n",
              "      <td>8.5</td>\n",
              "      <td>2020-11-13 19:19:36+00:00</td>\n",
              "      <td>GMT</td>\n",
              "      <td>74987500303010668925856</td>\n",
              "      <td>system</td>\n",
              "      <td>70</td>\n",
              "      <td>ContAuth</td>\n",
              "      <td>julian fletcher</td>\n",
              "      <td>NaN</td>\n",
              "      <td>RIIDE_USER_production_1740993</td>\n",
              "      <td>2440</td>\n",
              "      <td>NaN</td>\n",
              "      <td>NaN</td>\n",
              "      <td>NaN</td>\n",
              "      <td>NaN</td>\n",
              "      <td>GB</td>\n",
              "      <td>475129</td>\n",
              "      <td>NaN</td>\n",
              "      <td>NaN</td>\n",
              "      <td>0</td>\n",
              "      <td>2</td>\n",
              "      <td>NaN</td>\n",
              "      <td>2020-12-01 19:19:36+00:00</td>\n",
              "      <td>GMT</td>\n",
              "      <td>NaN</td>\n",
              "      <td>NaN</td>\n",
              "    </tr>\n",
              "  </tbody>\n",
              "</table>\n",
              "</div>"
            ],
            "text/plain": [
              "        external_id          event  ... reserved4 reserved5\n",
              "0  1339035313665462  AUTHORISATION  ...       NaN       NaN\n",
              "1  1749036467978143  AUTHORISATION  ...       NaN       NaN\n",
              "2  1749020310512796  AUTHORISATION  ...       NaN       NaN\n",
              "3  1656037427390628  AUTHORISATION  ...       NaN       NaN\n",
              "4  1359039953970328  AUTHORISATION  ...       NaN       NaN\n",
              "\n",
              "[5 rows x 50 columns]"
            ]
          },
          "metadata": {
            "tags": []
          },
          "execution_count": 122
        }
      ]
    },
    {
      "cell_type": "code",
      "metadata": {
        "id": "jG7P8NrPSiWl"
      },
      "source": [
        "result = pd.merge(webhook, chargebacks, how = 'left',left_on='external_id', right_on='psp_reference')"
      ],
      "execution_count": 123,
      "outputs": []
    },
    {
      "cell_type": "code",
      "metadata": {
        "id": "j6-aYX3TTf_X"
      },
      "source": [
        "result = result[['external_id', 'event', 'data', 'psp_reference']]"
      ],
      "execution_count": 124,
      "outputs": []
    },
    {
      "cell_type": "code",
      "metadata": {
        "id": "4bHWZQsyTx-_",
        "colab": {
          "base_uri": "https://localhost:8080/",
          "height": 195
        },
        "outputId": "78062a31-0d92-4685-fd22-c6449ca9fca5"
      },
      "source": [
        "result.head()"
      ],
      "execution_count": 125,
      "outputs": [
        {
          "output_type": "execute_result",
          "data": {
            "text/html": [
              "<div>\n",
              "<style scoped>\n",
              "    .dataframe tbody tr th:only-of-type {\n",
              "        vertical-align: middle;\n",
              "    }\n",
              "\n",
              "    .dataframe tbody tr th {\n",
              "        vertical-align: top;\n",
              "    }\n",
              "\n",
              "    .dataframe thead th {\n",
              "        text-align: right;\n",
              "    }\n",
              "</style>\n",
              "<table border=\"1\" class=\"dataframe\">\n",
              "  <thead>\n",
              "    <tr style=\"text-align: right;\">\n",
              "      <th></th>\n",
              "      <th>external_id</th>\n",
              "      <th>event</th>\n",
              "      <th>data</th>\n",
              "      <th>psp_reference</th>\n",
              "    </tr>\n",
              "  </thead>\n",
              "  <tbody>\n",
              "    <tr>\n",
              "      <th>0</th>\n",
              "      <td>6159024905231228</td>\n",
              "      <td>AUTHORISATION</td>\n",
              "      <td>{\"additionalData\":{\"fraudCheck-75-PaymentDetai...</td>\n",
              "      <td>NaN</td>\n",
              "    </tr>\n",
              "    <tr>\n",
              "      <th>1</th>\n",
              "      <td>4626024905434772</td>\n",
              "      <td>AUTHORISATION</td>\n",
              "      <td>{\"additionalData\":{\"fraudCheck-75-PaymentDetai...</td>\n",
              "      <td>NaN</td>\n",
              "    </tr>\n",
              "    <tr>\n",
              "      <th>2</th>\n",
              "      <td>4726024905511354</td>\n",
              "      <td>AUTHORISATION</td>\n",
              "      <td>{\"additionalData\":{\"fraudCheck-75-PaymentDetai...</td>\n",
              "      <td>NaN</td>\n",
              "    </tr>\n",
              "    <tr>\n",
              "      <th>3</th>\n",
              "      <td>4736024905567701</td>\n",
              "      <td>AUTHORISATION</td>\n",
              "      <td>{\"additionalData\":{\"fraudCheck-52-DistinctPaym...</td>\n",
              "      <td>NaN</td>\n",
              "    </tr>\n",
              "    <tr>\n",
              "      <th>4</th>\n",
              "      <td>4756024906267751</td>\n",
              "      <td>AUTHORISATION</td>\n",
              "      <td>{\"additionalData\":{\"fraudCheck-75-PaymentDetai...</td>\n",
              "      <td>NaN</td>\n",
              "    </tr>\n",
              "  </tbody>\n",
              "</table>\n",
              "</div>"
            ],
            "text/plain": [
              "        external_id  ... psp_reference\n",
              "0  6159024905231228  ...           NaN\n",
              "1  4626024905434772  ...           NaN\n",
              "2  4726024905511354  ...           NaN\n",
              "3  4736024905567701  ...           NaN\n",
              "4  4756024906267751  ...           NaN\n",
              "\n",
              "[5 rows x 4 columns]"
            ]
          },
          "metadata": {
            "tags": []
          },
          "execution_count": 125
        }
      ]
    },
    {
      "cell_type": "code",
      "metadata": {
        "id": "V5KcE5QJT5Zo",
        "colab": {
          "base_uri": "https://localhost:8080/"
        },
        "outputId": "06026bd3-af82-445c-d98a-19f57de5c316"
      },
      "source": [
        "result.info()"
      ],
      "execution_count": 126,
      "outputs": [
        {
          "output_type": "stream",
          "text": [
            "<class 'pandas.core.frame.DataFrame'>\n",
            "Int64Index: 60199 entries, 0 to 60198\n",
            "Data columns (total 4 columns):\n",
            " #   Column         Non-Null Count  Dtype  \n",
            "---  ------         --------------  -----  \n",
            " 0   external_id    60199 non-null  int64  \n",
            " 1   event          60199 non-null  object \n",
            " 2   data           60199 non-null  object \n",
            " 3   psp_reference  5 non-null      float64\n",
            "dtypes: float64(1), int64(1), object(2)\n",
            "memory usage: 2.3+ MB\n"
          ],
          "name": "stdout"
        }
      ]
    },
    {
      "cell_type": "code",
      "metadata": {
        "id": "t9CpPRs7UA91"
      },
      "source": [
        "result.columns = ['external_id', 'event', 'data', 'chargeback']"
      ],
      "execution_count": 127,
      "outputs": []
    },
    {
      "cell_type": "code",
      "metadata": {
        "id": "c2lmuK6oUeTs",
        "colab": {
          "base_uri": "https://localhost:8080/"
        },
        "outputId": "8c070e3c-df08-4392-c717-8bc536d228cf"
      },
      "source": [
        "result.info()"
      ],
      "execution_count": 128,
      "outputs": [
        {
          "output_type": "stream",
          "text": [
            "<class 'pandas.core.frame.DataFrame'>\n",
            "Int64Index: 60199 entries, 0 to 60198\n",
            "Data columns (total 4 columns):\n",
            " #   Column       Non-Null Count  Dtype  \n",
            "---  ------       --------------  -----  \n",
            " 0   external_id  60199 non-null  int64  \n",
            " 1   event        60199 non-null  object \n",
            " 2   data         60199 non-null  object \n",
            " 3   chargeback   5 non-null      float64\n",
            "dtypes: float64(1), int64(1), object(2)\n",
            "memory usage: 2.3+ MB\n"
          ],
          "name": "stdout"
        }
      ]
    },
    {
      "cell_type": "code",
      "metadata": {
        "id": "OwhK7uBdVAg8"
      },
      "source": [
        "result.chargeback.fillna(0,inplace=True)"
      ],
      "execution_count": 129,
      "outputs": []
    },
    {
      "cell_type": "code",
      "metadata": {
        "id": "mGk1_USuVu2J"
      },
      "source": [
        "result[\"chargeback\"]=result[\"chargeback\"].apply(lambda x: 1 if x!=0 else 0)"
      ],
      "execution_count": 130,
      "outputs": []
    },
    {
      "cell_type": "code",
      "metadata": {
        "id": "jKJedPRzWbaG",
        "colab": {
          "base_uri": "https://localhost:8080/"
        },
        "outputId": "fd3cca78-d924-4a2c-b6d7-0658ae87250f"
      },
      "source": [
        "result.info()"
      ],
      "execution_count": 131,
      "outputs": [
        {
          "output_type": "stream",
          "text": [
            "<class 'pandas.core.frame.DataFrame'>\n",
            "Int64Index: 60199 entries, 0 to 60198\n",
            "Data columns (total 4 columns):\n",
            " #   Column       Non-Null Count  Dtype \n",
            "---  ------       --------------  ----- \n",
            " 0   external_id  60199 non-null  int64 \n",
            " 1   event        60199 non-null  object\n",
            " 2   data         60199 non-null  object\n",
            " 3   chargeback   60199 non-null  int64 \n",
            "dtypes: int64(2), object(2)\n",
            "memory usage: 2.3+ MB\n"
          ],
          "name": "stdout"
        }
      ]
    },
    {
      "cell_type": "code",
      "metadata": {
        "id": "qc5V_BuOYbNv",
        "colab": {
          "base_uri": "https://localhost:8080/"
        },
        "outputId": "b7904f99-934b-403b-ad2f-1ea7f2769d5d"
      },
      "source": [
        "result['chargeback'].value_counts()"
      ],
      "execution_count": 132,
      "outputs": [
        {
          "output_type": "execute_result",
          "data": {
            "text/plain": [
              "0    60194\n",
              "1        5\n",
              "Name: chargeback, dtype: int64"
            ]
          },
          "metadata": {
            "tags": []
          },
          "execution_count": 132
        }
      ]
    },
    {
      "cell_type": "markdown",
      "metadata": {
        "id": "rBoexZKGKtKT"
      },
      "source": [
        "plotting with labels"
      ]
    },
    {
      "cell_type": "code",
      "metadata": {
        "id": "XBsXpzMuWddc"
      },
      "source": [
        "import seaborn as sns"
      ],
      "execution_count": 133,
      "outputs": []
    },
    {
      "cell_type": "code",
      "metadata": {
        "id": "tMn2zETfWtNJ",
        "colab": {
          "base_uri": "https://localhost:8080/",
          "height": 296
        },
        "outputId": "a4fb3f8a-f40b-4c6c-d918-e36b75c71b87"
      },
      "source": [
        "sns.countplot(x = 'chargeback', data = result)"
      ],
      "execution_count": 134,
      "outputs": [
        {
          "output_type": "execute_result",
          "data": {
            "text/plain": [
              "<matplotlib.axes._subplots.AxesSubplot at 0x7f3b64514e10>"
            ]
          },
          "metadata": {
            "tags": []
          },
          "execution_count": 134
        },
        {
          "output_type": "display_data",
          "data": {
            "image/png": "[encoded data removed]",
            "text/plain": [
              "<Figure size 432x288 with 1 Axes>"
            ]
          },
          "metadata": {
            "tags": [],
            "needs_background": "light"
          }
        }
      ]
    },
    {
      "cell_type": "code",
      "metadata": {
        "id": "rCuqp6UiTBZk"
      },
      "source": [
        "#normalisation"
      ],
      "execution_count": 135,
      "outputs": []
    },
    {
      "cell_type": "code",
      "metadata": {
        "id": "WPY_WQt8Ofr7"
      },
      "source": [
        "import json\n",
        "import numpy as np\n",
        "from pandas.io.json import json_normalize"
      ],
      "execution_count": 136,
      "outputs": []
    },
    {
      "cell_type": "code",
      "metadata": {
        "id": "kJeByPKCOj_I",
        "colab": {
          "base_uri": "https://localhost:8080/"
        },
        "outputId": "ddf717f1-389d-4641-b7aa-7249dab7bf9d"
      },
      "source": [
        "flat_df = json_normalize(result.data.apply(json.loads))"
      ],
      "execution_count": 137,
      "outputs": [
        {
          "output_type": "stream",
          "text": [
            "/usr/local/lib/python3.7/dist-packages/ipykernel_launcher.py:1: FutureWarning: pandas.io.json.json_normalize is deprecated, use pandas.json_normalize instead\n",
            "  \"\"\"Entry point for launching an IPython kernel.\n"
          ],
          "name": "stderr"
        }
      ]
    },
    {
      "cell_type": "code",
      "metadata": {
        "id": "1nkuH8wuSXRj",
        "colab": {
          "base_uri": "https://localhost:8080/",
          "height": 446
        },
        "outputId": "d44808f7-afcf-460e-ddb4-77a6e1bbc840"
      },
      "source": [
        "flat_df.head()"
      ],
      "execution_count": 138,
      "outputs": [
        {
          "output_type": "execute_result",
          "data": {
            "text/html": [
              "<div>\n",
              "<style scoped>\n",
              "    .dataframe tbody tr th:only-of-type {\n",
              "        vertical-align: middle;\n",
              "    }\n",
              "\n",
              "    .dataframe tbody tr th {\n",
              "        vertical-align: top;\n",
              "    }\n",
              "\n",
              "    .dataframe thead th {\n",
              "        text-align: right;\n",
              "    }\n",
              "</style>\n",
              "<table border=\"1\" class=\"dataframe\">\n",
              "  <thead>\n",
              "    <tr style=\"text-align: right;\">\n",
              "      <th></th>\n",
              "      <th>eventCode</th>\n",
              "      <th>eventDate</th>\n",
              "      <th>merchantAccountCode</th>\n",
              "      <th>merchantReference</th>\n",
              "      <th>operations</th>\n",
              "      <th>paymentMethod</th>\n",
              "      <th>pspReference</th>\n",
              "      <th>reason</th>\n",
              "      <th>success</th>\n",
              "      <th>additionalData.fraudCheck-75-PaymentDetailCarteBancaireRefCheck</th>\n",
              "      <th>additionalData.eci</th>\n",
              "      <th>additionalData.refusalReasonRaw</th>\n",
              "      <th>additionalData.metadata.company</th>\n",
              "      <th>additionalData.metadata.booking_id</th>\n",
              "      <th>additionalData.fraudCheck-63-TransactionAmountCheck</th>\n",
              "      <th>additionalData.xid</th>\n",
              "      <th>additionalData.fraudCheck-52-DistinctPaymentDetailUsageByShopper</th>\n",
              "      <th>additionalData.recurringProcessingModel</th>\n",
              "      <th>additionalData.threeDAuthenticated</th>\n",
              "      <th>additionalData.metadata.icabbi_payment_id</th>\n",
              "      <th>additionalData.paymentMethodVariant</th>\n",
              "      <th>additionalData.riskdata.basket.item.brand</th>\n",
              "      <th>additionalData.fraudCheck-91-ShopperStrongAuthenticationCheck</th>\n",
              "      <th>additionalData.riskdata.shopperAppVersion</th>\n",
              "      <th>additionalData.deviceType</th>\n",
              "      <th>additionalData.metadata.shopper_name</th>\n",
              "      <th>additionalData.fraudCheck-54-DistinctSharedPaymentDetailUsageByShopper</th>\n",
              "      <th>additionalData.metadata.shopper_phone</th>\n",
              "      <th>additionalData.fraudCheck-77-EmailSyntaxCheck</th>\n",
              "      <th>additionalData.fraudManualReview</th>\n",
              "      <th>additionalData.threeDOffered</th>\n",
              "      <th>additionalData.threeDOfferedResponse</th>\n",
              "      <th>additionalData.shopperEmail</th>\n",
              "      <th>additionalData.fraudCheck-86-PaymentDetailAmexRefCheck</th>\n",
              "      <th>additionalData.cavv</th>\n",
              "      <th>additionalData.fraudCheck-46-DistinctCountryUsageByShopper</th>\n",
              "      <th>additionalData.shopperTelephone</th>\n",
              "      <th>additionalData.threeDAuthenticatedResponse</th>\n",
              "      <th>additionalData.fraudCheck-53-DistinctSharedShopperIpUsageByShopper</th>\n",
              "      <th>additionalData.retry.attempt1.rawResponse</th>\n",
              "      <th>...</th>\n",
              "      <th>additionalData.riskdata.numberFieldKeyCount</th>\n",
              "      <th>additionalData.recurring.recurringDetailReference</th>\n",
              "      <th>additionalData.fraudCheck-2-CardChunkUsage</th>\n",
              "      <th>additionalData.riskdata.referrer</th>\n",
              "      <th>additionalData.riskdata.luhnCount</th>\n",
              "      <th>additionalData.riskdata.LuhnSameLengthCount</th>\n",
              "      <th>additionalData.fraudCheck-3-PaymentDetailUsage</th>\n",
              "      <th>additionalData.riskdata.numberFieldFocusCount</th>\n",
              "      <th>additionalData.riskdata.initializeCount</th>\n",
              "      <th>additionalData.recurring.shopperReference</th>\n",
              "      <th>additionalData.fraudCheck-55-ShopperAuthorisedFrequency</th>\n",
              "      <th>additionalData.cardIssuingCurrency</th>\n",
              "      <th>additionalData.riskProfile</th>\n",
              "      <th>additionalData.riskProfileReference</th>\n",
              "      <th>additionalData.metadata.link_id</th>\n",
              "      <th>additionalData.cvcResultRaw</th>\n",
              "      <th>additionalData.fraudCheck-4-HolderNameUsage</th>\n",
              "      <th>additionalData.riskdata.numberFieldClickCount</th>\n",
              "      <th>additionalData.cardIssuingCountry</th>\n",
              "      <th>additionalData.cardIssuingBank</th>\n",
              "      <th>additionalData.fraudCheck-78-ShopperBehaviorCheck</th>\n",
              "      <th>additionalData.riskdata.numberFieldBlurCount</th>\n",
              "      <th>additionalData.cardPaymentMethod</th>\n",
              "      <th>additionalData.riskdata.numberFieldLog</th>\n",
              "      <th>additionalData.accountValidation</th>\n",
              "      <th>additionalData.fraudCheck-8-ShopperEmailUsage</th>\n",
              "      <th>additionalData.coBrandedWith</th>\n",
              "      <th>additionalData.retry.attempt2.responseCode</th>\n",
              "      <th>additionalData.retry.attempt2.rawResponse</th>\n",
              "      <th>additionalData.retry.attempt2.acquirerAccount</th>\n",
              "      <th>additionalData.retry.attempt2.acquirer</th>\n",
              "      <th>additionalData.metadata.caboodle_base_uri</th>\n",
              "      <th>additionalData.metadata.restaurant_id</th>\n",
              "      <th>additionalData.retry.attempt2.avsResultRaw</th>\n",
              "      <th>additionalData.threeDSVersion</th>\n",
              "      <th>additionalData.fraudCheck--1-Pre-Auth-Risk-Total</th>\n",
              "      <th>additionalData.riskdata.numberFieldEventHandlers</th>\n",
              "      <th>additionalData.riskdata.numberFieldUnknownKeys</th>\n",
              "      <th>additionalData.authorisedAmountCurrency</th>\n",
              "      <th>additionalData.authorisedAmountValue</th>\n",
              "    </tr>\n",
              "  </thead>\n",
              "  <tbody>\n",
              "    <tr>\n",
              "      <th>0</th>\n",
              "      <td>AUTHORISATION</td>\n",
              "      <td>2020-10-12T10:15:23+02:00</td>\n",
              "      <td>RiideCompMP</td>\n",
              "      <td>FINAL_PAYMENT_31079730</td>\n",
              "      <td>[CANCEL, CAPTURE, REFUND]</td>\n",
              "      <td>visa</td>\n",
              "      <td>6159024905231228</td>\n",
              "      <td>004038:3972:12/2024</td>\n",
              "      <td>true</td>\n",
              "      <td>0</td>\n",
              "      <td>N/A</td>\n",
              "      <td>00 : Approved or completed successfully</td>\n",
              "      <td>asl</td>\n",
              "      <td>31079730</td>\n",
              "      <td>0</td>\n",
              "      <td>N/A</td>\n",
              "      <td>0</td>\n",
              "      <td>CardOnFile</td>\n",
              "      <td>false</td>\n",
              "      <td>53576144</td>\n",
              "      <td>visastandarddebit</td>\n",
              "      <td>asl</td>\n",
              "      <td>0</td>\n",
              "      <td>333.0.705</td>\n",
              "      <td>Other</td>\n",
              "      <td>James Fox</td>\n",
              "      <td>0</td>\n",
              "      <td>7944633008</td>\n",
              "      <td>20</td>\n",
              "      <td>false</td>\n",
              "      <td>false</td>\n",
              "      <td>N/A</td>\n",
              "      <td>Jfox2707@gmail.com</td>\n",
              "      <td>0</td>\n",
              "      <td>N/A</td>\n",
              "      <td>0</td>\n",
              "      <td>+447944633008</td>\n",
              "      <td>N/A</td>\n",
              "      <td>0</td>\n",
              "      <td>00 : Approved or completed successfully</td>\n",
              "      <td>...</td>\n",
              "      <td>NaN</td>\n",
              "      <td>NaN</td>\n",
              "      <td>NaN</td>\n",
              "      <td>NaN</td>\n",
              "      <td>NaN</td>\n",
              "      <td>NaN</td>\n",
              "      <td>NaN</td>\n",
              "      <td>NaN</td>\n",
              "      <td>NaN</td>\n",
              "      <td>NaN</td>\n",
              "      <td>NaN</td>\n",
              "      <td>NaN</td>\n",
              "      <td>NaN</td>\n",
              "      <td>NaN</td>\n",
              "      <td>NaN</td>\n",
              "      <td>NaN</td>\n",
              "      <td>NaN</td>\n",
              "      <td>NaN</td>\n",
              "      <td>NaN</td>\n",
              "      <td>NaN</td>\n",
              "      <td>NaN</td>\n",
              "      <td>NaN</td>\n",
              "      <td>NaN</td>\n",
              "      <td>NaN</td>\n",
              "      <td>NaN</td>\n",
              "      <td>NaN</td>\n",
              "      <td>NaN</td>\n",
              "      <td>NaN</td>\n",
              "      <td>NaN</td>\n",
              "      <td>NaN</td>\n",
              "      <td>NaN</td>\n",
              "      <td>NaN</td>\n",
              "      <td>NaN</td>\n",
              "      <td>NaN</td>\n",
              "      <td>NaN</td>\n",
              "      <td>NaN</td>\n",
              "      <td>NaN</td>\n",
              "      <td>NaN</td>\n",
              "      <td>NaN</td>\n",
              "      <td>NaN</td>\n",
              "    </tr>\n",
              "    <tr>\n",
              "      <th>1</th>\n",
              "      <td>AUTHORISATION</td>\n",
              "      <td>2020-10-12T10:15:43+02:00</td>\n",
              "      <td>RiideCompMP</td>\n",
              "      <td>PREAUTH_production_1741939</td>\n",
              "      <td>[CANCEL, CAPTURE, REFUND]</td>\n",
              "      <td>visa</td>\n",
              "      <td>4626024905434772</td>\n",
              "      <td>012036:1126:10/2021</td>\n",
              "      <td>true</td>\n",
              "      <td>0</td>\n",
              "      <td>N/A</td>\n",
              "      <td>00 : Approved or completed successfully</td>\n",
              "      <td>blueline</td>\n",
              "      <td>NaN</td>\n",
              "      <td>0</td>\n",
              "      <td>N/A</td>\n",
              "      <td>0</td>\n",
              "      <td>CardOnFile</td>\n",
              "      <td>false</td>\n",
              "      <td>NaN</td>\n",
              "      <td>visastandarddebit</td>\n",
              "      <td>blueline</td>\n",
              "      <td>0</td>\n",
              "      <td>333.0.705</td>\n",
              "      <td>Other</td>\n",
              "      <td>Sara Hawthorn</td>\n",
              "      <td>0</td>\n",
              "      <td>7522247994</td>\n",
              "      <td>0</td>\n",
              "      <td>false</td>\n",
              "      <td>false</td>\n",
              "      <td>N/A</td>\n",
              "      <td>sarahawthorn@hotmail.co.uk</td>\n",
              "      <td>0</td>\n",
              "      <td>N/A</td>\n",
              "      <td>0</td>\n",
              "      <td>+447522247994</td>\n",
              "      <td>N/A</td>\n",
              "      <td>0</td>\n",
              "      <td>00 : Approved or completed successfully</td>\n",
              "      <td>...</td>\n",
              "      <td>NaN</td>\n",
              "      <td>NaN</td>\n",
              "      <td>NaN</td>\n",
              "      <td>NaN</td>\n",
              "      <td>NaN</td>\n",
              "      <td>NaN</td>\n",
              "      <td>NaN</td>\n",
              "      <td>NaN</td>\n",
              "      <td>NaN</td>\n",
              "      <td>NaN</td>\n",
              "      <td>NaN</td>\n",
              "      <td>NaN</td>\n",
              "      <td>NaN</td>\n",
              "      <td>NaN</td>\n",
              "      <td>NaN</td>\n",
              "      <td>NaN</td>\n",
              "      <td>NaN</td>\n",
              "      <td>NaN</td>\n",
              "      <td>NaN</td>\n",
              "      <td>NaN</td>\n",
              "      <td>NaN</td>\n",
              "      <td>NaN</td>\n",
              "      <td>NaN</td>\n",
              "      <td>NaN</td>\n",
              "      <td>NaN</td>\n",
              "      <td>NaN</td>\n",
              "      <td>NaN</td>\n",
              "      <td>NaN</td>\n",
              "      <td>NaN</td>\n",
              "      <td>NaN</td>\n",
              "      <td>NaN</td>\n",
              "      <td>NaN</td>\n",
              "      <td>NaN</td>\n",
              "      <td>NaN</td>\n",
              "      <td>NaN</td>\n",
              "      <td>NaN</td>\n",
              "      <td>NaN</td>\n",
              "      <td>NaN</td>\n",
              "      <td>NaN</td>\n",
              "      <td>NaN</td>\n",
              "    </tr>\n",
              "    <tr>\n",
              "      <th>2</th>\n",
              "      <td>AUTHORISATION</td>\n",
              "      <td>2020-10-12T10:15:51+02:00</td>\n",
              "      <td>RiideCompMP</td>\n",
              "      <td>FINAL_PAYMENT_31071999</td>\n",
              "      <td>[CANCEL, CAPTURE, REFUND]</td>\n",
              "      <td>visa</td>\n",
              "      <td>4726024905511354</td>\n",
              "      <td>012400:9612:05/2021</td>\n",
              "      <td>true</td>\n",
              "      <td>0</td>\n",
              "      <td>N/A</td>\n",
              "      <td>00 : Approved or completed successfully</td>\n",
              "      <td>hulc</td>\n",
              "      <td>31071999</td>\n",
              "      <td>0</td>\n",
              "      <td>N/A</td>\n",
              "      <td>0</td>\n",
              "      <td>CardOnFile</td>\n",
              "      <td>false</td>\n",
              "      <td>35963770</td>\n",
              "      <td>visastandarddebit</td>\n",
              "      <td>hulc</td>\n",
              "      <td>0</td>\n",
              "      <td>333.0.705</td>\n",
              "      <td>Other</td>\n",
              "      <td>Valerija sama</td>\n",
              "      <td>0</td>\n",
              "      <td>7908009973</td>\n",
              "      <td>0</td>\n",
              "      <td>false</td>\n",
              "      <td>false</td>\n",
              "      <td>N/A</td>\n",
              "      <td>valerija979@gmail.com</td>\n",
              "      <td>0</td>\n",
              "      <td>N/A</td>\n",
              "      <td>0</td>\n",
              "      <td>+447908009973</td>\n",
              "      <td>N/A</td>\n",
              "      <td>0</td>\n",
              "      <td>00 : Approved or completed successfully</td>\n",
              "      <td>...</td>\n",
              "      <td>NaN</td>\n",
              "      <td>NaN</td>\n",
              "      <td>NaN</td>\n",
              "      <td>NaN</td>\n",
              "      <td>NaN</td>\n",
              "      <td>NaN</td>\n",
              "      <td>NaN</td>\n",
              "      <td>NaN</td>\n",
              "      <td>NaN</td>\n",
              "      <td>NaN</td>\n",
              "      <td>NaN</td>\n",
              "      <td>NaN</td>\n",
              "      <td>NaN</td>\n",
              "      <td>NaN</td>\n",
              "      <td>NaN</td>\n",
              "      <td>NaN</td>\n",
              "      <td>NaN</td>\n",
              "      <td>NaN</td>\n",
              "      <td>NaN</td>\n",
              "      <td>NaN</td>\n",
              "      <td>NaN</td>\n",
              "      <td>NaN</td>\n",
              "      <td>NaN</td>\n",
              "      <td>NaN</td>\n",
              "      <td>NaN</td>\n",
              "      <td>NaN</td>\n",
              "      <td>NaN</td>\n",
              "      <td>NaN</td>\n",
              "      <td>NaN</td>\n",
              "      <td>NaN</td>\n",
              "      <td>NaN</td>\n",
              "      <td>NaN</td>\n",
              "      <td>NaN</td>\n",
              "      <td>NaN</td>\n",
              "      <td>NaN</td>\n",
              "      <td>NaN</td>\n",
              "      <td>NaN</td>\n",
              "      <td>NaN</td>\n",
              "      <td>NaN</td>\n",
              "      <td>NaN</td>\n",
              "    </tr>\n",
              "    <tr>\n",
              "      <th>3</th>\n",
              "      <td>AUTHORISATION</td>\n",
              "      <td>2020-10-12T10:15:56+02:00</td>\n",
              "      <td>RiideCompMP</td>\n",
              "      <td>PREAUTH_production_1741941</td>\n",
              "      <td>[CANCEL, CAPTURE, REFUND]</td>\n",
              "      <td>visa</td>\n",
              "      <td>4736024905567701</td>\n",
              "      <td>079556:8018:09/2025</td>\n",
              "      <td>true</td>\n",
              "      <td>0</td>\n",
              "      <td>N/A</td>\n",
              "      <td>00 : Approved or completed successfully</td>\n",
              "      <td>gocars</td>\n",
              "      <td>NaN</td>\n",
              "      <td>0</td>\n",
              "      <td>N/A</td>\n",
              "      <td>0</td>\n",
              "      <td>CardOnFile</td>\n",
              "      <td>false</td>\n",
              "      <td>NaN</td>\n",
              "      <td>visastandarddebit</td>\n",
              "      <td>gocars</td>\n",
              "      <td>0</td>\n",
              "      <td>33.0.1359</td>\n",
              "      <td>Other</td>\n",
              "      <td>jemilah al-masri</td>\n",
              "      <td>0</td>\n",
              "      <td>7514836450</td>\n",
              "      <td>0</td>\n",
              "      <td>false</td>\n",
              "      <td>false</td>\n",
              "      <td>N/A</td>\n",
              "      <td>jemilahsaleh81@gmail.com</td>\n",
              "      <td>0</td>\n",
              "      <td>N/A</td>\n",
              "      <td>0</td>\n",
              "      <td>+447514836450</td>\n",
              "      <td>N/A</td>\n",
              "      <td>0</td>\n",
              "      <td>00 : Approved or completed successfully</td>\n",
              "      <td>...</td>\n",
              "      <td>NaN</td>\n",
              "      <td>NaN</td>\n",
              "      <td>NaN</td>\n",
              "      <td>NaN</td>\n",
              "      <td>NaN</td>\n",
              "      <td>NaN</td>\n",
              "      <td>NaN</td>\n",
              "      <td>NaN</td>\n",
              "      <td>NaN</td>\n",
              "      <td>NaN</td>\n",
              "      <td>NaN</td>\n",
              "      <td>NaN</td>\n",
              "      <td>NaN</td>\n",
              "      <td>NaN</td>\n",
              "      <td>NaN</td>\n",
              "      <td>NaN</td>\n",
              "      <td>NaN</td>\n",
              "      <td>NaN</td>\n",
              "      <td>NaN</td>\n",
              "      <td>NaN</td>\n",
              "      <td>NaN</td>\n",
              "      <td>NaN</td>\n",
              "      <td>NaN</td>\n",
              "      <td>NaN</td>\n",
              "      <td>NaN</td>\n",
              "      <td>NaN</td>\n",
              "      <td>NaN</td>\n",
              "      <td>NaN</td>\n",
              "      <td>NaN</td>\n",
              "      <td>NaN</td>\n",
              "      <td>NaN</td>\n",
              "      <td>NaN</td>\n",
              "      <td>NaN</td>\n",
              "      <td>NaN</td>\n",
              "      <td>NaN</td>\n",
              "      <td>NaN</td>\n",
              "      <td>NaN</td>\n",
              "      <td>NaN</td>\n",
              "      <td>NaN</td>\n",
              "      <td>NaN</td>\n",
              "    </tr>\n",
              "    <tr>\n",
              "      <th>4</th>\n",
              "      <td>AUTHORISATION</td>\n",
              "      <td>2020-10-12T10:17:06+02:00</td>\n",
              "      <td>RiideCompMP</td>\n",
              "      <td>FINAL_PAYMENT_31080343</td>\n",
              "      <td>[CANCEL, CAPTURE, REFUND]</td>\n",
              "      <td>visa</td>\n",
              "      <td>4756024906267751</td>\n",
              "      <td>012379:3613:09/2022</td>\n",
              "      <td>true</td>\n",
              "      <td>0</td>\n",
              "      <td>N/A</td>\n",
              "      <td>00 : Approved or completed successfully</td>\n",
              "      <td>001</td>\n",
              "      <td>31080343</td>\n",
              "      <td>0</td>\n",
              "      <td>N/A</td>\n",
              "      <td>0</td>\n",
              "      <td>CardOnFile</td>\n",
              "      <td>false</td>\n",
              "      <td>39849093</td>\n",
              "      <td>visastandarddebit</td>\n",
              "      <td>001</td>\n",
              "      <td>0</td>\n",
              "      <td>33.0.1359</td>\n",
              "      <td>Other</td>\n",
              "      <td>Jake McIntosh</td>\n",
              "      <td>0</td>\n",
              "      <td>7407006368</td>\n",
              "      <td>0</td>\n",
              "      <td>false</td>\n",
              "      <td>false</td>\n",
              "      <td>N/A</td>\n",
              "      <td>jakekieron@hotmail.co.uk</td>\n",
              "      <td>0</td>\n",
              "      <td>N/A</td>\n",
              "      <td>0</td>\n",
              "      <td>+447407006368</td>\n",
              "      <td>N/A</td>\n",
              "      <td>0</td>\n",
              "      <td>00 : Approved or completed successfully</td>\n",
              "      <td>...</td>\n",
              "      <td>NaN</td>\n",
              "      <td>NaN</td>\n",
              "      <td>NaN</td>\n",
              "      <td>NaN</td>\n",
              "      <td>NaN</td>\n",
              "      <td>NaN</td>\n",
              "      <td>NaN</td>\n",
              "      <td>NaN</td>\n",
              "      <td>NaN</td>\n",
              "      <td>NaN</td>\n",
              "      <td>NaN</td>\n",
              "      <td>NaN</td>\n",
              "      <td>NaN</td>\n",
              "      <td>NaN</td>\n",
              "      <td>NaN</td>\n",
              "      <td>NaN</td>\n",
              "      <td>NaN</td>\n",
              "      <td>NaN</td>\n",
              "      <td>NaN</td>\n",
              "      <td>NaN</td>\n",
              "      <td>NaN</td>\n",
              "      <td>NaN</td>\n",
              "      <td>NaN</td>\n",
              "      <td>NaN</td>\n",
              "      <td>NaN</td>\n",
              "      <td>NaN</td>\n",
              "      <td>NaN</td>\n",
              "      <td>NaN</td>\n",
              "      <td>NaN</td>\n",
              "      <td>NaN</td>\n",
              "      <td>NaN</td>\n",
              "      <td>NaN</td>\n",
              "      <td>NaN</td>\n",
              "      <td>NaN</td>\n",
              "      <td>NaN</td>\n",
              "      <td>NaN</td>\n",
              "      <td>NaN</td>\n",
              "      <td>NaN</td>\n",
              "      <td>NaN</td>\n",
              "      <td>NaN</td>\n",
              "    </tr>\n",
              "  </tbody>\n",
              "</table>\n",
              "<p>5 rows × 158 columns</p>\n",
              "</div>"
            ],
            "text/plain": [
              "       eventCode  ... additionalData.authorisedAmountValue\n",
              "0  AUTHORISATION  ...                                  NaN\n",
              "1  AUTHORISATION  ...                                  NaN\n",
              "2  AUTHORISATION  ...                                  NaN\n",
              "3  AUTHORISATION  ...                                  NaN\n",
              "4  AUTHORISATION  ...                                  NaN\n",
              "\n",
              "[5 rows x 158 columns]"
            ]
          },
          "metadata": {
            "tags": []
          },
          "execution_count": 138
        }
      ]
    },
    {
      "cell_type": "code",
      "metadata": {
        "id": "BE-rBdG9TSsm"
      },
      "source": [
        "new_df = result[['external_id', 'chargeback']]"
      ],
      "execution_count": 139,
      "outputs": []
    },
    {
      "cell_type": "code",
      "metadata": {
        "id": "4vw5-70vT0kP"
      },
      "source": [
        "flat_df['pspReference']=flat_df['pspReference'].astype('int64')"
      ],
      "execution_count": 140,
      "outputs": []
    },
    {
      "cell_type": "code",
      "metadata": {
        "id": "zkwzNgU_TVwT"
      },
      "source": [
        "final_df = pd.merge(new_df, flat_df, left_on='external_id', right_on='pspReference')"
      ],
      "execution_count": 141,
      "outputs": []
    },
    {
      "cell_type": "code",
      "metadata": {
        "id": "K5fLQdqLVf-X",
        "colab": {
          "base_uri": "https://localhost:8080/"
        },
        "outputId": "118afc41-af83-4214-ce63-1b22aaf0e412"
      },
      "source": [
        "final_df.info()"
      ],
      "execution_count": 142,
      "outputs": [
        {
          "output_type": "stream",
          "text": [
            "<class 'pandas.core.frame.DataFrame'>\n",
            "Int64Index: 60221 entries, 0 to 60220\n",
            "Columns: 160 entries, external_id to additionalData.authorisedAmountValue\n",
            "dtypes: int64(4), object(156)\n",
            "memory usage: 74.0+ MB\n"
          ],
          "name": "stdout"
        }
      ]
    },
    {
      "cell_type": "code",
      "metadata": {
        "id": "40gB0tD-VsLv",
        "colab": {
          "base_uri": "https://localhost:8080/",
          "height": 446
        },
        "outputId": "afeb0875-0692-42b3-c3fc-11654dd8af63"
      },
      "source": [
        "final_df[final_df['chargeback']==1 ].head()"
      ],
      "execution_count": 143,
      "outputs": [
        {
          "output_type": "execute_result",
          "data": {
            "text/html": [
              "<div>\n",
              "<style scoped>\n",
              "    .dataframe tbody tr th:only-of-type {\n",
              "        vertical-align: middle;\n",
              "    }\n",
              "\n",
              "    .dataframe tbody tr th {\n",
              "        vertical-align: top;\n",
              "    }\n",
              "\n",
              "    .dataframe thead th {\n",
              "        text-align: right;\n",
              "    }\n",
              "</style>\n",
              "<table border=\"1\" class=\"dataframe\">\n",
              "  <thead>\n",
              "    <tr style=\"text-align: right;\">\n",
              "      <th></th>\n",
              "      <th>external_id</th>\n",
              "      <th>chargeback</th>\n",
              "      <th>eventCode</th>\n",
              "      <th>eventDate</th>\n",
              "      <th>merchantAccountCode</th>\n",
              "      <th>merchantReference</th>\n",
              "      <th>operations</th>\n",
              "      <th>paymentMethod</th>\n",
              "      <th>pspReference</th>\n",
              "      <th>reason</th>\n",
              "      <th>success</th>\n",
              "      <th>additionalData.fraudCheck-75-PaymentDetailCarteBancaireRefCheck</th>\n",
              "      <th>additionalData.eci</th>\n",
              "      <th>additionalData.refusalReasonRaw</th>\n",
              "      <th>additionalData.metadata.company</th>\n",
              "      <th>additionalData.metadata.booking_id</th>\n",
              "      <th>additionalData.fraudCheck-63-TransactionAmountCheck</th>\n",
              "      <th>additionalData.xid</th>\n",
              "      <th>additionalData.fraudCheck-52-DistinctPaymentDetailUsageByShopper</th>\n",
              "      <th>additionalData.recurringProcessingModel</th>\n",
              "      <th>additionalData.threeDAuthenticated</th>\n",
              "      <th>additionalData.metadata.icabbi_payment_id</th>\n",
              "      <th>additionalData.paymentMethodVariant</th>\n",
              "      <th>additionalData.riskdata.basket.item.brand</th>\n",
              "      <th>additionalData.fraudCheck-91-ShopperStrongAuthenticationCheck</th>\n",
              "      <th>additionalData.riskdata.shopperAppVersion</th>\n",
              "      <th>additionalData.deviceType</th>\n",
              "      <th>additionalData.metadata.shopper_name</th>\n",
              "      <th>additionalData.fraudCheck-54-DistinctSharedPaymentDetailUsageByShopper</th>\n",
              "      <th>additionalData.metadata.shopper_phone</th>\n",
              "      <th>additionalData.fraudCheck-77-EmailSyntaxCheck</th>\n",
              "      <th>additionalData.fraudManualReview</th>\n",
              "      <th>additionalData.threeDOffered</th>\n",
              "      <th>additionalData.threeDOfferedResponse</th>\n",
              "      <th>additionalData.shopperEmail</th>\n",
              "      <th>additionalData.fraudCheck-86-PaymentDetailAmexRefCheck</th>\n",
              "      <th>additionalData.cavv</th>\n",
              "      <th>additionalData.fraudCheck-46-DistinctCountryUsageByShopper</th>\n",
              "      <th>additionalData.shopperTelephone</th>\n",
              "      <th>additionalData.threeDAuthenticatedResponse</th>\n",
              "      <th>...</th>\n",
              "      <th>additionalData.riskdata.numberFieldKeyCount</th>\n",
              "      <th>additionalData.recurring.recurringDetailReference</th>\n",
              "      <th>additionalData.fraudCheck-2-CardChunkUsage</th>\n",
              "      <th>additionalData.riskdata.referrer</th>\n",
              "      <th>additionalData.riskdata.luhnCount</th>\n",
              "      <th>additionalData.riskdata.LuhnSameLengthCount</th>\n",
              "      <th>additionalData.fraudCheck-3-PaymentDetailUsage</th>\n",
              "      <th>additionalData.riskdata.numberFieldFocusCount</th>\n",
              "      <th>additionalData.riskdata.initializeCount</th>\n",
              "      <th>additionalData.recurring.shopperReference</th>\n",
              "      <th>additionalData.fraudCheck-55-ShopperAuthorisedFrequency</th>\n",
              "      <th>additionalData.cardIssuingCurrency</th>\n",
              "      <th>additionalData.riskProfile</th>\n",
              "      <th>additionalData.riskProfileReference</th>\n",
              "      <th>additionalData.metadata.link_id</th>\n",
              "      <th>additionalData.cvcResultRaw</th>\n",
              "      <th>additionalData.fraudCheck-4-HolderNameUsage</th>\n",
              "      <th>additionalData.riskdata.numberFieldClickCount</th>\n",
              "      <th>additionalData.cardIssuingCountry</th>\n",
              "      <th>additionalData.cardIssuingBank</th>\n",
              "      <th>additionalData.fraudCheck-78-ShopperBehaviorCheck</th>\n",
              "      <th>additionalData.riskdata.numberFieldBlurCount</th>\n",
              "      <th>additionalData.cardPaymentMethod</th>\n",
              "      <th>additionalData.riskdata.numberFieldLog</th>\n",
              "      <th>additionalData.accountValidation</th>\n",
              "      <th>additionalData.fraudCheck-8-ShopperEmailUsage</th>\n",
              "      <th>additionalData.coBrandedWith</th>\n",
              "      <th>additionalData.retry.attempt2.responseCode</th>\n",
              "      <th>additionalData.retry.attempt2.rawResponse</th>\n",
              "      <th>additionalData.retry.attempt2.acquirerAccount</th>\n",
              "      <th>additionalData.retry.attempt2.acquirer</th>\n",
              "      <th>additionalData.metadata.caboodle_base_uri</th>\n",
              "      <th>additionalData.metadata.restaurant_id</th>\n",
              "      <th>additionalData.retry.attempt2.avsResultRaw</th>\n",
              "      <th>additionalData.threeDSVersion</th>\n",
              "      <th>additionalData.fraudCheck--1-Pre-Auth-Risk-Total</th>\n",
              "      <th>additionalData.riskdata.numberFieldEventHandlers</th>\n",
              "      <th>additionalData.riskdata.numberFieldUnknownKeys</th>\n",
              "      <th>additionalData.authorisedAmountCurrency</th>\n",
              "      <th>additionalData.authorisedAmountValue</th>\n",
              "    </tr>\n",
              "  </thead>\n",
              "  <tbody>\n",
              "    <tr>\n",
              "      <th>35838</th>\n",
              "      <td>1339035313665462</td>\n",
              "      <td>1</td>\n",
              "      <td>AUTHORISATION</td>\n",
              "      <td>2020-10-24T11:22:46+02:00</td>\n",
              "      <td>RiideCompMP</td>\n",
              "      <td>PREAUTH_production_1864086</td>\n",
              "      <td>[CANCEL, CAPTURE, REFUND]</td>\n",
              "      <td>visa</td>\n",
              "      <td>1339035313665462</td>\n",
              "      <td>766845:5024:09/2021</td>\n",
              "      <td>true</td>\n",
              "      <td>0</td>\n",
              "      <td>N/A</td>\n",
              "      <td>00 : Approved or completed successfully</td>\n",
              "      <td>clubm</td>\n",
              "      <td>NaN</td>\n",
              "      <td>0</td>\n",
              "      <td>N/A</td>\n",
              "      <td>0</td>\n",
              "      <td>CardOnFile</td>\n",
              "      <td>false</td>\n",
              "      <td>NaN</td>\n",
              "      <td>visastandarddebit</td>\n",
              "      <td>clubm</td>\n",
              "      <td>0</td>\n",
              "      <td>333.0.705</td>\n",
              "      <td>Other</td>\n",
              "      <td>Becky Marsom</td>\n",
              "      <td>0</td>\n",
              "      <td>7909172744</td>\n",
              "      <td>0</td>\n",
              "      <td>false</td>\n",
              "      <td>false</td>\n",
              "      <td>N/A</td>\n",
              "      <td>beckymarsden123@hotmail.com</td>\n",
              "      <td>0</td>\n",
              "      <td>N/A</td>\n",
              "      <td>0</td>\n",
              "      <td>+447909172744</td>\n",
              "      <td>N/A</td>\n",
              "      <td>...</td>\n",
              "      <td>NaN</td>\n",
              "      <td>NaN</td>\n",
              "      <td>NaN</td>\n",
              "      <td>NaN</td>\n",
              "      <td>NaN</td>\n",
              "      <td>NaN</td>\n",
              "      <td>NaN</td>\n",
              "      <td>NaN</td>\n",
              "      <td>NaN</td>\n",
              "      <td>NaN</td>\n",
              "      <td>NaN</td>\n",
              "      <td>NaN</td>\n",
              "      <td>NaN</td>\n",
              "      <td>NaN</td>\n",
              "      <td>NaN</td>\n",
              "      <td>NaN</td>\n",
              "      <td>NaN</td>\n",
              "      <td>NaN</td>\n",
              "      <td>NaN</td>\n",
              "      <td>NaN</td>\n",
              "      <td>NaN</td>\n",
              "      <td>NaN</td>\n",
              "      <td>NaN</td>\n",
              "      <td>NaN</td>\n",
              "      <td>NaN</td>\n",
              "      <td>NaN</td>\n",
              "      <td>NaN</td>\n",
              "      <td>NaN</td>\n",
              "      <td>NaN</td>\n",
              "      <td>NaN</td>\n",
              "      <td>NaN</td>\n",
              "      <td>NaN</td>\n",
              "      <td>NaN</td>\n",
              "      <td>NaN</td>\n",
              "      <td>NaN</td>\n",
              "      <td>NaN</td>\n",
              "      <td>NaN</td>\n",
              "      <td>NaN</td>\n",
              "      <td>NaN</td>\n",
              "      <td>NaN</td>\n",
              "    </tr>\n",
              "    <tr>\n",
              "      <th>39271</th>\n",
              "      <td>1749036467978143</td>\n",
              "      <td>1</td>\n",
              "      <td>AUTHORISATION</td>\n",
              "      <td>2020-10-25T18:26:37+01:00</td>\n",
              "      <td>RiideCompMP</td>\n",
              "      <td>PREAUTH_production_1881704</td>\n",
              "      <td>[CANCEL, CAPTURE, REFUND]</td>\n",
              "      <td>visa</td>\n",
              "      <td>1749036467978143</td>\n",
              "      <td>004544:7114:07/2022</td>\n",
              "      <td>true</td>\n",
              "      <td>0</td>\n",
              "      <td>N/A</td>\n",
              "      <td>00 : Approved or completed successfully</td>\n",
              "      <td>clubm</td>\n",
              "      <td>NaN</td>\n",
              "      <td>0</td>\n",
              "      <td>N/A</td>\n",
              "      <td>0</td>\n",
              "      <td>CardOnFile</td>\n",
              "      <td>false</td>\n",
              "      <td>NaN</td>\n",
              "      <td>visastandarddebit</td>\n",
              "      <td>clubm</td>\n",
              "      <td>0</td>\n",
              "      <td>33.0.1359</td>\n",
              "      <td>Other</td>\n",
              "      <td>antt antt</td>\n",
              "      <td>0</td>\n",
              "      <td>7944351365</td>\n",
              "      <td>40</td>\n",
              "      <td>false</td>\n",
              "      <td>false</td>\n",
              "      <td>N/A</td>\n",
              "      <td>antt18804@gmail.com</td>\n",
              "      <td>0</td>\n",
              "      <td>N/A</td>\n",
              "      <td>0</td>\n",
              "      <td>+447944351365</td>\n",
              "      <td>N/A</td>\n",
              "      <td>...</td>\n",
              "      <td>NaN</td>\n",
              "      <td>NaN</td>\n",
              "      <td>NaN</td>\n",
              "      <td>NaN</td>\n",
              "      <td>NaN</td>\n",
              "      <td>NaN</td>\n",
              "      <td>NaN</td>\n",
              "      <td>NaN</td>\n",
              "      <td>NaN</td>\n",
              "      <td>NaN</td>\n",
              "      <td>NaN</td>\n",
              "      <td>NaN</td>\n",
              "      <td>NaN</td>\n",
              "      <td>NaN</td>\n",
              "      <td>NaN</td>\n",
              "      <td>NaN</td>\n",
              "      <td>NaN</td>\n",
              "      <td>NaN</td>\n",
              "      <td>NaN</td>\n",
              "      <td>NaN</td>\n",
              "      <td>NaN</td>\n",
              "      <td>NaN</td>\n",
              "      <td>NaN</td>\n",
              "      <td>NaN</td>\n",
              "      <td>NaN</td>\n",
              "      <td>NaN</td>\n",
              "      <td>NaN</td>\n",
              "      <td>NaN</td>\n",
              "      <td>NaN</td>\n",
              "      <td>NaN</td>\n",
              "      <td>NaN</td>\n",
              "      <td>NaN</td>\n",
              "      <td>NaN</td>\n",
              "      <td>NaN</td>\n",
              "      <td>NaN</td>\n",
              "      <td>NaN</td>\n",
              "      <td>NaN</td>\n",
              "      <td>NaN</td>\n",
              "      <td>NaN</td>\n",
              "      <td>NaN</td>\n",
              "    </tr>\n",
              "    <tr>\n",
              "      <th>41786</th>\n",
              "      <td>1749020310512796</td>\n",
              "      <td>1</td>\n",
              "      <td>AUTHORISATION</td>\n",
              "      <td>2020-10-07T02:37:31+02:00</td>\n",
              "      <td>RiideCompMP</td>\n",
              "      <td>FINAL_PAYMENT_30797514</td>\n",
              "      <td>[CANCEL, CAPTURE, REFUND]</td>\n",
              "      <td>visa</td>\n",
              "      <td>1749020310512796</td>\n",
              "      <td>470282:1601:08/2025</td>\n",
              "      <td>true</td>\n",
              "      <td>0</td>\n",
              "      <td>N/A</td>\n",
              "      <td>00 : Approved or completed successfully</td>\n",
              "      <td>247carz</td>\n",
              "      <td>30797514</td>\n",
              "      <td>0</td>\n",
              "      <td>N/A</td>\n",
              "      <td>0</td>\n",
              "      <td>CardOnFile</td>\n",
              "      <td>false</td>\n",
              "      <td>34748059</td>\n",
              "      <td>visastandarddebit</td>\n",
              "      <td>247carz</td>\n",
              "      <td>0</td>\n",
              "      <td>33.0.1359</td>\n",
              "      <td>Other</td>\n",
              "      <td>Sheila Newman</td>\n",
              "      <td>0</td>\n",
              "      <td>7825199217</td>\n",
              "      <td>0</td>\n",
              "      <td>false</td>\n",
              "      <td>false</td>\n",
              "      <td>N/A</td>\n",
              "      <td>lewisjoanna519@gmail.com</td>\n",
              "      <td>0</td>\n",
              "      <td>N/A</td>\n",
              "      <td>0</td>\n",
              "      <td>+447825199217</td>\n",
              "      <td>N/A</td>\n",
              "      <td>...</td>\n",
              "      <td>NaN</td>\n",
              "      <td>NaN</td>\n",
              "      <td>NaN</td>\n",
              "      <td>NaN</td>\n",
              "      <td>NaN</td>\n",
              "      <td>NaN</td>\n",
              "      <td>NaN</td>\n",
              "      <td>NaN</td>\n",
              "      <td>NaN</td>\n",
              "      <td>NaN</td>\n",
              "      <td>NaN</td>\n",
              "      <td>NaN</td>\n",
              "      <td>NaN</td>\n",
              "      <td>NaN</td>\n",
              "      <td>NaN</td>\n",
              "      <td>NaN</td>\n",
              "      <td>NaN</td>\n",
              "      <td>NaN</td>\n",
              "      <td>NaN</td>\n",
              "      <td>NaN</td>\n",
              "      <td>NaN</td>\n",
              "      <td>NaN</td>\n",
              "      <td>NaN</td>\n",
              "      <td>NaN</td>\n",
              "      <td>NaN</td>\n",
              "      <td>NaN</td>\n",
              "      <td>NaN</td>\n",
              "      <td>NaN</td>\n",
              "      <td>NaN</td>\n",
              "      <td>NaN</td>\n",
              "      <td>NaN</td>\n",
              "      <td>NaN</td>\n",
              "      <td>NaN</td>\n",
              "      <td>NaN</td>\n",
              "      <td>NaN</td>\n",
              "      <td>NaN</td>\n",
              "      <td>NaN</td>\n",
              "      <td>NaN</td>\n",
              "      <td>NaN</td>\n",
              "      <td>NaN</td>\n",
              "    </tr>\n",
              "    <tr>\n",
              "      <th>57585</th>\n",
              "      <td>1656037427390628</td>\n",
              "      <td>1</td>\n",
              "      <td>AUTHORISATION</td>\n",
              "      <td>2020-10-26T21:05:39+01:00</td>\n",
              "      <td>RiideCompMP</td>\n",
              "      <td>FINAL_PAYMENT_31791774</td>\n",
              "      <td>[CANCEL, CAPTURE, REFUND]</td>\n",
              "      <td>visa</td>\n",
              "      <td>1656037427390628</td>\n",
              "      <td>616724:5713:01/2023</td>\n",
              "      <td>true</td>\n",
              "      <td>0</td>\n",
              "      <td>N/A</td>\n",
              "      <td>00 : Approved or completed successfully</td>\n",
              "      <td>skyline</td>\n",
              "      <td>31791774</td>\n",
              "      <td>0</td>\n",
              "      <td>N/A</td>\n",
              "      <td>0</td>\n",
              "      <td>CardOnFile</td>\n",
              "      <td>false</td>\n",
              "      <td>18414268</td>\n",
              "      <td>visastandarddebit</td>\n",
              "      <td>skyline</td>\n",
              "      <td>-30</td>\n",
              "      <td>33.0.1359</td>\n",
              "      <td>Other</td>\n",
              "      <td>Jason G</td>\n",
              "      <td>0</td>\n",
              "      <td>7506216718</td>\n",
              "      <td>0</td>\n",
              "      <td>false</td>\n",
              "      <td>false</td>\n",
              "      <td>N/A</td>\n",
              "      <td>agerada78@gmail.com</td>\n",
              "      <td>0</td>\n",
              "      <td>N/A</td>\n",
              "      <td>0</td>\n",
              "      <td>+447506216718</td>\n",
              "      <td>N/A</td>\n",
              "      <td>...</td>\n",
              "      <td>NaN</td>\n",
              "      <td>NaN</td>\n",
              "      <td>NaN</td>\n",
              "      <td>NaN</td>\n",
              "      <td>NaN</td>\n",
              "      <td>NaN</td>\n",
              "      <td>NaN</td>\n",
              "      <td>NaN</td>\n",
              "      <td>NaN</td>\n",
              "      <td>NaN</td>\n",
              "      <td>NaN</td>\n",
              "      <td>NaN</td>\n",
              "      <td>NaN</td>\n",
              "      <td>NaN</td>\n",
              "      <td>NaN</td>\n",
              "      <td>NaN</td>\n",
              "      <td>NaN</td>\n",
              "      <td>NaN</td>\n",
              "      <td>NaN</td>\n",
              "      <td>NaN</td>\n",
              "      <td>NaN</td>\n",
              "      <td>NaN</td>\n",
              "      <td>NaN</td>\n",
              "      <td>NaN</td>\n",
              "      <td>NaN</td>\n",
              "      <td>NaN</td>\n",
              "      <td>NaN</td>\n",
              "      <td>NaN</td>\n",
              "      <td>NaN</td>\n",
              "      <td>NaN</td>\n",
              "      <td>NaN</td>\n",
              "      <td>NaN</td>\n",
              "      <td>NaN</td>\n",
              "      <td>NaN</td>\n",
              "      <td>NaN</td>\n",
              "      <td>NaN</td>\n",
              "      <td>NaN</td>\n",
              "      <td>NaN</td>\n",
              "      <td>NaN</td>\n",
              "      <td>NaN</td>\n",
              "    </tr>\n",
              "    <tr>\n",
              "      <th>59485</th>\n",
              "      <td>1359039953970328</td>\n",
              "      <td>1</td>\n",
              "      <td>AUTHORISATION</td>\n",
              "      <td>2020-10-29T19:16:37+01:00</td>\n",
              "      <td>RiideCompMP</td>\n",
              "      <td>PREAUTH_production_1920803</td>\n",
              "      <td>[CANCEL, CAPTURE, REFUND]</td>\n",
              "      <td>visa</td>\n",
              "      <td>1359039953970328</td>\n",
              "      <td>733763:2440:06/2023</td>\n",
              "      <td>true</td>\n",
              "      <td>0</td>\n",
              "      <td>N/A</td>\n",
              "      <td>00 : Approved or completed successfully</td>\n",
              "      <td>247carz</td>\n",
              "      <td>NaN</td>\n",
              "      <td>0</td>\n",
              "      <td>N/A</td>\n",
              "      <td>0</td>\n",
              "      <td>CardOnFile</td>\n",
              "      <td>false</td>\n",
              "      <td>NaN</td>\n",
              "      <td>visastandarddebit</td>\n",
              "      <td>247carz</td>\n",
              "      <td>-30</td>\n",
              "      <td>333.0.705</td>\n",
              "      <td>Other</td>\n",
              "      <td>ABDI</td>\n",
              "      <td>0</td>\n",
              "      <td>7943757567</td>\n",
              "      <td>NaN</td>\n",
              "      <td>false</td>\n",
              "      <td>false</td>\n",
              "      <td>N/A</td>\n",
              "      <td>NaN</td>\n",
              "      <td>0</td>\n",
              "      <td>N/A</td>\n",
              "      <td>0</td>\n",
              "      <td>+447943757567</td>\n",
              "      <td>N/A</td>\n",
              "      <td>...</td>\n",
              "      <td>NaN</td>\n",
              "      <td>NaN</td>\n",
              "      <td>NaN</td>\n",
              "      <td>NaN</td>\n",
              "      <td>NaN</td>\n",
              "      <td>NaN</td>\n",
              "      <td>NaN</td>\n",
              "      <td>NaN</td>\n",
              "      <td>NaN</td>\n",
              "      <td>NaN</td>\n",
              "      <td>NaN</td>\n",
              "      <td>NaN</td>\n",
              "      <td>NaN</td>\n",
              "      <td>NaN</td>\n",
              "      <td>NaN</td>\n",
              "      <td>NaN</td>\n",
              "      <td>NaN</td>\n",
              "      <td>NaN</td>\n",
              "      <td>NaN</td>\n",
              "      <td>NaN</td>\n",
              "      <td>NaN</td>\n",
              "      <td>NaN</td>\n",
              "      <td>NaN</td>\n",
              "      <td>NaN</td>\n",
              "      <td>NaN</td>\n",
              "      <td>NaN</td>\n",
              "      <td>NaN</td>\n",
              "      <td>NaN</td>\n",
              "      <td>NaN</td>\n",
              "      <td>NaN</td>\n",
              "      <td>NaN</td>\n",
              "      <td>NaN</td>\n",
              "      <td>NaN</td>\n",
              "      <td>NaN</td>\n",
              "      <td>NaN</td>\n",
              "      <td>NaN</td>\n",
              "      <td>NaN</td>\n",
              "      <td>NaN</td>\n",
              "      <td>NaN</td>\n",
              "      <td>NaN</td>\n",
              "    </tr>\n",
              "  </tbody>\n",
              "</table>\n",
              "<p>5 rows × 160 columns</p>\n",
              "</div>"
            ],
            "text/plain": [
              "            external_id  ...  additionalData.authorisedAmountValue\n",
              "35838  1339035313665462  ...                                   NaN\n",
              "39271  1749036467978143  ...                                   NaN\n",
              "41786  1749020310512796  ...                                   NaN\n",
              "57585  1656037427390628  ...                                   NaN\n",
              "59485  1359039953970328  ...                                   NaN\n",
              "\n",
              "[5 rows x 160 columns]"
            ]
          },
          "metadata": {
            "tags": []
          },
          "execution_count": 143
        }
      ]
    },
    {
      "cell_type": "markdown",
      "metadata": {
        "id": "3sDnPjVxLbWv"
      },
      "source": [
        "Dropping continous columns"
      ]
    },
    {
      "cell_type": "code",
      "metadata": {
        "id": "afSbGkbPLdRi"
      },
      "source": [
        "final_df=final_df.rename(columns=lambda x:x.replace('additionalData.',''))"
      ],
      "execution_count": 144,
      "outputs": []
    },
    {
      "cell_type": "code",
      "metadata": {
        "id": "n7GRcv-wMABN",
        "colab": {
          "base_uri": "https://localhost:8080/",
          "height": 210
        },
        "outputId": "867d5478-c454-4107-e4db-3b4898f2eedd"
      },
      "source": [
        "final_df.head(1)"
      ],
      "execution_count": 145,
      "outputs": [
        {
          "output_type": "execute_result",
          "data": {
            "text/html": [
              "<div>\n",
              "<style scoped>\n",
              "    .dataframe tbody tr th:only-of-type {\n",
              "        vertical-align: middle;\n",
              "    }\n",
              "\n",
              "    .dataframe tbody tr th {\n",
              "        vertical-align: top;\n",
              "    }\n",
              "\n",
              "    .dataframe thead th {\n",
              "        text-align: right;\n",
              "    }\n",
              "</style>\n",
              "<table border=\"1\" class=\"dataframe\">\n",
              "  <thead>\n",
              "    <tr style=\"text-align: right;\">\n",
              "      <th></th>\n",
              "      <th>external_id</th>\n",
              "      <th>chargeback</th>\n",
              "      <th>eventCode</th>\n",
              "      <th>eventDate</th>\n",
              "      <th>merchantAccountCode</th>\n",
              "      <th>merchantReference</th>\n",
              "      <th>operations</th>\n",
              "      <th>paymentMethod</th>\n",
              "      <th>pspReference</th>\n",
              "      <th>reason</th>\n",
              "      <th>success</th>\n",
              "      <th>fraudCheck-75-PaymentDetailCarteBancaireRefCheck</th>\n",
              "      <th>eci</th>\n",
              "      <th>refusalReasonRaw</th>\n",
              "      <th>metadata.company</th>\n",
              "      <th>metadata.booking_id</th>\n",
              "      <th>fraudCheck-63-TransactionAmountCheck</th>\n",
              "      <th>xid</th>\n",
              "      <th>fraudCheck-52-DistinctPaymentDetailUsageByShopper</th>\n",
              "      <th>recurringProcessingModel</th>\n",
              "      <th>threeDAuthenticated</th>\n",
              "      <th>metadata.icabbi_payment_id</th>\n",
              "      <th>paymentMethodVariant</th>\n",
              "      <th>riskdata.basket.item.brand</th>\n",
              "      <th>fraudCheck-91-ShopperStrongAuthenticationCheck</th>\n",
              "      <th>riskdata.shopperAppVersion</th>\n",
              "      <th>deviceType</th>\n",
              "      <th>metadata.shopper_name</th>\n",
              "      <th>fraudCheck-54-DistinctSharedPaymentDetailUsageByShopper</th>\n",
              "      <th>metadata.shopper_phone</th>\n",
              "      <th>fraudCheck-77-EmailSyntaxCheck</th>\n",
              "      <th>fraudManualReview</th>\n",
              "      <th>threeDOffered</th>\n",
              "      <th>threeDOfferedResponse</th>\n",
              "      <th>shopperEmail</th>\n",
              "      <th>fraudCheck-86-PaymentDetailAmexRefCheck</th>\n",
              "      <th>cavv</th>\n",
              "      <th>fraudCheck-46-DistinctCountryUsageByShopper</th>\n",
              "      <th>shopperTelephone</th>\n",
              "      <th>threeDAuthenticatedResponse</th>\n",
              "      <th>...</th>\n",
              "      <th>riskdata.numberFieldKeyCount</th>\n",
              "      <th>recurring.recurringDetailReference</th>\n",
              "      <th>fraudCheck-2-CardChunkUsage</th>\n",
              "      <th>riskdata.referrer</th>\n",
              "      <th>riskdata.luhnCount</th>\n",
              "      <th>riskdata.LuhnSameLengthCount</th>\n",
              "      <th>fraudCheck-3-PaymentDetailUsage</th>\n",
              "      <th>riskdata.numberFieldFocusCount</th>\n",
              "      <th>riskdata.initializeCount</th>\n",
              "      <th>recurring.shopperReference</th>\n",
              "      <th>fraudCheck-55-ShopperAuthorisedFrequency</th>\n",
              "      <th>cardIssuingCurrency</th>\n",
              "      <th>riskProfile</th>\n",
              "      <th>riskProfileReference</th>\n",
              "      <th>metadata.link_id</th>\n",
              "      <th>cvcResultRaw</th>\n",
              "      <th>fraudCheck-4-HolderNameUsage</th>\n",
              "      <th>riskdata.numberFieldClickCount</th>\n",
              "      <th>cardIssuingCountry</th>\n",
              "      <th>cardIssuingBank</th>\n",
              "      <th>fraudCheck-78-ShopperBehaviorCheck</th>\n",
              "      <th>riskdata.numberFieldBlurCount</th>\n",
              "      <th>cardPaymentMethod</th>\n",
              "      <th>riskdata.numberFieldLog</th>\n",
              "      <th>accountValidation</th>\n",
              "      <th>fraudCheck-8-ShopperEmailUsage</th>\n",
              "      <th>coBrandedWith</th>\n",
              "      <th>retry.attempt2.responseCode</th>\n",
              "      <th>retry.attempt2.rawResponse</th>\n",
              "      <th>retry.attempt2.acquirerAccount</th>\n",
              "      <th>retry.attempt2.acquirer</th>\n",
              "      <th>metadata.caboodle_base_uri</th>\n",
              "      <th>metadata.restaurant_id</th>\n",
              "      <th>retry.attempt2.avsResultRaw</th>\n",
              "      <th>threeDSVersion</th>\n",
              "      <th>fraudCheck--1-Pre-Auth-Risk-Total</th>\n",
              "      <th>riskdata.numberFieldEventHandlers</th>\n",
              "      <th>riskdata.numberFieldUnknownKeys</th>\n",
              "      <th>authorisedAmountCurrency</th>\n",
              "      <th>authorisedAmountValue</th>\n",
              "    </tr>\n",
              "  </thead>\n",
              "  <tbody>\n",
              "    <tr>\n",
              "      <th>0</th>\n",
              "      <td>6159024905231228</td>\n",
              "      <td>0</td>\n",
              "      <td>AUTHORISATION</td>\n",
              "      <td>2020-10-12T10:15:23+02:00</td>\n",
              "      <td>RiideCompMP</td>\n",
              "      <td>FINAL_PAYMENT_31079730</td>\n",
              "      <td>[CANCEL, CAPTURE, REFUND]</td>\n",
              "      <td>visa</td>\n",
              "      <td>6159024905231228</td>\n",
              "      <td>004038:3972:12/2024</td>\n",
              "      <td>true</td>\n",
              "      <td>0</td>\n",
              "      <td>N/A</td>\n",
              "      <td>00 : Approved or completed successfully</td>\n",
              "      <td>asl</td>\n",
              "      <td>31079730</td>\n",
              "      <td>0</td>\n",
              "      <td>N/A</td>\n",
              "      <td>0</td>\n",
              "      <td>CardOnFile</td>\n",
              "      <td>false</td>\n",
              "      <td>53576144</td>\n",
              "      <td>visastandarddebit</td>\n",
              "      <td>asl</td>\n",
              "      <td>0</td>\n",
              "      <td>333.0.705</td>\n",
              "      <td>Other</td>\n",
              "      <td>James Fox</td>\n",
              "      <td>0</td>\n",
              "      <td>7944633008</td>\n",
              "      <td>20</td>\n",
              "      <td>false</td>\n",
              "      <td>false</td>\n",
              "      <td>N/A</td>\n",
              "      <td>Jfox2707@gmail.com</td>\n",
              "      <td>0</td>\n",
              "      <td>N/A</td>\n",
              "      <td>0</td>\n",
              "      <td>+447944633008</td>\n",
              "      <td>N/A</td>\n",
              "      <td>...</td>\n",
              "      <td>NaN</td>\n",
              "      <td>NaN</td>\n",
              "      <td>NaN</td>\n",
              "      <td>NaN</td>\n",
              "      <td>NaN</td>\n",
              "      <td>NaN</td>\n",
              "      <td>NaN</td>\n",
              "      <td>NaN</td>\n",
              "      <td>NaN</td>\n",
              "      <td>NaN</td>\n",
              "      <td>NaN</td>\n",
              "      <td>NaN</td>\n",
              "      <td>NaN</td>\n",
              "      <td>NaN</td>\n",
              "      <td>NaN</td>\n",
              "      <td>NaN</td>\n",
              "      <td>NaN</td>\n",
              "      <td>NaN</td>\n",
              "      <td>NaN</td>\n",
              "      <td>NaN</td>\n",
              "      <td>NaN</td>\n",
              "      <td>NaN</td>\n",
              "      <td>NaN</td>\n",
              "      <td>NaN</td>\n",
              "      <td>NaN</td>\n",
              "      <td>NaN</td>\n",
              "      <td>NaN</td>\n",
              "      <td>NaN</td>\n",
              "      <td>NaN</td>\n",
              "      <td>NaN</td>\n",
              "      <td>NaN</td>\n",
              "      <td>NaN</td>\n",
              "      <td>NaN</td>\n",
              "      <td>NaN</td>\n",
              "      <td>NaN</td>\n",
              "      <td>NaN</td>\n",
              "      <td>NaN</td>\n",
              "      <td>NaN</td>\n",
              "      <td>NaN</td>\n",
              "      <td>NaN</td>\n",
              "    </tr>\n",
              "  </tbody>\n",
              "</table>\n",
              "<p>1 rows × 160 columns</p>\n",
              "</div>"
            ],
            "text/plain": [
              "        external_id  chargeback  ... authorisedAmountCurrency authorisedAmountValue\n",
              "0  6159024905231228           0  ...                      NaN                   NaN\n",
              "\n",
              "[1 rows x 160 columns]"
            ]
          },
          "metadata": {
            "tags": []
          },
          "execution_count": 145
        }
      ]
    },
    {
      "cell_type": "code",
      "metadata": {
        "id": "4DzFTeDA93R-"
      },
      "source": [
        "final_df = final_df.drop( [\n",
        "#dropping few columns with continous data\n",
        "#'pspReference',\n",
        "#'external_id', \n",
        "'metadata.booking_no',\n",
        "'metadata.link_id', \n",
        "'metadata.booking_id',\n",
        "'metadata.payment_id',\n",
        "'acquirerReference',\n",
        "'metadata.type',\n",
        "'PaymentAccountReference',\n",
        "'fraudResultType',\n",
        "'metadata.shopper_riide_id',\n",
        "'metadata.icabbi_payment_id', \n",
        "'metadata.preauth_id',\n",
        "#'metadata.payment_relation_id',\n",
        "'riskProfileReference',\n",
        "#'riskExperimentReference',\n",
        "'cavv','success','riskProfile',\n",
        "'metadata.caboodle_base_uri',\n",
        "'metadata.riide_url',\n",
        "'totalFraudScore',\n",
        "'hmacSignature',\n",
        "'recurring.recurringDetailReference',\n",
        "'authCode',\n",
        "'recurring.shopperReference',\n",
        "'operations',\n",
        "'merchantReference',\n",
        "'retry.attempt1.acquirer',\n",
        "'riskdata.basket.item.itemID',\n",
        "'merchantAccountCode',\n",
        "'riskdata.referrer',\n",
        "'aliasType',\n",
        "#reason has few values as fraud with some numbers\n",
        "'reason',\n",
        "#some wired noise\n",
        "#'metadata.splits',\n",
        "#continous alphnumeric column\n",
        "#'metadata.payment_relation_type' \n",
        "'alias',\n",
        "#'shopperReference',\n",
        "#duplicate column saem as bracd and company\n",
        "'shopperStatement',\n",
        "# useless\n",
        "'fraudManualReview',\n",
        "'cardSummary',\n",
        "'cvcResult',\n",
        "'xid',\n",
        "'cardBin',\n",
        "#app version is not worth exploring i think\n",
        "'riskdata.shopperAppVersion'\n",
        ",'captureDelayHours',\n",
        "'metadata.auto_capture',\n",
        "'billingAddress.street',\n",
        "'billingAddress.city',\n",
        "'billingAddress.houseNumberOrName',\n",
        "'accountValidation',\n",
        "'metadata.restaurant_id',\n",
        "#dropping columns with 3DS\n",
        "'threeDOfferedResponse','threeDAuthenticatedResponse','threeDSVersion',\n",
        "'threeDAuthenticated','threeDOffered'\n",
        "\n",
        "],axis=1)"
      ],
      "execution_count": 146,
      "outputs": []
    },
    {
      "cell_type": "code",
      "metadata": {
        "id": "rEoSU9lWMRsb",
        "colab": {
          "base_uri": "https://localhost:8080/"
        },
        "outputId": "ee64af64-0f1f-49b6-f49e-1f63a0dff57d"
      },
      "source": [
        "spike_cols = [col for col in final_df.columns if 'splits' in col]\n",
        "print(spike_cols)"
      ],
      "execution_count": 147,
      "outputs": [
        {
          "output_type": "stream",
          "text": [
            "[]\n"
          ],
          "name": "stdout"
        }
      ]
    },
    {
      "cell_type": "markdown",
      "metadata": {
        "id": "CBUthbZhNMDr"
      },
      "source": [
        "Adding Card holder name and shopper name"
      ]
    },
    {
      "cell_type": "code",
      "metadata": {
        "id": "6-bkDsj5NOmj"
      },
      "source": [
        "final_df['shp_card_name_match'] = final_df['cardHolderName'].str.lower() == final_df['metadata.shopper_name'].str.lower()"
      ],
      "execution_count": 148,
      "outputs": []
    },
    {
      "cell_type": "markdown",
      "metadata": {
        "id": "xsys3CGiNYva"
      },
      "source": [
        "Dropping event code"
      ]
    },
    {
      "cell_type": "code",
      "metadata": {
        "id": "PIWT_nnjNaDz"
      },
      "source": [
        "final_df = final_df.drop('eventCode', axis=1)"
      ],
      "execution_count": 149,
      "outputs": []
    },
    {
      "cell_type": "markdown",
      "metadata": {
        "id": "_byPCcJBNpuD"
      },
      "source": [
        "iSCard Commericial"
      ]
    },
    {
      "cell_type": "code",
      "metadata": {
        "id": "W3QyPXEwL5yh"
      },
      "source": [
        "#updating values to all caps for isommercial\n",
        "final_df['isCardCommercial'] = final_df['isCardCommercial'].str.upper() "
      ],
      "execution_count": 150,
      "outputs": []
    },
    {
      "cell_type": "code",
      "metadata": {
        "id": "4ZX9mjfJBD09"
      },
      "source": [
        "from sklearn.preprocessing import LabelEncoder\n",
        "le = LabelEncoder()\n",
        "final_df['cardtype'] = le.fit_transform(final_df['isCardCommercial'].astype(str))"
      ],
      "execution_count": 151,
      "outputs": []
    },
    {
      "cell_type": "markdown",
      "metadata": {
        "id": "an5VUFAuN3tT"
      },
      "source": [
        "Email Domain"
      ]
    },
    {
      "cell_type": "code",
      "metadata": {
        "id": "9PLpO2bDOKF6"
      },
      "source": [
        "final_df['emaildomain'] = final_df['shopperEmail'].str.split('@').str[1].str.upper()"
      ],
      "execution_count": 152,
      "outputs": []
    },
    {
      "cell_type": "code",
      "metadata": {
        "id": "BsUw8b8YTnEA"
      },
      "source": [
        "def label_states (row):\n",
        "    if \"GMAIL\" in row['emaildomain']:\n",
        "        return 'GMAIL'\n",
        "    elif \"GOOGLE\" in row['emaildomain']:\n",
        "        return 'GOOGLE'\n",
        "    elif \"YAHOO\" in row['emaildomain']:\n",
        "        return 'YAHOO'\n",
        "    elif \"HOTMAIL\" in row['emaildomain']:\n",
        "        return \"HOTMAIL\"\n",
        "    elif \"OUTLOOK\" in row['emaildomain']:\n",
        "        return \"OUTLOOK\"\n",
        "    elif \"AOL\" in row['emaildomain']:\n",
        "        return \"AOL\"\n",
        "    elif \"ICLOUD\" in row['emaildomain']:\n",
        "        return \"ICLOUD\"\n",
        "    elif \"LIVE\" in row['emaildomain']:\n",
        "        return \"LIVE\"\n",
        "    elif \"_\" in row['emaildomain']:\n",
        "        return \"MissingValue\"\n",
        "    else:\n",
        "        return 'OTHERS'"
      ],
      "execution_count": 153,
      "outputs": []
    },
    {
      "cell_type": "code",
      "metadata": {
        "id": "xAlvPuKvW264"
      },
      "source": [
        "final_df['emaildomain'] = final_df['emaildomain'].fillna('_')"
      ],
      "execution_count": 154,
      "outputs": []
    },
    {
      "cell_type": "code",
      "metadata": {
        "id": "QSdmcvLEUUo3"
      },
      "source": [
        "final_df['emaildomainlabel'] = final_df.apply(lambda row: label_states(row), axis=1)"
      ],
      "execution_count": 155,
      "outputs": []
    },
    {
      "cell_type": "markdown",
      "metadata": {
        "id": "muQCrV7rOSw6"
      },
      "source": [
        "Validate email"
      ]
    },
    {
      "cell_type": "code",
      "metadata": {
        "id": "47bdpFuTRlro",
        "colab": {
          "base_uri": "https://localhost:8080/"
        },
        "outputId": "127cd725-23d8-49ff-90cd-8424a99e9855"
      },
      "source": [
        "pip install validate_email"
      ],
      "execution_count": 156,
      "outputs": [
        {
          "output_type": "stream",
          "text": [
            "Requirement already satisfied: validate_email in /usr/local/lib/python3.7/dist-packages (1.3)\n"
          ],
          "name": "stdout"
        }
      ]
    },
    {
      "cell_type": "code",
      "metadata": {
        "id": "SNrv0ejgRylf"
      },
      "source": [
        "from validate_email import validate_email"
      ],
      "execution_count": 157,
      "outputs": []
    },
    {
      "cell_type": "code",
      "metadata": {
        "id": "bMcry5DDTDP3"
      },
      "source": [
        "final_df['email_is_valid'] = final_df['shopperEmail'].astype(str).apply(lambda x: validate_email(x))"
      ],
      "execution_count": 158,
      "outputs": []
    },
    {
      "cell_type": "markdown",
      "metadata": {
        "id": "uq_v_mqnOeIf"
      },
      "source": [
        "Shopper Account Creation Date"
      ]
    },
    {
      "cell_type": "code",
      "metadata": {
        "id": "UzXaXk-1fG6G"
      },
      "source": [
        "final_df[\"AccountCreationDate\"] = final_df[\"riskdata.shopperAccountCreationDate\"].astype(\"datetime64\")"
      ],
      "execution_count": 159,
      "outputs": []
    },
    {
      "cell_type": "code",
      "metadata": {
        "id": "1WOCbjnAefQu"
      },
      "source": [
        "#how long shopper has been with us\n",
        "from datetime import date\n",
        "import numpy as np\n",
        "now = date.today()\n",
        "final_df['ageyear'] = (pd.to_datetime('now') - pd.to_datetime(final_df['AccountCreationDate'])) / np.timedelta64(1, 'Y')\n",
        "final_df['agemonth'] = (pd.to_datetime('now') - pd.to_datetime(final_df['AccountCreationDate'])) / np.timedelta64(1, 'M')\n",
        "final_df['agedays'] = (pd.to_datetime('now') - pd.to_datetime(final_df['AccountCreationDate'])) / np.timedelta64(1, 'D')"
      ],
      "execution_count": 160,
      "outputs": []
    },
    {
      "cell_type": "markdown",
      "metadata": {
        "id": "o57_5qpmOxlr"
      },
      "source": [
        "Expiry date"
      ]
    },
    {
      "cell_type": "code",
      "metadata": {
        "id": "36IDqgB_lMd-"
      },
      "source": [
        "final_df['expiryyear'] = final_df['expiryDate'].str.split('/').str[1]"
      ],
      "execution_count": 161,
      "outputs": []
    },
    {
      "cell_type": "code",
      "metadata": {
        "id": "dsfJ0Fti5ZXz"
      },
      "source": [
        "from datetime import datetime"
      ],
      "execution_count": 162,
      "outputs": []
    },
    {
      "cell_type": "code",
      "metadata": {
        "id": "FB44GLu57xj1",
        "colab": {
          "base_uri": "https://localhost:8080/"
        },
        "outputId": "36b3df05-9a03-4fc0-ef5c-86ced284633a"
      },
      "source": [
        "final_df.expiryDate[final_df.expiryDate=='00/0000'] = ''"
      ],
      "execution_count": 163,
      "outputs": [
        {
          "output_type": "stream",
          "text": [
            "/usr/local/lib/python3.7/dist-packages/ipykernel_launcher.py:1: SettingWithCopyWarning: \n",
            "A value is trying to be set on a copy of a slice from a DataFrame\n",
            "\n",
            "See the caveats in the documentation: https://pandas.pydata.org/pandas-docs/stable/user_guide/indexing.html#returning-a-view-versus-a-copy\n",
            "  \"\"\"Entry point for launching an IPython kernel.\n"
          ],
          "name": "stderr"
        }
      ]
    },
    {
      "cell_type": "code",
      "metadata": {
        "id": "7oPteeDt8Q9r",
        "colab": {
          "base_uri": "https://localhost:8080/"
        },
        "outputId": "2037d668-758f-4bf7-d6f5-e30bccbe7ad1"
      },
      "source": [
        "final_df.expiryDate[final_df.expiryDate==''] = '01/9999'"
      ],
      "execution_count": 164,
      "outputs": [
        {
          "output_type": "stream",
          "text": [
            "/usr/local/lib/python3.7/dist-packages/ipykernel_launcher.py:1: SettingWithCopyWarning: \n",
            "A value is trying to be set on a copy of a slice from a DataFrame\n",
            "\n",
            "See the caveats in the documentation: https://pandas.pydata.org/pandas-docs/stable/user_guide/indexing.html#returning-a-view-versus-a-copy\n",
            "  \"\"\"Entry point for launching an IPython kernel.\n"
          ],
          "name": "stderr"
        }
      ]
    },
    {
      "cell_type": "code",
      "metadata": {
        "id": "AVJWwU4p5-fr"
      },
      "source": [
        "final_df['cardexdate'] =  final_df['expiryDate'].apply(lambda x:datetime.strptime(x,'%m/%Y'))"
      ],
      "execution_count": 165,
      "outputs": []
    },
    {
      "cell_type": "code",
      "metadata": {
        "id": "ncGGlSwS4IJW"
      },
      "source": [
        "final_df['howlongtillcardExpiry'] = (pd.to_datetime(final_df['cardexdate'],errors = 'coerce') - pd.to_datetime(final_df['AccountCreationDate'],errors = 'coerce')) / np.timedelta64(1, 'M')"
      ],
      "execution_count": 166,
      "outputs": []
    },
    {
      "cell_type": "code",
      "metadata": {
        "id": "EqKobTwTDJnv"
      },
      "source": [
        "final_df['howlongtillcardExpiry'] = round(final_df['howlongtillcardExpiry']).fillna(0).astype(int)"
      ],
      "execution_count": 167,
      "outputs": []
    },
    {
      "cell_type": "markdown",
      "metadata": {
        "id": "aU2iGFMbPTUT"
      },
      "source": [
        "Trying time of the date for Event Date"
      ]
    },
    {
      "cell_type": "code",
      "metadata": {
        "id": "e3hbACeorvH1",
        "colab": {
          "base_uri": "https://localhost:8080/"
        },
        "outputId": "06027466-8f31-423d-952a-f6969bf6fa1d"
      },
      "source": [
        "pip install ciso8601\n"
      ],
      "execution_count": 168,
      "outputs": [
        {
          "output_type": "stream",
          "text": [
            "Requirement already satisfied: ciso8601 in /usr/local/lib/python3.7/dist-packages (2.1.3)\n"
          ],
          "name": "stdout"
        }
      ]
    },
    {
      "cell_type": "code",
      "metadata": {
        "id": "hPsA2c91rtTU"
      },
      "source": [
        "import ciso8601"
      ],
      "execution_count": 169,
      "outputs": []
    },
    {
      "cell_type": "code",
      "metadata": {
        "id": "Rrv-u_z40e0C"
      },
      "source": [
        "final_df['transdate'] = final_df['eventDate'].apply(lambda x:ciso8601.parse_datetime(x).strftime(\"%Y-%m-%d\"))"
      ],
      "execution_count": 170,
      "outputs": []
    },
    {
      "cell_type": "code",
      "metadata": {
        "id": "Yo_qXzgw09Xj"
      },
      "source": [
        "#getting hour of the transaction date\n",
        "final_df['transtime'] = final_df['eventDate'].apply(lambda x:ciso8601.parse_datetime(x).hour)"
      ],
      "execution_count": 171,
      "outputs": []
    },
    {
      "cell_type": "code",
      "metadata": {
        "id": "zG9E8rcHZ1gH"
      },
      "source": [
        "#getting day of the transaction date\n",
        "final_df['transweekday'] = final_df['eventDate'].apply(lambda x:ciso8601.parse_datetime(x).weekday())"
      ],
      "execution_count": 172,
      "outputs": []
    },
    {
      "cell_type": "code",
      "metadata": {
        "id": "Wk57AT5paLeY"
      },
      "source": [
        "#getting month day of the transaction date\n",
        "final_df['transmonthday'] = final_df['eventDate'].apply(lambda x:ciso8601.parse_datetime(x).day)"
      ],
      "execution_count": 173,
      "outputs": []
    },
    {
      "cell_type": "code",
      "metadata": {
        "id": "rf6D-XGXCyna"
      },
      "source": [
        "final_df['transyear'] = final_df['eventDate'].apply(lambda x:ciso8601.parse_datetime(x).year)"
      ],
      "execution_count": 174,
      "outputs": []
    },
    {
      "cell_type": "markdown",
      "metadata": {
        "id": "9S21YmhGPsZr"
      },
      "source": [
        "Account creation date and transaction date relation"
      ]
    },
    {
      "cell_type": "code",
      "metadata": {
        "id": "_3N579k6Dq6o"
      },
      "source": [
        "final_df['ageyear_trans'] = round((pd.to_datetime(final_df['transdate']) - pd.to_datetime(final_df['AccountCreationDate'])) / np.timedelta64(1, 'Y')).astype('Int64')\n",
        "final_df['agemonth_trans'] = round((pd.to_datetime(final_df['transdate']) - pd.to_datetime(final_df['AccountCreationDate'])) / np.timedelta64(1, 'M')).astype('Int64')\n",
        "final_df['agedays_trans'] = round((pd.to_datetime(final_df['transdate']) - pd.to_datetime(final_df['AccountCreationDate'])) / np.timedelta64(1, 'D')).astype('Int64')"
      ],
      "execution_count": 175,
      "outputs": []
    },
    {
      "cell_type": "code",
      "metadata": {
        "id": "5lRRb-EvJFRx"
      },
      "source": [
        "final_df['agedays_trans'] =final_df['agedays_trans'].fillna(000)"
      ],
      "execution_count": 176,
      "outputs": []
    },
    {
      "cell_type": "code",
      "metadata": {
        "id": "AjQPUQm6Jqvg"
      },
      "source": [
        "final_df['agemonth_trans'] =final_df['agemonth_trans'].fillna(000)"
      ],
      "execution_count": 177,
      "outputs": []
    },
    {
      "cell_type": "markdown",
      "metadata": {
        "id": "m9io-giwQFUO"
      },
      "source": [
        "Amount"
      ]
    },
    {
      "cell_type": "code",
      "metadata": {
        "id": "rh8F0oOVQGWH"
      },
      "source": [
        "final_df['amount.value'] = final_df['amount.value'].astype(float)\n",
        "final_df['authorisedAmountValue'] = final_df['authorisedAmountValue'].astype(float)"
      ],
      "execution_count": 178,
      "outputs": []
    },
    {
      "cell_type": "code",
      "metadata": {
        "id": "F85kltV1Ft-1"
      },
      "source": [
        "final_df['amount'] = final_df['amount.value']"
      ],
      "execution_count": 179,
      "outputs": []
    },
    {
      "cell_type": "code",
      "metadata": {
        "id": "IfCk0mNTFy3k"
      },
      "source": [
        "final_df['amount']=final_df['amount'].fillna(0)"
      ],
      "execution_count": 180,
      "outputs": []
    },
    {
      "cell_type": "code",
      "metadata": {
        "id": "Ub-K_DCPHd_C"
      },
      "source": [
        "final_df['amount']=final_df['amount'].apply(np.log)"
      ],
      "execution_count": 181,
      "outputs": []
    },
    {
      "cell_type": "code",
      "metadata": {
        "id": "r2_6f3GQQdlc"
      },
      "source": [
        "final_df['amount'] = final_df['amount'].replace(-np.inf, np.nan)"
      ],
      "execution_count": 182,
      "outputs": []
    },
    {
      "cell_type": "markdown",
      "metadata": {
        "id": "ORhFLL4bQnaL"
      },
      "source": [
        "Device Type"
      ]
    },
    {
      "cell_type": "code",
      "metadata": {
        "id": "cDYo7Z2lhRqF"
      },
      "source": [
        "def label_devicetype(row):\n",
        "    if row['riskdata.shopperDevice'].isdigit():\n",
        "        return 'NameOnlyDigit'\n",
        "    elif \"ARMOR\" in row['riskdata.shopperDevice']:\n",
        "        return 'ARMOR'\n",
        "    elif \"IPAD\" in row['riskdata.shopperDevice']:\n",
        "        return 'IPAD'\n",
        "    elif \"IPHONE12\" in row['riskdata.shopperDevice']:\n",
        "        return \"IPHONE12\"\n",
        "    elif \"IPHONE11\" in row['riskdata.shopperDevice']:\n",
        "        return \"IPHONE11\"\n",
        "    elif \"IPHONE11\" in row['riskdata.shopperDevice']:\n",
        "        return \"IPHONE11\"\n",
        "    elif \"IPHONE10\" in row['riskdata.shopperDevice']:\n",
        "        return \"IPHONE10\"\n",
        "    elif \"IPHONE9\" in row['riskdata.shopperDevice']:\n",
        "        return \"IPHONE9\"\n",
        "    elif \"IPHONE8\" in row['riskdata.shopperDevice']:\n",
        "        return \"IPHONE8\"\n",
        "    elif \"IPHONE\" in row['riskdata.shopperDevice']:\n",
        "        return \"SomeKindOfIPHONE\"\n",
        "    elif \"ONEPLUS\" in row['riskdata.shopperDevice']:\n",
        "        return \"ONEPLUS\"\n",
        "    elif \"_\" in row['riskdata.shopperDevice']:\n",
        "        return \"MissingValue\"\n",
        "    else:\n",
        "        return 'OTHERS'"
      ],
      "execution_count": 183,
      "outputs": []
    },
    {
      "cell_type": "code",
      "metadata": {
        "id": "aAadk2_XlPrU"
      },
      "source": [
        "final_df['riskdata.shopperDevice'] = final_df['riskdata.shopperDevice'].fillna('_')"
      ],
      "execution_count": 184,
      "outputs": []
    },
    {
      "cell_type": "code",
      "metadata": {
        "id": "3fCBclVXlPre"
      },
      "source": [
        "final_df['shopperDevicebin'] = final_df.apply(lambda row: label_devicetype(row.str.upper()), axis=1) "
      ],
      "execution_count": 185,
      "outputs": []
    },
    {
      "cell_type": "markdown",
      "metadata": {
        "id": "UoGRtPsFRWxt"
      },
      "source": [
        "Billing address postal code"
      ]
    },
    {
      "cell_type": "code",
      "metadata": {
        "id": "U-fwZuqWve0X",
        "colab": {
          "base_uri": "https://localhost:8080/"
        },
        "outputId": "64778a05-df73-4b4a-cd6c-6efab2c93dce"
      },
      "source": [
        "pip install pgeocode"
      ],
      "execution_count": 186,
      "outputs": [
        {
          "output_type": "stream",
          "text": [
            "Requirement already satisfied: pgeocode in /usr/local/lib/python3.7/dist-packages (0.3.0)\n",
            "Requirement already satisfied: pandas in /usr/local/lib/python3.7/dist-packages (from pgeocode) (1.1.5)\n",
            "Requirement already satisfied: requests in /usr/local/lib/python3.7/dist-packages (from pgeocode) (2.23.0)\n",
            "Requirement already satisfied: numpy in /usr/local/lib/python3.7/dist-packages (from pgeocode) (1.19.5)\n",
            "Requirement already satisfied: pytz>=2017.2 in /usr/local/lib/python3.7/dist-packages (from pandas->pgeocode) (2018.9)\n",
            "Requirement already satisfied: python-dateutil>=2.7.3 in /usr/local/lib/python3.7/dist-packages (from pandas->pgeocode) (2.8.1)\n",
            "Requirement already satisfied: urllib3!=1.25.0,!=1.25.1,<1.26,>=1.21.1 in /usr/local/lib/python3.7/dist-packages (from requests->pgeocode) (1.24.3)\n",
            "Requirement already satisfied: certifi>=2017.4.17 in /usr/local/lib/python3.7/dist-packages (from requests->pgeocode) (2020.12.5)\n",
            "Requirement already satisfied: chardet<4,>=3.0.2 in /usr/local/lib/python3.7/dist-packages (from requests->pgeocode) (3.0.4)\n",
            "Requirement already satisfied: idna<3,>=2.5 in /usr/local/lib/python3.7/dist-packages (from requests->pgeocode) (2.10)\n",
            "Requirement already satisfied: six>=1.5 in /usr/local/lib/python3.7/dist-packages (from python-dateutil>=2.7.3->pandas->pgeocode) (1.15.0)\n"
          ],
          "name": "stdout"
        }
      ]
    },
    {
      "cell_type": "code",
      "metadata": {
        "id": "N22Y5WUEvkVk"
      },
      "source": [
        "import pgeocode"
      ],
      "execution_count": 187,
      "outputs": []
    },
    {
      "cell_type": "code",
      "metadata": {
        "id": "nWDju1zxyXgF"
      },
      "source": [
        "def insert_space(string, integer):\n",
        "  return string[0:integer] + ' ' + string[integer:]\n",
        "nomi = pgeocode.Nominatim('gb')"
      ],
      "execution_count": 188,
      "outputs": []
    },
    {
      "cell_type": "code",
      "metadata": {
        "id": "EAsLQ1pS0ETU"
      },
      "source": [
        "final_df['billingAddress.postalCode'] = final_df['billingAddress.postalCode'].fillna(000)"
      ],
      "execution_count": 189,
      "outputs": []
    },
    {
      "cell_type": "code",
      "metadata": {
        "id": "m2r1_gW2ywkD"
      },
      "source": [
        "final_df['state_name'] = final_df['billingAddress.postalCode'].apply(lambda x:nomi.query_postal_code(insert_space(str(x),-3)).state_name)"
      ],
      "execution_count": 190,
      "outputs": []
    },
    {
      "cell_type": "code",
      "metadata": {
        "id": "k9Nw0YfO2hzE"
      },
      "source": [
        "final_df['place_name'] = final_df['billingAddress.postalCode'].apply(lambda x:nomi.query_postal_code(insert_space(str(x),-3)).place_name)"
      ],
      "execution_count": 191,
      "outputs": []
    },
    {
      "cell_type": "code",
      "metadata": {
        "id": "_xeXD_gL6rP7"
      },
      "source": [
        "final_df['county_name'] = final_df['billingAddress.postalCode'].apply(lambda x:nomi.query_postal_code(insert_space(str(x),-3)).county_name)"
      ],
      "execution_count": 192,
      "outputs": []
    },
    {
      "cell_type": "code",
      "metadata": {
        "id": "B4gDjKVjA54C"
      },
      "source": [
        "final_df['place_name_short'] =  final_df['place_name'].apply(lambda x:str(x).split(',')[0])"
      ],
      "execution_count": 193,
      "outputs": []
    },
    {
      "cell_type": "markdown",
      "metadata": {
        "id": "397UsnljRtXj"
      },
      "source": [
        "Billing city"
      ]
    },
    {
      "cell_type": "code",
      "metadata": {
        "id": "K2JtmargEXcQ"
      },
      "source": [
        "#getting first name\n",
        "start = 'first name='\n",
        "end = ', infix'\n",
        "final_df['firstname'] =  final_df['shopperName'].astype(str).apply(lambda x:x[x.find(start)+len(start):x.rfind(end)])"
      ],
      "execution_count": 194,
      "outputs": []
    },
    {
      "cell_type": "code",
      "metadata": {
        "id": "Ozc8U4ToEnQD"
      },
      "source": [
        "#getting  last name\n",
        "start = 'last name='\n",
        "end = ', gender'\n",
        "final_df['lastname'] =  final_df['shopperName'].astype(str).apply(lambda x:x[x.find(start)+len(start):x.rfind(end)])"
      ],
      "execution_count": 195,
      "outputs": []
    },
    {
      "cell_type": "code",
      "metadata": {
        "id": "4jjEVzMcJHkH"
      },
      "source": [
        "#getting  infix\n",
        "start = 'infix='\n",
        "end = ', last name'\n",
        "final_df['infix'] =  final_df['shopperName'].astype(str).apply(lambda x:x[x.find(start)+len(start):x.rfind(end)])"
      ],
      "execution_count": 196,
      "outputs": []
    },
    {
      "cell_type": "code",
      "metadata": {
        "id": "BWo3IxnpJigI"
      },
      "source": [
        "#lenght of first name , last name, infix \n",
        "final_df['firstnamelen'] = final_df['firstname'].map(len)\n",
        "final_df['lastnamelen'] = final_df['lastname'].map(len)\n",
        "final_df['infixlen'] = final_df['infix'].map(len)"
      ],
      "execution_count": 197,
      "outputs": []
    },
    {
      "cell_type": "code",
      "metadata": {
        "id": "GVirtT_fNu1X"
      },
      "source": [
        "final_df['first_last_name_len_match'] = final_df['firstnamelen'] == final_df['lastnamelen']"
      ],
      "execution_count": 198,
      "outputs": []
    },
    {
      "cell_type": "code",
      "metadata": {
        "id": "H5FlB1d7RCZZ"
      },
      "source": [
        "#check if first name is same as last name\n",
        "final_df['same_firs_last_name'] = final_df['firstname'].str.strip().str.lower() == final_df['lastname'].str.strip().str.lower()"
      ],
      "execution_count": 199,
      "outputs": []
    },
    {
      "cell_type": "code",
      "metadata": {
        "id": "KqYpn_T_fMlp"
      },
      "source": [
        "#does email has first name of last name?\n",
        "final_df['emailfirstpart'] = final_df['shopperEmail'].astype(str).apply(lambda x:(x.split('@')[0]))\n",
        "final_df['emailhaspartofFname'] = final_df.apply(lambda x: str(x.emailfirstpart) in str(x.firstname), axis=1)\n",
        "final_df['emailhaspartofLname'] = final_df.apply(lambda x: str(x.emailfirstpart) in str(x.lastname), axis=1)"
      ],
      "execution_count": 200,
      "outputs": []
    },
    {
      "cell_type": "code",
      "metadata": {
        "id": "SckTeXors7tt"
      },
      "source": [
        "def func(x):\n",
        "    return df['firstname'] in list(df['cardHolderName'])"
      ],
      "execution_count": 201,
      "outputs": []
    },
    {
      "cell_type": "code",
      "metadata": {
        "id": "gyBtgZ92o9sX"
      },
      "source": [
        "final_df['cardname_has_firstname'] = final_df.apply(lambda x: str(x.firstname) in str(x.cardHolderName), axis=1)"
      ],
      "execution_count": 202,
      "outputs": []
    },
    {
      "cell_type": "code",
      "metadata": {
        "id": "JZ3HqkOpxYHw"
      },
      "source": [
        "final_df['cardname_has_lastname'] = final_df.apply(lambda x: str(x.lastname) in str(x.cardHolderName), axis=1)"
      ],
      "execution_count": 203,
      "outputs": []
    },
    {
      "cell_type": "code",
      "metadata": {
        "id": "ikYbSU4FjsJG"
      },
      "source": [
        "def hasNumbers(inputString):\n",
        "  return any(char.isdigit() for char in inputString)"
      ],
      "execution_count": 204,
      "outputs": []
    },
    {
      "cell_type": "code",
      "metadata": {
        "id": "Awhe4RK3jvJ8"
      },
      "source": [
        "final_df['namehasdigit'] = final_df['metadata.shopper_name'].astype(str).apply(lambda x:hasNumbers(x))"
      ],
      "execution_count": 205,
      "outputs": []
    },
    {
      "cell_type": "code",
      "metadata": {
        "id": "ZRpylft9gEfF"
      },
      "source": [
        "final_df['emaillen'] = final_df['shopperEmail'].astype(str).apply(lambda x:len(x.split('@')[0]))"
      ],
      "execution_count": 206,
      "outputs": []
    },
    {
      "cell_type": "markdown",
      "metadata": {
        "id": "f_1zCzAmitSo"
      },
      "source": [
        "Dropping more columns"
      ]
    },
    {
      "cell_type": "code",
      "metadata": {
        "id": "SZLZ8JBpgDes"
      },
      "source": [
        "final_df = final_df.drop( ['riskdata.luhnOkCount',\n",
        " 'riskdata.luhnCount',\n",
        " 'riskdata.LuhnSameLengthCount',\n",
        " 'riskdata.numberFieldClickCount',\n",
        " 'riskdata.numberFieldKeyCount',\n",
        " 'riskdata.numberFieldFocusCount',\n",
        " 'riskdata.initializeCount',\n",
        " 'riskdata.numberFieldLog',\n",
        " 'riskdata.basket.item.brand',\n",
        " 'riskdata.numberFieldEventHandlers',\n",
        " 'riskdata.numberFieldUnknownKeys',\n",
        " 'riskdata.numberFieldBlurCount' ], axis=1)"
      ],
      "execution_count": 207,
      "outputs": []
    },
    {
      "cell_type": "code",
      "metadata": {
        "id": "zBzH1oxlgShT",
        "colab": {
          "base_uri": "https://localhost:8080/"
        },
        "outputId": "d3a77d20-c00f-4116-87b2-0e4cf7931adb"
      },
      "source": [
        "#fraud check columns\n",
        "cols = [i for i in final_df.columns if 'fraud' in i]\n",
        "cols"
      ],
      "execution_count": 208,
      "outputs": [
        {
          "output_type": "execute_result",
          "data": {
            "text/plain": [
              "['fraudCheck-75-PaymentDetailCarteBancaireRefCheck',\n",
              " 'fraudCheck-63-TransactionAmountCheck',\n",
              " 'fraudCheck-52-DistinctPaymentDetailUsageByShopper',\n",
              " 'fraudCheck-91-ShopperStrongAuthenticationCheck',\n",
              " 'fraudCheck-54-DistinctSharedPaymentDetailUsageByShopper',\n",
              " 'fraudCheck-77-EmailSyntaxCheck',\n",
              " 'fraudCheck-86-PaymentDetailAmexRefCheck',\n",
              " 'fraudCheck-46-DistinctCountryUsageByShopper',\n",
              " 'fraudCheck-53-DistinctSharedShopperIpUsageByShopper',\n",
              " 'fraudCheck-50-DistinctShopperEmailUsageByShopper',\n",
              " 'fraudCheck-48-ChargebackCountByShopper',\n",
              " 'fraudCheck-41-PaymentDetailNonFraudRefCheck',\n",
              " 'fraudCheck-74-EmailNameCheck',\n",
              " 'fraudCheck-56-ShopperReferenceCheck',\n",
              " 'fraudCheck-79-BinAttackRefCheck',\n",
              " 'fraudCheck-65-EmailDomainRefCheck',\n",
              " 'fraudCheck-15-IssuingCountryReferral',\n",
              " 'fraudCheck-47-BlockedCardsUsageByShopper',\n",
              " 'fraudCheck-26-ShopperEmailRefCheck',\n",
              " 'fraudCheck-85-ShopperFraudRefusalsCheck',\n",
              " 'fraudCheck-51-DistinctShopperReferenceUsageByShopper',\n",
              " 'fraudCheck-13-IssuerRefCheck',\n",
              " 'fraudCheck-10-HolderNameContainsNumber',\n",
              " 'fraudCheck-82-CustomFieldCheck',\n",
              " 'fraudCheck-70-ShopperConsecutiveRefusalsCheck',\n",
              " 'fraudCheck-69-AutomatedReferralCheck',\n",
              " 'fraudCheck-66-PhoneNumberRefCheck',\n",
              " 'fraudCheck-27-PmOwnerRefCheck',\n",
              " 'fraudCheck-11-HolderNameIsOneWord',\n",
              " 'fraudCheck-71-LoyalShopperTrustCheck',\n",
              " 'fraudCheck-1-PaymentDetailRefCheck',\n",
              " 'fraudCheck-49-DistinctShopperIpUsageByShopper',\n",
              " 'fraudCheck-20-AVSAuthResultCheck',\n",
              " 'fraudCheck-25-CVCAuthResultCheck',\n",
              " 'fraudCheck-64-TransactionAmountVelocity',\n",
              " 'fraudCheck-2-CardChunkUsage',\n",
              " 'fraudCheck-3-PaymentDetailUsage',\n",
              " 'fraudCheck-55-ShopperAuthorisedFrequency',\n",
              " 'fraudCheck-4-HolderNameUsage',\n",
              " 'fraudCheck-78-ShopperBehaviorCheck',\n",
              " 'fraudCheck-8-ShopperEmailUsage',\n",
              " 'fraudCheck--1-Pre-Auth-Risk-Total']"
            ]
          },
          "metadata": {
            "tags": []
          },
          "execution_count": 208
        }
      ]
    },
    {
      "cell_type": "code",
      "metadata": {
        "id": "ou8wkFjkg-O0"
      },
      "source": [
        "final_df = final_df.drop(cols,axis=1)"
      ],
      "execution_count": 209,
      "outputs": []
    },
    {
      "cell_type": "code",
      "metadata": {
        "id": "sgUqQHIihxbj",
        "colab": {
          "base_uri": "https://localhost:8080/"
        },
        "outputId": "b7342146-e878-42a6-c7d7-83f6f4b3f541"
      },
      "source": [
        "cols = [i for i in final_df.columns if 'retry' in i]\n",
        "cols"
      ],
      "execution_count": 210,
      "outputs": [
        {
          "output_type": "execute_result",
          "data": {
            "text/plain": [
              "['retry.attempt1.rawResponse',\n",
              " 'retry.attempt1.avsResultRaw',\n",
              " 'retry.attempt1.acquirerAccount',\n",
              " 'retry.attempt1.responseCode',\n",
              " 'retry.attempt2.responseCode',\n",
              " 'retry.attempt2.rawResponse',\n",
              " 'retry.attempt2.acquirerAccount',\n",
              " 'retry.attempt2.acquirer',\n",
              " 'retry.attempt2.avsResultRaw']"
            ]
          },
          "metadata": {
            "tags": []
          },
          "execution_count": 210
        }
      ]
    },
    {
      "cell_type": "code",
      "metadata": {
        "id": "geXNs5yvh5fS"
      },
      "source": [
        "final_df =final_df.drop( cols, axis=1)"
      ],
      "execution_count": 211,
      "outputs": []
    },
    {
      "cell_type": "code",
      "metadata": {
        "id": "eH69nnkjhVLU"
      },
      "source": [
        "#more columns to remove, but may be remove from fittin before the model\n",
        "final_df = final_df.drop(['eventDate', 'shopperEmail', 'avsResult', 'cavvAlgorithm'\n",
        ", 'liabilityShift', 'cardHolderName', 'visaTemplate', 'acquirerCode', 'eci', 'refusalReasonRaw',\n",
        "'recurringProcessingModel', 'shopperTelephone', 'fundingSource', 'shopperName', 'shopperInteraction',\n",
        "'cvcResultRaw', 'billingAddress.country', 'metadata.shopper_name', 'avsResultRaw', 'metadata.driver_ref',\n",
        "'metadata.shopper_ph_country', 'riskdata.shopperAccountCreationDate', 'metadata.shopper_phone',\n",
        "'billingAddress.postalCode', \n",
        "#'metadata.shopper_phone_country', \n",
        "'authorisedAmountValue', 'emaildomain'\n",
        "\n",
        "]   ,axis=1)"
      ],
      "execution_count": 212,
      "outputs": []
    },
    {
      "cell_type": "code",
      "metadata": {
        "id": "qsNiuf6zJ_fS"
      },
      "source": [
        "final_df.to_csv(\"/content/drive/My Drive/oct_train_secondN.csv\")"
      ],
      "execution_count": 213,
      "outputs": []
    },
    {
      "cell_type": "code",
      "metadata": {
        "id": "QoKXo-B-Q4ks",
        "colab": {
          "base_uri": "https://localhost:8080/",
          "height": 160
        },
        "outputId": "92b9eeb6-a5d0-475f-d908-c9df79090ed4"
      },
      "source": [
        "final_df.head(2)"
      ],
      "execution_count": 214,
      "outputs": [
        {
          "output_type": "execute_result",
          "data": {
            "text/html": [
              "<div>\n",
              "<style scoped>\n",
              "    .dataframe tbody tr th:only-of-type {\n",
              "        vertical-align: middle;\n",
              "    }\n",
              "\n",
              "    .dataframe tbody tr th {\n",
              "        vertical-align: top;\n",
              "    }\n",
              "\n",
              "    .dataframe thead th {\n",
              "        text-align: right;\n",
              "    }\n",
              "</style>\n",
              "<table border=\"1\" class=\"dataframe\">\n",
              "  <thead>\n",
              "    <tr style=\"text-align: right;\">\n",
              "      <th></th>\n",
              "      <th>external_id</th>\n",
              "      <th>chargeback</th>\n",
              "      <th>paymentMethod</th>\n",
              "      <th>pspReference</th>\n",
              "      <th>metadata.company</th>\n",
              "      <th>paymentMethodVariant</th>\n",
              "      <th>deviceType</th>\n",
              "      <th>shopperReference</th>\n",
              "      <th>expiryDate</th>\n",
              "      <th>isCardCommercial</th>\n",
              "      <th>browserCode</th>\n",
              "      <th>issuerCountry</th>\n",
              "      <th>riskdata.shopperDevice</th>\n",
              "      <th>amount.currency</th>\n",
              "      <th>amount.value</th>\n",
              "      <th>cardIssuingCurrency</th>\n",
              "      <th>cardIssuingCountry</th>\n",
              "      <th>cardIssuingBank</th>\n",
              "      <th>cardPaymentMethod</th>\n",
              "      <th>coBrandedWith</th>\n",
              "      <th>authorisedAmountCurrency</th>\n",
              "      <th>shp_card_name_match</th>\n",
              "      <th>cardtype</th>\n",
              "      <th>emaildomainlabel</th>\n",
              "      <th>email_is_valid</th>\n",
              "      <th>AccountCreationDate</th>\n",
              "      <th>ageyear</th>\n",
              "      <th>agemonth</th>\n",
              "      <th>agedays</th>\n",
              "      <th>expiryyear</th>\n",
              "      <th>cardexdate</th>\n",
              "      <th>howlongtillcardExpiry</th>\n",
              "      <th>transdate</th>\n",
              "      <th>transtime</th>\n",
              "      <th>transweekday</th>\n",
              "      <th>transmonthday</th>\n",
              "      <th>transyear</th>\n",
              "      <th>ageyear_trans</th>\n",
              "      <th>agemonth_trans</th>\n",
              "      <th>agedays_trans</th>\n",
              "      <th>amount</th>\n",
              "      <th>shopperDevicebin</th>\n",
              "      <th>state_name</th>\n",
              "      <th>place_name</th>\n",
              "      <th>county_name</th>\n",
              "      <th>place_name_short</th>\n",
              "      <th>firstname</th>\n",
              "      <th>lastname</th>\n",
              "      <th>infix</th>\n",
              "      <th>firstnamelen</th>\n",
              "      <th>lastnamelen</th>\n",
              "      <th>infixlen</th>\n",
              "      <th>first_last_name_len_match</th>\n",
              "      <th>same_firs_last_name</th>\n",
              "      <th>emailfirstpart</th>\n",
              "      <th>emailhaspartofFname</th>\n",
              "      <th>emailhaspartofLname</th>\n",
              "      <th>cardname_has_firstname</th>\n",
              "      <th>cardname_has_lastname</th>\n",
              "      <th>namehasdigit</th>\n",
              "      <th>emaillen</th>\n",
              "    </tr>\n",
              "  </thead>\n",
              "  <tbody>\n",
              "    <tr>\n",
              "      <th>0</th>\n",
              "      <td>6159024905231228</td>\n",
              "      <td>0</td>\n",
              "      <td>visa</td>\n",
              "      <td>6159024905231228</td>\n",
              "      <td>asl</td>\n",
              "      <td>visastandarddebit</td>\n",
              "      <td>Other</td>\n",
              "      <td>cus_EuLdXOqEx3JHTX</td>\n",
              "      <td>12/2024</td>\n",
              "      <td>FALSE</td>\n",
              "      <td>Other</td>\n",
              "      <td>GB</td>\n",
              "      <td>iPhone10,4</td>\n",
              "      <td>GBP</td>\n",
              "      <td>115.0</td>\n",
              "      <td>NaN</td>\n",
              "      <td>NaN</td>\n",
              "      <td>NaN</td>\n",
              "      <td>NaN</td>\n",
              "      <td>NaN</td>\n",
              "      <td>NaN</td>\n",
              "      <td>False</td>\n",
              "      <td>0</td>\n",
              "      <td>GMAIL</td>\n",
              "      <td>True</td>\n",
              "      <td>2020-06-03 07:58:09</td>\n",
              "      <td>0.822091</td>\n",
              "      <td>9.865086</td>\n",
              "      <td>300.262403</td>\n",
              "      <td>2024</td>\n",
              "      <td>2024-12-01</td>\n",
              "      <td>54</td>\n",
              "      <td>2020-10-12</td>\n",
              "      <td>10</td>\n",
              "      <td>0</td>\n",
              "      <td>12</td>\n",
              "      <td>2020</td>\n",
              "      <td>0</td>\n",
              "      <td>4</td>\n",
              "      <td>131</td>\n",
              "      <td>4.744932</td>\n",
              "      <td>IPHONE10</td>\n",
              "      <td>NaN</td>\n",
              "      <td>NaN</td>\n",
              "      <td>NaN</td>\n",
              "      <td>nan</td>\n",
              "      <td>James</td>\n",
              "      <td>Fox</td>\n",
              "      <td>null</td>\n",
              "      <td>5</td>\n",
              "      <td>3</td>\n",
              "      <td>4</td>\n",
              "      <td>False</td>\n",
              "      <td>False</td>\n",
              "      <td>Jfox2707</td>\n",
              "      <td>False</td>\n",
              "      <td>False</td>\n",
              "      <td>False</td>\n",
              "      <td>True</td>\n",
              "      <td>False</td>\n",
              "      <td>8</td>\n",
              "    </tr>\n",
              "    <tr>\n",
              "      <th>1</th>\n",
              "      <td>4626024905434772</td>\n",
              "      <td>0</td>\n",
              "      <td>visa</td>\n",
              "      <td>4626024905434772</td>\n",
              "      <td>blueline</td>\n",
              "      <td>visastandarddebit</td>\n",
              "      <td>Other</td>\n",
              "      <td>cus_FkVtfFczI07hvi</td>\n",
              "      <td>10/2021</td>\n",
              "      <td>FALSE</td>\n",
              "      <td>Other</td>\n",
              "      <td>GB</td>\n",
              "      <td>iPhone12,3</td>\n",
              "      <td>GBP</td>\n",
              "      <td>500.0</td>\n",
              "      <td>NaN</td>\n",
              "      <td>NaN</td>\n",
              "      <td>NaN</td>\n",
              "      <td>NaN</td>\n",
              "      <td>NaN</td>\n",
              "      <td>NaN</td>\n",
              "      <td>False</td>\n",
              "      <td>0</td>\n",
              "      <td>HOTMAIL</td>\n",
              "      <td>True</td>\n",
              "      <td>2019-09-16 07:55:38</td>\n",
              "      <td>1.536689</td>\n",
              "      <td>18.440269</td>\n",
              "      <td>561.264150</td>\n",
              "      <td>2021</td>\n",
              "      <td>2021-10-01</td>\n",
              "      <td>24</td>\n",
              "      <td>2020-10-12</td>\n",
              "      <td>10</td>\n",
              "      <td>0</td>\n",
              "      <td>12</td>\n",
              "      <td>2020</td>\n",
              "      <td>1</td>\n",
              "      <td>13</td>\n",
              "      <td>392</td>\n",
              "      <td>6.214608</td>\n",
              "      <td>IPHONE12</td>\n",
              "      <td>NaN</td>\n",
              "      <td>NaN</td>\n",
              "      <td>NaN</td>\n",
              "      <td>nan</td>\n",
              "      <td>Sara</td>\n",
              "      <td>Hawthorn</td>\n",
              "      <td>null</td>\n",
              "      <td>4</td>\n",
              "      <td>8</td>\n",
              "      <td>4</td>\n",
              "      <td>False</td>\n",
              "      <td>False</td>\n",
              "      <td>sarahawthorn</td>\n",
              "      <td>False</td>\n",
              "      <td>False</td>\n",
              "      <td>False</td>\n",
              "      <td>False</td>\n",
              "      <td>False</td>\n",
              "      <td>12</td>\n",
              "    </tr>\n",
              "  </tbody>\n",
              "</table>\n",
              "</div>"
            ],
            "text/plain": [
              "        external_id  chargeback  ... namehasdigit  emaillen\n",
              "0  6159024905231228           0  ...        False         8\n",
              "1  4626024905434772           0  ...        False        12\n",
              "\n",
              "[2 rows x 61 columns]"
            ]
          },
          "metadata": {
            "tags": []
          },
          "execution_count": 214
        }
      ]
    },
    {
      "cell_type": "code",
      "metadata": {
        "id": "rxgz4HIYQ8h6",
        "colab": {
          "base_uri": "https://localhost:8080/"
        },
        "outputId": "45a1c640-13c8-4244-e181-cdddb2ed8f66"
      },
      "source": [
        "final_df.chargeback.value_counts()"
      ],
      "execution_count": 215,
      "outputs": [
        {
          "output_type": "execute_result",
          "data": {
            "text/plain": [
              "0    60216\n",
              "1        5\n",
              "Name: chargeback, dtype: int64"
            ]
          },
          "metadata": {
            "tags": []
          },
          "execution_count": 215
        }
      ]
    },
    {
      "cell_type": "code",
      "metadata": {
        "id": "he7BFU_-e3hp"
      },
      "source": [
        "final_df['pspReference'].to_csv(\"/content/drive/My Drive/oct_train_secondN_pspref.csv\")"
      ],
      "execution_count": 216,
      "outputs": []
    }
  ]
}