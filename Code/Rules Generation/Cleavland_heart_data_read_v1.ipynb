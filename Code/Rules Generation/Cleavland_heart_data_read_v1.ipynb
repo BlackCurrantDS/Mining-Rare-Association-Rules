{
  "nbformat": 4,
  "nbformat_minor": 0,
  "metadata": {
    "colab": {
      "name": "Cleavland_heart_data_read_v1.ipynb",
      "provenance": [],
      "mount_file_id": "1TpNo6tCKrBKCm_cAmK2ssGQxnySSZnbz",
      "authorship_tag": "ABX9TyMBfTO3h7UNqDaVM5cYxQny",
      "include_colab_link": true
    },
    "kernelspec": {
      "name": "python3",
      "display_name": "Python 3"
    }
  },
  "cells": [
    {
      "cell_type": "markdown",
      "metadata": {
        "id": "view-in-github",
        "colab_type": "text"
      },
      "source": [
        "<a href=\"https://colab.research.google.com/github/BlackCurrantDS/DBSE_Project/blob/main/Cleavland_heart_data_read_v1.ipynb\" target=\"_parent\"><img src=\"https://colab.research.google.com/assets/colab-badge.svg\" alt=\"Open In Colab\"/></a>"
      ]
    },
    {
      "cell_type": "markdown",
      "metadata": {
        "id": "86iMaQxaOxRp"
      },
      "source": [
        "Only 14 attributes used:\r\n",
        "1. #3 (age)\r\n",
        "2. #4 (sex)\r\n",
        "3. #9 (cp)\r\n",
        "4. #10 (trestbps)\r\n",
        "5. #12 (chol)\r\n",
        "6. #16 (fbs)\r\n",
        "7. #19 (restecg)\r\n",
        "8. #32 (thalach)\r\n",
        "9. #38 (exang)\r\n",
        "10. #40 (oldpeak)\r\n",
        "11. #41 (slope)\r\n",
        "12. #44 (ca)\r\n",
        "13. #51 (thal)\r\n",
        "14. #58 (num) (the predicted attribute)\r\n"
      ]
    },
    {
      "cell_type": "code",
      "metadata": {
        "colab": {
          "base_uri": "https://localhost:8080/"
        },
        "id": "bXHhOJ4ENVN0",
        "outputId": "b01d25d0-7cfe-47cc-a249-c712b81903ad"
      },
      "source": [
        "#this gets the data from repository\r\n",
        "import pandas as pd\r\n",
        "\r\n",
        "df = pd.read_csv(\r\n",
        "    'https://archive.ics.uci.edu/ml/machine-learning-databases/heart-disease/processed.cleveland.data', \r\n",
        "    sep=',', \r\n",
        "    header=None,\r\n",
        "    names = [\r\n",
        "    'AGE'\r\n",
        "    ,'SEX'\r\n",
        "    ,'cp'\r\n",
        "    ,'trestbps'\r\n",
        "    ,'chol'\r\n",
        "    ,'fbs'\r\n",
        "    ,'restecg'\r\n",
        "    ,'thalach'\r\n",
        "    ,'exang'\r\n",
        "    ,'oldpeak'\r\n",
        "    ,'slope'\r\n",
        "    ,'ca'\r\n",
        "    ,'thal'\r\n",
        "    ,'class'\r\n",
        "]\r\n",
        ")\r\n",
        "\r\n",
        "print(df)"
      ],
      "execution_count": null,
      "outputs": [
        {
          "output_type": "stream",
          "text": [
            "      AGE  SEX   cp  trestbps   chol  ...  oldpeak  slope   ca  thal  class\n",
            "0    63.0  1.0  1.0     145.0  233.0  ...      2.3    3.0  0.0   6.0      0\n",
            "1    67.0  1.0  4.0     160.0  286.0  ...      1.5    2.0  3.0   3.0      2\n",
            "2    67.0  1.0  4.0     120.0  229.0  ...      2.6    2.0  2.0   7.0      1\n",
            "3    37.0  1.0  3.0     130.0  250.0  ...      3.5    3.0  0.0   3.0      0\n",
            "4    41.0  0.0  2.0     130.0  204.0  ...      1.4    1.0  0.0   3.0      0\n",
            "..    ...  ...  ...       ...    ...  ...      ...    ...  ...   ...    ...\n",
            "298  45.0  1.0  1.0     110.0  264.0  ...      1.2    2.0  0.0   7.0      1\n",
            "299  68.0  1.0  4.0     144.0  193.0  ...      3.4    2.0  2.0   7.0      2\n",
            "300  57.0  1.0  4.0     130.0  131.0  ...      1.2    2.0  1.0   7.0      3\n",
            "301  57.0  0.0  2.0     130.0  236.0  ...      0.0    2.0  1.0   3.0      1\n",
            "302  38.0  1.0  3.0     138.0  175.0  ...      0.0    1.0    ?   3.0      0\n",
            "\n",
            "[303 rows x 14 columns]\n"
          ],
          "name": "stdout"
        }
      ]
    },
    {
      "cell_type": "code",
      "metadata": {
        "id": "Vc26gICvnW7J"
      },
      "source": [
        "#this saves the original data to chosen path\r\n",
        "df.to_csv(\"/content/drive/MyDrive/DataSets_for_Paper/clev_data_original.csv\")"
      ],
      "execution_count": null,
      "outputs": []
    },
    {
      "cell_type": "code",
      "metadata": {
        "id": "Qc7pnQC6yhB3"
      },
      "source": [
        "#class column as first column\r\n",
        "cols = list(df.columns)\r\n",
        "cols = [cols[-1]] + cols[:-1]\r\n",
        "df = df[cols]"
      ],
      "execution_count": null,
      "outputs": []
    },
    {
      "cell_type": "code",
      "metadata": {
        "colab": {
          "base_uri": "https://localhost:8080/",
          "height": 195
        },
        "id": "N3gi3bAWnBPM",
        "outputId": "1403f79f-228c-4195-9eed-d91b937156cf"
      },
      "source": [
        "df.head(5)"
      ],
      "execution_count": null,
      "outputs": [
        {
          "output_type": "execute_result",
          "data": {
            "text/html": [
              "<div>\n",
              "<style scoped>\n",
              "    .dataframe tbody tr th:only-of-type {\n",
              "        vertical-align: middle;\n",
              "    }\n",
              "\n",
              "    .dataframe tbody tr th {\n",
              "        vertical-align: top;\n",
              "    }\n",
              "\n",
              "    .dataframe thead th {\n",
              "        text-align: right;\n",
              "    }\n",
              "</style>\n",
              "<table border=\"1\" class=\"dataframe\">\n",
              "  <thead>\n",
              "    <tr style=\"text-align: right;\">\n",
              "      <th></th>\n",
              "      <th>class</th>\n",
              "      <th>AGE</th>\n",
              "      <th>SEX</th>\n",
              "      <th>cp</th>\n",
              "      <th>trestbps</th>\n",
              "      <th>chol</th>\n",
              "      <th>fbs</th>\n",
              "      <th>restecg</th>\n",
              "      <th>thalach</th>\n",
              "      <th>exang</th>\n",
              "      <th>oldpeak</th>\n",
              "      <th>slope</th>\n",
              "      <th>ca</th>\n",
              "      <th>thal</th>\n",
              "    </tr>\n",
              "  </thead>\n",
              "  <tbody>\n",
              "    <tr>\n",
              "      <th>0</th>\n",
              "      <td>0</td>\n",
              "      <td>63.0</td>\n",
              "      <td>1.0</td>\n",
              "      <td>1.0</td>\n",
              "      <td>145.0</td>\n",
              "      <td>233.0</td>\n",
              "      <td>1.0</td>\n",
              "      <td>2.0</td>\n",
              "      <td>150.0</td>\n",
              "      <td>0.0</td>\n",
              "      <td>2.3</td>\n",
              "      <td>3.0</td>\n",
              "      <td>0.0</td>\n",
              "      <td>6.0</td>\n",
              "    </tr>\n",
              "    <tr>\n",
              "      <th>1</th>\n",
              "      <td>2</td>\n",
              "      <td>67.0</td>\n",
              "      <td>1.0</td>\n",
              "      <td>4.0</td>\n",
              "      <td>160.0</td>\n",
              "      <td>286.0</td>\n",
              "      <td>0.0</td>\n",
              "      <td>2.0</td>\n",
              "      <td>108.0</td>\n",
              "      <td>1.0</td>\n",
              "      <td>1.5</td>\n",
              "      <td>2.0</td>\n",
              "      <td>3.0</td>\n",
              "      <td>3.0</td>\n",
              "    </tr>\n",
              "    <tr>\n",
              "      <th>2</th>\n",
              "      <td>1</td>\n",
              "      <td>67.0</td>\n",
              "      <td>1.0</td>\n",
              "      <td>4.0</td>\n",
              "      <td>120.0</td>\n",
              "      <td>229.0</td>\n",
              "      <td>0.0</td>\n",
              "      <td>2.0</td>\n",
              "      <td>129.0</td>\n",
              "      <td>1.0</td>\n",
              "      <td>2.6</td>\n",
              "      <td>2.0</td>\n",
              "      <td>2.0</td>\n",
              "      <td>7.0</td>\n",
              "    </tr>\n",
              "    <tr>\n",
              "      <th>3</th>\n",
              "      <td>0</td>\n",
              "      <td>37.0</td>\n",
              "      <td>1.0</td>\n",
              "      <td>3.0</td>\n",
              "      <td>130.0</td>\n",
              "      <td>250.0</td>\n",
              "      <td>0.0</td>\n",
              "      <td>0.0</td>\n",
              "      <td>187.0</td>\n",
              "      <td>0.0</td>\n",
              "      <td>3.5</td>\n",
              "      <td>3.0</td>\n",
              "      <td>0.0</td>\n",
              "      <td>3.0</td>\n",
              "    </tr>\n",
              "    <tr>\n",
              "      <th>4</th>\n",
              "      <td>0</td>\n",
              "      <td>41.0</td>\n",
              "      <td>0.0</td>\n",
              "      <td>2.0</td>\n",
              "      <td>130.0</td>\n",
              "      <td>204.0</td>\n",
              "      <td>0.0</td>\n",
              "      <td>2.0</td>\n",
              "      <td>172.0</td>\n",
              "      <td>0.0</td>\n",
              "      <td>1.4</td>\n",
              "      <td>1.0</td>\n",
              "      <td>0.0</td>\n",
              "      <td>3.0</td>\n",
              "    </tr>\n",
              "  </tbody>\n",
              "</table>\n",
              "</div>"
            ],
            "text/plain": [
              "   class   AGE  SEX   cp  trestbps  ...  exang  oldpeak  slope   ca  thal\n",
              "0      0  63.0  1.0  1.0     145.0  ...    0.0      2.3    3.0  0.0   6.0\n",
              "1      2  67.0  1.0  4.0     160.0  ...    1.0      1.5    2.0  3.0   3.0\n",
              "2      1  67.0  1.0  4.0     120.0  ...    1.0      2.6    2.0  2.0   7.0\n",
              "3      0  37.0  1.0  3.0     130.0  ...    0.0      3.5    3.0  0.0   3.0\n",
              "4      0  41.0  0.0  2.0     130.0  ...    0.0      1.4    1.0  0.0   3.0\n",
              "\n",
              "[5 rows x 14 columns]"
            ]
          },
          "metadata": {
            "tags": []
          },
          "execution_count": 13
        }
      ]
    },
    {
      "cell_type": "code",
      "metadata": {
        "colab": {
          "base_uri": "https://localhost:8080/"
        },
        "id": "u0LFQnudt3A4",
        "outputId": "0be82a12-f3a7-423a-8f48-9a2139be9180"
      },
      "source": [
        "#checking null values\r\n",
        "df.columns[df.isna().any()].tolist()"
      ],
      "execution_count": null,
      "outputs": [
        {
          "output_type": "execute_result",
          "data": {
            "text/plain": [
              "[]"
            ]
          },
          "metadata": {
            "tags": []
          },
          "execution_count": 14
        }
      ]
    },
    {
      "cell_type": "markdown",
      "metadata": {
        "id": "D3WiLwoxmSui"
      },
      "source": [
        "For rules generations"
      ]
    },
    {
      "cell_type": "code",
      "metadata": {
        "id": "mLEg42x5XZCX"
      },
      "source": [
        "for i,n in enumerate(df.columns):\r\n",
        "  if n=='class':\r\n",
        "    df[n] = 'class@' + df[n].astype(str)\r\n",
        "  else:\r\n",
        "    df[n] = 'A'+str(i)+'@' + df[n].astype(str)"
      ],
      "execution_count": null,
      "outputs": []
    },
    {
      "cell_type": "code",
      "metadata": {
        "id": "neW85q3ZLQxo"
      },
      "source": [
        "df['class'] = df['class'].str.replace('2', '1').str.replace('3', '1').str.replace('4', '1')"
      ],
      "execution_count": null,
      "outputs": []
    },
    {
      "cell_type": "code",
      "metadata": {
        "colab": {
          "base_uri": "https://localhost:8080/",
          "height": 402
        },
        "id": "FZd8uVS2Xp2t",
        "outputId": "f057ae7e-b267-4e9d-a3ad-266993765229"
      },
      "source": [
        "df"
      ],
      "execution_count": null,
      "outputs": [
        {
          "output_type": "execute_result",
          "data": {
            "text/html": [
              "<div>\n",
              "<style scoped>\n",
              "    .dataframe tbody tr th:only-of-type {\n",
              "        vertical-align: middle;\n",
              "    }\n",
              "\n",
              "    .dataframe tbody tr th {\n",
              "        vertical-align: top;\n",
              "    }\n",
              "\n",
              "    .dataframe thead th {\n",
              "        text-align: right;\n",
              "    }\n",
              "</style>\n",
              "<table border=\"1\" class=\"dataframe\">\n",
              "  <thead>\n",
              "    <tr style=\"text-align: right;\">\n",
              "      <th></th>\n",
              "      <th>class</th>\n",
              "      <th>AGE</th>\n",
              "      <th>SEX</th>\n",
              "      <th>cp</th>\n",
              "      <th>trestbps</th>\n",
              "      <th>chol</th>\n",
              "      <th>fbs</th>\n",
              "      <th>restecg</th>\n",
              "      <th>thalach</th>\n",
              "      <th>exang</th>\n",
              "      <th>oldpeak</th>\n",
              "      <th>slope</th>\n",
              "      <th>ca</th>\n",
              "      <th>thal</th>\n",
              "    </tr>\n",
              "  </thead>\n",
              "  <tbody>\n",
              "    <tr>\n",
              "      <th>0</th>\n",
              "      <td>class@0</td>\n",
              "      <td>A1@63.0</td>\n",
              "      <td>A2@1.0</td>\n",
              "      <td>A3@1.0</td>\n",
              "      <td>A4@145.0</td>\n",
              "      <td>A5@233.0</td>\n",
              "      <td>A6@1.0</td>\n",
              "      <td>A7@2.0</td>\n",
              "      <td>A8@150.0</td>\n",
              "      <td>A9@0.0</td>\n",
              "      <td>A10@2.3</td>\n",
              "      <td>A11@3.0</td>\n",
              "      <td>A12@0.0</td>\n",
              "      <td>A13@6.0</td>\n",
              "    </tr>\n",
              "    <tr>\n",
              "      <th>1</th>\n",
              "      <td>class@1</td>\n",
              "      <td>A1@67.0</td>\n",
              "      <td>A2@1.0</td>\n",
              "      <td>A3@4.0</td>\n",
              "      <td>A4@160.0</td>\n",
              "      <td>A5@286.0</td>\n",
              "      <td>A6@0.0</td>\n",
              "      <td>A7@2.0</td>\n",
              "      <td>A8@108.0</td>\n",
              "      <td>A9@1.0</td>\n",
              "      <td>A10@1.5</td>\n",
              "      <td>A11@2.0</td>\n",
              "      <td>A12@3.0</td>\n",
              "      <td>A13@3.0</td>\n",
              "    </tr>\n",
              "    <tr>\n",
              "      <th>2</th>\n",
              "      <td>class@1</td>\n",
              "      <td>A1@67.0</td>\n",
              "      <td>A2@1.0</td>\n",
              "      <td>A3@4.0</td>\n",
              "      <td>A4@120.0</td>\n",
              "      <td>A5@229.0</td>\n",
              "      <td>A6@0.0</td>\n",
              "      <td>A7@2.0</td>\n",
              "      <td>A8@129.0</td>\n",
              "      <td>A9@1.0</td>\n",
              "      <td>A10@2.6</td>\n",
              "      <td>A11@2.0</td>\n",
              "      <td>A12@2.0</td>\n",
              "      <td>A13@7.0</td>\n",
              "    </tr>\n",
              "    <tr>\n",
              "      <th>3</th>\n",
              "      <td>class@0</td>\n",
              "      <td>A1@37.0</td>\n",
              "      <td>A2@1.0</td>\n",
              "      <td>A3@3.0</td>\n",
              "      <td>A4@130.0</td>\n",
              "      <td>A5@250.0</td>\n",
              "      <td>A6@0.0</td>\n",
              "      <td>A7@0.0</td>\n",
              "      <td>A8@187.0</td>\n",
              "      <td>A9@0.0</td>\n",
              "      <td>A10@3.5</td>\n",
              "      <td>A11@3.0</td>\n",
              "      <td>A12@0.0</td>\n",
              "      <td>A13@3.0</td>\n",
              "    </tr>\n",
              "    <tr>\n",
              "      <th>4</th>\n",
              "      <td>class@0</td>\n",
              "      <td>A1@41.0</td>\n",
              "      <td>A2@0.0</td>\n",
              "      <td>A3@2.0</td>\n",
              "      <td>A4@130.0</td>\n",
              "      <td>A5@204.0</td>\n",
              "      <td>A6@0.0</td>\n",
              "      <td>A7@2.0</td>\n",
              "      <td>A8@172.0</td>\n",
              "      <td>A9@0.0</td>\n",
              "      <td>A10@1.4</td>\n",
              "      <td>A11@1.0</td>\n",
              "      <td>A12@0.0</td>\n",
              "      <td>A13@3.0</td>\n",
              "    </tr>\n",
              "    <tr>\n",
              "      <th>...</th>\n",
              "      <td>...</td>\n",
              "      <td>...</td>\n",
              "      <td>...</td>\n",
              "      <td>...</td>\n",
              "      <td>...</td>\n",
              "      <td>...</td>\n",
              "      <td>...</td>\n",
              "      <td>...</td>\n",
              "      <td>...</td>\n",
              "      <td>...</td>\n",
              "      <td>...</td>\n",
              "      <td>...</td>\n",
              "      <td>...</td>\n",
              "      <td>...</td>\n",
              "    </tr>\n",
              "    <tr>\n",
              "      <th>298</th>\n",
              "      <td>class@1</td>\n",
              "      <td>A1@45.0</td>\n",
              "      <td>A2@1.0</td>\n",
              "      <td>A3@1.0</td>\n",
              "      <td>A4@110.0</td>\n",
              "      <td>A5@264.0</td>\n",
              "      <td>A6@0.0</td>\n",
              "      <td>A7@0.0</td>\n",
              "      <td>A8@132.0</td>\n",
              "      <td>A9@0.0</td>\n",
              "      <td>A10@1.2</td>\n",
              "      <td>A11@2.0</td>\n",
              "      <td>A12@0.0</td>\n",
              "      <td>A13@7.0</td>\n",
              "    </tr>\n",
              "    <tr>\n",
              "      <th>299</th>\n",
              "      <td>class@1</td>\n",
              "      <td>A1@68.0</td>\n",
              "      <td>A2@1.0</td>\n",
              "      <td>A3@4.0</td>\n",
              "      <td>A4@144.0</td>\n",
              "      <td>A5@193.0</td>\n",
              "      <td>A6@1.0</td>\n",
              "      <td>A7@0.0</td>\n",
              "      <td>A8@141.0</td>\n",
              "      <td>A9@0.0</td>\n",
              "      <td>A10@3.4</td>\n",
              "      <td>A11@2.0</td>\n",
              "      <td>A12@2.0</td>\n",
              "      <td>A13@7.0</td>\n",
              "    </tr>\n",
              "    <tr>\n",
              "      <th>300</th>\n",
              "      <td>class@1</td>\n",
              "      <td>A1@57.0</td>\n",
              "      <td>A2@1.0</td>\n",
              "      <td>A3@4.0</td>\n",
              "      <td>A4@130.0</td>\n",
              "      <td>A5@131.0</td>\n",
              "      <td>A6@0.0</td>\n",
              "      <td>A7@0.0</td>\n",
              "      <td>A8@115.0</td>\n",
              "      <td>A9@1.0</td>\n",
              "      <td>A10@1.2</td>\n",
              "      <td>A11@2.0</td>\n",
              "      <td>A12@1.0</td>\n",
              "      <td>A13@7.0</td>\n",
              "    </tr>\n",
              "    <tr>\n",
              "      <th>301</th>\n",
              "      <td>class@1</td>\n",
              "      <td>A1@57.0</td>\n",
              "      <td>A2@0.0</td>\n",
              "      <td>A3@2.0</td>\n",
              "      <td>A4@130.0</td>\n",
              "      <td>A5@236.0</td>\n",
              "      <td>A6@0.0</td>\n",
              "      <td>A7@2.0</td>\n",
              "      <td>A8@174.0</td>\n",
              "      <td>A9@0.0</td>\n",
              "      <td>A10@0.0</td>\n",
              "      <td>A11@2.0</td>\n",
              "      <td>A12@1.0</td>\n",
              "      <td>A13@3.0</td>\n",
              "    </tr>\n",
              "    <tr>\n",
              "      <th>302</th>\n",
              "      <td>class@0</td>\n",
              "      <td>A1@38.0</td>\n",
              "      <td>A2@1.0</td>\n",
              "      <td>A3@3.0</td>\n",
              "      <td>A4@138.0</td>\n",
              "      <td>A5@175.0</td>\n",
              "      <td>A6@0.0</td>\n",
              "      <td>A7@0.0</td>\n",
              "      <td>A8@173.0</td>\n",
              "      <td>A9@0.0</td>\n",
              "      <td>A10@0.0</td>\n",
              "      <td>A11@1.0</td>\n",
              "      <td>A12@?</td>\n",
              "      <td>A13@3.0</td>\n",
              "    </tr>\n",
              "  </tbody>\n",
              "</table>\n",
              "<p>303 rows × 14 columns</p>\n",
              "</div>"
            ],
            "text/plain": [
              "       class      AGE     SEX      cp  ...  oldpeak    slope       ca     thal\n",
              "0    class@0  A1@63.0  A2@1.0  A3@1.0  ...  A10@2.3  A11@3.0  A12@0.0  A13@6.0\n",
              "1    class@1  A1@67.0  A2@1.0  A3@4.0  ...  A10@1.5  A11@2.0  A12@3.0  A13@3.0\n",
              "2    class@1  A1@67.0  A2@1.0  A3@4.0  ...  A10@2.6  A11@2.0  A12@2.0  A13@7.0\n",
              "3    class@0  A1@37.0  A2@1.0  A3@3.0  ...  A10@3.5  A11@3.0  A12@0.0  A13@3.0\n",
              "4    class@0  A1@41.0  A2@0.0  A3@2.0  ...  A10@1.4  A11@1.0  A12@0.0  A13@3.0\n",
              "..       ...      ...     ...     ...  ...      ...      ...      ...      ...\n",
              "298  class@1  A1@45.0  A2@1.0  A3@1.0  ...  A10@1.2  A11@2.0  A12@0.0  A13@7.0\n",
              "299  class@1  A1@68.0  A2@1.0  A3@4.0  ...  A10@3.4  A11@2.0  A12@2.0  A13@7.0\n",
              "300  class@1  A1@57.0  A2@1.0  A3@4.0  ...  A10@1.2  A11@2.0  A12@1.0  A13@7.0\n",
              "301  class@1  A1@57.0  A2@0.0  A3@2.0  ...  A10@0.0  A11@2.0  A12@1.0  A13@3.0\n",
              "302  class@0  A1@38.0  A2@1.0  A3@3.0  ...  A10@0.0  A11@1.0    A12@?  A13@3.0\n",
              "\n",
              "[303 rows x 14 columns]"
            ]
          },
          "metadata": {
            "tags": []
          },
          "execution_count": 17
        }
      ]
    },
    {
      "cell_type": "markdown",
      "metadata": {
        "id": "FxIL7KaBgsls"
      },
      "source": [
        "For RP-growth Data"
      ]
    },
    {
      "cell_type": "code",
      "metadata": {
        "id": "u3QFGTHxaGKf"
      },
      "source": [
        "#all unique values are put into a dictionary\r\n",
        "uni = pd.DataFrame()\r\n",
        "for col in df:\r\n",
        "    uni= pd.concat([uni, pd.DataFrame(df[col].unique())], ignore_index=True)"
      ],
      "execution_count": null,
      "outputs": []
    },
    {
      "cell_type": "code",
      "metadata": {
        "colab": {
          "base_uri": "https://localhost:8080/",
          "height": 402
        },
        "id": "X-Lnq3Jmc1Ws",
        "outputId": "60395d60-c7ff-4ac2-a2fc-c18808537d66"
      },
      "source": [
        "uni"
      ],
      "execution_count": null,
      "outputs": [
        {
          "output_type": "execute_result",
          "data": {
            "text/html": [
              "<div>\n",
              "<style scoped>\n",
              "    .dataframe tbody tr th:only-of-type {\n",
              "        vertical-align: middle;\n",
              "    }\n",
              "\n",
              "    .dataframe tbody tr th {\n",
              "        vertical-align: top;\n",
              "    }\n",
              "\n",
              "    .dataframe thead th {\n",
              "        text-align: right;\n",
              "    }\n",
              "</style>\n",
              "<table border=\"1\" class=\"dataframe\">\n",
              "  <thead>\n",
              "    <tr style=\"text-align: right;\">\n",
              "      <th></th>\n",
              "      <th>0</th>\n",
              "    </tr>\n",
              "  </thead>\n",
              "  <tbody>\n",
              "    <tr>\n",
              "      <th>0</th>\n",
              "      <td>class@0</td>\n",
              "    </tr>\n",
              "    <tr>\n",
              "      <th>1</th>\n",
              "      <td>class@1</td>\n",
              "    </tr>\n",
              "    <tr>\n",
              "      <th>2</th>\n",
              "      <td>A1@63.0</td>\n",
              "    </tr>\n",
              "    <tr>\n",
              "      <th>3</th>\n",
              "      <td>A1@67.0</td>\n",
              "    </tr>\n",
              "    <tr>\n",
              "      <th>4</th>\n",
              "      <td>A1@37.0</td>\n",
              "    </tr>\n",
              "    <tr>\n",
              "      <th>...</th>\n",
              "      <td>...</td>\n",
              "    </tr>\n",
              "    <tr>\n",
              "      <th>396</th>\n",
              "      <td>A12@?</td>\n",
              "    </tr>\n",
              "    <tr>\n",
              "      <th>397</th>\n",
              "      <td>A13@6.0</td>\n",
              "    </tr>\n",
              "    <tr>\n",
              "      <th>398</th>\n",
              "      <td>A13@3.0</td>\n",
              "    </tr>\n",
              "    <tr>\n",
              "      <th>399</th>\n",
              "      <td>A13@7.0</td>\n",
              "    </tr>\n",
              "    <tr>\n",
              "      <th>400</th>\n",
              "      <td>A13@?</td>\n",
              "    </tr>\n",
              "  </tbody>\n",
              "</table>\n",
              "<p>401 rows × 1 columns</p>\n",
              "</div>"
            ],
            "text/plain": [
              "           0\n",
              "0    class@0\n",
              "1    class@1\n",
              "2    A1@63.0\n",
              "3    A1@67.0\n",
              "4    A1@37.0\n",
              "..       ...\n",
              "396    A12@?\n",
              "397  A13@6.0\n",
              "398  A13@3.0\n",
              "399  A13@7.0\n",
              "400    A13@?\n",
              "\n",
              "[401 rows x 1 columns]"
            ]
          },
          "metadata": {
            "tags": []
          },
          "execution_count": 19
        }
      ]
    },
    {
      "cell_type": "code",
      "metadata": {
        "id": "sgYlRd2Ic-NU"
      },
      "source": [
        "my_dict = uni.to_dict()"
      ],
      "execution_count": null,
      "outputs": []
    },
    {
      "cell_type": "code",
      "metadata": {
        "colab": {
          "base_uri": "https://localhost:8080/"
        },
        "id": "DeIxvvAFfnbs",
        "outputId": "450aa235-b6a4-4bc6-87a4-1d6f408ad3ca"
      },
      "source": [
        "my_dict"
      ],
      "execution_count": null,
      "outputs": [
        {
          "output_type": "execute_result",
          "data": {
            "text/plain": [
              "{0: {0: 'class@0',\n",
              "  1: 'class@1',\n",
              "  2: 'A1@63.0',\n",
              "  3: 'A1@67.0',\n",
              "  4: 'A1@37.0',\n",
              "  5: 'A1@41.0',\n",
              "  6: 'A1@56.0',\n",
              "  7: 'A1@62.0',\n",
              "  8: 'A1@57.0',\n",
              "  9: 'A1@53.0',\n",
              "  10: 'A1@44.0',\n",
              "  11: 'A1@52.0',\n",
              "  12: 'A1@48.0',\n",
              "  13: 'A1@54.0',\n",
              "  14: 'A1@49.0',\n",
              "  15: 'A1@64.0',\n",
              "  16: 'A1@58.0',\n",
              "  17: 'A1@60.0',\n",
              "  18: 'A1@50.0',\n",
              "  19: 'A1@66.0',\n",
              "  20: 'A1@43.0',\n",
              "  21: 'A1@40.0',\n",
              "  22: 'A1@69.0',\n",
              "  23: 'A1@59.0',\n",
              "  24: 'A1@42.0',\n",
              "  25: 'A1@55.0',\n",
              "  26: 'A1@61.0',\n",
              "  27: 'A1@65.0',\n",
              "  28: 'A1@71.0',\n",
              "  29: 'A1@51.0',\n",
              "  30: 'A1@46.0',\n",
              "  31: 'A1@45.0',\n",
              "  32: 'A1@39.0',\n",
              "  33: 'A1@68.0',\n",
              "  34: 'A1@47.0',\n",
              "  35: 'A1@34.0',\n",
              "  36: 'A1@35.0',\n",
              "  37: 'A1@29.0',\n",
              "  38: 'A1@70.0',\n",
              "  39: 'A1@77.0',\n",
              "  40: 'A1@38.0',\n",
              "  41: 'A1@74.0',\n",
              "  42: 'A1@76.0',\n",
              "  43: 'A2@1.0',\n",
              "  44: 'A2@0.0',\n",
              "  45: 'A3@1.0',\n",
              "  46: 'A3@4.0',\n",
              "  47: 'A3@3.0',\n",
              "  48: 'A3@2.0',\n",
              "  49: 'A4@145.0',\n",
              "  50: 'A4@160.0',\n",
              "  51: 'A4@120.0',\n",
              "  52: 'A4@130.0',\n",
              "  53: 'A4@140.0',\n",
              "  54: 'A4@172.0',\n",
              "  55: 'A4@150.0',\n",
              "  56: 'A4@110.0',\n",
              "  57: 'A4@132.0',\n",
              "  58: 'A4@117.0',\n",
              "  59: 'A4@135.0',\n",
              "  60: 'A4@112.0',\n",
              "  61: 'A4@105.0',\n",
              "  62: 'A4@124.0',\n",
              "  63: 'A4@125.0',\n",
              "  64: 'A4@142.0',\n",
              "  65: 'A4@128.0',\n",
              "  66: 'A4@170.0',\n",
              "  67: 'A4@155.0',\n",
              "  68: 'A4@104.0',\n",
              "  69: 'A4@180.0',\n",
              "  70: 'A4@138.0',\n",
              "  71: 'A4@108.0',\n",
              "  72: 'A4@134.0',\n",
              "  73: 'A4@122.0',\n",
              "  74: 'A4@115.0',\n",
              "  75: 'A4@118.0',\n",
              "  76: 'A4@100.0',\n",
              "  77: 'A4@200.0',\n",
              "  78: 'A4@94.0',\n",
              "  79: 'A4@165.0',\n",
              "  80: 'A4@102.0',\n",
              "  81: 'A4@152.0',\n",
              "  82: 'A4@101.0',\n",
              "  83: 'A4@126.0',\n",
              "  84: 'A4@174.0',\n",
              "  85: 'A4@148.0',\n",
              "  86: 'A4@178.0',\n",
              "  87: 'A4@158.0',\n",
              "  88: 'A4@192.0',\n",
              "  89: 'A4@129.0',\n",
              "  90: 'A4@144.0',\n",
              "  91: 'A4@123.0',\n",
              "  92: 'A4@136.0',\n",
              "  93: 'A4@146.0',\n",
              "  94: 'A4@106.0',\n",
              "  95: 'A4@156.0',\n",
              "  96: 'A4@154.0',\n",
              "  97: 'A4@114.0',\n",
              "  98: 'A4@164.0',\n",
              "  99: 'A5@233.0',\n",
              "  100: 'A5@286.0',\n",
              "  101: 'A5@229.0',\n",
              "  102: 'A5@250.0',\n",
              "  103: 'A5@204.0',\n",
              "  104: 'A5@236.0',\n",
              "  105: 'A5@268.0',\n",
              "  106: 'A5@354.0',\n",
              "  107: 'A5@254.0',\n",
              "  108: 'A5@203.0',\n",
              "  109: 'A5@192.0',\n",
              "  110: 'A5@294.0',\n",
              "  111: 'A5@256.0',\n",
              "  112: 'A5@263.0',\n",
              "  113: 'A5@199.0',\n",
              "  114: 'A5@168.0',\n",
              "  115: 'A5@239.0',\n",
              "  116: 'A5@275.0',\n",
              "  117: 'A5@266.0',\n",
              "  118: 'A5@211.0',\n",
              "  119: 'A5@283.0',\n",
              "  120: 'A5@284.0',\n",
              "  121: 'A5@224.0',\n",
              "  122: 'A5@206.0',\n",
              "  123: 'A5@219.0',\n",
              "  124: 'A5@340.0',\n",
              "  125: 'A5@226.0',\n",
              "  126: 'A5@247.0',\n",
              "  127: 'A5@167.0',\n",
              "  128: 'A5@230.0',\n",
              "  129: 'A5@335.0',\n",
              "  130: 'A5@234.0',\n",
              "  131: 'A5@177.0',\n",
              "  132: 'A5@276.0',\n",
              "  133: 'A5@353.0',\n",
              "  134: 'A5@243.0',\n",
              "  135: 'A5@225.0',\n",
              "  136: 'A5@302.0',\n",
              "  137: 'A5@212.0',\n",
              "  138: 'A5@330.0',\n",
              "  139: 'A5@175.0',\n",
              "  140: 'A5@417.0',\n",
              "  141: 'A5@197.0',\n",
              "  142: 'A5@198.0',\n",
              "  143: 'A5@290.0',\n",
              "  144: 'A5@253.0',\n",
              "  145: 'A5@172.0',\n",
              "  146: 'A5@273.0',\n",
              "  147: 'A5@213.0',\n",
              "  148: 'A5@305.0',\n",
              "  149: 'A5@216.0',\n",
              "  150: 'A5@304.0',\n",
              "  151: 'A5@188.0',\n",
              "  152: 'A5@282.0',\n",
              "  153: 'A5@185.0',\n",
              "  154: 'A5@232.0',\n",
              "  155: 'A5@326.0',\n",
              "  156: 'A5@231.0',\n",
              "  157: 'A5@269.0',\n",
              "  158: 'A5@267.0',\n",
              "  159: 'A5@248.0',\n",
              "  160: 'A5@360.0',\n",
              "  161: 'A5@258.0',\n",
              "  162: 'A5@308.0',\n",
              "  163: 'A5@245.0',\n",
              "  164: 'A5@270.0',\n",
              "  165: 'A5@208.0',\n",
              "  166: 'A5@264.0',\n",
              "  167: 'A5@321.0',\n",
              "  168: 'A5@274.0',\n",
              "  169: 'A5@325.0',\n",
              "  170: 'A5@235.0',\n",
              "  171: 'A5@257.0',\n",
              "  172: 'A5@164.0',\n",
              "  173: 'A5@141.0',\n",
              "  174: 'A5@252.0',\n",
              "  175: 'A5@255.0',\n",
              "  176: 'A5@201.0',\n",
              "  177: 'A5@222.0',\n",
              "  178: 'A5@260.0',\n",
              "  179: 'A5@182.0',\n",
              "  180: 'A5@303.0',\n",
              "  181: 'A5@265.0',\n",
              "  182: 'A5@309.0',\n",
              "  183: 'A5@307.0',\n",
              "  184: 'A5@249.0',\n",
              "  185: 'A5@186.0',\n",
              "  186: 'A5@341.0',\n",
              "  187: 'A5@183.0',\n",
              "  188: 'A5@407.0',\n",
              "  189: 'A5@217.0',\n",
              "  190: 'A5@288.0',\n",
              "  191: 'A5@220.0',\n",
              "  192: 'A5@209.0',\n",
              "  193: 'A5@227.0',\n",
              "  194: 'A5@261.0',\n",
              "  195: 'A5@174.0',\n",
              "  196: 'A5@281.0',\n",
              "  197: 'A5@221.0',\n",
              "  198: 'A5@205.0',\n",
              "  199: 'A5@240.0',\n",
              "  200: 'A5@289.0',\n",
              "  201: 'A5@318.0',\n",
              "  202: 'A5@298.0',\n",
              "  203: 'A5@564.0',\n",
              "  204: 'A5@246.0',\n",
              "  205: 'A5@322.0',\n",
              "  206: 'A5@299.0',\n",
              "  207: 'A5@300.0',\n",
              "  208: 'A5@293.0',\n",
              "  209: 'A5@277.0',\n",
              "  210: 'A5@214.0',\n",
              "  211: 'A5@207.0',\n",
              "  212: 'A5@223.0',\n",
              "  213: 'A5@160.0',\n",
              "  214: 'A5@394.0',\n",
              "  215: 'A5@184.0',\n",
              "  216: 'A5@315.0',\n",
              "  217: 'A5@409.0',\n",
              "  218: 'A5@244.0',\n",
              "  219: 'A5@195.0',\n",
              "  220: 'A5@196.0',\n",
              "  221: 'A5@126.0',\n",
              "  222: 'A5@313.0',\n",
              "  223: 'A5@259.0',\n",
              "  224: 'A5@200.0',\n",
              "  225: 'A5@262.0',\n",
              "  226: 'A5@215.0',\n",
              "  227: 'A5@228.0',\n",
              "  228: 'A5@193.0',\n",
              "  229: 'A5@271.0',\n",
              "  230: 'A5@210.0',\n",
              "  231: 'A5@327.0',\n",
              "  232: 'A5@149.0',\n",
              "  233: 'A5@295.0',\n",
              "  234: 'A5@306.0',\n",
              "  235: 'A5@178.0',\n",
              "  236: 'A5@237.0',\n",
              "  237: 'A5@218.0',\n",
              "  238: 'A5@242.0',\n",
              "  239: 'A5@319.0',\n",
              "  240: 'A5@166.0',\n",
              "  241: 'A5@180.0',\n",
              "  242: 'A5@311.0',\n",
              "  243: 'A5@278.0',\n",
              "  244: 'A5@342.0',\n",
              "  245: 'A5@169.0',\n",
              "  246: 'A5@187.0',\n",
              "  247: 'A5@157.0',\n",
              "  248: 'A5@176.0',\n",
              "  249: 'A5@241.0',\n",
              "  250: 'A5@131.0',\n",
              "  251: 'A6@1.0',\n",
              "  252: 'A6@0.0',\n",
              "  253: 'A7@2.0',\n",
              "  254: 'A7@0.0',\n",
              "  255: 'A7@1.0',\n",
              "  256: 'A8@150.0',\n",
              "  257: 'A8@108.0',\n",
              "  258: 'A8@129.0',\n",
              "  259: 'A8@187.0',\n",
              "  260: 'A8@172.0',\n",
              "  261: 'A8@178.0',\n",
              "  262: 'A8@160.0',\n",
              "  263: 'A8@163.0',\n",
              "  264: 'A8@147.0',\n",
              "  265: 'A8@155.0',\n",
              "  266: 'A8@148.0',\n",
              "  267: 'A8@153.0',\n",
              "  268: 'A8@142.0',\n",
              "  269: 'A8@173.0',\n",
              "  270: 'A8@162.0',\n",
              "  271: 'A8@174.0',\n",
              "  272: 'A8@168.0',\n",
              "  273: 'A8@139.0',\n",
              "  274: 'A8@171.0',\n",
              "  275: 'A8@144.0',\n",
              "  276: 'A8@132.0',\n",
              "  277: 'A8@158.0',\n",
              "  278: 'A8@114.0',\n",
              "  279: 'A8@151.0',\n",
              "  280: 'A8@161.0',\n",
              "  281: 'A8@179.0',\n",
              "  282: 'A8@120.0',\n",
              "  283: 'A8@112.0',\n",
              "  284: 'A8@137.0',\n",
              "  285: 'A8@157.0',\n",
              "  286: 'A8@169.0',\n",
              "  287: 'A8@165.0',\n",
              "  288: 'A8@123.0',\n",
              "  289: 'A8@128.0',\n",
              "  290: 'A8@152.0',\n",
              "  291: 'A8@140.0',\n",
              "  292: 'A8@188.0',\n",
              "  293: 'A8@109.0',\n",
              "  294: 'A8@125.0',\n",
              "  295: 'A8@131.0',\n",
              "  296: 'A8@170.0',\n",
              "  297: 'A8@113.0',\n",
              "  298: 'A8@99.0',\n",
              "  299: 'A8@177.0',\n",
              "  300: 'A8@141.0',\n",
              "  301: 'A8@180.0',\n",
              "  302: 'A8@111.0',\n",
              "  303: 'A8@143.0',\n",
              "  304: 'A8@182.0',\n",
              "  305: 'A8@156.0',\n",
              "  306: 'A8@115.0',\n",
              "  307: 'A8@149.0',\n",
              "  308: 'A8@145.0',\n",
              "  309: 'A8@146.0',\n",
              "  310: 'A8@175.0',\n",
              "  311: 'A8@186.0',\n",
              "  312: 'A8@185.0',\n",
              "  313: 'A8@159.0',\n",
              "  314: 'A8@130.0',\n",
              "  315: 'A8@190.0',\n",
              "  316: 'A8@136.0',\n",
              "  317: 'A8@97.0',\n",
              "  318: 'A8@127.0',\n",
              "  319: 'A8@154.0',\n",
              "  320: 'A8@133.0',\n",
              "  321: 'A8@126.0',\n",
              "  322: 'A8@202.0',\n",
              "  323: 'A8@103.0',\n",
              "  324: 'A8@166.0',\n",
              "  325: 'A8@164.0',\n",
              "  326: 'A8@184.0',\n",
              "  327: 'A8@124.0',\n",
              "  328: 'A8@122.0',\n",
              "  329: 'A8@96.0',\n",
              "  330: 'A8@138.0',\n",
              "  331: 'A8@88.0',\n",
              "  332: 'A8@105.0',\n",
              "  333: 'A8@194.0',\n",
              "  334: 'A8@195.0',\n",
              "  335: 'A8@106.0',\n",
              "  336: 'A8@167.0',\n",
              "  337: 'A8@95.0',\n",
              "  338: 'A8@192.0',\n",
              "  339: 'A8@117.0',\n",
              "  340: 'A8@121.0',\n",
              "  341: 'A8@116.0',\n",
              "  342: 'A8@71.0',\n",
              "  343: 'A8@118.0',\n",
              "  344: 'A8@181.0',\n",
              "  345: 'A8@134.0',\n",
              "  346: 'A8@90.0',\n",
              "  347: 'A9@0.0',\n",
              "  348: 'A9@1.0',\n",
              "  349: 'A10@2.3',\n",
              "  350: 'A10@1.5',\n",
              "  351: 'A10@2.6',\n",
              "  352: 'A10@3.5',\n",
              "  353: 'A10@1.4',\n",
              "  354: 'A10@0.8',\n",
              "  355: 'A10@3.6',\n",
              "  356: 'A10@0.6',\n",
              "  357: 'A10@3.1',\n",
              "  358: 'A10@0.4',\n",
              "  359: 'A10@1.3',\n",
              "  360: 'A10@0.0',\n",
              "  361: 'A10@0.5',\n",
              "  362: 'A10@1.6',\n",
              "  363: 'A10@1.0',\n",
              "  364: 'A10@1.2',\n",
              "  365: 'A10@0.2',\n",
              "  366: 'A10@1.8',\n",
              "  367: 'A10@3.2',\n",
              "  368: 'A10@2.4',\n",
              "  369: 'A10@2.0',\n",
              "  370: 'A10@2.5',\n",
              "  371: 'A10@2.2',\n",
              "  372: 'A10@2.8',\n",
              "  373: 'A10@3.0',\n",
              "  374: 'A10@3.4',\n",
              "  375: 'A10@6.2',\n",
              "  376: 'A10@4.0',\n",
              "  377: 'A10@5.6',\n",
              "  378: 'A10@2.9',\n",
              "  379: 'A10@0.1',\n",
              "  380: 'A10@2.1',\n",
              "  381: 'A10@1.9',\n",
              "  382: 'A10@4.2',\n",
              "  383: 'A10@0.9',\n",
              "  384: 'A10@1.1',\n",
              "  385: 'A10@3.8',\n",
              "  386: 'A10@0.7',\n",
              "  387: 'A10@0.3',\n",
              "  388: 'A10@4.4',\n",
              "  389: 'A11@3.0',\n",
              "  390: 'A11@2.0',\n",
              "  391: 'A11@1.0',\n",
              "  392: 'A12@0.0',\n",
              "  393: 'A12@3.0',\n",
              "  394: 'A12@2.0',\n",
              "  395: 'A12@1.0',\n",
              "  396: 'A12@?',\n",
              "  397: 'A13@6.0',\n",
              "  398: 'A13@3.0',\n",
              "  399: 'A13@7.0',\n",
              "  400: 'A13@?'}}"
            ]
          },
          "metadata": {
            "tags": []
          },
          "execution_count": 21
        }
      ]
    },
    {
      "cell_type": "code",
      "metadata": {
        "id": "Qo6J03jygRAD"
      },
      "source": [
        "my_dict = my_dict[0]"
      ],
      "execution_count": null,
      "outputs": []
    },
    {
      "cell_type": "code",
      "metadata": {
        "id": "fKR_7F5ldsV8"
      },
      "source": [
        "#key value pair exhange of the dictionary\r\n",
        "new_dict = dict((value, key) for key, value in my_dict.items())"
      ],
      "execution_count": null,
      "outputs": []
    },
    {
      "cell_type": "code",
      "metadata": {
        "id": "eU1zx51vhCpT"
      },
      "source": [
        "#mapping df to dictionary\r\n",
        "for col in df:\r\n",
        "    df[col] = df[col].replace(new_dict)"
      ],
      "execution_count": null,
      "outputs": []
    },
    {
      "cell_type": "code",
      "metadata": {
        "colab": {
          "base_uri": "https://localhost:8080/",
          "height": 402
        },
        "id": "0qhFbFMQhStD",
        "outputId": "436a7505-2f0e-4840-d53b-42f8b37c3176"
      },
      "source": [
        "df"
      ],
      "execution_count": null,
      "outputs": [
        {
          "output_type": "execute_result",
          "data": {
            "text/html": [
              "<div>\n",
              "<style scoped>\n",
              "    .dataframe tbody tr th:only-of-type {\n",
              "        vertical-align: middle;\n",
              "    }\n",
              "\n",
              "    .dataframe tbody tr th {\n",
              "        vertical-align: top;\n",
              "    }\n",
              "\n",
              "    .dataframe thead th {\n",
              "        text-align: right;\n",
              "    }\n",
              "</style>\n",
              "<table border=\"1\" class=\"dataframe\">\n",
              "  <thead>\n",
              "    <tr style=\"text-align: right;\">\n",
              "      <th></th>\n",
              "      <th>class</th>\n",
              "      <th>AGE</th>\n",
              "      <th>SEX</th>\n",
              "      <th>cp</th>\n",
              "      <th>trestbps</th>\n",
              "      <th>chol</th>\n",
              "      <th>fbs</th>\n",
              "      <th>restecg</th>\n",
              "      <th>thalach</th>\n",
              "      <th>exang</th>\n",
              "      <th>oldpeak</th>\n",
              "      <th>slope</th>\n",
              "      <th>ca</th>\n",
              "      <th>thal</th>\n",
              "    </tr>\n",
              "  </thead>\n",
              "  <tbody>\n",
              "    <tr>\n",
              "      <th>0</th>\n",
              "      <td>0</td>\n",
              "      <td>2</td>\n",
              "      <td>43</td>\n",
              "      <td>45</td>\n",
              "      <td>49</td>\n",
              "      <td>99</td>\n",
              "      <td>251</td>\n",
              "      <td>253</td>\n",
              "      <td>256</td>\n",
              "      <td>347</td>\n",
              "      <td>349</td>\n",
              "      <td>389</td>\n",
              "      <td>392</td>\n",
              "      <td>397</td>\n",
              "    </tr>\n",
              "    <tr>\n",
              "      <th>1</th>\n",
              "      <td>1</td>\n",
              "      <td>3</td>\n",
              "      <td>43</td>\n",
              "      <td>46</td>\n",
              "      <td>50</td>\n",
              "      <td>100</td>\n",
              "      <td>252</td>\n",
              "      <td>253</td>\n",
              "      <td>257</td>\n",
              "      <td>348</td>\n",
              "      <td>350</td>\n",
              "      <td>390</td>\n",
              "      <td>393</td>\n",
              "      <td>398</td>\n",
              "    </tr>\n",
              "    <tr>\n",
              "      <th>2</th>\n",
              "      <td>1</td>\n",
              "      <td>3</td>\n",
              "      <td>43</td>\n",
              "      <td>46</td>\n",
              "      <td>51</td>\n",
              "      <td>101</td>\n",
              "      <td>252</td>\n",
              "      <td>253</td>\n",
              "      <td>258</td>\n",
              "      <td>348</td>\n",
              "      <td>351</td>\n",
              "      <td>390</td>\n",
              "      <td>394</td>\n",
              "      <td>399</td>\n",
              "    </tr>\n",
              "    <tr>\n",
              "      <th>3</th>\n",
              "      <td>0</td>\n",
              "      <td>4</td>\n",
              "      <td>43</td>\n",
              "      <td>47</td>\n",
              "      <td>52</td>\n",
              "      <td>102</td>\n",
              "      <td>252</td>\n",
              "      <td>254</td>\n",
              "      <td>259</td>\n",
              "      <td>347</td>\n",
              "      <td>352</td>\n",
              "      <td>389</td>\n",
              "      <td>392</td>\n",
              "      <td>398</td>\n",
              "    </tr>\n",
              "    <tr>\n",
              "      <th>4</th>\n",
              "      <td>0</td>\n",
              "      <td>5</td>\n",
              "      <td>44</td>\n",
              "      <td>48</td>\n",
              "      <td>52</td>\n",
              "      <td>103</td>\n",
              "      <td>252</td>\n",
              "      <td>253</td>\n",
              "      <td>260</td>\n",
              "      <td>347</td>\n",
              "      <td>353</td>\n",
              "      <td>391</td>\n",
              "      <td>392</td>\n",
              "      <td>398</td>\n",
              "    </tr>\n",
              "    <tr>\n",
              "      <th>...</th>\n",
              "      <td>...</td>\n",
              "      <td>...</td>\n",
              "      <td>...</td>\n",
              "      <td>...</td>\n",
              "      <td>...</td>\n",
              "      <td>...</td>\n",
              "      <td>...</td>\n",
              "      <td>...</td>\n",
              "      <td>...</td>\n",
              "      <td>...</td>\n",
              "      <td>...</td>\n",
              "      <td>...</td>\n",
              "      <td>...</td>\n",
              "      <td>...</td>\n",
              "    </tr>\n",
              "    <tr>\n",
              "      <th>298</th>\n",
              "      <td>1</td>\n",
              "      <td>31</td>\n",
              "      <td>43</td>\n",
              "      <td>45</td>\n",
              "      <td>56</td>\n",
              "      <td>166</td>\n",
              "      <td>252</td>\n",
              "      <td>254</td>\n",
              "      <td>276</td>\n",
              "      <td>347</td>\n",
              "      <td>364</td>\n",
              "      <td>390</td>\n",
              "      <td>392</td>\n",
              "      <td>399</td>\n",
              "    </tr>\n",
              "    <tr>\n",
              "      <th>299</th>\n",
              "      <td>1</td>\n",
              "      <td>33</td>\n",
              "      <td>43</td>\n",
              "      <td>46</td>\n",
              "      <td>90</td>\n",
              "      <td>228</td>\n",
              "      <td>251</td>\n",
              "      <td>254</td>\n",
              "      <td>300</td>\n",
              "      <td>347</td>\n",
              "      <td>374</td>\n",
              "      <td>390</td>\n",
              "      <td>394</td>\n",
              "      <td>399</td>\n",
              "    </tr>\n",
              "    <tr>\n",
              "      <th>300</th>\n",
              "      <td>1</td>\n",
              "      <td>8</td>\n",
              "      <td>43</td>\n",
              "      <td>46</td>\n",
              "      <td>52</td>\n",
              "      <td>250</td>\n",
              "      <td>252</td>\n",
              "      <td>254</td>\n",
              "      <td>306</td>\n",
              "      <td>348</td>\n",
              "      <td>364</td>\n",
              "      <td>390</td>\n",
              "      <td>395</td>\n",
              "      <td>399</td>\n",
              "    </tr>\n",
              "    <tr>\n",
              "      <th>301</th>\n",
              "      <td>1</td>\n",
              "      <td>8</td>\n",
              "      <td>44</td>\n",
              "      <td>48</td>\n",
              "      <td>52</td>\n",
              "      <td>104</td>\n",
              "      <td>252</td>\n",
              "      <td>253</td>\n",
              "      <td>271</td>\n",
              "      <td>347</td>\n",
              "      <td>360</td>\n",
              "      <td>390</td>\n",
              "      <td>395</td>\n",
              "      <td>398</td>\n",
              "    </tr>\n",
              "    <tr>\n",
              "      <th>302</th>\n",
              "      <td>0</td>\n",
              "      <td>40</td>\n",
              "      <td>43</td>\n",
              "      <td>47</td>\n",
              "      <td>70</td>\n",
              "      <td>139</td>\n",
              "      <td>252</td>\n",
              "      <td>254</td>\n",
              "      <td>269</td>\n",
              "      <td>347</td>\n",
              "      <td>360</td>\n",
              "      <td>391</td>\n",
              "      <td>396</td>\n",
              "      <td>398</td>\n",
              "    </tr>\n",
              "  </tbody>\n",
              "</table>\n",
              "<p>303 rows × 14 columns</p>\n",
              "</div>"
            ],
            "text/plain": [
              "     class  AGE  SEX  cp  trestbps  ...  exang  oldpeak  slope   ca  thal\n",
              "0        0    2   43  45        49  ...    347      349    389  392   397\n",
              "1        1    3   43  46        50  ...    348      350    390  393   398\n",
              "2        1    3   43  46        51  ...    348      351    390  394   399\n",
              "3        0    4   43  47        52  ...    347      352    389  392   398\n",
              "4        0    5   44  48        52  ...    347      353    391  392   398\n",
              "..     ...  ...  ...  ..       ...  ...    ...      ...    ...  ...   ...\n",
              "298      1   31   43  45        56  ...    347      364    390  392   399\n",
              "299      1   33   43  46        90  ...    347      374    390  394   399\n",
              "300      1    8   43  46        52  ...    348      364    390  395   399\n",
              "301      1    8   44  48        52  ...    347      360    390  395   398\n",
              "302      0   40   43  47        70  ...    347      360    391  396   398\n",
              "\n",
              "[303 rows x 14 columns]"
            ]
          },
          "metadata": {
            "tags": []
          },
          "execution_count": 25
        }
      ]
    },
    {
      "cell_type": "code",
      "metadata": {
        "id": "zxc5CLwFis4R"
      },
      "source": [
        "#save the data to original\r\n",
        "df.to_csv(\"/content/drive/MyDrive/DataSets_for_Paper/clev_data_to_numbers.csv\", sep = ' ', header=None,index=False)\r\n"
      ],
      "execution_count": null,
      "outputs": []
    },
    {
      "cell_type": "markdown",
      "metadata": {
        "id": "do0lpUJv5ZwT"
      },
      "source": [
        "Ruuning RP grwoth"
      ]
    },
    {
      "cell_type": "code",
      "metadata": {
        "id": "8NjQp_lM97YS"
      },
      "source": [
        "clus = \"RP-Growth\"\r\n",
        "d = '/content/' #specify the folder all the input and output files are"
      ],
      "execution_count": 28,
      "outputs": []
    },
    {
      "cell_type": "markdown",
      "metadata": {
        "id": "daQnlChOv2ej"
      },
      "source": [
        "Generating rules with RP-Growth"
      ]
    },
    {
      "cell_type": "code",
      "metadata": {
        "colab": {
          "base_uri": "https://localhost:8080/"
        },
        "id": "r7GqZuEDjx9j",
        "outputId": "61e481dc-6bed-4c44-866a-b799e13b1068"
      },
      "source": [
        "pip install spmf"
      ],
      "execution_count": 29,
      "outputs": [
        {
          "output_type": "stream",
          "text": [
            "Collecting spmf\n",
            "  Downloading https://files.pythonhosted.org/packages/8c/ff/15ed66193c66c7ea933f8b29c6f46e5dfee90584a0fbb68bd5cb8a151c74/spmf-1.3-py3-none-any.whl\n",
            "Installing collected packages: spmf\n",
            "Successfully installed spmf-1.3\n"
          ],
          "name": "stdout"
        }
      ]
    },
    {
      "cell_type": "code",
      "metadata": {
        "id": "K93Z50XAj1sl"
      },
      "source": [
        "from spmf import Spmf\r\n",
        "import pathlib"
      ],
      "execution_count": 30,
      "outputs": []
    },
    {
      "cell_type": "code",
      "metadata": {
        "id": "msx0-KjE105a"
      },
      "source": [
        "spmf = Spmf(\"RPGrowth_itemsets\", input_filename=\"clev_data_to_numbers.csv\",\r\n",
        "            output_filename=\"output_clev.txt\", arguments=[0.6, .10],spmf_bin_location_dir=d )"
      ],
      "execution_count": 32,
      "outputs": []
    },
    {
      "cell_type": "code",
      "metadata": {
        "colab": {
          "base_uri": "https://localhost:8080/"
        },
        "id": "IggfWhIZhY_H",
        "outputId": "02ea7c3a-6a93-4a7f-a528-b3148ed7454e"
      },
      "source": [
        "spmf.run()"
      ],
      "execution_count": 33,
      "outputs": [
        {
          "output_type": "stream",
          "text": [
            ">/content/spmf.jar\n",
            "=============  RP-GROWTH 2.38 - STATS =============\n",
            " Transactions count from database : 303\n",
            " Max memory usage: 9.497390747070312 mb \n",
            " Rare itemsets count : 961\n",
            " Total time ~ 91 ms\n",
            "===================================================\n",
            "\n"
          ],
          "name": "stdout"
        }
      ]
    },
    {
      "cell_type": "code",
      "metadata": {
        "id": "Fqkrr3C9zQN_"
      },
      "source": [
        "df = pd.read_csv('/content/output_clev.txt')\r\n",
        "df.to_csv(\"/content/drive/MyDrive/DataSets_for_Paper/clev_rpgrowth_out_original.csv\")"
      ],
      "execution_count": 34,
      "outputs": []
    },
    {
      "cell_type": "code",
      "metadata": {
        "id": "ipiEKBGQ5gV5"
      },
      "source": [
        "#removing sup\r\n",
        "f = open('/content/output_clev.txt','r')\r\n",
        "lst = []\r\n",
        "for line in f:\r\n",
        "  line  = line.split(\"#\", 1)\r\n",
        "  \r\n",
        "  line  = line[0]\r\n",
        "  lst.append(line)\r\n",
        "f.close()\r\n",
        "f = open('/content/output_clev_processed.txt','w')\r\n",
        "for line in lst:\r\n",
        "    f.write(line+'\\n')\r\n",
        "f.close()\r\n"
      ],
      "execution_count": 35,
      "outputs": []
    },
    {
      "cell_type": "code",
      "metadata": {
        "id": "oijkJuQM6jhh"
      },
      "source": [
        "originalfile = \"/content/drive/MyDrive/DataSets_for_Paper/clev_data_original.csv\""
      ],
      "execution_count": 36,
      "outputs": []
    },
    {
      "cell_type": "markdown",
      "metadata": {
        "id": "3ecg2KiuZwai"
      },
      "source": [
        "Converting to original"
      ]
    },
    {
      "cell_type": "code",
      "metadata": {
        "id": "PT3BxA8MZXBS"
      },
      "source": [
        "df = pd.read_csv(originalfile)"
      ],
      "execution_count": 37,
      "outputs": []
    },
    {
      "cell_type": "code",
      "metadata": {
        "id": "n9GC0pxrakqi"
      },
      "source": [
        "#removing index column\r\n",
        "cols = [0]\r\n",
        "df.drop(df.columns[cols],axis=1,inplace=True)"
      ],
      "execution_count": 38,
      "outputs": []
    },
    {
      "cell_type": "code",
      "metadata": {
        "id": "ac8Fh0LUbDQC"
      },
      "source": [
        "cols = list(df.columns)\r\n",
        "cols = [cols[-1]] + cols[:-1]\r\n",
        "df = df[cols]"
      ],
      "execution_count": 39,
      "outputs": []
    },
    {
      "cell_type": "code",
      "metadata": {
        "id": "DpTDFB186toK"
      },
      "source": [
        "for i,n in enumerate(df.columns):\r\n",
        "  if n=='class':\r\n",
        "    df[n] = 'class@' + df[n].astype(str)\r\n",
        "  else:\r\n",
        "    df[n] = 'A'+str(i)+'@' + df[n].astype(str)"
      ],
      "execution_count": 40,
      "outputs": []
    },
    {
      "cell_type": "code",
      "metadata": {
        "id": "DyEqy80ebJMa"
      },
      "source": [
        "df['class'] = df['class'].str.replace('2', '1').str.replace('3', '1').str.replace('4', '1')"
      ],
      "execution_count": 41,
      "outputs": []
    },
    {
      "cell_type": "code",
      "metadata": {
        "id": "EYpf3snP6xtE"
      },
      "source": [
        "uni = pd.DataFrame()\r\n",
        "for col in df:\r\n",
        "    uni= pd.concat([uni, pd.DataFrame(df[col].unique())], ignore_index=True)"
      ],
      "execution_count": 42,
      "outputs": []
    },
    {
      "cell_type": "code",
      "metadata": {
        "id": "N1XGCiDt6xtE"
      },
      "source": [
        "my_dict = uni.to_dict()"
      ],
      "execution_count": 43,
      "outputs": []
    },
    {
      "cell_type": "code",
      "metadata": {
        "id": "x8767KFx6xtE"
      },
      "source": [
        "my_dict = my_dict[0]"
      ],
      "execution_count": 44,
      "outputs": []
    },
    {
      "cell_type": "code",
      "metadata": {
        "id": "sU2hXlIJcndy"
      },
      "source": [
        "rp_growth_process = pd.read_csv(\"/content/output_clev_processed.txt\", header=None, names=[\"itemsets\"],index_col=False)"
      ],
      "execution_count": 45,
      "outputs": []
    },
    {
      "cell_type": "code",
      "metadata": {
        "id": "zTc8mRqGuWbs"
      },
      "source": [
        "temp_df = pd.concat([rp_growth_process[['itemsets']], rp_growth_process['itemsets'].str.split(' ', expand=True)], axis=1\r\n",
        "                  )"
      ],
      "execution_count": 46,
      "outputs": []
    },
    {
      "cell_type": "code",
      "metadata": {
        "id": "o2dS-3TCu8aM"
      },
      "source": [
        "temp_df = temp_df.loc[temp_df.iloc[:,1].isin(['1','0'])]"
      ],
      "execution_count": 47,
      "outputs": []
    },
    {
      "cell_type": "code",
      "metadata": {
        "id": "swpz0BF6xK80"
      },
      "source": [
        "temp_df=temp_df.drop('itemsets', axis=1)"
      ],
      "execution_count": 48,
      "outputs": []
    },
    {
      "cell_type": "code",
      "metadata": {
        "colab": {
          "base_uri": "https://localhost:8080/",
          "height": 402
        },
        "id": "3ZK1AirsbFWa",
        "outputId": "aa42de10-5953-438c-8995-cff49397f49f"
      },
      "source": [
        "temp_df"
      ],
      "execution_count": 49,
      "outputs": [
        {
          "output_type": "execute_result",
          "data": {
            "text/html": [
              "<div>\n",
              "<style scoped>\n",
              "    .dataframe tbody tr th:only-of-type {\n",
              "        vertical-align: middle;\n",
              "    }\n",
              "\n",
              "    .dataframe tbody tr th {\n",
              "        vertical-align: top;\n",
              "    }\n",
              "\n",
              "    .dataframe thead th {\n",
              "        text-align: right;\n",
              "    }\n",
              "</style>\n",
              "<table border=\"1\" class=\"dataframe\">\n",
              "  <thead>\n",
              "    <tr style=\"text-align: right;\">\n",
              "      <th></th>\n",
              "      <th>0</th>\n",
              "      <th>1</th>\n",
              "      <th>2</th>\n",
              "      <th>3</th>\n",
              "      <th>4</th>\n",
              "      <th>5</th>\n",
              "      <th>6</th>\n",
              "      <th>7</th>\n",
              "    </tr>\n",
              "  </thead>\n",
              "  <tbody>\n",
              "    <tr>\n",
              "      <th>5</th>\n",
              "      <td>1</td>\n",
              "      <td>394</td>\n",
              "      <td></td>\n",
              "      <td>None</td>\n",
              "      <td>None</td>\n",
              "      <td>None</td>\n",
              "      <td>None</td>\n",
              "      <td>None</td>\n",
              "    </tr>\n",
              "    <tr>\n",
              "      <th>14</th>\n",
              "      <td>0</td>\n",
              "      <td>48</td>\n",
              "      <td>391</td>\n",
              "      <td></td>\n",
              "      <td>None</td>\n",
              "      <td>None</td>\n",
              "      <td>None</td>\n",
              "      <td>None</td>\n",
              "    </tr>\n",
              "    <tr>\n",
              "      <th>24</th>\n",
              "      <td>0</td>\n",
              "      <td>48</td>\n",
              "      <td></td>\n",
              "      <td>None</td>\n",
              "      <td>None</td>\n",
              "      <td>None</td>\n",
              "      <td>None</td>\n",
              "      <td>None</td>\n",
              "    </tr>\n",
              "    <tr>\n",
              "      <th>25</th>\n",
              "      <td>0</td>\n",
              "      <td>48</td>\n",
              "      <td>392</td>\n",
              "      <td></td>\n",
              "      <td>None</td>\n",
              "      <td>None</td>\n",
              "      <td>None</td>\n",
              "      <td>None</td>\n",
              "    </tr>\n",
              "    <tr>\n",
              "      <th>26</th>\n",
              "      <td>0</td>\n",
              "      <td>48</td>\n",
              "      <td>252</td>\n",
              "      <td>392</td>\n",
              "      <td></td>\n",
              "      <td>None</td>\n",
              "      <td>None</td>\n",
              "      <td>None</td>\n",
              "    </tr>\n",
              "    <tr>\n",
              "      <th>...</th>\n",
              "      <td>...</td>\n",
              "      <td>...</td>\n",
              "      <td>...</td>\n",
              "      <td>...</td>\n",
              "      <td>...</td>\n",
              "      <td>...</td>\n",
              "      <td>...</td>\n",
              "      <td>...</td>\n",
              "    </tr>\n",
              "    <tr>\n",
              "      <th>932</th>\n",
              "      <td>0</td>\n",
              "      <td>347</td>\n",
              "      <td></td>\n",
              "      <td>None</td>\n",
              "      <td>None</td>\n",
              "      <td>None</td>\n",
              "      <td>None</td>\n",
              "      <td>None</td>\n",
              "    </tr>\n",
              "    <tr>\n",
              "      <th>933</th>\n",
              "      <td>0</td>\n",
              "      <td>43</td>\n",
              "      <td>347</td>\n",
              "      <td></td>\n",
              "      <td>None</td>\n",
              "      <td>None</td>\n",
              "      <td>None</td>\n",
              "      <td>None</td>\n",
              "    </tr>\n",
              "    <tr>\n",
              "      <th>934</th>\n",
              "      <td>0</td>\n",
              "      <td>43</td>\n",
              "      <td>252</td>\n",
              "      <td>347</td>\n",
              "      <td></td>\n",
              "      <td>None</td>\n",
              "      <td>None</td>\n",
              "      <td>None</td>\n",
              "    </tr>\n",
              "    <tr>\n",
              "      <th>935</th>\n",
              "      <td>0</td>\n",
              "      <td>252</td>\n",
              "      <td>347</td>\n",
              "      <td></td>\n",
              "      <td>None</td>\n",
              "      <td>None</td>\n",
              "      <td>None</td>\n",
              "      <td>None</td>\n",
              "    </tr>\n",
              "    <tr>\n",
              "      <th>936</th>\n",
              "      <td>0</td>\n",
              "      <td>252</td>\n",
              "      <td></td>\n",
              "      <td>None</td>\n",
              "      <td>None</td>\n",
              "      <td>None</td>\n",
              "      <td>None</td>\n",
              "      <td>None</td>\n",
              "    </tr>\n",
              "  </tbody>\n",
              "</table>\n",
              "<p>415 rows × 8 columns</p>\n",
              "</div>"
            ],
            "text/plain": [
              "     0    1    2     3     4     5     6     7\n",
              "5    1  394       None  None  None  None  None\n",
              "14   0   48  391        None  None  None  None\n",
              "24   0   48       None  None  None  None  None\n",
              "25   0   48  392        None  None  None  None\n",
              "26   0   48  252   392        None  None  None\n",
              "..  ..  ...  ...   ...   ...   ...   ...   ...\n",
              "932  0  347       None  None  None  None  None\n",
              "933  0   43  347        None  None  None  None\n",
              "934  0   43  252   347        None  None  None\n",
              "935  0  252  347        None  None  None  None\n",
              "936  0  252       None  None  None  None  None\n",
              "\n",
              "[415 rows x 8 columns]"
            ]
          },
          "metadata": {
            "tags": []
          },
          "execution_count": 49
        }
      ]
    },
    {
      "cell_type": "code",
      "metadata": {
        "id": "pDDX3yNg5GcS"
      },
      "source": [
        "temp_df.columns = ['a', 'b', 'c', 'd', 'e', 'f','g','h']"
      ],
      "execution_count": 50,
      "outputs": []
    },
    {
      "cell_type": "code",
      "metadata": {
        "id": "dqcgT4nbHwJB"
      },
      "source": [
        "#concat @ to tempdf\r\n",
        "for i,n in enumerate(temp_df.columns):\r\n",
        "  \r\n",
        "    temp_df[n] = '@' + temp_df[n].astype(str)\r\n"
      ],
      "execution_count": 51,
      "outputs": []
    },
    {
      "cell_type": "code",
      "metadata": {
        "colab": {
          "base_uri": "https://localhost:8080/"
        },
        "id": "dDzplAZrHejM",
        "outputId": "a73f0ebc-8b8f-42cd-d986-4c0da34426f5"
      },
      "source": [
        "temp_df['a'].value_counts()"
      ],
      "execution_count": 52,
      "outputs": [
        {
          "output_type": "execute_result",
          "data": {
            "text/plain": [
              "@0    283\n",
              "@1    132\n",
              "Name: a, dtype: int64"
            ]
          },
          "metadata": {
            "tags": []
          },
          "execution_count": 52
        }
      ]
    },
    {
      "cell_type": "code",
      "metadata": {
        "id": "009475WRIJUb"
      },
      "source": [
        "di = {f'@{k}': v for k, v in my_dict.items()}"
      ],
      "execution_count": 53,
      "outputs": []
    },
    {
      "cell_type": "code",
      "metadata": {
        "id": "12XdJA1oXjKL",
        "colab": {
          "base_uri": "https://localhost:8080/"
        },
        "outputId": "51da3c4d-68d8-403b-e6a2-9d461195f623"
      },
      "source": [
        "di"
      ],
      "execution_count": 68,
      "outputs": [
        {
          "output_type": "execute_result",
          "data": {
            "text/plain": [
              "{'@0': 'class@0',\n",
              " '@1': 'class@1',\n",
              " '@10': 'A1@44.0',\n",
              " '@100': 'A5@286.0',\n",
              " '@101': 'A5@229.0',\n",
              " '@102': 'A5@250.0',\n",
              " '@103': 'A5@204.0',\n",
              " '@104': 'A5@236.0',\n",
              " '@105': 'A5@268.0',\n",
              " '@106': 'A5@354.0',\n",
              " '@107': 'A5@254.0',\n",
              " '@108': 'A5@203.0',\n",
              " '@109': 'A5@192.0',\n",
              " '@11': 'A1@52.0',\n",
              " '@110': 'A5@294.0',\n",
              " '@111': 'A5@256.0',\n",
              " '@112': 'A5@263.0',\n",
              " '@113': 'A5@199.0',\n",
              " '@114': 'A5@168.0',\n",
              " '@115': 'A5@239.0',\n",
              " '@116': 'A5@275.0',\n",
              " '@117': 'A5@266.0',\n",
              " '@118': 'A5@211.0',\n",
              " '@119': 'A5@283.0',\n",
              " '@12': 'A1@48.0',\n",
              " '@120': 'A5@284.0',\n",
              " '@121': 'A5@224.0',\n",
              " '@122': 'A5@206.0',\n",
              " '@123': 'A5@219.0',\n",
              " '@124': 'A5@340.0',\n",
              " '@125': 'A5@226.0',\n",
              " '@126': 'A5@247.0',\n",
              " '@127': 'A5@167.0',\n",
              " '@128': 'A5@230.0',\n",
              " '@129': 'A5@335.0',\n",
              " '@13': 'A1@54.0',\n",
              " '@130': 'A5@234.0',\n",
              " '@131': 'A5@177.0',\n",
              " '@132': 'A5@276.0',\n",
              " '@133': 'A5@353.0',\n",
              " '@134': 'A5@243.0',\n",
              " '@135': 'A5@225.0',\n",
              " '@136': 'A5@302.0',\n",
              " '@137': 'A5@212.0',\n",
              " '@138': 'A5@330.0',\n",
              " '@139': 'A5@175.0',\n",
              " '@14': 'A1@49.0',\n",
              " '@140': 'A5@417.0',\n",
              " '@141': 'A5@197.0',\n",
              " '@142': 'A5@198.0',\n",
              " '@143': 'A5@290.0',\n",
              " '@144': 'A5@253.0',\n",
              " '@145': 'A5@172.0',\n",
              " '@146': 'A5@273.0',\n",
              " '@147': 'A5@213.0',\n",
              " '@148': 'A5@305.0',\n",
              " '@149': 'A5@216.0',\n",
              " '@15': 'A1@64.0',\n",
              " '@150': 'A5@304.0',\n",
              " '@151': 'A5@188.0',\n",
              " '@152': 'A5@282.0',\n",
              " '@153': 'A5@185.0',\n",
              " '@154': 'A5@232.0',\n",
              " '@155': 'A5@326.0',\n",
              " '@156': 'A5@231.0',\n",
              " '@157': 'A5@269.0',\n",
              " '@158': 'A5@267.0',\n",
              " '@159': 'A5@248.0',\n",
              " '@16': 'A1@58.0',\n",
              " '@160': 'A5@360.0',\n",
              " '@161': 'A5@258.0',\n",
              " '@162': 'A5@308.0',\n",
              " '@163': 'A5@245.0',\n",
              " '@164': 'A5@270.0',\n",
              " '@165': 'A5@208.0',\n",
              " '@166': 'A5@264.0',\n",
              " '@167': 'A5@321.0',\n",
              " '@168': 'A5@274.0',\n",
              " '@169': 'A5@325.0',\n",
              " '@17': 'A1@60.0',\n",
              " '@170': 'A5@235.0',\n",
              " '@171': 'A5@257.0',\n",
              " '@172': 'A5@164.0',\n",
              " '@173': 'A5@141.0',\n",
              " '@174': 'A5@252.0',\n",
              " '@175': 'A5@255.0',\n",
              " '@176': 'A5@201.0',\n",
              " '@177': 'A5@222.0',\n",
              " '@178': 'A5@260.0',\n",
              " '@179': 'A5@182.0',\n",
              " '@18': 'A1@50.0',\n",
              " '@180': 'A5@303.0',\n",
              " '@181': 'A5@265.0',\n",
              " '@182': 'A5@309.0',\n",
              " '@183': 'A5@307.0',\n",
              " '@184': 'A5@249.0',\n",
              " '@185': 'A5@186.0',\n",
              " '@186': 'A5@341.0',\n",
              " '@187': 'A5@183.0',\n",
              " '@188': 'A5@407.0',\n",
              " '@189': 'A5@217.0',\n",
              " '@19': 'A1@66.0',\n",
              " '@190': 'A5@288.0',\n",
              " '@191': 'A5@220.0',\n",
              " '@192': 'A5@209.0',\n",
              " '@193': 'A5@227.0',\n",
              " '@194': 'A5@261.0',\n",
              " '@195': 'A5@174.0',\n",
              " '@196': 'A5@281.0',\n",
              " '@197': 'A5@221.0',\n",
              " '@198': 'A5@205.0',\n",
              " '@199': 'A5@240.0',\n",
              " '@2': 'A1@63.0',\n",
              " '@20': 'A1@43.0',\n",
              " '@200': 'A5@289.0',\n",
              " '@201': 'A5@318.0',\n",
              " '@202': 'A5@298.0',\n",
              " '@203': 'A5@564.0',\n",
              " '@204': 'A5@246.0',\n",
              " '@205': 'A5@322.0',\n",
              " '@206': 'A5@299.0',\n",
              " '@207': 'A5@300.0',\n",
              " '@208': 'A5@293.0',\n",
              " '@209': 'A5@277.0',\n",
              " '@21': 'A1@40.0',\n",
              " '@210': 'A5@214.0',\n",
              " '@211': 'A5@207.0',\n",
              " '@212': 'A5@223.0',\n",
              " '@213': 'A5@160.0',\n",
              " '@214': 'A5@394.0',\n",
              " '@215': 'A5@184.0',\n",
              " '@216': 'A5@315.0',\n",
              " '@217': 'A5@409.0',\n",
              " '@218': 'A5@244.0',\n",
              " '@219': 'A5@195.0',\n",
              " '@22': 'A1@69.0',\n",
              " '@220': 'A5@196.0',\n",
              " '@221': 'A5@126.0',\n",
              " '@222': 'A5@313.0',\n",
              " '@223': 'A5@259.0',\n",
              " '@224': 'A5@200.0',\n",
              " '@225': 'A5@262.0',\n",
              " '@226': 'A5@215.0',\n",
              " '@227': 'A5@228.0',\n",
              " '@228': 'A5@193.0',\n",
              " '@229': 'A5@271.0',\n",
              " '@23': 'A1@59.0',\n",
              " '@230': 'A5@210.0',\n",
              " '@231': 'A5@327.0',\n",
              " '@232': 'A5@149.0',\n",
              " '@233': 'A5@295.0',\n",
              " '@234': 'A5@306.0',\n",
              " '@235': 'A5@178.0',\n",
              " '@236': 'A5@237.0',\n",
              " '@237': 'A5@218.0',\n",
              " '@238': 'A5@242.0',\n",
              " '@239': 'A5@319.0',\n",
              " '@24': 'A1@42.0',\n",
              " '@240': 'A5@166.0',\n",
              " '@241': 'A5@180.0',\n",
              " '@242': 'A5@311.0',\n",
              " '@243': 'A5@278.0',\n",
              " '@244': 'A5@342.0',\n",
              " '@245': 'A5@169.0',\n",
              " '@246': 'A5@187.0',\n",
              " '@247': 'A5@157.0',\n",
              " '@248': 'A5@176.0',\n",
              " '@249': 'A5@241.0',\n",
              " '@25': 'A1@55.0',\n",
              " '@250': 'A5@131.0',\n",
              " '@251': 'A6@1.0',\n",
              " '@252': 'A6@0.0',\n",
              " '@253': 'A7@2.0',\n",
              " '@254': 'A7@0.0',\n",
              " '@255': 'A7@1.0',\n",
              " '@256': 'A8@150.0',\n",
              " '@257': 'A8@108.0',\n",
              " '@258': 'A8@129.0',\n",
              " '@259': 'A8@187.0',\n",
              " '@26': 'A1@61.0',\n",
              " '@260': 'A8@172.0',\n",
              " '@261': 'A8@178.0',\n",
              " '@262': 'A8@160.0',\n",
              " '@263': 'A8@163.0',\n",
              " '@264': 'A8@147.0',\n",
              " '@265': 'A8@155.0',\n",
              " '@266': 'A8@148.0',\n",
              " '@267': 'A8@153.0',\n",
              " '@268': 'A8@142.0',\n",
              " '@269': 'A8@173.0',\n",
              " '@27': 'A1@65.0',\n",
              " '@270': 'A8@162.0',\n",
              " '@271': 'A8@174.0',\n",
              " '@272': 'A8@168.0',\n",
              " '@273': 'A8@139.0',\n",
              " '@274': 'A8@171.0',\n",
              " '@275': 'A8@144.0',\n",
              " '@276': 'A8@132.0',\n",
              " '@277': 'A8@158.0',\n",
              " '@278': 'A8@114.0',\n",
              " '@279': 'A8@151.0',\n",
              " '@28': 'A1@71.0',\n",
              " '@280': 'A8@161.0',\n",
              " '@281': 'A8@179.0',\n",
              " '@282': 'A8@120.0',\n",
              " '@283': 'A8@112.0',\n",
              " '@284': 'A8@137.0',\n",
              " '@285': 'A8@157.0',\n",
              " '@286': 'A8@169.0',\n",
              " '@287': 'A8@165.0',\n",
              " '@288': 'A8@123.0',\n",
              " '@289': 'A8@128.0',\n",
              " '@29': 'A1@51.0',\n",
              " '@290': 'A8@152.0',\n",
              " '@291': 'A8@140.0',\n",
              " '@292': 'A8@188.0',\n",
              " '@293': 'A8@109.0',\n",
              " '@294': 'A8@125.0',\n",
              " '@295': 'A8@131.0',\n",
              " '@296': 'A8@170.0',\n",
              " '@297': 'A8@113.0',\n",
              " '@298': 'A8@99.0',\n",
              " '@299': 'A8@177.0',\n",
              " '@3': 'A1@67.0',\n",
              " '@30': 'A1@46.0',\n",
              " '@300': 'A8@141.0',\n",
              " '@301': 'A8@180.0',\n",
              " '@302': 'A8@111.0',\n",
              " '@303': 'A8@143.0',\n",
              " '@304': 'A8@182.0',\n",
              " '@305': 'A8@156.0',\n",
              " '@306': 'A8@115.0',\n",
              " '@307': 'A8@149.0',\n",
              " '@308': 'A8@145.0',\n",
              " '@309': 'A8@146.0',\n",
              " '@31': 'A1@45.0',\n",
              " '@310': 'A8@175.0',\n",
              " '@311': 'A8@186.0',\n",
              " '@312': 'A8@185.0',\n",
              " '@313': 'A8@159.0',\n",
              " '@314': 'A8@130.0',\n",
              " '@315': 'A8@190.0',\n",
              " '@316': 'A8@136.0',\n",
              " '@317': 'A8@97.0',\n",
              " '@318': 'A8@127.0',\n",
              " '@319': 'A8@154.0',\n",
              " '@32': 'A1@39.0',\n",
              " '@320': 'A8@133.0',\n",
              " '@321': 'A8@126.0',\n",
              " '@322': 'A8@202.0',\n",
              " '@323': 'A8@103.0',\n",
              " '@324': 'A8@166.0',\n",
              " '@325': 'A8@164.0',\n",
              " '@326': 'A8@184.0',\n",
              " '@327': 'A8@124.0',\n",
              " '@328': 'A8@122.0',\n",
              " '@329': 'A8@96.0',\n",
              " '@33': 'A1@68.0',\n",
              " '@330': 'A8@138.0',\n",
              " '@331': 'A8@88.0',\n",
              " '@332': 'A8@105.0',\n",
              " '@333': 'A8@194.0',\n",
              " '@334': 'A8@195.0',\n",
              " '@335': 'A8@106.0',\n",
              " '@336': 'A8@167.0',\n",
              " '@337': 'A8@95.0',\n",
              " '@338': 'A8@192.0',\n",
              " '@339': 'A8@117.0',\n",
              " '@34': 'A1@47.0',\n",
              " '@340': 'A8@121.0',\n",
              " '@341': 'A8@116.0',\n",
              " '@342': 'A8@71.0',\n",
              " '@343': 'A8@118.0',\n",
              " '@344': 'A8@181.0',\n",
              " '@345': 'A8@134.0',\n",
              " '@346': 'A8@90.0',\n",
              " '@347': 'A9@0.0',\n",
              " '@348': 'A9@1.0',\n",
              " '@349': 'A10@2.3',\n",
              " '@35': 'A1@34.0',\n",
              " '@350': 'A10@1.5',\n",
              " '@351': 'A10@2.6',\n",
              " '@352': 'A10@3.5',\n",
              " '@353': 'A10@1.4',\n",
              " '@354': 'A10@0.8',\n",
              " '@355': 'A10@3.6',\n",
              " '@356': 'A10@0.6',\n",
              " '@357': 'A10@3.1',\n",
              " '@358': 'A10@0.4',\n",
              " '@359': 'A10@1.3',\n",
              " '@36': 'A1@35.0',\n",
              " '@360': 'A10@0.0',\n",
              " '@361': 'A10@0.5',\n",
              " '@362': 'A10@1.6',\n",
              " '@363': 'A10@1.0',\n",
              " '@364': 'A10@1.2',\n",
              " '@365': 'A10@0.2',\n",
              " '@366': 'A10@1.8',\n",
              " '@367': 'A10@3.2',\n",
              " '@368': 'A10@2.4',\n",
              " '@369': 'A10@2.0',\n",
              " '@37': 'A1@29.0',\n",
              " '@370': 'A10@2.5',\n",
              " '@371': 'A10@2.2',\n",
              " '@372': 'A10@2.8',\n",
              " '@373': 'A10@3.0',\n",
              " '@374': 'A10@3.4',\n",
              " '@375': 'A10@6.2',\n",
              " '@376': 'A10@4.0',\n",
              " '@377': 'A10@5.6',\n",
              " '@378': 'A10@2.9',\n",
              " '@379': 'A10@0.1',\n",
              " '@38': 'A1@70.0',\n",
              " '@380': 'A10@2.1',\n",
              " '@381': 'A10@1.9',\n",
              " '@382': 'A10@4.2',\n",
              " '@383': 'A10@0.9',\n",
              " '@384': 'A10@1.1',\n",
              " '@385': 'A10@3.8',\n",
              " '@386': 'A10@0.7',\n",
              " '@387': 'A10@0.3',\n",
              " '@388': 'A10@4.4',\n",
              " '@389': 'A11@3.0',\n",
              " '@39': 'A1@77.0',\n",
              " '@390': 'A11@2.0',\n",
              " '@391': 'A11@1.0',\n",
              " '@392': 'A12@0.0',\n",
              " '@393': 'A12@3.0',\n",
              " '@394': 'A12@2.0',\n",
              " '@395': 'A12@1.0',\n",
              " '@396': 'A12@?',\n",
              " '@397': 'A13@6.0',\n",
              " '@398': 'A13@3.0',\n",
              " '@399': 'A13@7.0',\n",
              " '@4': 'A1@37.0',\n",
              " '@40': 'A1@38.0',\n",
              " '@400': 'A13@?',\n",
              " '@41': 'A1@74.0',\n",
              " '@42': 'A1@76.0',\n",
              " '@43': 'A2@1.0',\n",
              " '@44': 'A2@0.0',\n",
              " '@45': 'A3@1.0',\n",
              " '@46': 'A3@4.0',\n",
              " '@47': 'A3@3.0',\n",
              " '@48': 'A3@2.0',\n",
              " '@49': 'A4@145.0',\n",
              " '@5': 'A1@41.0',\n",
              " '@50': 'A4@160.0',\n",
              " '@51': 'A4@120.0',\n",
              " '@52': 'A4@130.0',\n",
              " '@53': 'A4@140.0',\n",
              " '@54': 'A4@172.0',\n",
              " '@55': 'A4@150.0',\n",
              " '@56': 'A4@110.0',\n",
              " '@57': 'A4@132.0',\n",
              " '@58': 'A4@117.0',\n",
              " '@59': 'A4@135.0',\n",
              " '@6': 'A1@56.0',\n",
              " '@60': 'A4@112.0',\n",
              " '@61': 'A4@105.0',\n",
              " '@62': 'A4@124.0',\n",
              " '@63': 'A4@125.0',\n",
              " '@64': 'A4@142.0',\n",
              " '@65': 'A4@128.0',\n",
              " '@66': 'A4@170.0',\n",
              " '@67': 'A4@155.0',\n",
              " '@68': 'A4@104.0',\n",
              " '@69': 'A4@180.0',\n",
              " '@7': 'A1@62.0',\n",
              " '@70': 'A4@138.0',\n",
              " '@71': 'A4@108.0',\n",
              " '@72': 'A4@134.0',\n",
              " '@73': 'A4@122.0',\n",
              " '@74': 'A4@115.0',\n",
              " '@75': 'A4@118.0',\n",
              " '@76': 'A4@100.0',\n",
              " '@77': 'A4@200.0',\n",
              " '@78': 'A4@94.0',\n",
              " '@79': 'A4@165.0',\n",
              " '@8': 'A1@57.0',\n",
              " '@80': 'A4@102.0',\n",
              " '@81': 'A4@152.0',\n",
              " '@82': 'A4@101.0',\n",
              " '@83': 'A4@126.0',\n",
              " '@84': 'A4@174.0',\n",
              " '@85': 'A4@148.0',\n",
              " '@86': 'A4@178.0',\n",
              " '@87': 'A4@158.0',\n",
              " '@88': 'A4@192.0',\n",
              " '@89': 'A4@129.0',\n",
              " '@9': 'A1@53.0',\n",
              " '@90': 'A4@144.0',\n",
              " '@91': 'A4@123.0',\n",
              " '@92': 'A4@136.0',\n",
              " '@93': 'A4@146.0',\n",
              " '@94': 'A4@106.0',\n",
              " '@95': 'A4@156.0',\n",
              " '@96': 'A4@154.0',\n",
              " '@97': 'A4@114.0',\n",
              " '@98': 'A4@164.0',\n",
              " '@99': 'A5@233.0'}"
            ]
          },
          "metadata": {
            "tags": []
          },
          "execution_count": 68
        }
      ]
    },
    {
      "cell_type": "code",
      "metadata": {
        "colab": {
          "base_uri": "https://localhost:8080/",
          "height": 35
        },
        "id": "BGb0NTjk8nlH",
        "outputId": "2fc639c1-c719-4112-bb6f-0d0136b9ba81"
      },
      "source": [
        "di['@3']"
      ],
      "execution_count": 69,
      "outputs": [
        {
          "output_type": "execute_result",
          "data": {
            "application/vnd.google.colaboratory.intrinsic+json": {
              "type": "string"
            },
            "text/plain": [
              "'A1@67.0'"
            ]
          },
          "metadata": {
            "tags": []
          },
          "execution_count": 69
        }
      ]
    },
    {
      "cell_type": "code",
      "metadata": {
        "id": "_UdcpLIQKTtc"
      },
      "source": [
        "for col in temp_df:\r\n",
        "    temp_df[col] = temp_df[col].replace(di)"
      ],
      "execution_count": 55,
      "outputs": []
    },
    {
      "cell_type": "code",
      "metadata": {
        "id": "v7i61Y-DLMXF"
      },
      "source": [
        "temp_df['rules'] = temp_df['b']+','+temp_df['c']+','+temp_df['d']+','+temp_df['e']+','+temp_df['f']+','+temp_df['g']+','+temp_df['h']\r\n",
        "#+\">class@\"+temp_df['a']"
      ],
      "execution_count": 56,
      "outputs": []
    },
    {
      "cell_type": "code",
      "metadata": {
        "id": "viwGfUsdN7QC"
      },
      "source": [
        "temp_df['pos'] = temp_df['rules'].str.find('@None')\r\n",
        "temp_df['rules'] = temp_df.apply(lambda x: x['rules'][0:x['pos']],axis=1)\r\n",
        "temp_df['rules'] = temp_df['rules']+\">\"+temp_df['a']\r\n",
        "temp_df['rules'] = temp_df['rules'].str.replace(',@,','')"
      ],
      "execution_count": 57,
      "outputs": []
    },
    {
      "cell_type": "code",
      "metadata": {
        "colab": {
          "base_uri": "https://localhost:8080/"
        },
        "id": "jBdHlgGLKv5A",
        "outputId": "b2447c31-3488-4275-fb64-bc31b2a5a30e"
      },
      "source": [
        "temp_df['rules']"
      ],
      "execution_count": 58,
      "outputs": [
        {
          "output_type": "execute_result",
          "data": {
            "text/plain": [
              "5                    A12@2.0>class@1\n",
              "14            A3@2.0,A11@1.0>class@0\n",
              "24                    A3@2.0>class@0\n",
              "25            A3@2.0,A12@0.0>class@0\n",
              "26     A3@2.0,A6@0.0,A12@0.0>class@0\n",
              "                   ...              \n",
              "932                   A9@0.0>class@0\n",
              "933            A2@1.0,A9@0.0>class@0\n",
              "934     A2@1.0,A6@0.0,A9@0.0>class@0\n",
              "935            A6@0.0,A9@0.0>class@0\n",
              "936                   A6@0.0>class@0\n",
              "Name: rules, Length: 415, dtype: object"
            ]
          },
          "metadata": {
            "tags": []
          },
          "execution_count": 58
        }
      ]
    },
    {
      "cell_type": "code",
      "metadata": {
        "id": "IQmvSqSHhRVQ"
      },
      "source": [
        "temp_df['rules'].to_csv(\"/content/clev_rpgrwoth_rules.csv\", header=None, index=False)"
      ],
      "execution_count": 59,
      "outputs": []
    },
    {
      "cell_type": "markdown",
      "metadata": {
        "id": "ZTWdesm7l_VH"
      },
      "source": [
        "Converting rare rules to original attributes"
      ]
    },
    {
      "cell_type": "code",
      "metadata": {
        "id": "JX-6-576mqwH"
      },
      "source": [
        "mapping = {\r\n",
        "    \r\n",
        "    'A10':'oldpeak',\r\n",
        "           'A11':'slope',\t\r\n",
        "           'A12':'ca',\t\r\n",
        "           'A13':'thal',\r\n",
        "    'A1':'AGE',\r\n",
        "           'A2':'SEX', 'A3':'cp',\r\n",
        "           'A4':\t'trestbps'\t,\r\n",
        "           'A5': 'chol',\r\n",
        "           'A6':'fbs',\r\n",
        "           'A7':'restecg',\r\n",
        "           'A8':'thalach',\r\n",
        "           'A9':'exang'\r\n",
        "           \r\n",
        "           }"
      ],
      "execution_count": 60,
      "outputs": []
    },
    {
      "cell_type": "code",
      "metadata": {
        "colab": {
          "base_uri": "https://localhost:8080/"
        },
        "id": "0hPkLFFKpNeD",
        "outputId": "cb821815-6e8c-4865-b425-b7cc93bb8ecf"
      },
      "source": [
        "import fileinput\r\n",
        "\r\n",
        "text = \"/content/clev_rpgrwoth_rules.csv\"\r\n",
        "fields = mapping\r\n",
        "\r\n",
        "lst = []\r\n",
        "for line in fileinput.input(text):\r\n",
        "    for field in fields:\r\n",
        "        if field in line:\r\n",
        "            line = line.replace(field, fields[field])\r\n",
        "    lst.append(line)\r\n",
        "\r\n",
        "print(lst)"
      ],
      "execution_count": 61,
      "outputs": [
        {
          "output_type": "stream",
          "text": [
            "['ca@2.0>class@1\\n', '\"cp@2.0,slope@1.0>class@0\"\\n', 'cp@2.0>class@0\\n', '\"cp@2.0,ca@0.0>class@0\"\\n', '\"cp@2.0,fbs@0.0,ca@0.0>class@0\"\\n', '\"cp@2.0,exang@0.0,ca@0.0>class@0\"\\n', '\"cp@2.0,thal@3.0>class@0\"\\n', '\"cp@2.0,exang@0.0,thal@3.0>class@0\"\\n', '\"cp@2.0,fbs@0.0,thal@3.0>class@0\"\\n', '\"cp@2.0,fbs@0.0>class@0\"\\n', '\"cp@2.0,exang@0.0>class@0\"\\n', '\"cp@2.0,fbs@0.0,exang@0.0>class@0\"\\n', 'ca@1.0>class@1\\n', '\"slope@2.0,ca@1.0>class@1\"\\n', '\"cp@4.0,ca@1.0>class@1\"\\n', '\"cp@4.0,fbs@0.0,ca@1.0>class@1\"\\n', '\"SEX@1.0,cp@4.0,ca@1.0>class@1\"\\n', '\"fbs@0.0,ca@1.0>class@1\"\\n', '\"SEX@1.0,ca@1.0>class@1\"\\n', '\"SEX@1.0,fbs@0.0,ca@1.0>class@1\"\\n', '\"SEX@0.0,cp@3.0>class@0\"\\n', '\"SEX@0.0,cp@3.0,thal@3.0>class@0\"\\n', '\"SEX@0.0,cp@3.0,exang@0.0>class@0\"\\n', '\"cp@3.0,slope@1.0>class@0\"\\n', '\"cp@3.0,fbs@0.0,slope@1.0>class@0\"\\n', '\"cp@3.0,slope@1.0,thal@3.0>class@0\"\\n', '\"cp@3.0,exang@0.0,slope@1.0,thal@3.0>class@0\"\\n', '\"cp@3.0,exang@0.0,slope@1.0>class@0\"\\n', '\"cp@3.0,fbs@0.0,exang@0.0,slope@1.0>class@0\"\\n', '\"cp@3.0,restecg@0.0>class@0\"\\n', '\"cp@3.0,fbs@0.0,restecg@0.0>class@0\"\\n', '\"cp@3.0,restecg@0.0,thal@3.0>class@0\"\\n', '\"cp@3.0,restecg@0.0,exang@0.0>class@0\"\\n', 'cp@3.0>class@0\\n', '\"SEX@1.0,cp@3.0>class@0\"\\n', '\"cp@3.0,ca@0.0>class@0\"\\n', '\"cp@3.0,fbs@0.0,ca@0.0>class@0\"\\n', '\"cp@3.0,exang@0.0,ca@0.0>class@0\"\\n', '\"cp@3.0,fbs@0.0,exang@0.0,ca@0.0>class@0\"\\n', '\"cp@3.0,fbs@0.0>class@0\"\\n', '\"cp@3.0,thal@3.0>class@0\"\\n', '\"cp@3.0,ca@0.0,thal@3.0>class@0\"\\n', '\"cp@3.0,fbs@0.0,ca@0.0,thal@3.0>class@0\"\\n', '\"cp@3.0,exang@0.0,ca@0.0,thal@3.0>class@0\"\\n', '\"cp@3.0,fbs@0.0,exang@0.0,ca@0.0,thal@3.0>class@0\"\\n', '\"cp@3.0,fbs@0.0,thal@3.0>class@0\"\\n', '\"cp@3.0,exang@0.0,thal@3.0>class@0\"\\n', '\"cp@3.0,fbs@0.0,exang@0.0,thal@3.0>class@0\"\\n', '\"cp@3.0,exang@0.0>class@0\"\\n', '\"cp@3.0,fbs@0.0,exang@0.0>class@0\"\\n', '\"SEX@0.0,restecg@2.0>class@0\"\\n', '\"SEX@0.0,slope@1.0>class@0\"\\n', '\"SEX@0.0,fbs@0.0,slope@1.0>class@0\"\\n', '\"SEX@0.0,exang@0.0,slope@1.0>class@0\"\\n', '\"SEX@0.0,fbs@0.0,exang@0.0,slope@1.0>class@0\"\\n', '\"SEX@0.0,slope@1.0,thal@3.0>class@0\"\\n', '\"SEX@0.0,fbs@0.0,slope@1.0,thal@3.0>class@0\"\\n', '\"SEX@0.0,exang@0.0,slope@1.0,thal@3.0>class@0\"\\n', '\"SEX@0.0,fbs@0.0,exang@0.0,slope@1.0,thal@3.0>class@0\"\\n', '\"SEX@0.0,restecg@0.0>class@0\"\\n', '\"SEX@0.0,restecg@0.0,exang@0.0>class@0\"\\n', '\"SEX@0.0,fbs@0.0,restecg@0.0,exang@0.0>class@0\"\\n', '\"SEX@0.0,fbs@0.0,restecg@0.0>class@0\"\\n', '\"SEX@0.0,restecg@0.0,thal@3.0>class@0\"\\n', '\"SEX@0.0,restecg@0.0,exang@0.0,thal@3.0>class@0\"\\n', '\"SEX@0.0,fbs@0.0,restecg@0.0,exang@0.0,thal@3.0>class@0\"\\n', '\"SEX@0.0,fbs@0.0,restecg@0.0,thal@3.0>class@0\"\\n', 'SEX@0.0>class@0\\n', '\"SEX@0.0,ca@0.0>class@0\"\\n', '\"SEX@0.0,exang@0.0,ca@0.0>class@0\"\\n', '\"SEX@0.0,fbs@0.0,exang@0.0,ca@0.0>class@0\"\\n', '\"SEX@0.0,fbs@0.0,ca@0.0>class@0\"\\n', '\"SEX@0.0,exang@0.0>class@0\"\\n', '\"SEX@0.0,fbs@0.0,exang@0.0>class@0\"\\n', '\"SEX@0.0,fbs@0.0>class@0\"\\n', '\"SEX@0.0,thal@3.0>class@0\"\\n', '\"SEX@0.0,ca@0.0,thal@3.0>class@0\"\\n', '\"SEX@0.0,exang@0.0,ca@0.0,thal@3.0>class@0\"\\n', '\"SEX@0.0,fbs@0.0,exang@0.0,ca@0.0,thal@3.0>class@0\"\\n', '\"SEX@0.0,fbs@0.0,ca@0.0,thal@3.0>class@0\"\\n', '\"SEX@0.0,exang@0.0,thal@3.0>class@0\"\\n', '\"SEX@0.0,fbs@0.0,exang@0.0,thal@3.0>class@0\"\\n', '\"SEX@0.0,fbs@0.0,thal@3.0>class@0\"\\n', '\"restecg@0.0,oldpeak@0.0>class@0\"\\n', '\"restecg@0.0,oldpeak@0.0,ca@0.0>class@0\"\\n', '\"fbs@0.0,restecg@0.0,oldpeak@0.0,ca@0.0>class@0\"\\n', '\"restecg@0.0,exang@0.0,oldpeak@0.0,ca@0.0>class@0\"\\n', '\"restecg@0.0,oldpeak@0.0,thal@3.0>class@0\"\\n', '\"fbs@0.0,restecg@0.0,oldpeak@0.0,thal@3.0>class@0\"\\n', '\"restecg@0.0,exang@0.0,oldpeak@0.0,thal@3.0>class@0\"\\n', '\"fbs@0.0,restecg@0.0,exang@0.0,oldpeak@0.0,thal@3.0>class@0\"\\n', '\"fbs@0.0,restecg@0.0,oldpeak@0.0>class@0\"\\n', '\"restecg@0.0,exang@0.0,oldpeak@0.0>class@0\"\\n', '\"fbs@0.0,restecg@0.0,exang@0.0,oldpeak@0.0>class@0\"\\n', 'oldpeak@0.0>class@0\\n', '\"SEX@1.0,oldpeak@0.0>class@0\"\\n', '\"SEX@1.0,fbs@0.0,oldpeak@0.0>class@0\"\\n', '\"oldpeak@0.0,ca@0.0>class@0\"\\n', '\"SEX@1.0,oldpeak@0.0,ca@0.0>class@0\"\\n', '\"SEX@1.0,fbs@0.0,oldpeak@0.0,ca@0.0>class@0\"\\n', '\"exang@0.0,oldpeak@0.0,ca@0.0>class@0\"\\n', '\"SEX@1.0,exang@0.0,oldpeak@0.0,ca@0.0>class@0\"\\n', '\"fbs@0.0,exang@0.0,oldpeak@0.0,ca@0.0>class@0\"\\n', '\"fbs@0.0,oldpeak@0.0,ca@0.0>class@0\"\\n', '\"oldpeak@0.0,thal@3.0>class@0\"\\n', '\"SEX@1.0,oldpeak@0.0,thal@3.0>class@0\"\\n', '\"oldpeak@0.0,ca@0.0,thal@3.0>class@0\"\\n', '\"exang@0.0,oldpeak@0.0,ca@0.0,thal@3.0>class@0\"\\n', '\"fbs@0.0,exang@0.0,oldpeak@0.0,ca@0.0,thal@3.0>class@0\"\\n', '\"fbs@0.0,oldpeak@0.0,ca@0.0,thal@3.0>class@0\"\\n', '\"fbs@0.0,oldpeak@0.0,thal@3.0>class@0\"\\n', '\"exang@0.0,oldpeak@0.0,thal@3.0>class@0\"\\n', '\"SEX@1.0,exang@0.0,oldpeak@0.0,thal@3.0>class@0\"\\n', '\"fbs@0.0,exang@0.0,oldpeak@0.0,thal@3.0>class@0\"\\n', '\"fbs@0.0,oldpeak@0.0>class@0\"\\n', '\"exang@0.0,oldpeak@0.0>class@0\"\\n', '\"SEX@1.0,exang@0.0,oldpeak@0.0>class@0\"\\n', '\"SEX@1.0,fbs@0.0,exang@0.0,oldpeak@0.0>class@0\"\\n', '\"fbs@0.0,exang@0.0,oldpeak@0.0>class@0\"\\n', '\"restecg@0.0,oldpeak@0.0,slope@1.0>class@0\"\\n', '\"restecg@0.0,oldpeak@0.0,slope@1.0,thal@3.0>class@0\"\\n', '\"fbs@0.0,restecg@0.0,oldpeak@0.0,slope@1.0>class@0\"\\n', '\"restecg@0.0,exang@0.0,oldpeak@0.0,slope@1.0>class@0\"\\n', '\"oldpeak@0.0,slope@1.0>class@0\"\\n', '\"SEX@1.0,oldpeak@0.0,slope@1.0>class@0\"\\n', '\"SEX@1.0,fbs@0.0,oldpeak@0.0,slope@1.0>class@0\"\\n', '\"oldpeak@0.0,slope@1.0,ca@0.0>class@0\"\\n', '\"SEX@1.0,oldpeak@0.0,slope@1.0,ca@0.0>class@0\"\\n', '\"SEX@1.0,fbs@0.0,oldpeak@0.0,slope@1.0,ca@0.0>class@0\"\\n', '\"exang@0.0,oldpeak@0.0,slope@1.0,ca@0.0>class@0\"\\n', '\"SEX@1.0,exang@0.0,oldpeak@0.0,slope@1.0,ca@0.0>class@0\"\\n', '\"fbs@0.0,exang@0.0,oldpeak@0.0,slope@1.0,ca@0.0>class@0\"\\n', '\"fbs@0.0,oldpeak@0.0,slope@1.0,ca@0.0>class@0\"\\n', '\"fbs@0.0,oldpeak@0.0,slope@1.0>class@0\"\\n', '\"oldpeak@0.0,slope@1.0,thal@3.0>class@0\"\\n', '\"SEX@1.0,oldpeak@0.0,slope@1.0,thal@3.0>class@0\"\\n', '\"oldpeak@0.0,slope@1.0,ca@0.0,thal@3.0>class@0\"\\n', '\"fbs@0.0,oldpeak@0.0,slope@1.0,ca@0.0,thal@3.0>class@0\"\\n', '\"exang@0.0,oldpeak@0.0,slope@1.0,ca@0.0,thal@3.0>class@0\"\\n', '\"fbs@0.0,exang@0.0,oldpeak@0.0,slope@1.0,ca@0.0,thal@3.0,>class@0\"\\n', '\"fbs@0.0,oldpeak@0.0,slope@1.0,thal@3.0>class@0\"\\n', '\"exang@0.0,oldpeak@0.0,slope@1.0,thal@3.0>class@0\"\\n', '\"fbs@0.0,exang@0.0,oldpeak@0.0,slope@1.0,thal@3.0>class@0\"\\n', '\"exang@0.0,oldpeak@0.0,slope@1.0>class@0\"\\n', '\"SEX@1.0,exang@0.0,oldpeak@0.0,slope@1.0>class@0\"\\n', '\"fbs@0.0,exang@0.0,oldpeak@0.0,slope@1.0>class@0\"\\n', '\"exang@1.0,thal@7.0>class@1\"\\n', '\"exang@1.0,slope@2.0,thal@7.0>class@1\"\\n', '\"fbs@0.0,exang@1.0,slope@2.0,thal@7.0>class@1\"\\n', '\"cp@4.0,exang@1.0,slope@2.0,thal@7.0>class@1\"\\n', '\"fbs@0.0,exang@1.0,thal@7.0>class@1\"\\n', '\"SEX@1.0,exang@1.0,thal@7.0>class@1\"\\n', '\"SEX@1.0,fbs@0.0,exang@1.0,thal@7.0>class@1\"\\n', '\"cp@4.0,exang@1.0,thal@7.0>class@1\"\\n', '\"cp@4.0,fbs@0.0,exang@1.0,thal@7.0>class@1\"\\n', '\"SEX@1.0,cp@4.0,exang@1.0,thal@7.0>class@1\"\\n', '\"SEX@1.0,cp@4.0,fbs@0.0,exang@1.0,thal@7.0>class@1\"\\n', 'exang@1.0>class@1\\n', '\"restecg@0.0,exang@1.0>class@1\"\\n', '\"restecg@2.0,exang@1.0>class@1\"\\n', '\"fbs@0.0,restecg@2.0,exang@1.0>class@1\"\\n', '\"SEX@1.0,restecg@2.0,exang@1.0>class@1\"\\n', '\"exang@1.0,slope@2.0>class@1\"\\n', '\"SEX@1.0,exang@1.0,slope@2.0>class@1\"\\n', '\"SEX@1.0,fbs@0.0,exang@1.0,slope@2.0>class@1\"\\n', '\"fbs@0.0,exang@1.0,slope@2.0>class@1\"\\n', '\"cp@4.0,exang@1.0,slope@2.0>class@1\"\\n', '\"SEX@1.0,cp@4.0,exang@1.0,slope@2.0>class@1\"\\n', '\"SEX@1.0,cp@4.0,fbs@0.0,exang@1.0,slope@2.0>class@1\"\\n', '\"cp@4.0,fbs@0.0,exang@1.0,slope@2.0>class@1\"\\n', '\"fbs@0.0,exang@1.0>class@1\"\\n', '\"SEX@1.0,exang@1.0>class@1\"\\n', '\"SEX@1.0,fbs@0.0,exang@1.0>class@1\"\\n', '\"cp@4.0,exang@1.0>class@1\"\\n', '\"cp@4.0,restecg@2.0,exang@1.0>class@1\"\\n', '\"cp@4.0,fbs@0.0,restecg@2.0,exang@1.0>class@1\"\\n', '\"SEX@1.0,cp@4.0,restecg@2.0,exang@1.0>class@1\"\\n', '\"SEX@1.0,cp@4.0,exang@1.0>class@1\"\\n', '\"SEX@1.0,cp@4.0,fbs@0.0,exang@1.0>class@1\"\\n', '\"cp@4.0,fbs@0.0,exang@1.0>class@1\"\\n', 'thal@7.0>class@1\\n', '\"exang@0.0,thal@7.0>class@1\"\\n', '\"SEX@1.0,exang@0.0,thal@7.0>class@1\"\\n', '\"fbs@0.0,exang@0.0,thal@7.0>class@1\"\\n', '\"restecg@0.0,thal@7.0>class@1\"\\n', '\"fbs@0.0,restecg@0.0,thal@7.0>class@1\"\\n', '\"SEX@1.0,restecg@0.0,thal@7.0>class@1\"\\n', '\"SEX@1.0,fbs@0.0,restecg@0.0,thal@7.0>class@1\"\\n', '\"restecg@2.0,thal@7.0>class@1\"\\n', '\"fbs@0.0,restecg@2.0,thal@7.0>class@1\"\\n', '\"SEX@1.0,restecg@2.0,thal@7.0>class@1\"\\n', '\"SEX@1.0,fbs@0.0,restecg@2.0,thal@7.0>class@1\"\\n', '\"slope@2.0,thal@7.0>class@1\"\\n', '\"restecg@2.0,slope@2.0,thal@7.0>class@1\"\\n', '\"cp@4.0,slope@2.0,thal@7.0>class@1\"\\n', '\"SEX@1.0,cp@4.0,slope@2.0,thal@7.0>class@1\"\\n', '\"SEX@1.0,cp@4.0,fbs@0.0,slope@2.0,thal@7.0>class@1\"\\n', '\"cp@4.0,fbs@0.0,slope@2.0,thal@7.0>class@1\"\\n', '\"SEX@1.0,slope@2.0,thal@7.0>class@1\"\\n', '\"SEX@1.0,fbs@0.0,slope@2.0,thal@7.0>class@1\"\\n', '\"fbs@0.0,slope@2.0,thal@7.0>class@1\"\\n', '\"cp@4.0,thal@7.0>class@1\"\\n', '\"cp@4.0,restecg@2.0,thal@7.0>class@1\"\\n', '\"cp@4.0,fbs@0.0,restecg@2.0,thal@7.0>class@1\"\\n', '\"SEX@1.0,cp@4.0,restecg@2.0,thal@7.0>class@1\"\\n', '\"cp@4.0,fbs@0.0,thal@7.0>class@1\"\\n', '\"SEX@1.0,cp@4.0,thal@7.0>class@1\"\\n', '\"SEX@1.0,cp@4.0,fbs@0.0,thal@7.0>class@1\"\\n', '\"fbs@0.0,thal@7.0>class@1\"\\n', '\"SEX@1.0,thal@7.0>class@1\"\\n', '\"SEX@1.0,fbs@0.0,thal@7.0>class@1\"\\n', '\"@,>class@1\"\\n', 'slope@1.0>class@1\\n', '\"fbs@0.0,slope@1.0>class@1\"\\n', '\"SEX@1.0,slope@1.0>class@1\"\\n', 'thal@3.0>class@1\\n', '\"fbs@0.0,thal@3.0>class@1\"\\n', 'ca@0.0>class@1\\n', '\"SEX@1.0,ca@0.0>class@1\"\\n', '\"SEX@1.0,fbs@0.0,ca@0.0>class@1\"\\n', '\"fbs@0.0,ca@0.0>class@1\"\\n', 'restecg@0.0>class@1\\n', '\"SEX@1.0,restecg@0.0>class@1\"\\n', '\"SEX@1.0,fbs@0.0,restecg@0.0>class@1\"\\n', '\"fbs@0.0,restecg@0.0>class@1\"\\n', 'exang@0.0>class@1\\n', '\"SEX@1.0,exang@0.0>class@1\"\\n', '\"SEX@1.0,fbs@0.0,exang@0.0>class@1\"\\n', '\"fbs@0.0,exang@0.0>class@1\"\\n', 'restecg@2.0>class@1\\n', '\"restecg@2.0,exang@0.0>class@1\"\\n', '\"fbs@0.0,restecg@2.0,exang@0.0>class@1\"\\n', '\"fbs@0.0,restecg@2.0>class@1\"\\n', '\"SEX@1.0,restecg@2.0>class@1\"\\n', '\"SEX@1.0,fbs@0.0,restecg@2.0>class@1\"\\n', 'slope@2.0>class@1\\n', '\"exang@0.0,slope@2.0>class@1\"\\n', '\"restecg@0.0,slope@2.0>class@1\"\\n', '\"fbs@0.0,restecg@0.0,slope@2.0>class@1\"\\n', '\"restecg@2.0,slope@2.0>class@1\"\\n', '\"fbs@0.0,restecg@2.0,slope@2.0>class@1\"\\n', '\"SEX@1.0,restecg@2.0,slope@2.0>class@1\"\\n', '\"SEX@1.0,fbs@0.0,restecg@2.0,slope@2.0>class@1\"\\n', '\"cp@4.0,slope@2.0>class@1\"\\n', '\"cp@4.0,restecg@2.0,slope@2.0>class@1\"\\n', '\"SEX@1.0,cp@4.0,restecg@2.0,slope@2.0>class@1\"\\n', '\"cp@4.0,fbs@0.0,restecg@2.0,slope@2.0>class@1\"\\n', '\"SEX@1.0,cp@4.0,slope@2.0>class@1\"\\n', '\"SEX@1.0,cp@4.0,fbs@0.0,slope@2.0>class@1\"\\n', '\"cp@4.0,fbs@0.0,slope@2.0>class@1\"\\n', '\"SEX@1.0,slope@2.0>class@1\"\\n', '\"SEX@1.0,fbs@0.0,slope@2.0>class@1\"\\n', '\"fbs@0.0,slope@2.0>class@1\"\\n', 'cp@4.0>class@1\\n', '\"cp@4.0,ca@0.0>class@1\"\\n', '\"cp@4.0,exang@0.0>class@1\"\\n', '\"cp@4.0,restecg@0.0>class@1\"\\n', '\"SEX@1.0,cp@4.0,restecg@0.0>class@1\"\\n', '\"cp@4.0,fbs@0.0,restecg@0.0>class@1\"\\n', '\"cp@4.0,restecg@2.0>class@1\"\\n', '\"SEX@1.0,cp@4.0,restecg@2.0>class@1\"\\n', '\"SEX@1.0,cp@4.0,fbs@0.0,restecg@2.0>class@1\"\\n', '\"cp@4.0,fbs@0.0,restecg@2.0>class@1\"\\n', '\"SEX@1.0,cp@4.0>class@1\"\\n', '\"SEX@1.0,cp@4.0,fbs@0.0>class@1\"\\n', '\"cp@4.0,fbs@0.0>class@1\"\\n', 'SEX@1.0>class@1\\n', '\"SEX@1.0,fbs@0.0>class@1\"\\n', 'fbs@0.0>class@1\\n', 'slope@2.0>class@0\\n', '\"slope@2.0,thal@3.0>class@0\"\\n', '\"slope@2.0,ca@0.0,thal@3.0>class@0\"\\n', '\"fbs@0.0,slope@2.0,thal@3.0>class@0\"\\n', '\"exang@0.0,slope@2.0>class@0\"\\n', '\"fbs@0.0,exang@0.0,slope@2.0>class@0\"\\n', '\"slope@2.0,ca@0.0>class@0\"\\n', '\"exang@0.0,slope@2.0,ca@0.0>class@0\"\\n', '\"fbs@0.0,exang@0.0,slope@2.0,ca@0.0>class@0\"\\n', '\"fbs@0.0,slope@2.0,ca@0.0>class@0\"\\n', '\"fbs@0.0,slope@2.0>class@0\"\\n', '\"restecg@2.0,slope@1.0>class@0\"\\n', '\"fbs@0.0,restecg@2.0,slope@1.0>class@0\"\\n', '\"restecg@2.0,exang@0.0,slope@1.0>class@0\"\\n', '\"restecg@2.0,slope@1.0,thal@3.0>class@0\"\\n', '\"restecg@0.0,slope@1.0>class@0\"\\n', '\"SEX@1.0,restecg@0.0,slope@1.0>class@0\"\\n', '\"SEX@1.0,fbs@0.0,restecg@0.0,slope@1.0>class@0\"\\n', '\"restecg@0.0,slope@1.0,ca@0.0>class@0\"\\n', '\"SEX@1.0,restecg@0.0,slope@1.0,ca@0.0>class@0\"\\n', '\"restecg@0.0,exang@0.0,slope@1.0,ca@0.0>class@0\"\\n', '\"fbs@0.0,restecg@0.0,exang@0.0,slope@1.0,ca@0.0>class@0\"\\n', '\"fbs@0.0,restecg@0.0,slope@1.0,ca@0.0>class@0\"\\n', '\"restecg@0.0,slope@1.0,thal@3.0>class@0\"\\n', '\"restecg@0.0,slope@1.0,ca@0.0,thal@3.0>class@0\"\\n', '\"restecg@0.0,exang@0.0,slope@1.0,ca@0.0,thal@3.0>class@0\"\\n', '\"fbs@0.0,restecg@0.0,exang@0.0,slope@1.0,ca@0.0,thal@3.0,>class@0\"\\n', '\"fbs@0.0,restecg@0.0,slope@1.0,ca@0.0,thal@3.0>class@0\"\\n', '\"fbs@0.0,restecg@0.0,slope@1.0,thal@3.0>class@0\"\\n', '\"restecg@0.0,exang@0.0,slope@1.0,thal@3.0>class@0\"\\n', '\"fbs@0.0,restecg@0.0,exang@0.0,slope@1.0,thal@3.0>class@0\"\\n', '\"fbs@0.0,restecg@0.0,slope@1.0>class@0\"\\n', '\"restecg@0.0,exang@0.0,slope@1.0>class@0\"\\n', '\"SEX@1.0,restecg@0.0,exang@0.0,slope@1.0>class@0\"\\n', '\"fbs@0.0,restecg@0.0,exang@0.0,slope@1.0>class@0\"\\n', 'slope@1.0>class@0\\n', '\"SEX@1.0,slope@1.0>class@0\"\\n', '\"SEX@1.0,fbs@0.0,slope@1.0>class@0\"\\n', '\"slope@1.0,ca@0.0>class@0\"\\n', '\"SEX@1.0,slope@1.0,ca@0.0>class@0\"\\n', '\"SEX@1.0,fbs@0.0,slope@1.0,ca@0.0>class@0\"\\n', '\"exang@0.0,slope@1.0,ca@0.0>class@0\"\\n', '\"SEX@1.0,exang@0.0,slope@1.0,ca@0.0>class@0\"\\n', '\"SEX@1.0,fbs@0.0,exang@0.0,slope@1.0,ca@0.0>class@0\"\\n', '\"fbs@0.0,exang@0.0,slope@1.0,ca@0.0>class@0\"\\n', '\"fbs@0.0,slope@1.0,ca@0.0>class@0\"\\n', '\"slope@1.0,thal@3.0>class@0\"\\n', '\"SEX@1.0,slope@1.0,thal@3.0>class@0\"\\n', '\"SEX@1.0,fbs@0.0,slope@1.0,thal@3.0>class@0\"\\n', '\"slope@1.0,ca@0.0,thal@3.0>class@0\"\\n', '\"SEX@1.0,slope@1.0,ca@0.0,thal@3.0>class@0\"\\n', '\"SEX@1.0,fbs@0.0,slope@1.0,ca@0.0,thal@3.0>class@0\"\\n', '\"fbs@0.0,slope@1.0,ca@0.0,thal@3.0>class@0\"\\n', '\"exang@0.0,slope@1.0,ca@0.0,thal@3.0>class@0\"\\n', '\"SEX@1.0,exang@0.0,slope@1.0,ca@0.0,thal@3.0>class@0\"\\n', '\"SEX@1.0,fbs@0.0,exang@0.0,slope@1.0,ca@0.0,thal@3.0,>class@0\"\\n', '\"fbs@0.0,exang@0.0,slope@1.0,ca@0.0,thal@3.0>class@0\"\\n', '\"fbs@0.0,slope@1.0,thal@3.0>class@0\"\\n', '\"exang@0.0,slope@1.0,thal@3.0>class@0\"\\n', '\"SEX@1.0,exang@0.0,slope@1.0,thal@3.0>class@0\"\\n', '\"SEX@1.0,fbs@0.0,exang@0.0,slope@1.0,thal@3.0>class@0\"\\n', '\"fbs@0.0,exang@0.0,slope@1.0,thal@3.0>class@0\"\\n', '\"fbs@0.0,slope@1.0>class@0\"\\n', '\"exang@0.0,slope@1.0>class@0\"\\n', '\"SEX@1.0,exang@0.0,slope@1.0>class@0\"\\n', '\"SEX@1.0,fbs@0.0,exang@0.0,slope@1.0>class@0\"\\n', '\"fbs@0.0,exang@0.0,slope@1.0>class@0\"\\n', 'cp@4.0>class@0\\n', '\"cp@4.0,fbs@0.0>class@0\"\\n', '\"cp@4.0,ca@0.0>class@0\"\\n', '\"cp@4.0,fbs@0.0,ca@0.0>class@0\"\\n', 'restecg@2.0>class@0\\n', '\"SEX@1.0,restecg@2.0>class@0\"\\n', '\"restecg@2.0,thal@3.0>class@0\"\\n', '\"restecg@2.0,ca@0.0,thal@3.0>class@0\"\\n', '\"restecg@2.0,exang@0.0,ca@0.0,thal@3.0>class@0\"\\n', '\"fbs@0.0,restecg@2.0,exang@0.0,ca@0.0,thal@3.0>class@0\"\\n', '\"fbs@0.0,restecg@2.0,ca@0.0,thal@3.0>class@0\"\\n', '\"restecg@2.0,exang@0.0,thal@3.0>class@0\"\\n', '\"fbs@0.0,restecg@2.0,exang@0.0,thal@3.0>class@0\"\\n', '\"fbs@0.0,restecg@2.0,thal@3.0>class@0\"\\n', '\"restecg@2.0,ca@0.0>class@0\"\\n', '\"SEX@1.0,restecg@2.0,ca@0.0>class@0\"\\n', '\"restecg@2.0,exang@0.0,ca@0.0>class@0\"\\n', '\"fbs@0.0,restecg@2.0,exang@0.0,ca@0.0>class@0\"\\n', '\"fbs@0.0,restecg@2.0,ca@0.0>class@0\"\\n', '\"restecg@2.0,exang@0.0>class@0\"\\n', '\"SEX@1.0,restecg@2.0,exang@0.0>class@0\"\\n', '\"fbs@0.0,restecg@2.0,exang@0.0>class@0\"\\n', '\"fbs@0.0,restecg@2.0>class@0\"\\n', 'restecg@0.0>class@0\\n', '\"SEX@1.0,restecg@0.0>class@0\"\\n', '\"SEX@1.0,fbs@0.0,restecg@0.0>class@0\"\\n', '\"restecg@0.0,thal@3.0>class@0\"\\n', '\"SEX@1.0,restecg@0.0,thal@3.0>class@0\"\\n', '\"restecg@0.0,ca@0.0,thal@3.0>class@0\"\\n', '\"restecg@0.0,exang@0.0,ca@0.0,thal@3.0>class@0\"\\n', '\"fbs@0.0,restecg@0.0,exang@0.0,ca@0.0,thal@3.0>class@0\"\\n', '\"fbs@0.0,restecg@0.0,ca@0.0,thal@3.0>class@0\"\\n', '\"restecg@0.0,exang@0.0,thal@3.0>class@0\"\\n', '\"fbs@0.0,restecg@0.0,exang@0.0,thal@3.0>class@0\"\\n', '\"fbs@0.0,restecg@0.0,thal@3.0>class@0\"\\n', '\"restecg@0.0,ca@0.0>class@0\"\\n', '\"SEX@1.0,restecg@0.0,ca@0.0>class@0\"\\n', '\"SEX@1.0,fbs@0.0,restecg@0.0,ca@0.0>class@0\"\\n', '\"restecg@0.0,exang@0.0,ca@0.0>class@0\"\\n', '\"SEX@1.0,restecg@0.0,exang@0.0,ca@0.0>class@0\"\\n', '\"fbs@0.0,restecg@0.0,exang@0.0,ca@0.0>class@0\"\\n', '\"fbs@0.0,restecg@0.0,ca@0.0>class@0\"\\n', '\"fbs@0.0,restecg@0.0>class@0\"\\n', '\"restecg@0.0,exang@0.0>class@0\"\\n', '\"SEX@1.0,restecg@0.0,exang@0.0>class@0\"\\n', '\"SEX@1.0,fbs@0.0,restecg@0.0,exang@0.0>class@0\"\\n', '\"fbs@0.0,restecg@0.0,exang@0.0>class@0\"\\n', '\"@,>class@0\"\\n', 'SEX@1.0>class@0\\n', '\"SEX@1.0,fbs@0.0>class@0\"\\n', 'thal@3.0>class@0\\n', '\"SEX@1.0,thal@3.0>class@0\"\\n', '\"SEX@1.0,fbs@0.0,thal@3.0>class@0\"\\n', '\"ca@0.0,thal@3.0>class@0\"\\n', '\"SEX@1.0,ca@0.0,thal@3.0>class@0\"\\n', '\"SEX@1.0,fbs@0.0,ca@0.0,thal@3.0>class@0\"\\n', '\"exang@0.0,ca@0.0,thal@3.0>class@0\"\\n', '\"SEX@1.0,exang@0.0,ca@0.0,thal@3.0>class@0\"\\n', '\"SEX@1.0,fbs@0.0,exang@0.0,ca@0.0,thal@3.0>class@0\"\\n', '\"fbs@0.0,exang@0.0,ca@0.0,thal@3.0>class@0\"\\n', '\"fbs@0.0,ca@0.0,thal@3.0>class@0\"\\n', '\"exang@0.0,thal@3.0>class@0\"\\n', '\"SEX@1.0,exang@0.0,thal@3.0>class@0\"\\n', '\"SEX@1.0,fbs@0.0,exang@0.0,thal@3.0>class@0\"\\n', '\"fbs@0.0,exang@0.0,thal@3.0>class@0\"\\n', '\"fbs@0.0,thal@3.0>class@0\"\\n', 'ca@0.0>class@0\\n', '\"SEX@1.0,ca@0.0>class@0\"\\n', '\"SEX@1.0,fbs@0.0,ca@0.0>class@0\"\\n', '\"exang@0.0,ca@0.0>class@0\"\\n', '\"SEX@1.0,exang@0.0,ca@0.0>class@0\"\\n', '\"SEX@1.0,fbs@0.0,exang@0.0,ca@0.0>class@0\"\\n', '\"fbs@0.0,exang@0.0,ca@0.0>class@0\"\\n', '\"fbs@0.0,ca@0.0>class@0\"\\n', 'exang@0.0>class@0\\n', '\"SEX@1.0,exang@0.0>class@0\"\\n', '\"SEX@1.0,fbs@0.0,exang@0.0>class@0\"\\n', '\"fbs@0.0,exang@0.0>class@0\"\\n', 'fbs@0.0>class@0\\n']\n"
          ],
          "name": "stdout"
        }
      ]
    },
    {
      "cell_type": "code",
      "metadata": {
        "id": "bYaVnRIyrTJW"
      },
      "source": [
        "f = open('/content/clev_rpgrwoth_rules.csv','w')\r\n",
        "for line in lst:\r\n",
        "    f.write(line)\r\n",
        "f.close()"
      ],
      "execution_count": 62,
      "outputs": []
    },
    {
      "cell_type": "code",
      "metadata": {
        "id": "PVPpAlDk1t5e"
      },
      "source": [
        "df = pd.read_csv('/content/clev_rpgrwoth_rules.csv')\r\n",
        "df.to_csv(\"/content/drive/MyDrive/DataSets_for_Paper/clev_rpgrowth_out_rules.csv\")"
      ],
      "execution_count": 63,
      "outputs": []
    }
  ]
}