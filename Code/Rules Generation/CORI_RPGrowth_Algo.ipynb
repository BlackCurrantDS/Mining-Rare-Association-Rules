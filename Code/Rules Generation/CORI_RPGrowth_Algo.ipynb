{
  "nbformat": 4,
  "nbformat_minor": 0,
  "metadata": {
    "colab": {
      "name": "CORI_RPGrowth_Algo.ipynb",
      "provenance": [],
      "authorship_tag": "ABX9TyMuLrOj3YYk0sxRl08JA1P5",
      "include_colab_link": true
    },
    "kernelspec": {
      "name": "python3",
      "display_name": "Python 3"
    }
  },
  "cells": [
    {
      "cell_type": "markdown",
      "metadata": {
        "id": "view-in-github",
        "colab_type": "text"
      },
      "source": [
        "<a href=\"https://colab.research.google.com/github/BlackCurrantDS/DBSE_Project/blob/main/CORI_RPGrowth_Algo.ipynb\" target=\"_parent\"><img src=\"https://colab.research.google.com/assets/colab-badge.svg\" alt=\"Open In Colab\"/></a>"
      ]
    },
    {
      "cell_type": "code",
      "metadata": {
        "colab": {
          "base_uri": "https://localhost:8080/"
        },
        "id": "r7GqZuEDjx9j",
        "outputId": "345c2757-a308-48a8-ab5d-7e9e24d22766"
      },
      "source": [
        "pip install spmf"
      ],
      "execution_count": 1,
      "outputs": [
        {
          "output_type": "stream",
          "text": [
            "Collecting spmf\n",
            "  Downloading https://files.pythonhosted.org/packages/8c/ff/15ed66193c66c7ea933f8b29c6f46e5dfee90584a0fbb68bd5cb8a151c74/spmf-1.3-py3-none-any.whl\n",
            "Installing collected packages: spmf\n",
            "Successfully installed spmf-1.3\n"
          ],
          "name": "stdout"
        }
      ]
    },
    {
      "cell_type": "code",
      "metadata": {
        "id": "K93Z50XAj1sl"
      },
      "source": [
        "from spmf import Spmf\r\n",
        "import pathlib"
      ],
      "execution_count": 15,
      "outputs": []
    },
    {
      "cell_type": "code",
      "metadata": {
        "id": "1Z6YYnrNlfzP"
      },
      "source": [
        "d = '/content/'"
      ],
      "execution_count": 37,
      "outputs": []
    },
    {
      "cell_type": "code",
      "metadata": {
        "id": "j7AXb5ooj-Em"
      },
      "source": [
        "spmf = Spmf(\"PrefixSpan\", input_filename=\"contextPrefixSpan.txt\",\r\n",
        "            output_filename=\"output.txt\", arguments=[0.7, 5],spmf_bin_location_dir=d )"
      ],
      "execution_count": 23,
      "outputs": []
    },
    {
      "cell_type": "code",
      "metadata": {
        "colab": {
          "base_uri": "https://localhost:8080/"
        },
        "id": "NGI-u1IdqvdM",
        "outputId": "e8e0909d-c91f-44b0-b927-72bb4dcd65e1"
      },
      "source": [
        "spmf.run()\r\n",
        "print(spmf.to_pandas_dataframe(pickle=True))\r\n",
        "spmf.to_csv(\"output.csv\")"
      ],
      "execution_count": 24,
      "outputs": [
        {
          "output_type": "stream",
          "text": [
            ">/content/spmf.jar\n",
            "=============  PREFIXSPAN 0.99-2016 - STATISTICS =============\n",
            " Total time ~ 8 ms\n",
            " Frequent sequences count : 14\n",
            " Max memory (mb) : 6.5321502685546875\n",
            " minsup = 3 sequences.\n",
            " Pattern count : 14\n",
            "===================================================\n",
            "\n",
            "\n",
            "      pattern  sup\n",
            "0         [1]    4\n",
            "1      [1, 2]    4\n",
            "2      [1, 3]    4\n",
            "3   [1, 3, 2]    3\n",
            "4   [1, 3, 3]    3\n",
            "5         [2]    4\n",
            "6      [2, 3]    3\n",
            "7         [3]    4\n",
            "8      [3, 2]    3\n",
            "9      [3, 3]    3\n",
            "10        [4]    3\n",
            "11     [4, 3]    3\n",
            "12        [5]    3\n",
            "13        [6]    3\n"
          ],
          "name": "stdout"
        }
      ]
    },
    {
      "cell_type": "markdown",
      "metadata": {
        "id": "eHIT6gCzrDFR"
      },
      "source": [
        "CORI"
      ]
    },
    {
      "cell_type": "code",
      "metadata": {
        "id": "g6jSySf1rEqr"
      },
      "source": [
        "spmf = Spmf(\"CORI\", input_filename=\"contextPasquier99.txt\",\r\n",
        "            output_filename=\"output.txt\", arguments=[0.8, 2],spmf_bin_location_dir=d )"
      ],
      "execution_count": 25,
      "outputs": []
    },
    {
      "cell_type": "code",
      "metadata": {
        "colab": {
          "base_uri": "https://localhost:8080/"
        },
        "id": "BgWv9C2YrU0r",
        "outputId": "7a1b1c0e-64d5-4fc7-80c0-02d27d76b6f8"
      },
      "source": [
        "spmf.run()\r\n",
        "print(spmf)"
      ],
      "execution_count": 28,
      "outputs": [
        {
          "output_type": "stream",
          "text": [
            ">/content/spmf.jar\n",
            "=============  CORI _96r18 - STATS =============\n",
            " Minbond = 2.0 Minsup = 4 transactions\n",
            " Database transaction count: 5\n",
            " Rare correlated itemset count : 2\n",
            " Total time ~ 4 ms\n",
            " Maximum memory usage : 6.497535705566406 mb\n",
            "===================================================\n",
            "\n",
            "<spmf.Spmf object at 0x7f707f2de978>\n"
          ],
          "name": "stdout"
        }
      ]
    },
    {
      "cell_type": "markdown",
      "metadata": {
        "id": "tojewqvb0pYv"
      },
      "source": [
        "with breast cancern file"
      ]
    },
    {
      "cell_type": "code",
      "metadata": {
        "id": "hz_buEc40wOD"
      },
      "source": [
        "spmf = Spmf(\"CORI\", input_filename=\"breast_train_transactions.txt\",\r\n",
        "            output_filename=\"output.txt\", arguments=[0.1, 2],spmf_bin_location_dir=d )"
      ],
      "execution_count": 31,
      "outputs": []
    },
    {
      "cell_type": "code",
      "metadata": {
        "colab": {
          "base_uri": "https://localhost:8080/"
        },
        "id": "KG-6k8ZI0wOF",
        "outputId": "c2786db9-00f1-493b-919b-8099b519677a"
      },
      "source": [
        "spmf.run()\r\n",
        "print(spmf)"
      ],
      "execution_count": 32,
      "outputs": [
        {
          "output_type": "stream",
          "text": [
            ">/content/spmf.jar\n",
            "=============  CORI _96r18 - STATS =============\n",
            " Minbond = 2.0 Minsup = 0 transactions\n",
            " Database transaction count: 0\n",
            " Rare correlated itemset count : 0\n",
            " Total time ~ 1 ms\n",
            " Maximum memory usage : 6.497566223144531 mb\n",
            "===================================================\n",
            "\n",
            "<spmf.Spmf object at 0x7f707f349e48>\n"
          ],
          "name": "stdout"
        }
      ]
    },
    {
      "cell_type": "markdown",
      "metadata": {
        "id": "V1zYvfa52Lku"
      },
      "source": [
        "Changing dataset to numbers"
      ]
    },
    {
      "cell_type": "code",
      "metadata": {
        "id": "w7yjs9cY2OMm"
      },
      "source": [
        "1. Class: no-recurrence-events 1 , recurrence-events 2 \r\n",
        "2. age: 10-19 3 , 20-29 4 , 30-39 5 , 40-49 6 , 50-59 7 , 60-69 8 , 70-79 9 , 80-89 10 , 90-99 11.\r\n",
        "3. menopause: lt40 12 , ge40 13 , premeno 14 .\r\n",
        "4. tumor-size: 0-4 :15 , 5-9 :16 , 10-14 :17 , 15-19 :18 , 20-24 :19 , 25-29 :20, 30-34 :21, 35-39 :22, 40-44 :23, 45-49 :24, 50-54 :25, 55-59 :26.\r\n",
        "5. inv-nodes: 0-2 :27, 3-5 :28, 6-8 :29, 9-11 :30 , 12-14 :31, 15-17 :32, 18-20 :33, 21-23 :34, 24-26 :35, 27-29 :36, 30-32 :37, 33-35 :38, 36-39 :39.\r\n",
        "6. node-caps: yes :40, no :41.\r\n",
        "7. deg-malig: 1 :42, 2 :43, 3 :44.\r\n",
        "8. breast: left :45, right :46.\r\n",
        "9. breast-quad: left-up :47, left-low :48, right-up :49, right-low :50, central :51.\r\n",
        "10. irradiat: yes :52, no :53.\r\n",
        "\r\n",
        "a5@?, a8@"
      ],
      "execution_count": null,
      "outputs": []
    },
    {
      "cell_type": "markdown",
      "metadata": {
        "id": "PK2JgHHL1wlV"
      },
      "source": [
        " RP-Growth"
      ]
    },
    {
      "cell_type": "code",
      "metadata": {
        "id": "Hetioi0N8oTM"
      },
      "source": [
        "spmf = Spmf(\"RPGrowth_itemsets\", input_filename=\"contextRP.txt\",\r\n",
        "            output_filename=\"output.txt\", arguments=[.6, .10],spmf_bin_location_dir=d )"
      ],
      "execution_count": 47,
      "outputs": []
    },
    {
      "cell_type": "code",
      "metadata": {
        "colab": {
          "base_uri": "https://localhost:8080/"
        },
        "id": "veIxjDDL81UM",
        "outputId": "9a4ac467-4a3b-4e9a-985e-37e769e6133a"
      },
      "source": [
        "spmf.run()"
      ],
      "execution_count": 50,
      "outputs": [
        {
          "output_type": "stream",
          "text": [
            ">/content/spmf.jar\n",
            "=============  RP-GROWTH 2.38 - STATS =============\n",
            " Transactions count from database : 5\n",
            " Max memory usage: 6.505340576171875 mb \n",
            " Rare itemsets count : 4\n",
            " Total time ~ 5 ms\n",
            "===================================================\n",
            "\n"
          ],
          "name": "stdout"
        }
      ]
    },
    {
      "cell_type": "code",
      "metadata": {
        "id": "msx0-KjE105a"
      },
      "source": [
        "spmf = Spmf(\"RPGrowth_itemsets\", input_filename=\"breast_train_transactions_transactions.txt\",\r\n",
        "            output_filename=\"output.txt\", arguments=[0.6, .10],spmf_bin_location_dir=d )"
      ],
      "execution_count": 53,
      "outputs": []
    },
    {
      "cell_type": "code",
      "metadata": {
        "id": "pkg05oIu105c"
      },
      "source": [
        "spmf.run()\r\n",
        "print(spmf.to_pandas_dataframe(pickle=True))\r\n",
        "spmf.to_csv(\"output.csv\")"
      ],
      "execution_count": null,
      "outputs": []
    }
  ]
}