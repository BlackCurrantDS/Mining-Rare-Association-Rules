{
  "nbformat": 4,
  "nbformat_minor": 0,
  "metadata": {
    "colab": {
      "name": "Part1_b)Generate_Rules_Neg+FPGrowth.ipynb",
      "provenance": [],
      "authorship_tag": "ABX9TyNetOL/Qq/U5yHmwAGAMRUZ",
      "include_colab_link": true
    },
    "kernelspec": {
      "name": "python3",
      "display_name": "Python 3"
    },
    "accelerator": "TPU"
  },
  "cells": [
    {
      "cell_type": "markdown",
      "metadata": {
        "id": "view-in-github",
        "colab_type": "text"
      },
      "source": [
        "<a href=\"https://colab.research.google.com/github/BlackCurrantDS/DBSE_Project/blob/main/Part1_b)Generate_Rules_Neg%2BFPGrowth.ipynb\" target=\"_parent\"><img src=\"https://colab.research.google.com/assets/colab-badge.svg\" alt=\"Open In Colab\"/></a>"
      ]
    },
    {
      "cell_type": "code",
      "metadata": {
        "id": "UqPFumu8va1E"
      },
      "source": [
        "import pandas as pd\r\n",
        "df = pd.read_csv('/content/breast_train_transactions.txt', header = None, sep=\",\" , names=['a','b','c', 'd', 'e', 'f','g', 'h', 'i', 'k'])"
      ],
      "execution_count": 3,
      "outputs": []
    },
    {
      "cell_type": "code",
      "metadata": {
        "colab": {
          "base_uri": "https://localhost:8080/",
          "height": 195
        },
        "id": "h2bpjUt4vzdf",
        "outputId": "5096433f-6c0b-4eb1-ab6c-6e743d3d5a1d"
      },
      "source": [
        "df.head(5)"
      ],
      "execution_count": 4,
      "outputs": [
        {
          "output_type": "execute_result",
          "data": {
            "text/html": [
              "<div>\n",
              "<style scoped>\n",
              "    .dataframe tbody tr th:only-of-type {\n",
              "        vertical-align: middle;\n",
              "    }\n",
              "\n",
              "    .dataframe tbody tr th {\n",
              "        vertical-align: top;\n",
              "    }\n",
              "\n",
              "    .dataframe thead th {\n",
              "        text-align: right;\n",
              "    }\n",
              "</style>\n",
              "<table border=\"1\" class=\"dataframe\">\n",
              "  <thead>\n",
              "    <tr style=\"text-align: right;\">\n",
              "      <th></th>\n",
              "      <th>a</th>\n",
              "      <th>b</th>\n",
              "      <th>c</th>\n",
              "      <th>d</th>\n",
              "      <th>e</th>\n",
              "      <th>f</th>\n",
              "      <th>g</th>\n",
              "      <th>h</th>\n",
              "      <th>i</th>\n",
              "      <th>k</th>\n",
              "    </tr>\n",
              "  </thead>\n",
              "  <tbody>\n",
              "    <tr>\n",
              "      <th>0</th>\n",
              "      <td>class@no</td>\n",
              "      <td>a1@30-39</td>\n",
              "      <td>a2@premeno</td>\n",
              "      <td>a3@30-34</td>\n",
              "      <td>a4@0-2</td>\n",
              "      <td>a5@no</td>\n",
              "      <td>a6@3</td>\n",
              "      <td>a7@left</td>\n",
              "      <td>a8@left_low</td>\n",
              "      <td>a9@no</td>\n",
              "    </tr>\n",
              "    <tr>\n",
              "      <th>1</th>\n",
              "      <td>class@no</td>\n",
              "      <td>a1@40-49</td>\n",
              "      <td>a2@premeno</td>\n",
              "      <td>a3@20-24</td>\n",
              "      <td>a4@0-2</td>\n",
              "      <td>a5@no</td>\n",
              "      <td>a6@2</td>\n",
              "      <td>a7@right</td>\n",
              "      <td>a8@right_up</td>\n",
              "      <td>a9@no</td>\n",
              "    </tr>\n",
              "    <tr>\n",
              "      <th>2</th>\n",
              "      <td>class@no</td>\n",
              "      <td>a1@40-49</td>\n",
              "      <td>a2@premeno</td>\n",
              "      <td>a3@20-24</td>\n",
              "      <td>a4@0-2</td>\n",
              "      <td>a5@no</td>\n",
              "      <td>a6@2</td>\n",
              "      <td>a7@left</td>\n",
              "      <td>a8@left_low</td>\n",
              "      <td>a9@no</td>\n",
              "    </tr>\n",
              "    <tr>\n",
              "      <th>3</th>\n",
              "      <td>class@no</td>\n",
              "      <td>a1@60-69</td>\n",
              "      <td>a2@ge40</td>\n",
              "      <td>a3@15-19</td>\n",
              "      <td>a4@0-2</td>\n",
              "      <td>a5@no</td>\n",
              "      <td>a6@2</td>\n",
              "      <td>a7@right</td>\n",
              "      <td>a8@left_up</td>\n",
              "      <td>a9@no</td>\n",
              "    </tr>\n",
              "    <tr>\n",
              "      <th>4</th>\n",
              "      <td>class@no</td>\n",
              "      <td>a1@40-49</td>\n",
              "      <td>a2@premeno</td>\n",
              "      <td>a3@0-4</td>\n",
              "      <td>a4@0-2</td>\n",
              "      <td>a5@no</td>\n",
              "      <td>a6@2</td>\n",
              "      <td>a7@right</td>\n",
              "      <td>a8@right_low</td>\n",
              "      <td>a9@no</td>\n",
              "    </tr>\n",
              "  </tbody>\n",
              "</table>\n",
              "</div>"
            ],
            "text/plain": [
              "          a         b           c  ...         h             i      k\n",
              "0  class@no  a1@30-39  a2@premeno  ...   a7@left   a8@left_low  a9@no\n",
              "1  class@no  a1@40-49  a2@premeno  ...  a7@right   a8@right_up  a9@no\n",
              "2  class@no  a1@40-49  a2@premeno  ...   a7@left   a8@left_low  a9@no\n",
              "3  class@no  a1@60-69     a2@ge40  ...  a7@right    a8@left_up  a9@no\n",
              "4  class@no  a1@40-49  a2@premeno  ...  a7@right  a8@right_low  a9@no\n",
              "\n",
              "[5 rows x 10 columns]"
            ]
          },
          "metadata": {
            "tags": []
          },
          "execution_count": 4
        }
      ]
    },
    {
      "cell_type": "code",
      "metadata": {
        "id": "T25IDK2jXXmI"
      },
      "source": [
        "import numpy as np\r\n",
        "#df['class_col'] = np.where(df.a == 'class@yes','class@no', 'class@yes')"
      ],
      "execution_count": 5,
      "outputs": []
    },
    {
      "cell_type": "code",
      "metadata": {
        "colab": {
          "base_uri": "https://localhost:8080/",
          "height": 195
        },
        "id": "d4k3L2yFYkEo",
        "outputId": "026e15cd-d06b-47c8-e6fc-3c2349cc7409"
      },
      "source": [
        "df.head(5)"
      ],
      "execution_count": 6,
      "outputs": [
        {
          "output_type": "execute_result",
          "data": {
            "text/html": [
              "<div>\n",
              "<style scoped>\n",
              "    .dataframe tbody tr th:only-of-type {\n",
              "        vertical-align: middle;\n",
              "    }\n",
              "\n",
              "    .dataframe tbody tr th {\n",
              "        vertical-align: top;\n",
              "    }\n",
              "\n",
              "    .dataframe thead th {\n",
              "        text-align: right;\n",
              "    }\n",
              "</style>\n",
              "<table border=\"1\" class=\"dataframe\">\n",
              "  <thead>\n",
              "    <tr style=\"text-align: right;\">\n",
              "      <th></th>\n",
              "      <th>a</th>\n",
              "      <th>b</th>\n",
              "      <th>c</th>\n",
              "      <th>d</th>\n",
              "      <th>e</th>\n",
              "      <th>f</th>\n",
              "      <th>g</th>\n",
              "      <th>h</th>\n",
              "      <th>i</th>\n",
              "      <th>k</th>\n",
              "    </tr>\n",
              "  </thead>\n",
              "  <tbody>\n",
              "    <tr>\n",
              "      <th>0</th>\n",
              "      <td>class@no</td>\n",
              "      <td>a1@30-39</td>\n",
              "      <td>a2@premeno</td>\n",
              "      <td>a3@30-34</td>\n",
              "      <td>a4@0-2</td>\n",
              "      <td>a5@no</td>\n",
              "      <td>a6@3</td>\n",
              "      <td>a7@left</td>\n",
              "      <td>a8@left_low</td>\n",
              "      <td>a9@no</td>\n",
              "    </tr>\n",
              "    <tr>\n",
              "      <th>1</th>\n",
              "      <td>class@no</td>\n",
              "      <td>a1@40-49</td>\n",
              "      <td>a2@premeno</td>\n",
              "      <td>a3@20-24</td>\n",
              "      <td>a4@0-2</td>\n",
              "      <td>a5@no</td>\n",
              "      <td>a6@2</td>\n",
              "      <td>a7@right</td>\n",
              "      <td>a8@right_up</td>\n",
              "      <td>a9@no</td>\n",
              "    </tr>\n",
              "    <tr>\n",
              "      <th>2</th>\n",
              "      <td>class@no</td>\n",
              "      <td>a1@40-49</td>\n",
              "      <td>a2@premeno</td>\n",
              "      <td>a3@20-24</td>\n",
              "      <td>a4@0-2</td>\n",
              "      <td>a5@no</td>\n",
              "      <td>a6@2</td>\n",
              "      <td>a7@left</td>\n",
              "      <td>a8@left_low</td>\n",
              "      <td>a9@no</td>\n",
              "    </tr>\n",
              "    <tr>\n",
              "      <th>3</th>\n",
              "      <td>class@no</td>\n",
              "      <td>a1@60-69</td>\n",
              "      <td>a2@ge40</td>\n",
              "      <td>a3@15-19</td>\n",
              "      <td>a4@0-2</td>\n",
              "      <td>a5@no</td>\n",
              "      <td>a6@2</td>\n",
              "      <td>a7@right</td>\n",
              "      <td>a8@left_up</td>\n",
              "      <td>a9@no</td>\n",
              "    </tr>\n",
              "    <tr>\n",
              "      <th>4</th>\n",
              "      <td>class@no</td>\n",
              "      <td>a1@40-49</td>\n",
              "      <td>a2@premeno</td>\n",
              "      <td>a3@0-4</td>\n",
              "      <td>a4@0-2</td>\n",
              "      <td>a5@no</td>\n",
              "      <td>a6@2</td>\n",
              "      <td>a7@right</td>\n",
              "      <td>a8@right_low</td>\n",
              "      <td>a9@no</td>\n",
              "    </tr>\n",
              "  </tbody>\n",
              "</table>\n",
              "</div>"
            ],
            "text/plain": [
              "          a         b           c  ...         h             i      k\n",
              "0  class@no  a1@30-39  a2@premeno  ...   a7@left   a8@left_low  a9@no\n",
              "1  class@no  a1@40-49  a2@premeno  ...  a7@right   a8@right_up  a9@no\n",
              "2  class@no  a1@40-49  a2@premeno  ...   a7@left   a8@left_low  a9@no\n",
              "3  class@no  a1@60-69     a2@ge40  ...  a7@right    a8@left_up  a9@no\n",
              "4  class@no  a1@40-49  a2@premeno  ...  a7@right  a8@right_low  a9@no\n",
              "\n",
              "[5 rows x 10 columns]"
            ]
          },
          "metadata": {
            "tags": []
          },
          "execution_count": 6
        }
      ]
    },
    {
      "cell_type": "code",
      "metadata": {
        "id": "DCOrREhGypxX"
      },
      "source": [
        "big_list =[]\r\n",
        "for column in df:\r\n",
        "  big_list.append(df[column].unique())"
      ],
      "execution_count": 7,
      "outputs": []
    },
    {
      "cell_type": "code",
      "metadata": {
        "colab": {
          "base_uri": "https://localhost:8080/"
        },
        "id": "NrzYNd5wy0cn",
        "outputId": "308a4a75-decd-401c-cbdb-3a4ae981b0ab"
      },
      "source": [
        "big_list"
      ],
      "execution_count": 8,
      "outputs": [
        {
          "output_type": "execute_result",
          "data": {
            "text/plain": [
              "[array(['class@no', 'class@yes'], dtype=object),\n",
              " array(['a1@30-39', 'a1@40-49', 'a1@60-69', 'a1@50-59', 'a1@70-79'],\n",
              "       dtype=object),\n",
              " array(['a2@premeno', 'a2@ge40', 'a2@lt40'], dtype=object),\n",
              " array(['a3@30-34', 'a3@20-24', 'a3@15-19', 'a3@0-4', 'a3@25-29',\n",
              "        'a3@50-54', 'a3@10-14', 'a3@40-44', 'a3@35-39', 'a3@5-9',\n",
              "        'a3@45-49'], dtype=object),\n",
              " array(['a4@0-2', 'a4@6-8', 'a4@9-11', 'a4@3-5', 'a4@15-17', 'a4@12-14',\n",
              "        'a4@24-26'], dtype=object),\n",
              " array(['a5@no', 'a5@yes', 'a5@?'], dtype=object),\n",
              " array(['a6@3', 'a6@2', 'a6@1'], dtype=object),\n",
              " array(['a7@left', 'a7@right'], dtype=object),\n",
              " array(['a8@left_low', 'a8@right_up', 'a8@left_up', 'a8@right_low',\n",
              "        'a8@central', 'a8@?'], dtype=object),\n",
              " array(['a9@no', 'a9@yes'], dtype=object)]"
            ]
          },
          "metadata": {
            "tags": []
          },
          "execution_count": 8
        }
      ]
    },
    {
      "cell_type": "code",
      "metadata": {
        "id": "sUfiE655J-1J"
      },
      "source": [
        "big_list =[]\r\n",
        "for column in df:\r\n",
        "  big_list.append(df[column].unique())"
      ],
      "execution_count": 9,
      "outputs": []
    },
    {
      "cell_type": "code",
      "metadata": {
        "colab": {
          "base_uri": "https://localhost:8080/"
        },
        "id": "aaHoncZhJ-1K",
        "outputId": "297ff4f6-60a2-479b-9068-417c31cb4e20"
      },
      "source": [
        "big_list"
      ],
      "execution_count": 10,
      "outputs": [
        {
          "output_type": "execute_result",
          "data": {
            "text/plain": [
              "[array(['class@no', 'class@yes'], dtype=object),\n",
              " array(['a1@30-39', 'a1@40-49', 'a1@60-69', 'a1@50-59', 'a1@70-79'],\n",
              "       dtype=object),\n",
              " array(['a2@premeno', 'a2@ge40', 'a2@lt40'], dtype=object),\n",
              " array(['a3@30-34', 'a3@20-24', 'a3@15-19', 'a3@0-4', 'a3@25-29',\n",
              "        'a3@50-54', 'a3@10-14', 'a3@40-44', 'a3@35-39', 'a3@5-9',\n",
              "        'a3@45-49'], dtype=object),\n",
              " array(['a4@0-2', 'a4@6-8', 'a4@9-11', 'a4@3-5', 'a4@15-17', 'a4@12-14',\n",
              "        'a4@24-26'], dtype=object),\n",
              " array(['a5@no', 'a5@yes', 'a5@?'], dtype=object),\n",
              " array(['a6@3', 'a6@2', 'a6@1'], dtype=object),\n",
              " array(['a7@left', 'a7@right'], dtype=object),\n",
              " array(['a8@left_low', 'a8@right_up', 'a8@left_up', 'a8@right_low',\n",
              "        'a8@central', 'a8@?'], dtype=object),\n",
              " array(['a9@no', 'a9@yes'], dtype=object)]"
            ]
          },
          "metadata": {
            "tags": []
          },
          "execution_count": 10
        }
      ]
    },
    {
      "cell_type": "code",
      "metadata": {
        "colab": {
          "base_uri": "https://localhost:8080/"
        },
        "id": "suXXkctMzgGu",
        "outputId": "7379d7ff-77e2-4b69-919a-4c2699eacd49"
      },
      "source": [
        "len(big_list)"
      ],
      "execution_count": 11,
      "outputs": [
        {
          "output_type": "execute_result",
          "data": {
            "text/plain": [
              "10"
            ]
          },
          "metadata": {
            "tags": []
          },
          "execution_count": 11
        }
      ]
    },
    {
      "cell_type": "code",
      "metadata": {
        "id": "mKWuZUcV0ABW"
      },
      "source": [
        "new_list = list(map(list,big_list))"
      ],
      "execution_count": 12,
      "outputs": []
    },
    {
      "cell_type": "code",
      "metadata": {
        "colab": {
          "base_uri": "https://localhost:8080/"
        },
        "id": "E9bfINGd0CpQ",
        "outputId": "315c46e3-c337-4916-9b28-7f240f3cbed4"
      },
      "source": [
        "new_list"
      ],
      "execution_count": 13,
      "outputs": [
        {
          "output_type": "execute_result",
          "data": {
            "text/plain": [
              "[['class@no', 'class@yes'],\n",
              " ['a1@30-39', 'a1@40-49', 'a1@60-69', 'a1@50-59', 'a1@70-79'],\n",
              " ['a2@premeno', 'a2@ge40', 'a2@lt40'],\n",
              " ['a3@30-34',\n",
              "  'a3@20-24',\n",
              "  'a3@15-19',\n",
              "  'a3@0-4',\n",
              "  'a3@25-29',\n",
              "  'a3@50-54',\n",
              "  'a3@10-14',\n",
              "  'a3@40-44',\n",
              "  'a3@35-39',\n",
              "  'a3@5-9',\n",
              "  'a3@45-49'],\n",
              " ['a4@0-2', 'a4@6-8', 'a4@9-11', 'a4@3-5', 'a4@15-17', 'a4@12-14', 'a4@24-26'],\n",
              " ['a5@no', 'a5@yes', 'a5@?'],\n",
              " ['a6@3', 'a6@2', 'a6@1'],\n",
              " ['a7@left', 'a7@right'],\n",
              " ['a8@left_low',\n",
              "  'a8@right_up',\n",
              "  'a8@left_up',\n",
              "  'a8@right_low',\n",
              "  'a8@central',\n",
              "  'a8@?'],\n",
              " ['a9@no', 'a9@yes']]"
            ]
          },
          "metadata": {
            "tags": []
          },
          "execution_count": 13
        }
      ]
    },
    {
      "cell_type": "code",
      "metadata": {
        "id": "_BEPTjUr0V12"
      },
      "source": [
        "from pandas.core.common import flatten\r\n"
      ],
      "execution_count": 14,
      "outputs": []
    },
    {
      "cell_type": "code",
      "metadata": {
        "id": "uwTc9y8n0Z7u"
      },
      "source": [
        "u_list = list(flatten(new_list))"
      ],
      "execution_count": 15,
      "outputs": []
    },
    {
      "cell_type": "code",
      "metadata": {
        "id": "3L6qUdkbKEPJ"
      },
      "source": [
        "u_list = list(flatten(new_list))"
      ],
      "execution_count": 16,
      "outputs": []
    },
    {
      "cell_type": "code",
      "metadata": {
        "id": "1G0bKZIPKC-A"
      },
      "source": [
        "big_list =[]\r\n",
        "for column in df:\r\n",
        "  big_list.append(df[column].unique())"
      ],
      "execution_count": 17,
      "outputs": []
    },
    {
      "cell_type": "code",
      "metadata": {
        "colab": {
          "base_uri": "https://localhost:8080/"
        },
        "id": "F3RNAj7tKC-C",
        "outputId": "6e5ebcf2-6054-4176-f5e2-c95300ba849d"
      },
      "source": [
        "big_list"
      ],
      "execution_count": 18,
      "outputs": [
        {
          "output_type": "execute_result",
          "data": {
            "text/plain": [
              "[array(['class@no', 'class@yes'], dtype=object),\n",
              " array(['a1@30-39', 'a1@40-49', 'a1@60-69', 'a1@50-59', 'a1@70-79'],\n",
              "       dtype=object),\n",
              " array(['a2@premeno', 'a2@ge40', 'a2@lt40'], dtype=object),\n",
              " array(['a3@30-34', 'a3@20-24', 'a3@15-19', 'a3@0-4', 'a3@25-29',\n",
              "        'a3@50-54', 'a3@10-14', 'a3@40-44', 'a3@35-39', 'a3@5-9',\n",
              "        'a3@45-49'], dtype=object),\n",
              " array(['a4@0-2', 'a4@6-8', 'a4@9-11', 'a4@3-5', 'a4@15-17', 'a4@12-14',\n",
              "        'a4@24-26'], dtype=object),\n",
              " array(['a5@no', 'a5@yes', 'a5@?'], dtype=object),\n",
              " array(['a6@3', 'a6@2', 'a6@1'], dtype=object),\n",
              " array(['a7@left', 'a7@right'], dtype=object),\n",
              " array(['a8@left_low', 'a8@right_up', 'a8@left_up', 'a8@right_low',\n",
              "        'a8@central', 'a8@?'], dtype=object),\n",
              " array(['a9@no', 'a9@yes'], dtype=object)]"
            ]
          },
          "metadata": {
            "tags": []
          },
          "execution_count": 18
        }
      ]
    },
    {
      "cell_type": "code",
      "metadata": {
        "colab": {
          "base_uri": "https://localhost:8080/"
        },
        "id": "Z6a9yrW2KC-D",
        "outputId": "01cd3aff-4118-4971-caea-26d96c387eef"
      },
      "source": [
        "len(big_list)"
      ],
      "execution_count": 19,
      "outputs": [
        {
          "output_type": "execute_result",
          "data": {
            "text/plain": [
              "10"
            ]
          },
          "metadata": {
            "tags": []
          },
          "execution_count": 19
        }
      ]
    },
    {
      "cell_type": "code",
      "metadata": {
        "id": "9Z7XLTXwKC-E"
      },
      "source": [
        "new_list = list(map(list,big_list))"
      ],
      "execution_count": 20,
      "outputs": []
    },
    {
      "cell_type": "code",
      "metadata": {
        "colab": {
          "base_uri": "https://localhost:8080/"
        },
        "id": "_9BO5omAKC-F",
        "outputId": "cf3cd19e-66ec-4754-9a28-ef9946af25af"
      },
      "source": [
        "new_list"
      ],
      "execution_count": 21,
      "outputs": [
        {
          "output_type": "execute_result",
          "data": {
            "text/plain": [
              "[['class@no', 'class@yes'],\n",
              " ['a1@30-39', 'a1@40-49', 'a1@60-69', 'a1@50-59', 'a1@70-79'],\n",
              " ['a2@premeno', 'a2@ge40', 'a2@lt40'],\n",
              " ['a3@30-34',\n",
              "  'a3@20-24',\n",
              "  'a3@15-19',\n",
              "  'a3@0-4',\n",
              "  'a3@25-29',\n",
              "  'a3@50-54',\n",
              "  'a3@10-14',\n",
              "  'a3@40-44',\n",
              "  'a3@35-39',\n",
              "  'a3@5-9',\n",
              "  'a3@45-49'],\n",
              " ['a4@0-2', 'a4@6-8', 'a4@9-11', 'a4@3-5', 'a4@15-17', 'a4@12-14', 'a4@24-26'],\n",
              " ['a5@no', 'a5@yes', 'a5@?'],\n",
              " ['a6@3', 'a6@2', 'a6@1'],\n",
              " ['a7@left', 'a7@right'],\n",
              " ['a8@left_low',\n",
              "  'a8@right_up',\n",
              "  'a8@left_up',\n",
              "  'a8@right_low',\n",
              "  'a8@central',\n",
              "  'a8@?'],\n",
              " ['a9@no', 'a9@yes']]"
            ]
          },
          "metadata": {
            "tags": []
          },
          "execution_count": 21
        }
      ]
    },
    {
      "cell_type": "code",
      "metadata": {
        "id": "6cJva1njKC-G"
      },
      "source": [
        "from pandas.core.common import flatten\r\n"
      ],
      "execution_count": 22,
      "outputs": []
    },
    {
      "cell_type": "code",
      "metadata": {
        "id": "LAeMMYEmKC-H"
      },
      "source": [
        "u_list = list(flatten(new_list))"
      ],
      "execution_count": 23,
      "outputs": []
    },
    {
      "cell_type": "code",
      "metadata": {
        "id": "B21eq2kCKC-M"
      },
      "source": [
        "u_list = list(flatten(new_list))"
      ],
      "execution_count": 24,
      "outputs": []
    },
    {
      "cell_type": "code",
      "metadata": {
        "id": "kaafnqPKRpu6"
      },
      "source": [
        "u_list.remove('class@yes')\r\n",
        "u_list.remove('class@no')"
      ],
      "execution_count": 25,
      "outputs": []
    },
    {
      "cell_type": "code",
      "metadata": {
        "id": "Cc1Ll5fvJTMB"
      },
      "source": [
        "neg_df = df.apply(lambda x: list(set(u_list) - set(x)), axis=1)"
      ],
      "execution_count": 26,
      "outputs": []
    },
    {
      "cell_type": "code",
      "metadata": {
        "colab": {
          "base_uri": "https://localhost:8080/"
        },
        "id": "DKoqikeaLWP1",
        "outputId": "e7fdbfcd-fba9-4955-bab3-50e5ef64d846"
      },
      "source": [
        "neg_df[0]"
      ],
      "execution_count": 27,
      "outputs": [
        {
          "output_type": "execute_result",
          "data": {
            "text/plain": [
              "['a3@35-39',\n",
              " 'a3@50-54',\n",
              " 'a1@50-59',\n",
              " 'a4@6-8',\n",
              " 'a3@40-44',\n",
              " 'a8@right_low',\n",
              " 'a5@yes',\n",
              " 'a3@5-9',\n",
              " 'a1@40-49',\n",
              " 'a7@right',\n",
              " 'a3@20-24',\n",
              " 'a8@left_up',\n",
              " 'a3@10-14',\n",
              " 'a4@24-26',\n",
              " 'a4@9-11',\n",
              " 'a3@0-4',\n",
              " 'a4@12-14',\n",
              " 'a9@yes',\n",
              " 'a2@ge40',\n",
              " 'a4@3-5',\n",
              " 'a8@right_up',\n",
              " 'a6@2',\n",
              " 'a8@central',\n",
              " 'a3@15-19',\n",
              " 'a2@lt40',\n",
              " 'a6@1',\n",
              " 'a3@25-29',\n",
              " 'a4@15-17',\n",
              " 'a5@?',\n",
              " 'a3@45-49',\n",
              " 'a1@70-79',\n",
              " 'a8@?',\n",
              " 'a1@60-69']"
            ]
          },
          "metadata": {
            "tags": []
          },
          "execution_count": 27
        }
      ]
    },
    {
      "cell_type": "code",
      "metadata": {
        "id": "I77OIJtB36uA"
      },
      "source": [
        "sort_order = ['a1@10-19', 'a1@20-29', 'a1@30-39', 'a1@40-49', 'a1@50-59', 'a1@60-69', 'a1@70-79', 'a1@80-89', 'a1@90-99','a1@?',\r\n",
        "              'a2@lt40', 'a2@ge40', 'a2@premeno','a2@?',\r\n",
        "              'a3@0-4', 'a3@5-9', 'a3@10-14', 'a3@15-19', 'a3@20-24', 'a3@25-29', 'a3@30-34', 'a3@35-39', 'a3@40-44', 'a3@45-49', 'a3@50-54', 'a3@55-59','a3@?',\r\n",
        "              'a4@0-2', 'a4@3-5', 'a4@6-8', 'a4@9-11', 'a4@12-14', 'a4@15-17', 'a4@18-20', 'a4@21-23', 'a4@24-26', 'a4@27-29', 'a4@30-32', 'a4@33-35', 'a4@36-39','a4@?',\r\n",
        "              'a5@yes', 'a5@no', 'a5@?',\r\n",
        "              'a6@1', 'a6@2', 'a6@3','a6@?',\r\n",
        "              'a7@left', 'a7@right','a7@?',\r\n",
        "              'a8@left_up', 'a8@left_low', 'a8@right_up', 'a8@right_low', 'a8@central','a8@?',\r\n",
        "              'a9@yes','a9@no', 'a9@?'\r\n",
        "              ]"
      ],
      "execution_count": 28,
      "outputs": []
    },
    {
      "cell_type": "code",
      "metadata": {
        "id": "AAx4KlFE3n3B"
      },
      "source": [
        "neg_df_sorted = []\r\n",
        "for i in neg_df:\r\n",
        "  i = sorted(i, key = lambda x: sort_order.index(x))\r\n",
        "  neg_df_sorted.append(i)"
      ],
      "execution_count": 29,
      "outputs": []
    },
    {
      "cell_type": "code",
      "metadata": {
        "id": "qPWdcxW24qth"
      },
      "source": [
        "neg_df_final = pd.Series((i for i in neg_df_sorted)) "
      ],
      "execution_count": 30,
      "outputs": []
    },
    {
      "cell_type": "code",
      "metadata": {
        "colab": {
          "base_uri": "https://localhost:8080/"
        },
        "id": "TWx9qVlh5m54",
        "outputId": "b0100d44-7bfc-46fb-cc25-ab205e2789db"
      },
      "source": [
        "neg_df_final"
      ],
      "execution_count": 31,
      "outputs": [
        {
          "output_type": "execute_result",
          "data": {
            "text/plain": [
              "0      [a1@40-49, a1@50-59, a1@60-69, a1@70-79, a2@lt...\n",
              "1      [a1@30-39, a1@50-59, a1@60-69, a1@70-79, a2@lt...\n",
              "2      [a1@30-39, a1@50-59, a1@60-69, a1@70-79, a2@lt...\n",
              "3      [a1@30-39, a1@40-49, a1@50-59, a1@70-79, a2@lt...\n",
              "4      [a1@30-39, a1@50-59, a1@60-69, a1@70-79, a2@lt...\n",
              "                             ...                        \n",
              "235    [a1@30-39, a1@40-49, a1@60-69, a1@70-79, a2@lt...\n",
              "236    [a1@40-49, a1@50-59, a1@60-69, a1@70-79, a2@lt...\n",
              "237    [a1@40-49, a1@50-59, a1@60-69, a1@70-79, a2@lt...\n",
              "238    [a1@30-39, a1@50-59, a1@60-69, a1@70-79, a2@lt...\n",
              "239    [a1@30-39, a1@40-49, a1@60-69, a1@70-79, a2@lt...\n",
              "Length: 240, dtype: object"
            ]
          },
          "metadata": {
            "tags": []
          },
          "execution_count": 31
        }
      ]
    },
    {
      "cell_type": "code",
      "metadata": {
        "id": "jMIs62kP5Apq"
      },
      "source": [
        "neg_df_final.to_csv(\"neg_data_sorted_final.txt\",index=False, header=False)"
      ],
      "execution_count": 32,
      "outputs": []
    },
    {
      "cell_type": "code",
      "metadata": {
        "id": "Iw4DEtJXKqvy"
      },
      "source": [
        "neg_df.to_csv(\"neg_data.txt\",index=False)"
      ],
      "execution_count": 33,
      "outputs": []
    },
    {
      "cell_type": "code",
      "metadata": {
        "id": "sYp0pGMlMNin"
      },
      "source": [
        "a = [\"[\",\"]\",\"'\",'\"']\r\n",
        "lst = []\r\n",
        "with open(\"/content/neg_data_sorted_final.txt\", 'r') as neg_data:\r\n",
        "  for line in neg_data:\r\n",
        "    for symbol in a:\r\n",
        "      if symbol in line:\r\n",
        "        line = line.replace(symbol,'')\r\n",
        "      if \", \" in line:\r\n",
        "        line = line.replace(\", \", \",\")\r\n",
        "    lst.append(line)\r\n",
        "neg_data.close()\r\n",
        "f = open('/content/neg_data_sorted_final.txt','w')\r\n",
        "for line in lst:\r\n",
        "    f.write(line)\r\n",
        "f.close()"
      ],
      "execution_count": 34,
      "outputs": []
    },
    {
      "cell_type": "code",
      "metadata": {
        "id": "xyS08omsPDas"
      },
      "source": [
        "new_data = pd.concat([df['a'],neg_df_final],axis=1)"
      ],
      "execution_count": 35,
      "outputs": []
    },
    {
      "cell_type": "code",
      "metadata": {
        "colab": {
          "base_uri": "https://localhost:8080/",
          "height": 402
        },
        "id": "mm-8RuQTPHBT",
        "outputId": "c7258aaf-49b6-45e9-f47a-5b0f348caebe"
      },
      "source": [
        "new_data"
      ],
      "execution_count": 36,
      "outputs": [
        {
          "output_type": "execute_result",
          "data": {
            "text/html": [
              "<div>\n",
              "<style scoped>\n",
              "    .dataframe tbody tr th:only-of-type {\n",
              "        vertical-align: middle;\n",
              "    }\n",
              "\n",
              "    .dataframe tbody tr th {\n",
              "        vertical-align: top;\n",
              "    }\n",
              "\n",
              "    .dataframe thead th {\n",
              "        text-align: right;\n",
              "    }\n",
              "</style>\n",
              "<table border=\"1\" class=\"dataframe\">\n",
              "  <thead>\n",
              "    <tr style=\"text-align: right;\">\n",
              "      <th></th>\n",
              "      <th>a</th>\n",
              "      <th>0</th>\n",
              "    </tr>\n",
              "  </thead>\n",
              "  <tbody>\n",
              "    <tr>\n",
              "      <th>0</th>\n",
              "      <td>class@no</td>\n",
              "      <td>[a1@40-49, a1@50-59, a1@60-69, a1@70-79, a2@lt...</td>\n",
              "    </tr>\n",
              "    <tr>\n",
              "      <th>1</th>\n",
              "      <td>class@no</td>\n",
              "      <td>[a1@30-39, a1@50-59, a1@60-69, a1@70-79, a2@lt...</td>\n",
              "    </tr>\n",
              "    <tr>\n",
              "      <th>2</th>\n",
              "      <td>class@no</td>\n",
              "      <td>[a1@30-39, a1@50-59, a1@60-69, a1@70-79, a2@lt...</td>\n",
              "    </tr>\n",
              "    <tr>\n",
              "      <th>3</th>\n",
              "      <td>class@no</td>\n",
              "      <td>[a1@30-39, a1@40-49, a1@50-59, a1@70-79, a2@lt...</td>\n",
              "    </tr>\n",
              "    <tr>\n",
              "      <th>4</th>\n",
              "      <td>class@no</td>\n",
              "      <td>[a1@30-39, a1@50-59, a1@60-69, a1@70-79, a2@lt...</td>\n",
              "    </tr>\n",
              "    <tr>\n",
              "      <th>...</th>\n",
              "      <td>...</td>\n",
              "      <td>...</td>\n",
              "    </tr>\n",
              "    <tr>\n",
              "      <th>235</th>\n",
              "      <td>class@yes</td>\n",
              "      <td>[a1@30-39, a1@40-49, a1@60-69, a1@70-79, a2@lt...</td>\n",
              "    </tr>\n",
              "    <tr>\n",
              "      <th>236</th>\n",
              "      <td>class@yes</td>\n",
              "      <td>[a1@40-49, a1@50-59, a1@60-69, a1@70-79, a2@lt...</td>\n",
              "    </tr>\n",
              "    <tr>\n",
              "      <th>237</th>\n",
              "      <td>class@yes</td>\n",
              "      <td>[a1@40-49, a1@50-59, a1@60-69, a1@70-79, a2@lt...</td>\n",
              "    </tr>\n",
              "    <tr>\n",
              "      <th>238</th>\n",
              "      <td>class@yes</td>\n",
              "      <td>[a1@30-39, a1@50-59, a1@60-69, a1@70-79, a2@lt...</td>\n",
              "    </tr>\n",
              "    <tr>\n",
              "      <th>239</th>\n",
              "      <td>class@yes</td>\n",
              "      <td>[a1@30-39, a1@40-49, a1@60-69, a1@70-79, a2@lt...</td>\n",
              "    </tr>\n",
              "  </tbody>\n",
              "</table>\n",
              "<p>240 rows × 2 columns</p>\n",
              "</div>"
            ],
            "text/plain": [
              "             a                                                  0\n",
              "0     class@no  [a1@40-49, a1@50-59, a1@60-69, a1@70-79, a2@lt...\n",
              "1     class@no  [a1@30-39, a1@50-59, a1@60-69, a1@70-79, a2@lt...\n",
              "2     class@no  [a1@30-39, a1@50-59, a1@60-69, a1@70-79, a2@lt...\n",
              "3     class@no  [a1@30-39, a1@40-49, a1@50-59, a1@70-79, a2@lt...\n",
              "4     class@no  [a1@30-39, a1@50-59, a1@60-69, a1@70-79, a2@lt...\n",
              "..         ...                                                ...\n",
              "235  class@yes  [a1@30-39, a1@40-49, a1@60-69, a1@70-79, a2@lt...\n",
              "236  class@yes  [a1@40-49, a1@50-59, a1@60-69, a1@70-79, a2@lt...\n",
              "237  class@yes  [a1@40-49, a1@50-59, a1@60-69, a1@70-79, a2@lt...\n",
              "238  class@yes  [a1@30-39, a1@50-59, a1@60-69, a1@70-79, a2@lt...\n",
              "239  class@yes  [a1@30-39, a1@40-49, a1@60-69, a1@70-79, a2@lt...\n",
              "\n",
              "[240 rows x 2 columns]"
            ]
          },
          "metadata": {
            "tags": []
          },
          "execution_count": 36
        }
      ]
    },
    {
      "cell_type": "code",
      "metadata": {
        "id": "h6ZGQcLcQexC"
      },
      "source": [
        "new_data.to_csv(\"neg_data_c.txt\",index=False,header=False)"
      ],
      "execution_count": 37,
      "outputs": []
    },
    {
      "cell_type": "code",
      "metadata": {
        "id": "tomi-VUXQmXD"
      },
      "source": [
        "a = [\"[\",\"]\",\"'\",'\"']\r\n",
        "lst = []\r\n",
        "with open(\"/content/neg_data_c.txt\", 'r') as neg_data:\r\n",
        "  for line in neg_data:\r\n",
        "    for symbol in a:\r\n",
        "      if symbol in line:\r\n",
        "        line = line.replace(symbol,'')\r\n",
        "      if \", \" in line:\r\n",
        "        line = line.replace(\", \", \",\")\r\n",
        "    lst.append(line)\r\n",
        "neg_data.close()\r\n",
        "f = open('/content/neg_data_c.txt','w')\r\n",
        "for line in lst:\r\n",
        "    f.write(line)\r\n",
        "f.close()"
      ],
      "execution_count": 38,
      "outputs": []
    },
    {
      "cell_type": "markdown",
      "metadata": {
        "id": "Z1twLAN3SpRJ"
      },
      "source": [
        "Running FP growth on it"
      ]
    },
    {
      "cell_type": "code",
      "metadata": {
        "id": "eiaCsnqwqtZj"
      },
      "source": [
        "import itertools\r\n",
        "\r\n",
        "\r\n",
        "class FPNode(object):\r\n",
        "    \"\"\"\r\n",
        "    A node in the FP tree.\r\n",
        "    \"\"\"\r\n",
        "\r\n",
        "    def __init__(self, value, count, parent):\r\n",
        "        \"\"\"\r\n",
        "        Create the node.\r\n",
        "        \"\"\"\r\n",
        "        self.value = value\r\n",
        "        self.count = count\r\n",
        "        self.parent = parent\r\n",
        "        self.link = None\r\n",
        "        self.children = []\r\n",
        "\r\n",
        "    def has_child(self, value):\r\n",
        "        \"\"\"\r\n",
        "        Check if node has a particular child node.\r\n",
        "        \"\"\"\r\n",
        "        for node in self.children:\r\n",
        "            if node.value == value:\r\n",
        "                return True\r\n",
        "\r\n",
        "        return False\r\n",
        "\r\n",
        "    def get_child(self, value):\r\n",
        "        \"\"\"\r\n",
        "        Return a child node with a particular value.\r\n",
        "        \"\"\"\r\n",
        "        for node in self.children:\r\n",
        "            if node.value == value:\r\n",
        "                return node\r\n",
        "\r\n",
        "        return None\r\n",
        "\r\n",
        "    def add_child(self, value):\r\n",
        "        \"\"\"\r\n",
        "        Add a node as a child node.\r\n",
        "        \"\"\"\r\n",
        "        child = FPNode(value, 1, self)\r\n",
        "        self.children.append(child)\r\n",
        "        return child\r\n",
        "\r\n",
        "\r\n",
        "class FPTree(object):\r\n",
        "    \"\"\"\r\n",
        "    A frequent pattern tree.\r\n",
        "    \"\"\"\r\n",
        "\r\n",
        "    def __init__(self, transactions, threshold, root_value, root_count):\r\n",
        "        \"\"\"\r\n",
        "        Initialize the tree.\r\n",
        "        \"\"\"\r\n",
        "        self.frequent = self.find_frequent_items(transactions, threshold)\r\n",
        "        self.headers = self.build_header_table(self.frequent)\r\n",
        "        self.root = self.build_fptree(\r\n",
        "            transactions, root_value,\r\n",
        "            root_count, self.frequent, self.headers)\r\n",
        "\r\n",
        "    @staticmethod\r\n",
        "    def find_frequent_items(transactions, threshold):\r\n",
        "        \"\"\"\r\n",
        "        Create a dictionary of items with occurrences above the threshold.\r\n",
        "        \"\"\"\r\n",
        "        items = {}\r\n",
        "\r\n",
        "        for transaction in transactions:\r\n",
        "            for item in transaction:\r\n",
        "                if item in items:\r\n",
        "                    items[item] += 1\r\n",
        "                else:\r\n",
        "                    items[item] = 1\r\n",
        "\r\n",
        "        for key in list(items.keys()):\r\n",
        "            if items[key] < threshold:\r\n",
        "                del items[key]\r\n",
        "\r\n",
        "        return items\r\n",
        "\r\n",
        "    @staticmethod\r\n",
        "    def build_header_table(frequent):\r\n",
        "        \"\"\"\r\n",
        "        Build the header table.\r\n",
        "        \"\"\"\r\n",
        "        headers = {}\r\n",
        "        for key in frequent.keys():\r\n",
        "            headers[key] = None\r\n",
        "\r\n",
        "        return headers\r\n",
        "\r\n",
        "    def build_fptree(self, transactions, root_value,\r\n",
        "                     root_count, frequent, headers):\r\n",
        "        \"\"\"\r\n",
        "        Build the FP tree and return the root node.\r\n",
        "        \"\"\"\r\n",
        "        root = FPNode(root_value, root_count, None)\r\n",
        "\r\n",
        "        for transaction in transactions:\r\n",
        "            sorted_items = [x for x in transaction if x in frequent]\r\n",
        "            sorted_items.sort(key=lambda x: frequent[x], reverse=True)\r\n",
        "            if len(sorted_items) > 0:\r\n",
        "                self.insert_tree(sorted_items, root, headers)\r\n",
        "\r\n",
        "        return root\r\n",
        "\r\n",
        "    def insert_tree(self, items, node, headers):\r\n",
        "        \"\"\"\r\n",
        "        Recursively grow FP tree.\r\n",
        "        \"\"\"\r\n",
        "        first = items[0]\r\n",
        "        child = node.get_child(first)\r\n",
        "        if child is not None:\r\n",
        "            child.count += 1\r\n",
        "        else:\r\n",
        "            # Add new child.\r\n",
        "            child = node.add_child(first)\r\n",
        "\r\n",
        "            # Link it to header structure.\r\n",
        "            if headers[first] is None:\r\n",
        "                headers[first] = child\r\n",
        "            else:\r\n",
        "                current = headers[first]\r\n",
        "                while current.link is not None:\r\n",
        "                    current = current.link\r\n",
        "                current.link = child\r\n",
        "\r\n",
        "        # Call function recursively.\r\n",
        "        remaining_items = items[1:]\r\n",
        "        if len(remaining_items) > 0:\r\n",
        "            self.insert_tree(remaining_items, child, headers)\r\n",
        "\r\n",
        "    def tree_has_single_path(self, node):\r\n",
        "        \"\"\"\r\n",
        "        If there is a single path in the tree,\r\n",
        "        return True, else return False.\r\n",
        "        \"\"\"\r\n",
        "        num_children = len(node.children)\r\n",
        "        if num_children > 1:\r\n",
        "            return False\r\n",
        "        elif num_children == 0:\r\n",
        "            return True\r\n",
        "        else:\r\n",
        "            return True and self.tree_has_single_path(node.children[0])\r\n",
        "\r\n",
        "    def mine_patterns(self, threshold):\r\n",
        "        \"\"\"\r\n",
        "        Mine the constructed FP tree for frequent patterns.\r\n",
        "        \"\"\"\r\n",
        "        if self.tree_has_single_path(self.root):\r\n",
        "            return self.generate_pattern_list()\r\n",
        "        else:\r\n",
        "            return self.zip_patterns(self.mine_sub_trees(threshold))\r\n",
        "\r\n",
        "    def zip_patterns(self, patterns):\r\n",
        "        \"\"\"\r\n",
        "        Append suffix to patterns in dictionary if\r\n",
        "        we are in a conditional FP tree.\r\n",
        "        \"\"\"\r\n",
        "        suffix = self.root.value\r\n",
        "\r\n",
        "        if suffix is not None:\r\n",
        "            # We are in a conditional tree.\r\n",
        "            new_patterns = {}\r\n",
        "            for key in patterns.keys():\r\n",
        "                new_patterns[tuple(sorted(list(key) + [suffix]))] = patterns[key]\r\n",
        "\r\n",
        "            return new_patterns\r\n",
        "\r\n",
        "        return patterns\r\n",
        "\r\n",
        "    def generate_pattern_list(self):\r\n",
        "        \"\"\"\r\n",
        "        Generate a list of patterns with support counts.\r\n",
        "        \"\"\"\r\n",
        "        patterns = {}\r\n",
        "        items = self.frequent.keys()\r\n",
        "\r\n",
        "        # If we are in a conditional tree,\r\n",
        "        # the suffix is a pattern on its own.\r\n",
        "        if self.root.value is None:\r\n",
        "            suffix_value = []\r\n",
        "        else:\r\n",
        "            suffix_value = [self.root.value]\r\n",
        "            patterns[tuple(suffix_value)] = self.root.count\r\n",
        "\r\n",
        "        for i in range(1, len(items) + 1):\r\n",
        "            for subset in itertools.combinations(items, i):\r\n",
        "                pattern = tuple(sorted(list(subset) + suffix_value))\r\n",
        "                patterns[pattern] = \\\r\n",
        "                    min([self.frequent[x] for x in subset])\r\n",
        "\r\n",
        "        return patterns\r\n",
        "\r\n",
        "    def mine_sub_trees(self, threshold):\r\n",
        "        \"\"\"\r\n",
        "        Generate subtrees and mine them for patterns.\r\n",
        "        \"\"\"\r\n",
        "        patterns = {}\r\n",
        "        mining_order = sorted(self.frequent.keys(),\r\n",
        "                              key=lambda x: self.frequent[x])\r\n",
        "\r\n",
        "        # Get items in tree in reverse order of occurrences.\r\n",
        "        for item in mining_order:\r\n",
        "            suffixes = []\r\n",
        "            conditional_tree_input = []\r\n",
        "            node = self.headers[item]\r\n",
        "\r\n",
        "            # Follow node links to get a list of\r\n",
        "            # all occurrences of a certain item.\r\n",
        "            while node is not None:\r\n",
        "                suffixes.append(node)\r\n",
        "                node = node.link\r\n",
        "\r\n",
        "            # For each occurrence of the item, \r\n",
        "            # trace the path back to the root node.\r\n",
        "            for suffix in suffixes:\r\n",
        "                frequency = suffix.count\r\n",
        "                path = []\r\n",
        "                parent = suffix.parent\r\n",
        "\r\n",
        "                while parent.parent is not None:\r\n",
        "                    path.append(parent.value)\r\n",
        "                    parent = parent.parent\r\n",
        "\r\n",
        "                for i in range(frequency):\r\n",
        "                    conditional_tree_input.append(path)\r\n",
        "\r\n",
        "            # Now we have the input for a subtree,\r\n",
        "            # so construct it and grab the patterns.\r\n",
        "            subtree = FPTree(conditional_tree_input, threshold,\r\n",
        "                             item, self.frequent[item])\r\n",
        "            subtree_patterns = subtree.mine_patterns(threshold)\r\n",
        "\r\n",
        "            # Insert subtree patterns into main patterns dictionary.\r\n",
        "            for pattern in subtree_patterns.keys():\r\n",
        "                if pattern in patterns:\r\n",
        "                    patterns[pattern] += subtree_patterns[pattern]\r\n",
        "                else:\r\n",
        "                    patterns[pattern] = subtree_patterns[pattern]\r\n",
        "\r\n",
        "        return patterns\r\n",
        "\r\n",
        "\r\n",
        "def find_frequent_patterns(transactions, support_threshold):\r\n",
        "    \"\"\"\r\n",
        "    Given a set of transactions, find the patterns in it\r\n",
        "    over the specified support threshold.\r\n",
        "    \"\"\"\r\n",
        "    tree = FPTree(transactions, support_threshold, None, None)\r\n",
        "    return tree.mine_patterns(support_threshold)\r\n",
        "\r\n",
        "\r\n",
        "def generate_association_rules(patterns, confidence_threshold):\r\n",
        "    \"\"\"\r\n",
        "    Given a set of frequent itemsets, return a dict\r\n",
        "    of association rules in the form\r\n",
        "    {(left): ((right), confidence)}\r\n",
        "    \"\"\"\r\n",
        "    rules = {}\r\n",
        "    for itemset in patterns.keys():\r\n",
        "        upper_support = patterns[itemset]\r\n",
        "\r\n",
        "        for i in range(1, len(itemset)):\r\n",
        "            for antecedent in itertools.combinations(itemset, i):\r\n",
        "                antecedent = tuple(sorted(antecedent))\r\n",
        "                consequent = tuple(sorted(set(itemset) - set(antecedent)))\r\n",
        "\r\n",
        "                if antecedent in patterns:\r\n",
        "                    lower_support = patterns[antecedent]\r\n",
        "                    confidence = float(upper_support) / lower_support\r\n",
        "\r\n",
        "                    if confidence >= confidence_threshold:\r\n",
        "                        rules[antecedent] = (consequent, confidence)\r\n",
        "\r\n",
        "    return rules"
      ],
      "execution_count": 39,
      "outputs": []
    },
    {
      "cell_type": "code",
      "metadata": {
        "id": "i6e2Sa6bvNB7"
      },
      "source": [
        "import pandas as pd\r\n",
        "df = pd.read_csv('/content/neg_data_c.txt', header = None, sep=\",\")"
      ],
      "execution_count": 40,
      "outputs": []
    },
    {
      "cell_type": "code",
      "metadata": {
        "colab": {
          "base_uri": "https://localhost:8080/",
          "height": 299
        },
        "id": "45fuWmLOvudt",
        "outputId": "e6650c03-9a8b-4f98-ee76-057fa0cb57e7"
      },
      "source": [
        "df.head(5)"
      ],
      "execution_count": 41,
      "outputs": [
        {
          "output_type": "execute_result",
          "data": {
            "text/html": [
              "<div>\n",
              "<style scoped>\n",
              "    .dataframe tbody tr th:only-of-type {\n",
              "        vertical-align: middle;\n",
              "    }\n",
              "\n",
              "    .dataframe tbody tr th {\n",
              "        vertical-align: top;\n",
              "    }\n",
              "\n",
              "    .dataframe thead th {\n",
              "        text-align: right;\n",
              "    }\n",
              "</style>\n",
              "<table border=\"1\" class=\"dataframe\">\n",
              "  <thead>\n",
              "    <tr style=\"text-align: right;\">\n",
              "      <th></th>\n",
              "      <th>0</th>\n",
              "      <th>1</th>\n",
              "      <th>2</th>\n",
              "      <th>3</th>\n",
              "      <th>4</th>\n",
              "      <th>5</th>\n",
              "      <th>6</th>\n",
              "      <th>7</th>\n",
              "      <th>8</th>\n",
              "      <th>9</th>\n",
              "      <th>10</th>\n",
              "      <th>11</th>\n",
              "      <th>12</th>\n",
              "      <th>13</th>\n",
              "      <th>14</th>\n",
              "      <th>15</th>\n",
              "      <th>16</th>\n",
              "      <th>17</th>\n",
              "      <th>18</th>\n",
              "      <th>19</th>\n",
              "      <th>20</th>\n",
              "      <th>21</th>\n",
              "      <th>22</th>\n",
              "      <th>23</th>\n",
              "      <th>24</th>\n",
              "      <th>25</th>\n",
              "      <th>26</th>\n",
              "      <th>27</th>\n",
              "      <th>28</th>\n",
              "      <th>29</th>\n",
              "      <th>30</th>\n",
              "      <th>31</th>\n",
              "      <th>32</th>\n",
              "      <th>33</th>\n",
              "    </tr>\n",
              "  </thead>\n",
              "  <tbody>\n",
              "    <tr>\n",
              "      <th>0</th>\n",
              "      <td>class@no</td>\n",
              "      <td>a1@40-49</td>\n",
              "      <td>a1@50-59</td>\n",
              "      <td>a1@60-69</td>\n",
              "      <td>a1@70-79</td>\n",
              "      <td>a2@lt40</td>\n",
              "      <td>a2@ge40</td>\n",
              "      <td>a3@0-4</td>\n",
              "      <td>a3@5-9</td>\n",
              "      <td>a3@10-14</td>\n",
              "      <td>a3@15-19</td>\n",
              "      <td>a3@20-24</td>\n",
              "      <td>a3@25-29</td>\n",
              "      <td>a3@35-39</td>\n",
              "      <td>a3@40-44</td>\n",
              "      <td>a3@45-49</td>\n",
              "      <td>a3@50-54</td>\n",
              "      <td>a4@3-5</td>\n",
              "      <td>a4@6-8</td>\n",
              "      <td>a4@9-11</td>\n",
              "      <td>a4@12-14</td>\n",
              "      <td>a4@15-17</td>\n",
              "      <td>a4@24-26</td>\n",
              "      <td>a5@yes</td>\n",
              "      <td>a5@?</td>\n",
              "      <td>a6@1</td>\n",
              "      <td>a6@2</td>\n",
              "      <td>a7@right</td>\n",
              "      <td>a8@left_up</td>\n",
              "      <td>a8@right_up</td>\n",
              "      <td>a8@right_low</td>\n",
              "      <td>a8@central</td>\n",
              "      <td>a8@?</td>\n",
              "      <td>a9@yes</td>\n",
              "    </tr>\n",
              "    <tr>\n",
              "      <th>1</th>\n",
              "      <td>class@no</td>\n",
              "      <td>a1@30-39</td>\n",
              "      <td>a1@50-59</td>\n",
              "      <td>a1@60-69</td>\n",
              "      <td>a1@70-79</td>\n",
              "      <td>a2@lt40</td>\n",
              "      <td>a2@ge40</td>\n",
              "      <td>a3@0-4</td>\n",
              "      <td>a3@5-9</td>\n",
              "      <td>a3@10-14</td>\n",
              "      <td>a3@15-19</td>\n",
              "      <td>a3@25-29</td>\n",
              "      <td>a3@30-34</td>\n",
              "      <td>a3@35-39</td>\n",
              "      <td>a3@40-44</td>\n",
              "      <td>a3@45-49</td>\n",
              "      <td>a3@50-54</td>\n",
              "      <td>a4@3-5</td>\n",
              "      <td>a4@6-8</td>\n",
              "      <td>a4@9-11</td>\n",
              "      <td>a4@12-14</td>\n",
              "      <td>a4@15-17</td>\n",
              "      <td>a4@24-26</td>\n",
              "      <td>a5@yes</td>\n",
              "      <td>a5@?</td>\n",
              "      <td>a6@1</td>\n",
              "      <td>a6@3</td>\n",
              "      <td>a7@left</td>\n",
              "      <td>a8@left_up</td>\n",
              "      <td>a8@left_low</td>\n",
              "      <td>a8@right_low</td>\n",
              "      <td>a8@central</td>\n",
              "      <td>a8@?</td>\n",
              "      <td>a9@yes</td>\n",
              "    </tr>\n",
              "    <tr>\n",
              "      <th>2</th>\n",
              "      <td>class@no</td>\n",
              "      <td>a1@30-39</td>\n",
              "      <td>a1@50-59</td>\n",
              "      <td>a1@60-69</td>\n",
              "      <td>a1@70-79</td>\n",
              "      <td>a2@lt40</td>\n",
              "      <td>a2@ge40</td>\n",
              "      <td>a3@0-4</td>\n",
              "      <td>a3@5-9</td>\n",
              "      <td>a3@10-14</td>\n",
              "      <td>a3@15-19</td>\n",
              "      <td>a3@25-29</td>\n",
              "      <td>a3@30-34</td>\n",
              "      <td>a3@35-39</td>\n",
              "      <td>a3@40-44</td>\n",
              "      <td>a3@45-49</td>\n",
              "      <td>a3@50-54</td>\n",
              "      <td>a4@3-5</td>\n",
              "      <td>a4@6-8</td>\n",
              "      <td>a4@9-11</td>\n",
              "      <td>a4@12-14</td>\n",
              "      <td>a4@15-17</td>\n",
              "      <td>a4@24-26</td>\n",
              "      <td>a5@yes</td>\n",
              "      <td>a5@?</td>\n",
              "      <td>a6@1</td>\n",
              "      <td>a6@3</td>\n",
              "      <td>a7@right</td>\n",
              "      <td>a8@left_up</td>\n",
              "      <td>a8@right_up</td>\n",
              "      <td>a8@right_low</td>\n",
              "      <td>a8@central</td>\n",
              "      <td>a8@?</td>\n",
              "      <td>a9@yes</td>\n",
              "    </tr>\n",
              "    <tr>\n",
              "      <th>3</th>\n",
              "      <td>class@no</td>\n",
              "      <td>a1@30-39</td>\n",
              "      <td>a1@40-49</td>\n",
              "      <td>a1@50-59</td>\n",
              "      <td>a1@70-79</td>\n",
              "      <td>a2@lt40</td>\n",
              "      <td>a2@premeno</td>\n",
              "      <td>a3@0-4</td>\n",
              "      <td>a3@5-9</td>\n",
              "      <td>a3@10-14</td>\n",
              "      <td>a3@20-24</td>\n",
              "      <td>a3@25-29</td>\n",
              "      <td>a3@30-34</td>\n",
              "      <td>a3@35-39</td>\n",
              "      <td>a3@40-44</td>\n",
              "      <td>a3@45-49</td>\n",
              "      <td>a3@50-54</td>\n",
              "      <td>a4@3-5</td>\n",
              "      <td>a4@6-8</td>\n",
              "      <td>a4@9-11</td>\n",
              "      <td>a4@12-14</td>\n",
              "      <td>a4@15-17</td>\n",
              "      <td>a4@24-26</td>\n",
              "      <td>a5@yes</td>\n",
              "      <td>a5@?</td>\n",
              "      <td>a6@1</td>\n",
              "      <td>a6@3</td>\n",
              "      <td>a7@left</td>\n",
              "      <td>a8@left_low</td>\n",
              "      <td>a8@right_up</td>\n",
              "      <td>a8@right_low</td>\n",
              "      <td>a8@central</td>\n",
              "      <td>a8@?</td>\n",
              "      <td>a9@yes</td>\n",
              "    </tr>\n",
              "    <tr>\n",
              "      <th>4</th>\n",
              "      <td>class@no</td>\n",
              "      <td>a1@30-39</td>\n",
              "      <td>a1@50-59</td>\n",
              "      <td>a1@60-69</td>\n",
              "      <td>a1@70-79</td>\n",
              "      <td>a2@lt40</td>\n",
              "      <td>a2@ge40</td>\n",
              "      <td>a3@5-9</td>\n",
              "      <td>a3@10-14</td>\n",
              "      <td>a3@15-19</td>\n",
              "      <td>a3@20-24</td>\n",
              "      <td>a3@25-29</td>\n",
              "      <td>a3@30-34</td>\n",
              "      <td>a3@35-39</td>\n",
              "      <td>a3@40-44</td>\n",
              "      <td>a3@45-49</td>\n",
              "      <td>a3@50-54</td>\n",
              "      <td>a4@3-5</td>\n",
              "      <td>a4@6-8</td>\n",
              "      <td>a4@9-11</td>\n",
              "      <td>a4@12-14</td>\n",
              "      <td>a4@15-17</td>\n",
              "      <td>a4@24-26</td>\n",
              "      <td>a5@yes</td>\n",
              "      <td>a5@?</td>\n",
              "      <td>a6@1</td>\n",
              "      <td>a6@3</td>\n",
              "      <td>a7@left</td>\n",
              "      <td>a8@left_up</td>\n",
              "      <td>a8@left_low</td>\n",
              "      <td>a8@right_up</td>\n",
              "      <td>a8@central</td>\n",
              "      <td>a8@?</td>\n",
              "      <td>a9@yes</td>\n",
              "    </tr>\n",
              "  </tbody>\n",
              "</table>\n",
              "</div>"
            ],
            "text/plain": [
              "         0         1         2   ...          31    32      33\n",
              "0  class@no  a1@40-49  a1@50-59  ...  a8@central  a8@?  a9@yes\n",
              "1  class@no  a1@30-39  a1@50-59  ...  a8@central  a8@?  a9@yes\n",
              "2  class@no  a1@30-39  a1@50-59  ...  a8@central  a8@?  a9@yes\n",
              "3  class@no  a1@30-39  a1@40-49  ...  a8@central  a8@?  a9@yes\n",
              "4  class@no  a1@30-39  a1@50-59  ...  a8@central  a8@?  a9@yes\n",
              "\n",
              "[5 rows x 34 columns]"
            ]
          },
          "metadata": {
            "tags": []
          },
          "execution_count": 41
        }
      ]
    },
    {
      "cell_type": "code",
      "metadata": {
        "id": "mi2IxGKDwAwc"
      },
      "source": [
        "trans = df.values.tolist()"
      ],
      "execution_count": 42,
      "outputs": []
    },
    {
      "cell_type": "code",
      "metadata": {
        "id": "gtguVyjpvyiD"
      },
      "source": [
        "patterns = find_frequent_patterns(trans, .8)"
      ],
      "execution_count": null,
      "outputs": []
    },
    {
      "cell_type": "code",
      "metadata": {
        "id": "T5Ih-Xevv0qs"
      },
      "source": [
        "patterns"
      ],
      "execution_count": null,
      "outputs": []
    },
    {
      "cell_type": "code",
      "metadata": {
        "id": "qX1ySgXFCsok"
      },
      "source": [
        "#writing patterns\r\n",
        "with open('fp_growth_neg_freqpatterns', 'w') as f:\r\n",
        "  for key, value in patterns.items():\r\n",
        "      lhs= [''.join(map(str, x)) for x in key]\r\n",
        "      rhs=value\r\n",
        "      print(lhs,\":\",rhs,file=f) "
      ],
      "execution_count": null,
      "outputs": []
    },
    {
      "cell_type": "code",
      "metadata": {
        "id": "_F_CuNFIwduk"
      },
      "source": [
        "rules = generate_association_rules(patterns, 0.8)"
      ],
      "execution_count": null,
      "outputs": []
    },
    {
      "cell_type": "code",
      "metadata": {
        "id": "1peak0PpCz0l"
      },
      "source": [
        "with open('fpgrowth_out_neg.txt', 'w') as f:\r\n",
        "    print(rules, file=f)"
      ],
      "execution_count": null,
      "outputs": []
    }
  ]
}