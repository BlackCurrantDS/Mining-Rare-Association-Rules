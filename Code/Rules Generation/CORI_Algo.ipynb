{
  "nbformat": 4,
  "nbformat_minor": 0,
  "metadata": {
    "colab": {
      "name": "CORI_Algo.ipynb",
      "provenance": [],
      "authorship_tag": "ABX9TyMoY2qO9STqC+nqTkOlHgjR",
      "include_colab_link": true
    },
    "kernelspec": {
      "name": "python3",
      "display_name": "Python 3"
    }
  },
  "cells": [
    {
      "cell_type": "markdown",
      "metadata": {
        "id": "view-in-github",
        "colab_type": "text"
      },
      "source": [
        "<a href=\"https://colab.research.google.com/github/BlackCurrantDS/DBSE_Project/blob/main/CORI_Algo.ipynb\" target=\"_parent\"><img src=\"https://colab.research.google.com/assets/colab-badge.svg\" alt=\"Open In Colab\"/></a>"
      ]
    },
    {
      "cell_type": "code",
      "metadata": {
        "colab": {
          "base_uri": "https://localhost:8080/"
        },
        "id": "r7GqZuEDjx9j",
        "outputId": "345c2757-a308-48a8-ab5d-7e9e24d22766"
      },
      "source": [
        "pip install spmf"
      ],
      "execution_count": 1,
      "outputs": [
        {
          "output_type": "stream",
          "text": [
            "Collecting spmf\n",
            "  Downloading https://files.pythonhosted.org/packages/8c/ff/15ed66193c66c7ea933f8b29c6f46e5dfee90584a0fbb68bd5cb8a151c74/spmf-1.3-py3-none-any.whl\n",
            "Installing collected packages: spmf\n",
            "Successfully installed spmf-1.3\n"
          ],
          "name": "stdout"
        }
      ]
    },
    {
      "cell_type": "code",
      "metadata": {
        "id": "K93Z50XAj1sl"
      },
      "source": [
        "from spmf import Spmf\r\n",
        "import pathlib"
      ],
      "execution_count": 15,
      "outputs": []
    },
    {
      "cell_type": "code",
      "metadata": {
        "id": "1Z6YYnrNlfzP"
      },
      "source": [
        "d = '/content/'"
      ],
      "execution_count": 22,
      "outputs": []
    },
    {
      "cell_type": "code",
      "metadata": {
        "id": "j7AXb5ooj-Em"
      },
      "source": [
        "spmf = Spmf(\"PrefixSpan\", input_filename=\"contextPrefixSpan.txt\",\r\n",
        "            output_filename=\"output.txt\", arguments=[0.7, 5],spmf_bin_location_dir=d )"
      ],
      "execution_count": 23,
      "outputs": []
    },
    {
      "cell_type": "code",
      "metadata": {
        "colab": {
          "base_uri": "https://localhost:8080/"
        },
        "id": "NGI-u1IdqvdM",
        "outputId": "e8e0909d-c91f-44b0-b927-72bb4dcd65e1"
      },
      "source": [
        "spmf.run()\r\n",
        "print(spmf.to_pandas_dataframe(pickle=True))\r\n",
        "spmf.to_csv(\"output.csv\")"
      ],
      "execution_count": 24,
      "outputs": [
        {
          "output_type": "stream",
          "text": [
            ">/content/spmf.jar\n",
            "=============  PREFIXSPAN 0.99-2016 - STATISTICS =============\n",
            " Total time ~ 8 ms\n",
            " Frequent sequences count : 14\n",
            " Max memory (mb) : 6.5321502685546875\n",
            " minsup = 3 sequences.\n",
            " Pattern count : 14\n",
            "===================================================\n",
            "\n",
            "\n",
            "      pattern  sup\n",
            "0         [1]    4\n",
            "1      [1, 2]    4\n",
            "2      [1, 3]    4\n",
            "3   [1, 3, 2]    3\n",
            "4   [1, 3, 3]    3\n",
            "5         [2]    4\n",
            "6      [2, 3]    3\n",
            "7         [3]    4\n",
            "8      [3, 2]    3\n",
            "9      [3, 3]    3\n",
            "10        [4]    3\n",
            "11     [4, 3]    3\n",
            "12        [5]    3\n",
            "13        [6]    3\n"
          ],
          "name": "stdout"
        }
      ]
    },
    {
      "cell_type": "markdown",
      "metadata": {
        "id": "eHIT6gCzrDFR"
      },
      "source": [
        "CORI"
      ]
    },
    {
      "cell_type": "code",
      "metadata": {
        "id": "g6jSySf1rEqr"
      },
      "source": [
        "spmf = Spmf(\"CORI\", input_filename=\"contextPasquier99.txt\",\r\n",
        "            output_filename=\"output.txt\", arguments=[0.8, 2],spmf_bin_location_dir=d )"
      ],
      "execution_count": 25,
      "outputs": []
    },
    {
      "cell_type": "code",
      "metadata": {
        "colab": {
          "base_uri": "https://localhost:8080/"
        },
        "id": "BgWv9C2YrU0r",
        "outputId": "7a1b1c0e-64d5-4fc7-80c0-02d27d76b6f8"
      },
      "source": [
        "spmf.run()\r\n",
        "print(spmf)"
      ],
      "execution_count": 28,
      "outputs": [
        {
          "output_type": "stream",
          "text": [
            ">/content/spmf.jar\n",
            "=============  CORI _96r18 - STATS =============\n",
            " Minbond = 2.0 Minsup = 4 transactions\n",
            " Database transaction count: 5\n",
            " Rare correlated itemset count : 2\n",
            " Total time ~ 4 ms\n",
            " Maximum memory usage : 6.497535705566406 mb\n",
            "===================================================\n",
            "\n",
            "<spmf.Spmf object at 0x7f707f2de978>\n"
          ],
          "name": "stdout"
        }
      ]
    },
    {
      "cell_type": "markdown",
      "metadata": {
        "id": "tojewqvb0pYv"
      },
      "source": [
        "with breast cancern file"
      ]
    },
    {
      "cell_type": "code",
      "metadata": {
        "id": "hz_buEc40wOD"
      },
      "source": [
        "spmf = Spmf(\"CORI\", input_filename=\"breast_train_transactions.txt\",\r\n",
        "            output_filename=\"output.txt\", arguments=[0.1, 2],spmf_bin_location_dir=d )"
      ],
      "execution_count": 31,
      "outputs": []
    },
    {
      "cell_type": "code",
      "metadata": {
        "colab": {
          "base_uri": "https://localhost:8080/"
        },
        "id": "KG-6k8ZI0wOF",
        "outputId": "c2786db9-00f1-493b-919b-8099b519677a"
      },
      "source": [
        "spmf.run()\r\n",
        "print(spmf)"
      ],
      "execution_count": 32,
      "outputs": [
        {
          "output_type": "stream",
          "text": [
            ">/content/spmf.jar\n",
            "=============  CORI _96r18 - STATS =============\n",
            " Minbond = 2.0 Minsup = 0 transactions\n",
            " Database transaction count: 0\n",
            " Rare correlated itemset count : 0\n",
            " Total time ~ 1 ms\n",
            " Maximum memory usage : 6.497566223144531 mb\n",
            "===================================================\n",
            "\n",
            "<spmf.Spmf object at 0x7f707f349e48>\n"
          ],
          "name": "stdout"
        }
      ]
    }
  ]
}