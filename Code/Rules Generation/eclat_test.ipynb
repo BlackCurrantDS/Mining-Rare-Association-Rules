{
  "nbformat": 4,
  "nbformat_minor": 0,
  "metadata": {
    "colab": {
      "name": "eclat_test.ipynb",
      "provenance": [],
      "authorship_tag": "ABX9TyP4850w7ZOyAevQpM/5GZl4",
      "include_colab_link": true
    },
    "kernelspec": {
      "name": "python3",
      "display_name": "Python 3"
    }
  },
  "cells": [
    {
      "cell_type": "markdown",
      "metadata": {
        "id": "view-in-github",
        "colab_type": "text"
      },
      "source": [
        "<a href=\"https://colab.research.google.com/github/BlackCurrantDS/DBSE_Project/blob/main/eclat_test.ipynb\" target=\"_parent\"><img src=\"https://colab.research.google.com/assets/colab-badge.svg\" alt=\"Open In Colab\"/></a>"
      ]
    },
    {
      "cell_type": "code",
      "metadata": {
        "colab": {
          "base_uri": "https://localhost:8080/"
        },
        "id": "jfGnYh4MptM5",
        "outputId": "eb6aa214-9f9a-4944-907c-2aed636b55b8"
      },
      "source": [
        "!unzip \"/content/Eclat-Python-Implementation-master.zip\""
      ],
      "execution_count": 1,
      "outputs": [
        {
          "output_type": "stream",
          "text": [
            "Archive:  /content/Eclat-Python-Implementation-master.zip\n",
            "6b16de21a2242274ce035d9d229cd5bba919e672\n",
            "   creating: Eclat-Python-Implementation-master/\n",
            "  inflating: Eclat-Python-Implementation-master/README.md  \n",
            "  inflating: Eclat-Python-Implementation-master/data.txt  \n",
            "  inflating: Eclat-Python-Implementation-master/eclat.py  \n",
            "  inflating: Eclat-Python-Implementation-master/input.txt  \n",
            "  inflating: Eclat-Python-Implementation-master/items.txt  \n",
            "  inflating: Eclat-Python-Implementation-master/rules.txt  \n"
          ],
          "name": "stdout"
        }
      ]
    },
    {
      "cell_type": "code",
      "metadata": {
        "colab": {
          "base_uri": "https://localhost:8080/"
        },
        "id": "QWhtqBykp-Ig",
        "outputId": "a5990b1e-9d86-464a-9877-1e5a6160951c"
      },
      "source": [
        "!python3 /content/Eclat-Python-Implementation-master/eclat.py /content/Eclat-Python-Implementation-master/data.txt support confidence output_FreqItems /content/Eclat-Python-Implementation-master/Output_Rules.txt"
      ],
      "execution_count": 17,
      "outputs": [
        {
          "output_type": "stream",
          "text": [
            "finished reading data..... \n",
            " Starting mining .....\n",
            "found 7 Frequent items\n",
            "Found 0 Rules \n",
            "Writing Rules .....\n",
            "Print 0 attributes\n",
            "Traceback (most recent call last):\n",
            "  File \"/content/Eclat-Python-Implementation-master/eclat.py\", line 121, in <module>\n",
            "    Ant1d = np.hstack(Antecendent)\n",
            "  File \"<__array_function__ internals>\", line 6, in hstack\n",
            "  File \"/usr/local/lib/python3.6/dist-packages/numpy/core/shape_base.py\", line 346, in hstack\n",
            "    return _nx.concatenate(arrs, 1)\n",
            "  File \"<__array_function__ internals>\", line 6, in concatenate\n",
            "ValueError: need at least one array to concatenate\n"
          ],
          "name": "stdout"
        }
      ]
    },
    {
      "cell_type": "code",
      "metadata": {
        "id": "kR5qm-17sxlh"
      },
      "source": [
        "import numpy as np, itertools\r\n",
        "import pandas as pd\r\n",
        "np.random.seed(1)\r\n",
        "kot = 0\r\n",
        "FreqItems = dict()\r\n",
        "support = dict()"
      ],
      "execution_count": 18,
      "outputs": []
    },
    {
      "cell_type": "code",
      "metadata": {
        "id": "9osgPGfCuYod"
      },
      "source": [
        "minsup   = 1"
      ],
      "execution_count": 43,
      "outputs": []
    },
    {
      "cell_type": "code",
      "metadata": {
        "id": "LJCYHmiathd1"
      },
      "source": [
        "def main():\r\n",
        "\r\n",
        "    \r\n",
        "    confidence = 75\r\n",
        "    output_FreqItems = 'output_freqitems.csv'\r\n",
        "    output_Rules = 'output_rule.csv'\r\n",
        "    dict_id = 0\r\n",
        "    data = Read_Data('/content/Eclat-Python-Implementation-master/data.txt', ',') #change the delimiter based on your input file\r\n",
        "    data.pop(\"\\n\",None)\r\n",
        "    data.pop(\"\",None)\r\n",
        "    print('finished reading data..... \\n Starting mining .....')\r\n",
        "    print(\"read data is\",data)\r\n",
        "    print(\"input to iclat\",sorted(data.items(), key=lambda item: len(item[1]), reverse=True))\r\n",
        "    eclat([], sorted(data.items(), key=lambda item: len(item[1]), reverse=True), dict_id)\r\n",
        "    print('found %d Frequent items' % len(FreqItems))\r\n",
        "    Rules = rules(FreqItems, confidence)\r\n",
        "    print('Writing Rules .....')\r\n",
        "\r\n",
        "\r\n",
        "\r\n",
        "    print_Frequent_Itemsets(output_FreqItems, FreqItems)\r\n",
        "    print_Rules(output_Rules, Rules)\r\n",
        "    Antecendent = getantecendent(FreqItems, confidence)\r\n",
        "    print_Antecendent(Antecendent)\r\n",
        "    \r\n",
        "    Ant1d = np.hstack(Antecendent)\r\n",
        "    \r\n",
        "    count = np.array(Ant1d)\r\n",
        "    unique, counts = np.unique(count, return_counts=True)\r\n",
        "    dict(zip(unique, counts))\r\n",
        "    counted = np.stack((unique, counts), axis=1)\r\n",
        "    appendFile = open('candidate.csv','w')\r\n",
        "    for i in range(0,len(counted)):\r\n",
        "        appendFile.write(str(unique[i])+\";\"+str(counts[i])+\",\"+\"\\n\")\r\n",
        "    appendFile.close()\r\n",
        "    \r\n",
        "    df = pd.DataFrame(counted, columns=['word','counter'])\r\n",
        "    df[\"counter\"] = pd.to_numeric(df[\"counter\"])\r\n",
        "    sortcounted = df.sort_values([\"counter\"], axis=0, \r\n",
        "                     ascending=[False]) \r\n",
        "    elimcounted = sortcounted.drop(sortcounted[sortcounted['counter']<2].index)\r\n",
        "    \r\n",
        "    listfrequent = list(elimcounted.iloc[:, 0].values)\r\n",
        "    \r\n",
        "\r\n"
      ],
      "execution_count": 49,
      "outputs": []
    },
    {
      "cell_type": "code",
      "metadata": {
        "id": "UtsoXM9St0-c"
      },
      "source": [
        "def Read_Data(filename, delimiter=','):\r\n",
        "    data = {}\r\n",
        "    trans = 0\r\n",
        "    f = open(filename, 'r', encoding=\"utf8\")\r\n",
        "    for row in f:\r\n",
        "        trans += 1\r\n",
        "        for item in row.split(delimiter):\r\n",
        "            if item not in data:\r\n",
        "                data[item] = set()\r\n",
        "            data[item].add(trans)\r\n",
        "    f.close()\r\n",
        "    return data"
      ],
      "execution_count": 23,
      "outputs": []
    },
    {
      "cell_type": "code",
      "metadata": {
        "id": "F2sZBp31uMOV"
      },
      "source": [
        "def eclat(prefix, items, dict_id):\r\n",
        "    while items:\r\n",
        "        i,itids = items.pop()\r\n",
        "        print(\"i and itidas is\",i,itids)\r\n",
        "        isupp = len(itids)\r\n",
        "        print(\"isupp\",isupp)\r\n",
        "        if isupp >= minsup:\r\n",
        "\r\n",
        "            FreqItems[frozenset(prefix + [i])] = isupp\r\n",
        "            suffix = []\r\n",
        "            for j, ojtids in items:\r\n",
        "                jtids = itids & ojtids\r\n",
        "                if len(jtids) >= minsup:\r\n",
        "                    suffix.append((j,jtids))\r\n",
        "\r\n",
        "            dict_id += 1\r\n",
        "            eclat(prefix+[i], sorted(suffix, key=lambda item: len(item[1]), reverse=True), dict_id)"
      ],
      "execution_count": 47,
      "outputs": []
    },
    {
      "cell_type": "code",
      "metadata": {
        "colab": {
          "base_uri": "https://localhost:8080/",
          "height": 719
        },
        "id": "qPyucSsmtvxl",
        "outputId": "606a2d8d-3bf4-4c36-b212-3ddf02254cd0"
      },
      "source": [
        "main()"
      ],
      "execution_count": 50,
      "outputs": [
        {
          "output_type": "stream",
          "text": [
            "finished reading data..... \n",
            " Starting mining .....\n",
            "read data is {'5 1 2 3 4 5\\n': {1}, '5 6 7 3 8 9\\n': {2}, '5 10 7 3 8 11\\n': {3}, '5 10 12 3 4 13\\n': {4}, '5 14 12 3 4 13\\n': {5}, '4 15 7 3 8\\n': {6}, '5 15 16 17 4 11': {7}}\n",
            "input to iclat [('5 1 2 3 4 5\\n', {1}), ('5 6 7 3 8 9\\n', {2}), ('5 10 7 3 8 11\\n', {3}), ('5 10 12 3 4 13\\n', {4}), ('5 14 12 3 4 13\\n', {5}), ('4 15 7 3 8\\n', {6}), ('5 15 16 17 4 11', {7})]\n",
            "i and itidas is 5 15 16 17 4 11 {7}\n",
            "isupp 1\n",
            "i and itidas is 4 15 7 3 8\n",
            " {6}\n",
            "isupp 1\n",
            "i and itidas is 5 14 12 3 4 13\n",
            " {5}\n",
            "isupp 1\n",
            "i and itidas is 5 10 12 3 4 13\n",
            " {4}\n",
            "isupp 1\n",
            "i and itidas is 5 10 7 3 8 11\n",
            " {3}\n",
            "isupp 1\n",
            "i and itidas is 5 6 7 3 8 9\n",
            " {2}\n",
            "isupp 1\n",
            "i and itidas is 5 1 2 3 4 5\n",
            " {1}\n",
            "isupp 1\n",
            "found 7 Frequent items\n"
          ],
          "name": "stdout"
        },
        {
          "output_type": "error",
          "ename": "NameError",
          "evalue": "ignored",
          "traceback": [
            "\u001b[0;31m---------------------------------------------------------------------------\u001b[0m",
            "\u001b[0;31mNameError\u001b[0m                                 Traceback (most recent call last)",
            "\u001b[0;32m<ipython-input-50-263240bbee7e>\u001b[0m in \u001b[0;36m<module>\u001b[0;34m()\u001b[0m\n\u001b[0;32m----> 1\u001b[0;31m \u001b[0mmain\u001b[0m\u001b[0;34m(\u001b[0m\u001b[0;34m)\u001b[0m\u001b[0;34m\u001b[0m\u001b[0;34m\u001b[0m\u001b[0m\n\u001b[0m",
            "\u001b[0;32m<ipython-input-49-acdcfc0e1396>\u001b[0m in \u001b[0;36mmain\u001b[0;34m()\u001b[0m\n\u001b[1;32m     14\u001b[0m     \u001b[0meclat\u001b[0m\u001b[0;34m(\u001b[0m\u001b[0;34m[\u001b[0m\u001b[0;34m]\u001b[0m\u001b[0;34m,\u001b[0m \u001b[0msorted\u001b[0m\u001b[0;34m(\u001b[0m\u001b[0mdata\u001b[0m\u001b[0;34m.\u001b[0m\u001b[0mitems\u001b[0m\u001b[0;34m(\u001b[0m\u001b[0;34m)\u001b[0m\u001b[0;34m,\u001b[0m \u001b[0mkey\u001b[0m\u001b[0;34m=\u001b[0m\u001b[0;32mlambda\u001b[0m \u001b[0mitem\u001b[0m\u001b[0;34m:\u001b[0m \u001b[0mlen\u001b[0m\u001b[0;34m(\u001b[0m\u001b[0mitem\u001b[0m\u001b[0;34m[\u001b[0m\u001b[0;36m1\u001b[0m\u001b[0;34m]\u001b[0m\u001b[0;34m)\u001b[0m\u001b[0;34m,\u001b[0m \u001b[0mreverse\u001b[0m\u001b[0;34m=\u001b[0m\u001b[0;32mTrue\u001b[0m\u001b[0;34m)\u001b[0m\u001b[0;34m,\u001b[0m \u001b[0mdict_id\u001b[0m\u001b[0;34m)\u001b[0m\u001b[0;34m\u001b[0m\u001b[0;34m\u001b[0m\u001b[0m\n\u001b[1;32m     15\u001b[0m     \u001b[0mprint\u001b[0m\u001b[0;34m(\u001b[0m\u001b[0;34m'found %d Frequent items'\u001b[0m \u001b[0;34m%\u001b[0m \u001b[0mlen\u001b[0m\u001b[0;34m(\u001b[0m\u001b[0mFreqItems\u001b[0m\u001b[0;34m)\u001b[0m\u001b[0;34m)\u001b[0m\u001b[0;34m\u001b[0m\u001b[0;34m\u001b[0m\u001b[0m\n\u001b[0;32m---> 16\u001b[0;31m     \u001b[0mRules\u001b[0m \u001b[0;34m=\u001b[0m \u001b[0mrules\u001b[0m\u001b[0;34m(\u001b[0m\u001b[0mFreqItems\u001b[0m\u001b[0;34m,\u001b[0m \u001b[0mconfidence\u001b[0m\u001b[0;34m)\u001b[0m\u001b[0;34m\u001b[0m\u001b[0;34m\u001b[0m\u001b[0m\n\u001b[0m\u001b[1;32m     17\u001b[0m     \u001b[0mprint\u001b[0m\u001b[0;34m(\u001b[0m\u001b[0;34m'Writing Rules .....'\u001b[0m\u001b[0;34m)\u001b[0m\u001b[0;34m\u001b[0m\u001b[0;34m\u001b[0m\u001b[0m\n\u001b[1;32m     18\u001b[0m \u001b[0;34m\u001b[0m\u001b[0m\n",
            "\u001b[0;31mNameError\u001b[0m: name 'rules' is not defined"
          ]
        }
      ]
    }
  ]
}