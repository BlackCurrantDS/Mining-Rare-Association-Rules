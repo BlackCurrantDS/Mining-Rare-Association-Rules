{
  "nbformat": 4,
  "nbformat_minor": 0,
  "metadata": {
    "colab": {
      "name": "remove_file_string.ipynb",
      "provenance": [],
      "authorship_tag": "ABX9TyNPK5TAlDcpKqiDYpsEMaBI",
      "include_colab_link": true
    },
    "kernelspec": {
      "name": "python3",
      "display_name": "Python 3"
    },
    "language_info": {
      "name": "python"
    }
  },
  "cells": [
    {
      "cell_type": "markdown",
      "metadata": {
        "id": "view-in-github",
        "colab_type": "text"
      },
      "source": [
        "<a href=\"https://colab.research.google.com/github/BlackCurrantDS/DBSE_Project/blob/main/remove_file_string.ipynb\" target=\"_parent\"><img src=\"https://colab.research.google.com/assets/colab-badge.svg\" alt=\"Open In Colab\"/></a>"
      ]
    },
    {
      "cell_type": "code",
      "metadata": {
        "id": "B_WxUet2Whu1"
      },
      "source": [
        "file_to_process = \"/content/breast_cancer_all_rules_no_apriori.txt\"\n",
        "\n",
        "#removing sup from rpp file\n",
        "f = open(file_to_process,'r')\n",
        "lst = []\n",
        "for line in f:\n",
        "  line  = line.split('class@no\",', 1)\n",
        "  \n",
        "  line  = line[0]\n",
        "  lst.append(line)\n",
        "f.close()\n",
        "f = open(file_to_process,'w')\n",
        "for line in lst:\n",
        "    f.write(line+'\\n')\n",
        "f.close()"
      ],
      "execution_count": 2,
      "outputs": []
    }
  ]
}