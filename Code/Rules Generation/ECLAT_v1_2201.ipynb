{
  "nbformat": 4,
  "nbformat_minor": 0,
  "metadata": {
    "colab": {
      "name": "ECLAT_v1_2201.ipynb",
      "provenance": [],
      "collapsed_sections": [],
      "include_colab_link": true
    },
    "kernelspec": {
      "name": "python3",
      "display_name": "Python 3"
    }
  },
  "cells": [
    {
      "cell_type": "markdown",
      "metadata": {
        "id": "view-in-github",
        "colab_type": "text"
      },
      "source": [
        "<a href=\"https://colab.research.google.com/github/BlackCurrantDS/DBSE_Project/blob/main/ECLAT_v1_2201.ipynb\" target=\"_parent\"><img src=\"https://colab.research.google.com/assets/colab-badge.svg\" alt=\"Open In Colab\"/></a>"
      ]
    },
    {
      "cell_type": "code",
      "metadata": {
        "colab": {
          "base_uri": "https://localhost:8080/"
        },
        "id": "o3U2bPKhC5va",
        "outputId": "cf67b10c-1852-42f8-a6ff-6188f72fbbb3"
      },
      "source": [
        "pip install pyECLAT"
      ],
      "execution_count": 3,
      "outputs": [
        {
          "output_type": "stream",
          "text": [
            "Requirement already satisfied: pyECLAT in /usr/local/lib/python3.6/dist-packages (1.0.2)\n",
            "Requirement already satisfied: pandas>=0.25.3 in /usr/local/lib/python3.6/dist-packages (from pyECLAT) (1.1.5)\n",
            "Requirement already satisfied: numpy>=1.17.4 in /usr/local/lib/python3.6/dist-packages (from pyECLAT) (1.19.5)\n",
            "Requirement already satisfied: tqdm>=4.41.1 in /usr/local/lib/python3.6/dist-packages (from pyECLAT) (4.41.1)\n",
            "Requirement already satisfied: python-dateutil>=2.7.3 in /usr/local/lib/python3.6/dist-packages (from pandas>=0.25.3->pyECLAT) (2.8.1)\n",
            "Requirement already satisfied: pytz>=2017.2 in /usr/local/lib/python3.6/dist-packages (from pandas>=0.25.3->pyECLAT) (2018.9)\n",
            "Requirement already satisfied: six>=1.5 in /usr/local/lib/python3.6/dist-packages (from python-dateutil>=2.7.3->pandas>=0.25.3->pyECLAT) (1.15.0)\n"
          ],
          "name": "stdout"
        }
      ]
    },
    {
      "cell_type": "code",
      "metadata": {
        "id": "zFxh9N1JClD8"
      },
      "source": [
        "import pyECLAT\r\n",
        "import pandas as pd\r\n",
        "from pyECLAT import Example1, Example2\r\n",
        "ex1 = Example1().get()\r\n",
        "ex2 = Example2().get()"
      ],
      "execution_count": 4,
      "outputs": []
    },
    {
      "cell_type": "code",
      "metadata": {
        "colab": {
          "base_uri": "https://localhost:8080/",
          "height": 343
        },
        "id": "gGlR7QCSCyNJ",
        "outputId": "161d04f9-bbe4-43bd-aa58-9644917b20db"
      },
      "source": [
        "ex1"
      ],
      "execution_count": 5,
      "outputs": [
        {
          "output_type": "execute_result",
          "data": {
            "text/html": [
              "<div>\n",
              "<style scoped>\n",
              "    .dataframe tbody tr th:only-of-type {\n",
              "        vertical-align: middle;\n",
              "    }\n",
              "\n",
              "    .dataframe tbody tr th {\n",
              "        vertical-align: top;\n",
              "    }\n",
              "\n",
              "    .dataframe thead th {\n",
              "        text-align: right;\n",
              "    }\n",
              "</style>\n",
              "<table border=\"1\" class=\"dataframe\">\n",
              "  <thead>\n",
              "    <tr style=\"text-align: right;\">\n",
              "      <th></th>\n",
              "      <th>0</th>\n",
              "      <th>1</th>\n",
              "      <th>2</th>\n",
              "      <th>3</th>\n",
              "    </tr>\n",
              "  </thead>\n",
              "  <tbody>\n",
              "    <tr>\n",
              "      <th>0</th>\n",
              "      <td>milk</td>\n",
              "      <td>beer</td>\n",
              "      <td>bread</td>\n",
              "      <td>butter</td>\n",
              "    </tr>\n",
              "    <tr>\n",
              "      <th>1</th>\n",
              "      <td>coffe</td>\n",
              "      <td>bread</td>\n",
              "      <td>butter</td>\n",
              "      <td>NaN</td>\n",
              "    </tr>\n",
              "    <tr>\n",
              "      <th>2</th>\n",
              "      <td>coffe</td>\n",
              "      <td>bread</td>\n",
              "      <td>butter</td>\n",
              "      <td>NaN</td>\n",
              "    </tr>\n",
              "    <tr>\n",
              "      <th>3</th>\n",
              "      <td>milk</td>\n",
              "      <td>coffe</td>\n",
              "      <td>bread</td>\n",
              "      <td>butter</td>\n",
              "    </tr>\n",
              "    <tr>\n",
              "      <th>4</th>\n",
              "      <td>beer</td>\n",
              "      <td>NaN</td>\n",
              "      <td>NaN</td>\n",
              "      <td>NaN</td>\n",
              "    </tr>\n",
              "    <tr>\n",
              "      <th>5</th>\n",
              "      <td>butter</td>\n",
              "      <td>NaN</td>\n",
              "      <td>NaN</td>\n",
              "      <td>NaN</td>\n",
              "    </tr>\n",
              "    <tr>\n",
              "      <th>6</th>\n",
              "      <td>bread</td>\n",
              "      <td>NaN</td>\n",
              "      <td>NaN</td>\n",
              "      <td>NaN</td>\n",
              "    </tr>\n",
              "    <tr>\n",
              "      <th>7</th>\n",
              "      <td>bean</td>\n",
              "      <td>NaN</td>\n",
              "      <td>NaN</td>\n",
              "      <td>NaN</td>\n",
              "    </tr>\n",
              "    <tr>\n",
              "      <th>8</th>\n",
              "      <td>rice</td>\n",
              "      <td>bean</td>\n",
              "      <td>NaN</td>\n",
              "      <td>NaN</td>\n",
              "    </tr>\n",
              "    <tr>\n",
              "      <th>9</th>\n",
              "      <td>rice</td>\n",
              "      <td>NaN</td>\n",
              "      <td>NaN</td>\n",
              "      <td>NaN</td>\n",
              "    </tr>\n",
              "  </tbody>\n",
              "</table>\n",
              "</div>"
            ],
            "text/plain": [
              "        0      1       2       3\n",
              "0    milk   beer   bread  butter\n",
              "1   coffe  bread  butter     NaN\n",
              "2   coffe  bread  butter     NaN\n",
              "3    milk  coffe   bread  butter\n",
              "4    beer    NaN     NaN     NaN\n",
              "5  butter    NaN     NaN     NaN\n",
              "6   bread    NaN     NaN     NaN\n",
              "7    bean    NaN     NaN     NaN\n",
              "8    rice   bean     NaN     NaN\n",
              "9    rice    NaN     NaN     NaN"
            ]
          },
          "metadata": {
            "tags": []
          },
          "execution_count": 5
        }
      ]
    },
    {
      "cell_type": "code",
      "metadata": {
        "id": "O9AVU7SK6hl_"
      },
      "source": [
        "from pyECLAT import ECLAT"
      ],
      "execution_count": 6,
      "outputs": []
    },
    {
      "cell_type": "code",
      "metadata": {
        "id": "ej3bUYh_DClN",
        "colab": {
          "base_uri": "https://localhost:8080/"
        },
        "outputId": "fa995ee4-bdcc-4db6-87e2-150caa641f0c"
      },
      "source": [
        "model1 = ECLAT(data=ex1,verbose=True)"
      ],
      "execution_count": 7,
      "outputs": [
        {
          "output_type": "stream",
          "text": [
            "100%|██████████| 7/7 [00:00<00:00, 339.72it/s]\n",
            "100%|██████████| 7/7 [00:00<00:00, 18954.25it/s]\n",
            "100%|██████████| 7/7 [00:00<00:00, 1211.98it/s]\n"
          ],
          "name": "stderr"
        }
      ]
    },
    {
      "cell_type": "code",
      "metadata": {
        "colab": {
          "base_uri": "https://localhost:8080/"
        },
        "id": "j0onTAJ97w5f",
        "outputId": "6c50e1ec-65c7-41cd-db28-bf5825bb0de1"
      },
      "source": [
        "model1.fit()"
      ],
      "execution_count": 8,
      "outputs": [
        {
          "output_type": "stream",
          "text": [
            "7it [00:00, 131.21it/s]\n",
            "21it [00:00, 174.47it/s]\n",
            "0it [00:00, ?it/s]"
          ],
          "name": "stderr"
        },
        {
          "output_type": "stream",
          "text": [
            "Combination 1 by 1\n",
            "Combination 2 by 2\n",
            "Combination 3 by 3\n"
          ],
          "name": "stdout"
        },
        {
          "output_type": "stream",
          "text": [
            "35it [00:00, 170.05it/s]\n"
          ],
          "name": "stderr"
        },
        {
          "output_type": "execute_result",
          "data": {
            "text/plain": [
              "({'bean': [7, 8],\n",
              "  'beer': [0, 4],\n",
              "  'beer & bread': [0],\n",
              "  'beer & bread & butter': [0],\n",
              "  'beer & bread & milk': [0],\n",
              "  'beer & butter': [0],\n",
              "  'beer & milk': [0],\n",
              "  'beer & milk & butter': [0],\n",
              "  'bread': [0, 1, 2, 3, 6],\n",
              "  'bread & butter': [0, 1, 2, 3],\n",
              "  'bread & coffe': [1, 2, 3],\n",
              "  'bread & coffe & butter': [1, 2, 3],\n",
              "  'bread & coffe & milk': [3],\n",
              "  'bread & milk': [0, 3],\n",
              "  'bread & milk & butter': [0, 3],\n",
              "  'butter': [0, 1, 2, 3, 5],\n",
              "  'coffe': [1, 2, 3],\n",
              "  'coffe & butter': [1, 2, 3],\n",
              "  'coffe & milk': [3],\n",
              "  'coffe & milk & butter': [3],\n",
              "  'milk': [0, 3],\n",
              "  'milk & butter': [0, 3],\n",
              "  'rice': [8, 9],\n",
              "  'rice & bean': [8]},\n",
              " {'bean': 0.2,\n",
              "  'beer': 0.2,\n",
              "  'beer & bread': 0.1,\n",
              "  'beer & bread & butter': 0.1,\n",
              "  'beer & bread & milk': 0.1,\n",
              "  'beer & butter': 0.1,\n",
              "  'beer & milk': 0.1,\n",
              "  'beer & milk & butter': 0.1,\n",
              "  'bread': 0.5,\n",
              "  'bread & butter': 0.4,\n",
              "  'bread & coffe': 0.3,\n",
              "  'bread & coffe & butter': 0.3,\n",
              "  'bread & coffe & milk': 0.1,\n",
              "  'bread & milk': 0.2,\n",
              "  'bread & milk & butter': 0.2,\n",
              "  'butter': 0.5,\n",
              "  'coffe': 0.3,\n",
              "  'coffe & butter': 0.3,\n",
              "  'coffe & milk': 0.1,\n",
              "  'coffe & milk & butter': 0.1,\n",
              "  'milk': 0.2,\n",
              "  'milk & butter': 0.2,\n",
              "  'rice': 0.2,\n",
              "  'rice & bean': 0.1})"
            ]
          },
          "metadata": {
            "tags": []
          },
          "execution_count": 8
        }
      ]
    },
    {
      "cell_type": "code",
      "metadata": {
        "colab": {
          "base_uri": "https://localhost:8080/"
        },
        "id": "8PWOeIpo8L4m",
        "outputId": "97960566-36e7-4254-e0ad-cda72f746c88"
      },
      "source": [
        "model1.fit_all()"
      ],
      "execution_count": 9,
      "outputs": [
        {
          "output_type": "execute_result",
          "data": {
            "text/plain": [
              "({'beer & bread': [0],\n",
              "  'beer & bread & butter': [0],\n",
              "  'beer & bread & milk': [0],\n",
              "  'beer & bread & milk & butter': [0],\n",
              "  'beer & butter': [0],\n",
              "  'beer & milk': [0],\n",
              "  'beer & milk & butter': [0],\n",
              "  'bread & butter': [0, 1, 2, 3],\n",
              "  'bread & coffe': [1, 2, 3],\n",
              "  'bread & coffe & butter': [1, 2, 3],\n",
              "  'bread & coffe & milk': [3],\n",
              "  'bread & coffe & milk & butter': [3],\n",
              "  'bread & milk': [0, 3],\n",
              "  'bread & milk & butter': [0, 3],\n",
              "  'coffe & butter': [1, 2, 3],\n",
              "  'coffe & milk': [3],\n",
              "  'coffe & milk & butter': [3],\n",
              "  'milk & butter': [0, 3],\n",
              "  'rice & bean': [8]},\n",
              " {'beer & bread': 0.1,\n",
              "  'beer & bread & butter': 0.1,\n",
              "  'beer & bread & milk': 0.1,\n",
              "  'beer & bread & milk & butter': 0.1,\n",
              "  'beer & butter': 0.1,\n",
              "  'beer & milk': 0.1,\n",
              "  'beer & milk & butter': 0.1,\n",
              "  'bread & butter': 0.4,\n",
              "  'bread & coffe': 0.3,\n",
              "  'bread & coffe & butter': 0.3,\n",
              "  'bread & coffe & milk': 0.1,\n",
              "  'bread & coffe & milk & butter': 0.1,\n",
              "  'bread & milk': 0.2,\n",
              "  'bread & milk & butter': 0.2,\n",
              "  'coffe & butter': 0.3,\n",
              "  'coffe & milk': 0.1,\n",
              "  'coffe & milk & butter': 0.1,\n",
              "  'milk & butter': 0.2,\n",
              "  'rice & bean': 0.1})"
            ]
          },
          "metadata": {
            "tags": []
          },
          "execution_count": 9
        }
      ]
    },
    {
      "cell_type": "code",
      "metadata": {
        "id": "P8ISC3ECM1dR"
      },
      "source": [
        "fre_itemsets = model1.fit_all()"
      ],
      "execution_count": 10,
      "outputs": []
    },
    {
      "cell_type": "code",
      "metadata": {
        "colab": {
          "base_uri": "https://localhost:8080/"
        },
        "id": "T8aEEVy2M6og",
        "outputId": "9d24f2be-db52-4b1b-c4b3-b08ef40ee3b5"
      },
      "source": [
        "type(fre_itemsets)"
      ],
      "execution_count": 11,
      "outputs": [
        {
          "output_type": "execute_result",
          "data": {
            "text/plain": [
              "tuple"
            ]
          },
          "metadata": {
            "tags": []
          },
          "execution_count": 11
        }
      ]
    },
    {
      "cell_type": "code",
      "metadata": {
        "colab": {
          "base_uri": "https://localhost:8080/"
        },
        "id": "3_n0KbZ0NkrI",
        "outputId": "c2f65ab7-4cb7-4c10-f5fd-1e47b3e42fef"
      },
      "source": [
        "len(ex1)"
      ],
      "execution_count": 12,
      "outputs": [
        {
          "output_type": "execute_result",
          "data": {
            "text/plain": [
              "10"
            ]
          },
          "metadata": {
            "tags": []
          },
          "execution_count": 12
        }
      ]
    },
    {
      "cell_type": "code",
      "metadata": {
        "colab": {
          "base_uri": "https://localhost:8080/"
        },
        "id": "l_PYzX9ZNoJA",
        "outputId": "7e808d5d-8de9-47f2-a1f1-8b421767232b"
      },
      "source": [
        "0.3*10"
      ],
      "execution_count": 13,
      "outputs": [
        {
          "output_type": "execute_result",
          "data": {
            "text/plain": [
              "3.0"
            ]
          },
          "metadata": {
            "tags": []
          },
          "execution_count": 13
        }
      ]
    },
    {
      "cell_type": "code",
      "metadata": {
        "colab": {
          "base_uri": "https://localhost:8080/"
        },
        "id": "aWK_6To4M9io",
        "outputId": "ab670bdb-4b34-4e2e-acc3-c4d0eb0f15f0"
      },
      "source": [
        "fre_itemsets[1]"
      ],
      "execution_count": 14,
      "outputs": [
        {
          "output_type": "execute_result",
          "data": {
            "text/plain": [
              "{'beer & bread': 0.1,\n",
              " 'beer & bread & butter': 0.1,\n",
              " 'beer & bread & milk': 0.1,\n",
              " 'beer & bread & milk & butter': 0.1,\n",
              " 'beer & butter': 0.1,\n",
              " 'beer & milk': 0.1,\n",
              " 'beer & milk & butter': 0.1,\n",
              " 'bread & butter': 0.4,\n",
              " 'bread & coffe': 0.3,\n",
              " 'bread & coffe & butter': 0.3,\n",
              " 'bread & coffe & milk': 0.1,\n",
              " 'bread & coffe & milk & butter': 0.1,\n",
              " 'bread & milk': 0.2,\n",
              " 'bread & milk & butter': 0.2,\n",
              " 'coffe & butter': 0.3,\n",
              " 'coffe & milk': 0.1,\n",
              " 'coffe & milk & butter': 0.1,\n",
              " 'milk & butter': 0.2,\n",
              " 'rice & bean': 0.1}"
            ]
          },
          "metadata": {
            "tags": []
          },
          "execution_count": 14
        }
      ]
    },
    {
      "cell_type": "code",
      "metadata": {
        "colab": {
          "base_uri": "https://localhost:8080/"
        },
        "id": "X5Kr2IFSNtIw",
        "outputId": "7a6c410b-5636-4e95-8e34-f5128e1c7673"
      },
      "source": [
        "type(fre_itemsets[1])"
      ],
      "execution_count": 15,
      "outputs": [
        {
          "output_type": "execute_result",
          "data": {
            "text/plain": [
              "dict"
            ]
          },
          "metadata": {
            "tags": []
          },
          "execution_count": 15
        }
      ]
    },
    {
      "cell_type": "code",
      "metadata": {
        "id": "9zQRs3ecOFiw"
      },
      "source": [
        "# Multiply every value in my_dict by 2\r\n",
        "for key in fre_itemsets[1]:    \r\n",
        "    fre_itemsets[1][key] *=  len(ex1)"
      ],
      "execution_count": 16,
      "outputs": []
    },
    {
      "cell_type": "code",
      "metadata": {
        "id": "esltFlY2OXXZ"
      },
      "source": [
        "patterns = fre_itemsets[1]"
      ],
      "execution_count": 17,
      "outputs": []
    },
    {
      "cell_type": "code",
      "metadata": {
        "colab": {
          "base_uri": "https://localhost:8080/"
        },
        "id": "t66YDX6iPNV3",
        "outputId": "038f1504-cd71-4ce5-aab4-5ea77bb8102d"
      },
      "source": [
        "patterns"
      ],
      "execution_count": 18,
      "outputs": [
        {
          "output_type": "execute_result",
          "data": {
            "text/plain": [
              "{'beer & bread': 1.0,\n",
              " 'beer & bread & butter': 1.0,\n",
              " 'beer & bread & milk': 1.0,\n",
              " 'beer & bread & milk & butter': 1.0,\n",
              " 'beer & butter': 1.0,\n",
              " 'beer & milk': 1.0,\n",
              " 'beer & milk & butter': 1.0,\n",
              " 'bread & butter': 4.0,\n",
              " 'bread & coffe': 3.0,\n",
              " 'bread & coffe & butter': 3.0,\n",
              " 'bread & coffe & milk': 1.0,\n",
              " 'bread & coffe & milk & butter': 1.0,\n",
              " 'bread & milk': 2.0,\n",
              " 'bread & milk & butter': 2.0,\n",
              " 'coffe & butter': 3.0,\n",
              " 'coffe & milk': 1.0,\n",
              " 'coffe & milk & butter': 1.0,\n",
              " 'milk & butter': 2.0,\n",
              " 'rice & bean': 1.0}"
            ]
          },
          "metadata": {
            "tags": []
          },
          "execution_count": 18
        }
      ]
    },
    {
      "cell_type": "code",
      "metadata": {
        "id": "CtpcXUztPiSv"
      },
      "source": [
        "with open('eclat_freqpatterns', 'w') as f:\r\n",
        "  for key, value in patterns.items():\r\n",
        "    #print(key)\r\n",
        "    key = key.replace('&',',')\r\n",
        "    key = key.replace(\"'\",\"\")\r\n",
        "    key = key.replace(\" \", \"\")\r\n",
        "    value = int(value)\r\n",
        "    #print(key)\r\n",
        "    #print(value)\r\n",
        "    print(key+\":\"+str(value),file=f)\r\n",
        "    "
      ],
      "execution_count": 19,
      "outputs": []
    },
    {
      "cell_type": "code",
      "metadata": {
        "colab": {
          "base_uri": "https://localhost:8080/"
        },
        "id": "brNN2neGQA93",
        "outputId": "9661ba06-cfb0-4700-d248-d1840dc71084"
      },
      "source": [
        "patterns"
      ],
      "execution_count": 20,
      "outputs": [
        {
          "output_type": "execute_result",
          "data": {
            "text/plain": [
              "{'beer & bread': 1.0,\n",
              " 'beer & bread & butter': 1.0,\n",
              " 'beer & bread & milk': 1.0,\n",
              " 'beer & bread & milk & butter': 1.0,\n",
              " 'beer & butter': 1.0,\n",
              " 'beer & milk': 1.0,\n",
              " 'beer & milk & butter': 1.0,\n",
              " 'bread & butter': 4.0,\n",
              " 'bread & coffe': 3.0,\n",
              " 'bread & coffe & butter': 3.0,\n",
              " 'bread & coffe & milk': 1.0,\n",
              " 'bread & coffe & milk & butter': 1.0,\n",
              " 'bread & milk': 2.0,\n",
              " 'bread & milk & butter': 2.0,\n",
              " 'coffe & butter': 3.0,\n",
              " 'coffe & milk': 1.0,\n",
              " 'coffe & milk & butter': 1.0,\n",
              " 'milk & butter': 2.0,\n",
              " 'rice & bean': 1.0}"
            ]
          },
          "metadata": {
            "tags": []
          },
          "execution_count": 20
        }
      ]
    },
    {
      "cell_type": "code",
      "metadata": {
        "id": "nddTfCNjU2hd"
      },
      "source": [
        "d = pd.read_csv(\"/content/eclat_freqpatterns\", sep=':', names=['itemsets','support'])"
      ],
      "execution_count": 21,
      "outputs": []
    },
    {
      "cell_type": "code",
      "metadata": {
        "id": "16DgNi40WaCj"
      },
      "source": [
        "d['itemsets'] = d['itemsets'].astype(str).values.tolist()"
      ],
      "execution_count": 22,
      "outputs": []
    },
    {
      "cell_type": "code",
      "metadata": {
        "id": "8dDAUJCfYnJD"
      },
      "source": [
        "d['itemsets'] = d.itemsets.apply(lambda x: x.split(','))"
      ],
      "execution_count": 23,
      "outputs": []
    },
    {
      "cell_type": "code",
      "metadata": {
        "colab": {
          "base_uri": "https://localhost:8080/",
          "height": 610
        },
        "id": "u-_exOTkXM9K",
        "outputId": "875816cb-59f7-4cd1-9848-18fa713920c4"
      },
      "source": [
        "d"
      ],
      "execution_count": 24,
      "outputs": [
        {
          "output_type": "execute_result",
          "data": {
            "text/html": [
              "<div>\n",
              "<style scoped>\n",
              "    .dataframe tbody tr th:only-of-type {\n",
              "        vertical-align: middle;\n",
              "    }\n",
              "\n",
              "    .dataframe tbody tr th {\n",
              "        vertical-align: top;\n",
              "    }\n",
              "\n",
              "    .dataframe thead th {\n",
              "        text-align: right;\n",
              "    }\n",
              "</style>\n",
              "<table border=\"1\" class=\"dataframe\">\n",
              "  <thead>\n",
              "    <tr style=\"text-align: right;\">\n",
              "      <th></th>\n",
              "      <th>itemsets</th>\n",
              "      <th>support</th>\n",
              "    </tr>\n",
              "  </thead>\n",
              "  <tbody>\n",
              "    <tr>\n",
              "      <th>0</th>\n",
              "      <td>[beer, bread]</td>\n",
              "      <td>1</td>\n",
              "    </tr>\n",
              "    <tr>\n",
              "      <th>1</th>\n",
              "      <td>[beer, milk]</td>\n",
              "      <td>1</td>\n",
              "    </tr>\n",
              "    <tr>\n",
              "      <th>2</th>\n",
              "      <td>[beer, butter]</td>\n",
              "      <td>1</td>\n",
              "    </tr>\n",
              "    <tr>\n",
              "      <th>3</th>\n",
              "      <td>[bread, coffe]</td>\n",
              "      <td>3</td>\n",
              "    </tr>\n",
              "    <tr>\n",
              "      <th>4</th>\n",
              "      <td>[bread, milk]</td>\n",
              "      <td>2</td>\n",
              "    </tr>\n",
              "    <tr>\n",
              "      <th>5</th>\n",
              "      <td>[bread, butter]</td>\n",
              "      <td>4</td>\n",
              "    </tr>\n",
              "    <tr>\n",
              "      <th>6</th>\n",
              "      <td>[coffe, milk]</td>\n",
              "      <td>1</td>\n",
              "    </tr>\n",
              "    <tr>\n",
              "      <th>7</th>\n",
              "      <td>[coffe, butter]</td>\n",
              "      <td>3</td>\n",
              "    </tr>\n",
              "    <tr>\n",
              "      <th>8</th>\n",
              "      <td>[milk, butter]</td>\n",
              "      <td>2</td>\n",
              "    </tr>\n",
              "    <tr>\n",
              "      <th>9</th>\n",
              "      <td>[rice, bean]</td>\n",
              "      <td>1</td>\n",
              "    </tr>\n",
              "    <tr>\n",
              "      <th>10</th>\n",
              "      <td>[beer, bread, milk]</td>\n",
              "      <td>1</td>\n",
              "    </tr>\n",
              "    <tr>\n",
              "      <th>11</th>\n",
              "      <td>[beer, bread, butter]</td>\n",
              "      <td>1</td>\n",
              "    </tr>\n",
              "    <tr>\n",
              "      <th>12</th>\n",
              "      <td>[beer, milk, butter]</td>\n",
              "      <td>1</td>\n",
              "    </tr>\n",
              "    <tr>\n",
              "      <th>13</th>\n",
              "      <td>[bread, coffe, milk]</td>\n",
              "      <td>1</td>\n",
              "    </tr>\n",
              "    <tr>\n",
              "      <th>14</th>\n",
              "      <td>[bread, coffe, butter]</td>\n",
              "      <td>3</td>\n",
              "    </tr>\n",
              "    <tr>\n",
              "      <th>15</th>\n",
              "      <td>[bread, milk, butter]</td>\n",
              "      <td>2</td>\n",
              "    </tr>\n",
              "    <tr>\n",
              "      <th>16</th>\n",
              "      <td>[coffe, milk, butter]</td>\n",
              "      <td>1</td>\n",
              "    </tr>\n",
              "    <tr>\n",
              "      <th>17</th>\n",
              "      <td>[beer, bread, milk, butter]</td>\n",
              "      <td>1</td>\n",
              "    </tr>\n",
              "    <tr>\n",
              "      <th>18</th>\n",
              "      <td>[bread, coffe, milk, butter]</td>\n",
              "      <td>1</td>\n",
              "    </tr>\n",
              "  </tbody>\n",
              "</table>\n",
              "</div>"
            ],
            "text/plain": [
              "                        itemsets  support\n",
              "0                  [beer, bread]        1\n",
              "1                   [beer, milk]        1\n",
              "2                 [beer, butter]        1\n",
              "3                 [bread, coffe]        3\n",
              "4                  [bread, milk]        2\n",
              "5                [bread, butter]        4\n",
              "6                  [coffe, milk]        1\n",
              "7                [coffe, butter]        3\n",
              "8                 [milk, butter]        2\n",
              "9                   [rice, bean]        1\n",
              "10           [beer, bread, milk]        1\n",
              "11         [beer, bread, butter]        1\n",
              "12          [beer, milk, butter]        1\n",
              "13          [bread, coffe, milk]        1\n",
              "14        [bread, coffe, butter]        3\n",
              "15         [bread, milk, butter]        2\n",
              "16         [coffe, milk, butter]        1\n",
              "17   [beer, bread, milk, butter]        1\n",
              "18  [bread, coffe, milk, butter]        1"
            ]
          },
          "metadata": {
            "tags": []
          },
          "execution_count": 24
        }
      ]
    },
    {
      "cell_type": "code",
      "metadata": {
        "id": "ptOJTibKR6K2"
      },
      "source": [
        "#generate rules"
      ],
      "execution_count": 25,
      "outputs": []
    },
    {
      "cell_type": "code",
      "metadata": {
        "colab": {
          "base_uri": "https://localhost:8080/",
          "height": 402
        },
        "id": "rl9XcbVXSsFc",
        "outputId": "7d9d6daa-431b-4840-c77c-9b321b5a02f5"
      },
      "source": [
        "from mlxtend.frequent_patterns import association_rules\r\n",
        "res = association_rules(d, support_only=True, min_threshold=0.1)\r\n",
        "res"
      ],
      "execution_count": 26,
      "outputs": [
        {
          "output_type": "execute_result",
          "data": {
            "text/html": [
              "<div>\n",
              "<style scoped>\n",
              "    .dataframe tbody tr th:only-of-type {\n",
              "        vertical-align: middle;\n",
              "    }\n",
              "\n",
              "    .dataframe tbody tr th {\n",
              "        vertical-align: top;\n",
              "    }\n",
              "\n",
              "    .dataframe thead th {\n",
              "        text-align: right;\n",
              "    }\n",
              "</style>\n",
              "<table border=\"1\" class=\"dataframe\">\n",
              "  <thead>\n",
              "    <tr style=\"text-align: right;\">\n",
              "      <th></th>\n",
              "      <th>antecedents</th>\n",
              "      <th>consequents</th>\n",
              "      <th>antecedent support</th>\n",
              "      <th>consequent support</th>\n",
              "      <th>support</th>\n",
              "      <th>confidence</th>\n",
              "      <th>lift</th>\n",
              "      <th>leverage</th>\n",
              "      <th>conviction</th>\n",
              "    </tr>\n",
              "  </thead>\n",
              "  <tbody>\n",
              "    <tr>\n",
              "      <th>0</th>\n",
              "      <td>(bread)</td>\n",
              "      <td>(beer)</td>\n",
              "      <td>NaN</td>\n",
              "      <td>NaN</td>\n",
              "      <td>1.0</td>\n",
              "      <td>NaN</td>\n",
              "      <td>NaN</td>\n",
              "      <td>NaN</td>\n",
              "      <td>NaN</td>\n",
              "    </tr>\n",
              "    <tr>\n",
              "      <th>1</th>\n",
              "      <td>(beer)</td>\n",
              "      <td>(bread)</td>\n",
              "      <td>NaN</td>\n",
              "      <td>NaN</td>\n",
              "      <td>1.0</td>\n",
              "      <td>NaN</td>\n",
              "      <td>NaN</td>\n",
              "      <td>NaN</td>\n",
              "      <td>NaN</td>\n",
              "    </tr>\n",
              "    <tr>\n",
              "      <th>2</th>\n",
              "      <td>(milk)</td>\n",
              "      <td>(beer)</td>\n",
              "      <td>NaN</td>\n",
              "      <td>NaN</td>\n",
              "      <td>1.0</td>\n",
              "      <td>NaN</td>\n",
              "      <td>NaN</td>\n",
              "      <td>NaN</td>\n",
              "      <td>NaN</td>\n",
              "    </tr>\n",
              "    <tr>\n",
              "      <th>3</th>\n",
              "      <td>(beer)</td>\n",
              "      <td>(milk)</td>\n",
              "      <td>NaN</td>\n",
              "      <td>NaN</td>\n",
              "      <td>1.0</td>\n",
              "      <td>NaN</td>\n",
              "      <td>NaN</td>\n",
              "      <td>NaN</td>\n",
              "      <td>NaN</td>\n",
              "    </tr>\n",
              "    <tr>\n",
              "      <th>4</th>\n",
              "      <td>(butter)</td>\n",
              "      <td>(beer)</td>\n",
              "      <td>NaN</td>\n",
              "      <td>NaN</td>\n",
              "      <td>1.0</td>\n",
              "      <td>NaN</td>\n",
              "      <td>NaN</td>\n",
              "      <td>NaN</td>\n",
              "      <td>NaN</td>\n",
              "    </tr>\n",
              "    <tr>\n",
              "      <th>...</th>\n",
              "      <td>...</td>\n",
              "      <td>...</td>\n",
              "      <td>...</td>\n",
              "      <td>...</td>\n",
              "      <td>...</td>\n",
              "      <td>...</td>\n",
              "      <td>...</td>\n",
              "      <td>...</td>\n",
              "      <td>...</td>\n",
              "    </tr>\n",
              "    <tr>\n",
              "      <th>85</th>\n",
              "      <td>(coffe, butter)</td>\n",
              "      <td>(bread, milk)</td>\n",
              "      <td>NaN</td>\n",
              "      <td>NaN</td>\n",
              "      <td>1.0</td>\n",
              "      <td>NaN</td>\n",
              "      <td>NaN</td>\n",
              "      <td>NaN</td>\n",
              "      <td>NaN</td>\n",
              "    </tr>\n",
              "    <tr>\n",
              "      <th>86</th>\n",
              "      <td>(bread)</td>\n",
              "      <td>(milk, coffe, butter)</td>\n",
              "      <td>NaN</td>\n",
              "      <td>NaN</td>\n",
              "      <td>1.0</td>\n",
              "      <td>NaN</td>\n",
              "      <td>NaN</td>\n",
              "      <td>NaN</td>\n",
              "      <td>NaN</td>\n",
              "    </tr>\n",
              "    <tr>\n",
              "      <th>87</th>\n",
              "      <td>(milk)</td>\n",
              "      <td>(bread, coffe, butter)</td>\n",
              "      <td>NaN</td>\n",
              "      <td>NaN</td>\n",
              "      <td>1.0</td>\n",
              "      <td>NaN</td>\n",
              "      <td>NaN</td>\n",
              "      <td>NaN</td>\n",
              "      <td>NaN</td>\n",
              "    </tr>\n",
              "    <tr>\n",
              "      <th>88</th>\n",
              "      <td>(butter)</td>\n",
              "      <td>(bread, milk, coffe)</td>\n",
              "      <td>NaN</td>\n",
              "      <td>NaN</td>\n",
              "      <td>1.0</td>\n",
              "      <td>NaN</td>\n",
              "      <td>NaN</td>\n",
              "      <td>NaN</td>\n",
              "      <td>NaN</td>\n",
              "    </tr>\n",
              "    <tr>\n",
              "      <th>89</th>\n",
              "      <td>(coffe)</td>\n",
              "      <td>(bread, milk, butter)</td>\n",
              "      <td>NaN</td>\n",
              "      <td>NaN</td>\n",
              "      <td>1.0</td>\n",
              "      <td>NaN</td>\n",
              "      <td>NaN</td>\n",
              "      <td>NaN</td>\n",
              "      <td>NaN</td>\n",
              "    </tr>\n",
              "  </tbody>\n",
              "</table>\n",
              "<p>90 rows × 9 columns</p>\n",
              "</div>"
            ],
            "text/plain": [
              "        antecedents             consequents  ...  leverage  conviction\n",
              "0           (bread)                  (beer)  ...       NaN         NaN\n",
              "1            (beer)                 (bread)  ...       NaN         NaN\n",
              "2            (milk)                  (beer)  ...       NaN         NaN\n",
              "3            (beer)                  (milk)  ...       NaN         NaN\n",
              "4          (butter)                  (beer)  ...       NaN         NaN\n",
              "..              ...                     ...  ...       ...         ...\n",
              "85  (coffe, butter)           (bread, milk)  ...       NaN         NaN\n",
              "86          (bread)   (milk, coffe, butter)  ...       NaN         NaN\n",
              "87           (milk)  (bread, coffe, butter)  ...       NaN         NaN\n",
              "88         (butter)    (bread, milk, coffe)  ...       NaN         NaN\n",
              "89          (coffe)   (bread, milk, butter)  ...       NaN         NaN\n",
              "\n",
              "[90 rows x 9 columns]"
            ]
          },
          "metadata": {
            "tags": []
          },
          "execution_count": 26
        }
      ]
    },
    {
      "cell_type": "code",
      "metadata": {
        "id": "jVhi3wy-ZU1i"
      },
      "source": [
        "res = res[['antecedents', 'consequents', 'support']]"
      ],
      "execution_count": 27,
      "outputs": []
    },
    {
      "cell_type": "code",
      "metadata": {
        "colab": {
          "base_uri": "https://localhost:8080/",
          "height": 402
        },
        "id": "D3yVx3qNZhWA",
        "outputId": "f36c76e6-66b3-4b39-dc55-24ddcab169e0"
      },
      "source": [
        "res"
      ],
      "execution_count": 28,
      "outputs": [
        {
          "output_type": "execute_result",
          "data": {
            "text/html": [
              "<div>\n",
              "<style scoped>\n",
              "    .dataframe tbody tr th:only-of-type {\n",
              "        vertical-align: middle;\n",
              "    }\n",
              "\n",
              "    .dataframe tbody tr th {\n",
              "        vertical-align: top;\n",
              "    }\n",
              "\n",
              "    .dataframe thead th {\n",
              "        text-align: right;\n",
              "    }\n",
              "</style>\n",
              "<table border=\"1\" class=\"dataframe\">\n",
              "  <thead>\n",
              "    <tr style=\"text-align: right;\">\n",
              "      <th></th>\n",
              "      <th>antecedents</th>\n",
              "      <th>consequents</th>\n",
              "      <th>support</th>\n",
              "    </tr>\n",
              "  </thead>\n",
              "  <tbody>\n",
              "    <tr>\n",
              "      <th>0</th>\n",
              "      <td>(bread)</td>\n",
              "      <td>(beer)</td>\n",
              "      <td>1.0</td>\n",
              "    </tr>\n",
              "    <tr>\n",
              "      <th>1</th>\n",
              "      <td>(beer)</td>\n",
              "      <td>(bread)</td>\n",
              "      <td>1.0</td>\n",
              "    </tr>\n",
              "    <tr>\n",
              "      <th>2</th>\n",
              "      <td>(milk)</td>\n",
              "      <td>(beer)</td>\n",
              "      <td>1.0</td>\n",
              "    </tr>\n",
              "    <tr>\n",
              "      <th>3</th>\n",
              "      <td>(beer)</td>\n",
              "      <td>(milk)</td>\n",
              "      <td>1.0</td>\n",
              "    </tr>\n",
              "    <tr>\n",
              "      <th>4</th>\n",
              "      <td>(butter)</td>\n",
              "      <td>(beer)</td>\n",
              "      <td>1.0</td>\n",
              "    </tr>\n",
              "    <tr>\n",
              "      <th>...</th>\n",
              "      <td>...</td>\n",
              "      <td>...</td>\n",
              "      <td>...</td>\n",
              "    </tr>\n",
              "    <tr>\n",
              "      <th>85</th>\n",
              "      <td>(coffe, butter)</td>\n",
              "      <td>(bread, milk)</td>\n",
              "      <td>1.0</td>\n",
              "    </tr>\n",
              "    <tr>\n",
              "      <th>86</th>\n",
              "      <td>(bread)</td>\n",
              "      <td>(milk, coffe, butter)</td>\n",
              "      <td>1.0</td>\n",
              "    </tr>\n",
              "    <tr>\n",
              "      <th>87</th>\n",
              "      <td>(milk)</td>\n",
              "      <td>(bread, coffe, butter)</td>\n",
              "      <td>1.0</td>\n",
              "    </tr>\n",
              "    <tr>\n",
              "      <th>88</th>\n",
              "      <td>(butter)</td>\n",
              "      <td>(bread, milk, coffe)</td>\n",
              "      <td>1.0</td>\n",
              "    </tr>\n",
              "    <tr>\n",
              "      <th>89</th>\n",
              "      <td>(coffe)</td>\n",
              "      <td>(bread, milk, butter)</td>\n",
              "      <td>1.0</td>\n",
              "    </tr>\n",
              "  </tbody>\n",
              "</table>\n",
              "<p>90 rows × 3 columns</p>\n",
              "</div>"
            ],
            "text/plain": [
              "        antecedents             consequents  support\n",
              "0           (bread)                  (beer)      1.0\n",
              "1            (beer)                 (bread)      1.0\n",
              "2            (milk)                  (beer)      1.0\n",
              "3            (beer)                  (milk)      1.0\n",
              "4          (butter)                  (beer)      1.0\n",
              "..              ...                     ...      ...\n",
              "85  (coffe, butter)           (bread, milk)      1.0\n",
              "86          (bread)   (milk, coffe, butter)      1.0\n",
              "87           (milk)  (bread, coffe, butter)      1.0\n",
              "88         (butter)    (bread, milk, coffe)      1.0\n",
              "89          (coffe)   (bread, milk, butter)      1.0\n",
              "\n",
              "[90 rows x 3 columns]"
            ]
          },
          "metadata": {
            "tags": []
          },
          "execution_count": 28
        }
      ]
    },
    {
      "cell_type": "code",
      "metadata": {
        "colab": {
          "base_uri": "https://localhost:8080/"
        },
        "id": "BGJ_SytMbG_Y",
        "outputId": "75ab7909-3fac-4913-94be-ae4a79ed332f"
      },
      "source": [
        "res[\"antecedents\"]=res[\"antecedents\"].apply(lambda x: ', '.join(list(x))).astype(\"unicode\")\r\n",
        "res[\"consequents\"]=res[\"consequents\"].apply(lambda x: ', '.join(list(x))).astype(\"unicode\")"
      ],
      "execution_count": 29,
      "outputs": [
        {
          "output_type": "stream",
          "text": [
            "/usr/local/lib/python3.6/dist-packages/ipykernel_launcher.py:1: SettingWithCopyWarning: \n",
            "A value is trying to be set on a copy of a slice from a DataFrame.\n",
            "Try using .loc[row_indexer,col_indexer] = value instead\n",
            "\n",
            "See the caveats in the documentation: https://pandas.pydata.org/pandas-docs/stable/user_guide/indexing.html#returning-a-view-versus-a-copy\n",
            "  \"\"\"Entry point for launching an IPython kernel.\n",
            "/usr/local/lib/python3.6/dist-packages/ipykernel_launcher.py:2: SettingWithCopyWarning: \n",
            "A value is trying to be set on a copy of a slice from a DataFrame.\n",
            "Try using .loc[row_indexer,col_indexer] = value instead\n",
            "\n",
            "See the caveats in the documentation: https://pandas.pydata.org/pandas-docs/stable/user_guide/indexing.html#returning-a-view-versus-a-copy\n",
            "  \n"
          ],
          "name": "stderr"
        }
      ]
    },
    {
      "cell_type": "code",
      "metadata": {
        "colab": {
          "base_uri": "https://localhost:8080/"
        },
        "id": "64NVlOwbZpOo",
        "outputId": "06e2d61b-bcc6-4462-8200-030a02591efb"
      },
      "source": [
        "res['eclat_rules'] = res['antecedents']+'>'+res[\"consequents\"]"
      ],
      "execution_count": 30,
      "outputs": [
        {
          "output_type": "stream",
          "text": [
            "/usr/local/lib/python3.6/dist-packages/ipykernel_launcher.py:1: SettingWithCopyWarning: \n",
            "A value is trying to be set on a copy of a slice from a DataFrame.\n",
            "Try using .loc[row_indexer,col_indexer] = value instead\n",
            "\n",
            "See the caveats in the documentation: https://pandas.pydata.org/pandas-docs/stable/user_guide/indexing.html#returning-a-view-versus-a-copy\n",
            "  \"\"\"Entry point for launching an IPython kernel.\n"
          ],
          "name": "stderr"
        }
      ]
    },
    {
      "cell_type": "code",
      "metadata": {
        "colab": {
          "base_uri": "https://localhost:8080/",
          "height": 402
        },
        "id": "KJMaqLg0a4Cp",
        "outputId": "ed693ad2-54cc-4f41-8e71-a9d22e20a545"
      },
      "source": [
        "res"
      ],
      "execution_count": 31,
      "outputs": [
        {
          "output_type": "execute_result",
          "data": {
            "text/html": [
              "<div>\n",
              "<style scoped>\n",
              "    .dataframe tbody tr th:only-of-type {\n",
              "        vertical-align: middle;\n",
              "    }\n",
              "\n",
              "    .dataframe tbody tr th {\n",
              "        vertical-align: top;\n",
              "    }\n",
              "\n",
              "    .dataframe thead th {\n",
              "        text-align: right;\n",
              "    }\n",
              "</style>\n",
              "<table border=\"1\" class=\"dataframe\">\n",
              "  <thead>\n",
              "    <tr style=\"text-align: right;\">\n",
              "      <th></th>\n",
              "      <th>antecedents</th>\n",
              "      <th>consequents</th>\n",
              "      <th>support</th>\n",
              "      <th>eclat_rules</th>\n",
              "    </tr>\n",
              "  </thead>\n",
              "  <tbody>\n",
              "    <tr>\n",
              "      <th>0</th>\n",
              "      <td>bread</td>\n",
              "      <td>beer</td>\n",
              "      <td>1.0</td>\n",
              "      <td>bread&gt;beer</td>\n",
              "    </tr>\n",
              "    <tr>\n",
              "      <th>1</th>\n",
              "      <td>beer</td>\n",
              "      <td>bread</td>\n",
              "      <td>1.0</td>\n",
              "      <td>beer&gt;bread</td>\n",
              "    </tr>\n",
              "    <tr>\n",
              "      <th>2</th>\n",
              "      <td>milk</td>\n",
              "      <td>beer</td>\n",
              "      <td>1.0</td>\n",
              "      <td>milk&gt;beer</td>\n",
              "    </tr>\n",
              "    <tr>\n",
              "      <th>3</th>\n",
              "      <td>beer</td>\n",
              "      <td>milk</td>\n",
              "      <td>1.0</td>\n",
              "      <td>beer&gt;milk</td>\n",
              "    </tr>\n",
              "    <tr>\n",
              "      <th>4</th>\n",
              "      <td>butter</td>\n",
              "      <td>beer</td>\n",
              "      <td>1.0</td>\n",
              "      <td>butter&gt;beer</td>\n",
              "    </tr>\n",
              "    <tr>\n",
              "      <th>...</th>\n",
              "      <td>...</td>\n",
              "      <td>...</td>\n",
              "      <td>...</td>\n",
              "      <td>...</td>\n",
              "    </tr>\n",
              "    <tr>\n",
              "      <th>85</th>\n",
              "      <td>coffe, butter</td>\n",
              "      <td>bread, milk</td>\n",
              "      <td>1.0</td>\n",
              "      <td>coffe, butter&gt;bread, milk</td>\n",
              "    </tr>\n",
              "    <tr>\n",
              "      <th>86</th>\n",
              "      <td>bread</td>\n",
              "      <td>milk, coffe, butter</td>\n",
              "      <td>1.0</td>\n",
              "      <td>bread&gt;milk, coffe, butter</td>\n",
              "    </tr>\n",
              "    <tr>\n",
              "      <th>87</th>\n",
              "      <td>milk</td>\n",
              "      <td>bread, coffe, butter</td>\n",
              "      <td>1.0</td>\n",
              "      <td>milk&gt;bread, coffe, butter</td>\n",
              "    </tr>\n",
              "    <tr>\n",
              "      <th>88</th>\n",
              "      <td>butter</td>\n",
              "      <td>bread, milk, coffe</td>\n",
              "      <td>1.0</td>\n",
              "      <td>butter&gt;bread, milk, coffe</td>\n",
              "    </tr>\n",
              "    <tr>\n",
              "      <th>89</th>\n",
              "      <td>coffe</td>\n",
              "      <td>bread, milk, butter</td>\n",
              "      <td>1.0</td>\n",
              "      <td>coffe&gt;bread, milk, butter</td>\n",
              "    </tr>\n",
              "  </tbody>\n",
              "</table>\n",
              "<p>90 rows × 4 columns</p>\n",
              "</div>"
            ],
            "text/plain": [
              "      antecedents           consequents  support                eclat_rules\n",
              "0           bread                  beer      1.0                 bread>beer\n",
              "1            beer                 bread      1.0                 beer>bread\n",
              "2            milk                  beer      1.0                  milk>beer\n",
              "3            beer                  milk      1.0                  beer>milk\n",
              "4          butter                  beer      1.0                butter>beer\n",
              "..            ...                   ...      ...                        ...\n",
              "85  coffe, butter           bread, milk      1.0  coffe, butter>bread, milk\n",
              "86          bread   milk, coffe, butter      1.0  bread>milk, coffe, butter\n",
              "87           milk  bread, coffe, butter      1.0  milk>bread, coffe, butter\n",
              "88         butter    bread, milk, coffe      1.0  butter>bread, milk, coffe\n",
              "89          coffe   bread, milk, butter      1.0  coffe>bread, milk, butter\n",
              "\n",
              "[90 rows x 4 columns]"
            ]
          },
          "metadata": {
            "tags": []
          },
          "execution_count": 31
        }
      ]
    },
    {
      "cell_type": "code",
      "metadata": {
        "id": "JWjyDCtwDoLX"
      },
      "source": [
        "import pandas as pd\r\n",
        "dataframe = pd.read_csv('/content/breast_train_transactions.txt', header = None, sep=\",\")"
      ],
      "execution_count": 32,
      "outputs": []
    },
    {
      "cell_type": "code",
      "metadata": {
        "colab": {
          "base_uri": "https://localhost:8080/",
          "height": 195
        },
        "id": "-yFEGXHiD-Ei",
        "outputId": "868a01ef-5006-47ef-fee9-77450363d571"
      },
      "source": [
        "dataframe.head()"
      ],
      "execution_count": 33,
      "outputs": [
        {
          "output_type": "execute_result",
          "data": {
            "text/html": [
              "<div>\n",
              "<style scoped>\n",
              "    .dataframe tbody tr th:only-of-type {\n",
              "        vertical-align: middle;\n",
              "    }\n",
              "\n",
              "    .dataframe tbody tr th {\n",
              "        vertical-align: top;\n",
              "    }\n",
              "\n",
              "    .dataframe thead th {\n",
              "        text-align: right;\n",
              "    }\n",
              "</style>\n",
              "<table border=\"1\" class=\"dataframe\">\n",
              "  <thead>\n",
              "    <tr style=\"text-align: right;\">\n",
              "      <th></th>\n",
              "      <th>0</th>\n",
              "      <th>1</th>\n",
              "      <th>2</th>\n",
              "      <th>3</th>\n",
              "      <th>4</th>\n",
              "      <th>5</th>\n",
              "      <th>6</th>\n",
              "      <th>7</th>\n",
              "      <th>8</th>\n",
              "      <th>9</th>\n",
              "    </tr>\n",
              "  </thead>\n",
              "  <tbody>\n",
              "    <tr>\n",
              "      <th>0</th>\n",
              "      <td>class@no</td>\n",
              "      <td>a1@30-39</td>\n",
              "      <td>a2@premeno</td>\n",
              "      <td>a3@30-34</td>\n",
              "      <td>a4@0-2</td>\n",
              "      <td>a5@no</td>\n",
              "      <td>a6@3</td>\n",
              "      <td>a7@left</td>\n",
              "      <td>a8@left_low</td>\n",
              "      <td>a9@no</td>\n",
              "    </tr>\n",
              "    <tr>\n",
              "      <th>1</th>\n",
              "      <td>class@no</td>\n",
              "      <td>a1@40-49</td>\n",
              "      <td>a2@premeno</td>\n",
              "      <td>a3@20-24</td>\n",
              "      <td>a4@0-2</td>\n",
              "      <td>a5@no</td>\n",
              "      <td>a6@2</td>\n",
              "      <td>a7@right</td>\n",
              "      <td>a8@right_up</td>\n",
              "      <td>a9@no</td>\n",
              "    </tr>\n",
              "    <tr>\n",
              "      <th>2</th>\n",
              "      <td>class@no</td>\n",
              "      <td>a1@40-49</td>\n",
              "      <td>a2@premeno</td>\n",
              "      <td>a3@20-24</td>\n",
              "      <td>a4@0-2</td>\n",
              "      <td>a5@no</td>\n",
              "      <td>a6@2</td>\n",
              "      <td>a7@left</td>\n",
              "      <td>a8@left_low</td>\n",
              "      <td>a9@no</td>\n",
              "    </tr>\n",
              "    <tr>\n",
              "      <th>3</th>\n",
              "      <td>class@no</td>\n",
              "      <td>a1@60-69</td>\n",
              "      <td>a2@ge40</td>\n",
              "      <td>a3@15-19</td>\n",
              "      <td>a4@0-2</td>\n",
              "      <td>a5@no</td>\n",
              "      <td>a6@2</td>\n",
              "      <td>a7@right</td>\n",
              "      <td>a8@left_up</td>\n",
              "      <td>a9@no</td>\n",
              "    </tr>\n",
              "    <tr>\n",
              "      <th>4</th>\n",
              "      <td>class@no</td>\n",
              "      <td>a1@40-49</td>\n",
              "      <td>a2@premeno</td>\n",
              "      <td>a3@0-4</td>\n",
              "      <td>a4@0-2</td>\n",
              "      <td>a5@no</td>\n",
              "      <td>a6@2</td>\n",
              "      <td>a7@right</td>\n",
              "      <td>a8@right_low</td>\n",
              "      <td>a9@no</td>\n",
              "    </tr>\n",
              "  </tbody>\n",
              "</table>\n",
              "</div>"
            ],
            "text/plain": [
              "          0         1           2  ...         7             8      9\n",
              "0  class@no  a1@30-39  a2@premeno  ...   a7@left   a8@left_low  a9@no\n",
              "1  class@no  a1@40-49  a2@premeno  ...  a7@right   a8@right_up  a9@no\n",
              "2  class@no  a1@40-49  a2@premeno  ...   a7@left   a8@left_low  a9@no\n",
              "3  class@no  a1@60-69     a2@ge40  ...  a7@right    a8@left_up  a9@no\n",
              "4  class@no  a1@40-49  a2@premeno  ...  a7@right  a8@right_low  a9@no\n",
              "\n",
              "[5 rows x 10 columns]"
            ]
          },
          "metadata": {
            "tags": []
          },
          "execution_count": 33
        }
      ]
    },
    {
      "cell_type": "code",
      "metadata": {
        "id": "UdWZhLyFECNm",
        "colab": {
          "base_uri": "https://localhost:8080/"
        },
        "outputId": "b85919aa-930a-4560-d099-c6d54ac2eeae"
      },
      "source": [
        "model2= ECLAT(data=dataframe,verbose=True)"
      ],
      "execution_count": 34,
      "outputs": [
        {
          "output_type": "stream",
          "text": [
            "100%|██████████| 44/44 [00:00<00:00, 233.55it/s]\n",
            "100%|██████████| 44/44 [00:00<00:00, 11723.38it/s]\n",
            "100%|██████████| 44/44 [00:00<00:00, 1957.15it/s]\n"
          ],
          "name": "stderr"
        }
      ]
    },
    {
      "cell_type": "code",
      "metadata": {
        "colab": {
          "base_uri": "https://localhost:8080/"
        },
        "id": "g4tmcLy5EOmh",
        "outputId": "272ce088-b1db-41d9-a7d9-f0accbee041a"
      },
      "source": [
        "fre_itemsets = model2.fit( min_support=0.01,max_combination=9)"
      ],
      "execution_count": null,
      "outputs": [
        {
          "output_type": "stream",
          "text": [
            "7it [00:00, 68.40it/s]"
          ],
          "name": "stderr"
        },
        {
          "output_type": "stream",
          "text": [
            "Combination 1 by 1\n"
          ],
          "name": "stdout"
        },
        {
          "output_type": "stream",
          "text": [
            "41it [00:00, 77.33it/s]\n",
            "9it [00:00, 88.17it/s]"
          ],
          "name": "stderr"
        },
        {
          "output_type": "stream",
          "text": [
            "Combination 2 by 2\n"
          ],
          "name": "stdout"
        },
        {
          "output_type": "stream",
          "text": [
            "820it [00:08, 96.86it/s] \n",
            "19it [00:00, 91.48it/s]"
          ],
          "name": "stderr"
        },
        {
          "output_type": "stream",
          "text": [
            "Combination 3 by 3\n"
          ],
          "name": "stdout"
        },
        {
          "output_type": "stream",
          "text": [
            "10660it [01:34, 112.64it/s]\n",
            "9it [00:00, 83.18it/s]"
          ],
          "name": "stderr"
        },
        {
          "output_type": "stream",
          "text": [
            "Combination 4 by 4\n"
          ],
          "name": "stdout"
        },
        {
          "output_type": "stream",
          "text": [
            "101270it [14:10, 119.13it/s]\n",
            "12it [00:00, 112.59it/s]"
          ],
          "name": "stderr"
        },
        {
          "output_type": "stream",
          "text": [
            "Combination 5 by 5\n"
          ],
          "name": "stdout"
        },
        {
          "output_type": "stream",
          "text": [
            "749398it [1:46:11, 117.62it/s]\n",
            "12it [00:00, 114.85it/s]"
          ],
          "name": "stderr"
        },
        {
          "output_type": "stream",
          "text": [
            "Combination 6 by 6\n"
          ],
          "name": "stdout"
        },
        {
          "output_type": "stream",
          "text": [
            "135303it [20:03, 115.58it/s]"
          ],
          "name": "stderr"
        },
        {
          "output_type": "stream",
          "text": [
            "Buffered data was truncated after reaching the output size limit."
          ],
          "name": "stdout"
        }
      ]
    },
    {
      "cell_type": "code",
      "metadata": {
        "id": "bJHKYxqMcDtK"
      },
      "source": [
        "\r\n",
        "for key in fre_itemsets[1]:    \r\n",
        "    fre_itemsets[1][key] *=  len(dataframe)"
      ],
      "execution_count": 53,
      "outputs": []
    },
    {
      "cell_type": "code",
      "metadata": {
        "id": "d13p_9zZcDtL"
      },
      "source": [
        "patterns = fre_itemsets[1]"
      ],
      "execution_count": 54,
      "outputs": []
    },
    {
      "cell_type": "code",
      "metadata": {
        "id": "QJgPpGsFcDtL"
      },
      "source": [
        "with open('eclat_freqpatterns', 'w') as f:\r\n",
        "  for key, value in patterns.items():\r\n",
        "    #print(key)\r\n",
        "    key = key.replace('&',',')\r\n",
        "    key = key.replace(\"'\",\"\")\r\n",
        "    key = key.replace(\" \", \"\")\r\n",
        "    value = int(value)\r\n",
        "    #print(key)\r\n",
        "    #print(value)\r\n",
        "    print(key+\":\"+str(value),file=f)\r\n",
        "    "
      ],
      "execution_count": 55,
      "outputs": []
    },
    {
      "cell_type": "code",
      "metadata": {
        "id": "qKWlzZJ_cDtL"
      },
      "source": [
        "d = pd.read_csv(\"/content/eclat_freqpatterns\", sep=':', names=['itemsets','support'])"
      ],
      "execution_count": 56,
      "outputs": []
    },
    {
      "cell_type": "code",
      "metadata": {
        "id": "XF1ZeO9CcDtL"
      },
      "source": [
        "d['itemsets'] = d['itemsets'].astype(str).values.tolist()"
      ],
      "execution_count": 57,
      "outputs": []
    },
    {
      "cell_type": "code",
      "metadata": {
        "id": "MHUhvX3ScDtM"
      },
      "source": [
        "d['itemsets'] = d.itemsets.apply(lambda x: x.split(','))"
      ],
      "execution_count": 58,
      "outputs": []
    },
    {
      "cell_type": "code",
      "metadata": {
        "colab": {
          "base_uri": "https://localhost:8080/",
          "height": 402
        },
        "id": "6eqhhe6ecDtM",
        "outputId": "58ac6169-e0d6-4fc6-e7d8-f6223249ff47"
      },
      "source": [
        "from mlxtend.frequent_patterns import association_rules\r\n",
        "res = association_rules(d, support_only=True, min_threshold=0.1)\r\n",
        "res"
      ],
      "execution_count": 59,
      "outputs": [
        {
          "output_type": "execute_result",
          "data": {
            "text/html": [
              "<div>\n",
              "<style scoped>\n",
              "    .dataframe tbody tr th:only-of-type {\n",
              "        vertical-align: middle;\n",
              "    }\n",
              "\n",
              "    .dataframe tbody tr th {\n",
              "        vertical-align: top;\n",
              "    }\n",
              "\n",
              "    .dataframe thead th {\n",
              "        text-align: right;\n",
              "    }\n",
              "</style>\n",
              "<table border=\"1\" class=\"dataframe\">\n",
              "  <thead>\n",
              "    <tr style=\"text-align: right;\">\n",
              "      <th></th>\n",
              "      <th>antecedents</th>\n",
              "      <th>consequents</th>\n",
              "      <th>antecedent support</th>\n",
              "      <th>consequent support</th>\n",
              "      <th>support</th>\n",
              "      <th>confidence</th>\n",
              "      <th>lift</th>\n",
              "      <th>leverage</th>\n",
              "      <th>conviction</th>\n",
              "    </tr>\n",
              "  </thead>\n",
              "  <tbody>\n",
              "    <tr>\n",
              "      <th>0</th>\n",
              "      <td>(a3@15-19)</td>\n",
              "      <td>(a4@0-2)</td>\n",
              "      <td>NaN</td>\n",
              "      <td>NaN</td>\n",
              "      <td>23.0</td>\n",
              "      <td>NaN</td>\n",
              "      <td>NaN</td>\n",
              "      <td>NaN</td>\n",
              "      <td>NaN</td>\n",
              "    </tr>\n",
              "    <tr>\n",
              "      <th>1</th>\n",
              "      <td>(a4@0-2)</td>\n",
              "      <td>(a3@15-19)</td>\n",
              "      <td>NaN</td>\n",
              "      <td>NaN</td>\n",
              "      <td>23.0</td>\n",
              "      <td>NaN</td>\n",
              "      <td>NaN</td>\n",
              "      <td>NaN</td>\n",
              "      <td>NaN</td>\n",
              "    </tr>\n",
              "    <tr>\n",
              "      <th>2</th>\n",
              "      <td>(a3@15-19)</td>\n",
              "      <td>(a9@no)</td>\n",
              "      <td>NaN</td>\n",
              "      <td>NaN</td>\n",
              "      <td>21.0</td>\n",
              "      <td>NaN</td>\n",
              "      <td>NaN</td>\n",
              "      <td>NaN</td>\n",
              "      <td>NaN</td>\n",
              "    </tr>\n",
              "    <tr>\n",
              "      <th>3</th>\n",
              "      <td>(a9@no)</td>\n",
              "      <td>(a3@15-19)</td>\n",
              "      <td>NaN</td>\n",
              "      <td>NaN</td>\n",
              "      <td>21.0</td>\n",
              "      <td>NaN</td>\n",
              "      <td>NaN</td>\n",
              "      <td>NaN</td>\n",
              "      <td>NaN</td>\n",
              "    </tr>\n",
              "    <tr>\n",
              "      <th>4</th>\n",
              "      <td>(a3@15-19)</td>\n",
              "      <td>(a5@no)</td>\n",
              "      <td>NaN</td>\n",
              "      <td>NaN</td>\n",
              "      <td>22.0</td>\n",
              "      <td>NaN</td>\n",
              "      <td>NaN</td>\n",
              "      <td>NaN</td>\n",
              "      <td>NaN</td>\n",
              "    </tr>\n",
              "    <tr>\n",
              "      <th>...</th>\n",
              "      <td>...</td>\n",
              "      <td>...</td>\n",
              "      <td>...</td>\n",
              "      <td>...</td>\n",
              "      <td>...</td>\n",
              "      <td>...</td>\n",
              "      <td>...</td>\n",
              "      <td>...</td>\n",
              "      <td>...</td>\n",
              "    </tr>\n",
              "    <tr>\n",
              "      <th>2269</th>\n",
              "      <td>(a6@1, a7@left)</td>\n",
              "      <td>(class@no)</td>\n",
              "      <td>NaN</td>\n",
              "      <td>NaN</td>\n",
              "      <td>24.0</td>\n",
              "      <td>NaN</td>\n",
              "      <td>NaN</td>\n",
              "      <td>NaN</td>\n",
              "      <td>NaN</td>\n",
              "    </tr>\n",
              "    <tr>\n",
              "      <th>2270</th>\n",
              "      <td>(class@no, a7@left)</td>\n",
              "      <td>(a6@1)</td>\n",
              "      <td>NaN</td>\n",
              "      <td>NaN</td>\n",
              "      <td>24.0</td>\n",
              "      <td>NaN</td>\n",
              "      <td>NaN</td>\n",
              "      <td>NaN</td>\n",
              "      <td>NaN</td>\n",
              "    </tr>\n",
              "    <tr>\n",
              "      <th>2271</th>\n",
              "      <td>(a6@1)</td>\n",
              "      <td>(class@no, a7@left)</td>\n",
              "      <td>NaN</td>\n",
              "      <td>NaN</td>\n",
              "      <td>24.0</td>\n",
              "      <td>NaN</td>\n",
              "      <td>NaN</td>\n",
              "      <td>NaN</td>\n",
              "      <td>NaN</td>\n",
              "    </tr>\n",
              "    <tr>\n",
              "      <th>2272</th>\n",
              "      <td>(class@no)</td>\n",
              "      <td>(a6@1, a7@left)</td>\n",
              "      <td>NaN</td>\n",
              "      <td>NaN</td>\n",
              "      <td>24.0</td>\n",
              "      <td>NaN</td>\n",
              "      <td>NaN</td>\n",
              "      <td>NaN</td>\n",
              "      <td>NaN</td>\n",
              "    </tr>\n",
              "    <tr>\n",
              "      <th>2273</th>\n",
              "      <td>(a7@left)</td>\n",
              "      <td>(a6@1, class@no)</td>\n",
              "      <td>NaN</td>\n",
              "      <td>NaN</td>\n",
              "      <td>24.0</td>\n",
              "      <td>NaN</td>\n",
              "      <td>NaN</td>\n",
              "      <td>NaN</td>\n",
              "      <td>NaN</td>\n",
              "    </tr>\n",
              "  </tbody>\n",
              "</table>\n",
              "<p>2274 rows × 9 columns</p>\n",
              "</div>"
            ],
            "text/plain": [
              "              antecedents          consequents  ...  leverage  conviction\n",
              "0              (a3@15-19)             (a4@0-2)  ...       NaN         NaN\n",
              "1                (a4@0-2)           (a3@15-19)  ...       NaN         NaN\n",
              "2              (a3@15-19)              (a9@no)  ...       NaN         NaN\n",
              "3                 (a9@no)           (a3@15-19)  ...       NaN         NaN\n",
              "4              (a3@15-19)              (a5@no)  ...       NaN         NaN\n",
              "...                   ...                  ...  ...       ...         ...\n",
              "2269      (a6@1, a7@left)           (class@no)  ...       NaN         NaN\n",
              "2270  (class@no, a7@left)               (a6@1)  ...       NaN         NaN\n",
              "2271               (a6@1)  (class@no, a7@left)  ...       NaN         NaN\n",
              "2272           (class@no)      (a6@1, a7@left)  ...       NaN         NaN\n",
              "2273            (a7@left)     (a6@1, class@no)  ...       NaN         NaN\n",
              "\n",
              "[2274 rows x 9 columns]"
            ]
          },
          "metadata": {
            "tags": []
          },
          "execution_count": 59
        }
      ]
    },
    {
      "cell_type": "code",
      "metadata": {
        "id": "oZSb8g4ucDtN"
      },
      "source": [
        "res = res[['antecedents', 'consequents', 'support']]"
      ],
      "execution_count": 60,
      "outputs": []
    },
    {
      "cell_type": "code",
      "metadata": {
        "colab": {
          "base_uri": "https://localhost:8080/"
        },
        "id": "J6X1Rr3PcDtN",
        "outputId": "1a979c8a-aeb1-4612-d649-e0836f29acc6"
      },
      "source": [
        "res[\"antecedents\"]=res[\"antecedents\"].apply(lambda x: ', '.join(list(x))).astype(\"unicode\")\r\n",
        "res[\"consequents\"]=res[\"consequents\"].apply(lambda x: ', '.join(list(x))).astype(\"unicode\")"
      ],
      "execution_count": 61,
      "outputs": [
        {
          "output_type": "stream",
          "text": [
            "/usr/local/lib/python3.6/dist-packages/ipykernel_launcher.py:1: SettingWithCopyWarning: \n",
            "A value is trying to be set on a copy of a slice from a DataFrame.\n",
            "Try using .loc[row_indexer,col_indexer] = value instead\n",
            "\n",
            "See the caveats in the documentation: https://pandas.pydata.org/pandas-docs/stable/user_guide/indexing.html#returning-a-view-versus-a-copy\n",
            "  \"\"\"Entry point for launching an IPython kernel.\n",
            "/usr/local/lib/python3.6/dist-packages/ipykernel_launcher.py:2: SettingWithCopyWarning: \n",
            "A value is trying to be set on a copy of a slice from a DataFrame.\n",
            "Try using .loc[row_indexer,col_indexer] = value instead\n",
            "\n",
            "See the caveats in the documentation: https://pandas.pydata.org/pandas-docs/stable/user_guide/indexing.html#returning-a-view-versus-a-copy\n",
            "  \n"
          ],
          "name": "stderr"
        }
      ]
    },
    {
      "cell_type": "code",
      "metadata": {
        "colab": {
          "base_uri": "https://localhost:8080/"
        },
        "id": "Nhqj655gcDtN",
        "outputId": "47277588-85d0-47d4-e0fd-ec4357ec65b2"
      },
      "source": [
        "res['eclat_rules'] = res['antecedents']+'>'+res[\"consequents\"]"
      ],
      "execution_count": 62,
      "outputs": [
        {
          "output_type": "stream",
          "text": [
            "/usr/local/lib/python3.6/dist-packages/ipykernel_launcher.py:1: SettingWithCopyWarning: \n",
            "A value is trying to be set on a copy of a slice from a DataFrame.\n",
            "Try using .loc[row_indexer,col_indexer] = value instead\n",
            "\n",
            "See the caveats in the documentation: https://pandas.pydata.org/pandas-docs/stable/user_guide/indexing.html#returning-a-view-versus-a-copy\n",
            "  \"\"\"Entry point for launching an IPython kernel.\n"
          ],
          "name": "stderr"
        }
      ]
    },
    {
      "cell_type": "code",
      "metadata": {
        "colab": {
          "base_uri": "https://localhost:8080/",
          "height": 402
        },
        "id": "FERHIxMQcDtN",
        "outputId": "f869444d-bf9f-4328-f766-552d13babcff"
      },
      "source": [
        "res"
      ],
      "execution_count": 63,
      "outputs": [
        {
          "output_type": "execute_result",
          "data": {
            "text/html": [
              "<div>\n",
              "<style scoped>\n",
              "    .dataframe tbody tr th:only-of-type {\n",
              "        vertical-align: middle;\n",
              "    }\n",
              "\n",
              "    .dataframe tbody tr th {\n",
              "        vertical-align: top;\n",
              "    }\n",
              "\n",
              "    .dataframe thead th {\n",
              "        text-align: right;\n",
              "    }\n",
              "</style>\n",
              "<table border=\"1\" class=\"dataframe\">\n",
              "  <thead>\n",
              "    <tr style=\"text-align: right;\">\n",
              "      <th></th>\n",
              "      <th>antecedents</th>\n",
              "      <th>consequents</th>\n",
              "      <th>support</th>\n",
              "      <th>eclat_rules</th>\n",
              "    </tr>\n",
              "  </thead>\n",
              "  <tbody>\n",
              "    <tr>\n",
              "      <th>0</th>\n",
              "      <td>a3@15-19</td>\n",
              "      <td>a4@0-2</td>\n",
              "      <td>23.0</td>\n",
              "      <td>a3@15-19&gt;a4@0-2</td>\n",
              "    </tr>\n",
              "    <tr>\n",
              "      <th>1</th>\n",
              "      <td>a4@0-2</td>\n",
              "      <td>a3@15-19</td>\n",
              "      <td>23.0</td>\n",
              "      <td>a4@0-2&gt;a3@15-19</td>\n",
              "    </tr>\n",
              "    <tr>\n",
              "      <th>2</th>\n",
              "      <td>a3@15-19</td>\n",
              "      <td>a9@no</td>\n",
              "      <td>21.0</td>\n",
              "      <td>a3@15-19&gt;a9@no</td>\n",
              "    </tr>\n",
              "    <tr>\n",
              "      <th>3</th>\n",
              "      <td>a9@no</td>\n",
              "      <td>a3@15-19</td>\n",
              "      <td>21.0</td>\n",
              "      <td>a9@no&gt;a3@15-19</td>\n",
              "    </tr>\n",
              "    <tr>\n",
              "      <th>4</th>\n",
              "      <td>a3@15-19</td>\n",
              "      <td>a5@no</td>\n",
              "      <td>22.0</td>\n",
              "      <td>a3@15-19&gt;a5@no</td>\n",
              "    </tr>\n",
              "    <tr>\n",
              "      <th>...</th>\n",
              "      <td>...</td>\n",
              "      <td>...</td>\n",
              "      <td>...</td>\n",
              "      <td>...</td>\n",
              "    </tr>\n",
              "    <tr>\n",
              "      <th>2269</th>\n",
              "      <td>a6@1, a7@left</td>\n",
              "      <td>class@no</td>\n",
              "      <td>24.0</td>\n",
              "      <td>a6@1, a7@left&gt;class@no</td>\n",
              "    </tr>\n",
              "    <tr>\n",
              "      <th>2270</th>\n",
              "      <td>class@no, a7@left</td>\n",
              "      <td>a6@1</td>\n",
              "      <td>24.0</td>\n",
              "      <td>class@no, a7@left&gt;a6@1</td>\n",
              "    </tr>\n",
              "    <tr>\n",
              "      <th>2271</th>\n",
              "      <td>a6@1</td>\n",
              "      <td>class@no, a7@left</td>\n",
              "      <td>24.0</td>\n",
              "      <td>a6@1&gt;class@no, a7@left</td>\n",
              "    </tr>\n",
              "    <tr>\n",
              "      <th>2272</th>\n",
              "      <td>class@no</td>\n",
              "      <td>a6@1, a7@left</td>\n",
              "      <td>24.0</td>\n",
              "      <td>class@no&gt;a6@1, a7@left</td>\n",
              "    </tr>\n",
              "    <tr>\n",
              "      <th>2273</th>\n",
              "      <td>a7@left</td>\n",
              "      <td>a6@1, class@no</td>\n",
              "      <td>24.0</td>\n",
              "      <td>a7@left&gt;a6@1, class@no</td>\n",
              "    </tr>\n",
              "  </tbody>\n",
              "</table>\n",
              "<p>2274 rows × 4 columns</p>\n",
              "</div>"
            ],
            "text/plain": [
              "            antecedents        consequents  support             eclat_rules\n",
              "0              a3@15-19             a4@0-2     23.0         a3@15-19>a4@0-2\n",
              "1                a4@0-2           a3@15-19     23.0         a4@0-2>a3@15-19\n",
              "2              a3@15-19              a9@no     21.0          a3@15-19>a9@no\n",
              "3                 a9@no           a3@15-19     21.0          a9@no>a3@15-19\n",
              "4              a3@15-19              a5@no     22.0          a3@15-19>a5@no\n",
              "...                 ...                ...      ...                     ...\n",
              "2269      a6@1, a7@left           class@no     24.0  a6@1, a7@left>class@no\n",
              "2270  class@no, a7@left               a6@1     24.0  class@no, a7@left>a6@1\n",
              "2271               a6@1  class@no, a7@left     24.0  a6@1>class@no, a7@left\n",
              "2272           class@no      a6@1, a7@left     24.0  class@no>a6@1, a7@left\n",
              "2273            a7@left     a6@1, class@no     24.0  a7@left>a6@1, class@no\n",
              "\n",
              "[2274 rows x 4 columns]"
            ]
          },
          "metadata": {
            "tags": []
          },
          "execution_count": 63
        }
      ]
    }
  ]
}