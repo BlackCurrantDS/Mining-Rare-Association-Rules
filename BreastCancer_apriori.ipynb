{
  "nbformat": 4,
  "nbformat_minor": 0,
  "metadata": {
    "colab": {
      "name": "BreastCancer_apriori.ipynb",
      "provenance": [],
      "mount_file_id": "1WsICuBTg14C9DwneLf_q7cUpoWMp_8wH",
      "authorship_tag": "ABX9TyPAcysgWzE01LayxQhcHGh4",
      "include_colab_link": true
    },
    "kernelspec": {
      "name": "python3",
      "display_name": "Python 3"
    }
  },
  "cells": [
    {
      "cell_type": "markdown",
      "metadata": {
        "id": "view-in-github",
        "colab_type": "text"
      },
      "source": [
        "<a href=\"https://colab.research.google.com/github/BlackCurrantDS/DBSE_Project/blob/main/BreastCancer_apriori.ipynb\" target=\"_parent\"><img src=\"https://colab.research.google.com/assets/colab-badge.svg\" alt=\"Open In Colab\"/></a>"
      ]
    },
    {
      "cell_type": "markdown",
      "metadata": {
        "id": "86iMaQxaOxRp"
      },
      "source": [
        "Attribute information: \n",
        "1. Class: no-recurrence-events, recurrence-events\n",
        "2. age: 10-19, 20-29, 30-39, 40-49, 50-59, 60-69, 70-79, 80-89, 90-99.\n",
        "3. menopause: lt40, ge40, premeno.\n",
        "4. tumor-size: 0-4, 5-9, 10-14, 15-19, 20-24, 25-29, 30-34, 35-39, 40-44, 45-49, 50-54, 55-59.\n",
        "5. inv-nodes: 0-2, 3-5, 6-8, 9-11, 12-14, 15-17, 18-20, 21-23, 24-26, 27-29, 30-32, 33-35, 36-39.\n",
        "6. node-caps: yes, no.\n",
        "7. deg-malig: 1, 2, 3.\n",
        "8. breast: left, right.\n",
        "9. breast-quad: left-up, left-low, right-up, right-low, central.\n",
        "10. irradiat: yes, no."
      ]
    },
    {
      "cell_type": "code",
      "metadata": {
        "colab": {
          "base_uri": "https://localhost:8080/"
        },
        "id": "bXHhOJ4ENVN0",
        "outputId": "1a17252b-1b6a-42aa-a42e-e9301fd045f4"
      },
      "source": [
        "import pandas as pd\n",
        "\n",
        "df = pd.read_csv(\n",
        "    'https://archive.ics.uci.edu/ml/machine-learning-databases/breast-cancer/breast-cancer.data', \n",
        "    sep=',', \n",
        "    header=None,\n",
        "    names = ['class'\n",
        "    ,'AGE'\n",
        "    ,'menopause'\n",
        "    ,'tumor-size'\n",
        "    ,'inv-nodes'\n",
        "    ,'node-caps'\n",
        "    ,'deg-malig'\n",
        "    ,'breast'\n",
        "    ,'breast-quad'\n",
        "    ,'irradiat']\n",
        "  \n",
        ")\n",
        "\n",
        "print(df)"
      ],
      "execution_count": 8,
      "outputs": [
        {
          "output_type": "stream",
          "text": [
            "                    class    AGE menopause  ... breast breast-quad irradiat\n",
            "0    no-recurrence-events  30-39   premeno  ...   left    left_low       no\n",
            "1    no-recurrence-events  40-49   premeno  ...  right    right_up       no\n",
            "2    no-recurrence-events  40-49   premeno  ...   left    left_low       no\n",
            "3    no-recurrence-events  60-69      ge40  ...  right     left_up       no\n",
            "4    no-recurrence-events  40-49   premeno  ...  right   right_low       no\n",
            "..                    ...    ...       ...  ...    ...         ...      ...\n",
            "281     recurrence-events  30-39   premeno  ...   left     left_up       no\n",
            "282     recurrence-events  30-39   premeno  ...   left     left_up      yes\n",
            "283     recurrence-events  60-69      ge40  ...  right     left_up       no\n",
            "284     recurrence-events  40-49      ge40  ...   left    left_low       no\n",
            "285     recurrence-events  50-59      ge40  ...   left    left_low       no\n",
            "\n",
            "[286 rows x 10 columns]\n"
          ],
          "name": "stdout"
        }
      ]
    },
    {
      "cell_type": "code",
      "metadata": {
        "id": "Vc26gICvnW7J"
      },
      "source": [
        "df.to_csv(\"/content/drive/MyDrive/DataSets_for_Paper/bcancer_data_original.csv\")"
      ],
      "execution_count": null,
      "outputs": []
    },
    {
      "cell_type": "markdown",
      "metadata": {
        "id": "QEooXfPCuTeR"
      },
      "source": [
        "Run Apriori"
      ]
    },
    {
      "cell_type": "code",
      "metadata": {
        "id": "8NjQp_lM97YS"
      },
      "source": [
        "clus = \"Apriori\"\n",
        "d = '/content/' #specify the folder all the input and output files are"
      ],
      "execution_count": 1,
      "outputs": []
    },
    {
      "cell_type": "code",
      "metadata": {
        "colab": {
          "base_uri": "https://localhost:8080/"
        },
        "id": "r7GqZuEDjx9j",
        "outputId": "8a307900-40ef-40a7-878b-131dc980117f"
      },
      "source": [
        "pip install spmf"
      ],
      "execution_count": 2,
      "outputs": [
        {
          "output_type": "stream",
          "text": [
            "Collecting spmf\n",
            "  Downloading https://files.pythonhosted.org/packages/8c/ff/15ed66193c66c7ea933f8b29c6f46e5dfee90584a0fbb68bd5cb8a151c74/spmf-1.3-py3-none-any.whl\n",
            "Installing collected packages: spmf\n",
            "Successfully installed spmf-1.3\n"
          ],
          "name": "stdout"
        }
      ]
    },
    {
      "cell_type": "code",
      "metadata": {
        "id": "K93Z50XAj1sl"
      },
      "source": [
        "from spmf import Spmf\n",
        "import pathlib"
      ],
      "execution_count": 3,
      "outputs": []
    },
    {
      "cell_type": "code",
      "metadata": {
        "id": "msx0-KjE105a"
      },
      "source": [
        "spmf = Spmf(\"Apriori\", input_filename=\"bcancer_data_to_numbers.csv\",\n",
        "            output_filename=\"output_apriori_bcancer.txt\", arguments=[.01],spmf_bin_location_dir=d )"
      ],
      "execution_count": 5,
      "outputs": []
    },
    {
      "cell_type": "code",
      "metadata": {
        "colab": {
          "base_uri": "https://localhost:8080/"
        },
        "id": "IggfWhIZhY_H",
        "outputId": "2505bbcb-ccc9-4f48-caa2-26e86fedf858"
      },
      "source": [
        "spmf.run()"
      ],
      "execution_count": 6,
      "outputs": [
        {
          "output_type": "stream",
          "text": [
            ">/content/spmf.jar\n",
            "=============  APRIORI - STATS =============\n",
            " Candidates count : 28483\n",
            " The algorithm stopped at size 10\n",
            " Frequent itemsets count : 23922\n",
            " Maximum memory usage : 12.547782897949219 mb\n",
            " Total time ~ 1470 ms\n",
            "===================================================\n",
            "\n"
          ],
          "name": "stdout"
        }
      ]
    },
    {
      "cell_type": "markdown",
      "metadata": {
        "id": "3ecg2KiuZwai"
      },
      "source": [
        "Converting to original"
      ]
    },
    {
      "cell_type": "code",
      "metadata": {
        "id": "DwkplEX_zNzV"
      },
      "source": [
        "#removing sup\n",
        "f = open('/content/output_apriori_bcancer.txt','r')\n",
        "lst = []\n",
        "for line in f:\n",
        "  line  = line.split(\"#\", 1)\n",
        "  \n",
        "  line  = line[0]\n",
        "  lst.append(line)\n",
        "f.close()\n",
        "f = open('/content/output_apriori_bcancer_processed.txt','w')\n",
        "for line in lst:\n",
        "    f.write(line+'\\n')\n",
        "f.close()\n"
      ],
      "execution_count": 10,
      "outputs": []
    },
    {
      "cell_type": "code",
      "metadata": {
        "id": "rqxcV5VUxdr5"
      },
      "source": [
        "originalfile = \"/content/drive/MyDrive/DataSets_for_Paper/bcancer_data_original.csv\""
      ],
      "execution_count": 52,
      "outputs": []
    },
    {
      "cell_type": "code",
      "metadata": {
        "id": "PT3BxA8MZXBS"
      },
      "source": [
        "df = pd.read_csv(originalfile)"
      ],
      "execution_count": 56,
      "outputs": []
    },
    {
      "cell_type": "code",
      "metadata": {
        "id": "n9GC0pxrakqi"
      },
      "source": [
        "#removing index column\n",
        "cols = [0]\n",
        "df.drop(df.columns[cols],axis=1,inplace=True)"
      ],
      "execution_count": 57,
      "outputs": []
    },
    {
      "cell_type": "code",
      "metadata": {
        "id": "4lqHOtICxVQN"
      },
      "source": [
        "for i,n in enumerate(df.columns):\n",
        "  if n=='class':\n",
        "    df[n] = 'class@' + df[n].astype(str)\n",
        "  else:\n",
        "    df[n] = 'A'+str(i)+'@' + df[n].astype(str)"
      ],
      "execution_count": 58,
      "outputs": []
    },
    {
      "cell_type": "code",
      "metadata": {
        "id": "X7U7f0ukxVQO"
      },
      "source": [
        "uni = pd.DataFrame()\n",
        "for col in df:\n",
        "    uni= pd.concat([uni, pd.DataFrame(df[col].unique())], ignore_index=True)"
      ],
      "execution_count": 59,
      "outputs": []
    },
    {
      "cell_type": "code",
      "metadata": {
        "colab": {
          "base_uri": "https://localhost:8080/",
          "height": 1000
        },
        "id": "x-pWuO-q-ojI",
        "outputId": "baeac8ec-a156-4210-b474-466a45d97563"
      },
      "source": [
        "uni"
      ],
      "execution_count": 60,
      "outputs": [
        {
          "output_type": "execute_result",
          "data": {
            "text/html": [
              "<div>\n",
              "<style scoped>\n",
              "    .dataframe tbody tr th:only-of-type {\n",
              "        vertical-align: middle;\n",
              "    }\n",
              "\n",
              "    .dataframe tbody tr th {\n",
              "        vertical-align: top;\n",
              "    }\n",
              "\n",
              "    .dataframe thead th {\n",
              "        text-align: right;\n",
              "    }\n",
              "</style>\n",
              "<table border=\"1\" class=\"dataframe\">\n",
              "  <thead>\n",
              "    <tr style=\"text-align: right;\">\n",
              "      <th></th>\n",
              "      <th>0</th>\n",
              "    </tr>\n",
              "  </thead>\n",
              "  <tbody>\n",
              "    <tr>\n",
              "      <th>0</th>\n",
              "      <td>class@no-recurrence-events</td>\n",
              "    </tr>\n",
              "    <tr>\n",
              "      <th>1</th>\n",
              "      <td>class@recurrence-events</td>\n",
              "    </tr>\n",
              "    <tr>\n",
              "      <th>2</th>\n",
              "      <td>A1@30-39</td>\n",
              "    </tr>\n",
              "    <tr>\n",
              "      <th>3</th>\n",
              "      <td>A1@40-49</td>\n",
              "    </tr>\n",
              "    <tr>\n",
              "      <th>4</th>\n",
              "      <td>A1@60-69</td>\n",
              "    </tr>\n",
              "    <tr>\n",
              "      <th>5</th>\n",
              "      <td>A1@50-59</td>\n",
              "    </tr>\n",
              "    <tr>\n",
              "      <th>6</th>\n",
              "      <td>A1@70-79</td>\n",
              "    </tr>\n",
              "    <tr>\n",
              "      <th>7</th>\n",
              "      <td>A1@20-29</td>\n",
              "    </tr>\n",
              "    <tr>\n",
              "      <th>8</th>\n",
              "      <td>A2@premeno</td>\n",
              "    </tr>\n",
              "    <tr>\n",
              "      <th>9</th>\n",
              "      <td>A2@ge40</td>\n",
              "    </tr>\n",
              "    <tr>\n",
              "      <th>10</th>\n",
              "      <td>A2@lt40</td>\n",
              "    </tr>\n",
              "    <tr>\n",
              "      <th>11</th>\n",
              "      <td>A3@30-34</td>\n",
              "    </tr>\n",
              "    <tr>\n",
              "      <th>12</th>\n",
              "      <td>A3@20-24</td>\n",
              "    </tr>\n",
              "    <tr>\n",
              "      <th>13</th>\n",
              "      <td>A3@15-19</td>\n",
              "    </tr>\n",
              "    <tr>\n",
              "      <th>14</th>\n",
              "      <td>A3@0-4</td>\n",
              "    </tr>\n",
              "    <tr>\n",
              "      <th>15</th>\n",
              "      <td>A3@25-29</td>\n",
              "    </tr>\n",
              "    <tr>\n",
              "      <th>16</th>\n",
              "      <td>A3@50-54</td>\n",
              "    </tr>\n",
              "    <tr>\n",
              "      <th>17</th>\n",
              "      <td>A3@10-14</td>\n",
              "    </tr>\n",
              "    <tr>\n",
              "      <th>18</th>\n",
              "      <td>A3@40-44</td>\n",
              "    </tr>\n",
              "    <tr>\n",
              "      <th>19</th>\n",
              "      <td>A3@35-39</td>\n",
              "    </tr>\n",
              "    <tr>\n",
              "      <th>20</th>\n",
              "      <td>A3@5-9</td>\n",
              "    </tr>\n",
              "    <tr>\n",
              "      <th>21</th>\n",
              "      <td>A3@45-49</td>\n",
              "    </tr>\n",
              "    <tr>\n",
              "      <th>22</th>\n",
              "      <td>A4@0-2</td>\n",
              "    </tr>\n",
              "    <tr>\n",
              "      <th>23</th>\n",
              "      <td>A4@6-8</td>\n",
              "    </tr>\n",
              "    <tr>\n",
              "      <th>24</th>\n",
              "      <td>A4@9-11</td>\n",
              "    </tr>\n",
              "    <tr>\n",
              "      <th>25</th>\n",
              "      <td>A4@3-5</td>\n",
              "    </tr>\n",
              "    <tr>\n",
              "      <th>26</th>\n",
              "      <td>A4@15-17</td>\n",
              "    </tr>\n",
              "    <tr>\n",
              "      <th>27</th>\n",
              "      <td>A4@12-14</td>\n",
              "    </tr>\n",
              "    <tr>\n",
              "      <th>28</th>\n",
              "      <td>A4@24-26</td>\n",
              "    </tr>\n",
              "    <tr>\n",
              "      <th>29</th>\n",
              "      <td>A5@no</td>\n",
              "    </tr>\n",
              "    <tr>\n",
              "      <th>30</th>\n",
              "      <td>A5@yes</td>\n",
              "    </tr>\n",
              "    <tr>\n",
              "      <th>31</th>\n",
              "      <td>A5@?</td>\n",
              "    </tr>\n",
              "    <tr>\n",
              "      <th>32</th>\n",
              "      <td>A6@3</td>\n",
              "    </tr>\n",
              "    <tr>\n",
              "      <th>33</th>\n",
              "      <td>A6@2</td>\n",
              "    </tr>\n",
              "    <tr>\n",
              "      <th>34</th>\n",
              "      <td>A6@1</td>\n",
              "    </tr>\n",
              "    <tr>\n",
              "      <th>35</th>\n",
              "      <td>A7@left</td>\n",
              "    </tr>\n",
              "    <tr>\n",
              "      <th>36</th>\n",
              "      <td>A7@right</td>\n",
              "    </tr>\n",
              "    <tr>\n",
              "      <th>37</th>\n",
              "      <td>A8@left_low</td>\n",
              "    </tr>\n",
              "    <tr>\n",
              "      <th>38</th>\n",
              "      <td>A8@right_up</td>\n",
              "    </tr>\n",
              "    <tr>\n",
              "      <th>39</th>\n",
              "      <td>A8@left_up</td>\n",
              "    </tr>\n",
              "    <tr>\n",
              "      <th>40</th>\n",
              "      <td>A8@right_low</td>\n",
              "    </tr>\n",
              "    <tr>\n",
              "      <th>41</th>\n",
              "      <td>A8@central</td>\n",
              "    </tr>\n",
              "    <tr>\n",
              "      <th>42</th>\n",
              "      <td>A8@?</td>\n",
              "    </tr>\n",
              "    <tr>\n",
              "      <th>43</th>\n",
              "      <td>A9@no</td>\n",
              "    </tr>\n",
              "    <tr>\n",
              "      <th>44</th>\n",
              "      <td>A9@yes</td>\n",
              "    </tr>\n",
              "  </tbody>\n",
              "</table>\n",
              "</div>"
            ],
            "text/plain": [
              "                             0\n",
              "0   class@no-recurrence-events\n",
              "1      class@recurrence-events\n",
              "2                     A1@30-39\n",
              "3                     A1@40-49\n",
              "4                     A1@60-69\n",
              "5                     A1@50-59\n",
              "6                     A1@70-79\n",
              "7                     A1@20-29\n",
              "8                   A2@premeno\n",
              "9                      A2@ge40\n",
              "10                     A2@lt40\n",
              "11                    A3@30-34\n",
              "12                    A3@20-24\n",
              "13                    A3@15-19\n",
              "14                      A3@0-4\n",
              "15                    A3@25-29\n",
              "16                    A3@50-54\n",
              "17                    A3@10-14\n",
              "18                    A3@40-44\n",
              "19                    A3@35-39\n",
              "20                      A3@5-9\n",
              "21                    A3@45-49\n",
              "22                      A4@0-2\n",
              "23                      A4@6-8\n",
              "24                     A4@9-11\n",
              "25                      A4@3-5\n",
              "26                    A4@15-17\n",
              "27                    A4@12-14\n",
              "28                    A4@24-26\n",
              "29                       A5@no\n",
              "30                      A5@yes\n",
              "31                        A5@?\n",
              "32                        A6@3\n",
              "33                        A6@2\n",
              "34                        A6@1\n",
              "35                     A7@left\n",
              "36                    A7@right\n",
              "37                 A8@left_low\n",
              "38                 A8@right_up\n",
              "39                  A8@left_up\n",
              "40                A8@right_low\n",
              "41                  A8@central\n",
              "42                        A8@?\n",
              "43                       A9@no\n",
              "44                      A9@yes"
            ]
          },
          "metadata": {
            "tags": []
          },
          "execution_count": 60
        }
      ]
    },
    {
      "cell_type": "code",
      "metadata": {
        "id": "LLZQCYvDxVQP"
      },
      "source": [
        "my_dict = uni.to_dict()"
      ],
      "execution_count": 61,
      "outputs": []
    },
    {
      "cell_type": "code",
      "metadata": {
        "id": "M79NiVuZxVQQ"
      },
      "source": [
        "my_dict = my_dict[0]"
      ],
      "execution_count": 62,
      "outputs": []
    },
    {
      "cell_type": "code",
      "metadata": {
        "colab": {
          "base_uri": "https://localhost:8080/"
        },
        "id": "t9bPjot69fsI",
        "outputId": "e52c761a-d327-4fd7-aef6-387f12c14ff5"
      },
      "source": [
        "my_dict"
      ],
      "execution_count": 63,
      "outputs": [
        {
          "output_type": "execute_result",
          "data": {
            "text/plain": [
              "{0: 'class@no-recurrence-events',\n",
              " 1: 'class@recurrence-events',\n",
              " 2: 'A1@30-39',\n",
              " 3: 'A1@40-49',\n",
              " 4: 'A1@60-69',\n",
              " 5: 'A1@50-59',\n",
              " 6: 'A1@70-79',\n",
              " 7: 'A1@20-29',\n",
              " 8: 'A2@premeno',\n",
              " 9: 'A2@ge40',\n",
              " 10: 'A2@lt40',\n",
              " 11: 'A3@30-34',\n",
              " 12: 'A3@20-24',\n",
              " 13: 'A3@15-19',\n",
              " 14: 'A3@0-4',\n",
              " 15: 'A3@25-29',\n",
              " 16: 'A3@50-54',\n",
              " 17: 'A3@10-14',\n",
              " 18: 'A3@40-44',\n",
              " 19: 'A3@35-39',\n",
              " 20: 'A3@5-9',\n",
              " 21: 'A3@45-49',\n",
              " 22: 'A4@0-2',\n",
              " 23: 'A4@6-8',\n",
              " 24: 'A4@9-11',\n",
              " 25: 'A4@3-5',\n",
              " 26: 'A4@15-17',\n",
              " 27: 'A4@12-14',\n",
              " 28: 'A4@24-26',\n",
              " 29: 'A5@no',\n",
              " 30: 'A5@yes',\n",
              " 31: 'A5@?',\n",
              " 32: 'A6@3',\n",
              " 33: 'A6@2',\n",
              " 34: 'A6@1',\n",
              " 35: 'A7@left',\n",
              " 36: 'A7@right',\n",
              " 37: 'A8@left_low',\n",
              " 38: 'A8@right_up',\n",
              " 39: 'A8@left_up',\n",
              " 40: 'A8@right_low',\n",
              " 41: 'A8@central',\n",
              " 42: 'A8@?',\n",
              " 43: 'A9@no',\n",
              " 44: 'A9@yes'}"
            ]
          },
          "metadata": {
            "tags": []
          },
          "execution_count": 63
        }
      ]
    },
    {
      "cell_type": "code",
      "metadata": {
        "id": "sU2hXlIJcndy"
      },
      "source": [
        "rp_growth_process = pd.read_csv(\"/content/output_apriori_bcancer_processed.txt\", header=None, names=[\"itemsets\"],index_col=False)"
      ],
      "execution_count": 64,
      "outputs": []
    },
    {
      "cell_type": "code",
      "metadata": {
        "id": "zTc8mRqGuWbs"
      },
      "source": [
        "temp_df = pd.concat([rp_growth_process[['itemsets']], rp_growth_process['itemsets'].str.split(' ', expand=True)], axis=1\n",
        "                  )"
      ],
      "execution_count": 65,
      "outputs": []
    },
    {
      "cell_type": "code",
      "metadata": {
        "id": "o2dS-3TCu8aM"
      },
      "source": [
        "temp_df = temp_df.loc[temp_df.iloc[:,1].isin(['1','0'])]"
      ],
      "execution_count": 66,
      "outputs": []
    },
    {
      "cell_type": "code",
      "metadata": {
        "id": "swpz0BF6xK80"
      },
      "source": [
        "temp_df=temp_df.drop('itemsets', axis=1)"
      ],
      "execution_count": 67,
      "outputs": []
    },
    {
      "cell_type": "code",
      "metadata": {
        "colab": {
          "base_uri": "https://localhost:8080/",
          "height": 402
        },
        "id": "3ZK1AirsbFWa",
        "outputId": "afa72f46-90f1-4cd0-b72d-4c79b0ba7596"
      },
      "source": [
        "temp_df"
      ],
      "execution_count": 68,
      "outputs": [
        {
          "output_type": "execute_result",
          "data": {
            "text/html": [
              "<div>\n",
              "<style scoped>\n",
              "    .dataframe tbody tr th:only-of-type {\n",
              "        vertical-align: middle;\n",
              "    }\n",
              "\n",
              "    .dataframe tbody tr th {\n",
              "        vertical-align: top;\n",
              "    }\n",
              "\n",
              "    .dataframe thead th {\n",
              "        text-align: right;\n",
              "    }\n",
              "</style>\n",
              "<table border=\"1\" class=\"dataframe\">\n",
              "  <thead>\n",
              "    <tr style=\"text-align: right;\">\n",
              "      <th></th>\n",
              "      <th>0</th>\n",
              "      <th>1</th>\n",
              "      <th>2</th>\n",
              "      <th>3</th>\n",
              "      <th>4</th>\n",
              "      <th>5</th>\n",
              "      <th>6</th>\n",
              "      <th>7</th>\n",
              "      <th>8</th>\n",
              "      <th>9</th>\n",
              "      <th>10</th>\n",
              "    </tr>\n",
              "  </thead>\n",
              "  <tbody>\n",
              "    <tr>\n",
              "      <th>0</th>\n",
              "      <td>0</td>\n",
              "      <td></td>\n",
              "      <td>None</td>\n",
              "      <td>None</td>\n",
              "      <td>None</td>\n",
              "      <td>None</td>\n",
              "      <td>None</td>\n",
              "      <td>None</td>\n",
              "      <td>None</td>\n",
              "      <td>None</td>\n",
              "      <td>None</td>\n",
              "    </tr>\n",
              "    <tr>\n",
              "      <th>1</th>\n",
              "      <td>1</td>\n",
              "      <td></td>\n",
              "      <td>None</td>\n",
              "      <td>None</td>\n",
              "      <td>None</td>\n",
              "      <td>None</td>\n",
              "      <td>None</td>\n",
              "      <td>None</td>\n",
              "      <td>None</td>\n",
              "      <td>None</td>\n",
              "      <td>None</td>\n",
              "    </tr>\n",
              "    <tr>\n",
              "      <th>42</th>\n",
              "      <td>0</td>\n",
              "      <td>2</td>\n",
              "      <td></td>\n",
              "      <td></td>\n",
              "      <td>None</td>\n",
              "      <td>None</td>\n",
              "      <td>None</td>\n",
              "      <td>None</td>\n",
              "      <td>None</td>\n",
              "      <td>None</td>\n",
              "      <td>None</td>\n",
              "    </tr>\n",
              "    <tr>\n",
              "      <th>43</th>\n",
              "      <td>0</td>\n",
              "      <td>3</td>\n",
              "      <td></td>\n",
              "      <td></td>\n",
              "      <td>None</td>\n",
              "      <td>None</td>\n",
              "      <td>None</td>\n",
              "      <td>None</td>\n",
              "      <td>None</td>\n",
              "      <td>None</td>\n",
              "      <td>None</td>\n",
              "    </tr>\n",
              "    <tr>\n",
              "      <th>44</th>\n",
              "      <td>0</td>\n",
              "      <td>4</td>\n",
              "      <td></td>\n",
              "      <td></td>\n",
              "      <td>None</td>\n",
              "      <td>None</td>\n",
              "      <td>None</td>\n",
              "      <td>None</td>\n",
              "      <td>None</td>\n",
              "      <td>None</td>\n",
              "      <td>None</td>\n",
              "    </tr>\n",
              "    <tr>\n",
              "      <th>...</th>\n",
              "      <td>...</td>\n",
              "      <td>...</td>\n",
              "      <td>...</td>\n",
              "      <td>...</td>\n",
              "      <td>...</td>\n",
              "      <td>...</td>\n",
              "      <td>...</td>\n",
              "      <td>...</td>\n",
              "      <td>...</td>\n",
              "      <td>...</td>\n",
              "      <td>...</td>\n",
              "    </tr>\n",
              "    <tr>\n",
              "      <th>23916</th>\n",
              "      <td>0</td>\n",
              "      <td>8</td>\n",
              "      <td>13</td>\n",
              "      <td>22</td>\n",
              "      <td>29</td>\n",
              "      <td>34</td>\n",
              "      <td>35</td>\n",
              "      <td>37</td>\n",
              "      <td>43</td>\n",
              "      <td></td>\n",
              "      <td></td>\n",
              "    </tr>\n",
              "    <tr>\n",
              "      <th>23917</th>\n",
              "      <td>0</td>\n",
              "      <td>8</td>\n",
              "      <td>15</td>\n",
              "      <td>22</td>\n",
              "      <td>29</td>\n",
              "      <td>33</td>\n",
              "      <td>35</td>\n",
              "      <td>37</td>\n",
              "      <td>43</td>\n",
              "      <td></td>\n",
              "      <td></td>\n",
              "    </tr>\n",
              "    <tr>\n",
              "      <th>23918</th>\n",
              "      <td>0</td>\n",
              "      <td>9</td>\n",
              "      <td>12</td>\n",
              "      <td>22</td>\n",
              "      <td>29</td>\n",
              "      <td>32</td>\n",
              "      <td>35</td>\n",
              "      <td>39</td>\n",
              "      <td>43</td>\n",
              "      <td></td>\n",
              "      <td></td>\n",
              "    </tr>\n",
              "    <tr>\n",
              "      <th>23919</th>\n",
              "      <td>0</td>\n",
              "      <td>9</td>\n",
              "      <td>15</td>\n",
              "      <td>22</td>\n",
              "      <td>29</td>\n",
              "      <td>33</td>\n",
              "      <td>35</td>\n",
              "      <td>37</td>\n",
              "      <td>43</td>\n",
              "      <td></td>\n",
              "      <td></td>\n",
              "    </tr>\n",
              "    <tr>\n",
              "      <th>23920</th>\n",
              "      <td>0</td>\n",
              "      <td>9</td>\n",
              "      <td>17</td>\n",
              "      <td>22</td>\n",
              "      <td>29</td>\n",
              "      <td>34</td>\n",
              "      <td>35</td>\n",
              "      <td>39</td>\n",
              "      <td>43</td>\n",
              "      <td></td>\n",
              "      <td></td>\n",
              "    </tr>\n",
              "  </tbody>\n",
              "</table>\n",
              "<p>11677 rows × 11 columns</p>\n",
              "</div>"
            ],
            "text/plain": [
              "      0  1     2     3     4     5     6     7     8     9     10\n",
              "0      0     None  None  None  None  None  None  None  None  None\n",
              "1      1     None  None  None  None  None  None  None  None  None\n",
              "42     0  2              None  None  None  None  None  None  None\n",
              "43     0  3              None  None  None  None  None  None  None\n",
              "44     0  4              None  None  None  None  None  None  None\n",
              "...   .. ..   ...   ...   ...   ...   ...   ...   ...   ...   ...\n",
              "23916  0  8    13    22    29    34    35    37    43            \n",
              "23917  0  8    15    22    29    33    35    37    43            \n",
              "23918  0  9    12    22    29    32    35    39    43            \n",
              "23919  0  9    15    22    29    33    35    37    43            \n",
              "23920  0  9    17    22    29    34    35    39    43            \n",
              "\n",
              "[11677 rows x 11 columns]"
            ]
          },
          "metadata": {
            "tags": []
          },
          "execution_count": 68
        }
      ]
    },
    {
      "cell_type": "code",
      "metadata": {
        "id": "pDDX3yNg5GcS"
      },
      "source": [
        "temp_df.columns = ['a', 'b', 'c', 'd', 'e', 'f','g', 'h', 'i', 'j', 'k']"
      ],
      "execution_count": 69,
      "outputs": []
    },
    {
      "cell_type": "code",
      "metadata": {
        "id": "dqcgT4nbHwJB"
      },
      "source": [
        "#concat @ to tempdf\n",
        "for i,n in enumerate(temp_df.columns):\n",
        "  \n",
        "    temp_df[n] = '@' + temp_df[n].astype(str)\n"
      ],
      "execution_count": 70,
      "outputs": []
    },
    {
      "cell_type": "code",
      "metadata": {
        "colab": {
          "base_uri": "https://localhost:8080/"
        },
        "id": "dDzplAZrHejM",
        "outputId": "89efa96e-721b-4cfe-b3a7-84ac5803ca0a"
      },
      "source": [
        "temp_df['a'].value_counts()"
      ],
      "execution_count": 71,
      "outputs": [
        {
          "output_type": "execute_result",
          "data": {
            "text/plain": [
              "@0    8514\n",
              "@1    3163\n",
              "Name: a, dtype: int64"
            ]
          },
          "metadata": {
            "tags": []
          },
          "execution_count": 71
        }
      ]
    },
    {
      "cell_type": "code",
      "metadata": {
        "colab": {
          "base_uri": "https://localhost:8080/"
        },
        "id": "2LSfks2hAjp4",
        "outputId": "ae617564-5389-4773-f8b8-d0ce42d5e81e"
      },
      "source": [
        "maj =  8514\n",
        "min  = 3163\n",
        "total = maj+min\n",
        "min_per = min/total\n",
        "maj_per = maj/total\n",
        "print(maj_per, min_per)"
      ],
      "execution_count": 87,
      "outputs": [
        {
          "output_type": "stream",
          "text": [
            "0.7291256315834547 0.27087436841654533\n"
          ],
          "name": "stdout"
        }
      ]
    },
    {
      "cell_type": "code",
      "metadata": {
        "id": "009475WRIJUb"
      },
      "source": [
        "di = {f'@{k}': v for k, v in my_dict.items()}"
      ],
      "execution_count": 72,
      "outputs": []
    },
    {
      "cell_type": "code",
      "metadata": {
        "id": "12XdJA1oXjKL",
        "colab": {
          "base_uri": "https://localhost:8080/"
        },
        "outputId": "e998ba2f-4a5d-40ee-c6c6-831462f9ca03"
      },
      "source": [
        "di"
      ],
      "execution_count": 73,
      "outputs": [
        {
          "output_type": "execute_result",
          "data": {
            "text/plain": [
              "{'@0': 'class@no-recurrence-events',\n",
              " '@1': 'class@recurrence-events',\n",
              " '@10': 'A2@lt40',\n",
              " '@11': 'A3@30-34',\n",
              " '@12': 'A3@20-24',\n",
              " '@13': 'A3@15-19',\n",
              " '@14': 'A3@0-4',\n",
              " '@15': 'A3@25-29',\n",
              " '@16': 'A3@50-54',\n",
              " '@17': 'A3@10-14',\n",
              " '@18': 'A3@40-44',\n",
              " '@19': 'A3@35-39',\n",
              " '@2': 'A1@30-39',\n",
              " '@20': 'A3@5-9',\n",
              " '@21': 'A3@45-49',\n",
              " '@22': 'A4@0-2',\n",
              " '@23': 'A4@6-8',\n",
              " '@24': 'A4@9-11',\n",
              " '@25': 'A4@3-5',\n",
              " '@26': 'A4@15-17',\n",
              " '@27': 'A4@12-14',\n",
              " '@28': 'A4@24-26',\n",
              " '@29': 'A5@no',\n",
              " '@3': 'A1@40-49',\n",
              " '@30': 'A5@yes',\n",
              " '@31': 'A5@?',\n",
              " '@32': 'A6@3',\n",
              " '@33': 'A6@2',\n",
              " '@34': 'A6@1',\n",
              " '@35': 'A7@left',\n",
              " '@36': 'A7@right',\n",
              " '@37': 'A8@left_low',\n",
              " '@38': 'A8@right_up',\n",
              " '@39': 'A8@left_up',\n",
              " '@4': 'A1@60-69',\n",
              " '@40': 'A8@right_low',\n",
              " '@41': 'A8@central',\n",
              " '@42': 'A8@?',\n",
              " '@43': 'A9@no',\n",
              " '@44': 'A9@yes',\n",
              " '@5': 'A1@50-59',\n",
              " '@6': 'A1@70-79',\n",
              " '@7': 'A1@20-29',\n",
              " '@8': 'A2@premeno',\n",
              " '@9': 'A2@ge40'}"
            ]
          },
          "metadata": {
            "tags": []
          },
          "execution_count": 73
        }
      ]
    },
    {
      "cell_type": "code",
      "metadata": {
        "id": "s9vogN_KXPD0",
        "colab": {
          "base_uri": "https://localhost:8080/",
          "height": 402
        },
        "outputId": "1b502bb3-185f-4fab-a70f-0146b7c895d8"
      },
      "source": [
        "temp_df"
      ],
      "execution_count": 74,
      "outputs": [
        {
          "output_type": "execute_result",
          "data": {
            "text/html": [
              "<div>\n",
              "<style scoped>\n",
              "    .dataframe tbody tr th:only-of-type {\n",
              "        vertical-align: middle;\n",
              "    }\n",
              "\n",
              "    .dataframe tbody tr th {\n",
              "        vertical-align: top;\n",
              "    }\n",
              "\n",
              "    .dataframe thead th {\n",
              "        text-align: right;\n",
              "    }\n",
              "</style>\n",
              "<table border=\"1\" class=\"dataframe\">\n",
              "  <thead>\n",
              "    <tr style=\"text-align: right;\">\n",
              "      <th></th>\n",
              "      <th>a</th>\n",
              "      <th>b</th>\n",
              "      <th>c</th>\n",
              "      <th>d</th>\n",
              "      <th>e</th>\n",
              "      <th>f</th>\n",
              "      <th>g</th>\n",
              "      <th>h</th>\n",
              "      <th>i</th>\n",
              "      <th>j</th>\n",
              "      <th>k</th>\n",
              "    </tr>\n",
              "  </thead>\n",
              "  <tbody>\n",
              "    <tr>\n",
              "      <th>0</th>\n",
              "      <td>@0</td>\n",
              "      <td>@</td>\n",
              "      <td>@None</td>\n",
              "      <td>@None</td>\n",
              "      <td>@None</td>\n",
              "      <td>@None</td>\n",
              "      <td>@None</td>\n",
              "      <td>@None</td>\n",
              "      <td>@None</td>\n",
              "      <td>@None</td>\n",
              "      <td>@None</td>\n",
              "    </tr>\n",
              "    <tr>\n",
              "      <th>1</th>\n",
              "      <td>@1</td>\n",
              "      <td>@</td>\n",
              "      <td>@None</td>\n",
              "      <td>@None</td>\n",
              "      <td>@None</td>\n",
              "      <td>@None</td>\n",
              "      <td>@None</td>\n",
              "      <td>@None</td>\n",
              "      <td>@None</td>\n",
              "      <td>@None</td>\n",
              "      <td>@None</td>\n",
              "    </tr>\n",
              "    <tr>\n",
              "      <th>42</th>\n",
              "      <td>@0</td>\n",
              "      <td>@2</td>\n",
              "      <td>@</td>\n",
              "      <td>@</td>\n",
              "      <td>@None</td>\n",
              "      <td>@None</td>\n",
              "      <td>@None</td>\n",
              "      <td>@None</td>\n",
              "      <td>@None</td>\n",
              "      <td>@None</td>\n",
              "      <td>@None</td>\n",
              "    </tr>\n",
              "    <tr>\n",
              "      <th>43</th>\n",
              "      <td>@0</td>\n",
              "      <td>@3</td>\n",
              "      <td>@</td>\n",
              "      <td>@</td>\n",
              "      <td>@None</td>\n",
              "      <td>@None</td>\n",
              "      <td>@None</td>\n",
              "      <td>@None</td>\n",
              "      <td>@None</td>\n",
              "      <td>@None</td>\n",
              "      <td>@None</td>\n",
              "    </tr>\n",
              "    <tr>\n",
              "      <th>44</th>\n",
              "      <td>@0</td>\n",
              "      <td>@4</td>\n",
              "      <td>@</td>\n",
              "      <td>@</td>\n",
              "      <td>@None</td>\n",
              "      <td>@None</td>\n",
              "      <td>@None</td>\n",
              "      <td>@None</td>\n",
              "      <td>@None</td>\n",
              "      <td>@None</td>\n",
              "      <td>@None</td>\n",
              "    </tr>\n",
              "    <tr>\n",
              "      <th>...</th>\n",
              "      <td>...</td>\n",
              "      <td>...</td>\n",
              "      <td>...</td>\n",
              "      <td>...</td>\n",
              "      <td>...</td>\n",
              "      <td>...</td>\n",
              "      <td>...</td>\n",
              "      <td>...</td>\n",
              "      <td>...</td>\n",
              "      <td>...</td>\n",
              "      <td>...</td>\n",
              "    </tr>\n",
              "    <tr>\n",
              "      <th>23916</th>\n",
              "      <td>@0</td>\n",
              "      <td>@8</td>\n",
              "      <td>@13</td>\n",
              "      <td>@22</td>\n",
              "      <td>@29</td>\n",
              "      <td>@34</td>\n",
              "      <td>@35</td>\n",
              "      <td>@37</td>\n",
              "      <td>@43</td>\n",
              "      <td>@</td>\n",
              "      <td>@</td>\n",
              "    </tr>\n",
              "    <tr>\n",
              "      <th>23917</th>\n",
              "      <td>@0</td>\n",
              "      <td>@8</td>\n",
              "      <td>@15</td>\n",
              "      <td>@22</td>\n",
              "      <td>@29</td>\n",
              "      <td>@33</td>\n",
              "      <td>@35</td>\n",
              "      <td>@37</td>\n",
              "      <td>@43</td>\n",
              "      <td>@</td>\n",
              "      <td>@</td>\n",
              "    </tr>\n",
              "    <tr>\n",
              "      <th>23918</th>\n",
              "      <td>@0</td>\n",
              "      <td>@9</td>\n",
              "      <td>@12</td>\n",
              "      <td>@22</td>\n",
              "      <td>@29</td>\n",
              "      <td>@32</td>\n",
              "      <td>@35</td>\n",
              "      <td>@39</td>\n",
              "      <td>@43</td>\n",
              "      <td>@</td>\n",
              "      <td>@</td>\n",
              "    </tr>\n",
              "    <tr>\n",
              "      <th>23919</th>\n",
              "      <td>@0</td>\n",
              "      <td>@9</td>\n",
              "      <td>@15</td>\n",
              "      <td>@22</td>\n",
              "      <td>@29</td>\n",
              "      <td>@33</td>\n",
              "      <td>@35</td>\n",
              "      <td>@37</td>\n",
              "      <td>@43</td>\n",
              "      <td>@</td>\n",
              "      <td>@</td>\n",
              "    </tr>\n",
              "    <tr>\n",
              "      <th>23920</th>\n",
              "      <td>@0</td>\n",
              "      <td>@9</td>\n",
              "      <td>@17</td>\n",
              "      <td>@22</td>\n",
              "      <td>@29</td>\n",
              "      <td>@34</td>\n",
              "      <td>@35</td>\n",
              "      <td>@39</td>\n",
              "      <td>@43</td>\n",
              "      <td>@</td>\n",
              "      <td>@</td>\n",
              "    </tr>\n",
              "  </tbody>\n",
              "</table>\n",
              "<p>11677 rows × 11 columns</p>\n",
              "</div>"
            ],
            "text/plain": [
              "        a   b      c      d      e      f      g      h      i      j      k\n",
              "0      @0   @  @None  @None  @None  @None  @None  @None  @None  @None  @None\n",
              "1      @1   @  @None  @None  @None  @None  @None  @None  @None  @None  @None\n",
              "42     @0  @2      @      @  @None  @None  @None  @None  @None  @None  @None\n",
              "43     @0  @3      @      @  @None  @None  @None  @None  @None  @None  @None\n",
              "44     @0  @4      @      @  @None  @None  @None  @None  @None  @None  @None\n",
              "...    ..  ..    ...    ...    ...    ...    ...    ...    ...    ...    ...\n",
              "23916  @0  @8    @13    @22    @29    @34    @35    @37    @43      @      @\n",
              "23917  @0  @8    @15    @22    @29    @33    @35    @37    @43      @      @\n",
              "23918  @0  @9    @12    @22    @29    @32    @35    @39    @43      @      @\n",
              "23919  @0  @9    @15    @22    @29    @33    @35    @37    @43      @      @\n",
              "23920  @0  @9    @17    @22    @29    @34    @35    @39    @43      @      @\n",
              "\n",
              "[11677 rows x 11 columns]"
            ]
          },
          "metadata": {
            "tags": []
          },
          "execution_count": 74
        }
      ]
    },
    {
      "cell_type": "code",
      "metadata": {
        "id": "_UdcpLIQKTtc"
      },
      "source": [
        "for col in temp_df:\n",
        "    temp_df[col] = temp_df[col].replace(di)"
      ],
      "execution_count": 75,
      "outputs": []
    },
    {
      "cell_type": "code",
      "metadata": {
        "id": "v7i61Y-DLMXF"
      },
      "source": [
        "temp_df['rules'] = temp_df['b']+','+temp_df['c']+','+temp_df['d']+','+temp_df['e']+','+temp_df['f']+','+temp_df['g']\n",
        "#+\">class@\"+temp_df['a']"
      ],
      "execution_count": 76,
      "outputs": []
    },
    {
      "cell_type": "code",
      "metadata": {
        "id": "viwGfUsdN7QC"
      },
      "source": [
        "temp_df['pos'] = temp_df['rules'].str.find('@None')\n",
        "temp_df['rules'] = temp_df.apply(lambda x: x['rules'][0:x['pos']],axis=1)\n",
        "temp_df['rules'] = temp_df['rules']+\">\"+temp_df['a']\n",
        "temp_df['rules'] = temp_df['rules'].str.replace(',@,','')"
      ],
      "execution_count": 77,
      "outputs": []
    },
    {
      "cell_type": "code",
      "metadata": {
        "colab": {
          "base_uri": "https://localhost:8080/"
        },
        "id": "jBdHlgGLKv5A",
        "outputId": "2ddd0ba5-dfa7-4621-9185-7fe1adeeb98b"
      },
      "source": [
        "temp_df['rules']"
      ],
      "execution_count": 79,
      "outputs": [
        {
          "output_type": "execute_result",
          "data": {
            "text/plain": [
              "0                            @,>class@no-recurrence-events\n",
              "1                               @,>class@recurrence-events\n",
              "42                   A1@30-39@,>class@no-recurrence-events\n",
              "43                   A1@40-49@,>class@no-recurrence-events\n",
              "44                   A1@60-69@,>class@no-recurrence-events\n",
              "                               ...                        \n",
              "23916    A2@premeno,A3@15-19,A4@0-2,A5@no,A6@1,A7@lef>c...\n",
              "23917    A2@premeno,A3@25-29,A4@0-2,A5@no,A6@2,A7@lef>c...\n",
              "23918    A2@ge40,A3@20-24,A4@0-2,A5@no,A6@3,A7@lef>clas...\n",
              "23919    A2@ge40,A3@25-29,A4@0-2,A5@no,A6@2,A7@lef>clas...\n",
              "23920    A2@ge40,A3@10-14,A4@0-2,A5@no,A6@1,A7@lef>clas...\n",
              "Name: rules, Length: 11677, dtype: object"
            ]
          },
          "metadata": {
            "tags": []
          },
          "execution_count": 79
        }
      ]
    },
    {
      "cell_type": "code",
      "metadata": {
        "id": "WaO3g5_P1L4w"
      },
      "source": [
        "temp_df['rules'].to_csv(\"/content/bcancer_apriori_rules.csv\", header=None, index=False)"
      ],
      "execution_count": 80,
      "outputs": []
    },
    {
      "cell_type": "markdown",
      "metadata": {
        "id": "JujedHo-0nYJ"
      },
      "source": [
        "Mapping to back to original"
      ]
    },
    {
      "cell_type": "code",
      "metadata": {
        "id": "JX-6-576mqwH"
      },
      "source": [
        "mapping = {\n",
        "    \n",
        " 'A0':'class'\n",
        "    ,'A1':'AGE'\n",
        "    ,'A2':'menopause'\n",
        "    ,'A3':'tumor-size'\n",
        "    ,'A4':'inv-nodes'\n",
        "    ,'A5':'node-caps'\n",
        "    ,'A6':'deg-malig'\n",
        "    ,'A7':'breast'\n",
        "    ,'A8':'breast-quad'\n",
        "    ,'A9':'irradiat'\n",
        "   \n",
        "           \n",
        "           }"
      ],
      "execution_count": null,
      "outputs": []
    },
    {
      "cell_type": "code",
      "metadata": {
        "colab": {
          "base_uri": "https://localhost:8080/"
        },
        "id": "0hPkLFFKpNeD",
        "outputId": "8c548f4e-9738-44b2-f09a-c6c8ddfde564"
      },
      "source": [
        "import fileinput\n",
        "\n",
        "text = \"/content/bcancer_rpgrwoth_rules.csv\"\n",
        "fields = mapping\n",
        "\n",
        "lst = []\n",
        "for line in fileinput.input(text):\n",
        "    for field in fields:\n",
        "        if field in line:\n",
        "            line = line.replace(field, fields[field])\n",
        "    lst.append(line)\n",
        "\n",
        "print(lst)"
      ],
      "execution_count": null,
      "outputs": [
        {
          "output_type": "stream",
          "text": [
            "['tumor-size@lt40>class@no\\n', '\"tumor-size@lt40,node-caps@12-14>class@no\"\\n', '\"tumor-size@lt40,irradiat@central>class@no\"\\n', 'inv-nodes@15-19>class@no\\n', '\"inv-nodes@15-19,inv-nodes@5-9>class@no\"\\n', 'node-caps@24-26>class@yes\\n', 'menopause@30-39>class@no\\n', '\"menopause@30-39,irradiat@central>class@no\"\\n', '\"menopause@30-39,node-caps@12-14,irradiat@central>class@no\"\\n', '\"menopause@30-39,inv-nodes@5-9>class@no\"\\n', '\"menopause@30-39,inv-nodes@5-9,node-caps@12-14>class@no\"\\n', '\"menopause@30-39,inv-nodes@5-9,irradiat@central>class@no\"\\n', '\"menopause@30-39,inv-nodes@5-9,node-caps@12-14,irradiat@central>class@no\"\\n', '\"menopause@30-39,node-caps@12-14>class@no\"\\n', '\"menopause@30-39,menopause@20-29>class@no\"\\n', '\"menopause@30-39,menopause@20-29,irradiat@central>class@no\"\\n', '\"menopause@30-39,menopause@20-29,inv-nodes@5-9>class@no\"\\n', '\"menopause@30-39,menopause@20-29,inv-nodes@5-9,node-caps@12-14>class@no\"\\n', '\"menopause@30-39,menopause@20-29,node-caps@12-14>class@no\"\\n', 'tumor-size@ge40>class@no\\n', '\"tumor-size@ge40,irradiat@central>class@no\"\\n', 'irradiat@?>class@yes\\n', 'irradiat@?>class@no\\n', '\"menopause@20-29,breast@3>class@no\"\\n', '\"menopause@20-29,node-caps@12-14,breast@3>class@no\"\\n', '\"menopause@20-29,breast@3,irradiat@central>class@no\"\\n', '\"menopause@20-29,node-caps@12-14,breast@3,irradiat@central>class@no\"\\n', '\"menopause@20-29,inv-nodes@5-9,breast@3>class@no\"\\n', '\"menopause@20-29,inv-nodes@5-9,node-caps@12-14,breast@3>class@no\"\\n', '\"menopause@20-29,inv-nodes@5-9,breast@3,irradiat@central>class@no\"\\n', '\"menopause@20-29,inv-nodes@5-9,node-caps@12-14,breast@3,irradiat@central,>class@no\"\\n', '\"breast@3,breast@2>class@no\"\\n', '\"breast@3,breast@2,irradiat@central>class@no\"\\n', '\"node-caps@12-14,breast@3,breast@2,irradiat@central>class@no\"\\n', '\"node-caps@12-14,breast@3,breast@2>class@no\"\\n', '\"inv-nodes@5-9,breast@3,breast@2>class@no\"\\n', '\"inv-nodes@5-9,node-caps@12-14,breast@3,breast@2>class@no\"\\n', '\"inv-nodes@5-9,breast@3,breast@2,irradiat@central>class@no\"\\n', '\"inv-nodes@5-9,node-caps@12-14,breast@3,breast@2,irradiat@central,>class@no\"\\n', 'breast@3>class@no\\n', '\"breast@3,irradiat@central>class@no\"\\n', '\"node-caps@12-14,breast@3,irradiat@central>class@no\"\\n', '\"inv-nodes@5-9,breast@3>class@no\"\\n', '\"inv-nodes@5-9,node-caps@12-14,breast@3>class@no\"\\n', '\"inv-nodes@5-9,breast@3,irradiat@central>class@no\"\\n', '\"inv-nodes@5-9,node-caps@12-14,breast@3,irradiat@central>class@no\"\\n', '\"node-caps@12-14,breast@3>class@no\"\\n', 'deg-malig@yes>class@no\\n', '\"deg-malig@yes,irradiat@central>class@no\"\\n', '\"inv-nodes@5-9,deg-malig@yes>class@no\"\\n', '\"node-caps@12-14,deg-malig@yes>class@no\"\\n', 'deg-malig@yes>class@yes\\n', '\"@,>class@yes\"\\n', 'breast-quad@left>class@yes\\n', 'menopause@20-29>class@yes\\n', 'breast@1>class@yes\\n', 'inv-nodes@5-9>class@yes\\n', '\"inv-nodes@5-9,irradiat@central>class@yes\"\\n', '\"inv-nodes@5-9,node-caps@12-14,irradiat@central>class@yes\"\\n', '\"inv-nodes@5-9,node-caps@12-14>class@yes\"\\n', 'menopause@70-79>class@yes\\n', '\"menopause@70-79,inv-nodes@5-9>class@yes\"\\n', '\"menopause@70-79,node-caps@12-14>class@yes\"\\n', '\"menopause@70-79,irradiat@central>class@yes\"\\n', 'breast@2>class@yes\\n', 'node-caps@12-14>class@yes\\n', 'irradiat@central>class@yes\\n', '\"node-caps@12-14,irradiat@central>class@yes\"\\n', '\"class@recurrence-events,deg-malig@?>class@no\"\\n', '\"class@recurrence-events,inv-nodes@5-9,deg-malig@?>class@no\"\\n', '\"class@recurrence-events,node-caps@12-14,deg-malig@?>class@no\"\\n', '\"class@recurrence-events,menopause@70-79,deg-malig@?>class@no\"\\n', '\"class@recurrence-events,menopause@70-79,node-caps@12-14,deg-malig@?>class@no\"\\n', '\"class@recurrence-events,breast@1>class@no\"\\n', '\"class@recurrence-events,node-caps@12-14,breast@1>class@no\"\\n', '\"class@recurrence-events,menopause@70-79,breast@1>class@no\"\\n', '\"class@recurrence-events,menopause@70-79,node-caps@12-14,breast@1>class@no\"\\n', 'class@recurrence-events>class@no\\n', '\"class@recurrence-events,irradiat@central>class@no\"\\n', '\"class@recurrence-events,node-caps@12-14,irradiat@central>class@no\"\\n', '\"class@recurrence-events,inv-nodes@5-9>class@no\"\\n', '\"class@recurrence-events,inv-nodes@5-9,node-caps@12-14>class@no\"\\n', '\"class@recurrence-events,inv-nodes@5-9,irradiat@central>class@no\"\\n', '\"class@recurrence-events,inv-nodes@5-9,node-caps@12-14,irradiat@central>class@no\"\\n', '\"class@recurrence-events,node-caps@12-14>class@no\"\\n', '\"class@recurrence-events,menopause@70-79>class@no\"\\n', '\"class@recurrence-events,menopause@70-79,irradiat@central>class@no\"\\n', '\"class@recurrence-events,menopause@70-79,node-caps@12-14,irradiat@central>class@no\"\\n', '\"class@recurrence-events,menopause@70-79,inv-nodes@5-9>class@no\"\\n', '\"class@recurrence-events,menopause@70-79,inv-nodes@5-9,node-caps@12-14>class@no\"\\n', '\"class@recurrence-events,menopause@70-79,inv-nodes@5-9,irradiat@central>class@no\"\\n', '\"class@recurrence-events,menopause@70-79,inv-nodes@5-9,node-caps@12-14,irradiat@central,>class@no\"\\n', '\"class@recurrence-events,menopause@70-79,node-caps@12-14>class@no\"\\n', '\"menopause@40-49,breast-quad@left>class@no\"\\n', '\"menopause@40-49,deg-malig@?>class@no\"\\n', '\"menopause@40-49,breast@1>class@no\"\\n', '\"menopause@40-49,breast@1,irradiat@central>class@no\"\\n', '\"menopause@40-49,breast@2>class@no\"\\n', '\"menopause@40-49,node-caps@12-14,breast@2>class@no\"\\n', '\"menopause@40-49,inv-nodes@5-9,breast@2>class@no\"\\n', '\"menopause@40-49,inv-nodes@5-9,node-caps@12-14,breast@2>class@no\"\\n', '\"menopause@40-49,inv-nodes@5-9,breast@2,irradiat@central>class@no\"\\n', '\"menopause@40-49,inv-nodes@5-9,node-caps@12-14,breast@2,irradiat@central,>class@no\"\\n', '\"menopause@40-49,breast@2,irradiat@central>class@no\"\\n', '\"menopause@40-49,node-caps@12-14,breast@2,irradiat@central>class@no\"\\n', '\"menopause@40-49,menopause@20-29>class@no\"\\n', '\"menopause@40-49,menopause@20-29,node-caps@12-14>class@no\"\\n', '\"menopause@40-49,menopause@20-29,inv-nodes@5-9>class@no\"\\n', '\"menopause@40-49,menopause@20-29,inv-nodes@5-9,node-caps@12-14>class@no\"\\n', '\"menopause@40-49,menopause@20-29,inv-nodes@5-9,irradiat@central>class@no\"\\n', '\"menopause@40-49,menopause@20-29,inv-nodes@5-9,node-caps@12-14,irradiat@central,>class@no\"\\n', '\"menopause@40-49,menopause@20-29,irradiat@central>class@no\"\\n', '\"menopause@40-49,menopause@20-29,node-caps@12-14,irradiat@central>class@no\"\\n', 'menopause@40-49>class@no\\n', '\"menopause@40-49,node-caps@12-14>class@no\"\\n', '\"menopause@40-49,inv-nodes@5-9>class@no\"\\n', '\"menopause@40-49,inv-nodes@5-9,node-caps@12-14>class@no\"\\n', '\"menopause@40-49,inv-nodes@5-9,irradiat@central>class@no\"\\n', '\"menopause@40-49,inv-nodes@5-9,node-caps@12-14,irradiat@central>class@no\"\\n', '\"menopause@40-49,irradiat@central>class@no\"\\n', '\"menopause@40-49,node-caps@12-14,irradiat@central>class@no\"\\n', '\"deg-malig@?,irradiat@left_low>class@no\"\\n', '\"menopause@20-29,irradiat@left_low>class@no\"\\n', '\"menopause@20-29,irradiat@left_low,irradiat@central>class@no\"\\n', '\"menopause@20-29,node-caps@12-14,irradiat@left_low>class@no\"\\n', '\"menopause@20-29,inv-nodes@5-9,irradiat@left_low>class@no\"\\n', '\"menopause@20-29,inv-nodes@5-9,node-caps@12-14,irradiat@left_low>class@no\"\\n', '\"menopause@70-79,irradiat@left_low>class@no\"\\n', '\"breast@1,irradiat@left_low>class@no\"\\n', '\"breast@1,irradiat@left_low,irradiat@central>class@no\"\\n', '\"inv-nodes@5-9,breast@1,irradiat@left_low>class@no\"\\n', '\"inv-nodes@5-9,node-caps@12-14,breast@1,irradiat@left_low>class@no\"\\n', '\"node-caps@12-14,breast@1,irradiat@left_low>class@no\"\\n', 'irradiat@left_low>class@no\\n', '\"irradiat@left_low,irradiat@central>class@no\"\\n', '\"node-caps@12-14,irradiat@left_low,irradiat@central>class@no\"\\n', '\"inv-nodes@5-9,irradiat@left_low>class@no\"\\n', '\"inv-nodes@5-9,irradiat@left_low,irradiat@central>class@no\"\\n', '\"inv-nodes@5-9,node-caps@12-14,irradiat@left_low,irradiat@central>class@no\"\\n', '\"inv-nodes@5-9,node-caps@12-14,irradiat@left_low>class@no\"\\n', '\"node-caps@12-14,irradiat@left_low>class@no\"\\n', '\"menopause@20-29,breast-quad@left>class@no\"\\n', '\"menopause@20-29,inv-nodes@5-9,breast-quad@left>class@no\"\\n', '\"menopause@20-29,inv-nodes@5-9,node-caps@12-14,breast-quad@left>class@no\"\\n', '\"menopause@20-29,node-caps@12-14,breast-quad@left>class@no\"\\n', '\"menopause@20-29,breast-quad@left,irradiat@central>class@no\"\\n', '\"menopause@20-29,node-caps@12-14,breast-quad@left,irradiat@central>class@no\"\\n', '\"deg-malig@?,breast-quad@left>class@no\"\\n', '\"inv-nodes@5-9,deg-malig@?,breast-quad@left>class@no\"\\n', '\"inv-nodes@5-9,node-caps@12-14,deg-malig@?,breast-quad@left>class@no\"\\n', '\"deg-malig@?,breast-quad@left,irradiat@central>class@no\"\\n', '\"node-caps@12-14,deg-malig@?,breast-quad@left>class@no\"\\n', '\"menopause@70-79,breast-quad@left>class@no\"\\n', '\"menopause@70-79,inv-nodes@5-9,breast-quad@left>class@no\"\\n', '\"menopause@70-79,inv-nodes@5-9,node-caps@12-14,breast-quad@left>class@no\"\\n', '\"menopause@70-79,node-caps@12-14,breast-quad@left>class@no\"\\n', 'breast-quad@left>class@no\\n', '\"breast-quad@left,irradiat@central>class@no\"\\n', '\"node-caps@12-14,breast-quad@left,irradiat@central>class@no\"\\n', '\"inv-nodes@5-9,breast-quad@left>class@no\"\\n', '\"inv-nodes@5-9,node-caps@12-14,breast-quad@left>class@no\"\\n', '\"inv-nodes@5-9,breast-quad@left,irradiat@central>class@no\"\\n', '\"inv-nodes@5-9,node-caps@12-14,breast-quad@left,irradiat@central>class@no\"\\n', '\"node-caps@12-14,breast-quad@left>class@no\"\\n', '\"breast@2,breast-quad@left>class@no\"\\n', '\"breast@2,breast-quad@left,irradiat@central>class@no\"\\n', '\"node-caps@12-14,breast@2,breast-quad@left,irradiat@central>class@no\"\\n', '\"inv-nodes@5-9,breast@2,breast-quad@left>class@no\"\\n', '\"inv-nodes@5-9,node-caps@12-14,breast@2,breast-quad@left>class@no\"\\n', '\"inv-nodes@5-9,breast@2,breast-quad@left,irradiat@central>class@no\"\\n', '\"inv-nodes@5-9,node-caps@12-14,breast@2,breast-quad@left,irradiat@central,>class@no\"\\n', '\"node-caps@12-14,breast@2,breast-quad@left>class@no\"\\n', '\"menopause@20-29,deg-malig@?>class@no\"\\n', '\"menopause@20-29,deg-malig@?,irradiat@central>class@no\"\\n', '\"menopause@20-29,node-caps@12-14,deg-malig@?>class@no\"\\n', '\"menopause@20-29,inv-nodes@5-9,deg-malig@?>class@no\"\\n', '\"menopause@20-29,inv-nodes@5-9,node-caps@12-14,deg-malig@?>class@no\"\\n', '\"menopause@20-29,breast@1>class@no\"\\n', '\"menopause@20-29,node-caps@12-14,breast@1>class@no\"\\n', '\"menopause@20-29,inv-nodes@5-9,breast@1>class@no\"\\n', '\"menopause@20-29,inv-nodes@5-9,breast@1,irradiat@central>class@no\"\\n', '\"menopause@20-29,inv-nodes@5-9,node-caps@12-14,breast@1,irradiat@central,>class@no\"\\n', '\"menopause@20-29,inv-nodes@5-9,node-caps@12-14,breast@1>class@no\"\\n', '\"menopause@20-29,breast@1,irradiat@central>class@no\"\\n', '\"menopause@20-29,node-caps@12-14,breast@1,irradiat@central>class@no\"\\n', '\"menopause@20-29,breast@2>class@no\"\\n', '\"menopause@20-29,node-caps@12-14,breast@2>class@no\"\\n', '\"menopause@20-29,inv-nodes@5-9,breast@2>class@no\"\\n', '\"menopause@20-29,inv-nodes@5-9,node-caps@12-14,breast@2>class@no\"\\n', '\"menopause@20-29,inv-nodes@5-9,breast@2,irradiat@central>class@no\"\\n', '\"menopause@20-29,inv-nodes@5-9,node-caps@12-14,breast@2,irradiat@central,>class@no\"\\n', '\"menopause@20-29,breast@2,irradiat@central>class@no\"\\n', '\"menopause@20-29,node-caps@12-14,breast@2,irradiat@central>class@no\"\\n', 'menopause@20-29>class@no\\n', '\"menopause@20-29,node-caps@12-14>class@no\"\\n', '\"menopause@20-29,inv-nodes@5-9>class@no\"\\n', '\"menopause@20-29,inv-nodes@5-9,irradiat@central>class@no\"\\n', '\"menopause@20-29,inv-nodes@5-9,node-caps@12-14,irradiat@central>class@no\"\\n', '\"menopause@20-29,inv-nodes@5-9,node-caps@12-14>class@no\"\\n', '\"menopause@20-29,irradiat@central>class@no\"\\n', '\"menopause@20-29,node-caps@12-14,irradiat@central>class@no\"\\n', '\"menopause@70-79,deg-malig@?,breast@1>class@no\"\\n', '\"deg-malig@?,breast@1>class@no\"\\n', '\"inv-nodes@5-9,deg-malig@?,breast@1>class@no\"\\n', '\"inv-nodes@5-9,deg-malig@?,breast@1,irradiat@central>class@no\"\\n', '\"inv-nodes@5-9,node-caps@12-14,deg-malig@?,breast@1,irradiat@central,>class@no\"\\n', '\"inv-nodes@5-9,node-caps@12-14,deg-malig@?,breast@1>class@no\"\\n', '\"deg-malig@?,breast@1,irradiat@central>class@no\"\\n', '\"node-caps@12-14,deg-malig@?,breast@1,irradiat@central>class@no\"\\n', '\"node-caps@12-14,deg-malig@?,breast@1>class@no\"\\n', '\"deg-malig@?,breast@2>class@no\"\\n', '\"deg-malig@?,breast@2,irradiat@central>class@no\"\\n', '\"node-caps@12-14,deg-malig@?,breast@2,irradiat@central>class@no\"\\n', '\"node-caps@12-14,deg-malig@?,breast@2>class@no\"\\n', '\"inv-nodes@5-9,deg-malig@?,breast@2>class@no\"\\n', '\"inv-nodes@5-9,deg-malig@?,breast@2,irradiat@central>class@no\"\\n', '\"inv-nodes@5-9,node-caps@12-14,deg-malig@?,breast@2,irradiat@central,>class@no\"\\n', '\"inv-nodes@5-9,node-caps@12-14,deg-malig@?,breast@2>class@no\"\\n', '\"menopause@70-79,deg-malig@?>class@no\"\\n', '\"menopause@70-79,deg-malig@?,irradiat@central>class@no\"\\n', '\"menopause@70-79,node-caps@12-14,deg-malig@?,irradiat@central>class@no\"\\n', '\"menopause@70-79,inv-nodes@5-9,deg-malig@?>class@no\"\\n', '\"menopause@70-79,inv-nodes@5-9,deg-malig@?,irradiat@central>class@no\"\\n', '\"menopause@70-79,inv-nodes@5-9,node-caps@12-14,deg-malig@?,irradiat@central,>class@no\"\\n', '\"menopause@70-79,inv-nodes@5-9,node-caps@12-14,deg-malig@?>class@no\"\\n', '\"menopause@70-79,node-caps@12-14,deg-malig@?>class@no\"\\n', 'deg-malig@?>class@no\\n', '\"deg-malig@?,irradiat@central>class@no\"\\n', '\"node-caps@12-14,deg-malig@?,irradiat@central>class@no\"\\n', '\"inv-nodes@5-9,deg-malig@?>class@no\"\\n', '\"inv-nodes@5-9,deg-malig@?,irradiat@central>class@no\"\\n', '\"inv-nodes@5-9,node-caps@12-14,deg-malig@?,irradiat@central>class@no\"\\n', '\"inv-nodes@5-9,node-caps@12-14,deg-malig@?>class@no\"\\n', '\"node-caps@12-14,deg-malig@?>class@no\"\\n', '\"menopause@70-79,breast@1>class@no\"\\n', '\"menopause@70-79,breast@1,irradiat@central>class@no\"\\n', '\"menopause@70-79,node-caps@12-14,breast@1,irradiat@central>class@no\"\\n', '\"menopause@70-79,inv-nodes@5-9,breast@1>class@no\"\\n', '\"menopause@70-79,inv-nodes@5-9,node-caps@12-14,breast@1>class@no\"\\n', '\"menopause@70-79,inv-nodes@5-9,breast@1,irradiat@central>class@no\"\\n', '\"menopause@70-79,inv-nodes@5-9,node-caps@12-14,breast@1,irradiat@central,>class@no\"\\n', '\"menopause@70-79,node-caps@12-14,breast@1>class@no\"\\n', 'breast@1>class@no\\n', '\"breast@1,irradiat@central>class@no\"\\n', '\"node-caps@12-14,breast@1,irradiat@central>class@no\"\\n', '\"inv-nodes@5-9,breast@1>class@no\"\\n', '\"inv-nodes@5-9,breast@1,irradiat@central>class@no\"\\n', '\"inv-nodes@5-9,node-caps@12-14,breast@1,irradiat@central>class@no\"\\n', '\"inv-nodes@5-9,node-caps@12-14,breast@1>class@no\"\\n', '\"node-caps@12-14,breast@1>class@no\"\\n', '\"menopause@70-79,breast@2>class@no\"\\n', '\"menopause@70-79,breast@2,irradiat@central>class@no\"\\n', '\"menopause@70-79,node-caps@12-14,breast@2,irradiat@central>class@no\"\\n', '\"menopause@70-79,node-caps@12-14,breast@2>class@no\"\\n', '\"menopause@70-79,inv-nodes@5-9,breast@2>class@no\"\\n', '\"menopause@70-79,inv-nodes@5-9,breast@2,irradiat@central>class@no\"\\n', '\"menopause@70-79,inv-nodes@5-9,node-caps@12-14,breast@2,irradiat@central,>class@no\"\\n', '\"menopause@70-79,inv-nodes@5-9,node-caps@12-14,breast@2>class@no\"\\n', 'menopause@70-79>class@no\\n', '\"menopause@70-79,irradiat@central>class@no\"\\n', '\"menopause@70-79,node-caps@12-14,irradiat@central>class@no\"\\n', '\"menopause@70-79,inv-nodes@5-9>class@no\"\\n', '\"menopause@70-79,inv-nodes@5-9,irradiat@central>class@no\"\\n', '\"menopause@70-79,inv-nodes@5-9,node-caps@12-14,irradiat@central>class@no\"\\n', '\"menopause@70-79,inv-nodes@5-9,node-caps@12-14>class@no\"\\n', '\"menopause@70-79,node-caps@12-14>class@no\"\\n', 'breast@2>class@no\\n', '\"breast@2,irradiat@central>class@no\"\\n', '\"node-caps@12-14,breast@2,irradiat@central>class@no\"\\n', '\"node-caps@12-14,breast@2>class@no\"\\n', '\"inv-nodes@5-9,breast@2>class@no\"\\n', '\"inv-nodes@5-9,breast@2,irradiat@central>class@no\"\\n', '\"inv-nodes@5-9,node-caps@12-14,breast@2,irradiat@central>class@no\"\\n', '\"inv-nodes@5-9,node-caps@12-14,breast@2>class@no\"\\n']\n"
          ],
          "name": "stdout"
        }
      ]
    },
    {
      "cell_type": "code",
      "metadata": {
        "id": "bYaVnRIyrTJW"
      },
      "source": [
        "f = open('/content/bcancer_rpgrwoth_rules.csv','w')\n",
        "for line in lst:\n",
        "    f.write(line)\n",
        "f.close()"
      ],
      "execution_count": null,
      "outputs": []
    },
    {
      "cell_type": "code",
      "metadata": {
        "id": "PVPpAlDk1t5e"
      },
      "source": [
        "df = pd.read_csv('/content/bcancer_rpgrwoth_rules.csv')\n",
        "df.to_csv(\"/content/drive/MyDrive/DataSets_for_Paper/bcancer_rpgrowth_out_rules.csv\")"
      ],
      "execution_count": null,
      "outputs": []
    }
  ]
}