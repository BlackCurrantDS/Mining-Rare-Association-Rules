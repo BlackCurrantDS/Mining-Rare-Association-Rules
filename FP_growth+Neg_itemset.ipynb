{
  "nbformat": 4,
  "nbformat_minor": 0,
  "metadata": {
    "colab": {
      "name": "FP growth+Neg itemset.ipynb",
      "provenance": [],
      "authorship_tag": "ABX9TyOWDee0ikryJmS70n8z6S/D",
      "include_colab_link": true
    },
    "kernelspec": {
      "name": "python3",
      "display_name": "Python 3"
    },
    "accelerator": "GPU"
  },
  "cells": [
    {
      "cell_type": "markdown",
      "metadata": {
        "id": "view-in-github",
        "colab_type": "text"
      },
      "source": [
        "<a href=\"https://colab.research.google.com/github/BlackCurrantDS/DBSE_Project/blob/main/FP_growth%2BNeg_itemset.ipynb\" target=\"_parent\"><img src=\"https://colab.research.google.com/assets/colab-badge.svg\" alt=\"Open In Colab\"/></a>"
      ]
    },
    {
      "cell_type": "code",
      "metadata": {
        "id": "UqPFumu8va1E"
      },
      "source": [
        "import pandas as pd\r\n",
        "df = pd.read_csv('/content/breast_train_transactions.txt', header = None, sep=\",\" , names=['a','b','c', 'd', 'e', 'f','g', 'h', 'i', 'k'])"
      ],
      "execution_count": 1,
      "outputs": []
    },
    {
      "cell_type": "code",
      "metadata": {
        "colab": {
          "base_uri": "https://localhost:8080/",
          "height": 195
        },
        "id": "h2bpjUt4vzdf",
        "outputId": "15147506-43f5-4883-dea2-6dfa9900463a"
      },
      "source": [
        "df.head(5)"
      ],
      "execution_count": 2,
      "outputs": [
        {
          "output_type": "execute_result",
          "data": {
            "text/html": [
              "<div>\n",
              "<style scoped>\n",
              "    .dataframe tbody tr th:only-of-type {\n",
              "        vertical-align: middle;\n",
              "    }\n",
              "\n",
              "    .dataframe tbody tr th {\n",
              "        vertical-align: top;\n",
              "    }\n",
              "\n",
              "    .dataframe thead th {\n",
              "        text-align: right;\n",
              "    }\n",
              "</style>\n",
              "<table border=\"1\" class=\"dataframe\">\n",
              "  <thead>\n",
              "    <tr style=\"text-align: right;\">\n",
              "      <th></th>\n",
              "      <th>a</th>\n",
              "      <th>b</th>\n",
              "      <th>c</th>\n",
              "      <th>d</th>\n",
              "      <th>e</th>\n",
              "      <th>f</th>\n",
              "      <th>g</th>\n",
              "      <th>h</th>\n",
              "      <th>i</th>\n",
              "      <th>k</th>\n",
              "    </tr>\n",
              "  </thead>\n",
              "  <tbody>\n",
              "    <tr>\n",
              "      <th>0</th>\n",
              "      <td>class@no</td>\n",
              "      <td>a1@30-39</td>\n",
              "      <td>a2@premeno</td>\n",
              "      <td>a3@30-34</td>\n",
              "      <td>a4@0-2</td>\n",
              "      <td>a5@no</td>\n",
              "      <td>a6@3</td>\n",
              "      <td>a7@left</td>\n",
              "      <td>a8@left_low</td>\n",
              "      <td>a9@no</td>\n",
              "    </tr>\n",
              "    <tr>\n",
              "      <th>1</th>\n",
              "      <td>class@no</td>\n",
              "      <td>a1@40-49</td>\n",
              "      <td>a2@premeno</td>\n",
              "      <td>a3@20-24</td>\n",
              "      <td>a4@0-2</td>\n",
              "      <td>a5@no</td>\n",
              "      <td>a6@2</td>\n",
              "      <td>a7@right</td>\n",
              "      <td>a8@right_up</td>\n",
              "      <td>a9@no</td>\n",
              "    </tr>\n",
              "    <tr>\n",
              "      <th>2</th>\n",
              "      <td>class@no</td>\n",
              "      <td>a1@40-49</td>\n",
              "      <td>a2@premeno</td>\n",
              "      <td>a3@20-24</td>\n",
              "      <td>a4@0-2</td>\n",
              "      <td>a5@no</td>\n",
              "      <td>a6@2</td>\n",
              "      <td>a7@left</td>\n",
              "      <td>a8@left_low</td>\n",
              "      <td>a9@no</td>\n",
              "    </tr>\n",
              "    <tr>\n",
              "      <th>3</th>\n",
              "      <td>class@no</td>\n",
              "      <td>a1@60-69</td>\n",
              "      <td>a2@ge40</td>\n",
              "      <td>a3@15-19</td>\n",
              "      <td>a4@0-2</td>\n",
              "      <td>a5@no</td>\n",
              "      <td>a6@2</td>\n",
              "      <td>a7@right</td>\n",
              "      <td>a8@left_up</td>\n",
              "      <td>a9@no</td>\n",
              "    </tr>\n",
              "    <tr>\n",
              "      <th>4</th>\n",
              "      <td>class@no</td>\n",
              "      <td>a1@40-49</td>\n",
              "      <td>a2@premeno</td>\n",
              "      <td>a3@0-4</td>\n",
              "      <td>a4@0-2</td>\n",
              "      <td>a5@no</td>\n",
              "      <td>a6@2</td>\n",
              "      <td>a7@right</td>\n",
              "      <td>a8@right_low</td>\n",
              "      <td>a9@no</td>\n",
              "    </tr>\n",
              "  </tbody>\n",
              "</table>\n",
              "</div>"
            ],
            "text/plain": [
              "          a         b           c  ...         h             i      k\n",
              "0  class@no  a1@30-39  a2@premeno  ...   a7@left   a8@left_low  a9@no\n",
              "1  class@no  a1@40-49  a2@premeno  ...  a7@right   a8@right_up  a9@no\n",
              "2  class@no  a1@40-49  a2@premeno  ...   a7@left   a8@left_low  a9@no\n",
              "3  class@no  a1@60-69     a2@ge40  ...  a7@right    a8@left_up  a9@no\n",
              "4  class@no  a1@40-49  a2@premeno  ...  a7@right  a8@right_low  a9@no\n",
              "\n",
              "[5 rows x 10 columns]"
            ]
          },
          "metadata": {
            "tags": []
          },
          "execution_count": 2
        }
      ]
    },
    {
      "cell_type": "code",
      "metadata": {
        "id": "T25IDK2jXXmI"
      },
      "source": [
        "import numpy as np\r\n",
        "df['class_col'] = np.where(df.a == 'class@yes','class@no', 'class@yes')"
      ],
      "execution_count": 3,
      "outputs": []
    },
    {
      "cell_type": "code",
      "metadata": {
        "colab": {
          "base_uri": "https://localhost:8080/",
          "height": 195
        },
        "id": "d4k3L2yFYkEo",
        "outputId": "c46397b4-2afe-4d4d-e359-1b29ba67126c"
      },
      "source": [
        "df.head(5)"
      ],
      "execution_count": 4,
      "outputs": [
        {
          "output_type": "execute_result",
          "data": {
            "text/html": [
              "<div>\n",
              "<style scoped>\n",
              "    .dataframe tbody tr th:only-of-type {\n",
              "        vertical-align: middle;\n",
              "    }\n",
              "\n",
              "    .dataframe tbody tr th {\n",
              "        vertical-align: top;\n",
              "    }\n",
              "\n",
              "    .dataframe thead th {\n",
              "        text-align: right;\n",
              "    }\n",
              "</style>\n",
              "<table border=\"1\" class=\"dataframe\">\n",
              "  <thead>\n",
              "    <tr style=\"text-align: right;\">\n",
              "      <th></th>\n",
              "      <th>a</th>\n",
              "      <th>b</th>\n",
              "      <th>c</th>\n",
              "      <th>d</th>\n",
              "      <th>e</th>\n",
              "      <th>f</th>\n",
              "      <th>g</th>\n",
              "      <th>h</th>\n",
              "      <th>i</th>\n",
              "      <th>k</th>\n",
              "      <th>class_col</th>\n",
              "    </tr>\n",
              "  </thead>\n",
              "  <tbody>\n",
              "    <tr>\n",
              "      <th>0</th>\n",
              "      <td>class@no</td>\n",
              "      <td>a1@30-39</td>\n",
              "      <td>a2@premeno</td>\n",
              "      <td>a3@30-34</td>\n",
              "      <td>a4@0-2</td>\n",
              "      <td>a5@no</td>\n",
              "      <td>a6@3</td>\n",
              "      <td>a7@left</td>\n",
              "      <td>a8@left_low</td>\n",
              "      <td>a9@no</td>\n",
              "      <td>class@yes</td>\n",
              "    </tr>\n",
              "    <tr>\n",
              "      <th>1</th>\n",
              "      <td>class@no</td>\n",
              "      <td>a1@40-49</td>\n",
              "      <td>a2@premeno</td>\n",
              "      <td>a3@20-24</td>\n",
              "      <td>a4@0-2</td>\n",
              "      <td>a5@no</td>\n",
              "      <td>a6@2</td>\n",
              "      <td>a7@right</td>\n",
              "      <td>a8@right_up</td>\n",
              "      <td>a9@no</td>\n",
              "      <td>class@yes</td>\n",
              "    </tr>\n",
              "    <tr>\n",
              "      <th>2</th>\n",
              "      <td>class@no</td>\n",
              "      <td>a1@40-49</td>\n",
              "      <td>a2@premeno</td>\n",
              "      <td>a3@20-24</td>\n",
              "      <td>a4@0-2</td>\n",
              "      <td>a5@no</td>\n",
              "      <td>a6@2</td>\n",
              "      <td>a7@left</td>\n",
              "      <td>a8@left_low</td>\n",
              "      <td>a9@no</td>\n",
              "      <td>class@yes</td>\n",
              "    </tr>\n",
              "    <tr>\n",
              "      <th>3</th>\n",
              "      <td>class@no</td>\n",
              "      <td>a1@60-69</td>\n",
              "      <td>a2@ge40</td>\n",
              "      <td>a3@15-19</td>\n",
              "      <td>a4@0-2</td>\n",
              "      <td>a5@no</td>\n",
              "      <td>a6@2</td>\n",
              "      <td>a7@right</td>\n",
              "      <td>a8@left_up</td>\n",
              "      <td>a9@no</td>\n",
              "      <td>class@yes</td>\n",
              "    </tr>\n",
              "    <tr>\n",
              "      <th>4</th>\n",
              "      <td>class@no</td>\n",
              "      <td>a1@40-49</td>\n",
              "      <td>a2@premeno</td>\n",
              "      <td>a3@0-4</td>\n",
              "      <td>a4@0-2</td>\n",
              "      <td>a5@no</td>\n",
              "      <td>a6@2</td>\n",
              "      <td>a7@right</td>\n",
              "      <td>a8@right_low</td>\n",
              "      <td>a9@no</td>\n",
              "      <td>class@yes</td>\n",
              "    </tr>\n",
              "  </tbody>\n",
              "</table>\n",
              "</div>"
            ],
            "text/plain": [
              "          a         b           c  ...             i      k  class_col\n",
              "0  class@no  a1@30-39  a2@premeno  ...   a8@left_low  a9@no  class@yes\n",
              "1  class@no  a1@40-49  a2@premeno  ...   a8@right_up  a9@no  class@yes\n",
              "2  class@no  a1@40-49  a2@premeno  ...   a8@left_low  a9@no  class@yes\n",
              "3  class@no  a1@60-69     a2@ge40  ...    a8@left_up  a9@no  class@yes\n",
              "4  class@no  a1@40-49  a2@premeno  ...  a8@right_low  a9@no  class@yes\n",
              "\n",
              "[5 rows x 11 columns]"
            ]
          },
          "metadata": {
            "tags": []
          },
          "execution_count": 4
        }
      ]
    },
    {
      "cell_type": "code",
      "metadata": {
        "id": "DCOrREhGypxX"
      },
      "source": [
        "big_list =[]\r\n",
        "for column in df:\r\n",
        "  big_list.append(df[column].unique())"
      ],
      "execution_count": 5,
      "outputs": []
    },
    {
      "cell_type": "code",
      "metadata": {
        "colab": {
          "base_uri": "https://localhost:8080/"
        },
        "id": "NrzYNd5wy0cn",
        "outputId": "5dc60072-9875-407b-c2ca-307c91f2194b"
      },
      "source": [
        "big_list"
      ],
      "execution_count": 6,
      "outputs": [
        {
          "output_type": "execute_result",
          "data": {
            "text/plain": [
              "[array(['class@no', 'class@yes'], dtype=object),\n",
              " array(['a1@30-39', 'a1@40-49', 'a1@60-69', 'a1@50-59', 'a1@70-79'],\n",
              "       dtype=object),\n",
              " array(['a2@premeno', 'a2@ge40', 'a2@lt40'], dtype=object),\n",
              " array(['a3@30-34', 'a3@20-24', 'a3@15-19', 'a3@0-4', 'a3@25-29',\n",
              "        'a3@50-54', 'a3@10-14', 'a3@40-44', 'a3@35-39', 'a3@5-9',\n",
              "        'a3@45-49'], dtype=object),\n",
              " array(['a4@0-2', 'a4@6-8', 'a4@9-11', 'a4@3-5', 'a4@15-17', 'a4@12-14',\n",
              "        'a4@24-26'], dtype=object),\n",
              " array(['a5@no', 'a5@yes', 'a5@?'], dtype=object),\n",
              " array(['a6@3', 'a6@2', 'a6@1'], dtype=object),\n",
              " array(['a7@left', 'a7@right'], dtype=object),\n",
              " array(['a8@left_low', 'a8@right_up', 'a8@left_up', 'a8@right_low',\n",
              "        'a8@central', 'a8@?'], dtype=object),\n",
              " array(['a9@no', 'a9@yes'], dtype=object),\n",
              " array(['class@yes', 'class@no'], dtype=object)]"
            ]
          },
          "metadata": {
            "tags": []
          },
          "execution_count": 6
        }
      ]
    },
    {
      "cell_type": "code",
      "metadata": {
        "id": "sUfiE655J-1J"
      },
      "source": [
        "big_list =[]\r\n",
        "for column in df:\r\n",
        "  big_list.append(df[column].unique())"
      ],
      "execution_count": 7,
      "outputs": []
    },
    {
      "cell_type": "code",
      "metadata": {
        "colab": {
          "base_uri": "https://localhost:8080/"
        },
        "id": "aaHoncZhJ-1K",
        "outputId": "cdaa6360-70ab-46c8-e4ac-7a8360260eaf"
      },
      "source": [
        "big_list"
      ],
      "execution_count": 8,
      "outputs": [
        {
          "output_type": "execute_result",
          "data": {
            "text/plain": [
              "[array(['class@no', 'class@yes'], dtype=object),\n",
              " array(['a1@30-39', 'a1@40-49', 'a1@60-69', 'a1@50-59', 'a1@70-79'],\n",
              "       dtype=object),\n",
              " array(['a2@premeno', 'a2@ge40', 'a2@lt40'], dtype=object),\n",
              " array(['a3@30-34', 'a3@20-24', 'a3@15-19', 'a3@0-4', 'a3@25-29',\n",
              "        'a3@50-54', 'a3@10-14', 'a3@40-44', 'a3@35-39', 'a3@5-9',\n",
              "        'a3@45-49'], dtype=object),\n",
              " array(['a4@0-2', 'a4@6-8', 'a4@9-11', 'a4@3-5', 'a4@15-17', 'a4@12-14',\n",
              "        'a4@24-26'], dtype=object),\n",
              " array(['a5@no', 'a5@yes', 'a5@?'], dtype=object),\n",
              " array(['a6@3', 'a6@2', 'a6@1'], dtype=object),\n",
              " array(['a7@left', 'a7@right'], dtype=object),\n",
              " array(['a8@left_low', 'a8@right_up', 'a8@left_up', 'a8@right_low',\n",
              "        'a8@central', 'a8@?'], dtype=object),\n",
              " array(['a9@no', 'a9@yes'], dtype=object),\n",
              " array(['class@yes', 'class@no'], dtype=object)]"
            ]
          },
          "metadata": {
            "tags": []
          },
          "execution_count": 8
        }
      ]
    },
    {
      "cell_type": "code",
      "metadata": {
        "colab": {
          "base_uri": "https://localhost:8080/"
        },
        "id": "suXXkctMzgGu",
        "outputId": "433acf62-2d65-4dff-ba44-030850b56687"
      },
      "source": [
        "len(big_list)"
      ],
      "execution_count": 9,
      "outputs": [
        {
          "output_type": "execute_result",
          "data": {
            "text/plain": [
              "11"
            ]
          },
          "metadata": {
            "tags": []
          },
          "execution_count": 9
        }
      ]
    },
    {
      "cell_type": "code",
      "metadata": {
        "id": "mKWuZUcV0ABW"
      },
      "source": [
        "new_list = list(map(list,big_list))"
      ],
      "execution_count": 10,
      "outputs": []
    },
    {
      "cell_type": "code",
      "metadata": {
        "colab": {
          "base_uri": "https://localhost:8080/"
        },
        "id": "E9bfINGd0CpQ",
        "outputId": "dc10f21c-5767-4bc6-8297-56914bdfcd75"
      },
      "source": [
        "new_list"
      ],
      "execution_count": 11,
      "outputs": [
        {
          "output_type": "execute_result",
          "data": {
            "text/plain": [
              "[['class@no', 'class@yes'],\n",
              " ['a1@30-39', 'a1@40-49', 'a1@60-69', 'a1@50-59', 'a1@70-79'],\n",
              " ['a2@premeno', 'a2@ge40', 'a2@lt40'],\n",
              " ['a3@30-34',\n",
              "  'a3@20-24',\n",
              "  'a3@15-19',\n",
              "  'a3@0-4',\n",
              "  'a3@25-29',\n",
              "  'a3@50-54',\n",
              "  'a3@10-14',\n",
              "  'a3@40-44',\n",
              "  'a3@35-39',\n",
              "  'a3@5-9',\n",
              "  'a3@45-49'],\n",
              " ['a4@0-2', 'a4@6-8', 'a4@9-11', 'a4@3-5', 'a4@15-17', 'a4@12-14', 'a4@24-26'],\n",
              " ['a5@no', 'a5@yes', 'a5@?'],\n",
              " ['a6@3', 'a6@2', 'a6@1'],\n",
              " ['a7@left', 'a7@right'],\n",
              " ['a8@left_low',\n",
              "  'a8@right_up',\n",
              "  'a8@left_up',\n",
              "  'a8@right_low',\n",
              "  'a8@central',\n",
              "  'a8@?'],\n",
              " ['a9@no', 'a9@yes'],\n",
              " ['class@yes', 'class@no']]"
            ]
          },
          "metadata": {
            "tags": []
          },
          "execution_count": 11
        }
      ]
    },
    {
      "cell_type": "code",
      "metadata": {
        "id": "_BEPTjUr0V12"
      },
      "source": [
        "from pandas.core.common import flatten\r\n"
      ],
      "execution_count": 12,
      "outputs": []
    },
    {
      "cell_type": "code",
      "metadata": {
        "id": "uwTc9y8n0Z7u"
      },
      "source": [
        "u_list = list(flatten(new_list))"
      ],
      "execution_count": 13,
      "outputs": []
    },
    {
      "cell_type": "code",
      "metadata": {
        "id": "3L6qUdkbKEPJ"
      },
      "source": [
        "u_list = list(flatten(new_list))"
      ],
      "execution_count": 14,
      "outputs": []
    },
    {
      "cell_type": "code",
      "metadata": {
        "id": "1G0bKZIPKC-A"
      },
      "source": [
        "big_list =[]\r\n",
        "for column in df:\r\n",
        "  big_list.append(df[column].unique())"
      ],
      "execution_count": 15,
      "outputs": []
    },
    {
      "cell_type": "code",
      "metadata": {
        "colab": {
          "base_uri": "https://localhost:8080/"
        },
        "id": "F3RNAj7tKC-C",
        "outputId": "f47a0a1f-c515-4826-c728-a2377090caef"
      },
      "source": [
        "big_list"
      ],
      "execution_count": 16,
      "outputs": [
        {
          "output_type": "execute_result",
          "data": {
            "text/plain": [
              "[array(['class@no', 'class@yes'], dtype=object),\n",
              " array(['a1@30-39', 'a1@40-49', 'a1@60-69', 'a1@50-59', 'a1@70-79'],\n",
              "       dtype=object),\n",
              " array(['a2@premeno', 'a2@ge40', 'a2@lt40'], dtype=object),\n",
              " array(['a3@30-34', 'a3@20-24', 'a3@15-19', 'a3@0-4', 'a3@25-29',\n",
              "        'a3@50-54', 'a3@10-14', 'a3@40-44', 'a3@35-39', 'a3@5-9',\n",
              "        'a3@45-49'], dtype=object),\n",
              " array(['a4@0-2', 'a4@6-8', 'a4@9-11', 'a4@3-5', 'a4@15-17', 'a4@12-14',\n",
              "        'a4@24-26'], dtype=object),\n",
              " array(['a5@no', 'a5@yes', 'a5@?'], dtype=object),\n",
              " array(['a6@3', 'a6@2', 'a6@1'], dtype=object),\n",
              " array(['a7@left', 'a7@right'], dtype=object),\n",
              " array(['a8@left_low', 'a8@right_up', 'a8@left_up', 'a8@right_low',\n",
              "        'a8@central', 'a8@?'], dtype=object),\n",
              " array(['a9@no', 'a9@yes'], dtype=object),\n",
              " array(['class@yes', 'class@no'], dtype=object)]"
            ]
          },
          "metadata": {
            "tags": []
          },
          "execution_count": 16
        }
      ]
    },
    {
      "cell_type": "code",
      "metadata": {
        "colab": {
          "base_uri": "https://localhost:8080/"
        },
        "id": "Z6a9yrW2KC-D",
        "outputId": "c61219a9-76c2-43a6-9187-d56a8b70a642"
      },
      "source": [
        "len(big_list)"
      ],
      "execution_count": 17,
      "outputs": [
        {
          "output_type": "execute_result",
          "data": {
            "text/plain": [
              "11"
            ]
          },
          "metadata": {
            "tags": []
          },
          "execution_count": 17
        }
      ]
    },
    {
      "cell_type": "code",
      "metadata": {
        "id": "9Z7XLTXwKC-E"
      },
      "source": [
        "new_list = list(map(list,big_list))"
      ],
      "execution_count": 18,
      "outputs": []
    },
    {
      "cell_type": "code",
      "metadata": {
        "colab": {
          "base_uri": "https://localhost:8080/"
        },
        "id": "_9BO5omAKC-F",
        "outputId": "f1a4cb57-bf1c-49ce-c6ac-388ce5d5adf2"
      },
      "source": [
        "new_list"
      ],
      "execution_count": 19,
      "outputs": [
        {
          "output_type": "execute_result",
          "data": {
            "text/plain": [
              "[['class@no', 'class@yes'],\n",
              " ['a1@30-39', 'a1@40-49', 'a1@60-69', 'a1@50-59', 'a1@70-79'],\n",
              " ['a2@premeno', 'a2@ge40', 'a2@lt40'],\n",
              " ['a3@30-34',\n",
              "  'a3@20-24',\n",
              "  'a3@15-19',\n",
              "  'a3@0-4',\n",
              "  'a3@25-29',\n",
              "  'a3@50-54',\n",
              "  'a3@10-14',\n",
              "  'a3@40-44',\n",
              "  'a3@35-39',\n",
              "  'a3@5-9',\n",
              "  'a3@45-49'],\n",
              " ['a4@0-2', 'a4@6-8', 'a4@9-11', 'a4@3-5', 'a4@15-17', 'a4@12-14', 'a4@24-26'],\n",
              " ['a5@no', 'a5@yes', 'a5@?'],\n",
              " ['a6@3', 'a6@2', 'a6@1'],\n",
              " ['a7@left', 'a7@right'],\n",
              " ['a8@left_low',\n",
              "  'a8@right_up',\n",
              "  'a8@left_up',\n",
              "  'a8@right_low',\n",
              "  'a8@central',\n",
              "  'a8@?'],\n",
              " ['a9@no', 'a9@yes'],\n",
              " ['class@yes', 'class@no']]"
            ]
          },
          "metadata": {
            "tags": []
          },
          "execution_count": 19
        }
      ]
    },
    {
      "cell_type": "code",
      "metadata": {
        "id": "6cJva1njKC-G"
      },
      "source": [
        "from pandas.core.common import flatten\r\n"
      ],
      "execution_count": 20,
      "outputs": []
    },
    {
      "cell_type": "code",
      "metadata": {
        "id": "LAeMMYEmKC-H"
      },
      "source": [
        "u_list = list(flatten(new_list))"
      ],
      "execution_count": 21,
      "outputs": []
    },
    {
      "cell_type": "code",
      "metadata": {
        "id": "B21eq2kCKC-M"
      },
      "source": [
        "u_list = list(flatten(new_list))"
      ],
      "execution_count": 22,
      "outputs": []
    },
    {
      "cell_type": "code",
      "metadata": {
        "id": "kaafnqPKRpu6"
      },
      "source": [
        "u_list.remove('class@yes')\r\n",
        "u_list.remove('class@no')"
      ],
      "execution_count": 23,
      "outputs": []
    },
    {
      "cell_type": "code",
      "metadata": {
        "id": "Cc1Ll5fvJTMB"
      },
      "source": [
        "neg_df = df.apply(lambda x: list(set(u_list) - set(x)), axis=1)"
      ],
      "execution_count": 58,
      "outputs": []
    },
    {
      "cell_type": "code",
      "metadata": {
        "colab": {
          "base_uri": "https://localhost:8080/"
        },
        "id": "DKoqikeaLWP1",
        "outputId": "f836ae6f-b6da-4aea-ccd7-f2e79f36063c"
      },
      "source": [
        "neg_df[0]"
      ],
      "execution_count": 34,
      "outputs": [
        {
          "output_type": "execute_result",
          "data": {
            "text/plain": [
              "['a4@24-26',\n",
              " 'a5@?',\n",
              " 'a8@right_low',\n",
              " 'a8@left_up',\n",
              " 'a1@70-79',\n",
              " 'a3@45-49',\n",
              " 'a6@1',\n",
              " 'a4@12-14',\n",
              " 'a5@yes',\n",
              " 'a3@5-9',\n",
              " 'a4@15-17',\n",
              " 'a7@right',\n",
              " 'a9@yes',\n",
              " 'a1@50-59',\n",
              " 'a1@40-49',\n",
              " 'a3@25-29',\n",
              " 'a4@9-11',\n",
              " 'a3@50-54',\n",
              " 'a2@ge40',\n",
              " 'a4@6-8',\n",
              " 'a1@60-69',\n",
              " 'a8@right_up',\n",
              " 'a8@central',\n",
              " 'a3@20-24',\n",
              " 'a3@40-44',\n",
              " 'a3@15-19',\n",
              " 'a2@lt40',\n",
              " 'a3@10-14',\n",
              " 'a4@3-5',\n",
              " 'a8@?',\n",
              " 'a3@35-39',\n",
              " 'a6@2',\n",
              " 'a3@0-4']"
            ]
          },
          "metadata": {
            "tags": []
          },
          "execution_count": 34
        }
      ]
    },
    {
      "cell_type": "code",
      "metadata": {
        "id": "I77OIJtB36uA"
      },
      "source": [
        "sort_order = ['a1@10-19', 'a1@20-29', 'a1@30-39', 'a1@40-49', 'a1@50-59', 'a1@60-69', 'a1@70-79', 'a1@80-89', 'a1@90-99','a1@?',\r\n",
        "              'a2@lt40', 'a2@ge40', 'a2@premeno','a2@?',\r\n",
        "              'a3@0-4', 'a3@5-9', 'a3@10-14', 'a3@15-19', 'a3@20-24', 'a3@25-29', 'a3@30-34', 'a3@35-39', 'a3@40-44', 'a3@45-49', 'a3@50-54', 'a3@55-59','a3@?',\r\n",
        "              'a4@0-2', 'a4@3-5', 'a4@6-8', 'a4@9-11', 'a4@12-14', 'a4@15-17', 'a4@18-20', 'a4@21-23', 'a4@24-26', 'a4@27-29', 'a4@30-32', 'a4@33-35', 'a4@36-39','a4@?',\r\n",
        "              'a5@yes', 'a5@no', 'a5@?',\r\n",
        "              'a6@1', 'a6@2', 'a6@3','a6@?',\r\n",
        "              'a7@left', 'a7@right','a7@?',\r\n",
        "              'a8@left_up', 'a8@left_low', 'a8@right_up', 'a8@right_low', 'a8@central','a8@?',\r\n",
        "              'a9@yes','a9@no', 'a9@?'\r\n",
        "              ]"
      ],
      "execution_count": 39,
      "outputs": []
    },
    {
      "cell_type": "code",
      "metadata": {
        "id": "AAx4KlFE3n3B"
      },
      "source": [
        "neg_df_sorted = []\r\n",
        "for i in neg_df:\r\n",
        "  i = sorted(i, key = lambda x: sort_order.index(x))\r\n",
        "  neg_df_sorted.append(i)"
      ],
      "execution_count": 59,
      "outputs": []
    },
    {
      "cell_type": "code",
      "metadata": {
        "id": "qPWdcxW24qth"
      },
      "source": [
        "neg_df_final = pd.Series((i for i in neg_df_sorted)) "
      ],
      "execution_count": 60,
      "outputs": []
    },
    {
      "cell_type": "code",
      "metadata": {
        "colab": {
          "base_uri": "https://localhost:8080/"
        },
        "id": "TWx9qVlh5m54",
        "outputId": "2408c8a7-607d-4dda-feb4-f9f73b9eca84"
      },
      "source": [
        "neg_df_final"
      ],
      "execution_count": 61,
      "outputs": [
        {
          "output_type": "execute_result",
          "data": {
            "text/plain": [
              "0      [a1@40-49, a1@50-59, a1@60-69, a1@70-79, a2@lt...\n",
              "1      [a1@30-39, a1@50-59, a1@60-69, a1@70-79, a2@lt...\n",
              "2      [a1@30-39, a1@50-59, a1@60-69, a1@70-79, a2@lt...\n",
              "3      [a1@30-39, a1@40-49, a1@50-59, a1@70-79, a2@lt...\n",
              "4      [a1@30-39, a1@50-59, a1@60-69, a1@70-79, a2@lt...\n",
              "                             ...                        \n",
              "235    [a1@30-39, a1@40-49, a1@60-69, a1@70-79, a2@lt...\n",
              "236    [a1@40-49, a1@50-59, a1@60-69, a1@70-79, a2@lt...\n",
              "237    [a1@40-49, a1@50-59, a1@60-69, a1@70-79, a2@lt...\n",
              "238    [a1@30-39, a1@50-59, a1@60-69, a1@70-79, a2@lt...\n",
              "239    [a1@30-39, a1@40-49, a1@60-69, a1@70-79, a2@lt...\n",
              "Length: 240, dtype: object"
            ]
          },
          "metadata": {
            "tags": []
          },
          "execution_count": 61
        }
      ]
    },
    {
      "cell_type": "code",
      "metadata": {
        "id": "jMIs62kP5Apq"
      },
      "source": [
        "neg_df_final.to_csv(\"neg_data_sorted_final.txt\",index=False, header=False)"
      ],
      "execution_count": 63,
      "outputs": []
    },
    {
      "cell_type": "code",
      "metadata": {
        "id": "Iw4DEtJXKqvy"
      },
      "source": [
        "neg_df.to_csv(\"neg_data.txt\",index=False)"
      ],
      "execution_count": 64,
      "outputs": []
    },
    {
      "cell_type": "code",
      "metadata": {
        "id": "sYp0pGMlMNin"
      },
      "source": [
        "a = [\"[\",\"]\",\"'\",'\"']\r\n",
        "lst = []\r\n",
        "with open(\"/content/neg_data_sorted_final.txt\", 'r') as neg_data:\r\n",
        "  for line in neg_data:\r\n",
        "    for symbol in a:\r\n",
        "      if symbol in line:\r\n",
        "        line = line.replace(symbol,'')\r\n",
        "      if \", \" in line:\r\n",
        "        line = line.replace(\", \", \",\")\r\n",
        "    lst.append(line)\r\n",
        "neg_data.close()\r\n",
        "f = open('/content/neg_data_sorted_final.txt','w')\r\n",
        "for line in lst:\r\n",
        "    f.write(line)\r\n",
        "f.close()"
      ],
      "execution_count": 65,
      "outputs": []
    },
    {
      "cell_type": "code",
      "metadata": {
        "id": "xyS08omsPDas"
      },
      "source": [
        "new_data = pd.concat([df['class_col'],neg_df_final],axis=1)"
      ],
      "execution_count": 66,
      "outputs": []
    },
    {
      "cell_type": "code",
      "metadata": {
        "colab": {
          "base_uri": "https://localhost:8080/",
          "height": 402
        },
        "id": "mm-8RuQTPHBT",
        "outputId": "a781cc0f-1444-4e86-b47f-50e09e214b66"
      },
      "source": [
        "new_data"
      ],
      "execution_count": 67,
      "outputs": [
        {
          "output_type": "execute_result",
          "data": {
            "text/html": [
              "<div>\n",
              "<style scoped>\n",
              "    .dataframe tbody tr th:only-of-type {\n",
              "        vertical-align: middle;\n",
              "    }\n",
              "\n",
              "    .dataframe tbody tr th {\n",
              "        vertical-align: top;\n",
              "    }\n",
              "\n",
              "    .dataframe thead th {\n",
              "        text-align: right;\n",
              "    }\n",
              "</style>\n",
              "<table border=\"1\" class=\"dataframe\">\n",
              "  <thead>\n",
              "    <tr style=\"text-align: right;\">\n",
              "      <th></th>\n",
              "      <th>class_col</th>\n",
              "      <th>0</th>\n",
              "    </tr>\n",
              "  </thead>\n",
              "  <tbody>\n",
              "    <tr>\n",
              "      <th>0</th>\n",
              "      <td>class@yes</td>\n",
              "      <td>[a1@40-49, a1@50-59, a1@60-69, a1@70-79, a2@lt...</td>\n",
              "    </tr>\n",
              "    <tr>\n",
              "      <th>1</th>\n",
              "      <td>class@yes</td>\n",
              "      <td>[a1@30-39, a1@50-59, a1@60-69, a1@70-79, a2@lt...</td>\n",
              "    </tr>\n",
              "    <tr>\n",
              "      <th>2</th>\n",
              "      <td>class@yes</td>\n",
              "      <td>[a1@30-39, a1@50-59, a1@60-69, a1@70-79, a2@lt...</td>\n",
              "    </tr>\n",
              "    <tr>\n",
              "      <th>3</th>\n",
              "      <td>class@yes</td>\n",
              "      <td>[a1@30-39, a1@40-49, a1@50-59, a1@70-79, a2@lt...</td>\n",
              "    </tr>\n",
              "    <tr>\n",
              "      <th>4</th>\n",
              "      <td>class@yes</td>\n",
              "      <td>[a1@30-39, a1@50-59, a1@60-69, a1@70-79, a2@lt...</td>\n",
              "    </tr>\n",
              "    <tr>\n",
              "      <th>...</th>\n",
              "      <td>...</td>\n",
              "      <td>...</td>\n",
              "    </tr>\n",
              "    <tr>\n",
              "      <th>235</th>\n",
              "      <td>class@no</td>\n",
              "      <td>[a1@30-39, a1@40-49, a1@60-69, a1@70-79, a2@lt...</td>\n",
              "    </tr>\n",
              "    <tr>\n",
              "      <th>236</th>\n",
              "      <td>class@no</td>\n",
              "      <td>[a1@40-49, a1@50-59, a1@60-69, a1@70-79, a2@lt...</td>\n",
              "    </tr>\n",
              "    <tr>\n",
              "      <th>237</th>\n",
              "      <td>class@no</td>\n",
              "      <td>[a1@40-49, a1@50-59, a1@60-69, a1@70-79, a2@lt...</td>\n",
              "    </tr>\n",
              "    <tr>\n",
              "      <th>238</th>\n",
              "      <td>class@no</td>\n",
              "      <td>[a1@30-39, a1@50-59, a1@60-69, a1@70-79, a2@lt...</td>\n",
              "    </tr>\n",
              "    <tr>\n",
              "      <th>239</th>\n",
              "      <td>class@no</td>\n",
              "      <td>[a1@30-39, a1@40-49, a1@60-69, a1@70-79, a2@lt...</td>\n",
              "    </tr>\n",
              "  </tbody>\n",
              "</table>\n",
              "<p>240 rows × 2 columns</p>\n",
              "</div>"
            ],
            "text/plain": [
              "     class_col                                                  0\n",
              "0    class@yes  [a1@40-49, a1@50-59, a1@60-69, a1@70-79, a2@lt...\n",
              "1    class@yes  [a1@30-39, a1@50-59, a1@60-69, a1@70-79, a2@lt...\n",
              "2    class@yes  [a1@30-39, a1@50-59, a1@60-69, a1@70-79, a2@lt...\n",
              "3    class@yes  [a1@30-39, a1@40-49, a1@50-59, a1@70-79, a2@lt...\n",
              "4    class@yes  [a1@30-39, a1@50-59, a1@60-69, a1@70-79, a2@lt...\n",
              "..         ...                                                ...\n",
              "235   class@no  [a1@30-39, a1@40-49, a1@60-69, a1@70-79, a2@lt...\n",
              "236   class@no  [a1@40-49, a1@50-59, a1@60-69, a1@70-79, a2@lt...\n",
              "237   class@no  [a1@40-49, a1@50-59, a1@60-69, a1@70-79, a2@lt...\n",
              "238   class@no  [a1@30-39, a1@50-59, a1@60-69, a1@70-79, a2@lt...\n",
              "239   class@no  [a1@30-39, a1@40-49, a1@60-69, a1@70-79, a2@lt...\n",
              "\n",
              "[240 rows x 2 columns]"
            ]
          },
          "metadata": {
            "tags": []
          },
          "execution_count": 67
        }
      ]
    },
    {
      "cell_type": "code",
      "metadata": {
        "id": "h6ZGQcLcQexC"
      },
      "source": [
        "new_data.to_csv(\"neg_data_c.txt\",index=False,header=False)"
      ],
      "execution_count": 68,
      "outputs": []
    },
    {
      "cell_type": "code",
      "metadata": {
        "id": "tomi-VUXQmXD"
      },
      "source": [
        "a = [\"[\",\"]\",\"'\",'\"']\r\n",
        "lst = []\r\n",
        "with open(\"/content/neg_data_c.txt\", 'r') as neg_data:\r\n",
        "  for line in neg_data:\r\n",
        "    for symbol in a:\r\n",
        "      if symbol in line:\r\n",
        "        line = line.replace(symbol,'')\r\n",
        "      if \", \" in line:\r\n",
        "        line = line.replace(\", \", \",\")\r\n",
        "    lst.append(line)\r\n",
        "neg_data.close()\r\n",
        "f = open('/content/neg_data_c.txt','w')\r\n",
        "for line in lst:\r\n",
        "    f.write(line)\r\n",
        "f.close()"
      ],
      "execution_count": 69,
      "outputs": []
    },
    {
      "cell_type": "markdown",
      "metadata": {
        "id": "Z1twLAN3SpRJ"
      },
      "source": [
        "Running FP growth on it"
      ]
    },
    {
      "cell_type": "code",
      "metadata": {
        "colab": {
          "base_uri": "https://localhost:8080/"
        },
        "id": "pWWcqPYWs1Rz",
        "outputId": "e99b9776-a9b6-4e78-8a5d-750d4f74f6a1"
      },
      "source": [
        "pip install pyfpgrowth"
      ],
      "execution_count": 70,
      "outputs": [
        {
          "output_type": "stream",
          "text": [
            "Collecting pyfpgrowth\n",
            "\u001b[?25l  Downloading https://files.pythonhosted.org/packages/d2/4c/8b7cd90b4118ff0286d6584909b99e1ca5642bdc9072fa5a8dd361c864a0/pyfpgrowth-1.0.tar.gz (1.6MB)\n",
            "\u001b[K     |████████████████████████████████| 1.6MB 8.8MB/s \n",
            "\u001b[?25hBuilding wheels for collected packages: pyfpgrowth\n",
            "  Building wheel for pyfpgrowth (setup.py) ... \u001b[?25l\u001b[?25hdone\n",
            "  Created wheel for pyfpgrowth: filename=pyfpgrowth-1.0-py2.py3-none-any.whl size=5477 sha256=9e0de9e0a24373000e56a6a125f47b00efb900d13ab6e70bbe43950317d2cce0\n",
            "  Stored in directory: /root/.cache/pip/wheels/3b/3f/0d/a04bb8b17887c1eca7d0f1a48d4aa0c09c96eb221ff7fa56c1\n",
            "Successfully built pyfpgrowth\n",
            "Installing collected packages: pyfpgrowth\n",
            "Successfully installed pyfpgrowth-1.0\n"
          ],
          "name": "stdout"
        }
      ]
    },
    {
      "cell_type": "code",
      "metadata": {
        "id": "Ms3rM3a0tisa"
      },
      "source": [
        "import pyfpgrowth"
      ],
      "execution_count": 71,
      "outputs": []
    },
    {
      "cell_type": "code",
      "metadata": {
        "id": "i6e2Sa6bvNB7"
      },
      "source": [
        "import pandas as pd\r\n",
        "df = pd.read_csv('/content/neg_data_c.txt', header = None, sep=\",\")"
      ],
      "execution_count": 72,
      "outputs": []
    },
    {
      "cell_type": "code",
      "metadata": {
        "colab": {
          "base_uri": "https://localhost:8080/",
          "height": 299
        },
        "id": "45fuWmLOvudt",
        "outputId": "340a8376-efc5-4841-ed66-a2b442870a96"
      },
      "source": [
        "df.head(5)"
      ],
      "execution_count": 73,
      "outputs": [
        {
          "output_type": "execute_result",
          "data": {
            "text/html": [
              "<div>\n",
              "<style scoped>\n",
              "    .dataframe tbody tr th:only-of-type {\n",
              "        vertical-align: middle;\n",
              "    }\n",
              "\n",
              "    .dataframe tbody tr th {\n",
              "        vertical-align: top;\n",
              "    }\n",
              "\n",
              "    .dataframe thead th {\n",
              "        text-align: right;\n",
              "    }\n",
              "</style>\n",
              "<table border=\"1\" class=\"dataframe\">\n",
              "  <thead>\n",
              "    <tr style=\"text-align: right;\">\n",
              "      <th></th>\n",
              "      <th>0</th>\n",
              "      <th>1</th>\n",
              "      <th>2</th>\n",
              "      <th>3</th>\n",
              "      <th>4</th>\n",
              "      <th>5</th>\n",
              "      <th>6</th>\n",
              "      <th>7</th>\n",
              "      <th>8</th>\n",
              "      <th>9</th>\n",
              "      <th>10</th>\n",
              "      <th>11</th>\n",
              "      <th>12</th>\n",
              "      <th>13</th>\n",
              "      <th>14</th>\n",
              "      <th>15</th>\n",
              "      <th>16</th>\n",
              "      <th>17</th>\n",
              "      <th>18</th>\n",
              "      <th>19</th>\n",
              "      <th>20</th>\n",
              "      <th>21</th>\n",
              "      <th>22</th>\n",
              "      <th>23</th>\n",
              "      <th>24</th>\n",
              "      <th>25</th>\n",
              "      <th>26</th>\n",
              "      <th>27</th>\n",
              "      <th>28</th>\n",
              "      <th>29</th>\n",
              "      <th>30</th>\n",
              "      <th>31</th>\n",
              "      <th>32</th>\n",
              "      <th>33</th>\n",
              "    </tr>\n",
              "  </thead>\n",
              "  <tbody>\n",
              "    <tr>\n",
              "      <th>0</th>\n",
              "      <td>class@yes</td>\n",
              "      <td>a1@40-49</td>\n",
              "      <td>a1@50-59</td>\n",
              "      <td>a1@60-69</td>\n",
              "      <td>a1@70-79</td>\n",
              "      <td>a2@lt40</td>\n",
              "      <td>a2@ge40</td>\n",
              "      <td>a3@0-4</td>\n",
              "      <td>a3@5-9</td>\n",
              "      <td>a3@10-14</td>\n",
              "      <td>a3@15-19</td>\n",
              "      <td>a3@20-24</td>\n",
              "      <td>a3@25-29</td>\n",
              "      <td>a3@35-39</td>\n",
              "      <td>a3@40-44</td>\n",
              "      <td>a3@45-49</td>\n",
              "      <td>a3@50-54</td>\n",
              "      <td>a4@3-5</td>\n",
              "      <td>a4@6-8</td>\n",
              "      <td>a4@9-11</td>\n",
              "      <td>a4@12-14</td>\n",
              "      <td>a4@15-17</td>\n",
              "      <td>a4@24-26</td>\n",
              "      <td>a5@yes</td>\n",
              "      <td>a5@?</td>\n",
              "      <td>a6@1</td>\n",
              "      <td>a6@2</td>\n",
              "      <td>a7@right</td>\n",
              "      <td>a8@left_up</td>\n",
              "      <td>a8@right_up</td>\n",
              "      <td>a8@right_low</td>\n",
              "      <td>a8@central</td>\n",
              "      <td>a8@?</td>\n",
              "      <td>a9@yes</td>\n",
              "    </tr>\n",
              "    <tr>\n",
              "      <th>1</th>\n",
              "      <td>class@yes</td>\n",
              "      <td>a1@30-39</td>\n",
              "      <td>a1@50-59</td>\n",
              "      <td>a1@60-69</td>\n",
              "      <td>a1@70-79</td>\n",
              "      <td>a2@lt40</td>\n",
              "      <td>a2@ge40</td>\n",
              "      <td>a3@0-4</td>\n",
              "      <td>a3@5-9</td>\n",
              "      <td>a3@10-14</td>\n",
              "      <td>a3@15-19</td>\n",
              "      <td>a3@25-29</td>\n",
              "      <td>a3@30-34</td>\n",
              "      <td>a3@35-39</td>\n",
              "      <td>a3@40-44</td>\n",
              "      <td>a3@45-49</td>\n",
              "      <td>a3@50-54</td>\n",
              "      <td>a4@3-5</td>\n",
              "      <td>a4@6-8</td>\n",
              "      <td>a4@9-11</td>\n",
              "      <td>a4@12-14</td>\n",
              "      <td>a4@15-17</td>\n",
              "      <td>a4@24-26</td>\n",
              "      <td>a5@yes</td>\n",
              "      <td>a5@?</td>\n",
              "      <td>a6@1</td>\n",
              "      <td>a6@3</td>\n",
              "      <td>a7@left</td>\n",
              "      <td>a8@left_up</td>\n",
              "      <td>a8@left_low</td>\n",
              "      <td>a8@right_low</td>\n",
              "      <td>a8@central</td>\n",
              "      <td>a8@?</td>\n",
              "      <td>a9@yes</td>\n",
              "    </tr>\n",
              "    <tr>\n",
              "      <th>2</th>\n",
              "      <td>class@yes</td>\n",
              "      <td>a1@30-39</td>\n",
              "      <td>a1@50-59</td>\n",
              "      <td>a1@60-69</td>\n",
              "      <td>a1@70-79</td>\n",
              "      <td>a2@lt40</td>\n",
              "      <td>a2@ge40</td>\n",
              "      <td>a3@0-4</td>\n",
              "      <td>a3@5-9</td>\n",
              "      <td>a3@10-14</td>\n",
              "      <td>a3@15-19</td>\n",
              "      <td>a3@25-29</td>\n",
              "      <td>a3@30-34</td>\n",
              "      <td>a3@35-39</td>\n",
              "      <td>a3@40-44</td>\n",
              "      <td>a3@45-49</td>\n",
              "      <td>a3@50-54</td>\n",
              "      <td>a4@3-5</td>\n",
              "      <td>a4@6-8</td>\n",
              "      <td>a4@9-11</td>\n",
              "      <td>a4@12-14</td>\n",
              "      <td>a4@15-17</td>\n",
              "      <td>a4@24-26</td>\n",
              "      <td>a5@yes</td>\n",
              "      <td>a5@?</td>\n",
              "      <td>a6@1</td>\n",
              "      <td>a6@3</td>\n",
              "      <td>a7@right</td>\n",
              "      <td>a8@left_up</td>\n",
              "      <td>a8@right_up</td>\n",
              "      <td>a8@right_low</td>\n",
              "      <td>a8@central</td>\n",
              "      <td>a8@?</td>\n",
              "      <td>a9@yes</td>\n",
              "    </tr>\n",
              "    <tr>\n",
              "      <th>3</th>\n",
              "      <td>class@yes</td>\n",
              "      <td>a1@30-39</td>\n",
              "      <td>a1@40-49</td>\n",
              "      <td>a1@50-59</td>\n",
              "      <td>a1@70-79</td>\n",
              "      <td>a2@lt40</td>\n",
              "      <td>a2@premeno</td>\n",
              "      <td>a3@0-4</td>\n",
              "      <td>a3@5-9</td>\n",
              "      <td>a3@10-14</td>\n",
              "      <td>a3@20-24</td>\n",
              "      <td>a3@25-29</td>\n",
              "      <td>a3@30-34</td>\n",
              "      <td>a3@35-39</td>\n",
              "      <td>a3@40-44</td>\n",
              "      <td>a3@45-49</td>\n",
              "      <td>a3@50-54</td>\n",
              "      <td>a4@3-5</td>\n",
              "      <td>a4@6-8</td>\n",
              "      <td>a4@9-11</td>\n",
              "      <td>a4@12-14</td>\n",
              "      <td>a4@15-17</td>\n",
              "      <td>a4@24-26</td>\n",
              "      <td>a5@yes</td>\n",
              "      <td>a5@?</td>\n",
              "      <td>a6@1</td>\n",
              "      <td>a6@3</td>\n",
              "      <td>a7@left</td>\n",
              "      <td>a8@left_low</td>\n",
              "      <td>a8@right_up</td>\n",
              "      <td>a8@right_low</td>\n",
              "      <td>a8@central</td>\n",
              "      <td>a8@?</td>\n",
              "      <td>a9@yes</td>\n",
              "    </tr>\n",
              "    <tr>\n",
              "      <th>4</th>\n",
              "      <td>class@yes</td>\n",
              "      <td>a1@30-39</td>\n",
              "      <td>a1@50-59</td>\n",
              "      <td>a1@60-69</td>\n",
              "      <td>a1@70-79</td>\n",
              "      <td>a2@lt40</td>\n",
              "      <td>a2@ge40</td>\n",
              "      <td>a3@5-9</td>\n",
              "      <td>a3@10-14</td>\n",
              "      <td>a3@15-19</td>\n",
              "      <td>a3@20-24</td>\n",
              "      <td>a3@25-29</td>\n",
              "      <td>a3@30-34</td>\n",
              "      <td>a3@35-39</td>\n",
              "      <td>a3@40-44</td>\n",
              "      <td>a3@45-49</td>\n",
              "      <td>a3@50-54</td>\n",
              "      <td>a4@3-5</td>\n",
              "      <td>a4@6-8</td>\n",
              "      <td>a4@9-11</td>\n",
              "      <td>a4@12-14</td>\n",
              "      <td>a4@15-17</td>\n",
              "      <td>a4@24-26</td>\n",
              "      <td>a5@yes</td>\n",
              "      <td>a5@?</td>\n",
              "      <td>a6@1</td>\n",
              "      <td>a6@3</td>\n",
              "      <td>a7@left</td>\n",
              "      <td>a8@left_up</td>\n",
              "      <td>a8@left_low</td>\n",
              "      <td>a8@right_up</td>\n",
              "      <td>a8@central</td>\n",
              "      <td>a8@?</td>\n",
              "      <td>a9@yes</td>\n",
              "    </tr>\n",
              "  </tbody>\n",
              "</table>\n",
              "</div>"
            ],
            "text/plain": [
              "          0         1         2   ...          31    32      33\n",
              "0  class@yes  a1@40-49  a1@50-59  ...  a8@central  a8@?  a9@yes\n",
              "1  class@yes  a1@30-39  a1@50-59  ...  a8@central  a8@?  a9@yes\n",
              "2  class@yes  a1@30-39  a1@50-59  ...  a8@central  a8@?  a9@yes\n",
              "3  class@yes  a1@30-39  a1@40-49  ...  a8@central  a8@?  a9@yes\n",
              "4  class@yes  a1@30-39  a1@50-59  ...  a8@central  a8@?  a9@yes\n",
              "\n",
              "[5 rows x 34 columns]"
            ]
          },
          "metadata": {
            "tags": []
          },
          "execution_count": 73
        }
      ]
    },
    {
      "cell_type": "code",
      "metadata": {
        "id": "mi2IxGKDwAwc"
      },
      "source": [
        "trans = df.values.tolist()"
      ],
      "execution_count": 74,
      "outputs": []
    },
    {
      "cell_type": "code",
      "metadata": {
        "id": "gtguVyjpvyiD"
      },
      "source": [
        "patterns = pyfpgrowth.find_frequent_patterns(trans, .8)"
      ],
      "execution_count": null,
      "outputs": []
    },
    {
      "cell_type": "code",
      "metadata": {
        "id": "T5Ih-Xevv0qs"
      },
      "source": [
        "patterns"
      ],
      "execution_count": null,
      "outputs": []
    },
    {
      "cell_type": "code",
      "metadata": {
        "id": "_F_CuNFIwduk"
      },
      "source": [
        "rules = pyfpgrowth.generate_association_rules(patterns, 0.8)\r\n",
        "rules"
      ],
      "execution_count": null,
      "outputs": []
    }
  ]
}