{
  "nbformat": 4,
  "nbformat_minor": 0,
  "metadata": {
    "colab": {
      "name": "FP growth+Neg itemset.ipynb",
      "provenance": [],
      "authorship_tag": "ABX9TyNdJvUsbkrHziZRaFP5HlFS",
      "include_colab_link": true
    },
    "kernelspec": {
      "name": "python3",
      "display_name": "Python 3"
    },
    "accelerator": "GPU"
  },
  "cells": [
    {
      "cell_type": "markdown",
      "metadata": {
        "id": "view-in-github",
        "colab_type": "text"
      },
      "source": [
        "<a href=\"https://colab.research.google.com/github/BlackCurrantDS/DBSE_Project/blob/main/FP_growth%2BNeg_itemset.ipynb\" target=\"_parent\"><img src=\"https://colab.research.google.com/assets/colab-badge.svg\" alt=\"Open In Colab\"/></a>"
      ]
    },
    {
      "cell_type": "code",
      "metadata": {
        "id": "UqPFumu8va1E"
      },
      "source": [
        "import pandas as pd\r\n",
        "df = pd.read_csv('/content/breast_train_transactions.txt', header = None, sep=\",\" , names=['a','b','c', 'd', 'e', 'f','g', 'h', 'i', 'k'])"
      ],
      "execution_count": 8,
      "outputs": []
    },
    {
      "cell_type": "code",
      "metadata": {
        "colab": {
          "base_uri": "https://localhost:8080/",
          "height": 195
        },
        "id": "h2bpjUt4vzdf",
        "outputId": "2fd95a0d-33c6-419d-fca4-a6cd00342a0d"
      },
      "source": [
        "df.head(5)"
      ],
      "execution_count": 9,
      "outputs": [
        {
          "output_type": "execute_result",
          "data": {
            "text/html": [
              "<div>\n",
              "<style scoped>\n",
              "    .dataframe tbody tr th:only-of-type {\n",
              "        vertical-align: middle;\n",
              "    }\n",
              "\n",
              "    .dataframe tbody tr th {\n",
              "        vertical-align: top;\n",
              "    }\n",
              "\n",
              "    .dataframe thead th {\n",
              "        text-align: right;\n",
              "    }\n",
              "</style>\n",
              "<table border=\"1\" class=\"dataframe\">\n",
              "  <thead>\n",
              "    <tr style=\"text-align: right;\">\n",
              "      <th></th>\n",
              "      <th>a</th>\n",
              "      <th>b</th>\n",
              "      <th>c</th>\n",
              "      <th>d</th>\n",
              "      <th>e</th>\n",
              "      <th>f</th>\n",
              "      <th>g</th>\n",
              "      <th>h</th>\n",
              "      <th>i</th>\n",
              "      <th>k</th>\n",
              "    </tr>\n",
              "  </thead>\n",
              "  <tbody>\n",
              "    <tr>\n",
              "      <th>0</th>\n",
              "      <td>class@no</td>\n",
              "      <td>a1@30-39</td>\n",
              "      <td>a2@premeno</td>\n",
              "      <td>a3@30-34</td>\n",
              "      <td>a4@0-2</td>\n",
              "      <td>a5@no</td>\n",
              "      <td>a6@3</td>\n",
              "      <td>a7@left</td>\n",
              "      <td>a8@left_low</td>\n",
              "      <td>a9@no</td>\n",
              "    </tr>\n",
              "    <tr>\n",
              "      <th>1</th>\n",
              "      <td>class@no</td>\n",
              "      <td>a1@40-49</td>\n",
              "      <td>a2@premeno</td>\n",
              "      <td>a3@20-24</td>\n",
              "      <td>a4@0-2</td>\n",
              "      <td>a5@no</td>\n",
              "      <td>a6@2</td>\n",
              "      <td>a7@right</td>\n",
              "      <td>a8@right_up</td>\n",
              "      <td>a9@no</td>\n",
              "    </tr>\n",
              "    <tr>\n",
              "      <th>2</th>\n",
              "      <td>class@no</td>\n",
              "      <td>a1@40-49</td>\n",
              "      <td>a2@premeno</td>\n",
              "      <td>a3@20-24</td>\n",
              "      <td>a4@0-2</td>\n",
              "      <td>a5@no</td>\n",
              "      <td>a6@2</td>\n",
              "      <td>a7@left</td>\n",
              "      <td>a8@left_low</td>\n",
              "      <td>a9@no</td>\n",
              "    </tr>\n",
              "    <tr>\n",
              "      <th>3</th>\n",
              "      <td>class@no</td>\n",
              "      <td>a1@60-69</td>\n",
              "      <td>a2@ge40</td>\n",
              "      <td>a3@15-19</td>\n",
              "      <td>a4@0-2</td>\n",
              "      <td>a5@no</td>\n",
              "      <td>a6@2</td>\n",
              "      <td>a7@right</td>\n",
              "      <td>a8@left_up</td>\n",
              "      <td>a9@no</td>\n",
              "    </tr>\n",
              "    <tr>\n",
              "      <th>4</th>\n",
              "      <td>class@no</td>\n",
              "      <td>a1@40-49</td>\n",
              "      <td>a2@premeno</td>\n",
              "      <td>a3@0-4</td>\n",
              "      <td>a4@0-2</td>\n",
              "      <td>a5@no</td>\n",
              "      <td>a6@2</td>\n",
              "      <td>a7@right</td>\n",
              "      <td>a8@right_low</td>\n",
              "      <td>a9@no</td>\n",
              "    </tr>\n",
              "  </tbody>\n",
              "</table>\n",
              "</div>"
            ],
            "text/plain": [
              "          a         b           c  ...         h             i      k\n",
              "0  class@no  a1@30-39  a2@premeno  ...   a7@left   a8@left_low  a9@no\n",
              "1  class@no  a1@40-49  a2@premeno  ...  a7@right   a8@right_up  a9@no\n",
              "2  class@no  a1@40-49  a2@premeno  ...   a7@left   a8@left_low  a9@no\n",
              "3  class@no  a1@60-69     a2@ge40  ...  a7@right    a8@left_up  a9@no\n",
              "4  class@no  a1@40-49  a2@premeno  ...  a7@right  a8@right_low  a9@no\n",
              "\n",
              "[5 rows x 10 columns]"
            ]
          },
          "metadata": {
            "tags": []
          },
          "execution_count": 9
        }
      ]
    },
    {
      "cell_type": "code",
      "metadata": {
        "id": "T25IDK2jXXmI"
      },
      "source": [
        "import numpy as np\r\n",
        "df['class_col'] = np.where(df.a == 'class@yes','class@no', 'class@yes')"
      ],
      "execution_count": 10,
      "outputs": []
    },
    {
      "cell_type": "code",
      "metadata": {
        "colab": {
          "base_uri": "https://localhost:8080/",
          "height": 195
        },
        "id": "d4k3L2yFYkEo",
        "outputId": "844b4948-9886-4812-a02b-7610283b59ca"
      },
      "source": [
        "df.head(5)"
      ],
      "execution_count": 11,
      "outputs": [
        {
          "output_type": "execute_result",
          "data": {
            "text/html": [
              "<div>\n",
              "<style scoped>\n",
              "    .dataframe tbody tr th:only-of-type {\n",
              "        vertical-align: middle;\n",
              "    }\n",
              "\n",
              "    .dataframe tbody tr th {\n",
              "        vertical-align: top;\n",
              "    }\n",
              "\n",
              "    .dataframe thead th {\n",
              "        text-align: right;\n",
              "    }\n",
              "</style>\n",
              "<table border=\"1\" class=\"dataframe\">\n",
              "  <thead>\n",
              "    <tr style=\"text-align: right;\">\n",
              "      <th></th>\n",
              "      <th>a</th>\n",
              "      <th>b</th>\n",
              "      <th>c</th>\n",
              "      <th>d</th>\n",
              "      <th>e</th>\n",
              "      <th>f</th>\n",
              "      <th>g</th>\n",
              "      <th>h</th>\n",
              "      <th>i</th>\n",
              "      <th>k</th>\n",
              "      <th>class_col</th>\n",
              "    </tr>\n",
              "  </thead>\n",
              "  <tbody>\n",
              "    <tr>\n",
              "      <th>0</th>\n",
              "      <td>class@no</td>\n",
              "      <td>a1@30-39</td>\n",
              "      <td>a2@premeno</td>\n",
              "      <td>a3@30-34</td>\n",
              "      <td>a4@0-2</td>\n",
              "      <td>a5@no</td>\n",
              "      <td>a6@3</td>\n",
              "      <td>a7@left</td>\n",
              "      <td>a8@left_low</td>\n",
              "      <td>a9@no</td>\n",
              "      <td>class@yes</td>\n",
              "    </tr>\n",
              "    <tr>\n",
              "      <th>1</th>\n",
              "      <td>class@no</td>\n",
              "      <td>a1@40-49</td>\n",
              "      <td>a2@premeno</td>\n",
              "      <td>a3@20-24</td>\n",
              "      <td>a4@0-2</td>\n",
              "      <td>a5@no</td>\n",
              "      <td>a6@2</td>\n",
              "      <td>a7@right</td>\n",
              "      <td>a8@right_up</td>\n",
              "      <td>a9@no</td>\n",
              "      <td>class@yes</td>\n",
              "    </tr>\n",
              "    <tr>\n",
              "      <th>2</th>\n",
              "      <td>class@no</td>\n",
              "      <td>a1@40-49</td>\n",
              "      <td>a2@premeno</td>\n",
              "      <td>a3@20-24</td>\n",
              "      <td>a4@0-2</td>\n",
              "      <td>a5@no</td>\n",
              "      <td>a6@2</td>\n",
              "      <td>a7@left</td>\n",
              "      <td>a8@left_low</td>\n",
              "      <td>a9@no</td>\n",
              "      <td>class@yes</td>\n",
              "    </tr>\n",
              "    <tr>\n",
              "      <th>3</th>\n",
              "      <td>class@no</td>\n",
              "      <td>a1@60-69</td>\n",
              "      <td>a2@ge40</td>\n",
              "      <td>a3@15-19</td>\n",
              "      <td>a4@0-2</td>\n",
              "      <td>a5@no</td>\n",
              "      <td>a6@2</td>\n",
              "      <td>a7@right</td>\n",
              "      <td>a8@left_up</td>\n",
              "      <td>a9@no</td>\n",
              "      <td>class@yes</td>\n",
              "    </tr>\n",
              "    <tr>\n",
              "      <th>4</th>\n",
              "      <td>class@no</td>\n",
              "      <td>a1@40-49</td>\n",
              "      <td>a2@premeno</td>\n",
              "      <td>a3@0-4</td>\n",
              "      <td>a4@0-2</td>\n",
              "      <td>a5@no</td>\n",
              "      <td>a6@2</td>\n",
              "      <td>a7@right</td>\n",
              "      <td>a8@right_low</td>\n",
              "      <td>a9@no</td>\n",
              "      <td>class@yes</td>\n",
              "    </tr>\n",
              "  </tbody>\n",
              "</table>\n",
              "</div>"
            ],
            "text/plain": [
              "          a         b           c  ...             i      k  class_col\n",
              "0  class@no  a1@30-39  a2@premeno  ...   a8@left_low  a9@no  class@yes\n",
              "1  class@no  a1@40-49  a2@premeno  ...   a8@right_up  a9@no  class@yes\n",
              "2  class@no  a1@40-49  a2@premeno  ...   a8@left_low  a9@no  class@yes\n",
              "3  class@no  a1@60-69     a2@ge40  ...    a8@left_up  a9@no  class@yes\n",
              "4  class@no  a1@40-49  a2@premeno  ...  a8@right_low  a9@no  class@yes\n",
              "\n",
              "[5 rows x 11 columns]"
            ]
          },
          "metadata": {
            "tags": []
          },
          "execution_count": 11
        }
      ]
    },
    {
      "cell_type": "code",
      "metadata": {
        "id": "DCOrREhGypxX"
      },
      "source": [
        "big_list =[]\r\n",
        "for column in df:\r\n",
        "  big_list.append(df[column].unique())"
      ],
      "execution_count": 12,
      "outputs": []
    },
    {
      "cell_type": "code",
      "metadata": {
        "colab": {
          "base_uri": "https://localhost:8080/"
        },
        "id": "NrzYNd5wy0cn",
        "outputId": "0507172a-072e-444a-84b0-c09d790ff83a"
      },
      "source": [
        "big_list"
      ],
      "execution_count": 13,
      "outputs": [
        {
          "output_type": "execute_result",
          "data": {
            "text/plain": [
              "[array(['class@no', 'class@yes'], dtype=object),\n",
              " array(['a1@30-39', 'a1@40-49', 'a1@60-69', 'a1@50-59', 'a1@70-79'],\n",
              "       dtype=object),\n",
              " array(['a2@premeno', 'a2@ge40', 'a2@lt40'], dtype=object),\n",
              " array(['a3@30-34', 'a3@20-24', 'a3@15-19', 'a3@0-4', 'a3@25-29',\n",
              "        'a3@50-54', 'a3@10-14', 'a3@40-44', 'a3@35-39', 'a3@5-9',\n",
              "        'a3@45-49'], dtype=object),\n",
              " array(['a4@0-2', 'a4@6-8', 'a4@9-11', 'a4@3-5', 'a4@15-17', 'a4@12-14',\n",
              "        'a4@24-26'], dtype=object),\n",
              " array(['a5@no', 'a5@yes', 'a5@?'], dtype=object),\n",
              " array(['a6@3', 'a6@2', 'a6@1'], dtype=object),\n",
              " array(['a7@left', 'a7@right'], dtype=object),\n",
              " array(['a8@left_low', 'a8@right_up', 'a8@left_up', 'a8@right_low',\n",
              "        'a8@central', 'a8@?'], dtype=object),\n",
              " array(['a9@no', 'a9@yes'], dtype=object),\n",
              " array(['class@yes', 'class@no'], dtype=object)]"
            ]
          },
          "metadata": {
            "tags": []
          },
          "execution_count": 13
        }
      ]
    },
    {
      "cell_type": "code",
      "metadata": {
        "id": "woidab6FJ4cP"
      },
      "source": [
        ""
      ],
      "execution_count": 13,
      "outputs": []
    },
    {
      "cell_type": "code",
      "metadata": {
        "id": "sUfiE655J-1J"
      },
      "source": [
        "big_list =[]\r\n",
        "for column in df:\r\n",
        "  big_list.append(df[column].unique())"
      ],
      "execution_count": 14,
      "outputs": []
    },
    {
      "cell_type": "code",
      "metadata": {
        "colab": {
          "base_uri": "https://localhost:8080/"
        },
        "id": "aaHoncZhJ-1K",
        "outputId": "5e8fc14a-f613-4977-834b-e2ae7f187e09"
      },
      "source": [
        "big_list"
      ],
      "execution_count": 15,
      "outputs": [
        {
          "output_type": "execute_result",
          "data": {
            "text/plain": [
              "[array(['class@no', 'class@yes'], dtype=object),\n",
              " array(['a1@30-39', 'a1@40-49', 'a1@60-69', 'a1@50-59', 'a1@70-79'],\n",
              "       dtype=object),\n",
              " array(['a2@premeno', 'a2@ge40', 'a2@lt40'], dtype=object),\n",
              " array(['a3@30-34', 'a3@20-24', 'a3@15-19', 'a3@0-4', 'a3@25-29',\n",
              "        'a3@50-54', 'a3@10-14', 'a3@40-44', 'a3@35-39', 'a3@5-9',\n",
              "        'a3@45-49'], dtype=object),\n",
              " array(['a4@0-2', 'a4@6-8', 'a4@9-11', 'a4@3-5', 'a4@15-17', 'a4@12-14',\n",
              "        'a4@24-26'], dtype=object),\n",
              " array(['a5@no', 'a5@yes', 'a5@?'], dtype=object),\n",
              " array(['a6@3', 'a6@2', 'a6@1'], dtype=object),\n",
              " array(['a7@left', 'a7@right'], dtype=object),\n",
              " array(['a8@left_low', 'a8@right_up', 'a8@left_up', 'a8@right_low',\n",
              "        'a8@central', 'a8@?'], dtype=object),\n",
              " array(['a9@no', 'a9@yes'], dtype=object),\n",
              " array(['class@yes', 'class@no'], dtype=object)]"
            ]
          },
          "metadata": {
            "tags": []
          },
          "execution_count": 15
        }
      ]
    },
    {
      "cell_type": "code",
      "metadata": {
        "colab": {
          "base_uri": "https://localhost:8080/"
        },
        "id": "suXXkctMzgGu",
        "outputId": "e9abc667-1df5-4508-dfb5-773dbe681c27"
      },
      "source": [
        "len(big_list)"
      ],
      "execution_count": 16,
      "outputs": [
        {
          "output_type": "execute_result",
          "data": {
            "text/plain": [
              "11"
            ]
          },
          "metadata": {
            "tags": []
          },
          "execution_count": 16
        }
      ]
    },
    {
      "cell_type": "code",
      "metadata": {
        "id": "mKWuZUcV0ABW"
      },
      "source": [
        "new_list = list(map(list,big_list))"
      ],
      "execution_count": 17,
      "outputs": []
    },
    {
      "cell_type": "code",
      "metadata": {
        "colab": {
          "base_uri": "https://localhost:8080/"
        },
        "id": "E9bfINGd0CpQ",
        "outputId": "78b96ffa-f9d8-412d-b2bb-5b1d94e570f6"
      },
      "source": [
        "new_list"
      ],
      "execution_count": 18,
      "outputs": [
        {
          "output_type": "execute_result",
          "data": {
            "text/plain": [
              "[['class@no', 'class@yes'],\n",
              " ['a1@30-39', 'a1@40-49', 'a1@60-69', 'a1@50-59', 'a1@70-79'],\n",
              " ['a2@premeno', 'a2@ge40', 'a2@lt40'],\n",
              " ['a3@30-34',\n",
              "  'a3@20-24',\n",
              "  'a3@15-19',\n",
              "  'a3@0-4',\n",
              "  'a3@25-29',\n",
              "  'a3@50-54',\n",
              "  'a3@10-14',\n",
              "  'a3@40-44',\n",
              "  'a3@35-39',\n",
              "  'a3@5-9',\n",
              "  'a3@45-49'],\n",
              " ['a4@0-2', 'a4@6-8', 'a4@9-11', 'a4@3-5', 'a4@15-17', 'a4@12-14', 'a4@24-26'],\n",
              " ['a5@no', 'a5@yes', 'a5@?'],\n",
              " ['a6@3', 'a6@2', 'a6@1'],\n",
              " ['a7@left', 'a7@right'],\n",
              " ['a8@left_low',\n",
              "  'a8@right_up',\n",
              "  'a8@left_up',\n",
              "  'a8@right_low',\n",
              "  'a8@central',\n",
              "  'a8@?'],\n",
              " ['a9@no', 'a9@yes'],\n",
              " ['class@yes', 'class@no']]"
            ]
          },
          "metadata": {
            "tags": []
          },
          "execution_count": 18
        }
      ]
    },
    {
      "cell_type": "code",
      "metadata": {
        "id": "_BEPTjUr0V12"
      },
      "source": [
        "from pandas.core.common import flatten\r\n"
      ],
      "execution_count": 19,
      "outputs": []
    },
    {
      "cell_type": "code",
      "metadata": {
        "id": "uwTc9y8n0Z7u"
      },
      "source": [
        "u_list = list(flatten(new_list))"
      ],
      "execution_count": 20,
      "outputs": []
    },
    {
      "cell_type": "code",
      "metadata": {
        "id": "3L6qUdkbKEPJ"
      },
      "source": [
        "u_list = list(flatten(new_list))"
      ],
      "execution_count": 21,
      "outputs": []
    },
    {
      "cell_type": "code",
      "metadata": {
        "id": "1G0bKZIPKC-A"
      },
      "source": [
        "big_list =[]\r\n",
        "for column in df:\r\n",
        "  big_list.append(df[column].unique())"
      ],
      "execution_count": 22,
      "outputs": []
    },
    {
      "cell_type": "code",
      "metadata": {
        "colab": {
          "base_uri": "https://localhost:8080/"
        },
        "id": "F3RNAj7tKC-C",
        "outputId": "ecea2f5d-b9f9-4d42-9e88-172f64449f6a"
      },
      "source": [
        "big_list"
      ],
      "execution_count": 23,
      "outputs": [
        {
          "output_type": "execute_result",
          "data": {
            "text/plain": [
              "[array(['class@no', 'class@yes'], dtype=object),\n",
              " array(['a1@30-39', 'a1@40-49', 'a1@60-69', 'a1@50-59', 'a1@70-79'],\n",
              "       dtype=object),\n",
              " array(['a2@premeno', 'a2@ge40', 'a2@lt40'], dtype=object),\n",
              " array(['a3@30-34', 'a3@20-24', 'a3@15-19', 'a3@0-4', 'a3@25-29',\n",
              "        'a3@50-54', 'a3@10-14', 'a3@40-44', 'a3@35-39', 'a3@5-9',\n",
              "        'a3@45-49'], dtype=object),\n",
              " array(['a4@0-2', 'a4@6-8', 'a4@9-11', 'a4@3-5', 'a4@15-17', 'a4@12-14',\n",
              "        'a4@24-26'], dtype=object),\n",
              " array(['a5@no', 'a5@yes', 'a5@?'], dtype=object),\n",
              " array(['a6@3', 'a6@2', 'a6@1'], dtype=object),\n",
              " array(['a7@left', 'a7@right'], dtype=object),\n",
              " array(['a8@left_low', 'a8@right_up', 'a8@left_up', 'a8@right_low',\n",
              "        'a8@central', 'a8@?'], dtype=object),\n",
              " array(['a9@no', 'a9@yes'], dtype=object),\n",
              " array(['class@yes', 'class@no'], dtype=object)]"
            ]
          },
          "metadata": {
            "tags": []
          },
          "execution_count": 23
        }
      ]
    },
    {
      "cell_type": "code",
      "metadata": {
        "colab": {
          "base_uri": "https://localhost:8080/"
        },
        "id": "Z6a9yrW2KC-D",
        "outputId": "4fdc9e3b-5275-47fb-ab9a-d1b4be8db82f"
      },
      "source": [
        "len(big_list)"
      ],
      "execution_count": 24,
      "outputs": [
        {
          "output_type": "execute_result",
          "data": {
            "text/plain": [
              "11"
            ]
          },
          "metadata": {
            "tags": []
          },
          "execution_count": 24
        }
      ]
    },
    {
      "cell_type": "code",
      "metadata": {
        "id": "9Z7XLTXwKC-E"
      },
      "source": [
        "new_list = list(map(list,big_list))"
      ],
      "execution_count": 25,
      "outputs": []
    },
    {
      "cell_type": "code",
      "metadata": {
        "colab": {
          "base_uri": "https://localhost:8080/"
        },
        "id": "_9BO5omAKC-F",
        "outputId": "d67b8a2f-06c8-409b-c319-8cfd1fc6db00"
      },
      "source": [
        "new_list"
      ],
      "execution_count": 26,
      "outputs": [
        {
          "output_type": "execute_result",
          "data": {
            "text/plain": [
              "[['class@no', 'class@yes'],\n",
              " ['a1@30-39', 'a1@40-49', 'a1@60-69', 'a1@50-59', 'a1@70-79'],\n",
              " ['a2@premeno', 'a2@ge40', 'a2@lt40'],\n",
              " ['a3@30-34',\n",
              "  'a3@20-24',\n",
              "  'a3@15-19',\n",
              "  'a3@0-4',\n",
              "  'a3@25-29',\n",
              "  'a3@50-54',\n",
              "  'a3@10-14',\n",
              "  'a3@40-44',\n",
              "  'a3@35-39',\n",
              "  'a3@5-9',\n",
              "  'a3@45-49'],\n",
              " ['a4@0-2', 'a4@6-8', 'a4@9-11', 'a4@3-5', 'a4@15-17', 'a4@12-14', 'a4@24-26'],\n",
              " ['a5@no', 'a5@yes', 'a5@?'],\n",
              " ['a6@3', 'a6@2', 'a6@1'],\n",
              " ['a7@left', 'a7@right'],\n",
              " ['a8@left_low',\n",
              "  'a8@right_up',\n",
              "  'a8@left_up',\n",
              "  'a8@right_low',\n",
              "  'a8@central',\n",
              "  'a8@?'],\n",
              " ['a9@no', 'a9@yes'],\n",
              " ['class@yes', 'class@no']]"
            ]
          },
          "metadata": {
            "tags": []
          },
          "execution_count": 26
        }
      ]
    },
    {
      "cell_type": "code",
      "metadata": {
        "id": "6cJva1njKC-G"
      },
      "source": [
        "from pandas.core.common import flatten\r\n"
      ],
      "execution_count": 27,
      "outputs": []
    },
    {
      "cell_type": "code",
      "metadata": {
        "id": "LAeMMYEmKC-H"
      },
      "source": [
        "u_list = list(flatten(new_list))"
      ],
      "execution_count": 28,
      "outputs": []
    },
    {
      "cell_type": "code",
      "metadata": {
        "id": "B21eq2kCKC-M"
      },
      "source": [
        "u_list = list(flatten(new_list))"
      ],
      "execution_count": 29,
      "outputs": []
    },
    {
      "cell_type": "code",
      "metadata": {
        "id": "kaafnqPKRpu6"
      },
      "source": [
        "u_list.remove('class@yes')\r\n",
        "u_list.remove('class@no')"
      ],
      "execution_count": 30,
      "outputs": []
    },
    {
      "cell_type": "code",
      "metadata": {
        "id": "Cc1Ll5fvJTMB"
      },
      "source": [
        "neg_df = df.apply(lambda x: list(set(u_list) - set(x)), axis=1)"
      ],
      "execution_count": 31,
      "outputs": []
    },
    {
      "cell_type": "code",
      "metadata": {
        "colab": {
          "base_uri": "https://localhost:8080/"
        },
        "id": "DKoqikeaLWP1",
        "outputId": "4c928370-cbc2-42d0-ea49-e3fbf0f3a200"
      },
      "source": [
        "neg_df"
      ],
      "execution_count": 32,
      "outputs": [
        {
          "output_type": "execute_result",
          "data": {
            "text/plain": [
              "0      [a5@?, a3@40-44, a4@24-26, a8@right_up, a2@ge4...\n",
              "1      [a5@?, a3@40-44, a4@24-26, a7@left, a2@ge40, a...\n",
              "2      [a5@?, a3@40-44, a4@24-26, a8@right_up, a2@ge4...\n",
              "3      [a5@?, a3@40-44, a4@24-26, a8@right_up, a7@lef...\n",
              "4      [a5@?, a3@40-44, a4@24-26, a8@right_up, a7@lef...\n",
              "                             ...                        \n",
              "235    [a5@?, a3@40-44, a4@24-26, a7@left, a2@ge40, a...\n",
              "236    [a5@?, a3@40-44, a4@24-26, a8@right_up, a2@ge4...\n",
              "237    [a5@?, a3@40-44, a4@24-26, a8@right_up, a2@ge4...\n",
              "238    [a5@?, a3@40-44, a4@24-26, a8@right_up, a1@30-...\n",
              "239    [a5@?, a3@40-44, a4@24-26, a8@right_up, a1@30-...\n",
              "Length: 240, dtype: object"
            ]
          },
          "metadata": {
            "tags": []
          },
          "execution_count": 32
        }
      ]
    },
    {
      "cell_type": "code",
      "metadata": {
        "id": "Iw4DEtJXKqvy"
      },
      "source": [
        "neg_df.to_csv(\"neg_data.txt\",index=False)"
      ],
      "execution_count": 33,
      "outputs": []
    },
    {
      "cell_type": "code",
      "metadata": {
        "id": "sYp0pGMlMNin"
      },
      "source": [
        "a = [\"[\",\"]\",\"'\",'\"']\r\n",
        "lst = []\r\n",
        "with open(\"/content/neg_data.txt\", 'r') as neg_data:\r\n",
        "  for line in neg_data:\r\n",
        "    for symbol in a:\r\n",
        "      if symbol in line:\r\n",
        "        line = line.replace(symbol,'')\r\n",
        "      if \", \" in line:\r\n",
        "        line = line.replace(\", \", \",\")\r\n",
        "    lst.append(line)\r\n",
        "neg_data.close()\r\n",
        "f = open('/content/neg_data.txt','w')\r\n",
        "for line in lst:\r\n",
        "    f.write(line)\r\n",
        "f.close()"
      ],
      "execution_count": 34,
      "outputs": []
    },
    {
      "cell_type": "code",
      "metadata": {
        "id": "xyS08omsPDas"
      },
      "source": [
        "new_data = pd.concat([df['class_col'],neg_df],axis=1)"
      ],
      "execution_count": 35,
      "outputs": []
    },
    {
      "cell_type": "code",
      "metadata": {
        "colab": {
          "base_uri": "https://localhost:8080/",
          "height": 402
        },
        "id": "mm-8RuQTPHBT",
        "outputId": "266ad987-807c-41b4-db85-b48524cc0044"
      },
      "source": [
        "new_data"
      ],
      "execution_count": 36,
      "outputs": [
        {
          "output_type": "execute_result",
          "data": {
            "text/html": [
              "<div>\n",
              "<style scoped>\n",
              "    .dataframe tbody tr th:only-of-type {\n",
              "        vertical-align: middle;\n",
              "    }\n",
              "\n",
              "    .dataframe tbody tr th {\n",
              "        vertical-align: top;\n",
              "    }\n",
              "\n",
              "    .dataframe thead th {\n",
              "        text-align: right;\n",
              "    }\n",
              "</style>\n",
              "<table border=\"1\" class=\"dataframe\">\n",
              "  <thead>\n",
              "    <tr style=\"text-align: right;\">\n",
              "      <th></th>\n",
              "      <th>class_col</th>\n",
              "      <th>0</th>\n",
              "    </tr>\n",
              "  </thead>\n",
              "  <tbody>\n",
              "    <tr>\n",
              "      <th>0</th>\n",
              "      <td>class@yes</td>\n",
              "      <td>[a5@?, a3@40-44, a4@24-26, a8@right_up, a2@ge4...</td>\n",
              "    </tr>\n",
              "    <tr>\n",
              "      <th>1</th>\n",
              "      <td>class@yes</td>\n",
              "      <td>[a5@?, a3@40-44, a4@24-26, a7@left, a2@ge40, a...</td>\n",
              "    </tr>\n",
              "    <tr>\n",
              "      <th>2</th>\n",
              "      <td>class@yes</td>\n",
              "      <td>[a5@?, a3@40-44, a4@24-26, a8@right_up, a2@ge4...</td>\n",
              "    </tr>\n",
              "    <tr>\n",
              "      <th>3</th>\n",
              "      <td>class@yes</td>\n",
              "      <td>[a5@?, a3@40-44, a4@24-26, a8@right_up, a7@lef...</td>\n",
              "    </tr>\n",
              "    <tr>\n",
              "      <th>4</th>\n",
              "      <td>class@yes</td>\n",
              "      <td>[a5@?, a3@40-44, a4@24-26, a8@right_up, a7@lef...</td>\n",
              "    </tr>\n",
              "    <tr>\n",
              "      <th>...</th>\n",
              "      <td>...</td>\n",
              "      <td>...</td>\n",
              "    </tr>\n",
              "    <tr>\n",
              "      <th>235</th>\n",
              "      <td>class@no</td>\n",
              "      <td>[a5@?, a3@40-44, a4@24-26, a7@left, a2@ge40, a...</td>\n",
              "    </tr>\n",
              "    <tr>\n",
              "      <th>236</th>\n",
              "      <td>class@no</td>\n",
              "      <td>[a5@?, a3@40-44, a4@24-26, a8@right_up, a2@ge4...</td>\n",
              "    </tr>\n",
              "    <tr>\n",
              "      <th>237</th>\n",
              "      <td>class@no</td>\n",
              "      <td>[a5@?, a3@40-44, a4@24-26, a8@right_up, a2@ge4...</td>\n",
              "    </tr>\n",
              "    <tr>\n",
              "      <th>238</th>\n",
              "      <td>class@no</td>\n",
              "      <td>[a5@?, a3@40-44, a4@24-26, a8@right_up, a1@30-...</td>\n",
              "    </tr>\n",
              "    <tr>\n",
              "      <th>239</th>\n",
              "      <td>class@no</td>\n",
              "      <td>[a5@?, a3@40-44, a4@24-26, a8@right_up, a1@30-...</td>\n",
              "    </tr>\n",
              "  </tbody>\n",
              "</table>\n",
              "<p>240 rows × 2 columns</p>\n",
              "</div>"
            ],
            "text/plain": [
              "     class_col                                                  0\n",
              "0    class@yes  [a5@?, a3@40-44, a4@24-26, a8@right_up, a2@ge4...\n",
              "1    class@yes  [a5@?, a3@40-44, a4@24-26, a7@left, a2@ge40, a...\n",
              "2    class@yes  [a5@?, a3@40-44, a4@24-26, a8@right_up, a2@ge4...\n",
              "3    class@yes  [a5@?, a3@40-44, a4@24-26, a8@right_up, a7@lef...\n",
              "4    class@yes  [a5@?, a3@40-44, a4@24-26, a8@right_up, a7@lef...\n",
              "..         ...                                                ...\n",
              "235   class@no  [a5@?, a3@40-44, a4@24-26, a7@left, a2@ge40, a...\n",
              "236   class@no  [a5@?, a3@40-44, a4@24-26, a8@right_up, a2@ge4...\n",
              "237   class@no  [a5@?, a3@40-44, a4@24-26, a8@right_up, a2@ge4...\n",
              "238   class@no  [a5@?, a3@40-44, a4@24-26, a8@right_up, a1@30-...\n",
              "239   class@no  [a5@?, a3@40-44, a4@24-26, a8@right_up, a1@30-...\n",
              "\n",
              "[240 rows x 2 columns]"
            ]
          },
          "metadata": {
            "tags": []
          },
          "execution_count": 36
        }
      ]
    },
    {
      "cell_type": "code",
      "metadata": {
        "id": "h6ZGQcLcQexC"
      },
      "source": [
        "new_data.to_csv(\"neg_data_c.txt\",index=False,header=False)"
      ],
      "execution_count": 37,
      "outputs": []
    },
    {
      "cell_type": "code",
      "metadata": {
        "id": "tomi-VUXQmXD"
      },
      "source": [
        "a = [\"[\",\"]\",\"'\",'\"']\r\n",
        "lst = []\r\n",
        "with open(\"/content/neg_data_c.txt\", 'r') as neg_data:\r\n",
        "  for line in neg_data:\r\n",
        "    for symbol in a:\r\n",
        "      if symbol in line:\r\n",
        "        line = line.replace(symbol,'')\r\n",
        "      if \", \" in line:\r\n",
        "        line = line.replace(\", \", \",\")\r\n",
        "    lst.append(line)\r\n",
        "neg_data.close()\r\n",
        "f = open('/content/neg_data_c.txt','w')\r\n",
        "for line in lst:\r\n",
        "    f.write(line)\r\n",
        "f.close()"
      ],
      "execution_count": 38,
      "outputs": []
    },
    {
      "cell_type": "markdown",
      "metadata": {
        "id": "Z1twLAN3SpRJ"
      },
      "source": [
        "Running FP growth on it"
      ]
    },
    {
      "cell_type": "code",
      "metadata": {
        "colab": {
          "base_uri": "https://localhost:8080/"
        },
        "id": "pWWcqPYWs1Rz",
        "outputId": "6f2a597c-44b0-4bb9-d70d-e78d68c9a566"
      },
      "source": [
        "pip install pyfpgrowth"
      ],
      "execution_count": 39,
      "outputs": [
        {
          "output_type": "stream",
          "text": [
            "Requirement already satisfied: pyfpgrowth in /usr/local/lib/python3.6/dist-packages (1.0)\n"
          ],
          "name": "stdout"
        }
      ]
    },
    {
      "cell_type": "code",
      "metadata": {
        "id": "Ms3rM3a0tisa"
      },
      "source": [
        "import pyfpgrowth"
      ],
      "execution_count": 40,
      "outputs": []
    },
    {
      "cell_type": "code",
      "metadata": {
        "id": "i6e2Sa6bvNB7"
      },
      "source": [
        "import pandas as pd\r\n",
        "df = pd.read_csv('/content/neg_data_c.txt', header = None, sep=\",\")"
      ],
      "execution_count": 41,
      "outputs": []
    },
    {
      "cell_type": "code",
      "metadata": {
        "colab": {
          "base_uri": "https://localhost:8080/",
          "height": 299
        },
        "id": "45fuWmLOvudt",
        "outputId": "8c231c1f-1e63-4cf2-ac22-1a357aea7b5f"
      },
      "source": [
        "df.head(5)"
      ],
      "execution_count": 42,
      "outputs": [
        {
          "output_type": "execute_result",
          "data": {
            "text/html": [
              "<div>\n",
              "<style scoped>\n",
              "    .dataframe tbody tr th:only-of-type {\n",
              "        vertical-align: middle;\n",
              "    }\n",
              "\n",
              "    .dataframe tbody tr th {\n",
              "        vertical-align: top;\n",
              "    }\n",
              "\n",
              "    .dataframe thead th {\n",
              "        text-align: right;\n",
              "    }\n",
              "</style>\n",
              "<table border=\"1\" class=\"dataframe\">\n",
              "  <thead>\n",
              "    <tr style=\"text-align: right;\">\n",
              "      <th></th>\n",
              "      <th>0</th>\n",
              "      <th>1</th>\n",
              "      <th>2</th>\n",
              "      <th>3</th>\n",
              "      <th>4</th>\n",
              "      <th>5</th>\n",
              "      <th>6</th>\n",
              "      <th>7</th>\n",
              "      <th>8</th>\n",
              "      <th>9</th>\n",
              "      <th>10</th>\n",
              "      <th>11</th>\n",
              "      <th>12</th>\n",
              "      <th>13</th>\n",
              "      <th>14</th>\n",
              "      <th>15</th>\n",
              "      <th>16</th>\n",
              "      <th>17</th>\n",
              "      <th>18</th>\n",
              "      <th>19</th>\n",
              "      <th>20</th>\n",
              "      <th>21</th>\n",
              "      <th>22</th>\n",
              "      <th>23</th>\n",
              "      <th>24</th>\n",
              "      <th>25</th>\n",
              "      <th>26</th>\n",
              "      <th>27</th>\n",
              "      <th>28</th>\n",
              "      <th>29</th>\n",
              "      <th>30</th>\n",
              "      <th>31</th>\n",
              "      <th>32</th>\n",
              "      <th>33</th>\n",
              "    </tr>\n",
              "  </thead>\n",
              "  <tbody>\n",
              "    <tr>\n",
              "      <th>0</th>\n",
              "      <td>class@yes</td>\n",
              "      <td>a5@?</td>\n",
              "      <td>a3@40-44</td>\n",
              "      <td>a4@24-26</td>\n",
              "      <td>a8@right_up</td>\n",
              "      <td>a2@ge40</td>\n",
              "      <td>a1@40-49</td>\n",
              "      <td>a4@9-11</td>\n",
              "      <td>a3@5-9</td>\n",
              "      <td>a3@0-4</td>\n",
              "      <td>a4@12-14</td>\n",
              "      <td>a4@15-17</td>\n",
              "      <td>a3@25-29</td>\n",
              "      <td>a9@yes</td>\n",
              "      <td>a1@70-79</td>\n",
              "      <td>a6@2</td>\n",
              "      <td>a4@3-5</td>\n",
              "      <td>a3@45-49</td>\n",
              "      <td>a7@right</td>\n",
              "      <td>a6@1</td>\n",
              "      <td>a3@20-24</td>\n",
              "      <td>a8@right_low</td>\n",
              "      <td>a2@lt40</td>\n",
              "      <td>a1@60-69</td>\n",
              "      <td>a5@yes</td>\n",
              "      <td>a3@10-14</td>\n",
              "      <td>a4@6-8</td>\n",
              "      <td>a8@?</td>\n",
              "      <td>a8@left_up</td>\n",
              "      <td>a3@50-54</td>\n",
              "      <td>a1@50-59</td>\n",
              "      <td>a3@15-19</td>\n",
              "      <td>a8@central</td>\n",
              "      <td>a3@35-39</td>\n",
              "    </tr>\n",
              "    <tr>\n",
              "      <th>1</th>\n",
              "      <td>class@yes</td>\n",
              "      <td>a5@?</td>\n",
              "      <td>a3@40-44</td>\n",
              "      <td>a4@24-26</td>\n",
              "      <td>a7@left</td>\n",
              "      <td>a2@ge40</td>\n",
              "      <td>a1@30-39</td>\n",
              "      <td>a3@35-39</td>\n",
              "      <td>a4@9-11</td>\n",
              "      <td>a3@5-9</td>\n",
              "      <td>a3@0-4</td>\n",
              "      <td>a4@12-14</td>\n",
              "      <td>a4@15-17</td>\n",
              "      <td>a3@25-29</td>\n",
              "      <td>a8@left_low</td>\n",
              "      <td>a1@70-79</td>\n",
              "      <td>a9@yes</td>\n",
              "      <td>a4@3-5</td>\n",
              "      <td>a3@45-49</td>\n",
              "      <td>a6@1</td>\n",
              "      <td>a8@right_low</td>\n",
              "      <td>a2@lt40</td>\n",
              "      <td>a1@60-69</td>\n",
              "      <td>a5@yes</td>\n",
              "      <td>a3@10-14</td>\n",
              "      <td>a4@6-8</td>\n",
              "      <td>a6@3</td>\n",
              "      <td>a8@?</td>\n",
              "      <td>a8@left_up</td>\n",
              "      <td>a3@50-54</td>\n",
              "      <td>a1@50-59</td>\n",
              "      <td>a3@15-19</td>\n",
              "      <td>a8@central</td>\n",
              "      <td>a3@30-34</td>\n",
              "    </tr>\n",
              "    <tr>\n",
              "      <th>2</th>\n",
              "      <td>class@yes</td>\n",
              "      <td>a5@?</td>\n",
              "      <td>a3@40-44</td>\n",
              "      <td>a4@24-26</td>\n",
              "      <td>a8@right_up</td>\n",
              "      <td>a2@ge40</td>\n",
              "      <td>a1@30-39</td>\n",
              "      <td>a3@35-39</td>\n",
              "      <td>a4@9-11</td>\n",
              "      <td>a3@5-9</td>\n",
              "      <td>a3@0-4</td>\n",
              "      <td>a4@12-14</td>\n",
              "      <td>a4@15-17</td>\n",
              "      <td>a3@25-29</td>\n",
              "      <td>a9@yes</td>\n",
              "      <td>a1@70-79</td>\n",
              "      <td>a4@3-5</td>\n",
              "      <td>a3@45-49</td>\n",
              "      <td>a7@right</td>\n",
              "      <td>a6@1</td>\n",
              "      <td>a8@right_low</td>\n",
              "      <td>a2@lt40</td>\n",
              "      <td>a1@60-69</td>\n",
              "      <td>a5@yes</td>\n",
              "      <td>a3@10-14</td>\n",
              "      <td>a4@6-8</td>\n",
              "      <td>a6@3</td>\n",
              "      <td>a8@?</td>\n",
              "      <td>a8@left_up</td>\n",
              "      <td>a3@50-54</td>\n",
              "      <td>a1@50-59</td>\n",
              "      <td>a3@15-19</td>\n",
              "      <td>a8@central</td>\n",
              "      <td>a3@30-34</td>\n",
              "    </tr>\n",
              "    <tr>\n",
              "      <th>3</th>\n",
              "      <td>class@yes</td>\n",
              "      <td>a5@?</td>\n",
              "      <td>a3@40-44</td>\n",
              "      <td>a4@24-26</td>\n",
              "      <td>a8@right_up</td>\n",
              "      <td>a7@left</td>\n",
              "      <td>a1@30-39</td>\n",
              "      <td>a1@40-49</td>\n",
              "      <td>a3@35-39</td>\n",
              "      <td>a4@9-11</td>\n",
              "      <td>a3@5-9</td>\n",
              "      <td>a3@0-4</td>\n",
              "      <td>a4@12-14</td>\n",
              "      <td>a4@15-17</td>\n",
              "      <td>a3@25-29</td>\n",
              "      <td>a8@left_low</td>\n",
              "      <td>a1@70-79</td>\n",
              "      <td>a2@premeno</td>\n",
              "      <td>a9@yes</td>\n",
              "      <td>a4@3-5</td>\n",
              "      <td>a3@45-49</td>\n",
              "      <td>a6@1</td>\n",
              "      <td>a3@20-24</td>\n",
              "      <td>a8@right_low</td>\n",
              "      <td>a2@lt40</td>\n",
              "      <td>a5@yes</td>\n",
              "      <td>a3@10-14</td>\n",
              "      <td>a4@6-8</td>\n",
              "      <td>a6@3</td>\n",
              "      <td>a8@?</td>\n",
              "      <td>a3@50-54</td>\n",
              "      <td>a1@50-59</td>\n",
              "      <td>a8@central</td>\n",
              "      <td>a3@30-34</td>\n",
              "    </tr>\n",
              "    <tr>\n",
              "      <th>4</th>\n",
              "      <td>class@yes</td>\n",
              "      <td>a5@?</td>\n",
              "      <td>a3@40-44</td>\n",
              "      <td>a4@24-26</td>\n",
              "      <td>a8@right_up</td>\n",
              "      <td>a7@left</td>\n",
              "      <td>a2@ge40</td>\n",
              "      <td>a1@30-39</td>\n",
              "      <td>a3@35-39</td>\n",
              "      <td>a4@9-11</td>\n",
              "      <td>a3@5-9</td>\n",
              "      <td>a4@12-14</td>\n",
              "      <td>a4@15-17</td>\n",
              "      <td>a3@25-29</td>\n",
              "      <td>a8@left_low</td>\n",
              "      <td>a1@70-79</td>\n",
              "      <td>a9@yes</td>\n",
              "      <td>a4@3-5</td>\n",
              "      <td>a3@45-49</td>\n",
              "      <td>a6@1</td>\n",
              "      <td>a3@20-24</td>\n",
              "      <td>a2@lt40</td>\n",
              "      <td>a1@60-69</td>\n",
              "      <td>a5@yes</td>\n",
              "      <td>a3@10-14</td>\n",
              "      <td>a4@6-8</td>\n",
              "      <td>a6@3</td>\n",
              "      <td>a8@?</td>\n",
              "      <td>a8@left_up</td>\n",
              "      <td>a3@50-54</td>\n",
              "      <td>a1@50-59</td>\n",
              "      <td>a3@15-19</td>\n",
              "      <td>a8@central</td>\n",
              "      <td>a3@30-34</td>\n",
              "    </tr>\n",
              "  </tbody>\n",
              "</table>\n",
              "</div>"
            ],
            "text/plain": [
              "          0     1         2   ...        31          32        33\n",
              "0  class@yes  a5@?  a3@40-44  ...  a3@15-19  a8@central  a3@35-39\n",
              "1  class@yes  a5@?  a3@40-44  ...  a3@15-19  a8@central  a3@30-34\n",
              "2  class@yes  a5@?  a3@40-44  ...  a3@15-19  a8@central  a3@30-34\n",
              "3  class@yes  a5@?  a3@40-44  ...  a1@50-59  a8@central  a3@30-34\n",
              "4  class@yes  a5@?  a3@40-44  ...  a3@15-19  a8@central  a3@30-34\n",
              "\n",
              "[5 rows x 34 columns]"
            ]
          },
          "metadata": {
            "tags": []
          },
          "execution_count": 42
        }
      ]
    },
    {
      "cell_type": "code",
      "metadata": {
        "id": "mi2IxGKDwAwc"
      },
      "source": [
        "trans = df.values.tolist()"
      ],
      "execution_count": 43,
      "outputs": []
    },
    {
      "cell_type": "code",
      "metadata": {
        "id": "gtguVyjpvyiD"
      },
      "source": [
        "patterns = pyfpgrowth.find_frequent_patterns(trans, .8)"
      ],
      "execution_count": null,
      "outputs": []
    },
    {
      "cell_type": "code",
      "metadata": {
        "id": "T5Ih-Xevv0qs"
      },
      "source": [
        "patterns"
      ],
      "execution_count": null,
      "outputs": []
    },
    {
      "cell_type": "code",
      "metadata": {
        "id": "_F_CuNFIwduk"
      },
      "source": [
        "rules = pyfpgrowth.generate_association_rules(patterns, 0.8)\r\n",
        "rules"
      ],
      "execution_count": null,
      "outputs": []
    }
  ]
}