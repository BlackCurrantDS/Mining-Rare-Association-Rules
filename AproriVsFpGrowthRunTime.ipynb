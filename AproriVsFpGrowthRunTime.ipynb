{
  "nbformat": 4,
  "nbformat_minor": 0,
  "metadata": {
    "colab": {
      "name": "AproriVsFpGrowthRunTime.ipynb",
      "provenance": [],
      "mount_file_id": "https://github.com/BlackCurrantDS/DBSE_Project/blob/main/AproriVsFpGrowthRunTime.ipynb",
      "authorship_tag": "ABX9TyM3RtyRVZUlJc69UoXY+RAr",
      "include_colab_link": true
    },
    "kernelspec": {
      "name": "python3",
      "display_name": "Python 3"
    }
  },
  "cells": [
    {
      "cell_type": "markdown",
      "metadata": {
        "id": "view-in-github",
        "colab_type": "text"
      },
      "source": [
        "<a href=\"https://colab.research.google.com/github/BlackCurrantDS/DBSE_Project/blob/main/AproriVsFpGrowthRunTime.ipynb\" target=\"_parent\"><img src=\"https://colab.research.google.com/assets/colab-badge.svg\" alt=\"Open In Colab\"/></a>"
      ]
    },
    {
      "cell_type": "markdown",
      "metadata": {
        "id": "q22edxrxjJIv"
      },
      "source": [
        "Fp Growth"
      ]
    },
    {
      "cell_type": "code",
      "metadata": {
        "colab": {
          "base_uri": "https://localhost:8080/"
        },
        "id": "pWWcqPYWs1Rz",
        "outputId": "9b6f1961-6ddf-466e-ccbc-1edb6265a28f"
      },
      "source": [
        "pip install pyfpgrowth"
      ],
      "execution_count": 4,
      "outputs": [
        {
          "output_type": "stream",
          "text": [
            "Requirement already satisfied: pyfpgrowth in /usr/local/lib/python3.6/dist-packages (1.0)\n"
          ],
          "name": "stdout"
        }
      ]
    },
    {
      "cell_type": "code",
      "metadata": {
        "id": "Ms3rM3a0tisa"
      },
      "source": [
        "import pyfpgrowth"
      ],
      "execution_count": 5,
      "outputs": []
    },
    {
      "cell_type": "code",
      "metadata": {
        "id": "i6e2Sa6bvNB7"
      },
      "source": [
        "import pandas as pd\r\n",
        "df = pd.read_csv('/content/drive/MyDrive/BreastCancer_Dataset1202/breast_train_transactions.txt', header = None, sep=\",\" , names=['a','b','c', 'd', 'e', 'f','g', 'h', 'i', 'k'])"
      ],
      "execution_count": 6,
      "outputs": []
    },
    {
      "cell_type": "code",
      "metadata": {
        "colab": {
          "base_uri": "https://localhost:8080/",
          "height": 195
        },
        "id": "45fuWmLOvudt",
        "outputId": "9bcd9bba-46a7-4cf1-b829-06b7bc0855c0"
      },
      "source": [
        "df.head(5)"
      ],
      "execution_count": 7,
      "outputs": [
        {
          "output_type": "execute_result",
          "data": {
            "text/html": [
              "<div>\n",
              "<style scoped>\n",
              "    .dataframe tbody tr th:only-of-type {\n",
              "        vertical-align: middle;\n",
              "    }\n",
              "\n",
              "    .dataframe tbody tr th {\n",
              "        vertical-align: top;\n",
              "    }\n",
              "\n",
              "    .dataframe thead th {\n",
              "        text-align: right;\n",
              "    }\n",
              "</style>\n",
              "<table border=\"1\" class=\"dataframe\">\n",
              "  <thead>\n",
              "    <tr style=\"text-align: right;\">\n",
              "      <th></th>\n",
              "      <th>a</th>\n",
              "      <th>b</th>\n",
              "      <th>c</th>\n",
              "      <th>d</th>\n",
              "      <th>e</th>\n",
              "      <th>f</th>\n",
              "      <th>g</th>\n",
              "      <th>h</th>\n",
              "      <th>i</th>\n",
              "      <th>k</th>\n",
              "    </tr>\n",
              "  </thead>\n",
              "  <tbody>\n",
              "    <tr>\n",
              "      <th>0</th>\n",
              "      <td>class@no</td>\n",
              "      <td>a1@30-39</td>\n",
              "      <td>a2@premeno</td>\n",
              "      <td>a3@30-34</td>\n",
              "      <td>a4@0-2</td>\n",
              "      <td>a5@no</td>\n",
              "      <td>a6@3</td>\n",
              "      <td>a7@left</td>\n",
              "      <td>a8@left_low</td>\n",
              "      <td>a9@no</td>\n",
              "    </tr>\n",
              "    <tr>\n",
              "      <th>1</th>\n",
              "      <td>class@no</td>\n",
              "      <td>a1@40-49</td>\n",
              "      <td>a2@premeno</td>\n",
              "      <td>a3@20-24</td>\n",
              "      <td>a4@0-2</td>\n",
              "      <td>a5@no</td>\n",
              "      <td>a6@2</td>\n",
              "      <td>a7@right</td>\n",
              "      <td>a8@right_up</td>\n",
              "      <td>a9@no</td>\n",
              "    </tr>\n",
              "    <tr>\n",
              "      <th>2</th>\n",
              "      <td>class@no</td>\n",
              "      <td>a1@40-49</td>\n",
              "      <td>a2@premeno</td>\n",
              "      <td>a3@20-24</td>\n",
              "      <td>a4@0-2</td>\n",
              "      <td>a5@no</td>\n",
              "      <td>a6@2</td>\n",
              "      <td>a7@left</td>\n",
              "      <td>a8@left_low</td>\n",
              "      <td>a9@no</td>\n",
              "    </tr>\n",
              "    <tr>\n",
              "      <th>3</th>\n",
              "      <td>class@no</td>\n",
              "      <td>a1@60-69</td>\n",
              "      <td>a2@ge40</td>\n",
              "      <td>a3@15-19</td>\n",
              "      <td>a4@0-2</td>\n",
              "      <td>a5@no</td>\n",
              "      <td>a6@2</td>\n",
              "      <td>a7@right</td>\n",
              "      <td>a8@left_up</td>\n",
              "      <td>a9@no</td>\n",
              "    </tr>\n",
              "    <tr>\n",
              "      <th>4</th>\n",
              "      <td>class@no</td>\n",
              "      <td>a1@40-49</td>\n",
              "      <td>a2@premeno</td>\n",
              "      <td>a3@0-4</td>\n",
              "      <td>a4@0-2</td>\n",
              "      <td>a5@no</td>\n",
              "      <td>a6@2</td>\n",
              "      <td>a7@right</td>\n",
              "      <td>a8@right_low</td>\n",
              "      <td>a9@no</td>\n",
              "    </tr>\n",
              "  </tbody>\n",
              "</table>\n",
              "</div>"
            ],
            "text/plain": [
              "          a         b           c  ...         h             i      k\n",
              "0  class@no  a1@30-39  a2@premeno  ...   a7@left   a8@left_low  a9@no\n",
              "1  class@no  a1@40-49  a2@premeno  ...  a7@right   a8@right_up  a9@no\n",
              "2  class@no  a1@40-49  a2@premeno  ...   a7@left   a8@left_low  a9@no\n",
              "3  class@no  a1@60-69     a2@ge40  ...  a7@right    a8@left_up  a9@no\n",
              "4  class@no  a1@40-49  a2@premeno  ...  a7@right  a8@right_low  a9@no\n",
              "\n",
              "[5 rows x 10 columns]"
            ]
          },
          "metadata": {
            "tags": []
          },
          "execution_count": 7
        }
      ]
    },
    {
      "cell_type": "code",
      "metadata": {
        "id": "mi2IxGKDwAwc"
      },
      "source": [
        "trans = df.values.tolist()"
      ],
      "execution_count": 8,
      "outputs": []
    },
    {
      "cell_type": "code",
      "metadata": {
        "id": "gtguVyjpvyiD"
      },
      "source": [
        "patterns = pyfpgrowth.find_frequent_patterns(trans, .01)"
      ],
      "execution_count": 9,
      "outputs": []
    },
    {
      "cell_type": "code",
      "metadata": {
        "id": "EKb4gd6OjYWf"
      },
      "source": [
        "min_sup = [ .01, .02,.03,.04, .05,.06,.07,.08,.09, .1, .2, .5, .6]"
      ],
      "execution_count": 10,
      "outputs": []
    },
    {
      "cell_type": "code",
      "metadata": {
        "colab": {
          "base_uri": "https://localhost:8080/"
        },
        "id": "T5Ih-Xevv0qs",
        "outputId": "bb330c87-0ad0-4b22-9221-e926f89767f0"
      },
      "source": [
        "import time\r\n",
        "run_time_fp = []\r\n",
        "for i in min_sup:\r\n",
        "    print(i)\r\n",
        "    start_time = time.time()\r\n",
        "    patterns = pyfpgrowth.find_frequent_patterns(trans, i)\r\n",
        "    print(\"For %i--- %s seconds ---\" %(i, time.time() - start_time))\r\n",
        "    run_time_fp.append(time.time() - start_time)\r\n",
        "  \r\n",
        "run_time_fp"
      ],
      "execution_count": 11,
      "outputs": [
        {
          "output_type": "stream",
          "text": [
            "0.01\n",
            "For 0--- 1.4078245162963867 seconds ---\n",
            "0.02\n",
            "For 0--- 1.1184546947479248 seconds ---\n",
            "0.03\n",
            "For 0--- 1.2253034114837646 seconds ---\n",
            "0.04\n",
            "For 0--- 1.1287918090820312 seconds ---\n",
            "0.05\n",
            "For 0--- 1.1088080406188965 seconds ---\n",
            "0.06\n",
            "For 0--- 0.9682514667510986 seconds ---\n",
            "0.07\n",
            "For 0--- 1.023705244064331 seconds ---\n",
            "0.08\n",
            "For 0--- 0.9400098323822021 seconds ---\n",
            "0.09\n",
            "For 0--- 1.0234375 seconds ---\n",
            "0.1\n",
            "For 0--- 0.9477245807647705 seconds ---\n",
            "0.2\n",
            "For 0--- 1.0142359733581543 seconds ---\n",
            "0.5\n",
            "For 0--- 0.9693470001220703 seconds ---\n",
            "0.6\n",
            "For 0--- 1.0510907173156738 seconds ---\n"
          ],
          "name": "stdout"
        },
        {
          "output_type": "execute_result",
          "data": {
            "text/plain": [
              "[1.407996416091919,\n",
              " 1.1186096668243408,\n",
              " 1.225496530532837,\n",
              " 1.1289763450622559,\n",
              " 1.109330177307129,\n",
              " 0.9684243202209473,\n",
              " 1.0241918563842773,\n",
              " 0.9404604434967041,\n",
              " 1.0239062309265137,\n",
              " 0.9482018947601318,\n",
              " 1.014683723449707,\n",
              " 0.9697995185852051,\n",
              " 1.0515031814575195]"
            ]
          },
          "metadata": {
            "tags": []
          },
          "execution_count": 11
        }
      ]
    },
    {
      "cell_type": "markdown",
      "metadata": {
        "id": "sXsRBYBvlkiu"
      },
      "source": [
        "Apriori"
      ]
    },
    {
      "cell_type": "code",
      "metadata": {
        "colab": {
          "base_uri": "https://localhost:8080/"
        },
        "id": "AzxNmhsAlmZN",
        "outputId": "d4adb00f-ba23-4fe2-ea7f-909d4a3248fc"
      },
      "source": [
        "pip install apriori_python"
      ],
      "execution_count": 12,
      "outputs": [
        {
          "output_type": "stream",
          "text": [
            "Collecting apriori_python\n",
            "  Downloading https://files.pythonhosted.org/packages/34/94/fc3bacb14e6e5c63d24c5a90132185d63c08479cd27a61a0e22dd2b7ed77/apriori_python-1.0.4-py3-none-any.whl\n",
            "Installing collected packages: apriori-python\n",
            "Successfully installed apriori-python-1.0.4\n"
          ],
          "name": "stdout"
        }
      ]
    },
    {
      "cell_type": "code",
      "metadata": {
        "id": "1TfOa-Qylxt9"
      },
      "source": [
        "from apriori_python import apriori"
      ],
      "execution_count": 13,
      "outputs": []
    },
    {
      "cell_type": "code",
      "metadata": {
        "colab": {
          "base_uri": "https://localhost:8080/"
        },
        "id": "iUfKkY9bl8Eu",
        "outputId": "5b3ad919-c64a-4f6d-fd90-db2fcc59274f"
      },
      "source": [
        "min_sup = [.01, .02,.03,.04, .05,.06,.07,.08,.09, .1, .2, .5, .6]\r\n",
        "import time\r\n",
        "run_time_apr = []\r\n",
        "for i in min_sup:\r\n",
        "    print(i)\r\n",
        "    start_time = time.time()\r\n",
        "    freqItemSet, rules = apriori(trans, minSup=i, minConf=0.5)\r\n",
        "    print(\"For %i--- %s seconds ---\" %(i, time.time() - start_time))\r\n",
        "    run_time_apr.append(time.time() - start_time)\r\n",
        "  \r\n",
        "run_time_apr"
      ],
      "execution_count": 14,
      "outputs": [
        {
          "output_type": "stream",
          "text": [
            "0.01\n",
            "For 0--- 84.47917222976685 seconds ---\n",
            "0.02\n",
            "For 0--- 15.840943574905396 seconds ---\n",
            "0.03\n",
            "For 0--- 3.956165075302124 seconds ---\n",
            "0.04\n",
            "For 0--- 2.1765360832214355 seconds ---\n",
            "0.05\n",
            "For 0--- 1.2895915508270264 seconds ---\n",
            "0.06\n",
            "For 0--- 0.7615444660186768 seconds ---\n",
            "0.07\n",
            "For 0--- 0.5106945037841797 seconds ---\n",
            "0.08\n",
            "For 0--- 0.41762495040893555 seconds ---\n",
            "0.09\n",
            "For 0--- 0.28185176849365234 seconds ---\n",
            "0.1\n",
            "For 0--- 0.23801827430725098 seconds ---\n",
            "0.2\n",
            "For 0--- 0.0571446418762207 seconds ---\n",
            "0.5\n",
            "For 0--- 0.010422706604003906 seconds ---\n",
            "0.6\n",
            "For 0--- 0.007788658142089844 seconds ---\n"
          ],
          "name": "stdout"
        },
        {
          "output_type": "execute_result",
          "data": {
            "text/plain": [
              "[84.47935795783997,\n",
              " 15.8414306640625,\n",
              " 3.9566612243652344,\n",
              " 2.176718235015869,\n",
              " 1.2900769710540771,\n",
              " 0.7619831562042236,\n",
              " 0.5108580589294434,\n",
              " 0.4177885055541992,\n",
              " 0.28200840950012207,\n",
              " 0.2384803295135498,\n",
              " 0.057288408279418945,\n",
              " 0.010545492172241211,\n",
              " 0.007886886596679688]"
            ]
          },
          "metadata": {
            "tags": []
          },
          "execution_count": 14
        }
      ]
    },
    {
      "cell_type": "markdown",
      "metadata": {
        "id": "wAhMlCfxje0l"
      },
      "source": [
        "ECLAT"
      ]
    },
    {
      "cell_type": "code",
      "metadata": {
        "id": "ptEneNwmj8wW",
        "outputId": "5c48edd8-4a3a-4fda-b24d-297d4e630f5a",
        "colab": {
          "base_uri": "https://localhost:8080/"
        }
      },
      "source": [
        "pip install pyECLAT"
      ],
      "execution_count": 19,
      "outputs": [
        {
          "output_type": "stream",
          "text": [
            "Collecting pyECLAT\n",
            "  Downloading https://files.pythonhosted.org/packages/2e/b7/3b5b1fc70e917d2e2b7182dfc0f5b26a573621ee2c64538a7d72bf3f1f15/pyECLAT-1.0.2-py3-none-any.whl\n",
            "Requirement already satisfied: tqdm>=4.41.1 in /usr/local/lib/python3.6/dist-packages (from pyECLAT) (4.41.1)\n",
            "Requirement already satisfied: pandas>=0.25.3 in /usr/local/lib/python3.6/dist-packages (from pyECLAT) (1.1.5)\n",
            "Requirement already satisfied: numpy>=1.17.4 in /usr/local/lib/python3.6/dist-packages (from pyECLAT) (1.19.5)\n",
            "Requirement already satisfied: python-dateutil>=2.7.3 in /usr/local/lib/python3.6/dist-packages (from pandas>=0.25.3->pyECLAT) (2.8.1)\n",
            "Requirement already satisfied: pytz>=2017.2 in /usr/local/lib/python3.6/dist-packages (from pandas>=0.25.3->pyECLAT) (2018.9)\n",
            "Requirement already satisfied: six>=1.5 in /usr/local/lib/python3.6/dist-packages (from python-dateutil>=2.7.3->pandas>=0.25.3->pyECLAT) (1.15.0)\n",
            "Installing collected packages: pyECLAT\n",
            "Successfully installed pyECLAT-1.0.2\n"
          ],
          "name": "stdout"
        }
      ]
    },
    {
      "cell_type": "code",
      "metadata": {
        "id": "CWqKqvlbjeXe"
      },
      "source": [
        "import pyECLAT\r\n",
        "from pyECLAT import ECLAT"
      ],
      "execution_count": 20,
      "outputs": []
    },
    {
      "cell_type": "code",
      "metadata": {
        "id": "fKYI6txMjo2l"
      },
      "source": [
        "dataframe = pd.read_csv('/content/drive/MyDrive/BreastCancer_Dataset1202/breast_train_transactions.txt', header = None, sep=\",\")"
      ],
      "execution_count": 23,
      "outputs": []
    },
    {
      "cell_type": "code",
      "metadata": {
        "id": "ma5nlaqgkNc1",
        "outputId": "01cd516e-23c6-4fb7-8700-e80f3e266a4b",
        "colab": {
          "base_uri": "https://localhost:8080/"
        }
      },
      "source": [
        "model2= ECLAT(data=dataframe,verbose=True)"
      ],
      "execution_count": 24,
      "outputs": [
        {
          "output_type": "stream",
          "text": [
            "100%|██████████| 44/44 [00:00<00:00, 265.31it/s]\n",
            "100%|██████████| 44/44 [00:00<00:00, 10126.72it/s]\n",
            "100%|██████████| 44/44 [00:00<00:00, 2017.33it/s]\n"
          ],
          "name": "stderr"
        }
      ]
    },
    {
      "cell_type": "code",
      "metadata": {
        "id": "uEiFwAdGj4Ud",
        "outputId": "1c74e870-5dfc-4344-fe4f-56c901b19caf",
        "colab": {
          "base_uri": "https://localhost:8080/"
        }
      },
      "source": [
        "fre_itemsets= model2.fit( min_support=0.1,max_combination=3)"
      ],
      "execution_count": 25,
      "outputs": [
        {
          "output_type": "stream",
          "text": [
            "9it [00:00, 82.85it/s]"
          ],
          "name": "stderr"
        },
        {
          "output_type": "stream",
          "text": [
            "Combination 1 by 1\n"
          ],
          "name": "stdout"
        },
        {
          "output_type": "stream",
          "text": [
            "27it [00:00, 85.18it/s]\n",
            "11it [00:00, 103.63it/s]"
          ],
          "name": "stderr"
        },
        {
          "output_type": "stream",
          "text": [
            "Combination 2 by 2\n"
          ],
          "name": "stdout"
        },
        {
          "output_type": "stream",
          "text": [
            "351it [00:03, 113.89it/s]\n",
            "11it [00:00, 109.52it/s]"
          ],
          "name": "stderr"
        },
        {
          "output_type": "stream",
          "text": [
            "Combination 3 by 3\n"
          ],
          "name": "stdout"
        },
        {
          "output_type": "stream",
          "text": [
            "2925it [00:21, 135.75it/s]\n"
          ],
          "name": "stderr"
        }
      ]
    },
    {
      "cell_type": "code",
      "metadata": {
        "id": "J_38tualkVnN",
        "outputId": "06ffe962-08f3-45f4-a2ed-83ae81a4a260",
        "colab": {
          "base_uri": "https://localhost:8080/"
        }
      },
      "source": [
        "min_sup = [.01, .02,.03,.04, .05,.06,.07,.08,.09, .1, .2, .5, .6]\r\n",
        "import time\r\n",
        "run_time_eclat = []\r\n",
        "for i in min_sup:\r\n",
        "    print(i)\r\n",
        "    start_time = time.time()\r\n",
        "    fre_itemsets= model2.fit(min_support=i,max_combination=2)\r\n",
        "    print(\"For %i--- %s seconds ---\" %(i, time.time() - start_time))\r\n",
        "    run_time_eclat.append(time.time() - start_time)\r\n",
        "  \r\n",
        "run_time_eclat"
      ],
      "execution_count": 30,
      "outputs": [
        {
          "output_type": "stream",
          "text": [
            "13it [00:00, 56.01it/s]"
          ],
          "name": "stderr"
        },
        {
          "output_type": "stream",
          "text": [
            "0.01\n",
            "Combination 1 by 1\n"
          ],
          "name": "stdout"
        },
        {
          "output_type": "stream",
          "text": [
            "41it [00:00, 76.60it/s]\n",
            "12it [00:00, 109.34it/s]"
          ],
          "name": "stderr"
        },
        {
          "output_type": "stream",
          "text": [
            "Combination 2 by 2\n"
          ],
          "name": "stdout"
        },
        {
          "output_type": "stream",
          "text": [
            "820it [00:07, 104.37it/s]\n",
            "9it [00:00, 89.34it/s]"
          ],
          "name": "stderr"
        },
        {
          "output_type": "stream",
          "text": [
            "For 0--- 8.422324180603027 seconds ---\n",
            "0.02\n",
            "Combination 1 by 1\n"
          ],
          "name": "stdout"
        },
        {
          "output_type": "stream",
          "text": [
            "38it [00:00, 90.81it/s]\n",
            "11it [00:00, 103.49it/s]"
          ],
          "name": "stderr"
        },
        {
          "output_type": "stream",
          "text": [
            "Combination 2 by 2\n"
          ],
          "name": "stdout"
        },
        {
          "output_type": "stream",
          "text": [
            "703it [00:06, 106.91it/s]\n",
            "9it [00:00, 83.58it/s]"
          ],
          "name": "stderr"
        },
        {
          "output_type": "stream",
          "text": [
            "For 0--- 7.035147666931152 seconds ---\n",
            "0.03\n",
            "Combination 1 by 1\n"
          ],
          "name": "stdout"
        },
        {
          "output_type": "stream",
          "text": [
            "32it [00:00, 90.50it/s]\n",
            "21it [00:00, 98.73it/s] "
          ],
          "name": "stderr"
        },
        {
          "output_type": "stream",
          "text": [
            "Combination 2 by 2\n"
          ],
          "name": "stdout"
        },
        {
          "output_type": "stream",
          "text": [
            "496it [00:05, 97.98it/s] \n",
            "10it [00:00, 97.02it/s]"
          ],
          "name": "stderr"
        },
        {
          "output_type": "stream",
          "text": [
            "For 0--- 5.44096827507019 seconds ---\n",
            "0.04\n",
            "Combination 1 by 1\n"
          ],
          "name": "stdout"
        },
        {
          "output_type": "stream",
          "text": [
            "32it [00:00, 94.37it/s]\n",
            "21it [00:00, 98.19it/s] "
          ],
          "name": "stderr"
        },
        {
          "output_type": "stream",
          "text": [
            "Combination 2 by 2\n"
          ],
          "name": "stdout"
        },
        {
          "output_type": "stream",
          "text": [
            "496it [00:04, 103.15it/s]\n",
            "18it [00:00, 85.78it/s]"
          ],
          "name": "stderr"
        },
        {
          "output_type": "stream",
          "text": [
            "For 0--- 5.182072877883911 seconds ---\n",
            "0.05\n",
            "Combination 1 by 1\n"
          ],
          "name": "stdout"
        },
        {
          "output_type": "stream",
          "text": [
            "31it [00:00, 84.77it/s]\n",
            "11it [00:00, 102.10it/s]"
          ],
          "name": "stderr"
        },
        {
          "output_type": "stream",
          "text": [
            "Combination 2 by 2\n"
          ],
          "name": "stdout"
        },
        {
          "output_type": "stream",
          "text": [
            "465it [00:04, 103.97it/s]\n",
            "10it [00:00, 93.49it/s]"
          ],
          "name": "stderr"
        },
        {
          "output_type": "stream",
          "text": [
            "For 0--- 4.878986597061157 seconds ---\n",
            "0.06\n",
            "Combination 1 by 1\n"
          ],
          "name": "stdout"
        },
        {
          "output_type": "stream",
          "text": [
            "31it [00:00, 90.63it/s]\n",
            "12it [00:00, 118.03it/s]"
          ],
          "name": "stderr"
        },
        {
          "output_type": "stream",
          "text": [
            "Combination 2 by 2\n"
          ],
          "name": "stdout"
        },
        {
          "output_type": "stream",
          "text": [
            "465it [00:04, 110.29it/s]\n",
            "9it [00:00, 88.85it/s]"
          ],
          "name": "stderr"
        },
        {
          "output_type": "stream",
          "text": [
            "For 0--- 4.585627317428589 seconds ---\n",
            "0.07\n",
            "Combination 1 by 1\n"
          ],
          "name": "stdout"
        },
        {
          "output_type": "stream",
          "text": [
            "29it [00:00, 83.14it/s]\n",
            "11it [00:00, 106.19it/s]"
          ],
          "name": "stderr"
        },
        {
          "output_type": "stream",
          "text": [
            "Combination 2 by 2\n"
          ],
          "name": "stdout"
        },
        {
          "output_type": "stream",
          "text": [
            "406it [00:03, 106.22it/s]\n",
            "9it [00:00, 85.29it/s]"
          ],
          "name": "stderr"
        },
        {
          "output_type": "stream",
          "text": [
            "For 0--- 4.201730966567993 seconds ---\n",
            "0.08\n",
            "Combination 1 by 1\n"
          ],
          "name": "stdout"
        },
        {
          "output_type": "stream",
          "text": [
            "27it [00:00, 82.75it/s]\n",
            "11it [00:00, 105.56it/s]"
          ],
          "name": "stderr"
        },
        {
          "output_type": "stream",
          "text": [
            "Combination 2 by 2\n"
          ],
          "name": "stdout"
        },
        {
          "output_type": "stream",
          "text": [
            "351it [00:03, 104.95it/s]\n",
            "9it [00:00, 88.04it/s]"
          ],
          "name": "stderr"
        },
        {
          "output_type": "stream",
          "text": [
            "For 0--- 3.7100744247436523 seconds ---\n",
            "0.09\n",
            "Combination 1 by 1\n"
          ],
          "name": "stdout"
        },
        {
          "output_type": "stream",
          "text": [
            "27it [00:00, 85.13it/s]\n",
            "12it [00:00, 113.37it/s]"
          ],
          "name": "stderr"
        },
        {
          "output_type": "stream",
          "text": [
            "Combination 2 by 2\n"
          ],
          "name": "stdout"
        },
        {
          "output_type": "stream",
          "text": [
            "351it [00:03, 108.10it/s]\n",
            "9it [00:00, 87.76it/s]"
          ],
          "name": "stderr"
        },
        {
          "output_type": "stream",
          "text": [
            "For 0--- 3.6054327487945557 seconds ---\n",
            "0.1\n",
            "Combination 1 by 1\n"
          ],
          "name": "stdout"
        },
        {
          "output_type": "stream",
          "text": [
            "27it [00:00, 87.85it/s]\n",
            "25it [00:00, 118.44it/s]"
          ],
          "name": "stderr"
        },
        {
          "output_type": "stream",
          "text": [
            "Combination 2 by 2\n"
          ],
          "name": "stdout"
        },
        {
          "output_type": "stream",
          "text": [
            "351it [00:03, 111.30it/s]\n",
            "10it [00:00, 94.74it/s]"
          ],
          "name": "stderr"
        },
        {
          "output_type": "stream",
          "text": [
            "For 0--- 3.5022614002227783 seconds ---\n",
            "0.2\n",
            "Combination 1 by 1\n"
          ],
          "name": "stdout"
        },
        {
          "output_type": "stream",
          "text": [
            "19it [00:00, 90.85it/s]\n",
            "13it [00:00, 123.32it/s]"
          ],
          "name": "stderr"
        },
        {
          "output_type": "stream",
          "text": [
            "Combination 2 by 2\n"
          ],
          "name": "stdout"
        },
        {
          "output_type": "stream",
          "text": [
            "171it [00:01, 122.08it/s]\n",
            "6it [00:00, 95.18it/s]\n",
            "13it [00:00, 123.63it/s]"
          ],
          "name": "stderr"
        },
        {
          "output_type": "stream",
          "text": [
            "For 0--- 1.6416783332824707 seconds ---\n",
            "0.5\n",
            "Combination 1 by 1\n",
            "Combination 2 by 2\n"
          ],
          "name": "stdout"
        },
        {
          "output_type": "stream",
          "text": [
            "15it [00:00, 121.59it/s]\n",
            "4it [00:00, 97.06it/s]\n",
            "6it [00:00, 110.05it/s]"
          ],
          "name": "stderr"
        },
        {
          "output_type": "stream",
          "text": [
            "For 0--- 0.21194815635681152 seconds ---\n",
            "0.6\n",
            "Combination 1 by 1\n",
            "Combination 2 by 2\n",
            "For 0--- 0.12212157249450684 seconds ---\n"
          ],
          "name": "stdout"
        },
        {
          "output_type": "stream",
          "text": [
            "\n"
          ],
          "name": "stderr"
        },
        {
          "output_type": "execute_result",
          "data": {
            "text/plain": [
              "[8.422364234924316,\n",
              " 7.035531759262085,\n",
              " 5.4410178661346436,\n",
              " 5.182131052017212,\n",
              " 4.879045486450195,\n",
              " 4.585872173309326,\n",
              " 4.201788425445557,\n",
              " 3.7104458808898926,\n",
              " 3.60548734664917,\n",
              " 3.502305746078491,\n",
              " 1.6420445442199707,\n",
              " 0.21229815483093262,\n",
              " 0.12215447425842285]"
            ]
          },
          "metadata": {
            "tags": []
          },
          "execution_count": 30
        }
      ]
    },
    {
      "cell_type": "code",
      "metadata": {
        "id": "XTf1_nexmXgt"
      },
      "source": [
        "#plot it\r\n",
        "import seaborn as sns\r\n",
        "import matplotlib.pyplot as plt\r\n"
      ],
      "execution_count": 35,
      "outputs": []
    },
    {
      "cell_type": "code",
      "metadata": {
        "id": "4uNnE7gboF5m"
      },
      "source": [
        "df = pd.DataFrame({'Fp_Growth': run_time_fp, 'Apriori' :run_time_apr, 'ECLAT': run_time_eclat })"
      ],
      "execution_count": 32,
      "outputs": []
    },
    {
      "cell_type": "code",
      "metadata": {
        "colab": {
          "base_uri": "https://localhost:8080/",
          "height": 280
        },
        "id": "oBSpVXvZny1N",
        "outputId": "f4acacd3-e738-46bc-b8a9-5378e5569212"
      },
      "source": [
        "g = sns.lineplot(data=df)\r\n",
        "g.set_xticks(range(len(df))) # <--- set the ticks first\r\n",
        "g.set_xticklabels(['.01', '.02','.03','.04', '.05','.06','.07','.08','.09', '.1', '.2', '.5', '.6'])\r\n",
        "g.set(xlabel='Min_Support', ylabel='Time in Seconds')\r\n",
        "plt.savefig(\"Run time performance\")"
      ],
      "execution_count": 36,
      "outputs": [
        {
          "output_type": "display_data",
          "data": {
            "image/png": "[encoded data removed]",
            "text/plain": [
              "<Figure size 432x288 with 1 Axes>"
            ]
          },
          "metadata": {
            "tags": [],
            "needs_background": "light"
          }
        }
      ]
    }
  ]
}