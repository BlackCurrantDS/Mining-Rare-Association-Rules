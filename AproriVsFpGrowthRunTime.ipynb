{
  "nbformat": 4,
  "nbformat_minor": 0,
  "metadata": {
    "colab": {
      "name": "AproriVsFpGrowthRunTime.ipynb",
      "provenance": [],
      "authorship_tag": "ABX9TyPRckVUZcHh5Z9/8ZBuX9Dy",
      "include_colab_link": true
    },
    "kernelspec": {
      "name": "python3",
      "display_name": "Python 3"
    }
  },
  "cells": [
    {
      "cell_type": "markdown",
      "metadata": {
        "id": "view-in-github",
        "colab_type": "text"
      },
      "source": [
        "<a href=\"https://colab.research.google.com/github/BlackCurrantDS/DBSE_Project/blob/main/AproriVsFpGrowthRunTime.ipynb\" target=\"_parent\"><img src=\"https://colab.research.google.com/assets/colab-badge.svg\" alt=\"Open In Colab\"/></a>"
      ]
    },
    {
      "cell_type": "markdown",
      "metadata": {
        "id": "q22edxrxjJIv"
      },
      "source": [
        "Fp Growth"
      ]
    },
    {
      "cell_type": "code",
      "metadata": {
        "colab": {
          "base_uri": "https://localhost:8080/"
        },
        "id": "pWWcqPYWs1Rz",
        "outputId": "232af0ec-8845-47e1-de43-65c3a47141f5"
      },
      "source": [
        "pip install pyfpgrowth"
      ],
      "execution_count": 63,
      "outputs": [
        {
          "output_type": "stream",
          "text": [
            "Requirement already satisfied: pyfpgrowth in /usr/local/lib/python3.6/dist-packages (1.0)\n"
          ],
          "name": "stdout"
        }
      ]
    },
    {
      "cell_type": "code",
      "metadata": {
        "id": "Ms3rM3a0tisa"
      },
      "source": [
        "import pyfpgrowth"
      ],
      "execution_count": 64,
      "outputs": []
    },
    {
      "cell_type": "code",
      "metadata": {
        "id": "i6e2Sa6bvNB7"
      },
      "source": [
        "import pandas as pd\r\n",
        "df = pd.read_csv('/content/breast_train_transactions.txt', header = None, sep=\",\" , names=['a','b','c', 'd', 'e', 'f','g', 'h', 'i', 'k'])"
      ],
      "execution_count": 65,
      "outputs": []
    },
    {
      "cell_type": "code",
      "metadata": {
        "colab": {
          "base_uri": "https://localhost:8080/",
          "height": 195
        },
        "id": "45fuWmLOvudt",
        "outputId": "5d41f79e-c207-4557-c4c3-1800da04d7e6"
      },
      "source": [
        "df.head(5)"
      ],
      "execution_count": 66,
      "outputs": [
        {
          "output_type": "execute_result",
          "data": {
            "text/html": [
              "<div>\n",
              "<style scoped>\n",
              "    .dataframe tbody tr th:only-of-type {\n",
              "        vertical-align: middle;\n",
              "    }\n",
              "\n",
              "    .dataframe tbody tr th {\n",
              "        vertical-align: top;\n",
              "    }\n",
              "\n",
              "    .dataframe thead th {\n",
              "        text-align: right;\n",
              "    }\n",
              "</style>\n",
              "<table border=\"1\" class=\"dataframe\">\n",
              "  <thead>\n",
              "    <tr style=\"text-align: right;\">\n",
              "      <th></th>\n",
              "      <th>a</th>\n",
              "      <th>b</th>\n",
              "      <th>c</th>\n",
              "      <th>d</th>\n",
              "      <th>e</th>\n",
              "      <th>f</th>\n",
              "      <th>g</th>\n",
              "      <th>h</th>\n",
              "      <th>i</th>\n",
              "      <th>k</th>\n",
              "    </tr>\n",
              "  </thead>\n",
              "  <tbody>\n",
              "    <tr>\n",
              "      <th>0</th>\n",
              "      <td>class@no</td>\n",
              "      <td>a1@30-39</td>\n",
              "      <td>a2@premeno</td>\n",
              "      <td>a3@30-34</td>\n",
              "      <td>a4@0-2</td>\n",
              "      <td>a5@no</td>\n",
              "      <td>a6@3</td>\n",
              "      <td>a7@left</td>\n",
              "      <td>a8@left_low</td>\n",
              "      <td>a9@no</td>\n",
              "    </tr>\n",
              "    <tr>\n",
              "      <th>1</th>\n",
              "      <td>class@no</td>\n",
              "      <td>a1@40-49</td>\n",
              "      <td>a2@premeno</td>\n",
              "      <td>a3@20-24</td>\n",
              "      <td>a4@0-2</td>\n",
              "      <td>a5@no</td>\n",
              "      <td>a6@2</td>\n",
              "      <td>a7@right</td>\n",
              "      <td>a8@right_up</td>\n",
              "      <td>a9@no</td>\n",
              "    </tr>\n",
              "    <tr>\n",
              "      <th>2</th>\n",
              "      <td>class@no</td>\n",
              "      <td>a1@40-49</td>\n",
              "      <td>a2@premeno</td>\n",
              "      <td>a3@20-24</td>\n",
              "      <td>a4@0-2</td>\n",
              "      <td>a5@no</td>\n",
              "      <td>a6@2</td>\n",
              "      <td>a7@left</td>\n",
              "      <td>a8@left_low</td>\n",
              "      <td>a9@no</td>\n",
              "    </tr>\n",
              "    <tr>\n",
              "      <th>3</th>\n",
              "      <td>class@no</td>\n",
              "      <td>a1@60-69</td>\n",
              "      <td>a2@ge40</td>\n",
              "      <td>a3@15-19</td>\n",
              "      <td>a4@0-2</td>\n",
              "      <td>a5@no</td>\n",
              "      <td>a6@2</td>\n",
              "      <td>a7@right</td>\n",
              "      <td>a8@left_up</td>\n",
              "      <td>a9@no</td>\n",
              "    </tr>\n",
              "    <tr>\n",
              "      <th>4</th>\n",
              "      <td>class@no</td>\n",
              "      <td>a1@40-49</td>\n",
              "      <td>a2@premeno</td>\n",
              "      <td>a3@0-4</td>\n",
              "      <td>a4@0-2</td>\n",
              "      <td>a5@no</td>\n",
              "      <td>a6@2</td>\n",
              "      <td>a7@right</td>\n",
              "      <td>a8@right_low</td>\n",
              "      <td>a9@no</td>\n",
              "    </tr>\n",
              "  </tbody>\n",
              "</table>\n",
              "</div>"
            ],
            "text/plain": [
              "          a         b           c  ...         h             i      k\n",
              "0  class@no  a1@30-39  a2@premeno  ...   a7@left   a8@left_low  a9@no\n",
              "1  class@no  a1@40-49  a2@premeno  ...  a7@right   a8@right_up  a9@no\n",
              "2  class@no  a1@40-49  a2@premeno  ...   a7@left   a8@left_low  a9@no\n",
              "3  class@no  a1@60-69     a2@ge40  ...  a7@right    a8@left_up  a9@no\n",
              "4  class@no  a1@40-49  a2@premeno  ...  a7@right  a8@right_low  a9@no\n",
              "\n",
              "[5 rows x 10 columns]"
            ]
          },
          "metadata": {
            "tags": []
          },
          "execution_count": 66
        }
      ]
    },
    {
      "cell_type": "code",
      "metadata": {
        "id": "mi2IxGKDwAwc"
      },
      "source": [
        "trans = df.values.tolist()"
      ],
      "execution_count": 67,
      "outputs": []
    },
    {
      "cell_type": "code",
      "metadata": {
        "id": "gtguVyjpvyiD"
      },
      "source": [
        "patterns = pyfpgrowth.find_frequent_patterns(trans, .01)"
      ],
      "execution_count": 68,
      "outputs": []
    },
    {
      "cell_type": "code",
      "metadata": {
        "id": "EKb4gd6OjYWf"
      },
      "source": [
        "min_sup = [ .01, .02,.03,.04, .05, .1, .2, .5, .6]"
      ],
      "execution_count": 69,
      "outputs": []
    },
    {
      "cell_type": "code",
      "metadata": {
        "colab": {
          "base_uri": "https://localhost:8080/"
        },
        "id": "T5Ih-Xevv0qs",
        "outputId": "fec9fe2f-62a0-42a6-ef88-281baedf9a44"
      },
      "source": [
        "import time\r\n",
        "run_time_fp = []\r\n",
        "for i in min_sup:\r\n",
        "    print(i)\r\n",
        "    start_time = time.time()\r\n",
        "    patterns = pyfpgrowth.find_frequent_patterns(trans, i)\r\n",
        "    print(\"For %i--- %s seconds ---\" %(i, time.time() - start_time))\r\n",
        "    run_time_fp.append(time.time() - start_time)\r\n",
        "  \r\n",
        "run_time_fp"
      ],
      "execution_count": 70,
      "outputs": [
        {
          "output_type": "stream",
          "text": [
            "0.01\n",
            "For 0--- 0.9890756607055664 seconds ---\n",
            "0.02\n",
            "For 0--- 1.1889348030090332 seconds ---\n",
            "0.03\n",
            "For 0--- 0.935905933380127 seconds ---\n",
            "0.04\n",
            "For 0--- 0.9489452838897705 seconds ---\n",
            "0.05\n",
            "For 0--- 0.940373420715332 seconds ---\n",
            "0.1\n",
            "For 0--- 1.1840524673461914 seconds ---\n",
            "0.2\n",
            "For 0--- 0.9772500991821289 seconds ---\n",
            "0.5\n",
            "For 0--- 0.9380173683166504 seconds ---\n",
            "0.6\n",
            "For 0--- 0.9428000450134277 seconds ---\n"
          ],
          "name": "stdout"
        },
        {
          "output_type": "execute_result",
          "data": {
            "text/plain": [
              "[0.9895493984222412,\n",
              " 1.189368724822998,\n",
              " 0.9360530376434326,\n",
              " 0.9491057395935059,\n",
              " 0.9408206939697266,\n",
              " 1.1846950054168701,\n",
              " 0.9776861667633057,\n",
              " 0.938169002532959,\n",
              " 0.9429442882537842]"
            ]
          },
          "metadata": {
            "tags": []
          },
          "execution_count": 70
        }
      ]
    },
    {
      "cell_type": "markdown",
      "metadata": {
        "id": "sXsRBYBvlkiu"
      },
      "source": [
        "Apriori"
      ]
    },
    {
      "cell_type": "code",
      "metadata": {
        "colab": {
          "base_uri": "https://localhost:8080/"
        },
        "id": "AzxNmhsAlmZN",
        "outputId": "a5ea2174-d8dd-46d8-b508-3075ff3eecee"
      },
      "source": [
        "pip install apriori_python"
      ],
      "execution_count": 71,
      "outputs": [
        {
          "output_type": "stream",
          "text": [
            "Requirement already satisfied: apriori_python in /usr/local/lib/python3.6/dist-packages (1.0.4)\n"
          ],
          "name": "stdout"
        }
      ]
    },
    {
      "cell_type": "code",
      "metadata": {
        "id": "1TfOa-Qylxt9"
      },
      "source": [
        "from apriori_python import apriori"
      ],
      "execution_count": 72,
      "outputs": []
    },
    {
      "cell_type": "code",
      "metadata": {
        "colab": {
          "base_uri": "https://localhost:8080/"
        },
        "id": "iUfKkY9bl8Eu",
        "outputId": "9b59d879-839b-4eaf-d718-f8e233fa484f"
      },
      "source": [
        "min_sup = [.01, .02,.03,.04, .05, .1, .2, .5, .6]\r\n",
        "import time\r\n",
        "run_time_apr = []\r\n",
        "for i in min_sup:\r\n",
        "    print(i)\r\n",
        "    start_time = time.time()\r\n",
        "    freqItemSet, rules = apriori(trans, minSup=i, minConf=0.5)\r\n",
        "    print(\"For %i--- %s seconds ---\" %(i, time.time() - start_time))\r\n",
        "    run_time_apr.append(time.time() - start_time)\r\n",
        "  \r\n",
        "run_time_apr"
      ],
      "execution_count": 73,
      "outputs": [
        {
          "output_type": "stream",
          "text": [
            "0.01\n",
            "For 0--- 93.00619173049927 seconds ---\n",
            "0.02\n",
            "For 0--- 17.620357275009155 seconds ---\n",
            "0.03\n",
            "For 0--- 3.818026065826416 seconds ---\n",
            "0.04\n",
            "For 0--- 2.5916380882263184 seconds ---\n",
            "0.05\n",
            "For 0--- 1.5137591361999512 seconds ---\n",
            "0.1\n",
            "For 0--- 0.24466729164123535 seconds ---\n",
            "0.2\n",
            "For 0--- 0.05085301399230957 seconds ---\n",
            "0.5\n",
            "For 0--- 0.008196830749511719 seconds ---\n",
            "0.6\n",
            "For 0--- 0.006341457366943359 seconds ---\n"
          ],
          "name": "stdout"
        },
        {
          "output_type": "execute_result",
          "data": {
            "text/plain": [
              "[93.00688743591309,\n",
              " 17.62087392807007,\n",
              " 3.8181872367858887,\n",
              " 2.5921096801757812,\n",
              " 1.5139145851135254,\n",
              " 0.2448122501373291,\n",
              " 0.051165103912353516,\n",
              " 0.008432149887084961,\n",
              " 0.0065343379974365234]"
            ]
          },
          "metadata": {
            "tags": []
          },
          "execution_count": 73
        }
      ]
    },
    {
      "cell_type": "code",
      "metadata": {
        "id": "XTf1_nexmXgt"
      },
      "source": [
        "#plot it\r\n",
        "import seaborn as sns"
      ],
      "execution_count": 74,
      "outputs": []
    },
    {
      "cell_type": "code",
      "metadata": {
        "id": "4uNnE7gboF5m"
      },
      "source": [
        "df = pd.DataFrame({'Fp_Growth': run_time_fp, 'Apriori' :run_time_apr })"
      ],
      "execution_count": 75,
      "outputs": []
    },
    {
      "cell_type": "code",
      "metadata": {
        "colab": {
          "base_uri": "https://localhost:8080/",
          "height": 416
        },
        "id": "oBSpVXvZny1N",
        "outputId": "2e08f455-11d1-4004-fb65-e63f25615c43"
      },
      "source": [
        "g = sns.lineplot(data=df)\r\n",
        "g.set_xticks(range(len(df))) # <--- set the ticks first\r\n",
        "g.set_xticklabels(['.01','.02', '.03','.04','.05', '.1', '.2','.3','.4', '.5', '.6'])"
      ],
      "execution_count": 76,
      "outputs": [
        {
          "output_type": "execute_result",
          "data": {
            "text/plain": [
              "[Text(0, 0, '.01'),\n",
              " Text(0, 0, '.02'),\n",
              " Text(0, 0, '.03'),\n",
              " Text(0, 0, '.04'),\n",
              " Text(0, 0, '.05'),\n",
              " Text(0, 0, '.1'),\n",
              " Text(0, 0, '.2'),\n",
              " Text(0, 0, '.3'),\n",
              " Text(0, 0, '.4')]"
            ]
          },
          "metadata": {
            "tags": []
          },
          "execution_count": 76
        },
        {
          "output_type": "display_data",
          "data": {
            "image/png": "[encoded data removed]",
            "text/plain": [
              "<Figure size 432x288 with 1 Axes>"
            ]
          },
          "metadata": {
            "tags": [],
            "needs_background": "light"
          }
        }
      ]
    }
  ]
}