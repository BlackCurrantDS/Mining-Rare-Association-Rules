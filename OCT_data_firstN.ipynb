{
  "nbformat": 4,
  "nbformat_minor": 0,
  "metadata": {
    "colab": {
      "name": "OCT_data_firstN.ipynb",
      "provenance": [],
      "mount_file_id": "1FhODxb2o-5tKsUjNC0kSJSADjFnzXHFM",
      "authorship_tag": "ABX9TyOaDWBmggoXdNfRtSvrj1J6",
      "include_colab_link": true
    },
    "kernelspec": {
      "name": "python3",
      "display_name": "Python 3"
    },
    "language_info": {
      "name": "python"
    }
  },
  "cells": [
    {
      "cell_type": "markdown",
      "metadata": {
        "id": "view-in-github",
        "colab_type": "text"
      },
      "source": [
        "<a href=\"https://colab.research.google.com/github/BlackCurrantDS/DBSE_Project/blob/main/OCT_data_firstN.ipynb\" target=\"_parent\"><img src=\"https://colab.research.google.com/assets/colab-badge.svg\" alt=\"Open In Colab\"/></a>"
      ]
    },
    {
      "cell_type": "code",
      "metadata": {
        "id": "uUdz76FSQe_3"
      },
      "source": [
        "import pandas as pd"
      ],
      "execution_count": 1,
      "outputs": []
    },
    {
      "cell_type": "code",
      "metadata": {
        "id": "t4bDdyFwQ19V"
      },
      "source": [
        "#saved webhook data"
      ],
      "execution_count": 2,
      "outputs": []
    },
    {
      "cell_type": "code",
      "metadata": {
        "id": "gCgGd0lZQsbO"
      },
      "source": [
        "webhook_df = pd.read_csv(\"/content/drive/My Drive/webhook_df_oct.csv\",   nrows=100000)"
      ],
      "execution_count": 3,
      "outputs": []
    },
    {
      "cell_type": "code",
      "metadata": {
        "colab": {
          "base_uri": "https://localhost:8080/",
          "height": 195
        },
        "id": "StGRFC1zQxx1",
        "outputId": "8757995b-b94b-4714-8075-0635fce53360"
      },
      "source": [
        "webhook_df.head(5)"
      ],
      "execution_count": 4,
      "outputs": [
        {
          "output_type": "execute_result",
          "data": {
            "text/html": [
              "<div>\n",
              "<style scoped>\n",
              "    .dataframe tbody tr th:only-of-type {\n",
              "        vertical-align: middle;\n",
              "    }\n",
              "\n",
              "    .dataframe tbody tr th {\n",
              "        vertical-align: top;\n",
              "    }\n",
              "\n",
              "    .dataframe thead th {\n",
              "        text-align: right;\n",
              "    }\n",
              "</style>\n",
              "<table border=\"1\" class=\"dataframe\">\n",
              "  <thead>\n",
              "    <tr style=\"text-align: right;\">\n",
              "      <th></th>\n",
              "      <th>Unnamed: 0</th>\n",
              "      <th>external_id</th>\n",
              "      <th>event</th>\n",
              "      <th>data</th>\n",
              "    </tr>\n",
              "  </thead>\n",
              "  <tbody>\n",
              "    <tr>\n",
              "      <th>0</th>\n",
              "      <td>0</td>\n",
              "      <td>6016021366608517</td>\n",
              "      <td>ACCOUNT_HOLDER_PAYOUT</td>\n",
              "      <td>{\"eventDate\":\"2020-10-08T07:57:41+02:00\",\"even...</td>\n",
              "    </tr>\n",
              "    <tr>\n",
              "      <th>1</th>\n",
              "      <td>1</td>\n",
              "      <td>6016021366727150</td>\n",
              "      <td>ACCOUNT_HOLDER_PAYOUT</td>\n",
              "      <td>{\"eventDate\":\"2020-10-08T07:57:53+02:00\",\"even...</td>\n",
              "    </tr>\n",
              "    <tr>\n",
              "      <th>2</th>\n",
              "      <td>2</td>\n",
              "      <td>6016021367848765</td>\n",
              "      <td>ACCOUNT_HOLDER_PAYOUT</td>\n",
              "      <td>{\"eventDate\":\"2020-10-08T07:59:44+02:00\",\"even...</td>\n",
              "    </tr>\n",
              "    <tr>\n",
              "      <th>3</th>\n",
              "      <td>3</td>\n",
              "      <td>6016021368387144</td>\n",
              "      <td>ACCOUNT_HOLDER_PAYOUT</td>\n",
              "      <td>{\"eventDate\":\"2020-10-08T08:00:38+02:00\",\"even...</td>\n",
              "    </tr>\n",
              "    <tr>\n",
              "      <th>4</th>\n",
              "      <td>4</td>\n",
              "      <td>6016021370476117</td>\n",
              "      <td>ACCOUNT_HOLDER_PAYOUT</td>\n",
              "      <td>{\"eventDate\":\"2020-10-08T08:04:08+02:00\",\"even...</td>\n",
              "    </tr>\n",
              "  </tbody>\n",
              "</table>\n",
              "</div>"
            ],
            "text/plain": [
              "   Unnamed: 0  ...                                               data\n",
              "0           0  ...  {\"eventDate\":\"2020-10-08T07:57:41+02:00\",\"even...\n",
              "1           1  ...  {\"eventDate\":\"2020-10-08T07:57:53+02:00\",\"even...\n",
              "2           2  ...  {\"eventDate\":\"2020-10-08T07:59:44+02:00\",\"even...\n",
              "3           3  ...  {\"eventDate\":\"2020-10-08T08:00:38+02:00\",\"even...\n",
              "4           4  ...  {\"eventDate\":\"2020-10-08T08:04:08+02:00\",\"even...\n",
              "\n",
              "[5 rows x 4 columns]"
            ]
          },
          "metadata": {
            "tags": []
          },
          "execution_count": 4
        }
      ]
    },
    {
      "cell_type": "code",
      "metadata": {
        "id": "MYmv4-RGRC0s"
      },
      "source": [
        "#remove index column\n",
        "cols = [0]\n",
        "webhook_df.drop(webhook_df.columns[cols],axis=1,inplace=True)"
      ],
      "execution_count": 5,
      "outputs": []
    },
    {
      "cell_type": "code",
      "metadata": {
        "id": "mExiU2mYRtTF"
      },
      "source": [
        "#getting only authorized transactions\n",
        "webhook = webhook_df[webhook_df.event == 'AUTHORISATION']"
      ],
      "execution_count": 6,
      "outputs": []
    },
    {
      "cell_type": "code",
      "metadata": {
        "colab": {
          "base_uri": "https://localhost:8080/"
        },
        "id": "Nm-J9wOkR6CG",
        "outputId": "89fab889-d876-490e-f9e9-2cfa3be15e5d"
      },
      "source": [
        "webhook.info()"
      ],
      "execution_count": 7,
      "outputs": [
        {
          "output_type": "stream",
          "text": [
            "<class 'pandas.core.frame.DataFrame'>\n",
            "Int64Index: 63103 entries, 36897 to 99999\n",
            "Data columns (total 3 columns):\n",
            " #   Column       Non-Null Count  Dtype \n",
            "---  ------       --------------  ----- \n",
            " 0   external_id  63103 non-null  object\n",
            " 1   event        63103 non-null  object\n",
            " 2   data         63103 non-null  object\n",
            "dtypes: object(3)\n",
            "memory usage: 1.9+ MB\n"
          ],
          "name": "stdout"
        }
      ]
    },
    {
      "cell_type": "code",
      "metadata": {
        "id": "TARIVDmTQ4NF"
      },
      "source": [
        "#getting saved dispute data for october"
      ],
      "execution_count": 8,
      "outputs": []
    },
    {
      "cell_type": "code",
      "metadata": {
        "id": "dLar_iZFQ8_z"
      },
      "source": [
        "oct_disputes = pd.read_csv(\"/content/drive/My Drive/dispute_df_oct.csv\")"
      ],
      "execution_count": 9,
      "outputs": []
    },
    {
      "cell_type": "code",
      "metadata": {
        "colab": {
          "base_uri": "https://localhost:8080/",
          "height": 210
        },
        "id": "2Fu9LYVzRAws",
        "outputId": "74e4f311-bd0c-4aba-b64b-4296a86e9458"
      },
      "source": [
        "oct_disputes.head(2)"
      ],
      "execution_count": 10,
      "outputs": [
        {
          "output_type": "execute_result",
          "data": {
            "text/html": [
              "<div>\n",
              "<style scoped>\n",
              "    .dataframe tbody tr th:only-of-type {\n",
              "        vertical-align: middle;\n",
              "    }\n",
              "\n",
              "    .dataframe tbody tr th {\n",
              "        vertical-align: top;\n",
              "    }\n",
              "\n",
              "    .dataframe thead th {\n",
              "        text-align: right;\n",
              "    }\n",
              "</style>\n",
              "<table border=\"1\" class=\"dataframe\">\n",
              "  <thead>\n",
              "    <tr style=\"text-align: right;\">\n",
              "      <th></th>\n",
              "      <th>Unnamed: 0</th>\n",
              "      <th>company_account</th>\n",
              "      <th>merchant_account</th>\n",
              "      <th>psp_reference</th>\n",
              "      <th>merchant_reference</th>\n",
              "      <th>payment_method</th>\n",
              "      <th>record_date</th>\n",
              "      <th>record_date_timezone</th>\n",
              "      <th>dispute_currency</th>\n",
              "      <th>dispute_amount</th>\n",
              "      <th>record_type</th>\n",
              "      <th>dispute_psp_reference</th>\n",
              "      <th>dispute_reason</th>\n",
              "      <th>rfi_scheme_code</th>\n",
              "      <th>rfi_reason_code</th>\n",
              "      <th>cb_scheme_code</th>\n",
              "      <th>cb_reason_code</th>\n",
              "      <th>nof_scheme_code</th>\n",
              "      <th>nof_reason_code</th>\n",
              "      <th>payment_date</th>\n",
              "      <th>payment_date_timezone</th>\n",
              "      <th>payment_currency</th>\n",
              "      <th>payment_amount</th>\n",
              "      <th>dispute_date</th>\n",
              "      <th>dispute_date_timezone</th>\n",
              "      <th>dispute_arn</th>\n",
              "      <th>user_name</th>\n",
              "      <th>risk_scoring</th>\n",
              "      <th>shopper_interaction</th>\n",
              "      <th>shopper_name</th>\n",
              "      <th>shopper_email</th>\n",
              "      <th>shopper_reference</th>\n",
              "      <th>shopper_pan</th>\n",
              "      <th>iban</th>\n",
              "      <th>bic</th>\n",
              "      <th>shopper_ip</th>\n",
              "      <th>shopper_country</th>\n",
              "      <th>issuer_country</th>\n",
              "      <th>issuer_id</th>\n",
              "      <th>three_d_directory_response</th>\n",
              "      <th>three_d_authentication_response</th>\n",
              "      <th>cvc2_response</th>\n",
              "      <th>avs_response</th>\n",
              "      <th>dispute_auto_defended</th>\n",
              "      <th>dispute_end_date</th>\n",
              "      <th>dispute_end_date_timezone</th>\n",
              "      <th>reserved4</th>\n",
              "      <th>reserved5</th>\n",
              "    </tr>\n",
              "  </thead>\n",
              "  <tbody>\n",
              "    <tr>\n",
              "      <th>0</th>\n",
              "      <td>0</td>\n",
              "      <td>RiideComp</td>\n",
              "      <td>RiideCompMP</td>\n",
              "      <td>1859020649491981</td>\n",
              "      <td>FINAL_PAYMENT_30811242</td>\n",
              "      <td>visa</td>\n",
              "      <td>2020-10-15 10:31:18+00:00</td>\n",
              "      <td>BST</td>\n",
              "      <td>EUR</td>\n",
              "      <td>9.14</td>\n",
              "      <td>NotificationOfFraud</td>\n",
              "      <td>7559026886734074</td>\n",
              "      <td>Fraudulent Use of Account Number</td>\n",
              "      <td>NaN</td>\n",
              "      <td>NaN</td>\n",
              "      <td>NaN</td>\n",
              "      <td>NaN</td>\n",
              "      <td>visa</td>\n",
              "      <td>6.0</td>\n",
              "      <td>2020-10-07 11:02:29+00:00</td>\n",
              "      <td>BST</td>\n",
              "      <td>GBP</td>\n",
              "      <td>8.4</td>\n",
              "      <td>2020-10-15 10:31:18+00:00</td>\n",
              "      <td>BST</td>\n",
              "      <td>74987500281000154677653</td>\n",
              "      <td>system</td>\n",
              "      <td>35</td>\n",
              "      <td>ContAuth</td>\n",
              "      <td>rhys thomas</td>\n",
              "      <td>kyrakelly20@outlook.com</td>\n",
              "      <td>RIIDE_USER_production_845203</td>\n",
              "      <td>100</td>\n",
              "      <td>NaN</td>\n",
              "      <td>NaN</td>\n",
              "      <td>NaN</td>\n",
              "      <td>NaN</td>\n",
              "      <td>GB</td>\n",
              "      <td>475140</td>\n",
              "      <td>NaN</td>\n",
              "      <td>NaN</td>\n",
              "      <td>0</td>\n",
              "      <td>6</td>\n",
              "      <td>NaN</td>\n",
              "      <td>2021-04-07 11:02:29+00:00</td>\n",
              "      <td>BST</td>\n",
              "      <td>NaN</td>\n",
              "      <td>NaN</td>\n",
              "    </tr>\n",
              "    <tr>\n",
              "      <th>1</th>\n",
              "      <td>1</td>\n",
              "      <td>RiideComp</td>\n",
              "      <td>RiideCompMP</td>\n",
              "      <td>1849014676254605</td>\n",
              "      <td>PREAUTH_production_1611974</td>\n",
              "      <td>visa</td>\n",
              "      <td>2020-10-15 10:29:34+00:00</td>\n",
              "      <td>BST</td>\n",
              "      <td>EUR</td>\n",
              "      <td>9.11</td>\n",
              "      <td>NotificationOfFraud</td>\n",
              "      <td>7549026885709328</td>\n",
              "      <td>Fraudulent Use of Account Number</td>\n",
              "      <td>NaN</td>\n",
              "      <td>NaN</td>\n",
              "      <td>NaN</td>\n",
              "      <td>NaN</td>\n",
              "      <td>visa</td>\n",
              "      <td>6.0</td>\n",
              "      <td>2020-09-30 13:07:05+00:00</td>\n",
              "      <td>BST</td>\n",
              "      <td>GBP</td>\n",
              "      <td>9.1</td>\n",
              "      <td>2020-10-15 10:29:34+00:00</td>\n",
              "      <td>BST</td>\n",
              "      <td>74987500274005078834941</td>\n",
              "      <td>system</td>\n",
              "      <td>-30</td>\n",
              "      <td>ContAuth</td>\n",
              "      <td>Lauren mulvihill</td>\n",
              "      <td>laurenthegreat2017@outlook.com</td>\n",
              "      <td>RIIDE_USER_production_1264991</td>\n",
              "      <td>5014</td>\n",
              "      <td>NaN</td>\n",
              "      <td>NaN</td>\n",
              "      <td>NaN</td>\n",
              "      <td>NaN</td>\n",
              "      <td>GB</td>\n",
              "      <td>465943</td>\n",
              "      <td>NaN</td>\n",
              "      <td>NaN</td>\n",
              "      <td>0</td>\n",
              "      <td>6</td>\n",
              "      <td>NaN</td>\n",
              "      <td>2021-03-30 13:07:05+00:00</td>\n",
              "      <td>BST</td>\n",
              "      <td>NaN</td>\n",
              "      <td>NaN</td>\n",
              "    </tr>\n",
              "  </tbody>\n",
              "</table>\n",
              "</div>"
            ],
            "text/plain": [
              "   Unnamed: 0 company_account  ... reserved4  reserved5\n",
              "0           0       RiideComp  ...       NaN        NaN\n",
              "1           1       RiideComp  ...       NaN        NaN\n",
              "\n",
              "[2 rows x 48 columns]"
            ]
          },
          "metadata": {
            "tags": []
          },
          "execution_count": 10
        }
      ]
    },
    {
      "cell_type": "code",
      "metadata": {
        "id": "nZdrA-QHRs3N"
      },
      "source": [
        "cols = [0]\n",
        "oct_disputes.drop(oct_disputes.columns[cols],axis=1,inplace=True)"
      ],
      "execution_count": 11,
      "outputs": []
    },
    {
      "cell_type": "code",
      "metadata": {
        "id": "49FLGcYIR4NE"
      },
      "source": [
        "#getting chargebaks\n",
        "chargebacks = oct_disputes[oct_disputes.record_type == 'Chargeback']"
      ],
      "execution_count": 12,
      "outputs": []
    },
    {
      "cell_type": "code",
      "metadata": {
        "colab": {
          "base_uri": "https://localhost:8080/"
        },
        "id": "VZBJz4iiSXgs",
        "outputId": "803472b3-da28-4a5a-d5be-499316f8290f"
      },
      "source": [
        "webhook['external_id'] = webhook['external_id'].astype('int64')"
      ],
      "execution_count": 13,
      "outputs": [
        {
          "output_type": "stream",
          "text": [
            "/usr/local/lib/python3.7/dist-packages/ipykernel_launcher.py:1: SettingWithCopyWarning: \n",
            "A value is trying to be set on a copy of a slice from a DataFrame.\n",
            "Try using .loc[row_indexer,col_indexer] = value instead\n",
            "\n",
            "See the caveats in the documentation: https://pandas.pydata.org/pandas-docs/stable/user_guide/indexing.html#returning-a-view-versus-a-copy\n",
            "  \"\"\"Entry point for launching an IPython kernel.\n"
          ],
          "name": "stderr"
        }
      ]
    },
    {
      "cell_type": "code",
      "metadata": {
        "colab": {
          "base_uri": "https://localhost:8080/",
          "height": 872
        },
        "id": "MiuScqKHSaVc",
        "outputId": "2b9ff712-dd01-444a-ceef-7cd29adf945d"
      },
      "source": [
        "pd.merge(webhook, chargebacks, left_on='external_id', right_on='psp_reference') #looks like only 9 are chargebacks"
      ],
      "execution_count": 14,
      "outputs": [
        {
          "output_type": "execute_result",
          "data": {
            "text/html": [
              "<div>\n",
              "<style scoped>\n",
              "    .dataframe tbody tr th:only-of-type {\n",
              "        vertical-align: middle;\n",
              "    }\n",
              "\n",
              "    .dataframe tbody tr th {\n",
              "        vertical-align: top;\n",
              "    }\n",
              "\n",
              "    .dataframe thead th {\n",
              "        text-align: right;\n",
              "    }\n",
              "</style>\n",
              "<table border=\"1\" class=\"dataframe\">\n",
              "  <thead>\n",
              "    <tr style=\"text-align: right;\">\n",
              "      <th></th>\n",
              "      <th>external_id</th>\n",
              "      <th>event</th>\n",
              "      <th>data</th>\n",
              "      <th>company_account</th>\n",
              "      <th>merchant_account</th>\n",
              "      <th>psp_reference</th>\n",
              "      <th>merchant_reference</th>\n",
              "      <th>payment_method</th>\n",
              "      <th>record_date</th>\n",
              "      <th>record_date_timezone</th>\n",
              "      <th>dispute_currency</th>\n",
              "      <th>dispute_amount</th>\n",
              "      <th>record_type</th>\n",
              "      <th>dispute_psp_reference</th>\n",
              "      <th>dispute_reason</th>\n",
              "      <th>rfi_scheme_code</th>\n",
              "      <th>rfi_reason_code</th>\n",
              "      <th>cb_scheme_code</th>\n",
              "      <th>cb_reason_code</th>\n",
              "      <th>nof_scheme_code</th>\n",
              "      <th>nof_reason_code</th>\n",
              "      <th>payment_date</th>\n",
              "      <th>payment_date_timezone</th>\n",
              "      <th>payment_currency</th>\n",
              "      <th>payment_amount</th>\n",
              "      <th>dispute_date</th>\n",
              "      <th>dispute_date_timezone</th>\n",
              "      <th>dispute_arn</th>\n",
              "      <th>user_name</th>\n",
              "      <th>risk_scoring</th>\n",
              "      <th>shopper_interaction</th>\n",
              "      <th>shopper_name</th>\n",
              "      <th>shopper_email</th>\n",
              "      <th>shopper_reference</th>\n",
              "      <th>shopper_pan</th>\n",
              "      <th>iban</th>\n",
              "      <th>bic</th>\n",
              "      <th>shopper_ip</th>\n",
              "      <th>shopper_country</th>\n",
              "      <th>issuer_country</th>\n",
              "      <th>issuer_id</th>\n",
              "      <th>three_d_directory_response</th>\n",
              "      <th>three_d_authentication_response</th>\n",
              "      <th>cvc2_response</th>\n",
              "      <th>avs_response</th>\n",
              "      <th>dispute_auto_defended</th>\n",
              "      <th>dispute_end_date</th>\n",
              "      <th>dispute_end_date_timezone</th>\n",
              "      <th>reserved4</th>\n",
              "      <th>reserved5</th>\n",
              "    </tr>\n",
              "  </thead>\n",
              "  <tbody>\n",
              "    <tr>\n",
              "      <th>0</th>\n",
              "      <td>1859037328549426</td>\n",
              "      <td>AUTHORISATION</td>\n",
              "      <td>{\"additionalData\":{\"fraudCheck-75-PaymentDetai...</td>\n",
              "      <td>RiideComp</td>\n",
              "      <td>RiideCompMP</td>\n",
              "      <td>1859037328549426</td>\n",
              "      <td>FINAL_PAYMENT_31785144</td>\n",
              "      <td>mc</td>\n",
              "      <td>2020-11-08 21:21:41+00:00</td>\n",
              "      <td>GMT</td>\n",
              "      <td>GBP</td>\n",
              "      <td>50.00</td>\n",
              "      <td>Chargeback</td>\n",
              "      <td>7559045904698038</td>\n",
              "      <td>No Cardholder Authorisation</td>\n",
              "      <td>NaN</td>\n",
              "      <td>NaN</td>\n",
              "      <td>mc</td>\n",
              "      <td>4837</td>\n",
              "      <td>NaN</td>\n",
              "      <td>NaN</td>\n",
              "      <td>2020-10-26 17:20:54+00:00</td>\n",
              "      <td>GMT</td>\n",
              "      <td>GBP</td>\n",
              "      <td>50.00</td>\n",
              "      <td>2020-11-08 21:21:40+00:00</td>\n",
              "      <td>GMT</td>\n",
              "      <td>15265670300357030387756</td>\n",
              "      <td>system</td>\n",
              "      <td>-30</td>\n",
              "      <td>ContAuth</td>\n",
              "      <td>Shania Patel</td>\n",
              "      <td>shania.patel1100@gmail.com</td>\n",
              "      <td>cus_I9dZE52hFNEbH1</td>\n",
              "      <td>7832</td>\n",
              "      <td>NaN</td>\n",
              "      <td>NaN</td>\n",
              "      <td>NaN</td>\n",
              "      <td>NaN</td>\n",
              "      <td>GB</td>\n",
              "      <td>535666</td>\n",
              "      <td>NaN</td>\n",
              "      <td>NaN</td>\n",
              "      <td>0</td>\n",
              "      <td>0</td>\n",
              "      <td>NaN</td>\n",
              "      <td>2020-12-18 21:21:40+00:00</td>\n",
              "      <td>GMT</td>\n",
              "      <td>NaN</td>\n",
              "      <td>NaN</td>\n",
              "    </tr>\n",
              "    <tr>\n",
              "      <th>1</th>\n",
              "      <td>4656039249813047</td>\n",
              "      <td>AUTHORISATION</td>\n",
              "      <td>{\"additionalData\":{\"fraudCheck-75-PaymentDetai...</td>\n",
              "      <td>RiideComp</td>\n",
              "      <td>RiideCompMP</td>\n",
              "      <td>4656039249813047</td>\n",
              "      <td>PREAUTH_production_1912648</td>\n",
              "      <td>visa</td>\n",
              "      <td>2020-11-17 08:28:08+00:00</td>\n",
              "      <td>GMT</td>\n",
              "      <td>EUR</td>\n",
              "      <td>25.05</td>\n",
              "      <td>Chargeback</td>\n",
              "      <td>7559052845342098</td>\n",
              "      <td>Other Fraud-Card Absent Environment</td>\n",
              "      <td>NaN</td>\n",
              "      <td>NaN</td>\n",
              "      <td>visa</td>\n",
              "      <td>10.4</td>\n",
              "      <td>NaN</td>\n",
              "      <td>NaN</td>\n",
              "      <td>2020-10-28 22:43:01+00:00</td>\n",
              "      <td>GMT</td>\n",
              "      <td>GBP</td>\n",
              "      <td>8.00</td>\n",
              "      <td>2020-11-13 19:19:36+00:00</td>\n",
              "      <td>GMT</td>\n",
              "      <td>74987500302010502305852</td>\n",
              "      <td>system</td>\n",
              "      <td>70</td>\n",
              "      <td>ContAuth</td>\n",
              "      <td>julian fletcher</td>\n",
              "      <td>NaN</td>\n",
              "      <td>RIIDE_USER_production_1740993</td>\n",
              "      <td>2440</td>\n",
              "      <td>NaN</td>\n",
              "      <td>NaN</td>\n",
              "      <td>NaN</td>\n",
              "      <td>NaN</td>\n",
              "      <td>GB</td>\n",
              "      <td>475129</td>\n",
              "      <td>NaN</td>\n",
              "      <td>NaN</td>\n",
              "      <td>0</td>\n",
              "      <td>2</td>\n",
              "      <td>NaN</td>\n",
              "      <td>2020-12-01 19:19:36+00:00</td>\n",
              "      <td>GMT</td>\n",
              "      <td>NaN</td>\n",
              "      <td>NaN</td>\n",
              "    </tr>\n",
              "    <tr>\n",
              "      <th>2</th>\n",
              "      <td>1746016867182259</td>\n",
              "      <td>AUTHORISATION</td>\n",
              "      <td>{\"additionalData\":{\"fraudCheck-52-DistinctPaym...</td>\n",
              "      <td>RiideComp</td>\n",
              "      <td>RiideCompMP</td>\n",
              "      <td>1746016867182259</td>\n",
              "      <td>PREAUTH_production_1643260</td>\n",
              "      <td>visa</td>\n",
              "      <td>2020-10-12 17:47:20+00:00</td>\n",
              "      <td>BST</td>\n",
              "      <td>EUR</td>\n",
              "      <td>7.71</td>\n",
              "      <td>Chargeback</td>\n",
              "      <td>7549021743303414</td>\n",
              "      <td>Other Fraud-Card Absent Environment</td>\n",
              "      <td>NaN</td>\n",
              "      <td>NaN</td>\n",
              "      <td>visa</td>\n",
              "      <td>10.4</td>\n",
              "      <td>NaN</td>\n",
              "      <td>NaN</td>\n",
              "      <td>2020-10-03 01:58:38+00:00</td>\n",
              "      <td>BST</td>\n",
              "      <td>GBP</td>\n",
              "      <td>8.40</td>\n",
              "      <td>2020-10-08 19:37:13+00:00</td>\n",
              "      <td>BST</td>\n",
              "      <td>74987500277000277484942</td>\n",
              "      <td>system</td>\n",
              "      <td>5</td>\n",
              "      <td>ContAuth</td>\n",
              "      <td>maureen evans</td>\n",
              "      <td>lemar1968@outlook.com</td>\n",
              "      <td>RIIDE_USER_production_1279320</td>\n",
              "      <td>3014</td>\n",
              "      <td>NaN</td>\n",
              "      <td>NaN</td>\n",
              "      <td>NaN</td>\n",
              "      <td>NaN</td>\n",
              "      <td>GB</td>\n",
              "      <td>465859</td>\n",
              "      <td>NaN</td>\n",
              "      <td>NaN</td>\n",
              "      <td>0</td>\n",
              "      <td>6</td>\n",
              "      <td>NaN</td>\n",
              "      <td>2020-10-26 19:37:13+00:00</td>\n",
              "      <td>GMT</td>\n",
              "      <td>NaN</td>\n",
              "      <td>NaN</td>\n",
              "    </tr>\n",
              "    <tr>\n",
              "      <th>3</th>\n",
              "      <td>4656015767030578</td>\n",
              "      <td>AUTHORISATION</td>\n",
              "      <td>{\"additionalData\":{\"fraudCheck-75-PaymentDetai...</td>\n",
              "      <td>RiideComp</td>\n",
              "      <td>RiideCompMP</td>\n",
              "      <td>4656015767030578</td>\n",
              "      <td>PREAUTH_production_1626796</td>\n",
              "      <td>visa</td>\n",
              "      <td>2020-10-26 09:59:23+00:00</td>\n",
              "      <td>GMT</td>\n",
              "      <td>EUR</td>\n",
              "      <td>8.32</td>\n",
              "      <td>Chargeback</td>\n",
              "      <td>7559033860504218</td>\n",
              "      <td>Other Fraud-Card Absent Environment</td>\n",
              "      <td>NaN</td>\n",
              "      <td>NaN</td>\n",
              "      <td>visa</td>\n",
              "      <td>10.4</td>\n",
              "      <td>NaN</td>\n",
              "      <td>NaN</td>\n",
              "      <td>2020-10-01 19:25:03+00:00</td>\n",
              "      <td>BST</td>\n",
              "      <td>GBP</td>\n",
              "      <td>7.50</td>\n",
              "      <td>2020-10-23 00:10:40+00:00</td>\n",
              "      <td>BST</td>\n",
              "      <td>74987500275008618905857</td>\n",
              "      <td>system</td>\n",
              "      <td>75</td>\n",
              "      <td>ContAuth</td>\n",
              "      <td>Brendan mcc</td>\n",
              "      <td>NaN</td>\n",
              "      <td>RIIDE_USER_production_1381490</td>\n",
              "      <td>7039</td>\n",
              "      <td>NaN</td>\n",
              "      <td>NaN</td>\n",
              "      <td>NaN</td>\n",
              "      <td>NaN</td>\n",
              "      <td>GB</td>\n",
              "      <td>492181</td>\n",
              "      <td>NaN</td>\n",
              "      <td>NaN</td>\n",
              "      <td>0</td>\n",
              "      <td>6</td>\n",
              "      <td>NaN</td>\n",
              "      <td>2020-11-10 00:10:40+00:00</td>\n",
              "      <td>GMT</td>\n",
              "      <td>NaN</td>\n",
              "      <td>NaN</td>\n",
              "    </tr>\n",
              "    <tr>\n",
              "      <th>4</th>\n",
              "      <td>4636025091650624</td>\n",
              "      <td>AUTHORISATION</td>\n",
              "      <td>{\"additionalData\":{\"fraudCheck-75-PaymentDetai...</td>\n",
              "      <td>RiideComp</td>\n",
              "      <td>RiideCompMP</td>\n",
              "      <td>4636025091650624</td>\n",
              "      <td>FINAL_PAYMENT_31093159</td>\n",
              "      <td>visa</td>\n",
              "      <td>2020-10-26 09:59:24+00:00</td>\n",
              "      <td>GMT</td>\n",
              "      <td>EUR</td>\n",
              "      <td>6.44</td>\n",
              "      <td>Chargeback</td>\n",
              "      <td>7436033859588486</td>\n",
              "      <td>Other Fraud-Card Absent Environment</td>\n",
              "      <td>NaN</td>\n",
              "      <td>NaN</td>\n",
              "      <td>visa</td>\n",
              "      <td>10.4</td>\n",
              "      <td>NaN</td>\n",
              "      <td>NaN</td>\n",
              "      <td>2020-10-12 14:26:05+00:00</td>\n",
              "      <td>BST</td>\n",
              "      <td>GBP</td>\n",
              "      <td>5.80</td>\n",
              "      <td>2020-10-22 21:08:24+00:00</td>\n",
              "      <td>BST</td>\n",
              "      <td>74987500286417451743738</td>\n",
              "      <td>system</td>\n",
              "      <td>35</td>\n",
              "      <td>ContAuth</td>\n",
              "      <td>Not Provided</td>\n",
              "      <td>justmina72@gmail.com</td>\n",
              "      <td>cus_Eqa3AnpxFl4Svw</td>\n",
              "      <td>8213</td>\n",
              "      <td>NaN</td>\n",
              "      <td>NaN</td>\n",
              "      <td>NaN</td>\n",
              "      <td>NaN</td>\n",
              "      <td>GB</td>\n",
              "      <td>465944</td>\n",
              "      <td>NaN</td>\n",
              "      <td>NaN</td>\n",
              "      <td>0</td>\n",
              "      <td>0</td>\n",
              "      <td>NaN</td>\n",
              "      <td>2020-11-09 21:08:24+00:00</td>\n",
              "      <td>GMT</td>\n",
              "      <td>NaN</td>\n",
              "      <td>NaN</td>\n",
              "    </tr>\n",
              "    <tr>\n",
              "      <th>5</th>\n",
              "      <td>4856035375715509</td>\n",
              "      <td>AUTHORISATION</td>\n",
              "      <td>{\"additionalData\":{\"metadata.booking_id\":\"3167...</td>\n",
              "      <td>RiideComp</td>\n",
              "      <td>RiideCompMP</td>\n",
              "      <td>4856035375715509</td>\n",
              "      <td>FINAL_PAYMENT_31670845</td>\n",
              "      <td>visa</td>\n",
              "      <td>2020-11-09 08:44:06+00:00</td>\n",
              "      <td>GMT</td>\n",
              "      <td>EUR</td>\n",
              "      <td>5.37</td>\n",
              "      <td>Chargeback</td>\n",
              "      <td>7559045929376917</td>\n",
              "      <td>Other Fraud-Card Absent Environment</td>\n",
              "      <td>NaN</td>\n",
              "      <td>NaN</td>\n",
              "      <td>visa</td>\n",
              "      <td>10.4</td>\n",
              "      <td>NaN</td>\n",
              "      <td>NaN</td>\n",
              "      <td>2020-10-24 12:06:11+00:00</td>\n",
              "      <td>BST</td>\n",
              "      <td>GBP</td>\n",
              "      <td>4.80</td>\n",
              "      <td>2020-11-05 21:17:43+00:00</td>\n",
              "      <td>GMT</td>\n",
              "      <td>74987500298000268757459</td>\n",
              "      <td>system</td>\n",
              "      <td>35</td>\n",
              "      <td>ContAuth</td>\n",
              "      <td>jake anthony clark</td>\n",
              "      <td>bello@gmmalo.com</td>\n",
              "      <td>RIIDE_USER_production_1809104</td>\n",
              "      <td>8013</td>\n",
              "      <td>NaN</td>\n",
              "      <td>NaN</td>\n",
              "      <td>NaN</td>\n",
              "      <td>NaN</td>\n",
              "      <td>GB</td>\n",
              "      <td>465865</td>\n",
              "      <td>NaN</td>\n",
              "      <td>NaN</td>\n",
              "      <td>0</td>\n",
              "      <td>6</td>\n",
              "      <td>NaN</td>\n",
              "      <td>2020-11-23 21:17:43+00:00</td>\n",
              "      <td>GMT</td>\n",
              "      <td>NaN</td>\n",
              "      <td>NaN</td>\n",
              "    </tr>\n",
              "    <tr>\n",
              "      <th>6</th>\n",
              "      <td>1559016288522139</td>\n",
              "      <td>AUTHORISATION</td>\n",
              "      <td>{\"additionalData\":{\"fraudCheck-75-PaymentDetai...</td>\n",
              "      <td>RiideComp</td>\n",
              "      <td>RiideCompMP</td>\n",
              "      <td>1559016288522139</td>\n",
              "      <td>PREAUTH_production_1632239</td>\n",
              "      <td>visa</td>\n",
              "      <td>2020-11-04 09:49:47+00:00</td>\n",
              "      <td>GMT</td>\n",
              "      <td>EUR</td>\n",
              "      <td>8.91</td>\n",
              "      <td>Chargeback</td>\n",
              "      <td>7559041610440120</td>\n",
              "      <td>Other Fraud-Card Absent Environment</td>\n",
              "      <td>NaN</td>\n",
              "      <td>NaN</td>\n",
              "      <td>visa</td>\n",
              "      <td>10.4</td>\n",
              "      <td>NaN</td>\n",
              "      <td>NaN</td>\n",
              "      <td>2020-10-02 09:54:12+00:00</td>\n",
              "      <td>BST</td>\n",
              "      <td>GBP</td>\n",
              "      <td>8.00</td>\n",
              "      <td>2020-10-31 16:22:40+00:00</td>\n",
              "      <td>GMT</td>\n",
              "      <td>74987500276003087575850</td>\n",
              "      <td>system</td>\n",
              "      <td>10</td>\n",
              "      <td>ContAuth</td>\n",
              "      <td>Jamal ibrahim</td>\n",
              "      <td>skeemzgogetta@gmail.com</td>\n",
              "      <td>cus_GKtJ7GgLuQn5gR</td>\n",
              "      <td>836</td>\n",
              "      <td>NaN</td>\n",
              "      <td>NaN</td>\n",
              "      <td>NaN</td>\n",
              "      <td>NaN</td>\n",
              "      <td>GB</td>\n",
              "      <td>446291</td>\n",
              "      <td>NaN</td>\n",
              "      <td>NaN</td>\n",
              "      <td>0</td>\n",
              "      <td>0</td>\n",
              "      <td>NaN</td>\n",
              "      <td>2020-11-18 16:22:40+00:00</td>\n",
              "      <td>GMT</td>\n",
              "      <td>NaN</td>\n",
              "      <td>NaN</td>\n",
              "    </tr>\n",
              "    <tr>\n",
              "      <th>7</th>\n",
              "      <td>1536023284151572</td>\n",
              "      <td>AUTHORISATION</td>\n",
              "      <td>{\"additionalData\":{\"metadata.booking_id\":\"3097...</td>\n",
              "      <td>RiideComp</td>\n",
              "      <td>RiideCompMP</td>\n",
              "      <td>1536023284151572</td>\n",
              "      <td>FINAL_PAYMENT_30978616</td>\n",
              "      <td>visa</td>\n",
              "      <td>2020-10-23 14:34:11+00:00</td>\n",
              "      <td>BST</td>\n",
              "      <td>EUR</td>\n",
              "      <td>6.83</td>\n",
              "      <td>Chargeback</td>\n",
              "      <td>7436032937640970</td>\n",
              "      <td>Other Fraud-Card Absent Environment</td>\n",
              "      <td>NaN</td>\n",
              "      <td>NaN</td>\n",
              "      <td>visa</td>\n",
              "      <td>10.4</td>\n",
              "      <td>NaN</td>\n",
              "      <td>NaN</td>\n",
              "      <td>2020-10-10 12:13:35+00:00</td>\n",
              "      <td>BST</td>\n",
              "      <td>GBP</td>\n",
              "      <td>6.20</td>\n",
              "      <td>2020-10-21 20:04:06+00:00</td>\n",
              "      <td>BST</td>\n",
              "      <td>74987500284000225423530</td>\n",
              "      <td>system</td>\n",
              "      <td>35</td>\n",
              "      <td>ContAuth</td>\n",
              "      <td>Mr N Onyeche</td>\n",
              "      <td>dammycobson@yahoo.co.uk</td>\n",
              "      <td>RIIDE_USER_production_716096</td>\n",
              "      <td>415</td>\n",
              "      <td>NaN</td>\n",
              "      <td>NaN</td>\n",
              "      <td>NaN</td>\n",
              "      <td>NaN</td>\n",
              "      <td>GB</td>\n",
              "      <td>475714</td>\n",
              "      <td>NaN</td>\n",
              "      <td>NaN</td>\n",
              "      <td>0</td>\n",
              "      <td>6</td>\n",
              "      <td>NaN</td>\n",
              "      <td>2020-11-08 20:04:06+00:00</td>\n",
              "      <td>GMT</td>\n",
              "      <td>NaN</td>\n",
              "      <td>NaN</td>\n",
              "    </tr>\n",
              "    <tr>\n",
              "      <th>8</th>\n",
              "      <td>6239033226941286</td>\n",
              "      <td>AUTHORISATION</td>\n",
              "      <td>{\"additionalData\":{\"fraudCheck-52-DistinctPaym...</td>\n",
              "      <td>RiideComp</td>\n",
              "      <td>RiideCompMP</td>\n",
              "      <td>6239033226941286</td>\n",
              "      <td>PREAUTH_production_1838238</td>\n",
              "      <td>visa</td>\n",
              "      <td>2020-12-09 09:07:33+00:00</td>\n",
              "      <td>GMT</td>\n",
              "      <td>EUR</td>\n",
              "      <td>12.25</td>\n",
              "      <td>Chargeback</td>\n",
              "      <td>7436073577022251</td>\n",
              "      <td>Other Fraud-Card Absent Environment</td>\n",
              "      <td>NaN</td>\n",
              "      <td>NaN</td>\n",
              "      <td>visa</td>\n",
              "      <td>10.4</td>\n",
              "      <td>NaN</td>\n",
              "      <td>NaN</td>\n",
              "      <td>2020-10-22 00:24:54+00:00</td>\n",
              "      <td>BST</td>\n",
              "      <td>GBP</td>\n",
              "      <td>11.20</td>\n",
              "      <td>2020-12-08 05:50:54+00:00</td>\n",
              "      <td>GMT</td>\n",
              "      <td>74987500295616424828737</td>\n",
              "      <td>system</td>\n",
              "      <td>-30</td>\n",
              "      <td>ContAuth</td>\n",
              "      <td>Luca romano</td>\n",
              "      <td>miaromano09@icloud.com</td>\n",
              "      <td>RIIDE_USER_production_824988</td>\n",
              "      <td>894</td>\n",
              "      <td>NaN</td>\n",
              "      <td>NaN</td>\n",
              "      <td>NaN</td>\n",
              "      <td>NaN</td>\n",
              "      <td>GB</td>\n",
              "      <td>475130</td>\n",
              "      <td>NaN</td>\n",
              "      <td>NaN</td>\n",
              "      <td>0</td>\n",
              "      <td>6</td>\n",
              "      <td>NaN</td>\n",
              "      <td>2020-12-26 05:50:54+00:00</td>\n",
              "      <td>GMT</td>\n",
              "      <td>NaN</td>\n",
              "      <td>NaN</td>\n",
              "    </tr>\n",
              "    <tr>\n",
              "      <th>9</th>\n",
              "      <td>4726034455650619</td>\n",
              "      <td>AUTHORISATION</td>\n",
              "      <td>{\"additionalData\":{\"fraudCheck-75-PaymentDetai...</td>\n",
              "      <td>RiideComp</td>\n",
              "      <td>RiideCompMP</td>\n",
              "      <td>4726034455650619</td>\n",
              "      <td>CABOODLE_PREAUTH_5f92a33d94c6e</td>\n",
              "      <td>visa</td>\n",
              "      <td>2020-11-24 08:14:43+00:00</td>\n",
              "      <td>GMT</td>\n",
              "      <td>EUR</td>\n",
              "      <td>35.54</td>\n",
              "      <td>Chargeback</td>\n",
              "      <td>7426058889913679</td>\n",
              "      <td>Other Fraud-Card Absent Environment</td>\n",
              "      <td>NaN</td>\n",
              "      <td>NaN</td>\n",
              "      <td>visa</td>\n",
              "      <td>10.4</td>\n",
              "      <td>NaN</td>\n",
              "      <td>NaN</td>\n",
              "      <td>2020-10-23 10:32:45+00:00</td>\n",
              "      <td>BST</td>\n",
              "      <td>GBP</td>\n",
              "      <td>31.72</td>\n",
              "      <td>2020-11-21 03:57:52+00:00</td>\n",
              "      <td>GMT</td>\n",
              "      <td>74987500315006161758725</td>\n",
              "      <td>system</td>\n",
              "      <td>-30</td>\n",
              "      <td>ContAuth</td>\n",
              "      <td>m nas</td>\n",
              "      <td>monasser88@yahoo.com</td>\n",
              "      <td>CABOODLE_USER_clubgrab_212</td>\n",
              "      <td>7</td>\n",
              "      <td>NaN</td>\n",
              "      <td>NaN</td>\n",
              "      <td>NaN</td>\n",
              "      <td>NaN</td>\n",
              "      <td>GB</td>\n",
              "      <td>492915</td>\n",
              "      <td>NaN</td>\n",
              "      <td>NaN</td>\n",
              "      <td>0</td>\n",
              "      <td>6</td>\n",
              "      <td>NaN</td>\n",
              "      <td>2020-12-09 03:57:52+00:00</td>\n",
              "      <td>GMT</td>\n",
              "      <td>NaN</td>\n",
              "      <td>NaN</td>\n",
              "    </tr>\n",
              "    <tr>\n",
              "      <th>10</th>\n",
              "      <td>1339020672065637</td>\n",
              "      <td>AUTHORISATION</td>\n",
              "      <td>{\"additionalData\":{\"fraudCheck-75-PaymentDetai...</td>\n",
              "      <td>RiideComp</td>\n",
              "      <td>RiideCompMP</td>\n",
              "      <td>1339020672065637</td>\n",
              "      <td>FINAL_PAYMENT_30812859</td>\n",
              "      <td>visa</td>\n",
              "      <td>2020-10-26 09:59:19+00:00</td>\n",
              "      <td>GMT</td>\n",
              "      <td>EUR</td>\n",
              "      <td>7.88</td>\n",
              "      <td>Chargeback</td>\n",
              "      <td>7436033859539323</td>\n",
              "      <td>Other Fraud-Card Absent Environment</td>\n",
              "      <td>NaN</td>\n",
              "      <td>NaN</td>\n",
              "      <td>visa</td>\n",
              "      <td>10.4</td>\n",
              "      <td>NaN</td>\n",
              "      <td>NaN</td>\n",
              "      <td>2020-10-07 11:40:06+00:00</td>\n",
              "      <td>BST</td>\n",
              "      <td>GBP</td>\n",
              "      <td>7.10</td>\n",
              "      <td>2020-10-22 21:08:07+00:00</td>\n",
              "      <td>BST</td>\n",
              "      <td>74987500281000172186836</td>\n",
              "      <td>system</td>\n",
              "      <td>35</td>\n",
              "      <td>ContAuth</td>\n",
              "      <td>Not Provided</td>\n",
              "      <td>justmina72@gmail.com</td>\n",
              "      <td>cus_Eqa3AnpxFl4Svw</td>\n",
              "      <td>8213</td>\n",
              "      <td>NaN</td>\n",
              "      <td>NaN</td>\n",
              "      <td>NaN</td>\n",
              "      <td>NaN</td>\n",
              "      <td>GB</td>\n",
              "      <td>465944</td>\n",
              "      <td>NaN</td>\n",
              "      <td>NaN</td>\n",
              "      <td>0</td>\n",
              "      <td>0</td>\n",
              "      <td>NaN</td>\n",
              "      <td>2020-11-09 21:08:07+00:00</td>\n",
              "      <td>GMT</td>\n",
              "      <td>NaN</td>\n",
              "      <td>NaN</td>\n",
              "    </tr>\n",
              "    <tr>\n",
              "      <th>11</th>\n",
              "      <td>1746020822012684</td>\n",
              "      <td>AUTHORISATION</td>\n",
              "      <td>{\"additionalData\":{\"metadata.booking_id\":\"3082...</td>\n",
              "      <td>RiideComp</td>\n",
              "      <td>RiideCompMP</td>\n",
              "      <td>1746020822012684</td>\n",
              "      <td>FINAL_PAYMENT_30824667</td>\n",
              "      <td>visa</td>\n",
              "      <td>2020-10-13 15:37:18+00:00</td>\n",
              "      <td>BST</td>\n",
              "      <td>EUR</td>\n",
              "      <td>5.51</td>\n",
              "      <td>Chargeback</td>\n",
              "      <td>7549022564487427</td>\n",
              "      <td>Other Fraud-Card Absent Environment</td>\n",
              "      <td>NaN</td>\n",
              "      <td>NaN</td>\n",
              "      <td>visa</td>\n",
              "      <td>10.4</td>\n",
              "      <td>NaN</td>\n",
              "      <td>NaN</td>\n",
              "      <td>2020-10-07 15:50:01+00:00</td>\n",
              "      <td>BST</td>\n",
              "      <td>GBP</td>\n",
              "      <td>5.00</td>\n",
              "      <td>2020-10-09 16:45:17+00:00</td>\n",
              "      <td>BST</td>\n",
              "      <td>74987500281000304697247</td>\n",
              "      <td>system</td>\n",
              "      <td>25</td>\n",
              "      <td>ContAuth</td>\n",
              "      <td>j a O’Sullivan</td>\n",
              "      <td>mittu.gamwe@gmail.com</td>\n",
              "      <td>RIIDE_USER_production_1760933</td>\n",
              "      <td>4010</td>\n",
              "      <td>NaN</td>\n",
              "      <td>NaN</td>\n",
              "      <td>NaN</td>\n",
              "      <td>NaN</td>\n",
              "      <td>GB</td>\n",
              "      <td>465901</td>\n",
              "      <td>NaN</td>\n",
              "      <td>NaN</td>\n",
              "      <td>0</td>\n",
              "      <td>7</td>\n",
              "      <td>NaN</td>\n",
              "      <td>2020-10-27 16:45:17+00:00</td>\n",
              "      <td>GMT</td>\n",
              "      <td>NaN</td>\n",
              "      <td>NaN</td>\n",
              "    </tr>\n",
              "    <tr>\n",
              "      <th>12</th>\n",
              "      <td>1656021635786918</td>\n",
              "      <td>AUTHORISATION</td>\n",
              "      <td>{\"additionalData\":{\"metadata.booking_id\":\"3086...</td>\n",
              "      <td>RiideComp</td>\n",
              "      <td>RiideCompMP</td>\n",
              "      <td>1656021635786918</td>\n",
              "      <td>FINAL_PAYMENT_30869340</td>\n",
              "      <td>visa</td>\n",
              "      <td>2020-10-14 13:36:19+00:00</td>\n",
              "      <td>BST</td>\n",
              "      <td>EUR</td>\n",
              "      <td>5.74</td>\n",
              "      <td>Chargeback</td>\n",
              "      <td>7559023429565636</td>\n",
              "      <td>Other Fraud-Card Absent Environment</td>\n",
              "      <td>NaN</td>\n",
              "      <td>NaN</td>\n",
              "      <td>visa</td>\n",
              "      <td>10.4</td>\n",
              "      <td>NaN</td>\n",
              "      <td>NaN</td>\n",
              "      <td>2020-10-08 14:26:18+00:00</td>\n",
              "      <td>BST</td>\n",
              "      <td>GBP</td>\n",
              "      <td>5.20</td>\n",
              "      <td>2020-10-10 16:17:53+00:00</td>\n",
              "      <td>BST</td>\n",
              "      <td>74987500282000152367355</td>\n",
              "      <td>system</td>\n",
              "      <td>35</td>\n",
              "      <td>ContAuth</td>\n",
              "      <td>Sarah Lloyd</td>\n",
              "      <td>Hextorgil@gmail.com</td>\n",
              "      <td>RIIDE_USER_production_1576856</td>\n",
              "      <td>9010</td>\n",
              "      <td>NaN</td>\n",
              "      <td>NaN</td>\n",
              "      <td>NaN</td>\n",
              "      <td>NaN</td>\n",
              "      <td>GB</td>\n",
              "      <td>465902</td>\n",
              "      <td>NaN</td>\n",
              "      <td>NaN</td>\n",
              "      <td>0</td>\n",
              "      <td>6</td>\n",
              "      <td>NaN</td>\n",
              "      <td>2020-10-28 16:17:53+00:00</td>\n",
              "      <td>GMT</td>\n",
              "      <td>NaN</td>\n",
              "      <td>NaN</td>\n",
              "    </tr>\n",
              "  </tbody>\n",
              "</table>\n",
              "</div>"
            ],
            "text/plain": [
              "         external_id          event  ... reserved4 reserved5\n",
              "0   1859037328549426  AUTHORISATION  ...       NaN       NaN\n",
              "1   4656039249813047  AUTHORISATION  ...       NaN       NaN\n",
              "2   1746016867182259  AUTHORISATION  ...       NaN       NaN\n",
              "3   4656015767030578  AUTHORISATION  ...       NaN       NaN\n",
              "4   4636025091650624  AUTHORISATION  ...       NaN       NaN\n",
              "5   4856035375715509  AUTHORISATION  ...       NaN       NaN\n",
              "6   1559016288522139  AUTHORISATION  ...       NaN       NaN\n",
              "7   1536023284151572  AUTHORISATION  ...       NaN       NaN\n",
              "8   6239033226941286  AUTHORISATION  ...       NaN       NaN\n",
              "9   4726034455650619  AUTHORISATION  ...       NaN       NaN\n",
              "10  1339020672065637  AUTHORISATION  ...       NaN       NaN\n",
              "11  1746020822012684  AUTHORISATION  ...       NaN       NaN\n",
              "12  1656021635786918  AUTHORISATION  ...       NaN       NaN\n",
              "\n",
              "[13 rows x 50 columns]"
            ]
          },
          "metadata": {
            "tags": []
          },
          "execution_count": 14
        }
      ]
    },
    {
      "cell_type": "code",
      "metadata": {
        "id": "jG7P8NrPSiWl"
      },
      "source": [
        "result = pd.merge(webhook, chargebacks, how = 'left',left_on='external_id', right_on='psp_reference')"
      ],
      "execution_count": 15,
      "outputs": []
    },
    {
      "cell_type": "code",
      "metadata": {
        "id": "j6-aYX3TTf_X"
      },
      "source": [
        "result = result[['external_id', 'event', 'data', 'psp_reference']]"
      ],
      "execution_count": 16,
      "outputs": []
    },
    {
      "cell_type": "code",
      "metadata": {
        "id": "4bHWZQsyTx-_",
        "colab": {
          "base_uri": "https://localhost:8080/",
          "height": 195
        },
        "outputId": "70a6f91c-ee21-473a-d3ac-93f5f74ae1b6"
      },
      "source": [
        "result.head()"
      ],
      "execution_count": 17,
      "outputs": [
        {
          "output_type": "execute_result",
          "data": {
            "text/html": [
              "<div>\n",
              "<style scoped>\n",
              "    .dataframe tbody tr th:only-of-type {\n",
              "        vertical-align: middle;\n",
              "    }\n",
              "\n",
              "    .dataframe tbody tr th {\n",
              "        vertical-align: top;\n",
              "    }\n",
              "\n",
              "    .dataframe thead th {\n",
              "        text-align: right;\n",
              "    }\n",
              "</style>\n",
              "<table border=\"1\" class=\"dataframe\">\n",
              "  <thead>\n",
              "    <tr style=\"text-align: right;\">\n",
              "      <th></th>\n",
              "      <th>external_id</th>\n",
              "      <th>event</th>\n",
              "      <th>data</th>\n",
              "      <th>psp_reference</th>\n",
              "    </tr>\n",
              "  </thead>\n",
              "  <tbody>\n",
              "    <tr>\n",
              "      <th>0</th>\n",
              "      <td>1859021897629876</td>\n",
              "      <td>AUTHORISATION</td>\n",
              "      <td>{\"additionalData\":{\"fraudCheck-75-PaymentDetai...</td>\n",
              "      <td>NaN</td>\n",
              "    </tr>\n",
              "    <tr>\n",
              "      <th>1</th>\n",
              "      <td>1319021897665668</td>\n",
              "      <td>AUTHORISATION</td>\n",
              "      <td>{\"additionalData\":{\"metadata.booking_id\":\"3089...</td>\n",
              "      <td>NaN</td>\n",
              "    </tr>\n",
              "    <tr>\n",
              "      <th>2</th>\n",
              "      <td>1339021899606989</td>\n",
              "      <td>AUTHORISATION</td>\n",
              "      <td>{\"additionalData\":{\"fraudCheck-75-PaymentDetai...</td>\n",
              "      <td>NaN</td>\n",
              "    </tr>\n",
              "    <tr>\n",
              "      <th>3</th>\n",
              "      <td>4336021899811776</td>\n",
              "      <td>AUTHORISATION</td>\n",
              "      <td>{\"additionalData\":{\"fraudCheck-75-PaymentDetai...</td>\n",
              "      <td>NaN</td>\n",
              "    </tr>\n",
              "    <tr>\n",
              "      <th>4</th>\n",
              "      <td>4636021900203960</td>\n",
              "      <td>AUTHORISATION</td>\n",
              "      <td>{\"additionalData\":{\"fraudCheck-75-PaymentDetai...</td>\n",
              "      <td>NaN</td>\n",
              "    </tr>\n",
              "  </tbody>\n",
              "</table>\n",
              "</div>"
            ],
            "text/plain": [
              "        external_id  ... psp_reference\n",
              "0  1859021897629876  ...           NaN\n",
              "1  1319021897665668  ...           NaN\n",
              "2  1339021899606989  ...           NaN\n",
              "3  4336021899811776  ...           NaN\n",
              "4  4636021900203960  ...           NaN\n",
              "\n",
              "[5 rows x 4 columns]"
            ]
          },
          "metadata": {
            "tags": []
          },
          "execution_count": 17
        }
      ]
    },
    {
      "cell_type": "code",
      "metadata": {
        "id": "V5KcE5QJT5Zo",
        "colab": {
          "base_uri": "https://localhost:8080/"
        },
        "outputId": "21925368-2d8c-45db-cbea-9cdecff8ad1c"
      },
      "source": [
        "result.info()"
      ],
      "execution_count": 18,
      "outputs": [
        {
          "output_type": "stream",
          "text": [
            "<class 'pandas.core.frame.DataFrame'>\n",
            "Int64Index: 63103 entries, 0 to 63102\n",
            "Data columns (total 4 columns):\n",
            " #   Column         Non-Null Count  Dtype  \n",
            "---  ------         --------------  -----  \n",
            " 0   external_id    63103 non-null  int64  \n",
            " 1   event          63103 non-null  object \n",
            " 2   data           63103 non-null  object \n",
            " 3   psp_reference  13 non-null     float64\n",
            "dtypes: float64(1), int64(1), object(2)\n",
            "memory usage: 2.4+ MB\n"
          ],
          "name": "stdout"
        }
      ]
    },
    {
      "cell_type": "code",
      "metadata": {
        "id": "t9CpPRs7UA91"
      },
      "source": [
        "result.columns = ['external_id', 'event', 'data', 'chargeback']"
      ],
      "execution_count": 19,
      "outputs": []
    },
    {
      "cell_type": "code",
      "metadata": {
        "id": "c2lmuK6oUeTs",
        "colab": {
          "base_uri": "https://localhost:8080/"
        },
        "outputId": "c4c0f416-02fa-407f-ca4c-96f0399b5292"
      },
      "source": [
        "result.info()"
      ],
      "execution_count": 20,
      "outputs": [
        {
          "output_type": "stream",
          "text": [
            "<class 'pandas.core.frame.DataFrame'>\n",
            "Int64Index: 63103 entries, 0 to 63102\n",
            "Data columns (total 4 columns):\n",
            " #   Column       Non-Null Count  Dtype  \n",
            "---  ------       --------------  -----  \n",
            " 0   external_id  63103 non-null  int64  \n",
            " 1   event        63103 non-null  object \n",
            " 2   data         63103 non-null  object \n",
            " 3   chargeback   13 non-null     float64\n",
            "dtypes: float64(1), int64(1), object(2)\n",
            "memory usage: 2.4+ MB\n"
          ],
          "name": "stdout"
        }
      ]
    },
    {
      "cell_type": "code",
      "metadata": {
        "id": "OwhK7uBdVAg8"
      },
      "source": [
        "result.chargeback.fillna(0,inplace=True)"
      ],
      "execution_count": 21,
      "outputs": []
    },
    {
      "cell_type": "code",
      "metadata": {
        "id": "mGk1_USuVu2J"
      },
      "source": [
        "result[\"chargeback\"]=result[\"chargeback\"].apply(lambda x: 1 if x!=0 else 0)"
      ],
      "execution_count": 22,
      "outputs": []
    },
    {
      "cell_type": "code",
      "metadata": {
        "id": "jKJedPRzWbaG",
        "colab": {
          "base_uri": "https://localhost:8080/"
        },
        "outputId": "e674234e-9a05-4916-9662-edb673873a34"
      },
      "source": [
        "result.info()"
      ],
      "execution_count": 23,
      "outputs": [
        {
          "output_type": "stream",
          "text": [
            "<class 'pandas.core.frame.DataFrame'>\n",
            "Int64Index: 63103 entries, 0 to 63102\n",
            "Data columns (total 4 columns):\n",
            " #   Column       Non-Null Count  Dtype \n",
            "---  ------       --------------  ----- \n",
            " 0   external_id  63103 non-null  int64 \n",
            " 1   event        63103 non-null  object\n",
            " 2   data         63103 non-null  object\n",
            " 3   chargeback   63103 non-null  int64 \n",
            "dtypes: int64(2), object(2)\n",
            "memory usage: 2.4+ MB\n"
          ],
          "name": "stdout"
        }
      ]
    },
    {
      "cell_type": "code",
      "metadata": {
        "id": "qc5V_BuOYbNv",
        "colab": {
          "base_uri": "https://localhost:8080/"
        },
        "outputId": "0eeccfc5-35f9-4203-86c4-d8b5603cdea4"
      },
      "source": [
        "result['chargeback'].value_counts()"
      ],
      "execution_count": 24,
      "outputs": [
        {
          "output_type": "execute_result",
          "data": {
            "text/plain": [
              "0    63090\n",
              "1       13\n",
              "Name: chargeback, dtype: int64"
            ]
          },
          "metadata": {
            "tags": []
          },
          "execution_count": 24
        }
      ]
    },
    {
      "cell_type": "markdown",
      "metadata": {
        "id": "rBoexZKGKtKT"
      },
      "source": [
        "plotting with labels"
      ]
    },
    {
      "cell_type": "code",
      "metadata": {
        "id": "XBsXpzMuWddc"
      },
      "source": [
        "import seaborn as sns"
      ],
      "execution_count": 25,
      "outputs": []
    },
    {
      "cell_type": "code",
      "metadata": {
        "id": "tMn2zETfWtNJ",
        "colab": {
          "base_uri": "https://localhost:8080/",
          "height": 296
        },
        "outputId": "fffb882a-86e7-4c65-a810-a477f8985562"
      },
      "source": [
        "sns.countplot(x = 'chargeback', data = result)"
      ],
      "execution_count": 26,
      "outputs": [
        {
          "output_type": "execute_result",
          "data": {
            "text/plain": [
              "<matplotlib.axes._subplots.AxesSubplot at 0x7fb46fe5b350>"
            ]
          },
          "metadata": {
            "tags": []
          },
          "execution_count": 26
        },
        {
          "output_type": "display_data",
          "data": {
            "image/png": "[encoded data removed]",
            "text/plain": [
              "<Figure size 432x288 with 1 Axes>"
            ]
          },
          "metadata": {
            "tags": [],
            "needs_background": "light"
          }
        }
      ]
    },
    {
      "cell_type": "code",
      "metadata": {
        "id": "rCuqp6UiTBZk"
      },
      "source": [
        "#normalisation"
      ],
      "execution_count": 27,
      "outputs": []
    },
    {
      "cell_type": "code",
      "metadata": {
        "id": "WPY_WQt8Ofr7"
      },
      "source": [
        "import json\n",
        "import numpy as np\n",
        "from pandas.io.json import json_normalize"
      ],
      "execution_count": 28,
      "outputs": []
    },
    {
      "cell_type": "code",
      "metadata": {
        "id": "kJeByPKCOj_I",
        "colab": {
          "base_uri": "https://localhost:8080/"
        },
        "outputId": "71ac0aa2-520b-4f88-9271-537fb360c8ae"
      },
      "source": [
        "flat_df = json_normalize(result.data.apply(json.loads))"
      ],
      "execution_count": 29,
      "outputs": [
        {
          "output_type": "stream",
          "text": [
            "/usr/local/lib/python3.7/dist-packages/ipykernel_launcher.py:1: FutureWarning: pandas.io.json.json_normalize is deprecated, use pandas.json_normalize instead\n",
            "  \"\"\"Entry point for launching an IPython kernel.\n"
          ],
          "name": "stderr"
        }
      ]
    },
    {
      "cell_type": "code",
      "metadata": {
        "id": "1nkuH8wuSXRj",
        "colab": {
          "base_uri": "https://localhost:8080/",
          "height": 446
        },
        "outputId": "5bd8b8c9-364f-4f09-9622-ac7136c8f360"
      },
      "source": [
        "flat_df.head()"
      ],
      "execution_count": 30,
      "outputs": [
        {
          "output_type": "execute_result",
          "data": {
            "text/html": [
              "<div>\n",
              "<style scoped>\n",
              "    .dataframe tbody tr th:only-of-type {\n",
              "        vertical-align: middle;\n",
              "    }\n",
              "\n",
              "    .dataframe tbody tr th {\n",
              "        vertical-align: top;\n",
              "    }\n",
              "\n",
              "    .dataframe thead th {\n",
              "        text-align: right;\n",
              "    }\n",
              "</style>\n",
              "<table border=\"1\" class=\"dataframe\">\n",
              "  <thead>\n",
              "    <tr style=\"text-align: right;\">\n",
              "      <th></th>\n",
              "      <th>eventCode</th>\n",
              "      <th>eventDate</th>\n",
              "      <th>merchantAccountCode</th>\n",
              "      <th>merchantReference</th>\n",
              "      <th>operations</th>\n",
              "      <th>paymentMethod</th>\n",
              "      <th>pspReference</th>\n",
              "      <th>reason</th>\n",
              "      <th>success</th>\n",
              "      <th>additionalData.fraudCheck-75-PaymentDetailCarteBancaireRefCheck</th>\n",
              "      <th>additionalData.eci</th>\n",
              "      <th>additionalData.refusalReasonRaw</th>\n",
              "      <th>additionalData.metadata.company</th>\n",
              "      <th>additionalData.metadata.booking_id</th>\n",
              "      <th>additionalData.fraudCheck-63-TransactionAmountCheck</th>\n",
              "      <th>additionalData.xid</th>\n",
              "      <th>additionalData.fraudCheck-52-DistinctPaymentDetailUsageByShopper</th>\n",
              "      <th>additionalData.recurringProcessingModel</th>\n",
              "      <th>additionalData.threeDAuthenticated</th>\n",
              "      <th>additionalData.metadata.icabbi_payment_id</th>\n",
              "      <th>additionalData.paymentMethodVariant</th>\n",
              "      <th>additionalData.riskdata.basket.item.brand</th>\n",
              "      <th>additionalData.fraudCheck-91-ShopperStrongAuthenticationCheck</th>\n",
              "      <th>additionalData.riskdata.shopperAppVersion</th>\n",
              "      <th>additionalData.deviceType</th>\n",
              "      <th>additionalData.metadata.shopper_name</th>\n",
              "      <th>additionalData.fraudCheck-54-DistinctSharedPaymentDetailUsageByShopper</th>\n",
              "      <th>additionalData.metadata.shopper_phone</th>\n",
              "      <th>additionalData.fraudCheck-77-EmailSyntaxCheck</th>\n",
              "      <th>additionalData.fraudManualReview</th>\n",
              "      <th>additionalData.threeDOffered</th>\n",
              "      <th>additionalData.threeDOfferedResponse</th>\n",
              "      <th>additionalData.shopperEmail</th>\n",
              "      <th>additionalData.fraudCheck-86-PaymentDetailAmexRefCheck</th>\n",
              "      <th>additionalData.cavv</th>\n",
              "      <th>additionalData.fraudCheck-46-DistinctCountryUsageByShopper</th>\n",
              "      <th>additionalData.shopperTelephone</th>\n",
              "      <th>additionalData.threeDAuthenticatedResponse</th>\n",
              "      <th>additionalData.fraudCheck-53-DistinctSharedShopperIpUsageByShopper</th>\n",
              "      <th>additionalData.retry.attempt1.rawResponse</th>\n",
              "      <th>...</th>\n",
              "      <th>additionalData.accountValidation</th>\n",
              "      <th>additionalData.fraudCheck-25-CVCAuthResultCheck</th>\n",
              "      <th>additionalData.fraudCheck-8-ShopperEmailUsage</th>\n",
              "      <th>additionalData.fraudCheck-2-CardChunkUsage</th>\n",
              "      <th>additionalData.fraudCheck-3-PaymentDetailUsage</th>\n",
              "      <th>additionalData.fraudCheck-55-ShopperAuthorisedFrequency</th>\n",
              "      <th>additionalData.fraudCheck-4-HolderNameUsage</th>\n",
              "      <th>additionalData.cvcResultRaw</th>\n",
              "      <th>additionalData.cardIssuingCurrency</th>\n",
              "      <th>additionalData.riskProfile</th>\n",
              "      <th>additionalData.riskProfileReference</th>\n",
              "      <th>additionalData.cardIssuingCountry</th>\n",
              "      <th>additionalData.cardIssuingBank</th>\n",
              "      <th>additionalData.cardPaymentMethod</th>\n",
              "      <th>additionalData.retry.attempt2.avsResultRaw</th>\n",
              "      <th>additionalData.retry.attempt2.responseCode</th>\n",
              "      <th>additionalData.retry.attempt2.rawResponse</th>\n",
              "      <th>additionalData.retry.attempt2.acquirerAccount</th>\n",
              "      <th>additionalData.retry.attempt2.acquirer</th>\n",
              "      <th>additionalData.riskdata.luhnOkCount</th>\n",
              "      <th>additionalData.riskdata.luhnCount</th>\n",
              "      <th>additionalData.riskdata.LuhnSameLengthCount</th>\n",
              "      <th>additionalData.riskdata.numberFieldClickCount</th>\n",
              "      <th>additionalData.fraudCheck-78-ShopperBehaviorCheck</th>\n",
              "      <th>additionalData.riskdata.numberFieldKeyCount</th>\n",
              "      <th>additionalData.riskdata.referrer</th>\n",
              "      <th>additionalData.riskdata.numberFieldFocusCount</th>\n",
              "      <th>additionalData.riskdata.initializeCount</th>\n",
              "      <th>additionalData.metadata.link_id</th>\n",
              "      <th>additionalData.riskdata.numberFieldLog</th>\n",
              "      <th>additionalData.metadata.caboodle_base_uri</th>\n",
              "      <th>additionalData.metadata.restaurant_id</th>\n",
              "      <th>additionalData.threeDSVersion</th>\n",
              "      <th>additionalData.fraudCheck--1-Pre-Auth-Risk-Total</th>\n",
              "      <th>additionalData.coBrandedWith</th>\n",
              "      <th>additionalData.riskdata.numberFieldEventHandlers</th>\n",
              "      <th>additionalData.riskdata.numberFieldUnknownKeys</th>\n",
              "      <th>additionalData.riskdata.numberFieldBlurCount</th>\n",
              "      <th>additionalData.authorisedAmountCurrency</th>\n",
              "      <th>additionalData.authorisedAmountValue</th>\n",
              "    </tr>\n",
              "  </thead>\n",
              "  <tbody>\n",
              "    <tr>\n",
              "      <th>0</th>\n",
              "      <td>AUTHORISATION</td>\n",
              "      <td>2020-10-08T22:42:42+02:00</td>\n",
              "      <td>RiideCompMP</td>\n",
              "      <td>FINAL_PAYMENT_30886220</td>\n",
              "      <td>[CANCEL, CAPTURE, REFUND]</td>\n",
              "      <td>visa</td>\n",
              "      <td>1859021897629876</td>\n",
              "      <td>008661:9332:03/2022</td>\n",
              "      <td>true</td>\n",
              "      <td>0</td>\n",
              "      <td>N/A</td>\n",
              "      <td>00 : Approved or completed successfully</td>\n",
              "      <td>hulc</td>\n",
              "      <td>30886220</td>\n",
              "      <td>0</td>\n",
              "      <td>N/A</td>\n",
              "      <td>0</td>\n",
              "      <td>CardOnFile</td>\n",
              "      <td>false</td>\n",
              "      <td>35902512</td>\n",
              "      <td>visastandarddebit</td>\n",
              "      <td>hulc</td>\n",
              "      <td>0</td>\n",
              "      <td>33.0.1359</td>\n",
              "      <td>Other</td>\n",
              "      <td>Joseph ODonnell</td>\n",
              "      <td>0</td>\n",
              "      <td>7413418796</td>\n",
              "      <td>0</td>\n",
              "      <td>false</td>\n",
              "      <td>false</td>\n",
              "      <td>N/A</td>\n",
              "      <td>joseph.odonnell1996@gmail.com</td>\n",
              "      <td>0</td>\n",
              "      <td>N/A</td>\n",
              "      <td>0</td>\n",
              "      <td>+447413418796</td>\n",
              "      <td>N/A</td>\n",
              "      <td>0</td>\n",
              "      <td>00 : Approved or completed successfully</td>\n",
              "      <td>...</td>\n",
              "      <td>NaN</td>\n",
              "      <td>NaN</td>\n",
              "      <td>NaN</td>\n",
              "      <td>NaN</td>\n",
              "      <td>NaN</td>\n",
              "      <td>NaN</td>\n",
              "      <td>NaN</td>\n",
              "      <td>NaN</td>\n",
              "      <td>NaN</td>\n",
              "      <td>NaN</td>\n",
              "      <td>NaN</td>\n",
              "      <td>NaN</td>\n",
              "      <td>NaN</td>\n",
              "      <td>NaN</td>\n",
              "      <td>NaN</td>\n",
              "      <td>NaN</td>\n",
              "      <td>NaN</td>\n",
              "      <td>NaN</td>\n",
              "      <td>NaN</td>\n",
              "      <td>NaN</td>\n",
              "      <td>NaN</td>\n",
              "      <td>NaN</td>\n",
              "      <td>NaN</td>\n",
              "      <td>NaN</td>\n",
              "      <td>NaN</td>\n",
              "      <td>NaN</td>\n",
              "      <td>NaN</td>\n",
              "      <td>NaN</td>\n",
              "      <td>NaN</td>\n",
              "      <td>NaN</td>\n",
              "      <td>NaN</td>\n",
              "      <td>NaN</td>\n",
              "      <td>NaN</td>\n",
              "      <td>NaN</td>\n",
              "      <td>NaN</td>\n",
              "      <td>NaN</td>\n",
              "      <td>NaN</td>\n",
              "      <td>NaN</td>\n",
              "      <td>NaN</td>\n",
              "      <td>NaN</td>\n",
              "    </tr>\n",
              "    <tr>\n",
              "      <th>1</th>\n",
              "      <td>AUTHORISATION</td>\n",
              "      <td>2020-10-08T22:42:46+02:00</td>\n",
              "      <td>RiideCompMP</td>\n",
              "      <td>FINAL_PAYMENT_30890094</td>\n",
              "      <td>[CANCEL, CAPTURE, REFUND]</td>\n",
              "      <td>amex</td>\n",
              "      <td>1319021897665668</td>\n",
              "      <td>180021:1008:03/2025</td>\n",
              "      <td>true</td>\n",
              "      <td>0</td>\n",
              "      <td>N/A</td>\n",
              "      <td>000 : Approved or completed successfully</td>\n",
              "      <td>001</td>\n",
              "      <td>30890094</td>\n",
              "      <td>0</td>\n",
              "      <td>N/A</td>\n",
              "      <td>0</td>\n",
              "      <td>NaN</td>\n",
              "      <td>false</td>\n",
              "      <td>39801983</td>\n",
              "      <td>amex</td>\n",
              "      <td>001</td>\n",
              "      <td>0</td>\n",
              "      <td>33.0.1359</td>\n",
              "      <td>Other</td>\n",
              "      <td>Greg Howgego</td>\n",
              "      <td>0</td>\n",
              "      <td>7583007775</td>\n",
              "      <td>0</td>\n",
              "      <td>false</td>\n",
              "      <td>false</td>\n",
              "      <td>N/A</td>\n",
              "      <td>howgego.greg@gmail.com</td>\n",
              "      <td>0</td>\n",
              "      <td>N/A</td>\n",
              "      <td>0</td>\n",
              "      <td>+447583007775</td>\n",
              "      <td>N/A</td>\n",
              "      <td>0</td>\n",
              "      <td>000 : Approved or completed successfully</td>\n",
              "      <td>...</td>\n",
              "      <td>NaN</td>\n",
              "      <td>NaN</td>\n",
              "      <td>NaN</td>\n",
              "      <td>NaN</td>\n",
              "      <td>NaN</td>\n",
              "      <td>NaN</td>\n",
              "      <td>NaN</td>\n",
              "      <td>NaN</td>\n",
              "      <td>NaN</td>\n",
              "      <td>NaN</td>\n",
              "      <td>NaN</td>\n",
              "      <td>NaN</td>\n",
              "      <td>NaN</td>\n",
              "      <td>NaN</td>\n",
              "      <td>NaN</td>\n",
              "      <td>NaN</td>\n",
              "      <td>NaN</td>\n",
              "      <td>NaN</td>\n",
              "      <td>NaN</td>\n",
              "      <td>NaN</td>\n",
              "      <td>NaN</td>\n",
              "      <td>NaN</td>\n",
              "      <td>NaN</td>\n",
              "      <td>NaN</td>\n",
              "      <td>NaN</td>\n",
              "      <td>NaN</td>\n",
              "      <td>NaN</td>\n",
              "      <td>NaN</td>\n",
              "      <td>NaN</td>\n",
              "      <td>NaN</td>\n",
              "      <td>NaN</td>\n",
              "      <td>NaN</td>\n",
              "      <td>NaN</td>\n",
              "      <td>NaN</td>\n",
              "      <td>NaN</td>\n",
              "      <td>NaN</td>\n",
              "      <td>NaN</td>\n",
              "      <td>NaN</td>\n",
              "      <td>NaN</td>\n",
              "      <td>NaN</td>\n",
              "    </tr>\n",
              "    <tr>\n",
              "      <th>2</th>\n",
              "      <td>AUTHORISATION</td>\n",
              "      <td>2020-10-08T22:46:00+02:00</td>\n",
              "      <td>RiideCompMP</td>\n",
              "      <td>PREAUTH_production_1703262</td>\n",
              "      <td>[CANCEL, CAPTURE, REFUND]</td>\n",
              "      <td>visa</td>\n",
              "      <td>1339021899606989</td>\n",
              "      <td>360959:7005:10/2021</td>\n",
              "      <td>true</td>\n",
              "      <td>0</td>\n",
              "      <td>N/A</td>\n",
              "      <td>00 : Approved or completed successfully</td>\n",
              "      <td>alphacar</td>\n",
              "      <td>NaN</td>\n",
              "      <td>0</td>\n",
              "      <td>N/A</td>\n",
              "      <td>0</td>\n",
              "      <td>CardOnFile</td>\n",
              "      <td>false</td>\n",
              "      <td>NaN</td>\n",
              "      <td>visastandarddebit</td>\n",
              "      <td>alphacar</td>\n",
              "      <td>0</td>\n",
              "      <td>333.0.705</td>\n",
              "      <td>Other</td>\n",
              "      <td>Paul Gratton</td>\n",
              "      <td>0</td>\n",
              "      <td>7957434717</td>\n",
              "      <td>0</td>\n",
              "      <td>false</td>\n",
              "      <td>false</td>\n",
              "      <td>N/A</td>\n",
              "      <td>paulgrattonsemail@gmail.com</td>\n",
              "      <td>0</td>\n",
              "      <td>N/A</td>\n",
              "      <td>0</td>\n",
              "      <td>+447957434717</td>\n",
              "      <td>N/A</td>\n",
              "      <td>0</td>\n",
              "      <td>00 : Approved or completed successfully</td>\n",
              "      <td>...</td>\n",
              "      <td>NaN</td>\n",
              "      <td>NaN</td>\n",
              "      <td>NaN</td>\n",
              "      <td>NaN</td>\n",
              "      <td>NaN</td>\n",
              "      <td>NaN</td>\n",
              "      <td>NaN</td>\n",
              "      <td>NaN</td>\n",
              "      <td>NaN</td>\n",
              "      <td>NaN</td>\n",
              "      <td>NaN</td>\n",
              "      <td>NaN</td>\n",
              "      <td>NaN</td>\n",
              "      <td>NaN</td>\n",
              "      <td>NaN</td>\n",
              "      <td>NaN</td>\n",
              "      <td>NaN</td>\n",
              "      <td>NaN</td>\n",
              "      <td>NaN</td>\n",
              "      <td>NaN</td>\n",
              "      <td>NaN</td>\n",
              "      <td>NaN</td>\n",
              "      <td>NaN</td>\n",
              "      <td>NaN</td>\n",
              "      <td>NaN</td>\n",
              "      <td>NaN</td>\n",
              "      <td>NaN</td>\n",
              "      <td>NaN</td>\n",
              "      <td>NaN</td>\n",
              "      <td>NaN</td>\n",
              "      <td>NaN</td>\n",
              "      <td>NaN</td>\n",
              "      <td>NaN</td>\n",
              "      <td>NaN</td>\n",
              "      <td>NaN</td>\n",
              "      <td>NaN</td>\n",
              "      <td>NaN</td>\n",
              "      <td>NaN</td>\n",
              "      <td>NaN</td>\n",
              "      <td>NaN</td>\n",
              "    </tr>\n",
              "    <tr>\n",
              "      <th>3</th>\n",
              "      <td>AUTHORISATION</td>\n",
              "      <td>2020-10-08T22:46:21+02:00</td>\n",
              "      <td>RiideCompMP</td>\n",
              "      <td>PREAUTH_production_1703263</td>\n",
              "      <td>[CANCEL, CAPTURE, REFUND]</td>\n",
              "      <td>visa</td>\n",
              "      <td>4336021899811776</td>\n",
              "      <td>381839:3206:08/2021</td>\n",
              "      <td>true</td>\n",
              "      <td>0</td>\n",
              "      <td>N/A</td>\n",
              "      <td>00 : Approved or completed successfully</td>\n",
              "      <td>alphacar</td>\n",
              "      <td>NaN</td>\n",
              "      <td>0</td>\n",
              "      <td>N/A</td>\n",
              "      <td>0</td>\n",
              "      <td>CardOnFile</td>\n",
              "      <td>false</td>\n",
              "      <td>NaN</td>\n",
              "      <td>visastandarddebit</td>\n",
              "      <td>alphacar</td>\n",
              "      <td>0</td>\n",
              "      <td>333.0.705</td>\n",
              "      <td>Other</td>\n",
              "      <td>Florence Lawlor</td>\n",
              "      <td>0</td>\n",
              "      <td>7502506516</td>\n",
              "      <td>0</td>\n",
              "      <td>false</td>\n",
              "      <td>false</td>\n",
              "      <td>N/A</td>\n",
              "      <td>f.lawlor@hotmail.co.uk</td>\n",
              "      <td>0</td>\n",
              "      <td>N/A</td>\n",
              "      <td>0</td>\n",
              "      <td>+447502506516</td>\n",
              "      <td>N/A</td>\n",
              "      <td>0</td>\n",
              "      <td>00 : Approved or completed successfully</td>\n",
              "      <td>...</td>\n",
              "      <td>NaN</td>\n",
              "      <td>NaN</td>\n",
              "      <td>NaN</td>\n",
              "      <td>NaN</td>\n",
              "      <td>NaN</td>\n",
              "      <td>NaN</td>\n",
              "      <td>NaN</td>\n",
              "      <td>NaN</td>\n",
              "      <td>NaN</td>\n",
              "      <td>NaN</td>\n",
              "      <td>NaN</td>\n",
              "      <td>NaN</td>\n",
              "      <td>NaN</td>\n",
              "      <td>NaN</td>\n",
              "      <td>NaN</td>\n",
              "      <td>NaN</td>\n",
              "      <td>NaN</td>\n",
              "      <td>NaN</td>\n",
              "      <td>NaN</td>\n",
              "      <td>NaN</td>\n",
              "      <td>NaN</td>\n",
              "      <td>NaN</td>\n",
              "      <td>NaN</td>\n",
              "      <td>NaN</td>\n",
              "      <td>NaN</td>\n",
              "      <td>NaN</td>\n",
              "      <td>NaN</td>\n",
              "      <td>NaN</td>\n",
              "      <td>NaN</td>\n",
              "      <td>NaN</td>\n",
              "      <td>NaN</td>\n",
              "      <td>NaN</td>\n",
              "      <td>NaN</td>\n",
              "      <td>NaN</td>\n",
              "      <td>NaN</td>\n",
              "      <td>NaN</td>\n",
              "      <td>NaN</td>\n",
              "      <td>NaN</td>\n",
              "      <td>NaN</td>\n",
              "      <td>NaN</td>\n",
              "    </tr>\n",
              "    <tr>\n",
              "      <th>4</th>\n",
              "      <td>AUTHORISATION</td>\n",
              "      <td>2020-10-08T22:47:00+02:00</td>\n",
              "      <td>RiideCompMP</td>\n",
              "      <td>PREAUTH_production_1703269</td>\n",
              "      <td>[CANCEL, CAPTURE, REFUND]</td>\n",
              "      <td>visa</td>\n",
              "      <td>4636021900203960</td>\n",
              "      <td>005665:0100:08/2021</td>\n",
              "      <td>true</td>\n",
              "      <td>0</td>\n",
              "      <td>N/A</td>\n",
              "      <td>00 : Approved or completed successfully</td>\n",
              "      <td>adt</td>\n",
              "      <td>NaN</td>\n",
              "      <td>0</td>\n",
              "      <td>N/A</td>\n",
              "      <td>0</td>\n",
              "      <td>CardOnFile</td>\n",
              "      <td>false</td>\n",
              "      <td>NaN</td>\n",
              "      <td>visastandardcredit</td>\n",
              "      <td>adt</td>\n",
              "      <td>0</td>\n",
              "      <td>33.0.1359</td>\n",
              "      <td>Other</td>\n",
              "      <td>Lee Santillana</td>\n",
              "      <td>0</td>\n",
              "      <td>7747551699</td>\n",
              "      <td>0</td>\n",
              "      <td>false</td>\n",
              "      <td>false</td>\n",
              "      <td>N/A</td>\n",
              "      <td>leebrillantes@gmail.com</td>\n",
              "      <td>0</td>\n",
              "      <td>N/A</td>\n",
              "      <td>0</td>\n",
              "      <td>+447747551699</td>\n",
              "      <td>N/A</td>\n",
              "      <td>0</td>\n",
              "      <td>00 : Approved or completed successfully</td>\n",
              "      <td>...</td>\n",
              "      <td>NaN</td>\n",
              "      <td>NaN</td>\n",
              "      <td>NaN</td>\n",
              "      <td>NaN</td>\n",
              "      <td>NaN</td>\n",
              "      <td>NaN</td>\n",
              "      <td>NaN</td>\n",
              "      <td>NaN</td>\n",
              "      <td>NaN</td>\n",
              "      <td>NaN</td>\n",
              "      <td>NaN</td>\n",
              "      <td>NaN</td>\n",
              "      <td>NaN</td>\n",
              "      <td>NaN</td>\n",
              "      <td>NaN</td>\n",
              "      <td>NaN</td>\n",
              "      <td>NaN</td>\n",
              "      <td>NaN</td>\n",
              "      <td>NaN</td>\n",
              "      <td>NaN</td>\n",
              "      <td>NaN</td>\n",
              "      <td>NaN</td>\n",
              "      <td>NaN</td>\n",
              "      <td>NaN</td>\n",
              "      <td>NaN</td>\n",
              "      <td>NaN</td>\n",
              "      <td>NaN</td>\n",
              "      <td>NaN</td>\n",
              "      <td>NaN</td>\n",
              "      <td>NaN</td>\n",
              "      <td>NaN</td>\n",
              "      <td>NaN</td>\n",
              "      <td>NaN</td>\n",
              "      <td>NaN</td>\n",
              "      <td>NaN</td>\n",
              "      <td>NaN</td>\n",
              "      <td>NaN</td>\n",
              "      <td>NaN</td>\n",
              "      <td>NaN</td>\n",
              "      <td>NaN</td>\n",
              "    </tr>\n",
              "  </tbody>\n",
              "</table>\n",
              "<p>5 rows × 158 columns</p>\n",
              "</div>"
            ],
            "text/plain": [
              "       eventCode  ... additionalData.authorisedAmountValue\n",
              "0  AUTHORISATION  ...                                  NaN\n",
              "1  AUTHORISATION  ...                                  NaN\n",
              "2  AUTHORISATION  ...                                  NaN\n",
              "3  AUTHORISATION  ...                                  NaN\n",
              "4  AUTHORISATION  ...                                  NaN\n",
              "\n",
              "[5 rows x 158 columns]"
            ]
          },
          "metadata": {
            "tags": []
          },
          "execution_count": 30
        }
      ]
    },
    {
      "cell_type": "code",
      "metadata": {
        "id": "BE-rBdG9TSsm"
      },
      "source": [
        "new_df = result[['external_id', 'chargeback']]"
      ],
      "execution_count": 31,
      "outputs": []
    },
    {
      "cell_type": "code",
      "metadata": {
        "id": "4vw5-70vT0kP"
      },
      "source": [
        "flat_df['pspReference']=flat_df['pspReference'].astype('int64')"
      ],
      "execution_count": 32,
      "outputs": []
    },
    {
      "cell_type": "code",
      "metadata": {
        "id": "zkwzNgU_TVwT"
      },
      "source": [
        "final_df = pd.merge(new_df, flat_df, left_on='external_id', right_on='pspReference')"
      ],
      "execution_count": 33,
      "outputs": []
    },
    {
      "cell_type": "code",
      "metadata": {
        "id": "K5fLQdqLVf-X",
        "colab": {
          "base_uri": "https://localhost:8080/"
        },
        "outputId": "99efc0b2-1126-4ad4-e244-9fd41b41b492"
      },
      "source": [
        "final_df.info()"
      ],
      "execution_count": 34,
      "outputs": [
        {
          "output_type": "stream",
          "text": [
            "<class 'pandas.core.frame.DataFrame'>\n",
            "Int64Index: 63129 entries, 0 to 63128\n",
            "Columns: 160 entries, external_id to additionalData.authorisedAmountValue\n",
            "dtypes: int64(4), object(156)\n",
            "memory usage: 77.5+ MB\n"
          ],
          "name": "stdout"
        }
      ]
    },
    {
      "cell_type": "code",
      "metadata": {
        "id": "40gB0tD-VsLv",
        "colab": {
          "base_uri": "https://localhost:8080/",
          "height": 446
        },
        "outputId": "6910fbaf-0ee1-4a8e-b521-6aac92d8732f"
      },
      "source": [
        "final_df[final_df['chargeback']==1 ].head()"
      ],
      "execution_count": 35,
      "outputs": [
        {
          "output_type": "execute_result",
          "data": {
            "text/html": [
              "<div>\n",
              "<style scoped>\n",
              "    .dataframe tbody tr th:only-of-type {\n",
              "        vertical-align: middle;\n",
              "    }\n",
              "\n",
              "    .dataframe tbody tr th {\n",
              "        vertical-align: top;\n",
              "    }\n",
              "\n",
              "    .dataframe thead th {\n",
              "        text-align: right;\n",
              "    }\n",
              "</style>\n",
              "<table border=\"1\" class=\"dataframe\">\n",
              "  <thead>\n",
              "    <tr style=\"text-align: right;\">\n",
              "      <th></th>\n",
              "      <th>external_id</th>\n",
              "      <th>chargeback</th>\n",
              "      <th>eventCode</th>\n",
              "      <th>eventDate</th>\n",
              "      <th>merchantAccountCode</th>\n",
              "      <th>merchantReference</th>\n",
              "      <th>operations</th>\n",
              "      <th>paymentMethod</th>\n",
              "      <th>pspReference</th>\n",
              "      <th>reason</th>\n",
              "      <th>success</th>\n",
              "      <th>additionalData.fraudCheck-75-PaymentDetailCarteBancaireRefCheck</th>\n",
              "      <th>additionalData.eci</th>\n",
              "      <th>additionalData.refusalReasonRaw</th>\n",
              "      <th>additionalData.metadata.company</th>\n",
              "      <th>additionalData.metadata.booking_id</th>\n",
              "      <th>additionalData.fraudCheck-63-TransactionAmountCheck</th>\n",
              "      <th>additionalData.xid</th>\n",
              "      <th>additionalData.fraudCheck-52-DistinctPaymentDetailUsageByShopper</th>\n",
              "      <th>additionalData.recurringProcessingModel</th>\n",
              "      <th>additionalData.threeDAuthenticated</th>\n",
              "      <th>additionalData.metadata.icabbi_payment_id</th>\n",
              "      <th>additionalData.paymentMethodVariant</th>\n",
              "      <th>additionalData.riskdata.basket.item.brand</th>\n",
              "      <th>additionalData.fraudCheck-91-ShopperStrongAuthenticationCheck</th>\n",
              "      <th>additionalData.riskdata.shopperAppVersion</th>\n",
              "      <th>additionalData.deviceType</th>\n",
              "      <th>additionalData.metadata.shopper_name</th>\n",
              "      <th>additionalData.fraudCheck-54-DistinctSharedPaymentDetailUsageByShopper</th>\n",
              "      <th>additionalData.metadata.shopper_phone</th>\n",
              "      <th>additionalData.fraudCheck-77-EmailSyntaxCheck</th>\n",
              "      <th>additionalData.fraudManualReview</th>\n",
              "      <th>additionalData.threeDOffered</th>\n",
              "      <th>additionalData.threeDOfferedResponse</th>\n",
              "      <th>additionalData.shopperEmail</th>\n",
              "      <th>additionalData.fraudCheck-86-PaymentDetailAmexRefCheck</th>\n",
              "      <th>additionalData.cavv</th>\n",
              "      <th>additionalData.fraudCheck-46-DistinctCountryUsageByShopper</th>\n",
              "      <th>additionalData.shopperTelephone</th>\n",
              "      <th>additionalData.threeDAuthenticatedResponse</th>\n",
              "      <th>...</th>\n",
              "      <th>additionalData.accountValidation</th>\n",
              "      <th>additionalData.fraudCheck-25-CVCAuthResultCheck</th>\n",
              "      <th>additionalData.fraudCheck-8-ShopperEmailUsage</th>\n",
              "      <th>additionalData.fraudCheck-2-CardChunkUsage</th>\n",
              "      <th>additionalData.fraudCheck-3-PaymentDetailUsage</th>\n",
              "      <th>additionalData.fraudCheck-55-ShopperAuthorisedFrequency</th>\n",
              "      <th>additionalData.fraudCheck-4-HolderNameUsage</th>\n",
              "      <th>additionalData.cvcResultRaw</th>\n",
              "      <th>additionalData.cardIssuingCurrency</th>\n",
              "      <th>additionalData.riskProfile</th>\n",
              "      <th>additionalData.riskProfileReference</th>\n",
              "      <th>additionalData.cardIssuingCountry</th>\n",
              "      <th>additionalData.cardIssuingBank</th>\n",
              "      <th>additionalData.cardPaymentMethod</th>\n",
              "      <th>additionalData.retry.attempt2.avsResultRaw</th>\n",
              "      <th>additionalData.retry.attempt2.responseCode</th>\n",
              "      <th>additionalData.retry.attempt2.rawResponse</th>\n",
              "      <th>additionalData.retry.attempt2.acquirerAccount</th>\n",
              "      <th>additionalData.retry.attempt2.acquirer</th>\n",
              "      <th>additionalData.riskdata.luhnOkCount</th>\n",
              "      <th>additionalData.riskdata.luhnCount</th>\n",
              "      <th>additionalData.riskdata.LuhnSameLengthCount</th>\n",
              "      <th>additionalData.riskdata.numberFieldClickCount</th>\n",
              "      <th>additionalData.fraudCheck-78-ShopperBehaviorCheck</th>\n",
              "      <th>additionalData.riskdata.numberFieldKeyCount</th>\n",
              "      <th>additionalData.riskdata.referrer</th>\n",
              "      <th>additionalData.riskdata.numberFieldFocusCount</th>\n",
              "      <th>additionalData.riskdata.initializeCount</th>\n",
              "      <th>additionalData.metadata.link_id</th>\n",
              "      <th>additionalData.riskdata.numberFieldLog</th>\n",
              "      <th>additionalData.metadata.caboodle_base_uri</th>\n",
              "      <th>additionalData.metadata.restaurant_id</th>\n",
              "      <th>additionalData.threeDSVersion</th>\n",
              "      <th>additionalData.fraudCheck--1-Pre-Auth-Risk-Total</th>\n",
              "      <th>additionalData.coBrandedWith</th>\n",
              "      <th>additionalData.riskdata.numberFieldEventHandlers</th>\n",
              "      <th>additionalData.riskdata.numberFieldUnknownKeys</th>\n",
              "      <th>additionalData.riskdata.numberFieldBlurCount</th>\n",
              "      <th>additionalData.authorisedAmountCurrency</th>\n",
              "      <th>additionalData.authorisedAmountValue</th>\n",
              "    </tr>\n",
              "  </thead>\n",
              "  <tbody>\n",
              "    <tr>\n",
              "      <th>5110</th>\n",
              "      <td>1859037328549426</td>\n",
              "      <td>1</td>\n",
              "      <td>AUTHORISATION</td>\n",
              "      <td>2020-10-26T18:20:54+01:00</td>\n",
              "      <td>RiideCompMP</td>\n",
              "      <td>FINAL_PAYMENT_31785144</td>\n",
              "      <td>[CANCEL, CAPTURE, REFUND]</td>\n",
              "      <td>mc</td>\n",
              "      <td>1859037328549426</td>\n",
              "      <td>587631:7832:09/2024</td>\n",
              "      <td>true</td>\n",
              "      <td>0</td>\n",
              "      <td>N/A</td>\n",
              "      <td>00 : Approved or completed successfully</td>\n",
              "      <td>a1taxis</td>\n",
              "      <td>31785144</td>\n",
              "      <td>0</td>\n",
              "      <td>N/A</td>\n",
              "      <td>0</td>\n",
              "      <td>CardOnFile</td>\n",
              "      <td>false</td>\n",
              "      <td>36204494</td>\n",
              "      <td>mcstandarddebit</td>\n",
              "      <td>a1taxis</td>\n",
              "      <td>0</td>\n",
              "      <td>333.0.671</td>\n",
              "      <td>Other</td>\n",
              "      <td>Shania patel</td>\n",
              "      <td>0</td>\n",
              "      <td>7875148284</td>\n",
              "      <td>0</td>\n",
              "      <td>false</td>\n",
              "      <td>false</td>\n",
              "      <td>N/A</td>\n",
              "      <td>shania.patel1100@gmail.com</td>\n",
              "      <td>0</td>\n",
              "      <td>N/A</td>\n",
              "      <td>0</td>\n",
              "      <td>+447875148284</td>\n",
              "      <td>N/A</td>\n",
              "      <td>...</td>\n",
              "      <td>NaN</td>\n",
              "      <td>NaN</td>\n",
              "      <td>NaN</td>\n",
              "      <td>NaN</td>\n",
              "      <td>NaN</td>\n",
              "      <td>NaN</td>\n",
              "      <td>NaN</td>\n",
              "      <td>NaN</td>\n",
              "      <td>NaN</td>\n",
              "      <td>NaN</td>\n",
              "      <td>NaN</td>\n",
              "      <td>NaN</td>\n",
              "      <td>NaN</td>\n",
              "      <td>NaN</td>\n",
              "      <td>NaN</td>\n",
              "      <td>NaN</td>\n",
              "      <td>NaN</td>\n",
              "      <td>NaN</td>\n",
              "      <td>NaN</td>\n",
              "      <td>NaN</td>\n",
              "      <td>NaN</td>\n",
              "      <td>NaN</td>\n",
              "      <td>NaN</td>\n",
              "      <td>NaN</td>\n",
              "      <td>NaN</td>\n",
              "      <td>NaN</td>\n",
              "      <td>NaN</td>\n",
              "      <td>NaN</td>\n",
              "      <td>NaN</td>\n",
              "      <td>NaN</td>\n",
              "      <td>NaN</td>\n",
              "      <td>NaN</td>\n",
              "      <td>NaN</td>\n",
              "      <td>NaN</td>\n",
              "      <td>NaN</td>\n",
              "      <td>NaN</td>\n",
              "      <td>NaN</td>\n",
              "      <td>NaN</td>\n",
              "      <td>NaN</td>\n",
              "      <td>NaN</td>\n",
              "    </tr>\n",
              "    <tr>\n",
              "      <th>7480</th>\n",
              "      <td>4656039249813047</td>\n",
              "      <td>1</td>\n",
              "      <td>AUTHORISATION</td>\n",
              "      <td>2020-10-28T23:43:01+01:00</td>\n",
              "      <td>RiideCompMP</td>\n",
              "      <td>PREAUTH_production_1912648</td>\n",
              "      <td>[CANCEL, CAPTURE, REFUND]</td>\n",
              "      <td>visa</td>\n",
              "      <td>4656039249813047</td>\n",
              "      <td>196556:2440:06/2023</td>\n",
              "      <td>true</td>\n",
              "      <td>0</td>\n",
              "      <td>N/A</td>\n",
              "      <td>00 : Approved or completed successfully</td>\n",
              "      <td>247carz</td>\n",
              "      <td>NaN</td>\n",
              "      <td>0</td>\n",
              "      <td>N/A</td>\n",
              "      <td>0</td>\n",
              "      <td>CardOnFile</td>\n",
              "      <td>false</td>\n",
              "      <td>NaN</td>\n",
              "      <td>visastandarddebit</td>\n",
              "      <td>247carz</td>\n",
              "      <td>-30</td>\n",
              "      <td>333.0.705</td>\n",
              "      <td>Other</td>\n",
              "      <td>ABDI</td>\n",
              "      <td>0</td>\n",
              "      <td>7943757567</td>\n",
              "      <td>NaN</td>\n",
              "      <td>false</td>\n",
              "      <td>false</td>\n",
              "      <td>N/A</td>\n",
              "      <td>NaN</td>\n",
              "      <td>0</td>\n",
              "      <td>N/A</td>\n",
              "      <td>0</td>\n",
              "      <td>+447943757567</td>\n",
              "      <td>N/A</td>\n",
              "      <td>...</td>\n",
              "      <td>NaN</td>\n",
              "      <td>NaN</td>\n",
              "      <td>NaN</td>\n",
              "      <td>NaN</td>\n",
              "      <td>NaN</td>\n",
              "      <td>NaN</td>\n",
              "      <td>NaN</td>\n",
              "      <td>NaN</td>\n",
              "      <td>NaN</td>\n",
              "      <td>NaN</td>\n",
              "      <td>NaN</td>\n",
              "      <td>NaN</td>\n",
              "      <td>NaN</td>\n",
              "      <td>NaN</td>\n",
              "      <td>NaN</td>\n",
              "      <td>NaN</td>\n",
              "      <td>NaN</td>\n",
              "      <td>NaN</td>\n",
              "      <td>NaN</td>\n",
              "      <td>NaN</td>\n",
              "      <td>NaN</td>\n",
              "      <td>NaN</td>\n",
              "      <td>NaN</td>\n",
              "      <td>NaN</td>\n",
              "      <td>NaN</td>\n",
              "      <td>NaN</td>\n",
              "      <td>NaN</td>\n",
              "      <td>NaN</td>\n",
              "      <td>NaN</td>\n",
              "      <td>NaN</td>\n",
              "      <td>NaN</td>\n",
              "      <td>NaN</td>\n",
              "      <td>NaN</td>\n",
              "      <td>NaN</td>\n",
              "      <td>NaN</td>\n",
              "      <td>NaN</td>\n",
              "      <td>NaN</td>\n",
              "      <td>NaN</td>\n",
              "      <td>NaN</td>\n",
              "      <td>NaN</td>\n",
              "    </tr>\n",
              "    <tr>\n",
              "      <th>9097</th>\n",
              "      <td>1746016867182259</td>\n",
              "      <td>1</td>\n",
              "      <td>AUTHORISATION</td>\n",
              "      <td>2020-10-03T02:58:38+02:00</td>\n",
              "      <td>RiideCompMP</td>\n",
              "      <td>PREAUTH_production_1643260</td>\n",
              "      <td>[CANCEL, CAPTURE, REFUND]</td>\n",
              "      <td>visa</td>\n",
              "      <td>1746016867182259</td>\n",
              "      <td>073838:3014:03/2023</td>\n",
              "      <td>true</td>\n",
              "      <td>0</td>\n",
              "      <td>N/A</td>\n",
              "      <td>00 : Approved or completed successfully</td>\n",
              "      <td>datacars</td>\n",
              "      <td>NaN</td>\n",
              "      <td>0</td>\n",
              "      <td>N/A</td>\n",
              "      <td>0</td>\n",
              "      <td>CardOnFile</td>\n",
              "      <td>false</td>\n",
              "      <td>NaN</td>\n",
              "      <td>visastandarddebit</td>\n",
              "      <td>datacars</td>\n",
              "      <td>-30</td>\n",
              "      <td>333.0.705</td>\n",
              "      <td>Other</td>\n",
              "      <td>lemar grant</td>\n",
              "      <td>0</td>\n",
              "      <td>7599902531</td>\n",
              "      <td>0</td>\n",
              "      <td>false</td>\n",
              "      <td>false</td>\n",
              "      <td>N/A</td>\n",
              "      <td>lemar1968@outlook.com</td>\n",
              "      <td>0</td>\n",
              "      <td>N/A</td>\n",
              "      <td>0</td>\n",
              "      <td>+447599902531</td>\n",
              "      <td>N/A</td>\n",
              "      <td>...</td>\n",
              "      <td>NaN</td>\n",
              "      <td>NaN</td>\n",
              "      <td>NaN</td>\n",
              "      <td>NaN</td>\n",
              "      <td>NaN</td>\n",
              "      <td>NaN</td>\n",
              "      <td>NaN</td>\n",
              "      <td>NaN</td>\n",
              "      <td>NaN</td>\n",
              "      <td>NaN</td>\n",
              "      <td>NaN</td>\n",
              "      <td>NaN</td>\n",
              "      <td>NaN</td>\n",
              "      <td>NaN</td>\n",
              "      <td>NaN</td>\n",
              "      <td>NaN</td>\n",
              "      <td>NaN</td>\n",
              "      <td>NaN</td>\n",
              "      <td>NaN</td>\n",
              "      <td>NaN</td>\n",
              "      <td>NaN</td>\n",
              "      <td>NaN</td>\n",
              "      <td>NaN</td>\n",
              "      <td>NaN</td>\n",
              "      <td>NaN</td>\n",
              "      <td>NaN</td>\n",
              "      <td>NaN</td>\n",
              "      <td>NaN</td>\n",
              "      <td>NaN</td>\n",
              "      <td>NaN</td>\n",
              "      <td>NaN</td>\n",
              "      <td>NaN</td>\n",
              "      <td>NaN</td>\n",
              "      <td>NaN</td>\n",
              "      <td>NaN</td>\n",
              "      <td>NaN</td>\n",
              "      <td>NaN</td>\n",
              "      <td>NaN</td>\n",
              "      <td>NaN</td>\n",
              "      <td>NaN</td>\n",
              "    </tr>\n",
              "    <tr>\n",
              "      <th>10233</th>\n",
              "      <td>4656015767030578</td>\n",
              "      <td>1</td>\n",
              "      <td>AUTHORISATION</td>\n",
              "      <td>2020-10-01T20:25:03+02:00</td>\n",
              "      <td>RiideCompMP</td>\n",
              "      <td>PREAUTH_production_1626796</td>\n",
              "      <td>[CANCEL, CAPTURE, REFUND]</td>\n",
              "      <td>visa</td>\n",
              "      <td>4656015767030578</td>\n",
              "      <td>001959:7039:01/2023</td>\n",
              "      <td>true</td>\n",
              "      <td>0</td>\n",
              "      <td>N/A</td>\n",
              "      <td>00 : Approved or completed successfully</td>\n",
              "      <td>gocars</td>\n",
              "      <td>NaN</td>\n",
              "      <td>0</td>\n",
              "      <td>N/A</td>\n",
              "      <td>75</td>\n",
              "      <td>CardOnFile</td>\n",
              "      <td>false</td>\n",
              "      <td>NaN</td>\n",
              "      <td>visastandarddebit</td>\n",
              "      <td>gocars</td>\n",
              "      <td>0</td>\n",
              "      <td>333.0.700</td>\n",
              "      <td>Other</td>\n",
              "      <td>THOMAS</td>\n",
              "      <td>0</td>\n",
              "      <td>7903280959</td>\n",
              "      <td>NaN</td>\n",
              "      <td>false</td>\n",
              "      <td>false</td>\n",
              "      <td>N/A</td>\n",
              "      <td>NaN</td>\n",
              "      <td>0</td>\n",
              "      <td>N/A</td>\n",
              "      <td>0</td>\n",
              "      <td>+447903280959</td>\n",
              "      <td>N/A</td>\n",
              "      <td>...</td>\n",
              "      <td>NaN</td>\n",
              "      <td>NaN</td>\n",
              "      <td>NaN</td>\n",
              "      <td>NaN</td>\n",
              "      <td>NaN</td>\n",
              "      <td>NaN</td>\n",
              "      <td>NaN</td>\n",
              "      <td>NaN</td>\n",
              "      <td>NaN</td>\n",
              "      <td>NaN</td>\n",
              "      <td>NaN</td>\n",
              "      <td>NaN</td>\n",
              "      <td>NaN</td>\n",
              "      <td>NaN</td>\n",
              "      <td>NaN</td>\n",
              "      <td>NaN</td>\n",
              "      <td>NaN</td>\n",
              "      <td>NaN</td>\n",
              "      <td>NaN</td>\n",
              "      <td>NaN</td>\n",
              "      <td>NaN</td>\n",
              "      <td>NaN</td>\n",
              "      <td>NaN</td>\n",
              "      <td>NaN</td>\n",
              "      <td>NaN</td>\n",
              "      <td>NaN</td>\n",
              "      <td>NaN</td>\n",
              "      <td>NaN</td>\n",
              "      <td>NaN</td>\n",
              "      <td>NaN</td>\n",
              "      <td>NaN</td>\n",
              "      <td>NaN</td>\n",
              "      <td>NaN</td>\n",
              "      <td>NaN</td>\n",
              "      <td>NaN</td>\n",
              "      <td>NaN</td>\n",
              "      <td>NaN</td>\n",
              "      <td>NaN</td>\n",
              "      <td>NaN</td>\n",
              "      <td>NaN</td>\n",
              "    </tr>\n",
              "    <tr>\n",
              "      <th>12552</th>\n",
              "      <td>4636025091650624</td>\n",
              "      <td>1</td>\n",
              "      <td>AUTHORISATION</td>\n",
              "      <td>2020-10-12T15:26:05+02:00</td>\n",
              "      <td>RiideCompMP</td>\n",
              "      <td>FINAL_PAYMENT_31093159</td>\n",
              "      <td>[CANCEL, CAPTURE, REFUND]</td>\n",
              "      <td>visa</td>\n",
              "      <td>4636025091650624</td>\n",
              "      <td>004936:8213:10/2022</td>\n",
              "      <td>true</td>\n",
              "      <td>0</td>\n",
              "      <td>N/A</td>\n",
              "      <td>00 : Approved or completed successfully</td>\n",
              "      <td>001</td>\n",
              "      <td>31093159</td>\n",
              "      <td>0</td>\n",
              "      <td>N/A</td>\n",
              "      <td>0</td>\n",
              "      <td>CardOnFile</td>\n",
              "      <td>false</td>\n",
              "      <td>39852947</td>\n",
              "      <td>visastandarddebit</td>\n",
              "      <td>001</td>\n",
              "      <td>0</td>\n",
              "      <td>33.0.1359</td>\n",
              "      <td>Other</td>\n",
              "      <td>Mina Scuderi</td>\n",
              "      <td>0</td>\n",
              "      <td>7393967216</td>\n",
              "      <td>0</td>\n",
              "      <td>false</td>\n",
              "      <td>false</td>\n",
              "      <td>N/A</td>\n",
              "      <td>justmina72@gmail.com</td>\n",
              "      <td>0</td>\n",
              "      <td>N/A</td>\n",
              "      <td>0</td>\n",
              "      <td>+447393967216</td>\n",
              "      <td>N/A</td>\n",
              "      <td>...</td>\n",
              "      <td>NaN</td>\n",
              "      <td>NaN</td>\n",
              "      <td>NaN</td>\n",
              "      <td>NaN</td>\n",
              "      <td>NaN</td>\n",
              "      <td>NaN</td>\n",
              "      <td>NaN</td>\n",
              "      <td>NaN</td>\n",
              "      <td>NaN</td>\n",
              "      <td>NaN</td>\n",
              "      <td>NaN</td>\n",
              "      <td>NaN</td>\n",
              "      <td>NaN</td>\n",
              "      <td>NaN</td>\n",
              "      <td>NaN</td>\n",
              "      <td>NaN</td>\n",
              "      <td>NaN</td>\n",
              "      <td>NaN</td>\n",
              "      <td>NaN</td>\n",
              "      <td>NaN</td>\n",
              "      <td>NaN</td>\n",
              "      <td>NaN</td>\n",
              "      <td>NaN</td>\n",
              "      <td>NaN</td>\n",
              "      <td>NaN</td>\n",
              "      <td>NaN</td>\n",
              "      <td>NaN</td>\n",
              "      <td>NaN</td>\n",
              "      <td>NaN</td>\n",
              "      <td>NaN</td>\n",
              "      <td>NaN</td>\n",
              "      <td>NaN</td>\n",
              "      <td>NaN</td>\n",
              "      <td>NaN</td>\n",
              "      <td>NaN</td>\n",
              "      <td>NaN</td>\n",
              "      <td>NaN</td>\n",
              "      <td>NaN</td>\n",
              "      <td>NaN</td>\n",
              "      <td>NaN</td>\n",
              "    </tr>\n",
              "  </tbody>\n",
              "</table>\n",
              "<p>5 rows × 160 columns</p>\n",
              "</div>"
            ],
            "text/plain": [
              "            external_id  ...  additionalData.authorisedAmountValue\n",
              "5110   1859037328549426  ...                                   NaN\n",
              "7480   4656039249813047  ...                                   NaN\n",
              "9097   1746016867182259  ...                                   NaN\n",
              "10233  4656015767030578  ...                                   NaN\n",
              "12552  4636025091650624  ...                                   NaN\n",
              "\n",
              "[5 rows x 160 columns]"
            ]
          },
          "metadata": {
            "tags": []
          },
          "execution_count": 35
        }
      ]
    },
    {
      "cell_type": "markdown",
      "metadata": {
        "id": "3sDnPjVxLbWv"
      },
      "source": [
        "Dropping continous columns"
      ]
    },
    {
      "cell_type": "code",
      "metadata": {
        "id": "afSbGkbPLdRi"
      },
      "source": [
        "final_df=final_df.rename(columns=lambda x:x.replace('additionalData.',''))"
      ],
      "execution_count": 36,
      "outputs": []
    },
    {
      "cell_type": "code",
      "metadata": {
        "id": "n7GRcv-wMABN",
        "colab": {
          "base_uri": "https://localhost:8080/",
          "height": 210
        },
        "outputId": "b6142ea3-b5ac-4553-af4e-4a656b1cd913"
      },
      "source": [
        "final_df.head(1)"
      ],
      "execution_count": 37,
      "outputs": [
        {
          "output_type": "execute_result",
          "data": {
            "text/html": [
              "<div>\n",
              "<style scoped>\n",
              "    .dataframe tbody tr th:only-of-type {\n",
              "        vertical-align: middle;\n",
              "    }\n",
              "\n",
              "    .dataframe tbody tr th {\n",
              "        vertical-align: top;\n",
              "    }\n",
              "\n",
              "    .dataframe thead th {\n",
              "        text-align: right;\n",
              "    }\n",
              "</style>\n",
              "<table border=\"1\" class=\"dataframe\">\n",
              "  <thead>\n",
              "    <tr style=\"text-align: right;\">\n",
              "      <th></th>\n",
              "      <th>external_id</th>\n",
              "      <th>chargeback</th>\n",
              "      <th>eventCode</th>\n",
              "      <th>eventDate</th>\n",
              "      <th>merchantAccountCode</th>\n",
              "      <th>merchantReference</th>\n",
              "      <th>operations</th>\n",
              "      <th>paymentMethod</th>\n",
              "      <th>pspReference</th>\n",
              "      <th>reason</th>\n",
              "      <th>success</th>\n",
              "      <th>fraudCheck-75-PaymentDetailCarteBancaireRefCheck</th>\n",
              "      <th>eci</th>\n",
              "      <th>refusalReasonRaw</th>\n",
              "      <th>metadata.company</th>\n",
              "      <th>metadata.booking_id</th>\n",
              "      <th>fraudCheck-63-TransactionAmountCheck</th>\n",
              "      <th>xid</th>\n",
              "      <th>fraudCheck-52-DistinctPaymentDetailUsageByShopper</th>\n",
              "      <th>recurringProcessingModel</th>\n",
              "      <th>threeDAuthenticated</th>\n",
              "      <th>metadata.icabbi_payment_id</th>\n",
              "      <th>paymentMethodVariant</th>\n",
              "      <th>riskdata.basket.item.brand</th>\n",
              "      <th>fraudCheck-91-ShopperStrongAuthenticationCheck</th>\n",
              "      <th>riskdata.shopperAppVersion</th>\n",
              "      <th>deviceType</th>\n",
              "      <th>metadata.shopper_name</th>\n",
              "      <th>fraudCheck-54-DistinctSharedPaymentDetailUsageByShopper</th>\n",
              "      <th>metadata.shopper_phone</th>\n",
              "      <th>fraudCheck-77-EmailSyntaxCheck</th>\n",
              "      <th>fraudManualReview</th>\n",
              "      <th>threeDOffered</th>\n",
              "      <th>threeDOfferedResponse</th>\n",
              "      <th>shopperEmail</th>\n",
              "      <th>fraudCheck-86-PaymentDetailAmexRefCheck</th>\n",
              "      <th>cavv</th>\n",
              "      <th>fraudCheck-46-DistinctCountryUsageByShopper</th>\n",
              "      <th>shopperTelephone</th>\n",
              "      <th>threeDAuthenticatedResponse</th>\n",
              "      <th>...</th>\n",
              "      <th>accountValidation</th>\n",
              "      <th>fraudCheck-25-CVCAuthResultCheck</th>\n",
              "      <th>fraudCheck-8-ShopperEmailUsage</th>\n",
              "      <th>fraudCheck-2-CardChunkUsage</th>\n",
              "      <th>fraudCheck-3-PaymentDetailUsage</th>\n",
              "      <th>fraudCheck-55-ShopperAuthorisedFrequency</th>\n",
              "      <th>fraudCheck-4-HolderNameUsage</th>\n",
              "      <th>cvcResultRaw</th>\n",
              "      <th>cardIssuingCurrency</th>\n",
              "      <th>riskProfile</th>\n",
              "      <th>riskProfileReference</th>\n",
              "      <th>cardIssuingCountry</th>\n",
              "      <th>cardIssuingBank</th>\n",
              "      <th>cardPaymentMethod</th>\n",
              "      <th>retry.attempt2.avsResultRaw</th>\n",
              "      <th>retry.attempt2.responseCode</th>\n",
              "      <th>retry.attempt2.rawResponse</th>\n",
              "      <th>retry.attempt2.acquirerAccount</th>\n",
              "      <th>retry.attempt2.acquirer</th>\n",
              "      <th>riskdata.luhnOkCount</th>\n",
              "      <th>riskdata.luhnCount</th>\n",
              "      <th>riskdata.LuhnSameLengthCount</th>\n",
              "      <th>riskdata.numberFieldClickCount</th>\n",
              "      <th>fraudCheck-78-ShopperBehaviorCheck</th>\n",
              "      <th>riskdata.numberFieldKeyCount</th>\n",
              "      <th>riskdata.referrer</th>\n",
              "      <th>riskdata.numberFieldFocusCount</th>\n",
              "      <th>riskdata.initializeCount</th>\n",
              "      <th>metadata.link_id</th>\n",
              "      <th>riskdata.numberFieldLog</th>\n",
              "      <th>metadata.caboodle_base_uri</th>\n",
              "      <th>metadata.restaurant_id</th>\n",
              "      <th>threeDSVersion</th>\n",
              "      <th>fraudCheck--1-Pre-Auth-Risk-Total</th>\n",
              "      <th>coBrandedWith</th>\n",
              "      <th>riskdata.numberFieldEventHandlers</th>\n",
              "      <th>riskdata.numberFieldUnknownKeys</th>\n",
              "      <th>riskdata.numberFieldBlurCount</th>\n",
              "      <th>authorisedAmountCurrency</th>\n",
              "      <th>authorisedAmountValue</th>\n",
              "    </tr>\n",
              "  </thead>\n",
              "  <tbody>\n",
              "    <tr>\n",
              "      <th>0</th>\n",
              "      <td>1859021897629876</td>\n",
              "      <td>0</td>\n",
              "      <td>AUTHORISATION</td>\n",
              "      <td>2020-10-08T22:42:42+02:00</td>\n",
              "      <td>RiideCompMP</td>\n",
              "      <td>FINAL_PAYMENT_30886220</td>\n",
              "      <td>[CANCEL, CAPTURE, REFUND]</td>\n",
              "      <td>visa</td>\n",
              "      <td>1859021897629876</td>\n",
              "      <td>008661:9332:03/2022</td>\n",
              "      <td>true</td>\n",
              "      <td>0</td>\n",
              "      <td>N/A</td>\n",
              "      <td>00 : Approved or completed successfully</td>\n",
              "      <td>hulc</td>\n",
              "      <td>30886220</td>\n",
              "      <td>0</td>\n",
              "      <td>N/A</td>\n",
              "      <td>0</td>\n",
              "      <td>CardOnFile</td>\n",
              "      <td>false</td>\n",
              "      <td>35902512</td>\n",
              "      <td>visastandarddebit</td>\n",
              "      <td>hulc</td>\n",
              "      <td>0</td>\n",
              "      <td>33.0.1359</td>\n",
              "      <td>Other</td>\n",
              "      <td>Joseph ODonnell</td>\n",
              "      <td>0</td>\n",
              "      <td>7413418796</td>\n",
              "      <td>0</td>\n",
              "      <td>false</td>\n",
              "      <td>false</td>\n",
              "      <td>N/A</td>\n",
              "      <td>joseph.odonnell1996@gmail.com</td>\n",
              "      <td>0</td>\n",
              "      <td>N/A</td>\n",
              "      <td>0</td>\n",
              "      <td>+447413418796</td>\n",
              "      <td>N/A</td>\n",
              "      <td>...</td>\n",
              "      <td>NaN</td>\n",
              "      <td>NaN</td>\n",
              "      <td>NaN</td>\n",
              "      <td>NaN</td>\n",
              "      <td>NaN</td>\n",
              "      <td>NaN</td>\n",
              "      <td>NaN</td>\n",
              "      <td>NaN</td>\n",
              "      <td>NaN</td>\n",
              "      <td>NaN</td>\n",
              "      <td>NaN</td>\n",
              "      <td>NaN</td>\n",
              "      <td>NaN</td>\n",
              "      <td>NaN</td>\n",
              "      <td>NaN</td>\n",
              "      <td>NaN</td>\n",
              "      <td>NaN</td>\n",
              "      <td>NaN</td>\n",
              "      <td>NaN</td>\n",
              "      <td>NaN</td>\n",
              "      <td>NaN</td>\n",
              "      <td>NaN</td>\n",
              "      <td>NaN</td>\n",
              "      <td>NaN</td>\n",
              "      <td>NaN</td>\n",
              "      <td>NaN</td>\n",
              "      <td>NaN</td>\n",
              "      <td>NaN</td>\n",
              "      <td>NaN</td>\n",
              "      <td>NaN</td>\n",
              "      <td>NaN</td>\n",
              "      <td>NaN</td>\n",
              "      <td>NaN</td>\n",
              "      <td>NaN</td>\n",
              "      <td>NaN</td>\n",
              "      <td>NaN</td>\n",
              "      <td>NaN</td>\n",
              "      <td>NaN</td>\n",
              "      <td>NaN</td>\n",
              "      <td>NaN</td>\n",
              "    </tr>\n",
              "  </tbody>\n",
              "</table>\n",
              "<p>1 rows × 160 columns</p>\n",
              "</div>"
            ],
            "text/plain": [
              "        external_id  chargeback  ... authorisedAmountCurrency authorisedAmountValue\n",
              "0  1859021897629876           0  ...                      NaN                   NaN\n",
              "\n",
              "[1 rows x 160 columns]"
            ]
          },
          "metadata": {
            "tags": []
          },
          "execution_count": 37
        }
      ]
    },
    {
      "cell_type": "code",
      "metadata": {
        "id": "4DzFTeDA93R-"
      },
      "source": [
        "final_df = final_df.drop( [\n",
        "#dropping few columns with continous data\n",
        "#'pspReference',\n",
        "#'external_id', \n",
        "'metadata.booking_no',\n",
        "'metadata.link_id', \n",
        "'metadata.booking_id',\n",
        "'metadata.payment_id',\n",
        "'acquirerReference',\n",
        "'metadata.type',\n",
        "'PaymentAccountReference',\n",
        "'fraudResultType',\n",
        "'metadata.shopper_riide_id',\n",
        "'metadata.icabbi_payment_id', \n",
        "'metadata.preauth_id',\n",
        "#'metadata.payment_relation_id',\n",
        "'riskProfileReference',\n",
        "#'riskExperimentReference',\n",
        "'cavv','success','riskProfile',\n",
        "'metadata.caboodle_base_uri',\n",
        "'metadata.riide_url',\n",
        "'totalFraudScore',\n",
        "'hmacSignature',\n",
        "'recurring.recurringDetailReference',\n",
        "'authCode',\n",
        "'recurring.shopperReference',\n",
        "'operations',\n",
        "'merchantReference',\n",
        "'retry.attempt1.acquirer',\n",
        "'riskdata.basket.item.itemID',\n",
        "'merchantAccountCode',\n",
        "'riskdata.referrer',\n",
        "'aliasType',\n",
        "#reason has few values as fraud with some numbers\n",
        "'reason',\n",
        "#some wired noise\n",
        "#'metadata.splits',\n",
        "#continous alphnumeric column\n",
        "#'metadata.payment_relation_type' \n",
        "'alias',\n",
        "#'shopperReference',\n",
        "#duplicate column saem as bracd and company\n",
        "'shopperStatement',\n",
        "# useless\n",
        "'fraudManualReview',\n",
        "'cardSummary',\n",
        "'cvcResult',\n",
        "'xid',\n",
        "'cardBin',\n",
        "#app version is not worth exploring i think\n",
        "'riskdata.shopperAppVersion'\n",
        ",'captureDelayHours',\n",
        "'metadata.auto_capture',\n",
        "'billingAddress.street',\n",
        "'billingAddress.city',\n",
        "'billingAddress.houseNumberOrName',\n",
        "'accountValidation',\n",
        "'metadata.restaurant_id',\n",
        "#dropping columns with 3DS\n",
        "'threeDOfferedResponse','threeDAuthenticatedResponse','threeDSVersion',\n",
        "'threeDAuthenticated','threeDOffered'\n",
        "\n",
        "],axis=1)"
      ],
      "execution_count": 38,
      "outputs": []
    },
    {
      "cell_type": "code",
      "metadata": {
        "id": "rEoSU9lWMRsb",
        "colab": {
          "base_uri": "https://localhost:8080/"
        },
        "outputId": "359fc249-589f-47ca-af16-b6b8f9dd3d03"
      },
      "source": [
        "spike_cols = [col for col in final_df.columns if 'splits' in col]\n",
        "print(spike_cols)"
      ],
      "execution_count": 39,
      "outputs": [
        {
          "output_type": "stream",
          "text": [
            "[]\n"
          ],
          "name": "stdout"
        }
      ]
    },
    {
      "cell_type": "markdown",
      "metadata": {
        "id": "CBUthbZhNMDr"
      },
      "source": [
        "Adding Card holder name and shopper name"
      ]
    },
    {
      "cell_type": "code",
      "metadata": {
        "id": "6-bkDsj5NOmj"
      },
      "source": [
        "final_df['shp_card_name_match'] = final_df['cardHolderName'].str.lower() == final_df['metadata.shopper_name'].str.lower()"
      ],
      "execution_count": 40,
      "outputs": []
    },
    {
      "cell_type": "markdown",
      "metadata": {
        "id": "xsys3CGiNYva"
      },
      "source": [
        "Dropping event code"
      ]
    },
    {
      "cell_type": "code",
      "metadata": {
        "id": "PIWT_nnjNaDz"
      },
      "source": [
        "final_df = final_df.drop('eventCode', axis=1)"
      ],
      "execution_count": 41,
      "outputs": []
    },
    {
      "cell_type": "markdown",
      "metadata": {
        "id": "_byPCcJBNpuD"
      },
      "source": [
        "iSCard Commericial"
      ]
    },
    {
      "cell_type": "code",
      "metadata": {
        "id": "W3QyPXEwL5yh"
      },
      "source": [
        "#updating values to all caps for isommercial\n",
        "final_df['isCardCommercial'] = final_df['isCardCommercial'].str.upper() "
      ],
      "execution_count": 42,
      "outputs": []
    },
    {
      "cell_type": "code",
      "metadata": {
        "id": "4ZX9mjfJBD09"
      },
      "source": [
        "from sklearn.preprocessing import LabelEncoder\n",
        "le = LabelEncoder()\n",
        "final_df['cardtype'] = le.fit_transform(final_df['isCardCommercial'].astype(str))"
      ],
      "execution_count": 43,
      "outputs": []
    },
    {
      "cell_type": "markdown",
      "metadata": {
        "id": "an5VUFAuN3tT"
      },
      "source": [
        "Email Domain"
      ]
    },
    {
      "cell_type": "code",
      "metadata": {
        "id": "9PLpO2bDOKF6"
      },
      "source": [
        "final_df['emaildomain'] = final_df['shopperEmail'].str.split('@').str[1].str.upper()"
      ],
      "execution_count": 44,
      "outputs": []
    },
    {
      "cell_type": "code",
      "metadata": {
        "id": "BsUw8b8YTnEA"
      },
      "source": [
        "def label_states (row):\n",
        "    if \"GMAIL\" in row['emaildomain']:\n",
        "        return 'GMAIL'\n",
        "    elif \"GOOGLE\" in row['emaildomain']:\n",
        "        return 'GOOGLE'\n",
        "    elif \"YAHOO\" in row['emaildomain']:\n",
        "        return 'YAHOO'\n",
        "    elif \"HOTMAIL\" in row['emaildomain']:\n",
        "        return \"HOTMAIL\"\n",
        "    elif \"OUTLOOK\" in row['emaildomain']:\n",
        "        return \"OUTLOOK\"\n",
        "    elif \"AOL\" in row['emaildomain']:\n",
        "        return \"AOL\"\n",
        "    elif \"ICLOUD\" in row['emaildomain']:\n",
        "        return \"ICLOUD\"\n",
        "    elif \"LIVE\" in row['emaildomain']:\n",
        "        return \"LIVE\"\n",
        "    elif \"_\" in row['emaildomain']:\n",
        "        return \"MissingValue\"\n",
        "    else:\n",
        "        return 'OTHERS'"
      ],
      "execution_count": 45,
      "outputs": []
    },
    {
      "cell_type": "code",
      "metadata": {
        "id": "xAlvPuKvW264"
      },
      "source": [
        "final_df['emaildomain'] = final_df['emaildomain'].fillna('_')"
      ],
      "execution_count": 46,
      "outputs": []
    },
    {
      "cell_type": "code",
      "metadata": {
        "id": "QSdmcvLEUUo3"
      },
      "source": [
        "final_df['emaildomainlabel'] = final_df.apply(lambda row: label_states(row), axis=1)"
      ],
      "execution_count": 47,
      "outputs": []
    },
    {
      "cell_type": "markdown",
      "metadata": {
        "id": "muQCrV7rOSw6"
      },
      "source": [
        "Validate email"
      ]
    },
    {
      "cell_type": "code",
      "metadata": {
        "id": "47bdpFuTRlro",
        "colab": {
          "base_uri": "https://localhost:8080/"
        },
        "outputId": "25da6705-95d1-42d2-bf55-603853a5efbb"
      },
      "source": [
        "pip install validate_email"
      ],
      "execution_count": 48,
      "outputs": [
        {
          "output_type": "stream",
          "text": [
            "Collecting validate_email\n",
            "  Downloading https://files.pythonhosted.org/packages/84/a0/cb53fb64b52123513d04f9b913b905f3eb6fda7264e639b4573cc715c29f/validate_email-1.3.tar.gz\n",
            "Building wheels for collected packages: validate-email\n",
            "  Building wheel for validate-email (setup.py) ... \u001b[?25l\u001b[?25hdone\n",
            "  Created wheel for validate-email: filename=validate_email-1.3-cp37-none-any.whl size=5461 sha256=84318cdacbc768d2320264566b790cd56feed221c9708eda586dcc4c864e2f54\n",
            "  Stored in directory: /root/.cache/pip/wheels/14/46/e7/4a2edb0d03a802cb59a75668734c04cceacdd6c0c585448773\n",
            "Successfully built validate-email\n",
            "Installing collected packages: validate-email\n",
            "Successfully installed validate-email-1.3\n"
          ],
          "name": "stdout"
        }
      ]
    },
    {
      "cell_type": "code",
      "metadata": {
        "id": "SNrv0ejgRylf"
      },
      "source": [
        "from validate_email import validate_email"
      ],
      "execution_count": 49,
      "outputs": []
    },
    {
      "cell_type": "code",
      "metadata": {
        "id": "bMcry5DDTDP3"
      },
      "source": [
        "final_df['email_is_valid'] = final_df['shopperEmail'].astype(str).apply(lambda x: validate_email(x))"
      ],
      "execution_count": 50,
      "outputs": []
    },
    {
      "cell_type": "markdown",
      "metadata": {
        "id": "uq_v_mqnOeIf"
      },
      "source": [
        "Shopper Account Creation Date"
      ]
    },
    {
      "cell_type": "code",
      "metadata": {
        "id": "UzXaXk-1fG6G"
      },
      "source": [
        "final_df[\"AccountCreationDate\"] = final_df[\"riskdata.shopperAccountCreationDate\"].astype(\"datetime64\")"
      ],
      "execution_count": 51,
      "outputs": []
    },
    {
      "cell_type": "code",
      "metadata": {
        "id": "1WOCbjnAefQu"
      },
      "source": [
        "#how long shopper has been with us\n",
        "from datetime import date\n",
        "import numpy as np\n",
        "now = date.today()\n",
        "final_df['ageyear'] = (pd.to_datetime('now') - pd.to_datetime(final_df['AccountCreationDate'])) / np.timedelta64(1, 'Y')\n",
        "final_df['agemonth'] = (pd.to_datetime('now') - pd.to_datetime(final_df['AccountCreationDate'])) / np.timedelta64(1, 'M')\n",
        "final_df['agedays'] = (pd.to_datetime('now') - pd.to_datetime(final_df['AccountCreationDate'])) / np.timedelta64(1, 'D')"
      ],
      "execution_count": 52,
      "outputs": []
    },
    {
      "cell_type": "markdown",
      "metadata": {
        "id": "o57_5qpmOxlr"
      },
      "source": [
        "Expiry date"
      ]
    },
    {
      "cell_type": "code",
      "metadata": {
        "id": "36IDqgB_lMd-"
      },
      "source": [
        "final_df['expiryyear'] = final_df['expiryDate'].str.split('/').str[1]"
      ],
      "execution_count": 53,
      "outputs": []
    },
    {
      "cell_type": "code",
      "metadata": {
        "id": "dsfJ0Fti5ZXz"
      },
      "source": [
        "from datetime import datetime"
      ],
      "execution_count": 54,
      "outputs": []
    },
    {
      "cell_type": "code",
      "metadata": {
        "id": "FB44GLu57xj1",
        "colab": {
          "base_uri": "https://localhost:8080/"
        },
        "outputId": "a068858b-1cfc-490b-8b1c-e731b1d39686"
      },
      "source": [
        "final_df.expiryDate[final_df.expiryDate=='00/0000'] = ''"
      ],
      "execution_count": 55,
      "outputs": [
        {
          "output_type": "stream",
          "text": [
            "/usr/local/lib/python3.7/dist-packages/ipykernel_launcher.py:1: SettingWithCopyWarning: \n",
            "A value is trying to be set on a copy of a slice from a DataFrame\n",
            "\n",
            "See the caveats in the documentation: https://pandas.pydata.org/pandas-docs/stable/user_guide/indexing.html#returning-a-view-versus-a-copy\n",
            "  \"\"\"Entry point for launching an IPython kernel.\n"
          ],
          "name": "stderr"
        }
      ]
    },
    {
      "cell_type": "code",
      "metadata": {
        "id": "7oPteeDt8Q9r",
        "colab": {
          "base_uri": "https://localhost:8080/"
        },
        "outputId": "b3067285-657c-497e-f52b-aff046c62e39"
      },
      "source": [
        "final_df.expiryDate[final_df.expiryDate==''] = '01/9999'"
      ],
      "execution_count": 56,
      "outputs": [
        {
          "output_type": "stream",
          "text": [
            "/usr/local/lib/python3.7/dist-packages/ipykernel_launcher.py:1: SettingWithCopyWarning: \n",
            "A value is trying to be set on a copy of a slice from a DataFrame\n",
            "\n",
            "See the caveats in the documentation: https://pandas.pydata.org/pandas-docs/stable/user_guide/indexing.html#returning-a-view-versus-a-copy\n",
            "  \"\"\"Entry point for launching an IPython kernel.\n"
          ],
          "name": "stderr"
        }
      ]
    },
    {
      "cell_type": "code",
      "metadata": {
        "id": "AVJWwU4p5-fr"
      },
      "source": [
        "final_df['cardexdate'] =  final_df['expiryDate'].apply(lambda x:datetime.strptime(x,'%m/%Y'))"
      ],
      "execution_count": 57,
      "outputs": []
    },
    {
      "cell_type": "code",
      "metadata": {
        "id": "ncGGlSwS4IJW"
      },
      "source": [
        "final_df['howlongtillcardExpiry'] = (pd.to_datetime(final_df['cardexdate'],errors = 'coerce') - pd.to_datetime(final_df['AccountCreationDate'],errors = 'coerce')) / np.timedelta64(1, 'M')"
      ],
      "execution_count": 58,
      "outputs": []
    },
    {
      "cell_type": "code",
      "metadata": {
        "id": "EqKobTwTDJnv"
      },
      "source": [
        "final_df['howlongtillcardExpiry'] = round(final_df['howlongtillcardExpiry']).fillna(0).astype(int)"
      ],
      "execution_count": 59,
      "outputs": []
    },
    {
      "cell_type": "markdown",
      "metadata": {
        "id": "aU2iGFMbPTUT"
      },
      "source": [
        "Trying time of the date for Event Date"
      ]
    },
    {
      "cell_type": "code",
      "metadata": {
        "id": "e3hbACeorvH1",
        "colab": {
          "base_uri": "https://localhost:8080/"
        },
        "outputId": "fe37ce60-0ec3-4c1f-a0f5-3fd3ae22bde5"
      },
      "source": [
        "pip install ciso8601\n"
      ],
      "execution_count": 60,
      "outputs": [
        {
          "output_type": "stream",
          "text": [
            "Collecting ciso8601\n",
            "  Downloading https://files.pythonhosted.org/packages/2c/da/626910cf8aca7ed2d5b34355eee8aeaaeb6ddd4e16f98d00a9e2ddad3a08/ciso8601-2.1.3.tar.gz\n",
            "Building wheels for collected packages: ciso8601\n",
            "  Building wheel for ciso8601 (setup.py) ... \u001b[?25l\u001b[?25hdone\n",
            "  Created wheel for ciso8601: filename=ciso8601-2.1.3-cp37-cp37m-linux_x86_64.whl size=29078 sha256=58cd6d8114965021b5e93f4b0fe3376b351b9d19621c035d42ee93c710dcad49\n",
            "  Stored in directory: /root/.cache/pip/wheels/eb/32/e4/13bdaf7e245f82667b21e0cfb03d21224691a47fa9f9bc80a6\n",
            "Successfully built ciso8601\n",
            "Installing collected packages: ciso8601\n",
            "Successfully installed ciso8601-2.1.3\n"
          ],
          "name": "stdout"
        }
      ]
    },
    {
      "cell_type": "code",
      "metadata": {
        "id": "hPsA2c91rtTU"
      },
      "source": [
        "import ciso8601"
      ],
      "execution_count": 61,
      "outputs": []
    },
    {
      "cell_type": "code",
      "metadata": {
        "id": "Rrv-u_z40e0C"
      },
      "source": [
        "final_df['transdate'] = final_df['eventDate'].apply(lambda x:ciso8601.parse_datetime(x).strftime(\"%Y-%m-%d\"))"
      ],
      "execution_count": 62,
      "outputs": []
    },
    {
      "cell_type": "code",
      "metadata": {
        "id": "Yo_qXzgw09Xj"
      },
      "source": [
        "#getting hour of the transaction date\n",
        "final_df['transtime'] = final_df['eventDate'].apply(lambda x:ciso8601.parse_datetime(x).hour)"
      ],
      "execution_count": 63,
      "outputs": []
    },
    {
      "cell_type": "code",
      "metadata": {
        "id": "zG9E8rcHZ1gH"
      },
      "source": [
        "#getting day of the transaction date\n",
        "final_df['transweekday'] = final_df['eventDate'].apply(lambda x:ciso8601.parse_datetime(x).weekday())"
      ],
      "execution_count": 64,
      "outputs": []
    },
    {
      "cell_type": "code",
      "metadata": {
        "id": "Wk57AT5paLeY"
      },
      "source": [
        "#getting month day of the transaction date\n",
        "final_df['transmonthday'] = final_df['eventDate'].apply(lambda x:ciso8601.parse_datetime(x).day)"
      ],
      "execution_count": 65,
      "outputs": []
    },
    {
      "cell_type": "code",
      "metadata": {
        "id": "rf6D-XGXCyna"
      },
      "source": [
        "final_df['transyear'] = final_df['eventDate'].apply(lambda x:ciso8601.parse_datetime(x).year)"
      ],
      "execution_count": 66,
      "outputs": []
    },
    {
      "cell_type": "markdown",
      "metadata": {
        "id": "9S21YmhGPsZr"
      },
      "source": [
        "Account creation date and transaction date relation"
      ]
    },
    {
      "cell_type": "code",
      "metadata": {
        "id": "_3N579k6Dq6o"
      },
      "source": [
        "final_df['ageyear_trans'] = round((pd.to_datetime(final_df['transdate']) - pd.to_datetime(final_df['AccountCreationDate'])) / np.timedelta64(1, 'Y')).astype('Int64')\n",
        "final_df['agemonth_trans'] = round((pd.to_datetime(final_df['transdate']) - pd.to_datetime(final_df['AccountCreationDate'])) / np.timedelta64(1, 'M')).astype('Int64')\n",
        "final_df['agedays_trans'] = round((pd.to_datetime(final_df['transdate']) - pd.to_datetime(final_df['AccountCreationDate'])) / np.timedelta64(1, 'D')).astype('Int64')"
      ],
      "execution_count": 67,
      "outputs": []
    },
    {
      "cell_type": "code",
      "metadata": {
        "id": "5lRRb-EvJFRx"
      },
      "source": [
        "final_df['agedays_trans'] =final_df['agedays_trans'].fillna(000)"
      ],
      "execution_count": 68,
      "outputs": []
    },
    {
      "cell_type": "code",
      "metadata": {
        "id": "AjQPUQm6Jqvg"
      },
      "source": [
        "final_df['agemonth_trans'] =final_df['agemonth_trans'].fillna(000)"
      ],
      "execution_count": 69,
      "outputs": []
    },
    {
      "cell_type": "markdown",
      "metadata": {
        "id": "m9io-giwQFUO"
      },
      "source": [
        "Amount"
      ]
    },
    {
      "cell_type": "code",
      "metadata": {
        "id": "rh8F0oOVQGWH"
      },
      "source": [
        "final_df['amount.value'] = final_df['amount.value'].astype(float)\n",
        "final_df['authorisedAmountValue'] = final_df['authorisedAmountValue'].astype(float)"
      ],
      "execution_count": 70,
      "outputs": []
    },
    {
      "cell_type": "code",
      "metadata": {
        "id": "F85kltV1Ft-1"
      },
      "source": [
        "final_df['amount'] = final_df['amount.value']"
      ],
      "execution_count": 71,
      "outputs": []
    },
    {
      "cell_type": "code",
      "metadata": {
        "id": "IfCk0mNTFy3k"
      },
      "source": [
        "final_df['amount']=final_df['amount'].fillna(0)"
      ],
      "execution_count": 72,
      "outputs": []
    },
    {
      "cell_type": "code",
      "metadata": {
        "id": "Ub-K_DCPHd_C"
      },
      "source": [
        "final_df['amount']=final_df['amount'].apply(np.log)"
      ],
      "execution_count": 73,
      "outputs": []
    },
    {
      "cell_type": "code",
      "metadata": {
        "id": "r2_6f3GQQdlc"
      },
      "source": [
        "final_df['amount'] = final_df['amount'].replace(-np.inf, np.nan)"
      ],
      "execution_count": 74,
      "outputs": []
    },
    {
      "cell_type": "markdown",
      "metadata": {
        "id": "ORhFLL4bQnaL"
      },
      "source": [
        "Device Type"
      ]
    },
    {
      "cell_type": "code",
      "metadata": {
        "id": "cDYo7Z2lhRqF"
      },
      "source": [
        "def label_devicetype(row):\n",
        "    if row['riskdata.shopperDevice'].isdigit():\n",
        "        return 'NameOnlyDigit'\n",
        "    elif \"ARMOR\" in row['riskdata.shopperDevice']:\n",
        "        return 'ARMOR'\n",
        "    elif \"IPAD\" in row['riskdata.shopperDevice']:\n",
        "        return 'IPAD'\n",
        "    elif \"IPHONE12\" in row['riskdata.shopperDevice']:\n",
        "        return \"IPHONE12\"\n",
        "    elif \"IPHONE11\" in row['riskdata.shopperDevice']:\n",
        "        return \"IPHONE11\"\n",
        "    elif \"IPHONE11\" in row['riskdata.shopperDevice']:\n",
        "        return \"IPHONE11\"\n",
        "    elif \"IPHONE10\" in row['riskdata.shopperDevice']:\n",
        "        return \"IPHONE10\"\n",
        "    elif \"IPHONE9\" in row['riskdata.shopperDevice']:\n",
        "        return \"IPHONE9\"\n",
        "    elif \"IPHONE8\" in row['riskdata.shopperDevice']:\n",
        "        return \"IPHONE8\"\n",
        "    elif \"IPHONE\" in row['riskdata.shopperDevice']:\n",
        "        return \"SomeKindOfIPHONE\"\n",
        "    elif \"ONEPLUS\" in row['riskdata.shopperDevice']:\n",
        "        return \"ONEPLUS\"\n",
        "    elif \"_\" in row['riskdata.shopperDevice']:\n",
        "        return \"MissingValue\"\n",
        "    else:\n",
        "        return 'OTHERS'"
      ],
      "execution_count": 75,
      "outputs": []
    },
    {
      "cell_type": "code",
      "metadata": {
        "id": "aAadk2_XlPrU"
      },
      "source": [
        "final_df['riskdata.shopperDevice'] = final_df['riskdata.shopperDevice'].fillna('_')"
      ],
      "execution_count": 76,
      "outputs": []
    },
    {
      "cell_type": "code",
      "metadata": {
        "id": "3fCBclVXlPre"
      },
      "source": [
        "final_df['shopperDevicebin'] = final_df.apply(lambda row: label_devicetype(row.str.upper()), axis=1) "
      ],
      "execution_count": 77,
      "outputs": []
    },
    {
      "cell_type": "markdown",
      "metadata": {
        "id": "UoGRtPsFRWxt"
      },
      "source": [
        "Billing address postal code"
      ]
    },
    {
      "cell_type": "code",
      "metadata": {
        "id": "U-fwZuqWve0X",
        "colab": {
          "base_uri": "https://localhost:8080/"
        },
        "outputId": "4cb431f9-b7c3-4980-833b-838de3ccabbb"
      },
      "source": [
        "pip install pgeocode"
      ],
      "execution_count": 78,
      "outputs": [
        {
          "output_type": "stream",
          "text": [
            "Collecting pgeocode\n",
            "  Downloading https://files.pythonhosted.org/packages/35/88/688b8550ceeed59a4b0be3f54d2ad8075ce708b5d5c0b0ec1a3abe58d4cb/pgeocode-0.3.0-py3-none-any.whl\n",
            "Requirement already satisfied: pandas in /usr/local/lib/python3.7/dist-packages (from pgeocode) (1.1.5)\n",
            "Requirement already satisfied: numpy in /usr/local/lib/python3.7/dist-packages (from pgeocode) (1.19.5)\n",
            "Requirement already satisfied: requests in /usr/local/lib/python3.7/dist-packages (from pgeocode) (2.23.0)\n",
            "Requirement already satisfied: python-dateutil>=2.7.3 in /usr/local/lib/python3.7/dist-packages (from pandas->pgeocode) (2.8.1)\n",
            "Requirement already satisfied: pytz>=2017.2 in /usr/local/lib/python3.7/dist-packages (from pandas->pgeocode) (2018.9)\n",
            "Requirement already satisfied: urllib3!=1.25.0,!=1.25.1,<1.26,>=1.21.1 in /usr/local/lib/python3.7/dist-packages (from requests->pgeocode) (1.24.3)\n",
            "Requirement already satisfied: chardet<4,>=3.0.2 in /usr/local/lib/python3.7/dist-packages (from requests->pgeocode) (3.0.4)\n",
            "Requirement already satisfied: idna<3,>=2.5 in /usr/local/lib/python3.7/dist-packages (from requests->pgeocode) (2.10)\n",
            "Requirement already satisfied: certifi>=2017.4.17 in /usr/local/lib/python3.7/dist-packages (from requests->pgeocode) (2020.12.5)\n",
            "Requirement already satisfied: six>=1.5 in /usr/local/lib/python3.7/dist-packages (from python-dateutil>=2.7.3->pandas->pgeocode) (1.15.0)\n",
            "Installing collected packages: pgeocode\n",
            "Successfully installed pgeocode-0.3.0\n"
          ],
          "name": "stdout"
        }
      ]
    },
    {
      "cell_type": "code",
      "metadata": {
        "id": "N22Y5WUEvkVk"
      },
      "source": [
        "import pgeocode"
      ],
      "execution_count": 79,
      "outputs": []
    },
    {
      "cell_type": "code",
      "metadata": {
        "id": "nWDju1zxyXgF"
      },
      "source": [
        "def insert_space(string, integer):\n",
        "  return string[0:integer] + ' ' + string[integer:]\n",
        "nomi = pgeocode.Nominatim('gb')"
      ],
      "execution_count": 80,
      "outputs": []
    },
    {
      "cell_type": "code",
      "metadata": {
        "id": "EAsLQ1pS0ETU"
      },
      "source": [
        "final_df['billingAddress.postalCode'] = final_df['billingAddress.postalCode'].fillna(000)"
      ],
      "execution_count": 81,
      "outputs": []
    },
    {
      "cell_type": "code",
      "metadata": {
        "id": "m2r1_gW2ywkD"
      },
      "source": [
        "final_df['state_name'] = final_df['billingAddress.postalCode'].apply(lambda x:nomi.query_postal_code(insert_space(str(x),-3)).state_name)"
      ],
      "execution_count": 82,
      "outputs": []
    },
    {
      "cell_type": "code",
      "metadata": {
        "id": "k9Nw0YfO2hzE"
      },
      "source": [
        "final_df['place_name'] = final_df['billingAddress.postalCode'].apply(lambda x:nomi.query_postal_code(insert_space(str(x),-3)).place_name)"
      ],
      "execution_count": 83,
      "outputs": []
    },
    {
      "cell_type": "code",
      "metadata": {
        "id": "_xeXD_gL6rP7"
      },
      "source": [
        "final_df['county_name'] = final_df['billingAddress.postalCode'].apply(lambda x:nomi.query_postal_code(insert_space(str(x),-3)).county_name)"
      ],
      "execution_count": 84,
      "outputs": []
    },
    {
      "cell_type": "code",
      "metadata": {
        "id": "B4gDjKVjA54C"
      },
      "source": [
        "final_df['place_name_short'] =  final_df['place_name'].apply(lambda x:str(x).split(',')[0])"
      ],
      "execution_count": 85,
      "outputs": []
    },
    {
      "cell_type": "markdown",
      "metadata": {
        "id": "397UsnljRtXj"
      },
      "source": [
        "Billing city"
      ]
    },
    {
      "cell_type": "code",
      "metadata": {
        "id": "K2JtmargEXcQ"
      },
      "source": [
        "#getting first name\n",
        "start = 'first name='\n",
        "end = ', infix'\n",
        "final_df['firstname'] =  final_df['shopperName'].astype(str).apply(lambda x:x[x.find(start)+len(start):x.rfind(end)])"
      ],
      "execution_count": 86,
      "outputs": []
    },
    {
      "cell_type": "code",
      "metadata": {
        "id": "Ozc8U4ToEnQD"
      },
      "source": [
        "#getting  last name\n",
        "start = 'last name='\n",
        "end = ', gender'\n",
        "final_df['lastname'] =  final_df['shopperName'].astype(str).apply(lambda x:x[x.find(start)+len(start):x.rfind(end)])"
      ],
      "execution_count": 87,
      "outputs": []
    },
    {
      "cell_type": "code",
      "metadata": {
        "id": "4jjEVzMcJHkH"
      },
      "source": [
        "#getting  infix\n",
        "start = 'infix='\n",
        "end = ', last name'\n",
        "final_df['infix'] =  final_df['shopperName'].astype(str).apply(lambda x:x[x.find(start)+len(start):x.rfind(end)])"
      ],
      "execution_count": 88,
      "outputs": []
    },
    {
      "cell_type": "code",
      "metadata": {
        "id": "BWo3IxnpJigI"
      },
      "source": [
        "#lenght of first name , last name, infix \n",
        "final_df['firstnamelen'] = final_df['firstname'].map(len)\n",
        "final_df['lastnamelen'] = final_df['lastname'].map(len)\n",
        "final_df['infixlen'] = final_df['infix'].map(len)"
      ],
      "execution_count": 89,
      "outputs": []
    },
    {
      "cell_type": "code",
      "metadata": {
        "id": "GVirtT_fNu1X"
      },
      "source": [
        "final_df['first_last_name_len_match'] = final_df['firstnamelen'] == final_df['lastnamelen']"
      ],
      "execution_count": 90,
      "outputs": []
    },
    {
      "cell_type": "code",
      "metadata": {
        "id": "H5FlB1d7RCZZ"
      },
      "source": [
        "#check if first name is same as last name\n",
        "final_df['same_firs_last_name'] = final_df['firstname'].str.strip().str.lower() == final_df['lastname'].str.strip().str.lower()"
      ],
      "execution_count": 91,
      "outputs": []
    },
    {
      "cell_type": "code",
      "metadata": {
        "id": "KqYpn_T_fMlp"
      },
      "source": [
        "#does email has first name of last name?\n",
        "final_df['emailfirstpart'] = final_df['shopperEmail'].astype(str).apply(lambda x:(x.split('@')[0]))\n",
        "final_df['emailhaspartofFname'] = final_df.apply(lambda x: str(x.emailfirstpart) in str(x.firstname), axis=1)\n",
        "final_df['emailhaspartofLname'] = final_df.apply(lambda x: str(x.emailfirstpart) in str(x.lastname), axis=1)"
      ],
      "execution_count": 92,
      "outputs": []
    },
    {
      "cell_type": "code",
      "metadata": {
        "id": "SckTeXors7tt"
      },
      "source": [
        "def func(x):\n",
        "    return df['firstname'] in list(df['cardHolderName'])"
      ],
      "execution_count": 93,
      "outputs": []
    },
    {
      "cell_type": "code",
      "metadata": {
        "id": "gyBtgZ92o9sX"
      },
      "source": [
        "final_df['cardname_has_firstname'] = final_df.apply(lambda x: str(x.firstname) in str(x.cardHolderName), axis=1)"
      ],
      "execution_count": 94,
      "outputs": []
    },
    {
      "cell_type": "code",
      "metadata": {
        "id": "JZ3HqkOpxYHw"
      },
      "source": [
        "final_df['cardname_has_lastname'] = final_df.apply(lambda x: str(x.lastname) in str(x.cardHolderName), axis=1)"
      ],
      "execution_count": 95,
      "outputs": []
    },
    {
      "cell_type": "code",
      "metadata": {
        "id": "ikYbSU4FjsJG"
      },
      "source": [
        "def hasNumbers(inputString):\n",
        "  return any(char.isdigit() for char in inputString)"
      ],
      "execution_count": 96,
      "outputs": []
    },
    {
      "cell_type": "code",
      "metadata": {
        "id": "Awhe4RK3jvJ8"
      },
      "source": [
        "final_df['namehasdigit'] = final_df['metadata.shopper_name'].astype(str).apply(lambda x:hasNumbers(x))"
      ],
      "execution_count": 97,
      "outputs": []
    },
    {
      "cell_type": "code",
      "metadata": {
        "id": "ZRpylft9gEfF"
      },
      "source": [
        "final_df['emaillen'] = final_df['shopperEmail'].astype(str).apply(lambda x:len(x.split('@')[0]))"
      ],
      "execution_count": 98,
      "outputs": []
    },
    {
      "cell_type": "markdown",
      "metadata": {
        "id": "f_1zCzAmitSo"
      },
      "source": [
        "Dropping more columns"
      ]
    },
    {
      "cell_type": "code",
      "metadata": {
        "id": "SZLZ8JBpgDes"
      },
      "source": [
        "final_df = final_df.drop( ['riskdata.luhnOkCount',\n",
        " 'riskdata.luhnCount',\n",
        " 'riskdata.LuhnSameLengthCount',\n",
        " 'riskdata.numberFieldClickCount',\n",
        " 'riskdata.numberFieldKeyCount',\n",
        " 'riskdata.numberFieldFocusCount',\n",
        " 'riskdata.initializeCount',\n",
        " 'riskdata.numberFieldLog',\n",
        " 'riskdata.basket.item.brand',\n",
        " 'riskdata.numberFieldEventHandlers',\n",
        " 'riskdata.numberFieldUnknownKeys',\n",
        " 'riskdata.numberFieldBlurCount' ], axis=1)"
      ],
      "execution_count": 99,
      "outputs": []
    },
    {
      "cell_type": "code",
      "metadata": {
        "id": "zBzH1oxlgShT",
        "colab": {
          "base_uri": "https://localhost:8080/"
        },
        "outputId": "2737a170-b874-49a5-9fc6-3930c2db4640"
      },
      "source": [
        "#fraud check columns\n",
        "cols = [i for i in final_df.columns if 'fraud' in i]\n",
        "cols"
      ],
      "execution_count": 100,
      "outputs": [
        {
          "output_type": "execute_result",
          "data": {
            "text/plain": [
              "['fraudCheck-75-PaymentDetailCarteBancaireRefCheck',\n",
              " 'fraudCheck-63-TransactionAmountCheck',\n",
              " 'fraudCheck-52-DistinctPaymentDetailUsageByShopper',\n",
              " 'fraudCheck-91-ShopperStrongAuthenticationCheck',\n",
              " 'fraudCheck-54-DistinctSharedPaymentDetailUsageByShopper',\n",
              " 'fraudCheck-77-EmailSyntaxCheck',\n",
              " 'fraudCheck-86-PaymentDetailAmexRefCheck',\n",
              " 'fraudCheck-46-DistinctCountryUsageByShopper',\n",
              " 'fraudCheck-53-DistinctSharedShopperIpUsageByShopper',\n",
              " 'fraudCheck-50-DistinctShopperEmailUsageByShopper',\n",
              " 'fraudCheck-48-ChargebackCountByShopper',\n",
              " 'fraudCheck-41-PaymentDetailNonFraudRefCheck',\n",
              " 'fraudCheck-74-EmailNameCheck',\n",
              " 'fraudCheck-56-ShopperReferenceCheck',\n",
              " 'fraudCheck-79-BinAttackRefCheck',\n",
              " 'fraudCheck-65-EmailDomainRefCheck',\n",
              " 'fraudCheck-15-IssuingCountryReferral',\n",
              " 'fraudCheck-47-BlockedCardsUsageByShopper',\n",
              " 'fraudCheck-26-ShopperEmailRefCheck',\n",
              " 'fraudCheck-85-ShopperFraudRefusalsCheck',\n",
              " 'fraudCheck-51-DistinctShopperReferenceUsageByShopper',\n",
              " 'fraudCheck-13-IssuerRefCheck',\n",
              " 'fraudCheck-10-HolderNameContainsNumber',\n",
              " 'fraudCheck-82-CustomFieldCheck',\n",
              " 'fraudCheck-70-ShopperConsecutiveRefusalsCheck',\n",
              " 'fraudCheck-69-AutomatedReferralCheck',\n",
              " 'fraudCheck-66-PhoneNumberRefCheck',\n",
              " 'fraudCheck-27-PmOwnerRefCheck',\n",
              " 'fraudCheck-11-HolderNameIsOneWord',\n",
              " 'fraudCheck-71-LoyalShopperTrustCheck',\n",
              " 'fraudCheck-1-PaymentDetailRefCheck',\n",
              " 'fraudCheck-49-DistinctShopperIpUsageByShopper',\n",
              " 'fraudCheck-20-AVSAuthResultCheck',\n",
              " 'fraudCheck-64-TransactionAmountVelocity',\n",
              " 'fraudCheck-25-CVCAuthResultCheck',\n",
              " 'fraudCheck-8-ShopperEmailUsage',\n",
              " 'fraudCheck-2-CardChunkUsage',\n",
              " 'fraudCheck-3-PaymentDetailUsage',\n",
              " 'fraudCheck-55-ShopperAuthorisedFrequency',\n",
              " 'fraudCheck-4-HolderNameUsage',\n",
              " 'fraudCheck-78-ShopperBehaviorCheck',\n",
              " 'fraudCheck--1-Pre-Auth-Risk-Total']"
            ]
          },
          "metadata": {
            "tags": []
          },
          "execution_count": 100
        }
      ]
    },
    {
      "cell_type": "code",
      "metadata": {
        "id": "ou8wkFjkg-O0"
      },
      "source": [
        "final_df = final_df.drop(cols,axis=1)"
      ],
      "execution_count": 101,
      "outputs": []
    },
    {
      "cell_type": "code",
      "metadata": {
        "id": "sgUqQHIihxbj",
        "colab": {
          "base_uri": "https://localhost:8080/"
        },
        "outputId": "3f606ac7-19d4-4df0-eeff-7bf97bc84cb0"
      },
      "source": [
        "cols = [i for i in final_df.columns if 'retry' in i]\n",
        "cols"
      ],
      "execution_count": 102,
      "outputs": [
        {
          "output_type": "execute_result",
          "data": {
            "text/plain": [
              "['retry.attempt1.rawResponse',\n",
              " 'retry.attempt1.avsResultRaw',\n",
              " 'retry.attempt1.acquirerAccount',\n",
              " 'retry.attempt1.responseCode',\n",
              " 'retry.attempt2.avsResultRaw',\n",
              " 'retry.attempt2.responseCode',\n",
              " 'retry.attempt2.rawResponse',\n",
              " 'retry.attempt2.acquirerAccount',\n",
              " 'retry.attempt2.acquirer']"
            ]
          },
          "metadata": {
            "tags": []
          },
          "execution_count": 102
        }
      ]
    },
    {
      "cell_type": "code",
      "metadata": {
        "id": "geXNs5yvh5fS"
      },
      "source": [
        "final_df =final_df.drop( cols, axis=1)"
      ],
      "execution_count": 103,
      "outputs": []
    },
    {
      "cell_type": "code",
      "metadata": {
        "id": "eH69nnkjhVLU"
      },
      "source": [
        "#more columns to remove, but may be remove from fittin before the model\n",
        "final_df = final_df.drop(['eventDate', 'shopperEmail', 'avsResult', 'cavvAlgorithm'\n",
        ", 'liabilityShift', 'cardHolderName', 'visaTemplate', 'acquirerCode', 'eci', 'refusalReasonRaw',\n",
        "'recurringProcessingModel', 'shopperTelephone', 'fundingSource', 'shopperName', 'shopperInteraction',\n",
        "'cvcResultRaw', 'billingAddress.country', 'metadata.shopper_name', 'avsResultRaw', 'metadata.driver_ref',\n",
        "'metadata.shopper_ph_country', 'riskdata.shopperAccountCreationDate', 'metadata.shopper_phone',\n",
        "'billingAddress.postalCode', \n",
        "#'metadata.shopper_phone_country', \n",
        "'authorisedAmountValue', 'emaildomain'\n",
        "\n",
        "]   ,axis=1)"
      ],
      "execution_count": 104,
      "outputs": []
    },
    {
      "cell_type": "code",
      "metadata": {
        "id": "qsNiuf6zJ_fS"
      },
      "source": [
        "final_df.to_csv(\"/content/drive/My Drive/oct_train_firstN.csv\")"
      ],
      "execution_count": 105,
      "outputs": []
    },
    {
      "cell_type": "code",
      "metadata": {
        "id": "QoKXo-B-Q4ks",
        "colab": {
          "base_uri": "https://localhost:8080/",
          "height": 227
        },
        "outputId": "80e450f3-885d-47ba-ba4a-544c180b13dc"
      },
      "source": [
        "final_df.head(2)"
      ],
      "execution_count": 106,
      "outputs": [
        {
          "output_type": "execute_result",
          "data": {
            "text/html": [
              "<div>\n",
              "<style scoped>\n",
              "    .dataframe tbody tr th:only-of-type {\n",
              "        vertical-align: middle;\n",
              "    }\n",
              "\n",
              "    .dataframe tbody tr th {\n",
              "        vertical-align: top;\n",
              "    }\n",
              "\n",
              "    .dataframe thead th {\n",
              "        text-align: right;\n",
              "    }\n",
              "</style>\n",
              "<table border=\"1\" class=\"dataframe\">\n",
              "  <thead>\n",
              "    <tr style=\"text-align: right;\">\n",
              "      <th></th>\n",
              "      <th>external_id</th>\n",
              "      <th>chargeback</th>\n",
              "      <th>paymentMethod</th>\n",
              "      <th>pspReference</th>\n",
              "      <th>metadata.company</th>\n",
              "      <th>paymentMethodVariant</th>\n",
              "      <th>deviceType</th>\n",
              "      <th>shopperReference</th>\n",
              "      <th>expiryDate</th>\n",
              "      <th>isCardCommercial</th>\n",
              "      <th>browserCode</th>\n",
              "      <th>issuerCountry</th>\n",
              "      <th>riskdata.shopperDevice</th>\n",
              "      <th>amount.currency</th>\n",
              "      <th>amount.value</th>\n",
              "      <th>cardIssuingCurrency</th>\n",
              "      <th>cardIssuingCountry</th>\n",
              "      <th>cardIssuingBank</th>\n",
              "      <th>cardPaymentMethod</th>\n",
              "      <th>coBrandedWith</th>\n",
              "      <th>authorisedAmountCurrency</th>\n",
              "      <th>shp_card_name_match</th>\n",
              "      <th>cardtype</th>\n",
              "      <th>emaildomainlabel</th>\n",
              "      <th>email_is_valid</th>\n",
              "      <th>AccountCreationDate</th>\n",
              "      <th>ageyear</th>\n",
              "      <th>agemonth</th>\n",
              "      <th>agedays</th>\n",
              "      <th>expiryyear</th>\n",
              "      <th>cardexdate</th>\n",
              "      <th>howlongtillcardExpiry</th>\n",
              "      <th>transdate</th>\n",
              "      <th>transtime</th>\n",
              "      <th>transweekday</th>\n",
              "      <th>transmonthday</th>\n",
              "      <th>transyear</th>\n",
              "      <th>ageyear_trans</th>\n",
              "      <th>agemonth_trans</th>\n",
              "      <th>agedays_trans</th>\n",
              "      <th>amount</th>\n",
              "      <th>shopperDevicebin</th>\n",
              "      <th>state_name</th>\n",
              "      <th>place_name</th>\n",
              "      <th>county_name</th>\n",
              "      <th>place_name_short</th>\n",
              "      <th>firstname</th>\n",
              "      <th>lastname</th>\n",
              "      <th>infix</th>\n",
              "      <th>firstnamelen</th>\n",
              "      <th>lastnamelen</th>\n",
              "      <th>infixlen</th>\n",
              "      <th>first_last_name_len_match</th>\n",
              "      <th>same_firs_last_name</th>\n",
              "      <th>emailfirstpart</th>\n",
              "      <th>emailhaspartofFname</th>\n",
              "      <th>emailhaspartofLname</th>\n",
              "      <th>cardname_has_firstname</th>\n",
              "      <th>cardname_has_lastname</th>\n",
              "      <th>namehasdigit</th>\n",
              "      <th>emaillen</th>\n",
              "    </tr>\n",
              "  </thead>\n",
              "  <tbody>\n",
              "    <tr>\n",
              "      <th>0</th>\n",
              "      <td>1859021897629876</td>\n",
              "      <td>0</td>\n",
              "      <td>visa</td>\n",
              "      <td>1859021897629876</td>\n",
              "      <td>hulc</td>\n",
              "      <td>visastandarddebit</td>\n",
              "      <td>Other</td>\n",
              "      <td>cus_D0A6yxAXVzaCtl</td>\n",
              "      <td>03/2022</td>\n",
              "      <td>FALSE</td>\n",
              "      <td>Other</td>\n",
              "      <td>GB</td>\n",
              "      <td>HWVOG</td>\n",
              "      <td>GBP</td>\n",
              "      <td>700.0</td>\n",
              "      <td>NaN</td>\n",
              "      <td>NaN</td>\n",
              "      <td>NaN</td>\n",
              "      <td>NaN</td>\n",
              "      <td>NaN</td>\n",
              "      <td>NaN</td>\n",
              "      <td>True</td>\n",
              "      <td>0</td>\n",
              "      <td>GMAIL</td>\n",
              "      <td>True</td>\n",
              "      <td>2019-05-09 23:50:47</td>\n",
              "      <td>1.890763</td>\n",
              "      <td>22.689157</td>\n",
              "      <td>690.587031</td>\n",
              "      <td>2022</td>\n",
              "      <td>2022-03-01</td>\n",
              "      <td>34</td>\n",
              "      <td>2020-10-08</td>\n",
              "      <td>22</td>\n",
              "      <td>3</td>\n",
              "      <td>8</td>\n",
              "      <td>2020</td>\n",
              "      <td>1</td>\n",
              "      <td>17</td>\n",
              "      <td>517</td>\n",
              "      <td>6.551080</td>\n",
              "      <td>OTHERS</td>\n",
              "      <td>NaN</td>\n",
              "      <td>NaN</td>\n",
              "      <td>NaN</td>\n",
              "      <td>nan</td>\n",
              "      <td>Joseph</td>\n",
              "      <td>ODonnell</td>\n",
              "      <td>null</td>\n",
              "      <td>6</td>\n",
              "      <td>8</td>\n",
              "      <td>4</td>\n",
              "      <td>False</td>\n",
              "      <td>False</td>\n",
              "      <td>joseph.odonnell1996</td>\n",
              "      <td>False</td>\n",
              "      <td>False</td>\n",
              "      <td>True</td>\n",
              "      <td>True</td>\n",
              "      <td>False</td>\n",
              "      <td>19</td>\n",
              "    </tr>\n",
              "    <tr>\n",
              "      <th>1</th>\n",
              "      <td>1319021897665668</td>\n",
              "      <td>0</td>\n",
              "      <td>amex</td>\n",
              "      <td>1319021897665668</td>\n",
              "      <td>001</td>\n",
              "      <td>amex</td>\n",
              "      <td>Other</td>\n",
              "      <td>RIIDE_USER_production_571859</td>\n",
              "      <td>03/2025</td>\n",
              "      <td>FALSE</td>\n",
              "      <td>Other</td>\n",
              "      <td>GB</td>\n",
              "      <td>beyond1</td>\n",
              "      <td>GBP</td>\n",
              "      <td>500.0</td>\n",
              "      <td>NaN</td>\n",
              "      <td>NaN</td>\n",
              "      <td>NaN</td>\n",
              "      <td>NaN</td>\n",
              "      <td>NaN</td>\n",
              "      <td>NaN</td>\n",
              "      <td>False</td>\n",
              "      <td>0</td>\n",
              "      <td>GMAIL</td>\n",
              "      <td>True</td>\n",
              "      <td>2020-09-10 16:57:44</td>\n",
              "      <td>0.549974</td>\n",
              "      <td>6.599688</td>\n",
              "      <td>200.873871</td>\n",
              "      <td>2025</td>\n",
              "      <td>2025-03-01</td>\n",
              "      <td>54</td>\n",
              "      <td>2020-10-08</td>\n",
              "      <td>22</td>\n",
              "      <td>3</td>\n",
              "      <td>8</td>\n",
              "      <td>2020</td>\n",
              "      <td>0</td>\n",
              "      <td>1</td>\n",
              "      <td>27</td>\n",
              "      <td>6.214608</td>\n",
              "      <td>OTHERS</td>\n",
              "      <td>England</td>\n",
              "      <td>Wootton, Boars Hill, Oxford, South Hinksey, Ke...</td>\n",
              "      <td>Oxfordshire</td>\n",
              "      <td>Wootton</td>\n",
              "      <td>Greg</td>\n",
              "      <td>Howgego</td>\n",
              "      <td>null</td>\n",
              "      <td>4</td>\n",
              "      <td>7</td>\n",
              "      <td>4</td>\n",
              "      <td>False</td>\n",
              "      <td>False</td>\n",
              "      <td>howgego.greg</td>\n",
              "      <td>False</td>\n",
              "      <td>False</td>\n",
              "      <td>False</td>\n",
              "      <td>True</td>\n",
              "      <td>False</td>\n",
              "      <td>12</td>\n",
              "    </tr>\n",
              "  </tbody>\n",
              "</table>\n",
              "</div>"
            ],
            "text/plain": [
              "        external_id  chargeback  ... namehasdigit  emaillen\n",
              "0  1859021897629876           0  ...        False        19\n",
              "1  1319021897665668           0  ...        False        12\n",
              "\n",
              "[2 rows x 61 columns]"
            ]
          },
          "metadata": {
            "tags": []
          },
          "execution_count": 106
        }
      ]
    },
    {
      "cell_type": "code",
      "metadata": {
        "id": "rxgz4HIYQ8h6",
        "colab": {
          "base_uri": "https://localhost:8080/"
        },
        "outputId": "35280934-2c5e-4120-f16b-a8f1d5b8602d"
      },
      "source": [
        "final_df.chargeback.value_counts()"
      ],
      "execution_count": 107,
      "outputs": [
        {
          "output_type": "execute_result",
          "data": {
            "text/plain": [
              "0    63116\n",
              "1       13\n",
              "Name: chargeback, dtype: int64"
            ]
          },
          "metadata": {
            "tags": []
          },
          "execution_count": 107
        }
      ]
    },
    {
      "cell_type": "code",
      "metadata": {
        "id": "feSISBI_cRFK"
      },
      "source": [
        "final_df['pspReference'].to_csv(\"/content/drive/My Drive/oct_train_firstN_pspref.csv\")"
      ],
      "execution_count": 109,
      "outputs": []
    }
  ]
}