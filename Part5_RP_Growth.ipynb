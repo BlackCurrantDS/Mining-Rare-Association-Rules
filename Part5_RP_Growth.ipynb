{
  "nbformat": 4,
  "nbformat_minor": 0,
  "metadata": {
    "colab": {
      "name": "Part5:RP-Growth.ipynb",
      "provenance": [],
      "authorship_tag": "ABX9TyPrz/VnHDQ4x3RZS1innr6r",
      "include_colab_link": true
    },
    "kernelspec": {
      "name": "python3",
      "display_name": "Python 3"
    }
  },
  "cells": [
    {
      "cell_type": "markdown",
      "metadata": {
        "id": "view-in-github",
        "colab_type": "text"
      },
      "source": [
        "<a href=\"https://colab.research.google.com/github/BlackCurrantDS/DBSE_Project/blob/main/Part5_RP_Growth.ipynb\" target=\"_parent\"><img src=\"https://colab.research.google.com/assets/colab-badge.svg\" alt=\"Open In Colab\"/></a>"
      ]
    },
    {
      "cell_type": "code",
      "metadata": {
        "colab": {
          "base_uri": "https://localhost:8080/"
        },
        "id": "r7GqZuEDjx9j",
        "outputId": "e941055a-f426-46a6-f552-2b1f4604819d"
      },
      "source": [
        "pip install spmf"
      ],
      "execution_count": null,
      "outputs": [
        {
          "output_type": "stream",
          "text": [
            "Requirement already satisfied: spmf in /usr/local/lib/python3.6/dist-packages (1.3)\n"
          ],
          "name": "stdout"
        }
      ]
    },
    {
      "cell_type": "code",
      "metadata": {
        "id": "K93Z50XAj1sl"
      },
      "source": [
        "from spmf import Spmf\r\n",
        "import pathlib"
      ],
      "execution_count": null,
      "outputs": []
    },
    {
      "cell_type": "code",
      "metadata": {
        "id": "1Z6YYnrNlfzP"
      },
      "source": [
        "d = '/content/' #specify the folder all the input and output files are"
      ],
      "execution_count": null,
      "outputs": []
    },
    {
      "cell_type": "code",
      "metadata": {
        "id": "w7yjs9cY2OMm",
        "colab": {
          "base_uri": "https://localhost:8080/",
          "height": 119
        },
        "outputId": "4cd7f015-f06f-4811-a2e1-416f35027151"
      },
      "source": [
        "\"\"\"1. Class: no-recurrence-events 1 , recurrence-events 2 \r\n",
        "2. age: 10-19 3 , 20-29 4 , 30-39 5 , 40-49 6 , 50-59 7 , 60-69 8 , 70-79 9 , 80-89 10 , 90-99 11.\r\n",
        "3. menopause: lt40 12 , ge40 13 , premeno 14 .\r\n",
        "4. tumor-size: 0-4 :15 , 5-9 :16 , 10-14 :17 , 15-19 :18 , 20-24 :19 , 25-29 :20, 30-34 :21, 35-39 :22, 40-44 :23, 45-49 :24, 50-54 :25, 55-59 :26.\r\n",
        "5. inv-nodes: 0-2 :27, 3-5 :28, 6-8 :29, 9-11 :30 , 12-14 :31, 15-17 :32, 18-20 :33, 21-23 :34, 24-26 :35, 27-29 :36, 30-32 :37, 33-35 :38, 36-39 :39.\r\n",
        "6. node-caps: yes :40, no :41.\r\n",
        "7. deg-malig: 1 :42, 2 :43, 3 :44.\r\n",
        "8. breast: left :45, right :46.\r\n",
        "9. breast-quad: left-up :47, left-low :48, right-up :49, right-low :50, central :51.\r\n",
        "10. irradiat: yes :52, no :53.\r\n",
        "\r\n",
        "a5@?, a8@\"\"\""
      ],
      "execution_count": null,
      "outputs": [
        {
          "output_type": "execute_result",
          "data": {
            "application/vnd.google.colaboratory.intrinsic+json": {
              "type": "string"
            },
            "text/plain": [
              "'1. Class: no-recurrence-events 1 , recurrence-events 2 \\n2. age: 10-19 3 , 20-29 4 , 30-39 5 , 40-49 6 , 50-59 7 , 60-69 8 , 70-79 9 , 80-89 10 , 90-99 11.\\n3. menopause: lt40 12 , ge40 13 , premeno 14 .\\n4. tumor-size: 0-4 :15 , 5-9 :16 , 10-14 :17 , 15-19 :18 , 20-24 :19 , 25-29 :20, 30-34 :21, 35-39 :22, 40-44 :23, 45-49 :24, 50-54 :25, 55-59 :26.\\n5. inv-nodes: 0-2 :27, 3-5 :28, 6-8 :29, 9-11 :30 , 12-14 :31, 15-17 :32, 18-20 :33, 21-23 :34, 24-26 :35, 27-29 :36, 30-32 :37, 33-35 :38, 36-39 :39.\\n6. node-caps: yes :40, no :41.\\n7. deg-malig: 1 :42, 2 :43, 3 :44.\\n8. breast: left :45, right :46.\\n9. breast-quad: left-up :47, left-low :48, right-up :49, right-low :50, central :51.\\n10. irradiat: yes :52, no :53.\\n\\na5@?, a8@'"
            ]
          },
          "metadata": {
            "tags": []
          },
          "execution_count": 9
        }
      ]
    },
    {
      "cell_type": "markdown",
      "metadata": {
        "id": "bg4VsyNzfLMj"
      },
      "source": [
        "change minsuprrt and rare minsupport here in arguments."
      ]
    },
    {
      "cell_type": "code",
      "metadata": {
        "id": "msx0-KjE105a"
      },
      "source": [
        "spmf = Spmf(\"RPGrowth_itemsets\", input_filename=\"breast_train_transactions_rpgrowth.txt\",\r\n",
        "            output_filename=\"output.txt\", arguments=[0.6, .10],spmf_bin_location_dir=d )"
      ],
      "execution_count": null,
      "outputs": []
    },
    {
      "cell_type": "code",
      "metadata": {
        "id": "pkg05oIu105c",
        "colab": {
          "base_uri": "https://localhost:8080/"
        },
        "outputId": "868e4846-9200-4aa7-ab9b-8561be5a9d26"
      },
      "source": [
        "spmf.run()"
      ],
      "execution_count": null,
      "outputs": [
        {
          "output_type": "stream",
          "text": [
            ">/content/spmf.jar\n",
            "=============  RP-GROWTH 2.38 - STATS =============\n",
            " Transactions count from database : 240\n",
            " Max memory usage: 8.097381591796875 mb \n",
            " Rare itemsets count : 726\n",
            " Total time ~ 51 ms\n",
            "===================================================\n",
            "\n"
          ],
          "name": "stdout"
        }
      ]
    }
  ]
}