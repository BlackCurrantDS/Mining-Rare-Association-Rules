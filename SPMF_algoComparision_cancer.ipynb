{
  "nbformat": 4,
  "nbformat_minor": 0,
  "metadata": {
    "colab": {
      "name": "SPMF-algoComparision_cancer.ipynb",
      "provenance": [],
      "authorship_tag": "ABX9TyOxQOYSh3zNraGpYOyPPGdK",
      "include_colab_link": true
    },
    "kernelspec": {
      "name": "python3",
      "display_name": "Python 3"
    }
  },
  "cells": [
    {
      "cell_type": "markdown",
      "metadata": {
        "id": "view-in-github",
        "colab_type": "text"
      },
      "source": [
        "<a href=\"https://colab.research.google.com/github/BlackCurrantDS/DBSE_Project/blob/main/SPMF_algoComparision_cancer.ipynb\" target=\"_parent\"><img src=\"https://colab.research.google.com/assets/colab-badge.svg\" alt=\"Open In Colab\"/></a>"
      ]
    },
    {
      "cell_type": "code",
      "metadata": {
        "colab": {
          "base_uri": "https://localhost:8080/"
        },
        "id": "r7GqZuEDjx9j",
        "outputId": "3bd63785-bb3f-4755-8a35-16ad2abc69c0"
      },
      "source": [
        "pip install spmf"
      ],
      "execution_count": 32,
      "outputs": [
        {
          "output_type": "stream",
          "text": [
            "Requirement already satisfied: spmf in /usr/local/lib/python3.6/dist-packages (1.3)\n"
          ],
          "name": "stdout"
        }
      ]
    },
    {
      "cell_type": "code",
      "metadata": {
        "id": "K93Z50XAj1sl"
      },
      "source": [
        "from spmf import Spmf\r\n",
        "import pathlib"
      ],
      "execution_count": 33,
      "outputs": []
    },
    {
      "cell_type": "code",
      "metadata": {
        "id": "1Z6YYnrNlfzP"
      },
      "source": [
        "d = '/content/' #specify the folder all the input and output files are\r\n",
        "input_filename = \"/content/breast_train_transactions_rpgrowth.txt\"\r\n",
        "data = \"Breast_Cancer\""
      ],
      "execution_count": 34,
      "outputs": []
    },
    {
      "cell_type": "markdown",
      "metadata": {
        "id": "iX3ceGkZJQPy"
      },
      "source": [
        "ECLAT"
      ]
    },
    {
      "cell_type": "code",
      "metadata": {
        "id": "msx0-KjE105a"
      },
      "source": [
        "spmf_eclat = Spmf(\"Eclat\", input_filename=input_filename,\r\n",
        "            output_filename=\"output_eclat\", arguments=[0.01],spmf_bin_location_dir=d )"
      ],
      "execution_count": 35,
      "outputs": []
    },
    {
      "cell_type": "code",
      "metadata": {
        "colab": {
          "base_uri": "https://localhost:8080/"
        },
        "id": "IggfWhIZhY_H",
        "outputId": "aa5fd31a-3360-4f42-dd1c-aa4f058aa1a7"
      },
      "source": [
        "spmf_eclat.run()"
      ],
      "execution_count": 36,
      "outputs": [
        {
          "output_type": "stream",
          "text": [
            ">/content/spmf.jar\n",
            "=============  ECLAT v0.96r18 - STATS =============\n",
            " Transactions count from database : 240\n",
            " Frequent itemsets count : 20146\n",
            " Total time ~ 151 ms\n",
            " Maximum memory usage : 12.267608642578125 mb\n",
            "===================================================\n",
            "\n"
          ],
          "name": "stdout"
        }
      ]
    },
    {
      "cell_type": "markdown",
      "metadata": {
        "id": "r0ypHKeKJUXR"
      },
      "source": [
        "Apriori"
      ]
    },
    {
      "cell_type": "code",
      "metadata": {
        "id": "szNZt4y6JaN6"
      },
      "source": [
        "spmf_apriori = Spmf(\"Apriori\", input_filename=input_filename,\r\n",
        "            output_filename=\"output_apriori\", arguments=[0.01],spmf_bin_location_dir=d )"
      ],
      "execution_count": 37,
      "outputs": []
    },
    {
      "cell_type": "code",
      "metadata": {
        "id": "EVW7PD3bJaN8",
        "colab": {
          "base_uri": "https://localhost:8080/"
        },
        "outputId": "964fb009-a6fa-4512-f55f-355351e91e48"
      },
      "source": [
        "spmf_apriori.run()"
      ],
      "execution_count": 38,
      "outputs": [
        {
          "output_type": "stream",
          "text": [
            ">/content/spmf.jar\n",
            "=============  APRIORI - STATS =============\n",
            " Candidates count : 23464\n",
            " The algorithm stopped at size 10\n",
            " Frequent itemsets count : 19832\n",
            " Maximum memory usage : 10.020225524902344 mb\n",
            " Total time ~ 1213 ms\n",
            "===================================================\n",
            "\n"
          ],
          "name": "stdout"
        }
      ]
    },
    {
      "cell_type": "markdown",
      "metadata": {
        "id": "c_eeeM-8JWeK"
      },
      "source": [
        "FP-Growth"
      ]
    },
    {
      "cell_type": "code",
      "metadata": {
        "id": "y0J5N2JjJb6h"
      },
      "source": [
        "spmf_fpgrowth = Spmf(\"FPGrowth_itemsets\", input_filename=input_filename,\r\n",
        "            output_filename=\"output_FP-Growth\", arguments=[0.01],spmf_bin_location_dir=d )"
      ],
      "execution_count": 39,
      "outputs": []
    },
    {
      "cell_type": "code",
      "metadata": {
        "id": "ptOu7tsRJb6h",
        "colab": {
          "base_uri": "https://localhost:8080/"
        },
        "outputId": "783b5ec9-9767-4c24-8ad6-dca4e43a8fc0"
      },
      "source": [
        "spmf_fpgrowth.run()"
      ],
      "execution_count": 40,
      "outputs": [
        {
          "output_type": "stream",
          "text": [
            ">/content/spmf.jar\n",
            "=============  FP-GROWTH 2.42 - STATS =============\n",
            " Transactions count from database : 240\n",
            " Max memory usage: 13.275436401367188 mb \n",
            " Frequent itemsets count : 20146\n",
            " Total time ~ 184 ms\n",
            "===================================================\n",
            "\n"
          ],
          "name": "stdout"
        }
      ]
    },
    {
      "cell_type": "markdown",
      "metadata": {
        "id": "0Jw26YSmKNvy"
      },
      "source": [
        "RunTime"
      ]
    },
    {
      "cell_type": "code",
      "metadata": {
        "id": "M-3pLpuNKO1K",
        "colab": {
          "base_uri": "https://localhost:8080/"
        },
        "outputId": "01c67590-8767-45a7-ae6e-e81f230f5945"
      },
      "source": [
        "#Apriori\r\n",
        "min_sup = [.01, .02,.03,.04, .05,.06,.07,.08,.09, .1, .2, .5, .6]\r\n",
        "import time\r\n",
        "run_time_apr = []\r\n",
        "for i in min_sup:\r\n",
        "    print(i)\r\n",
        "    start_time = time.time()\r\n",
        "    spmf_apriori = Spmf(\"Apriori\", input_filename=input_filename,\r\n",
        "            output_filename=\"output_apriori\", arguments=[i],spmf_bin_location_dir=d )\r\n",
        "    spmf_apriori.run()\r\n",
        "    print(\"For %i--- %s seconds ---\" %(i, time.time() - start_time))\r\n",
        "    run_time_apr.append(time.time() - start_time)\r\n",
        "  \r\n",
        "run_time_apr"
      ],
      "execution_count": 41,
      "outputs": [
        {
          "output_type": "stream",
          "text": [
            "0.01\n",
            ">/content/spmf.jar\n",
            "=============  APRIORI - STATS =============\n",
            " Candidates count : 23464\n",
            " The algorithm stopped at size 10\n",
            " Frequent itemsets count : 19832\n",
            " Maximum memory usage : 8.097320556640625 mb\n",
            " Total time ~ 1022 ms\n",
            "===================================================\n",
            "\n",
            "For 0--- 1.2809579372406006 seconds ---\n",
            "0.02\n",
            ">/content/spmf.jar\n",
            "=============  APRIORI - STATS =============\n",
            " Candidates count : 12026\n",
            " The algorithm stopped at size 10\n",
            " Frequent itemsets count : 9360\n",
            " Maximum memory usage : 9.29736328125 mb\n",
            " Total time ~ 512 ms\n",
            "===================================================\n",
            "\n",
            "For 0--- 0.7720694541931152 seconds ---\n",
            "0.03\n",
            ">/content/spmf.jar\n",
            "=============  APRIORI - STATS =============\n",
            " Candidates count : 6220\n",
            " The algorithm stopped at size 9\n",
            " Frequent itemsets count : 4615\n",
            " Maximum memory usage : 9.29736328125 mb\n",
            " Total time ~ 804 ms\n",
            "===================================================\n",
            "\n",
            "For 0--- 1.0592164993286133 seconds ---\n",
            "0.04\n",
            ">/content/spmf.jar\n",
            "=============  APRIORI - STATS =============\n",
            " Candidates count : 4604\n",
            " The algorithm stopped at size 9\n",
            " Frequent itemsets count : 3270\n",
            " Maximum memory usage : 8.897285461425781 mb\n",
            " Total time ~ 845 ms\n",
            "===================================================\n",
            "\n",
            "For 0--- 1.280951976776123 seconds ---\n",
            "0.05\n",
            ">/content/spmf.jar\n",
            "=============  APRIORI - STATS =============\n",
            " Candidates count : 3563\n",
            " The algorithm stopped at size 9\n",
            " Frequent itemsets count : 2400\n",
            " Maximum memory usage : 8.097328186035156 mb\n",
            " Total time ~ 183 ms\n",
            "===================================================\n",
            "\n",
            "For 0--- 0.531883955001831 seconds ---\n",
            "0.06\n",
            ">/content/spmf.jar\n",
            "=============  APRIORI - STATS =============\n",
            " Candidates count : 2555\n",
            " The algorithm stopped at size 8\n",
            " Frequent itemsets count : 1634\n",
            " Maximum memory usage : 7.6953125 mb\n",
            " Total time ~ 225 ms\n",
            "===================================================\n",
            "\n",
            "For 0--- 0.5857629776000977 seconds ---\n",
            "0.07\n",
            ">/content/spmf.jar\n",
            "=============  APRIORI - STATS =============\n",
            " Candidates count : 2112\n",
            " The algorithm stopped at size 8\n",
            " Frequent itemsets count : 1331\n",
            " Maximum memory usage : 7.497367858886719 mb\n",
            " Total time ~ 208 ms\n",
            "===================================================\n",
            "\n",
            "For 0--- 0.933647632598877 seconds ---\n",
            "0.08\n",
            ">/content/spmf.jar\n",
            "=============  APRIORI - STATS =============\n",
            " Candidates count : 1603\n",
            " The algorithm stopped at size 8\n",
            " Frequent itemsets count : 1018\n",
            " Maximum memory usage : 7.297370910644531 mb\n",
            " Total time ~ 113 ms\n",
            "===================================================\n",
            "\n",
            "For 0--- 0.36446166038513184 seconds ---\n",
            "0.09\n",
            ">/content/spmf.jar\n",
            "=============  APRIORI - STATS =============\n",
            " Candidates count : 1393\n",
            " The algorithm stopped at size 7\n",
            " Frequent itemsets count : 853\n",
            " Maximum memory usage : 7.302680969238281 mb\n",
            " Total time ~ 167 ms\n",
            "===================================================\n",
            "\n",
            "For 0--- 0.5296664237976074 seconds ---\n",
            "0.1\n",
            ">/content/spmf.jar\n",
            "=============  APRIORI - STATS =============\n",
            " Candidates count : 1192\n",
            " The algorithm stopped at size 7\n",
            " Frequent itemsets count : 726\n",
            " Maximum memory usage : 7.097328186035156 mb\n",
            " Total time ~ 104 ms\n",
            "===================================================\n",
            "\n",
            "For 0--- 0.5380725860595703 seconds ---\n",
            "0.2\n",
            ">/content/spmf.jar\n",
            "=============  APRIORI - STATS =============\n",
            " Candidates count : 345\n",
            " The algorithm stopped at size 6\n",
            " Frequent itemsets count : 179\n",
            " Maximum memory usage : 6.897285461425781 mb\n",
            " Total time ~ 42 ms\n",
            "===================================================\n",
            "\n",
            "For 0--- 0.30139875411987305 seconds ---\n",
            "0.5\n",
            ">/content/spmf.jar\n",
            "=============  APRIORI - STATS =============\n",
            " Candidates count : 26\n",
            " The algorithm stopped at size 5\n",
            " Frequent itemsets count : 17\n",
            " Maximum memory usage : 6.6953125 mb\n",
            " Total time ~ 19 ms\n",
            "===================================================\n",
            "\n",
            "For 0--- 0.27292323112487793 seconds ---\n",
            "0.6\n",
            ">/content/spmf.jar\n",
            "=============  APRIORI - STATS =============\n",
            " Candidates count : 11\n",
            " The algorithm stopped at size 4\n",
            " Frequent itemsets count : 8\n",
            " Maximum memory usage : 6.6953125 mb\n",
            " Total time ~ 24 ms\n",
            "===================================================\n",
            "\n",
            "For 0--- 0.3587992191314697 seconds ---\n"
          ],
          "name": "stdout"
        },
        {
          "output_type": "execute_result",
          "data": {
            "text/plain": [
              "[1.2809967994689941,\n",
              " 0.7721083164215088,\n",
              " 1.0592718124389648,\n",
              " 1.2813589572906494,\n",
              " 0.5319242477416992,\n",
              " 0.586235523223877,\n",
              " 0.9336764812469482,\n",
              " 0.3644883632659912,\n",
              " 0.5297055244445801,\n",
              " 0.5381026268005371,\n",
              " 0.301438570022583,\n",
              " 0.2729644775390625,\n",
              " 0.35884523391723633]"
            ]
          },
          "metadata": {
            "tags": []
          },
          "execution_count": 41
        }
      ]
    },
    {
      "cell_type": "code",
      "metadata": {
        "id": "a4i_umMXKxlD",
        "colab": {
          "base_uri": "https://localhost:8080/"
        },
        "outputId": "febea5ef-c381-4b66-817a-78145fb2be12"
      },
      "source": [
        "#EClat\r\n",
        "\r\n",
        "import time\r\n",
        "run_time_eclat = []\r\n",
        "for i in min_sup:\r\n",
        "    print(i)\r\n",
        "    start_time = time.time()\r\n",
        "    spmf_eclat = Spmf(\"Eclat\", input_filename=input_filename,\r\n",
        "            output_filename=\"output_Eclat\", arguments=[i],spmf_bin_location_dir=d )\r\n",
        "    spmf_eclat.run()\r\n",
        "    print(\"For %i--- %s seconds ---\" %(i, time.time() - start_time))\r\n",
        "    run_time_eclat.append(time.time() - start_time)\r\n",
        "  \r\n",
        "run_time_eclat"
      ],
      "execution_count": 42,
      "outputs": [
        {
          "output_type": "stream",
          "text": [
            "0.01\n",
            ">/content/spmf.jar\n",
            "=============  ECLAT v0.96r18 - STATS =============\n",
            " Transactions count from database : 240\n",
            " Frequent itemsets count : 20146\n",
            " Total time ~ 155 ms\n",
            " Maximum memory usage : 12.271530151367188 mb\n",
            "===================================================\n",
            "\n",
            "For 0--- 0.4352302551269531 seconds ---\n",
            "0.02\n",
            ">/content/spmf.jar\n",
            "=============  ECLAT v0.96r18 - STATS =============\n",
            " Transactions count from database : 240\n",
            " Frequent itemsets count : 9489\n",
            " Total time ~ 118 ms\n",
            " Maximum memory usage : 10.6953125 mb\n",
            "===================================================\n",
            "\n",
            "For 0--- 0.3958241939544678 seconds ---\n",
            "0.03\n",
            ">/content/spmf.jar\n",
            "=============  ECLAT v0.96r18 - STATS =============\n",
            " Transactions count from database : 240\n",
            " Frequent itemsets count : 4693\n",
            " Total time ~ 93 ms\n",
            " Maximum memory usage : 10.6953125 mb\n",
            "===================================================\n",
            "\n",
            "For 0--- 0.4802558422088623 seconds ---\n",
            "0.04\n",
            ">/content/spmf.jar\n",
            "=============  ECLAT v0.96r18 - STATS =============\n",
            " Transactions count from database : 240\n",
            " Frequent itemsets count : 3313\n",
            " Total time ~ 88 ms\n",
            " Maximum memory usage : 10.6953125 mb\n",
            "===================================================\n",
            "\n",
            "For 0--- 0.45862388610839844 seconds ---\n",
            "0.05\n",
            ">/content/spmf.jar\n",
            "=============  ECLAT v0.96r18 - STATS =============\n",
            " Transactions count from database : 240\n",
            " Frequent itemsets count : 2433\n",
            " Total time ~ 62 ms\n",
            " Maximum memory usage : 10.497390747070312 mb\n",
            "===================================================\n",
            "\n",
            "For 0--- 0.3375117778778076 seconds ---\n",
            "0.06\n",
            ">/content/spmf.jar\n",
            "=============  ECLAT v0.96r18 - STATS =============\n",
            " Transactions count from database : 240\n",
            " Frequent itemsets count : 1664\n",
            " Total time ~ 48 ms\n",
            " Maximum memory usage : 9.897293090820312 mb\n",
            "===================================================\n",
            "\n",
            "For 0--- 0.3226940631866455 seconds ---\n",
            "0.07\n",
            ">/content/spmf.jar\n",
            "=============  ECLAT v0.96r18 - STATS =============\n",
            " Transactions count from database : 240\n",
            " Frequent itemsets count : 1350\n",
            " Total time ~ 51 ms\n",
            " Maximum memory usage : 9.497398376464844 mb\n",
            "===================================================\n",
            "\n",
            "For 0--- 0.33007025718688965 seconds ---\n",
            "0.08\n",
            ">/content/spmf.jar\n",
            "=============  ECLAT v0.96r18 - STATS =============\n",
            " Transactions count from database : 240\n",
            " Frequent itemsets count : 1033\n",
            " Total time ~ 65 ms\n",
            " Maximum memory usage : 9.097427368164062 mb\n",
            "===================================================\n",
            "\n",
            "For 0--- 0.3375973701477051 seconds ---\n",
            "0.09\n",
            ">/content/spmf.jar\n",
            "=============  ECLAT v0.96r18 - STATS =============\n",
            " Transactions count from database : 240\n",
            " Frequent itemsets count : 868\n",
            " Total time ~ 54 ms\n",
            " Maximum memory usage : 8.89825439453125 mb\n",
            "===================================================\n",
            "\n",
            "For 0--- 0.3285713195800781 seconds ---\n",
            "0.1\n",
            ">/content/spmf.jar\n",
            "=============  ECLAT v0.96r18 - STATS =============\n",
            " Transactions count from database : 240\n",
            " Frequent itemsets count : 741\n",
            " Total time ~ 47 ms\n",
            " Maximum memory usage : 8.6953125 mb\n",
            "===================================================\n",
            "\n",
            "For 0--- 0.3146960735321045 seconds ---\n",
            "0.2\n",
            ">/content/spmf.jar\n",
            "=============  ECLAT v0.96r18 - STATS =============\n",
            " Transactions count from database : 240\n",
            " Frequent itemsets count : 180\n",
            " Total time ~ 23 ms\n",
            " Maximum memory usage : 7.4973602294921875 mb\n",
            "===================================================\n",
            "\n",
            "For 0--- 0.3804926872253418 seconds ---\n",
            "0.5\n",
            ">/content/spmf.jar\n",
            "=============  ECLAT v0.96r18 - STATS =============\n",
            " Transactions count from database : 240\n",
            " Frequent itemsets count : 17\n",
            " Total time ~ 13 ms\n",
            " Maximum memory usage : 6.89727783203125 mb\n",
            "===================================================\n",
            "\n",
            "For 0--- 0.3633146286010742 seconds ---\n",
            "0.6\n",
            ">/content/spmf.jar\n",
            "=============  ECLAT v0.96r18 - STATS =============\n",
            " Transactions count from database : 240\n",
            " Frequent itemsets count : 8\n",
            " Total time ~ 18 ms\n",
            " Maximum memory usage : 6.89727783203125 mb\n",
            "===================================================\n",
            "\n",
            "For 0--- 0.2879211902618408 seconds ---\n"
          ],
          "name": "stdout"
        },
        {
          "output_type": "execute_result",
          "data": {
            "text/plain": [
              "[0.43526530265808105,\n",
              " 0.39586544036865234,\n",
              " 0.48029470443725586,\n",
              " 0.4586665630340576,\n",
              " 0.337540864944458,\n",
              " 0.32273435592651367,\n",
              " 0.3301231861114502,\n",
              " 0.33763837814331055,\n",
              " 0.32862210273742676,\n",
              " 0.3147408962249756,\n",
              " 0.3805406093597412,\n",
              " 0.3633565902709961,\n",
              " 0.2879610061645508]"
            ]
          },
          "metadata": {
            "tags": []
          },
          "execution_count": 42
        }
      ]
    },
    {
      "cell_type": "code",
      "metadata": {
        "id": "CaLU-mheK-As",
        "colab": {
          "base_uri": "https://localhost:8080/"
        },
        "outputId": "525fe0c6-4ccc-45f5-b354-e4bd23f861d0"
      },
      "source": [
        "#fp-grwoth\r\n",
        "\r\n",
        "import time\r\n",
        "run_time_fp = []\r\n",
        "for i in min_sup:\r\n",
        "    print(i)\r\n",
        "    start_time = time.time()\r\n",
        "    spmf_fp = Spmf(\"FPGrowth_itemsets\", input_filename=input_filename,\r\n",
        "            output_filename=\"output_fp\", arguments=[i],spmf_bin_location_dir=d )\r\n",
        "    spmf_fp.run()\r\n",
        "    print(\"For %i--- %s seconds ---\" %(i, time.time() - start_time))\r\n",
        "    run_time_fp.append(time.time() - start_time)\r\n",
        "  \r\n",
        "run_time_fp"
      ],
      "execution_count": 43,
      "outputs": [
        {
          "output_type": "stream",
          "text": [
            "0.01\n",
            ">/content/spmf.jar\n",
            "=============  FP-GROWTH 2.42 - STATS =============\n",
            " Transactions count from database : 240\n",
            " Max memory usage: 13.765655517578125 mb \n",
            " Frequent itemsets count : 20146\n",
            " Total time ~ 194 ms\n",
            "===================================================\n",
            "\n",
            "For 0--- 0.45909547805786133 seconds ---\n",
            "0.02\n",
            ">/content/spmf.jar\n",
            "=============  FP-GROWTH 2.42 - STATS =============\n",
            " Transactions count from database : 240\n",
            " Max memory usage: 7.2598114013671875 mb \n",
            " Frequent itemsets count : 9489\n",
            " Total time ~ 141 ms\n",
            "===================================================\n",
            "\n",
            "For 0--- 0.3818068504333496 seconds ---\n",
            "0.03\n",
            ">/content/spmf.jar\n",
            "=============  FP-GROWTH 2.42 - STATS =============\n",
            " Transactions count from database : 240\n",
            " Max memory usage: 6.507225036621094 mb \n",
            " Frequent itemsets count : 4693\n",
            " Total time ~ 127 ms\n",
            "===================================================\n",
            "\n",
            "For 0--- 0.3975565433502197 seconds ---\n",
            "0.04\n",
            ">/content/spmf.jar\n",
            "=============  FP-GROWTH 2.42 - STATS =============\n",
            " Transactions count from database : 240\n",
            " Max memory usage: 6.507225036621094 mb \n",
            " Frequent itemsets count : 3313\n",
            " Total time ~ 102 ms\n",
            "===================================================\n",
            "\n",
            "For 0--- 0.3674602508544922 seconds ---\n",
            "0.05\n",
            ">/content/spmf.jar\n",
            "=============  FP-GROWTH 2.42 - STATS =============\n",
            " Transactions count from database : 240\n",
            " Max memory usage: 10.097389221191406 mb \n",
            " Frequent itemsets count : 2433\n",
            " Total time ~ 96 ms\n",
            "===================================================\n",
            "\n",
            "For 0--- 0.3548860549926758 seconds ---\n",
            "0.06\n",
            ">/content/spmf.jar\n",
            "=============  FP-GROWTH 2.42 - STATS =============\n",
            " Transactions count from database : 240\n",
            " Max memory usage: 9.297370910644531 mb \n",
            " Frequent itemsets count : 1664\n",
            " Total time ~ 77 ms\n",
            "===================================================\n",
            "\n",
            "For 0--- 0.33972644805908203 seconds ---\n",
            "0.07\n",
            ">/content/spmf.jar\n",
            "=============  FP-GROWTH 2.42 - STATS =============\n",
            " Transactions count from database : 240\n",
            " Max memory usage: 8.8973388671875 mb \n",
            " Frequent itemsets count : 1350\n",
            " Total time ~ 63 ms\n",
            "===================================================\n",
            "\n",
            "For 0--- 0.3259279727935791 seconds ---\n",
            "0.08\n",
            ">/content/spmf.jar\n",
            "=============  FP-GROWTH 2.42 - STATS =============\n",
            " Transactions count from database : 240\n",
            " Max memory usage: 8.497413635253906 mb \n",
            " Frequent itemsets count : 1033\n",
            " Total time ~ 58 ms\n",
            "===================================================\n",
            "\n",
            "For 0--- 0.41859865188598633 seconds ---\n",
            "0.09\n",
            ">/content/spmf.jar\n",
            "=============  FP-GROWTH 2.42 - STATS =============\n",
            " Transactions count from database : 240\n",
            " Max memory usage: 8.297439575195312 mb \n",
            " Frequent itemsets count : 868\n",
            " Total time ~ 82 ms\n",
            "===================================================\n",
            "\n",
            "For 0--- 0.3471078872680664 seconds ---\n",
            "0.1\n",
            ">/content/spmf.jar\n",
            "=============  FP-GROWTH 2.42 - STATS =============\n",
            " Transactions count from database : 240\n",
            " Max memory usage: 8.097335815429688 mb \n",
            " Frequent itemsets count : 741\n",
            " Total time ~ 60 ms\n",
            "===================================================\n",
            "\n",
            "For 0--- 0.3326725959777832 seconds ---\n",
            "0.2\n",
            ">/content/spmf.jar\n",
            "=============  FP-GROWTH 2.42 - STATS =============\n",
            " Transactions count from database : 240\n",
            " Max memory usage: 7.2973785400390625 mb \n",
            " Frequent itemsets count : 180\n",
            " Total time ~ 34 ms\n",
            "===================================================\n",
            "\n",
            "For 0--- 0.2907679080963135 seconds ---\n",
            "0.5\n",
            ">/content/spmf.jar\n",
            "=============  FP-GROWTH 2.42 - STATS =============\n",
            " Transactions count from database : 240\n",
            " Max memory usage: 6.897285461425781 mb \n",
            " Frequent itemsets count : 17\n",
            " Total time ~ 25 ms\n",
            "===================================================\n",
            "\n",
            "For 0--- 0.37608957290649414 seconds ---\n",
            "0.6\n",
            ">/content/spmf.jar\n",
            "=============  FP-GROWTH 2.42 - STATS =============\n",
            " Transactions count from database : 240\n",
            " Max memory usage: 6.897315979003906 mb \n",
            " Frequent itemsets count : 8\n",
            " Total time ~ 21 ms\n",
            "===================================================\n",
            "\n",
            "For 0--- 0.27844834327697754 seconds ---\n"
          ],
          "name": "stdout"
        },
        {
          "output_type": "execute_result",
          "data": {
            "text/plain": [
              "[0.4591250419616699,\n",
              " 0.3818492889404297,\n",
              " 0.39760494232177734,\n",
              " 0.36750245094299316,\n",
              " 0.35492563247680664,\n",
              " 0.33977270126342773,\n",
              " 0.3259584903717041,\n",
              " 0.4186272621154785,\n",
              " 0.3471858501434326,\n",
              " 0.332714319229126,\n",
              " 0.29079604148864746,\n",
              " 0.37613344192504883,\n",
              " 0.2784895896911621]"
            ]
          },
          "metadata": {
            "tags": []
          },
          "execution_count": 43
        }
      ]
    },
    {
      "cell_type": "code",
      "metadata": {
        "id": "XTf1_nexmXgt"
      },
      "source": [
        "#plot it\r\n",
        "import seaborn as sns\r\n",
        "import pandas as pd\r\n",
        "import matplotlib.pyplot as plt\r\n"
      ],
      "execution_count": 44,
      "outputs": []
    },
    {
      "cell_type": "code",
      "metadata": {
        "id": "4uNnE7gboF5m"
      },
      "source": [
        "df = pd.DataFrame({'Fp_Growth': run_time_fp, 'Apriori' :run_time_apr, 'ECLAT' :run_time_eclat })"
      ],
      "execution_count": 45,
      "outputs": []
    },
    {
      "cell_type": "code",
      "metadata": {
        "id": "oBSpVXvZny1N",
        "colab": {
          "base_uri": "https://localhost:8080/",
          "height": 280
        },
        "outputId": "8a18feab-2258-42dc-e31b-cfedeccdbbb2"
      },
      "source": [
        "g = sns.lineplot(data=df)\r\n",
        "g.set_xticks(range(len(df))) # <--- set the ticks first\r\n",
        "g.set_xticklabels(['.01','.02', '.03','.04','.05','.06', '.07','.08','.09', '.1', '.2','.3','.4', '.5', '.6'])\r\n",
        "g.set(xlabel='Min_Support', ylabel='Time in Seconds')\r\n",
        "plt.savefig(data+\"_\"+\"Run time performance.png\")"
      ],
      "execution_count": 46,
      "outputs": [
        {
          "output_type": "display_data",
          "data": {
            "image/png": "[encoded data removed]",
            "text/plain": [
              "<Figure size 432x288 with 1 Axes>"
            ]
          },
          "metadata": {
            "tags": [],
            "needs_background": "light"
          }
        }
      ]
    }
  ]
}