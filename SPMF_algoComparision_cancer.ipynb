{
  "nbformat": 4,
  "nbformat_minor": 0,
  "metadata": {
    "colab": {
      "name": "SPMF-algoComparision_cancer.ipynb",
      "provenance": [],
      "collapsed_sections": [],
      "mount_file_id": "1x8PmFT-OOedSfDUjCcne3h07agPrn7LK",
      "authorship_tag": "ABX9TyNw7locHwpBl2hnwHVSxta7",
      "include_colab_link": true
    },
    "kernelspec": {
      "name": "python3",
      "display_name": "Python 3"
    }
  },
  "cells": [
    {
      "cell_type": "markdown",
      "metadata": {
        "id": "view-in-github",
        "colab_type": "text"
      },
      "source": [
        "<a href=\"https://colab.research.google.com/github/BlackCurrantDS/DBSE_Project/blob/main/SPMF_algoComparision_cancer.ipynb\" target=\"_parent\"><img src=\"https://colab.research.google.com/assets/colab-badge.svg\" alt=\"Open In Colab\"/></a>"
      ]
    },
    {
      "cell_type": "code",
      "metadata": {
        "colab": {
          "base_uri": "https://localhost:8080/"
        },
        "id": "r7GqZuEDjx9j",
        "outputId": "4fc726b5-7b26-4ff6-a838-4f384455c03d"
      },
      "source": [
        "pip install spmf"
      ],
      "execution_count": 130,
      "outputs": [
        {
          "output_type": "stream",
          "text": [
            "Requirement already satisfied: spmf in /usr/local/lib/python3.6/dist-packages (1.3)\n"
          ],
          "name": "stdout"
        }
      ]
    },
    {
      "cell_type": "code",
      "metadata": {
        "id": "K93Z50XAj1sl"
      },
      "source": [
        "from spmf import Spmf\r\n",
        "import pathlib"
      ],
      "execution_count": 131,
      "outputs": []
    },
    {
      "cell_type": "code",
      "metadata": {
        "id": "1Z6YYnrNlfzP"
      },
      "source": [
        "d = '/content/' #specify the folder all the input and output files are\r\n",
        "input_filename = \"/content/adult_train_transactions_rpgrowth.csv.txt\"\r\n",
        "data = \"Adult\""
      ],
      "execution_count": 132,
      "outputs": []
    },
    {
      "cell_type": "markdown",
      "metadata": {
        "id": "iX3ceGkZJQPy"
      },
      "source": [
        "ECLAT"
      ]
    },
    {
      "cell_type": "code",
      "metadata": {
        "id": "msx0-KjE105a"
      },
      "source": [
        "spmf_eclat = Spmf(\"Eclat\", input_filename=input_filename,\r\n",
        "            output_filename=\"output_eclat\", arguments=[0.01],spmf_bin_location_dir=d )"
      ],
      "execution_count": 133,
      "outputs": []
    },
    {
      "cell_type": "code",
      "metadata": {
        "id": "IggfWhIZhY_H"
      },
      "source": [
        "#spmf_eclat.run()"
      ],
      "execution_count": 134,
      "outputs": []
    },
    {
      "cell_type": "markdown",
      "metadata": {
        "id": "r0ypHKeKJUXR"
      },
      "source": [
        "Apriori"
      ]
    },
    {
      "cell_type": "code",
      "metadata": {
        "id": "szNZt4y6JaN6"
      },
      "source": [
        "spmf_apriori = Spmf(\"Apriori\", input_filename=input_filename,\r\n",
        "            output_filename=\"output_apriori\", arguments=[0.01],spmf_bin_location_dir=d )"
      ],
      "execution_count": 135,
      "outputs": []
    },
    {
      "cell_type": "code",
      "metadata": {
        "id": "EVW7PD3bJaN8"
      },
      "source": [
        "#spmf_apriori.run()"
      ],
      "execution_count": 136,
      "outputs": []
    },
    {
      "cell_type": "markdown",
      "metadata": {
        "id": "c_eeeM-8JWeK"
      },
      "source": [
        "FP-Growth"
      ]
    },
    {
      "cell_type": "code",
      "metadata": {
        "id": "y0J5N2JjJb6h"
      },
      "source": [
        "spmf_fpgrowth = Spmf(\"FPGrowth_itemsets\", input_filename=input_filename,\r\n",
        "            output_filename=\"output_FP-Growth\", arguments=[0.01],spmf_bin_location_dir=d )"
      ],
      "execution_count": 137,
      "outputs": []
    },
    {
      "cell_type": "code",
      "metadata": {
        "id": "ptOu7tsRJb6h"
      },
      "source": [
        "#spmf_fpgrowth.run()"
      ],
      "execution_count": 138,
      "outputs": []
    },
    {
      "cell_type": "markdown",
      "metadata": {
        "id": "0Jw26YSmKNvy"
      },
      "source": [
        "RunTime"
      ]
    },
    {
      "cell_type": "code",
      "metadata": {
        "id": "M-3pLpuNKO1K",
        "colab": {
          "base_uri": "https://localhost:8080/"
        },
        "outputId": "1a10d8a6-6424-4f93-fb81-64751f412e39"
      },
      "source": [
        "#Apriori\r\n",
        "min_sup = [.01, .02,.03,.04, .05,.06,.07,.08,.09, .1, .2, .5, .6]\r\n",
        "import time\r\n",
        "run_time_apr = []\r\n",
        "for i in min_sup:\r\n",
        "    print(i)\r\n",
        "    start_time = time.time()\r\n",
        "    spmf_apriori = Spmf(\"Apriori\", input_filename=input_filename,\r\n",
        "            output_filename=data+\"output_apriori\"+\"_\"+str(i), arguments=[i],spmf_bin_location_dir=d )\r\n",
        "    spmf_apriori.run()\r\n",
        "    print(\"For %i--- %s seconds ---\" %(i, time.time() - start_time))\r\n",
        "    run_time_apr.append(time.time() - start_time)\r\n",
        "  \r\n",
        "run_time_apr"
      ],
      "execution_count": 139,
      "outputs": [
        {
          "output_type": "stream",
          "text": [
            "0.01\n",
            ">/content/spmf.jar\n",
            "=============  APRIORI - STATS =============\n",
            " Candidates count : 266920\n",
            " The algorithm stopped at size 14\n",
            " Frequent itemsets count : 248696\n",
            " Maximum memory usage : 68.26435852050781 mb\n",
            " Total time ~ 179519 ms\n",
            "===================================================\n",
            "\n",
            "For 0--- 179.78141522407532 seconds ---\n",
            "0.02\n",
            ">/content/spmf.jar\n",
            "=============  APRIORI - STATS =============\n",
            " Candidates count : 94621\n",
            " The algorithm stopped at size 13\n",
            " Frequent itemsets count : 86730\n",
            " Maximum memory usage : 31.84912109375 mb\n",
            " Total time ~ 63581 ms\n",
            "===================================================\n",
            "\n",
            "For 0--- 63.83476257324219 seconds ---\n",
            "0.03\n",
            ">/content/spmf.jar\n",
            "=============  APRIORI - STATS =============\n",
            " Candidates count : 49290\n",
            " The algorithm stopped at size 13\n",
            " Frequent itemsets count : 44374\n",
            " Maximum memory usage : 35.84814453125 mb\n",
            " Total time ~ 43507 ms\n",
            "===================================================\n",
            "\n",
            "For 0--- 43.74833822250366 seconds ---\n",
            "0.04\n",
            ">/content/spmf.jar\n",
            "=============  APRIORI - STATS =============\n",
            " Candidates count : 29769\n",
            " The algorithm stopped at size 12\n",
            " Frequent itemsets count : 26704\n",
            " Maximum memory usage : 30.000518798828125 mb\n",
            " Total time ~ 29436 ms\n",
            "===================================================\n",
            "\n",
            "For 0--- 29.68315052986145 seconds ---\n",
            "0.05\n",
            ">/content/spmf.jar\n",
            "=============  APRIORI - STATS =============\n",
            " Candidates count : 20053\n",
            " The algorithm stopped at size 11\n",
            " Frequent itemsets count : 17739\n",
            " Maximum memory usage : 29.530593872070312 mb\n",
            " Total time ~ 14314 ms\n",
            "===================================================\n",
            "\n",
            "For 0--- 14.566940069198608 seconds ---\n",
            "0.06\n",
            ">/content/spmf.jar\n",
            "=============  APRIORI - STATS =============\n",
            " Candidates count : 14456\n",
            " The algorithm stopped at size 11\n",
            " Frequent itemsets count : 12818\n",
            " Maximum memory usage : 29.444557189941406 mb\n",
            " Total time ~ 11481 ms\n",
            "===================================================\n",
            "\n",
            "For 0--- 11.727183103561401 seconds ---\n",
            "0.07\n",
            ">/content/spmf.jar\n",
            "=============  APRIORI - STATS =============\n",
            " Candidates count : 10855\n",
            " The algorithm stopped at size 11\n",
            " Frequent itemsets count : 9539\n",
            " Maximum memory usage : 31.429283142089844 mb\n",
            " Total time ~ 10869 ms\n",
            "===================================================\n",
            "\n",
            "For 0--- 11.120217084884644 seconds ---\n",
            "0.08\n",
            ">/content/spmf.jar\n",
            "=============  APRIORI - STATS =============\n",
            " Candidates count : 8310\n",
            " The algorithm stopped at size 10\n",
            " Frequent itemsets count : 7246\n",
            " Maximum memory usage : 31.49932861328125 mb\n",
            " Total time ~ 8409 ms\n",
            "===================================================\n",
            "\n",
            "For 0--- 8.651647090911865 seconds ---\n",
            "0.09\n",
            ">/content/spmf.jar\n",
            "=============  APRIORI - STATS =============\n",
            " Candidates count : 6593\n",
            " The algorithm stopped at size 10\n",
            " Frequent itemsets count : 5640\n",
            " Maximum memory usage : 29.681312561035156 mb\n",
            " Total time ~ 7265 ms\n",
            "===================================================\n",
            "\n",
            "For 0--- 7.523767948150635 seconds ---\n",
            "0.1\n",
            ">/content/spmf.jar\n",
            "=============  APRIORI - STATS =============\n",
            " Candidates count : 5422\n",
            " The algorithm stopped at size 10\n",
            " Frequent itemsets count : 4575\n",
            " Maximum memory usage : 30.923622131347656 mb\n",
            " Total time ~ 7146 ms\n",
            "===================================================\n",
            "\n",
            "For 0--- 7.402907848358154 seconds ---\n",
            "0.2\n",
            ">/content/spmf.jar\n",
            "=============  APRIORI - STATS =============\n",
            " Candidates count : 1114\n",
            " The algorithm stopped at size 8\n",
            " Frequent itemsets count : 937\n",
            " Maximum memory usage : 29.99932861328125 mb\n",
            " Total time ~ 2111 ms\n",
            "===================================================\n",
            "\n",
            "For 0--- 2.3686327934265137 seconds ---\n",
            "0.5\n",
            ">/content/spmf.jar\n",
            "=============  APRIORI - STATS =============\n",
            " Candidates count : 80\n",
            " The algorithm stopped at size 6\n",
            " Frequent itemsets count : 70\n",
            " Maximum memory usage : 30.976600646972656 mb\n",
            " Total time ~ 686 ms\n",
            "===================================================\n",
            "\n",
            "For 0--- 0.9388949871063232 seconds ---\n",
            "0.6\n",
            ">/content/spmf.jar\n",
            "=============  APRIORI - STATS =============\n",
            " Candidates count : 45\n",
            " The algorithm stopped at size 5\n",
            " Frequent itemsets count : 37\n",
            " Maximum memory usage : 28.847915649414062 mb\n",
            " Total time ~ 634 ms\n",
            "===================================================\n",
            "\n",
            "For 0--- 0.8894085884094238 seconds ---\n"
          ],
          "name": "stdout"
        },
        {
          "output_type": "execute_result",
          "data": {
            "text/plain": [
              "[179.7814953327179,\n",
              " 63.834840059280396,\n",
              " 43.74837803840637,\n",
              " 29.6832058429718,\n",
              " 14.566987037658691,\n",
              " 11.727226734161377,\n",
              " 11.120272397994995,\n",
              " 8.651692152023315,\n",
              " 7.523810148239136,\n",
              " 7.402951002120972,\n",
              " 2.3686864376068115,\n",
              " 0.9389245510101318,\n",
              " 0.8894524574279785]"
            ]
          },
          "metadata": {
            "tags": []
          },
          "execution_count": 139
        }
      ]
    },
    {
      "cell_type": "code",
      "metadata": {
        "id": "a4i_umMXKxlD",
        "colab": {
          "base_uri": "https://localhost:8080/"
        },
        "outputId": "b69d0099-208e-4a90-8205-da8d0438864c"
      },
      "source": [
        "#EClat\r\n",
        "\r\n",
        "import time\r\n",
        "run_time_eclat = []\r\n",
        "for i in min_sup:\r\n",
        "    print(i)\r\n",
        "    start_time = time.time()\r\n",
        "    spmf_eclat = Spmf(\"Eclat\", input_filename=input_filename,\r\n",
        "            output_filename=data+\"output_Eclat\"+\"_\"+str(i), arguments=[i],spmf_bin_location_dir=d )\r\n",
        "    spmf_eclat.run()\r\n",
        "    print(\"For %i--- %s seconds ---\" %(i, time.time() - start_time))\r\n",
        "    run_time_eclat.append(time.time() - start_time)\r\n",
        "  \r\n",
        "run_time_eclat"
      ],
      "execution_count": 140,
      "outputs": [
        {
          "output_type": "stream",
          "text": [
            "0.01\n",
            ">/content/spmf.jar\n",
            "=============  ECLAT v0.96r18 - STATS =============\n",
            " Transactions count from database : 32561\n",
            " Frequent itemsets count : 248696\n",
            " Total time ~ 19837 ms\n",
            " Maximum memory usage : 318.3427734375 mb\n",
            "===================================================\n",
            "\n",
            "For 0--- 20.423239707946777 seconds ---\n",
            "0.02\n",
            ">/content/spmf.jar\n",
            "=============  ECLAT v0.96r18 - STATS =============\n",
            " Transactions count from database : 32561\n",
            " Frequent itemsets count : 86730\n",
            " Total time ~ 12471 ms\n",
            " Maximum memory usage : 580.1953125 mb\n",
            "===================================================\n",
            "\n",
            "For 0--- 13.138113498687744 seconds ---\n",
            "0.03\n",
            ">/content/spmf.jar\n",
            "=============  ECLAT v0.96r18 - STATS =============\n",
            " Transactions count from database : 32561\n",
            " Frequent itemsets count : 44374\n",
            " Total time ~ 9271 ms\n",
            " Maximum memory usage : 577.1953125 mb\n",
            "===================================================\n",
            "\n",
            "For 0--- 9.854173421859741 seconds ---\n",
            "0.04\n",
            ">/content/spmf.jar\n",
            "=============  ECLAT v0.96r18 - STATS =============\n",
            " Transactions count from database : 32561\n",
            " Frequent itemsets count : 26704\n",
            " Total time ~ 7277 ms\n",
            " Maximum memory usage : 563.1953125 mb\n",
            "===================================================\n",
            "\n",
            "For 0--- 7.848989725112915 seconds ---\n",
            "0.05\n",
            ">/content/spmf.jar\n",
            "=============  ECLAT v0.96r18 - STATS =============\n",
            " Transactions count from database : 32561\n",
            " Frequent itemsets count : 17739\n",
            " Total time ~ 6431 ms\n",
            " Maximum memory usage : 586.1581344604492 mb\n",
            "===================================================\n",
            "\n",
            "For 0--- 7.002892971038818 seconds ---\n",
            "0.06\n",
            ">/content/spmf.jar\n",
            "=============  ECLAT v0.96r18 - STATS =============\n",
            " Transactions count from database : 32561\n",
            " Frequent itemsets count : 12818\n",
            " Total time ~ 5150 ms\n",
            " Maximum memory usage : 570.12744140625 mb\n",
            "===================================================\n",
            "\n",
            "For 0--- 5.710143089294434 seconds ---\n",
            "0.07\n",
            ">/content/spmf.jar\n",
            "=============  ECLAT v0.96r18 - STATS =============\n",
            " Transactions count from database : 32561\n",
            " Frequent itemsets count : 9539\n",
            " Total time ~ 4514 ms\n",
            " Maximum memory usage : 578.9936676025391 mb\n",
            "===================================================\n",
            "\n",
            "For 0--- 5.09052586555481 seconds ---\n",
            "0.08\n",
            ">/content/spmf.jar\n",
            "=============  ECLAT v0.96r18 - STATS =============\n",
            " Transactions count from database : 32561\n",
            " Frequent itemsets count : 7246\n",
            " Total time ~ 4048 ms\n",
            " Maximum memory usage : 566.8381652832031 mb\n",
            "===================================================\n",
            "\n",
            "For 0--- 4.639667272567749 seconds ---\n",
            "0.09\n",
            ">/content/spmf.jar\n",
            "=============  ECLAT v0.96r18 - STATS =============\n",
            " Transactions count from database : 32561\n",
            " Frequent itemsets count : 5640\n",
            " Total time ~ 3559 ms\n",
            " Maximum memory usage : 576.33935546875 mb\n",
            "===================================================\n",
            "\n",
            "For 0--- 4.1397504806518555 seconds ---\n",
            "0.1\n",
            ">/content/spmf.jar\n",
            "=============  ECLAT v0.96r18 - STATS =============\n",
            " Transactions count from database : 32561\n",
            " Frequent itemsets count : 4575\n",
            " Total time ~ 3322 ms\n",
            " Maximum memory usage : 587.8392333984375 mb\n",
            "===================================================\n",
            "\n",
            "For 0--- 3.896329879760742 seconds ---\n",
            "0.2\n",
            ">/content/spmf.jar\n",
            "=============  ECLAT v0.96r18 - STATS =============\n",
            " Transactions count from database : 32561\n",
            " Frequent itemsets count : 937\n",
            " Total time ~ 1612 ms\n",
            " Maximum memory usage : 382.08648681640625 mb\n",
            "===================================================\n",
            "\n",
            "For 0--- 2.174046277999878 seconds ---\n",
            "0.5\n",
            ">/content/spmf.jar\n",
            "=============  ECLAT v0.96r18 - STATS =============\n",
            " Transactions count from database : 32561\n",
            " Frequent itemsets count : 70\n",
            " Total time ~ 604 ms\n",
            " Maximum memory usage : 63.53350830078125 mb\n",
            "===================================================\n",
            "\n",
            "For 0--- 1.141554594039917 seconds ---\n",
            "0.6\n",
            ">/content/spmf.jar\n",
            "=============  ECLAT v0.96r18 - STATS =============\n",
            " Transactions count from database : 32561\n",
            " Frequent itemsets count : 37\n",
            " Total time ~ 511 ms\n",
            " Maximum memory usage : 53.74269104003906 mb\n",
            "===================================================\n",
            "\n",
            "For 0--- 1.0533993244171143 seconds ---\n"
          ],
          "name": "stdout"
        },
        {
          "output_type": "execute_result",
          "data": {
            "text/plain": [
              "[20.423276662826538,\n",
              " 13.138163805007935,\n",
              " 9.854204177856445,\n",
              " 7.8490307331085205,\n",
              " 7.002931356430054,\n",
              " 5.710171222686768,\n",
              " 5.090566158294678,\n",
              " 4.639729261398315,\n",
              " 4.139779090881348,\n",
              " 3.896373748779297,\n",
              " 2.174095630645752,\n",
              " 1.1416075229644775,\n",
              " 1.0534439086914062]"
            ]
          },
          "metadata": {
            "tags": []
          },
          "execution_count": 140
        }
      ]
    },
    {
      "cell_type": "code",
      "metadata": {
        "id": "CaLU-mheK-As",
        "colab": {
          "base_uri": "https://localhost:8080/"
        },
        "outputId": "429d7246-841b-47f9-932c-f3f78959ff3f"
      },
      "source": [
        "#fp-grwoth\r\n",
        "\r\n",
        "import time\r\n",
        "run_time_fp = []\r\n",
        "for i in min_sup:\r\n",
        "    print(i)\r\n",
        "    start_time = time.time()\r\n",
        "    spmf_fp = Spmf(\"FPGrowth_itemsets\", input_filename=input_filename,\r\n",
        "            output_filename=data+\"output_fp\"+\"_\"+str(i), arguments=[i],spmf_bin_location_dir=d )\r\n",
        "    spmf_fp.run()\r\n",
        "    print(\"For %i--- %s seconds ---\" %(i, time.time() - start_time))\r\n",
        "    run_time_fp.append(time.time() - start_time)\r\n",
        "  \r\n",
        "run_time_fp"
      ],
      "execution_count": 141,
      "outputs": [
        {
          "output_type": "stream",
          "text": [
            "0.01\n",
            ">/content/spmf.jar\n",
            "=============  FP-GROWTH 2.42 - STATS =============\n",
            " Transactions count from database : 32561\n",
            " Max memory usage: 128.26922607421875 mb \n",
            " Frequent itemsets count : 248696\n",
            " Total time ~ 2577 ms\n",
            "===================================================\n",
            "\n",
            "For 0--- 2.842489719390869 seconds ---\n",
            "0.02\n",
            ">/content/spmf.jar\n",
            "=============  FP-GROWTH 2.42 - STATS =============\n",
            " Transactions count from database : 32561\n",
            " Max memory usage: 67.17573547363281 mb \n",
            " Frequent itemsets count : 86730\n",
            " Total time ~ 2007 ms\n",
            "===================================================\n",
            "\n",
            "For 0--- 2.273427724838257 seconds ---\n",
            "0.03\n",
            ">/content/spmf.jar\n",
            "=============  FP-GROWTH 2.42 - STATS =============\n",
            " Transactions count from database : 32561\n",
            " Max memory usage: 54.3076171875 mb \n",
            " Frequent itemsets count : 44374\n",
            " Total time ~ 2026 ms\n",
            "===================================================\n",
            "\n",
            "For 0--- 2.289583683013916 seconds ---\n",
            "0.04\n",
            ">/content/spmf.jar\n",
            "=============  FP-GROWTH 2.42 - STATS =============\n",
            " Transactions count from database : 32561\n",
            " Max memory usage: 48.062530517578125 mb \n",
            " Frequent itemsets count : 26704\n",
            " Total time ~ 1437 ms\n",
            "===================================================\n",
            "\n",
            "For 0--- 1.7107412815093994 seconds ---\n",
            "0.05\n",
            ">/content/spmf.jar\n",
            "=============  FP-GROWTH 2.42 - STATS =============\n",
            " Transactions count from database : 32561\n",
            " Max memory usage: 32.167449951171875 mb \n",
            " Frequent itemsets count : 17739\n",
            " Total time ~ 1528 ms\n",
            "===================================================\n",
            "\n",
            "For 0--- 1.7925221920013428 seconds ---\n",
            "0.06\n",
            ">/content/spmf.jar\n",
            "=============  FP-GROWTH 2.42 - STATS =============\n",
            " Transactions count from database : 32561\n",
            " Max memory usage: 12.370208740234375 mb \n",
            " Frequent itemsets count : 12818\n",
            " Total time ~ 1134 ms\n",
            "===================================================\n",
            "\n",
            "For 0--- 1.3905038833618164 seconds ---\n",
            "0.07\n",
            ">/content/spmf.jar\n",
            "=============  FP-GROWTH 2.42 - STATS =============\n",
            " Transactions count from database : 32561\n",
            " Max memory usage: 9.9051513671875 mb \n",
            " Frequent itemsets count : 9539\n",
            " Total time ~ 1404 ms\n",
            "===================================================\n",
            "\n",
            "For 0--- 1.6720340251922607 seconds ---\n",
            "0.08\n",
            ">/content/spmf.jar\n",
            "=============  FP-GROWTH 2.42 - STATS =============\n",
            " Transactions count from database : 32561\n",
            " Max memory usage: 118.64451599121094 mb \n",
            " Frequent itemsets count : 7246\n",
            " Total time ~ 1140 ms\n",
            "===================================================\n",
            "\n",
            "For 0--- 1.3997247219085693 seconds ---\n",
            "0.09\n",
            ">/content/spmf.jar\n",
            "=============  FP-GROWTH 2.42 - STATS =============\n",
            " Transactions count from database : 32561\n",
            " Max memory usage: 110.64469909667969 mb \n",
            " Frequent itemsets count : 5640\n",
            " Total time ~ 997 ms\n",
            "===================================================\n",
            "\n",
            "For 0--- 1.2638418674468994 seconds ---\n",
            "0.1\n",
            ">/content/spmf.jar\n",
            "=============  FP-GROWTH 2.42 - STATS =============\n",
            " Transactions count from database : 32561\n",
            " Max memory usage: 107.64454650878906 mb \n",
            " Frequent itemsets count : 4575\n",
            " Total time ~ 1156 ms\n",
            "===================================================\n",
            "\n",
            "For 0--- 1.4284534454345703 seconds ---\n",
            "0.2\n",
            ">/content/spmf.jar\n",
            "=============  FP-GROWTH 2.42 - STATS =============\n",
            " Transactions count from database : 32561\n",
            " Max memory usage: 89.13084411621094 mb \n",
            " Frequent itemsets count : 937\n",
            " Total time ~ 891 ms\n",
            "===================================================\n",
            "\n",
            "For 0--- 1.1479301452636719 seconds ---\n",
            "0.5\n",
            ">/content/spmf.jar\n",
            "=============  FP-GROWTH 2.42 - STATS =============\n",
            " Transactions count from database : 32561\n",
            " Max memory usage: 79.154296875 mb \n",
            " Frequent itemsets count : 70\n",
            " Total time ~ 610 ms\n",
            "===================================================\n",
            "\n",
            "For 0--- 0.8577258586883545 seconds ---\n",
            "0.6\n",
            ">/content/spmf.jar\n",
            "=============  FP-GROWTH 2.42 - STATS =============\n",
            " Transactions count from database : 32561\n",
            " Max memory usage: 84.14649963378906 mb \n",
            " Frequent itemsets count : 37\n",
            " Total time ~ 680 ms\n",
            "===================================================\n",
            "\n",
            "For 0--- 0.9501330852508545 seconds ---\n"
          ],
          "name": "stdout"
        },
        {
          "output_type": "execute_result",
          "data": {
            "text/plain": [
              "[2.842543125152588,\n",
              " 2.273467540740967,\n",
              " 2.289612293243408,\n",
              " 1.7107830047607422,\n",
              " 1.792585849761963,\n",
              " 1.3905441761016846,\n",
              " 1.6720774173736572,\n",
              " 1.399782657623291,\n",
              " 1.2638843059539795,\n",
              " 1.428481101989746,\n",
              " 1.1479690074920654,\n",
              " 0.8577535152435303,\n",
              " 0.9501791000366211]"
            ]
          },
          "metadata": {
            "tags": []
          },
          "execution_count": 141
        }
      ]
    },
    {
      "cell_type": "code",
      "metadata": {
        "id": "XTf1_nexmXgt"
      },
      "source": [
        "#plot it\r\n",
        "import seaborn as sns\r\n",
        "import pandas as pd\r\n",
        "import matplotlib.pyplot as plt\r\n"
      ],
      "execution_count": 142,
      "outputs": []
    },
    {
      "cell_type": "code",
      "metadata": {
        "id": "4uNnE7gboF5m"
      },
      "source": [
        "df = pd.DataFrame({'Fp_Growth': run_time_fp, 'Apriori' :run_time_apr, 'ECLAT' :run_time_eclat })"
      ],
      "execution_count": 143,
      "outputs": []
    },
    {
      "cell_type": "code",
      "metadata": {
        "id": "oBSpVXvZny1N",
        "colab": {
          "base_uri": "https://localhost:8080/",
          "height": 280
        },
        "outputId": "d2da2161-9143-4b1a-9b4e-150ef1fa4b2e"
      },
      "source": [
        "g = sns.lineplot(data=df)\r\n",
        "g.set_xticks(range(len(df))) # <--- set the ticks first\r\n",
        "g.set_xticklabels(['.01','.02', '.03','.04','.05','.06', '.07','.08','.09', '.1', '.2','.3','.4', '.5', '.6'])\r\n",
        "g.set(xlabel='Min_Support', ylabel='Time in Seconds')\r\n",
        "plt.savefig(data+\"_\"+\"Run time performance.png\")"
      ],
      "execution_count": 144,
      "outputs": [
        {
          "output_type": "display_data",
          "data": {
            "image/png": "[encoded data removed]",
            "text/plain": [
              "<Figure size 432x288 with 1 Axes>"
            ]
          },
          "metadata": {
            "tags": [],
            "needs_background": "light"
          }
        }
      ]
    },
    {
      "cell_type": "markdown",
      "metadata": {
        "id": "rEshz8OwpwLP"
      },
      "source": [
        "Plotting number of itemset per support"
      ]
    },
    {
      "cell_type": "code",
      "metadata": {
        "id": "MUCT6gV_qMDe"
      },
      "source": [
        "adult_no = [248696\r\n",
        ",86730\r\n",
        ",44374\r\n",
        ",26704\r\n",
        ",17739\r\n",
        ",12818\r\n",
        ",9539\r\n",
        ",7246\r\n",
        ",5640\r\n",
        ",4575\r\n",
        ",937\r\n",
        ",70\r\n",
        ",37]"
      ],
      "execution_count": 147,
      "outputs": []
    },
    {
      "cell_type": "code",
      "metadata": {
        "id": "kr1WN4W0p0jo"
      },
      "source": [
        "df_itemset = pd.DataFrame({'No': adult_no })"
      ],
      "execution_count": 148,
      "outputs": []
    },
    {
      "cell_type": "code",
      "metadata": {
        "colab": {
          "base_uri": "https://localhost:8080/",
          "height": 280
        },
        "id": "ck3YuBisqtBo",
        "outputId": "5713fbdf-a0e9-4ff0-e7d3-898a62ceb818"
      },
      "source": [
        "g = sns.lineplot(data=df_itemset)\r\n",
        "#g.set_xticks(range(len(df_itemset))) # <--- set the ticks first\r\n",
        "g.set_xticklabels(['.01','.02', '.03','.04','.05','.06', '.07','.08','.09', '.1', '.2','.3','.4', '.5', '.6'])\r\n",
        "g.set(xlabel='Min_Support', ylabel='Number of ItemSets Generated')\r\n",
        "plt.savefig(data+\"_\"+\"MinSupportVsNoOfItemsets.png\")"
      ],
      "execution_count": 150,
      "outputs": [
        {
          "output_type": "display_data",
          "data": {
            "image/png": "[encoded data removed]",
            "text/plain": [
              "<Figure size 432x288 with 1 Axes>"
            ]
          },
          "metadata": {
            "tags": [],
            "needs_background": "light"
          }
        }
      ]
    }
  ]
}