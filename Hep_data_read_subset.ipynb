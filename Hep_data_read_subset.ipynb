{
  "nbformat": 4,
  "nbformat_minor": 0,
  "metadata": {
    "colab": {
      "name": "Hep_data_read_subset.ipynb",
      "provenance": [],
      "mount_file_id": "1eUDbAnKSSE8WVDuvkMwhO1elUcRNW86c",
      "authorship_tag": "ABX9TyNYUexr0rLeFCz1jy2cmIvI",
      "include_colab_link": true
    },
    "kernelspec": {
      "name": "python3",
      "display_name": "Python 3"
    }
  },
  "cells": [
    {
      "cell_type": "markdown",
      "metadata": {
        "id": "view-in-github",
        "colab_type": "text"
      },
      "source": [
        "<a href=\"https://colab.research.google.com/github/BlackCurrantDS/DBSE_Project/blob/main/Hep_data_read_subset.ipynb\" target=\"_parent\"><img src=\"https://colab.research.google.com/assets/colab-badge.svg\" alt=\"Open In Colab\"/></a>"
      ]
    },
    {
      "cell_type": "markdown",
      "metadata": {
        "id": "86iMaQxaOxRp"
      },
      "source": [
        "Attribute information: \r\n",
        "     1. Class: DIE, LIVE\r\n",
        "     2. AGE: 10, 20, 30, 40, 50, 60, 70, 80\r\n",
        "     3. SEX: male, female\r\n",
        "     4. STEROID: no, yes\r\n",
        "     5. ANTIVIRALS: no, yes\r\n",
        "     6. FATIGUE: no, yes\r\n",
        "     7. MALAISE: no, yes\r\n",
        "     8. ANOREXIA: no, yes\r\n",
        "     9. LIVER BIG: no, yes\r\n",
        "    10. LIVER FIRM: no, yes\r\n",
        "    11. SPLEEN PALPABLE: no, yes\r\n",
        "    12. SPIDERS: no, yes\r\n",
        "    13. ASCITES: no, yes\r\n",
        "    14. VARICES: no, yes\r\n",
        "    15. BILIRUBIN: 0.39, 0.80, 1.20, 2.00, 3.00, 4.00\r\n",
        "        -- see the note below\r\n",
        "    16. ALK PHOSPHATE: 33, 80, 120, 160, 200, 250\r\n",
        "    17. SGOT: 13, 100, 200, 300, 400, 500, \r\n",
        "    18. ALBUMIN: 2.1, 3.0, 3.8, 4.5, 5.0, 6.0\r\n",
        "    19. PROTIME: 10, 20, 30, 40, 50, 60, 70, 80, 90\r\n",
        "    20. HISTOLOGY: no, yes"
      ]
    },
    {
      "cell_type": "code",
      "metadata": {
        "colab": {
          "base_uri": "https://localhost:8080/"
        },
        "id": "bXHhOJ4ENVN0",
        "outputId": "ecfe327d-5f6d-4b7a-c627-a1252a361f40"
      },
      "source": [
        "import pandas as pd\r\n",
        "\r\n",
        "df = pd.read_csv(\r\n",
        "    'https://archive.ics.uci.edu/ml/machine-learning-databases/hepatitis/hepatitis.data', \r\n",
        "    sep=',', \r\n",
        "    header=None,\r\n",
        "    names = ['class'\r\n",
        "    ,'AGE'\r\n",
        "    ,'SEX'\r\n",
        "    ,'STEROID'\r\n",
        "    ,'ANTIVIRALS'\r\n",
        "    ,'FATIGUE'\r\n",
        "    ,'MALAISE'\r\n",
        "    ,'ANOREXIA'\r\n",
        "    ,'LIVER BIG'\r\n",
        "    ,'LIVER FIRM'\r\n",
        "    ,'SPLEEN PALPABLE'\r\n",
        "    ,'SPIDERS'\r\n",
        "    ,'ASCITES'\r\n",
        "    ,'VARICES'\r\n",
        "    ,'BILIRUBIN'\r\n",
        "    ,'ALK PHOSPHATE'\r\n",
        "    ,'SGOT'\r\n",
        "    ,'ALBUMIN'\r\n",
        "    ,'PROTIME'\r\n",
        "    ,'HISTOLOGY']\r\n",
        ")\r\n",
        "\r\n",
        "print(df)"
      ],
      "execution_count": 157,
      "outputs": [
        {
          "output_type": "stream",
          "text": [
            "     class  AGE  SEX STEROID  ...  SGOT ALBUMIN PROTIME HISTOLOGY\n",
            "0        2   30    2       1  ...    18     4.0       ?         1\n",
            "1        2   50    1       1  ...    42     3.5       ?         1\n",
            "2        2   78    1       2  ...    32     4.0       ?         1\n",
            "3        2   31    1       ?  ...    52     4.0      80         1\n",
            "4        2   34    1       2  ...   200     4.0       ?         1\n",
            "..     ...  ...  ...     ...  ...   ...     ...     ...       ...\n",
            "150      1   46    1       2  ...   242     3.3      50         2\n",
            "151      2   44    1       2  ...   142     4.3       ?         2\n",
            "152      2   61    1       1  ...    20     4.1       ?         2\n",
            "153      2   53    2       1  ...    19     4.1      48         2\n",
            "154      1   43    1       2  ...    19     3.1      42         2\n",
            "\n",
            "[155 rows x 20 columns]\n"
          ],
          "name": "stdout"
        }
      ]
    },
    {
      "cell_type": "code",
      "metadata": {
        "id": "Vc26gICvnW7J"
      },
      "source": [
        "df.to_csv(\"/content/drive/MyDrive/Hep_DataSet/hep_data_original.csv\")"
      ],
      "execution_count": 158,
      "outputs": []
    },
    {
      "cell_type": "code",
      "metadata": {
        "colab": {
          "base_uri": "https://localhost:8080/",
          "height": 232
        },
        "id": "N3gi3bAWnBPM",
        "outputId": "c813f6af-cf73-4dd0-f6a5-3cf3df59b60c"
      },
      "source": [
        "df.head(5)"
      ],
      "execution_count": 159,
      "outputs": [
        {
          "output_type": "execute_result",
          "data": {
            "text/html": [
              "<div>\n",
              "<style scoped>\n",
              "    .dataframe tbody tr th:only-of-type {\n",
              "        vertical-align: middle;\n",
              "    }\n",
              "\n",
              "    .dataframe tbody tr th {\n",
              "        vertical-align: top;\n",
              "    }\n",
              "\n",
              "    .dataframe thead th {\n",
              "        text-align: right;\n",
              "    }\n",
              "</style>\n",
              "<table border=\"1\" class=\"dataframe\">\n",
              "  <thead>\n",
              "    <tr style=\"text-align: right;\">\n",
              "      <th></th>\n",
              "      <th>class</th>\n",
              "      <th>AGE</th>\n",
              "      <th>SEX</th>\n",
              "      <th>STEROID</th>\n",
              "      <th>ANTIVIRALS</th>\n",
              "      <th>FATIGUE</th>\n",
              "      <th>MALAISE</th>\n",
              "      <th>ANOREXIA</th>\n",
              "      <th>LIVER BIG</th>\n",
              "      <th>LIVER FIRM</th>\n",
              "      <th>SPLEEN PALPABLE</th>\n",
              "      <th>SPIDERS</th>\n",
              "      <th>ASCITES</th>\n",
              "      <th>VARICES</th>\n",
              "      <th>BILIRUBIN</th>\n",
              "      <th>ALK PHOSPHATE</th>\n",
              "      <th>SGOT</th>\n",
              "      <th>ALBUMIN</th>\n",
              "      <th>PROTIME</th>\n",
              "      <th>HISTOLOGY</th>\n",
              "    </tr>\n",
              "  </thead>\n",
              "  <tbody>\n",
              "    <tr>\n",
              "      <th>0</th>\n",
              "      <td>2</td>\n",
              "      <td>30</td>\n",
              "      <td>2</td>\n",
              "      <td>1</td>\n",
              "      <td>2</td>\n",
              "      <td>2</td>\n",
              "      <td>2</td>\n",
              "      <td>2</td>\n",
              "      <td>1</td>\n",
              "      <td>2</td>\n",
              "      <td>2</td>\n",
              "      <td>2</td>\n",
              "      <td>2</td>\n",
              "      <td>2</td>\n",
              "      <td>1.00</td>\n",
              "      <td>85</td>\n",
              "      <td>18</td>\n",
              "      <td>4.0</td>\n",
              "      <td>?</td>\n",
              "      <td>1</td>\n",
              "    </tr>\n",
              "    <tr>\n",
              "      <th>1</th>\n",
              "      <td>2</td>\n",
              "      <td>50</td>\n",
              "      <td>1</td>\n",
              "      <td>1</td>\n",
              "      <td>2</td>\n",
              "      <td>1</td>\n",
              "      <td>2</td>\n",
              "      <td>2</td>\n",
              "      <td>1</td>\n",
              "      <td>2</td>\n",
              "      <td>2</td>\n",
              "      <td>2</td>\n",
              "      <td>2</td>\n",
              "      <td>2</td>\n",
              "      <td>0.90</td>\n",
              "      <td>135</td>\n",
              "      <td>42</td>\n",
              "      <td>3.5</td>\n",
              "      <td>?</td>\n",
              "      <td>1</td>\n",
              "    </tr>\n",
              "    <tr>\n",
              "      <th>2</th>\n",
              "      <td>2</td>\n",
              "      <td>78</td>\n",
              "      <td>1</td>\n",
              "      <td>2</td>\n",
              "      <td>2</td>\n",
              "      <td>1</td>\n",
              "      <td>2</td>\n",
              "      <td>2</td>\n",
              "      <td>2</td>\n",
              "      <td>2</td>\n",
              "      <td>2</td>\n",
              "      <td>2</td>\n",
              "      <td>2</td>\n",
              "      <td>2</td>\n",
              "      <td>0.70</td>\n",
              "      <td>96</td>\n",
              "      <td>32</td>\n",
              "      <td>4.0</td>\n",
              "      <td>?</td>\n",
              "      <td>1</td>\n",
              "    </tr>\n",
              "    <tr>\n",
              "      <th>3</th>\n",
              "      <td>2</td>\n",
              "      <td>31</td>\n",
              "      <td>1</td>\n",
              "      <td>?</td>\n",
              "      <td>1</td>\n",
              "      <td>2</td>\n",
              "      <td>2</td>\n",
              "      <td>2</td>\n",
              "      <td>2</td>\n",
              "      <td>2</td>\n",
              "      <td>2</td>\n",
              "      <td>2</td>\n",
              "      <td>2</td>\n",
              "      <td>2</td>\n",
              "      <td>0.70</td>\n",
              "      <td>46</td>\n",
              "      <td>52</td>\n",
              "      <td>4.0</td>\n",
              "      <td>80</td>\n",
              "      <td>1</td>\n",
              "    </tr>\n",
              "    <tr>\n",
              "      <th>4</th>\n",
              "      <td>2</td>\n",
              "      <td>34</td>\n",
              "      <td>1</td>\n",
              "      <td>2</td>\n",
              "      <td>2</td>\n",
              "      <td>2</td>\n",
              "      <td>2</td>\n",
              "      <td>2</td>\n",
              "      <td>2</td>\n",
              "      <td>2</td>\n",
              "      <td>2</td>\n",
              "      <td>2</td>\n",
              "      <td>2</td>\n",
              "      <td>2</td>\n",
              "      <td>1.00</td>\n",
              "      <td>?</td>\n",
              "      <td>200</td>\n",
              "      <td>4.0</td>\n",
              "      <td>?</td>\n",
              "      <td>1</td>\n",
              "    </tr>\n",
              "  </tbody>\n",
              "</table>\n",
              "</div>"
            ],
            "text/plain": [
              "   class  AGE  SEX STEROID  ...  SGOT ALBUMIN PROTIME HISTOLOGY\n",
              "0      2   30    2       1  ...    18     4.0       ?         1\n",
              "1      2   50    1       1  ...    42     3.5       ?         1\n",
              "2      2   78    1       2  ...    32     4.0       ?         1\n",
              "3      2   31    1       ?  ...    52     4.0      80         1\n",
              "4      2   34    1       2  ...   200     4.0       ?         1\n",
              "\n",
              "[5 rows x 20 columns]"
            ]
          },
          "metadata": {
            "tags": []
          },
          "execution_count": 159
        }
      ]
    },
    {
      "cell_type": "code",
      "metadata": {
        "id": "rWu0OBVqlC8K"
      },
      "source": [
        "#can comment as per the needs\r\n",
        "df = df.drop(columns=['BILIRUBIN', 'ALK PHOSPHATE', 'SGOT', 'ALBUMIN', 'PROTIME'])"
      ],
      "execution_count": 160,
      "outputs": []
    },
    {
      "cell_type": "code",
      "metadata": {
        "colab": {
          "base_uri": "https://localhost:8080/",
          "height": 35
        },
        "id": "WcrvKxW8pQpz",
        "outputId": "9ef23f98-919d-4975-f867-de10942e7655"
      },
      "source": [
        "\"\"\"import numpy as np\r\n",
        "for col in df.columns:\r\n",
        "  df[col] = df[col].replace('?', np.NaN)\"\"\""
      ],
      "execution_count": 161,
      "outputs": [
        {
          "output_type": "execute_result",
          "data": {
            "application/vnd.google.colaboratory.intrinsic+json": {
              "type": "string"
            },
            "text/plain": [
              "\"import numpy as np\\nfor col in df.columns:\\n  df[col] = df[col].replace('?', np.NaN)\""
            ]
          },
          "metadata": {
            "tags": []
          },
          "execution_count": 161
        }
      ]
    },
    {
      "cell_type": "code",
      "metadata": {
        "id": "_ur6sFEsqRi7"
      },
      "source": [
        "missing = pd.isnull(df).sum()"
      ],
      "execution_count": 162,
      "outputs": []
    },
    {
      "cell_type": "code",
      "metadata": {
        "colab": {
          "base_uri": "https://localhost:8080/"
        },
        "id": "86rT76gls7T4",
        "outputId": "5f245413-fadf-475d-d3f5-859be3b46b37"
      },
      "source": [
        "missing"
      ],
      "execution_count": 163,
      "outputs": [
        {
          "output_type": "execute_result",
          "data": {
            "text/plain": [
              "class              0\n",
              "AGE                0\n",
              "SEX                0\n",
              "STEROID            0\n",
              "ANTIVIRALS         0\n",
              "FATIGUE            0\n",
              "MALAISE            0\n",
              "ANOREXIA           0\n",
              "LIVER BIG          0\n",
              "LIVER FIRM         0\n",
              "SPLEEN PALPABLE    0\n",
              "SPIDERS            0\n",
              "ASCITES            0\n",
              "VARICES            0\n",
              "HISTOLOGY          0\n",
              "dtype: int64"
            ]
          },
          "metadata": {
            "tags": []
          },
          "execution_count": 163
        }
      ]
    },
    {
      "cell_type": "code",
      "metadata": {
        "colab": {
          "base_uri": "https://localhost:8080/"
        },
        "id": "u0LFQnudt3A4",
        "outputId": "0e36825f-c672-4ab1-91ea-f5bf0b521043"
      },
      "source": [
        "df.columns[df.isna().any()].tolist()"
      ],
      "execution_count": 164,
      "outputs": [
        {
          "output_type": "execute_result",
          "data": {
            "text/plain": [
              "[]"
            ]
          },
          "metadata": {
            "tags": []
          },
          "execution_count": 164
        }
      ]
    },
    {
      "cell_type": "code",
      "metadata": {
        "colab": {
          "base_uri": "https://localhost:8080/",
          "height": 35
        },
        "id": "qsj2YYnxqiyp",
        "outputId": "11dfcb09-9fd3-4271-e5b8-cf80b17ade81"
      },
      "source": [
        "\"\"\"for i,n in enumerate(missing):\r\n",
        "  if n > 5:\r\n",
        "    df.iloc[:, i] = df.iloc[:, i].fillna((df.iloc[:, i].mean()))\"\"\""
      ],
      "execution_count": 165,
      "outputs": [
        {
          "output_type": "execute_result",
          "data": {
            "application/vnd.google.colaboratory.intrinsic+json": {
              "type": "string"
            },
            "text/plain": [
              "'for i,n in enumerate(missing):\\n  if n > 5:\\n    df.iloc[:, i] = df.iloc[:, i].fillna((df.iloc[:, i].mean()))'"
            ]
          },
          "metadata": {
            "tags": []
          },
          "execution_count": 165
        }
      ]
    },
    {
      "cell_type": "code",
      "metadata": {
        "colab": {
          "base_uri": "https://localhost:8080/",
          "height": 35
        },
        "id": "8PQy4trjtYwq",
        "outputId": "2685de86-dd9b-438b-b8c6-f9dfc66f3abb"
      },
      "source": [
        "\"\"\"for i in i:\r\n",
        "  df[i] = df[i].fillna((df[i].mean()))\"\"\"\r\n"
      ],
      "execution_count": 166,
      "outputs": [
        {
          "output_type": "execute_result",
          "data": {
            "application/vnd.google.colaboratory.intrinsic+json": {
              "type": "string"
            },
            "text/plain": [
              "'for i in i:\\n  df[i] = df[i].fillna((df[i].mean()))'"
            ]
          },
          "metadata": {
            "tags": []
          },
          "execution_count": 166
        }
      ]
    },
    {
      "cell_type": "code",
      "metadata": {
        "colab": {
          "base_uri": "https://localhost:8080/",
          "height": 35
        },
        "id": "lSkHPOmQs0Xn",
        "outputId": "b181dd3e-b19b-45c0-d292-4037dbaf45dd"
      },
      "source": [
        "\"\"\"df.head()\"\"\""
      ],
      "execution_count": 167,
      "outputs": [
        {
          "output_type": "execute_result",
          "data": {
            "application/vnd.google.colaboratory.intrinsic+json": {
              "type": "string"
            },
            "text/plain": [
              "'df.head()'"
            ]
          },
          "metadata": {
            "tags": []
          },
          "execution_count": 167
        }
      ]
    },
    {
      "cell_type": "code",
      "metadata": {
        "colab": {
          "base_uri": "https://localhost:8080/",
          "height": 52
        },
        "id": "Z3QpOnWFnMkK",
        "outputId": "78c0dd16-737b-472d-e2fb-1dc6e86d7d77"
      },
      "source": [
        "\"\"\"df['STEROID'] = df['STEROID'].fillna((df['STEROID'].mean()))\r\n",
        "df['FATIGUE'] = df['FATIGUE'].fillna((df['FATIGUE'].mean()))\r\n",
        "df['MALAISE'] = df['MALAISE'].fillna((df['MALAISE'].mean()))\r\n",
        "df['ANOREXIA'] = df['ANOREXIA'].fillna((df['ANOREXIA'].mean()))\"\"\""
      ],
      "execution_count": 168,
      "outputs": [
        {
          "output_type": "execute_result",
          "data": {
            "application/vnd.google.colaboratory.intrinsic+json": {
              "type": "string"
            },
            "text/plain": [
              "\"df['STEROID'] = df['STEROID'].fillna((df['STEROID'].mean()))\\ndf['FATIGUE'] = df['FATIGUE'].fillna((df['FATIGUE'].mean()))\\ndf['MALAISE'] = df['MALAISE'].fillna((df['MALAISE'].mean()))\\ndf['ANOREXIA'] = df['ANOREXIA'].fillna((df['ANOREXIA'].mean()))\""
            ]
          },
          "metadata": {
            "tags": []
          },
          "execution_count": 168
        }
      ]
    },
    {
      "cell_type": "markdown",
      "metadata": {
        "id": "D3WiLwoxmSui"
      },
      "source": [
        "For rules generations"
      ]
    },
    {
      "cell_type": "code",
      "metadata": {
        "id": "mLEg42x5XZCX"
      },
      "source": [
        "for i,n in enumerate(df.columns):\r\n",
        "  if n=='class':\r\n",
        "    df[n] = 'class@' + df[n].astype(str)\r\n",
        "  else:\r\n",
        "    df[n] = 'A'+str(i)+'@' + df[n].astype(str)"
      ],
      "execution_count": 169,
      "outputs": []
    },
    {
      "cell_type": "code",
      "metadata": {
        "id": "UQ6l4ZXa_xRd"
      },
      "source": [
        "#df['class'] = df['class'].replace('A0@', 'class@')"
      ],
      "execution_count": 170,
      "outputs": []
    },
    {
      "cell_type": "code",
      "metadata": {
        "colab": {
          "base_uri": "https://localhost:8080/",
          "height": 418
        },
        "id": "FZd8uVS2Xp2t",
        "outputId": "e6cda9c4-5d53-43f2-91b3-7edbf7fa3eff"
      },
      "source": [
        "df"
      ],
      "execution_count": 171,
      "outputs": [
        {
          "output_type": "execute_result",
          "data": {
            "text/html": [
              "<div>\n",
              "<style scoped>\n",
              "    .dataframe tbody tr th:only-of-type {\n",
              "        vertical-align: middle;\n",
              "    }\n",
              "\n",
              "    .dataframe tbody tr th {\n",
              "        vertical-align: top;\n",
              "    }\n",
              "\n",
              "    .dataframe thead th {\n",
              "        text-align: right;\n",
              "    }\n",
              "</style>\n",
              "<table border=\"1\" class=\"dataframe\">\n",
              "  <thead>\n",
              "    <tr style=\"text-align: right;\">\n",
              "      <th></th>\n",
              "      <th>class</th>\n",
              "      <th>AGE</th>\n",
              "      <th>SEX</th>\n",
              "      <th>STEROID</th>\n",
              "      <th>ANTIVIRALS</th>\n",
              "      <th>FATIGUE</th>\n",
              "      <th>MALAISE</th>\n",
              "      <th>ANOREXIA</th>\n",
              "      <th>LIVER BIG</th>\n",
              "      <th>LIVER FIRM</th>\n",
              "      <th>SPLEEN PALPABLE</th>\n",
              "      <th>SPIDERS</th>\n",
              "      <th>ASCITES</th>\n",
              "      <th>VARICES</th>\n",
              "      <th>HISTOLOGY</th>\n",
              "    </tr>\n",
              "  </thead>\n",
              "  <tbody>\n",
              "    <tr>\n",
              "      <th>0</th>\n",
              "      <td>class@2</td>\n",
              "      <td>A1@30</td>\n",
              "      <td>A2@2</td>\n",
              "      <td>A3@1</td>\n",
              "      <td>A4@2</td>\n",
              "      <td>A5@2</td>\n",
              "      <td>A6@2</td>\n",
              "      <td>A7@2</td>\n",
              "      <td>A8@1</td>\n",
              "      <td>A9@2</td>\n",
              "      <td>A10@2</td>\n",
              "      <td>A11@2</td>\n",
              "      <td>A12@2</td>\n",
              "      <td>A13@2</td>\n",
              "      <td>A14@1</td>\n",
              "    </tr>\n",
              "    <tr>\n",
              "      <th>1</th>\n",
              "      <td>class@2</td>\n",
              "      <td>A1@50</td>\n",
              "      <td>A2@1</td>\n",
              "      <td>A3@1</td>\n",
              "      <td>A4@2</td>\n",
              "      <td>A5@1</td>\n",
              "      <td>A6@2</td>\n",
              "      <td>A7@2</td>\n",
              "      <td>A8@1</td>\n",
              "      <td>A9@2</td>\n",
              "      <td>A10@2</td>\n",
              "      <td>A11@2</td>\n",
              "      <td>A12@2</td>\n",
              "      <td>A13@2</td>\n",
              "      <td>A14@1</td>\n",
              "    </tr>\n",
              "    <tr>\n",
              "      <th>2</th>\n",
              "      <td>class@2</td>\n",
              "      <td>A1@78</td>\n",
              "      <td>A2@1</td>\n",
              "      <td>A3@2</td>\n",
              "      <td>A4@2</td>\n",
              "      <td>A5@1</td>\n",
              "      <td>A6@2</td>\n",
              "      <td>A7@2</td>\n",
              "      <td>A8@2</td>\n",
              "      <td>A9@2</td>\n",
              "      <td>A10@2</td>\n",
              "      <td>A11@2</td>\n",
              "      <td>A12@2</td>\n",
              "      <td>A13@2</td>\n",
              "      <td>A14@1</td>\n",
              "    </tr>\n",
              "    <tr>\n",
              "      <th>3</th>\n",
              "      <td>class@2</td>\n",
              "      <td>A1@31</td>\n",
              "      <td>A2@1</td>\n",
              "      <td>A3@?</td>\n",
              "      <td>A4@1</td>\n",
              "      <td>A5@2</td>\n",
              "      <td>A6@2</td>\n",
              "      <td>A7@2</td>\n",
              "      <td>A8@2</td>\n",
              "      <td>A9@2</td>\n",
              "      <td>A10@2</td>\n",
              "      <td>A11@2</td>\n",
              "      <td>A12@2</td>\n",
              "      <td>A13@2</td>\n",
              "      <td>A14@1</td>\n",
              "    </tr>\n",
              "    <tr>\n",
              "      <th>4</th>\n",
              "      <td>class@2</td>\n",
              "      <td>A1@34</td>\n",
              "      <td>A2@1</td>\n",
              "      <td>A3@2</td>\n",
              "      <td>A4@2</td>\n",
              "      <td>A5@2</td>\n",
              "      <td>A6@2</td>\n",
              "      <td>A7@2</td>\n",
              "      <td>A8@2</td>\n",
              "      <td>A9@2</td>\n",
              "      <td>A10@2</td>\n",
              "      <td>A11@2</td>\n",
              "      <td>A12@2</td>\n",
              "      <td>A13@2</td>\n",
              "      <td>A14@1</td>\n",
              "    </tr>\n",
              "    <tr>\n",
              "      <th>...</th>\n",
              "      <td>...</td>\n",
              "      <td>...</td>\n",
              "      <td>...</td>\n",
              "      <td>...</td>\n",
              "      <td>...</td>\n",
              "      <td>...</td>\n",
              "      <td>...</td>\n",
              "      <td>...</td>\n",
              "      <td>...</td>\n",
              "      <td>...</td>\n",
              "      <td>...</td>\n",
              "      <td>...</td>\n",
              "      <td>...</td>\n",
              "      <td>...</td>\n",
              "      <td>...</td>\n",
              "    </tr>\n",
              "    <tr>\n",
              "      <th>150</th>\n",
              "      <td>class@1</td>\n",
              "      <td>A1@46</td>\n",
              "      <td>A2@1</td>\n",
              "      <td>A3@2</td>\n",
              "      <td>A4@2</td>\n",
              "      <td>A5@1</td>\n",
              "      <td>A6@1</td>\n",
              "      <td>A7@1</td>\n",
              "      <td>A8@2</td>\n",
              "      <td>A9@2</td>\n",
              "      <td>A10@2</td>\n",
              "      <td>A11@1</td>\n",
              "      <td>A12@1</td>\n",
              "      <td>A13@1</td>\n",
              "      <td>A14@2</td>\n",
              "    </tr>\n",
              "    <tr>\n",
              "      <th>151</th>\n",
              "      <td>class@2</td>\n",
              "      <td>A1@44</td>\n",
              "      <td>A2@1</td>\n",
              "      <td>A3@2</td>\n",
              "      <td>A4@2</td>\n",
              "      <td>A5@1</td>\n",
              "      <td>A6@2</td>\n",
              "      <td>A7@2</td>\n",
              "      <td>A8@2</td>\n",
              "      <td>A9@1</td>\n",
              "      <td>A10@2</td>\n",
              "      <td>A11@2</td>\n",
              "      <td>A12@2</td>\n",
              "      <td>A13@2</td>\n",
              "      <td>A14@2</td>\n",
              "    </tr>\n",
              "    <tr>\n",
              "      <th>152</th>\n",
              "      <td>class@2</td>\n",
              "      <td>A1@61</td>\n",
              "      <td>A2@1</td>\n",
              "      <td>A3@1</td>\n",
              "      <td>A4@2</td>\n",
              "      <td>A5@1</td>\n",
              "      <td>A6@1</td>\n",
              "      <td>A7@2</td>\n",
              "      <td>A8@1</td>\n",
              "      <td>A9@1</td>\n",
              "      <td>A10@2</td>\n",
              "      <td>A11@1</td>\n",
              "      <td>A12@2</td>\n",
              "      <td>A13@2</td>\n",
              "      <td>A14@2</td>\n",
              "    </tr>\n",
              "    <tr>\n",
              "      <th>153</th>\n",
              "      <td>class@2</td>\n",
              "      <td>A1@53</td>\n",
              "      <td>A2@2</td>\n",
              "      <td>A3@1</td>\n",
              "      <td>A4@2</td>\n",
              "      <td>A5@1</td>\n",
              "      <td>A6@2</td>\n",
              "      <td>A7@2</td>\n",
              "      <td>A8@2</td>\n",
              "      <td>A9@2</td>\n",
              "      <td>A10@1</td>\n",
              "      <td>A11@1</td>\n",
              "      <td>A12@2</td>\n",
              "      <td>A13@1</td>\n",
              "      <td>A14@2</td>\n",
              "    </tr>\n",
              "    <tr>\n",
              "      <th>154</th>\n",
              "      <td>class@1</td>\n",
              "      <td>A1@43</td>\n",
              "      <td>A2@1</td>\n",
              "      <td>A3@2</td>\n",
              "      <td>A4@2</td>\n",
              "      <td>A5@1</td>\n",
              "      <td>A6@2</td>\n",
              "      <td>A7@2</td>\n",
              "      <td>A8@2</td>\n",
              "      <td>A9@2</td>\n",
              "      <td>A10@1</td>\n",
              "      <td>A11@1</td>\n",
              "      <td>A12@1</td>\n",
              "      <td>A13@2</td>\n",
              "      <td>A14@2</td>\n",
              "    </tr>\n",
              "  </tbody>\n",
              "</table>\n",
              "<p>155 rows × 15 columns</p>\n",
              "</div>"
            ],
            "text/plain": [
              "       class    AGE   SEX STEROID  ... SPIDERS ASCITES VARICES HISTOLOGY\n",
              "0    class@2  A1@30  A2@2    A3@1  ...   A11@2   A12@2   A13@2     A14@1\n",
              "1    class@2  A1@50  A2@1    A3@1  ...   A11@2   A12@2   A13@2     A14@1\n",
              "2    class@2  A1@78  A2@1    A3@2  ...   A11@2   A12@2   A13@2     A14@1\n",
              "3    class@2  A1@31  A2@1    A3@?  ...   A11@2   A12@2   A13@2     A14@1\n",
              "4    class@2  A1@34  A2@1    A3@2  ...   A11@2   A12@2   A13@2     A14@1\n",
              "..       ...    ...   ...     ...  ...     ...     ...     ...       ...\n",
              "150  class@1  A1@46  A2@1    A3@2  ...   A11@1   A12@1   A13@1     A14@2\n",
              "151  class@2  A1@44  A2@1    A3@2  ...   A11@2   A12@2   A13@2     A14@2\n",
              "152  class@2  A1@61  A2@1    A3@1  ...   A11@1   A12@2   A13@2     A14@2\n",
              "153  class@2  A1@53  A2@2    A3@1  ...   A11@1   A12@2   A13@1     A14@2\n",
              "154  class@1  A1@43  A2@1    A3@2  ...   A11@1   A12@1   A13@2     A14@2\n",
              "\n",
              "[155 rows x 15 columns]"
            ]
          },
          "metadata": {
            "tags": []
          },
          "execution_count": 171
        }
      ]
    },
    {
      "cell_type": "code",
      "metadata": {
        "id": "YfDhiIPBhZY1"
      },
      "source": [
        "from sklearn.model_selection import train_test_split\r\n",
        "train, test = train_test_split(df, stratify = df['class'], test_size = .2)"
      ],
      "execution_count": 172,
      "outputs": []
    },
    {
      "cell_type": "code",
      "metadata": {
        "colab": {
          "base_uri": "https://localhost:8080/",
          "height": 418
        },
        "id": "JU8Zj_GdCQls",
        "outputId": "ce427b23-a73d-4032-f1ed-7c56fa30c125"
      },
      "source": [
        "train"
      ],
      "execution_count": 173,
      "outputs": [
        {
          "output_type": "execute_result",
          "data": {
            "text/html": [
              "<div>\n",
              "<style scoped>\n",
              "    .dataframe tbody tr th:only-of-type {\n",
              "        vertical-align: middle;\n",
              "    }\n",
              "\n",
              "    .dataframe tbody tr th {\n",
              "        vertical-align: top;\n",
              "    }\n",
              "\n",
              "    .dataframe thead th {\n",
              "        text-align: right;\n",
              "    }\n",
              "</style>\n",
              "<table border=\"1\" class=\"dataframe\">\n",
              "  <thead>\n",
              "    <tr style=\"text-align: right;\">\n",
              "      <th></th>\n",
              "      <th>class</th>\n",
              "      <th>AGE</th>\n",
              "      <th>SEX</th>\n",
              "      <th>STEROID</th>\n",
              "      <th>ANTIVIRALS</th>\n",
              "      <th>FATIGUE</th>\n",
              "      <th>MALAISE</th>\n",
              "      <th>ANOREXIA</th>\n",
              "      <th>LIVER BIG</th>\n",
              "      <th>LIVER FIRM</th>\n",
              "      <th>SPLEEN PALPABLE</th>\n",
              "      <th>SPIDERS</th>\n",
              "      <th>ASCITES</th>\n",
              "      <th>VARICES</th>\n",
              "      <th>HISTOLOGY</th>\n",
              "    </tr>\n",
              "  </thead>\n",
              "  <tbody>\n",
              "    <tr>\n",
              "      <th>82</th>\n",
              "      <td>class@2</td>\n",
              "      <td>A1@30</td>\n",
              "      <td>A2@1</td>\n",
              "      <td>A3@1</td>\n",
              "      <td>A4@2</td>\n",
              "      <td>A5@2</td>\n",
              "      <td>A6@2</td>\n",
              "      <td>A7@2</td>\n",
              "      <td>A8@2</td>\n",
              "      <td>A9@2</td>\n",
              "      <td>A10@2</td>\n",
              "      <td>A11@2</td>\n",
              "      <td>A12@2</td>\n",
              "      <td>A13@2</td>\n",
              "      <td>A14@1</td>\n",
              "    </tr>\n",
              "    <tr>\n",
              "      <th>77</th>\n",
              "      <td>class@2</td>\n",
              "      <td>A1@34</td>\n",
              "      <td>A2@2</td>\n",
              "      <td>A3@1</td>\n",
              "      <td>A4@1</td>\n",
              "      <td>A5@2</td>\n",
              "      <td>A6@2</td>\n",
              "      <td>A7@2</td>\n",
              "      <td>A8@2</td>\n",
              "      <td>A9@1</td>\n",
              "      <td>A10@2</td>\n",
              "      <td>A11@2</td>\n",
              "      <td>A12@2</td>\n",
              "      <td>A13@2</td>\n",
              "      <td>A14@1</td>\n",
              "    </tr>\n",
              "    <tr>\n",
              "      <th>134</th>\n",
              "      <td>class@1</td>\n",
              "      <td>A1@38</td>\n",
              "      <td>A2@1</td>\n",
              "      <td>A3@1</td>\n",
              "      <td>A4@2</td>\n",
              "      <td>A5@2</td>\n",
              "      <td>A6@2</td>\n",
              "      <td>A7@2</td>\n",
              "      <td>A8@2</td>\n",
              "      <td>A9@1</td>\n",
              "      <td>A10@2</td>\n",
              "      <td>A11@2</td>\n",
              "      <td>A12@2</td>\n",
              "      <td>A13@2</td>\n",
              "      <td>A14@2</td>\n",
              "    </tr>\n",
              "    <tr>\n",
              "      <th>108</th>\n",
              "      <td>class@2</td>\n",
              "      <td>A1@54</td>\n",
              "      <td>A2@1</td>\n",
              "      <td>A3@1</td>\n",
              "      <td>A4@1</td>\n",
              "      <td>A5@2</td>\n",
              "      <td>A6@2</td>\n",
              "      <td>A7@2</td>\n",
              "      <td>A8@1</td>\n",
              "      <td>A9@1</td>\n",
              "      <td>A10@2</td>\n",
              "      <td>A11@2</td>\n",
              "      <td>A12@2</td>\n",
              "      <td>A13@2</td>\n",
              "      <td>A14@2</td>\n",
              "    </tr>\n",
              "    <tr>\n",
              "      <th>36</th>\n",
              "      <td>class@2</td>\n",
              "      <td>A1@23</td>\n",
              "      <td>A2@1</td>\n",
              "      <td>A3@2</td>\n",
              "      <td>A4@2</td>\n",
              "      <td>A5@1</td>\n",
              "      <td>A6@1</td>\n",
              "      <td>A7@1</td>\n",
              "      <td>A8@2</td>\n",
              "      <td>A9@2</td>\n",
              "      <td>A10@1</td>\n",
              "      <td>A11@2</td>\n",
              "      <td>A12@2</td>\n",
              "      <td>A13@2</td>\n",
              "      <td>A14@1</td>\n",
              "    </tr>\n",
              "    <tr>\n",
              "      <th>...</th>\n",
              "      <td>...</td>\n",
              "      <td>...</td>\n",
              "      <td>...</td>\n",
              "      <td>...</td>\n",
              "      <td>...</td>\n",
              "      <td>...</td>\n",
              "      <td>...</td>\n",
              "      <td>...</td>\n",
              "      <td>...</td>\n",
              "      <td>...</td>\n",
              "      <td>...</td>\n",
              "      <td>...</td>\n",
              "      <td>...</td>\n",
              "      <td>...</td>\n",
              "      <td>...</td>\n",
              "    </tr>\n",
              "    <tr>\n",
              "      <th>58</th>\n",
              "      <td>class@2</td>\n",
              "      <td>A1@64</td>\n",
              "      <td>A2@1</td>\n",
              "      <td>A3@2</td>\n",
              "      <td>A4@1</td>\n",
              "      <td>A5@1</td>\n",
              "      <td>A6@1</td>\n",
              "      <td>A7@2</td>\n",
              "      <td>A8@1</td>\n",
              "      <td>A9@1</td>\n",
              "      <td>A10@2</td>\n",
              "      <td>A11@2</td>\n",
              "      <td>A12@2</td>\n",
              "      <td>A13@2</td>\n",
              "      <td>A14@1</td>\n",
              "    </tr>\n",
              "    <tr>\n",
              "      <th>120</th>\n",
              "      <td>class@1</td>\n",
              "      <td>A1@56</td>\n",
              "      <td>A2@1</td>\n",
              "      <td>A3@1</td>\n",
              "      <td>A4@2</td>\n",
              "      <td>A5@1</td>\n",
              "      <td>A6@1</td>\n",
              "      <td>A7@1</td>\n",
              "      <td>A8@1</td>\n",
              "      <td>A9@1</td>\n",
              "      <td>A10@2</td>\n",
              "      <td>A11@1</td>\n",
              "      <td>A12@2</td>\n",
              "      <td>A13@2</td>\n",
              "      <td>A14@2</td>\n",
              "    </tr>\n",
              "    <tr>\n",
              "      <th>90</th>\n",
              "      <td>class@2</td>\n",
              "      <td>A1@50</td>\n",
              "      <td>A2@2</td>\n",
              "      <td>A3@1</td>\n",
              "      <td>A4@2</td>\n",
              "      <td>A5@1</td>\n",
              "      <td>A6@2</td>\n",
              "      <td>A7@2</td>\n",
              "      <td>A8@1</td>\n",
              "      <td>A9@1</td>\n",
              "      <td>A10@1</td>\n",
              "      <td>A11@1</td>\n",
              "      <td>A12@2</td>\n",
              "      <td>A13@2</td>\n",
              "      <td>A14@2</td>\n",
              "    </tr>\n",
              "    <tr>\n",
              "      <th>142</th>\n",
              "      <td>class@2</td>\n",
              "      <td>A1@51</td>\n",
              "      <td>A2@1</td>\n",
              "      <td>A3@2</td>\n",
              "      <td>A4@2</td>\n",
              "      <td>A5@1</td>\n",
              "      <td>A6@2</td>\n",
              "      <td>A7@2</td>\n",
              "      <td>A8@2</td>\n",
              "      <td>A9@1</td>\n",
              "      <td>A10@1</td>\n",
              "      <td>A11@1</td>\n",
              "      <td>A12@2</td>\n",
              "      <td>A13@1</td>\n",
              "      <td>A14@2</td>\n",
              "    </tr>\n",
              "    <tr>\n",
              "      <th>118</th>\n",
              "      <td>class@1</td>\n",
              "      <td>A1@61</td>\n",
              "      <td>A2@1</td>\n",
              "      <td>A3@1</td>\n",
              "      <td>A4@2</td>\n",
              "      <td>A5@1</td>\n",
              "      <td>A6@1</td>\n",
              "      <td>A7@2</td>\n",
              "      <td>A8@?</td>\n",
              "      <td>A9@?</td>\n",
              "      <td>A10@2</td>\n",
              "      <td>A11@1</td>\n",
              "      <td>A12@2</td>\n",
              "      <td>A13@2</td>\n",
              "      <td>A14@2</td>\n",
              "    </tr>\n",
              "  </tbody>\n",
              "</table>\n",
              "<p>124 rows × 15 columns</p>\n",
              "</div>"
            ],
            "text/plain": [
              "       class    AGE   SEX STEROID  ... SPIDERS ASCITES VARICES HISTOLOGY\n",
              "82   class@2  A1@30  A2@1    A3@1  ...   A11@2   A12@2   A13@2     A14@1\n",
              "77   class@2  A1@34  A2@2    A3@1  ...   A11@2   A12@2   A13@2     A14@1\n",
              "134  class@1  A1@38  A2@1    A3@1  ...   A11@2   A12@2   A13@2     A14@2\n",
              "108  class@2  A1@54  A2@1    A3@1  ...   A11@2   A12@2   A13@2     A14@2\n",
              "36   class@2  A1@23  A2@1    A3@2  ...   A11@2   A12@2   A13@2     A14@1\n",
              "..       ...    ...   ...     ...  ...     ...     ...     ...       ...\n",
              "58   class@2  A1@64  A2@1    A3@2  ...   A11@2   A12@2   A13@2     A14@1\n",
              "120  class@1  A1@56  A2@1    A3@1  ...   A11@1   A12@2   A13@2     A14@2\n",
              "90   class@2  A1@50  A2@2    A3@1  ...   A11@1   A12@2   A13@2     A14@2\n",
              "142  class@2  A1@51  A2@1    A3@2  ...   A11@1   A12@2   A13@1     A14@2\n",
              "118  class@1  A1@61  A2@1    A3@1  ...   A11@1   A12@2   A13@2     A14@2\n",
              "\n",
              "[124 rows x 15 columns]"
            ]
          },
          "metadata": {
            "tags": []
          },
          "execution_count": 173
        }
      ]
    },
    {
      "cell_type": "code",
      "metadata": {
        "id": "CKm6kWhvh9lM"
      },
      "source": [
        "train.to_csv(\"/content/drive/MyDrive/Hep_DataSet/hep_train.csv\", header=None,index=False)\r\n",
        "test.to_csv(\"/content/drive/MyDrive/Hep_DataSet/hep_test.csv\", header=None,index=False)"
      ],
      "execution_count": 174,
      "outputs": []
    },
    {
      "cell_type": "markdown",
      "metadata": {
        "id": "FxIL7KaBgsls"
      },
      "source": [
        "For RP-growth Data"
      ]
    },
    {
      "cell_type": "code",
      "metadata": {
        "id": "u3QFGTHxaGKf"
      },
      "source": [
        "uni = pd.DataFrame()\r\n",
        "for col in df:\r\n",
        "    uni= pd.concat([uni, pd.DataFrame(df[col].unique())], ignore_index=True)"
      ],
      "execution_count": 175,
      "outputs": []
    },
    {
      "cell_type": "code",
      "metadata": {
        "colab": {
          "base_uri": "https://localhost:8080/",
          "height": 402
        },
        "id": "X-Lnq3Jmc1Ws",
        "outputId": "acddf333-b98c-485b-b0b5-67be4ba13ffa"
      },
      "source": [
        "uni"
      ],
      "execution_count": 176,
      "outputs": [
        {
          "output_type": "execute_result",
          "data": {
            "text/html": [
              "<div>\n",
              "<style scoped>\n",
              "    .dataframe tbody tr th:only-of-type {\n",
              "        vertical-align: middle;\n",
              "    }\n",
              "\n",
              "    .dataframe tbody tr th {\n",
              "        vertical-align: top;\n",
              "    }\n",
              "\n",
              "    .dataframe thead th {\n",
              "        text-align: right;\n",
              "    }\n",
              "</style>\n",
              "<table border=\"1\" class=\"dataframe\">\n",
              "  <thead>\n",
              "    <tr style=\"text-align: right;\">\n",
              "      <th></th>\n",
              "      <th>0</th>\n",
              "    </tr>\n",
              "  </thead>\n",
              "  <tbody>\n",
              "    <tr>\n",
              "      <th>0</th>\n",
              "      <td>class@2</td>\n",
              "    </tr>\n",
              "    <tr>\n",
              "      <th>1</th>\n",
              "      <td>class@1</td>\n",
              "    </tr>\n",
              "    <tr>\n",
              "      <th>2</th>\n",
              "      <td>A1@30</td>\n",
              "    </tr>\n",
              "    <tr>\n",
              "      <th>3</th>\n",
              "      <td>A1@50</td>\n",
              "    </tr>\n",
              "    <tr>\n",
              "      <th>4</th>\n",
              "      <td>A1@78</td>\n",
              "    </tr>\n",
              "    <tr>\n",
              "      <th>...</th>\n",
              "      <td>...</td>\n",
              "    </tr>\n",
              "    <tr>\n",
              "      <th>82</th>\n",
              "      <td>A13@2</td>\n",
              "    </tr>\n",
              "    <tr>\n",
              "      <th>83</th>\n",
              "      <td>A13@?</td>\n",
              "    </tr>\n",
              "    <tr>\n",
              "      <th>84</th>\n",
              "      <td>A13@1</td>\n",
              "    </tr>\n",
              "    <tr>\n",
              "      <th>85</th>\n",
              "      <td>A14@1</td>\n",
              "    </tr>\n",
              "    <tr>\n",
              "      <th>86</th>\n",
              "      <td>A14@2</td>\n",
              "    </tr>\n",
              "  </tbody>\n",
              "</table>\n",
              "<p>87 rows × 1 columns</p>\n",
              "</div>"
            ],
            "text/plain": [
              "          0\n",
              "0   class@2\n",
              "1   class@1\n",
              "2     A1@30\n",
              "3     A1@50\n",
              "4     A1@78\n",
              "..      ...\n",
              "82    A13@2\n",
              "83    A13@?\n",
              "84    A13@1\n",
              "85    A14@1\n",
              "86    A14@2\n",
              "\n",
              "[87 rows x 1 columns]"
            ]
          },
          "metadata": {
            "tags": []
          },
          "execution_count": 176
        }
      ]
    },
    {
      "cell_type": "code",
      "metadata": {
        "id": "sgYlRd2Ic-NU"
      },
      "source": [
        "my_dict = uni.to_dict()"
      ],
      "execution_count": 177,
      "outputs": []
    },
    {
      "cell_type": "code",
      "metadata": {
        "colab": {
          "base_uri": "https://localhost:8080/"
        },
        "id": "DeIxvvAFfnbs",
        "outputId": "67a6fabb-8e6e-46f3-860b-791428a06414"
      },
      "source": [
        "my_dict"
      ],
      "execution_count": 178,
      "outputs": [
        {
          "output_type": "execute_result",
          "data": {
            "text/plain": [
              "{0: {0: 'class@2',\n",
              "  1: 'class@1',\n",
              "  2: 'A1@30',\n",
              "  3: 'A1@50',\n",
              "  4: 'A1@78',\n",
              "  5: 'A1@31',\n",
              "  6: 'A1@34',\n",
              "  7: 'A1@51',\n",
              "  8: 'A1@23',\n",
              "  9: 'A1@39',\n",
              "  10: 'A1@32',\n",
              "  11: 'A1@41',\n",
              "  12: 'A1@47',\n",
              "  13: 'A1@38',\n",
              "  14: 'A1@66',\n",
              "  15: 'A1@40',\n",
              "  16: 'A1@22',\n",
              "  17: 'A1@27',\n",
              "  18: 'A1@42',\n",
              "  19: 'A1@25',\n",
              "  20: 'A1@49',\n",
              "  21: 'A1@58',\n",
              "  22: 'A1@61',\n",
              "  23: 'A1@62',\n",
              "  24: 'A1@26',\n",
              "  25: 'A1@35',\n",
              "  26: 'A1@37',\n",
              "  27: 'A1@20',\n",
              "  28: 'A1@65',\n",
              "  29: 'A1@52',\n",
              "  30: 'A1@33',\n",
              "  31: 'A1@56',\n",
              "  32: 'A1@28',\n",
              "  33: 'A1@36',\n",
              "  34: 'A1@44',\n",
              "  35: 'A1@64',\n",
              "  36: 'A1@45',\n",
              "  37: 'A1@57',\n",
              "  38: 'A1@24',\n",
              "  39: 'A1@67',\n",
              "  40: 'A1@59',\n",
              "  41: 'A1@60',\n",
              "  42: 'A1@48',\n",
              "  43: 'A1@54',\n",
              "  44: 'A1@7',\n",
              "  45: 'A1@69',\n",
              "  46: 'A1@72',\n",
              "  47: 'A1@70',\n",
              "  48: 'A1@46',\n",
              "  49: 'A1@53',\n",
              "  50: 'A1@43',\n",
              "  51: 'A2@2',\n",
              "  52: 'A2@1',\n",
              "  53: 'A3@1',\n",
              "  54: 'A3@2',\n",
              "  55: 'A3@?',\n",
              "  56: 'A4@2',\n",
              "  57: 'A4@1',\n",
              "  58: 'A5@2',\n",
              "  59: 'A5@1',\n",
              "  60: 'A5@?',\n",
              "  61: 'A6@2',\n",
              "  62: 'A6@1',\n",
              "  63: 'A6@?',\n",
              "  64: 'A7@2',\n",
              "  65: 'A7@1',\n",
              "  66: 'A7@?',\n",
              "  67: 'A8@1',\n",
              "  68: 'A8@2',\n",
              "  69: 'A8@?',\n",
              "  70: 'A9@2',\n",
              "  71: 'A9@1',\n",
              "  72: 'A9@?',\n",
              "  73: 'A10@2',\n",
              "  74: 'A10@1',\n",
              "  75: 'A10@?',\n",
              "  76: 'A11@2',\n",
              "  77: 'A11@1',\n",
              "  78: 'A11@?',\n",
              "  79: 'A12@2',\n",
              "  80: 'A12@1',\n",
              "  81: 'A12@?',\n",
              "  82: 'A13@2',\n",
              "  83: 'A13@?',\n",
              "  84: 'A13@1',\n",
              "  85: 'A14@1',\n",
              "  86: 'A14@2'}}"
            ]
          },
          "metadata": {
            "tags": []
          },
          "execution_count": 178
        }
      ]
    },
    {
      "cell_type": "code",
      "metadata": {
        "id": "Qo6J03jygRAD"
      },
      "source": [
        "my_dict = my_dict[0]"
      ],
      "execution_count": 179,
      "outputs": []
    },
    {
      "cell_type": "code",
      "metadata": {
        "id": "fKR_7F5ldsV8"
      },
      "source": [
        "new_dict = dict((value, key) for key, value in my_dict.items())"
      ],
      "execution_count": 180,
      "outputs": []
    },
    {
      "cell_type": "code",
      "metadata": {
        "colab": {
          "base_uri": "https://localhost:8080/"
        },
        "id": "eU1zx51vhCpT",
        "outputId": "342d4993-acf1-4abc-d2f5-faafdc9ebb1a"
      },
      "source": [
        "for col in train:\r\n",
        "    train[col] = train[col].replace(new_dict)"
      ],
      "execution_count": 181,
      "outputs": [
        {
          "output_type": "stream",
          "text": [
            "/usr/local/lib/python3.7/dist-packages/ipykernel_launcher.py:2: SettingWithCopyWarning: \n",
            "A value is trying to be set on a copy of a slice from a DataFrame.\n",
            "Try using .loc[row_indexer,col_indexer] = value instead\n",
            "\n",
            "See the caveats in the documentation: https://pandas.pydata.org/pandas-docs/stable/user_guide/indexing.html#returning-a-view-versus-a-copy\n",
            "  \n"
          ],
          "name": "stderr"
        }
      ]
    },
    {
      "cell_type": "code",
      "metadata": {
        "colab": {
          "base_uri": "https://localhost:8080/",
          "height": 418
        },
        "id": "0qhFbFMQhStD",
        "outputId": "ad0fb8a3-64cd-4256-eed5-ba2a8755bf04"
      },
      "source": [
        "train"
      ],
      "execution_count": 182,
      "outputs": [
        {
          "output_type": "execute_result",
          "data": {
            "text/html": [
              "<div>\n",
              "<style scoped>\n",
              "    .dataframe tbody tr th:only-of-type {\n",
              "        vertical-align: middle;\n",
              "    }\n",
              "\n",
              "    .dataframe tbody tr th {\n",
              "        vertical-align: top;\n",
              "    }\n",
              "\n",
              "    .dataframe thead th {\n",
              "        text-align: right;\n",
              "    }\n",
              "</style>\n",
              "<table border=\"1\" class=\"dataframe\">\n",
              "  <thead>\n",
              "    <tr style=\"text-align: right;\">\n",
              "      <th></th>\n",
              "      <th>class</th>\n",
              "      <th>AGE</th>\n",
              "      <th>SEX</th>\n",
              "      <th>STEROID</th>\n",
              "      <th>ANTIVIRALS</th>\n",
              "      <th>FATIGUE</th>\n",
              "      <th>MALAISE</th>\n",
              "      <th>ANOREXIA</th>\n",
              "      <th>LIVER BIG</th>\n",
              "      <th>LIVER FIRM</th>\n",
              "      <th>SPLEEN PALPABLE</th>\n",
              "      <th>SPIDERS</th>\n",
              "      <th>ASCITES</th>\n",
              "      <th>VARICES</th>\n",
              "      <th>HISTOLOGY</th>\n",
              "    </tr>\n",
              "  </thead>\n",
              "  <tbody>\n",
              "    <tr>\n",
              "      <th>82</th>\n",
              "      <td>0</td>\n",
              "      <td>2</td>\n",
              "      <td>52</td>\n",
              "      <td>53</td>\n",
              "      <td>56</td>\n",
              "      <td>58</td>\n",
              "      <td>61</td>\n",
              "      <td>64</td>\n",
              "      <td>68</td>\n",
              "      <td>70</td>\n",
              "      <td>73</td>\n",
              "      <td>76</td>\n",
              "      <td>79</td>\n",
              "      <td>82</td>\n",
              "      <td>85</td>\n",
              "    </tr>\n",
              "    <tr>\n",
              "      <th>77</th>\n",
              "      <td>0</td>\n",
              "      <td>6</td>\n",
              "      <td>51</td>\n",
              "      <td>53</td>\n",
              "      <td>57</td>\n",
              "      <td>58</td>\n",
              "      <td>61</td>\n",
              "      <td>64</td>\n",
              "      <td>68</td>\n",
              "      <td>71</td>\n",
              "      <td>73</td>\n",
              "      <td>76</td>\n",
              "      <td>79</td>\n",
              "      <td>82</td>\n",
              "      <td>85</td>\n",
              "    </tr>\n",
              "    <tr>\n",
              "      <th>134</th>\n",
              "      <td>1</td>\n",
              "      <td>13</td>\n",
              "      <td>52</td>\n",
              "      <td>53</td>\n",
              "      <td>56</td>\n",
              "      <td>58</td>\n",
              "      <td>61</td>\n",
              "      <td>64</td>\n",
              "      <td>68</td>\n",
              "      <td>71</td>\n",
              "      <td>73</td>\n",
              "      <td>76</td>\n",
              "      <td>79</td>\n",
              "      <td>82</td>\n",
              "      <td>86</td>\n",
              "    </tr>\n",
              "    <tr>\n",
              "      <th>108</th>\n",
              "      <td>0</td>\n",
              "      <td>43</td>\n",
              "      <td>52</td>\n",
              "      <td>53</td>\n",
              "      <td>57</td>\n",
              "      <td>58</td>\n",
              "      <td>61</td>\n",
              "      <td>64</td>\n",
              "      <td>67</td>\n",
              "      <td>71</td>\n",
              "      <td>73</td>\n",
              "      <td>76</td>\n",
              "      <td>79</td>\n",
              "      <td>82</td>\n",
              "      <td>86</td>\n",
              "    </tr>\n",
              "    <tr>\n",
              "      <th>36</th>\n",
              "      <td>0</td>\n",
              "      <td>8</td>\n",
              "      <td>52</td>\n",
              "      <td>54</td>\n",
              "      <td>56</td>\n",
              "      <td>59</td>\n",
              "      <td>62</td>\n",
              "      <td>65</td>\n",
              "      <td>68</td>\n",
              "      <td>70</td>\n",
              "      <td>74</td>\n",
              "      <td>76</td>\n",
              "      <td>79</td>\n",
              "      <td>82</td>\n",
              "      <td>85</td>\n",
              "    </tr>\n",
              "    <tr>\n",
              "      <th>...</th>\n",
              "      <td>...</td>\n",
              "      <td>...</td>\n",
              "      <td>...</td>\n",
              "      <td>...</td>\n",
              "      <td>...</td>\n",
              "      <td>...</td>\n",
              "      <td>...</td>\n",
              "      <td>...</td>\n",
              "      <td>...</td>\n",
              "      <td>...</td>\n",
              "      <td>...</td>\n",
              "      <td>...</td>\n",
              "      <td>...</td>\n",
              "      <td>...</td>\n",
              "      <td>...</td>\n",
              "    </tr>\n",
              "    <tr>\n",
              "      <th>58</th>\n",
              "      <td>0</td>\n",
              "      <td>35</td>\n",
              "      <td>52</td>\n",
              "      <td>54</td>\n",
              "      <td>57</td>\n",
              "      <td>59</td>\n",
              "      <td>62</td>\n",
              "      <td>64</td>\n",
              "      <td>67</td>\n",
              "      <td>71</td>\n",
              "      <td>73</td>\n",
              "      <td>76</td>\n",
              "      <td>79</td>\n",
              "      <td>82</td>\n",
              "      <td>85</td>\n",
              "    </tr>\n",
              "    <tr>\n",
              "      <th>120</th>\n",
              "      <td>1</td>\n",
              "      <td>31</td>\n",
              "      <td>52</td>\n",
              "      <td>53</td>\n",
              "      <td>56</td>\n",
              "      <td>59</td>\n",
              "      <td>62</td>\n",
              "      <td>65</td>\n",
              "      <td>67</td>\n",
              "      <td>71</td>\n",
              "      <td>73</td>\n",
              "      <td>77</td>\n",
              "      <td>79</td>\n",
              "      <td>82</td>\n",
              "      <td>86</td>\n",
              "    </tr>\n",
              "    <tr>\n",
              "      <th>90</th>\n",
              "      <td>0</td>\n",
              "      <td>3</td>\n",
              "      <td>51</td>\n",
              "      <td>53</td>\n",
              "      <td>56</td>\n",
              "      <td>59</td>\n",
              "      <td>61</td>\n",
              "      <td>64</td>\n",
              "      <td>67</td>\n",
              "      <td>71</td>\n",
              "      <td>74</td>\n",
              "      <td>77</td>\n",
              "      <td>79</td>\n",
              "      <td>82</td>\n",
              "      <td>86</td>\n",
              "    </tr>\n",
              "    <tr>\n",
              "      <th>142</th>\n",
              "      <td>0</td>\n",
              "      <td>7</td>\n",
              "      <td>52</td>\n",
              "      <td>54</td>\n",
              "      <td>56</td>\n",
              "      <td>59</td>\n",
              "      <td>61</td>\n",
              "      <td>64</td>\n",
              "      <td>68</td>\n",
              "      <td>71</td>\n",
              "      <td>74</td>\n",
              "      <td>77</td>\n",
              "      <td>79</td>\n",
              "      <td>84</td>\n",
              "      <td>86</td>\n",
              "    </tr>\n",
              "    <tr>\n",
              "      <th>118</th>\n",
              "      <td>1</td>\n",
              "      <td>22</td>\n",
              "      <td>52</td>\n",
              "      <td>53</td>\n",
              "      <td>56</td>\n",
              "      <td>59</td>\n",
              "      <td>62</td>\n",
              "      <td>64</td>\n",
              "      <td>69</td>\n",
              "      <td>72</td>\n",
              "      <td>73</td>\n",
              "      <td>77</td>\n",
              "      <td>79</td>\n",
              "      <td>82</td>\n",
              "      <td>86</td>\n",
              "    </tr>\n",
              "  </tbody>\n",
              "</table>\n",
              "<p>124 rows × 15 columns</p>\n",
              "</div>"
            ],
            "text/plain": [
              "     class  AGE  SEX  STEROID  ...  SPIDERS  ASCITES  VARICES  HISTOLOGY\n",
              "82       0    2   52       53  ...       76       79       82         85\n",
              "77       0    6   51       53  ...       76       79       82         85\n",
              "134      1   13   52       53  ...       76       79       82         86\n",
              "108      0   43   52       53  ...       76       79       82         86\n",
              "36       0    8   52       54  ...       76       79       82         85\n",
              "..     ...  ...  ...      ...  ...      ...      ...      ...        ...\n",
              "58       0   35   52       54  ...       76       79       82         85\n",
              "120      1   31   52       53  ...       77       79       82         86\n",
              "90       0    3   51       53  ...       77       79       82         86\n",
              "142      0    7   52       54  ...       77       79       84         86\n",
              "118      1   22   52       53  ...       77       79       82         86\n",
              "\n",
              "[124 rows x 15 columns]"
            ]
          },
          "metadata": {
            "tags": []
          },
          "execution_count": 182
        }
      ]
    },
    {
      "cell_type": "code",
      "metadata": {
        "colab": {
          "base_uri": "https://localhost:8080/"
        },
        "id": "OkoLFv-UjFel",
        "outputId": "69d9bf22-bee7-4068-87c8-cea50eb53e83"
      },
      "source": [
        "for col in test:\r\n",
        "    test[col] = test[col].replace(new_dict)"
      ],
      "execution_count": 183,
      "outputs": [
        {
          "output_type": "stream",
          "text": [
            "/usr/local/lib/python3.7/dist-packages/ipykernel_launcher.py:2: SettingWithCopyWarning: \n",
            "A value is trying to be set on a copy of a slice from a DataFrame.\n",
            "Try using .loc[row_indexer,col_indexer] = value instead\n",
            "\n",
            "See the caveats in the documentation: https://pandas.pydata.org/pandas-docs/stable/user_guide/indexing.html#returning-a-view-versus-a-copy\n",
            "  \n"
          ],
          "name": "stderr"
        }
      ]
    },
    {
      "cell_type": "code",
      "metadata": {
        "id": "zxc5CLwFis4R"
      },
      "source": [
        "train.to_csv(\"/content/drive/MyDrive/Hep_DataSet/hep_rp_train.csv\", header=None,index=False)\r\n",
        "test.to_csv(\"/content/drive/MyDrive/Hep_DataSet/hep_rp_test.csv\", header=None,index=False)"
      ],
      "execution_count": 184,
      "outputs": []
    }
  ]
}