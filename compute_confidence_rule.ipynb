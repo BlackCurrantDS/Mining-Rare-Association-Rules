{
  "nbformat": 4,
  "nbformat_minor": 0,
  "metadata": {
    "colab": {
      "name": "compute_confidence_rule.ipynb",
      "provenance": [],
      "mount_file_id": "1Q03z0jyKfmFyWPuDR0oCwMWaYMCUAhtC",
      "authorship_tag": "ABX9TyMrRg18dBIIjRpZZL4VgANf",
      "include_colab_link": true
    },
    "kernelspec": {
      "name": "python3",
      "display_name": "Python 3"
    },
    "language_info": {
      "name": "python"
    }
  },
  "cells": [
    {
      "cell_type": "markdown",
      "metadata": {
        "id": "view-in-github",
        "colab_type": "text"
      },
      "source": [
        "<a href=\"https://colab.research.google.com/github/BlackCurrantDS/DBSE_Project/blob/main/compute_confidence_rule.ipynb\" target=\"_parent\"><img src=\"https://colab.research.google.com/assets/colab-badge.svg\" alt=\"Open In Colab\"/></a>"
      ]
    },
    {
      "cell_type": "code",
      "metadata": {
        "id": "gfuxPjJlGm-R"
      },
      "source": [
        "minconf = 0.8"
      ],
      "execution_count": null,
      "outputs": []
    },
    {
      "cell_type": "code",
      "metadata": {
        "id": "XjucH7z8ImIo"
      },
      "source": [
        "#reading original data\n",
        "df = pd.read_csv(\"/content/drive/MyDrive/DataSets_for_Paper/bcancer_data_original.csv\")"
      ],
      "execution_count": 191,
      "outputs": []
    },
    {
      "cell_type": "code",
      "metadata": {
        "colab": {
          "base_uri": "https://localhost:8080/",
          "height": 402
        },
        "id": "eCywLN16IyEn",
        "outputId": "6f6cbc89-f33f-4479-9f64-aa2dbd145472"
      },
      "source": [
        "df"
      ],
      "execution_count": 192,
      "outputs": [
        {
          "output_type": "execute_result",
          "data": {
            "text/html": [
              "<div>\n",
              "<style scoped>\n",
              "    .dataframe tbody tr th:only-of-type {\n",
              "        vertical-align: middle;\n",
              "    }\n",
              "\n",
              "    .dataframe tbody tr th {\n",
              "        vertical-align: top;\n",
              "    }\n",
              "\n",
              "    .dataframe thead th {\n",
              "        text-align: right;\n",
              "    }\n",
              "</style>\n",
              "<table border=\"1\" class=\"dataframe\">\n",
              "  <thead>\n",
              "    <tr style=\"text-align: right;\">\n",
              "      <th></th>\n",
              "      <th>Unnamed: 0</th>\n",
              "      <th>class</th>\n",
              "      <th>AGE</th>\n",
              "      <th>menopause</th>\n",
              "      <th>tumor-size</th>\n",
              "      <th>inv-nodes</th>\n",
              "      <th>node-caps</th>\n",
              "      <th>deg-malig</th>\n",
              "      <th>breast</th>\n",
              "      <th>breast-quad</th>\n",
              "      <th>irradiat</th>\n",
              "    </tr>\n",
              "  </thead>\n",
              "  <tbody>\n",
              "    <tr>\n",
              "      <th>0</th>\n",
              "      <td>0</td>\n",
              "      <td>no-recurrence-events</td>\n",
              "      <td>30-39</td>\n",
              "      <td>premeno</td>\n",
              "      <td>30-34</td>\n",
              "      <td>0-2</td>\n",
              "      <td>no</td>\n",
              "      <td>3</td>\n",
              "      <td>left</td>\n",
              "      <td>left_low</td>\n",
              "      <td>no</td>\n",
              "    </tr>\n",
              "    <tr>\n",
              "      <th>1</th>\n",
              "      <td>1</td>\n",
              "      <td>no-recurrence-events</td>\n",
              "      <td>40-49</td>\n",
              "      <td>premeno</td>\n",
              "      <td>20-24</td>\n",
              "      <td>0-2</td>\n",
              "      <td>no</td>\n",
              "      <td>2</td>\n",
              "      <td>right</td>\n",
              "      <td>right_up</td>\n",
              "      <td>no</td>\n",
              "    </tr>\n",
              "    <tr>\n",
              "      <th>2</th>\n",
              "      <td>2</td>\n",
              "      <td>no-recurrence-events</td>\n",
              "      <td>40-49</td>\n",
              "      <td>premeno</td>\n",
              "      <td>20-24</td>\n",
              "      <td>0-2</td>\n",
              "      <td>no</td>\n",
              "      <td>2</td>\n",
              "      <td>left</td>\n",
              "      <td>left_low</td>\n",
              "      <td>no</td>\n",
              "    </tr>\n",
              "    <tr>\n",
              "      <th>3</th>\n",
              "      <td>3</td>\n",
              "      <td>no-recurrence-events</td>\n",
              "      <td>60-69</td>\n",
              "      <td>ge40</td>\n",
              "      <td>15-19</td>\n",
              "      <td>0-2</td>\n",
              "      <td>no</td>\n",
              "      <td>2</td>\n",
              "      <td>right</td>\n",
              "      <td>left_up</td>\n",
              "      <td>no</td>\n",
              "    </tr>\n",
              "    <tr>\n",
              "      <th>4</th>\n",
              "      <td>4</td>\n",
              "      <td>no-recurrence-events</td>\n",
              "      <td>40-49</td>\n",
              "      <td>premeno</td>\n",
              "      <td>0-4</td>\n",
              "      <td>0-2</td>\n",
              "      <td>no</td>\n",
              "      <td>2</td>\n",
              "      <td>right</td>\n",
              "      <td>right_low</td>\n",
              "      <td>no</td>\n",
              "    </tr>\n",
              "    <tr>\n",
              "      <th>...</th>\n",
              "      <td>...</td>\n",
              "      <td>...</td>\n",
              "      <td>...</td>\n",
              "      <td>...</td>\n",
              "      <td>...</td>\n",
              "      <td>...</td>\n",
              "      <td>...</td>\n",
              "      <td>...</td>\n",
              "      <td>...</td>\n",
              "      <td>...</td>\n",
              "      <td>...</td>\n",
              "    </tr>\n",
              "    <tr>\n",
              "      <th>281</th>\n",
              "      <td>281</td>\n",
              "      <td>recurrence-events</td>\n",
              "      <td>30-39</td>\n",
              "      <td>premeno</td>\n",
              "      <td>30-34</td>\n",
              "      <td>0-2</td>\n",
              "      <td>no</td>\n",
              "      <td>2</td>\n",
              "      <td>left</td>\n",
              "      <td>left_up</td>\n",
              "      <td>no</td>\n",
              "    </tr>\n",
              "    <tr>\n",
              "      <th>282</th>\n",
              "      <td>282</td>\n",
              "      <td>recurrence-events</td>\n",
              "      <td>30-39</td>\n",
              "      <td>premeno</td>\n",
              "      <td>20-24</td>\n",
              "      <td>0-2</td>\n",
              "      <td>no</td>\n",
              "      <td>3</td>\n",
              "      <td>left</td>\n",
              "      <td>left_up</td>\n",
              "      <td>yes</td>\n",
              "    </tr>\n",
              "    <tr>\n",
              "      <th>283</th>\n",
              "      <td>283</td>\n",
              "      <td>recurrence-events</td>\n",
              "      <td>60-69</td>\n",
              "      <td>ge40</td>\n",
              "      <td>20-24</td>\n",
              "      <td>0-2</td>\n",
              "      <td>no</td>\n",
              "      <td>1</td>\n",
              "      <td>right</td>\n",
              "      <td>left_up</td>\n",
              "      <td>no</td>\n",
              "    </tr>\n",
              "    <tr>\n",
              "      <th>284</th>\n",
              "      <td>284</td>\n",
              "      <td>recurrence-events</td>\n",
              "      <td>40-49</td>\n",
              "      <td>ge40</td>\n",
              "      <td>30-34</td>\n",
              "      <td>3-5</td>\n",
              "      <td>no</td>\n",
              "      <td>3</td>\n",
              "      <td>left</td>\n",
              "      <td>left_low</td>\n",
              "      <td>no</td>\n",
              "    </tr>\n",
              "    <tr>\n",
              "      <th>285</th>\n",
              "      <td>285</td>\n",
              "      <td>recurrence-events</td>\n",
              "      <td>50-59</td>\n",
              "      <td>ge40</td>\n",
              "      <td>30-34</td>\n",
              "      <td>3-5</td>\n",
              "      <td>no</td>\n",
              "      <td>3</td>\n",
              "      <td>left</td>\n",
              "      <td>left_low</td>\n",
              "      <td>no</td>\n",
              "    </tr>\n",
              "  </tbody>\n",
              "</table>\n",
              "<p>286 rows × 11 columns</p>\n",
              "</div>"
            ],
            "text/plain": [
              "     Unnamed: 0                 class    AGE  ... breast breast-quad irradiat\n",
              "0             0  no-recurrence-events  30-39  ...   left    left_low       no\n",
              "1             1  no-recurrence-events  40-49  ...  right    right_up       no\n",
              "2             2  no-recurrence-events  40-49  ...   left    left_low       no\n",
              "3             3  no-recurrence-events  60-69  ...  right     left_up       no\n",
              "4             4  no-recurrence-events  40-49  ...  right   right_low       no\n",
              "..          ...                   ...    ...  ...    ...         ...      ...\n",
              "281         281     recurrence-events  30-39  ...   left     left_up       no\n",
              "282         282     recurrence-events  30-39  ...   left     left_up      yes\n",
              "283         283     recurrence-events  60-69  ...  right     left_up       no\n",
              "284         284     recurrence-events  40-49  ...   left    left_low       no\n",
              "285         285     recurrence-events  50-59  ...   left    left_low       no\n",
              "\n",
              "[286 rows x 11 columns]"
            ]
          },
          "metadata": {
            "tags": []
          },
          "execution_count": 192
        }
      ]
    },
    {
      "cell_type": "code",
      "metadata": {
        "id": "tD4dl3W__mnc"
      },
      "source": [
        "#to pass into query\n",
        "df.rename(columns={'breast-quad':'quad'}, inplace=True)\n",
        "df.rename(columns={'class':'target'}, inplace=True)\n",
        "df.rename(columns={'tumor-size':'tumor'}, inplace=True)\n",
        "df.rename(columns={'inv-nodes':'inv'}, inplace=True)\n",
        "df.rename(columns={'node-caps':'node'}, inplace=True)\n",
        "df.rename(columns={'deg-malig':'malig'}, inplace=True)\n"
      ],
      "execution_count": 265,
      "outputs": []
    },
    {
      "cell_type": "code",
      "metadata": {
        "colab": {
          "base_uri": "https://localhost:8080/"
        },
        "id": "KHq_w7GmMAng",
        "outputId": "8a9b4db4-a41c-4983-eb6f-9ea00f8e10ca"
      },
      "source": [
        "total_transactions = len(df)"
      ],
      "execution_count": 193,
      "outputs": [
        {
          "output_type": "execute_result",
          "data": {
            "text/plain": [
              "286"
            ]
          },
          "metadata": {
            "tags": []
          },
          "execution_count": 193
        }
      ]
    },
    {
      "cell_type": "code",
      "metadata": {
        "id": "novkaJxnB5Aa"
      },
      "source": [
        "#reading rule file"
      ],
      "execution_count": null,
      "outputs": []
    },
    {
      "cell_type": "code",
      "metadata": {
        "id": "p7UHC8ZGWA-V"
      },
      "source": [
        "import fileinput\n",
        "\n",
        "text = \"/content/output_rules_final_01.txt\"\n",
        "fields = {\">\": \",\", 'breast-quad':'quad', 'class':'target','tumor-size':'tumor',\n",
        "          'inv-nodes':'inv','node-caps':'node','deg-malig':'malig', '\"': ''}\n",
        "\n",
        "\n",
        "for line in fileinput.input(text, inplace=True):\n",
        "    line = line.rstrip()\n",
        "    if not line:\n",
        "        continue\n",
        "    for f_key, f_value in fields.items():\n",
        "        if f_key in line:\n",
        "            line = line.replace(f_key, f_value)\n",
        "    print(line)"
      ],
      "execution_count": 354,
      "outputs": []
    },
    {
      "cell_type": "code",
      "metadata": {
        "id": "AYp3RJ0rUhws"
      },
      "source": [
        "crimefile = open(text, 'r')\n",
        "yourResult = [line.split(',') for line in crimefile.readlines()]"
      ],
      "execution_count": 355,
      "outputs": []
    },
    {
      "cell_type": "code",
      "metadata": {
        "colab": {
          "base_uri": "https://localhost:8080/",
          "height": 52
        },
        "id": "-uueNjY2B7VZ",
        "outputId": "888ffd2b-31ea-4f24-f757-3e9df788da21"
      },
      "source": [
        "\"\"\"rules = [\n",
        "         \n",
        "     ['malig@3','target@recurrence-events','irradiat@no','menopause@ge40','breast@left','quad@left_low']    ,\n",
        "     ['tumor@50-54','breast@right','target@recurrence-events']\n",
        "]\"\"\""
      ],
      "execution_count": 356,
      "outputs": [
        {
          "output_type": "execute_result",
          "data": {
            "application/vnd.google.colaboratory.intrinsic+json": {
              "type": "string"
            },
            "text/plain": [
              "\"rules = [\\n         \\n     ['malig@3','target@recurrence-events','irradiat@no','menopause@ge40','breast@left','quad@left_low']    ,\\n     ['tumor@50-54','breast@right','target@recurrence-events']\\n]\""
            ]
          },
          "metadata": {
            "tags": []
          },
          "execution_count": 356
        }
      ]
    },
    {
      "cell_type": "code",
      "metadata": {
        "id": "4PBpwfIrLPhP"
      },
      "source": [
        "myfile = open('rpp_longest_rules_class_yes_confidence.txt', 'w')\n",
        "for rule in yourResult:\n",
        "    #print(rule)\n",
        "    list_len = len(rule) #end of the list\n",
        "    q=[]\n",
        "    for _, i in enumerate(rule):\n",
        "      #print(_)\n",
        "      i = i. rstrip(\"\\n\")\n",
        "      s=i.split(\"@\")\n",
        "      att = s[0]\n",
        "      val = s[1]\n",
        "      \n",
        "      if _ == list_len-1:\n",
        "              if type(val) == int:\n",
        "                #v.append(\"(df\"+\"['\"+att+\"']==\"+val+\")\")\n",
        "                q.append(att+\"==\"+val+\"\")\n",
        "              else:\n",
        "                #v.append(\"(df\"+\"['\"+att+\"']=='\"+val+\"')\")\n",
        "                q.append(att+\"=='\"+val+\"'\")\n",
        "      elif type(val) == int:\n",
        "        #print(type(val))\n",
        "        #v.append(\"(df\"+\"['\"+att+\"']==\"+val+\") &\")\n",
        "        q.append(att+\"==\"+val+\" & \")\n",
        "      else:\n",
        "        #v.append(\"(df\"+\"['\"+att+\"']=='\"+val+\"') & \")\n",
        "        q.append(att+\"=='\"+val+\"' & \")\n",
        "    \n",
        "    #print(q)\n",
        "    \n",
        "    \n",
        "    s = ''.join(q)\n",
        "\n",
        "    #print(\"s without removing class\", s)\n",
        "    #string without class\n",
        "    without = s.replace(\"& target=='recurrence-events'\", \"\")\n",
        "    #print(\"wihtout\",without)\n",
        "\n",
        "    s = s.replace(\"'\", '\"')\n",
        "    without = without.replace(\"'\", '\"')\n",
        "    #print(\"for rule {}, confidence is {}, string is {}\".format(rule,len(df.query(s)), s))\n",
        "    #print(\"for wihtout {}, confidence is {}\".format(without,len(df.query(without))))\n",
        "    total = len(df.query(s))\n",
        "    left = len(df.query(without))\n",
        "    if total == 0 or left ==0:\n",
        "      confidence = 0\n",
        "    else:\n",
        "      confidence = round(total/left,3)\n",
        "    #print(\"for rule {} confidence is {}\".format(rule, confidence))\n",
        "    \n",
        "    if confidence >= .80:\n",
        "      myfile.writelines(\"Rule = {} confidence ={}\".format(rule, confidence)+'\\n')\n",
        "myfile.close()\n"
      ],
      "execution_count": 358,
      "outputs": []
    }
  ]
}