{
  "nbformat": 4,
  "nbformat_minor": 0,
  "metadata": {
    "colab": {
      "name": "SPMF-algoComparision_Paper.ipynb",
      "provenance": [],
      "mount_file_id": "1D6AYMmbRGCh2ufgU2zJLPBVmqETZehtY",
      "authorship_tag": "ABX9TyNtLba6uvceST+U9he3hKUO",
      "include_colab_link": true
    },
    "kernelspec": {
      "name": "python3",
      "display_name": "Python 3"
    }
  },
  "cells": [
    {
      "cell_type": "markdown",
      "metadata": {
        "id": "view-in-github",
        "colab_type": "text"
      },
      "source": [
        "<a href=\"https://colab.research.google.com/github/BlackCurrantDS/DBSE_Project/blob/main/SPMF_algoComparision_Paper.ipynb\" target=\"_parent\"><img src=\"https://colab.research.google.com/assets/colab-badge.svg\" alt=\"Open In Colab\"/></a>"
      ]
    },
    {
      "cell_type": "code",
      "metadata": {
        "colab": {
          "base_uri": "https://localhost:8080/"
        },
        "id": "r7GqZuEDjx9j",
        "outputId": "c9809fb1-f3b5-4379-a57c-d6fcdd7cf0ad"
      },
      "source": [
        "pip install spmf"
      ],
      "execution_count": 16,
      "outputs": [
        {
          "output_type": "stream",
          "text": [
            "Requirement already satisfied: spmf in /usr/local/lib/python3.7/dist-packages (1.3)\n"
          ],
          "name": "stdout"
        }
      ]
    },
    {
      "cell_type": "code",
      "metadata": {
        "id": "K93Z50XAj1sl"
      },
      "source": [
        "from spmf import Spmf\n",
        "import pathlib"
      ],
      "execution_count": 17,
      "outputs": []
    },
    {
      "cell_type": "code",
      "metadata": {
        "id": "1Z6YYnrNlfzP"
      },
      "source": [
        "d = '/content/' #specify the folder all the input and output files are\n",
        "input_filename = \"/content/clev_data_to_numbers.csv\"\n",
        "data = \"Cleveland\""
      ],
      "execution_count": 18,
      "outputs": []
    },
    {
      "cell_type": "markdown",
      "metadata": {
        "id": "iX3ceGkZJQPy"
      },
      "source": [
        "ECLAT"
      ]
    },
    {
      "cell_type": "code",
      "metadata": {
        "id": "msx0-KjE105a"
      },
      "source": [
        "spmf_eclat = Spmf(\"Eclat\", input_filename=input_filename,\n",
        "            output_filename=\"output_eclat\", arguments=[0.01],spmf_bin_location_dir=d )"
      ],
      "execution_count": 19,
      "outputs": []
    },
    {
      "cell_type": "code",
      "metadata": {
        "id": "IggfWhIZhY_H"
      },
      "source": [
        "#spmf_eclat.run()"
      ],
      "execution_count": 20,
      "outputs": []
    },
    {
      "cell_type": "markdown",
      "metadata": {
        "id": "r0ypHKeKJUXR"
      },
      "source": [
        "Apriori"
      ]
    },
    {
      "cell_type": "code",
      "metadata": {
        "id": "szNZt4y6JaN6"
      },
      "source": [
        "spmf_apriori = Spmf(\"Apriori\", input_filename=input_filename,\n",
        "            output_filename=\"output_apriori\", arguments=[0.01],spmf_bin_location_dir=d )"
      ],
      "execution_count": 21,
      "outputs": []
    },
    {
      "cell_type": "code",
      "metadata": {
        "id": "EVW7PD3bJaN8"
      },
      "source": [
        "#spmf_apriori.run()"
      ],
      "execution_count": 22,
      "outputs": []
    },
    {
      "cell_type": "markdown",
      "metadata": {
        "id": "c_eeeM-8JWeK"
      },
      "source": [
        "FP-Growth"
      ]
    },
    {
      "cell_type": "code",
      "metadata": {
        "id": "y0J5N2JjJb6h"
      },
      "source": [
        "spmf_fpgrowth = Spmf(\"FPGrowth_itemsets\", input_filename=input_filename,\n",
        "            output_filename=\"output_FP-Growth\", arguments=[0.01],spmf_bin_location_dir=d )"
      ],
      "execution_count": 23,
      "outputs": []
    },
    {
      "cell_type": "code",
      "metadata": {
        "id": "ptOu7tsRJb6h"
      },
      "source": [
        "#spmf_fpgrowth.run()"
      ],
      "execution_count": 24,
      "outputs": []
    },
    {
      "cell_type": "markdown",
      "metadata": {
        "id": "0Jw26YSmKNvy"
      },
      "source": [
        "RunTime"
      ]
    },
    {
      "cell_type": "code",
      "metadata": {
        "colab": {
          "base_uri": "https://localhost:8080/"
        },
        "id": "M-3pLpuNKO1K",
        "outputId": "718058e9-4918-40c1-9e35-bd457c5233b7"
      },
      "source": [
        "#Apriori\n",
        "min_sup = [.01, .02,.03,.04, .05,.06,.07,.08,.09, .1, .2, .5, .6]\n",
        "import time\n",
        "run_time_apr = []\n",
        "for i in min_sup:\n",
        "    print(i)\n",
        "    start_time = time.time()\n",
        "    spmf_apriori = Spmf(\"Apriori\", input_filename=input_filename,\n",
        "            output_filename=data+\"output_apriori\"+\"_\"+str(i), arguments=[i],spmf_bin_location_dir=d )\n",
        "    spmf_apriori.run()\n",
        "    print(\"For %i--- %s seconds ---\" %(i, time.time() - start_time))\n",
        "    run_time_apr.append(time.time() - start_time)\n",
        "  \n",
        "run_time_apr"
      ],
      "execution_count": 25,
      "outputs": [
        {
          "output_type": "stream",
          "text": [
            "0.01\n",
            ">/content/spmf.jar\n",
            "=============  APRIORI - STATS =============\n",
            " Candidates count : 41549\n",
            " The algorithm stopped at size 11\n",
            " Frequent itemsets count : 26811\n",
            " Maximum memory usage : 12.963920593261719 mb\n",
            " Total time ~ 1512 ms\n",
            "===================================================\n",
            "\n",
            "For 0--- 1.786043643951416 seconds ---\n",
            "0.02\n",
            ">/content/spmf.jar\n",
            "=============  APRIORI - STATS =============\n",
            " Candidates count : 14679\n",
            " The algorithm stopped at size 10\n",
            " Frequent itemsets count : 9582\n",
            " Maximum memory usage : 9.6953125 mb\n",
            " Total time ~ 674 ms\n",
            "===================================================\n",
            "\n",
            "For 0--- 0.9369196891784668 seconds ---\n",
            "0.03\n",
            ">/content/spmf.jar\n",
            "=============  APRIORI - STATS =============\n",
            " Candidates count : 8091\n",
            " The algorithm stopped at size 10\n",
            " Frequent itemsets count : 5604\n",
            " Maximum memory usage : 10.6953125 mb\n",
            " Total time ~ 460 ms\n",
            "===================================================\n",
            "\n",
            "For 0--- 0.733154296875 seconds ---\n",
            "0.04\n",
            ">/content/spmf.jar\n",
            "=============  APRIORI - STATS =============\n",
            " Candidates count : 5314\n",
            " The algorithm stopped at size 9\n",
            " Frequent itemsets count : 3860\n",
            " Maximum memory usage : 9.500167846679688 mb\n",
            " Total time ~ 762 ms\n",
            "===================================================\n",
            "\n",
            "For 0--- 1.0448753833770752 seconds ---\n",
            "0.05\n",
            ">/content/spmf.jar\n",
            "=============  APRIORI - STATS =============\n",
            " Candidates count : 3985\n",
            " The algorithm stopped at size 9\n",
            " Frequent itemsets count : 2874\n",
            " Maximum memory usage : 8.897285461425781 mb\n",
            " Total time ~ 596 ms\n",
            "===================================================\n",
            "\n",
            "For 0--- 0.8693604469299316 seconds ---\n",
            "0.06\n",
            ">/content/spmf.jar\n",
            "=============  APRIORI - STATS =============\n",
            " Candidates count : 3116\n",
            " The algorithm stopped at size 9\n",
            " Frequent itemsets count : 2234\n",
            " Maximum memory usage : 8.298728942871094 mb\n",
            " Total time ~ 243 ms\n",
            "===================================================\n",
            "\n",
            "For 0--- 0.502469539642334 seconds ---\n",
            "0.07\n",
            ">/content/spmf.jar\n",
            "=============  APRIORI - STATS =============\n",
            " Candidates count : 2400\n",
            " The algorithm stopped at size 9\n",
            " Frequent itemsets count : 1760\n",
            " Maximum memory usage : 8.097305297851562 mb\n",
            " Total time ~ 198 ms\n",
            "===================================================\n",
            "\n",
            "For 0--- 0.47248387336730957 seconds ---\n",
            "0.08\n",
            ">/content/spmf.jar\n",
            "=============  APRIORI - STATS =============\n",
            " Candidates count : 1970\n",
            " The algorithm stopped at size 8\n",
            " Frequent itemsets count : 1416\n",
            " Maximum memory usage : 7.897285461425781 mb\n",
            " Total time ~ 268 ms\n",
            "===================================================\n",
            "\n",
            "For 0--- 0.5213742256164551 seconds ---\n",
            "0.09\n",
            ">/content/spmf.jar\n",
            "=============  APRIORI - STATS =============\n",
            " Candidates count : 1709\n",
            " The algorithm stopped at size 8\n",
            " Frequent itemsets count : 1176\n",
            " Maximum memory usage : 7.6953125 mb\n",
            " Total time ~ 158 ms\n",
            "===================================================\n",
            "\n",
            "For 0--- 0.4199643135070801 seconds ---\n",
            "0.1\n",
            ">/content/spmf.jar\n",
            "=============  APRIORI - STATS =============\n",
            " Candidates count : 1469\n",
            " The algorithm stopped at size 8\n",
            " Frequent itemsets count : 968\n",
            " Maximum memory usage : 7.5026397705078125 mb\n",
            " Total time ~ 151 ms\n",
            "===================================================\n",
            "\n",
            "For 0--- 0.4101097583770752 seconds ---\n",
            "0.2\n",
            ">/content/spmf.jar\n",
            "=============  APRIORI - STATS =============\n",
            " Candidates count : 423\n",
            " The algorithm stopped at size 6\n",
            " Frequent itemsets count : 237\n",
            " Maximum memory usage : 7.0973663330078125 mb\n",
            " Total time ~ 62 ms\n",
            "===================================================\n",
            "\n",
            "For 0--- 0.3280212879180908 seconds ---\n",
            "0.5\n",
            ">/content/spmf.jar\n",
            "=============  APRIORI - STATS =============\n",
            " Candidates count : 21\n",
            " The algorithm stopped at size 3\n",
            " Frequent itemsets count : 9\n",
            " Maximum memory usage : 6.8973388671875 mb\n",
            " Total time ~ 29 ms\n",
            "===================================================\n",
            "\n",
            "For 0--- 0.2812492847442627 seconds ---\n",
            "0.6\n",
            ">/content/spmf.jar\n",
            "=============  APRIORI - STATS =============\n",
            " Candidates count : 6\n",
            " The algorithm stopped at size 2\n",
            " Frequent itemsets count : 3\n",
            " Maximum memory usage : 6.8973388671875 mb\n",
            " Total time ~ 22 ms\n",
            "===================================================\n",
            "\n",
            "For 0--- 0.2689030170440674 seconds ---\n"
          ],
          "name": "stdout"
        },
        {
          "output_type": "execute_result",
          "data": {
            "text/plain": [
              "[1.7860774993896484,\n",
              " 0.9369485378265381,\n",
              " 0.7331826686859131,\n",
              " 1.045907974243164,\n",
              " 0.8701183795928955,\n",
              " 0.5025293827056885,\n",
              " 0.4744558334350586,\n",
              " 0.5214283466339111,\n",
              " 0.4212305545806885,\n",
              " 0.4101600646972656,\n",
              " 0.3280653953552246,\n",
              " 0.2812771797180176,\n",
              " 0.2689476013183594]"
            ]
          },
          "metadata": {
            "tags": []
          },
          "execution_count": 25
        }
      ]
    },
    {
      "cell_type": "code",
      "metadata": {
        "id": "a4i_umMXKxlD",
        "colab": {
          "base_uri": "https://localhost:8080/"
        },
        "outputId": "bb3be5dd-54c1-48ba-885d-a71bf0fcb1c0"
      },
      "source": [
        "#EClat\n",
        "\n",
        "import time\n",
        "run_time_eclat = []\n",
        "for i in min_sup:\n",
        "    print(i)\n",
        "    start_time = time.time()\n",
        "    spmf_eclat = Spmf(\"Eclat\", input_filename=input_filename,\n",
        "            output_filename=data+\"output_Eclat\"+\"_\"+str(i), arguments=[i],spmf_bin_location_dir=d )\n",
        "    spmf_eclat.run()\n",
        "    print(\"For %i--- %s seconds ---\" %(i, time.time() - start_time))\n",
        "    run_time_eclat.append(time.time() - start_time)\n",
        "  \n",
        "run_time_eclat"
      ],
      "execution_count": 26,
      "outputs": [
        {
          "output_type": "stream",
          "text": [
            "0.01\n",
            ">/content/spmf.jar\n",
            "=============  ECLAT v0.96r18 - STATS =============\n",
            " Transactions count from database : 303\n",
            " Frequent itemsets count : 26811\n",
            " Total time ~ 217 ms\n",
            " Maximum memory usage : 20.798919677734375 mb\n",
            "===================================================\n",
            "\n",
            "For 0--- 0.5009546279907227 seconds ---\n",
            "0.02\n",
            ">/content/spmf.jar\n",
            "=============  ECLAT v0.96r18 - STATS =============\n",
            " Transactions count from database : 303\n",
            " Frequent itemsets count : 9582\n",
            " Total time ~ 139 ms\n",
            " Maximum memory usage : 10.6953125 mb\n",
            "===================================================\n",
            "\n",
            "For 0--- 0.4287538528442383 seconds ---\n",
            "0.03\n",
            ">/content/spmf.jar\n",
            "=============  ECLAT v0.96r18 - STATS =============\n",
            " Transactions count from database : 303\n",
            " Frequent itemsets count : 5604\n",
            " Total time ~ 113 ms\n",
            " Maximum memory usage : 10.6953125 mb\n",
            "===================================================\n",
            "\n",
            "For 0--- 0.40639662742614746 seconds ---\n",
            "0.04\n",
            ">/content/spmf.jar\n",
            "=============  ECLAT v0.96r18 - STATS =============\n",
            " Transactions count from database : 303\n",
            " Frequent itemsets count : 3860\n",
            " Total time ~ 97 ms\n",
            " Maximum memory usage : 10.6953125 mb\n",
            "===================================================\n",
            "\n",
            "For 0--- 0.393479585647583 seconds ---\n",
            "0.05\n",
            ">/content/spmf.jar\n",
            "=============  ECLAT v0.96r18 - STATS =============\n",
            " Transactions count from database : 303\n",
            " Frequent itemsets count : 2874\n",
            " Total time ~ 94 ms\n",
            " Maximum memory usage : 10.6953125 mb\n",
            "===================================================\n",
            "\n",
            "For 0--- 0.39551520347595215 seconds ---\n",
            "0.06\n",
            ">/content/spmf.jar\n",
            "=============  ECLAT v0.96r18 - STATS =============\n",
            " Transactions count from database : 303\n",
            " Frequent itemsets count : 2234\n",
            " Total time ~ 81 ms\n",
            " Maximum memory usage : 10.6953125 mb\n",
            "===================================================\n",
            "\n",
            "For 0--- 0.3576841354370117 seconds ---\n",
            "0.07\n",
            ">/content/spmf.jar\n",
            "=============  ECLAT v0.96r18 - STATS =============\n",
            " Transactions count from database : 303\n",
            " Frequent itemsets count : 1760\n",
            " Total time ~ 90 ms\n",
            " Maximum memory usage : 10.6953125 mb\n",
            "===================================================\n",
            "\n",
            "For 0--- 0.3538174629211426 seconds ---\n",
            "0.08\n",
            ">/content/spmf.jar\n",
            "=============  ECLAT v0.96r18 - STATS =============\n",
            " Transactions count from database : 303\n",
            " Frequent itemsets count : 1416\n",
            " Total time ~ 87 ms\n",
            " Maximum memory usage : 10.6953125 mb\n",
            "===================================================\n",
            "\n",
            "For 0--- 0.3734397888183594 seconds ---\n",
            "0.09\n",
            ">/content/spmf.jar\n",
            "=============  ECLAT v0.96r18 - STATS =============\n",
            " Transactions count from database : 303\n",
            " Frequent itemsets count : 1176\n",
            " Total time ~ 73 ms\n",
            " Maximum memory usage : 10.6953125 mb\n",
            "===================================================\n",
            "\n",
            "For 0--- 0.3774747848510742 seconds ---\n",
            "0.1\n",
            ">/content/spmf.jar\n",
            "=============  ECLAT v0.96r18 - STATS =============\n",
            " Transactions count from database : 303\n",
            " Frequent itemsets count : 968\n",
            " Total time ~ 54 ms\n",
            " Maximum memory usage : 10.497398376464844 mb\n",
            "===================================================\n",
            "\n",
            "For 0--- 0.33400440216064453 seconds ---\n",
            "0.2\n",
            ">/content/spmf.jar\n",
            "=============  ECLAT v0.96r18 - STATS =============\n",
            " Transactions count from database : 303\n",
            " Frequent itemsets count : 237\n",
            " Total time ~ 43 ms\n",
            " Maximum memory usage : 8.6953125 mb\n",
            "===================================================\n",
            "\n",
            "For 0--- 0.32193827629089355 seconds ---\n",
            "0.5\n",
            ">/content/spmf.jar\n",
            "=============  ECLAT v0.96r18 - STATS =============\n",
            " Transactions count from database : 303\n",
            " Frequent itemsets count : 9\n",
            " Total time ~ 25 ms\n",
            " Maximum memory usage : 7.6953125 mb\n",
            "===================================================\n",
            "\n",
            "For 0--- 0.31867384910583496 seconds ---\n",
            "0.6\n",
            ">/content/spmf.jar\n",
            "=============  ECLAT v0.96r18 - STATS =============\n",
            " Transactions count from database : 303\n",
            " Frequent itemsets count : 3\n",
            " Total time ~ 22 ms\n",
            " Maximum memory usage : 7.502403259277344 mb\n",
            "===================================================\n",
            "\n",
            "For 0--- 0.3087189197540283 seconds ---\n"
          ],
          "name": "stdout"
        },
        {
          "output_type": "execute_result",
          "data": {
            "text/plain": [
              "[0.5009884834289551,\n",
              " 0.4287853240966797,\n",
              " 0.40713024139404297,\n",
              " 0.3935115337371826,\n",
              " 0.39554762840270996,\n",
              " 0.3577132225036621,\n",
              " 0.35384631156921387,\n",
              " 0.37348437309265137,\n",
              " 0.3775196075439453,\n",
              " 0.3340480327606201,\n",
              " 0.322037935256958,\n",
              " 0.3187108039855957,\n",
              " 0.3088071346282959]"
            ]
          },
          "metadata": {
            "tags": []
          },
          "execution_count": 26
        }
      ]
    },
    {
      "cell_type": "code",
      "metadata": {
        "id": "CaLU-mheK-As",
        "colab": {
          "base_uri": "https://localhost:8080/"
        },
        "outputId": "70055cf6-6454-484e-b6a0-d8e0f510c77c"
      },
      "source": [
        "#fp-grwoth\n",
        "\n",
        "import time\n",
        "run_time_fp = []\n",
        "for i in min_sup:\n",
        "    print(i)\n",
        "    start_time = time.time()\n",
        "    spmf_fp = Spmf(\"FPGrowth_itemsets\", input_filename=input_filename,\n",
        "            output_filename=data+\"output_fp\"+\"_\"+str(i), arguments=[i],spmf_bin_location_dir=d )\n",
        "    spmf_fp.run()\n",
        "    print(\"For %i--- %s seconds ---\" %(i, time.time() - start_time))\n",
        "    run_time_fp.append(time.time() - start_time)\n",
        "  \n",
        "run_time_fp"
      ],
      "execution_count": 27,
      "outputs": [
        {
          "output_type": "stream",
          "text": [
            "0.01\n",
            ">/content/spmf.jar\n",
            "=============  FP-GROWTH 2.42 - STATS =============\n",
            " Transactions count from database : 303\n",
            " Max memory usage: 25.867233276367188 mb \n",
            " Frequent itemsets count : 26811\n",
            " Total time ~ 240 ms\n",
            "===================================================\n",
            "\n",
            "For 0--- 0.5248622894287109 seconds ---\n",
            "0.02\n",
            ">/content/spmf.jar\n",
            "=============  FP-GROWTH 2.42 - STATS =============\n",
            " Transactions count from database : 303\n",
            " Max memory usage: 11.35552978515625 mb \n",
            " Frequent itemsets count : 9582\n",
            " Total time ~ 186 ms\n",
            "===================================================\n",
            "\n",
            "For 0--- 0.4604218006134033 seconds ---\n",
            "0.03\n",
            ">/content/spmf.jar\n",
            "=============  FP-GROWTH 2.42 - STATS =============\n",
            " Transactions count from database : 303\n",
            " Max memory usage: 6.812530517578125 mb \n",
            " Frequent itemsets count : 5604\n",
            " Total time ~ 179 ms\n",
            "===================================================\n",
            "\n",
            "For 0--- 0.4492323398590088 seconds ---\n",
            "0.04\n",
            ">/content/spmf.jar\n",
            "=============  FP-GROWTH 2.42 - STATS =============\n",
            " Transactions count from database : 303\n",
            " Max memory usage: 6.507225036621094 mb \n",
            " Frequent itemsets count : 3860\n",
            " Total time ~ 144 ms\n",
            "===================================================\n",
            "\n",
            "For 0--- 0.4107072353363037 seconds ---\n",
            "0.05\n",
            ">/content/spmf.jar\n",
            "=============  FP-GROWTH 2.42 - STATS =============\n",
            " Transactions count from database : 303\n",
            " Max memory usage: 6.507225036621094 mb \n",
            " Frequent itemsets count : 2874\n",
            " Total time ~ 138 ms\n",
            "===================================================\n",
            "\n",
            "For 0--- 0.42133259773254395 seconds ---\n",
            "0.06\n",
            ">/content/spmf.jar\n",
            "=============  FP-GROWTH 2.42 - STATS =============\n",
            " Transactions count from database : 303\n",
            " Max memory usage: 6.507225036621094 mb \n",
            " Frequent itemsets count : 2234\n",
            " Total time ~ 108 ms\n",
            "===================================================\n",
            "\n",
            "For 0--- 0.37838029861450195 seconds ---\n",
            "0.07\n",
            ">/content/spmf.jar\n",
            "=============  FP-GROWTH 2.42 - STATS =============\n",
            " Transactions count from database : 303\n",
            " Max memory usage: 6.507225036621094 mb \n",
            " Frequent itemsets count : 1760\n",
            " Total time ~ 119 ms\n",
            "===================================================\n",
            "\n",
            "For 0--- 0.3859398365020752 seconds ---\n",
            "0.08\n",
            ">/content/spmf.jar\n",
            "=============  FP-GROWTH 2.42 - STATS =============\n",
            " Transactions count from database : 303\n",
            " Max memory usage: 10.297340393066406 mb \n",
            " Frequent itemsets count : 1416\n",
            " Total time ~ 110 ms\n",
            "===================================================\n",
            "\n",
            "For 0--- 0.3852863311767578 seconds ---\n",
            "0.09\n",
            ">/content/spmf.jar\n",
            "=============  FP-GROWTH 2.42 - STATS =============\n",
            " Transactions count from database : 303\n",
            " Max memory usage: 9.89727783203125 mb \n",
            " Frequent itemsets count : 1176\n",
            " Total time ~ 91 ms\n",
            "===================================================\n",
            "\n",
            "For 0--- 0.3575718402862549 seconds ---\n",
            "0.1\n",
            ">/content/spmf.jar\n",
            "=============  FP-GROWTH 2.42 - STATS =============\n",
            " Transactions count from database : 303\n",
            " Max memory usage: 9.6953125 mb \n",
            " Frequent itemsets count : 968\n",
            " Total time ~ 71 ms\n",
            "===================================================\n",
            "\n",
            "For 0--- 0.3409693241119385 seconds ---\n",
            "0.2\n",
            ">/content/spmf.jar\n",
            "=============  FP-GROWTH 2.42 - STATS =============\n",
            " Transactions count from database : 303\n",
            " Max memory usage: 8.097305297851562 mb \n",
            " Frequent itemsets count : 237\n",
            " Total time ~ 60 ms\n",
            "===================================================\n",
            "\n",
            "For 0--- 0.3178870677947998 seconds ---\n",
            "0.5\n",
            ">/content/spmf.jar\n",
            "=============  FP-GROWTH 2.42 - STATS =============\n",
            " Transactions count from database : 303\n",
            " Max memory usage: 7.297325134277344 mb \n",
            " Frequent itemsets count : 9\n",
            " Total time ~ 41 ms\n",
            "===================================================\n",
            "\n",
            "For 0--- 0.3089277744293213 seconds ---\n",
            "0.6\n",
            ">/content/spmf.jar\n",
            "=============  FP-GROWTH 2.42 - STATS =============\n",
            " Transactions count from database : 303\n",
            " Max memory usage: 7.2973175048828125 mb \n",
            " Frequent itemsets count : 3\n",
            " Total time ~ 39 ms\n",
            "===================================================\n",
            "\n",
            "For 0--- 0.3257434368133545 seconds ---\n"
          ],
          "name": "stdout"
        },
        {
          "output_type": "execute_result",
          "data": {
            "text/plain": [
              "[0.524918794631958,\n",
              " 0.4604523181915283,\n",
              " 0.44930291175842285,\n",
              " 0.41077470779418945,\n",
              " 0.42136597633361816,\n",
              " 0.37841153144836426,\n",
              " 0.38599133491516113,\n",
              " 0.3853180408477783,\n",
              " 0.3576176166534424,\n",
              " 0.34102964401245117,\n",
              " 0.3179605007171631,\n",
              " 0.309492826461792,\n",
              " 0.3257730007171631]"
            ]
          },
          "metadata": {
            "tags": []
          },
          "execution_count": 27
        }
      ]
    },
    {
      "cell_type": "code",
      "metadata": {
        "id": "XTf1_nexmXgt"
      },
      "source": [
        "#plot it\n",
        "import seaborn as sns\n",
        "import pandas as pd\n",
        "import matplotlib.pyplot as plt\n"
      ],
      "execution_count": 28,
      "outputs": []
    },
    {
      "cell_type": "code",
      "metadata": {
        "id": "4uNnE7gboF5m"
      },
      "source": [
        "df = pd.DataFrame({'Fp_Growth': run_time_fp, 'Apriori' :run_time_apr, 'ECLAT' :run_time_eclat })"
      ],
      "execution_count": 29,
      "outputs": []
    },
    {
      "cell_type": "code",
      "metadata": {
        "id": "oBSpVXvZny1N",
        "colab": {
          "base_uri": "https://localhost:8080/",
          "height": 280
        },
        "outputId": "543225b8-d113-4946-ba2c-ef053e1c5da0"
      },
      "source": [
        "g = sns.lineplot(data=df)\n",
        "g.set_xticks(range(len(df))) # <--- set the ticks first\n",
        "g.set_xticklabels(['.01','.02', '.03','.04','.05','.06', '.07','.08','.09', '.1', '.2','.3','.4', '.5', '.6'])\n",
        "g.set(xlabel='Min_Support', ylabel='Time in Seconds')\n",
        "plt.savefig(data+\"_\"+\"Run time performance.png\")"
      ],
      "execution_count": 30,
      "outputs": [
        {
          "output_type": "display_data",
          "data": {
            "image/png": "[encoded data removed]",
            "text/plain": [
              "<Figure size 432x288 with 1 Axes>"
            ]
          },
          "metadata": {
            "tags": [],
            "needs_background": "light"
          }
        }
      ]
    }
  ]
}