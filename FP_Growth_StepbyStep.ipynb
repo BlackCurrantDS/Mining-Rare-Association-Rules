{
  "nbformat": 4,
  "nbformat_minor": 0,
  "metadata": {
    "colab": {
      "name": "FP-Growth-StepbyStep.ipynb",
      "provenance": [],
      "authorship_tag": "ABX9TyOAktoxEXnu0o+bfyBikaNz",
      "include_colab_link": true
    },
    "kernelspec": {
      "name": "python3",
      "display_name": "Python 3"
    }
  },
  "cells": [
    {
      "cell_type": "markdown",
      "metadata": {
        "id": "view-in-github",
        "colab_type": "text"
      },
      "source": [
        "<a href=\"https://colab.research.google.com/github/BlackCurrantDS/DBSE_Project/blob/main/FP_Growth_StepbyStep.ipynb\" target=\"_parent\"><img src=\"https://colab.research.google.com/assets/colab-badge.svg\" alt=\"Open In Colab\"/></a>"
      ]
    },
    {
      "cell_type": "code",
      "metadata": {
        "id": "Mzt42wUlqYS-"
      },
      "source": [
        "from collections import defaultdict\r\n",
        "from itertools import chain, combinations"
      ],
      "execution_count": 80,
      "outputs": []
    },
    {
      "cell_type": "code",
      "metadata": {
        "id": "eIKQtnNso5YH"
      },
      "source": [
        "itemSetList = [['eggs', 'bacon', 'soup'],\r\n",
        "                ['eggs', 'bacon', 'apple'],\r\n",
        "                ['soup', 'bacon', 'banana']]"
      ],
      "execution_count": 81,
      "outputs": []
    },
    {
      "cell_type": "code",
      "metadata": {
        "id": "lMsfCFDtpAz0"
      },
      "source": [
        "minsup=0.5\r\n",
        "minConf=0.5"
      ],
      "execution_count": 82,
      "outputs": []
    },
    {
      "cell_type": "code",
      "metadata": {
        "id": "01f1TzgEpa10"
      },
      "source": [
        "def getFrequencyFromList(itemSetList):\r\n",
        "    frequency = [1 for i in range(len(itemSetList))]\r\n",
        "    return frequency"
      ],
      "execution_count": 83,
      "outputs": []
    },
    {
      "cell_type": "code",
      "metadata": {
        "colab": {
          "base_uri": "https://localhost:8080/"
        },
        "id": "CgAhK2qBpXNN",
        "outputId": "3e8df7d6-432c-4804-a7f1-642ac9819132"
      },
      "source": [
        "frequency = getFrequencyFromList(itemSetList)\r\n",
        "frequency"
      ],
      "execution_count": 84,
      "outputs": [
        {
          "output_type": "execute_result",
          "data": {
            "text/plain": [
              "[1, 1, 1]"
            ]
          },
          "metadata": {
            "tags": []
          },
          "execution_count": 84
        }
      ]
    },
    {
      "cell_type": "code",
      "metadata": {
        "id": "AfQNY2x3rC5t"
      },
      "source": [
        "class Node:\r\n",
        "    def __init__(self, itemName, frequency, parentNode):\r\n",
        "        self.itemName = itemName\r\n",
        "        self.count = frequency\r\n",
        "        self.parent = parentNode\r\n",
        "        self.children = {}\r\n",
        "        self.next = None\r\n",
        "\r\n",
        "    def increment(self, frequency):\r\n",
        "        self.count += frequency\r\n",
        "\r\n",
        "    def display(self, ind=1):\r\n",
        "        print('  ' * ind, self.itemName, ' ', self.count)\r\n",
        "        for child in list(self.children.values()):\r\n",
        "            child.display(ind+1)"
      ],
      "execution_count": 85,
      "outputs": []
    },
    {
      "cell_type": "code",
      "metadata": {
        "id": "3d8YmnCxrYL2"
      },
      "source": [
        "def updateTree(item, treeNode, headerTable, frequency):\r\n",
        "    if item in treeNode.children:\r\n",
        "        # If the item already exists, increment the count\r\n",
        "        treeNode.children[item].increment(frequency)\r\n",
        "    else:\r\n",
        "        # Create a new branch\r\n",
        "        newItemNode = Node(item, frequency, treeNode)\r\n",
        "        treeNode.children[item] = newItemNode\r\n",
        "        # Link the new branch to header table\r\n",
        "        updateHeaderTable(item, newItemNode, headerTable)\r\n",
        "\r\n",
        "    return treeNode.children[item]"
      ],
      "execution_count": 86,
      "outputs": []
    },
    {
      "cell_type": "code",
      "metadata": {
        "id": "32hNU3zgryL-"
      },
      "source": [
        "def updateHeaderTable(item, targetNode, headerTable):\r\n",
        "    if(headerTable[item][1] == None):\r\n",
        "        headerTable[item][1] = targetNode\r\n",
        "    else:\r\n",
        "        currentNode = headerTable[item][1]\r\n",
        "        # Traverse to the last node then link it to the target\r\n",
        "        while currentNode.next != None:\r\n",
        "            currentNode = currentNode.next\r\n",
        "        currentNode.next = targetNode"
      ],
      "execution_count": 87,
      "outputs": []
    },
    {
      "cell_type": "code",
      "metadata": {
        "id": "uxmGBL9l2MfS"
      },
      "source": [
        "def ascendFPtree(node, prefixPath):\r\n",
        "    if node.parent != None:\r\n",
        "        prefixPath.append(node.itemName)\r\n",
        "        ascendFPtree(node.parent, prefixPath)"
      ],
      "execution_count": 88,
      "outputs": []
    },
    {
      "cell_type": "code",
      "metadata": {
        "id": "jAccBPWRp2rs"
      },
      "source": [
        "def constructTree(itemSetList, frequency, minSup):\r\n",
        "    headerTable = defaultdict(int)\r\n",
        "    print(headerTable)\r\n",
        "    # Counting frequency and create header table\r\n",
        "    for idx, itemSet in enumerate(itemSetList):\r\n",
        "        for item in itemSet:\r\n",
        "            headerTable[item] += frequency[idx]\r\n",
        "    print(\"Adding items to dictionary\",headerTable)\r\n",
        "    # Deleting items below minSup\r\n",
        "    headerTable = dict((item, sup) for item, sup in headerTable.items() if sup >= minSup)\r\n",
        "    if(len(headerTable) == 0):\r\n",
        "        return None, None\r\n",
        "    print(\"Remving items from dictionary below min sup\",headerTable)\r\n",
        "    # HeaderTable column [Item: [frequency, headNode]]\r\n",
        "    for item in headerTable:\r\n",
        "        headerTable[item] = [headerTable[item], None]\r\n",
        "    print(\"After Formatting\",headerTable)\r\n",
        "    # Init Null head node, class Node \r\n",
        "    fpTree = Node('Null', 1, None) \r\n",
        "    # Update FP tree for each cleaned and sorted itemSet\r\n",
        "    for idx, itemSet in enumerate(itemSetList):\r\n",
        "        itemSet = [item for item in itemSet if item in headerTable]\r\n",
        "        itemSet.sort(key=lambda item: headerTable[item][0], reverse=True)\r\n",
        "        # Traverse from root to leaf, update tree with given item\r\n",
        "        currentNode = fpTree\r\n",
        "        for item in itemSet:\r\n",
        "            currentNode = updateTree(item, currentNode, headerTable, frequency[idx])\r\n",
        "    print(\"headerTable\",headerTable)\r\n",
        "    print(\"fpTree\",fpTree)\r\n",
        "    return fpTree, headerTable"
      ],
      "execution_count": 89,
      "outputs": []
    },
    {
      "cell_type": "code",
      "metadata": {
        "id": "4yezkF0ItP6o"
      },
      "source": [
        "def findPrefixPath(basePat, headerTable):\r\n",
        "    # First node in linked list\r\n",
        "    treeNode = headerTable[basePat][1] \r\n",
        "    condPats = []\r\n",
        "    frequency = []\r\n",
        "    while treeNode != None:\r\n",
        "        prefixPath = []\r\n",
        "        # From leaf node all the way to root\r\n",
        "        ascendFPtree(treeNode, prefixPath)  \r\n",
        "        if len(prefixPath) > 1:\r\n",
        "            # Storing the prefix path and it's corresponding count\r\n",
        "            condPats.append(prefixPath[1:])\r\n",
        "            frequency.append(treeNode.count)\r\n",
        "\r\n",
        "        # Go to next node\r\n",
        "        treeNode = treeNode.next  \r\n",
        "    return condPats, frequency"
      ],
      "execution_count": 90,
      "outputs": []
    },
    {
      "cell_type": "code",
      "metadata": {
        "id": "Ffmmw_A3sUfO"
      },
      "source": [
        "def mineTree(headerTable, minSup, preFix, freqItemList):\r\n",
        "    # Sort the items with frequency and create a list\r\n",
        "    sortedItemList = [item[0] for item in sorted(list(headerTable.items()), key=lambda p:p[1][0])]\r\n",
        "    print(\"sortedItemList\", sortedItemList) \r\n",
        "    # Start with the lowest frequency\r\n",
        "    for item in sortedItemList:  \r\n",
        "        # Pattern growth is achieved by the concatenation of suffix pattern with frequent patterns generated from conditional FP-tree\r\n",
        "        newFreqSet = preFix.copy()\r\n",
        "        print(\"newFreqSet\",newFreqSet)\r\n",
        "        newFreqSet.add(item)\r\n",
        "        print(\"newFreqSet\",newFreqSet)\r\n",
        "        freqItemList.append(newFreqSet)\r\n",
        "        print(\"freqItemList\",freqItemList)\r\n",
        "        # Find all prefix path, constrcut conditional pattern base\r\n",
        "        conditionalPattBase, frequency = findPrefixPath(item, headerTable) \r\n",
        "        # Construct conditonal FP Tree with conditional pattern base\r\n",
        "        conditionalTree, newHeaderTable = constructTree(conditionalPattBase, frequency, minSup) \r\n",
        "        if newHeaderTable != None:\r\n",
        "            # Mining recursively on the tree\r\n",
        "            mineTree(newHeaderTable, minSup,\r\n",
        "                       newFreqSet, freqItemList)"
      ],
      "execution_count": 91,
      "outputs": []
    },
    {
      "cell_type": "code",
      "metadata": {
        "id": "Tsci-r9l2oVR"
      },
      "source": [
        "def powerset(s):\r\n",
        "    return chain.from_iterable(combinations(s, r) for r in range(1, len(s)))\r\n",
        "\r\n",
        "def getSupport(testSet, itemSetList):\r\n",
        "    count = 0\r\n",
        "    for itemSet in itemSetList:\r\n",
        "        if(set(testSet).issubset(itemSet)):\r\n",
        "            count += 1\r\n",
        "    return count"
      ],
      "execution_count": 92,
      "outputs": []
    },
    {
      "cell_type": "code",
      "metadata": {
        "id": "UHY776042fVq"
      },
      "source": [
        "def associationRule(freqItemSet, itemSetList, minConf):\r\n",
        "    rules = []\r\n",
        "    for itemSet in freqItemSet:\r\n",
        "        subsets = powerset(itemSet)\r\n",
        "        print(\"subsets\",subsets)\r\n",
        "        itemSetSup = getSupport(itemSet, itemSetList)\r\n",
        "        print(\"itemSetSup\",itemSetSup)\r\n",
        "        for s in subsets:\r\n",
        "            confidence = float(itemSetSup / getSupport(s, itemSetList))\r\n",
        "            print(\"confidence\",confidence)\r\n",
        "            if(confidence > minConf):\r\n",
        "              rules.append([set(s), set(itemSet.difference(s)), confidence])\r\n",
        "    print(\"rules\", rules)\r\n",
        "    return rules"
      ],
      "execution_count": 93,
      "outputs": []
    },
    {
      "cell_type": "code",
      "metadata": {
        "id": "2Maq_ayupVoF"
      },
      "source": [
        "def fpgrowth(itemSetList, minSupRatio, minConf):\r\n",
        "    frequency = getFrequencyFromList(itemSetList)\r\n",
        "    print(frequency)\r\n",
        "    minSup = len(itemSetList) * minSupRatio\r\n",
        "    print(minSup)\r\n",
        "    fpTree, headerTable = constructTree(itemSetList, frequency, minSup)\r\n",
        "    print(\"headerTable final\",headerTable)\r\n",
        "    print(\"fpTree final\",fpTree)\r\n",
        "    if(fpTree == None):\r\n",
        "        print('No frequent item set')\r\n",
        "    else:\r\n",
        "        freqItems = []\r\n",
        "        mineTree(headerTable, minSup, set(), freqItems)\r\n",
        "        rules = associationRule(freqItems, itemSetList, minConf)\r\n",
        "        return freqItems, rules"
      ],
      "execution_count": 94,
      "outputs": []
    },
    {
      "cell_type": "code",
      "metadata": {
        "colab": {
          "base_uri": "https://localhost:8080/"
        },
        "id": "g3AJxGEvpzMs",
        "outputId": "d36868b1-c5de-4871-e271-076ba93b290e"
      },
      "source": [
        "fpgrowth(itemSetList, minSupRatio=0.5, minConf=0.5)"
      ],
      "execution_count": 95,
      "outputs": [
        {
          "output_type": "stream",
          "text": [
            "[1, 1, 1]\n",
            "1.5\n",
            "defaultdict(<class 'int'>, {})\n",
            "Adding items to dictionary defaultdict(<class 'int'>, {'eggs': 2, 'bacon': 3, 'soup': 2, 'apple': 1, 'banana': 1})\n",
            "Remving items from dictionary below min sup {'eggs': 2, 'bacon': 3, 'soup': 2}\n",
            "After Formatting {'eggs': [2, None], 'bacon': [3, None], 'soup': [2, None]}\n",
            "headerTable {'eggs': [2, <__main__.Node object at 0x7fc633e63d30>], 'bacon': [3, <__main__.Node object at 0x7fc633e63390>], 'soup': [2, <__main__.Node object at 0x7fc633e63ac8>]}\n",
            "fpTree <__main__.Node object at 0x7fc633e63240>\n",
            "headerTable final {'eggs': [2, <__main__.Node object at 0x7fc633e63d30>], 'bacon': [3, <__main__.Node object at 0x7fc633e63390>], 'soup': [2, <__main__.Node object at 0x7fc633e63ac8>]}\n",
            "fpTree final <__main__.Node object at 0x7fc633e63240>\n",
            "sortedItemList ['eggs', 'soup', 'bacon']\n",
            "newFreqSet set()\n",
            "newFreqSet {'eggs'}\n",
            "freqItemList [{'eggs'}]\n",
            "defaultdict(<class 'int'>, {})\n",
            "Adding items to dictionary defaultdict(<class 'int'>, {'bacon': 2})\n",
            "Remving items from dictionary below min sup {'bacon': 2}\n",
            "After Formatting {'bacon': [2, None]}\n",
            "headerTable {'bacon': [2, <__main__.Node object at 0x7fc633e633c8>]}\n",
            "fpTree <__main__.Node object at 0x7fc633e63048>\n",
            "sortedItemList ['bacon']\n",
            "newFreqSet {'eggs'}\n",
            "newFreqSet {'bacon', 'eggs'}\n",
            "freqItemList [{'eggs'}, {'bacon', 'eggs'}]\n",
            "defaultdict(<class 'int'>, {})\n",
            "Adding items to dictionary defaultdict(<class 'int'>, {})\n",
            "newFreqSet set()\n",
            "newFreqSet {'soup'}\n",
            "freqItemList [{'eggs'}, {'bacon', 'eggs'}, {'soup'}]\n",
            "defaultdict(<class 'int'>, {})\n",
            "Adding items to dictionary defaultdict(<class 'int'>, {'eggs': 1, 'bacon': 2})\n",
            "Remving items from dictionary below min sup {'bacon': 2}\n",
            "After Formatting {'bacon': [2, None]}\n",
            "headerTable {'bacon': [2, <__main__.Node object at 0x7fc633e639b0>]}\n",
            "fpTree <__main__.Node object at 0x7fc633e63860>\n",
            "sortedItemList ['bacon']\n",
            "newFreqSet {'soup'}\n",
            "newFreqSet {'soup', 'bacon'}\n",
            "freqItemList [{'eggs'}, {'bacon', 'eggs'}, {'soup'}, {'soup', 'bacon'}]\n",
            "defaultdict(<class 'int'>, {})\n",
            "Adding items to dictionary defaultdict(<class 'int'>, {})\n",
            "newFreqSet set()\n",
            "newFreqSet {'bacon'}\n",
            "freqItemList [{'eggs'}, {'bacon', 'eggs'}, {'soup'}, {'soup', 'bacon'}, {'bacon'}]\n",
            "defaultdict(<class 'int'>, {})\n",
            "Adding items to dictionary defaultdict(<class 'int'>, {})\n",
            "subsets <itertools.chain object at 0x7fc6347f47b8>\n",
            "itemSetSup 2\n",
            "subsets <itertools.chain object at 0x7fc633eeb908>\n",
            "itemSetSup 2\n",
            "confidence 0.6666666666666666\n",
            "confidence 1.0\n",
            "subsets <itertools.chain object at 0x7fc6348a3f28>\n",
            "itemSetSup 2\n",
            "subsets <itertools.chain object at 0x7fc633f3e6d8>\n",
            "itemSetSup 2\n",
            "confidence 1.0\n",
            "confidence 0.6666666666666666\n",
            "subsets <itertools.chain object at 0x7fc633f3eac8>\n",
            "itemSetSup 3\n",
            "rules [[{'bacon'}, {'eggs'}, 0.6666666666666666], [{'eggs'}, {'bacon'}, 1.0], [{'soup'}, {'bacon'}, 1.0], [{'bacon'}, {'soup'}, 0.6666666666666666]]\n"
          ],
          "name": "stdout"
        },
        {
          "output_type": "execute_result",
          "data": {
            "text/plain": [
              "([{'eggs'}, {'bacon', 'eggs'}, {'soup'}, {'bacon', 'soup'}, {'bacon'}],\n",
              " [[{'bacon'}, {'eggs'}, 0.6666666666666666],\n",
              "  [{'eggs'}, {'bacon'}, 1.0],\n",
              "  [{'soup'}, {'bacon'}, 1.0],\n",
              "  [{'bacon'}, {'soup'}, 0.6666666666666666]])"
            ]
          },
          "metadata": {
            "tags": []
          },
          "execution_count": 95
        }
      ]
    }
  ]
}