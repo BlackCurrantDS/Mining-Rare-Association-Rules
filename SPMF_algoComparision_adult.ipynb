{
  "nbformat": 4,
  "nbformat_minor": 0,
  "metadata": {
    "colab": {
      "name": "SPMF-algoComparision_adult.ipynb",
      "provenance": [],
      "authorship_tag": "ABX9TyMdD6InclrXuMtRkIe7IF88",
      "include_colab_link": true
    },
    "kernelspec": {
      "name": "python3",
      "display_name": "Python 3"
    }
  },
  "cells": [
    {
      "cell_type": "markdown",
      "metadata": {
        "id": "view-in-github",
        "colab_type": "text"
      },
      "source": [
        "<a href=\"https://colab.research.google.com/github/BlackCurrantDS/DBSE_Project/blob/main/SPMF_algoComparision_adult.ipynb\" target=\"_parent\"><img src=\"https://colab.research.google.com/assets/colab-badge.svg\" alt=\"Open In Colab\"/></a>"
      ]
    },
    {
      "cell_type": "code",
      "metadata": {
        "colab": {
          "base_uri": "https://localhost:8080/"
        },
        "id": "r7GqZuEDjx9j",
        "outputId": "23898077-c8b5-486a-cfe8-fb3015443383"
      },
      "source": [
        "pip install spmf"
      ],
      "execution_count": 1,
      "outputs": [
        {
          "output_type": "stream",
          "text": [
            "Collecting spmf\n",
            "  Downloading https://files.pythonhosted.org/packages/8c/ff/15ed66193c66c7ea933f8b29c6f46e5dfee90584a0fbb68bd5cb8a151c74/spmf-1.3-py3-none-any.whl\n",
            "Installing collected packages: spmf\n",
            "Successfully installed spmf-1.3\n"
          ],
          "name": "stdout"
        }
      ]
    },
    {
      "cell_type": "code",
      "metadata": {
        "id": "K93Z50XAj1sl"
      },
      "source": [
        "from spmf import Spmf\r\n",
        "import pathlib"
      ],
      "execution_count": 2,
      "outputs": []
    },
    {
      "cell_type": "code",
      "metadata": {
        "id": "1Z6YYnrNlfzP"
      },
      "source": [
        "d = '/content/' #specify the folder all the input and output files are\r\n",
        "input_filename = \"/content/adult_train_transactions_rpgrowth.csv.txt\"\r\n",
        "data = \"Adult\""
      ],
      "execution_count": 3,
      "outputs": []
    },
    {
      "cell_type": "markdown",
      "metadata": {
        "id": "iX3ceGkZJQPy"
      },
      "source": [
        "ECLAT"
      ]
    },
    {
      "cell_type": "code",
      "metadata": {
        "id": "msx0-KjE105a"
      },
      "source": [
        "spmf_eclat = Spmf(\"Eclat\", input_filename=input_filename,\r\n",
        "            output_filename=\"output_eclat\", arguments=[0.01],spmf_bin_location_dir=d )"
      ],
      "execution_count": 4,
      "outputs": []
    },
    {
      "cell_type": "code",
      "metadata": {
        "colab": {
          "base_uri": "https://localhost:8080/"
        },
        "id": "IggfWhIZhY_H",
        "outputId": "8048544f-3bac-470c-9841-cf2a7ad26fe9"
      },
      "source": [
        "spmf_eclat.run()"
      ],
      "execution_count": 5,
      "outputs": [
        {
          "output_type": "stream",
          "text": [
            ">/content/spmf.jar\n",
            "=============  ECLAT v0.96r18 - STATS =============\n",
            " Transactions count from database : 32561\n",
            " Frequent itemsets count : 248696\n",
            " Total time ~ 19330 ms\n",
            " Maximum memory usage : 331.73876953125 mb\n",
            "===================================================\n",
            "\n"
          ],
          "name": "stdout"
        }
      ]
    },
    {
      "cell_type": "markdown",
      "metadata": {
        "id": "r0ypHKeKJUXR"
      },
      "source": [
        "Apriori"
      ]
    },
    {
      "cell_type": "code",
      "metadata": {
        "id": "szNZt4y6JaN6"
      },
      "source": [
        "spmf_apriori = Spmf(\"Apriori\", input_filename=input_filename,\r\n",
        "            output_filename=\"output_apriori\", arguments=[0.01],spmf_bin_location_dir=d )"
      ],
      "execution_count": 6,
      "outputs": []
    },
    {
      "cell_type": "code",
      "metadata": {
        "id": "EVW7PD3bJaN8",
        "colab": {
          "base_uri": "https://localhost:8080/"
        },
        "outputId": "f6c55e82-f04f-4b06-99ec-864e0cd09c86"
      },
      "source": [
        "spmf_apriori.run()"
      ],
      "execution_count": 7,
      "outputs": [
        {
          "output_type": "stream",
          "text": [
            ">/content/spmf.jar\n",
            "=============  APRIORI - STATS =============\n",
            " Candidates count : 266920\n",
            " The algorithm stopped at size 14\n",
            " Frequent itemsets count : 248696\n",
            " Maximum memory usage : 69.35595703125 mb\n",
            " Total time ~ 227124 ms\n",
            "===================================================\n",
            "\n"
          ],
          "name": "stdout"
        }
      ]
    },
    {
      "cell_type": "markdown",
      "metadata": {
        "id": "c_eeeM-8JWeK"
      },
      "source": [
        "FP-Growth"
      ]
    },
    {
      "cell_type": "code",
      "metadata": {
        "id": "y0J5N2JjJb6h"
      },
      "source": [
        "spmf_fpgrowth = Spmf(\"FPGrowth_itemsets\", input_filename=input_filename,\r\n",
        "            output_filename=\"output_FP-Growth\", arguments=[0.01],spmf_bin_location_dir=d )"
      ],
      "execution_count": 8,
      "outputs": []
    },
    {
      "cell_type": "code",
      "metadata": {
        "id": "ptOu7tsRJb6h",
        "colab": {
          "base_uri": "https://localhost:8080/"
        },
        "outputId": "9d635551-56e0-4e92-a10c-5639fe883b41"
      },
      "source": [
        "spmf_fpgrowth.run()"
      ],
      "execution_count": 9,
      "outputs": [
        {
          "output_type": "stream",
          "text": [
            ">/content/spmf.jar\n",
            "=============  FP-GROWTH 2.42 - STATS =============\n",
            " Transactions count from database : 32561\n",
            " Max memory usage: 27.60472869873047 mb \n",
            " Frequent itemsets count : 248696\n",
            " Total time ~ 3060 ms\n",
            "===================================================\n",
            "\n"
          ],
          "name": "stdout"
        }
      ]
    },
    {
      "cell_type": "markdown",
      "metadata": {
        "id": "0Jw26YSmKNvy"
      },
      "source": [
        "RunTime"
      ]
    },
    {
      "cell_type": "code",
      "metadata": {
        "id": "M-3pLpuNKO1K",
        "colab": {
          "base_uri": "https://localhost:8080/"
        },
        "outputId": "642e03a6-92ae-446f-f8ef-ceff1b32d13c"
      },
      "source": [
        "#Apriori\r\n",
        "min_sup = [.01, .02,.03,.04, .05,.06,.07,.08,.09, .1, .2, .5, .6]\r\n",
        "import time\r\n",
        "run_time_apr = []\r\n",
        "for i in min_sup:\r\n",
        "    print(i)\r\n",
        "    start_time = time.time()\r\n",
        "    spmf_apriori = Spmf(\"Apriori\", input_filename=input_filename,\r\n",
        "            output_filename=\"output_apriori\", arguments=[i],spmf_bin_location_dir=d )\r\n",
        "    spmf_apriori.run()\r\n",
        "    print(\"For %i--- %s seconds ---\" %(i, time.time() - start_time))\r\n",
        "    run_time_apr.append(time.time() - start_time)\r\n",
        "  \r\n",
        "run_time_apr"
      ],
      "execution_count": null,
      "outputs": [
        {
          "output_type": "stream",
          "text": [
            "0.01\n"
          ],
          "name": "stdout"
        }
      ]
    },
    {
      "cell_type": "code",
      "metadata": {
        "id": "a4i_umMXKxlD"
      },
      "source": [
        "#EClat\r\n",
        "\r\n",
        "import time\r\n",
        "run_time_eclat = []\r\n",
        "for i in min_sup:\r\n",
        "    print(i)\r\n",
        "    start_time = time.time()\r\n",
        "    spmf_eclat = Spmf(\"Eclat\", input_filename=input_filename,\r\n",
        "            output_filename=\"output_Eclat\", arguments=[i],spmf_bin_location_dir=d )\r\n",
        "    spmf_eclat.run()\r\n",
        "    print(\"For %i--- %s seconds ---\" %(i, time.time() - start_time))\r\n",
        "    run_time_eclat.append(time.time() - start_time)\r\n",
        "  \r\n",
        "run_time_eclat"
      ],
      "execution_count": null,
      "outputs": []
    },
    {
      "cell_type": "code",
      "metadata": {
        "id": "CaLU-mheK-As"
      },
      "source": [
        "#fp-grwoth\r\n",
        "\r\n",
        "import time\r\n",
        "run_time_fp = []\r\n",
        "for i in min_sup:\r\n",
        "    print(i)\r\n",
        "    start_time = time.time()\r\n",
        "    spmf_fp = Spmf(\"FPGrowth_itemsets\", input_filename=input_filename,\r\n",
        "            output_filename=\"output_fp\", arguments=[i],spmf_bin_location_dir=d )\r\n",
        "    spmf_fp.run()\r\n",
        "    print(\"For %i--- %s seconds ---\" %(i, time.time() - start_time))\r\n",
        "    run_time_fp.append(time.time() - start_time)\r\n",
        "  \r\n",
        "run_time_fp"
      ],
      "execution_count": null,
      "outputs": []
    },
    {
      "cell_type": "code",
      "metadata": {
        "id": "XTf1_nexmXgt"
      },
      "source": [
        "#plot it\r\n",
        "import seaborn as sns\r\n",
        "import pandas as pd\r\n",
        "import matplotlib.pyplot as plt\r\n"
      ],
      "execution_count": null,
      "outputs": []
    },
    {
      "cell_type": "code",
      "metadata": {
        "id": "4uNnE7gboF5m"
      },
      "source": [
        "df = pd.DataFrame({'Fp_Growth': run_time_fp, 'Apriori' :run_time_apr, 'ECLAT' :run_time_eclat })"
      ],
      "execution_count": null,
      "outputs": []
    },
    {
      "cell_type": "code",
      "metadata": {
        "id": "oBSpVXvZny1N"
      },
      "source": [
        "g = sns.lineplot(data=df)\r\n",
        "g.set_xticks(range(len(df))) # <--- set the ticks first\r\n",
        "g.set_xticklabels(['.01','.02', '.03','.04','.05', '.1', '.2','.3','.4', '.5', '.6'])\r\n",
        "g.set(xlabel='Min_Support', ylabel='Time in Seconds')\r\n",
        "plt.savefig(data+\"_\"+\"Run time performance.png\")"
      ],
      "execution_count": null,
      "outputs": []
    }
  ]
}