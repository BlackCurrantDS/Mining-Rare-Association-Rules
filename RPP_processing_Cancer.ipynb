{
  "nbformat": 4,
  "nbformat_minor": 0,
  "metadata": {
    "colab": {
      "name": "RPP_processing_Cancer.ipynb",
      "provenance": [],
      "mount_file_id": "1qrq5ZbKyiWmFUdon1mGsERX6LtU3vl7d",
      "authorship_tag": "ABX9TyOItihoWMNYVGPnj18HYKjD",
      "include_colab_link": true
    },
    "kernelspec": {
      "name": "python3",
      "display_name": "Python 3"
    }
  },
  "cells": [
    {
      "cell_type": "markdown",
      "metadata": {
        "id": "view-in-github",
        "colab_type": "text"
      },
      "source": [
        "<a href=\"https://colab.research.google.com/github/BlackCurrantDS/DBSE_Project/blob/main/RPP_processing_Cancer.ipynb\" target=\"_parent\"><img src=\"https://colab.research.google.com/assets/colab-badge.svg\" alt=\"Open In Colab\"/></a>"
      ]
    },
    {
      "cell_type": "code",
      "metadata": {
        "id": "0Ople973I3U9"
      },
      "source": [
        "import pandas as pd\n",
        "import numpy as np\n",
        "import csv"
      ],
      "execution_count": 1,
      "outputs": []
    },
    {
      "cell_type": "markdown",
      "metadata": {
        "id": "7oSKA2qaTS63"
      },
      "source": [
        "Checking common line"
      ]
    },
    {
      "cell_type": "code",
      "metadata": {
        "colab": {
          "base_uri": "https://localhost:8080/"
        },
        "id": "B3vcHxq-WL5d",
        "outputId": "9a3bf4f8-c410-4a0b-ddc1-e961680f6f23"
      },
      "source": [
        "min_support = np.arange(0.01, .11, 0.01)\n",
        "min_support"
      ],
      "execution_count": 4,
      "outputs": [
        {
          "output_type": "execute_result",
          "data": {
            "text/plain": [
              "array([0.01, 0.02, 0.03, 0.04, 0.05, 0.06, 0.07, 0.08, 0.09, 0.1 ])"
            ]
          },
          "metadata": {
            "tags": []
          },
          "execution_count": 4
        }
      ]
    },
    {
      "cell_type": "code",
      "metadata": {
        "colab": {
          "base_uri": "https://localhost:8080/"
        },
        "id": "WNwAXrWCW5PM",
        "outputId": "0ef9631e-685b-4c2a-c189-c714f58a3b68"
      },
      "source": [
        "for i in (min_support):\n",
        "  print(round(i,2))\n",
        "  print(str(round(i,2)).replace('0.', ''))"
      ],
      "execution_count": 6,
      "outputs": [
        {
          "output_type": "stream",
          "text": [
            "0.01\n",
            "01\n",
            "0.02\n",
            "02\n",
            "0.03\n",
            "03\n",
            "0.04\n",
            "04\n",
            "0.05\n",
            "05\n",
            "0.06\n",
            "06\n",
            "0.07\n",
            "07\n",
            "0.08\n",
            "08\n",
            "0.09\n",
            "09\n",
            "0.1\n",
            "1\n"
          ],
          "name": "stdout"
        }
      ]
    },
    {
      "cell_type": "code",
      "metadata": {
        "id": "2gLxHzdOXZxV"
      },
      "source": [
        "def common_itemsets(file1, file2):\n",
        "\n",
        "\n",
        "        f_csv_1 = open(file1)\n",
        "        f_csv_2 = open(file2)\n",
        "\n",
        "        #print(f_csv_1)\n",
        "\n",
        "        csv_1 = [line.rstrip() for line in f_csv_1.readlines()]\n",
        "        csv_2 = [line.rstrip() for line in f_csv_2.readlines()]\n",
        "\n",
        "        #print(csv_1)\n",
        "        #print(csv_2)\n",
        "\n",
        "        f_csv_1.close()\n",
        "        f_csv_2.close()\n",
        "\n",
        "        #print(set(csv_1))\n",
        "        #print(set(csv_2))\n",
        "\n",
        "        intersection = list(set(csv_1) & set(csv_2))\n",
        "        \n",
        "        #print(intersection)\n",
        "\n",
        "\n",
        "        out_1 = open(d+\"intersection.csv\", \"w\")\n",
        "\n",
        "        for row in intersection:\n",
        "              #print(row)\n",
        "              out_1.write(\"%s\\n\" % row)\n",
        "        out_1.close()"
      ],
      "execution_count": 12,
      "outputs": []
    },
    {
      "cell_type": "code",
      "metadata": {
        "id": "8AmnH9VIpbPg"
      },
      "source": [
        "d = \"/content/drive/MyDrive/BreastCancer_Dataset1202/RPP/\"\n",
        "for i in min_support:\n",
        "\n",
        "      file_to_process = d+\"output\"+str(round(i,2)).replace('0.', '')+\".txt\"\n",
        "        #removing sup from rpp file\n",
        "      f = open(file_to_process,'r')\n",
        "      lst = []\n",
        "      for line in f:\n",
        "        line  = line.split(\"SUP\", 1)\n",
        "        \n",
        "        line  = line[0]\n",
        "        lst.append(line)\n",
        "      f.close()\n",
        "      f = open(file_to_process,'w')\n",
        "      for line in lst:\n",
        "          f.write(line+'\\n')\n",
        "      f.close()\n",
        "\n",
        "          #removing sup\n",
        "      f = open(file_to_process,'r')\n",
        "      lst = []\n",
        "      for line in f:\n",
        "        line  = line.split(\"#\", 1)\n",
        "\n",
        "        line  = line[0]\n",
        "        lst.append(line)\n",
        "      f.close()\n",
        "      \n",
        "      f = open(file_to_process,'w')\n",
        "      for line in lst:\n",
        "        f.write(line+'\\n')\n",
        "      f.close()\n"
      ],
      "execution_count": 8,
      "outputs": []
    },
    {
      "cell_type": "code",
      "metadata": {
        "colab": {
          "base_uri": "https://localhost:8080/"
        },
        "id": "083MQqAnYZhE",
        "outputId": "e324323e-6c62-4991-ab6b-a9c9d333dd87"
      },
      "source": [
        "open(d+\"intersection.csv\", 'a').close()\n",
        "for i in min_support:\n",
        "  \n",
        "  print(round(i,2))\n",
        "  \n",
        "  file1 = d+\"intersection.csv\"\n",
        "\n",
        "  file2 = d+\"output\"+str(round(i,2)).replace('0.', '')+\".txt\"\n",
        "\n",
        "  if os.stat(file1).st_size == 0:\n",
        "    file1 = d+\"output\"+str(round(i,2)).replace('0.', '')+\".txt\"\n",
        "  \n",
        "  print(file1)\n",
        "  print(file2)\n",
        "  common_itemsets(file1, file2)"
      ],
      "execution_count": 14,
      "outputs": [
        {
          "output_type": "stream",
          "text": [
            "0.01\n",
            "/content/drive/MyDrive/BreastCancer_Dataset1202/RPP/output01.txt\n",
            "/content/drive/MyDrive/BreastCancer_Dataset1202/RPP/output01.txt\n",
            "0.02\n",
            "/content/drive/MyDrive/BreastCancer_Dataset1202/RPP/intersection.csv\n",
            "/content/drive/MyDrive/BreastCancer_Dataset1202/RPP/output02.txt\n",
            "0.03\n",
            "/content/drive/MyDrive/BreastCancer_Dataset1202/RPP/intersection.csv\n",
            "/content/drive/MyDrive/BreastCancer_Dataset1202/RPP/output03.txt\n",
            "0.04\n",
            "/content/drive/MyDrive/BreastCancer_Dataset1202/RPP/intersection.csv\n",
            "/content/drive/MyDrive/BreastCancer_Dataset1202/RPP/output04.txt\n",
            "0.05\n",
            "/content/drive/MyDrive/BreastCancer_Dataset1202/RPP/intersection.csv\n",
            "/content/drive/MyDrive/BreastCancer_Dataset1202/RPP/output05.txt\n",
            "0.06\n",
            "/content/drive/MyDrive/BreastCancer_Dataset1202/RPP/intersection.csv\n",
            "/content/drive/MyDrive/BreastCancer_Dataset1202/RPP/output06.txt\n",
            "0.07\n",
            "/content/drive/MyDrive/BreastCancer_Dataset1202/RPP/intersection.csv\n",
            "/content/drive/MyDrive/BreastCancer_Dataset1202/RPP/output07.txt\n",
            "0.08\n",
            "/content/drive/MyDrive/BreastCancer_Dataset1202/RPP/intersection.csv\n",
            "/content/drive/MyDrive/BreastCancer_Dataset1202/RPP/output08.txt\n",
            "0.09\n",
            "/content/drive/MyDrive/BreastCancer_Dataset1202/RPP/intersection.csv\n",
            "/content/drive/MyDrive/BreastCancer_Dataset1202/RPP/output09.txt\n",
            "0.1\n",
            "/content/drive/MyDrive/BreastCancer_Dataset1202/RPP/intersection.csv\n",
            "/content/drive/MyDrive/BreastCancer_Dataset1202/RPP/output1.txt\n"
          ],
          "name": "stdout"
        }
      ]
    },
    {
      "cell_type": "code",
      "metadata": {
        "colab": {
          "base_uri": "https://localhost:8080/"
        },
        "id": "g-FtgEIaukBl",
        "outputId": "38cf939c-c89a-406a-a2fb-f8e63d6a714e"
      },
      "source": [
        "print(\"Done generating common itemsets\")"
      ],
      "execution_count": 15,
      "outputs": [
        {
          "output_type": "stream",
          "text": [
            "Done generating common itemsets\n"
          ],
          "name": "stdout"
        }
      ]
    },
    {
      "cell_type": "markdown",
      "metadata": {
        "id": "aIAZGFzvu3uV"
      },
      "source": [
        "Getting key of original dataset"
      ]
    },
    {
      "cell_type": "code",
      "metadata": {
        "id": "rqxcV5VUxdr5"
      },
      "source": [
        "originalfile = \"/content/drive/MyDrive/DataSets_for_Paper/bcancer_data_original.csv\" #reading original file"
      ],
      "execution_count": 68,
      "outputs": []
    },
    {
      "cell_type": "code",
      "metadata": {
        "id": "PT3BxA8MZXBS"
      },
      "source": [
        "df = pd.read_csv(originalfile)"
      ],
      "execution_count": 69,
      "outputs": []
    },
    {
      "cell_type": "code",
      "metadata": {
        "id": "n9GC0pxrakqi"
      },
      "source": [
        "#removing index column\n",
        "cols = [0]\n",
        "df.drop(df.columns[cols],axis=1,inplace=True)"
      ],
      "execution_count": 70,
      "outputs": []
    },
    {
      "cell_type": "code",
      "metadata": {
        "id": "IhqZGAf19nbS"
      },
      "source": [
        "for i,n in enumerate(df.columns):\n",
        "  if n=='class':\n",
        "    df[n] = 'class@' + df[n].astype(str)\n",
        "  else:\n",
        "    df[n] = 'A'+str(i)+'@' + df[n].astype(str)"
      ],
      "execution_count": 71,
      "outputs": []
    },
    {
      "cell_type": "code",
      "metadata": {
        "id": "u3QFGTHxaGKf"
      },
      "source": [
        "uni = pd.DataFrame()\n",
        "for col in df:\n",
        "    uni= pd.concat([uni, pd.DataFrame(df[col].unique())], ignore_index=True)"
      ],
      "execution_count": 72,
      "outputs": []
    },
    {
      "cell_type": "code",
      "metadata": {
        "colab": {
          "base_uri": "https://localhost:8080/",
          "height": 1000
        },
        "id": "X-Lnq3Jmc1Ws",
        "outputId": "5694a256-842d-40cf-e9c9-b229ce206d83"
      },
      "source": [
        "uni"
      ],
      "execution_count": 73,
      "outputs": [
        {
          "output_type": "execute_result",
          "data": {
            "text/html": [
              "<div>\n",
              "<style scoped>\n",
              "    .dataframe tbody tr th:only-of-type {\n",
              "        vertical-align: middle;\n",
              "    }\n",
              "\n",
              "    .dataframe tbody tr th {\n",
              "        vertical-align: top;\n",
              "    }\n",
              "\n",
              "    .dataframe thead th {\n",
              "        text-align: right;\n",
              "    }\n",
              "</style>\n",
              "<table border=\"1\" class=\"dataframe\">\n",
              "  <thead>\n",
              "    <tr style=\"text-align: right;\">\n",
              "      <th></th>\n",
              "      <th>0</th>\n",
              "    </tr>\n",
              "  </thead>\n",
              "  <tbody>\n",
              "    <tr>\n",
              "      <th>0</th>\n",
              "      <td>class@no-recurrence-events</td>\n",
              "    </tr>\n",
              "    <tr>\n",
              "      <th>1</th>\n",
              "      <td>class@recurrence-events</td>\n",
              "    </tr>\n",
              "    <tr>\n",
              "      <th>2</th>\n",
              "      <td>A1@30-39</td>\n",
              "    </tr>\n",
              "    <tr>\n",
              "      <th>3</th>\n",
              "      <td>A1@40-49</td>\n",
              "    </tr>\n",
              "    <tr>\n",
              "      <th>4</th>\n",
              "      <td>A1@60-69</td>\n",
              "    </tr>\n",
              "    <tr>\n",
              "      <th>5</th>\n",
              "      <td>A1@50-59</td>\n",
              "    </tr>\n",
              "    <tr>\n",
              "      <th>6</th>\n",
              "      <td>A1@70-79</td>\n",
              "    </tr>\n",
              "    <tr>\n",
              "      <th>7</th>\n",
              "      <td>A1@20-29</td>\n",
              "    </tr>\n",
              "    <tr>\n",
              "      <th>8</th>\n",
              "      <td>A2@premeno</td>\n",
              "    </tr>\n",
              "    <tr>\n",
              "      <th>9</th>\n",
              "      <td>A2@ge40</td>\n",
              "    </tr>\n",
              "    <tr>\n",
              "      <th>10</th>\n",
              "      <td>A2@lt40</td>\n",
              "    </tr>\n",
              "    <tr>\n",
              "      <th>11</th>\n",
              "      <td>A3@30-34</td>\n",
              "    </tr>\n",
              "    <tr>\n",
              "      <th>12</th>\n",
              "      <td>A3@20-24</td>\n",
              "    </tr>\n",
              "    <tr>\n",
              "      <th>13</th>\n",
              "      <td>A3@15-19</td>\n",
              "    </tr>\n",
              "    <tr>\n",
              "      <th>14</th>\n",
              "      <td>A3@0-4</td>\n",
              "    </tr>\n",
              "    <tr>\n",
              "      <th>15</th>\n",
              "      <td>A3@25-29</td>\n",
              "    </tr>\n",
              "    <tr>\n",
              "      <th>16</th>\n",
              "      <td>A3@50-54</td>\n",
              "    </tr>\n",
              "    <tr>\n",
              "      <th>17</th>\n",
              "      <td>A3@10-14</td>\n",
              "    </tr>\n",
              "    <tr>\n",
              "      <th>18</th>\n",
              "      <td>A3@40-44</td>\n",
              "    </tr>\n",
              "    <tr>\n",
              "      <th>19</th>\n",
              "      <td>A3@35-39</td>\n",
              "    </tr>\n",
              "    <tr>\n",
              "      <th>20</th>\n",
              "      <td>A3@5-9</td>\n",
              "    </tr>\n",
              "    <tr>\n",
              "      <th>21</th>\n",
              "      <td>A3@45-49</td>\n",
              "    </tr>\n",
              "    <tr>\n",
              "      <th>22</th>\n",
              "      <td>A4@0-2</td>\n",
              "    </tr>\n",
              "    <tr>\n",
              "      <th>23</th>\n",
              "      <td>A4@6-8</td>\n",
              "    </tr>\n",
              "    <tr>\n",
              "      <th>24</th>\n",
              "      <td>A4@9-11</td>\n",
              "    </tr>\n",
              "    <tr>\n",
              "      <th>25</th>\n",
              "      <td>A4@3-5</td>\n",
              "    </tr>\n",
              "    <tr>\n",
              "      <th>26</th>\n",
              "      <td>A4@15-17</td>\n",
              "    </tr>\n",
              "    <tr>\n",
              "      <th>27</th>\n",
              "      <td>A4@12-14</td>\n",
              "    </tr>\n",
              "    <tr>\n",
              "      <th>28</th>\n",
              "      <td>A4@24-26</td>\n",
              "    </tr>\n",
              "    <tr>\n",
              "      <th>29</th>\n",
              "      <td>A5@no</td>\n",
              "    </tr>\n",
              "    <tr>\n",
              "      <th>30</th>\n",
              "      <td>A5@yes</td>\n",
              "    </tr>\n",
              "    <tr>\n",
              "      <th>31</th>\n",
              "      <td>A5@?</td>\n",
              "    </tr>\n",
              "    <tr>\n",
              "      <th>32</th>\n",
              "      <td>A6@3</td>\n",
              "    </tr>\n",
              "    <tr>\n",
              "      <th>33</th>\n",
              "      <td>A6@2</td>\n",
              "    </tr>\n",
              "    <tr>\n",
              "      <th>34</th>\n",
              "      <td>A6@1</td>\n",
              "    </tr>\n",
              "    <tr>\n",
              "      <th>35</th>\n",
              "      <td>A7@left</td>\n",
              "    </tr>\n",
              "    <tr>\n",
              "      <th>36</th>\n",
              "      <td>A7@right</td>\n",
              "    </tr>\n",
              "    <tr>\n",
              "      <th>37</th>\n",
              "      <td>A8@left_low</td>\n",
              "    </tr>\n",
              "    <tr>\n",
              "      <th>38</th>\n",
              "      <td>A8@right_up</td>\n",
              "    </tr>\n",
              "    <tr>\n",
              "      <th>39</th>\n",
              "      <td>A8@left_up</td>\n",
              "    </tr>\n",
              "    <tr>\n",
              "      <th>40</th>\n",
              "      <td>A8@right_low</td>\n",
              "    </tr>\n",
              "    <tr>\n",
              "      <th>41</th>\n",
              "      <td>A8@central</td>\n",
              "    </tr>\n",
              "    <tr>\n",
              "      <th>42</th>\n",
              "      <td>A8@?</td>\n",
              "    </tr>\n",
              "    <tr>\n",
              "      <th>43</th>\n",
              "      <td>A9@no</td>\n",
              "    </tr>\n",
              "    <tr>\n",
              "      <th>44</th>\n",
              "      <td>A9@yes</td>\n",
              "    </tr>\n",
              "  </tbody>\n",
              "</table>\n",
              "</div>"
            ],
            "text/plain": [
              "                             0\n",
              "0   class@no-recurrence-events\n",
              "1      class@recurrence-events\n",
              "2                     A1@30-39\n",
              "3                     A1@40-49\n",
              "4                     A1@60-69\n",
              "5                     A1@50-59\n",
              "6                     A1@70-79\n",
              "7                     A1@20-29\n",
              "8                   A2@premeno\n",
              "9                      A2@ge40\n",
              "10                     A2@lt40\n",
              "11                    A3@30-34\n",
              "12                    A3@20-24\n",
              "13                    A3@15-19\n",
              "14                      A3@0-4\n",
              "15                    A3@25-29\n",
              "16                    A3@50-54\n",
              "17                    A3@10-14\n",
              "18                    A3@40-44\n",
              "19                    A3@35-39\n",
              "20                      A3@5-9\n",
              "21                    A3@45-49\n",
              "22                      A4@0-2\n",
              "23                      A4@6-8\n",
              "24                     A4@9-11\n",
              "25                      A4@3-5\n",
              "26                    A4@15-17\n",
              "27                    A4@12-14\n",
              "28                    A4@24-26\n",
              "29                       A5@no\n",
              "30                      A5@yes\n",
              "31                        A5@?\n",
              "32                        A6@3\n",
              "33                        A6@2\n",
              "34                        A6@1\n",
              "35                     A7@left\n",
              "36                    A7@right\n",
              "37                 A8@left_low\n",
              "38                 A8@right_up\n",
              "39                  A8@left_up\n",
              "40                A8@right_low\n",
              "41                  A8@central\n",
              "42                        A8@?\n",
              "43                       A9@no\n",
              "44                      A9@yes"
            ]
          },
          "metadata": {
            "tags": []
          },
          "execution_count": 73
        }
      ]
    },
    {
      "cell_type": "code",
      "metadata": {
        "id": "sgYlRd2Ic-NU"
      },
      "source": [
        "my_dict = uni.to_dict()"
      ],
      "execution_count": 74,
      "outputs": []
    },
    {
      "cell_type": "code",
      "metadata": {
        "colab": {
          "base_uri": "https://localhost:8080/"
        },
        "id": "DeIxvvAFfnbs",
        "outputId": "64826e77-b6bc-4a6b-c210-9ef674cb8f85"
      },
      "source": [
        "my_dict"
      ],
      "execution_count": 75,
      "outputs": [
        {
          "output_type": "execute_result",
          "data": {
            "text/plain": [
              "{0: {0: 'class@no-recurrence-events',\n",
              "  1: 'class@recurrence-events',\n",
              "  2: 'A1@30-39',\n",
              "  3: 'A1@40-49',\n",
              "  4: 'A1@60-69',\n",
              "  5: 'A1@50-59',\n",
              "  6: 'A1@70-79',\n",
              "  7: 'A1@20-29',\n",
              "  8: 'A2@premeno',\n",
              "  9: 'A2@ge40',\n",
              "  10: 'A2@lt40',\n",
              "  11: 'A3@30-34',\n",
              "  12: 'A3@20-24',\n",
              "  13: 'A3@15-19',\n",
              "  14: 'A3@0-4',\n",
              "  15: 'A3@25-29',\n",
              "  16: 'A3@50-54',\n",
              "  17: 'A3@10-14',\n",
              "  18: 'A3@40-44',\n",
              "  19: 'A3@35-39',\n",
              "  20: 'A3@5-9',\n",
              "  21: 'A3@45-49',\n",
              "  22: 'A4@0-2',\n",
              "  23: 'A4@6-8',\n",
              "  24: 'A4@9-11',\n",
              "  25: 'A4@3-5',\n",
              "  26: 'A4@15-17',\n",
              "  27: 'A4@12-14',\n",
              "  28: 'A4@24-26',\n",
              "  29: 'A5@no',\n",
              "  30: 'A5@yes',\n",
              "  31: 'A5@?',\n",
              "  32: 'A6@3',\n",
              "  33: 'A6@2',\n",
              "  34: 'A6@1',\n",
              "  35: 'A7@left',\n",
              "  36: 'A7@right',\n",
              "  37: 'A8@left_low',\n",
              "  38: 'A8@right_up',\n",
              "  39: 'A8@left_up',\n",
              "  40: 'A8@right_low',\n",
              "  41: 'A8@central',\n",
              "  42: 'A8@?',\n",
              "  43: 'A9@no',\n",
              "  44: 'A9@yes'}}"
            ]
          },
          "metadata": {
            "tags": []
          },
          "execution_count": 75
        }
      ]
    },
    {
      "cell_type": "code",
      "metadata": {
        "id": "Qo6J03jygRAD"
      },
      "source": [
        "my_dict = my_dict[0]"
      ],
      "execution_count": 76,
      "outputs": []
    },
    {
      "cell_type": "code",
      "metadata": {
        "id": "fKR_7F5ldsV8"
      },
      "source": [
        "new_dict = dict((value, key) for key, value in my_dict.items())"
      ],
      "execution_count": 77,
      "outputs": []
    },
    {
      "cell_type": "code",
      "metadata": {
        "colab": {
          "base_uri": "https://localhost:8080/"
        },
        "id": "Fys9BkISQZm4",
        "outputId": "59413332-bdbd-4bfe-dcac-ac870717ddd0"
      },
      "source": [
        "new_dict"
      ],
      "execution_count": 78,
      "outputs": [
        {
          "output_type": "execute_result",
          "data": {
            "text/plain": [
              "{'A1@20-29': 7,\n",
              " 'A1@30-39': 2,\n",
              " 'A1@40-49': 3,\n",
              " 'A1@50-59': 5,\n",
              " 'A1@60-69': 4,\n",
              " 'A1@70-79': 6,\n",
              " 'A2@ge40': 9,\n",
              " 'A2@lt40': 10,\n",
              " 'A2@premeno': 8,\n",
              " 'A3@0-4': 14,\n",
              " 'A3@10-14': 17,\n",
              " 'A3@15-19': 13,\n",
              " 'A3@20-24': 12,\n",
              " 'A3@25-29': 15,\n",
              " 'A3@30-34': 11,\n",
              " 'A3@35-39': 19,\n",
              " 'A3@40-44': 18,\n",
              " 'A3@45-49': 21,\n",
              " 'A3@5-9': 20,\n",
              " 'A3@50-54': 16,\n",
              " 'A4@0-2': 22,\n",
              " 'A4@12-14': 27,\n",
              " 'A4@15-17': 26,\n",
              " 'A4@24-26': 28,\n",
              " 'A4@3-5': 25,\n",
              " 'A4@6-8': 23,\n",
              " 'A4@9-11': 24,\n",
              " 'A5@?': 31,\n",
              " 'A5@no': 29,\n",
              " 'A5@yes': 30,\n",
              " 'A6@1': 34,\n",
              " 'A6@2': 33,\n",
              " 'A6@3': 32,\n",
              " 'A7@left': 35,\n",
              " 'A7@right': 36,\n",
              " 'A8@?': 42,\n",
              " 'A8@central': 41,\n",
              " 'A8@left_low': 37,\n",
              " 'A8@left_up': 39,\n",
              " 'A8@right_low': 40,\n",
              " 'A8@right_up': 38,\n",
              " 'A9@no': 43,\n",
              " 'A9@yes': 44,\n",
              " 'class@no-recurrence-events': 0,\n",
              " 'class@recurrence-events': 1}"
            ]
          },
          "metadata": {
            "tags": []
          },
          "execution_count": 78
        }
      ]
    },
    {
      "cell_type": "markdown",
      "metadata": {
        "id": "GE2ZF1g9vf0F"
      },
      "source": [
        "Reading common file"
      ]
    },
    {
      "cell_type": "code",
      "metadata": {
        "id": "sU2hXlIJcndy"
      },
      "source": [
        "rpp_process = pd.read_csv(\"/content/drive/MyDrive/BreastCancer_Dataset1202/RPP/intersection.csv\", header=None, names=[\"itemsets\"],index_col=False)"
      ],
      "execution_count": 79,
      "outputs": []
    },
    {
      "cell_type": "code",
      "metadata": {
        "colab": {
          "base_uri": "https://localhost:8080/",
          "height": 402
        },
        "id": "pXU2AqQHvqfN",
        "outputId": "c2001245-f5d2-4107-8cf6-0d89ef0eb8ee"
      },
      "source": [
        "rpp_process"
      ],
      "execution_count": 80,
      "outputs": [
        {
          "output_type": "execute_result",
          "data": {
            "text/html": [
              "<div>\n",
              "<style scoped>\n",
              "    .dataframe tbody tr th:only-of-type {\n",
              "        vertical-align: middle;\n",
              "    }\n",
              "\n",
              "    .dataframe tbody tr th {\n",
              "        vertical-align: top;\n",
              "    }\n",
              "\n",
              "    .dataframe thead th {\n",
              "        text-align: right;\n",
              "    }\n",
              "</style>\n",
              "<table border=\"1\" class=\"dataframe\">\n",
              "  <thead>\n",
              "    <tr style=\"text-align: right;\">\n",
              "      <th></th>\n",
              "      <th>itemsets</th>\n",
              "    </tr>\n",
              "  </thead>\n",
              "  <tbody>\n",
              "    <tr>\n",
              "      <th>0</th>\n",
              "      <td>5 29</td>\n",
              "    </tr>\n",
              "    <tr>\n",
              "      <th>1</th>\n",
              "      <td>39 35 22</td>\n",
              "    </tr>\n",
              "    <tr>\n",
              "      <th>2</th>\n",
              "      <td>9 33 29</td>\n",
              "    </tr>\n",
              "    <tr>\n",
              "      <th>3</th>\n",
              "      <td>39 9 0</td>\n",
              "    </tr>\n",
              "    <tr>\n",
              "      <th>4</th>\n",
              "      <td>11 43 29</td>\n",
              "    </tr>\n",
              "    <tr>\n",
              "      <th>...</th>\n",
              "      <td>...</td>\n",
              "    </tr>\n",
              "    <tr>\n",
              "      <th>644</th>\n",
              "      <td>33 36 8 0</td>\n",
              "    </tr>\n",
              "    <tr>\n",
              "      <th>645</th>\n",
              "      <td>4 29</td>\n",
              "    </tr>\n",
              "    <tr>\n",
              "      <th>646</th>\n",
              "      <td>3 8 0 43 29</td>\n",
              "    </tr>\n",
              "    <tr>\n",
              "      <th>647</th>\n",
              "      <td>32 22 29</td>\n",
              "    </tr>\n",
              "    <tr>\n",
              "      <th>648</th>\n",
              "      <td>33 36 0 43</td>\n",
              "    </tr>\n",
              "  </tbody>\n",
              "</table>\n",
              "<p>649 rows × 1 columns</p>\n",
              "</div>"
            ],
            "text/plain": [
              "        itemsets\n",
              "0           5 29\n",
              "1       39 35 22\n",
              "2        9 33 29\n",
              "3         39 9 0\n",
              "4       11 43 29\n",
              "..           ...\n",
              "644    33 36 8 0\n",
              "645         4 29\n",
              "646  3 8 0 43 29\n",
              "647     32 22 29\n",
              "648   33 36 0 43\n",
              "\n",
              "[649 rows x 1 columns]"
            ]
          },
          "metadata": {
            "tags": []
          },
          "execution_count": 80
        }
      ]
    },
    {
      "cell_type": "code",
      "metadata": {
        "id": "zTc8mRqGuWbs"
      },
      "source": [
        "temp_df = pd.concat([rpp_process[['itemsets']], rpp_process['itemsets'].str.split(' ', expand=True)], axis=1\n",
        "                  )"
      ],
      "execution_count": 81,
      "outputs": []
    },
    {
      "cell_type": "code",
      "metadata": {
        "id": "swpz0BF6xK80"
      },
      "source": [
        "temp_df=temp_df.drop('itemsets', axis=1)"
      ],
      "execution_count": 82,
      "outputs": []
    },
    {
      "cell_type": "code",
      "metadata": {
        "colab": {
          "base_uri": "https://localhost:8080/",
          "height": 402
        },
        "id": "oViWDsnfvvqE",
        "outputId": "6fea14a8-3d7f-4ab7-c529-b10ece36400e"
      },
      "source": [
        "temp_df"
      ],
      "execution_count": 83,
      "outputs": [
        {
          "output_type": "execute_result",
          "data": {
            "text/html": [
              "<div>\n",
              "<style scoped>\n",
              "    .dataframe tbody tr th:only-of-type {\n",
              "        vertical-align: middle;\n",
              "    }\n",
              "\n",
              "    .dataframe tbody tr th {\n",
              "        vertical-align: top;\n",
              "    }\n",
              "\n",
              "    .dataframe thead th {\n",
              "        text-align: right;\n",
              "    }\n",
              "</style>\n",
              "<table border=\"1\" class=\"dataframe\">\n",
              "  <thead>\n",
              "    <tr style=\"text-align: right;\">\n",
              "      <th></th>\n",
              "      <th>0</th>\n",
              "      <th>1</th>\n",
              "      <th>2</th>\n",
              "      <th>3</th>\n",
              "      <th>4</th>\n",
              "      <th>5</th>\n",
              "    </tr>\n",
              "  </thead>\n",
              "  <tbody>\n",
              "    <tr>\n",
              "      <th>0</th>\n",
              "      <td>5</td>\n",
              "      <td>29</td>\n",
              "      <td>None</td>\n",
              "      <td>None</td>\n",
              "      <td>None</td>\n",
              "      <td>None</td>\n",
              "    </tr>\n",
              "    <tr>\n",
              "      <th>1</th>\n",
              "      <td>39</td>\n",
              "      <td>35</td>\n",
              "      <td>22</td>\n",
              "      <td>None</td>\n",
              "      <td>None</td>\n",
              "      <td>None</td>\n",
              "    </tr>\n",
              "    <tr>\n",
              "      <th>2</th>\n",
              "      <td>9</td>\n",
              "      <td>33</td>\n",
              "      <td>29</td>\n",
              "      <td>None</td>\n",
              "      <td>None</td>\n",
              "      <td>None</td>\n",
              "    </tr>\n",
              "    <tr>\n",
              "      <th>3</th>\n",
              "      <td>39</td>\n",
              "      <td>9</td>\n",
              "      <td>0</td>\n",
              "      <td>None</td>\n",
              "      <td>None</td>\n",
              "      <td>None</td>\n",
              "    </tr>\n",
              "    <tr>\n",
              "      <th>4</th>\n",
              "      <td>11</td>\n",
              "      <td>43</td>\n",
              "      <td>29</td>\n",
              "      <td>None</td>\n",
              "      <td>None</td>\n",
              "      <td>None</td>\n",
              "    </tr>\n",
              "    <tr>\n",
              "      <th>...</th>\n",
              "      <td>...</td>\n",
              "      <td>...</td>\n",
              "      <td>...</td>\n",
              "      <td>...</td>\n",
              "      <td>...</td>\n",
              "      <td>...</td>\n",
              "    </tr>\n",
              "    <tr>\n",
              "      <th>644</th>\n",
              "      <td>33</td>\n",
              "      <td>36</td>\n",
              "      <td>8</td>\n",
              "      <td>0</td>\n",
              "      <td>None</td>\n",
              "      <td>None</td>\n",
              "    </tr>\n",
              "    <tr>\n",
              "      <th>645</th>\n",
              "      <td>4</td>\n",
              "      <td>29</td>\n",
              "      <td>None</td>\n",
              "      <td>None</td>\n",
              "      <td>None</td>\n",
              "      <td>None</td>\n",
              "    </tr>\n",
              "    <tr>\n",
              "      <th>646</th>\n",
              "      <td>3</td>\n",
              "      <td>8</td>\n",
              "      <td>0</td>\n",
              "      <td>43</td>\n",
              "      <td>29</td>\n",
              "      <td>None</td>\n",
              "    </tr>\n",
              "    <tr>\n",
              "      <th>647</th>\n",
              "      <td>32</td>\n",
              "      <td>22</td>\n",
              "      <td>29</td>\n",
              "      <td>None</td>\n",
              "      <td>None</td>\n",
              "      <td>None</td>\n",
              "    </tr>\n",
              "    <tr>\n",
              "      <th>648</th>\n",
              "      <td>33</td>\n",
              "      <td>36</td>\n",
              "      <td>0</td>\n",
              "      <td>43</td>\n",
              "      <td>None</td>\n",
              "      <td>None</td>\n",
              "    </tr>\n",
              "  </tbody>\n",
              "</table>\n",
              "<p>649 rows × 6 columns</p>\n",
              "</div>"
            ],
            "text/plain": [
              "      0   1     2     3     4     5\n",
              "0     5  29  None  None  None  None\n",
              "1    39  35    22  None  None  None\n",
              "2     9  33    29  None  None  None\n",
              "3    39   9     0  None  None  None\n",
              "4    11  43    29  None  None  None\n",
              "..   ..  ..   ...   ...   ...   ...\n",
              "644  33  36     8     0  None  None\n",
              "645   4  29  None  None  None  None\n",
              "646   3   8     0    43    29  None\n",
              "647  32  22    29  None  None  None\n",
              "648  33  36     0    43  None  None\n",
              "\n",
              "[649 rows x 6 columns]"
            ]
          },
          "metadata": {
            "tags": []
          },
          "execution_count": 83
        }
      ]
    },
    {
      "cell_type": "code",
      "metadata": {
        "id": "lJQeeGwnPK9B"
      },
      "source": [
        "#for class , moving the class column as first\n",
        "with open(\"/content/temp_file.csv\", 'w') as f:\n",
        "      for row in temp_df.itertuples(index=False):\n",
        "          print(row)\n",
        "          ls = list(row)\n",
        "          ls = [x for x in ls if x]\n",
        "          try:\n",
        "            if '0' or '1' in ls:\n",
        "                  old_index = ls.index('0') if '0' in ls else ls.index('1')\n",
        "                  #print(\"old_index\", old_index)\n",
        "                  \n",
        "                  ls.insert(0, ls.pop(old_index))\n",
        "                  #print(\"after row\", ls)\n",
        "                  f.write(str(ls)+'\\n')\n",
        "          except ValueError:\n",
        "            pass"
      ],
      "execution_count": null,
      "outputs": []
    },
    {
      "cell_type": "code",
      "metadata": {
        "colab": {
          "base_uri": "https://localhost:8080/"
        },
        "id": "JpTo3XUK4lFV",
        "outputId": "c15322a9-b550-4b63-d220-231b184fd8a2"
      },
      "source": [
        "#taking longest of sequence, checking for superset\n",
        "import os\n",
        "from ast import literal_eval\n",
        "\n",
        "def parse_input(filename):\n",
        "    with open(filename) as f:\n",
        "        data = [set(literal_eval(line)) for line in f]\n",
        "    return data\n",
        "\n",
        "def compute_output(output_file, data, filter_value):\n",
        "    ls = data\n",
        "    index_to_pop=[]\n",
        "    for set1 in ls:\n",
        "      #print(\"set1\", set1)\n",
        "      for set2 in ls:\n",
        "          if set1 is set2:\n",
        "              # Do not try to compare a row with itself\n",
        "              continue\n",
        "          elif len(set(set1).difference(set(set2))) == 0:\n",
        "                if set1 in ls:\n",
        "                  index = ls.index(set1)\n",
        "                  index_to_pop.append(index)\n",
        "\n",
        "                  break\n",
        "    #print(\"Final index_to_pop\",index_to_pop)              \n",
        "    for index in sorted(index_to_pop, reverse=True):\n",
        "        del ls[index]           \n",
        "    #print(\"Final list\",ls)\n",
        "\n",
        "    f = open('/content/superset.csv','w')\n",
        "    for line in ls:\n",
        "      f.write(str(line)+'\\n')\n",
        "    f.close()\n",
        "\n",
        "def filter_file(path, filter_value=3, in_name='temp_file.csv', out_name='filteredSets'):\n",
        "    data = parse_input(os.path.join(path, in_name))\n",
        "    print(\"data\", data)\n",
        "    output_filename = os.path.join(path, '{}{}'.format(out_name, filter_value))\n",
        "    with open(output_filename, 'w') as out_file:\n",
        "        compute_output(out_file, data, filter_value)\n",
        "\n",
        "filter_file('/content')"
      ],
      "execution_count": 85,
      "outputs": [
        {
          "output_type": "stream",
          "text": [
            "data [{'0', '39', '9'}, {'0', '33', '36'}, {'0', '9', '29', '36', '43'}, {'0', '36', '9', '43'}, {'0', '33', '35'}, {'0', '35'}, {'8', '1'}, {'0', '36', '29'}, {'0', '9', '43', '4'}, {'0', '22', '32'}, {'0', '8', '29', '36', '43'}, {'0', '8', '29', '36', '3'}, {'0', '3', '29'}, {'0', '3', '43', '29'}, {'22', '34', '0', '9', '29'}, {'0', '39'}, {'0', '37'}, {'0', '36', '43', '8'}, {'0', '5', '35', '29'}, {'0', '9', '29', '37'}, {'0', '36', '9', '29'}, {'0', '22', '9', '35'}, {'0', '43', '11'}, {'0', '43', '4', '29'}, {'0', '33', '9', '22'}, {'22', '0', '39', '29', '36'}, {'22', '0', '35', '9', '29', '43'}, {'5', '0', '35', '29', '43'}, {'0', '22', '8'}, {'0', '22', '9', '29'}, {'22', '43', '1'}, {'22', '37', '0', '29', '33'}, {'0', '33', '3', '22'}, {'22', '0', '35', '9', '43'}, {'22', '0', '8', '43', '3'}, {'0', '5', '43', '9'}, {'0', '36', '43'}, {'0', '22', '3'}, {'22', '0', '9', '29', '43'}, {'0', '22', '39', '9'}, {'0', '33', '9', '43'}, {'0', '34', '43', '35'}, {'0', '5', '29'}, {'37', '0', '9', '29', '43'}, {'0', '22', '34', '29'}, {'0', '33', '43'}, {'0', '29', '8', '37'}, {'22', '1'}, {'0', '34', '29'}, {'0', '5', '43'}, {'0', '12'}, {'0', '9', '4'}, {'0', '33', '3', '29'}, {'0', '5', '9', '29'}, {'0', '22', '5', '35'}, {'22', '5', '0', '35', '29', '43'}, {'0', '9', '4', '29'}, {'0', '22', '3', '43'}, {'0', '22', '34', '43'}, {'0', '36', '8', '29'}, {'0', '36', '39'}, {'0', '36', '39', '29'}, {'22', '0', '39', '9', '29'}, {'0', '22', '4'}, {'0', '22', '43', '37'}, {'0', '33', '9', '29'}, {'0', '39', '8'}, {'0', '33', '43', '37'}, {'0', '22', '36', '29'}, {'0', '3'}, {'22', '5', '0', '35', '43'}, {'0', '5', '43', '29'}, {'0', '35', '9', '29', '43'}, {'0', '9', '35'}, {'43', '29', '1'}, {'0', '3', '43'}, {'0', '9', '43', '29'}, {'0', '39', '29'}, {'0', '22', '3', '29'}, {'22', '0', '35', '29', '33', '43'}, {'0', '39', '43', '9'}, {'0', '33', '9'}, {'0', '22', '39'}, {'36', '1'}, {'0', '8', '37'}, {'0', '33', '43', '35'}, {'22', '0', '9', '29', '33'}, {'22', '37', '0', '35', '29'}, {'22', '5', '0', '9', '43'}, {'0', '36', '3', '8'}, {'0', '22', '5', '9'}, {'0', '33', '22', '29'}, {'0', '43', '29', '37'}, {'22', '34', '0', '35', '29'}, {'0', '22', '36', '9'}, {'22', '5', '0', '9', '29', '43'}, {'22', '0', '8', '29', '3'}, {'0', '34', '43', '29'}, {'43', '8', '1'}, {'0', '33', '8'}, {'22', '5', '0', '35', '29'}, {'0', '5', '37'}, {'0', '36'}, {'0', '4', '29'}, {'22', '5', '0', '9', '29'}, {'22', '0', '8', '29', '36'}, {'22', '34', '0', '35', '29', '43'}, {'0', '33', '43', '29'}, {'0', '33', '3', '8'}, {'0', '36', '9'}, {'0', '36', '43', '29'}, {'0', '32'}, {'35', '1'}, {'0', '29', '35', '37'}, {'22', '0', '29', '43', '3'}, {'22', '4', '0', '9', '29'}, {'0', '3', '8', '29'}, {'22', '37', '0', '29', '43'}, {'22', '34', '0', '9', '43'}, {'34', '0', '35', '29', '43'}, {'22', '0', '29', '33', '43'}, {'0', '22', '3', '8'}, {'22', '0', '9', '36', '43'}, {'0', '39', '43'}, {'0', '12', '43'}, {'0', '33', '3'}, {'0', '22', '35', '8'}, {'0', '35', '37'}, {'0', '39', '9', '29'}, {'0', '9', '43'}, {'22', '0', '35', '33', '43'}, {'0', '33', '22', '8'}, {'44', '1'}, {'0', '9', '35', '29'}, {'22', '5', '0', '29', '43'}, {'9', '1'}, {'0', '9', '29'}, {'0', '22', '36', '43'}, {'0', '33', '29', '37'}, {'0', '33', '37'}, {'22', '0', '29', '36', '33', '43'}, {'0', '33', '36', '22'}, {'0', '22', '37'}, {'0', '22', '8', '37'}, {'22', '34', '0', '29', '43'}, {'0', '8'}, {'0', '9', '43', '37'}, {'0', '34', '43'}, {'0', '34', '35', '29'}, {'0', '22', '39', '43'}, {'1'}, {'0', '22', '5'}, {'0', '43', '35', '37'}, {'0', '36', '39', '43'}, {'37', '1'}, {'0', '22', '34'}, {'0', '12', '29'}, {'0', '34'}, {'0', '8', '29', '33', '43'}, {'0', '22', '36'}, {'0', '33', '22'}, {'34', '0', '9', '29', '43'}, {'29', '1'}, {'0', '36', '5', '43'}, {'0', '22', '43', '4'}, {'22', '0', '9', '29', '36', '43'}, {'0', '34', '9'}, {'22', '34', '0', '9', '29', '43'}, {'0', '22', '39', '29'}, {'0', '34', '43', '9'}, {'0', '33', '36', '29'}, {'22', '0', '29', '36', '33'}, {'0', '9', '37'}, {'0', '22', '43', '8'}, {'0', '11'}, {'0', '34', '35'}, {'22', '0', '35', '9', '29'}, {'22', '34', '0', '35', '43'}, {'22', '43', '29', '1'}, {'0', '22', '36', '39'}, {'22', '37', '0', '9', '29'}, {'22', '0', '8', '29', '43', '3'}, {'0', '22', '5', '43'}, {'0', '9', '43', '35'}, {'0', '34', '9', '29'}, {'0', '44'}, {'0', '8', '29', '33', '3'}, {'0', '5', '43', '35'}, {'0', '3', '43', '8'}, {'22', '0', '9', '29', '36'}, {'0', '33', '22', '43'}, {'22', '0', '8', '29', '36', '43'}, {'32', '1'}, {'0', '33', '29'}, {'22', '0', '8', '33', '43'}, {'22', '0', '8', '29', '33'}, {'0', '33', '22', '37'}, {'0', '22', '34', '9'}, {'0', '36', '3', '29'}, {'0', '5', '9'}, {'0', '22', '9'}, {'22', '0', '35', '29', '33'}, {'0', '43', '37'}, {'22', '0', '8', '36', '43'}, {'0', '33', '35', '29'}, {'0', '22', '5', '29'}, {'0', '33', '43', '8'}, {'43', '1'}, {'22', '29', '1'}, {'37', '0', '35', '29', '43'}, {'22', '4', '0', '29', '43'}, {'0', '22', '29', '37'}, {'0', '33', '22', '35'}, {'0', '36', '8'}, {'0', '35', '8'}, {'22', '0', '39', '29', '43'}, {'22', '0', '8', '29', '33', '43'}, {'0', '9'}, {'0', '29', '36', '33', '43'}, {'22', '37', '0', '8', '29'}, {'0', '43', '32'}, {'0', '35', '29', '33', '43'}, {'0', '33', '39'}, {'0', '36', '5'}, {'30', '1'}, {'0', '5', '35'}, {'0', '32', '29'}, {'0', '33', '5'}, {'0', '22', '36', '8'}, {'22', '0', '35', '8', '43'}, {'0', '22', '9', '4'}, {'0', '22', '9', '37'}, {'0', '36', '3'}, {'22', '37', '0', '35', '29', '43'}, {'0', '33'}, {'0', '39', '43', '29'}, {'0', '35', '43', '8'}, {'8', '29', '1'}, {'0', '15'}, {'0', '22', '4', '29'}, {'0', '15', '22'}, {'0', '43', '8'}, {'22', '37', '0', '35', '43'}, {'0', '5'}, {'22', '0', '36', '33', '43'}, {'0', '29', '37'}, {'5', '0', '9', '29', '43'}, {'0', '43', '4'}, {'0', '4'}, {'0', '3', '8'}, {'22', '0', '29', '36', '43'}, {'0', '22', '35', '37'}, {'0', '33', '8', '29'}, {'0', '22', '9', '43'}, {'0', '22', '34', '35'}, {'22', '8', '1'}, {'0', '33', '36', '8'}, {'0', '8', '29', '43', '3'}, {'0', '33', '36', '43'}]\n"
          ],
          "name": "stdout"
        }
      ]
    },
    {
      "cell_type": "code",
      "metadata": {
        "id": "5MowEbtcHCXm"
      },
      "source": [
        "#for class \n",
        "with open(\"/content/superset.csv\", 'w') as f:\n",
        "      for row in temp_df.itertuples(index=False):\n",
        "          ls = list(row)\n",
        "          ls = [x for x in ls if x]\n",
        "          try:\n",
        "            if '0' or '1' in ls:\n",
        "                  old_index = ls.index('0') if '0' in ls else ls.index('1')\n",
        "                  #print(\"old_index\", old_index)\n",
        "                  \n",
        "                  ls.insert(0, ls.pop(old_index))\n",
        "                  #print(\"after row\", ls)\n",
        "                  f.write(str(ls)+'\\n')\n",
        "          except ValueError:\n",
        "            pass"
      ],
      "execution_count": 86,
      "outputs": []
    },
    {
      "cell_type": "code",
      "metadata": {
        "id": "r3-AYEiXHQyd"
      },
      "source": [
        "with open('/content/superset.csv') as filein, open('/content/superset_final.csv','w') as fileout:\n",
        "    for line in filein:\n",
        "        line=line.replace(\"'\",\"\")\n",
        "        line=line.replace(\"}\",\"\")\n",
        "        line=line.replace(\"{\",\"\")\n",
        "        line=line.replace(\", \",\" \")\n",
        "        fileout.write(line)"
      ],
      "execution_count": 87,
      "outputs": []
    },
    {
      "cell_type": "code",
      "metadata": {
        "id": "X1bvcaL1KuYK"
      },
      "source": [
        "with open('/content/superset_final.csv') as filein, open('/content/superset_final_v1.csv','w') as fileout:\n",
        "    for line in filein:\n",
        "        line=line.replace(\"[\",\"\")\n",
        "        line=line.replace(\"]\",\"\")\n",
        "        fileout.write(line)"
      ],
      "execution_count": 88,
      "outputs": []
    },
    {
      "cell_type": "code",
      "metadata": {
        "id": "3hPc0KFnpq6C",
        "colab": {
          "base_uri": "https://localhost:8080/",
          "height": 402
        },
        "outputId": "be54d64b-cba6-4c8c-d6f3-88784fe22ad6"
      },
      "source": [
        "superset = pd.read_csv(\"/content/superset_final_v1.csv\",header=None, names=[\"itemsets\"],index_col=False)\n",
        "superset"
      ],
      "execution_count": 89,
      "outputs": [
        {
          "output_type": "execute_result",
          "data": {
            "text/html": [
              "<div>\n",
              "<style scoped>\n",
              "    .dataframe tbody tr th:only-of-type {\n",
              "        vertical-align: middle;\n",
              "    }\n",
              "\n",
              "    .dataframe tbody tr th {\n",
              "        vertical-align: top;\n",
              "    }\n",
              "\n",
              "    .dataframe thead th {\n",
              "        text-align: right;\n",
              "    }\n",
              "</style>\n",
              "<table border=\"1\" class=\"dataframe\">\n",
              "  <thead>\n",
              "    <tr style=\"text-align: right;\">\n",
              "      <th></th>\n",
              "      <th>itemsets</th>\n",
              "    </tr>\n",
              "  </thead>\n",
              "  <tbody>\n",
              "    <tr>\n",
              "      <th>0</th>\n",
              "      <td>0 39 9</td>\n",
              "    </tr>\n",
              "    <tr>\n",
              "      <th>1</th>\n",
              "      <td>0 33 36</td>\n",
              "    </tr>\n",
              "    <tr>\n",
              "      <th>2</th>\n",
              "      <td>0 9 36 43 29</td>\n",
              "    </tr>\n",
              "    <tr>\n",
              "      <th>3</th>\n",
              "      <td>0 9 36 43</td>\n",
              "    </tr>\n",
              "    <tr>\n",
              "      <th>4</th>\n",
              "      <td>0 33 35</td>\n",
              "    </tr>\n",
              "    <tr>\n",
              "      <th>...</th>\n",
              "      <td>...</td>\n",
              "    </tr>\n",
              "    <tr>\n",
              "      <th>254</th>\n",
              "      <td>0 34 35 22</td>\n",
              "    </tr>\n",
              "    <tr>\n",
              "      <th>255</th>\n",
              "      <td>1 8 22</td>\n",
              "    </tr>\n",
              "    <tr>\n",
              "      <th>256</th>\n",
              "      <td>0 33 36 8</td>\n",
              "    </tr>\n",
              "    <tr>\n",
              "      <th>257</th>\n",
              "      <td>0 3 8 43 29</td>\n",
              "    </tr>\n",
              "    <tr>\n",
              "      <th>258</th>\n",
              "      <td>0 33 36 43</td>\n",
              "    </tr>\n",
              "  </tbody>\n",
              "</table>\n",
              "<p>259 rows × 1 columns</p>\n",
              "</div>"
            ],
            "text/plain": [
              "         itemsets\n",
              "0          0 39 9\n",
              "1         0 33 36\n",
              "2    0 9 36 43 29\n",
              "3       0 9 36 43\n",
              "4         0 33 35\n",
              "..            ...\n",
              "254    0 34 35 22\n",
              "255        1 8 22\n",
              "256     0 33 36 8\n",
              "257   0 3 8 43 29\n",
              "258    0 33 36 43\n",
              "\n",
              "[259 rows x 1 columns]"
            ]
          },
          "metadata": {
            "tags": []
          },
          "execution_count": 89
        }
      ]
    },
    {
      "cell_type": "code",
      "metadata": {
        "id": "tA59zMbZrJ8O"
      },
      "source": [
        "superset_df = pd.concat([superset[['itemsets']], superset['itemsets'].str.split(' ', expand=True)], axis=1\n",
        "                  )"
      ],
      "execution_count": 90,
      "outputs": []
    },
    {
      "cell_type": "code",
      "metadata": {
        "id": "NWDeX08-K_he"
      },
      "source": [
        "superset_df.to_csv(\"superset_df.csv\", header=None, index=False)"
      ],
      "execution_count": 91,
      "outputs": []
    },
    {
      "cell_type": "code",
      "metadata": {
        "id": "o2dS-3TCu8aM"
      },
      "source": [
        "superset_df = superset_df.loc[superset_df.iloc[:,1].isin(['1','0'])] #filtering rows"
      ],
      "execution_count": 92,
      "outputs": []
    },
    {
      "cell_type": "code",
      "metadata": {
        "colab": {
          "base_uri": "https://localhost:8080/",
          "height": 402
        },
        "id": "H4cgUy1uLsVS",
        "outputId": "e53b5b19-cd2a-41e4-ba1d-238ecfe9496c"
      },
      "source": [
        "superset_df"
      ],
      "execution_count": 93,
      "outputs": [
        {
          "output_type": "execute_result",
          "data": {
            "text/html": [
              "<div>\n",
              "<style scoped>\n",
              "    .dataframe tbody tr th:only-of-type {\n",
              "        vertical-align: middle;\n",
              "    }\n",
              "\n",
              "    .dataframe tbody tr th {\n",
              "        vertical-align: top;\n",
              "    }\n",
              "\n",
              "    .dataframe thead th {\n",
              "        text-align: right;\n",
              "    }\n",
              "</style>\n",
              "<table border=\"1\" class=\"dataframe\">\n",
              "  <thead>\n",
              "    <tr style=\"text-align: right;\">\n",
              "      <th></th>\n",
              "      <th>itemsets</th>\n",
              "      <th>0</th>\n",
              "      <th>1</th>\n",
              "      <th>2</th>\n",
              "      <th>3</th>\n",
              "      <th>4</th>\n",
              "      <th>5</th>\n",
              "    </tr>\n",
              "  </thead>\n",
              "  <tbody>\n",
              "    <tr>\n",
              "      <th>0</th>\n",
              "      <td>0 39 9</td>\n",
              "      <td>0</td>\n",
              "      <td>39</td>\n",
              "      <td>9</td>\n",
              "      <td>None</td>\n",
              "      <td>None</td>\n",
              "      <td>None</td>\n",
              "    </tr>\n",
              "    <tr>\n",
              "      <th>1</th>\n",
              "      <td>0 33 36</td>\n",
              "      <td>0</td>\n",
              "      <td>33</td>\n",
              "      <td>36</td>\n",
              "      <td>None</td>\n",
              "      <td>None</td>\n",
              "      <td>None</td>\n",
              "    </tr>\n",
              "    <tr>\n",
              "      <th>2</th>\n",
              "      <td>0 9 36 43 29</td>\n",
              "      <td>0</td>\n",
              "      <td>9</td>\n",
              "      <td>36</td>\n",
              "      <td>43</td>\n",
              "      <td>29</td>\n",
              "      <td>None</td>\n",
              "    </tr>\n",
              "    <tr>\n",
              "      <th>3</th>\n",
              "      <td>0 9 36 43</td>\n",
              "      <td>0</td>\n",
              "      <td>9</td>\n",
              "      <td>36</td>\n",
              "      <td>43</td>\n",
              "      <td>None</td>\n",
              "      <td>None</td>\n",
              "    </tr>\n",
              "    <tr>\n",
              "      <th>4</th>\n",
              "      <td>0 33 35</td>\n",
              "      <td>0</td>\n",
              "      <td>33</td>\n",
              "      <td>35</td>\n",
              "      <td>None</td>\n",
              "      <td>None</td>\n",
              "      <td>None</td>\n",
              "    </tr>\n",
              "    <tr>\n",
              "      <th>...</th>\n",
              "      <td>...</td>\n",
              "      <td>...</td>\n",
              "      <td>...</td>\n",
              "      <td>...</td>\n",
              "      <td>...</td>\n",
              "      <td>...</td>\n",
              "      <td>...</td>\n",
              "    </tr>\n",
              "    <tr>\n",
              "      <th>254</th>\n",
              "      <td>0 34 35 22</td>\n",
              "      <td>0</td>\n",
              "      <td>34</td>\n",
              "      <td>35</td>\n",
              "      <td>22</td>\n",
              "      <td>None</td>\n",
              "      <td>None</td>\n",
              "    </tr>\n",
              "    <tr>\n",
              "      <th>255</th>\n",
              "      <td>1 8 22</td>\n",
              "      <td>1</td>\n",
              "      <td>8</td>\n",
              "      <td>22</td>\n",
              "      <td>None</td>\n",
              "      <td>None</td>\n",
              "      <td>None</td>\n",
              "    </tr>\n",
              "    <tr>\n",
              "      <th>256</th>\n",
              "      <td>0 33 36 8</td>\n",
              "      <td>0</td>\n",
              "      <td>33</td>\n",
              "      <td>36</td>\n",
              "      <td>8</td>\n",
              "      <td>None</td>\n",
              "      <td>None</td>\n",
              "    </tr>\n",
              "    <tr>\n",
              "      <th>257</th>\n",
              "      <td>0 3 8 43 29</td>\n",
              "      <td>0</td>\n",
              "      <td>3</td>\n",
              "      <td>8</td>\n",
              "      <td>43</td>\n",
              "      <td>29</td>\n",
              "      <td>None</td>\n",
              "    </tr>\n",
              "    <tr>\n",
              "      <th>258</th>\n",
              "      <td>0 33 36 43</td>\n",
              "      <td>0</td>\n",
              "      <td>33</td>\n",
              "      <td>36</td>\n",
              "      <td>43</td>\n",
              "      <td>None</td>\n",
              "      <td>None</td>\n",
              "    </tr>\n",
              "  </tbody>\n",
              "</table>\n",
              "<p>259 rows × 7 columns</p>\n",
              "</div>"
            ],
            "text/plain": [
              "         itemsets  0   1   2     3     4     5\n",
              "0          0 39 9  0  39   9  None  None  None\n",
              "1         0 33 36  0  33  36  None  None  None\n",
              "2    0 9 36 43 29  0   9  36    43    29  None\n",
              "3       0 9 36 43  0   9  36    43  None  None\n",
              "4         0 33 35  0  33  35  None  None  None\n",
              "..            ... ..  ..  ..   ...   ...   ...\n",
              "254    0 34 35 22  0  34  35    22  None  None\n",
              "255        1 8 22  1   8  22  None  None  None\n",
              "256     0 33 36 8  0  33  36     8  None  None\n",
              "257   0 3 8 43 29  0   3   8    43    29  None\n",
              "258    0 33 36 43  0  33  36    43  None  None\n",
              "\n",
              "[259 rows x 7 columns]"
            ]
          },
          "metadata": {
            "tags": []
          },
          "execution_count": 93
        }
      ]
    },
    {
      "cell_type": "code",
      "metadata": {
        "id": "4AWg7Q5xLRBx"
      },
      "source": [
        "superset_df=superset_df.drop('itemsets', axis=1)"
      ],
      "execution_count": 94,
      "outputs": []
    },
    {
      "cell_type": "code",
      "metadata": {
        "colab": {
          "base_uri": "https://localhost:8080/",
          "height": 402
        },
        "id": "UZpv02BLLf8p",
        "outputId": "a5c2cfb7-3390-46b3-f913-d69a7748f207"
      },
      "source": [
        "superset_df"
      ],
      "execution_count": 95,
      "outputs": [
        {
          "output_type": "execute_result",
          "data": {
            "text/html": [
              "<div>\n",
              "<style scoped>\n",
              "    .dataframe tbody tr th:only-of-type {\n",
              "        vertical-align: middle;\n",
              "    }\n",
              "\n",
              "    .dataframe tbody tr th {\n",
              "        vertical-align: top;\n",
              "    }\n",
              "\n",
              "    .dataframe thead th {\n",
              "        text-align: right;\n",
              "    }\n",
              "</style>\n",
              "<table border=\"1\" class=\"dataframe\">\n",
              "  <thead>\n",
              "    <tr style=\"text-align: right;\">\n",
              "      <th></th>\n",
              "      <th>0</th>\n",
              "      <th>1</th>\n",
              "      <th>2</th>\n",
              "      <th>3</th>\n",
              "      <th>4</th>\n",
              "      <th>5</th>\n",
              "    </tr>\n",
              "  </thead>\n",
              "  <tbody>\n",
              "    <tr>\n",
              "      <th>0</th>\n",
              "      <td>0</td>\n",
              "      <td>39</td>\n",
              "      <td>9</td>\n",
              "      <td>None</td>\n",
              "      <td>None</td>\n",
              "      <td>None</td>\n",
              "    </tr>\n",
              "    <tr>\n",
              "      <th>1</th>\n",
              "      <td>0</td>\n",
              "      <td>33</td>\n",
              "      <td>36</td>\n",
              "      <td>None</td>\n",
              "      <td>None</td>\n",
              "      <td>None</td>\n",
              "    </tr>\n",
              "    <tr>\n",
              "      <th>2</th>\n",
              "      <td>0</td>\n",
              "      <td>9</td>\n",
              "      <td>36</td>\n",
              "      <td>43</td>\n",
              "      <td>29</td>\n",
              "      <td>None</td>\n",
              "    </tr>\n",
              "    <tr>\n",
              "      <th>3</th>\n",
              "      <td>0</td>\n",
              "      <td>9</td>\n",
              "      <td>36</td>\n",
              "      <td>43</td>\n",
              "      <td>None</td>\n",
              "      <td>None</td>\n",
              "    </tr>\n",
              "    <tr>\n",
              "      <th>4</th>\n",
              "      <td>0</td>\n",
              "      <td>33</td>\n",
              "      <td>35</td>\n",
              "      <td>None</td>\n",
              "      <td>None</td>\n",
              "      <td>None</td>\n",
              "    </tr>\n",
              "    <tr>\n",
              "      <th>...</th>\n",
              "      <td>...</td>\n",
              "      <td>...</td>\n",
              "      <td>...</td>\n",
              "      <td>...</td>\n",
              "      <td>...</td>\n",
              "      <td>...</td>\n",
              "    </tr>\n",
              "    <tr>\n",
              "      <th>254</th>\n",
              "      <td>0</td>\n",
              "      <td>34</td>\n",
              "      <td>35</td>\n",
              "      <td>22</td>\n",
              "      <td>None</td>\n",
              "      <td>None</td>\n",
              "    </tr>\n",
              "    <tr>\n",
              "      <th>255</th>\n",
              "      <td>1</td>\n",
              "      <td>8</td>\n",
              "      <td>22</td>\n",
              "      <td>None</td>\n",
              "      <td>None</td>\n",
              "      <td>None</td>\n",
              "    </tr>\n",
              "    <tr>\n",
              "      <th>256</th>\n",
              "      <td>0</td>\n",
              "      <td>33</td>\n",
              "      <td>36</td>\n",
              "      <td>8</td>\n",
              "      <td>None</td>\n",
              "      <td>None</td>\n",
              "    </tr>\n",
              "    <tr>\n",
              "      <th>257</th>\n",
              "      <td>0</td>\n",
              "      <td>3</td>\n",
              "      <td>8</td>\n",
              "      <td>43</td>\n",
              "      <td>29</td>\n",
              "      <td>None</td>\n",
              "    </tr>\n",
              "    <tr>\n",
              "      <th>258</th>\n",
              "      <td>0</td>\n",
              "      <td>33</td>\n",
              "      <td>36</td>\n",
              "      <td>43</td>\n",
              "      <td>None</td>\n",
              "      <td>None</td>\n",
              "    </tr>\n",
              "  </tbody>\n",
              "</table>\n",
              "<p>259 rows × 6 columns</p>\n",
              "</div>"
            ],
            "text/plain": [
              "     0   1   2     3     4     5\n",
              "0    0  39   9  None  None  None\n",
              "1    0  33  36  None  None  None\n",
              "2    0   9  36    43    29  None\n",
              "3    0   9  36    43  None  None\n",
              "4    0  33  35  None  None  None\n",
              "..  ..  ..  ..   ...   ...   ...\n",
              "254  0  34  35    22  None  None\n",
              "255  1   8  22  None  None  None\n",
              "256  0  33  36     8  None  None\n",
              "257  0   3   8    43    29  None\n",
              "258  0  33  36    43  None  None\n",
              "\n",
              "[259 rows x 6 columns]"
            ]
          },
          "metadata": {
            "tags": []
          },
          "execution_count": 95
        }
      ]
    },
    {
      "cell_type": "code",
      "metadata": {
        "id": "lsI4sAv7w_SM"
      },
      "source": [
        "superset_df.columns = ['a', 'b', 'c', 'd', 'e', 'f']"
      ],
      "execution_count": 97,
      "outputs": []
    },
    {
      "cell_type": "code",
      "metadata": {
        "id": "4z6uTWbTw_SN"
      },
      "source": [
        "#concat @ to tempdf\n",
        "for i,n in enumerate(superset_df.columns):\n",
        "  \n",
        "    superset_df[n] = '@' + superset_df[n].astype(str)\n"
      ],
      "execution_count": 98,
      "outputs": []
    },
    {
      "cell_type": "code",
      "metadata": {
        "colab": {
          "base_uri": "https://localhost:8080/"
        },
        "id": "UwbM4g3Tw_SN",
        "outputId": "1b50ae68-972e-4f03-9222-eced021f8e95"
      },
      "source": [
        "superset_df['a'].value_counts()"
      ],
      "execution_count": 99,
      "outputs": [
        {
          "output_type": "execute_result",
          "data": {
            "text/plain": [
              "@0    240\n",
              "@1     19\n",
              "Name: a, dtype: int64"
            ]
          },
          "metadata": {
            "tags": []
          },
          "execution_count": 99
        }
      ]
    },
    {
      "cell_type": "code",
      "metadata": {
        "colab": {
          "base_uri": "https://localhost:8080/",
          "height": 402
        },
        "id": "oMHzWaTmw_SN",
        "outputId": "28aa1485-9600-4b91-c2f6-9c8a6fb8a3d3"
      },
      "source": [
        "superset_df"
      ],
      "execution_count": 100,
      "outputs": [
        {
          "output_type": "execute_result",
          "data": {
            "text/html": [
              "<div>\n",
              "<style scoped>\n",
              "    .dataframe tbody tr th:only-of-type {\n",
              "        vertical-align: middle;\n",
              "    }\n",
              "\n",
              "    .dataframe tbody tr th {\n",
              "        vertical-align: top;\n",
              "    }\n",
              "\n",
              "    .dataframe thead th {\n",
              "        text-align: right;\n",
              "    }\n",
              "</style>\n",
              "<table border=\"1\" class=\"dataframe\">\n",
              "  <thead>\n",
              "    <tr style=\"text-align: right;\">\n",
              "      <th></th>\n",
              "      <th>a</th>\n",
              "      <th>b</th>\n",
              "      <th>c</th>\n",
              "      <th>d</th>\n",
              "      <th>e</th>\n",
              "      <th>f</th>\n",
              "    </tr>\n",
              "  </thead>\n",
              "  <tbody>\n",
              "    <tr>\n",
              "      <th>0</th>\n",
              "      <td>@0</td>\n",
              "      <td>@39</td>\n",
              "      <td>@9</td>\n",
              "      <td>@None</td>\n",
              "      <td>@None</td>\n",
              "      <td>@None</td>\n",
              "    </tr>\n",
              "    <tr>\n",
              "      <th>1</th>\n",
              "      <td>@0</td>\n",
              "      <td>@33</td>\n",
              "      <td>@36</td>\n",
              "      <td>@None</td>\n",
              "      <td>@None</td>\n",
              "      <td>@None</td>\n",
              "    </tr>\n",
              "    <tr>\n",
              "      <th>2</th>\n",
              "      <td>@0</td>\n",
              "      <td>@9</td>\n",
              "      <td>@36</td>\n",
              "      <td>@43</td>\n",
              "      <td>@29</td>\n",
              "      <td>@None</td>\n",
              "    </tr>\n",
              "    <tr>\n",
              "      <th>3</th>\n",
              "      <td>@0</td>\n",
              "      <td>@9</td>\n",
              "      <td>@36</td>\n",
              "      <td>@43</td>\n",
              "      <td>@None</td>\n",
              "      <td>@None</td>\n",
              "    </tr>\n",
              "    <tr>\n",
              "      <th>4</th>\n",
              "      <td>@0</td>\n",
              "      <td>@33</td>\n",
              "      <td>@35</td>\n",
              "      <td>@None</td>\n",
              "      <td>@None</td>\n",
              "      <td>@None</td>\n",
              "    </tr>\n",
              "    <tr>\n",
              "      <th>...</th>\n",
              "      <td>...</td>\n",
              "      <td>...</td>\n",
              "      <td>...</td>\n",
              "      <td>...</td>\n",
              "      <td>...</td>\n",
              "      <td>...</td>\n",
              "    </tr>\n",
              "    <tr>\n",
              "      <th>254</th>\n",
              "      <td>@0</td>\n",
              "      <td>@34</td>\n",
              "      <td>@35</td>\n",
              "      <td>@22</td>\n",
              "      <td>@None</td>\n",
              "      <td>@None</td>\n",
              "    </tr>\n",
              "    <tr>\n",
              "      <th>255</th>\n",
              "      <td>@1</td>\n",
              "      <td>@8</td>\n",
              "      <td>@22</td>\n",
              "      <td>@None</td>\n",
              "      <td>@None</td>\n",
              "      <td>@None</td>\n",
              "    </tr>\n",
              "    <tr>\n",
              "      <th>256</th>\n",
              "      <td>@0</td>\n",
              "      <td>@33</td>\n",
              "      <td>@36</td>\n",
              "      <td>@8</td>\n",
              "      <td>@None</td>\n",
              "      <td>@None</td>\n",
              "    </tr>\n",
              "    <tr>\n",
              "      <th>257</th>\n",
              "      <td>@0</td>\n",
              "      <td>@3</td>\n",
              "      <td>@8</td>\n",
              "      <td>@43</td>\n",
              "      <td>@29</td>\n",
              "      <td>@None</td>\n",
              "    </tr>\n",
              "    <tr>\n",
              "      <th>258</th>\n",
              "      <td>@0</td>\n",
              "      <td>@33</td>\n",
              "      <td>@36</td>\n",
              "      <td>@43</td>\n",
              "      <td>@None</td>\n",
              "      <td>@None</td>\n",
              "    </tr>\n",
              "  </tbody>\n",
              "</table>\n",
              "<p>259 rows × 6 columns</p>\n",
              "</div>"
            ],
            "text/plain": [
              "      a    b    c      d      e      f\n",
              "0    @0  @39   @9  @None  @None  @None\n",
              "1    @0  @33  @36  @None  @None  @None\n",
              "2    @0   @9  @36    @43    @29  @None\n",
              "3    @0   @9  @36    @43  @None  @None\n",
              "4    @0  @33  @35  @None  @None  @None\n",
              "..   ..  ...  ...    ...    ...    ...\n",
              "254  @0  @34  @35    @22  @None  @None\n",
              "255  @1   @8  @22  @None  @None  @None\n",
              "256  @0  @33  @36     @8  @None  @None\n",
              "257  @0   @3   @8    @43    @29  @None\n",
              "258  @0  @33  @36    @43  @None  @None\n",
              "\n",
              "[259 rows x 6 columns]"
            ]
          },
          "metadata": {
            "tags": []
          },
          "execution_count": 100
        }
      ]
    },
    {
      "cell_type": "code",
      "metadata": {
        "id": "MOBXGsZHxJ5a"
      },
      "source": [
        "di = {f'@{k}': v for k, v in my_dict.items()}"
      ],
      "execution_count": 101,
      "outputs": []
    },
    {
      "cell_type": "code",
      "metadata": {
        "colab": {
          "base_uri": "https://localhost:8080/"
        },
        "id": "md54wfLFxJ5a",
        "outputId": "7380a1ad-3056-4cc5-8a09-846d40edff24"
      },
      "source": [
        "di"
      ],
      "execution_count": 102,
      "outputs": [
        {
          "output_type": "execute_result",
          "data": {
            "text/plain": [
              "{'@0': 'class@no-recurrence-events',\n",
              " '@1': 'class@recurrence-events',\n",
              " '@10': 'A2@lt40',\n",
              " '@11': 'A3@30-34',\n",
              " '@12': 'A3@20-24',\n",
              " '@13': 'A3@15-19',\n",
              " '@14': 'A3@0-4',\n",
              " '@15': 'A3@25-29',\n",
              " '@16': 'A3@50-54',\n",
              " '@17': 'A3@10-14',\n",
              " '@18': 'A3@40-44',\n",
              " '@19': 'A3@35-39',\n",
              " '@2': 'A1@30-39',\n",
              " '@20': 'A3@5-9',\n",
              " '@21': 'A3@45-49',\n",
              " '@22': 'A4@0-2',\n",
              " '@23': 'A4@6-8',\n",
              " '@24': 'A4@9-11',\n",
              " '@25': 'A4@3-5',\n",
              " '@26': 'A4@15-17',\n",
              " '@27': 'A4@12-14',\n",
              " '@28': 'A4@24-26',\n",
              " '@29': 'A5@no',\n",
              " '@3': 'A1@40-49',\n",
              " '@30': 'A5@yes',\n",
              " '@31': 'A5@?',\n",
              " '@32': 'A6@3',\n",
              " '@33': 'A6@2',\n",
              " '@34': 'A6@1',\n",
              " '@35': 'A7@left',\n",
              " '@36': 'A7@right',\n",
              " '@37': 'A8@left_low',\n",
              " '@38': 'A8@right_up',\n",
              " '@39': 'A8@left_up',\n",
              " '@4': 'A1@60-69',\n",
              " '@40': 'A8@right_low',\n",
              " '@41': 'A8@central',\n",
              " '@42': 'A8@?',\n",
              " '@43': 'A9@no',\n",
              " '@44': 'A9@yes',\n",
              " '@5': 'A1@50-59',\n",
              " '@6': 'A1@70-79',\n",
              " '@7': 'A1@20-29',\n",
              " '@8': 'A2@premeno',\n",
              " '@9': 'A2@ge40'}"
            ]
          },
          "metadata": {
            "tags": []
          },
          "execution_count": 102
        }
      ]
    },
    {
      "cell_type": "code",
      "metadata": {
        "id": "3oKccPeAxOAB"
      },
      "source": [
        "for col in superset_df:\n",
        "    superset_df[col] = superset_df[col].replace(di)"
      ],
      "execution_count": 103,
      "outputs": []
    },
    {
      "cell_type": "code",
      "metadata": {
        "colab": {
          "base_uri": "https://localhost:8080/",
          "height": 402
        },
        "id": "hOS5TX6QxOAD",
        "outputId": "058ad95a-8707-477f-efaa-84024c411bbc"
      },
      "source": [
        "superset_df"
      ],
      "execution_count": 104,
      "outputs": [
        {
          "output_type": "execute_result",
          "data": {
            "text/html": [
              "<div>\n",
              "<style scoped>\n",
              "    .dataframe tbody tr th:only-of-type {\n",
              "        vertical-align: middle;\n",
              "    }\n",
              "\n",
              "    .dataframe tbody tr th {\n",
              "        vertical-align: top;\n",
              "    }\n",
              "\n",
              "    .dataframe thead th {\n",
              "        text-align: right;\n",
              "    }\n",
              "</style>\n",
              "<table border=\"1\" class=\"dataframe\">\n",
              "  <thead>\n",
              "    <tr style=\"text-align: right;\">\n",
              "      <th></th>\n",
              "      <th>a</th>\n",
              "      <th>b</th>\n",
              "      <th>c</th>\n",
              "      <th>d</th>\n",
              "      <th>e</th>\n",
              "      <th>f</th>\n",
              "    </tr>\n",
              "  </thead>\n",
              "  <tbody>\n",
              "    <tr>\n",
              "      <th>0</th>\n",
              "      <td>class@no-recurrence-events</td>\n",
              "      <td>A8@left_up</td>\n",
              "      <td>A2@ge40</td>\n",
              "      <td>@None</td>\n",
              "      <td>@None</td>\n",
              "      <td>@None</td>\n",
              "    </tr>\n",
              "    <tr>\n",
              "      <th>1</th>\n",
              "      <td>class@no-recurrence-events</td>\n",
              "      <td>A6@2</td>\n",
              "      <td>A7@right</td>\n",
              "      <td>@None</td>\n",
              "      <td>@None</td>\n",
              "      <td>@None</td>\n",
              "    </tr>\n",
              "    <tr>\n",
              "      <th>2</th>\n",
              "      <td>class@no-recurrence-events</td>\n",
              "      <td>A2@ge40</td>\n",
              "      <td>A7@right</td>\n",
              "      <td>A9@no</td>\n",
              "      <td>A5@no</td>\n",
              "      <td>@None</td>\n",
              "    </tr>\n",
              "    <tr>\n",
              "      <th>3</th>\n",
              "      <td>class@no-recurrence-events</td>\n",
              "      <td>A2@ge40</td>\n",
              "      <td>A7@right</td>\n",
              "      <td>A9@no</td>\n",
              "      <td>@None</td>\n",
              "      <td>@None</td>\n",
              "    </tr>\n",
              "    <tr>\n",
              "      <th>4</th>\n",
              "      <td>class@no-recurrence-events</td>\n",
              "      <td>A6@2</td>\n",
              "      <td>A7@left</td>\n",
              "      <td>@None</td>\n",
              "      <td>@None</td>\n",
              "      <td>@None</td>\n",
              "    </tr>\n",
              "    <tr>\n",
              "      <th>...</th>\n",
              "      <td>...</td>\n",
              "      <td>...</td>\n",
              "      <td>...</td>\n",
              "      <td>...</td>\n",
              "      <td>...</td>\n",
              "      <td>...</td>\n",
              "    </tr>\n",
              "    <tr>\n",
              "      <th>254</th>\n",
              "      <td>class@no-recurrence-events</td>\n",
              "      <td>A6@1</td>\n",
              "      <td>A7@left</td>\n",
              "      <td>A4@0-2</td>\n",
              "      <td>@None</td>\n",
              "      <td>@None</td>\n",
              "    </tr>\n",
              "    <tr>\n",
              "      <th>255</th>\n",
              "      <td>class@recurrence-events</td>\n",
              "      <td>A2@premeno</td>\n",
              "      <td>A4@0-2</td>\n",
              "      <td>@None</td>\n",
              "      <td>@None</td>\n",
              "      <td>@None</td>\n",
              "    </tr>\n",
              "    <tr>\n",
              "      <th>256</th>\n",
              "      <td>class@no-recurrence-events</td>\n",
              "      <td>A6@2</td>\n",
              "      <td>A7@right</td>\n",
              "      <td>A2@premeno</td>\n",
              "      <td>@None</td>\n",
              "      <td>@None</td>\n",
              "    </tr>\n",
              "    <tr>\n",
              "      <th>257</th>\n",
              "      <td>class@no-recurrence-events</td>\n",
              "      <td>A1@40-49</td>\n",
              "      <td>A2@premeno</td>\n",
              "      <td>A9@no</td>\n",
              "      <td>A5@no</td>\n",
              "      <td>@None</td>\n",
              "    </tr>\n",
              "    <tr>\n",
              "      <th>258</th>\n",
              "      <td>class@no-recurrence-events</td>\n",
              "      <td>A6@2</td>\n",
              "      <td>A7@right</td>\n",
              "      <td>A9@no</td>\n",
              "      <td>@None</td>\n",
              "      <td>@None</td>\n",
              "    </tr>\n",
              "  </tbody>\n",
              "</table>\n",
              "<p>259 rows × 6 columns</p>\n",
              "</div>"
            ],
            "text/plain": [
              "                              a           b  ...      e      f\n",
              "0    class@no-recurrence-events  A8@left_up  ...  @None  @None\n",
              "1    class@no-recurrence-events        A6@2  ...  @None  @None\n",
              "2    class@no-recurrence-events     A2@ge40  ...  A5@no  @None\n",
              "3    class@no-recurrence-events     A2@ge40  ...  @None  @None\n",
              "4    class@no-recurrence-events        A6@2  ...  @None  @None\n",
              "..                          ...         ...  ...    ...    ...\n",
              "254  class@no-recurrence-events        A6@1  ...  @None  @None\n",
              "255     class@recurrence-events  A2@premeno  ...  @None  @None\n",
              "256  class@no-recurrence-events        A6@2  ...  @None  @None\n",
              "257  class@no-recurrence-events    A1@40-49  ...  A5@no  @None\n",
              "258  class@no-recurrence-events        A6@2  ...  @None  @None\n",
              "\n",
              "[259 rows x 6 columns]"
            ]
          },
          "metadata": {
            "tags": []
          },
          "execution_count": 104
        }
      ]
    },
    {
      "cell_type": "code",
      "metadata": {
        "id": "VlP8mo3exSwB"
      },
      "source": [
        "superset_df['rules'] = superset_df['b']+','+superset_df['c']+','+superset_df['d']+','+superset_df['e']+','+superset_df['f']\n",
        "#+\">class@\"+temp_df['a']"
      ],
      "execution_count": 105,
      "outputs": []
    },
    {
      "cell_type": "code",
      "metadata": {
        "id": "oj_XQDxmxYlr"
      },
      "source": [
        "superset_df['pos'] = superset_df['rules'].str.find('@None')\n",
        "superset_df['rules'] = superset_df.apply(lambda x: x['rules'][0:x['pos']],axis=1)\n",
        "superset_df['rules'] = superset_df['rules']+\">\"+superset_df['a']\n",
        "superset_df['rules'] = superset_df['rules'].str.replace(',@,','')\n",
        "superset_df['rules'] = superset_df['rules'].str.replace(',>','>')"
      ],
      "execution_count": 106,
      "outputs": []
    },
    {
      "cell_type": "code",
      "metadata": {
        "colab": {
          "base_uri": "https://localhost:8080/"
        },
        "id": "HOTZBqaPxYlr",
        "outputId": "b08dc06c-c019-4179-d6de-17316d37fa25"
      },
      "source": [
        "superset_df['rules']"
      ],
      "execution_count": 107,
      "outputs": [
        {
          "output_type": "execute_result",
          "data": {
            "text/plain": [
              "0          A8@left_up,A2@ge40>class@no-recurrence-events\n",
              "1               A6@2,A7@right>class@no-recurrence-events\n",
              "2      A2@ge40,A7@right,A9@no,A5@no>class@no-recurren...\n",
              "3      A2@ge40,A7@right,A9@no>class@no-recurrence-events\n",
              "4                A6@2,A7@left>class@no-recurrence-events\n",
              "                             ...                        \n",
              "254       A6@1,A7@left,A4@0-2>class@no-recurrence-events\n",
              "255            A2@premeno,A4@0-2>class@recurrence-events\n",
              "256    A6@2,A7@right,A2@premeno>class@no-recurrence-e...\n",
              "257    A1@40-49,A2@premeno,A9@no,A5@no>class@no-recur...\n",
              "258       A6@2,A7@right,A9@no>class@no-recurrence-events\n",
              "Name: rules, Length: 259, dtype: object"
            ]
          },
          "metadata": {
            "tags": []
          },
          "execution_count": 107
        }
      ]
    },
    {
      "cell_type": "code",
      "metadata": {
        "id": "__F8gjwtxYls"
      },
      "source": [
        "superset_df['rules'].to_csv(d+\"cancer_rpp_rules_common.csv\", header=None, index=False)\n",
        "#for classifer file\n",
        "superset_df['rules'].to_csv(d+\"cancer_rpp_rules_common_classifier.csv\", header=None, index=False)"
      ],
      "execution_count": 113,
      "outputs": []
    },
    {
      "cell_type": "markdown",
      "metadata": {
        "id": "ZTWdesm7l_VH"
      },
      "source": [
        "Converting unexpected rules to original attributes"
      ]
    },
    {
      "cell_type": "code",
      "metadata": {
        "id": "JX-6-576mqwH"
      },
      "source": [
        "mapping = {\n",
        "    \n",
        "    'A0':'class'\n",
        "    ,'A1':'AGE'\n",
        "    ,'A2':'menopause'\n",
        "    ,'A3':'tumor-size'\n",
        "    ,'A4':'inv-nodes'\n",
        "    ,'A5':'node-caps'\n",
        "    ,'A6':'deg-malig'\n",
        "    ,'A7':'breast'\n",
        "    ,'A8':'breast-quad'\n",
        "    ,'A9':'irradiat'\n",
        "           \n",
        "           }"
      ],
      "execution_count": 114,
      "outputs": []
    },
    {
      "cell_type": "code",
      "metadata": {
        "colab": {
          "base_uri": "https://localhost:8080/"
        },
        "id": "0hPkLFFKpNeD",
        "outputId": "dbc9a099-16a3-4536-f3de-9087834ab68f"
      },
      "source": [
        "import fileinput\n",
        "\n",
        "text = d+\"cancer_rpp_rules_common.csv\"\n",
        "fields = mapping\n",
        "\n",
        "lst = []\n",
        "for line in fileinput.input(text):\n",
        "    for field in fields:\n",
        "        if field in line:\n",
        "            line = line.replace(field, fields[field])\n",
        "    lst.append(line)\n",
        "\n",
        "print(lst)"
      ],
      "execution_count": 115,
      "outputs": [
        {
          "output_type": "stream",
          "text": [
            "['\"breast-quad@left_up,menopause@ge40>class@no-recurrence-events\"\\n', '\"deg-malig@2,breast@right>class@no-recurrence-events\"\\n', '\"menopause@ge40,breast@right,irradiat@no,node-caps@no>class@no-recurrence-events\"\\n', '\"menopause@ge40,breast@right,irradiat@no>class@no-recurrence-events\"\\n', '\"deg-malig@2,breast@left>class@no-recurrence-events\"\\n', 'breast@left>class@no-recurrence-events\\n', 'menopause@premeno>class@recurrence-events\\n', '\"breast@right,node-caps@no>class@no-recurrence-events\"\\n', '\"AGE@60-69,menopause@ge40,irradiat@no>class@no-recurrence-events\"\\n', '\"deg-malig@3,inv-nodes@0-2>class@no-recurrence-events\"\\n', '\"breast@right,menopause@premeno,irradiat@no,node-caps@no>class@no-recurrence-events\"\\n', '\"AGE@40-49,breast@right,menopause@premeno,node-caps@no>class@no-recurrence-events\"\\n', '\"AGE@40-49,node-caps@no>class@no-recurrence-events\"\\n', '\"AGE@40-49,irradiat@no,node-caps@no>class@no-recurrence-events\"\\n', '\"deg-malig@1,menopause@ge40,inv-nodes@0-2,node-caps@no>class@no-recurrence-events\"\\n', 'breast-quad@left_up>class@no-recurrence-events\\n', 'breast-quad@left_low>class@no-recurrence-events\\n', '\"breast@right,menopause@premeno,irradiat@no>class@no-recurrence-events\"\\n', '\"AGE@50-59,breast@left,node-caps@no>class@no-recurrence-events\"\\n', '\"breast-quad@left_low,menopause@ge40,node-caps@no>class@no-recurrence-events\"\\n', '\"menopause@ge40,breast@right,node-caps@no>class@no-recurrence-events\"\\n', '\"menopause@ge40,breast@left,inv-nodes@0-2>class@no-recurrence-events\"\\n', '\"tumor-size@30-34,irradiat@no>class@no-recurrence-events\"\\n', '\"AGE@60-69,irradiat@no,node-caps@no>class@no-recurrence-events\"\\n', '\"menopause@ge40,deg-malig@2,inv-nodes@0-2>class@no-recurrence-events\"\\n', '\"breast-quad@left_up,breast@right,inv-nodes@0-2,node-caps@no>class@no-recurrence-events\"\\n', '\"menopause@ge40,breast@left,inv-nodes@0-2,irradiat@no,node-caps@n>class@no-recurrence-events\"\\n', '\"AGE@50-59,breast@left,irradiat@no,node-caps@no>class@no-recurrence-events\"\\n', '\"menopause@premeno,inv-nodes@0-2>class@no-recurrence-events\"\\n', '\"menopause@ge40,inv-nodes@0-2,node-caps@no>class@no-recurrence-events\"\\n', '\"inv-nodes@0-2,irradiat@no>class@recurrence-events\"\\n', '\"breast-quad@left_low,deg-malig@2,inv-nodes@0-2,node-caps@no>class@no-recurrence-events\"\\n', '\"AGE@40-49,deg-malig@2,inv-nodes@0-2>class@no-recurrence-events\"\\n', '\"menopause@ge40,breast@left,inv-nodes@0-2,irradiat@no>class@no-recurrence-events\"\\n', '\"AGE@40-49,menopause@premeno,inv-nodes@0-2,irradiat@no>class@no-recurrence-events\"\\n', '\"AGE@50-59,menopause@ge40,irradiat@no>class@no-recurrence-events\"\\n', '\"breast@right,irradiat@no>class@no-recurrence-events\"\\n', '\"AGE@40-49,inv-nodes@0-2>class@no-recurrence-events\"\\n', '\"menopause@ge40,inv-nodes@0-2,irradiat@no,node-caps@no>class@no-recurrence-events\"\\n', '\"breast-quad@left_up,menopause@ge40,inv-nodes@0-2>class@no-recurrence-events\"\\n', '\"menopause@ge40,deg-malig@2,irradiat@no>class@no-recurrence-events\"\\n', '\"deg-malig@1,breast@left,irradiat@no>class@no-recurrence-events\"\\n', '\"AGE@50-59,node-caps@no>class@no-recurrence-events\"\\n', '\"breast-quad@left_low,menopause@ge40,irradiat@no,node-caps@no>class@no-recurrence-events\"\\n', '\"deg-malig@1,inv-nodes@0-2,node-caps@no>class@no-recurrence-events\"\\n', '\"deg-malig@2,irradiat@no>class@no-recurrence-events\"\\n', '\"breast-quad@left_low,menopause@premeno,node-caps@no>class@no-recurrence-events\"\\n', 'inv-nodes@0-2>class@recurrence-events\\n', '\"deg-malig@1,node-caps@no>class@no-recurrence-events\"\\n', '\"AGE@50-59,irradiat@no>class@no-recurrence-events\"\\n', 'tumor-size@20-24>class@no-recurrence-events\\n', '\"AGE@60-69,menopause@ge40>class@no-recurrence-events\"\\n', '\"AGE@40-49,deg-malig@2,node-caps@no>class@no-recurrence-events\"\\n', '\"AGE@50-59,menopause@ge40,node-caps@no>class@no-recurrence-events\"\\n', '\"AGE@50-59,breast@left,inv-nodes@0-2>class@no-recurrence-events\"\\n', '\"AGE@50-59,breast@left,inv-nodes@0-2,irradiat@no,node-caps@n>class@no-recurrence-events\"\\n', '\"AGE@60-69,menopause@ge40,node-caps@no>class@no-recurrence-events\"\\n', '\"AGE@40-49,inv-nodes@0-2,irradiat@no>class@no-recurrence-events\"\\n', '\"deg-malig@1,inv-nodes@0-2,irradiat@no>class@no-recurrence-events\"\\n', '\"breast@right,menopause@premeno,node-caps@no>class@no-recurrence-events\"\\n', '\"breast-quad@left_up,breast@right>class@no-recurrence-events\"\\n', '\"breast-quad@left_up,breast@right,node-caps@no>class@no-recurrence-events\"\\n', '\"breast-quad@left_up,menopause@ge40,inv-nodes@0-2,node-caps@no>class@no-recurrence-events\"\\n', '\"AGE@60-69,inv-nodes@0-2>class@no-recurrence-events\"\\n', '\"breast-quad@left_low,inv-nodes@0-2,irradiat@no>class@no-recurrence-events\"\\n', '\"menopause@ge40,deg-malig@2,node-caps@no>class@no-recurrence-events\"\\n', '\"breast-quad@left_up,menopause@premeno>class@no-recurrence-events\"\\n', '\"breast-quad@left_low,deg-malig@2,irradiat@no>class@no-recurrence-events\"\\n', '\"breast@right,inv-nodes@0-2,node-caps@no>class@no-recurrence-events\"\\n', 'AGE@40-49>class@no-recurrence-events\\n', '\"AGE@50-59,breast@left,inv-nodes@0-2,irradiat@no>class@no-recurrence-events\"\\n', '\"AGE@50-59,irradiat@no,node-caps@no>class@no-recurrence-events\"\\n', '\"menopause@ge40,breast@left,irradiat@no,node-caps@no>class@no-recurrence-events\"\\n', '\"menopause@ge40,breast@left>class@no-recurrence-events\"\\n', '\"irradiat@no,node-caps@no>class@recurrence-events\"\\n', '\"AGE@40-49,irradiat@no>class@no-recurrence-events\"\\n', '\"menopause@ge40,irradiat@no,node-caps@no>class@no-recurrence-events\"\\n', '\"breast-quad@left_up,node-caps@no>class@no-recurrence-events\"\\n', '\"AGE@40-49,inv-nodes@0-2,node-caps@no>class@no-recurrence-events\"\\n', '\"deg-malig@2,breast@left,inv-nodes@0-2,irradiat@no,node-caps@n>class@no-recurrence-events\"\\n', '\"breast-quad@left_up,menopause@ge40,irradiat@no>class@no-recurrence-events\"\\n', '\"menopause@ge40,deg-malig@2>class@no-recurrence-events\"\\n', '\"breast-quad@left_up,inv-nodes@0-2>class@no-recurrence-events\"\\n', 'breast@right>class@recurrence-events\\n', '\"breast-quad@left_low,menopause@premeno>class@no-recurrence-events\"\\n', '\"deg-malig@2,breast@left,irradiat@no>class@no-recurrence-events\"\\n', '\"menopause@ge40,deg-malig@2,inv-nodes@0-2,node-caps@no>class@no-recurrence-events\"\\n', '\"breast-quad@left_low,breast@left,inv-nodes@0-2,node-caps@no>class@no-recurrence-events\"\\n', '\"AGE@50-59,menopause@ge40,inv-nodes@0-2,irradiat@no>class@no-recurrence-events\"\\n', '\"AGE@40-49,breast@right,menopause@premeno>class@no-recurrence-events\"\\n', '\"AGE@50-59,menopause@ge40,inv-nodes@0-2>class@no-recurrence-events\"\\n', '\"deg-malig@2,inv-nodes@0-2,node-caps@no>class@no-recurrence-events\"\\n', '\"breast-quad@left_low,irradiat@no,node-caps@no>class@no-recurrence-events\"\\n', '\"deg-malig@1,breast@left,inv-nodes@0-2,node-caps@no>class@no-recurrence-events\"\\n', '\"menopause@ge40,breast@right,inv-nodes@0-2>class@no-recurrence-events\"\\n', '\"AGE@50-59,menopause@ge40,inv-nodes@0-2,irradiat@no,node-caps@n>class@no-recurrence-events\"\\n', '\"AGE@40-49,menopause@premeno,inv-nodes@0-2,node-caps@no>class@no-recurrence-events\"\\n', '\"deg-malig@1,irradiat@no,node-caps@no>class@no-recurrence-events\"\\n', '\"menopause@premeno,irradiat@no>class@recurrence-events\"\\n', '\"deg-malig@2,menopause@premeno>class@no-recurrence-events\"\\n', '\"AGE@50-59,breast@left,inv-nodes@0-2,node-caps@no>class@no-recurrence-events\"\\n', '\"AGE@50-59,breast-quad@left_low>class@no-recurrence-events\"\\n', 'breast@right>class@no-recurrence-events\\n', '\"AGE@60-69,node-caps@no>class@no-recurrence-events\"\\n', '\"AGE@50-59,menopause@ge40,inv-nodes@0-2,node-caps@no>class@no-recurrence-events\"\\n', '\"breast@right,menopause@premeno,inv-nodes@0-2,node-caps@no>class@no-recurrence-events\"\\n', '\"deg-malig@1,breast@left,inv-nodes@0-2,irradiat@no,node-caps@n>class@no-recurrence-events\"\\n', '\"deg-malig@2,irradiat@no,node-caps@no>class@no-recurrence-events\"\\n', '\"AGE@40-49,deg-malig@2,menopause@premeno>class@no-recurrence-events\"\\n', '\"menopause@ge40,breast@right>class@no-recurrence-events\"\\n', '\"breast@right,irradiat@no,node-caps@no>class@no-recurrence-events\"\\n', 'deg-malig@3>class@no-recurrence-events\\n', 'breast@left>class@recurrence-events\\n', '\"breast-quad@left_low,breast@left,node-caps@no>class@no-recurrence-events\"\\n', '\"AGE@40-49,inv-nodes@0-2,irradiat@no,node-caps@no>class@no-recurrence-events\"\\n', '\"AGE@60-69,menopause@ge40,inv-nodes@0-2,node-caps@no>class@no-recurrence-events\"\\n', '\"AGE@40-49,menopause@premeno,node-caps@no>class@no-recurrence-events\"\\n', '\"breast-quad@left_low,inv-nodes@0-2,irradiat@no,node-caps@no>class@no-recurrence-events\"\\n', '\"deg-malig@1,menopause@ge40,inv-nodes@0-2,irradiat@no>class@no-recurrence-events\"\\n', '\"deg-malig@1,breast@left,irradiat@no,node-caps@no>class@no-recurrence-events\"\\n', '\"deg-malig@2,inv-nodes@0-2,irradiat@no,node-caps@no>class@no-recurrence-events\"\\n', '\"AGE@40-49,menopause@premeno,inv-nodes@0-2>class@no-recurrence-events\"\\n', '\"menopause@ge40,breast@right,inv-nodes@0-2,irradiat@no>class@no-recurrence-events\"\\n', '\"breast-quad@left_up,irradiat@no>class@no-recurrence-events\"\\n', '\"tumor-size@20-24,irradiat@no>class@no-recurrence-events\"\\n', '\"AGE@40-49,deg-malig@2>class@no-recurrence-events\"\\n', '\"menopause@premeno,breast@left,inv-nodes@0-2>class@no-recurrence-events\"\\n', '\"breast-quad@left_low,breast@left>class@no-recurrence-events\"\\n', '\"breast-quad@left_up,menopause@ge40,node-caps@no>class@no-recurrence-events\"\\n', '\"menopause@ge40,irradiat@no>class@no-recurrence-events\"\\n', '\"deg-malig@2,breast@left,inv-nodes@0-2,irradiat@no>class@no-recurrence-events\"\\n', '\"deg-malig@2,menopause@premeno,inv-nodes@0-2>class@no-recurrence-events\"\\n', 'irradiat@yes>class@recurrence-events\\n', '\"menopause@ge40,breast@left,node-caps@no>class@no-recurrence-events\"\\n', '\"AGE@50-59,inv-nodes@0-2,irradiat@no,node-caps@no>class@no-recurrence-events\"\\n', 'menopause@ge40>class@recurrence-events\\n', '\"menopause@ge40,node-caps@no>class@no-recurrence-events\"\\n', '\"breast@right,inv-nodes@0-2,irradiat@no>class@no-recurrence-events\"\\n', '\"breast-quad@left_low,deg-malig@2,node-caps@no>class@no-recurrence-events\"\\n', '\"breast-quad@left_low,deg-malig@2>class@no-recurrence-events\"\\n', '\"deg-malig@2,breast@right,inv-nodes@0-2,irradiat@no,node-caps@n>class@no-recurrence-events\"\\n', '\"deg-malig@2,breast@right,inv-nodes@0-2>class@no-recurrence-events\"\\n', '\"breast-quad@left_low,inv-nodes@0-2>class@no-recurrence-events\"\\n', '\"breast-quad@left_low,menopause@premeno,inv-nodes@0-2>class@no-recurrence-events\"\\n', '\"deg-malig@1,inv-nodes@0-2,irradiat@no,node-caps@no>class@no-recurrence-events\"\\n', 'menopause@premeno>class@no-recurrence-events\\n', '\"breast-quad@left_low,menopause@ge40,irradiat@no>class@no-recurrence-events\"\\n', '\"deg-malig@1,irradiat@no>class@no-recurrence-events\"\\n', '\"deg-malig@1,breast@left,node-caps@no>class@no-recurrence-events\"\\n', '\"breast-quad@left_up,inv-nodes@0-2,irradiat@no>class@no-recurrence-events\"\\n', '>class@recurrence-events\\n', '\"AGE@50-59,inv-nodes@0-2>class@no-recurrence-events\"\\n', '\"breast-quad@left_low,breast@left,irradiat@no>class@no-recurrence-events\"\\n', '\"breast-quad@left_up,breast@right,irradiat@no>class@no-recurrence-events\"\\n', 'breast-quad@left_low>class@recurrence-events\\n', '\"deg-malig@1,inv-nodes@0-2>class@no-recurrence-events\"\\n', '\"tumor-size@20-24,node-caps@no>class@no-recurrence-events\"\\n', 'deg-malig@1>class@no-recurrence-events\\n', '\"deg-malig@2,menopause@premeno,irradiat@no,node-caps@no>class@no-recurrence-events\"\\n', '\"breast@right,inv-nodes@0-2>class@no-recurrence-events\"\\n', '\"deg-malig@2,inv-nodes@0-2>class@no-recurrence-events\"\\n', '\"deg-malig@1,menopause@ge40,irradiat@no,node-caps@no>class@no-recurrence-events\"\\n', 'node-caps@no>class@recurrence-events\\n', '\"AGE@50-59,breast@right,irradiat@no>class@no-recurrence-events\"\\n', '\"AGE@60-69,inv-nodes@0-2,irradiat@no>class@no-recurrence-events\"\\n', '\"menopause@ge40,breast@right,inv-nodes@0-2,irradiat@no,node-caps@n>class@no-recurrence-events\"\\n', '\"deg-malig@1,menopause@ge40>class@no-recurrence-events\"\\n', '\"deg-malig@1,menopause@ge40,inv-nodes@0-2,irradiat@no,node-caps@n>class@no-recurrence-events\"\\n', '\"breast-quad@left_up,inv-nodes@0-2,node-caps@no>class@no-recurrence-events\"\\n', '\"deg-malig@1,menopause@ge40,irradiat@no>class@no-recurrence-events\"\\n', '\"deg-malig@2,breast@right,node-caps@no>class@no-recurrence-events\"\\n', '\"deg-malig@2,breast@right,inv-nodes@0-2,node-caps@no>class@no-recurrence-events\"\\n', '\"breast-quad@left_low,menopause@ge40>class@no-recurrence-events\"\\n', '\"menopause@premeno,inv-nodes@0-2,irradiat@no>class@no-recurrence-events\"\\n', 'tumor-size@30-34>class@no-recurrence-events\\n', '\"deg-malig@1,breast@left>class@no-recurrence-events\"\\n', '\"menopause@ge40,breast@left,inv-nodes@0-2,node-caps@no>class@no-recurrence-events\"\\n', '\"deg-malig@1,breast@left,inv-nodes@0-2,irradiat@no>class@no-recurrence-events\"\\n', '\"inv-nodes@0-2,irradiat@no,node-caps@no>class@recurrence-events\"\\n', '\"breast-quad@left_up,breast@right,inv-nodes@0-2>class@no-recurrence-events\"\\n', '\"breast-quad@left_low,menopause@ge40,inv-nodes@0-2,node-caps@no>class@no-recurrence-events\"\\n', '\"AGE@40-49,menopause@premeno,inv-nodes@0-2,irradiat@no,node-caps@n>class@no-recurrence-events\"\\n', '\"AGE@50-59,inv-nodes@0-2,irradiat@no>class@no-recurrence-events\"\\n', '\"menopause@ge40,breast@left,irradiat@no>class@no-recurrence-events\"\\n', '\"deg-malig@1,menopause@ge40,node-caps@no>class@no-recurrence-events\"\\n', 'irradiat@yes>class@no-recurrence-events\\n', '\"AGE@40-49,deg-malig@2,menopause@premeno,node-caps@no>class@no-recurrence-events\"\\n', '\"AGE@50-59,breast@left,irradiat@no>class@no-recurrence-events\"\\n', '\"AGE@40-49,menopause@premeno,irradiat@no>class@no-recurrence-events\"\\n', '\"menopause@ge40,breast@right,inv-nodes@0-2,node-caps@no>class@no-recurrence-events\"\\n', '\"deg-malig@2,inv-nodes@0-2,irradiat@no>class@no-recurrence-events\"\\n', '\"breast@right,menopause@premeno,inv-nodes@0-2,irradiat@no,node-caps@n>class@no-recurrence-events\"\\n', 'deg-malig@3>class@recurrence-events\\n', '\"deg-malig@2,node-caps@no>class@no-recurrence-events\"\\n', '\"deg-malig@2,menopause@premeno,inv-nodes@0-2,irradiat@no>class@no-recurrence-events\"\\n', '\"deg-malig@2,menopause@premeno,inv-nodes@0-2,node-caps@no>class@no-recurrence-events\"\\n', '\"breast-quad@left_low,deg-malig@2,inv-nodes@0-2>class@no-recurrence-events\"\\n', '\"deg-malig@1,menopause@ge40,inv-nodes@0-2>class@no-recurrence-events\"\\n', '\"AGE@40-49,breast@right,node-caps@no>class@no-recurrence-events\"\\n', '\"AGE@50-59,menopause@ge40>class@no-recurrence-events\"\\n', '\"menopause@ge40,inv-nodes@0-2>class@no-recurrence-events\"\\n', '\"deg-malig@2,breast@left,inv-nodes@0-2,node-caps@no>class@no-recurrence-events\"\\n', '\"breast-quad@left_low,irradiat@no>class@no-recurrence-events\"\\n', '\"breast@right,menopause@premeno,inv-nodes@0-2,irradiat@no>class@no-recurrence-events\"\\n', '\"deg-malig@2,breast@left,node-caps@no>class@no-recurrence-events\"\\n', '\"AGE@50-59,inv-nodes@0-2,node-caps@no>class@no-recurrence-events\"\\n', '\"deg-malig@2,menopause@premeno,irradiat@no>class@no-recurrence-events\"\\n', 'irradiat@no>class@recurrence-events\\n', '\"inv-nodes@0-2,node-caps@no>class@recurrence-events\"\\n', '\"breast-quad@left_low,breast@left,irradiat@no,node-caps@no>class@no-recurrence-events\"\\n', '\"AGE@60-69,inv-nodes@0-2,irradiat@no,node-caps@no>class@no-recurrence-events\"\\n', '\"breast-quad@left_low,inv-nodes@0-2,node-caps@no>class@no-recurrence-events\"\\n', '\"deg-malig@2,breast@left,inv-nodes@0-2>class@no-recurrence-events\"\\n', '\"breast@right,menopause@premeno>class@no-recurrence-events\"\\n', '\"menopause@premeno,breast@left>class@no-recurrence-events\"\\n', '\"breast-quad@left_up,inv-nodes@0-2,irradiat@no,node-caps@no>class@no-recurrence-events\"\\n', '\"deg-malig@2,menopause@premeno,inv-nodes@0-2,irradiat@no,node-caps@n>class@no-recurrence-events\"\\n', 'menopause@ge40>class@no-recurrence-events\\n', '\"deg-malig@2,breast@right,irradiat@no,node-caps@no>class@no-recurrence-events\"\\n', '\"breast-quad@left_low,menopause@premeno,inv-nodes@0-2,node-caps@no>class@no-recurrence-events\"\\n', '\"deg-malig@3,irradiat@no>class@no-recurrence-events\"\\n', '\"deg-malig@2,breast@left,irradiat@no,node-caps@no>class@no-recurrence-events\"\\n', '\"breast-quad@left_up,deg-malig@2>class@no-recurrence-events\"\\n', '\"AGE@50-59,breast@right>class@no-recurrence-events\"\\n', 'node-caps@yes>class@recurrence-events\\n', '\"AGE@50-59,breast@left>class@no-recurrence-events\"\\n', '\"deg-malig@3,node-caps@no>class@no-recurrence-events\"\\n', '\"AGE@50-59,deg-malig@2>class@no-recurrence-events\"\\n', '\"breast@right,menopause@premeno,inv-nodes@0-2>class@no-recurrence-events\"\\n', '\"menopause@premeno,breast@left,inv-nodes@0-2,irradiat@no>class@no-recurrence-events\"\\n', '\"AGE@60-69,menopause@ge40,inv-nodes@0-2>class@no-recurrence-events\"\\n', '\"breast-quad@left_low,menopause@ge40,inv-nodes@0-2>class@no-recurrence-events\"\\n', '\"AGE@40-49,breast@right>class@no-recurrence-events\"\\n', '\"breast-quad@left_low,breast@left,inv-nodes@0-2,irradiat@no,node-caps@n>class@no-recurrence-events\"\\n', 'deg-malig@2>class@no-recurrence-events\\n', '\"breast-quad@left_up,irradiat@no,node-caps@no>class@no-recurrence-events\"\\n', '\"menopause@premeno,breast@left,irradiat@no>class@no-recurrence-events\"\\n', '\"menopause@premeno,node-caps@no>class@recurrence-events\"\\n', 'tumor-size@25-29>class@no-recurrence-events\\n', '\"AGE@60-69,inv-nodes@0-2,node-caps@no>class@no-recurrence-events\"\\n', '\"tumor-size@25-29,inv-nodes@0-2>class@no-recurrence-events\"\\n', '\"menopause@premeno,irradiat@no>class@no-recurrence-events\"\\n', '\"breast-quad@left_low,breast@left,inv-nodes@0-2,irradiat@no>class@no-recurrence-events\"\\n', 'AGE@50-59>class@no-recurrence-events\\n', '\"deg-malig@2,breast@right,inv-nodes@0-2,irradiat@no>class@no-recurrence-events\"\\n', '\"breast-quad@left_low,node-caps@no>class@no-recurrence-events\"\\n', '\"AGE@50-59,menopause@ge40,irradiat@no,node-caps@no>class@no-recurrence-events\"\\n', '\"AGE@60-69,irradiat@no>class@no-recurrence-events\"\\n', 'AGE@60-69>class@no-recurrence-events\\n', '\"AGE@40-49,menopause@premeno>class@no-recurrence-events\"\\n', '\"breast@right,inv-nodes@0-2,irradiat@no,node-caps@no>class@no-recurrence-events\"\\n', '\"breast-quad@left_low,breast@left,inv-nodes@0-2>class@no-recurrence-events\"\\n', '\"deg-malig@2,menopause@premeno,node-caps@no>class@no-recurrence-events\"\\n', '\"menopause@ge40,inv-nodes@0-2,irradiat@no>class@no-recurrence-events\"\\n', '\"deg-malig@1,breast@left,inv-nodes@0-2>class@no-recurrence-events\"\\n', '\"menopause@premeno,inv-nodes@0-2>class@recurrence-events\"\\n', '\"deg-malig@2,breast@right,menopause@premeno>class@no-recurrence-events\"\\n', '\"AGE@40-49,menopause@premeno,irradiat@no,node-caps@no>class@no-recurrence-events\"\\n', '\"deg-malig@2,breast@right,irradiat@no>class@no-recurrence-events\"\\n']\n"
          ],
          "name": "stdout"
        }
      ]
    },
    {
      "cell_type": "code",
      "metadata": {
        "id": "bYaVnRIyrTJW"
      },
      "source": [
        "f = open(d+\"cancer_rpp_rules_common.csv\",'w')\n",
        "for line in lst:\n",
        "    f.write(line)\n",
        "f.close()"
      ],
      "execution_count": 116,
      "outputs": []
    },
    {
      "cell_type": "code",
      "metadata": {
        "id": "PVPpAlDk1t5e"
      },
      "source": [
        "df = pd.read_csv(d+\"cancer_rpp_rules_common.csv\")\n",
        "df.to_csv(\"/content/drive/MyDrive/DataSets_for_Paper/cancer_rpp_out_rules.csv\")"
      ],
      "execution_count": 117,
      "outputs": []
    }
  ]
}